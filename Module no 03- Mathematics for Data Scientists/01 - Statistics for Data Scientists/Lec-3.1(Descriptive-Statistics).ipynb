{
 "cells": [
  {
   "cell_type": "markdown",
   "id": "a41c76e0",
   "metadata": {},
   "source": [
    "---   \n",
    "\n",
    "<h1 align=\"center\">Introduction to Data Analyst and Data Science for beginners</h1>\n",
    "<h1 align=\"center\">Lecture 3.1 (Descriptive Statistics)</h1>\n",
    "\n",
    "---\n",
    "<h3><div align=\"right\">Ehtisham Sadiq</div></h3>    "
   ]
  },
  {
   "cell_type": "markdown",
   "id": "31ab509e",
   "metadata": {},
   "source": [
    "- **A data scientist is a professional responsible for collecting, analyzing and interpreting extremely large amount of structured as well as unstructured data in order to gain insights about the dataset and to design machine learning and deep learning models to do predictions, well to perform all these tasks data scientists need to have a strong grip in these three domains computer science , mathematics and statistics and the proper domain knowledge of the problem.**\n",
    "\n",
    "- **The two categories of statistics that we will try to cover in this chapter are descriptive and inferential. Descriptive statistics is used to describe, summarize and present different data sets through numerical calculations, tables and graphs. On the contrary inferential statistics allows us to make inferences and predictions for an entire population based on sample data of that population. In our inferential statistics portion, we will learn a bit of probability, hypothesis testing and regression testing inshaallah.** \n",
    "- **For the mathematics portion, we will practically review some basic linear algebra concepts, there are the prerequisites for machine learning algorithms like a sport vector machine SVM, Multiple variable linear regression MVLR and Principal component analysis PCA similarly calculus is a must in order to understand different machine learning and deep learning algorithms like gradient descent and back propagation.**"
   ]
  },
  {
   "cell_type": "code",
   "execution_count": null,
   "id": "88e2dc3e",
   "metadata": {},
   "outputs": [],
   "source": []
  },
  {
   "cell_type": "code",
   "execution_count": null,
   "id": "5c400722",
   "metadata": {},
   "outputs": [],
   "source": []
  },
  {
   "cell_type": "markdown",
   "id": "cbd84c90",
   "metadata": {},
   "source": [
    "<img align=\"left\" width=\"350\" height=\"300\"  src=\"images/ds1.png\"  >\n",
    "<img align=\"center\" width=\"400\" height=\"250\"  src=\"images/mathsandstat.jpeg\"  >"
   ]
  },
  {
   "cell_type": "markdown",
   "id": "55fe5d9d",
   "metadata": {},
   "source": [
    "<img align=\"center\" width=\"900\" height=\"250\"  src=\"images/mathimg1.png\"  >"
   ]
  },
  {
   "cell_type": "code",
   "execution_count": null,
   "id": "72bb153c",
   "metadata": {},
   "outputs": [],
   "source": [
    "# Unlike the other modules, we have been working so far, you have to download and install...\n",
    "# To install this library in Jupyter notebook\n",
    "import sys\n",
    "!{sys.executable} -m pip install -q --upgrade pip\n",
    "!{sys.executable} -m pip install -q statistics statsmodels scipy"
   ]
  },
  {
   "cell_type": "code",
   "execution_count": null,
   "id": "4e97fd50",
   "metadata": {},
   "outputs": [],
   "source": [
    "import numpy as np\n",
    "import pandas as pd\n",
    "import seaborn as sns\n",
    "import matplotlib.pyplot as plt\n",
    "\n",
    "import statistics\n",
    "import scipy.stats as st\n",
    "import statsmodels as sm"
   ]
  },
  {
   "cell_type": "markdown",
   "id": "7ef15071",
   "metadata": {},
   "source": [
    "## Learning agenda of this notebook\n",
    "1. Data and its Types\n",
    "2. Collection of Data (Population vs Sample)\n",
    "3. Overview of Statistics and its Types\n",
    "4. Descriptive Statistics: Measure of Central Tendency\n",
    "    - Mean\n",
    "    - Median\n",
    "    - Mode\n",
    "5. Descriptive Statistics: Measure of Spread\n",
    "    - Range\n",
    "    - IQR\n",
    "    - Variance\n",
    "    - Standard Deviation\n",
    "6. Descriptive Statistics: Measure of Asymmetry\n",
    "    - Skewness\n",
    "    - Kurtosis\n",
    "7. Analysis Strategy\n",
    "8. Example Datasets\n",
    "9. Univariate Analysis and Data Visualization\n",
    "10. Bivariate Analysis and Data Visualization"
   ]
  },
  {
   "cell_type": "code",
   "execution_count": null,
   "id": "0988df93",
   "metadata": {},
   "outputs": [],
   "source": []
  },
  {
   "cell_type": "markdown",
   "id": "b0f92d52",
   "metadata": {},
   "source": [
    "## 1. Data and its Types\n",
    "- Data are actually measurements or observations that are collected as a source of information and there are different types of data and different ways to represent it\n",
    "- Our data-set is a complete collection of all observations.\n",
    "- Variable or attribute or feature represents column name in statistical term. \n",
    "\n",
    "<img align=\"center\" width=\"800\" height=\"250\"  src=\"images/titanic.png\"  >\n"
   ]
  },
  {
   "cell_type": "code",
   "execution_count": null,
   "id": "2df2cc5f",
   "metadata": {},
   "outputs": [],
   "source": []
  },
  {
   "cell_type": "markdown",
   "id": "6e709902",
   "metadata": {},
   "source": [
    "- In statistical terms, this numeric variable is also called quantitative while the categorical variables are also\n",
    "called qualitative.\n",
    "<img align=\"center\" width=\"400\" height=\"400\"  src=\"images/typesofvariables.gif\"  >"
   ]
  },
  {
   "cell_type": "markdown",
   "id": "4740c9fd",
   "metadata": {},
   "source": [
    "### Continous vs Discrete\n",
    "- Discrete data is a finite value that can be counted whereas Continuous data has an infinite number of possible values that can be measured.\n",
    "<img src=\"images/Discrete-vs-continuous-data-comparison-chart.png\" height=500px width=500px>"
   ]
  },
  {
   "cell_type": "code",
   "execution_count": null,
   "id": "03511fa1",
   "metadata": {},
   "outputs": [],
   "source": []
  },
  {
   "cell_type": "markdown",
   "id": "80eb4266",
   "metadata": {},
   "source": [
    "### Nominal vs Ordinal Data:\n",
    "- Nominal data is classified without a natural order or rank, whereas ordinal data has a predetermined or natural order. \n",
    "\n",
    "<img src=\"images/nominaldatavsordinaldata-comparison-chart.png\" height=500px width=500px>"
   ]
  },
  {
   "cell_type": "code",
   "execution_count": null,
   "id": "9365d8ca",
   "metadata": {
    "scrolled": true
   },
   "outputs": [],
   "source": []
  },
  {
   "cell_type": "code",
   "execution_count": null,
   "id": "3414d830",
   "metadata": {},
   "outputs": [],
   "source": []
  },
  {
   "cell_type": "markdown",
   "id": "6268e89e",
   "metadata": {},
   "source": [
    "## 2. Collection of Data (Population vs Sample)\n",
    "\n",
    "- Data can be sourced directly or indirectly. \n",
    "- Direct methods of data collection involve collecting new data for a specific study. This type of data is known as primary data. Interviews, questionnaires are the most common means of primary data gathering.\n",
    "- Indirect methods of data collection involve sourcing and accessing existing data that were not originally collected for the purpose of the study. This type of data is known as secondary data. Such data includes hospital data, school admissions data, records of births and deaths, marriages and so.\n",
    "- A survey involves collecting information from every unit in the population (a census), or from a subset of units (a sample) from the population. \n",
    "- **`Population:`** It is an entire pool of data from where a statistical sample is extracted. It can be visualized as a complete data set of items that are similar in nature. A population may be studied using either of the two approaches taking a `census` which is costly or selecting a sample. Our census provides a true picture of the entire population however is really difficult to conduct.\n",
    "\n",
    "- **`Sample:`** It is a subset of the population, i.e. it is an integral part of the population that has been collected for analysis. The cost and time of sampling is far less than census however the data may not be the true representation of the entire population.\n",
    "\n",
    "- **`Variable:`** A value whose characteristics such as quantity can be measured, it can also be addressed as a data point, or a data item.  \n",
    "\n",
    "<img align=\"centre\" width=\"800\" height=\"400\"  src=\"images/psv.PNG\"  >\n",
    "\n"
   ]
  },
  {
   "cell_type": "code",
   "execution_count": null,
   "id": "63e84ffe",
   "metadata": {},
   "outputs": [],
   "source": []
  },
  {
   "cell_type": "markdown",
   "id": "e0e88212",
   "metadata": {},
   "source": [
    "- **`Types of Sampling:`**\n",
    "#### Types of sampling: sampling methods \n",
    "- **Probability sampling:** Probability sampling is a sampling technique where a researcher sets a selection of a few criteria and chooses members of a population randomly. All the members have an equal opportunity to be a part of the sample with this selection parameter.\n",
    "- **Non-probability sampling:** In non-probability sampling, the researcher chooses members for research at random. This sampling method is not a fixed or predefined selection process. This makes it difficult for all elements of a population to have equal opportunities to be included in a sample.\n",
    "\n",
    "\n",
    "\n",
    "\n",
    "<img align=\"centre\" width=\"700\" height=\"500\"  src=\"images/Sampling-Methods.jpg\"  >\n",
    "\n",
    "\n",
    "<img align=\"centre\" width=\"700\" height=\"500\"  src=\"images/rand.PNG\"  >\n",
    "\n",
    "\n",
    "<img align=\"centre\" width=\"700\" height=\"500\"  src=\"images/sys.PNG\"  >\n",
    "\n",
    "<img align=\"centre\" width=\"700\" height=\"500\"  src=\"images/strat.PNG\"  >"
   ]
  },
  {
   "cell_type": "code",
   "execution_count": 3,
   "id": "fd366be6",
   "metadata": {},
   "outputs": [],
   "source": [
    "# !ls images/"
   ]
  },
  {
   "cell_type": "code",
   "execution_count": null,
   "id": "52574501",
   "metadata": {},
   "outputs": [],
   "source": []
  },
  {
   "cell_type": "markdown",
   "id": "02cd9e39",
   "metadata": {},
   "source": [
    "## 3. Overview of Statistics and its Types\n",
    "\n",
    "- Statistics is the area of applied mathematics that deals with the data collection and organization, data analysis, data interpretation and data presentation. The term data analytics means the statistical analysis of a given dataset.\n",
    "\n",
    "- **`Data Collection:`** Data collection is the process of gathering, measuring, and analyzing accurate data from a variety of relevant sources to find answers to research problems, answer questions, evaluate outcomes, and forecast trends and probabilities.\n",
    "\n",
    "- **`Data Analysis:`** Statistical analysis is the process of collecting and analyzing data in order to discern patterns and trends. It is a method for removing bias from evaluating data by employing numerical analysis. This technique is useful for collecting the interpretations of research, developing statistical models, and planning surveys and studies. Statistical analysis is a scientific tool that helps collect and analyze large amounts of data to identify common patterns and trends to convert them into meaningful information. In simple words, statistical analysis is a data analysis tool that helps draw meaningful conclusions from raw and unstructured data. \n",
    "\n",
    "- **`Data Interpretation:`** Data interpretation is the process of reviewing data and drawing meaningful conclusions using a variety of analytical approaches. Data interpretation aids researchers in categorizing, manipulating, and summarising data in order to make sound business decisions. \n",
    "\n",
    "- **`Data Presentation:`** The data presentation is the key to success. Once the information is obtained the user transforms the data into a pictorial Presentation so as to be able to acquire a better response and outcome. Methods of Data Presentation in Statistics are Pictorial Presentation, Column chart, Pie Charts, Bar Charts, Histograms, Box Plots , Maps etc.\n",
    "\n",
    "\n",
    "\n",
    "<img align=\"left\" width=\"450\" height=\"400\"  src=\"images/stat1.PNG\"  >\n",
    "<img align=\"right\" width=\"450\" height=\"400\"  src=\"images/apps.PNG\"  >"
   ]
  },
  {
   "cell_type": "code",
   "execution_count": null,
   "id": "a5825ac6",
   "metadata": {},
   "outputs": [],
   "source": []
  },
  {
   "cell_type": "markdown",
   "id": "dfcd770f",
   "metadata": {},
   "source": [
    "### Descriptive vs Inferential Statistics\n",
    "<img align=\"left\" width=\"600\" height=\"600\"  src=\"images/desstat.png\"  >\n",
    "<img align=\"right\" width=\"350\" height=\"350\"  src=\"images/is.png\"  >"
   ]
  },
  {
   "cell_type": "code",
   "execution_count": null,
   "id": "b1412a1a",
   "metadata": {},
   "outputs": [],
   "source": []
  },
  {
   "cell_type": "markdown",
   "id": "acd92f41",
   "metadata": {},
   "source": [
    ">- **Descriptive statistics is used to describe, summarize and present different datasets through numerical calculations, tables and graphs. Descriptive statistics describes data in three dimensions measure of center, spread and asymmetry.In descriptive statistics, the three measures of center describe a whole data set with a single value that represents the middle or center of its distribution,  four measures of spread or dispersion tells us how wide or dispersed the data set, two measures of asymmetry or distributiontells us about the overall shape of the data**\n",
    "\n",
    ">- **Inferential statistics is used to make inference and predictions for an entire population, based on sample data of that population. The techniques used in inferential statistics are hypothesis testing, confidence intervals and regression analysis.**"
   ]
  },
  {
   "cell_type": "code",
   "execution_count": null,
   "id": "0f8995e2",
   "metadata": {},
   "outputs": [],
   "source": []
  },
  {
   "cell_type": "markdown",
   "id": "8a9061a8",
   "metadata": {},
   "source": [
    "| Descriptive Statistics | Inferential Statistics |\n",
    "| --- | --- |\n",
    "|Describe the features of populations and/or samples | Use samples to make generalizations about larger populations |\n",
    "|Draw conclusions based on known data | Draw conclusions that go beyond the available data |\n",
    "|It helps in organizing, analyzing and to present data in a meaningful manner | It allows us to compare data, make hypothesis and predictions |\n",
    "|Present final results visually, using tables, charts, or graphs| Present final results in the form of probabilities |\n",
    "|Use measures like central tendency, distribution, and variance| Use techniques like hypothesis testing, confidence intervals, and regression and correlation analysis |"
   ]
  },
  {
   "cell_type": "code",
   "execution_count": null,
   "id": "cc4fb836",
   "metadata": {},
   "outputs": [],
   "source": []
  },
  {
   "cell_type": "markdown",
   "id": "c36c946c",
   "metadata": {},
   "source": [
    "# Check Your Concepts:\n",
    "#### Explain the difference between the following?\n",
    "- Statistics and Statistic.\n",
    "- Population and Sample.\n",
    "- Descriptive and Inferential Statistics.\n",
    "- Quantitative and Qualitative Variables.\n",
    "- Discrete and Continuous Variables.\n",
    "- Primary data and Secondary data.\n",
    "- Nominal and ordinal Variable.\n",
    "\n",
    "#### Define a Variable. Differentiate between a discrete and a continuous variable.\n",
    "#### Classify the following variables as discrete or continuous:\n",
    "- The number of students attending a class.\n",
    "- The amount of mille produced by a cow.\n",
    "- The number of heads in the toss of 6 coins.\n",
    "- The yearly income of a College Professor.\n",
    "- The age of a shopkeeper.\n",
    "- The weight of a college student\n",
    "- The number of petals on a flower.\n",
    "- The number of heads in the toss of 6 coins.\n",
    "- The life times of television tubes produced by a company.\n",
    "- Temperature recorded every half hour at a weather bureau.\n",
    "- The number of shares sold each day in the stock market.\n",
    "\n",
    "\n",
    "#### Classifv each variable as qualitative or quantitative\n",
    "- Colour of eyes.\n",
    "- Number of computers sold in the last month.\n",
    "- Marital status of faculty members.\n",
    "- Student's weight.\n",
    "- Lifetime of car batteries.\n",
    "- Number of burgers sold by a fast food shop.\n",
    "- Brand of cars.\n",
    "\n",
    "#### Distinguish between Primary and Secondary data, giving examples of each.\n",
    "\n",
    "\n",
    "\n"
   ]
  },
  {
   "cell_type": "code",
   "execution_count": null,
   "id": "0098389e",
   "metadata": {},
   "outputs": [],
   "source": []
  },
  {
   "cell_type": "code",
   "execution_count": null,
   "id": "aecc9821",
   "metadata": {},
   "outputs": [],
   "source": []
  },
  {
   "cell_type": "markdown",
   "id": "3e91f531",
   "metadata": {},
   "source": [
    "## 4. Descriptive Statistics: Measures of Center\n",
    "<img align=\"centre\" width=\"600\" height=\"650\"  src=\"images/center.PNG\"  >"
   ]
  },
  {
   "cell_type": "markdown",
   "id": "976e5a0d",
   "metadata": {},
   "source": [
    "###  a. Mean\n",
    "- `Arithmetic Mean` is the sum of the value of each observation in a dataset divided by the number of observations. The mean cannot be calculated for categorical data, as the values cannot be summed. Moreover, as mean includes every value in the distribution it is influenced by outliers and skewed distributions.\n",
    "```\n",
    "Arithmetic Mean = (x1 + x2 + … + xN) / N\n",
    "```  \n",
    "- `Geometric Mean` is calculated as the N-th root of the product of all values, where N is the number of values. The geometric mean is used if the data is comprised of different units of measure, e.g. some measure are height, some are dollars, some are miles, etc. In ML, geometric mean is used to calculate the G-Mean measure that is a model evaluation metric. The geometric mean does not accept negative or zero values.\n",
    "```\n",
    "Geometric Mean = N-root(x1 * x2 * … * xN)\n",
    "```  \n",
    "- `Harmonic Mean` is calculated as the number of values N divided by the sum of the reciprocal of the values. The harmonic mean is used if the data is comprised of rates, i.e., a ratio between two quantities with different measures, e.g. speed, acceleration, frequency, etc. In ML, harmonic mean is used to calculate the F1 measure that is a model evaluation metric. The harmonic mean does not accept negative or zero value.\n",
    "```\n",
    "Harmonic Mean = N / (1/x1 + 1/x2 + … + 1/xN)\n",
    "```  \n",
    "- Note:\n",
    "    - If values have the same units: Use the arithmetic mean.\n",
    "    - If values have differing units: Use the geometric mean.\n",
    "    - If values are rates: Use the harmonic mean.\n",
    "    \n",
    "### b. Median\n",
    "- `Median` Median is a statistical measure that determines the middle value of a dataset listed in ascending order.\n",
    "- It splits the data in half, so it is also called 50th percentile. \n",
    "- To compute median:\n",
    "    - Arrange the data in ascending order (from the lowest to the largest value).\n",
    "    - If the dataset contains an odd number of values, the median is a central value that will split the dataset into halves.\n",
    "    - If the dataset contains an even number of values, find the two central values that split the dataset into halves. Then, calculate the mean of the two central values, which is the median of the dataset.\n",
    "- Median is used where strong outliers may skew the representation of the data. If you have one person who earns 1 billion a year and nine other people who earn under 100,000 a year, the mean income for people in the group set be around 100 million, a gross distortion.\n",
    "\n",
    "\n",
    "### c. Mode\n",
    "- Mode is frequently occurring data or elements.\n",
    "- If an element occurs the highest number of times, it is the mode of that data. If no number in the data is repeated, then there is no mode for that data. There can be more than one mode in a dataset if two values have the same frequency and also the highest frequency.\n",
    "- Outliers don’t influence the data.\n",
    "- The mode can be calculated for both quantitative and qualitative data."
   ]
  },
  {
   "cell_type": "code",
   "execution_count": null,
   "id": "bb59e0a6",
   "metadata": {},
   "outputs": [],
   "source": []
  },
  {
   "cell_type": "markdown",
   "id": "f19a44d5",
   "metadata": {},
   "source": [
    "**Example 1:**"
   ]
  },
  {
   "cell_type": "code",
   "execution_count": 16,
   "id": "18657e87",
   "metadata": {},
   "outputs": [
    {
     "name": "stdout",
     "output_type": "stream",
     "text": [
      "['Counter', 'Decimal', 'Fraction', 'NormalDist', 'StatisticsError', '__all__', '__builtins__', '__cached__', '__doc__', '__file__', '__loader__', '__name__', '__package__', '__spec__', '_coerce', '_convert', '_exact_ratio', '_fail_neg', '_find_lteq', '_find_rteq', '_isfinite', '_normal_dist_inv_cdf', '_ss', '_sum', 'bisect_left', 'bisect_right', 'erf', 'exp', 'fabs', 'fmean', 'fsum', 'geometric_mean', 'groupby', 'harmonic_mean', 'hypot', 'itemgetter', 'log', 'math', 'mean', 'median', 'median_grouped', 'median_high', 'median_low', 'mode', 'multimode', 'numbers', 'pstdev', 'pvariance', 'quantiles', 'random', 'sqrt', 'stdev', 'tau', 'variance']\n"
     ]
    }
   ],
   "source": [
    "import statistics\n",
    "import statistics\n",
    "import matplotlib.pyplot as plt\n",
    "import seaborn as sns\n",
    "import warnings\n",
    "warnings.filterwarnings('ignore')\n",
    "print(dir(statistics))"
   ]
  },
  {
   "cell_type": "code",
   "execution_count": null,
   "id": "b3677c9c",
   "metadata": {},
   "outputs": [],
   "source": []
  },
  {
   "cell_type": "code",
   "execution_count": 3,
   "id": "7df88b98",
   "metadata": {},
   "outputs": [
    {
     "name": "stdout",
     "output_type": "stream",
     "text": [
      "mean(data1): 16888.89\n",
      "geometric_mean(data1): 16701.71\n",
      "harmonic_mean(data1):  16528.48\n",
      "median(data1):  16000\n",
      "mode(data1):  15000\n"
     ]
    }
   ],
   "source": [
    "data1 = [14000, 19000, 16000, 20000, 15000, 16000, 15000, 15000, 22000]\n",
    "print(\"mean(data1): %.2f\" % statistics.mean(data1))\n",
    "print(\"geometric_mean(data1): %.2f\" % statistics.geometric_mean(data1))\n",
    "print(\"harmonic_mean(data1):  %.2f\" % statistics.harmonic_mean(data1))\n",
    "print(\"median(data1): \", statistics.median(data1))\n",
    "print(\"mode(data1): \", statistics.mode(data1))"
   ]
  },
  {
   "cell_type": "code",
   "execution_count": null,
   "id": "3177666f",
   "metadata": {},
   "outputs": [],
   "source": []
  },
  {
   "cell_type": "markdown",
   "id": "205ab18b",
   "metadata": {},
   "source": [
    "**Example 2:**"
   ]
  },
  {
   "cell_type": "code",
   "execution_count": null,
   "id": "9038b97c",
   "metadata": {},
   "outputs": [],
   "source": [
    "data2 = [14000, 19000, 16000, 20000, 15000, 16000, 15000, 15000, 22000, 900000]\n",
    "print(\"mean(data2): %.2f\" % statistics.mean(data2))"
   ]
  },
  {
   "cell_type": "code",
   "execution_count": null,
   "id": "b1ceed60",
   "metadata": {},
   "outputs": [],
   "source": []
  },
  {
   "cell_type": "code",
   "execution_count": null,
   "id": "7a5a74e5",
   "metadata": {},
   "outputs": [],
   "source": []
  },
  {
   "cell_type": "markdown",
   "id": "5cbba4c6",
   "metadata": {},
   "source": [
    "## 5. Descriptive Statistics: Measures of Spread\n",
    "<img align=\"centre\" width=\"600\" height=\"650\"  src=\"images/spread.PNG\"  >   "
   ]
  },
  {
   "cell_type": "markdown",
   "id": "4fd0b588",
   "metadata": {},
   "source": [
    "### a. Range\n",
    "- `Range` is the spread of your data from the lowest to the highest value in the distribution, \n",
    "- The range is calculated by subtracting the lowest value from the highest value. \n",
    "- A large range means high variability, a small range means low variability in a distribution.\n",
    "<img align=\"centre\" width=\"250\" height=\"250\"  src=\"images/range1.PNG\"  >"
   ]
  },
  {
   "cell_type": "markdown",
   "id": "f5cd9a00",
   "metadata": {},
   "source": [
    "**Example 1:**"
   ]
  },
  {
   "cell_type": "code",
   "execution_count": null,
   "id": "04859d73",
   "metadata": {},
   "outputs": [],
   "source": [
    "import numpy as np\n",
    "data1 = [25, 10, 9, 6, 12, 11, 15]\n",
    "range1 = np.max(data1) - np.min(data1)\n",
    "range1"
   ]
  },
  {
   "cell_type": "markdown",
   "id": "3b405f67",
   "metadata": {},
   "source": [
    "**Example 2:**"
   ]
  },
  {
   "cell_type": "code",
   "execution_count": null,
   "id": "68d5fe6e",
   "metadata": {},
   "outputs": [],
   "source": [
    "import numpy as np\n",
    "data2 = [10, 9, 8, 11, 10, 9, 8, 11]\n",
    "range2 = max(data2) - min(data2)\n",
    "range2"
   ]
  },
  {
   "cell_type": "code",
   "execution_count": null,
   "id": "ee9b168f",
   "metadata": {},
   "outputs": [],
   "source": []
  },
  {
   "cell_type": "markdown",
   "id": "80d22b89",
   "metadata": {},
   "source": [
    "### b. Inter Quartile Range\n",
    "<img align=\"centre\" width=\"700\" height=\"750\"  src=\"images/iqr2.PNG\"  >\n",
    "\n",
    "\n",
    "- Quantiles divedes a distribution and the most common are `quartiles`, `percentiles`, and `deciles`.\n",
    "- The median, which divides a distribution in two at its midpoint, is the most well-known example of a quantile.\n",
    "- **Quartiles:**, as their name suggests, are quantiles that divide a distribution into quarters by splitting a rank-ordered dataset into four equal parts. \n",
    "    - 1st Quartile Q1 is the same as the 25th percentile.\n",
    "    - 2nd Quartile Q2 is the same as 50th percentile.\n",
    "    - 3rd Quratile Q3 is same as 75th percentile\n",
    "- Inter Quartile Range is the difference between the third quartile(Q3) and the first Quartile (Q1)\n",
    "- The range gives us a measurement of how spread out the entirety of our data set is. The interquartile range, which tells us how far apart the first and third quartile are, indicates how spread out the middle 50% of our set of data is.\n",
    "- The primary advantage of using the interquartile range rather than the range for the measurement of the spread of a data set is that the interquartile range is not sensitive to outliers.\n",
    "- Due to its resistance to outliers, the interquartile range is useful in identifying when a value is an outlier.\n",
    "\n",
    "- **Percentiles** divide the distribution at any point out of one hundred. For example, if we'd like to identify the threshold for the top 5% of a distribution, we'd cut it at the 95th percentile. Or, for the top 1%, we'd cut at the 99th percentile.\n",
    "- **Deciles:** (from Latin *decimus*, meaning \"tenth\") divide a distribution into ten evenly-sized segments."
   ]
  },
  {
   "cell_type": "code",
   "execution_count": null,
   "id": "49705991",
   "metadata": {},
   "outputs": [],
   "source": []
  },
  {
   "cell_type": "markdown",
   "id": "b9708ed5",
   "metadata": {},
   "source": [
    "#### Quartiles"
   ]
  },
  {
   "cell_type": "markdown",
   "id": "400a194b",
   "metadata": {},
   "source": [
    "**Example 1:**"
   ]
  },
  {
   "cell_type": "code",
   "execution_count": null,
   "id": "0a734c85",
   "metadata": {},
   "outputs": [],
   "source": [
    "import statistics\n",
    "data = [11,13,16,19,20,21,23,25,26,29,33,34,36,38,39,46,52,55,58]\n",
    "q1,q2,q3 = statistics.quantiles(data, n=4)\n",
    "print(\"Q1: \", q1)\n",
    "print(\"Q2: \", q2)\n",
    "print(\"Q3: \", q3)\n",
    "print(\"IQR = Q3 - Q1: \", q3-q1)"
   ]
  },
  {
   "cell_type": "code",
   "execution_count": null,
   "id": "99b5925f",
   "metadata": {},
   "outputs": [],
   "source": []
  },
  {
   "cell_type": "code",
   "execution_count": null,
   "id": "b93d6eb6",
   "metadata": {},
   "outputs": [],
   "source": []
  },
  {
   "cell_type": "markdown",
   "id": "7a391339",
   "metadata": {},
   "source": [
    "**Example 2:**\n",
    "- We can use the IQR method of identifying outliers to set up a “fence” outside of Q1 and Q3. Any values that fall outside of this fence are considered outliers."
   ]
  },
  {
   "cell_type": "code",
   "execution_count": null,
   "id": "9455e98f",
   "metadata": {},
   "outputs": [],
   "source": [
    "data = [0, 0, 2, 5, 8, 8, 8, 9, 9, 10, 10, 10, 11, 12, 12, 12, 14, 15, 20, 25]\n",
    "q1,q2,q3 = statistics.quantiles(data, n=4)\n",
    "print(\"Q1: \", q1)\n",
    "print(\"Q2: \", q2)\n",
    "print(\"Q3: \", q3)\n",
    "iqr = q3 - q1\n",
    "print(\"IQR = Q3 - Q1: \", iqr)"
   ]
  },
  {
   "cell_type": "code",
   "execution_count": null,
   "id": "ccfcb3a8",
   "metadata": {},
   "outputs": [],
   "source": [
    "# Any observations that are more than 1.5 times IQR above Q3 are considered outliers.\n",
    "upperfence = q3 + iqr*1.5\n",
    "upperfence"
   ]
  },
  {
   "cell_type": "code",
   "execution_count": null,
   "id": "0439572a",
   "metadata": {},
   "outputs": [],
   "source": [
    "# Any observations that are less than 1.5 times IQR below Q1 re considered outliers.\n",
    "lowerfence = q1 - iqr*1.5\n",
    "lowerfence"
   ]
  },
  {
   "cell_type": "markdown",
   "id": "30b1c3a0",
   "metadata": {},
   "source": [
    ">There are 4 outliers: 0, 0, 20, and 25."
   ]
  },
  {
   "cell_type": "code",
   "execution_count": null,
   "id": "0f5521d6",
   "metadata": {},
   "outputs": [],
   "source": []
  },
  {
   "cell_type": "markdown",
   "id": "d49f0688",
   "metadata": {},
   "source": [
    "### c. Variance\n",
    "- The `Variance` is a very simple statistic that gives you an extremely rough idea of how spread out a data set is. As a measure of spread, it’s actually pretty weak. A large variance of 22,000, for example, doesn’t tell you much about the spread of data — other than it’s big! The most important reason the variance exists is to give you a way to find the standard deviation which is the square root of variance.\n",
    "- The reason of dividing by `n-1` in case of sample variance is \"the formula uses sample mean in the numerator and as a consequence may underestimate the true variance of the population. Dividing by n-1 instead of n corrects for that bias.\n",
    "\n",
    "<img align=\"left\" width=\"300\" height=\"300\"  src=\"images/variance.jpeg\"  >"
   ]
  },
  {
   "cell_type": "markdown",
   "id": "017a60ed",
   "metadata": {},
   "source": [
    "### d. Standard Deviation\n",
    "- Simply put, the `Standard Deviation` is a measure of how spread out data is around center of the distribution (the mean). It also gives you an idea of where, percentage wise, a certain value falls. For example, let’s say you took a test and it was normally distributed (shaped like a bell). You score one standard deviation above the mean. That tells you your score puts you in the top 84% of test takers.\n",
    "- Low standard deviation implies that most values are close to the mean. High standard deviation suggests that the values are more broadly spread out.\n",
    "- Here 68 percent of the data lies in one standard division about the mean on the left and on the right, and almost 95 percent of the data lies in two standard deviations around the mean left and right.\n",
    "\n",
    "<img align=\"left\" width=\"400\" height=\"300\"  src=\"images/std_dev.jpeg\"  >\n",
    "<img align=\"right\" width=\"400\" height=\"750\"  src=\"images/bellcurve.png\"  >"
   ]
  },
  {
   "cell_type": "code",
   "execution_count": null,
   "id": "c92c92c6",
   "metadata": {},
   "outputs": [],
   "source": []
  },
  {
   "cell_type": "markdown",
   "id": "d3082c7c",
   "metadata": {},
   "source": [
    "**Example 1:**"
   ]
  },
  {
   "cell_type": "code",
   "execution_count": 21,
   "id": "2e5d032c",
   "metadata": {},
   "outputs": [
    {
     "name": "stdout",
     "output_type": "stream",
     "text": [
      "Sample Mean:  4\n",
      "Sample Variance:  4\n",
      "Population Variance:  2.6666666666666665\n",
      "Sample Standard Deviation:  2.0\n",
      "Population Standard Deviation:  1.632993161855452\n"
     ]
    }
   ],
   "source": [
    "import numpy as np\n",
    "import statistics\n",
    "data = [2, 4, 6]\n",
    "print(\"Sample Mean: \", statistics.mean(data))\n",
    "print(\"Sample Variance: \", statistics.variance(data))\n",
    "print(\"Population Variance: \", statistics.pvariance(data))\n",
    "print(\"Sample Standard Deviation: \", statistics.stdev(data))\n",
    "print(\"Population Standard Deviation: \", statistics.pstdev(data))"
   ]
  },
  {
   "cell_type": "code",
   "execution_count": 6,
   "id": "c6f5c050",
   "metadata": {},
   "outputs": [
    {
     "data": {
      "text/plain": [
       "1.632993161855452"
      ]
     },
     "execution_count": 6,
     "metadata": {},
     "output_type": "execute_result"
    }
   ],
   "source": [
    "data = [2, 4, 6]\n",
    "np.std(data)"
   ]
  },
  {
   "cell_type": "code",
   "execution_count": 7,
   "id": "ffda03e7",
   "metadata": {},
   "outputs": [
    {
     "data": {
      "text/plain": [
       "2.0"
      ]
     },
     "execution_count": 7,
     "metadata": {},
     "output_type": "execute_result"
    }
   ],
   "source": [
    "statistics.stdev(data)"
   ]
  },
  {
   "cell_type": "code",
   "execution_count": null,
   "id": "104897f9",
   "metadata": {},
   "outputs": [],
   "source": []
  },
  {
   "cell_type": "code",
   "execution_count": null,
   "id": "a0ea7a73",
   "metadata": {},
   "outputs": [],
   "source": []
  },
  {
   "cell_type": "markdown",
   "id": "671bf801",
   "metadata": {},
   "source": [
    "**Example 2:** `Machine Learning` teacher has compiled the result and wants to know whether most students are performing at the same level, or if there is a high standard deviation."
   ]
  },
  {
   "cell_type": "code",
   "execution_count": 3,
   "id": "66b104b3",
   "metadata": {},
   "outputs": [
    {
     "name": "stdout",
     "output_type": "stream",
     "text": [
      "Mean of ML Marks:  69\n",
      "Standard Deviation of ML Marks: 6.16\n"
     ]
    }
   ],
   "source": [
    "marks_ML = [75, 69, 80, 70, 60, 63, 64, 69, 71]\n",
    "\n",
    "print(\"Mean of ML Marks: \", statistics.mean(marks_ML))\n",
    "print(\"Standard Deviation of ML Marks: %.2f\" % statistics.stdev(marks_ML))"
   ]
  },
  {
   "cell_type": "markdown",
   "id": "3e146e4c",
   "metadata": {},
   "source": [
    ">**Low standard deviation implies that most values are close to the mean.**"
   ]
  },
  {
   "cell_type": "code",
   "execution_count": 2,
   "id": "4fb16d16",
   "metadata": {},
   "outputs": [],
   "source": []
  },
  {
   "cell_type": "code",
   "execution_count": 17,
   "id": "21409aee",
   "metadata": {},
   "outputs": [
    {
     "data": {
      "text/plain": [
       "<AxesSubplot:ylabel='Density'>"
      ]
     },
     "execution_count": 17,
     "metadata": {},
     "output_type": "execute_result"
    },
    {
     "data": {
      "image/png": "[encoded data removed]",
      "text/plain": [
       "<Figure size 432x288 with 1 Axes>"
      ]
     },
     "metadata": {
      "needs_background": "light"
     },
     "output_type": "display_data"
    }
   ],
   "source": [
    "sns.distplot(marks_ML,rug=True,)"
   ]
  },
  {
   "cell_type": "code",
   "execution_count": null,
   "id": "fec96358",
   "metadata": {},
   "outputs": [],
   "source": []
  },
  {
   "cell_type": "markdown",
   "id": "f55acd36",
   "metadata": {},
   "source": [
    "**Example 3:** `Artificial Intelligence` teacher has compiled the result and wants to know whether most students are performing at the same level, or if there is a high standard deviation."
   ]
  },
  {
   "cell_type": "code",
   "execution_count": 18,
   "id": "4d669602",
   "metadata": {},
   "outputs": [
    {
     "name": "stdout",
     "output_type": "stream",
     "text": [
      "Mean of AI Marks:  69\n",
      "Standard Deviation of AI Marks: 23.38\n"
     ]
    }
   ],
   "source": [
    "marks_AI = [44, 95, 25, 60, 76, 81, 93, 84, 71, 33, 85, 81]\n",
    "print(\"Mean of AI Marks: \", statistics.mean(marks_AI))\n",
    "print(\"Standard Deviation of AI Marks: %.2f\" % statistics.stdev(marks_AI))"
   ]
  },
  {
   "cell_type": "markdown",
   "id": "4f7c1928",
   "metadata": {},
   "source": [
    ">**Note: High standard deviation implies that the values are more broadly spread out.**"
   ]
  },
  {
   "cell_type": "code",
   "execution_count": 19,
   "id": "76dc10b2",
   "metadata": {},
   "outputs": [
    {
     "data": {
      "text/plain": [
       "<AxesSubplot:ylabel='Density'>"
      ]
     },
     "execution_count": 19,
     "metadata": {},
     "output_type": "execute_result"
    },
    {
     "data": {
      "image/png": "[encoded data removed]",
      "text/plain": [
       "<Figure size 432x288 with 1 Axes>"
      ]
     },
     "metadata": {
      "needs_background": "light"
     },
     "output_type": "display_data"
    }
   ],
   "source": [
    "sns.distplot(marks_AI,rug=True,)"
   ]
  },
  {
   "cell_type": "markdown",
   "id": "80e38751",
   "metadata": {},
   "source": [
    "**Example 4:** Suppose there are 10000 students in my Data Science class. You get 85% marks in your Data Science Exam. The mean of the overall result is 60% with a standard deviation of 10%. How many students are above you?"
   ]
  },
  {
   "cell_type": "code",
   "execution_count": 22,
   "id": "4c03588f",
   "metadata": {},
   "outputs": [
    {
     "data": {
      "text/plain": [
       "array([41.47789255, 49.19001008, 60.78563826, ..., 67.12758548,\n",
       "       65.60509258, 60.75799144])"
      ]
     },
     "execution_count": 22,
     "metadata": {},
     "output_type": "execute_result"
    }
   ],
   "source": [
    "# Let us first generate the random marks of ten thousand students, with a mean of 60 and standard deviation of 10\n",
    "mu = 60\n",
    "sigma = 10\n",
    "np.random.seed(54)\n",
    "x = np.random.normal(mu, sigma, 10000)\n",
    "x"
   ]
  },
  {
   "cell_type": "code",
   "execution_count": 23,
   "id": "8d396d72",
   "metadata": {},
   "outputs": [
    {
     "name": "stdout",
     "output_type": "stream",
     "text": [
      "np.mean(x):  59.919552883530756\n",
      "np.std(x):  10.044223230060146\n"
     ]
    }
   ],
   "source": [
    "# Let us verify, whether the mean and std dev of above distribution `x` is 60 and 10 respectively\n",
    "print(\"np.mean(x): \", np.mean(x))\n",
    "print(\"np.std(x): \", np.std(x))"
   ]
  },
  {
   "cell_type": "markdown",
   "id": "86f0ab3c",
   "metadata": {},
   "source": [
    ">- **Let us calculate the number of students above you out of ten thousand and visualize this by drawing a graph.**"
   ]
  },
  {
   "cell_type": "code",
   "execution_count": 24,
   "id": "ba986226",
   "metadata": {},
   "outputs": [
    {
     "data": {
      "text/plain": [
       "59"
      ]
     },
     "execution_count": 24,
     "metadata": {},
     "output_type": "execute_result"
    }
   ],
   "source": [
    "a = len(np.where(x > 85)[0])\n",
    "a"
   ]
  },
  {
   "cell_type": "code",
   "execution_count": 25,
   "id": "31eb4486",
   "metadata": {},
   "outputs": [
    {
     "data": {
      "image/png": "[encoded data removed]",
      "text/plain": [
       "<Figure size 360x360 with 1 Axes>"
      ]
     },
     "metadata": {
      "needs_background": "light"
     },
     "output_type": "display_data"
    }
   ],
   "source": [
    "sns.displot(x, color='green')\n",
    "plt.axvline(mu, color='orange')\n",
    "for i in [-3, -2, -1, 1, 2, 3]:\n",
    "    plt.axvline(mu+i*sigma, color='red')\n",
    "plt.axvline(85, color='purple')\n",
    "plt.show()"
   ]
  },
  {
   "cell_type": "code",
   "execution_count": null,
   "id": "21be77f8",
   "metadata": {},
   "outputs": [],
   "source": []
  },
  {
   "cell_type": "code",
   "execution_count": null,
   "id": "7ddc17d0",
   "metadata": {},
   "outputs": [],
   "source": []
  },
  {
   "cell_type": "markdown",
   "id": "6e96a95a",
   "metadata": {},
   "source": [
    "**Example 5:** This is continuation of above example. Suppose your marks in Data Science are still 85%, but this time the mean of the overall result has increased to 90% with a standard deviation of 2. How many students are above you?"
   ]
  },
  {
   "cell_type": "code",
   "execution_count": 26,
   "id": "2550755c",
   "metadata": {},
   "outputs": [
    {
     "data": {
      "text/plain": [
       "array([86.29557851, 87.83800202, 90.15712765, ..., 91.4255171 ,\n",
       "       91.12101852, 90.15159829])"
      ]
     },
     "execution_count": 26,
     "metadata": {},
     "output_type": "execute_result"
    }
   ],
   "source": [
    "# Let us first generate the random marks of ten thousand students, with a mean of 90 and standard deviation of 2\n",
    "mu = 90\n",
    "sigma = 2\n",
    "np.random.seed(54)\n",
    "x = np.random.normal(mu, sigma, 10000)\n",
    "x"
   ]
  },
  {
   "cell_type": "code",
   "execution_count": 27,
   "id": "bcb992e1",
   "metadata": {},
   "outputs": [
    {
     "name": "stdout",
     "output_type": "stream",
     "text": [
      "np.mean(x):  89.98391057670615\n",
      "np.std(x):  2.0088446460120286\n"
     ]
    }
   ],
   "source": [
    "# Let us verify, whether the mean and std dev of above distribution `x` is 90 and 2 respectively\n",
    "print(\"np.mean(x): \", np.mean(x))\n",
    "print(\"np.std(x): \", np.std(x))"
   ]
  },
  {
   "cell_type": "markdown",
   "id": "3322ef5a",
   "metadata": {},
   "source": [
    ">- **Let us calculate the number of students above you out of ten thousand and visualize this by drawing a graph.**"
   ]
  },
  {
   "cell_type": "code",
   "execution_count": 28,
   "id": "09525265",
   "metadata": {},
   "outputs": [
    {
     "data": {
      "text/plain": [
       "9934"
      ]
     },
     "execution_count": 28,
     "metadata": {},
     "output_type": "execute_result"
    }
   ],
   "source": [
    "a = len(np.where(x > 85)[0])\n",
    "a"
   ]
  },
  {
   "cell_type": "code",
   "execution_count": 29,
   "id": "e2f13663",
   "metadata": {},
   "outputs": [
    {
     "data": {
      "image/png": "[encoded data removed]",
      "text/plain": [
       "<Figure size 360x360 with 1 Axes>"
      ]
     },
     "metadata": {
      "needs_background": "light"
     },
     "output_type": "display_data"
    }
   ],
   "source": [
    "sns.displot(x, color='grey')\n",
    "plt.axvline(mu, color='orange')\n",
    "for i in [-3, -2, -1, 1, 2, 3]:\n",
    "    plt.axvline(mu+i*sigma, color='red')\n",
    "plt.axvline(85, color='purple')\n",
    "plt.show()"
   ]
  },
  {
   "cell_type": "code",
   "execution_count": null,
   "id": "a6f53447",
   "metadata": {},
   "outputs": [],
   "source": []
  },
  {
   "cell_type": "markdown",
   "id": "88a342ed",
   "metadata": {},
   "source": [
    "[Behavioral Risk Factor Surveillance System (BRFSS)](https://github.com/akmand/stats_tutorials/blob/main/ch1n2_intro_to_data.ipynb)\n",
    "\n",
    "**Some define Statistics as the field that focuses on turning information into knowledge. The first step in that process is to summarize and describe the raw information - the data. In this Project, you will gain insight into public health by generating simple graphical and numerical summaries of a data set collected by the Centers for Disease Control and Prevention (CDC).**\n",
    "\n",
    "\n",
    "### Getting started\n",
    "**The Behavioral Risk Factor Surveillance System (BRFSS) is an annual telephone survey of 350,000 people in the United States. As its name implies, the BRFSS is designed to identify risk factors in the adult population and report emerging health trends. For example, respondents are asked about their diet and weekly physical activity, their HIV/AIDS status, possible tobacco use, and even their level of healthcare coverage. The BRFSS's website contains a complete description of the survey, including the research questions that motivate the study and many interesting results derived from the data. We will focus on a random sample of 20,000 people from the BRFSS survey conducted in 2000. While there are over 200 variables in this data set, we will work with a small subset. We begin by importing the dataset of 20,000 observations from the Cloud.**\n"
   ]
  },
  {
   "cell_type": "markdown",
   "id": "2fab57fe",
   "metadata": {},
   "source": [
    "### Load of Data-set from [This URL](https://raw.githubusercontent.com/bsef19m521/DatasetsForProjects/master/brfss_2000.csv)"
   ]
  },
  {
   "cell_type": "code",
   "execution_count": 7,
   "id": "02a534b1",
   "metadata": {},
   "outputs": [],
   "source": [
    "import numpy as np\n",
    "import pandas as pd\n",
    "import seaborn as sns\n",
    "import matplotlib.pyplot as plt\n",
    "import warnings\n",
    "warnings.filterwarnings('ignore')"
   ]
  },
  {
   "cell_type": "code",
   "execution_count": 8,
   "id": "bdbeb6d2",
   "metadata": {},
   "outputs": [
    {
     "data": {
      "text/plain": [
       "(20000, 9)"
      ]
     },
     "execution_count": 8,
     "metadata": {},
     "output_type": "execute_result"
    }
   ],
   "source": [
    "url = \"https://raw.githubusercontent.com/bsef19m521/DatasetsForProjects/master/brfss_2000.csv\"\n",
    "df = pd.read_csv(url)\n",
    "df.shape"
   ]
  },
  {
   "cell_type": "code",
   "execution_count": 9,
   "id": "de4c4656",
   "metadata": {},
   "outputs": [
    {
     "data": {
      "text/plain": [
       "Index(['exerany', 'hlthplan', 'smoke100', 'height', 'weight', 'wtdesire',\n",
       "       'age', 'gender', 'genhlth'],\n",
       "      dtype='object')"
      ]
     },
     "execution_count": 9,
     "metadata": {},
     "output_type": "execute_result"
    }
   ],
   "source": [
    "# display columns name\n",
    "df.columns"
   ]
  },
  {
   "cell_type": "markdown",
   "id": "bf011d95",
   "metadata": {},
   "source": [
    "This returns the names `genhlth`, `exerany`, `hlthplan`, `smoke100`, `height`, `weight`, `wtdesire`, `age`, and `gender`. Each one of these variables corresponds to a question that was asked in the survey. For example, for `genhlth`, respondents were asked to evaluate their general health, responding either excellent, very good, good, fair or poor. The `exerany` variable indicates whether the respondent exercised in the past month (1) or did not (0). Likewise, `hlthplan` indicates whether the respondent had some form of health coverage (1) or did not (0). The `smoke100` variable indicates whether the respondent had smoked at least 100 cigarettes in their lifetime. The other variables record the respondent's `height` in inches, `weight` in pounds as well as their `desired weight`, `wtdesire`, `age` in years, and `gender`."
   ]
  },
  {
   "cell_type": "markdown",
   "id": "8d6bdd9b",
   "metadata": {},
   "source": [
    "## Exercise 1\n",
    "**How many cases are there in this data set? How many variables? For each variable, identify its data type (e.g. categorical, discrete).**\n",
    "\n",
    "\n",
    "#### To solve this example, perform following steps one by one:\n",
    "- Display first/last few entries of the dataset `df`\n",
    "- Summarize the complete dataframe including both categorical and discrete columns.\n",
    "- Use Python built-in functions to compute summary statistics all numerical types columns one by one.\n",
    "- Perform sample frequency and relative frequency distribution on all categorical columns one by one(Hint:`value_counts()`)"
   ]
  },
  {
   "cell_type": "markdown",
   "id": "973916e9",
   "metadata": {},
   "source": [
    "#### Graphical Representation\n",
    "Now let's import `matplotlib` library to create plots. In a Jupyter Notebook, we can simply output the graphs within the notebook itself by running the `%matplotlib inline` magic command."
   ]
  },
  {
   "cell_type": "code",
   "execution_count": 1,
   "id": "c2229e13",
   "metadata": {},
   "outputs": [],
   "source": [
    "import matplotlib.pyplot as plt\n",
    "%matplotlib inline"
   ]
  },
  {
   "cell_type": "markdown",
   "id": "aa4a107b",
   "metadata": {},
   "source": [
    "You can change the format to svg for better quality figures. We can also try the retina format and see which one looks better on your computer's screen."
   ]
  },
  {
   "cell_type": "code",
   "execution_count": 2,
   "id": "aabf06f6",
   "metadata": {},
   "outputs": [],
   "source": [
    "%config InlineBackend.figure_format = 'retina'"
   ]
  },
  {
   "cell_type": "markdown",
   "id": "29a51b5d",
   "metadata": {},
   "source": [
    "We can also change the default style of plots. Let's go for our favourite style, `ggplot` from R."
   ]
  },
  {
   "cell_type": "code",
   "execution_count": 4,
   "id": "efbcfd17",
   "metadata": {},
   "outputs": [],
   "source": [
    "plt.style.use('ggplot')"
   ]
  },
  {
   "cell_type": "markdown",
   "id": "1fbdd54c",
   "metadata": {},
   "source": [
    "Let's also make the size of plots and font sizes bigger."
   ]
  },
  {
   "cell_type": "code",
   "execution_count": 19,
   "id": "9430f1e2",
   "metadata": {},
   "outputs": [],
   "source": [
    "plt.rcParams['font.size'] =12\n",
    "plt.rcParams['figure.figsize'] = (5,8)"
   ]
  },
  {
   "cell_type": "markdown",
   "id": "e1f7a81f",
   "metadata": {},
   "source": [
    "**Create the bar plot of all the categorical columns one by one using `plot()` of dataframe.**"
   ]
  },
  {
   "cell_type": "code",
   "execution_count": 37,
   "id": "b9c68890",
   "metadata": {},
   "outputs": [
    {
     "data": {
      "text/html": [
       "<div>\n",
       "<style scoped>\n",
       "    .dataframe tbody tr th:only-of-type {\n",
       "        vertical-align: middle;\n",
       "    }\n",
       "\n",
       "    .dataframe tbody tr th {\n",
       "        vertical-align: top;\n",
       "    }\n",
       "\n",
       "    .dataframe thead th {\n",
       "        text-align: right;\n",
       "    }\n",
       "</style>\n",
       "<table border=\"1\" class=\"dataframe\">\n",
       "  <thead>\n",
       "    <tr style=\"text-align: right;\">\n",
       "      <th>smoke100</th>\n",
       "      <th>0</th>\n",
       "      <th>1</th>\n",
       "    </tr>\n",
       "    <tr>\n",
       "      <th>gender</th>\n",
       "      <th></th>\n",
       "      <th></th>\n",
       "    </tr>\n",
       "  </thead>\n",
       "  <tbody>\n",
       "    <tr>\n",
       "      <th>f</th>\n",
       "      <td>6012</td>\n",
       "      <td>4419</td>\n",
       "    </tr>\n",
       "    <tr>\n",
       "      <th>m</th>\n",
       "      <td>4547</td>\n",
       "      <td>5022</td>\n",
       "    </tr>\n",
       "  </tbody>\n",
       "</table>\n",
       "</div>"
      ],
      "text/plain": [
       "smoke100     0     1\n",
       "gender              \n",
       "f         6012  4419\n",
       "m         4547  5022"
      ]
     },
     "execution_count": 37,
     "metadata": {},
     "output_type": "execute_result"
    }
   ],
   "source": [
    "df.groupby('gender')['smoke100'].value_counts().unstack()"
   ]
  },
  {
   "cell_type": "markdown",
   "id": "16912009",
   "metadata": {},
   "source": [
    "## Exercise 2\n",
    "- Create a numerical summary for `height` and `age`,\n",
    "- Compute the interquartile range for each. \n",
    "- Compute the relative frequency distribution for `gender` and `exerany`. \n",
    "- How many males are in the sample? What proportion of the sample reports being in excellent health?\n",
    "- Use `groupby` command to examine how participants have smoked across each gender?\n"
   ]
  },
  {
   "cell_type": "code",
   "execution_count": null,
   "id": "1fa3eaa3",
   "metadata": {},
   "outputs": [],
   "source": []
  },
  {
   "cell_type": "markdown",
   "id": "546008a8",
   "metadata": {},
   "source": [
    "## Question 03\n",
    "- Display the size of the dataframe like `no. of rows` x `no. of columns`.\n",
    "- Display the `weights` for the first 10 respondents of the dataframe using `loc`, `iloc` and `subscript` operator.\n",
    "- Display the data for `men` over the age of 30.\n",
    "- Create a new object called `under23_and_smoke` that contains all observations of respondents under the `age` of 23 that have `smoked 100` cigarettes in their lifetime."
   ]
  },
  {
   "cell_type": "code",
   "execution_count": null,
   "id": "11c7a2bb",
   "metadata": {},
   "outputs": [],
   "source": []
  },
  {
   "cell_type": "markdown",
   "id": "90d404d8",
   "metadata": {},
   "source": [
    "## Question 04\n",
    "#### Graphical representation of Quantitative data\n",
    "- We've already looked at categorical data such as `smoke100` and `gender` so now let's turn our attention to quantitative data. Two common ways to visualize quantitative data are with `box plots` and `histograms`.Now, we construct a box plot for very single variable(e.g numerical column).\n",
    "- The purpose of a `boxplot` is to provide a thumbnail sketch of a variable for the purpose of comparing across several categories.Now, we compare all the numerical columns with `gender` column.\n",
    "- Now let's consider a new variable that doesn't show up directly in this data set: `Body Mass Index (BMI)`. BMI is a weight to height ratio and can be calculated as\n",
    "![](images/BMI.png)\n",
    "- Create a new object called `bmi` and then creates box plots of these values using seaborn library, defining groups by the variable `genhlth`.\n",
    "- What does this box plot show? \n",
    "- Pick another `categorical variable` from the data set and see how it relates to `BMI`. List the variable you chose, why you might think it would have a relationship to BMI, and indicate what the figure seems to suggest. After that try to plot a histogram with different number of bins. "
   ]
  },
  {
   "cell_type": "markdown",
   "id": "56a379e2",
   "metadata": {},
   "source": [
    "## Question 05\n",
    "- Make a scatterplot of `weight` versus `desired weight`. Describe the relationship between these two variables.\n",
    "- Let's consider a new variable: the difference between desired weight `(wtdesire)` and current weight `(weight)`. Create this new variable by subtracting the two columns in the DataFrame and assigning them to a new object called `wdiff`.\n",
    "- What type of data is `wdiff`? If an observation `wdiff` is 0, what does this mean about the person's weight and desired weight. What if `wdiff` is positive or negative?\n",
    "- Describe the distribution of `wdiff` in terms of its center, shape, and spread, including any plots you use. What does this tell us about how people feel about their `current weight`?\n",
    "- Using numerical summaries and a side-by-side box plot, determine if men tend to view their weight differently than women.\n",
    "- Now it's time to get creative. Find the mean and standard deviation of `weight` and determine what proportion of the weights are within one standard deviation of the mean."
   ]
  },
  {
   "cell_type": "code",
   "execution_count": null,
   "id": "c0ac0a9a",
   "metadata": {},
   "outputs": [],
   "source": []
  },
  {
   "cell_type": "code",
   "execution_count": null,
   "id": "cc36d907",
   "metadata": {},
   "outputs": [],
   "source": []
  },
  {
   "cell_type": "code",
   "execution_count": null,
   "id": "67b5b0f6",
   "metadata": {},
   "outputs": [],
   "source": []
  },
  {
   "cell_type": "code",
   "execution_count": null,
   "id": "4c95322d",
   "metadata": {},
   "outputs": [],
   "source": []
  },
  {
   "cell_type": "code",
   "execution_count": null,
   "id": "18ef9fcc",
   "metadata": {},
   "outputs": [],
   "source": []
  },
  {
   "cell_type": "markdown",
   "id": "c95866aa",
   "metadata": {},
   "source": [
    "## 6. Measures of Asymmetry\n",
    "<img align=\"left\" width=\"400\" height=\"350\"  src=\"images/asymm.PNG\"  >\n",
    "<img align=\"right\" width=\"400\" height=\"750\"  src=\"images/bellcurve.png\"  >"
   ]
  },
  {
   "cell_type": "code",
   "execution_count": null,
   "id": "81e0c825",
   "metadata": {},
   "outputs": [],
   "source": []
  },
  {
   "cell_type": "code",
   "execution_count": null,
   "id": "63c68d5b",
   "metadata": {},
   "outputs": [],
   "source": []
  },
  {
   "cell_type": "markdown",
   "id": "9a1b42ad",
   "metadata": {},
   "source": [
    "### a. Skewness\n",
    "<img align=\"left\" width=\"450\" height=\"500\"  src=\"images/right.PNG\"  >    \n",
    "<img align=\"right\" width=\"450\" height=\"500\"  src=\"images/left.PNG\"  >  \n",
    "\n",
    "<br><br><br><br><br><br><br><br><br><br><br><br>\n",
    "\n",
    "- **`Skewness`:** is the measure of how much the probability distribution of a random variable deviates from the normal distribution. The skewness for a normal distribution is zero\n",
    "    - **`Positive Skewness / Right-Skewed Distribution: (median < mean):`** If the given distribution is shifted to the left and with its tail on the right side, it is a positively skewed distribution. In this type, the majority of the observations are concentrated on the left, and the value of skewness is positive.\n",
    "    - **`Negative Skewness / Left-Skewed Distribution: (median > mean):`** If the given distribution is shifted to the right and with its tail on the left side, it is a negatively skewed distribution. In this type, the majority of the observations are concentrated on the right, and the value of skewness is negative.\n",
    "- **`Measuring Skewness`:** Skewness can be measured using several methods; however, `Pearson mode skewness` and `Pearson median skewness` are the two frequently used methods.\n",
    "\n",
    "<img align=\"left\" width=\"450\" height=\"750\"  src=\"images/mod.PNG\">\n",
    "\n",
    "<img align=\"right\" width=\"450\" height=\"750\"  src=\"images/medi.PNG\">"
   ]
  },
  {
   "cell_type": "code",
   "execution_count": null,
   "id": "18790464",
   "metadata": {},
   "outputs": [],
   "source": []
  },
  {
   "cell_type": "code",
   "execution_count": null,
   "id": "122782ee",
   "metadata": {},
   "outputs": [],
   "source": []
  },
  {
   "cell_type": "markdown",
   "id": "c5eacaf7",
   "metadata": {},
   "source": [
    "**Example 1:**\n",
    "\n",
    "<img align=\"left\" width=\"300\" height=\"200\"  src=\"images/right.PNG\"  >  \n"
   ]
  },
  {
   "cell_type": "code",
   "execution_count": 1,
   "id": "31a53f57",
   "metadata": {},
   "outputs": [
    {
     "name": "stdout",
     "output_type": "stream",
     "text": [
      "Mean:  36.45454545454545\n",
      "Median:  30\n",
      "Mode:  15\n",
      "Skew:  1.1200720344327073\n"
     ]
    }
   ],
   "source": [
    "from scipy import stats\n",
    "import statistics\n",
    "data1 = [30, 10, 15, 27, 15, 45, 31, 19, 54, 60, 95]\n",
    "\n",
    "print(\"Mean: \", statistics.mean(data1))\n",
    "print(\"Median: \", statistics.median(data1))\n",
    "print(\"Mode: \", statistics.mode(data1))\n",
    "print(\"Skew: \", stats.skew(data1))"
   ]
  },
  {
   "cell_type": "code",
   "execution_count": 9,
   "id": "a2a3b985",
   "metadata": {},
   "outputs": [
    {
     "name": "stdout",
     "output_type": "stream",
     "text": [
      "Mean:  4\n",
      "Median:  4\n",
      "Mode:  2\n",
      "Skew:  0.0\n"
     ]
    },
    {
     "data": {
      "image/png": "[encoded data removed]",
      "text/plain": [
       "<Figure size 360x360 with 1 Axes>"
      ]
     },
     "metadata": {
      "needs_background": "light"
     },
     "output_type": "display_data"
    }
   ],
   "source": [
    "import seaborn as sns\n",
    "s = stats.skewnorm.rvs(20, size=10000)\n",
    "print(\"Mean: \", statistics.mean(data))\n",
    "print(\"Median: \", statistics.median(data))\n",
    "print(\"Mode: \", statistics.mode(data))\n",
    "print(\"Skew: \", stats.skew(data))\n",
    "\n",
    "sns.displot(s, kde=True);"
   ]
  },
  {
   "cell_type": "code",
   "execution_count": null,
   "id": "f1c103cd",
   "metadata": {},
   "outputs": [],
   "source": []
  },
  {
   "cell_type": "code",
   "execution_count": null,
   "id": "603b0d23",
   "metadata": {},
   "outputs": [],
   "source": []
  },
  {
   "cell_type": "markdown",
   "id": "ec8282ce",
   "metadata": {},
   "source": [
    "**Example 2:**\n",
    "\n",
    "<img align=\"left\" width=\"300\" height=\"200\"  src=\"images/left.PNG\"  >  "
   ]
  },
  {
   "cell_type": "code",
   "execution_count": 10,
   "id": "c46d005b",
   "metadata": {},
   "outputs": [
    {
     "name": "stdout",
     "output_type": "stream",
     "text": [
      "Mean:  74\n",
      "Median:  88.5\n",
      "Mode:  91\n",
      "Skew:  -1.1697290428681582\n"
     ]
    }
   ],
   "source": [
    "from scipy import stats\n",
    "import statistics\n",
    "data2 = [20, 33, 88, 91, 85, 89, 91, 95]\n",
    "\n",
    "print(\"Mean: \", statistics.mean(data2))\n",
    "print(\"Median: \", statistics.median(data2))\n",
    "print(\"Mode: \", statistics.mode(data2))\n",
    "print(\"Skew: \", stats.skew(data2))"
   ]
  },
  {
   "cell_type": "code",
   "execution_count": 11,
   "id": "d948c588",
   "metadata": {},
   "outputs": [
    {
     "name": "stdout",
     "output_type": "stream",
     "text": [
      "Mean:  4\n",
      "Median:  4\n",
      "Mode:  2\n",
      "Skew:  0.0\n"
     ]
    },
    {
     "data": {
      "image/png": "[encoded data removed]",
      "text/plain": [
       "<Figure size 360x360 with 1 Axes>"
      ]
     },
     "metadata": {
      "needs_background": "light"
     },
     "output_type": "display_data"
    }
   ],
   "source": [
    "s = stats.skewnorm.rvs(-20, size=10000)\n",
    "print(\"Mean: \", statistics.mean(data))\n",
    "print(\"Median: \", statistics.median(data))\n",
    "print(\"Mode: \", statistics.mode(data))\n",
    "print(\"Skew: \", stats.skew(data))\n",
    "\n",
    "sns.displot(s, kde=True);"
   ]
  },
  {
   "cell_type": "code",
   "execution_count": null,
   "id": "5aa2b74e",
   "metadata": {},
   "outputs": [],
   "source": []
  },
  {
   "cell_type": "code",
   "execution_count": null,
   "id": "78dc707a",
   "metadata": {},
   "outputs": [],
   "source": []
  },
  {
   "cell_type": "markdown",
   "id": "1a854268",
   "metadata": {},
   "source": [
    "**Example 3:**\n",
    "\n",
    "<img align=\"left\" width=\"300\" height=\"200\"  src=\"images/bellcurve.png\"  >  "
   ]
  },
  {
   "cell_type": "code",
   "execution_count": 12,
   "id": "ca404079",
   "metadata": {},
   "outputs": [
    {
     "name": "stdout",
     "output_type": "stream",
     "text": [
      "Mean:  25.10722331781521\n",
      "Median:  25.008282063424865\n",
      "Mode:  37.37084858876419\n",
      "Skew:  0.09298886013579823\n"
     ]
    },
    {
     "data": {
      "image/png": "[encoded data removed]",
      "text/plain": [
       "<Figure size 432x288 with 1 Axes>"
      ]
     },
     "metadata": {
      "needs_background": "light"
     },
     "output_type": "display_data"
    }
   ],
   "source": [
    "import numpy as np\n",
    "from scipy import stats\n",
    "import statistics\n",
    "from matplotlib import pyplot as plt\n",
    "\n",
    "mean = 25\n",
    "stdev = 5\n",
    "data3 = np.random.normal(loc=mean, scale=stdev,size=1000)\n",
    "print(\"Mean: \", statistics.mean(data3))\n",
    "print(\"Median: \", statistics.median(data3))\n",
    "print(\"Mode: \", statistics.mode(data3))\n",
    "print(\"Skew: \", stats.skew(data3))\n",
    "plt.hist(data3, 50);"
   ]
  },
  {
   "cell_type": "code",
   "execution_count": 13,
   "id": "d8f1ee8e",
   "metadata": {},
   "outputs": [
    {
     "name": "stdout",
     "output_type": "stream",
     "text": [
      "Mean:  4\n",
      "Median:  4\n",
      "Mode:  2\n",
      "Skew:  0.0\n"
     ]
    },
    {
     "data": {
      "image/png": "[encoded data removed]",
      "text/plain": [
       "<Figure size 360x360 with 1 Axes>"
      ]
     },
     "metadata": {
      "needs_background": "light"
     },
     "output_type": "display_data"
    }
   ],
   "source": [
    "s = stats.skewnorm.rvs(0, size=10000)\n",
    "print(\"Mean: \", statistics.mean(data))\n",
    "print(\"Median: \", statistics.median(data))\n",
    "print(\"Mode: \", statistics.mode(data))\n",
    "print(\"Skew: \", stats.skew(data))\n",
    "\n",
    "sns.displot(s, kde=True);"
   ]
  },
  {
   "cell_type": "code",
   "execution_count": 14,
   "id": "f59a3a28",
   "metadata": {},
   "outputs": [
    {
     "data": {
      "text/plain": [
       "4.0"
      ]
     },
     "execution_count": 14,
     "metadata": {},
     "output_type": "execute_result"
    }
   ],
   "source": [
    "np.mean(data)"
   ]
  },
  {
   "cell_type": "code",
   "execution_count": 15,
   "id": "edf4417b",
   "metadata": {},
   "outputs": [
    {
     "name": "stdout",
     "output_type": "stream",
     "text": [
      "Mean:  0.012664254334118743\n",
      "Median:  0.0015300868572601309\n",
      "Mode:  0.20136200091844927\n",
      "Skew:  -0.09229425856203527\n"
     ]
    },
    {
     "data": {
      "image/png": "[encoded data removed]",
      "text/plain": [
       "<Figure size 360x360 with 1 Axes>"
      ]
     },
     "metadata": {
      "needs_background": "light"
     },
     "output_type": "display_data"
    }
   ],
   "source": [
    "from scipy import stats\n",
    "from matplotlib import pyplot as plt\n",
    "import numpy as np\n",
    "\n",
    "data = stats.skewnorm.rvs(0, size=1000) # first argument is \"skewness\"; 0 has no skew\n",
    "print(\"Mean: \", statistics.mean(data))\n",
    "print(\"Median: \", statistics.median(data))\n",
    "print(\"Mode: \", statistics.mode(data))\n",
    "print(\"Skew: \", stats.skew(data))\n",
    "\n",
    "#fig, ax = plt.subplots()\n",
    "#plt.hist(data, bins=50);\n",
    "sns.displot(s, kde=True);\n",
    "#plt.axvline(data = np.mean(data), color='black')\n",
    "#plt.axvline(data = np.median(data), color='black')\n",
    "plt.show();"
   ]
  },
  {
   "cell_type": "code",
   "execution_count": null,
   "id": "78fcb2de",
   "metadata": {},
   "outputs": [],
   "source": []
  },
  {
   "cell_type": "markdown",
   "id": "c809c6da",
   "metadata": {},
   "source": [
    "### b. Kurtosis\n",
    "<img align=\"right\" width=\"400\" height=\"400\"  src=\"images/kurtosis.png\"  >\n",
    "\n",
    "- `Kurtosis`: is a statistical measure, to determine if the data is heavy-tailed or light-tailed in a normal distribution.\n",
    "\n",
    "    - **Leptokurtic (kurtosis>3)**: If a given distribution has a kurtosis greater than 3, it is said to be leptokurtic, which means it tends to produce more outliers than the normal distribution.\n",
    "    - **Mesokurtic (kurtosis==3)**: This distribution looks similar to a normal distribution.\n",
    "    - **Platykurtic (kurtosis<3**: If a given distribution has a kurtosis less than 3, it is said to be platykurtic, which means it tends to produce fewer and less extreme outliers than the normal distribution.\n",
    "\n",
    "- The main difference between skewness and kurtosis is that the skewness refers to the degree of symmetry, whereas the kurtosis refers to the degree of presence of outliers in the distribution."
   ]
  },
  {
   "cell_type": "code",
   "execution_count": null,
   "id": "68c0ef64",
   "metadata": {},
   "outputs": [],
   "source": []
  },
  {
   "cell_type": "markdown",
   "id": "0aeb65c5",
   "metadata": {},
   "source": [
    "**Example 1:**"
   ]
  },
  {
   "cell_type": "code",
   "execution_count": null,
   "id": "fd5a4280",
   "metadata": {},
   "outputs": [],
   "source": [
    "#Mesokurtic: kurtosis==3\n",
    "import numpy as np\n",
    "from scipy import stats\n",
    "mean = 25\n",
    "stdev = 5\n",
    "data = np.random.normal(loc=mean, scale=stdev,size=1000)\n",
    "print('Kurtosis:', stats.kurtosis(data, fisher=False))\n",
    "print(\"Skew: \", stats.skew(data))\n",
    "plt.hist(data, 50);"
   ]
  },
  {
   "cell_type": "code",
   "execution_count": null,
   "id": "42205d5f",
   "metadata": {},
   "outputs": [],
   "source": []
  },
  {
   "cell_type": "markdown",
   "id": "874adf19",
   "metadata": {},
   "source": [
    "**Example 2:**"
   ]
  },
  {
   "cell_type": "code",
   "execution_count": null,
   "id": "2361707f",
   "metadata": {},
   "outputs": [],
   "source": [
    "#Leptokurtic: kurtosis > 3 (outliers)\n",
    "import numpy as np\n",
    "from scipy import stats\n",
    "data = np.random.laplace(1.45, 15, 1000)\n",
    "print('Kurtosis:', stats.kurtosis(data, fisher=False))\n",
    "print(\"Skew: \", stats.skew(data))  \n",
    "plt.hist(data, 50);"
   ]
  },
  {
   "cell_type": "code",
   "execution_count": null,
   "id": "64d7ef58",
   "metadata": {},
   "outputs": [],
   "source": []
  },
  {
   "cell_type": "markdown",
   "id": "0ca53008",
   "metadata": {},
   "source": [
    "**Example 3:**"
   ]
  },
  {
   "cell_type": "code",
   "execution_count": null,
   "id": "814a5357",
   "metadata": {},
   "outputs": [],
   "source": [
    "#Platykurtic: kurtosis < 3 (less extreme outliers)\n",
    "import numpy as np\n",
    "from scipy import stats\n",
    "data = np.random.rand(1000)\n",
    "print('Kurtosis:', stats.kurtosis(data, fisher=False))\n",
    "print(\"Skew: \", stats.skew(data)) \n",
    "plt.hist(data, 50);"
   ]
  },
  {
   "cell_type": "code",
   "execution_count": null,
   "id": "3e41d57c",
   "metadata": {},
   "outputs": [],
   "source": []
  },
  {
   "cell_type": "code",
   "execution_count": null,
   "id": "fe807f11",
   "metadata": {},
   "outputs": [],
   "source": []
  },
  {
   "cell_type": "markdown",
   "id": "7e513cde",
   "metadata": {},
   "source": [
    "## 7. Analysis Strategy\n",
    "<img align=\"center\" width=\"550\" height=\"520\"  src=\"images/analysis.png\"  >"
   ]
  },
  {
   "cell_type": "markdown",
   "id": "c1946380",
   "metadata": {},
   "source": [
    "<img align=\"right\" width=\"150\" height=\"120\"  src=\"images/height.png\"  >\n",
    "\n",
    "### a. Univariate Analysis\n",
    "- In a dataset, Univariate analysis is performed on each variable separately. It is possible on numerical as well as categorical variables. It takes data, summarizes that data and finds patterns in the data. \n",
    "- Suppose that the heights of students of a class are recorded, there is only one variable that is height and it is not dealing with any cause or relationship. \n",
    "\n",
    "### b. Bivariate Analysis\n",
    "\n",
    "<img align=\"right\" width=\"250\" height=\"300\"  src=\"images/tab1.PNG\"  >\n",
    "\n",
    "- Bivariate analysis is an analysis that is performed to determine the relationship between 2 variables. The analysis is related to cause and the relationship between the two variables. One of the variables will be dependent and the other is independent. The data types of the two variables can be:\n",
    "    - (Numerical-Numerical)\n",
    "    - (Numerical-Categorical)\n",
    "    - (Categorical-Categorical)\n",
    "\n",
    "### c. Visual Analysis\n",
    "- If you want to compare values and analyze trends use:\n",
    "    - Line Graph\n",
    "    - Bar Graph\n",
    "    - Column Graph\n",
    "- If you want to show how one variable relates to one or more different variables use:\n",
    "    - Scatter Plot\n",
    "    - Bubble Plot\n",
    "    - Line Plot\n",
    "- If you want to understand distribution of your data to understand outliers, normal tendency and range of information in your data use:\n",
    "    - Histogram\n",
    "    - Density Plot\n",
    "    - Box Plot\n",
    "    - Violin Plot\n",
    "- If you want to show composition of something use:\n",
    "    - Pie Chart\n",
    "    - Stacked Bar Graph\n",
    "    - Stacked Column Graph\n",
    "    - Area Graph"
   ]
  },
  {
   "cell_type": "code",
   "execution_count": null,
   "id": "d17863df",
   "metadata": {},
   "outputs": [],
   "source": []
  },
  {
   "cell_type": "markdown",
   "id": "4ac76981",
   "metadata": {},
   "source": [
    "## 8. Variance, Covariance and Correlation\n",
    "- `Variance` tells us how much a (single) quantity varies w.r.t. its mean. Its the spread of data around the mean value. You only know the magnitude here, as in how much the data is spread.\n",
    "- `Covariance` tells us direction in which two quantities vary with each other.\n",
    "- `Correlation` shows us both, the direction and magnitude of how two quantities vary with each other."
   ]
  },
  {
   "cell_type": "code",
   "execution_count": null,
   "id": "980507b2",
   "metadata": {},
   "outputs": [],
   "source": []
  },
  {
   "cell_type": "code",
   "execution_count": null,
   "id": "bd8739dc",
   "metadata": {},
   "outputs": [],
   "source": []
  },
  {
   "cell_type": "markdown",
   "id": "675ef903",
   "metadata": {},
   "source": [
    "### a. Covariance\n",
    "- Covariance is used to measure as to how the mean values of two random variables move together. For example the height and weight of a person in a population. The formula to calculate sample covariance is:\n",
    "<img align=\"center\" width=\"250\" height=\"250\"  src=\"images/samplecovariance.png\"  >\n",
    "- The formula to calculate population covariance is:\n",
    "<img align=\"center\" width=\"250\" height=\"250\"  src=\"images/populationcovariance.png\"  >\n",
    "\n",
    "<img align=\"center\" width=\"500\" height=\"500\"  src=\"images/pnw_cov.png\"  >\n",
    " \n",
    "- Covariance measures the direction of the relationship between two variables. \n",
    "    - `Positive covariance`: Indicates that two variables tend to move in the same direction.\n",
    "    - `Negative covariance`: Reveals that two variables tend to move in inverse directions.\n",
    "    - `Zero covarince`: Indicates that two variables have no relationship between each other.\n",
    "- **Covariance Matrix:** For multi-dimensional data, there applies a generalization of covariance in terms of a covariance matrix. The covariance matrix is also known as the variance-covariance matrix, as the diagonal values of the covariance matrix show variances and the other values are the covariances. The covariance matrix for two variables is a square matrix which can be written as follows:\n",
    "\n",
    "<img align=\"center\" width=\"300\" height=\"300\"  src=\"images/covmatrix.png\"  >"
   ]
  },
  {
   "cell_type": "markdown",
   "id": "32003eee",
   "metadata": {},
   "source": [
    "### b. Correlation\n",
    "- Correlation is a measure that tells us the direction as well as the magnitude of how two quantities vary with each other (e.g., height and weight).\n",
    "-  The Pearson Correlation Coefficient (r) is used to quantify the strength and direction of linear relationship between two quantitative variables:\n",
    "<img align=\"centre\" width=\"250\" height=\"250\"  src=\"images/PearsonCorrelationCofficient.png\" >\n",
    "\n",
    "- The value of correlation coefficient range from -1 to +1, shows the strength of the correlation:\n",
    "    - 1 indicates a perfect positive correlation.\n",
    "    - -1 indicates a perfect negative correlation.\n",
    "    - 0 indicates that there is no relationship between the different variables.\n",
    "\n",
    "<img align=\"centre\" width=\"750\" height=\"700\"  src=\"images/poszeronegcor.png\"  >\n",
    "\n",
    "\n",
    "- **Correlation Matrix:** is a table showing correlation coefficients between various variables. The rows and columns contain the value of the variables, and each cell shows the correlation coefficient.\n",
    "<img align=\"center\" width=\"400\" height=\"400\"  src=\"images/correlation_matrix.png\"  >"
   ]
  },
  {
   "cell_type": "code",
   "execution_count": null,
   "id": "f1533725",
   "metadata": {},
   "outputs": [],
   "source": []
  },
  {
   "cell_type": "code",
   "execution_count": null,
   "id": "00f7da38",
   "metadata": {},
   "outputs": [],
   "source": []
  },
  {
   "cell_type": "markdown",
   "id": "3c0c3c4d",
   "metadata": {},
   "source": [
    "### Example 1: Strong Positive Correlation\n",
    ">**Let us compute the variance and covariance for two variables `weight` and `height` of six persons**"
   ]
  },
  {
   "cell_type": "code",
   "execution_count": 3,
   "id": "189b871c",
   "metadata": {},
   "outputs": [
    {
     "name": "stdout",
     "output_type": "stream",
     "text": [
      "mean(weight):  73\n",
      "mean(height):  175.33333333333334\n",
      "var(weight):  103.2\n",
      "var(height):  157.86666666666667\n"
     ]
    },
    {
     "ename": "AttributeError",
     "evalue": "module 'statistics' has no attribute 'covariance'",
     "output_type": "error",
     "traceback": [
      "\u001b[0;31m---------------------------------------------------------------------------\u001b[0m",
      "\u001b[0;31mAttributeError\u001b[0m                            Traceback (most recent call last)",
      "Input \u001b[0;32mIn [3]\u001b[0m, in \u001b[0;36m<cell line: 11>\u001b[0;34m()\u001b[0m\n\u001b[1;32m      9\u001b[0m \u001b[38;5;28mprint\u001b[39m(\u001b[38;5;124m\"\u001b[39m\u001b[38;5;124mvar(weight): \u001b[39m\u001b[38;5;124m\"\u001b[39m, statistics\u001b[38;5;241m.\u001b[39mvariance(weight))\n\u001b[1;32m     10\u001b[0m \u001b[38;5;28mprint\u001b[39m(\u001b[38;5;124m\"\u001b[39m\u001b[38;5;124mvar(height): \u001b[39m\u001b[38;5;124m\"\u001b[39m, statistics\u001b[38;5;241m.\u001b[39mvariance(height))\n\u001b[0;32m---> 11\u001b[0m \u001b[38;5;28mprint\u001b[39m(\u001b[38;5;124m\"\u001b[39m\u001b[38;5;124mcov(weight, height): \u001b[39m\u001b[38;5;124m\"\u001b[39m, \u001b[43mstatistics\u001b[49m\u001b[38;5;241;43m.\u001b[39;49m\u001b[43mcovariance\u001b[49m(weight,height))\n\u001b[1;32m     12\u001b[0m \u001b[38;5;28mprint\u001b[39m(\u001b[38;5;124m\"\u001b[39m\u001b[38;5;124mPearson Correlation Coefficient (r): \u001b[39m\u001b[38;5;124m\"\u001b[39m,statistics\u001b[38;5;241m.\u001b[39mcorrelation(weight, height))\n\u001b[1;32m     14\u001b[0m plt\u001b[38;5;241m.\u001b[39mscatter(x\u001b[38;5;241m=\u001b[39mweight, y\u001b[38;5;241m=\u001b[39mheight)\n",
      "\u001b[0;31mAttributeError\u001b[0m: module 'statistics' has no attribute 'covariance'"
     ]
    }
   ],
   "source": [
    "from matplotlib import pyplot as plt\n",
    "import statistics\n",
    "\n",
    "weight = [61,62,73,74,82,86]\n",
    "height = [157,168,170,181,191,185]\n",
    "\n",
    "print(\"mean(weight): \", statistics.mean(weight))\n",
    "print(\"mean(height): \", statistics.mean(height))\n",
    "print(\"var(weight): \", statistics.variance(weight))\n",
    "print(\"var(height): \", statistics.variance(height))\n",
    "print(\"cov(weight, height): \", statistics.covariance(weight,height))\n",
    "print(\"Pearson Correlation Coefficient (r): \",statistics.correlation(weight, height))\n",
    "\n",
    "plt.scatter(x=weight, y=height);"
   ]
  },
  {
   "cell_type": "markdown",
   "id": "3ebe2840",
   "metadata": {},
   "source": [
    "#### Covariance Matrix\n",
    "<img align=\"left\" width=\"200\" height=\"200\"  src=\"images/covmatrix.png\"  >"
   ]
  },
  {
   "cell_type": "code",
   "execution_count": null,
   "id": "c7669159",
   "metadata": {},
   "outputs": [],
   "source": [
    "print(\"var(weight): \", statistics.variance(weight))\n",
    "print(\"var(height): \", statistics.variance(height))\n",
    "print(\"cov(weight, height): \", statistics.covariance(weight,height))\n",
    "\n",
    "print(\"Covariance Matrix: \\n\", np.cov(weight,height))"
   ]
  },
  {
   "cell_type": "markdown",
   "id": "d72815d8",
   "metadata": {},
   "source": [
    "#### Correlation Matrix\n",
    "<img align=\"left\" width=\"200\" height=\"200\"  src=\"images/corrmatrix.png\"  >"
   ]
  },
  {
   "cell_type": "code",
   "execution_count": null,
   "id": "2b2c6228",
   "metadata": {},
   "outputs": [],
   "source": [
    "print(\"Pearson Correlation Coefficient 'r': \",statistics.correlation(weight, height))\n",
    "print(\"Correlation Matrix: \\n\", np.corrcoef(weight,height))"
   ]
  },
  {
   "cell_type": "code",
   "execution_count": null,
   "id": "3ad1c581",
   "metadata": {},
   "outputs": [],
   "source": []
  },
  {
   "cell_type": "markdown",
   "id": "4cfc4950",
   "metadata": {},
   "source": [
    "### Example 2: Perfect Negative Correlation\n",
    ">**Let us compute the variance and covariance for two variables `time spent on yoga` and `stress level`**"
   ]
  },
  {
   "cell_type": "code",
   "execution_count": null,
   "id": "9c14aa53",
   "metadata": {},
   "outputs": [],
   "source": [
    "from matplotlib import pyplot as plt\n",
    "import statistics\n",
    "\n",
    "yoga = [1,2,3,4,5,6,7,8,9]\n",
    "stress = [90,80,70,60,50,40,30,20,10]\n",
    "\n",
    "print(\"mean(yoga): \", statistics.mean(yoga))\n",
    "print(\"mean(stress): \", statistics.mean(stress))\n",
    "print(\"var(yoga): \", statistics.variance(yoga))\n",
    "print(\"var(stress): \", statistics.variance(stress))\n",
    "print(\"cov(yoga, stress): \", statistics.covariance(yoga,stress))\n",
    "print(\"Pearson Correlation Coefficient 'r': \",statistics.correlation(yoga, stress))\n",
    "\n",
    "plt.scatter(x=yoga, y=stress);"
   ]
  },
  {
   "cell_type": "markdown",
   "id": "6caaf423",
   "metadata": {},
   "source": [
    "#### Covariance Matrix\n",
    "<img align=\"left\" width=\"200\" height=\"200\"  src=\"images/covmatrix.png\"  >"
   ]
  },
  {
   "cell_type": "code",
   "execution_count": null,
   "id": "5c147a69",
   "metadata": {},
   "outputs": [],
   "source": [
    "print(\"var(yoga): \", statistics.variance(yoga))\n",
    "print(\"var(stress): \", statistics.variance(stress))\n",
    "print(\"cov(yoga, stress): \", statistics.covariance(yoga,stress))\n",
    "\n",
    "print(\"Covariance Matrix: \\n\", np.cov(yoga,stress))"
   ]
  },
  {
   "cell_type": "markdown",
   "id": "681206c5",
   "metadata": {},
   "source": [
    "#### Correlation Matrix\n",
    "<img align=\"left\" width=\"200\" height=\"200\"  src=\"images/corrmatrix.png\"  >"
   ]
  },
  {
   "cell_type": "code",
   "execution_count": null,
   "id": "3f3db50d",
   "metadata": {},
   "outputs": [],
   "source": [
    "print(\"Pearson Correlation Coefficient 'r': \",statistics.correlation(yoga, stress))\n",
    "print(\"Correlation Matrix: \\n\", np.corrcoef(yoga,stress))"
   ]
  },
  {
   "cell_type": "code",
   "execution_count": null,
   "id": "7c6622a8",
   "metadata": {},
   "outputs": [],
   "source": []
  },
  {
   "cell_type": "markdown",
   "id": "a0ec1d17",
   "metadata": {},
   "source": [
    "### Example 3: Standardized Data\n",
    "<img align=\"center\" width=\"900\" height=\"500\"  src=\"images/standardizeddata.png\"  >"
   ]
  },
  {
   "cell_type": "code",
   "execution_count": null,
   "id": "0843f412",
   "metadata": {},
   "outputs": [],
   "source": [
    "# Correlation matrix of original data\n",
    "weight = [86,82,74,73,62,61]\n",
    "height = [157,168,170,181,191,185]\n",
    "print(\"Correlation Matrix: \\n\", np.corrcoef(weight,height))"
   ]
  },
  {
   "cell_type": "code",
   "execution_count": null,
   "id": "32c4a671",
   "metadata": {},
   "outputs": [],
   "source": [
    "# Covariance matrix of standardized data\n",
    "weight = [1.28, 0.89, 0.10, 0, -1.08, -1.18]\n",
    "height = [-1.46, -0.58, -0.42, 0.45, 1.25, 0.77]\n",
    "print(\"Covariance Matrix: \\n\", np.cov(weight,height))"
   ]
  },
  {
   "cell_type": "markdown",
   "id": "2cabe495",
   "metadata": {},
   "source": [
    ">**Covariance and Correlation matrix will be identical in this case**"
   ]
  },
  {
   "cell_type": "code",
   "execution_count": null,
   "id": "14d84db5",
   "metadata": {},
   "outputs": [],
   "source": []
  },
  {
   "cell_type": "code",
   "execution_count": null,
   "id": "7f8dfdb7",
   "metadata": {},
   "outputs": [],
   "source": []
  },
  {
   "cell_type": "markdown",
   "id": "c4535aa5",
   "metadata": {},
   "source": [
    "[Popular Data Science Questions](https://github.com/AnshuTrivedi/Data-Scientist-In-Python/blob/master/Projects/step_4/5.Data_analysis_in_business/4.Guided%20Project_Popular%20Data%20Science%20Questions.ipynb)\n",
    "\n",
    "**Our goal in this project is to use Data Science Stack Exchange to determine what content should a data science education company create, based on interest by subject.**"
   ]
  },
  {
   "cell_type": "markdown",
   "id": "f635f6c9",
   "metadata": {},
   "source": [
    "### Introduction\n",
    "You're tasked with figuring out what is best content to write about. Because you took this course, you know that given the lack of instructions there's some leeway in what `best` means here.\n",
    "\n",
    "Since you're passionate about helping people learn, you decide to scower the internet in search for the answer to the question `What is it that people want to learn about in data science?` (as opposed to determining the most profitable content, for instance).\n",
    "\n",
    "Thinking back to your experience when you first started learning programming, it occurs to you that if you wanted to figure out what programming content to write, you could consult `Stack Overflow` (a question and answer website about programming) and see what kind of content is more popular.\n",
    "\n",
    "You decide to investigate Stack Overflow a little more and find out that it is part of a question and answer website network called [Stack Exchange](https://en.wikipedia.org/wiki/Stack_Exchange).\n",
    "\n",
    "\n",
    "### Stack Exchange\n",
    "Stack Exchange hosts sites on a multitude of fields and subjects, including mathematics, physics, philosophy, and data science! Here's a sample of the most popular sites:\n",
    "<!-- ![](images/stack.png) -->"
   ]
  },
  {
   "cell_type": "code",
   "execution_count": 67,
   "id": "b311dc2f",
   "metadata": {},
   "outputs": [
    {
     "data": {
      "image/png": "[encoded data removed]",
      "text/plain": [
       "<IPython.core.display.Image object>"
      ]
     },
     "execution_count": 67,
     "metadata": {},
     "output_type": "execute_result"
    }
   ],
   "source": [
    "from IPython.display import Image\n",
    "Image(filename='images/stack.png')"
   ]
  },
  {
   "cell_type": "markdown",
   "id": "36bbbe19",
   "metadata": {},
   "source": [
    "Stack Exchange employs a reputation award system for its questions and answers. Each post — each question/answer — is a post that is subject to upvotes and downvotes. This ensures that good posts are easily identifiable\n",
    "\n",
    "Being a multidisciplinary field, there a few Stack Exchange websites there are relevant to our goal here:\n",
    "- [Data Science](https://datascience.stackexchange.com/)\n",
    "- [Cross Validated — a statistics site](https://stats.stackexchange.com/)\n",
    "- [Artificial Intelligence](https://ai.stackexchange.com/)\n",
    "- [Mathematics](https://math.stackexchange.com/)\n",
    "- [Stack Overflow](https://stackoverflow.com/)\n",
    "\n",
    "\n",
    "\n",
    "What kind of questions are welcome on this site? On DSSE's help center's section on questions , we can read that we should:\n",
    "- Avoid subjective questions.\n",
    "- Ask practical questions about Data Science — there are adequate sites for theoretical questions.\n",
    "- Ask specific questions.\n",
    "- Make questions relevant to others. All of these characteristics, if employed, should be helpful attributes to our goal.\n",
    "\n",
    "In the help center we also learned that in addition to the sites mentioned in the Learn section, there are other two sites that are relevant:\n",
    "- [Open Data](https://opendata.stackexchange.com/help/on-topic) (Dataset requests)\n",
    "- [Computational Science](https://scicomp.stackexchange.com/help/on-topic) (Software packages and algorithms in applied mathematics) \n",
    "\n",
    "What, other than questions, does DSSE's home subdivide into? On the home page we can see that we have four sections:\n",
    "- [Questions](https://datascience.stackexchange.com/questions) — a list of all questions asked;\n",
    "- [Tags](https://datascience.stackexchange.com/tags) — a list of tags (keywords or labels that categorize questions);\n",
    "- [Users](https://datascience.stackexchange.com/users) — a list of users;\n",
    "- [Unanswered](https://datascience.stackexchange.com/unanswered) — a list of unanswered questions;\n",
    "\n",
    "The tagging system used by Stack Exchange looks just like what we need to solve this problem as it allow us to quantify how many questions are asked about each subject.\n",
    "\n",
    "Something else we can learn from exploring the help center, is that Stack Exchange's sites are heavily moderated by the community; this gives us some confidence in using the tagging system to derive conclusions.\n",
    "\n",
    "What information is available in each post? Looking, just as an example, at this question, some of the information we see is:\n",
    "- For both questions and answers:\n",
    "     - The posts's score;\n",
    "     - The posts's title;\n",
    "     - The posts's author;\n",
    "     - The posts's body;\n",
    "- For questions only:\n",
    "     - How many users have it on their \"\n",
    "     - The last time the question as active;\n",
    "     - How many times the question was viewed;\n",
    "     - Related questions;\n",
    "     - The question's tags;\n",
    "     \n",
    "### Stack Exchange Data Explorer\n",
    "Perusing the table names, a few stand out as relevant for our goal:\n",
    "- Posts\n",
    "- PostTags\n",
    "- Tags\n",
    "- TagSynonyms\n",
    "\n",
    "Now comes the challenge of accessing the data en masse. One potential solution would be to scrape the site. However, because we still haven't learned how to web scrape, and because we have an easier alternative (mostly the second reason), we're going to do something else.\n",
    "\n",
    "Stack Exchange provides a public data base for each of its websites. Here's a [link](https://data.stackexchange.com/datascience/query/new) to query and explore Data Science Stack Exchange's database.\n",
    "\n",
    "You can read more about Stack Exchange Data Explorer (SEDE) on its help section and on this tutorial [link](https://data.stackexchange.com/tutorial).\n",
    "\n",
    "Note that SEDE uses a different dialect (Transact-SQL — Microsoft's SQL) than SQLite."
   ]
  },
  {
   "cell_type": "markdown",
   "id": "9bb1bc71",
   "metadata": {},
   "source": [
    "### Getting the Data\n",
    "\n",
    "To get the relevant data we run the following query.\n",
    "\n",
    "```\n",
    "SELECT Id, CreationDate,\n",
    "       Score, ViewCount, Tags,\n",
    "       AnswerCount, FavoriteCount\n",
    "FROM posts\n",
    "WHERE PostTypeId = 1 AND YEAR(CreationDate) = 2019;\n",
    "```\n"
   ]
  },
  {
   "cell_type": "code",
   "execution_count": null,
   "id": "c3e178db",
   "metadata": {},
   "outputs": [],
   "source": []
  },
  {
   "cell_type": "code",
   "execution_count": null,
   "id": "e738f24d",
   "metadata": {},
   "outputs": [],
   "source": []
  },
  {
   "cell_type": "code",
   "execution_count": null,
   "id": "48befcff",
   "metadata": {},
   "outputs": [],
   "source": []
  },
  {
   "cell_type": "code",
   "execution_count": null,
   "id": "e611b22b",
   "metadata": {},
   "outputs": [],
   "source": []
  },
  {
   "cell_type": "markdown",
   "id": "c641f73a",
   "metadata": {},
   "source": [
    "## 9. Example Datasets"
   ]
  },
  {
   "cell_type": "markdown",
   "id": "84ecbf44",
   "metadata": {},
   "source": [
    "### a. TITANIC Dataset\n",
    "<img align=\"center\" width=\"400\" height=\"300\"  src=\"images/titanic_sinking.jpeg\"  >"
   ]
  },
  {
   "cell_type": "code",
   "execution_count": 5,
   "id": "d1f18db4",
   "metadata": {},
   "outputs": [],
   "source": [
    "import pandas as pd\n",
    "df_titanic = pd.read_csv('datasets/titanic3.csv')\n",
    "# df_titanic"
   ]
  },
  {
   "cell_type": "code",
   "execution_count": null,
   "id": "68cd5679",
   "metadata": {},
   "outputs": [],
   "source": []
  },
  {
   "cell_type": "markdown",
   "id": "9ec579c3",
   "metadata": {},
   "source": [
    "### b. IRIS Dataset\n",
    "<img align=\"center\" width=\"600\" height=\"400\"  src=\"images/iris.png\"  >"
   ]
  },
  {
   "cell_type": "code",
   "execution_count": 6,
   "id": "27c96471",
   "metadata": {},
   "outputs": [],
   "source": [
    "df_iris = pd.read_csv('datasets/iris.csv')\n",
    "# df_iris"
   ]
  },
  {
   "cell_type": "code",
   "execution_count": null,
   "id": "a5e704b4",
   "metadata": {},
   "outputs": [],
   "source": []
  },
  {
   "cell_type": "markdown",
   "id": "29fe7cc7",
   "metadata": {},
   "source": [
    "### c. TIPS Dataset\n",
    "<img align=\"center\" width=\"600\" height=\"300\"  src=\"images/restaurant.jpeg\"  >"
   ]
  },
  {
   "cell_type": "code",
   "execution_count": 7,
   "id": "f158aa62",
   "metadata": {},
   "outputs": [],
   "source": [
    "df_tips = pd.read_csv('datasets/tips.csv')\n",
    "# df_tips"
   ]
  },
  {
   "cell_type": "code",
   "execution_count": null,
   "id": "aa436a60",
   "metadata": {},
   "outputs": [],
   "source": []
  },
  {
   "cell_type": "markdown",
   "id": "6b72657a",
   "metadata": {},
   "source": [
    "## 10. Univariate Analysis and Data Visualization"
   ]
  },
  {
   "cell_type": "code",
   "execution_count": 8,
   "id": "f8ce2f15",
   "metadata": {},
   "outputs": [],
   "source": [
    "import seaborn as sns\n",
    "import statistics\n",
    "from scipy import stats\n",
    "import pandas as pd\n",
    "import numpy as np\n",
    "from matplotlib import pyplot as plt"
   ]
  },
  {
   "cell_type": "markdown",
   "id": "b3eb8276",
   "metadata": {},
   "source": [
    "**Example 1:** Check the spread of data of `sepal_width` column in `IRIS` dataset using **Scatter Plot**"
   ]
  },
  {
   "cell_type": "code",
   "execution_count": 26,
   "id": "45f2a147",
   "metadata": {},
   "outputs": [
    {
     "name": "stdout",
     "output_type": "stream",
     "text": [
      "mean(sepal_width): 3.06\n",
      "median(sepal_width): 3.00\n",
      "mode(sepal_width): 3.00\n",
      "variance(sepal_width): 0.19\n"
     ]
    },
    {
     "data": {
      "image/png": "[encoded data removed]",
      "text/plain": [
       "<Figure size 360x360 with 1 Axes>"
      ]
     },
     "metadata": {
      "needs_background": "light"
     },
     "output_type": "display_data"
    }
   ],
   "source": [
    "print(\"mean(sepal_width): %.2f\" % statistics.mean(df_iris.loc[:, 'sepal_width']))\n",
    "print(\"median(sepal_width): %.2f\" % statistics.median(df_iris.loc[:, 'sepal_width']))\n",
    "print(\"mode(sepal_width): %.2f\" % statistics.mode(df_iris.loc[:, 'sepal_width']))\n",
    "print(\"variance(sepal_width): %.2f\" % statistics.variance(df_iris.loc[:, 'sepal_width']))\n",
    "\n",
    "sns.relplot(x = df_iris.index, y = 'sepal_width', data = df_iris, kind='scatter');"
   ]
  },
  {
   "cell_type": "code",
   "execution_count": null,
   "id": "e51d3e6c",
   "metadata": {},
   "outputs": [],
   "source": []
  },
  {
   "cell_type": "code",
   "execution_count": null,
   "id": "071ba779",
   "metadata": {},
   "outputs": [],
   "source": []
  },
  {
   "cell_type": "markdown",
   "id": "50369f63",
   "metadata": {},
   "source": [
    "**Example 2:** Check the measures of center for the `age` column in `TITANIC` dataset using **Box Plot**"
   ]
  },
  {
   "cell_type": "code",
   "execution_count": 27,
   "id": "b055c643",
   "metadata": {},
   "outputs": [
    {
     "name": "stdout",
     "output_type": "stream",
     "text": [
      "min(age):  0.1667\n",
      "max(age):  80.0\n",
      "median(age):  29.8811345124283\n",
      "q1, q2, q3:  [22.0, 29.8811345124283, 35.0]\n"
     ]
    },
    {
     "data": {
      "image/png": "[encoded data removed]",
      "text/plain": [
       "<Figure size 360x360 with 1 Axes>"
      ]
     },
     "metadata": {
      "needs_background": "light"
     },
     "output_type": "display_data"
    }
   ],
   "source": [
    "#There are 264 NaN values under age column, which may disturb our calculations, so replace them with mean\n",
    "df_titanic.loc[(df_titanic.age.isna()),'age'] = df_titanic.age.mean()\n",
    "\n",
    "print(\"min(age): \", df_titanic.loc[:, 'age'].min())\n",
    "print(\"max(age): \", df_titanic.loc[:, 'age'].max())\n",
    "print(\"median(age): \", df_titanic.loc[:, 'age'].median())\n",
    "print(\"q1, q2, q3: \", statistics.quantiles(df_titanic.loc[:, 'age'], n=4))\n",
    "sns.catplot(y='age', kind='box', data = df_titanic);"
   ]
  },
  {
   "cell_type": "code",
   "execution_count": null,
   "id": "bf09d6ad",
   "metadata": {},
   "outputs": [],
   "source": []
  },
  {
   "cell_type": "code",
   "execution_count": null,
   "id": "f2e0743e",
   "metadata": {},
   "outputs": [],
   "source": []
  },
  {
   "cell_type": "markdown",
   "id": "5592384e",
   "metadata": {},
   "source": [
    "**Example 3:** Check the distribution of data of `sepal_width` column in `IRIS` dataset using **Histogram**"
   ]
  },
  {
   "cell_type": "code",
   "execution_count": 28,
   "id": "17f9ac58",
   "metadata": {},
   "outputs": [
    {
     "name": "stdout",
     "output_type": "stream",
     "text": [
      "skew(sepal_width): 0.32\n",
      "Kurtosis(sepal_width): 3.18\n"
     ]
    },
    {
     "data": {
      "image/png": "[encoded data removed]",
      "text/plain": [
       "<Figure size 360x360 with 1 Axes>"
      ]
     },
     "metadata": {
      "needs_background": "light"
     },
     "output_type": "display_data"
    }
   ],
   "source": [
    "# sepal_width Column of IRIS Dataset\n",
    "print(\"skew(sepal_width): %.2f\" % stats.skew(df_iris.loc[:, 'sepal_width'])) \n",
    "print('Kurtosis(sepal_width): %.2f' % stats.kurtosis(df_iris.loc[:, 'sepal_width'], fisher=False))\n",
    "sns.displot(x= 'sepal_width', data=df_iris, kind='hist', kde=True);"
   ]
  },
  {
   "cell_type": "code",
   "execution_count": null,
   "id": "a30b20db",
   "metadata": {},
   "outputs": [],
   "source": []
  },
  {
   "cell_type": "code",
   "execution_count": null,
   "id": "e8d6318f",
   "metadata": {},
   "outputs": [],
   "source": []
  },
  {
   "cell_type": "markdown",
   "id": "507345bb",
   "metadata": {},
   "source": [
    "**Example 4:** Check the distribution of data of `age` column in `TITANIC` dataset using **Histogram**"
   ]
  },
  {
   "cell_type": "code",
   "execution_count": 29,
   "id": "3ba7d698",
   "metadata": {},
   "outputs": [
    {
     "name": "stdout",
     "output_type": "stream",
     "text": [
      "skew(age): 0.46\n",
      "Kurtosis(age): 3.93\n"
     ]
    },
    {
     "data": {
      "image/png": "[encoded data removed]",
      "text/plain": [
       "<Figure size 360x360 with 1 Axes>"
      ]
     },
     "metadata": {
      "needs_background": "light"
     },
     "output_type": "display_data"
    }
   ],
   "source": [
    "# age Column of TITANIC Dataset\n",
    "print(\"skew(age): %.2f\" % stats.skew(df_titanic.loc[:, 'age'])) \n",
    "print('Kurtosis(age): %.2f' % stats.kurtosis(df_titanic.loc[:, 'age'], fisher=False))\n",
    "sns.displot(x= 'age', data=df_titanic, kind='hist', kde=True);"
   ]
  },
  {
   "cell_type": "code",
   "execution_count": null,
   "id": "92f03f8e",
   "metadata": {},
   "outputs": [],
   "source": []
  },
  {
   "cell_type": "markdown",
   "id": "e8b4edc0",
   "metadata": {},
   "source": [
    "**Example 5:** Check the distribution of data of `tip` column in `TIPS` dataset using **Histogram**"
   ]
  },
  {
   "cell_type": "code",
   "execution_count": 30,
   "id": "369bbdc5",
   "metadata": {},
   "outputs": [
    {
     "name": "stdout",
     "output_type": "stream",
     "text": [
      "skew(tip): 1.46\n",
      "Kurtosis(tip): 6.55\n"
     ]
    },
    {
     "data": {
      "image/png": "[encoded data removed]",
      "text/plain": [
       "<Figure size 360x360 with 1 Axes>"
      ]
     },
     "metadata": {
      "needs_background": "light"
     },
     "output_type": "display_data"
    }
   ],
   "source": [
    "# tip Column of TIPS Dataset\n",
    "print(\"skew(tip): %.2f\" % stats.skew(df_tips.loc[:, 'tip'])) \n",
    "print('Kurtosis(tip): %.2f' % stats.kurtosis(df_tips.loc[:, 'tip'], fisher=False))\n",
    "sns.displot(x= 'tip', data=df_tips, kind='hist', kde=True);"
   ]
  },
  {
   "cell_type": "code",
   "execution_count": null,
   "id": "7f108e5e",
   "metadata": {},
   "outputs": [],
   "source": []
  },
  {
   "cell_type": "code",
   "execution_count": null,
   "id": "8b88056b",
   "metadata": {},
   "outputs": [],
   "source": []
  },
  {
   "cell_type": "markdown",
   "id": "fea3c16d",
   "metadata": {},
   "source": [
    "## 11. Bivariate Analysis and Data Visualization"
   ]
  },
  {
   "cell_type": "markdown",
   "id": "d1755037",
   "metadata": {},
   "source": [
    "### a. Two Categorical Variables\n",
    "- Data concerning two categorical (i.e., nominal- or ordinal-level) variables can be displayed using a bar chart. "
   ]
  },
  {
   "cell_type": "markdown",
   "id": "9de59e26",
   "metadata": {},
   "source": [
    "**Example 1:** Compare the `sex` and `survived` columns of `TITANIC` dataset using **Bar Plot**"
   ]
  },
  {
   "cell_type": "code",
   "execution_count": 31,
   "id": "b4a3b6dc",
   "metadata": {},
   "outputs": [
    {
     "data": {
      "image/png": "[encoded data removed]",
      "text/plain": [
       "<Figure size 360x360 with 1 Axes>"
      ]
     },
     "metadata": {
      "needs_background": "light"
     },
     "output_type": "display_data"
    }
   ],
   "source": [
    "sns.catplot(x ='sex', y ='survived',kind='bar', data = df_titanic);"
   ]
  },
  {
   "cell_type": "code",
   "execution_count": null,
   "id": "8552f2c2",
   "metadata": {},
   "outputs": [],
   "source": []
  },
  {
   "cell_type": "markdown",
   "id": "b318a2fa",
   "metadata": {},
   "source": [
    "**Example 2:** Check the survival. count of passengers bbased on `sex` column of `TITANIC` dataset using **Count Plot** and adding the hue argument"
   ]
  },
  {
   "cell_type": "code",
   "execution_count": 32,
   "id": "cf9c02a6",
   "metadata": {},
   "outputs": [
    {
     "data": {
      "image/png": "[encoded data removed]",
      "text/plain": [
       "<Figure size 411.875x360 with 1 Axes>"
      ]
     },
     "metadata": {
      "needs_background": "light"
     },
     "output_type": "display_data"
    }
   ],
   "source": [
    "sns.catplot(x ='sex',kind='count', data = df_titanic, hue='survived');"
   ]
  },
  {
   "cell_type": "code",
   "execution_count": null,
   "id": "0f87ca02",
   "metadata": {},
   "outputs": [],
   "source": []
  },
  {
   "cell_type": "markdown",
   "id": "5d3e9a3b",
   "metadata": {},
   "source": [
    "**Example 3:** Check the survival count of passengers based on `passenger class` column of `TITANIC` dataset using **Count Plot** and adding the col argument"
   ]
  },
  {
   "cell_type": "code",
   "execution_count": 33,
   "id": "7800dba5",
   "metadata": {},
   "outputs": [
    {
     "data": {
      "image/png": "[encoded data removed]",
      "text/plain": [
       "<Figure size 720x360 with 2 Axes>"
      ]
     },
     "metadata": {
      "needs_background": "light"
     },
     "output_type": "display_data"
    }
   ],
   "source": [
    "sns.catplot(x ='pclass',kind='count', data = df_titanic, col='survived');"
   ]
  },
  {
   "cell_type": "code",
   "execution_count": null,
   "id": "f7764d0d",
   "metadata": {},
   "outputs": [],
   "source": []
  },
  {
   "cell_type": "markdown",
   "id": "03bdd602",
   "metadata": {},
   "source": [
    "**Example 4:** Check the survival rate of passengers based on `passenger class` column of `TITANIC` dataset using **Bar Plot** "
   ]
  },
  {
   "cell_type": "code",
   "execution_count": 34,
   "id": "282d7658",
   "metadata": {},
   "outputs": [
    {
     "data": {
      "image/png": "[encoded data removed]",
      "text/plain": [
       "<Figure size 360x360 with 1 Axes>"
      ]
     },
     "metadata": {
      "needs_background": "light"
     },
     "output_type": "display_data"
    }
   ],
   "source": [
    "sns.catplot(x ='pclass', y ='survived',kind='bar', data = df_titanic);"
   ]
  },
  {
   "cell_type": "code",
   "execution_count": null,
   "id": "c3c353cf",
   "metadata": {},
   "outputs": [],
   "source": []
  },
  {
   "cell_type": "markdown",
   "id": "47698f1d",
   "metadata": {},
   "source": [
    "### b. One Quantitative and One Categorical Variable\n",
    "- Often times we want to compare groups in terms of a quantitative variable.  For example, we may want to compare the age of males and females. In this case age is a quantitate variable while biological sex is a categorical variable. Graphs with groups can be used to compare the distributions of heights in these two groups. \n",
    "- This is an example of constructing side-by-side boxplots with groups. The side-by-side boxplots allow us to easily compare the median, IQR, and range of the two groups. The histograms with groups allow us to compare the shape, central tendency, and variability of the two groups."
   ]
  },
  {
   "cell_type": "markdown",
   "id": "72a967c5",
   "metadata": {},
   "source": [
    "**Example 1:** Compare the `sex` and `age` columns of `TITANIC` dataset using **Box Plot**"
   ]
  },
  {
   "cell_type": "code",
   "execution_count": 35,
   "id": "fd74e3e1",
   "metadata": {},
   "outputs": [
    {
     "data": {
      "image/png": "[encoded data removed]",
      "text/plain": [
       "<Figure size 360x360 with 1 Axes>"
      ]
     },
     "metadata": {
      "needs_background": "light"
     },
     "output_type": "display_data"
    }
   ],
   "source": [
    "sns.catplot(x ='sex', y='age', kind='box', data = df_titanic);"
   ]
  },
  {
   "cell_type": "code",
   "execution_count": null,
   "id": "32855c87",
   "metadata": {},
   "outputs": [],
   "source": []
  },
  {
   "cell_type": "markdown",
   "id": "e0354465",
   "metadata": {},
   "source": [
    ">- **Have separate Boxplots for survived as not survived using `col` argument**"
   ]
  },
  {
   "cell_type": "code",
   "execution_count": 36,
   "id": "4418fec6",
   "metadata": {},
   "outputs": [
    {
     "data": {
      "image/png": "[encoded data removed]",
      "text/plain": [
       "<Figure size 720x360 with 2 Axes>"
      ]
     },
     "metadata": {
      "needs_background": "light"
     },
     "output_type": "display_data"
    }
   ],
   "source": [
    "sns.catplot(x ='sex', y='age', kind='box', data = df_titanic, col='survived');"
   ]
  },
  {
   "cell_type": "code",
   "execution_count": null,
   "id": "bf67b0fe",
   "metadata": {},
   "outputs": [],
   "source": []
  },
  {
   "cell_type": "markdown",
   "id": "fe2a1162",
   "metadata": {},
   "source": [
    "**Example 2:** Compare the `pclass` and `age` columns of `TITANIC` dataset using **Box Plot**"
   ]
  },
  {
   "cell_type": "code",
   "execution_count": 37,
   "id": "06bf18d3",
   "metadata": {
    "scrolled": true
   },
   "outputs": [
    {
     "data": {
      "image/png": "[encoded data removed]",
      "text/plain": [
       "<Figure size 360x360 with 1 Axes>"
      ]
     },
     "metadata": {
      "needs_background": "light"
     },
     "output_type": "display_data"
    }
   ],
   "source": [
    "sns.catplot(x ='pclass', y='age', kind='box', data = df_titanic);"
   ]
  },
  {
   "cell_type": "code",
   "execution_count": null,
   "id": "ab58370c",
   "metadata": {},
   "outputs": [],
   "source": []
  },
  {
   "cell_type": "markdown",
   "id": "8d9f81e3",
   "metadata": {},
   "source": [
    ">- **Have separate Boxplots for survived as not survived using `col` argument**"
   ]
  },
  {
   "cell_type": "code",
   "execution_count": 38,
   "id": "2504d4cb",
   "metadata": {
    "scrolled": true
   },
   "outputs": [
    {
     "data": {
      "image/png": "[encoded data removed]",
      "text/plain": [
       "<Figure size 720x360 with 2 Axes>"
      ]
     },
     "metadata": {
      "needs_background": "light"
     },
     "output_type": "display_data"
    }
   ],
   "source": [
    "sns.catplot(x ='pclass', y='age', kind='box', data = df_titanic, col='survived');"
   ]
  },
  {
   "cell_type": "code",
   "execution_count": null,
   "id": "7f2d9073",
   "metadata": {},
   "outputs": [],
   "source": []
  },
  {
   "cell_type": "markdown",
   "id": "e85950c1",
   "metadata": {},
   "source": [
    "### c. Two Quantitative Variables\n",
    "- This is done using scatterplots, correlation, and simple linear regression. \n",
    "- A scatterplot is a graph used to display data concerning two quantitative variables. \n",
    "- Correlation is a measure of the direction and strength of the relationship between two quantitative variables.\n",
    "- Simple linear regression uses one quantitative variable to predict a second quantitative variable. \n",
    "- **Scatter Plot:** \n",
    "    - A graphical representation of two quantitative variables in which the explanatory variable is on the x-axis and the response variable is on the y-axis. When examining a scatterplot, we need to consider the following:\n",
    "        - Direction (positive or negative)\n",
    "        - Form (linear or non-linear) \n",
    "        - Strength (weak, moderate, strong)\n",
    "        - Bivariate outliers"
   ]
  },
  {
   "cell_type": "markdown",
   "id": "5a0b24a8",
   "metadata": {},
   "source": [
    "**Example 1:** Compare the `sepal_length` and `sepal_width` columns of `IRIS` dataset using **Scatter Plot**"
   ]
  },
  {
   "cell_type": "code",
   "execution_count": 40,
   "id": "ba29d2d5",
   "metadata": {},
   "outputs": [
    {
     "ename": "AttributeError",
     "evalue": "module 'statistics' has no attribute 'correlation'",
     "output_type": "error",
     "traceback": [
      "\u001b[1;31m---------------------------------------------------------------------------\u001b[0m",
      "\u001b[1;31mAttributeError\u001b[0m                            Traceback (most recent call last)",
      "\u001b[1;32m<ipython-input-40-8f7d711607eb>\u001b[0m in \u001b[0;36m<module>\u001b[1;34m\u001b[0m\n\u001b[1;32m----> 1\u001b[1;33m \u001b[0mprint\u001b[0m\u001b[1;33m(\u001b[0m\u001b[1;34m\"corr(sepal_length,sepal_width): %.2f\"\u001b[0m \u001b[1;33m%\u001b[0m\u001b[0mstatistics\u001b[0m\u001b[1;33m.\u001b[0m\u001b[0mcorrelation\u001b[0m\u001b[1;33m(\u001b[0m\u001b[0mdf_iris\u001b[0m\u001b[1;33m[\u001b[0m\u001b[1;34m'sepal_length'\u001b[0m\u001b[1;33m]\u001b[0m\u001b[1;33m,\u001b[0m \u001b[0mdf_iris\u001b[0m\u001b[1;33m[\u001b[0m\u001b[1;34m'sepal_width'\u001b[0m\u001b[1;33m]\u001b[0m\u001b[1;33m)\u001b[0m\u001b[1;33m)\u001b[0m\u001b[1;33m\u001b[0m\u001b[1;33m\u001b[0m\u001b[0m\n\u001b[0m\u001b[0;32m      2\u001b[0m \u001b[0msns\u001b[0m\u001b[1;33m.\u001b[0m\u001b[0mrelplot\u001b[0m\u001b[1;33m(\u001b[0m\u001b[0mx\u001b[0m\u001b[1;33m=\u001b[0m\u001b[1;34m'sepal_length'\u001b[0m\u001b[1;33m,\u001b[0m \u001b[0my\u001b[0m\u001b[1;33m=\u001b[0m\u001b[1;34m'sepal_width'\u001b[0m\u001b[1;33m,\u001b[0m \u001b[0mdata\u001b[0m\u001b[1;33m=\u001b[0m\u001b[0mdf_iris\u001b[0m\u001b[1;33m,\u001b[0m \u001b[0mkind\u001b[0m\u001b[1;33m=\u001b[0m\u001b[1;34m'scatter'\u001b[0m\u001b[1;33m)\u001b[0m\u001b[1;33m;\u001b[0m\u001b[1;33m\u001b[0m\u001b[1;33m\u001b[0m\u001b[0m\n",
      "\u001b[1;31mAttributeError\u001b[0m: module 'statistics' has no attribute 'correlation'"
     ]
    }
   ],
   "source": [
    "print(\"corr(sepal_length,sepal_width): %.2f\" %\n",
    "      statistics.correlation(df_iris['sepal_length'], df_iris['sepal_width']))\n",
    "sns.relplot(x='sepal_length', y='sepal_width', data=df_iris, kind='scatter');"
   ]
  },
  {
   "cell_type": "code",
   "execution_count": null,
   "id": "cc599ba3",
   "metadata": {},
   "outputs": [],
   "source": []
  },
  {
   "cell_type": "markdown",
   "id": "3caac358",
   "metadata": {},
   "source": [
    "**Example 2:** Compare the `petal_length` and `petal_width` columns of `IRIS` dataset using **Scatter Plot**"
   ]
  },
  {
   "cell_type": "code",
   "execution_count": null,
   "id": "299d0b19",
   "metadata": {},
   "outputs": [],
   "source": [
    "print(\"corr(petal_length,petal_width): %.2f\" %\n",
    "      statistics.correlation(df_iris['petal_length'], df_iris['petal_width']))\n",
    "sns.relplot(x='petal_length', y='petal_width', data=df_iris, kind='scatter');"
   ]
  },
  {
   "cell_type": "code",
   "execution_count": null,
   "id": "4251f4df",
   "metadata": {},
   "outputs": [],
   "source": []
  },
  {
   "cell_type": "markdown",
   "id": "32d9d673",
   "metadata": {},
   "source": [
    "**Example 3:** Compare the `total_bill` and `tip` columns of `TIPS` dataset using **Scatter Plot**"
   ]
  },
  {
   "cell_type": "code",
   "execution_count": null,
   "id": "a8e29cda",
   "metadata": {},
   "outputs": [],
   "source": [
    "print(\"Pearson Correlation Coefficient (r): %.2f\" %\n",
    "      statistics.correlation(df_tips.loc[:, 'total_bill'],df_tips.loc[:, 'tip']))\n",
    "\n",
    "sns.relplot(x='total_bill', y='tip', data=df_tips, kind='scatter');"
   ]
  },
  {
   "cell_type": "code",
   "execution_count": null,
   "id": "5b014e63",
   "metadata": {},
   "outputs": [],
   "source": []
  },
  {
   "cell_type": "markdown",
   "id": "d68331f4",
   "metadata": {},
   "source": [
    "**Example 4:** Check relationships using **Correlation Matrix** and **Heat Map** for the numberic columns of `TIPS` dataset"
   ]
  },
  {
   "cell_type": "code",
   "execution_count": 9,
   "id": "bd0f6170",
   "metadata": {},
   "outputs": [
    {
     "data": {
      "text/html": [
       "<div>\n",
       "<style scoped>\n",
       "    .dataframe tbody tr th:only-of-type {\n",
       "        vertical-align: middle;\n",
       "    }\n",
       "\n",
       "    .dataframe tbody tr th {\n",
       "        vertical-align: top;\n",
       "    }\n",
       "\n",
       "    .dataframe thead th {\n",
       "        text-align: right;\n",
       "    }\n",
       "</style>\n",
       "<table border=\"1\" class=\"dataframe\">\n",
       "  <thead>\n",
       "    <tr style=\"text-align: right;\">\n",
       "      <th></th>\n",
       "      <th>total_bill</th>\n",
       "      <th>tip</th>\n",
       "      <th>size</th>\n",
       "    </tr>\n",
       "  </thead>\n",
       "  <tbody>\n",
       "    <tr>\n",
       "      <th>total_bill</th>\n",
       "      <td>1.000000</td>\n",
       "      <td>0.675734</td>\n",
       "      <td>0.598315</td>\n",
       "    </tr>\n",
       "    <tr>\n",
       "      <th>tip</th>\n",
       "      <td>0.675734</td>\n",
       "      <td>1.000000</td>\n",
       "      <td>0.489299</td>\n",
       "    </tr>\n",
       "    <tr>\n",
       "      <th>size</th>\n",
       "      <td>0.598315</td>\n",
       "      <td>0.489299</td>\n",
       "      <td>1.000000</td>\n",
       "    </tr>\n",
       "  </tbody>\n",
       "</table>\n",
       "</div>"
      ],
      "text/plain": [
       "            total_bill       tip      size\n",
       "total_bill    1.000000  0.675734  0.598315\n",
       "tip           0.675734  1.000000  0.489299\n",
       "size          0.598315  0.489299  1.000000"
      ]
     },
     "execution_count": 9,
     "metadata": {},
     "output_type": "execute_result"
    }
   ],
   "source": [
    "df_tips.corr()"
   ]
  },
  {
   "cell_type": "code",
   "execution_count": 10,
   "id": "ec5f8020",
   "metadata": {},
   "outputs": [
    {
     "data": {
      "image/png": "[encoded data removed]",
      "text/plain": [
       "<Figure size 432x288 with 2 Axes>"
      ]
     },
     "metadata": {
      "needs_background": "light"
     },
     "output_type": "display_data"
    }
   ],
   "source": [
    "sns.heatmap(df_tips.corr(), annot=True);"
   ]
  },
  {
   "cell_type": "code",
   "execution_count": null,
   "id": "49130430",
   "metadata": {},
   "outputs": [],
   "source": []
  },
  {
   "cell_type": "code",
   "execution_count": null,
   "id": "fc52e236",
   "metadata": {},
   "outputs": [],
   "source": []
  },
  {
   "cell_type": "markdown",
   "id": "9793e710",
   "metadata": {},
   "source": [
    "**Example 5:** Check relationships using **Correlation Matrix** and **Heat Map** for the numberic columns of `IRIS` dataset"
   ]
  },
  {
   "cell_type": "code",
   "execution_count": 11,
   "id": "d261c122",
   "metadata": {},
   "outputs": [
    {
     "data": {
      "text/html": [
       "<div>\n",
       "<style scoped>\n",
       "    .dataframe tbody tr th:only-of-type {\n",
       "        vertical-align: middle;\n",
       "    }\n",
       "\n",
       "    .dataframe tbody tr th {\n",
       "        vertical-align: top;\n",
       "    }\n",
       "\n",
       "    .dataframe thead th {\n",
       "        text-align: right;\n",
       "    }\n",
       "</style>\n",
       "<table border=\"1\" class=\"dataframe\">\n",
       "  <thead>\n",
       "    <tr style=\"text-align: right;\">\n",
       "      <th></th>\n",
       "      <th>sepal_length</th>\n",
       "      <th>sepal_width</th>\n",
       "      <th>petal_length</th>\n",
       "      <th>petal_width</th>\n",
       "    </tr>\n",
       "  </thead>\n",
       "  <tbody>\n",
       "    <tr>\n",
       "      <th>sepal_length</th>\n",
       "      <td>1.000000</td>\n",
       "      <td>-0.117570</td>\n",
       "      <td>0.871754</td>\n",
       "      <td>0.817941</td>\n",
       "    </tr>\n",
       "    <tr>\n",
       "      <th>sepal_width</th>\n",
       "      <td>-0.117570</td>\n",
       "      <td>1.000000</td>\n",
       "      <td>-0.428440</td>\n",
       "      <td>-0.366126</td>\n",
       "    </tr>\n",
       "    <tr>\n",
       "      <th>petal_length</th>\n",
       "      <td>0.871754</td>\n",
       "      <td>-0.428440</td>\n",
       "      <td>1.000000</td>\n",
       "      <td>0.962865</td>\n",
       "    </tr>\n",
       "    <tr>\n",
       "      <th>petal_width</th>\n",
       "      <td>0.817941</td>\n",
       "      <td>-0.366126</td>\n",
       "      <td>0.962865</td>\n",
       "      <td>1.000000</td>\n",
       "    </tr>\n",
       "  </tbody>\n",
       "</table>\n",
       "</div>"
      ],
      "text/plain": [
       "              sepal_length  sepal_width  petal_length  petal_width\n",
       "sepal_length      1.000000    -0.117570      0.871754     0.817941\n",
       "sepal_width      -0.117570     1.000000     -0.428440    -0.366126\n",
       "petal_length      0.871754    -0.428440      1.000000     0.962865\n",
       "petal_width       0.817941    -0.366126      0.962865     1.000000"
      ]
     },
     "execution_count": 11,
     "metadata": {},
     "output_type": "execute_result"
    }
   ],
   "source": [
    "df_iris.corr()"
   ]
  },
  {
   "cell_type": "code",
   "execution_count": 12,
   "id": "98065d3d",
   "metadata": {},
   "outputs": [
    {
     "data": {
      "image/png": "[encoded data removed]",
      "text/plain": [
       "<Figure size 432x288 with 2 Axes>"
      ]
     },
     "metadata": {
      "needs_background": "light"
     },
     "output_type": "display_data"
    }
   ],
   "source": [
    "sns.heatmap(df_iris.corr(), annot=True);"
   ]
  },
  {
   "cell_type": "code",
   "execution_count": null,
   "id": "f63e9679",
   "metadata": {},
   "outputs": [],
   "source": []
  },
  {
   "cell_type": "markdown",
   "id": "202e22b4",
   "metadata": {},
   "source": [
    "**Example 6:** Check relationships using **Correlation Matrix** and **Heat Map** for the numeric columns of `TITANIC` dataset"
   ]
  },
  {
   "cell_type": "code",
   "execution_count": 13,
   "id": "ad0d9951",
   "metadata": {},
   "outputs": [
    {
     "data": {
      "text/html": [
       "<div>\n",
       "<style scoped>\n",
       "    .dataframe tbody tr th:only-of-type {\n",
       "        vertical-align: middle;\n",
       "    }\n",
       "\n",
       "    .dataframe tbody tr th {\n",
       "        vertical-align: top;\n",
       "    }\n",
       "\n",
       "    .dataframe thead th {\n",
       "        text-align: right;\n",
       "    }\n",
       "</style>\n",
       "<table border=\"1\" class=\"dataframe\">\n",
       "  <thead>\n",
       "    <tr style=\"text-align: right;\">\n",
       "      <th></th>\n",
       "      <th>pclass</th>\n",
       "      <th>survived</th>\n",
       "      <th>age</th>\n",
       "      <th>sibsp</th>\n",
       "      <th>parch</th>\n",
       "      <th>fare</th>\n",
       "      <th>body</th>\n",
       "    </tr>\n",
       "  </thead>\n",
       "  <tbody>\n",
       "    <tr>\n",
       "      <th>pclass</th>\n",
       "      <td>1.000000</td>\n",
       "      <td>-0.312469</td>\n",
       "      <td>-0.408106</td>\n",
       "      <td>0.060832</td>\n",
       "      <td>0.018322</td>\n",
       "      <td>-0.558629</td>\n",
       "      <td>-0.034642</td>\n",
       "    </tr>\n",
       "    <tr>\n",
       "      <th>survived</th>\n",
       "      <td>-0.312469</td>\n",
       "      <td>1.000000</td>\n",
       "      <td>-0.055513</td>\n",
       "      <td>-0.027825</td>\n",
       "      <td>0.082660</td>\n",
       "      <td>0.244265</td>\n",
       "      <td>NaN</td>\n",
       "    </tr>\n",
       "    <tr>\n",
       "      <th>age</th>\n",
       "      <td>-0.408106</td>\n",
       "      <td>-0.055513</td>\n",
       "      <td>1.000000</td>\n",
       "      <td>-0.243699</td>\n",
       "      <td>-0.150917</td>\n",
       "      <td>0.178739</td>\n",
       "      <td>0.058809</td>\n",
       "    </tr>\n",
       "    <tr>\n",
       "      <th>sibsp</th>\n",
       "      <td>0.060832</td>\n",
       "      <td>-0.027825</td>\n",
       "      <td>-0.243699</td>\n",
       "      <td>1.000000</td>\n",
       "      <td>0.373587</td>\n",
       "      <td>0.160238</td>\n",
       "      <td>-0.099961</td>\n",
       "    </tr>\n",
       "    <tr>\n",
       "      <th>parch</th>\n",
       "      <td>0.018322</td>\n",
       "      <td>0.082660</td>\n",
       "      <td>-0.150917</td>\n",
       "      <td>0.373587</td>\n",
       "      <td>1.000000</td>\n",
       "      <td>0.221539</td>\n",
       "      <td>0.051099</td>\n",
       "    </tr>\n",
       "    <tr>\n",
       "      <th>fare</th>\n",
       "      <td>-0.558629</td>\n",
       "      <td>0.244265</td>\n",
       "      <td>0.178739</td>\n",
       "      <td>0.160238</td>\n",
       "      <td>0.221539</td>\n",
       "      <td>1.000000</td>\n",
       "      <td>-0.043110</td>\n",
       "    </tr>\n",
       "    <tr>\n",
       "      <th>body</th>\n",
       "      <td>-0.034642</td>\n",
       "      <td>NaN</td>\n",
       "      <td>0.058809</td>\n",
       "      <td>-0.099961</td>\n",
       "      <td>0.051099</td>\n",
       "      <td>-0.043110</td>\n",
       "      <td>1.000000</td>\n",
       "    </tr>\n",
       "  </tbody>\n",
       "</table>\n",
       "</div>"
      ],
      "text/plain": [
       "            pclass  survived       age     sibsp     parch      fare      body\n",
       "pclass    1.000000 -0.312469 -0.408106  0.060832  0.018322 -0.558629 -0.034642\n",
       "survived -0.312469  1.000000 -0.055513 -0.027825  0.082660  0.244265       NaN\n",
       "age      -0.408106 -0.055513  1.000000 -0.243699 -0.150917  0.178739  0.058809\n",
       "sibsp     0.060832 -0.027825 -0.243699  1.000000  0.373587  0.160238 -0.099961\n",
       "parch     0.018322  0.082660 -0.150917  0.373587  1.000000  0.221539  0.051099\n",
       "fare     -0.558629  0.244265  0.178739  0.160238  0.221539  1.000000 -0.043110\n",
       "body     -0.034642       NaN  0.058809 -0.099961  0.051099 -0.043110  1.000000"
      ]
     },
     "execution_count": 13,
     "metadata": {},
     "output_type": "execute_result"
    }
   ],
   "source": [
    "df_titanic.corr()"
   ]
  },
  {
   "cell_type": "code",
   "execution_count": 14,
   "id": "73705ddd",
   "metadata": {},
   "outputs": [
    {
     "data": {
      "image/png": "[encoded data removed]",
      "text/plain": [
       "<Figure size 432x288 with 2 Axes>"
      ]
     },
     "metadata": {
      "needs_background": "light"
     },
     "output_type": "display_data"
    }
   ],
   "source": [
    "sns.heatmap(df_titanic.corr(), annot=True);"
   ]
  },
  {
   "cell_type": "code",
   "execution_count": null,
   "id": "d4ee3c1f",
   "metadata": {},
   "outputs": [],
   "source": []
  },
  {
   "cell_type": "code",
   "execution_count": null,
   "id": "aa6ca197",
   "metadata": {},
   "outputs": [],
   "source": []
  },
  {
   "cell_type": "markdown",
   "id": "317104f6",
   "metadata": {},
   "source": [
    "[Guided Project_Investigating Fandango Movie](https://github.com/AnshuTrivedi/Data-Scientist-In-Python/blob/master/Projects/step_5/1.statistics%20fundamentals/Guided%20Project_Investigating%20Fandango%20Movie%20Ratings.ipynb)\n",
    "\n",
    "**In October 2015, Walt Hickey from FiveThirtyEight published a popular article where he presented strong evidence which suggest that Fandango's movie rating system was biased and dishonest. In this project, we'll analyze more recent movie ratings data to determine whether there has been any change in Fandango's rating system after Hickey's analysis.**"
   ]
  },
  {
   "cell_type": "code",
   "execution_count": null,
   "id": "1607cbad",
   "metadata": {},
   "outputs": [],
   "source": []
  },
  {
   "cell_type": "markdown",
   "id": "d63b3228",
   "metadata": {},
   "source": [
    "[Finding the Best Two Markets to Advertise In](https://github.com/AnshuTrivedi/Data-Scientist-In-Python/blob/master/Projects/step_5/2.statictics%20intermediate/Guided%20Project_Finding%20the%20Best%20Markets%20to%20Advertise%20In.ipynb)\n",
    "\n",
    "**In this project, we'll aim to find the two best markets to advertise our product in — we're working for an e-learning company that offers courses on programming. Most of our courses are on web and mobile development, but we also cover many other domains, like data science, game development, etc.**"
   ]
  },
  {
   "cell_type": "code",
   "execution_count": null,
   "id": "7d0328c2",
   "metadata": {},
   "outputs": [],
   "source": []
  },
  {
   "cell_type": "code",
   "execution_count": null,
   "id": "da15f926",
   "metadata": {},
   "outputs": [],
   "source": []
  },
  {
   "cell_type": "code",
   "execution_count": null,
   "id": "0b238af9",
   "metadata": {},
   "outputs": [],
   "source": []
  }
 ],
 "metadata": {
  "kernelspec": {
   "display_name": "Python 3 (ipykernel)",
   "language": "python",
   "name": "python3"
  },
  "language_info": {
   "codemirror_mode": {
    "name": "ipython",
    "version": 3
   },
   "file_extension": ".py",
   "mimetype": "text/x-python",
   "name": "python",
   "nbconvert_exporter": "python",
   "pygments_lexer": "ipython3",
   "version": "3.8.10"
  }
 },
 "nbformat": 4,
 "nbformat_minor": 5
}
