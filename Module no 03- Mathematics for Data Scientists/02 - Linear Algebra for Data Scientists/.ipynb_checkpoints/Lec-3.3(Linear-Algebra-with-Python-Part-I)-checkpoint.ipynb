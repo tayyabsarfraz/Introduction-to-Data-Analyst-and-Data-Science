{
 "cells": [
  {
   "cell_type": "markdown",
   "id": "cab29875",
   "metadata": {},
   "source": [
    "---   \n",
    "\n",
    "<h1 align=\"center\">Introduction to Data Analyst and Data Science for beginners</h1>\n",
    "<h1 align=\"center\">Lecture 3.3 (Linear Algebra for Machine Learning: Part-I)</h1>\n",
    "\n",
    "---\n",
    "<h3><div align=\"right\">Ehtisham Sadiq</div></h3>    "
   ]
  },
  {
   "cell_type": "code",
   "execution_count": null,
   "id": "f8f917ec",
   "metadata": {},
   "outputs": [],
   "source": []
  },
  {
   "cell_type": "markdown",
   "id": "a5b1241b",
   "metadata": {},
   "source": [
    "### All Linear Algebra practice exercies all availabel at this link\n",
    "##### [Linear Algebra with Applications Subtitle:An adaptation for MAT223 UTM](https://ecampusontario.pressbooks.pub/linearalgebrautm/)"
   ]
  },
  {
   "cell_type": "code",
   "execution_count": null,
   "id": "b17c3312",
   "metadata": {},
   "outputs": [],
   "source": []
  },
  {
   "cell_type": "code",
   "execution_count": null,
   "id": "585d8ee8",
   "metadata": {},
   "outputs": [],
   "source": []
  },
  {
   "cell_type": "markdown",
   "id": "c9fff9cb",
   "metadata": {},
   "source": [
    "<img align=\"left\" width=\"350\" height=\"300\"  src=\"images/ds1.png\"  >\n",
    "<img align=\"center\" width=\"400\" height=\"250\"  src=\"images/mathsandstat.jpeg\"  >"
   ]
  },
  {
   "cell_type": "markdown",
   "id": "47900344",
   "metadata": {},
   "source": [
    "<img align=\"center\" width=\"900\" height=\"250\"  src=\"images/mathimg1.png\"  >"
   ]
  },
  {
   "cell_type": "markdown",
   "id": "e996a5d6",
   "metadata": {},
   "source": [
    "## Learning agenda of this notebook\n",
    "\n",
    "**Section I: (Overview of Linear Algebra: Vectors)**\n",
    "1. Overview of Vectors \n",
    "    - Scalars vs Vectors\n",
    "    - Mathematical and Graphical Representation of Vectors in $\\mathbb{R}^2$\n",
    "    - Mathematical and Graphical Representation of Vectors in $\\mathbb{R}^3$\n",
    "    - Hands on Implementation in Python    \n",
    "2. Magnitude of a Vector (Vector Norms)\n",
    "3. Direction of a Vector\n",
    "4. Components of a Vector\n",
    "    - Components of a Vector in $\\mathbb{R}^2$\n",
    "    - Components of a Vector in $\\mathbb{R}^3$\n",
    "5. Two Fundamental Vector Operations\n",
    "    - Vector Addition\n",
    "    - Multiplying a Vector with Scalar value\n",
    "6. Basis and Unit Vectors\n",
    "7. Linear combination and Span of Vectors\n",
    "8. Vector to Vector Multiplication\n",
    "    - Vector Dot Product\n",
    "    - Vector Cross Product\n",
    "\n",
    "**Section II: (Overview of Linear Alagebra: Matrices)**\n",
    "1. Overview of Matrices\n",
    "2. Matrices and its Types\n",
    "    - Row Vector\n",
    "    - Column Vector\n",
    "    - Zero Matrix\n",
    "    - Ones Matrix\n",
    "    - Random Integer Matrix\n",
    "    - Square Matrix\n",
    "    - Symmetric Matrix\n",
    "    - Triangular Matrix\n",
    "    - Diagonal Matrix\n",
    "    - Identity Matrix\n",
    "    - Scalar Matrix\n",
    "    - Orthogonal Matrix\n",
    "3. Matrix Operations\n",
    "    - Matrix Addition\n",
    "    - Matrix-Scalar Multiplication\n",
    "    - Matrix Multiplication (Hadamard Product)\n",
    "    - Matrix Multiplication (Dot Product)\n",
    "    - Matrix-Vector Multiplication\n",
    "    - Frobenius Norms\n",
    "    - Transpose of a Matrix\n",
    "    - Determinant of a Matrix\n",
    "    - Inverse of a Matrix\n",
    "    - Trace of a Matrix\n",
    "    - Rank of a Matrix\n",
    "\n",
    "**Section III: (Solving System of Linear Equations)**\n",
    "1. An overview of Linear Equations\n",
    "    - What is a Linear Equation?\n",
    "    - What is a system of Linear Equations?\n",
    "2. How to solve a system of Linear Equations?\n",
    "    - Substitution strategy\n",
    "    - Elimination strategy\n",
    "    - Graphing strategy\n",
    "    - Consistent vs Inconsistent System of Linear Equations\n",
    "    - Plotting a Linear Equation with Three Variables\n",
    "    - Solving set of Three Linear Equations with Three variables\n",
    "3. Solving System of Linear Equations using Matrix Algebra\n",
    "    - Writing a system of Linear Equations in Matrix form\n",
    "    - Solving system of Linear Equations using Gaussian Elimination Method\n",
    "    - Solving system of Linear Equations using Gauss Jordan Method\n",
    "    - Solving system of Linear Equations using Cramer's Rule\n",
    "    - Solving system of Linear Equations using Matrix Inverse Method\n",
    "    - Limitations of Matrix Inversion Method\n",
    "4. Categories of System of Linear Equations\n",
    "    - Standard systems\n",
    "    - Overdetermined systems\n",
    "    - Underdetermined systems\n",
    "5. Solving Inconsistent Overdetermined System of Linear Equations using Least Squares Method\n",
    "    - Modeling Linear Equations in Machine Learning with `2` variables\n",
    "    - Modeling Linear Equations in Machine Learning with `m` variables\n",
    "    - Simple Linear Regression using Least Squares Method\n",
    "    - Multiple Linear Regression using Ordinary Least Squares (OLS) Method\n",
    "\n",
    "\n",
    "**Section IV: (Linear Transformation and Matrices)**\n",
    "\n",
    "**Section V:  (Eigen Decomposition and its Applications)**\n",
    "\n",
    "**Section VI: (Singular Value Decomposition and its Applications)**"
   ]
  },
  {
   "cell_type": "code",
   "execution_count": null,
   "id": "d787763a",
   "metadata": {},
   "outputs": [],
   "source": [
    "# Unlike the other modules, we have been working so far, you have to download and install...\n",
    "# To install this library in Jupyter notebook\n",
    "import sys\n",
    "!{sys.executable} -m pip install -q --upgrade pip"
   ]
  },
  {
   "cell_type": "code",
   "execution_count": 1,
   "id": "3587d30f",
   "metadata": {},
   "outputs": [],
   "source": [
    "import numpy as np\n",
    "import numpy.linalg\n",
    "import math\n",
    "import scipy\n",
    "from matplotlib import pyplot as plt\n",
    "from plot_helper import * # Helper functions: plot_vector, plot_linear_transformation, plot_linear_transformations"
   ]
  },
  {
   "cell_type": "markdown",
   "id": "02af6b34",
   "metadata": {},
   "source": [
    "# <span style='background :lightgreen' > Section 1: (Overview of Linear Alagebra: Vectors) </span>\n",
    "Some of the codes of this notebook are adapted from:\n",
    "- [Jon Krohn's](https://github.com/jonkrohn).\n",
    "- [Frank Cleary's](https://gist.github.com/frankcleary).\n",
    "- [Engineers Code](https://github.com/engineersCode/EngComp4_landlinear)."
   ]
  },
  {
   "cell_type": "markdown",
   "id": "1feba2dc",
   "metadata": {},
   "source": [
    "## 1. Overview of Vectors"
   ]
  },
  {
   "cell_type": "markdown",
   "id": "e9a72e17",
   "metadata": {},
   "source": [
    "### a. Scalar vs Vectors\n",
    "\n",
    "- A quantity that has magnitude but no particular direction is called scalar. For example, length, speed, mass, density, pressure, work, power, temperature, area, volume.\n",
    "- A quantity that has magnitude as well as direction is called vector. For example, displacement, velocity, weight, force.\n",
    "- For example, to describe a body’s velocity completely, we will have to mention its magnitude and direction. This means that we will have to mention how fast it is going in terms of distance covered per unit time and describe what direction it is headed. So, if we say a car is moving at 40 km/hr. This statement only describes the speed of the body. If someone says a car is moving at 40 km/hr and is headed North. This statement is describing the velocity of the car. It tells us the magnitude by which the car is moving and the direction in which it is headed.\n",
    "\n",
    "<img align=\"right\" width=\"400\" height=\"400\"  src=\"images/LA/whatsavector.png\"  >\n",
    "\n",
    "- We come accross the concept of vectors in the domains of physics, engineering, mathematics, computer science and more. Each field's interpretation of what a vector is a bit different:\n",
    "     - In **physics**, we represent a vector as an arrow of specific length, representing its magnitude; and drawn at a specific angle, representing its direction. It can represent directional quantities like velocity, force, acceleration.\n",
    "     - In **computer science**, a vector is an ordered list of numbers, stored in order. For example the price, area and number of bedrooms in a house. Or may be the age, weight and blood pressure of a person.\n",
    "     - In **mathematics**, vectors are generic objects that behave in a certain way, when they are added or scaled:  $\\mathbf{u}+\\mathbf{v}$, $\\alpha\\mathbf{v}$.\n",
    "\n",
    "- Vectors can be 2-dimensional, 3-dimensional and so on to N-dimensional. The two and three dimensional vecgtors are pretty easy to visualize. If we are able to understand and visualize the vector operations in 2-dimensions, we can map the concepts to larger dimensions as well. For example, to model the age, weight, daily hours of sleep, weekly hours of exercise, and blood pressure of an individual, we need a five dimensional vector."
   ]
  },
  {
   "cell_type": "code",
   "execution_count": null,
   "id": "931c5502",
   "metadata": {},
   "outputs": [],
   "source": []
  },
  {
   "cell_type": "code",
   "execution_count": null,
   "id": "a29bf5e9",
   "metadata": {},
   "outputs": [],
   "source": []
  },
  {
   "cell_type": "markdown",
   "id": "ae5c7095",
   "metadata": {},
   "source": [
    "### b. Mathematical and Graphical Representation of Vectors in $\\mathbb{R}^2$\n",
    "#### Algebraically\n",
    "- Algebraically, vectors are often represented using a lowercase character, having comma separated list of numbers written horizontally or may be numbers written from top to bottom. \n",
    "- The **length** of the vector is the number of scalar values in the vector, and is also called the `order/rank/degree/dimension of the vector`. \n",
    "- For example, in $\\mathbb{R}2$ space, algebraically a vector $\\overrightarrow{\\rm v}$ can be written as:<br>\n",
    "\n",
    "$\\hspace{2 cm}\\overrightarrow{\\rm v} = (a, b) = \\begin{bmatrix} a \\\\ b \\end{bmatrix} \\hspace{2 cm}\\overrightarrow{\\rm v} = (2, 5) = \\begin{bmatrix} 2 \\\\ 5 \\end{bmatrix}$\n",
    "\n",
    "$\\hspace{2 cm}\\overrightarrow{\\rm v} = a\\hat{i} +  b\\hat{j} \\hspace{3 cm} \\overrightarrow{\\rm v} = 2\\hat{i} +  5\\hat{j}$\n",
    "\n",
    "$\\hspace{2 cm}\\overrightarrow{\\rm v} = a\\begin{bmatrix} 1 \\\\ 0  \\end{bmatrix} +  b\\begin{bmatrix} 0 \\\\ 1 \\end{bmatrix} \\hspace{1.5 cm} \\overrightarrow{\\rm v} = 2\\begin{bmatrix} 1 \\\\ 0 \\end{bmatrix} +  5\\begin{bmatrix} 0 \\\\ 1 \\end{bmatrix} $\n",
    "\n",
    "\n",
    "\n",
    "#### Graphically/Geometrically\n",
    "- One can think of a vector as a point in space. Graphically/Geometrically, vectors can be represented by a directed line segment in cartesian coordniate system, whose length is the magnitude of the vector and the angle represents its direction.\n",
    "\n",
    "<img align=\"left\" width=\"300\" height=\"300\"  src=\"images/LA/2DCoordinates.png\"  >\n",
    "\n",
    "<img align=\"right\" width=\"500\" height=\"500\"  src=\"images/LA/translate.png\"  >\n"
   ]
  },
  {
   "cell_type": "code",
   "execution_count": null,
   "id": "67dbbc98",
   "metadata": {},
   "outputs": [],
   "source": []
  },
  {
   "cell_type": "code",
   "execution_count": null,
   "id": "d64aded7",
   "metadata": {},
   "outputs": [],
   "source": []
  },
  {
   "cell_type": "markdown",
   "id": "d31de3ff",
   "metadata": {},
   "source": [
    "### c. Mathematical and Graphical Representation of Vectors in $\\mathbb{R}^3$\n",
    "\n",
    "#### Algebraically\n",
    "\n",
    "- Algebraically, vectors of rank 3 consists of three scalar values written as comma separated list of numbers horizontally or may be from top to bottom. \n",
    "- The **length** of the vector is the number of scalar values in the vector, and is also called the `order/rank/degree/dimension of the vector`, in this case it is three. \n",
    "\n",
    "- Algebraically, in $\\mathbb{R}3$ space, a vector $\\overrightarrow{\\rm v}$ can be written as:<br>\n",
    "\n",
    "$\\hspace{2 cm}\\overrightarrow{\\rm v} = (a, b, c) = \\begin{bmatrix} a \\\\ b \\\\ c \\end{bmatrix} \\hspace{5 cm}\\overrightarrow{\\rm v} = (2, 5, 3) = \\begin{bmatrix} 2 \\\\ 5 \\\\ 3 \\end{bmatrix}$\n",
    "\n",
    "$\\hspace{2 cm}\\overrightarrow{\\rm v} = a\\hat{i} +  b\\hat{j} +  c\\hat{k} \\hspace{5 cm} \\overrightarrow{\\rm v} = 2\\hat{i} +  5\\hat{j} +  3\\hat{k}$\n",
    "\n",
    "$\\hspace{2 cm}\\overrightarrow{\\rm v} = a\\begin{bmatrix} 1 \\\\ 0 \\\\0 \\end{bmatrix} +  b\\begin{bmatrix} 0 \\\\ 1 \\\\0 \\end{bmatrix} +  c\\begin{bmatrix} 0 \\\\ 0 \\\\1 \\end{bmatrix} \\hspace{3 cm} \\overrightarrow{\\rm v} = 2\\begin{bmatrix} 1 \\\\ 0 \\\\0 \\end{bmatrix} +  5\\begin{bmatrix} 0 \\\\ 1 \\\\0 \\end{bmatrix} +  3\\begin{bmatrix} 0 \\\\ 0 \\\\1 \\end{bmatrix}$\n",
    "\n",
    "\n",
    "\n",
    "<img align=\"right\" width=\"300\" height=\"300\"  src=\"images/LA/vectorin3d.png\"  >\n",
    "\n",
    "#### Graphically/Geometrically\n",
    "- A 3-D coordinate system has 3 dimensions or can be regarded as having 3 perpendicular axes: x, y, and z-axes. Such a system is called a 3-dimensional rectangular coordinate system.\n",
    "- Note, the third axis is the Z-axis, and all the three axis are perpedicular to each other.\n",
    "- The vector $\\overrightarrow{\\rm v}$ is shown in bold red having its three components a, b and c along the x, y and z axis respectively.\n",
    "- We can visualize vectors upto three dimensions, however, beyond three dimensions, we normally use algebraic notations."
   ]
  },
  {
   "cell_type": "code",
   "execution_count": null,
   "id": "6f5e3581",
   "metadata": {},
   "outputs": [],
   "source": []
  },
  {
   "cell_type": "code",
   "execution_count": null,
   "id": "f07fe69d",
   "metadata": {},
   "outputs": [],
   "source": []
  },
  {
   "cell_type": "markdown",
   "id": "a5c1609d",
   "metadata": {},
   "source": [
    "### d. Hands on Implementation in Python"
   ]
  },
  {
   "cell_type": "markdown",
   "id": "67bbd2fb",
   "metadata": {},
   "source": [
    "**Example 1:** Creating Vector $[3,2]$ having tail at origin"
   ]
  },
  {
   "cell_type": "code",
   "execution_count": 2,
   "id": "6e03dde5",
   "metadata": {},
   "outputs": [
    {
     "data": {
      "image/png": "[encoded data removed]",
      "text/plain": [
       "<Figure size 400x400 with 1 Axes>"
      ]
     },
     "metadata": {
      "needs_background": "light"
     },
     "output_type": "display_data"
    }
   ],
   "source": [
    "# To better visualize and plot, you need to import following module/script having three helper functions\n",
    "# plot_vector(), plot_linear_transformation, plot_linear_transformations\n",
    "from plot_helper import *\n",
    "v = [(3,2)]        # A list having a single tuple of two elements representing x and y component of vector\n",
    "plot_vector(v)"
   ]
  },
  {
   "cell_type": "code",
   "execution_count": null,
   "id": "35d7f2c2",
   "metadata": {},
   "outputs": [],
   "source": []
  },
  {
   "cell_type": "code",
   "execution_count": null,
   "id": "6ac6d23d",
   "metadata": {},
   "outputs": [],
   "source": []
  },
  {
   "cell_type": "markdown",
   "id": "b0bf4944",
   "metadata": {},
   "source": [
    "**Example 2:** Creating four vectors, one in each quadrant having their tails at origin"
   ]
  },
  {
   "cell_type": "code",
   "execution_count": 3,
   "id": "0803a471",
   "metadata": {},
   "outputs": [
    {
     "data": {
      "image/png": "[encoded data removed]",
      "text/plain": [
       "<Figure size 400x400 with 1 Axes>"
      ]
     },
     "metadata": {
      "needs_background": "light"
     },
     "output_type": "display_data"
    }
   ],
   "source": [
    "v = [(3, 3), (-3, 1), (-3,-2),(3,-2)]  # A list having four tuples of two elements each\n",
    "plot_vector(v)      "
   ]
  },
  {
   "cell_type": "code",
   "execution_count": null,
   "id": "b6416bda",
   "metadata": {},
   "outputs": [],
   "source": []
  },
  {
   "cell_type": "code",
   "execution_count": null,
   "id": "9b04b345",
   "metadata": {},
   "outputs": [],
   "source": []
  },
  {
   "cell_type": "code",
   "execution_count": null,
   "id": "fca3177e",
   "metadata": {},
   "outputs": [],
   "source": []
  },
  {
   "cell_type": "code",
   "execution_count": null,
   "id": "f40487e5",
   "metadata": {},
   "outputs": [],
   "source": []
  },
  {
   "cell_type": "code",
   "execution_count": null,
   "id": "0b086a9c",
   "metadata": {},
   "outputs": [],
   "source": []
  },
  {
   "cell_type": "code",
   "execution_count": null,
   "id": "013ac5c4",
   "metadata": {},
   "outputs": [],
   "source": []
  },
  {
   "cell_type": "code",
   "execution_count": null,
   "id": "4930cb5d",
   "metadata": {},
   "outputs": [],
   "source": []
  },
  {
   "cell_type": "code",
   "execution_count": null,
   "id": "214668e1",
   "metadata": {},
   "outputs": [],
   "source": []
  },
  {
   "cell_type": "markdown",
   "id": "a25e6cd6",
   "metadata": {},
   "source": [
    "**Example 3:** Creating a vector $[4,3]$ having its tail at $[2,2]$"
   ]
  },
  {
   "cell_type": "code",
   "execution_count": 4,
   "id": "8b380e5c",
   "metadata": {},
   "outputs": [
    {
     "data": {
      "image/png": "[encoded data removed]",
      "text/plain": [
       "<Figure size 400x400 with 1 Axes>"
      ]
     },
     "metadata": {
      "needs_background": "light"
     },
     "output_type": "display_data"
    }
   ],
   "source": [
    "v = [(4,3)]     # A list having a single tuple of two elements representing x and y component of vector\n",
    "tail = [(2,2)]   # A list having a single tuple of two elements representing tail of vector\n",
    "plot_vector(v, tail) "
   ]
  },
  {
   "cell_type": "code",
   "execution_count": null,
   "id": "3ad3084f",
   "metadata": {},
   "outputs": [],
   "source": []
  },
  {
   "cell_type": "code",
   "execution_count": null,
   "id": "a546bca2",
   "metadata": {},
   "outputs": [],
   "source": []
  },
  {
   "cell_type": "code",
   "execution_count": null,
   "id": "5f370fa4",
   "metadata": {},
   "outputs": [],
   "source": []
  },
  {
   "cell_type": "code",
   "execution_count": null,
   "id": "1b3ca7f0",
   "metadata": {},
   "outputs": [],
   "source": []
  },
  {
   "cell_type": "code",
   "execution_count": null,
   "id": "6e4bfb15",
   "metadata": {},
   "outputs": [],
   "source": []
  },
  {
   "cell_type": "code",
   "execution_count": null,
   "id": "aa759796",
   "metadata": {},
   "outputs": [],
   "source": []
  },
  {
   "cell_type": "markdown",
   "id": "f752bf36",
   "metadata": {},
   "source": [
    "**Example 4:** Three vectors with their tails at $[2,2]$"
   ]
  },
  {
   "cell_type": "code",
   "execution_count": 5,
   "id": "ed46f809",
   "metadata": {},
   "outputs": [
    {
     "data": {
      "image/png": "[encoded data removed]",
      "text/plain": [
       "<Figure size 400x400 with 1 Axes>"
      ]
     },
     "metadata": {
      "needs_background": "light"
     },
     "output_type": "display_data"
    }
   ],
   "source": [
    "v = [(1, 3), (3, 3), (4, 6)]   # A list having three tuples of two elements each\n",
    "tail = [(2, 2)]                # A list having a single tuple of two elements\n",
    "plot_vector(v, tail) "
   ]
  },
  {
   "cell_type": "markdown",
   "id": "06d4f1f8",
   "metadata": {},
   "source": [
    "**Example 5:** Three vectors with different tails"
   ]
  },
  {
   "cell_type": "code",
   "execution_count": 6,
   "id": "651555b0",
   "metadata": {},
   "outputs": [
    {
     "data": {
      "image/png": "[encoded data removed]",
      "text/plain": [
       "<Figure size 400x400 with 1 Axes>"
      ]
     },
     "metadata": {
      "needs_background": "light"
     },
     "output_type": "display_data"
    }
   ],
   "source": [
    "v = [(1, 3), (4, 4), (4, 6)]\n",
    "tails = [(3, 2), (-6, -6), (-1, 2)]\n",
    "plot_vector(v, tails)  "
   ]
  },
  {
   "cell_type": "markdown",
   "id": "76b365aa",
   "metadata": {},
   "source": [
    "**Example 6:** Translate above three vectors to origin"
   ]
  },
  {
   "cell_type": "code",
   "execution_count": 7,
   "id": "d7b8fade",
   "metadata": {},
   "outputs": [
    {
     "data": {
      "image/png": "[encoded data removed]",
      "text/plain": [
       "<Figure size 400x400 with 1 Axes>"
      ]
     },
     "metadata": {
      "needs_background": "light"
     },
     "output_type": "display_data"
    }
   ],
   "source": [
    "v = [(1, 3), (4, 4), (4, 6)]\n",
    "tails = [(0, 0), (0, 0), (0, 0)]\n",
    "plot_vector(v, tails)  "
   ]
  },
  {
   "cell_type": "code",
   "execution_count": null,
   "id": "e0fad88f",
   "metadata": {},
   "outputs": [],
   "source": []
  },
  {
   "cell_type": "markdown",
   "id": "4bc71cee",
   "metadata": {},
   "source": [
    "## 2. Magnitude of a Vector (Vector Norms)\n",
    "- The length of a vector is a `non-negative` number that describes the extent of the vector in space, and is sometimes referred to as the vector’s magnitude or the norm.\n",
    "- We can compute the magnitude of a 2-dimensional, 3-dimensional and so on to a n-dimensional vector using two ways:\n",
    "    - By graphically drawing the vector in a coordinate system\n",
    "    - By using different Vector Norms.\n",
    "\n",
    "\n",
    "\n",
    "####  L<sup>2</sup> Norm\n",
    "- The most commonly used Norm that is used to calculate the magnitude of a vector is L<sup>2</sup> Norm.\n",
    "- The L<sup>2</sup> norm calculates the distance of the vector coordinate from the origin of the vector space. As such, it is also known as the `Euclidean norm` as it is calculated as the `Euclidean distance from the origin`. The result is a `positive` distance value. \n",
    "- The L<sup>2</sup> norm is calculated as the `square root` of the sum of the squared vector values.\n",
    "\n",
    "<h3 align=\"center\">      $\\left\\lVert  x \\right\\rVert_2$   $=$   $\\sqrt{\\sum_{i=1}^n x_i^2}$        </h3>\n",
    "\n",
    "\n",
    "#### Squared L<sup>2</sup> Norm\n",
    "- The squared L<sup>2</sup> Norm is computationally cheaper to use as compared to L<sup>2</sup> Norm.\n",
    "- The squared L<sup>2</sup> Norm equals to the dot product of a vector with its transpose.\n",
    "- The squared L<sup>2</sup> norm is calculated as the sum of the squared vector values.\n",
    "\n",
    "<h3 align=\"center\">      $\\left\\lVert  x \\right\\rVert_2$   $=$   $\\sum_{i=1}^n x_i^2$        </h3>\n",
    "\n",
    "\n",
    "\n",
    "\n",
    "####  L<sup>1</sup> Norm\n",
    "- Another way to calculate the magnitude of a vector is using the L<sup>1</sup> Norm. \n",
    "- The L<sup>1</sup> norm is calculated as the sum of the absolute vector values. The L<sup>1</sup> norm  is also known as `taxicab norm` or the `Manhattan norm`.\n",
    "- In several machine learning applications, it is important to discriminate between elements that are exactly zero and elements that are small but nonzero. In such cases, we use the L<sup>1</sup> norm.\n",
    "\n",
    "<h3 align=\"center\">      $\\left\\lVert  x \\right\\rVert_1$   $=$   $\\sum_{i=1}^n |x_i|$        </h3>\n",
    "\n",
    "\n",
    "\n",
    "\n",
    "\n",
    "####   Max Norm (L<sup>∞</sup>)\n",
    "- The length of a vector can be calculated using the maximum norm, also called max norm (L<sup>∞</sup>). Max norm of a vector is referred to as (L<sup>∞</sup>)\n",
    "- The max norm is calculated as returning the `maximum value` of the vector, hence the name.\n",
    "\n",
    "<h3 align=\"center\">      $\\left\\lVert  x \\right\\rVert_∞$   $=$   $\\max_{i=1}^n$ $|x_i|$        </h3>"
   ]
  },
  {
   "cell_type": "markdown",
   "id": "6720f730",
   "metadata": {},
   "source": [
    "###  Check your Concepts\n",
    "Determine the magnitude of following vectors:<br>\n",
    "- X = 20m, North\n",
    "- A = (-1, -2/3)\n",
    "- F = (4, 10)\n",
    "- V = (2, 5, 3)\n",
    "- T = (0, 2, -1)\n",
    "- $\\overrightarrow{\\rm AB}$ whose starting point is at A = (-1,0, 3) and ending point is B = (5,2,0)"
   ]
  },
  {
   "cell_type": "markdown",
   "id": "e801198b",
   "metadata": {},
   "source": [
    "###  Hands on Implementation in Python\n",
    "**Example:** Determine the magnitude of vector $\\overrightarrow{\\rm AB}$ whose starting point is at $A = (-2, 2)$ and ending point is $B = (2, 8)$"
   ]
  },
  {
   "cell_type": "code",
   "execution_count": 8,
   "id": "dc512cf2",
   "metadata": {},
   "outputs": [
    {
     "name": "stdout",
     "output_type": "stream",
     "text": [
      "v =  [4 6]\n",
      "L1 Norm =  10\n",
      "L2 Norm =  7.211102550927978\n",
      "Squared L2 Norm =  52\n",
      "L∞ =  6\n"
     ]
    },
    {
     "data": {
      "image/png": "[encoded data removed]",
      "text/plain": [
       "<Figure size 400x400 with 1 Axes>"
      ]
     },
     "metadata": {
      "needs_background": "light"
     },
     "output_type": "display_data"
    }
   ],
   "source": [
    "import numpy as np\n",
    "# Translating the vector to origin\n",
    "a = np.array([-2, 2])\n",
    "b = np.array([2, 8]) \n",
    "v = np.array([b[0]-a[0], b[1]-a[1]])   # v = (4,6)\n",
    "\n",
    "# Plotting both the vectors\n",
    "vectors = [v, v ]        # A list having two vectors\n",
    "tails = [[-2,2], [0,0]]\n",
    "plot_vector(vectors, tails)  \n",
    "\n",
    "print(\"v = \", v)\n",
    "# calculating L1 norm\n",
    "l1 = numpy.linalg.norm(v, ord=1)\n",
    "l1 = np.abs(v[0]) + np.abs(v[1])\n",
    "print(\"L1 Norm = \",l1)\n",
    "\n",
    "# calculating L2 norm\n",
    "l2 = numpy.linalg.norm(v, ord=2)\n",
    "l2 = (v[0]**2 + v[1]**2 )**(1/2)\n",
    "print(\"L2 Norm = \",l2)\n",
    "\n",
    "# calculating Squared L2 norm\n",
    "sq_l2 = (numpy.linalg.norm(v, ord=2))**2\n",
    "sq_l2 = (v[0]**2 + v[1]**2 )\n",
    "print(\"Squared L2 Norm = \",sq_l2)\n",
    "\n",
    "# calculating Max norm\n",
    "maxnorm = numpy.linalg.norm(v, ord=np.inf)\n",
    "maxnorm = np.max([np.abs(v[0]), np.abs(v[1])])\n",
    "print(\"L∞ = \", maxnorm)"
   ]
  },
  {
   "cell_type": "markdown",
   "id": "c1377732",
   "metadata": {},
   "source": [
    "> A vector having its tail at origin is called position vector"
   ]
  },
  {
   "cell_type": "code",
   "execution_count": null,
   "id": "820b041b",
   "metadata": {},
   "outputs": [],
   "source": []
  },
  {
   "cell_type": "code",
   "execution_count": null,
   "id": "c1f93617",
   "metadata": {},
   "outputs": [],
   "source": []
  },
  {
   "cell_type": "code",
   "execution_count": null,
   "id": "dac3a48d",
   "metadata": {},
   "outputs": [],
   "source": []
  },
  {
   "cell_type": "markdown",
   "id": "41685ca8",
   "metadata": {},
   "source": [
    "## 3. Direction of a Vector\n",
    "- The direction of the vector v is the measure of the angle that it makes with the horizontal in the plane.\n",
    "- There are two commonly used units of measurement for angles. \n",
    "    - **Degrees:** A circle is divided into 360 equal degrees, and a degree is further divided into 60 equal parts called minutes. So seven and a half degrees can be called 7 degrees and 30 minutes, written 7° 30'. Each minute is further divided into 60 equal parts called seconds, and, for instance, 2 degrees 5 minutes 30 seconds is written 2° 5' 30\". \n",
    "    - **Radians:** The other common measurement for angles is radians. One radian is the angle made at the center of a circle by an arc whose length is equal to the radius of the circle. The circumference of a circle is 2π, so it follows that 360° equals 2π radians. \n",
    "    \n",
    "<img align=\"center\" width=\"900\" height=\"500\"  src=\"images/LA/angles.png\"  >\n",
    "\n",
    "\n",
    "- **Geometrically Measuring the Direction of a Vector**:\n",
    "    - The most common way is to measure the angle by the counterclockwise movement with the positive x-axis. This way the angle is always positive. \n",
    "    - Another way is to measure the smallest angle that a vector form along the horizontal axis. If it is measured clockwise the angle is written with a negative sign.\n",
    "    \n",
    "- **Mathematically Measuring the Direction of a Vector**:\n",
    "    - By using Inverse Tangent Formula:\n",
    "<h3 align=\"center\">      $\\theta = tan^{-1} (y/x)$        </h3>\n",
    "\n",
    "- **Note:** \n",
    "    - The inverse Tangent formula returns the angle in radians, which you can convert to degrees by multiplying it by 180/pi\n",
    "    - The inverse Tangent formula gives the shortest angle from either the positive or negative x-axis in either clock-wise or counter-clockwise direction. "
   ]
  },
  {
   "cell_type": "code",
   "execution_count": null,
   "id": "1154b829",
   "metadata": {},
   "outputs": [],
   "source": []
  },
  {
   "cell_type": "code",
   "execution_count": null,
   "id": "73f481d4",
   "metadata": {},
   "outputs": [],
   "source": []
  },
  {
   "cell_type": "markdown",
   "id": "f5e4b6e0",
   "metadata": {},
   "source": [
    "**Example 1:** Find the direction of a vector whose coordinates are $(4, 6)$"
   ]
  },
  {
   "cell_type": "code",
   "execution_count": 9,
   "id": "88d5dfc4",
   "metadata": {},
   "outputs": [
    {
     "name": "stdout",
     "output_type": "stream",
     "text": [
      "v =  [4 6]\n",
      "Angle in radians:  0.982793723247329\n",
      "Shortest angle from x-axis:  56.309932474020215\n",
      "Counter-Clockwise angle in degrees from positive x-axis:  56.309932474020215\n"
     ]
    },
    {
     "data": {
      "image/png": "[encoded data removed]",
      "text/plain": [
       "<Figure size 400x400 with 1 Axes>"
      ]
     },
     "metadata": {
      "needs_background": "light"
     },
     "output_type": "display_data"
    }
   ],
   "source": [
    "v = np.array([4, 6])\n",
    "print(\"v = \", v)\n",
    "theta_rad = math.atan(v[1]/v[0])     # acos, asin, and atan take a ratio as input and return an angle in radians. \n",
    "theta_deg = theta_rad*(180/math.pi)  # so we need to convert it into degrees\n",
    "print(\"Angle in radians: \", theta_rad)\n",
    "print(\"Shortest angle from x-axis: \", theta_deg)\n",
    "# Since, both the coordinates are positive, that means the angle exists in the first quadrant\n",
    "# So the angle is already computed from positive x-axis\n",
    "theta_deg = theta_deg + 0\n",
    "print(\"Counter-Clockwise angle in degrees from positive x-axis: \", theta_deg)\n",
    "plot_vector([v]) "
   ]
  },
  {
   "cell_type": "code",
   "execution_count": null,
   "id": "23555bcc",
   "metadata": {},
   "outputs": [],
   "source": []
  },
  {
   "cell_type": "code",
   "execution_count": null,
   "id": "39972c87",
   "metadata": {},
   "outputs": [],
   "source": []
  },
  {
   "cell_type": "code",
   "execution_count": null,
   "id": "443dcb0a",
   "metadata": {},
   "outputs": [],
   "source": []
  },
  {
   "cell_type": "markdown",
   "id": "ddf08ef8",
   "metadata": {},
   "source": [
    "**Example 2:** Find the direction of a vector whose coordinates are $(-4, 6)$"
   ]
  },
  {
   "cell_type": "code",
   "execution_count": 10,
   "id": "a75e5352",
   "metadata": {},
   "outputs": [
    {
     "name": "stdout",
     "output_type": "stream",
     "text": [
      "v =  [-4  6]\n",
      "Angle in radians:  -0.982793723247329\n",
      "Shortest angle from x-axis:  -56.309932474020215\n",
      "Counter-Clockwise angle in degrees from positive x-axis:  123.69006752597979\n"
     ]
    },
    {
     "data": {
      "image/png": "[encoded data removed]",
      "text/plain": [
       "<Figure size 400x400 with 1 Axes>"
      ]
     },
     "metadata": {
      "needs_background": "light"
     },
     "output_type": "display_data"
    }
   ],
   "source": [
    "v = np.array([-4, 6])\n",
    "print(\"v = \", v)\n",
    "theta_rad = math.atan(v[1]/v[0])    # acos, asin, and atan take a ratio as input and return an angle in radians. \n",
    "theta_deg = theta_rad*(180/math.pi) # so we need to convert it into degrees\n",
    "print(\"Angle in radians: \", theta_rad)\n",
    "print(\"Shortest angle from x-axis: \", theta_deg)\n",
    "# Since, x-coordinate is negative and y-coordinate is positive, that means, the angle exists in the second \n",
    "# quadrant. Since, the angle is negative, that means, it is measured from negative x-axis in clock-wise direction\n",
    "# So we have to add 180 degree to get the angle from positive x-axis in counter-clockwise direction\n",
    "theta_deg = theta_deg + 180\n",
    "print(\"Counter-Clockwise angle in degrees from positive x-axis: \", theta_deg)\n",
    "plot_vector([v]) "
   ]
  },
  {
   "cell_type": "code",
   "execution_count": null,
   "id": "e6b8c51d",
   "metadata": {},
   "outputs": [],
   "source": []
  },
  {
   "cell_type": "code",
   "execution_count": null,
   "id": "2a8f475e",
   "metadata": {},
   "outputs": [],
   "source": []
  },
  {
   "cell_type": "code",
   "execution_count": null,
   "id": "6cac130c",
   "metadata": {},
   "outputs": [],
   "source": []
  },
  {
   "cell_type": "code",
   "execution_count": null,
   "id": "2fa61e44",
   "metadata": {},
   "outputs": [],
   "source": []
  },
  {
   "cell_type": "markdown",
   "id": "fc563c3f",
   "metadata": {},
   "source": [
    "**Example 3:** Find the direction of a vector whose coordinates are $(-4, -6)$"
   ]
  },
  {
   "cell_type": "code",
   "execution_count": 11,
   "id": "b693a152",
   "metadata": {},
   "outputs": [
    {
     "name": "stdout",
     "output_type": "stream",
     "text": [
      "v =  [-4 -6]\n",
      "Angle in radians:  0.982793723247329\n",
      "Angle in degrees:  56.309932474020215\n",
      "Angle in degrees from x-axis:  236.30993247402023\n"
     ]
    },
    {
     "data": {
      "image/png": "[encoded data removed]",
      "text/plain": [
       "<Figure size 400x400 with 1 Axes>"
      ]
     },
     "metadata": {
      "needs_background": "light"
     },
     "output_type": "display_data"
    }
   ],
   "source": [
    "v = np.array([-4, -6])\n",
    "print(\"v = \", v)\n",
    "theta_rad = math.atan(v[1]/v[0])     # acos, asin, and atan take a ratio as input and return an angle in radians. \n",
    "theta_deg = theta_rad*(180/math.pi)  # so we need to convert it into degrees\n",
    "print(\"Angle in radians: \", theta_rad)\n",
    "print(\"Angle in degrees: \", theta_deg)\n",
    "# Since, both the coordinates are negative, that means, the angle exists in the third quadrant\n",
    "# Since, the angle is positive, that means, it is measured from negative x-axis in counter-clockwise direction\n",
    "# So we have to add 180 degree to get the angle from positive x-axis in counter-clockwise direction\n",
    "theta_deg = theta_deg + 180\n",
    "print(\"Angle in degrees from x-axis: \", theta_deg)\n",
    "plot_vector([v]) "
   ]
  },
  {
   "cell_type": "code",
   "execution_count": null,
   "id": "abfa83de",
   "metadata": {},
   "outputs": [],
   "source": []
  },
  {
   "cell_type": "code",
   "execution_count": null,
   "id": "93368058",
   "metadata": {},
   "outputs": [],
   "source": []
  },
  {
   "cell_type": "code",
   "execution_count": null,
   "id": "91e95f09",
   "metadata": {},
   "outputs": [],
   "source": []
  },
  {
   "cell_type": "code",
   "execution_count": null,
   "id": "79ec04c5",
   "metadata": {},
   "outputs": [],
   "source": []
  },
  {
   "cell_type": "markdown",
   "id": "ddfcbad0",
   "metadata": {},
   "source": [
    "**Example 4:** Find the direction of a vector whose coordinates are $(4, -6)$"
   ]
  },
  {
   "cell_type": "code",
   "execution_count": 12,
   "id": "28161dce",
   "metadata": {},
   "outputs": [
    {
     "name": "stdout",
     "output_type": "stream",
     "text": [
      "v =  [ 4 -6]\n",
      "Angle in radians:  -0.982793723247329\n",
      "Shortest angle from x-axis:  -56.309932474020215\n",
      "Counter-Clockwise angle in degrees from positive x-axis:  303.69006752597977\n"
     ]
    },
    {
     "data": {
      "image/png": "[encoded data removed]",
      "text/plain": [
       "<Figure size 400x400 with 1 Axes>"
      ]
     },
     "metadata": {
      "needs_background": "light"
     },
     "output_type": "display_data"
    }
   ],
   "source": [
    "v = np.array([4, -6])\n",
    "print(\"v = \", v)\n",
    "theta_rad = math.atan(v[1]/v[0])     # acos, asin, and atan take a ratio as input and return an angle in radians. \n",
    "theta_deg = theta_rad*(180/math.pi)  # so we need to convert it into degrees\n",
    "print(\"Angle in radians: \", theta_rad)\n",
    "print(\"Shortest angle from x-axis: \", theta_deg)\n",
    "#Since, x-coordinate is positive and y-coordinate is negative, that means, the angle exists in the fourth quadrant\n",
    "#Since, the angle is negative, that means, it is measured from positive x-axis in clockwise direction\n",
    "#So we have to add 360 degree to get the angle from positive x-axis in counter-clockwise direction\n",
    "theta_deg = theta_deg + 360\n",
    "print(\"Counter-Clockwise angle in degrees from positive x-axis: \", theta_deg)\n",
    "plot_vector([v]) "
   ]
  },
  {
   "cell_type": "code",
   "execution_count": null,
   "id": "00c46d2e",
   "metadata": {},
   "outputs": [],
   "source": []
  },
  {
   "cell_type": "markdown",
   "id": "09384f37",
   "metadata": {},
   "source": [
    "## 4. Components of a Vector"
   ]
  },
  {
   "cell_type": "markdown",
   "id": "0d29cb26",
   "metadata": {},
   "source": [
    "<img align=\"right\" width=\"400\" height=\"300\"  src=\"images/LA/vector-components.jpg\"  >\n",
    "\n",
    "### a. Components of a Vector in $\\mathbb{R}^2$\n",
    "\n",
    "- Splitting of an angled vector into two vectors directed towards the coordinate axes in a two-dimensional coordinate system are defined as vector components.\n",
    "- The two components of any vector can be found through the method of vector resolution. \n",
    "- This vector say $F$ is making an angle of 30 degrees with the positive x-axis in counter clockwise direction. The head of this vector is 5 units towards East and 2 units towards North. These two lines are the vector components of the vector $F$. Moreover, these two components are supposed to form a right-angled triangle. \n",
    "- We can use these two components are then used to find the resultant vector’s magnitude and direction, which is AB.\n",
    "\n",
    " $ cosθ = \\frac{F_x}{F} \\implies F_x = F.cosθ $ <br>\n",
    " $ sinθ = \\frac{F_y}{F} \\implies F_y = F.sinθ $"
   ]
  },
  {
   "cell_type": "code",
   "execution_count": null,
   "id": "fde96b01",
   "metadata": {},
   "outputs": [],
   "source": []
  },
  {
   "cell_type": "code",
   "execution_count": null,
   "id": "e60ab5f7",
   "metadata": {},
   "outputs": [],
   "source": []
  },
  {
   "cell_type": "code",
   "execution_count": null,
   "id": "2d4c93b9",
   "metadata": {},
   "outputs": [],
   "source": []
  },
  {
   "cell_type": "code",
   "execution_count": null,
   "id": "ec594f16",
   "metadata": {},
   "outputs": [],
   "source": []
  },
  {
   "cell_type": "code",
   "execution_count": null,
   "id": "33ccf40d",
   "metadata": {},
   "outputs": [],
   "source": []
  },
  {
   "cell_type": "markdown",
   "id": "4b75c015",
   "metadata": {},
   "source": [
    "**Example 1:** A force $\\overrightarrow{\\rm F}$ of 10 N is applied at an angle of 30º along the horizontal surface. Resolve the vector into its components. Verify your answer by calculating its magnitude and direction from its components."
   ]
  },
  {
   "cell_type": "code",
   "execution_count": 13,
   "id": "833921f0",
   "metadata": {},
   "outputs": [
    {
     "name": "stdout",
     "output_type": "stream",
     "text": [
      "Fx: 8.66 N\n",
      "Fy: 5.00 N\n",
      "|F| =  10.0\n",
      "Angle: 30.00 degrees\n"
     ]
    },
    {
     "data": {
      "image/png": "[encoded data removed]",
      "text/plain": [
       "<Figure size 400x400 with 1 Axes>"
      ]
     },
     "metadata": {
      "needs_background": "light"
     },
     "output_type": "display_data"
    }
   ],
   "source": [
    "# calculating x and y components of vector F\n",
    "fx = 10*math.cos(30 * math.pi/180)      # sin, cos and tan take input angle in radians and return a real value. \n",
    "fy = 10*math.sin(30 * math.pi/180)      # sin, cos and tan take input angle in radians and return a real value. \n",
    "print(\"Fx: %.2f\" %fx, \"N\")\n",
    "print(\"Fy: %.2f\" %fy, \"N\")\n",
    "\n",
    "# calculating magnitude for verification\n",
    "f = numpy.linalg.norm([fx, fy], ord=2)\n",
    "print(\"|F| = \",f)\n",
    "\n",
    "# calculating angle for verification\n",
    "theta_rad = math.atan(fy/fx)     # returned angle is in radians. \n",
    "theta_deg = theta_rad*(180/math.pi)  # convert it into degrees\n",
    "# Since, x and y-components are both positive, that means the vector is in first quadrant\n",
    "print(\"Angle: %.2f\" % theta_deg, \"degrees\")\n",
    "\n",
    "# Plot the vector\n",
    "plot_vector([(fx,fy)]) "
   ]
  },
  {
   "cell_type": "code",
   "execution_count": null,
   "id": "ccac4f66",
   "metadata": {},
   "outputs": [],
   "source": []
  },
  {
   "cell_type": "code",
   "execution_count": null,
   "id": "d8a4cf8c",
   "metadata": {},
   "outputs": [],
   "source": []
  },
  {
   "cell_type": "code",
   "execution_count": null,
   "id": "a2de64e1",
   "metadata": {},
   "outputs": [],
   "source": []
  },
  {
   "cell_type": "markdown",
   "id": "94263fe3",
   "metadata": {},
   "source": [
    "**Example 2:** Given a vector $\\mathbf{v}$ having magnitude of 4 and direction of 45 degrees in  $\\mathbb{R}^2$. Find out its x and y-components.\n",
    "Verify your answer by calculating its magnitude and direction from its components.<br>"
   ]
  },
  {
   "cell_type": "code",
   "execution_count": 14,
   "id": "b00ed29e",
   "metadata": {},
   "outputs": [
    {
     "name": "stdout",
     "output_type": "stream",
     "text": [
      "vx: 2.83\n",
      "vy: 2.83\n",
      "|v| =  4.0\n",
      "Angle: 45.00 degrees\n"
     ]
    },
    {
     "data": {
      "image/png": "[encoded data removed]",
      "text/plain": [
       "<Figure size 400x400 with 1 Axes>"
      ]
     },
     "metadata": {
      "needs_background": "light"
     },
     "output_type": "display_data"
    }
   ],
   "source": [
    "# calculating x and y components of vector F\n",
    "vx = 4*math.cos(45 * math.pi/180)  # sin, cos and tan take input angle in radians and return a real value. \n",
    "vy = 4*math.sin(45 * math.pi/180)  # sin, cos and tan take input angle in radians and return a real value. \n",
    "print(\"vx: %.2f\" %vx)\n",
    "print(\"vy: %.2f\" %vy)\n",
    "\n",
    "# calculating magnitude for verification\n",
    "mag = numpy.linalg.norm([vx, vy], ord=2)\n",
    "print(\"|v| = \", mag)\n",
    "\n",
    "# calculating angle for verification\n",
    "theta_rad = math.atan(vy/vx)     # returned angle is in radians. \n",
    "theta_deg = theta_rad*(180/math.pi)  # convert it into degrees\n",
    "# Since, x and y-components are both positive, that means the vector is in first quadrant\n",
    "print(\"Angle: %.2f\" % theta_deg, \"degrees\")\n",
    "\n",
    "# Plot the vector\n",
    "plot_vector([(vx,vy)]) "
   ]
  },
  {
   "cell_type": "code",
   "execution_count": null,
   "id": "2b444bbb",
   "metadata": {},
   "outputs": [],
   "source": []
  },
  {
   "cell_type": "code",
   "execution_count": null,
   "id": "25fc2129",
   "metadata": {},
   "outputs": [],
   "source": []
  },
  {
   "cell_type": "code",
   "execution_count": null,
   "id": "fc0df294",
   "metadata": {},
   "outputs": [],
   "source": []
  },
  {
   "cell_type": "markdown",
   "id": "dcf6585a",
   "metadata": {},
   "source": [
    "<img align=\"right\" width=\"300\" height=\"300\"  src=\"images/LA/3dvectorcomponents.png\"  >\n",
    "\n",
    "### b. Components of a Vector in $\\mathbb{R}^3$\n",
    "- In contrast to a vector in 2-D space having an x-component and a y-component with one angle in between, a vector in 3-D space will have an x-component, a y-component and a z-component with three angles in between.\n",
    "- Given the three angles and the magnitude of a vector, we can calculate its components using following formulae: \n",
    "    - $ F_x = F.cos\\theta_x $, where, $\\theta_x$ is the angle between the vector and x-axis\n",
    "    - $ F_y = F.cos\\theta_y $, where, $\\theta_y$ is the angle between the vector and y-axis\n",
    "    - $ F_z = F.cos\\theta_z $, where, $\\theta_z$ is the angle between the vector and z-axis\n",
    "\n",
    "- Consider a vector: $\\overrightarrow{\\rm v} = (4,6,4) = 4\\hat{i} + 6\\hat{j} + 4\\hat{k}$\n",
    "    - Where $\\hat{i}$, $\\hat{j}$, and $\\hat{k}$ are the unit vectors in the x, y and z directions, being multiplied by scalars 4, 6, and 4 respectively."
   ]
  },
  {
   "cell_type": "markdown",
   "id": "e87e0b91",
   "metadata": {},
   "source": [
    "**Example 1:** Given a vector having magnitude of 8.2463 making angles of 60.98, 43.3, and 60.98 with x,y, and z-axis respectively in  $\\mathbb{R}^3$. Find out its x, y and z-components. Verify your answer by calculating the vector's magnitude from components."
   ]
  },
  {
   "cell_type": "code",
   "execution_count": 15,
   "id": "cc888359",
   "metadata": {},
   "outputs": [
    {
     "name": "stdout",
     "output_type": "stream",
     "text": [
      "fx: 4.00\n",
      "fy: 6.00\n",
      "fx: 4.00\n",
      "|f| = 8.248\n"
     ]
    }
   ],
   "source": [
    "# calculating x and y components of vector F\n",
    "fx = 8.2463*math.cos(60.98 * math.pi/180)       \n",
    "fy = 8.2463*math.cos(43.3 * math.pi/180)        \n",
    "fz = 8.2463*math.cos(60.98 * math.pi/180)   \n",
    "print(\"fx: %.2f\" %fx)\n",
    "print(\"fy: %.2f\" %fy)\n",
    "print(\"fx: %.2f\" %fz)\n",
    "\n",
    "# calculating magnitude for verification\n",
    "mag = numpy.linalg.norm([fx, fy, fz], ord=2)\n",
    "print(\"|f| = %.3f\" %mag)"
   ]
  },
  {
   "cell_type": "code",
   "execution_count": null,
   "id": "479e8057",
   "metadata": {},
   "outputs": [],
   "source": []
  },
  {
   "cell_type": "code",
   "execution_count": null,
   "id": "cda1f81e",
   "metadata": {},
   "outputs": [],
   "source": []
  },
  {
   "cell_type": "code",
   "execution_count": null,
   "id": "8a1e3805",
   "metadata": {},
   "outputs": [],
   "source": []
  },
  {
   "cell_type": "code",
   "execution_count": null,
   "id": "6ff2c2a9",
   "metadata": {},
   "outputs": [],
   "source": []
  },
  {
   "cell_type": "code",
   "execution_count": null,
   "id": "53e92e75",
   "metadata": {},
   "outputs": [],
   "source": []
  },
  {
   "cell_type": "markdown",
   "id": "7c0420b5",
   "metadata": {},
   "source": [
    "## 5. Two Fundamental Vector Operations"
   ]
  },
  {
   "cell_type": "markdown",
   "id": "5db4d8a9",
   "metadata": {},
   "source": [
    "<img align=\"right\" width=\"400\" height=\"400\"  src=\"images/LA/vector_2d_add.png\"  >\n",
    "\n",
    "### a. Vectors Addition\n",
    "- Two vectors of equal length can be added together to create a new third vector, and is written as:\n",
    "\n",
    "$ \\hspace{5.0cm} \\overrightarrow{\\rm c} = \\overrightarrow{\\rm a} + \\overrightarrow{\\rm b} $\n",
    "- Vector addition can be performed graphically, using the head-to-tail as shown in this figure. (First, the two vectors `a` and `b` are placed together such that the head of vector `a` connects the tail of vector `b`. Next, to find the sum, a resultant vector `c` is drawn such that it connects the tail of `a` to the head of `b`.)\n",
    "\n",
    "- Vection addition can also be done by simply performing an element by elementt addition.\n",
    "\n",
    "$ \\hspace{3.0cm} \\overrightarrow{\\rm c} = (a1 + b1, a2 + b2, a3 + b3) $"
   ]
  },
  {
   "cell_type": "markdown",
   "id": "d273bf72",
   "metadata": {},
   "source": [
    "**Example 1:** Consider a vector $\\overrightarrow{\\rm a}$, having its tail at point $(-1, 3)$ and head at point $(5,2)$. Consider another vector $\\overrightarrow{\\rm b}$, having its tail at point $(1, -2)$ and head at point $(-2,2)$. Determine the resultant sum vector \\overrightarrow{\\rm c}. Also, give the magnitude and angle of the resultant vector."
   ]
  },
  {
   "cell_type": "code",
   "execution_count": 16,
   "id": "4cf65a67",
   "metadata": {},
   "outputs": [
    {
     "name": "stdout",
     "output_type": "stream",
     "text": [
      "U =  [ 6 -1]\n",
      "V =  [-3  4]\n",
      "R =  [3 3]\n",
      "|R| =  4.242640687119285\n",
      "Counter-Clockwise angle in degrees from positive x-axis:  45.0\n"
     ]
    },
    {
     "data": {
      "image/png": "[encoded data removed]",
      "text/plain": [
       "<Figure size 400x400 with 1 Axes>"
      ]
     },
     "metadata": {
      "needs_background": "light"
     },
     "output_type": "display_data"
    }
   ],
   "source": [
    "# Translating the two vectors to origin\n",
    "u = np.array([5-(-1), 2-3])  \n",
    "v = np.array([-2-1, 2-(-2)]) \n",
    "print(\"U = \", u)\n",
    "print(\"V = \", v)\n",
    "\n",
    "# calculate the resultant vector R\n",
    "r = u + v\n",
    "print(\"R = \", r)\n",
    "\n",
    "# calculating magnitude of R from its components using L2 norm\n",
    "mag = numpy.linalg.norm([r[0], r[1]], ord=2)\n",
    "mag = (r[0]**2 + r[1]**2)**(1/2)\n",
    "print(\"|R| = \", mag)\n",
    "\n",
    "# calculating angle of resultant vector R\n",
    "theta_rad = math.atan(r[1]/r[0])      # acos, asin, and atan take a ratio as input and return an angle in radians\n",
    "theta_deg = theta_rad*(180/math.pi)   # so we need to convert it into degrees\n",
    "# Since, both x and y coordinates are positive, that means the angle exists in the first quadrant\n",
    "# So no need to add anything\n",
    "theta_deg = theta_deg + 0\n",
    "print(\"Counter-Clockwise angle in degrees from positive x-axis: \", theta_deg)\n",
    "\n",
    "vectors = [u, v, r]\n",
    "tails   = [(0,0), u, (0,0)]\n",
    "plot_vector(vectors, tails)"
   ]
  },
  {
   "cell_type": "markdown",
   "id": "b1009254",
   "metadata": {},
   "source": [
    "**Example 2:** Given two vectors, U = 10 m, Φ  = 30 degrees and  V = 20m, Φ  = 60 degrees, determine their sum. Then, calculate the magnitude and the angle of the resultant vector using the component method"
   ]
  },
  {
   "cell_type": "code",
   "execution_count": 17,
   "id": "a2c61f8b",
   "metadata": {},
   "outputs": [
    {
     "name": "stdout",
     "output_type": "stream",
     "text": [
      "Ux: 8.66 m\n",
      "Uy: 5.00 m\n",
      "Vx: 10.00 m\n",
      "Vy: 17.32 m\n",
      "Resultant vector R:  [18.66025404 22.32050808]\n",
      "|R| =  29.093129111764092\n",
      "Counter-Clockwise angle in degrees from positive x-axis:  50.103909361017095\n"
     ]
    },
    {
     "data": {
      "image/png": "[encoded data removed]",
      "text/plain": [
       "<Figure size 400x400 with 1 Axes>"
      ]
     },
     "metadata": {
      "needs_background": "light"
     },
     "output_type": "display_data"
    }
   ],
   "source": [
    "import numpy as np\n",
    "import math as m\n",
    "# calculating x and y components of vector U\n",
    "ux = 10*math.cos(30*math.pi/180)       # sin, cos and tan take input angle in radians and return the ratio. \n",
    "uy = 10*math.sin(30*math.pi/180)       \n",
    "print(\"Ux: %.2f\" %ux, \"m\")\n",
    "print(\"Uy: %.2f\" %uy, \"m\")\n",
    "\n",
    "# calculating x and y components of vector V\n",
    "vx = 20*m.cos(60*math.pi/180)\n",
    "vy = 20*m.sin(60*math.pi/180)\n",
    "print(\"Vx: %.2f\" %vx, \"m\")\n",
    "print(\"Vy: %.2f\" %vy, \"m\")\n",
    "\n",
    "# calculate the sum of the two vectors R = U + V\n",
    "rx = ux + vx\n",
    "ry = uy + vy\n",
    "r = np.array([rx, ry])\n",
    "print(\"Resultant vector R: \", r)\n",
    "\n",
    "# calculating magnitude of R from its components using L2 norm\n",
    "mag = numpy.linalg.norm([rx, ry], ord=2)\n",
    "mag = (rx**2 + ry**2)**(1/2)\n",
    "print(\"|R| = \", mag)\n",
    "\n",
    "# calculating angle of resultant vector R\n",
    "theta_rad = math.atan(r[1]/r[0])    # acos, asin, and atan take a ratio as input and return an angle in radians\n",
    "theta_deg = theta_rad*(180/math.pi)   # so we need to convert it into degrees\n",
    "# Since, both the coordinates are positive, that means the angle exists in the first quadrant\n",
    "# So the angle is already computed from positive x-axis\n",
    "theta_deg = math.degrees(theta_rad)\n",
    "theta_deg = theta_deg + 0\n",
    "print(\"Counter-Clockwise angle in degrees from positive x-axis: \", theta_deg)\n",
    "\n",
    "vectors = [(ux,uy), (vx,vy), (rx,ry)]\n",
    "tails   = [(0,0), (ux,uy), (0,0)]\n",
    "plot_vector(vectors, tails)"
   ]
  },
  {
   "cell_type": "code",
   "execution_count": null,
   "id": "7c8c94cf",
   "metadata": {},
   "outputs": [],
   "source": []
  },
  {
   "cell_type": "code",
   "execution_count": null,
   "id": "f1e0cd04",
   "metadata": {},
   "outputs": [],
   "source": []
  },
  {
   "cell_type": "code",
   "execution_count": null,
   "id": "9eb2bc06",
   "metadata": {},
   "outputs": [],
   "source": []
  },
  {
   "cell_type": "markdown",
   "id": "365ed74d",
   "metadata": {},
   "source": [
    "<img align=\"right\" width=\"300\" height=\"300\"  src=\"images/LA/mul1.png\"  >\n",
    "\n",
    "### b. Multiplying a Vector with a Scalar Value (Scaling)\n",
    "- Multiplication by a scalar is a way of changing the magnitude and/or direction of a vector. \n",
    "- The multiplication of a scalar value with a vector A will yield another vector.\n",
    "\n",
    "\n",
    "- **Example 1:** Given the vector a = (-4, -6). If you multiply this vector by $-1/2$, its length (magnitude) halves and direction is reversed. \n",
    "\n",
    "$$\n",
    "   \\mathbf{-0.5a} = -0.5\\left[ \\begin{array}{c} -4 \\\\ -6  \\end{array} \\right] =\n",
    "      \\left[ \\begin{array}{c} 2 \\\\ 3  \\end{array} \\right]\n",
    "$$\n"
   ]
  },
  {
   "cell_type": "code",
   "execution_count": 18,
   "id": "4d91f4d0",
   "metadata": {},
   "outputs": [
    {
     "name": "stdout",
     "output_type": "stream",
     "text": [
      "Vector A:  [-4 -6]\n",
      "|A| =  7.211102550927978\n",
      "Counter-Clockwise angle in degrees from positive x-axis:  236.30993247402023\n",
      "\n",
      "Vector B:  [2. 3.]\n",
      "|-A| =  3.605551275463989\n",
      "Counter-Clockwise angle in degrees from positive x-axis:  56.309932474020215\n"
     ]
    },
    {
     "data": {
      "image/png": "[encoded data removed]",
      "text/plain": [
       "<Figure size 400x400 with 1 Axes>"
      ]
     },
     "metadata": {
      "needs_background": "light"
     },
     "output_type": "display_data"
    }
   ],
   "source": [
    "a = np.array([-4, -6])\n",
    "print (\"Vector A: \", a)\n",
    "mag = numpy.linalg.norm(a, ord=2) # calculate magnitude using L2 norm\n",
    "print(\"|A| = \",mag)\n",
    "# calculating angle of vector A\n",
    "theta_rad = math.atan(a[1]/a[0])  \n",
    "theta_deg = theta_rad*(180/math.pi)\n",
    "# Since, both the coordinates are negative, that means, the angle exists in the third quadrant\n",
    "# Since, the angle is positive, that means, it is measured from negative x-axis in counter-clockwise direction\n",
    "# So we have to add 180 degree to get the angle from positive x-axis in counter-clockwise direction\n",
    "theta_deg = theta_deg + 180\n",
    "print(\"Counter-Clockwise angle in degrees from positive x-axis: \", theta_deg)\n",
    "\n",
    "# Multiplying the vector A  by -0.5 will give a new vector B\n",
    "b = a * -0.5\n",
    "print (\"\\nVector B: \", b)\n",
    "# To calculate magnitude using L2 norm\n",
    "mag = numpy.linalg.norm(b, ord=2)\n",
    "mag = (b[0]**2 + b[1]**2) **(1/2)\n",
    "print(\"|-A| = \",mag)\n",
    "\n",
    "# calculating angle of vector B\n",
    "theta_rad = m.atan(b[1]/b[0])    \n",
    "theta_deg = theta_rad*(180/m.pi) \n",
    "# Since, both the coordinates are positive, that means, the angle exists in the first quadrant\n",
    "# Since, the angle is positive, that means, it is measured from negative x-axis in counter-clockwise direction\n",
    "# So need not to add anything\n",
    "theta_deg = theta_deg + 0\n",
    "print(\"Counter-Clockwise angle in degrees from positive x-axis: \", theta_deg)\n",
    "\n",
    "vectors = [a, b]\n",
    "plot_vector(vectors)"
   ]
  },
  {
   "cell_type": "markdown",
   "id": "b50c9795",
   "metadata": {},
   "source": [
    "**Example 2:** Given the vector a = (1, 1). If you multiply this vector by $3$, its length (magnitude) is trippled and direction remains the same.\n",
    "\n",
    "$$\n",
    "   \\mathbf{3a} = 3\\left[ \\begin{array}{c} 1 \\\\ 1  \\end{array} \\right] =\n",
    "      \\left[ \\begin{array}{c} 3 \\\\ 3  \\end{array} \\right]\n",
    "$$\n"
   ]
  },
  {
   "cell_type": "code",
   "execution_count": 19,
   "id": "427a3c7d",
   "metadata": {},
   "outputs": [
    {
     "name": "stdout",
     "output_type": "stream",
     "text": [
      "Vector A:  [1 1]\n",
      "|A| =  1.4142135623730951\n",
      "Counter-Clockwise angle in degrees from positive x-axis:  45.0\n",
      "\n",
      "Vector B:  [3 3]\n",
      "|-A| =  4.242640687119285\n",
      "Counter-Clockwise angle in degrees from positive x-axis:  45.0\n"
     ]
    },
    {
     "data": {
      "image/png": "[encoded data removed]",
      "text/plain": [
       "<Figure size 400x400 with 1 Axes>"
      ]
     },
     "metadata": {
      "needs_background": "light"
     },
     "output_type": "display_data"
    }
   ],
   "source": [
    "# Given vector A\n",
    "a = np.array([1, 1])\n",
    "print (\"Vector A: \", a)\n",
    "# calculate magnitude using L2 norm\n",
    "mag = numpy.linalg.norm(a, ord=2)\n",
    "mag = (a[0]**2 + a[1]**2) **(1/2)\n",
    "print(\"|A| = \",mag)\n",
    "# calculating angle of vector A\n",
    "theta_rad = math.atan(a[1]/a[0])    # acos, asin, and atan take a ratio as input and return an angle in radians\n",
    "theta_deg = theta_rad*(180/math.pi)   # so we need to convert it into degrees\n",
    "# Since, both the coordinates are positive, that means, the angle exists in the first quadrant\n",
    "# So we need not to add anything\n",
    "theta_deg = theta_deg + 0\n",
    "print(\"Counter-Clockwise angle in degrees from positive x-axis: \", theta_deg)\n",
    "\n",
    "\n",
    "\n",
    "# Multiplying the vector A  by 3 will give a new vector\n",
    "b = a * 3\n",
    "print (\"\\nVector B: \", b)\n",
    "# To calculate magnitude using L2 norm\n",
    "mag = numpy.linalg.norm(b, ord=2)\n",
    "mag = (b[0]**2 + b[1]**2) **(1/2)\n",
    "print(\"|-A| = \",mag)\n",
    "\n",
    "# calculating angle of vector B\n",
    "theta_rad = m.atan(b[1]/b[0])    # acos, asin, and atan take a ratio as input and return an angle in radians\n",
    "theta_deg = theta_rad*(180/m.pi)   # so we need to convert it into degrees\n",
    "# Since, both the coordinates are positive, that means, the angle exists in the first quadrant\n",
    "# So we need not to add anything\n",
    "theta_deg = theta_deg + 0\n",
    "print(\"Counter-Clockwise angle in degrees from positive x-axis: \", theta_deg)\n",
    "\n",
    "vectors = [a, b]\n",
    "plot_vector(vectors)"
   ]
  },
  {
   "cell_type": "code",
   "execution_count": null,
   "id": "7717eff0",
   "metadata": {},
   "outputs": [],
   "source": []
  },
  {
   "cell_type": "code",
   "execution_count": null,
   "id": "dd656936",
   "metadata": {},
   "outputs": [],
   "source": []
  },
  {
   "cell_type": "code",
   "execution_count": null,
   "id": "5196f1d5",
   "metadata": {},
   "outputs": [],
   "source": []
  },
  {
   "cell_type": "code",
   "execution_count": null,
   "id": "183b8692",
   "metadata": {},
   "outputs": [],
   "source": []
  },
  {
   "cell_type": "code",
   "execution_count": null,
   "id": "afce88d7",
   "metadata": {},
   "outputs": [],
   "source": []
  },
  {
   "cell_type": "markdown",
   "id": "1b77b382",
   "metadata": {},
   "source": [
    "## 6.  Unit Vectors and Unit Basis Vectors\n",
    "\n",
    "### a. Unit Vector\n",
    "- Every vector $\\overrightarrow{\\rm v}$ in $\\mathbb{R}^2$, $\\mathbb{R}^3$,..., $\\mathbb{R}^n$ will have a corresponding unit vector, which points in exactly the same direction as  $\\overrightarrow{\\rm v}$, but has a magnitude of one.\n",
    "- A unit vector of a vector $\\overrightarrow{\\rm v}$ is represented as $\\hat{\\rm v}$ and can be calculated as:\n",
    "$$\\hat{\\rm v} = \\frac{\\overrightarrow{\\rm v}}{|\\rm v|}$$"
   ]
  },
  {
   "cell_type": "markdown",
   "id": "11663053",
   "metadata": {},
   "source": [
    "**Example 1:**  Find the unit vector of $\\overrightarrow{\\rm v} =\\begin{bmatrix} 3 \\\\2 \\end{bmatrix}$\n",
    "\n",
    "$$\\hat{\\rm v_1} = \\frac{1}{3.6}\\begin{bmatrix} 3 \\\\2 \\end{bmatrix}=\\begin{bmatrix} 0.832 \\\\0.554 \\end{bmatrix}$$"
   ]
  },
  {
   "cell_type": "code",
   "execution_count": 20,
   "id": "4dbe1389",
   "metadata": {},
   "outputs": [
    {
     "name": "stdout",
     "output_type": "stream",
     "text": [
      "vector v =  [3 2]  magnitude = 3.605551275463989\n",
      "Unit vector of v =  (0.8320502943378437, 0.5547001962252291)  magnitude = 1.0\n"
     ]
    },
    {
     "data": {
      "image/png": "[encoded data removed]",
      "text/plain": [
       "<Figure size 400x400 with 1 Axes>"
      ]
     },
     "metadata": {
      "needs_background": "light"
     },
     "output_type": "display_data"
    }
   ],
   "source": [
    "v = np.array((3,2))\n",
    "mag_v = numpy.linalg.norm(v, ord=2)\n",
    "\n",
    "vhat = (v[0]/mag_v, v[1]/mag_v)\n",
    "mag_vhat = numpy.linalg.norm(vhat,ord=2)\n",
    "\n",
    "print(\"vector v = \", v, \" magnitude =\", mag_v)\n",
    "print(\"Unit vector of v = \", vhat, \" magnitude =\", mag_vhat)\n",
    "\n",
    "vectors = [v, vhat]\n",
    "plot_vector(vectors)"
   ]
  },
  {
   "cell_type": "markdown",
   "id": "a5ee0684",
   "metadata": {},
   "source": [
    "> Note: The unit vector $\\overrightarrow{\\rm u}$ of the given vector $\\overrightarrow{\\rm v} =(3,2)$ is one unit long, and sits right on top of $\\overrightarrow{\\rm v}$, pointing in the same direction as $\\overrightarrow{\\rm v}$. \n",
    "\n",
    "> The smaller triangle formed by the unit vector $\\overrightarrow{\\rm u}$ is similar to the larger triangle formed by the vector $\\overrightarrow{\\rm v}$\n"
   ]
  },
  {
   "cell_type": "code",
   "execution_count": null,
   "id": "acedc97d",
   "metadata": {},
   "outputs": [],
   "source": []
  },
  {
   "cell_type": "code",
   "execution_count": null,
   "id": "3ff69c4c",
   "metadata": {},
   "outputs": [],
   "source": []
  },
  {
   "cell_type": "code",
   "execution_count": null,
   "id": "8aa9344e",
   "metadata": {},
   "outputs": [],
   "source": []
  },
  {
   "cell_type": "markdown",
   "id": "adbb6bcf",
   "metadata": {},
   "source": [
    "**Example 2:**  Find the unit vector of $\\overrightarrow{\\rm v} =\\begin{bmatrix} 12 \\\\3 \\\\-4 \\end{bmatrix}$\n",
    "\n",
    "$$\\hat{\\rm v_1} = \\frac{1}{13}\\begin{bmatrix} 12 \\\\3\\\\-4 \\end{bmatrix}=\\begin{bmatrix} 0.92 \\\\0.23 \\\\-0.3\\end{bmatrix}$$"
   ]
  },
  {
   "cell_type": "code",
   "execution_count": 21,
   "id": "e46c612a",
   "metadata": {},
   "outputs": [
    {
     "name": "stdout",
     "output_type": "stream",
     "text": [
      "vector v =  [12  3 -4]  magnitude = 13.0\n",
      "Unit vector of v =  (0.9230769230769231, 0.23076923076923078, -0.3076923076923077)  magnitude = 1.0\n"
     ]
    }
   ],
   "source": [
    "v = np.array((12, 3, -4))\n",
    "mag_v = numpy.linalg.norm(v, ord=2)\n",
    "\n",
    "vhat = (v[0]/mag_v, v[1]/mag_v, v[2]/mag_v)\n",
    "mag_vhat = numpy.linalg.norm(vhat,ord=2)\n",
    "\n",
    "print(\"vector v = \", v, \" magnitude =\", mag_v)\n",
    "print(\"Unit vector of v = \", vhat, \" magnitude =\", mag_vhat)"
   ]
  },
  {
   "cell_type": "code",
   "execution_count": null,
   "id": "b34b07d8",
   "metadata": {},
   "outputs": [],
   "source": []
  },
  {
   "cell_type": "code",
   "execution_count": null,
   "id": "3e8cab26",
   "metadata": {},
   "outputs": [],
   "source": []
  },
  {
   "cell_type": "code",
   "execution_count": null,
   "id": "f2a586c2",
   "metadata": {},
   "outputs": [],
   "source": []
  },
  {
   "cell_type": "markdown",
   "id": "ce3c32c0",
   "metadata": {},
   "source": [
    "### b. Basis Vectors\n",
    "- Basis vectors are special unit vectors pointing along the x, y or the z-axis.\n",
    "- In two-dimensional space $\\mathbb{R}2$, we define two specific basis vectors, $\\hat{i} = (1,0)$ and $\\hat{j} = (0,1)$ and in three-dimensional space $\\mathbb{R}3$, we define three specific basis vectors $\\hat{i} = (1,0,0)$, $\\hat{j} = (0,1,0)$, and $\\hat{k} = (0,0,1)$.\n",
    "- A vector can be represented as a linear combination of its basis vectors.\n",
    "- Let me express the vector $\\overrightarrow{\\rm v}$  in two-dimensional space $\\mathbb{R}2$ as its basis vectors:\n",
    "<h4 align=\"center\"> $\\overrightarrow{\\rm v} \\quad=\\quad(6,4)\\quad=\\quad 6\\hat{i} + 4\\hat{j}\\quad=\\quad6 \\left[ \\begin{array}{c} 1 \\\\ 0  \\end{array} \\right] +    4 \\left[ \\begin{array}{c} 0 \\\\ 1  \\end{array} \\right] $ </h4>\n",
    "\n",
    "\n",
    "- Let me express the vector $\\overrightarrow{\\rm v}$  in three-dimensional space $\\mathbb{R}3$ as its basis vectors:\n",
    "<h4 align=\"center\"> $\\overrightarrow{\\rm v} \\quad=\\quad(-3,2,-1)\\quad=\\quad -3\\hat{i} + 2\\hat{j} - \\hat{k}\\quad=\\quad -3 \\left[ \\begin{array}{c} 1 \\\\ 0 \\\\0  \\end{array} \\right] +    2 \\left[ \\begin{array}{c} 0 \\\\ 1 \\\\ 0  \\end{array} \\right] -    \\left[ \\begin{array}{c} 0 \\\\ 0 \\\\ 0  \\end{array} \\right]  $ </h4>"
   ]
  },
  {
   "cell_type": "code",
   "execution_count": null,
   "id": "54d82523",
   "metadata": {},
   "outputs": [],
   "source": []
  },
  {
   "cell_type": "code",
   "execution_count": null,
   "id": "a1a2253c",
   "metadata": {},
   "outputs": [],
   "source": []
  },
  {
   "cell_type": "code",
   "execution_count": null,
   "id": "604bb4b2",
   "metadata": {},
   "outputs": [],
   "source": []
  },
  {
   "cell_type": "code",
   "execution_count": null,
   "id": "0411761d",
   "metadata": {},
   "outputs": [],
   "source": []
  },
  {
   "cell_type": "markdown",
   "id": "6682e64a",
   "metadata": {},
   "source": [
    "**Example 1:**  Write down the vector $\\overrightarrow{\\rm v} =(3,2)$, as linear combination of its unit vectors and visualize."
   ]
  },
  {
   "cell_type": "code",
   "execution_count": 22,
   "id": "d58f8ed0",
   "metadata": {},
   "outputs": [
    {
     "data": {
      "image/png": "[encoded data removed]",
      "text/plain": [
       "<Figure size 400x400 with 1 Axes>"
      ]
     },
     "metadata": {
      "needs_background": "light"
     },
     "output_type": "display_data"
    }
   ],
   "source": [
    "# create two basis vectors\n",
    "i = numpy.array((1,0))\n",
    "j = numpy.array((0,1))\n",
    "\n",
    "# create a new vector, that is a scaled version of these two basis vectors\n",
    "vec = 3*i + 2*j\n",
    "vectors = [i, j, 3*i, 2*j, vec]\n",
    "plot_vector(vectors)"
   ]
  },
  {
   "cell_type": "code",
   "execution_count": null,
   "id": "e4137ccb",
   "metadata": {},
   "outputs": [],
   "source": []
  },
  {
   "cell_type": "code",
   "execution_count": null,
   "id": "8896350f",
   "metadata": {},
   "outputs": [],
   "source": []
  },
  {
   "cell_type": "code",
   "execution_count": null,
   "id": "1b01e19b",
   "metadata": {},
   "outputs": [],
   "source": []
  },
  {
   "cell_type": "markdown",
   "id": "5de6e2eb",
   "metadata": {},
   "source": [
    "### c. Linear combination and Span\n",
    "- Linear combination is adding together two scaled vectors.\n",
    "- Span is the set of all possible linear combinations, that we can create from two vectors.\n",
    "- Using the basis vectors for example in $\\mathbb{R}2$, we can actually build every vector in two-dimensional space, simply by adding scaled combinations of $\\hat{i}$ and $\\hat{j}$. \n",
    "- A span just describes the space reachable by linear combinations of some given vectors."
   ]
  },
  {
   "cell_type": "markdown",
   "id": "07cb706f",
   "metadata": {},
   "source": [
    "**Example 1:**  Generate hundred random vectors from linear combinations of basis vectors, $ \\hat{i}=(1,0)$ and $\\hat{j}=(0,1)$. The scalar multiples $m$ and $n$ range from random values $-8$ to $+8$."
   ]
  },
  {
   "cell_type": "code",
   "execution_count": 25,
   "id": "f2f413ce",
   "metadata": {},
   "outputs": [
    {
     "data": {
      "image/png": "[encoded data removed]",
      "text/plain": [
       "<Figure size 400x400 with 1 Axes>"
      ]
     },
     "metadata": {
      "needs_background": "light"
     },
     "output_type": "display_data"
    }
   ],
   "source": [
    "from numpy.random import randint\n",
    "i = numpy.array((1,0))\n",
    "j = numpy.array((0,1))\n",
    "\n",
    "vectors = []\n",
    "for _ in range(10000):\n",
    "    m = randint(-8,8)\n",
    "    n = randint(-8,8)\n",
    "    vectors.append(m*i + n*j)\n",
    "    \n",
    "plot_vector(vectors)\n",
    "pyplot.title(\"Hundred random vectors, created from the basis vectors\");"
   ]
  },
  {
   "cell_type": "markdown",
   "id": "3943446d",
   "metadata": {},
   "source": [
    "> You can imagine that we can fill up the whole plane with infinite linear combinations, eventually filling up the entire 2D plane. **Indeed, the *span* of the basis vectors is the whole 2D space.**\n",
    "> Remember, we are not forced to use the unit vectors  $\\mathbf{i}$ and $\\mathbf{j}$ as our basis vectors: other pairs of vectors could form a basis.\n",
    "\n",
    ">- **Question:** Can we use another pair of vectors as basis and generates linear combinations?"
   ]
  },
  {
   "cell_type": "markdown",
   "id": "b193987b",
   "metadata": {},
   "source": [
    "**Example 2:**  Generate hundred random vectors from linear combinations of two vectors, $a=(-2,1)$ and $b=(1,-3)$. The scalar multiples $m$ and $n$ range from random values $-8$ to $+8$."
   ]
  },
  {
   "cell_type": "code",
   "execution_count": 26,
   "id": "a8229d0c",
   "metadata": {},
   "outputs": [
    {
     "data": {
      "image/png": "[encoded data removed]",
      "text/plain": [
       "<Figure size 400x400 with 1 Axes>"
      ]
     },
     "metadata": {
      "needs_background": "light"
     },
     "output_type": "display_data"
    }
   ],
   "source": [
    "a = numpy.array((-2,1))\n",
    "b = numpy.array((1,-3))\n",
    "\n",
    "vectors = []\n",
    "for _ in range(100):\n",
    "    m = randint(-8,8)\n",
    "    n = randint(-8,8)\n",
    "    vectors.append(m*a + n*b)\n",
    "    \n",
    "plot_vector(vectors)\n",
    "pyplot.title(\"Hundred random vectors, created from the basis vectors\");"
   ]
  },
  {
   "cell_type": "markdown",
   "id": "2a6c7000",
   "metadata": {},
   "source": [
    "**Example 3:**  Generate fifty random vectors from linear combinations of two vectors, $ \\hat{c}=(-2,-1)$ and $\\hat{d}=(1,0.5)$. The scalar multiples $m$ and $n$ range from random values $-8$ to $+8$."
   ]
  },
  {
   "cell_type": "code",
   "execution_count": 27,
   "id": "564b029a",
   "metadata": {},
   "outputs": [
    {
     "data": {
      "image/png": "[encoded data removed]",
      "text/plain": [
       "<Figure size 400x400 with 1 Axes>"
      ]
     },
     "metadata": {
      "needs_background": "light"
     },
     "output_type": "display_data"
    }
   ],
   "source": [
    "c = numpy.array((-2,-1))\n",
    "d = numpy.array((1,0.5))\n",
    "vectors = []\n",
    "for _ in range(50):\n",
    "    m = randint(-8,8)\n",
    "    n = randint(-8,8)\n",
    "    vectors.append(m*c + n*d)\n",
    "    \n",
    "plot_vector(vectors)\n",
    "pyplot.title(\"Fifty linear combinations of the vectors $\\mathbf{c}$ and $\\mathbf{d}$.\");"
   ]
  },
  {
   "cell_type": "markdown",
   "id": "f811be3e",
   "metadata": {},
   "source": [
    "**What's going on?**\n",
    "\n",
    "- The vector $\\mathbf{d}$ is a scaled version of vector $\\mathbf{c}$, so we say that the two vectors are colinear. \n",
    "- Thus, all linear combinations of $\\mathbf{c}$ and $\\mathbf{d}$ end up on one line, which is their span. Their combinations are not able to travel all over the plane!"
   ]
  },
  {
   "cell_type": "code",
   "execution_count": null,
   "id": "0b54fd2a",
   "metadata": {},
   "outputs": [],
   "source": []
  },
  {
   "cell_type": "code",
   "execution_count": null,
   "id": "30d04fd6",
   "metadata": {},
   "outputs": [],
   "source": []
  },
  {
   "cell_type": "code",
   "execution_count": null,
   "id": "bdab34f2",
   "metadata": {},
   "outputs": [],
   "source": []
  },
  {
   "cell_type": "code",
   "execution_count": null,
   "id": "8c49a70d",
   "metadata": {},
   "outputs": [],
   "source": []
  },
  {
   "cell_type": "code",
   "execution_count": null,
   "id": "d3d3472d",
   "metadata": {},
   "outputs": [],
   "source": []
  },
  {
   "cell_type": "code",
   "execution_count": null,
   "id": "86fc6123",
   "metadata": {},
   "outputs": [],
   "source": []
  },
  {
   "cell_type": "markdown",
   "id": "69265e4e",
   "metadata": {},
   "source": [
    "## 8.  Vector to Vector Multiplication"
   ]
  },
  {
   "cell_type": "markdown",
   "id": "c387cb2a",
   "metadata": {},
   "source": [
    "### a. Dot Product\n",
    "- The multiplication of vectors is conducted through dot product such that the two vectors (same size) being multiplied produce a scalar value.\n",
    "- This is the most commonly used operation in machine learning.\n",
    "- **Mathematically:**\n",
    "    - The dot product of two vectors (when their components are known) is obtained by the summation of product of respective components:\n",
    "$$u \\cdot v = \\sum_{i=1}^{n} u_i v_i$$\n",
    "\n",
    "- **Geomatrically:**\n",
    "    - The dot product of two vectors (when their magnitude and angle between the two vectors are known) is the product of the magnitude of the vectors and the cosine of the angle between them:\n",
    "\n",
    "$$ \n",
    "\\hspace{3.0cm} u.v \\hspace{.3 cm}=\\hspace{.3 cm} |u| \\hspace{.3 cm} |v| \\hspace{.3 cm} Cos \\theta \n",
    "$$\n",
    "    \n",
    " - The formula to compute the **angle between two vectors** using Dot Product is:\n",
    "\n",
    "$$\n",
    "\\hspace{3.0cm} \\theta \\hspace{.3 cm}=\\hspace{.3 cm} cos^{-1} \\hspace{0.1 cm} \\frac{u.v}{|u| |v|} \n",
    "$$\n",
    "\n",
    "- The vector dot product is commutative in nature, i.e., $ u.v = v.u $ \n",
    "- The vector dot product can be to **determine orthogonality**, i.e., to check whether or not the two vectors are perpendicular to each other. If the vectors are perpendicular to each other then their dot product is zero\n",
    "- The dot product is the key tool for calculating **vector projections** and **vector decompositions** as well\n",
    "- The dot product is ubiquitous in deep learning: It is performed at every artificial neuron in a deep neural network, which may be made up of millions (or orders of magnitude more) of these neurons."
   ]
  },
  {
   "cell_type": "code",
   "execution_count": null,
   "id": "63f755ed",
   "metadata": {},
   "outputs": [],
   "source": []
  },
  {
   "cell_type": "code",
   "execution_count": null,
   "id": "df478eff",
   "metadata": {},
   "outputs": [],
   "source": []
  },
  {
   "cell_type": "markdown",
   "id": "4a3a87ac",
   "metadata": {},
   "source": [
    "**Example 1:** Find the dot product of the two vectors A(2, 2, -1) and B(5, -3, 2), and also calculate the angle between them.\n",
    "$\\hspace{8 cm}u \\cdot v = \\sum_{i=1}^{n} u_i v_i\\hspace{2 cm}$ OR $\\hspace{2 cm}  u.v \\hspace{.3 cm}=\\hspace{.3 cm} |u| \\hspace{.3 cm} |v| \\hspace{.3 cm} Cos \\theta $\n",
    "\n",
    "\n",
    "$$ \\theta \\hspace{.3 cm}=\\hspace{.3 cm} cos^{-1} \\hspace{0.1 cm} \\frac{u.v}{|u| |v|} $$\n"
   ]
  },
  {
   "cell_type": "code",
   "execution_count": 28,
   "id": "0ab02cf3",
   "metadata": {},
   "outputs": [],
   "source": [
    "import math"
   ]
  },
  {
   "cell_type": "code",
   "execution_count": 29,
   "id": "7e4e23f0",
   "metadata": {},
   "outputs": [
    {
     "name": "stdout",
     "output_type": "stream",
     "text": [
      "a =  [ 2  2 -1]\n",
      "b =  [ 5 -3  2]\n",
      "|a| =  3.0\n",
      "|b| =  6.164414002968976\n",
      "\n",
      "a.dot(b) =  2\n",
      "Angle:  83.79145537381414\n",
      "a.b = |a| |b| cos(𝜃) =  2.0000000000000027\n"
     ]
    }
   ],
   "source": [
    "a = np.array([2, 2, -1])\n",
    "b = np.array([5, -3, 2])\n",
    "print(\"a = \", a)\n",
    "print(\"b = \", b)\n",
    "\n",
    "#calculate magnitude of vector A and B\n",
    "mag1 = numpy.linalg.norm(a, ord=2)\n",
    "mag2 = numpy.linalg.norm(b, ord=2)\n",
    "print(\"|a| = \", mag1)\n",
    "print(\"|b| = \", mag2)\n",
    "\n",
    "# Calculate Dot Product mathematically\n",
    "ab = np.dot(a,b)\n",
    "ab = a[0]*b[0] + a[1]*b[1]+a[2]*b[2]\n",
    "print(\"\\na.dot(b) = \", ab)\n",
    "\n",
    "\n",
    "theta_rad = math.acos(ab/(mag1*mag2))\n",
    "theta_deg = theta_rad*(180/math.pi)  \n",
    "print(\"Angle: \", theta_deg)\n",
    "\n",
    "\n",
    "# Calculate Dot Product geometrically\n",
    "print(\"a.b = |a| |b| cos(𝜃) = \", mag1*mag2*math.cos(theta_rad))"
   ]
  },
  {
   "cell_type": "code",
   "execution_count": null,
   "id": "c7fed969",
   "metadata": {},
   "outputs": [],
   "source": []
  },
  {
   "cell_type": "code",
   "execution_count": null,
   "id": "078d5718",
   "metadata": {},
   "outputs": [],
   "source": []
  },
  {
   "cell_type": "markdown",
   "id": "24ade632",
   "metadata": {},
   "source": [
    "**Example 2:** Find out the angle between the given two vectors using dot product: <br>\n",
    "$a = 2i + 2j + 3k$<br>\n",
    "$b = 6i + 3j + 1k$\n",
    "\n",
    "\n",
    "$\\hspace{8 cm}u \\cdot v = \\sum_{i=1}^{n} u_i v_i\\hspace{2 cm}$ OR $\\hspace{2 cm}  u.v \\hspace{.3 cm}=\\hspace{.3 cm} |u| \\hspace{.3 cm} |v| \\hspace{.3 cm} Cos \\theta $\n",
    "\n",
    "\n",
    "$$ \\theta \\hspace{.3 cm}=\\hspace{.3 cm} cos^{-1} \\hspace{0.1 cm} \\frac{u.v}{|u| |v|} $$"
   ]
  },
  {
   "cell_type": "code",
   "execution_count": 30,
   "id": "ad290a79",
   "metadata": {},
   "outputs": [
    {
     "name": "stdout",
     "output_type": "stream",
     "text": [
      "a =  [2 2 3]\n",
      "b =  [6 3 1]\n",
      "|a| =  4.123105625617661\n",
      "|b| =  6.782329983125268\n",
      "\n",
      "a.dot(b) =  21\n",
      "Angle:  41.32652841215388\n",
      "a.b = |a| |b| cos(𝜃) =  21.0\n"
     ]
    }
   ],
   "source": [
    "a = np.array([2, 2, 3])\n",
    "b = np.array([6, 3, 1])\n",
    "\n",
    "# printing original vectors\n",
    "print(\"a = \", a)\n",
    "print(\"b = \", b)\n",
    "\n",
    "#calculate magnitude of vector A and B\n",
    "mag1 = numpy.linalg.norm(a, ord=2)\n",
    "mag2 = numpy.linalg.norm(b, ord=2)\n",
    "print(\"|a| = \", mag1)\n",
    "print(\"|b| = \", mag2)\n",
    "\n",
    "# Calculate Dot Product mathematically\n",
    "ab = np.dot(a,b)\n",
    "ab = a[0]*b[0] + a[1]*b[1]+a[2]*b[2]\n",
    "print(\"\\na.dot(b) = \", ab)\n",
    "\n",
    "\n",
    "theta_rad = math.acos(ab/(mag1*mag2))\n",
    "theta_deg = theta_rad*(180/math.pi)  \n",
    "print(\"Angle: \", theta_deg)\n",
    "\n",
    "\n",
    "# Calculate Dot Product geometrically\n",
    "print(\"a.b = |a| |b| cos(𝜃) = \", mag1*mag2*math.cos(theta_rad))"
   ]
  },
  {
   "cell_type": "code",
   "execution_count": null,
   "id": "6c3c95c8",
   "metadata": {},
   "outputs": [],
   "source": []
  },
  {
   "cell_type": "markdown",
   "id": "4ffea22c",
   "metadata": {},
   "source": [
    "### b. Vector Cross Product\n",
    "<img align=\"right\" width=\"200\" height=\"200\"  src=\"images/cross-product.png\"  >\n",
    "\n",
    "- Unlike dot product, the cross product of two vectors produce a new vector and the direction of the resultant vector is given by the right-hand rule.\n",
    "\n",
    "- **Mathematically:**\n",
    "    - The cross product of two vectors (when their components are known) is obtained by using the determinant of the matrix as given below:\n",
    "\n",
    "$$\n",
    "\\vec{a}\\times\\vec{b} = \\begin{pmatrix}\n",
    "      \\hat{i} & \\hat{j} & \\hat{k}\\\\ \n",
    "       a_1      &   a_2     &  a_3 \\\\ \n",
    "       b_1      &   b_2    &  b_3\n",
    "   \\end{pmatrix}\n",
    "$$\n",
    "\n",
    "$$\n",
    "\\vec{a}\\times\\vec{b} = (a_2b_3 - b_2a_3)\\hat{i} - (a_1b_3 - b_1a_3)\\hat{j} +(a_1b_2 - b_1a_2)\\hat{k} \n",
    "$$\n",
    "\n",
    "- **Geomatrically:**\n",
    "    - The cross product of two vectors (when their magnitude and angle between the two vectors are known) is the product of the magnitude of the vectors and the sine of the angle between them:\n",
    "\n",
    "$$\\hspace{3 cm} \\vec{a} \\times \\vec{b} \\hspace{.3 cm}=\\hspace{.3 cm} |a| \\hspace{.3 cm} |b| \\hspace{.3 cm} sin (\\theta) \\hspace{.3 cm} \\hat{n}$$\n",
    "\n",
    "- Where $\\hat{n}$ is the unit vector perpendicular to the plane containing the given two vectors, in the direction given by the right-hand rule.\n",
    "\n",
    "- The formula to compute the **angle between two vectors** using Cross Product is:\n",
    "\n",
    "$$ \\theta \\hspace{.3 cm}=\\hspace{.3 cm} sin^{-1} \\hspace{0.1 cm} \\frac{|\\vec{a}\\times\\vec{b}|}{|a| |b|} \n",
    "$$\n",
    "\n",
    "\n",
    "- **Properties:**\n",
    "    - The cross product is zero in length when vectors  A and B point in the same, or opposite, direction.\n",
    "    - The cross product is maximum in length when vectors A and B are at right angles.\n",
    "    - The vector cross product is NOT commutative in nature, i.e., $ a$ x $b \\neq b$ x $a $ "
   ]
  },
  {
   "cell_type": "code",
   "execution_count": null,
   "id": "f5c99ec3",
   "metadata": {},
   "outputs": [],
   "source": []
  },
  {
   "cell_type": "code",
   "execution_count": null,
   "id": "4508e0ca",
   "metadata": {},
   "outputs": [],
   "source": []
  },
  {
   "cell_type": "markdown",
   "id": "e4e263c6",
   "metadata": {},
   "source": [
    "**Example 1:** Find the cross product of two vectors A(3,5,-7) and B(2,-6,4). Later prove that the resultant vector is perpendicular to both A and B.\n",
    "\n",
    "$$\n",
    "\\vec{a}\\times\\vec{b} = \\begin{pmatrix}\n",
    "      \\hat{i} & \\hat{j} & \\hat{k}\\\\ \n",
    "       3      &   5     &  -7 \\\\ \n",
    "       2      &   -6    &  4\n",
    "   \\end{pmatrix}\n",
    "$$\n",
    "\n",
    "$$\n",
    "= (20-42)\\hat{i} - (12+14)\\hat{j} +(-18-10)\\hat{k} \n",
    "$$\n",
    "$$\n",
    "= -22\\hat{i}-26\\hat{j}-28\\hat{k}\n",
    "$$ "
   ]
  },
  {
   "cell_type": "code",
   "execution_count": 31,
   "id": "96101512",
   "metadata": {},
   "outputs": [
    {
     "name": "stdout",
     "output_type": "stream",
     "text": [
      "a =  [ 3  5 -7]\n",
      "b =  [ 2 -6  4]\n",
      "a x b =  [-22 -26 -28]\n",
      "\n",
      "|a| =  9.1104335791443\n",
      "|b| =  7.483314773547883\n",
      "|axb| =  7.483314773547883\n",
      "Angle:  40.29462137837708\n"
     ]
    }
   ],
   "source": [
    "a = np.array([3, 5, -7])   \n",
    "b = np.array([2, -6, 4])   \n",
    "\n",
    "# printing original vectors\n",
    "print(\"a = \", a)\n",
    "print(\"b = \", b)\n",
    "\n",
    "# Calculate Cross Product mathematically\n",
    "ab = np.cross(a,b)\n",
    "print(\"a x b = \", ab)\n",
    "\n",
    "\n",
    "#calculate magnitude of vector a and b\n",
    "mag1 = numpy.linalg.norm(a, ord=2)\n",
    "mag2 = numpy.linalg.norm(b, ord=2)\n",
    "mag3 = numpy.linalg.norm(ab, ord=2)\n",
    "print(\"\\n|a| = \", mag1)\n",
    "print(\"|b| = \", mag2)\n",
    "print(\"|axb| = \", mag2)\n",
    "\n",
    "# Calculate the angle between two vectors\n",
    "mag3 = numpy.linalg.norm(ab, ord=2)\n",
    "theta_rad = math.asin(mag3/(mag1*mag2))\n",
    "theta_deg = math.degrees(theta_rad) #theta_rad*(180/m.pi)  \n",
    "print(\"Angle: \", theta_deg)"
   ]
  },
  {
   "cell_type": "code",
   "execution_count": null,
   "id": "89bb9e43",
   "metadata": {},
   "outputs": [],
   "source": []
  },
  {
   "cell_type": "markdown",
   "id": "cc5c6123",
   "metadata": {},
   "source": [
    "<img align=\"right\" width=\"300\" height=\"300\"  src=\"images/LA/normal-vector.jpg\"  >\n",
    "\n",
    "### c. Orthogonal  and Orthonormal Vectors: \n",
    "**Orthogonal Vector:**\n",
    "- A normal vector is a vector that makes an angle of 90° with another surface, vector, or axis.\n",
    "- Two vectors are said to be orthogonal, if their dot product is equal to zero.\n",
    "\n",
    "$\\hspace{3 cm}\\vec{a}.\\vec{b} \\hspace{.3 cm}=\\hspace{.3 cm} |a| \\hspace{.1 cm} |b| \\hspace{.3 cm} cos(90) = 0$\n",
    "\n",
    "\n",
    "- Two vectors are said to be orthogonal, if their cross product is equal to $|a| \\hspace{.1 cm} |b|$.\n",
    "\n",
    "$\\hspace{3 cm} \\vec{a}$ x $\\vec{b} \\hspace{.3 cm}=\\hspace{.3 cm} |a| \\hspace{.1 cm} |b| \\hspace{.3 cm} sin (90) \\hspace{.3 cm} =  |a| \\hspace{.1 cm} |b|$\n",
    "\n",
    "\n",
    "**Orthonormal Vector:**\n",
    "- Orthonormal vectors are special type of orthogonal vectors having a magnitude of one.\n",
    "- So basis vectors are an example of orthonormal vector."
   ]
  },
  {
   "cell_type": "markdown",
   "id": "dc3fd722",
   "metadata": {},
   "source": [
    "**Example 1:** Determine if  the two vectors A(6, -2, -1) and B(2, 5, 2) are perpendicular to eachother. (If the vectors are perpendicular to each other then their dot product is zero)\n",
    "$$\n",
    "u \\cdot v = \\sum_{i=1}^{n} u_i v_i\n",
    "$$"
   ]
  },
  {
   "cell_type": "code",
   "execution_count": 32,
   "id": "7fce82db",
   "metadata": {},
   "outputs": [
    {
     "name": "stdout",
     "output_type": "stream",
     "text": [
      "a =  [ 6 -2 -1]\n",
      "b =  [2 5 2]\n",
      "a.b =  0\n",
      "Angle:  90.0\n",
      "|a| |b| sin(90) =  36.78314831549904\n",
      "|a| |b| =  36.78314831549904\n"
     ]
    }
   ],
   "source": [
    "a = np.array([6, -2, -1])\n",
    "b = np.array([2, 5, 2])\n",
    "\n",
    "# printing original vectors\n",
    "print(\"a = \", a)\n",
    "print(\"b = \", b)\n",
    "\n",
    "# Calculating Dot Product of Two Vectors\n",
    "ab = a.dot(b)\n",
    "ab = a[0]*b[0] + a[1]*b[1]+a[2]*b[2]\n",
    "print(\"a.b = \", ab)\n",
    "\n",
    "\n",
    "mag1 = numpy.linalg.norm(a, ord=2)\n",
    "mag2 = numpy.linalg.norm(b, ord=2)\n",
    "theta_rad = math.acos(ab/(mag1*mag2))\n",
    "theta_deg = math.degrees(theta_rad) #theta_rad*(180/m.pi)  \n",
    "print(\"Angle: \", theta_deg)\n",
    "\n",
    "\n",
    "lhs = mag1*mag2*math.sin(90*(math.pi/180))\n",
    "rhs = mag1*mag2\n",
    "print (\"|a| |b| sin(90) = \", lhs)\n",
    "print (\"|a| |b| = \", rhs)\n",
    "        "
   ]
  },
  {
   "cell_type": "code",
   "execution_count": null,
   "id": "2ca48c43",
   "metadata": {},
   "outputs": [],
   "source": []
  },
  {
   "cell_type": "markdown",
   "id": "d5713734",
   "metadata": {},
   "source": [
    "### [Linear Algebra/Definition and Examples of Vector Spaces](https://en.wikibooks.org/wiki/Linear_Algebra/Definition_and_Examples_of_Vector_Spaces)\n"
   ]
  },
  {
   "cell_type": "code",
   "execution_count": null,
   "id": "669b083c",
   "metadata": {},
   "outputs": [],
   "source": []
  },
  {
   "cell_type": "markdown",
   "id": "1719531a",
   "metadata": {},
   "source": [
    "### [Linear Algebra/Definition and Examples of Linear Independence](https://en.wikibooks.org/wiki/Linear_Algebra/Definition_and_Examples_of_Linear_Independence)"
   ]
  },
  {
   "cell_type": "code",
   "execution_count": null,
   "id": "2d2dacf7",
   "metadata": {},
   "outputs": [],
   "source": []
  },
  {
   "cell_type": "code",
   "execution_count": null,
   "id": "02990122",
   "metadata": {},
   "outputs": [],
   "source": []
  },
  {
   "cell_type": "code",
   "execution_count": null,
   "id": "6af83802",
   "metadata": {},
   "outputs": [],
   "source": []
  },
  {
   "cell_type": "code",
   "execution_count": null,
   "id": "702058d2",
   "metadata": {},
   "outputs": [],
   "source": []
  },
  {
   "cell_type": "code",
   "execution_count": null,
   "id": "ca3a68da",
   "metadata": {},
   "outputs": [],
   "source": []
  },
  {
   "cell_type": "code",
   "execution_count": null,
   "id": "252c3d79",
   "metadata": {},
   "outputs": [],
   "source": []
  },
  {
   "cell_type": "markdown",
   "id": "659c3666",
   "metadata": {},
   "source": [
    "# <span style='background :lightgreen' > Section II: (Overview of Linear Alagebra: Matrices) </span>\n",
    "<h2 align=\"center\">\"Unfortunately, no one can be told what the Matrix is. You have to see it for yourself.\"</h2>\n",
    "<h4 align=\"right\">-Morpheus-</h4>"
   ]
  },
  {
   "cell_type": "code",
   "execution_count": 33,
   "id": "66448eb6",
   "metadata": {},
   "outputs": [],
   "source": [
    "import numpy as np\n",
    "import numpy.linalg\n",
    "import math\n",
    "import scipy\n",
    "from matplotlib import pyplot as plt\n",
    "from plot_helper import * # Helper functions: plot_vector, plot_linear_transformation, plot_linear_transformations"
   ]
  },
  {
   "cell_type": "code",
   "execution_count": null,
   "id": "3ef01726",
   "metadata": {},
   "outputs": [],
   "source": []
  },
  {
   "cell_type": "code",
   "execution_count": null,
   "id": "15c92892",
   "metadata": {},
   "outputs": [],
   "source": []
  },
  {
   "cell_type": "code",
   "execution_count": null,
   "id": "9e5f079c",
   "metadata": {},
   "outputs": [],
   "source": []
  },
  {
   "cell_type": "code",
   "execution_count": null,
   "id": "2064123e",
   "metadata": {},
   "outputs": [],
   "source": []
  },
  {
   "cell_type": "code",
   "execution_count": null,
   "id": "a8676273",
   "metadata": {},
   "outputs": [],
   "source": []
  },
  {
   "cell_type": "code",
   "execution_count": null,
   "id": "9db926a5",
   "metadata": {},
   "outputs": [],
   "source": []
  },
  {
   "cell_type": "markdown",
   "id": "f7ffaa9b",
   "metadata": {},
   "source": [
    "## 1. Overview of Matrices\n",
    "- A matrix is a **two-dimensional array** of scalar values with one or more columns and one or more rows. They are also known as arrays.\n",
    "- The numbers, variables, or expressions inside the matrix are called the entries or elements of a matrix.\n",
    "$$\n",
    "A_{m,n} = \n",
    "\\begin{pmatrix}\n",
    "a_{1,1} & a_{1,2} & a_{1,3}& \\cdots & a_{1,n} \\\\\n",
    "a_{2,1} & a_{2,2} & a_{2,3}& \\cdots & a_{2,n} \\\\\n",
    "a_{3,1} & a_{3,2} & a_{3,3}&\\cdots & a_{3,n} \\\\\n",
    "\\vdots  & \\vdots  & \\ddots & \\vdots  \\\\\n",
    "a_{m,1} & a_{m,2} & a_{m,3}& \\cdots & a_{m,n} \n",
    "\\end{pmatrix}\n",
    "$$\n",
    "\n",
    "\n",
    "- The notation for a matrix is often an uppercase letter, such as **A**, and dimensions of a matrix is denoted as `m × n` for the number of rows and the number of columns respectively. \n",
    "- The elements of a matrix are referred to by the row and the column subscript, such as **a<sub>i</sub>,<sub>j</sub>**. \n",
    "- Matrices are a foundational element of linear algebra. Matrices are used throughout the field of machine learning in the description of **algorithms** and **processes** such as the input data variable (X) when training an algorithm. "
   ]
  },
  {
   "cell_type": "code",
   "execution_count": null,
   "id": "2e0c6905",
   "metadata": {},
   "outputs": [],
   "source": []
  },
  {
   "cell_type": "code",
   "execution_count": null,
   "id": "c332c32d",
   "metadata": {},
   "outputs": [],
   "source": []
  },
  {
   "cell_type": "code",
   "execution_count": null,
   "id": "7beb006b",
   "metadata": {},
   "outputs": [],
   "source": []
  },
  {
   "cell_type": "code",
   "execution_count": null,
   "id": "b02d70ff",
   "metadata": {},
   "outputs": [],
   "source": []
  },
  {
   "cell_type": "markdown",
   "id": "7fc063f1",
   "metadata": {},
   "source": [
    "## 2. Matrices and its Types"
   ]
  },
  {
   "cell_type": "markdown",
   "id": "092249b7",
   "metadata": {},
   "source": [
    "**Example:** Defining a 3x3 matrix using NumPy, $A =$ \n",
    "$\\begin{bmatrix} \n",
    "       -2 & 1 & 3\\\\ \n",
    "       1 & -3 & 5\\\\\n",
    "       -3 & 2 & 1\n",
    " \\end{bmatrix} $  "
   ]
  },
  {
   "cell_type": "code",
   "execution_count": 34,
   "id": "2811c311",
   "metadata": {},
   "outputs": [
    {
     "name": "stdout",
     "output_type": "stream",
     "text": [
      "Matrix A = \n",
      " [[-2  1  3]\n",
      " [ 1 -3  2]\n",
      " [-3  2  1]]\n",
      "A.ndim:  2\n",
      "A.shape:  (3, 3)\n",
      "A.size:  9\n"
     ]
    }
   ],
   "source": [
    "A = np.array([[-2, 1, 3], [1, -3, 2], [-3, 2, 1]])\n",
    "print(\"Matrix A = \\n\", A)\n",
    "\n",
    "print(\"A.ndim: \", A.ndim)   \n",
    "print(\"A.shape: \", A.shape) \n",
    "print(\"A.size: \", A.size)   "
   ]
  },
  {
   "cell_type": "code",
   "execution_count": null,
   "id": "5075cab0",
   "metadata": {},
   "outputs": [],
   "source": []
  },
  {
   "cell_type": "code",
   "execution_count": null,
   "id": "a7f22274",
   "metadata": {},
   "outputs": [],
   "source": []
  },
  {
   "cell_type": "code",
   "execution_count": null,
   "id": "1a43a2d4",
   "metadata": {},
   "outputs": [],
   "source": []
  },
  {
   "cell_type": "code",
   "execution_count": null,
   "id": "f7244e43",
   "metadata": {},
   "outputs": [],
   "source": []
  },
  {
   "cell_type": "markdown",
   "id": "3b54414e",
   "metadata": {},
   "source": [
    "### a. Row Vector\n",
    "- A row vector is a matrix with exactly one row and one or many columns.\n",
    "- A row vector with one row and n columns is shown below:\n",
    "\n",
    "$\\begin{bmatrix} \n",
    "       b_1 & b_2 & b_3 & \\cdots & b_n\\\\ \n",
    " \\end{bmatrix} $  \n",
    " \n",
    "- Let us create a row vector having one row and three columns"
   ]
  },
  {
   "cell_type": "code",
   "execution_count": 35,
   "id": "f3a8c3fd",
   "metadata": {},
   "outputs": [
    {
     "name": "stdout",
     "output_type": "stream",
     "text": [
      "Matrix B = \n",
      " [-2  1  3]\n",
      "A.ndim:  1\n",
      "A.shape:  (3,)\n",
      "\n",
      "Transpose of Matrix B = \n",
      " [-2  1  3]\n",
      "A.ndim:  1\n",
      "A.shape:  (3,)\n"
     ]
    }
   ],
   "source": [
    "B = np.array([-2, 1, 3])\n",
    "print(\"Matrix B = \\n\", B)\n",
    "print(\"A.ndim: \", B.ndim)   \n",
    "print(\"A.shape: \", B.shape) \n",
    "\n",
    "# Taking the transpose of a matrix means to interchange the rows with columns. \n",
    "# The rows become columns and the columns become rows.\n",
    "Bt = B.T\n",
    "print(\"\\nTranspose of Matrix B = \\n\", Bt)\n",
    "print(\"A.ndim: \", Bt.ndim)   \n",
    "print(\"A.shape: \", Bt.shape) \n"
   ]
  },
  {
   "cell_type": "markdown",
   "id": "a7baa6d6",
   "metadata": {},
   "source": [
    "### b. Column Vector\n",
    "- A column vector is a matrix with exactly one column and one or many rows.\n",
    "- A column vector with one column and n rows is shown below:\n",
    "\n",
    "$\\begin{bmatrix} \n",
    "       b_1 \\\\ b_2 \\\\ b_3 \\\\ \\vdots \\\\ b_n\\\\ \n",
    " \\end{bmatrix} $  \n",
    " \n",
    "- Let us create a column vector having one column and three rows"
   ]
  },
  {
   "cell_type": "code",
   "execution_count": 36,
   "id": "ed52e6d4",
   "metadata": {},
   "outputs": [
    {
     "name": "stdout",
     "output_type": "stream",
     "text": [
      "Matrix B = \n",
      " [[-2]\n",
      " [ 1]\n",
      " [ 3]]\n",
      "A.ndim:  2\n",
      "A.shape:  (3, 1)\n",
      "\n",
      "Transpose of Matrix B = \n",
      " [[-2  1  3]]\n",
      "A.ndim:  2\n",
      "A.shape:  (1, 3)\n"
     ]
    }
   ],
   "source": [
    "B = np.array([[-2], [1], [3]])\n",
    "print(\"Matrix B = \\n\", B)\n",
    "print(\"A.ndim: \", B.ndim)   \n",
    "print(\"A.shape: \", B.shape) \n",
    "\n",
    "# Taking the transpose of a matrix means to interchange the rows with columns. \n",
    "# The rows become columns and the columns become rows.\n",
    "Bt = B.T\n",
    "print(\"\\nTranspose of Matrix B = \\n\", Bt)\n",
    "print(\"A.ndim: \", Bt.ndim)   \n",
    "print(\"A.shape: \", Bt.shape) \n"
   ]
  },
  {
   "cell_type": "code",
   "execution_count": null,
   "id": "bf39eeb5",
   "metadata": {},
   "outputs": [],
   "source": []
  },
  {
   "cell_type": "code",
   "execution_count": null,
   "id": "b1b6d580",
   "metadata": {},
   "outputs": [],
   "source": []
  },
  {
   "cell_type": "code",
   "execution_count": null,
   "id": "3936bd17",
   "metadata": {},
   "outputs": [],
   "source": []
  },
  {
   "cell_type": "code",
   "execution_count": null,
   "id": "3da44d51",
   "metadata": {},
   "outputs": [],
   "source": []
  },
  {
   "cell_type": "markdown",
   "id": "f30b107f",
   "metadata": {},
   "source": [
    "### c. Zero Matrix\n",
    "- A matrix having all its elements as zero is a zero matrix $A =$ \n",
    "$\\begin{bmatrix} \n",
    "       0 & 0 & 0\\\\ \n",
    "       0 & 0 & 0\n",
    " \\end{bmatrix} $  \n",
    " \n",
    "- We can create a zero matrix using the `numpy.zeros()` method as shown below:"
   ]
  },
  {
   "cell_type": "code",
   "execution_count": 37,
   "id": "757ef4bc",
   "metadata": {},
   "outputs": [
    {
     "name": "stdout",
     "output_type": "stream",
     "text": [
      "Matrix A = \n",
      " [[0 0 0]\n",
      " [0 0 0]]\n"
     ]
    }
   ],
   "source": [
    "A = np.zeros((2,3), dtype=np.int16)\n",
    "print(\"Matrix A = \\n\", A)"
   ]
  },
  {
   "cell_type": "code",
   "execution_count": null,
   "id": "06a6b8a8",
   "metadata": {},
   "outputs": [],
   "source": []
  },
  {
   "cell_type": "code",
   "execution_count": null,
   "id": "34f14504",
   "metadata": {},
   "outputs": [],
   "source": []
  },
  {
   "cell_type": "code",
   "execution_count": null,
   "id": "fd044255",
   "metadata": {},
   "outputs": [],
   "source": []
  },
  {
   "cell_type": "code",
   "execution_count": null,
   "id": "4bcee330",
   "metadata": {},
   "outputs": [],
   "source": []
  },
  {
   "cell_type": "code",
   "execution_count": null,
   "id": "3bb561a4",
   "metadata": {},
   "outputs": [],
   "source": []
  },
  {
   "cell_type": "markdown",
   "id": "639e7732",
   "metadata": {},
   "source": [
    "### d. Ones Matrix\n",
    "- A matrix having all its elements as ones is a ones matrix $A =$ \n",
    "$\\begin{bmatrix} \n",
    "       1 & 1\\\\ \n",
    "       1 & 1\\\\\n",
    "       1 & 1\n",
    " \\end{bmatrix} $  \n",
    " \n",
    "- We can create a ones matrix using the `numpy.ones()` method as shown below:"
   ]
  },
  {
   "cell_type": "code",
   "execution_count": 38,
   "id": "3e1ea268",
   "metadata": {},
   "outputs": [
    {
     "name": "stdout",
     "output_type": "stream",
     "text": [
      "Matrix A = \n",
      " [[1 1 1]\n",
      " [1 1 1]]\n"
     ]
    }
   ],
   "source": [
    "A = np.ones((2, 3), dtype=int)\n",
    "print(\"Matrix A = \\n\", A)"
   ]
  },
  {
   "cell_type": "code",
   "execution_count": null,
   "id": "a59a8e57",
   "metadata": {},
   "outputs": [],
   "source": []
  },
  {
   "cell_type": "code",
   "execution_count": null,
   "id": "48e9ac60",
   "metadata": {},
   "outputs": [],
   "source": []
  },
  {
   "cell_type": "code",
   "execution_count": null,
   "id": "6377432a",
   "metadata": {},
   "outputs": [],
   "source": []
  },
  {
   "cell_type": "code",
   "execution_count": null,
   "id": "ddc12e06",
   "metadata": {},
   "outputs": [],
   "source": []
  },
  {
   "cell_type": "markdown",
   "id": "952c721e",
   "metadata": {},
   "source": [
    "### e. Random Integer Matrix\n",
    "- To create a Matrix of any size, with random values of low inclusive and high exclusive and size size, we can use the  numpy.random.randint(low, high, size) method."
   ]
  },
  {
   "cell_type": "code",
   "execution_count": 49,
   "id": "ddb71875",
   "metadata": {},
   "outputs": [
    {
     "name": "stdout",
     "output_type": "stream",
     "text": [
      "Matrix A = \n",
      " [[2 2 3]\n",
      " [0 2 4]\n",
      " [1 1 6]\n",
      " [7 0 3]\n",
      " [1 3 4]]\n"
     ]
    }
   ],
   "source": [
    "A = np.random.randint(0, 10, size =(5, 3))\n",
    "print (\"Matrix A = \\n\", A)"
   ]
  },
  {
   "cell_type": "code",
   "execution_count": null,
   "id": "52e3c9ca",
   "metadata": {},
   "outputs": [],
   "source": []
  },
  {
   "cell_type": "code",
   "execution_count": null,
   "id": "27a1820e",
   "metadata": {},
   "outputs": [],
   "source": []
  },
  {
   "cell_type": "markdown",
   "id": "0c9aa863",
   "metadata": {},
   "source": [
    "### f. Square Matrix\n",
    "- An `n × n` matrix is said to be a square matrix of order `n`. \n",
    "- In simple words, when the number of rows and the number of columns in the matrix are equal then the matrix is called square matrix.\n",
    "\n",
    "$A =$ \n",
    "$\\begin{bmatrix} \n",
    "       6 & 3 & 8\\\\ \n",
    "       2 & 1 & 9\\\\\n",
    "       8 & 2 & 7\n",
    " \\end{bmatrix} $  "
   ]
  },
  {
   "cell_type": "code",
   "execution_count": 55,
   "id": "d7ea6816",
   "metadata": {},
   "outputs": [
    {
     "name": "stdout",
     "output_type": "stream",
     "text": [
      "Matrix A = \n",
      " [[6 3 8]\n",
      " [2 1 9]\n",
      " [8 2 7]]\n"
     ]
    }
   ],
   "source": [
    "A = np.random.randint(1, 10, size =(3, 3))\n",
    "np.random.seed(54)\n",
    "print (\"Matrix A = \\n\", A)"
   ]
  },
  {
   "cell_type": "code",
   "execution_count": null,
   "id": "5b73c7cc",
   "metadata": {},
   "outputs": [],
   "source": []
  },
  {
   "cell_type": "code",
   "execution_count": null,
   "id": "39ad6169",
   "metadata": {},
   "outputs": [],
   "source": []
  },
  {
   "cell_type": "code",
   "execution_count": null,
   "id": "9af382af",
   "metadata": {},
   "outputs": [],
   "source": []
  },
  {
   "cell_type": "code",
   "execution_count": null,
   "id": "ab3e2e89",
   "metadata": {},
   "outputs": [],
   "source": []
  },
  {
   "cell_type": "code",
   "execution_count": null,
   "id": "96ae44fb",
   "metadata": {},
   "outputs": [],
   "source": []
  },
  {
   "cell_type": "markdown",
   "id": "ba1cfc47",
   "metadata": {},
   "source": [
    "### g. Symmetric Matrix\n",
    "- A symmetric matrix is a type of square matrix where the `top-right triangle` is the same as the `bottom-left` triangle.\n",
    "- Matrix A is a   3 × 3 symmetric matrix: \n",
    "$A =$ \n",
    "$\\begin{bmatrix} \n",
    "       4 & 1 & 7\\\\ \n",
    "       1 & -3 & 5\\\\\n",
    "       7 & 5 & 2\n",
    " \\end{bmatrix} $  \n",
    "\n",
    "\n",
    "- In the above 3 × 3 square matrix A the diagonal 4, -3, 2 is the principal diagonal and 4, -3 and 2 are said to be the diagonal elements.\n",
    "-  The transpose of a symmetric matrix is the matrix itself. $A = A^T$"
   ]
  },
  {
   "cell_type": "code",
   "execution_count": 56,
   "id": "16a6e7c7",
   "metadata": {},
   "outputs": [
    {
     "name": "stdout",
     "output_type": "stream",
     "text": [
      "Matrix A = \n",
      " [[ 4  1  7]\n",
      " [ 1 -3  5]\n",
      " [ 7  5  2]]\n",
      "\n",
      "Transpose of A = \n",
      " [[ 4  1  7]\n",
      " [ 1 -3  5]\n",
      " [ 7  5  2]]\n"
     ]
    },
    {
     "data": {
      "text/plain": [
       "array([[ 4,  1,  7],\n",
       "       [ 1, -3,  5],\n",
       "       [ 7,  5,  2]])"
      ]
     },
     "execution_count": 56,
     "metadata": {},
     "output_type": "execute_result"
    }
   ],
   "source": [
    "A = np.array([[4, 1, 7], [1, -3, 5], [7, 5, 2]])\n",
    "print(\"Matrix A = \\n\", A)\n",
    "\n",
    "# taking transpose of the matrix\n",
    "print('\\nTranspose of A = \\n', A.T)\n",
    "np.transpose(A)"
   ]
  },
  {
   "cell_type": "code",
   "execution_count": 57,
   "id": "a39ac407",
   "metadata": {},
   "outputs": [
    {
     "data": {
      "text/plain": [
       "array([[ 4,  1,  7],\n",
       "       [ 1, -3,  5],\n",
       "       [ 7,  5,  2]])"
      ]
     },
     "execution_count": 57,
     "metadata": {},
     "output_type": "execute_result"
    }
   ],
   "source": [
    "A.T"
   ]
  },
  {
   "cell_type": "code",
   "execution_count": null,
   "id": "e5ac78d8",
   "metadata": {},
   "outputs": [],
   "source": []
  },
  {
   "cell_type": "markdown",
   "id": "0cd9b034",
   "metadata": {},
   "source": [
    "### h. Triangular Matrix\n",
    "- Given a matrix A, having `m` rows and `n` columns. \n",
    "$$\n",
    "A_{m,n} = \n",
    "\\begin{pmatrix}\n",
    "a_{1,1} & a_{1,2} & a_{1,3}& \\cdots & a_{1,n} \\\\\n",
    "a_{2,1} & a_{2,2} & a_{2,3}& \\cdots & a_{2,n} \\\\\n",
    "a_{3,1} & a_{3,2} & a_{3,3}&\\cdots & a_{3,n} \\\\\n",
    "\\vdots  & \\vdots  & \\ddots & \\vdots  \\\\\n",
    "a_{m,1} & a_{m,2} & a_{m,3}& \\cdots & a_{m,n} \n",
    "\\end{pmatrix}\n",
    "$$\n",
    " \n",
    "- The `Upper triangular matrix` of matrix $A$ has values only above the main diagonal, while the remaining elements are filled with zeros. <br>\n",
    "\n",
    "$\\begin{pmatrix}\n",
    "a_{1,1} & a_{1,2} & a_{1,3}& \\cdots & a_{1,n} \\\\\n",
    "0 & a_{2,2} & a_{2,3}& \\cdots & a_{2,n} \\\\\n",
    "0 & 0 & a_{3,3}&\\cdots & a_{3,n} \\\\\n",
    "\\vdots  & \\vdots  & \\ddots & \\vdots  \\\\\n",
    "0 & 0 & 0& \\cdots & a_{m,n} \n",
    "\\end{pmatrix}\n",
    "$\n",
    "\n",
    "- The `Lower triangular matrix` of matrix $A$ has values only below the main diagonal, while the remaining elements are filled with zeros. <br>\n",
    "$\n",
    "\\begin{pmatrix}\n",
    "a_{1,1} & 0 & 0& \\cdots & 0 \\\\\n",
    "a_{2,1} & a_{2,2} & 0& \\cdots & 0 \\\\\n",
    "a_{3,1} & a_{3,2} & a_{3,3}&\\cdots & 0 \\\\\n",
    "\\vdots  & \\vdots  & \\ddots & \\vdots  \\\\\n",
    "a_{m,1} & a_{m,2} & a_{m,3}& \\cdots & a_{m,n} \n",
    "\\end{pmatrix}\n",
    "$"
   ]
  },
  {
   "cell_type": "code",
   "execution_count": 58,
   "id": "0bdee3a1",
   "metadata": {},
   "outputs": [
    {
     "name": "stdout",
     "output_type": "stream",
     "text": [
      "Matrix A: \n",
      " [[6 3 8 5]\n",
      " [2 1 9 7]\n",
      " [8 2 4 7]\n",
      " [3 1 5 8]]\n",
      "Lower Triangular Matrix of A:\n",
      " [[6 0 0 0]\n",
      " [2 1 0 0]\n",
      " [8 2 4 0]\n",
      " [3 1 5 8]]\n",
      "Upper Triangular Matrix of A: \n",
      " [[6 3 8 5]\n",
      " [0 1 9 7]\n",
      " [0 0 4 7]\n",
      " [0 0 0 8]]\n"
     ]
    }
   ],
   "source": [
    "A = np.array([[6, 3, 8, 5], [2, 1, 9, 7], [8, 2, 4, 7], [3, 1, 5, 8]])\n",
    "print(\"Matrix A: \\n\", A)\n",
    "\n",
    "# Lower triangular matrix of matrix A\n",
    "lower = np.tril(A)\n",
    "print(\"Lower Triangular Matrix of A:\\n\", lower)\n",
    "\n",
    "# Upper triangular matrix of matrix A\n",
    "upper = np.triu(A)\n",
    "print(\"Upper Triangular Matrix of A: \\n\", upper)"
   ]
  },
  {
   "cell_type": "code",
   "execution_count": null,
   "id": "2c316820",
   "metadata": {},
   "outputs": [],
   "source": []
  },
  {
   "cell_type": "code",
   "execution_count": null,
   "id": "a9687e3e",
   "metadata": {},
   "outputs": [],
   "source": []
  },
  {
   "cell_type": "code",
   "execution_count": null,
   "id": "541a0bde",
   "metadata": {},
   "outputs": [],
   "source": []
  },
  {
   "cell_type": "markdown",
   "id": "1bd4f052",
   "metadata": {},
   "source": [
    "### i. Diagonal Matrix\n",
    "- A diagonal matrix is a square matrix in which all entries that are not on the main diagonal are zero.\n",
    "- A diagonal matrix is a special square matrix that is BOTH upper and lower triangular since all elements, whether above or below the principal diagonal, are 0.\n",
    "- A diagonal matrix is often denoted with the variable `D`\n",
    "\n",
    "$$\n",
    "A_{n,n} = \n",
    "\\begin{pmatrix}\n",
    "a_{1,1} & 0 & 0& \\cdots & 0 \\\\\n",
    "0 & a_{2,2} & 0&\\cdots & 0 \\\\\n",
    "0 & 0 & a_{3,3}&\\cdots & 0 \\\\\n",
    "\\vdots  & \\vdots  & \\vdots & \\ddots & \\vdots  \\\\\n",
    "0 & 0 & 0 & \\cdots & a_{n,n} \n",
    "\\end{pmatrix}\n",
    "$$\n",
    "\n",
    "- There are two ways to represent a diagonal matrix:\n",
    "    - As a full matrix.\n",
    "    - As a vector of values on the main diagonal. \n",
    "    \n",
    "- NumPy provides the function `np.diag()` that can create a diagonal matrix from an existing matrix, or transform a vector into a diagonal matrix."
   ]
  },
  {
   "cell_type": "code",
   "execution_count": 60,
   "id": "2b53e086",
   "metadata": {},
   "outputs": [
    {
     "name": "stdout",
     "output_type": "stream",
     "text": [
      "Matrix A : \n",
      " [[7 9 8 4]\n",
      " [3 2 3 7]\n",
      " [9 2 8 8]\n",
      " [3 8 8 9]]\n",
      "\n",
      "Diagonal Vector =  [7 2 8 9]\n",
      "\n",
      "Diagonal Matrix : \n",
      " [[7 0 0 0]\n",
      " [0 2 0 0]\n",
      " [0 0 8 0]\n",
      " [0 0 0 9]]\n"
     ]
    }
   ],
   "source": [
    "A = np.random.randint(1, 10, size =(4, 4))\n",
    "print(\"Matrix A : \\n\", A)\n",
    "\n",
    "# Extract a diagonal vector from a matrix\n",
    "d = np.diag(A)\n",
    "print(\"\\nDiagonal Vector = \", d)\n",
    "\n",
    "# create diagonal matrix from diognal vector\n",
    "D = np.diag(d)\n",
    "print(\"\\nDiagonal Matrix : \\n\", D)"
   ]
  },
  {
   "cell_type": "code",
   "execution_count": null,
   "id": "38acc8c3",
   "metadata": {},
   "outputs": [],
   "source": []
  },
  {
   "cell_type": "code",
   "execution_count": null,
   "id": "ab30c113",
   "metadata": {},
   "outputs": [],
   "source": []
  },
  {
   "cell_type": "code",
   "execution_count": null,
   "id": "7a6858db",
   "metadata": {},
   "outputs": [],
   "source": []
  },
  {
   "cell_type": "code",
   "execution_count": null,
   "id": "1258a9af",
   "metadata": {},
   "outputs": [],
   "source": []
  },
  {
   "cell_type": "markdown",
   "id": "5a9906d0",
   "metadata": {},
   "source": [
    "### j. Identity Matrix\n",
    "- An identity matrix $I_n$, is a square matrix in which all the entries in the principal diagonal are 1 and all other elements are 0. \n",
    "\n",
    "$$I_2 =\\begin{bmatrix} \n",
    "       1 & 0\\\\ \n",
    "       0 & 1\n",
    " \\end{bmatrix} $$\n",
    "\n",
    "\n",
    "$$I_3 =\\begin{bmatrix} \n",
    "       1 & 0 & 0\\\\ \n",
    "       0 & 1 & 0\\\\\n",
    "       0 & 0 & 1\n",
    " \\end{bmatrix} $$  \n",
    " \n",
    "- **Properties of Identity Matrix:**\n",
    "    - A vector of length `n` remains unchanged when multiplied with $I_n$.\n",
    "    - Multiplying a matrix or vector by its compatible identity matrix, will result the matrix itself. $AI = A$\n",
    "    - Multiplying a matrix by its inverse will result in an identity matrix of the same order. $AA^{-1} = I$\n",
    "    - The `trace` (sum of elements in principal diagonal) of an identity matrix is equal to identity matrix’s order.\n",
    "    - The determinant of an identity matrix is always equal to 1.\n",
    "\n",
    "\n",
    "- The `numpy.eye(rows, cols, k, dtype)` function is used to create an identigy matrix.\n",
    "    - Where, default value of `k` is zero, means main diagonal,  a positive value refers to an upper diagonal, and a negative value refers to a lower diagonal.\n",
    "    - Default `dtype` is float"
   ]
  },
  {
   "cell_type": "code",
   "execution_count": 61,
   "id": "c96936e7",
   "metadata": {},
   "outputs": [
    {
     "name": "stdout",
     "output_type": "stream",
     "text": [
      "3x3 Identiy Matrix:\n",
      " [[1. 0. 0. 0.]\n",
      " [0. 1. 0. 0.]\n",
      " [0. 0. 1. 0.]\n",
      " [0. 0. 0. 1.]]\n"
     ]
    }
   ],
   "source": [
    "I3 = np.eye(4, 4)\n",
    "print(\"3x3 Identiy Matrix:\\n\", I3)"
   ]
  },
  {
   "cell_type": "code",
   "execution_count": 62,
   "id": "af3e56f8",
   "metadata": {},
   "outputs": [
    {
     "name": "stdout",
     "output_type": "stream",
     "text": [
      "3x3 Identiy Matrix:\n",
      " [[0 1 0 0]\n",
      " [0 0 1 0]\n",
      " [0 0 0 1]\n",
      " [0 0 0 0]]\n"
     ]
    }
   ],
   "source": [
    "I3 = np.eye(4, 4, 1,dtype=np.uint8)\n",
    "print(\"3x3 Identiy Matrix:\\n\", I3)"
   ]
  },
  {
   "cell_type": "code",
   "execution_count": 63,
   "id": "1de7b14b",
   "metadata": {},
   "outputs": [
    {
     "name": "stdout",
     "output_type": "stream",
     "text": [
      "3x3 Identiy Matrix:\n",
      " [[0 0 0 0]\n",
      " [1 0 0 0]\n",
      " [0 1 0 0]\n",
      " [0 0 1 0]]\n"
     ]
    }
   ],
   "source": [
    "I3 = np.eye(4, 4, -1,dtype=np.uint8)\n",
    "print(\"3x3 Identiy Matrix:\\n\", I3)"
   ]
  },
  {
   "cell_type": "code",
   "execution_count": null,
   "id": "dfd351eb",
   "metadata": {},
   "outputs": [],
   "source": []
  },
  {
   "cell_type": "code",
   "execution_count": null,
   "id": "50b16c87",
   "metadata": {},
   "outputs": [],
   "source": []
  },
  {
   "cell_type": "code",
   "execution_count": null,
   "id": "ad3288cc",
   "metadata": {},
   "outputs": [],
   "source": []
  },
  {
   "cell_type": "code",
   "execution_count": null,
   "id": "5b2db238",
   "metadata": {},
   "outputs": [],
   "source": []
  },
  {
   "cell_type": "markdown",
   "id": "d973bea6",
   "metadata": {},
   "source": [
    "### k. Scalar Matrix\n",
    "- A scalar matrix is a type of square matrix in which its principal diagonal elements are all equal  and off-diagonal elements are all 0. \n",
    "- It is a multiplicative constant of an identity matrix.\n",
    "- Some examples of 2x2 scalar matrices are given below:<br><br>\n",
    "$\\begin{bmatrix} \n",
    "       2 & 0\\\\ \n",
    "       0 & 2\n",
    " \\end{bmatrix}\n",
    "\\hspace{2 cm}\\begin{bmatrix} \n",
    "       -3 & 0\\\\ \n",
    "       0 & -3\n",
    " \\end{bmatrix} \n",
    " \\hspace{2 cm}\\begin{bmatrix} \n",
    "       4 & 0\\\\ \n",
    "       0 & 4\n",
    " \\end{bmatrix} $  \n",
    "  \n",
    "\n",
    "\n",
    "- Some examples of 3x3 scalar matrices are given below:<br><br>\n",
    "$\\begin{bmatrix} \n",
    "       4 & 0 & 0\\\\ \n",
    "       0 & 4 & 0\\\\\n",
    "       0 & 0 & 4\n",
    " \\end{bmatrix} \n",
    "\\hspace{2 cm}\\begin{bmatrix} \n",
    "       -3 & 0 & 0\\\\ \n",
    "       0 & -3 & 0\\\\\n",
    "       0 & 0 & -3\n",
    " \\end{bmatrix} \n",
    " \\hspace{2 cm}\\begin{bmatrix} \n",
    "       2 & 0 & 0\\\\ \n",
    "       0 & 2 & 0\\\\\n",
    "       0 & 0 & 2\n",
    " \\end{bmatrix} $  "
   ]
  },
  {
   "cell_type": "code",
   "execution_count": 64,
   "id": "f12dfb34",
   "metadata": {},
   "outputs": [
    {
     "name": "stdout",
     "output_type": "stream",
     "text": [
      "Scalar Matrix A:\n",
      " [[2 0 0]\n",
      " [0 2 0]\n",
      " [0 0 2]]\n",
      "Scalar Matrix B:\n",
      " [[-3  0  0  0]\n",
      " [ 0 -3  0  0]\n",
      " [ 0  0 -3  0]\n",
      " [ 0  0  0 -3]]\n"
     ]
    }
   ],
   "source": [
    "A = np.eye(3, 3, dtype=np.uint8)\n",
    "print(\"Scalar Matrix A:\\n\", 2*A)\n",
    "B = np.eye(4, 4, dtype=np.uint8)\n",
    "print(\"Scalar Matrix B:\\n\", -3*B)"
   ]
  },
  {
   "cell_type": "code",
   "execution_count": null,
   "id": "c8b1e76c",
   "metadata": {},
   "outputs": [],
   "source": []
  },
  {
   "cell_type": "code",
   "execution_count": null,
   "id": "75335a73",
   "metadata": {},
   "outputs": [],
   "source": []
  },
  {
   "cell_type": "code",
   "execution_count": null,
   "id": "cf39b703",
   "metadata": {},
   "outputs": [],
   "source": []
  },
  {
   "cell_type": "code",
   "execution_count": null,
   "id": "5064d0eb",
   "metadata": {},
   "outputs": [],
   "source": []
  },
  {
   "cell_type": "markdown",
   "id": "fd598ab8",
   "metadata": {},
   "source": [
    "### l. Orthogonal Matrix\n",
    "- An **orthogonal/orthonormal matrix** is a type of square matrix whose column vectors and row vectors are orthonormal vectors, i.e., are mutually perpendicular and have magnitude equal to 1. \n",
    "- An Orthogonal matrix is often denoted as uppercase $Q_{n,n}$. \n",
    "\n",
    "$\\hspace{3 cm} Q_{2,2} = \\begin{bmatrix} \n",
    "       1 & 0\\\\ \n",
    "       0 & -1\n",
    " \\end{bmatrix}$\n",
    "$\\hspace{3 cm}Q_{3,3} = \\begin{bmatrix} \n",
    "       1 & 0 & 0\\\\ \n",
    "       0 & -1 & 0 \\\\\n",
    "       0 & 0 & 1\n",
    "\\end{bmatrix}$\n",
    "\n",
    "\n",
    "\n",
    "- **Properties:**\n",
    "    - An orthogonal matrix is always a symmetric matrix, all identity matrices are hence orthogonal matrices.\n",
    "    - The product of two orthogonal matrices will also be an orthogonal matrix.$\\hspace{.5 cm} Q_1.Q_2 = Q_3$    \n",
    "    - The transpose of the orthogonal matrix will also be an orthogonal matrix.$\\hspace{.5 cm} Q_1^T = Q_2$    \n",
    "    - When an Orthogonal matrix is multiplied with its transpose, it will return an identity matrix.$\\hspace{.5 cm} Q.Q^T = Q^T.Q = I$\n",
    "    - A matrix is orthogonal if its transpose is equal to its inverse.\n",
    "    - The determinant of the orthogonal matrix will always be +1 or -1.\n",
    "    - The eigenvalues of the orthogonal matrix will always be ±1\n",
    "- Orthogonal matrices are mostly used a lot for `linear transformations`, such as `reflections` and `permutations`."
   ]
  },
  {
   "cell_type": "code",
   "execution_count": 65,
   "id": "4f8cff07",
   "metadata": {},
   "outputs": [
    {
     "name": "stdout",
     "output_type": "stream",
     "text": [
      "Q1: \n",
      " [[ 1  0  0]\n",
      " [ 0 -1  0]\n",
      " [ 0  0  1]]\n",
      "Q2: \n",
      " [[ 1  0  0]\n",
      " [ 0 -1  0]\n",
      " [ 0  0  1]]\n",
      "\n",
      "Q1.Q2 = \n",
      " [[-1  0  0]\n",
      " [ 0 -1  0]\n",
      " [ 0  0  1]]\n",
      "\n",
      "Q1.T = \n",
      " [[ 1  0  0]\n",
      " [ 0 -1  0]\n",
      " [ 0  0  1]]\n",
      "\n",
      "np.dot(Q1, Q1.T) = \n",
      " [[1 0 0]\n",
      " [0 1 0]\n",
      " [0 0 1]]\n"
     ]
    }
   ],
   "source": [
    "Q1 = np.array([ [1, 0, 0],[0, -1, 0], [0,0,1]])\n",
    "Q2 = np.array([ [-1, 0, 0],[0, 1, 0], [0,0,1]])\n",
    "print(\"Q1: \\n\", Q1)\n",
    "print(\"Q2: \\n\", Q1)\n",
    "\n",
    "# Product of two orthogonal matrices will also be an orthogonal matrix\n",
    "print(\"\\nQ1.Q2 = \\n\", np.dot(Q1,Q2))\n",
    "\n",
    "# Transpose of the orthogonal matrix will also be an orthogonal matrix\n",
    "print(\"\\nQ1.T = \\n\", Q1.T)\n",
    "\n",
    "# When an Orthogonal matrix is multiplied with its transpose, it will return an identity matrix\n",
    "print(\"\\nnp.dot(Q1, Q1.T) = \\n\", np.dot(Q1,(Q1.T)))"
   ]
  },
  {
   "cell_type": "code",
   "execution_count": null,
   "id": "5df77784",
   "metadata": {},
   "outputs": [],
   "source": []
  },
  {
   "cell_type": "code",
   "execution_count": null,
   "id": "d1cae3f7",
   "metadata": {},
   "outputs": [],
   "source": []
  },
  {
   "cell_type": "code",
   "execution_count": null,
   "id": "407a0195",
   "metadata": {},
   "outputs": [],
   "source": []
  },
  {
   "cell_type": "code",
   "execution_count": null,
   "id": "fe753a15",
   "metadata": {},
   "outputs": [],
   "source": []
  },
  {
   "cell_type": "markdown",
   "id": "57f3caa5",
   "metadata": {},
   "source": [
    "## 2. Matrix Operations"
   ]
  },
  {
   "cell_type": "markdown",
   "id": "513e372c",
   "metadata": {},
   "source": [
    "### a. Matrix Addition\n",
    "- Two matrices with the same order can be added together to create a third matrix of same order.\n",
    "- It is element by element addition and can be performed in Python using the plus operator on two NumPy arrays as shown:\n",
    "$$\n",
    "C_{m,n} = A_{m,n} + B_{m,n}\n",
    "$$\n",
    "\n",
    "$$\n",
    "C_{m,n} = A_{m,n} + B_{m,n}\n",
    "$$\n",
    "\n",
    "$$\n",
    "C_{m,n} = \n",
    "\\begin{pmatrix}\n",
    "a_{1,1} & a_{1,2} & \\cdots & a_{1,n} \\\\\n",
    "a_{2,1} & a_{2,2} & \\cdots & a_{2,n} \\\\\n",
    "\\vdots  & \\vdots  & \\ddots & \\vdots \\\\\n",
    "a_{m,1} & a_{m,2} & \\cdots & a_{m,n} \n",
    "\\end{pmatrix} +\n",
    "\\begin{pmatrix}\n",
    "b_{1,1} & b_{1,2} & \\cdots & b_{1,n} \\\\\n",
    "b_{2,1} & b_{2,2} & \\cdots & b_{2,n} \\\\\n",
    "\\vdots  & \\vdots   & \\ddots  & \\vdots\\\\\n",
    "b_{m,1} & b_{m,2} & \\cdots & b_{m,n} \n",
    "\\end{pmatrix}\n",
    "$$\n",
    "\n",
    "$$\n",
    "C_{m,n} = \n",
    "\\begin{pmatrix}\n",
    "a_{1,1}+b_{1,1} & a_{1,2}+b_{1,2} & \\cdots & a_{1,n}+b_{1,n} \\\\\n",
    "a_{2,1}+b_{2,1} & a_{2,2}+b_{2,2} & \\cdots & a_{2,n}+b_{2,n} \\\\\n",
    "\\vdots  & \\vdots  & \\ddots & \\vdots \\\\\n",
    "a_{m,1}+b_{m,1} & a_{m,2}+b_{m,2} & \\cdots & a_{m,n}+b_{m,n} \n",
    "\\end{pmatrix}\n",
    "$$"
   ]
  },
  {
   "cell_type": "code",
   "execution_count": 66,
   "id": "26c6da9d",
   "metadata": {},
   "outputs": [
    {
     "name": "stdout",
     "output_type": "stream",
     "text": [
      "Matrix A : \n",
      " [[-2 -2  0]\n",
      " [ 2  3 -2]\n",
      " [ 0  3 -4]]\n",
      "Matrix B : \n",
      " [[-2 -3 -3]\n",
      " [ 3 -3 -2]\n",
      " [ 4  4  4]]\n",
      "\n",
      "A + B = \n",
      " [[-4 -5 -3]\n",
      " [ 5  0 -4]\n",
      " [ 4  7  0]]\n"
     ]
    }
   ],
   "source": [
    "A = np.random.randint(-5, 6, size =(3, 3))\n",
    "B = np.random.randint(-5, 6, size =(3, 3))\n",
    "print(\"Matrix A : \\n\", A)\n",
    "print(\"Matrix B : \\n\", B)\n",
    "\n",
    "# adding two matrices\n",
    "C = A + B\n",
    "print(\"\\nA + B = \\n\", C)"
   ]
  },
  {
   "cell_type": "code",
   "execution_count": null,
   "id": "7e79567a",
   "metadata": {},
   "outputs": [],
   "source": []
  },
  {
   "cell_type": "code",
   "execution_count": null,
   "id": "c318bf0d",
   "metadata": {},
   "outputs": [],
   "source": []
  },
  {
   "cell_type": "code",
   "execution_count": null,
   "id": "00004210",
   "metadata": {},
   "outputs": [],
   "source": []
  },
  {
   "cell_type": "markdown",
   "id": "bfe25e96",
   "metadata": {},
   "source": [
    "### b. Matrix-Scalar Multiplication\n",
    "- A matrix can be multiplied by a scalar. This can be represented using the dot notation between the matrix and the scalar.\n",
    "- The result is a matrix with the same size as the parent matrix where each element of the matrix is multiplied by the scalar value.\n",
    "\n",
    "\n",
    "$$\n",
    "C_{m,n} = b.A_{m,n}\n",
    "$$\n",
    "\n",
    "$$\n",
    "C_{m,n} = \n",
    "b.\\begin{pmatrix}\n",
    "a_{1,1} & a_{1,2} & \\cdots & a_{1,n} \\\\\n",
    "a_{2,1} & a_{2,2} & \\cdots & a_{2,n} \\\\\n",
    "\\vdots  & \\vdots  & \\ddots & \\vdots \\\\\n",
    "a_{m,1} & a_{m,2} & \\cdots & a_{m,n} \n",
    "\\end{pmatrix}\n",
    "$$\n",
    "\n",
    "$$\n",
    "C_{m,n} = \n",
    "\\begin{pmatrix}\n",
    "b.a_{1,1} & b.a_{1,2} & \\cdots & b.a_{1,n} \\\\\n",
    "b.a_{2,1} & b.a_{2,2} & \\cdots & b.a_{2,n} \\\\\n",
    "\\vdots  & \\vdots  & \\ddots & \\vdots \\\\\n",
    "b.a_{m,1}& b.a_{m,2} & \\cdots & b.a_{m,n} \n",
    "\\end{pmatrix}\n",
    "$$"
   ]
  },
  {
   "cell_type": "code",
   "execution_count": 67,
   "id": "46ae865b",
   "metadata": {},
   "outputs": [
    {
     "name": "stdout",
     "output_type": "stream",
     "text": [
      "Matrix A : \n",
      " [[2 4 5]\n",
      " [5 4 5]\n",
      " [5 5 1]]\n",
      "\n",
      " b*A: \n",
      " [[ 4  8 10]\n",
      " [10  8 10]\n",
      " [10 10  2]]\n"
     ]
    }
   ],
   "source": [
    "A = np.random.randint(1, 6, size =(3, 3))\n",
    "print(\"Matrix A : \\n\", A)\n",
    "\n",
    "b = 2\n",
    "C = b*A\n",
    "print(\"\\n b*A: \\n\", C)"
   ]
  },
  {
   "cell_type": "code",
   "execution_count": null,
   "id": "3ebd2c3b",
   "metadata": {},
   "outputs": [],
   "source": []
  },
  {
   "cell_type": "code",
   "execution_count": null,
   "id": "a4f4f75e",
   "metadata": {},
   "outputs": [],
   "source": []
  },
  {
   "cell_type": "code",
   "execution_count": null,
   "id": "f4bd930d",
   "metadata": {},
   "outputs": [],
   "source": []
  },
  {
   "cell_type": "markdown",
   "id": "d76af124",
   "metadata": {},
   "source": [
    "### c. Matrix Multiplication (Matrix Hadamard Product)\n",
    "- Two matrices with the same size can be multiplied together, and this is often called `element-wise matrix multiplication` or the `Hadamard product`. \n",
    "- It is not the typical operation meant when referring to matrix multiplication, therefore a different operator is often used, which is a circle $\\odot$.\n",
    "- As with element-wise subtraction and addition, element-wise multiplication involves the multiplication of elements from each parent matrix to calculate the values in the new matrix.\n",
    "- We can implement this in Python using the `asterik *` operator directly on the two NumPy arrays.\n",
    "\n",
    "\n",
    "$$\n",
    "C_{m,n} = A_{m,n}\\odot B_{m,n}\n",
    "$$\n",
    "\n",
    "$$\n",
    "C_{m,n} = \n",
    "\\begin{pmatrix}\n",
    "a_{1,1} & a_{1,2} & \\cdots & a_{1,n} \\\\\n",
    "a_{2,1} & a_{2,2} & \\cdots & a_{2,n} \\\\\n",
    "\\vdots  & \\vdots  & \\ddots & \\vdots \\\\\n",
    "a_{m,1} & a_{m,2} & \\cdots & a_{m,n} \n",
    "\\end{pmatrix} \\odot\n",
    "\\begin{pmatrix}\n",
    "b_{1,1} & b_{1,2} & \\cdots & b_{1,n} \\\\\n",
    "b_{2,1} & b_{2,2} & \\cdots & b_{2,n} \\\\\n",
    "\\vdots  & \\vdots   & \\ddots  & \\vdots\\\\\n",
    "b_{m,1} & b_{m,2} & \\cdots & b_{m,n} \n",
    "\\end{pmatrix}\n",
    "$$\n",
    "\n",
    "$$\n",
    "C_{m,n} = \n",
    "\\begin{pmatrix}\n",
    "a_{1,1}.b_{1,1} & a_{1,2}.b_{1,2} & \\cdots & a_{1,n}.b_{1,n} \\\\\n",
    "a_{2,1}.b_{2,1} & a_{2,2}.b_{2,2} & \\cdots & a_{2,n}.b_{2,n} \\\\\n",
    "\\vdots  & \\vdots  & \\ddots & \\vdots \\\\\n",
    "a_{m,1}.b_{m,1} & a_{m,2}.b_{m,2} & \\cdots & a_{m,n}.b_{m,n} \n",
    "\\end{pmatrix}\n",
    "$$"
   ]
  },
  {
   "cell_type": "code",
   "execution_count": 68,
   "id": "944b6b8f",
   "metadata": {},
   "outputs": [
    {
     "name": "stdout",
     "output_type": "stream",
     "text": [
      "Matrix A : \n",
      " [[4 4 4]\n",
      " [1 5 3]]\n",
      "Matrix B : \n",
      " [[1 2 5]\n",
      " [5 4 3]]\n",
      "\n",
      " A * B = \n",
      " [[ 4  8 20]\n",
      " [ 5 20  9]]\n"
     ]
    }
   ],
   "source": [
    "A = np.random.randint(1, 6, size =(2, 3))\n",
    "B = np.random.randint(1, 6, size =(2, 3))\n",
    "print(\"Matrix A : \\n\", A)\n",
    "print(\"Matrix B : \\n\", B)\n",
    "\n",
    "# Matrices Hadamard product\n",
    "C = A * B\n",
    "# printing product of two matrices\n",
    "print(\"\\n A * B = \\n\", C)\n"
   ]
  },
  {
   "cell_type": "code",
   "execution_count": null,
   "id": "440e119e",
   "metadata": {},
   "outputs": [],
   "source": []
  },
  {
   "cell_type": "code",
   "execution_count": null,
   "id": "90762d2c",
   "metadata": {},
   "outputs": [],
   "source": []
  },
  {
   "cell_type": "markdown",
   "id": "b8cec02e",
   "metadata": {},
   "source": [
    "### d. Matrix Multiplication (Matrix Dot Product)\n",
    "- Matrix multiplication, also called the `matrix dot product` is more complicated than the previous operations and involves a rule as not all matrices can be multiplied together. \n",
    "- The rule for matrix multiplication is \"the number of `columns` in the first matrix must equal the number of `rows` in the second matrix\". The result is a new matrix with m rows and k columns.\n",
    "- The intuition for the matrix multiplication is that we are calculating the dot product between each row in matrix A with each column in matrix B. \n",
    "\n",
    "$$\n",
    "C_{m,k} = A_{m,n} @ B_{n,k}\n",
    "$$\n",
    "\n",
    "$$\n",
    "C_{3,2} = A_{3,2} @ B_{2,2}\n",
    "$$\n",
    "\n",
    "\n",
    "$$\n",
    "C_{3,2} = \n",
    "\\begin{bmatrix}\n",
    "a_{1,1} & a_{1,2} \\\\\n",
    "a_{2,1} & a_{2,2} \\\\\n",
    "a_{3,1} & a_{3,2} \n",
    "\\end{bmatrix} @\n",
    "\\begin{bmatrix}\n",
    "b_{1,1} & b_{1,2} \\\\\n",
    "b_{2,1} & b_{2,2}\n",
    "\\end{bmatrix}\n",
    "$$\n",
    "\n",
    "$$\n",
    "C_{3,2} = \n",
    "\\begin{bmatrix}\n",
    "a_{1,1}.b_{1,1}+a_{1,2}.b_{2,1} &\\hspace{.7 cm} a_{1,1}.b_{1,2}+a_{1,2}.b_{2,2} \\\\\n",
    "a_{2,1}.b_{1,1}+a_{2,2}.b_{2,1} &\\hspace{.7 cm} a_{2,1}.b_{1,2}+a_{2,2}.b_{2,2} \\\\\n",
    "a_{3,1}.b_{1,1}+a_{3,2}.b_{2,1} &\\hspace{.7 cm} a_{3,1}.b_{1,2}+a_{3,2}.b_{2,2}\n",
    "\\end{bmatrix}\n",
    "$$\n",
    "- In Python, matrix multiplication operation can be performed the `numpy.dot()` function or using the `newer @ operator`, since Python version 3.5.\n"
   ]
  },
  {
   "cell_type": "code",
   "execution_count": 69,
   "id": "06a6b595",
   "metadata": {},
   "outputs": [
    {
     "name": "stdout",
     "output_type": "stream",
     "text": [
      "Matrix A = \n",
      " [[1 2]\n",
      " [3 4]\n",
      " [5 6]]\n",
      "\n",
      "Matrix B = \n",
      " [[1 2]\n",
      " [3 4]]\n",
      "\n",
      " A.dot(B) = \n",
      " [[ 7 10]\n",
      " [15 22]\n",
      " [23 34]]\n",
      "\n",
      "A @ B = \n",
      " [[ 7 10]\n",
      " [15 22]\n",
      " [23 34]]\n"
     ]
    }
   ],
   "source": [
    "A = np.array([ [1, 2],[3, 4], [5, 6]])\n",
    "B = np.array([ [1, 2],[3, 4]])\n",
    "print(\"Matrix A = \\n\", A)\n",
    "print(\"\\nMatrix B = \\n\", B)\n",
    "\n",
    "\n",
    "# multiply matrices using dot function\n",
    "C = np.dot(A,B)\n",
    "# print dot product matrix\n",
    "print(\"\\n A.dot(B) = \\n\", C)\n",
    "\n",
    "# multiply matrices with @ operator\n",
    "D = A @ B\n",
    "\n",
    "# print dot product matrix\n",
    "print(\"\\nA @ B = \\n\", D)"
   ]
  },
  {
   "cell_type": "code",
   "execution_count": null,
   "id": "f7763d48",
   "metadata": {},
   "outputs": [],
   "source": []
  },
  {
   "cell_type": "code",
   "execution_count": null,
   "id": "d54a0ed5",
   "metadata": {},
   "outputs": [],
   "source": []
  },
  {
   "cell_type": "code",
   "execution_count": null,
   "id": "ab39dcca",
   "metadata": {},
   "outputs": [],
   "source": []
  },
  {
   "cell_type": "markdown",
   "id": "859cb7c6",
   "metadata": {},
   "source": [
    "### e. Matrix-Vector Multiplication\n",
    "- A matrix and a vector can be multiplied together as long as the rule of matrix multiplication is observed. Specifically, that the number of columns in the matrix must equal the number of items in the vector. \n",
    "- As with matrix multiplication, the operation can be written using the dot notation. \n",
    "- Because the vector only has one column, the result is always a **vector**.\n",
    "\n",
    "$$\n",
    "C_{n} = A_{m,n} @ V_{n}\n",
    "$$\n",
    "\n",
    "$$\n",
    "C_{2} = A_{3,2} @ V_{2}\n",
    "$$\n",
    "\n",
    "\n",
    "$$\n",
    "C_{2} = \n",
    "\\begin{bmatrix}\n",
    "a_{1,1} & a_{1,2} \\\\\n",
    "a_{2,1} & a_{2,2} \\\\\n",
    "a_{3,1} & a_{3,2} \n",
    "\\end{bmatrix} @\n",
    "\\begin{bmatrix}\n",
    "v_{1}  \\\\\n",
    "v_{2}\n",
    "\\end{bmatrix}\n",
    "$$\n",
    "\n",
    "$$\n",
    "C_{n} = \n",
    "\\begin{bmatrix}\n",
    "a_{1,1}.v_1+a_{1,2}.v_2  \\\\\n",
    "a_{2,1}.v_1+a_{2,2}.v_2  \\\\\n",
    "a_{3,1}.v_1+a_{3,2}.v_2 \n",
    "\\end{bmatrix}\n",
    "$$\n",
    "- In Python a matrix can be multiplied with a vector using the `numpy.dot()` function or using the `newer @ operator`, since Python version 3.5.\n"
   ]
  },
  {
   "cell_type": "code",
   "execution_count": 70,
   "id": "2dab04fc",
   "metadata": {},
   "outputs": [
    {
     "name": "stdout",
     "output_type": "stream",
     "text": [
      "Matrix A = \n",
      " [[1 2]\n",
      " [3 4]\n",
      " [5 6]]\n",
      "\n",
      "Matrix v = \n",
      " [2 3]\n",
      "\n",
      " A.dot(v) = \n",
      " [ 8 18 28]\n",
      "\n",
      "A @ v = \n",
      " [ 8 18 28]\n"
     ]
    }
   ],
   "source": [
    "A = np.array([ [1, 2],[3, 4], [5, 6]])\n",
    "v = np.array([2, 3])\n",
    "print(\"Matrix A = \\n\", A)\n",
    "print(\"\\nMatrix v = \\n\", v)\n",
    "\n",
    "\n",
    "C = A.dot(v)\n",
    "print(\"\\n A.dot(v) = \\n\", C)\n",
    "\n",
    "D = A @ v\n",
    "\n",
    "# print dot product matrix\n",
    "print(\"\\nA @ v = \\n\", D)"
   ]
  },
  {
   "cell_type": "code",
   "execution_count": null,
   "id": "43fe812a",
   "metadata": {},
   "outputs": [],
   "source": []
  },
  {
   "cell_type": "code",
   "execution_count": null,
   "id": "d9059399",
   "metadata": {},
   "outputs": [],
   "source": []
  },
  {
   "cell_type": "code",
   "execution_count": null,
   "id": "b1cc8059",
   "metadata": {},
   "outputs": [],
   "source": []
  },
  {
   "cell_type": "code",
   "execution_count": null,
   "id": "27a33951",
   "metadata": {},
   "outputs": [],
   "source": []
  },
  {
   "cell_type": "markdown",
   "id": "b3f7f41d",
   "metadata": {},
   "source": [
    "### f. Frobenius Norm\n",
    "- We have already talked about Norms with respect to vectors and we saw how they are used to calculate their magnitude from origin.\n",
    "- Similar to L<sup>2</sup> norm of a vector, the Frobenius norm of a matrix is calculated as the square root of the sum of the absolute squares of its elements.\n",
    "- In simple words, Frobenius norm of a matrix is the sum of the magnitude of all vectors in a matrix.\n",
    "\n",
    "<h3 align=\"center\">      $\\left\\lVert  x \\right\\rVert_F$   $=$   $\\sqrt{\\sum_{i,j} x_{i,j}^2}$        </h3>"
   ]
  },
  {
   "cell_type": "code",
   "execution_count": 71,
   "id": "c6b52929",
   "metadata": {},
   "outputs": [
    {
     "name": "stdout",
     "output_type": "stream",
     "text": [
      "Matrix A = \n",
      " [[0 2 1]\n",
      " [2 0 0]]\n",
      "\n",
      " Frobenius Norm = 3.0\n"
     ]
    }
   ],
   "source": [
    "A = np.array([ [0, 2, 1],[2, 0, 0]])\n",
    "print(\"Matrix A = \\n\", A)\n",
    "\n",
    "f = np.linalg.norm(A, ord=None)\n",
    "print(\"\\n Frobenius Norm =\", f)\n"
   ]
  },
  {
   "cell_type": "code",
   "execution_count": null,
   "id": "3ec0b503",
   "metadata": {},
   "outputs": [],
   "source": []
  },
  {
   "cell_type": "code",
   "execution_count": null,
   "id": "4bd49512",
   "metadata": {},
   "outputs": [],
   "source": []
  },
  {
   "cell_type": "code",
   "execution_count": null,
   "id": "860bb38f",
   "metadata": {},
   "outputs": [],
   "source": []
  },
  {
   "cell_type": "code",
   "execution_count": null,
   "id": "e9d69175",
   "metadata": {},
   "outputs": [],
   "source": []
  },
  {
   "cell_type": "markdown",
   "id": "68146673",
   "metadata": {},
   "source": [
    "### g. Transpose of a Matrix\n",
    "- A defined matrix can be transposed, which creates a new matrix with the number of `columns and rows flipped`. This is denoted by the superscript T next to the matrix A<sup>T</sup>.\n",
    "\n",
    "\n",
    "$$\n",
    "A_{m,n} = \n",
    "\\begin{bmatrix}\n",
    "a_{1,1} & a_{1,2} & \\cdots & a_{1,n} \\\\\n",
    "a_{2,1} & a_{2,2} & \\cdots & a_{2,n} \\\\\n",
    "\\vdots  & \\vdots  & \\ddots & \\vdots \\\\\n",
    "a_{m,1} & a_{m,2} & \\cdots & a_{m,n} \n",
    "\\end{bmatrix}  \\hspace{3 cm}  {A^T}_{n,m} = \n",
    "\\begin{bmatrix}\n",
    "a_{1,1} & a_{2,1} & \\cdots & a_{m,1} \\\\\n",
    "a_{1,2} & a_{2,2} & \\cdots & a_{m,2} \\\\\n",
    "\\vdots  & \\vdots  & \\ddots & \\vdots \\\\\n",
    "a_{1,n} & a_{2,n} & \\cdots & a_{m,n} \n",
    "\\end{bmatrix}\n",
    "$$\n",
    "\n",
    "\n",
    "$$\n",
    "A_{3,2} = \n",
    "\\begin{bmatrix}\n",
    "1 & 2  \\\\\n",
    "3 & 4 \\\\\n",
    "5 & 6 \n",
    "\\end{bmatrix} \\hspace{3 cm} {A^T}_{2,3} = \n",
    "\\begin{bmatrix}\n",
    "1 & 3 & 5 \\\\\n",
    "2 & 4 & 6\n",
    "\\end{bmatrix}\n",
    "$$\n",
    "\n",
    "- The operation has no effect if the matrix is symmetrical, e.g. has the same number of columns and rows and the same values at the same locations on both sides of the invisible diagonal line (The columns of AT are the rows of A).\n",
    "\n",
    "$$\n",
    "A_{3,3} =\\begin{bmatrix} \n",
    "       4 & 1 & 7\\\\ \n",
    "       1 & -3 & 5\\\\\n",
    "       7 & 5 & 2\n",
    " \\end{bmatrix}\\hspace{3 cm} {A^T}_{3,3} = \n",
    "\\begin{bmatrix}\n",
    "4 & 1 & 7 \\\\\n",
    "1 & -3 & 5 \\\\\n",
    "7 & 5 & 2 \n",
    "\\end{bmatrix}\n",
    "$$\n",
    " \n",
    " \n",
    "\n",
    "- We can transpose a matrix in NumPy by calling the T attribute."
   ]
  },
  {
   "cell_type": "code",
   "execution_count": 72,
   "id": "6b00f24f",
   "metadata": {},
   "outputs": [
    {
     "name": "stdout",
     "output_type": "stream",
     "text": [
      "Original Matrix A: \n",
      " [[1 2]\n",
      " [3 4]\n",
      " [5 6]]\n",
      "\n",
      "Transpose Matrix: \n",
      " [[1 3 5]\n",
      " [2 4 6]]\n"
     ]
    }
   ],
   "source": [
    "A = np.array([ [1, 2],\n",
    "           [3, 4],\n",
    "           [5, 6]])\n",
    "print(\"Original Matrix A: \\n\", A)\n",
    "\n",
    "# computing transpose of Matrix A using T attribute\n",
    "C = A.T\n",
    "C = np.transpose(A)\n",
    "print(\"\\nTranspose Matrix: \\n\", C)"
   ]
  },
  {
   "cell_type": "code",
   "execution_count": null,
   "id": "05627a0e",
   "metadata": {},
   "outputs": [],
   "source": []
  },
  {
   "cell_type": "code",
   "execution_count": null,
   "id": "93df4fcc",
   "metadata": {},
   "outputs": [],
   "source": []
  },
  {
   "cell_type": "code",
   "execution_count": null,
   "id": "1ac97a32",
   "metadata": {},
   "outputs": [],
   "source": []
  },
  {
   "cell_type": "markdown",
   "id": "c9877283",
   "metadata": {},
   "source": [
    "### h. Determinant of a Matrix\n",
    "\n",
    "- Matrix determinant can be thought of as a function whose input is a square matrix and output is a scalar value.\n",
    "- The determinant of a matrrix is used to compute the inverse of a matrix.\n",
    "- If the determinant of a matrix is zero, that means it is a singular matrix, is non-invertable and having linearly dependent columns.\n",
    "- Moreover, determinant is used in solving linear equations and it also caputures the notions of how linear transformation change area or volume.\n",
    "- The determinant also describes the way a matrix will scale another matrix when they are multiplied together. For example, if the determinant of a matrix is one, it preserves the space of other matrix.\n",
    "- To calculate the determinant of a 2x2 matrix, we multiply the component `a` by the determinant of the “submatrix” formed by ignoring `a's` row and column. In this case, this submatrix is the 1×1 matrix consisting of `d`, and its determinant is just `d`. So the first term of the determinant is `ad`. Next, we proceed to the second component of the first row, which is the upper right component `b`. We multiply `b` by the determinant of the submatrix formed by ignoring `b's` row and column, which is `c`. So, the next term of the determinant is `bc`. The total determinant is simply the first term ad minus the second term. :<br>\n",
    "$\\hspace{2 cm}A = \\begin{bmatrix} \n",
    "       a & b\\\\ \n",
    "       c & d\n",
    " \\end{bmatrix} $  \n",
    "\n",
    "$\\hspace{2 cm}det(A) = |A| = ad - cb$\n",
    "\n",
    "- Now that we know how to calculate determinant of a 2x2 matrix, we can generalize this technique to compute determinant of larger matrices using recursion.\n",
    "- Let us calculate the determinant of a 3x3 matrix:<br>\n",
    "$\\hspace{2 cm}B =$ \n",
    "$\\begin{bmatrix} \n",
    "       a & b & c\\\\ \n",
    "       d & e & f\\\\\n",
    "       g & h & i\n",
    " \\end{bmatrix} $  \n",
    " \n",
    "$\\hspace{2 cm}det(B) = |B| = a\\begin{vmatrix} e & f\\\\h & i \\end{vmatrix} - b\\begin{vmatrix} d & f\\\\g & i \\end{vmatrix} +c\\begin{vmatrix} d & e\\\\g & h \\end{vmatrix} = a(ef-hf) - b(di-gf) + c(dh-ge)$\n",
    "\n",
    "- In NumPy, the determinant of a matrix can be calculated using the `det()` function."
   ]
  },
  {
   "cell_type": "code",
   "execution_count": 73,
   "id": "1dabbb50",
   "metadata": {},
   "outputs": [
    {
     "name": "stdout",
     "output_type": "stream",
     "text": [
      "Matrix A: \n",
      " [[-3  1]\n",
      " [ 6 -4]]\n",
      "det(A):  6.0\n",
      "\n",
      "Matrix B: \n",
      " [[ 1  2  4]\n",
      " [ 2 -1  3]\n",
      " [ 0  5  1]]\n",
      "det(B):  19.999999999999996\n"
     ]
    }
   ],
   "source": [
    "A = np.array([[-3, 1],[6, -4]])\n",
    "print(\"Matrix A: \\n\", A)\n",
    "det1 = numpy.linalg.det(A)\n",
    "print(\"det(A): \", det1)\n",
    "\n",
    "\n",
    "B = np.array([[1, 2, 4],[2, -1, 3],[0, 5, 1]])\n",
    "print(\"\\nMatrix B: \\n\", B)\n",
    "det2 = numpy.linalg.det(B)\n",
    "print(\"det(B): \", det2)"
   ]
  },
  {
   "cell_type": "code",
   "execution_count": 74,
   "id": "df0912b6",
   "metadata": {},
   "outputs": [
    {
     "name": "stdout",
     "output_type": "stream",
     "text": [
      "Matrix A: \n",
      " [[ 6 -3]\n",
      " [ 4 -2]]\n",
      "det(A):  0.0\n",
      "\n",
      "Matrix B: \n",
      " [[ 1  1  1]\n",
      " [ 2  3  1]\n",
      " [ 0 -1  1]]\n",
      "det(B):  0.0\n",
      "\n",
      "Matrix C: \n",
      " [[2 1 2]\n",
      " [1 0 1]\n",
      " [4 1 4]]\n",
      "det(C):  0.0\n"
     ]
    }
   ],
   "source": [
    "A = np.array([[6, -3],[4, -2]])\n",
    "print(\"Matrix A: \\n\", A)\n",
    "det1 = numpy.linalg.det(A)\n",
    "print(\"det(A): \", det1)\n",
    "\n",
    "B = np.array([[1, 1, 1],[2, 3, 1],[0, -1, 1]])\n",
    "print(\"\\nMatrix B: \\n\", B)\n",
    "det2 = numpy.linalg.det(B)\n",
    "print(\"det(B): \", det2)\n",
    "\n",
    "C = np.array([[2, 1, 2],[1, 0, 1],[4, 1, 4]])\n",
    "print(\"\\nMatrix C: \\n\", C)\n",
    "det3 = numpy.linalg.det(C)\n",
    "print(\"det(C): \", det3)"
   ]
  },
  {
   "cell_type": "markdown",
   "id": "46f55565",
   "metadata": {},
   "source": [
    "> Note the determinant of matrix A is zero, that means matrix A is not invertable. This can be observed that the two columns of matrix A are not independent, or we can say that the two columns of matrix A are dependent. So the first column is a multiple of the second column, i.e., you can multiply the second column by -2 to get the first column. So that means the matrix A represent two parallel lines and it is impossible to solve this matrix for unknowns."
   ]
  },
  {
   "cell_type": "code",
   "execution_count": null,
   "id": "561f2a67",
   "metadata": {},
   "outputs": [],
   "source": []
  },
  {
   "cell_type": "code",
   "execution_count": null,
   "id": "aa2c0548",
   "metadata": {},
   "outputs": [],
   "source": []
  },
  {
   "cell_type": "code",
   "execution_count": null,
   "id": "a81864c4",
   "metadata": {},
   "outputs": [],
   "source": []
  },
  {
   "cell_type": "code",
   "execution_count": null,
   "id": "6c0bc386",
   "metadata": {},
   "outputs": [],
   "source": []
  },
  {
   "cell_type": "markdown",
   "id": "c88bdf68",
   "metadata": {},
   "source": [
    "### i. Inverse of a Matrix\n",
    "- The way numbers has reciprocals, and when we multiply a number by its reciprocal we get a 1.\n",
    "- Similarly a matrix can have an inverse, and when we multiply a matrix by its inverse, we get the identity matrix.\n",
    "- The inverse of matrix is used of find the solution of linear equations through the matrix inversion method. \n",
    "\n",
    "$\\hspace{2 cm}AA^{-1} = A^{-1}A = I_n$\n",
    "- For a matrix to have an inverse, it has to satisfy two conditions:\n",
    "    - The matrix needs to be a square matrix.\n",
    "    - The determinant of the matrix must not be zero.\n",
    "- Almost all of us know the shortcut way to calculate the Inverse of a 2x2 matrix. \n",
    "    - Interchange the main diagonal elements (`a` and `d`).\n",
    "    - Negate the remaining two elements (`b` and `c`).\n",
    "    - Devide the resulting matrix with the determinant of the original matrix.\n",
    ":<br>\n",
    "$\\hspace{2 cm}A = \\begin{bmatrix} \n",
    "       a & b\\\\ \n",
    "       c & d\n",
    " \\end{bmatrix} $  \n",
    "\n",
    "\n",
    "$\\hspace{2 cm}A = \\frac{1}{det(A)}\\begin{bmatrix} \n",
    "       d & -b\\\\ \n",
    "       -c & a\n",
    " \\end{bmatrix} $  \n",
    "\n",
    "\n",
    "- Formal steps to compute the inverse of a matrix are:\n",
    "    - Step 1: Find the `matrix of minors` for the given matrix.\n",
    "    - Step 2: Turn that matrix into the `matrix of cofactors`.\n",
    "    - Step 3: Find the adjugate or `adjoint of matrix`.\n",
    "    - Step 4: Divide adjugate matrix by `determinant` of given matrix."
   ]
  },
  {
   "cell_type": "code",
   "execution_count": null,
   "id": "13c44db3",
   "metadata": {},
   "outputs": [],
   "source": []
  },
  {
   "cell_type": "code",
   "execution_count": null,
   "id": "45a704b7",
   "metadata": {},
   "outputs": [],
   "source": []
  },
  {
   "cell_type": "markdown",
   "id": "5f1468ea",
   "metadata": {},
   "source": [
    "**Example:** Perform step by step calculations to calculate the Inverse of\n",
    "$\\hspace{1 cm}A_{3,3} = \\begin{bmatrix} 3 & 0 & 2\\\\ 2 & 0 & -2\\\\0 & 1 & 1\\end{bmatrix} $  "
   ]
  },
  {
   "cell_type": "markdown",
   "id": "91f8b855",
   "metadata": {},
   "source": [
    "**Step 1:** Find the `matrix of minors` for the given matrix.\n",
    "- For each element of the matrix:\n",
    "    - Ignore the values on the current row and column\n",
    "    - Calculate the determinant of the remaining values\n",
    "- Put those determinants into a matrix and you get the `matrix of minors`, as shown below:\n",
    "$$\\begin{bmatrix} 2 & 2 & 2\\\\ -2 & 3 & 3\\\\0 & -10 & 0\\end{bmatrix} $$ \n",
    "\n",
    "\n",
    "\n",
    "**Step 2:** Turn that matrix into the `matrix of cofactors`.\n",
    "- Multiply each element of matrix of minors with alternate +1 and -1.\n",
    "- Start from first row (left to right), then second row and so on.\n",
    "$$\\begin{bmatrix} 2 & -2 & 2\\\\ 2 & 3 & -3\\\\0 & 10 & 0\\end{bmatrix} $$ \n",
    "\n",
    "\n",
    "**Step 3:** Find the adjugate or `adjoint of matrix`.\n",
    "- Take transpose of matrix of cofactors and you get the adjugate or adjoint matrix as shown below:\n",
    "$$\\begin{bmatrix} 2 & 2 & 0\\\\ -2 & 3 & 10\\\\2 & -3 & 0\\end{bmatrix} $$ \n",
    "\n",
    "\n",
    "**Step 4:** Divide adjugate matrix by `determinant` of given matrix.\n",
    "- Find the determinant of given matrix, which is 10.\n",
    "- Divide each element of adjugate matrix by 10 to get the inverse of matrix as shown below:\n",
    "$$\\begin{bmatrix} 1/5 & 1/5 & 0\\\\ -1/5 & 3/10 & 1\\\\1/5 & -3/10 & 0\\end{bmatrix} $$ \n"
   ]
  },
  {
   "cell_type": "markdown",
   "id": "535a9897",
   "metadata": {},
   "source": [
    ">- To rescue us from all this labour, Python gives us `numpy.linalg.inv()` method to compute the inverse of a non-singular matrix (a square matrix having non-zero dterminant)"
   ]
  },
  {
   "cell_type": "code",
   "execution_count": 75,
   "id": "32a5a89d",
   "metadata": {},
   "outputs": [
    {
     "name": "stdout",
     "output_type": "stream",
     "text": [
      "Matrix A: \n",
      " [[ 3  0  2]\n",
      " [ 2  0 -2]\n",
      " [ 0  1  1]]\n",
      "det(A):  10.000000000000002\n",
      "\n",
      "Inverse of Matrix A: \n",
      " [[ 0.2  0.2  0. ]\n",
      " [-0.2  0.3  1. ]\n",
      " [ 0.2 -0.3 -0. ]]\n",
      "\n",
      "np.dot(A,AI): \n",
      " [[1 0 0]\n",
      " [0 1 0]\n",
      " [0 0 1]]\n"
     ]
    }
   ],
   "source": [
    "A = np.array([ [3,0,2],[2,0,-2],[0,1,1]])\n",
    "print(\"Matrix A: \\n\", A)\n",
    "print(\"det(A): \", numpy.linalg.det(A))\n",
    "\n",
    "AI = numpy.linalg.inv(A)\n",
    "print(\"\\nInverse of Matrix A: \\n\", AI)\n",
    "\n",
    "# Verify\n",
    "I = np.dot(A,AI)\n",
    "print(\"\\nnp.dot(A,AI): \\n\", I.astype(int))"
   ]
  },
  {
   "cell_type": "code",
   "execution_count": null,
   "id": "0b30d25e",
   "metadata": {},
   "outputs": [],
   "source": []
  },
  {
   "cell_type": "code",
   "execution_count": null,
   "id": "70266f48",
   "metadata": {},
   "outputs": [],
   "source": []
  },
  {
   "cell_type": "code",
   "execution_count": null,
   "id": "85872e18",
   "metadata": {},
   "outputs": [],
   "source": []
  },
  {
   "cell_type": "markdown",
   "id": "32ea9ab3",
   "metadata": {},
   "source": [
    "### j. Trace of a Matrix\n",
    "- The trace of a matrix is the **sum** of all of the **diagonal entries** of a matrix.\n",
    "$$\\sum_i A_{i,i}$$\n",
    "\n",
    "- We can calculate the trace of a matrix in NumPy using the `trace()` method."
   ]
  },
  {
   "cell_type": "code",
   "execution_count": 76,
   "id": "66b2feca",
   "metadata": {},
   "outputs": [
    {
     "name": "stdout",
     "output_type": "stream",
     "text": [
      "Original Matrix = \n",
      " [[1 2 3]\n",
      " [4 5 6]\n",
      " [7 8 9]]\n",
      "\n",
      "Trace value =  15\n"
     ]
    }
   ],
   "source": [
    "A = np.array([ [1, 2, 3], [4, 5, 6], [7, 8, 9]])\n",
    "print(\"Original Matrix = \\n\", A)\n",
    "print(\"\\nTrace value = \", np.trace(A))"
   ]
  },
  {
   "cell_type": "markdown",
   "id": "49c95306",
   "metadata": {},
   "source": [
    "- Properties of Trace of a Matrix:\n",
    "    - Tr($A$) = Tr($A^T$): The trace of a matrix is equal to the trace of its transpose, because the main diagonal remains the same after transpose.\n",
    "    - Tr($ABC$) = Tr($CAB$) = Tr($BCA$): If we multiply three matrices in different combinations, their trace remains the same\n",
    "- You can use trace to calculate a matrix's Frobenius norm: $$||A||_F = \\sqrt{\\sum_{i,j} x_{i,j}^2} = \\sqrt{\\mathrm{Tr}(AA^\\mathrm{T})}$$"
   ]
  },
  {
   "cell_type": "code",
   "execution_count": 77,
   "id": "53e640c7",
   "metadata": {},
   "outputs": [
    {
     "name": "stdout",
     "output_type": "stream",
     "text": [
      "Matrix A = \n",
      " [[0 2 1]\n",
      " [2 0 0]]\n",
      "\n",
      " Frobenius Norm = 3.0\n",
      "\n",
      "np.trace(np.dot(A,A.T))**.5 =  3.0\n"
     ]
    }
   ],
   "source": [
    "A = np.array([ [0, 2, 1],[2, 0, 0]])\n",
    "print(\"Matrix A = \\n\", A)\n",
    "\n",
    "f1 = np.linalg.norm(A, ord=None)\n",
    "print(\"\\n Frobenius Norm =\", f1)\n",
    "\n",
    "AT = A.T\n",
    "AAT = np.dot(A, AT)\n",
    "tr_AAT = np.trace(AAT)\n",
    "f2 = (tr_AAT)**.5\n",
    "print(\"\\nnp.trace(np.dot(A,A.T))**.5 = \", f2)"
   ]
  },
  {
   "cell_type": "code",
   "execution_count": null,
   "id": "c1ddab15",
   "metadata": {},
   "outputs": [],
   "source": []
  },
  {
   "cell_type": "code",
   "execution_count": null,
   "id": "638568d1",
   "metadata": {},
   "outputs": [],
   "source": []
  },
  {
   "cell_type": "code",
   "execution_count": null,
   "id": "5b1d344e",
   "metadata": {},
   "outputs": [],
   "source": []
  },
  {
   "cell_type": "markdown",
   "id": "ddb62cf0",
   "metadata": {},
   "source": [
    "### k. Rank of a Matrix\n",
    "- The maximum number of `linearly independent` columns (or rows ) of a matrix is called its rank. (Two columns are linearly dependent if you can add+scale one column to make the other)\n",
    "- The rank of a $m \\times n$ matrix is less than equal to the minimum of its rows and columns.\n",
    "- The rank of a matrix would be zero only if the matrix had no elements. If a matrix had even one element, its minimum rank would be one.\n",
    "- To calculate the rank of a matrix, we need to convert the matrix into its row-echlon form (which we will study iun the next section). \n",
    "- In Python, we can calculate the rank of a matrkx using `np.linalg.matrix_rank()` method."
   ]
  },
  {
   "cell_type": "code",
   "execution_count": 78,
   "id": "81869dc6",
   "metadata": {},
   "outputs": [
    {
     "name": "stdout",
     "output_type": "stream",
     "text": [
      "Rank of matrix having zero elements =  0\n",
      "\n",
      "A:\n",
      " [[1 2 3]]\n",
      "Rank of A =  1\n",
      "\n",
      "B:\n",
      " [[1 2 3]\n",
      " [3 2 0]]\n",
      "Rank of B =  2\n",
      "\n",
      "C:\n",
      " [[1 2 3]\n",
      " [5 6 9]\n",
      " [3 2 0]]\n",
      "Rank of C =  3\n",
      "\n",
      "C:\n",
      " [[1 2 3 4]\n",
      " [9 6 2 4]]\n",
      "Rank of C =  2\n"
     ]
    }
   ],
   "source": [
    "mat = np.array([])\n",
    "print(\"Rank of matrix having zero elements = \", np.linalg.matrix_rank(mat))\n",
    "\n",
    "A = np.array([[1,2,3]])\n",
    "print(\"\\nA:\\n\", A)\n",
    "print(\"Rank of A = \", np.linalg.matrix_rank(A))\n",
    "\n",
    "B = np.array([[1,2,3], [3, 2, 0]])\n",
    "print(\"\\nB:\\n\",B)\n",
    "print(\"Rank of B = \", np.linalg.matrix_rank(B))\n",
    "\n",
    "C = np.array([[1,2,3], [5,6,9], [3, 2, 0]])\n",
    "print(\"\\nC:\\n\",C)\n",
    "print(\"Rank of C = \", np.linalg.matrix_rank(C))\n",
    "\n",
    "C = np.array([[1,2, 3, 4], [9, 6, 2, 4]])\n",
    "print(\"\\nC:\\n\", C)\n",
    "print(\"Rank of C = \", np.linalg.matrix_rank(C))"
   ]
  },
  {
   "cell_type": "code",
   "execution_count": 79,
   "id": "10972cef",
   "metadata": {},
   "outputs": [
    {
     "name": "stdout",
     "output_type": "stream",
     "text": [
      "A:\n",
      " [[1 3 2]\n",
      " [2 6 4]\n",
      " [3 9 6]]\n",
      "Rank of A =  1\n",
      "B:\n",
      " [[1 0 1]\n",
      " [2 2 4]\n",
      " [3 2 5]]\n",
      "Rank of B =  2\n"
     ]
    }
   ],
   "source": [
    "# all columns are linearly dependent on each other\n",
    "# 2nd = 3 times 1st col and 3rd col = 2 times 1st column\n",
    "A = np.array([[1,3, 2], [2, 6, 4],[3, 9, 6]]) # all columns are dependent \n",
    "print(\"A:\\n\", A)\n",
    "print(\"Rank of A = \", np.linalg.matrix_rank(A))\n",
    "\n",
    "\n",
    "# 1st and 2nd col are independent, but 3rd column = 1st col + 2nd col\n",
    "B = np.array([[1,0, 1], [2, 2, 4],[3, 2, 5]]) \n",
    "print(\"B:\\n\", B)\n",
    "print(\"Rank of B = \", np.linalg.matrix_rank(B))"
   ]
  },
  {
   "cell_type": "code",
   "execution_count": null,
   "id": "bc6aa356",
   "metadata": {},
   "outputs": [],
   "source": []
  },
  {
   "cell_type": "code",
   "execution_count": null,
   "id": "f44c5251",
   "metadata": {},
   "outputs": [],
   "source": []
  },
  {
   "cell_type": "code",
   "execution_count": null,
   "id": "bfca6da6",
   "metadata": {},
   "outputs": [],
   "source": []
  },
  {
   "cell_type": "markdown",
   "id": "32e4cc1b",
   "metadata": {},
   "source": [
    "### [Linear Algebra/Vector Spaces and Linear Systems](https://en.wikibooks.org/wiki/Linear_Algebra/Vector_Spaces_and_Linear_Systems)"
   ]
  },
  {
   "cell_type": "code",
   "execution_count": null,
   "id": "3a2576b3",
   "metadata": {},
   "outputs": [],
   "source": []
  },
  {
   "cell_type": "code",
   "execution_count": null,
   "id": "4a0c7950",
   "metadata": {},
   "outputs": [],
   "source": []
  },
  {
   "cell_type": "code",
   "execution_count": null,
   "id": "c503be81",
   "metadata": {},
   "outputs": [],
   "source": []
  },
  {
   "cell_type": "code",
   "execution_count": null,
   "id": "e1018041",
   "metadata": {},
   "outputs": [],
   "source": []
  },
  {
   "cell_type": "markdown",
   "id": "761fac21",
   "metadata": {},
   "source": [
    "# <span style='background :lightgreen' > Section III: (Solving System of Linear Equations) </span>"
   ]
  },
  {
   "cell_type": "code",
   "execution_count": 80,
   "id": "840450fb",
   "metadata": {},
   "outputs": [],
   "source": [
    "import numpy as np\n",
    "import numpy.linalg\n",
    "import math\n",
    "import scipy\n",
    "from matplotlib import pyplot as plt\n",
    "from plot_helper import * # Helper functions: plot_vector, plot_linear_transformation, plot_linear_transformations"
   ]
  },
  {
   "cell_type": "markdown",
   "id": "e03a3cf3",
   "metadata": {},
   "source": [
    "## 1. An Overview of Linear Equations"
   ]
  },
  {
   "cell_type": "markdown",
   "id": "81044337",
   "metadata": {},
   "source": [
    "### a. What is a Linear Equation?\n",
    "- An equation in which the variable's highest power is one is called a linear equation. A linear equation can have one, two, three and so on to `n` variables. A linear equation having two variables can be written as:\n",
    "$$ax + by +c = 0$$\n",
    "- A linear equation of two variables when plotted on a graph gives a straight line. A straight line equation is shown below: \n",
    "<h3> $$ y = c + mx$$ </h3>\n",
    "- Where, \n",
    "    - $y$ is the dependent variable.\n",
    "    - $x$ is the independent variable.\n",
    "    - $c$ is the y-intercept or the value of $y$ when $x$ is zero.\n",
    "    - $m$ is the slope/gradient of the line, which tells us two things\n",
    "        - The line is rising or falling (Positive or negative relationship between the two variables)\n",
    "        - Steepness of line (how closely related the two variables are)"
   ]
  },
  {
   "cell_type": "code",
   "execution_count": null,
   "id": "e2edb146",
   "metadata": {},
   "outputs": [],
   "source": []
  },
  {
   "cell_type": "code",
   "execution_count": null,
   "id": "182572ae",
   "metadata": {},
   "outputs": [],
   "source": []
  },
  {
   "cell_type": "code",
   "execution_count": null,
   "id": "9589b541",
   "metadata": {},
   "outputs": [],
   "source": []
  },
  {
   "cell_type": "markdown",
   "id": "73ab5816",
   "metadata": {},
   "source": [
    "**Example 1:** Let us first see how we can draw a line from a linear equation of two variables using Matplotlib. \n",
    "$$ 2x - y = -4 $$\n",
    "$$ y = 4 + 2x $$\n",
    "\n",
    "We need to calculate at least two (x,y) pair of points that statisfies this equation, and then we can draw a line connecting those points."
   ]
  },
  {
   "cell_type": "code",
   "execution_count": 81,
   "id": "8b91b6e8",
   "metadata": {
    "scrolled": true
   },
   "outputs": [
    {
     "data": {
      "image/png": "[encoded data removed]",
      "text/plain": [
       "<Figure size 432x288 with 1 Axes>"
      ]
     },
     "metadata": {
      "needs_background": "light"
     },
     "output_type": "display_data"
    }
   ],
   "source": [
    "%matplotlib inline\n",
    "x = np.array([0, 5])\n",
    "y = 4 + 2 * x\n",
    "\n",
    "fig, ax = plt.subplots()\n",
    "plt.xlabel('x')\n",
    "plt.ylabel('y')\n",
    "plt.title(\"Line representing equation: y = 4 + 2x\")\n",
    "ax.set_xlim([0, 5])\n",
    "ax.set_ylim([1, 14])\n",
    "ax.plot(x, y)\n",
    "plt.grid(True)"
   ]
  },
  {
   "cell_type": "code",
   "execution_count": null,
   "id": "079d9e28",
   "metadata": {},
   "outputs": [],
   "source": []
  },
  {
   "cell_type": "code",
   "execution_count": null,
   "id": "05ada2db",
   "metadata": {},
   "outputs": [],
   "source": []
  },
  {
   "cell_type": "code",
   "execution_count": null,
   "id": "3aabc579",
   "metadata": {},
   "outputs": [],
   "source": []
  },
  {
   "cell_type": "code",
   "execution_count": null,
   "id": "62893c11",
   "metadata": {},
   "outputs": [],
   "source": []
  },
  {
   "cell_type": "markdown",
   "id": "52278afb",
   "metadata": {},
   "source": [
    ">**Let us change the y-intercept, without changing the slope, and draw these three lines:**\n",
    "$$y=4+2x$$\n",
    "$$y=9+2x$$\n",
    "$$y=-2+2x$$"
   ]
  },
  {
   "cell_type": "code",
   "execution_count": 82,
   "id": "33d8de4a",
   "metadata": {},
   "outputs": [
    {
     "data": {
      "image/png": "[encoded data removed]",
      "text/plain": [
       "<Figure size 432x288 with 1 Axes>"
      ]
     },
     "metadata": {
      "needs_background": "light"
     },
     "output_type": "display_data"
    }
   ],
   "source": [
    "%matplotlib inline\n",
    "x = np.linspace(-10, 20, 5) # start, finish, n points\n",
    "y1 = -2 + 2*x\n",
    "y2 = 4 + 2*x\n",
    "y3 = 9 + 2*x\n",
    "\n",
    "fig, ax = plt.subplots()\n",
    "plt.xlabel('x')\n",
    "plt.ylabel('y')\n",
    "ax.set_xlim([0, 6])\n",
    "ax.set_ylim([-2, 16])\n",
    "plt.title(\"Line representing three equations\")\n",
    "ax.plot(x, y1, c='green')\n",
    "ax.plot(x, y2, c='red')\n",
    "ax.plot(x, y3, c='purple')\n",
    "plt.grid(True)"
   ]
  },
  {
   "cell_type": "code",
   "execution_count": null,
   "id": "d84d7adf",
   "metadata": {},
   "outputs": [],
   "source": []
  },
  {
   "cell_type": "code",
   "execution_count": null,
   "id": "f5c3b13f",
   "metadata": {},
   "outputs": [],
   "source": []
  },
  {
   "cell_type": "code",
   "execution_count": null,
   "id": "91e26c24",
   "metadata": {},
   "outputs": [],
   "source": []
  },
  {
   "cell_type": "markdown",
   "id": "0ef32076",
   "metadata": {},
   "source": [
    ">**Let us change the slope, without changing the y-intercept, and draw these three lines:**\n",
    "$$y=4+2x$$\n",
    "$$y=4+0x$$\n",
    "$$y=4-2x$$"
   ]
  },
  {
   "cell_type": "code",
   "execution_count": 83,
   "id": "08d2702d",
   "metadata": {},
   "outputs": [
    {
     "data": {
      "image/png": "[encoded data removed]",
      "text/plain": [
       "<Figure size 432x288 with 1 Axes>"
      ]
     },
     "metadata": {
      "needs_background": "light"
     },
     "output_type": "display_data"
    }
   ],
   "source": [
    "%matplotlib inline\n",
    "x = np.linspace(-10, 20, 5) # start, finish, n points\n",
    "y1 = 4 + 2*x\n",
    "y2 = 4 + 0*x\n",
    "y3 = 4 - 2*x\n",
    "\n",
    "fig, ax = plt.subplots()\n",
    "plt.xlabel('x')\n",
    "plt.ylabel('y')\n",
    "ax.set_xlim([0, 6])\n",
    "ax.set_ylim([-4, 12])\n",
    "plt.title(\"Line representing three equations\")\n",
    "ax.plot(x, y1, c='green')\n",
    "ax.plot(x, y2, c='purple')\n",
    "ax.plot(x, y3, c='red')\n",
    "plt.grid(True)"
   ]
  },
  {
   "cell_type": "code",
   "execution_count": null,
   "id": "7d3f7889",
   "metadata": {},
   "outputs": [],
   "source": []
  },
  {
   "cell_type": "code",
   "execution_count": null,
   "id": "495dcbe9",
   "metadata": {},
   "outputs": [],
   "source": []
  },
  {
   "cell_type": "code",
   "execution_count": null,
   "id": "5ef34dc0",
   "metadata": {},
   "outputs": [],
   "source": []
  },
  {
   "cell_type": "code",
   "execution_count": null,
   "id": "aab53375",
   "metadata": {},
   "outputs": [],
   "source": []
  },
  {
   "cell_type": "code",
   "execution_count": null,
   "id": "8a44141d",
   "metadata": {},
   "outputs": [],
   "source": []
  },
  {
   "cell_type": "markdown",
   "id": "31a45c50",
   "metadata": {},
   "source": [
    "**Example 2:**\n",
    "- You went to a Rent-a-Car company to rant a car for few hours. The company representative told you that the base payment that you have to give is Rs5000/ and then for every hour you have to pay Rs2000/ additional price.\n",
    "- Can you write a linear equation keeping in view of the dependent variable `rent price` and independent variable `time`<br>\n",
    "\n",
    "$$ y = 5000 + 2000x$$\n",
    "- Where, \n",
    "    - $y$ is the dependent/outcome/response variable `rent`.\n",
    "    - Value 5000 is is the minimum/base value (y-intercept).\n",
    "    - $x$ is the independent/feature/predictor variable `time`.\n",
    "    - Value 2000 is the coefficient of $x$, which is the slope."
   ]
  },
  {
   "cell_type": "code",
   "execution_count": 84,
   "id": "eb8c8be3",
   "metadata": {},
   "outputs": [
    {
     "data": {
      "image/png": "[encoded data removed]",
      "text/plain": [
       "<Figure size 432x288 with 1 Axes>"
      ]
     },
     "metadata": {
      "needs_background": "light"
     },
     "output_type": "display_data"
    }
   ],
   "source": [
    "%matplotlib inline\n",
    "x = np.linspace(0, 10, 5) # start, finish, n points\n",
    "y = 5 + 2*x # values are in thousands\n",
    "\n",
    "fig, ax = plt.subplots()\n",
    "plt.xlabel('Time in Hours')\n",
    "plt.ylabel('Rent in thousands')\n",
    "ax.plot(x, y, c='purple')\n",
    "plt.grid(True)"
   ]
  },
  {
   "cell_type": "code",
   "execution_count": null,
   "id": "6ee942d9",
   "metadata": {},
   "outputs": [],
   "source": []
  },
  {
   "cell_type": "code",
   "execution_count": null,
   "id": "aac68730",
   "metadata": {},
   "outputs": [],
   "source": []
  },
  {
   "cell_type": "code",
   "execution_count": null,
   "id": "85178983",
   "metadata": {},
   "outputs": [],
   "source": []
  },
  {
   "cell_type": "markdown",
   "id": "0f5b35bf",
   "metadata": {},
   "source": [
    "**Example 3:**\n",
    "- Given the following linear equation which describes the relationship between the years of education, a person has achieved and the salary in thousands per month. Plot the linear equation to understand the relationship.<br>\n",
    "\n",
    "$$ y = 20 + 5x$$\n",
    "- Where, \n",
    "    - $y$ is the dependent/outcome/response variable `salary in thousands`.\n",
    "    - Value 20 means Rs20K, which is the minimum/base salary, that one gets even if he/she is uneducated (y-intercept).\n",
    "    - $x$ is the independent/feature/predictor variable `education in years`.\n",
    "    - Value 5 means Rs5K, is the coefficient of $x$, which is the slope"
   ]
  },
  {
   "cell_type": "code",
   "execution_count": 85,
   "id": "5a8c0999",
   "metadata": {},
   "outputs": [
    {
     "data": {
      "image/png": "[encoded data removed]",
      "text/plain": [
       "<Figure size 432x288 with 1 Axes>"
      ]
     },
     "metadata": {
      "needs_background": "light"
     },
     "output_type": "display_data"
    }
   ],
   "source": [
    "%matplotlib inline\n",
    "x = np.linspace(0, 20, 5) # start, finish, n points\n",
    "y = 20 + 5*x\n",
    "\n",
    "fig, ax = plt.subplots()\n",
    "plt.xlabel('Education in Years')\n",
    "plt.ylabel('Salary in thousands')\n",
    "ax.plot(x, y, c='purple')\n",
    "plt.grid(True)"
   ]
  },
  {
   "cell_type": "code",
   "execution_count": null,
   "id": "36330739",
   "metadata": {},
   "outputs": [],
   "source": []
  },
  {
   "cell_type": "code",
   "execution_count": null,
   "id": "cefd0911",
   "metadata": {},
   "outputs": [],
   "source": []
  },
  {
   "cell_type": "code",
   "execution_count": null,
   "id": "61745ea7",
   "metadata": {},
   "outputs": [],
   "source": []
  },
  {
   "cell_type": "markdown",
   "id": "3b4a26e6",
   "metadata": {},
   "source": [
    "**Example 4:**\n",
    "- Given the following linear equation which describes the relationship between the drug dosage and forgetness level.<br>\n",
    "\n",
    "$$ y = 10 - 1.5x$$\n",
    "- Where, \n",
    "    - $y$ is the dependent/outcome/response variable `forgetness level`.\n",
    "    - Value 10 is the forgetness level if no drug is given to the patient (y-intercept).\n",
    "    - $x$ is the independent/feature/predictor variable `drug dosage`.\n",
    "    - Value 1.5 is the coefficient of $x$, which is the slope."
   ]
  },
  {
   "cell_type": "code",
   "execution_count": 86,
   "id": "384ea33f",
   "metadata": {},
   "outputs": [
    {
     "data": {
      "image/png": "[encoded data removed]",
      "text/plain": [
       "<Figure size 432x288 with 1 Axes>"
      ]
     },
     "metadata": {
      "needs_background": "light"
     },
     "output_type": "display_data"
    }
   ],
   "source": [
    "%matplotlib inline\n",
    "x = np.linspace(0, 20, 5) # start, finish, n points\n",
    "y = 10 - 1.5*x\n",
    "\n",
    "fig, ax = plt.subplots()\n",
    "ax.set_xlim([0, 9])\n",
    "ax.set_ylim([-5, 15])\n",
    "plt.xlabel('Drug Dosage in ml')\n",
    "plt.ylabel('Forgetness Level')\n",
    "ax.plot(x, y, c='purple')\n",
    "plt.grid(True)"
   ]
  },
  {
   "cell_type": "code",
   "execution_count": null,
   "id": "f053f7a2",
   "metadata": {},
   "outputs": [],
   "source": []
  },
  {
   "cell_type": "code",
   "execution_count": null,
   "id": "811ffad9",
   "metadata": {},
   "outputs": [],
   "source": []
  },
  {
   "cell_type": "code",
   "execution_count": null,
   "id": "88a7eb5b",
   "metadata": {},
   "outputs": [],
   "source": []
  },
  {
   "cell_type": "code",
   "execution_count": null,
   "id": "66d336a1",
   "metadata": {},
   "outputs": [],
   "source": []
  },
  {
   "cell_type": "code",
   "execution_count": null,
   "id": "be7f56e9",
   "metadata": {},
   "outputs": [],
   "source": []
  },
  {
   "cell_type": "markdown",
   "id": "7500a760",
   "metadata": {},
   "source": [
    "### b. What is a System of Linear Equations?\n",
    "- A system of linear equations consists of two or more linear equations, that you deal with all together at once.\n",
    "- An example system of linear equations having `two equations` and `two variables` is shown below:\n",
    "$$2x+5y=1$$\n",
    "$$3x-y=2$$\n",
    "\n",
    "- An example system of linear equations having `three equations` and `three variables` is shown below:\n",
    "$$x+y+z=3$$\n",
    "$$𝑥 + 2𝑦 +3z= 0$$\n",
    "$$𝑥 + 3𝑦 + 2𝑧 = 3$$    \n",
    "\n",
    "**Solution(s) to a System of Linear Equations:**\n",
    "- The solution to a system of linear equations are the values of variable that when put in the equation satisfies them all.\n",
    "- The unique solution to a system of linear equations having two variables is a 2-D point $(x,y)$, where the two `lines` intersect.\n",
    "- The unique solution to a system of linear equations having three variables is a 3-D point $(x,y,z)$, where the three `planes` intersect.\n",
    "- The three scenarios that you may come across while trying to solve a system of linear equations are:\n",
    "    - **Unique Solution:** You get exactly one value of every variable, that satisfies all the equations.\n",
    "    - **Infinite Solution:** You get infinite many values for every variable, that satisfies all the equations.\n",
    "    - **No Solution:** You get no value for every bariable, that satisfies all the equations."
   ]
  },
  {
   "cell_type": "code",
   "execution_count": null,
   "id": "25423816",
   "metadata": {},
   "outputs": [],
   "source": []
  },
  {
   "cell_type": "code",
   "execution_count": null,
   "id": "36945e7e",
   "metadata": {},
   "outputs": [],
   "source": []
  },
  {
   "cell_type": "code",
   "execution_count": null,
   "id": "28d24638",
   "metadata": {},
   "outputs": [],
   "source": []
  },
  {
   "cell_type": "code",
   "execution_count": null,
   "id": "c257ce72",
   "metadata": {},
   "outputs": [],
   "source": []
  },
  {
   "cell_type": "markdown",
   "id": "210c0d11",
   "metadata": {},
   "source": [
    "## 2. How to Solve a System of Linear Equations\n",
    "- There are different ways to solve a set of linear equations:\n",
    "    - Substitution method\n",
    "    - Elimination method\n",
    "    - Graphing method"
   ]
  },
  {
   "cell_type": "markdown",
   "id": "d752a626",
   "metadata": {},
   "source": [
    "### a. Using Substitution Strategy:\n",
    "- We substitute the value of a variable from one equation to the other.\n",
    "- Use this strategy, whenever there is a variable in the system with a coefficient of 1.\n",
    "- For example:<br>\n",
    "$\\hspace{1 cm}y = 3x$ and $-5x + 2y = 2$"
   ]
  },
  {
   "cell_type": "markdown",
   "id": "1d04ad21",
   "metadata": {},
   "source": [
    "### b. Using Elimination Strategy:\n",
    "- Typically best option if no variable in system has coefficient of one.\n",
    "- Use addition property of equations to eliminate variables and if necessary, multiply one or both equations to make elimination of a variable possible.\n",
    "- For example:<br>\n",
    "$\\hspace{1 cm}4x - 3y = 35$ and $-3x + 8y = 10$"
   ]
  },
  {
   "cell_type": "markdown",
   "id": "06c5e75a",
   "metadata": {},
   "source": [
    "### c. Using Graphing Strategy:\n",
    "- We can take a graph paper and draw the lines corresponding to the linear equations, which will of course make a straight line.\n",
    "- If the two lines intersect, the point of intersection gives us the solution of the two unknowns.\n",
    "- If the two lines are parallel to eachother, that means there is no solution to the set of two linear equations.\n",
    "- If the two lines overlap, then we say that there are infinite solutions to the set of two linear equations."
   ]
  },
  {
   "cell_type": "code",
   "execution_count": null,
   "id": "560e76c0",
   "metadata": {},
   "outputs": [],
   "source": []
  },
  {
   "cell_type": "code",
   "execution_count": null,
   "id": "8657e77b",
   "metadata": {},
   "outputs": [],
   "source": []
  },
  {
   "cell_type": "code",
   "execution_count": null,
   "id": "7ed33d6f",
   "metadata": {},
   "outputs": [],
   "source": []
  },
  {
   "cell_type": "code",
   "execution_count": null,
   "id": "104177a7",
   "metadata": {},
   "outputs": [],
   "source": []
  },
  {
   "cell_type": "markdown",
   "id": "a447f680",
   "metadata": {},
   "source": [
    "**Example 5:**\n",
    "Solve the following set of two linear equations with two unknowns using substitution strategy, or elimination strategy (at your own). Use Matplotlib and see if two lines representing the two equations intersect.<br>\n",
    "$$ y = 1 + 2x$$\n",
    "$$ y = 3 -\\frac{1}{2}x$$"
   ]
  },
  {
   "cell_type": "code",
   "execution_count": 87,
   "id": "a6ad8013",
   "metadata": {},
   "outputs": [
    {
     "data": {
      "image/png": "[encoded data removed]",
      "text/plain": [
       "<Figure size 432x288 with 1 Axes>"
      ]
     },
     "metadata": {
      "needs_background": "light"
     },
     "output_type": "display_data"
    }
   ],
   "source": [
    "%matplotlib inline\n",
    "x = np.linspace(-10, 10, 1000) # start, finish, n points\n",
    "y1 = 1 + 2*x\n",
    "y2 = 3 - 0.5*x\n",
    "fig, ax = plt.subplots()\n",
    "plt.xlabel('x')\n",
    "plt.ylabel('y')\n",
    "ax.set_xlim([-2, 3])\n",
    "ax.set_ylim([-1, 5])\n",
    "ax.plot(x, y1, c='green')\n",
    "ax.plot(x, y2, c='red')\n",
    "plt.grid(True)"
   ]
  },
  {
   "cell_type": "markdown",
   "id": "27840394",
   "metadata": {},
   "source": [
    ">- The above graph represents the two equations as straight lines and the solution of these two set of linear equations with two unknowns is the point where both the equations are intersecting with each other, and that is $(\\frac{4}{5},\\frac{13}{5})$ or  $(0.8, 2.6)$"
   ]
  },
  {
   "cell_type": "code",
   "execution_count": null,
   "id": "df0f9d6a",
   "metadata": {},
   "outputs": [],
   "source": []
  },
  {
   "cell_type": "code",
   "execution_count": null,
   "id": "bb2766a7",
   "metadata": {},
   "outputs": [],
   "source": []
  },
  {
   "cell_type": "code",
   "execution_count": null,
   "id": "cafac820",
   "metadata": {},
   "outputs": [],
   "source": []
  },
  {
   "cell_type": "code",
   "execution_count": null,
   "id": "31fed10b",
   "metadata": {},
   "outputs": [],
   "source": []
  },
  {
   "cell_type": "markdown",
   "id": "26a6231c",
   "metadata": {},
   "source": [
    "**Example 6:**\n",
    "Solve the following set of two linear equations with two unknowns using substitution strategy, or elimination strategy (at your own). Use Matplotlib and see if two lines representing the two equations intersect.<br>\n",
    "$$ y = 1 + 2x$$\n",
    "$$ y = 3 + 2x$$"
   ]
  },
  {
   "cell_type": "code",
   "execution_count": 88,
   "id": "2c7f9f60",
   "metadata": {},
   "outputs": [
    {
     "data": {
      "image/png": "[encoded data removed]",
      "text/plain": [
       "<Figure size 432x288 with 1 Axes>"
      ]
     },
     "metadata": {
      "needs_background": "light"
     },
     "output_type": "display_data"
    }
   ],
   "source": [
    "%matplotlib inline\n",
    "x = np.linspace(-10, 10, 1000) # start, finish, n points\n",
    "y1 = 1 + 2*x\n",
    "y2 = 3 + 2*x\n",
    "fig, ax = plt.subplots()\n",
    "plt.xlabel('x')\n",
    "plt.ylabel('y')\n",
    "ax.set_xlim([-2, 3])\n",
    "ax.set_ylim([-1, 5])\n",
    "ax.plot(x, y1, c='green')\n",
    "ax.plot(x, y2, c='red')\n",
    "plt.grid(True)"
   ]
  },
  {
   "cell_type": "markdown",
   "id": "cf966d34",
   "metadata": {},
   "source": [
    ">- No Solution (Parallel lines having same slope, but different y-intercept"
   ]
  },
  {
   "cell_type": "markdown",
   "id": "d51e9d05",
   "metadata": {},
   "source": [
    "**Example 7:**\n",
    "Solve the following set of two linear equations with two unknowns using substitution strategy, or elimination strategy (at your own). Use Matplotlib and see if two lines representing the two equations intersect.<br>\n",
    "\n",
    "$$ y = 1 + 2x$$\n",
    "\n",
    "$$ 4x - 2y + 2 = 0$$"
   ]
  },
  {
   "cell_type": "code",
   "execution_count": 89,
   "id": "3c59378d",
   "metadata": {
    "scrolled": true
   },
   "outputs": [
    {
     "data": {
      "image/png": "[encoded data removed]",
      "text/plain": [
       "<Figure size 432x288 with 1 Axes>"
      ]
     },
     "metadata": {
      "needs_background": "light"
     },
     "output_type": "display_data"
    }
   ],
   "source": [
    "%matplotlib inline\n",
    "x = np.linspace(-10, 10, 1000) # start, finish, n points\n",
    "y1 = 1 + 2*x\n",
    "y2 = 2/2 + (4/2)*x\n",
    "fig, ax = plt.subplots()\n",
    "plt.xlabel('x')\n",
    "plt.ylabel('y')\n",
    "ax.set_xlim([-2, 3])\n",
    "ax.set_ylim([-1, 5])\n",
    "ax.plot(x, y1, 'r:')\n",
    "ax.plot(x, y2, 'g-.')\n",
    "plt.grid(True)"
   ]
  },
  {
   "cell_type": "markdown",
   "id": "c12536dd",
   "metadata": {},
   "source": [
    ">- Infinite Solutions (Parallel lines having same slope and same intercept)"
   ]
  },
  {
   "cell_type": "code",
   "execution_count": null,
   "id": "c0f4874e",
   "metadata": {},
   "outputs": [],
   "source": []
  },
  {
   "cell_type": "code",
   "execution_count": null,
   "id": "2b5b4206",
   "metadata": {},
   "outputs": [],
   "source": []
  },
  {
   "cell_type": "code",
   "execution_count": null,
   "id": "f00aad90",
   "metadata": {},
   "outputs": [],
   "source": []
  },
  {
   "cell_type": "code",
   "execution_count": null,
   "id": "c1ba7180",
   "metadata": {},
   "outputs": [],
   "source": []
  },
  {
   "cell_type": "markdown",
   "id": "d6c2bc8c",
   "metadata": {},
   "source": [
    "**Example 8:** \n",
    "- Suppose a robber robbed a bank and escaped in a car with speed of 150Km/hr. The sheriff start following the robber after 5 minutes in a car with speed of 180Km/hr. \n",
    "- We need to find out, whether the sherrif can catch the robber. And if yes, after how much time and what is the distance that both have travelled at that point. For simplicity, you can ignore acceleration and traffic conditions.\n",
    "- Let us write the two equations:\n",
    "    - The bank robber equation is: $d = 150t$\n",
    "    - The sherrif equation is: $d=180(t-5)$\n",
    "- Let us solve these equations graphically by plotting them using Matplotlib and see their point of intersection"
   ]
  },
  {
   "cell_type": "code",
   "execution_count": 90,
   "id": "688ecdc9",
   "metadata": {},
   "outputs": [
    {
     "data": {
      "image/png": "[encoded data removed]",
      "text/plain": [
       "<Figure size 432x288 with 1 Axes>"
      ]
     },
     "metadata": {
      "needs_background": "light"
     },
     "output_type": "display_data"
    }
   ],
   "source": [
    "%matplotlib inline\n",
    "t = np.linspace(0, 100, 100) # start, finish, n points\n",
    "# to manage units on graph divide both equations by 60\n",
    "d1 = 2.5*t\n",
    "d2 = 3*(t-5)\n",
    "fig, ax = plt.subplots()\n",
    "plt.xlabel('Time')\n",
    "plt.ylabel('Distance')\n",
    "ax.set_xlim([0, 40])\n",
    "ax.set_ylim([0, 100])\n",
    "ax.plot(t, d1, c='green',linestyle= '-.')\n",
    "ax.plot(t, d2, c='r', linestyle=':')\n",
    "plt.grid(True)"
   ]
  },
  {
   "cell_type": "markdown",
   "id": "555dbc7a",
   "metadata": {},
   "source": [
    "The above line graph shows that the two lines intersect at point $(30, 75)$. So we can infer that the sheriff has caught the robber after 30 minutes drive and after both has travelled a distnce of 75 Km."
   ]
  },
  {
   "cell_type": "markdown",
   "id": "cb668e57-f726-4185-990e-bfe0e56ef469",
   "metadata": {},
   "source": [
    ">- **Replot the line graph, if the speed of the sheriff's car and robber's car is same**"
   ]
  },
  {
   "cell_type": "code",
   "execution_count": 91,
   "id": "456b87de",
   "metadata": {},
   "outputs": [
    {
     "data": {
      "image/png": "[encoded data removed]",
      "text/plain": [
       "<Figure size 432x288 with 1 Axes>"
      ]
     },
     "metadata": {
      "needs_background": "light"
     },
     "output_type": "display_data"
    }
   ],
   "source": [
    "%matplotlib inline\n",
    "t = np.linspace(0, 100, 100) # start, finish, n points\n",
    "d1 = 0 + 2.5*t\n",
    "d2 = -15 + 2.5*t\n",
    "fig, ax = plt.subplots()\n",
    "plt.xlabel('Time')\n",
    "plt.ylabel('Distance')\n",
    "ax.set_xlim([0, 40])\n",
    "ax.set_ylim([0, 100])\n",
    "ax.plot(t, d1, c='green',linestyle= '-.')\n",
    "ax.plot(t, d2, c='r', linestyle=':')\n",
    "plt.grid(True)"
   ]
  },
  {
   "cell_type": "markdown",
   "id": "0bcb571b",
   "metadata": {},
   "source": [
    "The two lines are parallel and never intersect. So we can infer that the sheriff will never be able to catch the theif."
   ]
  },
  {
   "cell_type": "code",
   "execution_count": null,
   "id": "90571f72",
   "metadata": {},
   "outputs": [],
   "source": []
  },
  {
   "cell_type": "code",
   "execution_count": null,
   "id": "ac7f3cdd",
   "metadata": {},
   "outputs": [],
   "source": []
  },
  {
   "cell_type": "markdown",
   "id": "5e07aef2-47a2-426d-aeda-ddc363c89e28",
   "metadata": {},
   "source": [
    ">- **Replot the line graph, if the speed of the sheriff's car and robber's car is same as well as they leave at the same time**"
   ]
  },
  {
   "cell_type": "code",
   "execution_count": 92,
   "id": "b022c33a",
   "metadata": {},
   "outputs": [
    {
     "data": {
      "image/png": "[encoded data removed]",
      "text/plain": [
       "<Figure size 432x288 with 1 Axes>"
      ]
     },
     "metadata": {
      "needs_background": "light"
     },
     "output_type": "display_data"
    }
   ],
   "source": [
    "%matplotlib inline\n",
    "t = np.linspace(0, 100, 100) # start, finish, n points\n",
    "d1 = 2.5*t\n",
    "d2 = 2.5*t\n",
    "fig, ax = plt.subplots()\n",
    "plt.xlabel('Time')\n",
    "plt.ylabel('Distance')\n",
    "ax.set_xlim([0, 40])\n",
    "ax.set_ylim([0, 100])\n",
    "#ax.plot(t, d1, c='green')\n",
    "#ax.plot(t, d2, c='red')\n",
    "ax.plot(t, d1, c='green',linestyle= '-.')\n",
    "ax.plot(t, d2, c='r', linestyle=':')\n",
    "plt.grid(True)"
   ]
  },
  {
   "cell_type": "markdown",
   "id": "8c53090a",
   "metadata": {},
   "source": [
    "The two lines are having same slope and same y-intercept. So there are infinite solutions, the sheriff can catch the theif any time."
   ]
  },
  {
   "cell_type": "code",
   "execution_count": null,
   "id": "0fe08dc9",
   "metadata": {},
   "outputs": [],
   "source": []
  },
  {
   "cell_type": "code",
   "execution_count": null,
   "id": "284dce0b",
   "metadata": {},
   "outputs": [],
   "source": []
  },
  {
   "cell_type": "code",
   "execution_count": null,
   "id": "c470dcc9",
   "metadata": {},
   "outputs": [],
   "source": []
  },
  {
   "cell_type": "code",
   "execution_count": null,
   "id": "91f16b92",
   "metadata": {},
   "outputs": [],
   "source": []
  },
  {
   "cell_type": "code",
   "execution_count": null,
   "id": "76f2c42e",
   "metadata": {},
   "outputs": [],
   "source": []
  },
  {
   "cell_type": "code",
   "execution_count": null,
   "id": "d87706fc",
   "metadata": {},
   "outputs": [],
   "source": []
  },
  {
   "cell_type": "markdown",
   "id": "89baaac1",
   "metadata": {},
   "source": [
    "### d. Consistent and Inconsistent System of Linear Equations\n",
    "\n",
    "<img align=\"center\" width=\"900\" height=\"900\"  src=\"images/LA/consistentequations1.png\"  >"
   ]
  },
  {
   "cell_type": "code",
   "execution_count": null,
   "id": "fca4064f",
   "metadata": {},
   "outputs": [],
   "source": []
  },
  {
   "cell_type": "code",
   "execution_count": null,
   "id": "241e0823",
   "metadata": {},
   "outputs": [],
   "source": []
  },
  {
   "cell_type": "code",
   "execution_count": null,
   "id": "db0c1cbd",
   "metadata": {},
   "outputs": [],
   "source": []
  },
  {
   "cell_type": "code",
   "execution_count": null,
   "id": "9514de39",
   "metadata": {},
   "outputs": [],
   "source": []
  },
  {
   "cell_type": "markdown",
   "id": "6863ba25",
   "metadata": {},
   "source": [
    "### e. Plotting a Linear Equation with Three Variables\n",
    "<img align=\"left\" width=\"300\" height=\"300\"  src=\"images/LA/3Dimage.png\"  >\n",
    "<img align=\"right\" width=\"500\" height=\"500\"  src=\"images/LA/plotting3varline.png\"  >"
   ]
  },
  {
   "cell_type": "code",
   "execution_count": null,
   "id": "309f29ab",
   "metadata": {},
   "outputs": [],
   "source": []
  },
  {
   "cell_type": "code",
   "execution_count": null,
   "id": "02f03ad4",
   "metadata": {},
   "outputs": [],
   "source": []
  },
  {
   "cell_type": "code",
   "execution_count": null,
   "id": "e4ac1109",
   "metadata": {},
   "outputs": [],
   "source": []
  },
  {
   "cell_type": "markdown",
   "id": "e7027aef",
   "metadata": {},
   "source": [
    "### f. Solving set of Three Linear Equations with Three Variables\n",
    "- The way we can solve a system of two linear equations with two variables using elimination and substitution strategy, we can solve a system of three linear equations with three variables using elimination and substitution.\n",
    "- The way we can visually plot the solution of a system of two linear equations with two variables by drawing the two lines and checking out their point of intersection. \n",
    "- Similarly, we can visually plot solution of a system of three linear equations with three variables by drawing the three planes for the three equations. Remember when two planes intersect, you get a line. The third plane may intersect in such a way that you get a unique point of intersection to all three planes. The third poane may intersect in such a way that you get a common line instead of a point. \n",
    "- Keeping this in mind, there can be following possibilities:"
   ]
  },
  {
   "cell_type": "markdown",
   "id": "dd37ebef",
   "metadata": {},
   "source": [
    "<img align=\"right\" width=\"300\" height=\"300\"  src=\"images/LA/3DUniquesol.png\"  >\n",
    "\n",
    "**Consistant Independent System of Linear Equations:** \n",
    "- In this case, there is a unique solution.\n",
    "- Geometrically, all three planes intersect at exactly one point. In other words there is exactly one point that lies on all the three planes.\n",
    "- You can visualize it as the corner of your room, where the two walls and the floor intersect at exactly one point/corner.\n",
    "- An example of such a system of linear equations is shown below having a solution of $(4, 1, -2)$:\n",
    "\n",
    "$ \\hspace{2 cm}x +y  +z  = 3$\n",
    "\n",
    "$ \\hspace{2 cm}x +2y +3z = 0$\n",
    "\n",
    "$ \\hspace{2 cm}x +3y +2z = 3$"
   ]
  },
  {
   "cell_type": "code",
   "execution_count": null,
   "id": "ffa886ca",
   "metadata": {},
   "outputs": [],
   "source": []
  },
  {
   "cell_type": "code",
   "execution_count": null,
   "id": "5ab51229",
   "metadata": {},
   "outputs": [],
   "source": []
  },
  {
   "cell_type": "code",
   "execution_count": null,
   "id": "c5653590",
   "metadata": {},
   "outputs": [],
   "source": []
  },
  {
   "cell_type": "markdown",
   "id": "d48c6d79",
   "metadata": {},
   "source": [
    "<img align=\"right\" width=\"300\" height=\"300\"  src=\"images/LA/3DInfinitesol.png\"  >\n",
    "\n",
    "**Consistant Dependent System of Linear Equations:** \n",
    "- In this case, there are infinite solutions.\n",
    "- Geometrically, all the three planes will intersect with eachother and make a line of intersection instead of a point.\n",
    "- An example of such a system of linear equations is:\n",
    "\n",
    "$ \\hspace{2 cm}2x + 2y +2z = -2$\n",
    "\n",
    "$ \\hspace{2 cm}2x + 3y +2z = 4$\n",
    "\n",
    "$ \\hspace{2 cm}x + y +z = -1$"
   ]
  },
  {
   "cell_type": "code",
   "execution_count": null,
   "id": "1fcef16c",
   "metadata": {},
   "outputs": [],
   "source": []
  },
  {
   "cell_type": "code",
   "execution_count": null,
   "id": "9d86b2b7",
   "metadata": {},
   "outputs": [],
   "source": []
  },
  {
   "cell_type": "code",
   "execution_count": null,
   "id": "bf0a0360",
   "metadata": {},
   "outputs": [],
   "source": []
  },
  {
   "cell_type": "code",
   "execution_count": null,
   "id": "18a953ac",
   "metadata": {},
   "outputs": [],
   "source": []
  },
  {
   "cell_type": "markdown",
   "id": "ea979c1e",
   "metadata": {},
   "source": [
    "<img align=\"right\" width=\"500\" height=\"500\"  src=\"images/LA/3DNosol.png\"  >\n",
    "\n",
    "**Inconsistant System of Linear Equations:** \n",
    "- In this case, there is no solution.\n",
    "- There are three scenarios for this:\n",
    "    - The three planes intersect with each other, but not at a common point\n",
    "    - Two of the planes are parallel and intersect with the third plane, but not with each other\n",
    "    - All three planes are parallel, so there is no point of intersection\n",
    "- Example of such a system of linear equations are:\n",
    "    - $ x  +y +z = 1$, $ 2x  +2y +2z = 2$, and $ 4x +4y +4z = 4$\n",
    "    - $ 2x  -4y +z = 3$, $ 8x  -2y +4z = 7$, and $ -4x +y -2z = -14$"
   ]
  },
  {
   "cell_type": "code",
   "execution_count": null,
   "id": "417e186f",
   "metadata": {},
   "outputs": [],
   "source": []
  },
  {
   "cell_type": "markdown",
   "id": "d6b03376",
   "metadata": {},
   "source": [
    "### g. Practice Problems\n",
    ">- **A system of linear equations is consistent if it has one or more solutions and inconsistent if no solutions exist. Furthermore, a consistent system is said to be independent if it has exactly one solution (often referred to as the unique solution) and dependent if it has more than one solution. Two systems of equations are\n",
    "equivalent if they have the same solution set.**\n",
    "\n",
    "**Problem 1:** If 2 adult tickets and 1 child ticket cost 32, and if 1 adult ticket and 3 child tickets cost 36,\n",
    "what is the price of each?\n",
    "\n",
    "$$2x + y = 32$$\n",
    "$$x + 3y = 36$$\n",
    "\n",
    "\n",
    "**Problem 2:** Jasmine wants to use milk and orange juice to increase the amount of calcium and vitamin A in her daily diet. An ounce of milk contains 37 milligrams of calcium and 57 micrograms* of vitamin A. An ounce of orange juice contains 5 milligrams of calcium and 65 micrograms of vitamin A. How many ounces of milk and orange juice should Jasmine drink each day to provide exactly 500 milligrams of calcium and 1,200 micrograms of vitamin A?\n",
    "$$37x + 5y = 500$$\n",
    "$$57x + 65y = 1200$$"
   ]
  },
  {
   "cell_type": "code",
   "execution_count": null,
   "id": "652c643d",
   "metadata": {},
   "outputs": [],
   "source": []
  },
  {
   "cell_type": "code",
   "execution_count": null,
   "id": "a55c5dde",
   "metadata": {},
   "outputs": [],
   "source": []
  },
  {
   "cell_type": "markdown",
   "id": "735f34d7",
   "metadata": {},
   "source": [
    "## 4. Solving System of Linear Equations using Matrix Algebra\n",
    "- Most linear systems involve large numbers of equations and variables. It is impractical to try to solve such systems by hand.\n",
    "- In solving systems of equations using elimination and substitution, the coefficients of the variables and the constant terms play a central role. \n",
    "- The process can be made more efficient and for the computer to solve, we represent the linear equations in the form of matrices and vectors.\n",
    "- We can later apply different techniques on the matrix equation, to solve for unknowns. \n",
    "- Some of the most commonly used techniques are:\n",
    "    - Gaussian Elimination.\n",
    "    - Gauss Jordan Elimination.\n",
    "    - Cramer's Rule.\n",
    "    - Matrix Inversion Method."
   ]
  },
  {
   "cell_type": "code",
   "execution_count": null,
   "id": "aacc62bc",
   "metadata": {},
   "outputs": [],
   "source": []
  },
  {
   "cell_type": "code",
   "execution_count": null,
   "id": "99a9a61d",
   "metadata": {},
   "outputs": [],
   "source": []
  },
  {
   "cell_type": "code",
   "execution_count": null,
   "id": "add8ac9d",
   "metadata": {},
   "outputs": [],
   "source": []
  },
  {
   "cell_type": "code",
   "execution_count": null,
   "id": "a9e4f47c",
   "metadata": {},
   "outputs": [],
   "source": []
  },
  {
   "cell_type": "markdown",
   "id": "b2929d7d",
   "metadata": {},
   "source": [
    "### a. Writing  System of Linear Equation in Matrix Form"
   ]
  },
  {
   "cell_type": "markdown",
   "id": "66e7a400",
   "metadata": {},
   "source": [
    "**System of Two Linear Equations having two unknowns ($x_1$, and  $x_2$), with four coefficients:**<br>\n",
    "$$ a_{1,1}x_1 + a_{1,2}x_2 = b_1 $$\n",
    "$$ a_{2,1}x_1 + a_{2,2}x_2  = b_2 $$\n",
    "\n",
    "- So the above system of two linear equations with two variables can be written in matrix form as:\n",
    "$$\n",
    "\\begin{bmatrix} a_{1,1} & a_{1,2}  \\\\ a_{2,1} & a_{2,2} \\end{bmatrix}\n",
    "\\begin{bmatrix} x_1 \\\\ x_2  \\end{bmatrix}=\n",
    "\\begin{bmatrix} b_1 \\\\ b_2  \\end{bmatrix} \n",
    "$$\n",
    "\n",
    "**System of Three Linear Equations having three unknowns($x_1, x_2$, and  $x_3$), with nine coefficients:**<br>\n",
    "\n",
    "$$ a_{1,1}x_1 + a_{1,2}x_2 + a_{1,3}x_3 = b_1 $$\n",
    "$$ a_{2,1}x_1 + a_{2,2}x_2 + a_{2,3}x_3 = b_2 $$\n",
    "$$ a_{3,1}x_1 + a_{3,2}x_2 + a_{3,3}x_3 = b_3 $$\n",
    "\n",
    "$$\n",
    "\\begin{bmatrix} a_{1,1} & a_{1,2} & a_{1,3}  \\\\ a_{2,1} & a_{2,2} & a_{2,3} \\\\a_{3,1} & a_{3,2} & a_{3,3}\\end{bmatrix}\n",
    "\\begin{bmatrix} x_1 \\\\ x_2 \\\\ x_3  \\end{bmatrix}=\n",
    "\\begin{bmatrix} b_1 \\\\ b_2 \\\\ b_3  \\end{bmatrix} \n",
    "$$\n",
    "\n",
    "\n",
    "$$ Ax = b$$\n",
    "\n",
    "- Where,\n",
    "    - $A$ is the matrix of coefficients, or scalar values (`known matrix`)\n",
    "    - $x$ is a vector of variables (`unknown vector`)\n",
    "    - $b$ is a vector containing constants on the RHS of equations (`known vector`)\n",
    "        - If $b = 0_{nx1}$, we say that it is a homogeneous system of equations\n",
    "        - If $b \\neq 0_{nx1}$, we say that it is a non-homogeneous system of equations\n",
    "> Matrix `$A$`, when applied on vector `$x$` of unknowns, transforms it into vector `$b$` of known values."
   ]
  },
  {
   "cell_type": "code",
   "execution_count": null,
   "id": "c98794fb",
   "metadata": {},
   "outputs": [],
   "source": []
  },
  {
   "cell_type": "markdown",
   "id": "e30a2b14",
   "metadata": {},
   "source": [
    "### b. Solving set of Linear Equations Using Gaussian Elimination Method\n",
    "- Gaussian Elimination is a method for solving systems of linear equations with several unknown variables. It works by bringing the matrix representing the equations into row echelon form and resolving the unknown variables by back-substitution.\n",
    "- Gaussian elimination is a method named after German mathematician Larl Friedrich Gauss.\n",
    "- Suppose we want to solve a system of three linear equations with three unknowns given below:\n",
    "$$ a_{1,1}x_1 + a_{1,2}x_2 + a_{1,3}x_3 = b_1 $$\n",
    "$$ a_{2,1}x_1 + a_{2,2}x_2 + a_{2,3}x_3 = b_2 $$\n",
    "$$ a_{3,1}x_1 + a_{3,2}x_2 + a_{3,3}x_3 = b_3 $$\n",
    "\n",
    "- **Step 1**: We represent the system of equations in `augmented matrix` form, which contains all the essential information about the linear system — everything but the names of the variables. The augmented matrix for above system of linear equations is shown below:\n",
    "$$\n",
    "\\begin{bmatrix} a_{1,1} & a_{1,2} & a_{1,3}  \\bigm| & b_1 \\\\ a_{2,1} & a_{2,2} & a_{2,3} \\bigm| & b_2 \\\\a_{3,1} & a_{3,2} & a_{3,3} \\bigm| & b_3 \\end{bmatrix}\n",
    "$$\n",
    "\n",
    "- **Step 2**: Then we apply different operations on augmented matrix in no specific order, with the goal to eliminate one variable at a time to achieve `upper triangular marix` (Row echelon form is a diagonal matrix where all entries below a leading coefficient are zero. Some textbooks also state that the leading coefficient must equal one):\n",
    "$$\n",
    "\\begin{bmatrix} 1 & a_{1,2} & a_{1,3}  \\bigm| & b_1 \\\\ 0 & 1 & a_{2,3} \\bigm| & b_2 \\\\0 & 0 & 1 \\hspace{.4 cm} \\bigm| & b_3 \\end{bmatrix}\n",
    "$$\n",
    "- The matrix operations performed for triangularization are:\n",
    "    - Interchange order of any two rows ($R_i = R_j$).\n",
    "    - Multiply a row by a non-zero constant($R_i = nR_j$\n",
    "    - Add a multiple of a row to another row ($R_j = R_i + R_j$)\n",
    "    \n",
    "- **Step 3**:Once in this form, we can say that $x_3 = b_3$ and use `back substitution` to solve for $x_2$ and $x_1$."
   ]
  },
  {
   "cell_type": "code",
   "execution_count": null,
   "id": "9e85a15d",
   "metadata": {},
   "outputs": [],
   "source": []
  },
  {
   "cell_type": "code",
   "execution_count": null,
   "id": "59e25c0d",
   "metadata": {},
   "outputs": [],
   "source": []
  },
  {
   "cell_type": "code",
   "execution_count": null,
   "id": "10cf7a88",
   "metadata": {},
   "outputs": [],
   "source": []
  },
  {
   "cell_type": "code",
   "execution_count": null,
   "id": "2c8286d6",
   "metadata": {},
   "outputs": [],
   "source": []
  },
  {
   "cell_type": "markdown",
   "id": "b33b8b16",
   "metadata": {},
   "source": [
    "**Example 9:** Given the system of three linear equations with three unknowns, solve for unknowns by using Gauss Elimination method:\n",
    "- Write the System of Linear Equation in Augmented Matrix Form: An augmented matrix is a rectangular array of numbers that represents a system of equations.\n",
    "    $$𝑥 + 𝑦 + 𝑧 = 3$$\n",
    "    $$𝑥 + 2𝑦 +3z= 0$$\n",
    "    $$𝑥 + 3𝑦 + 2𝑧 = 3$$    \n",
    "\n",
    "- Step 1: Augmented Matrix of system of equations\n",
    "  $$\n",
    "\\begin{bmatrix}\n",
    "    1 & 1 & 1 \\bigm| & 3 \\\\\n",
    "    1 & 2 & 3 \\bigm| & 0  \\\\\n",
    "    1 & 3 & 2\\bigm| & 3 \n",
    "\\end{bmatrix}\n",
    "$$\n",
    "- Step 2: Convert it into row-echlon form (by performing triangularization)\n",
    "\n",
    "$\\hspace{3 cm} R_2 = R_2 - R1:\\hspace{1 cm} \\begin{bmatrix}1 & 1 & 1 \\bigm| & 3 \\\\ 0 & 1 & 2 \\bigm| & -3  \\\\ 1 & 3 & 2\\bigm| & 3 \\end{bmatrix}$ \n",
    "\n",
    "\n",
    "$\\hspace{3 cm} R_3 = R_3 - R1:\\hspace{1 cm} \\begin{bmatrix}1 & 1 & 1 \\bigm| & 3 \\\\ 0 & 1 & 2 \\bigm| & -3  \\\\ 0 & 2 & 1\\bigm| & 0 \\end{bmatrix}$ \n",
    "\n",
    "\n",
    "$\\hspace{3 cm} R_3 = 2R_2:\\hspace{1 cm} \\begin{bmatrix}1 & 1 & 1 \\bigm| & 3 \\\\ 0 & 2 & 4 \\bigm| & -6  \\\\ 0 & 2 & 4\\bigm| & 0 \\end{bmatrix}$ \n",
    "\n",
    "\n",
    "\n",
    "$\\hspace{3 cm} R_3 = R_2 - R_3:\\hspace{1 cm} \\begin{bmatrix}1 & 1 & 1 \\bigm| & 3 \\\\ 0 & 2 & 4 \\bigm| & -6  \\\\ 0 & 0 & 3\\bigm| & -6 \\end{bmatrix}$ \n",
    "   \n",
    "     \n",
    "- Step 3: Back Substitution\n",
    "Now convert the matrix in row-echlon form to a system of linear equations and solve:\n",
    "$$𝑥 + 𝑦 + 𝑧 = 3$$\n",
    "$$    2𝑦 +4z= -6$$\n",
    "$$        3𝑧 = -6$$    \n",
    "Perform back substitution, you get $z=-2, y=1, x=4$"
   ]
  },
  {
   "cell_type": "markdown",
   "id": "9221bff8",
   "metadata": {},
   "source": [
    "**Practice Problems:** Use paper pencil to solve following system of linear equations:\n",
    "\n",
    "(i)  $\\hspace{.5 cm}x +3𝑦 + 4𝑧 = 4$ $\\hspace{2 cm}−𝑥 + 3𝑦 +2z = 2$ $\\hspace{2 cm}3𝑥 + 9𝑦 + 6𝑧 = -6$ \n",
    "\n",
    "(ii) $\\hspace{.5 cm}x +4𝑦 + 3𝑧 = 1$ $\\hspace{2 cm}𝑥 + 2𝑦 + 9z = 1$ $\\hspace{2 cm}𝑥 + 6𝑦 + 6𝑧 = 1$ \n",
    "\n",
    "(iii) $\\hspace{.5 cm}x +3𝑦 + 3𝑧 = 2$ $\\hspace{2 cm}3𝑥 + 9𝑦 +3z = 3$ $\\hspace{2 cm}3𝑥 + 6𝑦 + 6𝑧 = 4$ \n",
    "\n",
    "> Verify your answers using this online calculator https://www.handymath.com/cgi-bin/matrix3d.cgi"
   ]
  },
  {
   "cell_type": "markdown",
   "id": "a335b189",
   "metadata": {},
   "source": []
  },
  {
   "cell_type": "code",
   "execution_count": null,
   "id": "9206a5cf",
   "metadata": {},
   "outputs": [],
   "source": []
  },
  {
   "cell_type": "markdown",
   "id": "5aa61adc",
   "metadata": {},
   "source": [
    "### c. Solving set of Linear Equations Using Gauss Jordan Method\n",
    "- Gauss-Jordan elimination is another method for solving systems of equations in matrix form. It is really a\n",
    "continuation of Gaussian elimination. However, it works for non-square matrices as well.\n",
    "- Suppose we want to solve a system of three linear equations with three unknowns given below:\n",
    "$$ a_{1,1}x_1 + a_{1,2}x_2 + a_{1,3}x_3 = b_1 $$\n",
    "$$ a_{2,1}x_1 + a_{2,2}x_2 + a_{2,3}x_3 = b_2 $$\n",
    "$$ a_{3,1}x_1 + a_{3,2}x_2 + a_{3,3}x_3 = b_3 $$\n",
    "\n",
    "- **Step 1**: We represent the system of equations in `augmented matrix` form. An augmentation matrix for a system of three linear equations with three unknowns is of the form:\n",
    "$$\n",
    "\\begin{bmatrix} a_{1,1} & a_{1,2} & a_{1,3}  \\bigm| & b_1 \\\\ a_{2,1} & a_{2,2} & a_{2,3} \\bigm| & b_2 \\\\a_{3,1} & a_{3,2} & a_{3,3} \\bigm| & b_3 \\end{bmatrix}\n",
    "$$\n",
    "\n",
    "- **Step 2**: Then we apply different operations on augmented matrix in no specific order, with the goal to eliminate one variable at a time to achieve reduced row-echlon form or `diagonal matrix` (non-zero elements along main diagonal and zeros every where else)):\n",
    "$$\n",
    "\\begin{bmatrix} 1 & 0 & 0  \\bigm| & b_1 \\\\ 0 & 1 & 0 \\bigm| & b_2 \\\\0 & 0 & 1 \\bigm| & b_3 \\end{bmatrix}\n",
    "$$\n",
    "\n",
    "- **Step 3**: Once in this form, we can say that $x_1 = b_1$, $x_2 = b_2$ and $x_3 = b_3$."
   ]
  },
  {
   "cell_type": "code",
   "execution_count": null,
   "id": "0d714d04",
   "metadata": {},
   "outputs": [],
   "source": []
  },
  {
   "cell_type": "code",
   "execution_count": null,
   "id": "95a0e8db",
   "metadata": {},
   "outputs": [],
   "source": []
  },
  {
   "cell_type": "code",
   "execution_count": null,
   "id": "d511cc60",
   "metadata": {},
   "outputs": [],
   "source": []
  },
  {
   "cell_type": "code",
   "execution_count": null,
   "id": "7ee79a14",
   "metadata": {},
   "outputs": [],
   "source": []
  },
  {
   "cell_type": "markdown",
   "id": "af291b5e",
   "metadata": {},
   "source": [
    "**Example 10:** Given the system of three linear equations with three unknowns, solve for unknowns by using Gauss Elimination method:\n",
    "- Write the System of Linear Equation in Augmented Matrix Form: An augmented matrix is a rectangular array of numbers that represents a system of equations.\n",
    "    $$5𝑥 + 2𝑦  = 2$$\n",
    "    $$2𝑥 + 𝑦 -z= 0$$\n",
    "    $$2𝑥 + 3𝑦 - 𝑧 = 3$$    \n",
    "\n",
    "- Step 1: Augmented Matrix of system of equations\n",
    "  $$\n",
    "\\begin{bmatrix}\n",
    "    5 & 2 & 0 \\bigm| & 2 \\\\\n",
    "    2 & 1 & -1 \\bigm| & 0  \\\\\n",
    "    2 & 3 & -1\\bigm| & 3 \n",
    "\\end{bmatrix}\n",
    "$$\n",
    "- Step 2: Convert it into reduced row-echlon form\n",
    "\n",
    "$\\hspace{3 cm} R_1 = \\frac{1}{5}R_1:\\hspace{5 cm} \\begin{bmatrix}1 & 2/5 & 0 \\bigm| & 2/5 \\\\ 2 & 1 & -1 \\bigm| & 0  \\\\ 2 & 3 & -1\\bigm| & 3 \\end{bmatrix}$ \n",
    "\n",
    "$\\hspace{3 cm} R_2 = R_2 - 2R_1:\\hspace{4 cm} \\begin{bmatrix}1 & 2/5 & 0 \\bigm| & 2/5 \\\\ 0 & 1/5 & -1 \\bigm| & -4/5  \\\\ 2 & 3 & -1\\bigm| & 3 \\end{bmatrix}$ \n",
    "\n",
    "\n",
    "\n",
    "$\\hspace{3 cm} R_3 = R_3 - 2R_1:\\hspace{4 cm} \\begin{bmatrix}1 & 2/5 & 0 \\bigm| & 2/5 \\\\ 0 & 1/5 & -1 \\bigm| & -4/5  \\\\ 0 & 11/5 & -1\\bigm| & 11/5 \\end{bmatrix}$ \n",
    "\n",
    "\n",
    "$\\hspace{3 cm} R_2 = 5R_2$ and $R_3=5R_3:\\hspace{2.6 cm} \\begin{bmatrix}1 & 2/5 & 0 \\bigm| & 2/5 \\\\ 0 & 1 & -5 \\bigm| & -4  \\\\ 0 & 11 & -5\\bigm| & 11 \\end{bmatrix}$ \n",
    "\n",
    "\n",
    "\n",
    "$\\hspace{3 cm} R_2 = R_2 - R_3:\\hspace{4.55 cm} \\begin{bmatrix}1 & 2/5 & 0 \\bigm| & 2/5 \\\\ 0 & -10 & 0 \\bigm| & -15  \\\\ 0 & 11 & -5\\bigm| & 11 \\end{bmatrix}$ \n",
    "\n",
    "\n",
    "\n",
    "$\\hspace{3 cm} R_2 = \\frac{-1}{10}R_2$ and $R_3=\\frac{1}{11}R_3:\\hspace{2 cm} \\begin{bmatrix}1 & 2/5 & 0 \\bigm| & 2/5 \\\\ 0 & 1 & 0 \\bigm| & 3/2  \\\\ 0 & 1 & -5/11\\bigm| & 1 \\end{bmatrix}$ \n",
    "\n",
    "\n",
    "$\\hspace{3 cm} R_1 = R_1 - \\frac{2}{5}R_2$ and $R_3=R_3 - R_2:\\hspace{1 cm} \\begin{bmatrix}1 & 0 & 0 \\bigm| & -1/5 \\\\ 0 & 1 & 0 \\bigm| & 3/2  \\\\ 0 & 0 & -5/11\\bigm| & -1/2 \\end{bmatrix}$ \n",
    "\n",
    "\n",
    "$\\hspace{3 cm} R_3 = \\frac{-11}{5}R_3:\\hspace{5 cm} \\begin{bmatrix}1 & 0 & 0 \\bigm| & -1/5 \\\\ 0 & 1 & 0 \\bigm| & 3/2  \\\\ 0 & 0 & 1\\bigm| & 11/10 \\end{bmatrix}$ \n",
    "\n",
    "\n",
    "\n",
    "\n",
    "- Step 3:\n",
    "$x=-1/5, y=3/2, z=11/10$"
   ]
  },
  {
   "cell_type": "code",
   "execution_count": null,
   "id": "5c18f75c",
   "metadata": {},
   "outputs": [],
   "source": []
  },
  {
   "cell_type": "code",
   "execution_count": null,
   "id": "1cdc96aa",
   "metadata": {},
   "outputs": [],
   "source": []
  },
  {
   "cell_type": "code",
   "execution_count": null,
   "id": "a25fa80c",
   "metadata": {},
   "outputs": [],
   "source": []
  },
  {
   "cell_type": "code",
   "execution_count": null,
   "id": "c15bbabc",
   "metadata": {},
   "outputs": [],
   "source": []
  },
  {
   "cell_type": "markdown",
   "id": "ae16a57b",
   "metadata": {},
   "source": [
    "### d. Solving set of Linear Equations Using Cramer's Rule\n",
    "- Cramer’s Rule uses determinants to determine the solution of a system of linear equations in matrix form.\n",
    "- Cramer's rule only works on square matrices that have a non-zero determinant and a unique solution.\n",
    "- Consider a system of three linear equations with three unknowns:\n",
    "\n",
    "$$ a_{1,1}x_1 + a_{1,2}x_2 + a_{1,3}x_3 = b_1 $$\n",
    "$$ a_{2,1}x_1 + a_{2,2}x_2 + a_{2,3}x_3 = b_2 $$\n",
    "$$ a_{3,1}x_1 + a_{3,2}x_2 + a_{3,3}x_3 = b_3 $$\n",
    "\n",
    "\n",
    "- These three equations can be written in matrix form as:\n",
    "$$\n",
    "\\begin{bmatrix} a_{1,1} & a_{1,2} & a_{1,3}  \\\\ a_{2,1} & a_{2,2} & a_{2,3} \\\\a_{3,1} & a_{3,2} & a_{3,3}\\end{bmatrix}\n",
    "\\begin{bmatrix} x_1 \\\\ x_2 \\\\ x_3  \\end{bmatrix}=\n",
    "\\begin{bmatrix} b_1 \\\\ b_2 \\\\ b_3  \\end{bmatrix} \n",
    "$$\n",
    "\n",
    "$$ Ax = b$$\n",
    "\n",
    "\n",
    "- Cramer's Formula for the three unknowns in this scenario is:\n",
    "\n",
    "$$x_1 = \\frac{D_{x1}}{D}$$\n",
    "\n",
    "$$x_2 = \\frac{D_{x2}}{D}$$\n",
    "\n",
    "$$x_3 = \\frac{D_{x3}}{D}$$\n",
    "\n",
    "- Where,\n",
    "- D is the determinant of matrix $A = \\begin{bmatrix} a_{1,1} & a_{1,2} & a_{1,3}  \\\\ a_{2,1} & a_{2,2} & a_{2,3} \\\\a_{3,1} & a_{3,2} & a_{3,3}\\end{bmatrix}$\n",
    "\n",
    "\n",
    "- $D_x$ is the determinant of matrix $A$ by replacing $x_1$-column by the vector of right hand side of the matrix equation: $\\begin{vmatrix} b_1 & a_{1,2} & a_{1,3}  \\\\ b_2 & a_{2,2} & a_{2,3} \\\\b_3 & a_{3,2} & a_{3,3}\\end{vmatrix}$\n",
    "\n",
    "\n",
    "\n",
    "- $D_y$ is the determinant of matrix $A$ by replacing $x_2$-column by the vector of right hand side of the matrix equation: $\\begin{vmatrix} a_{1,1} & b_1 & a_{1,3}  \\\\ a_{2,1} & b_2 & a_{2,3} \\\\a_{3,1} & b_2 & a_{3,3}\\end{vmatrix}$\n",
    "\n",
    "\n",
    "\n",
    "\n",
    "- $D_z$ is the determinant of matrix $A$ by replacing $x_3$-column by the vector of right hand side of the matrix equation: $\\begin{vmatrix} a_{1,1} & a_{1,2} & b_1  \\\\ a_{2,1} & a_{2,2} & b_2 \\\\a_{3,1} & a_{3,2} & b_3\\end{vmatrix}$\n",
    "\n"
   ]
  },
  {
   "cell_type": "code",
   "execution_count": null,
   "id": "cde6842e",
   "metadata": {},
   "outputs": [],
   "source": []
  },
  {
   "cell_type": "code",
   "execution_count": null,
   "id": "f834b604",
   "metadata": {},
   "outputs": [],
   "source": []
  },
  {
   "cell_type": "code",
   "execution_count": null,
   "id": "2c64eacf",
   "metadata": {},
   "outputs": [],
   "source": []
  },
  {
   "cell_type": "code",
   "execution_count": null,
   "id": "56b7f28a",
   "metadata": {},
   "outputs": [],
   "source": []
  },
  {
   "cell_type": "markdown",
   "id": "c48603b0",
   "metadata": {},
   "source": [
    "\n",
    "**Example 11:** Given the system of two linear equations with two unknowns, solve for unknowns by using Cramer's Rule\n",
    "    $$𝑥 + 2𝑦 = 3$$\n",
    "    $$4𝑥 + 5𝑦 = 6$$\n",
    "\n",
    "$$\n",
    "\\begin{bmatrix} 1 &  2 \\bigm| & 3 \\\\  4 & 5  \\bigm| & 6 \\end{bmatrix}\n",
    "$$\n",
    "\n",
    "$\\hspace{4 cm}D = \\begin{vmatrix} 1 &  2  \\\\  4 & 5 \\end{vmatrix} = 5 - 8 = -3$\n",
    "\n",
    "\n",
    "$\\hspace{4 cm}D_x = \\begin{vmatrix} 3 &  2  \\\\  6 & 5 \\end{vmatrix} = 15 - 12 = 3$\n",
    "\n",
    "\n",
    "$\\hspace{4 cm}D_y = \\begin{vmatrix} 1 &  3  \\\\  4 & 6 \\end{vmatrix} = 6 - 12 = -6$\n",
    "\n",
    "$\\hspace{2 cm}x = \\frac{D_x}{D} = \\frac{3}{-3} = -1$\n",
    "\n",
    "$\\hspace{2 cm}y = \\frac{D_y}{D} = \\frac{-6}{-3} = 2$\n"
   ]
  },
  {
   "cell_type": "code",
   "execution_count": null,
   "id": "9e939d52",
   "metadata": {},
   "outputs": [],
   "source": []
  },
  {
   "cell_type": "code",
   "execution_count": null,
   "id": "81f91fe2",
   "metadata": {},
   "outputs": [],
   "source": []
  },
  {
   "cell_type": "code",
   "execution_count": null,
   "id": "5293ee08",
   "metadata": {},
   "outputs": [],
   "source": []
  },
  {
   "cell_type": "markdown",
   "id": "49bc2c6a",
   "metadata": {},
   "source": [
    "**Example 12:** Given the system of three linear equations with three unknowns, solve by using Cramer's Rule:\n",
    "    $$𝑥 + 4𝑦 +3z = 1$$\n",
    "    $$𝑥 + 2𝑦 +9z= 1$$\n",
    "    $$𝑥 + 6𝑦 + 6𝑧 = 1$$    \n",
    "\n",
    "$$\n",
    "\\begin{bmatrix} 1 &  4 & 3 \\bigm| & 1 \\\\  1 & 2 & 9 \\bigm| & 1  \\\\ 1 & 6 & 6\\bigm| & 1 \\end{bmatrix}\n",
    "$$\n",
    "\n",
    "$\\hspace{4 cm}D = \\begin{vmatrix} 1 &  4 & 3 \\\\  1 & 2 & 9 \\\\ 1 & 6 & 6 \\end{vmatrix} = 1(12-54) - 4(6-9)+3(6-2) = -18$\n",
    "\n",
    "$\\hspace{4 cm}D_x = \\begin{vmatrix} 1 &  4 & 3 \\\\  1 & 2 & 9 \\\\ 1 & 6 & 6 \\end{vmatrix} = 1(12-54) - 4(6-9)+3(6-2) = -18$\n",
    "\n",
    "$\\hspace{4 cm}D_y = \\begin{vmatrix} 1 &  1 & 3 \\\\  1 & 1 & 9 \\\\ 1 & 1 & 6 \\end{vmatrix} = 1(6-9) - 1(6-9)+3(1-1) = 0$\n",
    "\n",
    "$\\hspace{4 cm}D_z = \\begin{vmatrix} 1 &  4 & 1 \\\\  1 & 2 & 1 \\\\ 1 & 6 & 1 \\end{vmatrix} = 1(2-6) - 4(1-1)+1(6-2) = 0$\n",
    "\n",
    "$\\hspace{2 cm}x = \\frac{D_x}{D} = \\frac{-18}{-18} = 1$\n",
    "\n",
    "$\\hspace{2 cm}y = \\frac{D_y}{D} = \\frac{0}{-18} = 0$\n",
    "\n",
    "$\\hspace{2 cm}z = \\frac{D_z}{D} = \\frac{0}{-18} = 0$"
   ]
  },
  {
   "cell_type": "code",
   "execution_count": null,
   "id": "f45de02c",
   "metadata": {},
   "outputs": [],
   "source": []
  },
  {
   "cell_type": "code",
   "execution_count": null,
   "id": "20e2e5f9",
   "metadata": {},
   "outputs": [],
   "source": []
  },
  {
   "cell_type": "markdown",
   "id": "ab0fcb21",
   "metadata": {},
   "source": [
    "### e. Solving set of Linear Equations Using Matrix Inversion Method\n",
    "\n",
    "- Consider a system of three linear equations with three unknowns:\n",
    "\n",
    "$$ a_{1,1}x_1 + a_{1,2}x_2 + a_{1,3}x_3 = b_1 $$\n",
    "$$ a_{2,1}x_1 + a_{2,2}x_2 + a_{2,3}x_3 = b_2 $$\n",
    "$$ a_{3,1}x_1 + a_{3,2}x_2 + a_{3,3}x_3 = b_3 $$\n",
    "\n",
    "\n",
    "- These three equations can be written in matrix form as:\n",
    "$$\n",
    "\\begin{bmatrix} a_{1,1} & a_{1,2} & a_{1,3}  \\\\ a_{2,1} & a_{2,2} & a_{2,3} \\\\a_{3,1} & a_{3,2} & a_{3,3}\\end{bmatrix}_{3\\times 3}\\hspace{1 cm}\n",
    "\\begin{bmatrix} x_1 \\\\ x_2 \\\\ x_3  \\end{bmatrix}_{3\\times 1}\\hspace{1 cm}=\\hspace{1 cm} \n",
    "\\begin{bmatrix} b_1 \\\\ b_2 \\\\ b_3  \\end{bmatrix}_{3\\times 1}\n",
    "$$\n",
    "\n",
    "$$ Ax = b$$\n",
    "\n",
    "$$ A^{-1}Ax = A^{-1}b $$\n",
    "\n",
    "$$  Ix = A^{-1}b $$\n",
    "\n",
    "$$  x = A^{-1}b $$\n",
    "\n"
   ]
  },
  {
   "cell_type": "markdown",
   "id": "4cb80845",
   "metadata": {},
   "source": [
    "> **Note: This is possible if and only if:**\n",
    "    >- Matrix $A$ is a square matrix\n",
    "    >- Matrix $A$ is non-singular, i.e., its determinant is non-zero"
   ]
  },
  {
   "cell_type": "code",
   "execution_count": null,
   "id": "878fa0cb",
   "metadata": {},
   "outputs": [],
   "source": []
  },
  {
   "cell_type": "code",
   "execution_count": null,
   "id": "d0ac90d2",
   "metadata": {},
   "outputs": [],
   "source": []
  },
  {
   "cell_type": "markdown",
   "id": "9f476d8c",
   "metadata": {},
   "source": [
    "**Example 13:** Solve the set of two linear equations having two unknowns, by Matrix Inversion technique using paper pencil:\n",
    "$$ 4x + 2y = 4 $$\n",
    "$$ -5x - 3y = -7 $$ \n",
    "We can write these two equations in Matrix form as:<br>\n",
    "$$\n",
    "\\begin{bmatrix} 4 & 2 \\\\  -5 & -3  \\end{bmatrix}\n",
    "\\begin{bmatrix} x \\\\ y  \\end{bmatrix} =  \n",
    "\\begin{bmatrix} 4 \\\\ -7  \\end{bmatrix}\n",
    "$$\n",
    "\n",
    "$$\n",
    "Ax = b\n",
    "$$\n",
    "\n",
    "$$\n",
    "x = A^{-1}b\n",
    "$$\n",
    "\n",
    "\n",
    "$$\n",
    "\\begin{bmatrix} x \\\\ y  \\end{bmatrix}  =  \\frac{1}{det(A)}\\begin{bmatrix}    -3 & -2\\\\ 5 & 4 \\end{bmatrix}  \n",
    "\\begin{bmatrix} 4 \\\\ -7  \\end{bmatrix}\n",
    "$$\n",
    "\n",
    "\n",
    "$$\n",
    "\\begin{bmatrix} x \\\\ y  \\end{bmatrix}  =  \\frac{1}{-12-(-10)}\\begin{bmatrix}    -3 & -2\\\\ 5 & 4 \\end{bmatrix}  \n",
    "\\begin{bmatrix} 4 \\\\ -7  \\end{bmatrix}\n",
    "$$\n",
    "\n",
    "$$\n",
    "\\begin{bmatrix} x \\\\ y  \\end{bmatrix}  =  \\begin{bmatrix}    3/2 & 1\\\\ -5/2 & -2 \\end{bmatrix}  \n",
    "\\begin{bmatrix} 4 \\\\ -7  \\end{bmatrix}\n",
    "$$\n",
    "\n",
    "$$\n",
    "\\begin{bmatrix} x \\\\ y  \\end{bmatrix} =   \\begin{bmatrix}    -1 \\\\ 4 \\end{bmatrix}  \n",
    "$$\n",
    ">- **So the solution is $x=-1$ and $y=4$**\n",
    ">- **Let us perfrom the above steps in Python**"
   ]
  },
  {
   "cell_type": "code",
   "execution_count": 93,
   "id": "1e06648f",
   "metadata": {},
   "outputs": [
    {
     "name": "stdout",
     "output_type": "stream",
     "text": [
      "Matrix A:\n",
      " [[ 4  2]\n",
      " [-5 -3]]\n",
      "Vector b:  [ 4 -7]\n"
     ]
    }
   ],
   "source": [
    "A = np.array([[4, 2], [-5, -3]])\n",
    "b = np.array([4,-7])\n",
    "print(\"Matrix A:\\n\", A)\n",
    "print(\"Vector b: \", b)"
   ]
  },
  {
   "cell_type": "code",
   "execution_count": 94,
   "id": "85437764",
   "metadata": {},
   "outputs": [
    {
     "name": "stdout",
     "output_type": "stream",
     "text": [
      "Inverse of A:\n",
      " [[ 1.5  1. ]\n",
      " [-2.5 -2. ]]\n"
     ]
    }
   ],
   "source": [
    "Ainv = np.linalg.inv(A)\n",
    "print(\"Inverse of A:\\n\", Ainv)"
   ]
  },
  {
   "cell_type": "code",
   "execution_count": 95,
   "id": "54ed30cb",
   "metadata": {},
   "outputs": [
    {
     "data": {
      "text/plain": [
       "array([-1.,  4.])"
      ]
     },
     "execution_count": 95,
     "metadata": {},
     "output_type": "execute_result"
    }
   ],
   "source": [
    "np.dot(Ainv, b)"
   ]
  },
  {
   "cell_type": "code",
   "execution_count": 96,
   "id": "f490f681",
   "metadata": {},
   "outputs": [
    {
     "data": {
      "text/plain": [
       "array([-1.,  4.])"
      ]
     },
     "execution_count": 96,
     "metadata": {},
     "output_type": "execute_result"
    }
   ],
   "source": [
    "np.linalg.solve(A, b)"
   ]
  },
  {
   "cell_type": "code",
   "execution_count": null,
   "id": "22f2c8a9",
   "metadata": {},
   "outputs": [],
   "source": []
  },
  {
   "cell_type": "code",
   "execution_count": null,
   "id": "8380bab9",
   "metadata": {},
   "outputs": [],
   "source": []
  },
  {
   "cell_type": "code",
   "execution_count": null,
   "id": "4c4bab48",
   "metadata": {},
   "outputs": [],
   "source": []
  },
  {
   "cell_type": "code",
   "execution_count": null,
   "id": "e92cb5bb",
   "metadata": {},
   "outputs": [],
   "source": []
  },
  {
   "cell_type": "code",
   "execution_count": null,
   "id": "3bacde40",
   "metadata": {},
   "outputs": [],
   "source": []
  },
  {
   "cell_type": "code",
   "execution_count": null,
   "id": "7f503b02",
   "metadata": {},
   "outputs": [],
   "source": []
  },
  {
   "cell_type": "markdown",
   "id": "09fbf933",
   "metadata": {},
   "source": [
    "**Example 14:** Solve the set of two linear equations having two unknowns, by Matrix Inversion technique using Python:\n",
    "$$ x - \\frac{1}{2}y = 1 $$\n",
    "$$ -\\frac{1}{2}x + y = -1 $$\n",
    "\n",
    "- The above two equations can be written in matrix form as shown below. \n",
    "$$\n",
    "\\begin{bmatrix} 1 & -1/2 \\\\ -1/2 & 1\\end{bmatrix} \n",
    "\\begin{bmatrix} x \\\\ y \\end{bmatrix} =  \n",
    "\\begin{bmatrix} 1 \\\\ -1  \\end{bmatrix}\n",
    "$$\n",
    "\n",
    "\n",
    "<br><br>\n",
    "$$Ax = b$$\n",
    "$$x = A^{-1}b$$\n",
    "$$x = \\begin{bmatrix} 4/3 & 2/3 \\\\2/3 & 4/3\\end{bmatrix} \\begin{bmatrix} 1 \\\\ -1  \\end{bmatrix}$$\n",
    "\n",
    "$$x =  \\begin{bmatrix} 2/3 \\\\ -2/3  \\end{bmatrix}$$"
   ]
  },
  {
   "cell_type": "code",
   "execution_count": 97,
   "id": "76b3de3e",
   "metadata": {},
   "outputs": [
    {
     "data": {
      "text/plain": [
       "array([ 0.66666667, -0.66666667])"
      ]
     },
     "execution_count": 97,
     "metadata": {},
     "output_type": "execute_result"
    }
   ],
   "source": [
    "A = np.array([[1, -1/2], [-1/2, 1]])\n",
    "b = np.array([1,-1])\n",
    "Ainv = np.linalg.inv(A)\n",
    "x = np.dot(Ainv, b)\n",
    "x = np.linalg.solve(A, b)\n",
    "x"
   ]
  },
  {
   "cell_type": "code",
   "execution_count": null,
   "id": "94352e28",
   "metadata": {},
   "outputs": [],
   "source": []
  },
  {
   "cell_type": "code",
   "execution_count": null,
   "id": "651c9933",
   "metadata": {},
   "outputs": [],
   "source": []
  },
  {
   "cell_type": "code",
   "execution_count": null,
   "id": "b1468b4e",
   "metadata": {},
   "outputs": [],
   "source": []
  },
  {
   "cell_type": "markdown",
   "id": "d03a42e4",
   "metadata": {},
   "source": [
    "**Example 15:** Solve the set of three linear equations having three unknowns, by Matrix Inversion technique using Python:\n",
    "$$ x + 2y + 3z = -7 $$\n",
    "$$ 2x - 3y - 5z   = 9 $$\n",
    "$$ -6x - 8y + z = -22$$\n",
    "\n",
    "- The above three equations can be written in matrix form as shown bbelow. \n",
    "$$\n",
    "\\begin{bmatrix} 1 & 2 & 3 \\\\ 2 & -3 & -5 \\\\  -6 & -8 & 1\\end{bmatrix} \n",
    "\\begin{bmatrix} x \\\\ y  \\\\ z\\end{bmatrix} =  \n",
    "\\begin{bmatrix} -7 \\\\ 9 \\\\ -22  \\end{bmatrix}\n",
    "$$\n",
    "\n",
    "\n",
    "<br><br>\n",
    "$$\n",
    "Ax = b\n",
    "$$\n",
    "- Above equation says, that vector $x$ lands on vector $bb$ via transformation matrix $A$\n",
    "\n",
    "$$\n",
    "x = A^{-1}b\n",
    "$$"
   ]
  },
  {
   "cell_type": "code",
   "execution_count": 98,
   "id": "cd16de9e",
   "metadata": {},
   "outputs": [
    {
     "data": {
      "text/plain": [
       "array([-1.,  3., -4.])"
      ]
     },
     "execution_count": 98,
     "metadata": {},
     "output_type": "execute_result"
    }
   ],
   "source": [
    "A = np.array([[1, 2, 3], [2, -3, -5], [-6, -8, 1]])\n",
    "b = np.array([-7,9, -22])\n",
    "Ainv = np.linalg.inv(A)\n",
    "x = np.dot(Ainv, b)\n",
    "x = np.linalg.solve(A, b)\n",
    "x"
   ]
  },
  {
   "cell_type": "code",
   "execution_count": null,
   "id": "0457e286",
   "metadata": {},
   "outputs": [],
   "source": []
  },
  {
   "cell_type": "code",
   "execution_count": null,
   "id": "6ee12c8c",
   "metadata": {},
   "outputs": [],
   "source": []
  },
  {
   "cell_type": "markdown",
   "id": "56428b0d",
   "metadata": {},
   "source": [
    "**Example 16:** Solve the set of four linear equations having four unknowns, by Matrix Inversion technique using Python:\n",
    "$$ w + x + y = 75 $$\n",
    "$$ w + x + z  = 80 $$\n",
    "$$ w + y + z = 75$$\n",
    "$$ x + y + z  = 70 $$\n",
    "\n",
    "- The above three equations can be written in matrix form as shown below. \n",
    "$$\n",
    "\\begin{bmatrix} 1 & 1 & 1 & 0 \\\\ 1 & 1 & 0 & 1 \\\\  1 & 0 & 1 & 1 \\\\ 0 & 1 & 1 & 1\\end{bmatrix} \n",
    "\\begin{bmatrix} w \\\\ x \\\\ y  \\\\ z\\end{bmatrix} =  \n",
    "\\begin{bmatrix} 75 \\\\ 80 \\\\ 75 \\\\ 70  \\end{bmatrix}\n",
    "$$\n",
    "\n",
    "\n",
    "<br><br>\n",
    "$$\n",
    "Ax = b\n",
    "$$\n",
    "- Above equation says, that vector $x$ lands on vector $bb$ via transformation matrix $A$\n",
    "\n",
    "$$\n",
    "x = A^{-1}b\n",
    "$$\n",
    "\n",
    "\n",
    "\n"
   ]
  },
  {
   "cell_type": "code",
   "execution_count": 99,
   "id": "76a75e5c",
   "metadata": {},
   "outputs": [
    {
     "data": {
      "text/plain": [
       "array([30., 25., 20., 25.])"
      ]
     },
     "execution_count": 99,
     "metadata": {},
     "output_type": "execute_result"
    }
   ],
   "source": [
    "A = np.array([[1, 1, 1, 0], [1, 1, 0, 1], [1, 0, 1, 1], [0, 1, 1, 1]])\n",
    "b = np.array([75,80, 75,70])\n",
    "Ainv = np.linalg.inv(A)\n",
    "x = np.dot(Ainv, b)\n",
    "x = np.linalg.solve(A, b)\n",
    "x"
   ]
  },
  {
   "cell_type": "code",
   "execution_count": null,
   "id": "2873a395",
   "metadata": {},
   "outputs": [],
   "source": []
  },
  {
   "cell_type": "code",
   "execution_count": null,
   "id": "8dfe62ac",
   "metadata": {},
   "outputs": [],
   "source": []
  },
  {
   "cell_type": "code",
   "execution_count": null,
   "id": "048acadb",
   "metadata": {},
   "outputs": [],
   "source": []
  },
  {
   "cell_type": "code",
   "execution_count": null,
   "id": "35318326",
   "metadata": {},
   "outputs": [],
   "source": []
  },
  {
   "cell_type": "markdown",
   "id": "c097663a",
   "metadata": {},
   "source": [
    "### f. Limitations of Matrix Inversion Method"
   ]
  },
  {
   "cell_type": "markdown",
   "id": "6e74a18f",
   "metadata": {},
   "source": [
    "**Limitation 1: ($A$ must be non-singular)**\n",
    "- The matrix $A$ must be non-singular, that is its determinant must be non-zero, or, all of its columns are linearly independent. An example system having a non-singular matrix $A$ is shown below:\n",
    "$$-9x - 15y = -15$$\n",
    "$$3x + 5y = -10$$\n",
    "\n",
    "$$\n",
    "\\begin{bmatrix} -9 & -15 \\\\  3 & 5  \\end{bmatrix}\n",
    "\\begin{bmatrix} x \\\\ y  \\end{bmatrix} =  \n",
    "\\begin{bmatrix} 15 \\\\ -10  \\end{bmatrix}\n",
    "$$\n",
    "\n",
    "- The above two equations are linearly dependent, this can be observed from the coefficients of two equations\n",
    "- The determinant of coefficient matrix is zero, therefore, the inverse of matrix $A$ does not exist and hence the solution.\n",
    "- You can confirm this by solving the system of equations using either substitution strategy, or elimination strategy at your own.\n",
    "- Finally if you plot a graph of these two equations, you will get two parallel lines. This can be observed from the rearranged equations below having same slope and different y-intercept. \n",
    "$$ y = \\frac{-9}{15}x + 1$$\n",
    "$$ y = \\frac{-3}{5}x - 1$$"
   ]
  },
  {
   "cell_type": "markdown",
   "id": "9787931e",
   "metadata": {},
   "source": [
    "**Limitation 2: ($A$ must Square)**\n",
    "- The number of equations and number of variables must be same, only then you have a square matrix, whose inverse can be calculated."
   ]
  },
  {
   "cell_type": "markdown",
   "id": "e528c583",
   "metadata": {},
   "source": [
    "**Possible Solutions:**\n",
    "- Gauss Jordan Elimination\n",
    "- Calculating Matrix Inverse using Moore Penrose Pseudo-inverse\n",
    "- Solving non-square Matrix using Singular Value Decomposition\n",
    "- Solving non-square Matrix using QR Decomposition\n",
    "- Solving non-square Matrix using Cholesky Decomposition"
   ]
  },
  {
   "cell_type": "code",
   "execution_count": null,
   "id": "52ff07de",
   "metadata": {},
   "outputs": [],
   "source": []
  },
  {
   "cell_type": "code",
   "execution_count": null,
   "id": "e7074cf5",
   "metadata": {},
   "outputs": [],
   "source": []
  },
  {
   "cell_type": "code",
   "execution_count": null,
   "id": "32bdf822",
   "metadata": {},
   "outputs": [],
   "source": []
  },
  {
   "cell_type": "code",
   "execution_count": null,
   "id": "1c234288",
   "metadata": {},
   "outputs": [],
   "source": []
  },
  {
   "cell_type": "markdown",
   "id": "3e5047ec",
   "metadata": {},
   "source": [
    "## 5. Categories of System of Linear Equations\n",
    "- Uptill now we have seen linear system of equations which have same number of equations as the number of unknowns, hence, the coefficient matrix $A$ becomes a square matrix. Since the coefficient matrix $A$ is square therefore, we can find the solution using simple matrix inversion method.\n",
    "\n",
    " <h3 align=\"center\">$ A_{n\\times m}\\hspace{.2 cm}x_{m\\times 1}\\hspace{.3 cm}=\\hspace{.3 cm}b_{n\\times 1} \\hspace{1 cm}$ and $ \\hspace{.3 cm}n\\hspace{.3 cm}=\\hspace{.3 cm}m$ </h3>\n",
    " \n",
    "  <h3 align=\"center\">$ A_{n\\times m}\\hspace{.2 cm}x_{m\\times 1}\\hspace{.3 cm}=\\hspace{.3 cm}b_{n\\times 1} \\hspace{1 cm}$ and $ \\hspace{.3 cm}n\\hspace{.3 cm}\\gt\\hspace{.3 cm}m$ </h3>\n",
    "  \n",
    "   <h3 align=\"center\">$ A_{n\\times m}\\hspace{.2 cm}x_{m\\times 1}\\hspace{.3 cm}=\\hspace{.3 cm}b_{n\\times 1} \\hspace{1 cm}$ and $ \\hspace{.3 cm}n\\hspace{.3 cm}\\lt\\hspace{.3 cm}m$ </h3>"
   ]
  },
  {
   "cell_type": "code",
   "execution_count": null,
   "id": "5091dca9",
   "metadata": {},
   "outputs": [],
   "source": []
  },
  {
   "cell_type": "code",
   "execution_count": null,
   "id": "b4e58fab",
   "metadata": {},
   "outputs": [],
   "source": []
  },
  {
   "cell_type": "code",
   "execution_count": null,
   "id": "25e39fd6",
   "metadata": {},
   "outputs": [],
   "source": []
  },
  {
   "cell_type": "code",
   "execution_count": null,
   "id": "4264d46e",
   "metadata": {},
   "outputs": [],
   "source": []
  },
  {
   "cell_type": "code",
   "execution_count": null,
   "id": "5077a6ef",
   "metadata": {},
   "outputs": [],
   "source": []
  },
  {
   "cell_type": "code",
   "execution_count": null,
   "id": "7c60ea75",
   "metadata": {},
   "outputs": [],
   "source": []
  },
  {
   "cell_type": "markdown",
   "id": "fc9c2dc7",
   "metadata": {},
   "source": [
    "### a. Overdetermined Systems of Linear Equations\n",
    "- An overdetermined system of equations is a system in which the number of equations is greater than the number of unknowns. \n",
    "- Such a system cannot be solved using simple matrix inversion method, as the coefficient matrix is not square and thus cannot be inverted. \n",
    "- In machine learning many a times we have overdetermined systems that we need to solve. For example, a dataset having thousands of houses but only a few features.\n",
    "    - Consistent Overdetermined System having `Unique` Solution\n",
    "    - Consistent Overdetermined System having `Infinite` Solution\n",
    "    - In-Consistent Overdetermined System having `No` Solution\n",
    "    \n",
    "    \n",
    " <h3 align=\"center\">$ A_{n\\times m}\\hspace{.2 cm}x_{m\\times 1}\\hspace{.3 cm}=\\hspace{.3 cm}b_{n\\times 1} \\hspace{1 cm}$ and $ \\hspace{.3 cm}n\\hspace{.3 cm}\\gt\\hspace{.3 cm}m$ </h3>"
   ]
  },
  {
   "cell_type": "markdown",
   "id": "999dddc6",
   "metadata": {},
   "source": [
    "**(i) Consistent Overdetermined System having `Unique` Solution:**\n",
    "$$\\hspace{3 cm}x+y=3$$\n",
    "$$\\hspace{3 cm}x-y=1$$\n",
    "$$\\hspace{3 cm}3x-y=5$$"
   ]
  },
  {
   "cell_type": "code",
   "execution_count": 100,
   "id": "3bd25198",
   "metadata": {},
   "outputs": [
    {
     "data": {
      "image/png": "[encoded data removed]",
      "text/plain": [
       "<Figure size 432x288 with 1 Axes>"
      ]
     },
     "metadata": {
      "needs_background": "light"
     },
     "output_type": "display_data"
    }
   ],
   "source": [
    "%matplotlib inline\n",
    "x = np.linspace(-5, 5, 5) # start, finish, n points\n",
    "y1 = 3 - x\n",
    "y2 = -1 + x\n",
    "y3 = -5 + 3*x\n",
    "\n",
    "fig, ax = plt.subplots()\n",
    "plt.xlabel('x')\n",
    "plt.ylabel('y')\n",
    "ax.plot(x, y1, c='green')\n",
    "ax.plot(x, y2, c='red')\n",
    "ax.plot(x, y3, c='purple')\n",
    "plt.grid(True)"
   ]
  },
  {
   "cell_type": "code",
   "execution_count": null,
   "id": "c58fa61f",
   "metadata": {},
   "outputs": [],
   "source": []
  },
  {
   "cell_type": "code",
   "execution_count": null,
   "id": "32bcb782",
   "metadata": {},
   "outputs": [],
   "source": []
  },
  {
   "cell_type": "code",
   "execution_count": null,
   "id": "7b0275a9",
   "metadata": {},
   "outputs": [],
   "source": []
  },
  {
   "cell_type": "code",
   "execution_count": null,
   "id": "b6b3a374",
   "metadata": {},
   "outputs": [],
   "source": []
  },
  {
   "cell_type": "markdown",
   "id": "75386aa3",
   "metadata": {},
   "source": [
    "**(ii) Consistent Overdetermined System having `Infinite` Solution:**\n",
    "$$x+y=1$$\n",
    "$$2x+2y=2$$\n",
    "$$ 3x+3y=3$$"
   ]
  },
  {
   "cell_type": "code",
   "execution_count": 101,
   "id": "4acc40d7",
   "metadata": {},
   "outputs": [
    {
     "data": {
      "image/png": "[encoded data removed]",
      "text/plain": [
       "<Figure size 432x288 with 1 Axes>"
      ]
     },
     "metadata": {
      "needs_background": "light"
     },
     "output_type": "display_data"
    }
   ],
   "source": [
    "%matplotlib inline\n",
    "x = np.linspace(-10, 20, 5) # start, finish, n points\n",
    "y1 = 1 - x\n",
    "y2 = 2/2 - (2/2)*x\n",
    "y3 = 3/3 - (3/3)*x\n",
    "\n",
    "fig, ax = plt.subplots()\n",
    "plt.xlabel('x')\n",
    "plt.ylabel('y')\n",
    "ax.plot(x, y1, c='green')\n",
    "ax.plot(x, y2, c='red')\n",
    "ax.plot(x, y3, c='purple')\n",
    "plt.grid(True)"
   ]
  },
  {
   "cell_type": "code",
   "execution_count": null,
   "id": "7d3f5d01",
   "metadata": {},
   "outputs": [],
   "source": []
  },
  {
   "cell_type": "code",
   "execution_count": null,
   "id": "3481ca46",
   "metadata": {},
   "outputs": [],
   "source": []
  },
  {
   "cell_type": "code",
   "execution_count": null,
   "id": "cfa7a77f",
   "metadata": {},
   "outputs": [],
   "source": []
  },
  {
   "cell_type": "markdown",
   "id": "77b53d07",
   "metadata": {},
   "source": [
    "**(iii) InConsistent Overdetermined System:**\n",
    "$$x+y=3$$\n",
    "$$x-y=1$$\n",
    "$$ 2x-5y=10$$"
   ]
  },
  {
   "cell_type": "code",
   "execution_count": 102,
   "id": "95caee93",
   "metadata": {},
   "outputs": [
    {
     "data": {
      "image/png": "[encoded data removed]",
      "text/plain": [
       "<Figure size 432x288 with 1 Axes>"
      ]
     },
     "metadata": {
      "needs_background": "light"
     },
     "output_type": "display_data"
    }
   ],
   "source": [
    "%matplotlib inline\n",
    "x = np.linspace(-5, 5, 10) # start, finish, n points\n",
    "y1 = 3 - x\n",
    "y2 = -1 + x\n",
    "y3 = -2 + (2/5)*x\n",
    "\n",
    "fig, ax = plt.subplots()\n",
    "plt.xlabel('x')\n",
    "plt.ylabel('y')\n",
    "ax.plot(x, y1, c='green')\n",
    "ax.plot(x, y2, c='red')\n",
    "ax.plot(x, y3, c='purple')\n",
    "plt.grid(True)"
   ]
  },
  {
   "cell_type": "code",
   "execution_count": null,
   "id": "20c507c7",
   "metadata": {},
   "outputs": [],
   "source": []
  },
  {
   "cell_type": "code",
   "execution_count": null,
   "id": "099b5fd7",
   "metadata": {},
   "outputs": [],
   "source": []
  },
  {
   "cell_type": "code",
   "execution_count": null,
   "id": "c34fbe70",
   "metadata": {},
   "outputs": [],
   "source": []
  },
  {
   "cell_type": "code",
   "execution_count": null,
   "id": "70138234",
   "metadata": {},
   "outputs": [],
   "source": []
  },
  {
   "cell_type": "markdown",
   "id": "46561bac",
   "metadata": {},
   "source": [
    "### b. Undertermined Systems of Linear Equations\n",
    "- An underdetermined system of equations is a system in which the number of equations is less than the number of unknowns. \n",
    "- Such a system cannot be solved using simple matrix inversion method, as the coefficient matrix is not square and thus cannot be inverted. \n",
    "- In deep learning many a times we have underdetermined systems that we need to solve. For example, we have thousands of training data points, while there are millions of parameters in the model.\n",
    "\n",
    " <h3 align=\"center\">$ A_{n\\times m}\\hspace{.2 cm}x_{m\\times 1}\\hspace{.3 cm}=\\hspace{.3 cm}b_{n\\times 1} \\hspace{1 cm}$ and $ \\hspace{.3 cm}n\\hspace{.3 cm}\\lt\\hspace{.3 cm}m$ </h3>"
   ]
  },
  {
   "cell_type": "markdown",
   "id": "e4be70a0",
   "metadata": {},
   "source": [
    "**Consistent Underdetermined System having `Infinite` Solution:**\n",
    "$$x+y=3$$\n",
    "- A single equation having two unknowns is an example of undertermined system of linear equation. If you plot it you get a straight line and there are infinite many points that satisfies this equation."
   ]
  },
  {
   "cell_type": "markdown",
   "id": "a3f18f2a",
   "metadata": {},
   "source": [
    "**InConsistent Underdetermined System:**\n",
    "$$x+2y+2z=2$$\n",
    "$$x+2y+2z=4$$\n",
    "- This is an example of underdetermined system of linear equations having two equations and three unknowns. \n",
    "- We have seen that an equation having three variables when plotted gives you a plane.\n",
    "- Since both the equations have same coefficient, but different constants so these two equations represent two parallel planes in 3D space with no common point. So no solution. \n",
    "- Therefore, this system of liner equation is inconsistent."
   ]
  },
  {
   "cell_type": "code",
   "execution_count": null,
   "id": "ad3e3225",
   "metadata": {},
   "outputs": [],
   "source": []
  },
  {
   "cell_type": "code",
   "execution_count": null,
   "id": "96cfe5cc",
   "metadata": {},
   "outputs": [],
   "source": []
  },
  {
   "cell_type": "code",
   "execution_count": null,
   "id": "4d6ecf38",
   "metadata": {},
   "outputs": [],
   "source": []
  },
  {
   "cell_type": "code",
   "execution_count": null,
   "id": "0823cfcc",
   "metadata": {},
   "outputs": [],
   "source": []
  },
  {
   "cell_type": "code",
   "execution_count": null,
   "id": "c7c2d66c",
   "metadata": {},
   "outputs": [],
   "source": []
  },
  {
   "cell_type": "markdown",
   "id": "ab719b87",
   "metadata": {},
   "source": [
    "## 6. Solving Inconsistent Overdetermined System of Linear Equations using Least Squares"
   ]
  },
  {
   "cell_type": "markdown",
   "id": "03b51fcd",
   "metadata": {},
   "source": [
    "### a. Modeling Linear Equation in Machine Learning with Two Variables\n",
    "| Dependent Variable ($y$) | Independent Variable ($x$) |\n",
    "| ----------- | ----------- |\n",
    "| GPA of a student | Number of hours studied daily |\n",
    "| Forgetness level | Drug dosage in ml |\n",
    "| Salary of a person | Number of Education years |\n",
    "| House price | Covered area of the house |\n",
    "| Electricity Bill | Amount of electricity consumed |\n",
    "| Distance travelled | Time |\n",
    "| Sales | Advertising Expenditures |\n",
    "\n",
    "- This relationship can be represented in the following format in machine learning:\n",
    "<h3>${\\hspace 9 cm}y = c + mx $</h3>\n",
    "<h3>${\\hspace 9 cm}y = \\beta_0 + \\beta_1x $</h3>"
   ]
  },
  {
   "cell_type": "code",
   "execution_count": null,
   "id": "d5d2e715",
   "metadata": {},
   "outputs": [],
   "source": []
  },
  {
   "cell_type": "code",
   "execution_count": null,
   "id": "605a72a5",
   "metadata": {},
   "outputs": [],
   "source": []
  },
  {
   "cell_type": "markdown",
   "id": "135a5272",
   "metadata": {},
   "source": [
    "### b. Modeling Linear Equation in Machine Learning with `m` Variables\n",
    "| Dependent Variable ($y$) | Independent Variable ($x_1$) |Independent Variable ($x_2$) |Independent Variable ($x_3$) |\n",
    "| ----------- | ----------- |----------- | ----------- |\n",
    "| GPA of a student | Number of hours studied daily | Teaching Aids | Instructor Qualification|\n",
    "| Forgetness level | Drug dosage in ml |Social bindings | Family Environment|\n",
    "| Salary of a person | Number of Education years |Managerial skills | Communication skills|\n",
    "| House price | Covered area of the house |Number of bed rooms | distance from office|\n",
    "| Electricity Bill | Amount of electricity consumed |Loadshedding | Billing slabs|\n",
    "| Distance travelled | Time |type of car | traffic conditions|\n",
    "| Sales of AC | Advertising Expenditures |Marketing | Season|\n",
    "\n",
    "\n",
    "- This relationship can be represented in the following format in machine learning:\n",
    "\n",
    "<h3>${\\hspace 9 cm}y = \\beta_0 + \\beta_1x_1 + \\beta_2x_2 + \\beta_3x_3 + \\cdots + \\beta_mx_m $</h3>\n",
    "\n",
    "\n",
    "- Where, \n",
    "    - $y$ is the dependent or outcome or response variable.\n",
    "    - $x_1, x_2, x_3, \\cdots, x_m$ are the independent or feature or predictor variables.\n",
    "    - $\\beta_0$ is the minimum value of $y$ when all the feature variables are zero.\n",
    "    - $\\beta_1, \\beta_2, \\beta_3, \\cdots, \\beta_m$  are the values that quantify the effect of respective independent variables on the output or dependent variable.  "
   ]
  },
  {
   "cell_type": "code",
   "execution_count": null,
   "id": "784c3c0d",
   "metadata": {},
   "outputs": [],
   "source": []
  },
  {
   "cell_type": "code",
   "execution_count": null,
   "id": "b335d4a7",
   "metadata": {},
   "outputs": [],
   "source": []
  },
  {
   "cell_type": "code",
   "execution_count": null,
   "id": "57149837",
   "metadata": {},
   "outputs": [],
   "source": []
  },
  {
   "cell_type": "code",
   "execution_count": null,
   "id": "c2b014ac",
   "metadata": {},
   "outputs": [],
   "source": []
  },
  {
   "cell_type": "markdown",
   "id": "5b2163e0",
   "metadata": {},
   "source": [
    "### c. Simple Linear Regression using Least Squares Method\n",
    "\n",
    "<img align=\"right\" width=\"400\" height=\"400\"  src=\"images/LA/linear_regression.png\"  >\n",
    "\n",
    "#### <center> A `Simple Linear Regression Model` is a mathematical equation that allows us to predict the output/response/dependent variable for a given input/predictor/independent variable. </center>\n",
    "<h3>$\\hspace{7 cm}y = \\beta_0 + \\beta_1x + \\epsilon$</h3>\n",
    "\n",
    "$\\hspace{7 cm}\\epsilon_i = \\hat{y_i} - y_i = 0$\n",
    "\n",
    "\n",
    "- **Simple** means there is one independent and on dependent variable, e.g., the GPA of a student depends only on the number of study hours.\n",
    "- **Linear** means the relationship is approximated/described using straight line.\n",
    "- **Regression** allows us means a measure of the relation between the mean value of one variable (e.g. output) and corresponding values of other variables.\n",
    "\n",
    "\n",
    "<br><br>\n",
    "\n",
    "#### <center>The method of `Linear Least Squares` is a statistical procedure to approximate the solution of Inconsistent overdetermined systems by minimizing the sum of the offsets of points from the plotted curve. </center>\n",
    "\n",
    "<h3>$$\\hspace{2 cm} \\beta_1 = \\frac{cov(x,y)}{var(x)} = \\frac{\\frac{\\sum_{i=1}^n (x_i - \\bar{x})(y_i - \\bar{y}) }{n}}           {\\frac{\\sum(x_i-\\bar{x})^2}{n}}   = \\frac{\\sum_{i=1}^n(x_i - \\bar{x})(y_i - \\bar{y})}{\\sum_{i=1}^n(x_i - \\bar{x})^2}$$</h3>\n",
    "\n",
    "<h3>$$\\hspace{2 cm} \\beta_0 = \\bar{y} - \\beta_1\\bar{x}$$</h3>"
   ]
  },
  {
   "cell_type": "code",
   "execution_count": null,
   "id": "60301af7",
   "metadata": {},
   "outputs": [],
   "source": []
  },
  {
   "cell_type": "code",
   "execution_count": null,
   "id": "dea44999",
   "metadata": {},
   "outputs": [],
   "source": []
  },
  {
   "cell_type": "markdown",
   "id": "9c5edcde",
   "metadata": {},
   "source": [
    "**Example 17:**\n",
    "- Consider that a teacher has collected a sample data of seven students, their GPA and the number of hours they have studied on daily basis in the entire semester.\n",
    "- Suppose, a teacher want to determine the relationship between the two variables `GPA` and `study hours` is positive or negative.\n",
    "- The teacher also wants to determine how much impact the dependent variable `study hours` has on the independent variable `GPA`\n",
    "- For this she has collected a sample data of seven students as tupple containing (`daily study hours` and `acquired GPA`):\n",
    " $$(1,\\hspace{.2 cm}1.4), \\hspace{.5 cm}(2,\\hspace{.2 cm}1.6),\\hspace{.5 cm}(3,\\hspace{.2 cm}2.5),\\hspace{.5 cm}(4,\\hspace{.2 cm}2.6), \\hspace{.5 cm}(5,\\hspace{.2 cm}3.5),\\hspace{.5 cm}(6,\\hspace{.2 cm}3.7),\\hspace{.5 cm}(7,\\hspace{.2 cm}4.0) $$"
   ]
  },
  {
   "cell_type": "code",
   "execution_count": null,
   "id": "0f7158f8",
   "metadata": {},
   "outputs": [],
   "source": []
  },
  {
   "cell_type": "code",
   "execution_count": null,
   "id": "56786e9b",
   "metadata": {},
   "outputs": [],
   "source": []
  },
  {
   "cell_type": "code",
   "execution_count": null,
   "id": "40b61cc9",
   "metadata": {},
   "outputs": [],
   "source": []
  },
  {
   "cell_type": "markdown",
   "id": "68241da4",
   "metadata": {},
   "source": [
    ">- **`Step 1:` Plot the seven observations using a scatter chart:**"
   ]
  },
  {
   "cell_type": "code",
   "execution_count": 103,
   "id": "53648db7",
   "metadata": {},
   "outputs": [
    {
     "data": {
      "image/png": "[encoded data removed]",
      "text/plain": [
       "<Figure size 432x288 with 1 Axes>"
      ]
     },
     "metadata": {
      "needs_background": "light"
     },
     "output_type": "display_data"
    }
   ],
   "source": [
    "sh = np.array([1, 2, 3, 4, 5, 6, 7.])               # study hours \n",
    "gpa = np.array([1.4, 1.6, 2.5, 2.6, 3.5, 3.7, 4.0])   # gpa\n",
    "fig, ax = plt.subplots()\n",
    "plt.title(\"Study Hours vs GPA of Students\")\n",
    "plt.xlabel(\"Study Hours\")\n",
    "plt.ylabel(\"GPA\")\n",
    "ax.scatter(sh,gpa)\n",
    "plt.grid(True)"
   ]
  },
  {
   "cell_type": "markdown",
   "id": "c29eea6a",
   "metadata": {},
   "source": [
    "- From the graph, we can note that if a student study 2 hours daily, he/she gets a GPA of 1.6. Similarly, if a student studies 7 hours daily, he or she gets a GPA of 4.0\n",
    "- So, it appears that there exist a positive relationship between the study hours and GPA achieved.\n",
    "- However, by just seeing the graph it appears that there exist no straight line or in other words no single equation that passes through all the seven points."
   ]
  },
  {
   "cell_type": "code",
   "execution_count": null,
   "id": "589e3b2a",
   "metadata": {},
   "outputs": [],
   "source": []
  },
  {
   "cell_type": "code",
   "execution_count": null,
   "id": "d27e8583",
   "metadata": {},
   "outputs": [],
   "source": []
  },
  {
   "cell_type": "code",
   "execution_count": null,
   "id": "c617ca23",
   "metadata": {},
   "outputs": [],
   "source": []
  },
  {
   "cell_type": "code",
   "execution_count": null,
   "id": "cd98e4f3",
   "metadata": {},
   "outputs": [],
   "source": []
  },
  {
   "cell_type": "markdown",
   "id": "bbc503fa",
   "metadata": {},
   "source": [
    ">- **`Step 2:` Write down seven linear equations, one for each observation/point:**\n",
    "\n",
    "$$(1,1.4), \\hspace{.5 cm} (2,1.6), \\hspace{.5 cm}(3,2.5), \\hspace{.5 cm}(4,2.6),  \\hspace{.5 cm}(5,3.5), \\hspace{.5 cm}(6,3.7), \\hspace{.5 cm}(7,4.0) $$\n",
    "$$y=c+mx$$ \n",
    "$$y = \\beta_0 + \\beta_1x + \\epsilon$$\n",
    "- Where,\n",
    "    - $\\beta_0$ is the y-intercept\n",
    "    - $\\beta_1$ is the slope of the line \n",
    "    - $\\epsilon_i = \\hat{y}_i - y_i$, For a given instance $i$, $\\epsilon_i$ is a measure of the difference between the true $y_i$ and the model's estimate, $\\hat{y}_i$. If the model predicts $y_i$ perfectly, then the error is zero\n",
    "\n",
    "   \n",
    "- Together, $\\beta_0$ and $\\beta_1$ are called the **model coefficients**.  Our objective is to find the parameters $\\beta_0$ and $\\beta_1$ that minimize $\\epsilon$ across all the available data points. \n",
    "\n",
    "- Mention the seven equations for the seven points, having two unknowns: y-intercept ($\\beta_0$) and slope ($\\beta_1$)\n",
    "\n",
    "$$f(1):\\hspace{1 cm}\\beta_0 + \\beta_1 = 1.4$$\n",
    "$$f(2):\\hspace{1 cm}\\beta_0 + 2\\beta_1 = 1.6$$\n",
    "$$f(3):\\hspace{1 cm}\\beta_0 + 3\\beta_1 = 2.5$$\n",
    "$$f(4):\\hspace{1 cm}\\beta_0 + 4\\beta_1 = 2.6$$\n",
    "$$f(5):\\hspace{1 cm}\\beta_0 + 5\\beta_1 = 3.5$$\n",
    "$$f(6):\\hspace{1 cm}\\beta_0 + 6\\beta_1 = 3.7$$\n",
    "$$f(7):\\hspace{1 cm}\\beta_0 + 7\\beta_1 = 4.0$$\n"
   ]
  },
  {
   "cell_type": "code",
   "execution_count": null,
   "id": "ccf56daf",
   "metadata": {},
   "outputs": [],
   "source": []
  },
  {
   "cell_type": "code",
   "execution_count": null,
   "id": "64a543e6",
   "metadata": {},
   "outputs": [],
   "source": []
  },
  {
   "cell_type": "code",
   "execution_count": null,
   "id": "b7988f7f",
   "metadata": {},
   "outputs": [],
   "source": []
  },
  {
   "cell_type": "code",
   "execution_count": null,
   "id": "03d5da04",
   "metadata": {},
   "outputs": [],
   "source": []
  },
  {
   "cell_type": "markdown",
   "id": "72651870",
   "metadata": {},
   "source": [
    ">- **Step 3: Create matrix equation from above seven equations: $Ax=b$**"
   ]
  },
  {
   "cell_type": "markdown",
   "id": "5c69dd5c",
   "metadata": {},
   "source": [
    "- Let us write the above `Inconsistent Overdetermined System` of seven linear equations having two unknowns in matrix form.\n",
    "$$\n",
    "\\begin{bmatrix} 1 & 1 \\\\  1 & 2 \\\\  1 & 3 \\\\ 1 & 4 \\\\  1 & 5 \\\\  1 & 6 \\\\ 1 & 7  \\end{bmatrix}\n",
    "\\begin{bmatrix} \\beta_0 \\\\ \\beta_1  \\end{bmatrix} =  \n",
    "\\begin{bmatrix} 1.4 \\\\ 1.6 \\\\ 2.5 \\\\ 2.6\\\\ 3.5 \\\\ 3.7 \\\\ 4.0  \\end{bmatrix}\n",
    "$$\n",
    "- Since the y-intercept is constant, so we have set it equal to `1` across the board\n",
    "\n",
    "- So the above equations can be written as:\n",
    "$$Ax = b$$\n",
    "\n",
    "- Where,\n",
    "    - $A$ is a $7\\times 2$ matrix of known coefficients.\n",
    "    - $x$ is a $2\\times 1$ vector of unknowns (y-intercept and slope)\n",
    "    - $b$ is a $7\\times 1$ vector of known independent or output variable values."
   ]
  },
  {
   "cell_type": "code",
   "execution_count": null,
   "id": "f2bfb14c",
   "metadata": {},
   "outputs": [],
   "source": []
  },
  {
   "cell_type": "code",
   "execution_count": null,
   "id": "3a27d777",
   "metadata": {},
   "outputs": [],
   "source": []
  },
  {
   "cell_type": "code",
   "execution_count": null,
   "id": "edb8a04a",
   "metadata": {},
   "outputs": [],
   "source": []
  },
  {
   "cell_type": "code",
   "execution_count": null,
   "id": "46abfe0f",
   "metadata": {},
   "outputs": [],
   "source": []
  },
  {
   "cell_type": "markdown",
   "id": "3175128b",
   "metadata": {},
   "source": [
    ">- **`Step 4:` Solve the system of linear equations using Linear Least Squares Method:**"
   ]
  },
  {
   "cell_type": "markdown",
   "id": "31b66200",
   "metadata": {},
   "source": [
    "**Option 1:** Use Pearson Correlation coefficient, which is used to quantify the strength and direction of linear relationship between two quantitative variables\n",
    "<h4>$$\\hspace{2 cm} \\beta_1 = \\frac{cov(x,y)}{var(x)} = \\frac{\\frac{\\sum_{i=1}^n (x_i - \\bar{x})(y_i - \\bar{y}) }{n}}           {\\frac{\\sum(x_i-\\bar{x})^2}{n}}   = \\frac{\\sum_{i=1}^n(x_i - \\bar{x})(y_i - \\bar{y})}{\\sum_{i=1}^n(x_i - \\bar{x})^2}$$</h4>\n",
    "\n",
    "<h4>$$\\hspace{2 cm} \\beta_0 = \\bar{y} - \\beta_1\\bar{x}$$</h4>"
   ]
  },
  {
   "cell_type": "code",
   "execution_count": 104,
   "id": "e8d70558",
   "metadata": {},
   "outputs": [
    {
     "name": "stdout",
     "output_type": "stream",
     "text": [
      "Slope:  0.4642857142857143\n",
      "Y-intercept:  0.8999999999999999\n"
     ]
    }
   ],
   "source": [
    "x = np.array([1, 2, 3, 4, 5, 6, 7])\n",
    "y = np.array([1.4, 1.6, 2.5, 2.6, 3.5, 3.7, 4.0])\n",
    "N = 7 \n",
    "xbar = sum(x)/N\n",
    "ybar = sum(y)/N\n",
    "\n",
    "b1 = (sum((x - xbar)*(y - ybar)))/(sum((x - xbar)**2))\n",
    "b0 = ybar - b1*xbar\n",
    "print(\"Slope: \", b1)\n",
    "print(\"Y-intercept: \", b0)"
   ]
  },
  {
   "cell_type": "code",
   "execution_count": null,
   "id": "d6b6f27a",
   "metadata": {},
   "outputs": [],
   "source": []
  },
  {
   "cell_type": "code",
   "execution_count": null,
   "id": "d177bcc7",
   "metadata": {},
   "outputs": [],
   "source": []
  },
  {
   "cell_type": "markdown",
   "id": "1fb4182c",
   "metadata": {},
   "source": [
    "**Option 2:** Use `np.cov(x,y)` to calculate variance-covariance matrix. The diagornal values of the matrix show variances while the other values are the covariances. For two variables the covariance matrix is shown below:\n",
    "\n",
    "$$\\begin{bmatrix} \\sigma(x,x) & \\sigma(x,y) \\\\  \\sigma(y,x) & \\sigma(y,y)  \\end{bmatrix}$$\n",
    "\n",
    "$ b_1 = \\frac{\\sigma(x,y)}{\\sigma(x,x)}\\hspace{2 cm}$ and  $ \\hspace{2 cm}b_0 = \\bar{y} - b_1\\bar{x}$"
   ]
  },
  {
   "cell_type": "code",
   "execution_count": 105,
   "id": "47337268",
   "metadata": {},
   "outputs": [
    {
     "name": "stdout",
     "output_type": "stream",
     "text": [
      "Covariance matrix: \n",
      " [[4.66666667 2.16666667]\n",
      " [2.16666667 1.04285714]]\n",
      "\n",
      "Slope:  0.4642857142857143\n",
      "Y-intercept:  0.8999999999999999\n"
     ]
    }
   ],
   "source": [
    "# OPTION 2\n",
    "x = np.array([1, 2, 3, 4, 5, 6, 7])\n",
    "y = np.array([1.4, 1.6, 2.5, 2.6, 3.5, 3.7, 4.0])\n",
    "cov_mat = np.cov(x, y)\n",
    "print(\"Covariance matrix: \\n\",cov_mat)\n",
    "\n",
    "b1 = cov_mat[0,1]/cov_mat[0,0]       #slope = cov(x,y)/var(x)\n",
    "b0 = sum(y)/N  - b1 * sum(x)/N\n",
    "\n",
    "print(\"\\nSlope: \", b1)\n",
    "print(\"Y-intercept: \", b0)"
   ]
  },
  {
   "cell_type": "code",
   "execution_count": null,
   "id": "14cf40b8",
   "metadata": {},
   "outputs": [],
   "source": []
  },
  {
   "cell_type": "code",
   "execution_count": null,
   "id": "290b0b78",
   "metadata": {},
   "outputs": [],
   "source": []
  },
  {
   "cell_type": "code",
   "execution_count": null,
   "id": "9efb45bb",
   "metadata": {},
   "outputs": [],
   "source": []
  },
  {
   "cell_type": "code",
   "execution_count": null,
   "id": "d4cdf1dc",
   "metadata": {},
   "outputs": [],
   "source": []
  },
  {
   "cell_type": "markdown",
   "id": "0b146732",
   "metadata": {},
   "source": [
    ">- **`Step 5:`Draw the regression line using the computed slope and y-intercept, which is the best fit line**\n",
    "\n",
    "$$y = 0.9 + 0.464*x $$"
   ]
  },
  {
   "cell_type": "code",
   "execution_count": 106,
   "id": "976b6aa1",
   "metadata": {},
   "outputs": [
    {
     "data": {
      "image/png": "[encoded data removed]",
      "text/plain": [
       "<Figure size 432x288 with 1 Axes>"
      ]
     },
     "metadata": {
      "needs_background": "light"
     },
     "output_type": "display_data"
    }
   ],
   "source": [
    "x = np.array([1, 2, 3, 4, 5, 6, 7])       \n",
    "y = np.array([1.4, 1.6, 2.5, 2.6, 3.5, 3.7, 4.0])  \n",
    "fig, ax = plt.subplots()\n",
    "plt.title(\"Study Hours vs GPA of Students\")\n",
    "plt.xlabel(\"Study Hours\")\n",
    "plt.ylabel(\"GPA\")\n",
    "ax.scatter(sh,gpa);\n",
    "\n",
    "x2 = np.linspace(0,8, 10)\n",
    "b0 = 0.9\n",
    "b1 = 0.464\n",
    "y2 = b0 + b1*x2\n",
    "ax.plot(x2,y2)\n",
    "plt.grid(True)"
   ]
  },
  {
   "cell_type": "markdown",
   "id": "82e459e2",
   "metadata": {},
   "source": [
    ">- **`Step 6:`Perform prediction**\n",
    "- You can perform prediction from the graph. Given a x value you predict the value from the line and the actual data point. Note the difference between the predicted value and the actual value."
   ]
  },
  {
   "cell_type": "code",
   "execution_count": null,
   "id": "7a071ee3",
   "metadata": {},
   "outputs": [],
   "source": []
  },
  {
   "cell_type": "code",
   "execution_count": null,
   "id": "0fee1506",
   "metadata": {},
   "outputs": [],
   "source": []
  },
  {
   "cell_type": "markdown",
   "id": "6ee7b6e3",
   "metadata": {},
   "source": [
    ">- **`Step 7:` Finally calculate the least square errors to determine how well the regression line actually fits the data:**\n",
    "\n",
    "- **R-squared Error/Coefficient of Determination**. Tells us how well the regression line fit the data.  can range from 0 to 1. A value of 0 indicates that the response variable cannot be explained by the predictor variable at all. A value of 1 indicates that the response variable can be perfectly explained without error by the predictor variable.\n",
    "$$R^2 = \\frac{SSR}{SST}$$\n",
    "- **Sum of Squares due to Regression (SSR)** is calculated as the sum of the squares deviations of each predicted value of y, i.e., $\\hat{y}$, and subtract the avarage y, i.e., $\\bar{y}$. So it measures the difference between the predicted values and its average.\n",
    "$$SSR = \\sum(\\hat{y}_i - \\bar{y})^2$$ \n",
    "- **Sum of Squares Total (SST)** is the total variation squared.\n",
    "$$SST = SSR + SSE$$\n",
    "- **Sum of Squares Error (SSE)** is the unexplained deviation:\n",
    "$$SSE = \\sum(\\hat{y}_i - y_i)^2$$ "
   ]
  },
  {
   "cell_type": "code",
   "execution_count": 107,
   "id": "1875f68f",
   "metadata": {},
   "outputs": [
    {
     "data": {
      "text/plain": [
       "0.9645681098359337"
      ]
     },
     "execution_count": 107,
     "metadata": {},
     "output_type": "execute_result"
    }
   ],
   "source": [
    "x = np.array([1, 2, 3, 4, 5, 6, 7])       \n",
    "y = np.array([1.4, 1.6, 2.5, 2.6, 3.5, 3.7, 4.0])  \n",
    "yhat = b0 + b1*x \n",
    "sse = sum((yhat - y)**2)\n",
    "ssr = sum((yhat- np.mean(y))**2)\n",
    "sst = ssr + sse\n",
    "r2 = ssr/sst\n",
    "r2"
   ]
  },
  {
   "cell_type": "markdown",
   "id": "0075fa8f",
   "metadata": {},
   "source": [
    "This tells us that 96.4% of the variation in GPA can be explained by the number of hours studied."
   ]
  },
  {
   "cell_type": "code",
   "execution_count": null,
   "id": "113317c7",
   "metadata": {},
   "outputs": [],
   "source": []
  },
  {
   "cell_type": "code",
   "execution_count": null,
   "id": "3a8700b7",
   "metadata": {},
   "outputs": [],
   "source": []
  },
  {
   "cell_type": "code",
   "execution_count": null,
   "id": "f3af77d5",
   "metadata": {},
   "outputs": [],
   "source": []
  },
  {
   "cell_type": "markdown",
   "id": "71f4f247",
   "metadata": {},
   "source": [
    "### Example 18\n",
    "Given four observations of some random experiment, use paper pencil and calculate equation for the best fit linear regression line and calculate R-squared error to to determine how well the regression line fits the dataset. Finally write Python code to verify your answers.\n",
    "    $$(-1, \\hspace{.2 cm}0),\\hspace{.5 cm} (0,\\hspace{.2 cm} 1),\\hspace{.5 cm}(1, \\hspace{.2 cm}2), \\hspace{.5 cm}(2,\\hspace{.2 cm} 1) $$"
   ]
  },
  {
   "cell_type": "markdown",
   "id": "6c91093b",
   "metadata": {},
   "source": [
    "- **Write down seven linear equations, one for each observation/point:**\n",
    "$$f(-1): \\beta_0 - \\beta_1 = 0$$\n",
    "$$f(0): \\beta_0 + 0\\beta_1 = 1$$\n",
    "$$f(1): \\beta_0 + 1\\beta_1 = 2$$\n",
    "$$f(2): \\beta_0 + 2\\beta_1 = 1$$\n",
    "\n",
    "\n",
    "- **Create matrix equation from above seven equations: $Ax=b$**\n",
    "$$\n",
    "\\begin{bmatrix} 1 & -1 \\\\  1 & 0 \\\\  1 & 1 \\\\ 1 & 2  \\end{bmatrix}\n",
    "\\begin{bmatrix} \\beta_0 \\\\ \\beta_1  \\end{bmatrix} =  \n",
    "\\begin{bmatrix} 0 \\\\ 1 \\\\ 2 \\\\ 1  \\end{bmatrix}\n",
    "$$\n",
    "\n",
    "$$Ax = b$$\n",
    "\n",
    "\n",
    "- **Solve the system of linear equations using pseudoinverse:**\n",
    "$$A^TAx = A^Tb $$\n",
    "\n",
    "$$\n",
    "\\begin{bmatrix} -1 & 0 & 1 & 2 \\\\  1 & 1 & 1 & 1 \\end{bmatrix}\n",
    "\\begin{bmatrix} -1 & 1 \\\\  0 & 1 \\\\  1 & 1 \\\\ 2 & 1  \\end{bmatrix}\n",
    "\\begin{bmatrix} \\beta_0 \\\\ \\beta_1  \\end{bmatrix} =  \n",
    "\\begin{bmatrix} -1 & 0 & 1 & 2 \\\\  1 & 1 & 1 & 1 \\end{bmatrix}\n",
    "\\begin{bmatrix} 0 \\\\ 1 \\\\ 2 \\\\ 1  \\end{bmatrix}\n",
    "$$\n",
    "\n",
    "\n",
    "\n",
    "\n",
    "$$\n",
    "\\begin{bmatrix} 6 & 2 \\\\  2 & 4  \\end{bmatrix}\n",
    "\\begin{bmatrix} \\beta_0 \\\\ \\beta_1  \\end{bmatrix} =  \n",
    "\\begin{bmatrix} 4 \\\\ 4\\end{bmatrix}\n",
    "$$\n",
    "\n",
    "$$Ax = b$$\n",
    "\n",
    "\n",
    "$$Ax = b$$\n",
    "\n",
    "$$x = A^{-1}b$$\n",
    "\n",
    "$$x = \\frac{1}{det(A)}\\begin{bmatrix} 4 & -2\\\\ -2 & 6 \\end{bmatrix} \\begin{bmatrix} 4 \\\\ 4\\end{bmatrix}$$\n",
    "\n",
    "$$x = \\frac{1}{20}\\begin{bmatrix} 4 & -2\\\\ -2 & 6 \\end{bmatrix} \\begin{bmatrix} 4 \\\\ 4\\end{bmatrix}$$\n",
    "\n",
    "$$x = \\begin{bmatrix} 1/5 & -1/10\\\\ -1/10 & 3/10 \\end{bmatrix} \\begin{bmatrix} 4 \\\\ 4\\end{bmatrix}$$  \n",
    "\n",
    "$$x = \\begin{bmatrix} 2/5 \\\\ 4/5\\end{bmatrix}$$\n",
    "- Using this way, you get the same slope and y-intercept: $m=2/5$ and $c = 4/5$\n"
   ]
  },
  {
   "cell_type": "code",
   "execution_count": 114,
   "id": "cad5ec64",
   "metadata": {},
   "outputs": [
    {
     "name": "stdout",
     "output_type": "stream",
     "text": [
      "Slope:  0.4\n",
      "Y-intercept:  0.8\n",
      "R-Squared Error:  0.4000000000000001\n"
     ]
    },
    {
     "data": {
      "image/png": "[encoded data removed]",
      "text/plain": [
       "<Figure size 432x288 with 1 Axes>"
      ]
     },
     "metadata": {
      "needs_background": "light"
     },
     "output_type": "display_data"
    }
   ],
   "source": [
    "import scipy.stats\n",
    "x = np.array([-1, 0, 1, 2])\n",
    "y = np.array([0, 1, 2, 1])\n",
    "result = scipy.stats.linregress(x,y)\n",
    "b1 = result.slope\n",
    "b0 = result.intercept\n",
    "print(\"Slope: \", b1)\n",
    "print(\"Y-intercept: \", b0)\n",
    "\n",
    "\n",
    "yhat = b0 + b1*x\n",
    "sse = sum((yhat - y)**2)\n",
    "ssr = sum((yhat- np.mean(y))**2)\n",
    "sst = ssr + sse\n",
    "r2 = ssr/sst\n",
    "print(\"R-Squared Error: \", r2)\n",
    "\n",
    "fig, ax = plt.subplots()\n",
    "ax.scatter(x, y);\n",
    "x2 = np.linspace(-3,6, 10)\n",
    "y2 = b0 + b1*x2\n",
    "ax.plot(x2,y2)\n",
    "plt.grid(True)"
   ]
  },
  {
   "cell_type": "code",
   "execution_count": null,
   "id": "1c7faeaa",
   "metadata": {},
   "outputs": [],
   "source": []
  },
  {
   "cell_type": "code",
   "execution_count": null,
   "id": "9d7daea5",
   "metadata": {},
   "outputs": [],
   "source": []
  },
  {
   "cell_type": "code",
   "execution_count": null,
   "id": "eb2363f0",
   "metadata": {},
   "outputs": [],
   "source": []
  },
  {
   "cell_type": "code",
   "execution_count": null,
   "id": "de9c8cf9",
   "metadata": {},
   "outputs": [],
   "source": []
  },
  {
   "cell_type": "code",
   "execution_count": null,
   "id": "322127d4",
   "metadata": {},
   "outputs": [],
   "source": []
  },
  {
   "cell_type": "markdown",
   "id": "619b021d",
   "metadata": {},
   "source": [
    "### Example 19\n",
    "- Consider that a doctor has collected a sample data of eight patients, on which he/she has administered a special drug that is used to reduce the level of fogetfullness of a patient.\n",
    "- Suppose, a doctor want to determine the relationship between the two variables `forgetness level` and `drug dosage` is positive or negative.\n",
    "- The doctor also wants to determine how much impact the dependent variable `drug dosage` has on the independent variable `forgetness level`\n",
    "- For this she has collected a sample data of eight patients as shown below:\n",
    " $$(0,\\hspace{.2 cm}1.86),\\hspace{.5 cm} (1,\\hspace{.2 cm}1.31),\\hspace{.5 cm}(2, \\hspace{.2 cm}0.62),\\hspace{.5 cm}(3, \\hspace{.2 cm}0.33), \\hspace{.5 cm}(4,\\hspace{.2 cm}0.09),\\hspace{.5 cm}(5,\\hspace{.2 cm}-0.67),\\hspace{.5 cm}(6, \\hspace{.2 cm}-1.23), \\hspace{.5 cm}(7,\\hspace{.2 cm} -1.37) $$\n",
    " \n",
    "- Write down Python code to plot the points, and use least squares method to calculate equation for the best fit linear regression line and calculate R-squared error to to determine how well the regression line fits the dataset. "
   ]
  },
  {
   "cell_type": "code",
   "execution_count": 113,
   "id": "0d809cec",
   "metadata": {},
   "outputs": [
    {
     "name": "stdout",
     "output_type": "stream",
     "text": [
      "Slope:  -0.4692857142857143\n",
      "Y-intercept:  1.76\n",
      "R-Squared Error:  0.9834425543516645\n"
     ]
    },
    {
     "data": {
      "image/png": "[encoded data removed]",
      "text/plain": [
       "<Figure size 432x288 with 1 Axes>"
      ]
     },
     "metadata": {
      "needs_background": "light"
     },
     "output_type": "display_data"
    }
   ],
   "source": [
    "x = np.array([0, 1, 2, 3, 4, 5, 6, 7.])                         # Drug dosage in ml\n",
    "y = np.array([1.86, 1.31, 0.62, 0.33, 0.09, -0.67, -1.23, -1.37])   # Level of forgetfullness\n",
    "\n",
    "result = scipy.stats.linregress(x,y)\n",
    "b1 = result.slope\n",
    "b0 = result.intercept\n",
    "print(\"Slope: \", b1)\n",
    "print(\"Y-intercept: \", b0)\n",
    "\n",
    "\n",
    "yhat = b0 + b1*x\n",
    "sse = sum((yhat - y)**2)\n",
    "ssr = sum((yhat- np.mean(y))**2)\n",
    "sst = ssr + sse\n",
    "r2 = ssr/sst\n",
    "print(\"R-Squared Error: \", r2)\n",
    "\n",
    "\n",
    "\n",
    "fig, ax = plt.subplots()\n",
    "plt.title(\"Clinical Trial\")\n",
    "plt.xlabel(\"Drug dosage (mL)\")\n",
    "plt.ylabel(\"Forgetfulness\")\n",
    "ax.scatter(x, y)\n",
    "\n",
    "x2 = np.linspace(0, 8, 10)\n",
    "y2 = result.slope*x2 + result.intercept\n",
    "ax.plot(x2,y2)\n",
    "plt.grid(True)"
   ]
  },
  {
   "cell_type": "code",
   "execution_count": null,
   "id": "0861ac94",
   "metadata": {},
   "outputs": [],
   "source": []
  },
  {
   "cell_type": "code",
   "execution_count": null,
   "id": "3a509921",
   "metadata": {},
   "outputs": [],
   "source": []
  },
  {
   "cell_type": "code",
   "execution_count": null,
   "id": "995e7fa7",
   "metadata": {},
   "outputs": [],
   "source": []
  },
  {
   "cell_type": "markdown",
   "id": "22090f35",
   "metadata": {},
   "source": [
    "### d. Multiple Linear Regression using Ordinary Least Squares (OLS) Method"
   ]
  },
  {
   "cell_type": "markdown",
   "id": "24ea9711",
   "metadata": {},
   "source": [
    "#### Equation for Multiple Linear Regression\n",
    "- The equation of multiple linear regression can be written as:\n",
    "<h3>${\\hspace 9 cm}\\beta_0 + x_1\\beta_1 + x_2\\beta_2 + x_3\\beta_3 + \\cdots + x_m\\beta_m = y$</h3>\n",
    "\n",
    "\n",
    "- Where, \n",
    "    - $y$ is the dependent or outcome or response variable, e.g., gpa achieved (**known**).\n",
    "    - $x_1, x_2, x_3, \\cdots, x_m$  are the predictor variables, e.g., study hours, instructor teaching skills, lab work and so on (**known**).\n",
    "    - $\\beta_0$ is the minimum value of $y$ when all the feature variables are zero, e.g., minimum gpa achived by a student. Also called the y-intercept (**unknown**).\n",
    "    - $\\beta_1, \\beta_2, \\beta_3, \\cdots, \\beta_m$ are the model parameters that we want to determine (**unknown**)."
   ]
  },
  {
   "cell_type": "code",
   "execution_count": null,
   "id": "de6e7930",
   "metadata": {},
   "outputs": [],
   "source": []
  },
  {
   "cell_type": "code",
   "execution_count": null,
   "id": "15c897a3",
   "metadata": {},
   "outputs": [],
   "source": []
  },
  {
   "cell_type": "code",
   "execution_count": null,
   "id": "a1673cd7",
   "metadata": {},
   "outputs": [],
   "source": []
  },
  {
   "cell_type": "markdown",
   "id": "1134b4e3",
   "metadata": {},
   "source": [
    "#### Overdetermined System having `n` Equations and `m` Variables\n",
    "- Suppose we have `n` observations, or `n` data points one for each student. So this system of of `n` linear equations involving `m` variables can be written as:\n",
    "\n",
    "$$\\beta_0 + x_{1,1}\\beta_1 + x_{1,2}\\beta_2 + x_{1,3}\\beta_3 + \\cdots + x_{1,m}\\beta_m = y_1$$\n",
    "$$\\beta_0 + x_{2,1}\\beta_1 + x_{2,2}\\beta_2 + x_{2,3}\\beta_3 + \\cdots + x_{2,m}\\beta_m = y_2$$\n",
    "$$\\beta_0 + x_{3,1}\\beta_1 + x_{3,2}\\beta_2 + x_{3,3}\\beta_3 + \\cdots + x_{3,m}\\beta_m = y_3$$\n",
    "$$\\cdots \\hspace{1 cm} \\cdots \\hspace{1 cm}   \\cdots \\hspace{1 cm} \\cdots \\hspace{1 cm}\\cdots\\hspace{1 cm} \\cdots $$\n",
    "$$\\cdots \\hspace{1 cm} \\cdots \\hspace{1 cm}   \\cdots \\hspace{1 cm} \\cdots \\hspace{1 cm}\\cdots\\hspace{1 cm} \\cdots $$\n",
    "$$\\beta_0 + x_{n,1}\\beta_1 + x_{n,2}\\beta_2 + x_{n,3}\\beta_3 + \\cdots + x_{n,m}\\beta_m = y_n$$"
   ]
  },
  {
   "cell_type": "markdown",
   "id": "6be235dc",
   "metadata": {},
   "source": [
    "#### Writing in Matrix Form\n",
    "- Let us write above set of linear equations in matrix form, by keeping a 1 for the unknown variable `a`, which is the minimum gpa that a student can get<br>\n",
    "\n",
    "$$\n",
    "\\begin{bmatrix} 1 & x_{1,1} & x_{1,2} & x_{1,3} & \\cdots & x_{1,m} \\\\\n",
    "                1 & x_{2,1} & x_{2,2} & x_{2,3} & \\cdots & x_{2,m} \\\\\n",
    "                1 & x_{3,1} & x_{3,2} & x_{3,3} & \\cdots & x_{3,m}  \\\\\n",
    "                \\vdots  & \\vdots  & \\vdots & \\vdots & \\ddots & \\vdots \\\\\n",
    "                1 & x_{n,1} & x_{n,2} & x_{n,3} & \\cdots & x_{n,m}  \n",
    "\\end{bmatrix}\n",
    "\\begin{bmatrix} \\beta_0 \\\\ \\beta_1 \\\\ \\beta_2 \\\\ \\vdots \\\\ \\beta_m  \\end{bmatrix} =\n",
    "\\begin{bmatrix} y_1 \\\\ y_2 \\\\ y_3 \\\\ \\vdots \\\\ y_n  \\end{bmatrix}\n",
    "$$\n",
    "\n",
    "$$ Ax = b$$\n",
    "- The matrix $A$ is known. For example, each row contains the value of study hours, instruction teaching skills, lab work and so on.\n",
    "- The vector $x$ is unknown, called the model's learnable parameters.\n",
    "- The vector $b$ is known. For example, each $y_i$ is the known gpa of a student."
   ]
  },
  {
   "cell_type": "code",
   "execution_count": null,
   "id": "baebc886",
   "metadata": {},
   "outputs": [],
   "source": []
  },
  {
   "cell_type": "code",
   "execution_count": null,
   "id": "62f0bbb4",
   "metadata": {},
   "outputs": [],
   "source": []
  },
  {
   "cell_type": "markdown",
   "id": "71faf2f6",
   "metadata": {},
   "source": [
    "**Example 20:**\n",
    "- Consider that a teacher has collected a sample data of seven students, their GPA (0-4), the number of hours they have studied on daily basis in the entire semester (0-7) and instructor teaching skills (0-4).\n",
    "- For this she has collected a sample data of seven students as tupple containing (`daily study hours`, `instructor teaching skills` and `acquired GPA`):\n",
    "$$\n",
    "(1,\\hspace{.2 cm}4, \\hspace{.2 cm}2.4),\\hspace{.5 cm}\n",
    "(2,\\hspace{.2 cm}1, \\hspace{.2 cm}2.2),\\hspace{.5 cm}\n",
    "(3,\\hspace{.2 cm}3, \\hspace{.2 cm}2.9),\\hspace{.5 cm}\n",
    "(4,\\hspace{.2 cm}4, \\hspace{.2 cm}3.8),\\hspace{.5 cm}\n",
    "(5,\\hspace{.2 cm}3, \\hspace{.2 cm}3.0),\\hspace{.5 cm}\n",
    "(6,\\hspace{.2 cm}1, \\hspace{.2 cm}2.0),\\hspace{.5 cm}\n",
    "(7,\\hspace{.2 cm}2, \\hspace{.2 cm}3.0),\\hspace{.5 cm}\n",
    "$$"
   ]
  },
  {
   "cell_type": "markdown",
   "id": "ebcab230",
   "metadata": {},
   "source": [
    ">- **Write down seven linear equations, one for each observation/point:**\n",
    "- There are a total of seven observations.\n",
    "- We need to predict the `GPA` based on two feature or input or predictor variables, `study_hours` and `instr_teaching_skills`.\n",
    "- The regression equation for this situation is:\n",
    "$$\\beta_0 + x_1\\beta_1 + x_2\\beta_2  = y$$\n",
    "- In this example of multiple regression, $\\beta_0$, $\\beta_1$, and $\\beta_2$ are called the **model coefficients**.  \n",
    "\n",
    "- The seven equations for the seven data points, makes up a system of overdetermined system as shown below:\n",
    "$$\\beta_0 +  \\beta_1 + 4\\beta_2  = 2.4$$\n",
    "$$\\beta_0 + 2\\beta_1 + \\beta_2  = 2.2$$\n",
    "$$\\beta_0 + 3\\beta_1 + 3\\beta_2  = 2.9$$\n",
    "$$\\beta_0 + 4\\beta_1 + 4\\beta_2  = 3.8$$\n",
    "$$\\beta_0 + 5\\beta_1 + 3\\beta_2  = 3.0$$\n",
    "$$\\beta_0 + 6\\beta_1 + 1\\beta_2  = 2.0$$\n",
    "$$\\beta_0 + 7\\beta_1 + 2\\beta_2  = 3.0$$"
   ]
  },
  {
   "cell_type": "markdown",
   "id": "7c2b4e91",
   "metadata": {},
   "source": [
    ">- **Create matrix equation from above seven equations: $Ax=b$**\n",
    "- Let us write the above `Inconsistent Overdetermined System` of seven linear equations having two unknowns in matrix form.\n",
    "$$\n",
    "\\begin{bmatrix} 1 & 1 & 4\\\\  1 & 2 &1\\\\  1 & 3 &3\\\\ 1 & 4 &4\\\\  1 & 5 &3 \\\\  1 & 6 &1\\\\ 1 & 7 &2 \\end{bmatrix}\n",
    "\\begin{bmatrix} \\beta_0 \\\\ \\beta_1 \\\\ \\beta_2 \\end{bmatrix} =  \n",
    "\\begin{bmatrix} 2.4 \\\\ 2.2 \\\\ 2.9 \\\\ 3.8\\\\ 3.0 \\\\ 2.0 \\\\ 3.0  \\end{bmatrix}\n",
    "$$\n",
    "- Since the y-intercept is constant, so we have set it equal to `1` across the board\n",
    "\n",
    "- So the above equations can be written as:\n",
    "$$Ax = b$$\n",
    "\n",
    "- Where,\n",
    "    - $A$ is a $7\\times 3$ matrix of known coefficients.\n",
    "    - $x$ is a $3\\times 1$ vector of unknowns.\n",
    "    - $b$ is a $7\\times 1$ vector of known independent or output variable values."
   ]
  },
  {
   "cell_type": "markdown",
   "id": "aced446f",
   "metadata": {},
   "source": [
    ">- **Solve the system of linear equations using Ordinary Least Squares Method:**"
   ]
  },
  {
   "cell_type": "code",
   "execution_count": 108,
   "id": "2964e1dc",
   "metadata": {},
   "outputs": [
    {
     "name": "stdout",
     "output_type": "stream",
     "text": [
      "Input Variables (sh, skills):\n",
      " [[1. 4.]\n",
      " [2. 1.]\n",
      " [3. 3.]\n",
      " [4. 4.]\n",
      " [5. 3.]\n",
      " [6. 1.]\n",
      " [7. 2.]]\n",
      "\n",
      "Output Variable (gpa): [2.4 2.2 2.9 3.8 3.  2.  3. ]\n"
     ]
    }
   ],
   "source": [
    "import numpy as np\n",
    "sh = np.array([1,     2,    3,    4,    5,    6,    7.])               # study hours \n",
    "skills = np.array([4, 1,    3,    4,    3,    1,    2])               # instructor's teaching skills\n",
    "gpa = np.array([2.4,  2.2,  2.9,  3.8,  3.0,  2.0,  3.0])            # gpa\n",
    "X = np.array(list(zip(sh,skills)))\n",
    "y = gpa\n",
    "print(\"Input Variables (sh, skills):\\n\", X)\n",
    "print(\"\\nOutput Variable (gpa):\", y)"
   ]
  },
  {
   "cell_type": "markdown",
   "id": "0af87338",
   "metadata": {},
   "source": [
    "- **Use `LinearRegression()` method of scikit-learn Library**"
   ]
  },
  {
   "cell_type": "code",
   "execution_count": 109,
   "id": "d54a550f",
   "metadata": {},
   "outputs": [
    {
     "name": "stdout",
     "output_type": "stream",
     "text": [
      "Intercept:  1.1627118644067802\n",
      "Coeffient of Study hour:  0.13983050847457615\n",
      "Coeffient of Instructor Teaching Skills:  0.40254237288135586\n",
      "R-Squared Errors:  0.6464164339675734\n"
     ]
    }
   ],
   "source": [
    "from sklearn.linear_model import LinearRegression\n",
    "#initiate linear regression model\n",
    "model = LinearRegression()\n",
    "\n",
    "#fit regression model\n",
    "model.fit(X, y)\n",
    "\n",
    "\n",
    "#display regression coefficients and R-squared value of model\n",
    "intercept = model.intercept_\n",
    "sh_coef = model.coef_[0]\n",
    "skill_coef = model.coef_[1]\n",
    "r2 = model.score(X,y)\n",
    "\n",
    "print('Intercept: ', intercept)\n",
    "print('Coeffient of Study hour: ', sh_coef)\n",
    "print('Coeffient of Instructor Teaching Skills: ', skill_coef)\n",
    "print('R-Squared Errors: ', r2)"
   ]
  },
  {
   "cell_type": "markdown",
   "id": "3f43e3ce",
   "metadata": {},
   "source": [
    "- So the equation for the fitted regression model:<br>\n",
    "$\\hspace{1 cm}y \\hspace{.3 cm}=\\hspace{.3 cm} \\hspace{.3 cm}1.16 \\hspace{.3 cm}+\\hspace{.3 cm} 0.1398 \\hspace{.1 cm}$(study_hours) $\\hspace{.3 cm} + 0.402 \\hspace{.1 cm}$(instr_skills)\n",
    "\n",
    "- We can also see that the R2 value of the model is 0.64. This means that 64% of the variation in the response variable can be explained by the two predictor variables in the model."
   ]
  },
  {
   "cell_type": "code",
   "execution_count": null,
   "id": "8ffc9fe6",
   "metadata": {},
   "outputs": [],
   "source": []
  },
  {
   "cell_type": "code",
   "execution_count": 112,
   "id": "617cf342",
   "metadata": {},
   "outputs": [
    {
     "name": "stdout",
     "output_type": "stream",
     "text": [
      "GPA:  [1.70508475]\n"
     ]
    }
   ],
   "source": [
    "# Carry out the prediction with new study hours and instructor's teaching skills\n",
    "gpa = intercept + sh_coef*1 + skill_coef*2\n",
    "gpa = model.predict([[1, 1]])\n",
    "\n",
    "print(\"GPA: \", gpa)"
   ]
  },
  {
   "cell_type": "code",
   "execution_count": null,
   "id": "17f6781c",
   "metadata": {},
   "outputs": [],
   "source": []
  },
  {
   "cell_type": "code",
   "execution_count": null,
   "id": "c8759a11",
   "metadata": {},
   "outputs": [],
   "source": []
  },
  {
   "cell_type": "code",
   "execution_count": null,
   "id": "43ca9d71",
   "metadata": {},
   "outputs": [],
   "source": []
  },
  {
   "cell_type": "markdown",
   "id": "a8c53049",
   "metadata": {},
   "source": [
    "**Example 21:**\n",
    "- There are a total of 24 observations in a file `datasets/stockdata.csv`, containing year, month, interest_rate, unemployment_rate, and stock_index_prices.\n",
    "- We need to predict the `stock_index_price` based on two feature variables, `interest_rate`, and `unemployment_rate`."
   ]
  },
  {
   "cell_type": "code",
   "execution_count": null,
   "id": "de9cd389",
   "metadata": {},
   "outputs": [],
   "source": [
    "! cat datasets/stockdata.csv"
   ]
  },
  {
   "cell_type": "markdown",
   "id": "f1320c26",
   "metadata": {},
   "source": [
    ">- **Write down 24 linear equations, one for each observation/point:**\n",
    "$$\\beta_0 + 2.75\\beta_1 + 5.3\\beta_2  = 1464$$\n",
    "$$\\beta_0 + 2.5\\beta_1 + 5.3\\beta_2  = 1394$$\n",
    "$$\\beta_0 + 2.5\\beta_1 + 5.3\\beta_2  = 1357$$\n",
    "$$\\cdots \\hspace{1 cm}   \\cdots \\hspace{1 cm}  \\cdots $$\n",
    "$$\\cdots \\hspace{1 cm}   \\cdots \\hspace{1 cm}  \\cdots $$\n",
    "$$\\beta_0 + 1.75\\beta_1 + 6.1\\beta_2 = 719$$"
   ]
  },
  {
   "cell_type": "markdown",
   "id": "eb2fc331",
   "metadata": {},
   "source": [
    ">- **Create matrix equation from above seven equations: $Ax=b$**\n",
    "$$\n",
    "\\begin{bmatrix} 1 & 2.75 & 5.3 \\\\\n",
    "                1 & 2.5 & 5.3  \\\\\n",
    "                1 & 2.5 & 5.3   \\\\\n",
    "                \\vdots  & \\vdots  & \\vdots \\\\\n",
    "                1 & 1.75 & 6.1   \n",
    "\\end{bmatrix}\n",
    "\\begin{bmatrix} \\beta_0 \\\\ \\beta_1 \\\\ \\beta_2 \\end{bmatrix} =\n",
    "\\begin{bmatrix} y_1 \\\\ y_2 \\\\ y_3 \\\\ \\vdots \\\\ y_{24}  \\end{bmatrix}\n",
    "$$\n",
    "\n",
    "$$ Ax = b$$"
   ]
  },
  {
   "cell_type": "markdown",
   "id": "a489a92c",
   "metadata": {},
   "source": [
    ">- **Solve the system of linear equations using Ordinary Least Squares Method:**"
   ]
  },
  {
   "cell_type": "code",
   "execution_count": null,
   "id": "1dba07e8",
   "metadata": {},
   "outputs": [],
   "source": [
    "dataset = np.genfromtxt(\"datasets/stockdata.txt\", delimiter=',')\n",
    "# Two input or dependent or predictor variables are interest_rate and unemployment_rate\n",
    "X = dataset[:,2:4]\n",
    "X"
   ]
  },
  {
   "cell_type": "code",
   "execution_count": null,
   "id": "410c1a5a",
   "metadata": {},
   "outputs": [],
   "source": [
    "# The only independent or response variable is stock_index_price\n",
    "Y = dataset[:,4]\n",
    "Y"
   ]
  },
  {
   "cell_type": "code",
   "execution_count": null,
   "id": "d6611ddb",
   "metadata": {},
   "outputs": [],
   "source": [
    "# Use sklearn to determine the y-intercept and two model coefficients\n",
    "import sklearn.linear_model\n",
    "regr = sklearn.linear_model.LinearRegression()\n",
    "regr.fit(X, Y)\n",
    "\n",
    "\n",
    "\n",
    "intercept = regr.intercept_          # beta0\n",
    "interest_rate_coef = regr.coef_[0]      # beta1\n",
    "unemployment_rate_coef = regr.coef_[1]  # beta2\n",
    "\n",
    "\n",
    "print('Intercept: ', intercept)\n",
    "print('Coeffient of Interest Rate: ', interest_rate_coef)\n",
    "print('Coeffient of Unemployment Rate: ', unemployment_rate_coef)"
   ]
  },
  {
   "cell_type": "code",
   "execution_count": null,
   "id": "d0e8d0d0",
   "metadata": {},
   "outputs": [],
   "source": [
    "# Carry out the prediction with new interest_rate and unemployment_rate\n",
    "stock_index_price = intercept + interest_rate_coef*2.75 + unemployment_rate_coef*5.3\n",
    "stock_index_price = regr.predict([[2.75, 5.3]])\n",
    "\n",
    "stock_index_price"
   ]
  },
  {
   "cell_type": "code",
   "execution_count": null,
   "id": "66e437df",
   "metadata": {},
   "outputs": [],
   "source": []
  },
  {
   "cell_type": "code",
   "execution_count": null,
   "id": "482bcd98",
   "metadata": {},
   "outputs": [],
   "source": []
  },
  {
   "cell_type": "code",
   "execution_count": null,
   "id": "346f98b2",
   "metadata": {},
   "outputs": [],
   "source": []
  }
 ],
 "metadata": {
  "kernelspec": {
   "display_name": "Python 3 (ipykernel)",
   "language": "python",
   "name": "python3"
  },
  "language_info": {
   "codemirror_mode": {
    "name": "ipython",
    "version": 3
   },
   "file_extension": ".py",
   "mimetype": "text/x-python",
   "name": "python",
   "nbconvert_exporter": "python",
   "pygments_lexer": "ipython3",
   "version": "3.8.10"
  }
 },
 "nbformat": 4,
 "nbformat_minor": 5
}
