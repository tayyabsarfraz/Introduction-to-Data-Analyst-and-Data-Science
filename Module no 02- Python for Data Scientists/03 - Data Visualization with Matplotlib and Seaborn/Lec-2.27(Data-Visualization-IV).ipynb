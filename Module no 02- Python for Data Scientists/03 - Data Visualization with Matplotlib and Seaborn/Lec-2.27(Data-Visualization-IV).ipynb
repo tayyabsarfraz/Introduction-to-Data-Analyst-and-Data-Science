{
 "cells": [
  {
   "cell_type": "markdown",
   "id": "fff56b76",
   "metadata": {},
   "source": [
    "---   \n",
    "\n",
    "<h1 align=\"center\">Introduction to Data Analyst and Data Science for beginners</h1>\n",
    "<h1 align=\"center\">Lecture no 2.27(Data Visualization-IV)</h1>\n",
    "\n",
    "---\n",
    "<h3><div align=\"right\">Ehtisham Sadiq</div></h3>    "
   ]
  },
  {
   "cell_type": "code",
   "execution_count": null,
   "id": "81f51187",
   "metadata": {},
   "outputs": [],
   "source": []
  },
  {
   "cell_type": "markdown",
   "id": "117c331e",
   "metadata": {},
   "source": [
    "## _Data Visualization with Matplotlib_\n",
    "\n",
    "**Read Documentation for details:** \n",
    "https://matplotlib.org/stable/users/index.html"
   ]
  },
  {
   "cell_type": "markdown",
   "id": "10a00218",
   "metadata": {},
   "source": [
    "<img align=\"left\" width=\"500\" height=\"500\"  src=\"images/intromatlab.png\"  >\n",
    "<img align=\"right\" width=\"400\" height=\"500\"  src=\"images/matplotlibadvantages.png\"  >"
   ]
  },
  {
   "cell_type": "markdown",
   "id": "e42b820a",
   "metadata": {},
   "source": [
    "## Learning agenda of this notebook\n",
    "1. Recap:\n",
    "    - Anatomy of a Figure\n",
    "    - Line, Bar, Scatter, Pie Chart and Histogram\n",
    "2. Box-plot\n",
    "3. Violin plot\n",
    "4. Heatmap\n",
    "5. Subplots"
   ]
  },
  {
   "cell_type": "code",
   "execution_count": null,
   "id": "d533666d",
   "metadata": {},
   "outputs": [],
   "source": []
  },
  {
   "cell_type": "markdown",
   "id": "e6e9f900",
   "metadata": {},
   "source": [
    "## 1. Recap"
   ]
  },
  {
   "cell_type": "markdown",
   "id": "f702a78d",
   "metadata": {},
   "source": [
    "### a. Anatomy of a Figure\n",
    "<img align=\"center\" width=\"700\" height=\"500\"  src=\"images/anotomyoffig.png\"  >"
   ]
  },
  {
   "cell_type": "code",
   "execution_count": null,
   "id": "cff5e2a4",
   "metadata": {},
   "outputs": [],
   "source": []
  },
  {
   "cell_type": "markdown",
   "id": "f4696238",
   "metadata": {},
   "source": [
    "### b. Line Chart\n",
    "<img align=\"center\" width=\"700\" height=\"500\"  src=\"images/linechart.png\"  >"
   ]
  },
  {
   "cell_type": "code",
   "execution_count": null,
   "id": "f94ece7b",
   "metadata": {},
   "outputs": [],
   "source": []
  },
  {
   "cell_type": "markdown",
   "id": "1d4c5c57",
   "metadata": {},
   "source": [
    "### c. Bar Chart\n",
    "<img align=\"left\" width=\"450\" height=\"500\"  src=\"images/vbar.png\"  >\n",
    "<img align=\"right\" width=\"450\" height=\"500\"  src=\"images/hbar.png\"  >"
   ]
  },
  {
   "cell_type": "code",
   "execution_count": null,
   "id": "ab8c4bde",
   "metadata": {},
   "outputs": [],
   "source": []
  },
  {
   "cell_type": "markdown",
   "id": "4c6597ec",
   "metadata": {},
   "source": [
    "### d. Histogram\n",
    "<img align=\"left\" width=\"575\" height=\"500\"  src=\"images/myhistogram.png\"  >\n",
    "<img align=\"right\" width=\"375\" height=\"500\"  src=\"images/mybargraph.png\"  >"
   ]
  },
  {
   "cell_type": "code",
   "execution_count": null,
   "id": "2d6b49c1",
   "metadata": {},
   "outputs": [],
   "source": []
  },
  {
   "cell_type": "markdown",
   "id": "f8da69b3",
   "metadata": {},
   "source": [
    "### e. Scatter Chart\n",
    "<img align=\"center\" width=\"700\" height=\"500\"  src=\"images/scatterchart.png\"  >"
   ]
  },
  {
   "cell_type": "code",
   "execution_count": null,
   "id": "edd37047",
   "metadata": {},
   "outputs": [],
   "source": []
  },
  {
   "cell_type": "markdown",
   "id": "1864709a",
   "metadata": {},
   "source": [
    "### f. Pie Chart\n",
    "<img align=\"center\" width=\"700\" height=\"500\"  src=\"images/mypiechart.png\"  >"
   ]
  },
  {
   "cell_type": "markdown",
   "id": "dfd1b1d8",
   "metadata": {},
   "source": [
    "To begin, let's install the Matplotlib library. We'll use the `matplotlib.pyplot` module for basic plots like line & bar charts. It is often imported with the alias `plt`. "
   ]
  },
  {
   "cell_type": "code",
   "execution_count": 1,
   "id": "7e6f955f",
   "metadata": {},
   "outputs": [],
   "source": [
    "# To install this library in Jupyter notebook\n",
    "import sys\n",
    "#!{sys.executable} -m pip install --upgrade pip\n",
    "!{sys.executable} -m pip install matplotlib --quiet"
   ]
  },
  {
   "cell_type": "code",
   "execution_count": 2,
   "id": "e99b39c5",
   "metadata": {},
   "outputs": [
    {
     "data": {
      "text/plain": [
       "('3.4.3',\n",
       " ['/Library/Frameworks/Python.framework/Versions/3.8/lib/python3.8/site-packages/matplotlib'])"
      ]
     },
     "execution_count": 2,
     "metadata": {},
     "output_type": "execute_result"
    }
   ],
   "source": [
    "import matplotlib\n",
    "matplotlib.__version__ , matplotlib.__path__"
   ]
  },
  {
   "cell_type": "code",
   "execution_count": null,
   "id": "2a95bf29",
   "metadata": {},
   "outputs": [],
   "source": []
  },
  {
   "cell_type": "markdown",
   "id": "22153286",
   "metadata": {},
   "source": [
    "## 2. Boxplot\n",
    "<img align=\"centre\" width=\"700\" height=\"750\"  src=\"images/iqr2.PNG\"  >\n",
    "\n",
    "<br><br><br><br>\n",
    "\n",
    "\n",
    "<img src=\"https://miro.medium.com/max/961/0*q2_0X7rTtdNFT6Xi.jpg\" width=\"500\" height=\"200\">\n",
    "<br><br><br><br>\n",
    "\n",
    "<img align=\"center\" width=\"500\" height=\"200\"  src=\"images/boxplot.PNG\"  >"
   ]
  },
  {
   "cell_type": "code",
   "execution_count": 5,
   "id": "7639fae7",
   "metadata": {},
   "outputs": [
    {
     "data": {
      "text/html": [
       "<div>\n",
       "<style scoped>\n",
       "    .dataframe tbody tr th:only-of-type {\n",
       "        vertical-align: middle;\n",
       "    }\n",
       "\n",
       "    .dataframe tbody tr th {\n",
       "        vertical-align: top;\n",
       "    }\n",
       "\n",
       "    .dataframe thead th {\n",
       "        text-align: right;\n",
       "    }\n",
       "</style>\n",
       "<table border=\"1\" class=\"dataframe\">\n",
       "  <thead>\n",
       "    <tr style=\"text-align: right;\">\n",
       "      <th></th>\n",
       "      <th>rollno</th>\n",
       "      <th>name</th>\n",
       "      <th>address</th>\n",
       "      <th>gender</th>\n",
       "      <th>group</th>\n",
       "      <th>session</th>\n",
       "      <th>age</th>\n",
       "      <th>scholarship</th>\n",
       "      <th>machine_learning</th>\n",
       "      <th>data_science</th>\n",
       "      <th>big_data</th>\n",
       "    </tr>\n",
       "  </thead>\n",
       "  <tbody>\n",
       "    <tr>\n",
       "      <th>0</th>\n",
       "      <td>MS01</td>\n",
       "      <td>SAADIA</td>\n",
       "      <td>Lahore</td>\n",
       "      <td>female</td>\n",
       "      <td>group B</td>\n",
       "      <td>MORNING</td>\n",
       "      <td>28</td>\n",
       "      <td>2562</td>\n",
       "      <td>33</td>\n",
       "      <td>81</td>\n",
       "      <td>74</td>\n",
       "    </tr>\n",
       "    <tr>\n",
       "      <th>1</th>\n",
       "      <td>MS02</td>\n",
       "      <td>JUMAIMA</td>\n",
       "      <td>Islamabad</td>\n",
       "      <td>female</td>\n",
       "      <td>group C</td>\n",
       "      <td>AFTERNOON</td>\n",
       "      <td>33</td>\n",
       "      <td>2800</td>\n",
       "      <td>27</td>\n",
       "      <td>90</td>\n",
       "      <td>88</td>\n",
       "    </tr>\n",
       "    <tr>\n",
       "      <th>2</th>\n",
       "      <td>MS03</td>\n",
       "      <td>ARIFA</td>\n",
       "      <td>Karachi</td>\n",
       "      <td>female</td>\n",
       "      <td>group A</td>\n",
       "      <td>EVENING</td>\n",
       "      <td>34</td>\n",
       "      <td>3500</td>\n",
       "      <td>24</td>\n",
       "      <td>95</td>\n",
       "      <td>93</td>\n",
       "    </tr>\n",
       "    <tr>\n",
       "      <th>3</th>\n",
       "      <td>MS04</td>\n",
       "      <td>SAADIA</td>\n",
       "      <td>Lahore</td>\n",
       "      <td>female</td>\n",
       "      <td>group A</td>\n",
       "      <td>MOR</td>\n",
       "      <td>44</td>\n",
       "      <td>2000</td>\n",
       "      <td>37</td>\n",
       "      <td>57</td>\n",
       "      <td>44</td>\n",
       "    </tr>\n",
       "    <tr>\n",
       "      <th>4</th>\n",
       "      <td>MS05</td>\n",
       "      <td>DANISH</td>\n",
       "      <td>Peshawer</td>\n",
       "      <td>male</td>\n",
       "      <td>group C</td>\n",
       "      <td>AFTERNOON</td>\n",
       "      <td>54</td>\n",
       "      <td>2100</td>\n",
       "      <td>39</td>\n",
       "      <td>78</td>\n",
       "      <td>55</td>\n",
       "    </tr>\n",
       "  </tbody>\n",
       "</table>\n",
       "</div>"
      ],
      "text/plain": [
       "  rollno     name    address  gender    group    session  age  scholarship  \\\n",
       "0   MS01   SAADIA     Lahore  female  group B    MORNING   28         2562   \n",
       "1   MS02  JUMAIMA  Islamabad  female  group C  AFTERNOON   33         2800   \n",
       "2   MS03    ARIFA    Karachi  female  group A    EVENING   34         3500   \n",
       "3   MS04   SAADIA     Lahore  female  group A        MOR   44         2000   \n",
       "4   MS05   DANISH   Peshawer    male  group C  AFTERNOON   54         2100   \n",
       "\n",
       "   machine_learning  data_science  big_data  \n",
       "0                33            81        74  \n",
       "1                27            90        88  \n",
       "2                24            95        93  \n",
       "3                37            57        44  \n",
       "4                39            78        55  "
      ]
     },
     "execution_count": 5,
     "metadata": {},
     "output_type": "execute_result"
    }
   ],
   "source": [
    "import pandas as pd\n",
    "df = pd.read_csv(\"datasets/boxplot.csv\")\n",
    "df.head()"
   ]
  },
  {
   "cell_type": "code",
   "execution_count": 6,
   "id": "a7b52b64",
   "metadata": {},
   "outputs": [
    {
     "data": {
      "text/plain": [
       "(50, 11)"
      ]
     },
     "execution_count": 6,
     "metadata": {},
     "output_type": "execute_result"
    }
   ],
   "source": [
    "df.shape"
   ]
  },
  {
   "cell_type": "code",
   "execution_count": null,
   "id": "c65dd449",
   "metadata": {},
   "outputs": [],
   "source": []
  },
  {
   "cell_type": "code",
   "execution_count": 7,
   "id": "5125c45e",
   "metadata": {},
   "outputs": [
    {
     "data": {
      "text/plain": [
       "42"
      ]
     },
     "execution_count": 7,
     "metadata": {},
     "output_type": "execute_result"
    }
   ],
   "source": [
    "df.data_science.min()"
   ]
  },
  {
   "cell_type": "code",
   "execution_count": 8,
   "id": "4a6e5137",
   "metadata": {},
   "outputs": [
    {
     "data": {
      "text/plain": [
       "95"
      ]
     },
     "execution_count": 8,
     "metadata": {},
     "output_type": "execute_result"
    }
   ],
   "source": [
    "df.data_science.max()"
   ]
  },
  {
   "cell_type": "code",
   "execution_count": 9,
   "id": "f9aa6a53",
   "metadata": {},
   "outputs": [
    {
     "data": {
      "text/plain": [
       "70.0"
      ]
     },
     "execution_count": 9,
     "metadata": {},
     "output_type": "execute_result"
    }
   ],
   "source": [
    "df.data_science.median()"
   ]
  },
  {
   "cell_type": "code",
   "execution_count": 10,
   "id": "58159329",
   "metadata": {},
   "outputs": [
    {
     "data": {
      "text/plain": [
       "0.25    57.25\n",
       "0.50    70.00\n",
       "0.75    77.25\n",
       "Name: data_science, dtype: float64"
      ]
     },
     "execution_count": 10,
     "metadata": {},
     "output_type": "execute_result"
    }
   ],
   "source": [
    "# measuring quantiles for Data Science\n",
    "df.data_science.quantile([.25, .5, .75])"
   ]
  },
  {
   "cell_type": "code",
   "execution_count": null,
   "id": "45bb0310",
   "metadata": {},
   "outputs": [],
   "source": []
  },
  {
   "cell_type": "markdown",
   "id": "1b50fd9f",
   "metadata": {},
   "source": [
    "In Matplotlib, `boxplot()` is the core function to create box plot. Below are some of the important parameters of the function:\n",
    "\n",
    "- `x`: Array or a sequence of vectors. The input data.\n",
    "- `vert`: Set as True or False. The default value is True, which displays the boxes vertically.\n",
    "- `labels`: Sets the labels for each dataset.\n",
    "- `notch`: Set as True or False. the default value is False. If True, the parameter will produce a notched box plot.\n",
    "- `widths`: Sets the width of the box.\n",
    "- `patch_artist`: Set as True or False. the default value is False. If False, the parameter will produce boxes with the Line2D artist. Otherwise, the boxes will be drawn with Patch artists."
   ]
  },
  {
   "cell_type": "code",
   "execution_count": null,
   "id": "ea3caeae",
   "metadata": {},
   "outputs": [],
   "source": []
  },
  {
   "cell_type": "code",
   "execution_count": 11,
   "id": "b851a912",
   "metadata": {},
   "outputs": [
    {
     "data": {
      "image/png": "[encoded data removed]",
      "text/plain": [
       "<Figure size 432x288 with 1 Axes>"
      ]
     },
     "metadata": {
      "needs_background": "light"
     },
     "output_type": "display_data"
    }
   ],
   "source": [
    "from matplotlib import pyplot as plt\n",
    "import matplotlib.pyplot as plt\n",
    "\n",
    "# Create figure and axes objects\n",
    "fig = plt.figure()\n",
    "ax = fig.add_subplot()\n",
    "\n",
    "# Get the dataset(s)\n",
    "# machine_learning = list(df['machine_learning'])\n",
    "# data_science = list(df['data_science'])\n",
    "# big_data = list(df['big_data'])\n",
    "# values = [machine_learning, data_science, big_data]\n",
    "\n",
    "# xlabels=[\"Machine Learning\", \"Data Science\", \"Big Data\"]\n",
    "ax.boxplot(x=df.machine_learning,  patch_artist=True)\n",
    "\n",
    "# title and axis labels\n",
    "ax.set_title('Box Plot for Subject Marks')\n",
    "ax.set_xlabel('Subjects')\n",
    "ax.set_ylabel('Marks')\n",
    "\n",
    "\n",
    "# add horizontal grid lines\n",
    "ax.yaxis.grid(True)\n",
    "\n",
    "plt.show()"
   ]
  },
  {
   "cell_type": "code",
   "execution_count": null,
   "id": "20e50c10",
   "metadata": {},
   "outputs": [],
   "source": []
  },
  {
   "cell_type": "code",
   "execution_count": 9,
   "id": "52442635",
   "metadata": {},
   "outputs": [
    {
     "data": {
      "image/png": "[encoded data removed]",
      "text/plain": [
       "<Figure size 432x288 with 1 Axes>"
      ]
     },
     "metadata": {
      "needs_background": "light"
     },
     "output_type": "display_data"
    }
   ],
   "source": [
    "from matplotlib import pyplot as plt\n",
    "import matplotlib.pyplot as plt\n",
    "\n",
    "# Create figure and axes objects\n",
    "fig = plt.figure()\n",
    "ax = fig.add_subplot()\n",
    "\n",
    "# Get the dataset(s)\n",
    "machine_learning = list(df['machine_learning'])\n",
    "data_science = list(df['data_science'])\n",
    "big_data = list(df['big_data'])\n",
    "values = [machine_learning, data_science, big_data]\n",
    "\n",
    "xlabels=[\"Machine Learning\", \"Data Science\", \"Big Data\"]\n",
    "ax.boxplot(x=values,  patch_artist=True, labels = xlabels)\n",
    "\n",
    "# title and axis labels\n",
    "ax.set_title('Box Plot for Subject Marks')\n",
    "ax.set_xlabel('Subjects')\n",
    "ax.set_ylabel('Marks')\n",
    "\n",
    "\n",
    "# add horizontal grid lines\n",
    "ax.yaxis.grid(True)\n",
    "\n",
    "plt.show()"
   ]
  },
  {
   "cell_type": "code",
   "execution_count": null,
   "id": "a6d28a73",
   "metadata": {},
   "outputs": [],
   "source": []
  },
  {
   "cell_type": "markdown",
   "id": "be237f5c",
   "metadata": {},
   "source": [
    "## 3. Violin Plot\n",
    "Violin plots are similar to box plots, except that they also show the probability density of the data at different values. These plots include a marker for the median of the data and a box indicating the interquartile range, as in the standard box plots.\n",
    "\n",
    "A violin plot is more informative than a plain box plot. In fact while a box plot only shows summary statistics such as mean/median and interquartile ranges, the violin plot shows the full distribution of the data.\n",
    "\n",
    "\n",
    "<br><br><br><br>\n",
    "\n",
    "\n",
    "<img src=\"https://bit.ly/3PKTR7T\" width=\"500\" height=\"200\">\n",
    "<br><br><br><br>\n",
    "\n",
    "<img src=\"https://s3.ap-south-1.amazonaws.com/s3.studytonight.com/tutorials/uploads/pictures/1596569025-71449.png\" width=\"500\" height=\"200\">\n"
   ]
  },
  {
   "cell_type": "code",
   "execution_count": 14,
   "id": "25fc70f8",
   "metadata": {},
   "outputs": [
    {
     "data": {
      "image/png": "[encoded data removed]",
      "text/plain": [
       "<Figure size 432x288 with 1 Axes>"
      ]
     },
     "metadata": {
      "needs_background": "light"
     },
     "output_type": "display_data"
    }
   ],
   "source": [
    "from matplotlib import pyplot as plt\n",
    "import matplotlib.pyplot as plt\n",
    "\n",
    "# Create figure and axes objects\n",
    "fig = plt.figure()\n",
    "ax = fig.add_subplot()\n",
    "\n",
    "# Get the dataset(s)\n",
    "machine_learning = list(df['machine_learning'])\n",
    "data_science = list(df['data_science'])\n",
    "big_data = list(df['big_data'])\n",
    "values = [machine_learning, data_science, big_data]\n",
    "\n",
    "xlabels=[\"Machine Learning\", \"Data Science\", \"Big Data\"]\n",
    "\n",
    "quantiles= [[0.25,0.75], [0.25,0.75], [0.25,0.75]]\n",
    "ax.violinplot(dataset=values, showmedians=True, quantiles=quantiles)\n",
    "\n",
    "# title and axis labels\n",
    "ax.set_title('Violin Plot for Subject Marks')\n",
    "ax.set_xlabel('Subjects')\n",
    "ax.set_ylabel('Marks')\n",
    "\n",
    "ax.set_xticks([1,2,3])\n",
    "ax.set_xticklabels(xlabels)\n",
    "\n",
    "# add horizontal grid lines\n",
    "ax.yaxis.grid(True)\n",
    "\n",
    "plt.show()"
   ]
  },
  {
   "cell_type": "code",
   "execution_count": null,
   "id": "4b0910ee",
   "metadata": {},
   "outputs": [],
   "source": []
  },
  {
   "cell_type": "markdown",
   "id": "da4a4a95",
   "metadata": {},
   "source": [
    "## 4. Heat Map\n",
    "Heat map Heat map is used to find out the correlation between different features in the dataset.High positive or negative value shows that the features have high correlation.This helps us to select the parmeters for machine learning.\n",
    ">- A heatmap is a useful chart that we can use to show the relationship between two variables. \n",
    ">- A heatmap is used to visualize 2-dimensional data like a matrix or a table using colors."
   ]
  },
  {
   "cell_type": "code",
   "execution_count": 13,
   "id": "ebca070d",
   "metadata": {},
   "outputs": [
    {
     "data": {
      "text/plain": [
       "array([[226, 201, 141,  72,  58, 101, 213,  65,  26,  30],\n",
       "       [202, 141, 182,  87, 205,  32, 179,  82, 209, 137],\n",
       "       [ 25,  72,  74,  72,  41, 183, 105, 225, 223, 238],\n",
       "       [177, 109,  17,  54, 209, 146, 188, 212, 184,   6],\n",
       "       [223, 244, 190, 147, 139,   3, 155,  19, 128,  93],\n",
       "       [ 20,  11, 156,  76, 209, 252, 155,  37, 172,  71],\n",
       "       [241, 141,  70, 246, 110, 219,  24, 100, 224, 131],\n",
       "       [ 85, 216, 221, 135, 158,  33, 133, 129, 240,  98],\n",
       "       [ 12, 158, 243,  97,  75, 123, 204,   6, 150, 113],\n",
       "       [237,  15,  40, 154, 185,  73, 139, 126, 141,  52]])"
      ]
     },
     "execution_count": 13,
     "metadata": {},
     "output_type": "execute_result"
    }
   ],
   "source": [
    "import numpy as np\n",
    "data_set = np.random.randint(0 , 255, 100).reshape(10,10)\n",
    "data_set"
   ]
  },
  {
   "cell_type": "code",
   "execution_count": 16,
   "id": "c61632b5",
   "metadata": {},
   "outputs": [
    {
     "data": {
      "image/png": "[encoded data removed]",
      "text/plain": [
       "<Figure size 432x288 with 2 Axes>"
      ]
     },
     "metadata": {
      "needs_background": "light"
     },
     "output_type": "display_data"
    }
   ],
   "source": [
    "plt.imshow(X=data_set,)\n",
    "plt.colorbar()\n",
    "plt.title( \"2-D Heat Map\" )\n",
    "plt.show()"
   ]
  },
  {
   "cell_type": "code",
   "execution_count": 18,
   "id": "148e185e",
   "metadata": {},
   "outputs": [
    {
     "data": {
      "image/png": "[encoded data removed]",
      "text/plain": [
       "<Figure size 432x288 with 2 Axes>"
      ]
     },
     "metadata": {
      "needs_background": "light"
     },
     "output_type": "display_data"
    }
   ],
   "source": [
    "plt.imshow(X=data_set, cmap='gray')\n",
    "plt.colorbar()\n",
    "plt.title( \"2-D Heat Map\" )\n",
    "plt.show()"
   ]
  },
  {
   "cell_type": "code",
   "execution_count": null,
   "id": "4ffe0a9d",
   "metadata": {},
   "outputs": [],
   "source": []
  },
  {
   "cell_type": "code",
   "execution_count": 19,
   "id": "6f4016ae",
   "metadata": {},
   "outputs": [
    {
     "data": {
      "image/png": "[encoded data removed]",
      "text/plain": [
       "<Figure size 432x288 with 2 Axes>"
      ]
     },
     "metadata": {
      "needs_background": "light"
     },
     "output_type": "display_data"
    }
   ],
   "source": [
    "plt.imshow(X=data_set, cmap='coolwarm')\n",
    "plt.colorbar()\n",
    "plt.title( \"2-D Heat Map\" )\n",
    "plt.show()"
   ]
  },
  {
   "cell_type": "code",
   "execution_count": null,
   "id": "c2fefd86",
   "metadata": {},
   "outputs": [],
   "source": []
  },
  {
   "cell_type": "code",
   "execution_count": null,
   "id": "ec0f38fb",
   "metadata": {},
   "outputs": [],
   "source": []
  },
  {
   "cell_type": "markdown",
   "id": "c1e4ba1c",
   "metadata": {},
   "source": [
    "## 5. Creating Multiple Plots (Sub-Plots) within a Figure\n",
    "- A single matplotlib figure object may contain multiple subplots (axes objects) organized in a grid. \n",
    "- To create a subplot, just call the `plt.subplot()` method, and specify the number of rows and columns as shown below:\n",
    "```\n",
    "fig, <ax objects> = plt.subplots(rows, cols)\n",
    "```\n",
    "- Where rows and cols are integers that control the subplot layout. The `<ax objects>` needs to have dimensions that correspond to rows and cols.\n",
    "\n",
    "- The index of the subplot you want to draw on, starts from 1, then left to right, and top to bottom\n",
    "- **Note** that pyplot keeps track of the currently active subplot (which you can get a reference to by calling `plt.gca()`), so when you call the `plot` function, it draws on the *active* subplot.\n",
    "\n",
    "    \n",
    "    \n",
    "If a 2 row by 2 column array of plots is created, the <ax object> must to be arrayed as shown below:\n",
    " \n",
    "```\n",
    "fig, ( (ax1,ax2), (ax3,ax4) ) = plt.subplots(2,2)\n",
    "```\n",
    "    \n",
    "If a 2 row by 3 column array of plots is created, the <ax objects> must be arrayed to correspond to these dimensions:\n",
    "```\n",
    "fig, ( (ax1,ax2,a3), (ax4,ax5,ax6) ) = plt.subplots(2, 3)   \n",
    "```\n"
   ]
  },
  {
   "cell_type": "code",
   "execution_count": null,
   "id": "bf3d1d46",
   "metadata": {},
   "outputs": [],
   "source": []
  },
  {
   "cell_type": "code",
   "execution_count": 19,
   "id": "d3b049d3",
   "metadata": {},
   "outputs": [
    {
     "name": "stdout",
     "output_type": "stream",
     "text": [
      "Figure(432x288)\n"
     ]
    },
    {
     "data": {
      "image/png": "[encoded data removed]",
      "text/plain": [
       "<Figure size 432x288 with 1 Axes>"
      ]
     },
     "metadata": {
      "needs_background": "light"
     },
     "output_type": "display_data"
    }
   ],
   "source": [
    "fig, ax = plt.subplots()\n",
    "print(fig)"
   ]
  },
  {
   "cell_type": "code",
   "execution_count": null,
   "id": "a95e302c",
   "metadata": {},
   "outputs": [],
   "source": []
  },
  {
   "cell_type": "code",
   "execution_count": 20,
   "id": "2688aa1a",
   "metadata": {},
   "outputs": [
    {
     "name": "stdout",
     "output_type": "stream",
     "text": [
      "Figure(432x288)\n"
     ]
    },
    {
     "data": {
      "image/png": "[encoded data removed]",
      "text/plain": [
       "<Figure size 432x288 with 1 Axes>"
      ]
     },
     "metadata": {
      "needs_background": "light"
     },
     "output_type": "display_data"
    }
   ],
   "source": [
    "fig, ax = plt.subplots(nrows=1, ncols=1)\n",
    "print(fig)"
   ]
  },
  {
   "cell_type": "code",
   "execution_count": null,
   "id": "70ad9da0",
   "metadata": {},
   "outputs": [],
   "source": []
  },
  {
   "cell_type": "code",
   "execution_count": null,
   "id": "52830e35",
   "metadata": {},
   "outputs": [],
   "source": []
  },
  {
   "cell_type": "code",
   "execution_count": 21,
   "id": "fd65d32c",
   "metadata": {},
   "outputs": [
    {
     "name": "stdout",
     "output_type": "stream",
     "text": [
      "Figure(432x288)\n"
     ]
    },
    {
     "data": {
      "image/png": "[encoded data removed]",
      "text/plain": [
       "<Figure size 432x288 with 2 Axes>"
      ]
     },
     "metadata": {
      "needs_background": "light"
     },
     "output_type": "display_data"
    }
   ],
   "source": [
    "fig, (ax1,ax2) = plt.subplots(nrows=2,ncols=1)\n",
    "print(fig)"
   ]
  },
  {
   "cell_type": "code",
   "execution_count": null,
   "id": "da0a07b4",
   "metadata": {},
   "outputs": [],
   "source": []
  },
  {
   "cell_type": "code",
   "execution_count": null,
   "id": "eb41a032",
   "metadata": {},
   "outputs": [],
   "source": []
  },
  {
   "cell_type": "code",
   "execution_count": 22,
   "id": "f287c2cc",
   "metadata": {},
   "outputs": [
    {
     "name": "stdout",
     "output_type": "stream",
     "text": [
      "Figure(432x288)\n"
     ]
    },
    {
     "data": {
      "image/png": "[encoded data removed]",
      "text/plain": [
       "<Figure size 432x288 with 2 Axes>"
      ]
     },
     "metadata": {
      "needs_background": "light"
     },
     "output_type": "display_data"
    }
   ],
   "source": [
    "fig, (ax1,ax2) = plt.subplots(nrows=1,ncols=2)\n",
    "print(fig)"
   ]
  },
  {
   "cell_type": "code",
   "execution_count": null,
   "id": "4a0056f7",
   "metadata": {},
   "outputs": [],
   "source": []
  },
  {
   "cell_type": "code",
   "execution_count": 23,
   "id": "c5323be1",
   "metadata": {},
   "outputs": [
    {
     "name": "stdout",
     "output_type": "stream",
     "text": [
      "Figure(432x288)\n"
     ]
    },
    {
     "data": {
      "image/png": "[encoded data removed]",
      "text/plain": [
       "<Figure size 432x288 with 4 Axes>"
      ]
     },
     "metadata": {
      "needs_background": "light"
     },
     "output_type": "display_data"
    }
   ],
   "source": [
    "fig, ((ax1,ax2), (ax3,ax4)) = plt.subplots(nrows=2,ncols=2)\n",
    "print(fig)"
   ]
  },
  {
   "cell_type": "code",
   "execution_count": null,
   "id": "5d121334",
   "metadata": {},
   "outputs": [],
   "source": []
  },
  {
   "cell_type": "code",
   "execution_count": 24,
   "id": "60e05554",
   "metadata": {},
   "outputs": [
    {
     "name": "stdout",
     "output_type": "stream",
     "text": [
      "Figure(432x288)\n"
     ]
    },
    {
     "data": {
      "image/png": "[encoded data removed]",
      "text/plain": [
       "<Figure size 432x288 with 6 Axes>"
      ]
     },
     "metadata": {
      "needs_background": "light"
     },
     "output_type": "display_data"
    }
   ],
   "source": [
    "fig, ( (ax1,ax2,ax3), (ax4,ax5,ax6) ) = plt.subplots(2, 3) \n",
    "print(fig)"
   ]
  },
  {
   "cell_type": "code",
   "execution_count": null,
   "id": "9f881ea6",
   "metadata": {},
   "outputs": [],
   "source": []
  },
  {
   "cell_type": "markdown",
   "id": "324df462",
   "metadata": {},
   "source": [
    "**Example 1:**"
   ]
  },
  {
   "cell_type": "code",
   "execution_count": 25,
   "id": "878b2aef",
   "metadata": {},
   "outputs": [
    {
     "data": {
      "text/plain": [
       "array([-1.        , -0.93103448, -0.86206897, -0.79310345, -0.72413793,\n",
       "       -0.65517241, -0.5862069 , -0.51724138, -0.44827586, -0.37931034,\n",
       "       -0.31034483, -0.24137931, -0.17241379, -0.10344828, -0.03448276,\n",
       "        0.03448276,  0.10344828,  0.17241379,  0.24137931,  0.31034483,\n",
       "        0.37931034,  0.44827586,  0.51724138,  0.5862069 ,  0.65517241,\n",
       "        0.72413793,  0.79310345,  0.86206897,  0.93103448,  1.        ])"
      ]
     },
     "execution_count": 25,
     "metadata": {},
     "output_type": "execute_result"
    }
   ],
   "source": [
    "x = np.linspace(-1, 1, 30)\n",
    "x"
   ]
  },
  {
   "cell_type": "code",
   "execution_count": 26,
   "id": "80ed2161",
   "metadata": {},
   "outputs": [
    {
     "data": {
      "text/plain": [
       "[<matplotlib.lines.Line2D at 0x7fdaf6379cd0>]"
      ]
     },
     "execution_count": 26,
     "metadata": {},
     "output_type": "execute_result"
    },
    {
     "data": {
      "image/png": "[encoded data removed]",
      "text/plain": [
       "<Figure size 432x288 with 4 Axes>"
      ]
     },
     "metadata": {
      "needs_background": "light"
     },
     "output_type": "display_data"
    }
   ],
   "source": [
    "x = np.linspace(-1, 1, 30)\n",
    "\n",
    "fig, ((ax1, ax2), (ax3, ax4)) = plt.subplots(2, 2)\n",
    "ax1.plot(x,x)       # 1st subplot = top left\n",
    "ax2.plot(x, x**2)   # 2nd subplot = top right\n",
    "ax3.plot(x,x**3)    # 3rd subplot = bottom left\n",
    "ax4.plot(x,x**4)    # 4th subplot = bottom right"
   ]
  },
  {
   "cell_type": "code",
   "execution_count": null,
   "id": "ee8d7a4a",
   "metadata": {},
   "outputs": [],
   "source": []
  },
  {
   "cell_type": "code",
   "execution_count": 23,
   "id": "dce9a654",
   "metadata": {},
   "outputs": [
    {
     "data": {
      "text/plain": [
       "[<matplotlib.lines.Line2D at 0x7f256a4567f0>]"
      ]
     },
     "execution_count": 23,
     "metadata": {},
     "output_type": "execute_result"
    },
    {
     "data": {
      "image/png": "[encoded data removed]",
      "text/plain": [
       "<Figure size 432x288 with 4 Axes>"
      ]
     },
     "metadata": {
      "needs_background": "light"
     },
     "output_type": "display_data"
    }
   ],
   "source": [
    "x = np.linspace(-1, 1, 30)\n",
    "\n",
    "fig, axs = plt.subplots(2, 2)\n",
    "axs[0,0].plot(x,x, c='r')       # 1st subplot = top left\n",
    "axs[0,1].plot(x, x**2, c='b')   # 2nd subplot = top right\n",
    "axs[1,0].plot(x,x**3, c='g')    # 3rd subplot = bottom left\n",
    "axs[1,1].plot(x,x**4,c='k')    # 4th subplot = bottom right"
   ]
  },
  {
   "cell_type": "code",
   "execution_count": null,
   "id": "136057a1",
   "metadata": {},
   "outputs": [],
   "source": []
  },
  {
   "cell_type": "code",
   "execution_count": null,
   "id": "fab71998",
   "metadata": {},
   "outputs": [],
   "source": []
  },
  {
   "cell_type": "code",
   "execution_count": null,
   "id": "5d94d99c",
   "metadata": {},
   "outputs": [],
   "source": []
  },
  {
   "cell_type": "markdown",
   "id": "e5b61e81",
   "metadata": {},
   "source": [
    "**Example 2:**"
   ]
  },
  {
   "cell_type": "code",
   "execution_count": 27,
   "id": "445f3ce3",
   "metadata": {},
   "outputs": [
    {
     "data": {
      "image/png": "[encoded data removed]",
      "text/plain": [
       "<Figure size 432x288 with 2 Axes>"
      ]
     },
     "metadata": {
      "needs_background": "light"
     },
     "output_type": "display_data"
    }
   ],
   "source": [
    "from matplotlib import pyplot as plt\n",
    "chemical_exports = [0.810, 0.831, 0.895, 0.91, 0.915, 0.926, 0.945, 0.931, 0.919, 0.921, 0.920, 0.919]\n",
    "years = [2010, 2011, 2012, 2013, 2014, 2015, 2016, 2017, 2018, 2019, 2020, 2021]\n",
    "medicine_exports = [0.791, 0.818, 0.832, 0.816, 0.840, 0.833, 0.835, 0.838, 0.842, 0.910, 0.930, 0.940]\n",
    "\n",
    "\n",
    "fig, (ax1,ax2) = plt.subplots(nrows=2, ncols=1)\n",
    "\n",
    "ax1.plot(years, chemical_exports, label='Chemicals', marker='o', c='b', ls='-', lw=2) \n",
    "ax2.plot(years, medicine_exports, label='Medicines', marker='x', c='r', ls=':', lw=2) \n",
    "\n",
    "#Note the use of `set_`\n",
    "ax1.set_title(\"LCI Chemical exports in last 12 years\")\n",
    "ax1.set_xlabel(\"Years\")\n",
    "ax1.set_ylabel(\"Amount (Million Rs.)\")\n",
    "\n",
    "\n",
    "ax2.set_title(\"LCI Medicine exports in last 12 years\")\n",
    "ax2.set_xlabel(\"Years\")\n",
    "ax2.set_ylabel(\"Amount (Million Rs.)\")\n",
    "\n",
    "plt.tight_layout()\n",
    "plt.show()"
   ]
  },
  {
   "cell_type": "code",
   "execution_count": null,
   "id": "7f3bcf0b",
   "metadata": {},
   "outputs": [],
   "source": []
  },
  {
   "cell_type": "code",
   "execution_count": null,
   "id": "28a2fcdb",
   "metadata": {},
   "outputs": [],
   "source": []
  },
  {
   "cell_type": "markdown",
   "id": "25dbef90",
   "metadata": {},
   "source": [
    "### [01-911 Calls Data Project](https://github.com/ptyadana/Data-Science-and-Machine-Learning-Projects-Dojo/blob/master/Data%20Science%20and%20Machine%20Learning%20Bootcamp%20-%20JP/10-Data-Capstone-Projects/Project%20-%20911%20Calls/01-911%20Calls%20Data%20Capstone%20Project%20-%20My%20Solutions.ipynb)\n",
    "\n",
    "```\n",
    "For this capstone project we will be analyzing some 911 call data from Kaggle. The data contains the following fields:   \n",
    "\n",
    "lat : String variable, Latitude    \n",
    "lng: String variable, Longitude          \n",
    "desc: String variable, Description of the Emergency Call           \n",
    "zip: String variable, Zipcode            \n",
    "title: String variable, Title              \n",
    "timeStamp: String variable, YYYY-MM-DD HH:MM:SS         \n",
    "twp: String variable, Township           \n",
    "addr: String variable, Address          \n",
    "e: String variable, Dummy variable ```"
   ]
  },
  {
   "cell_type": "code",
   "execution_count": null,
   "id": "62f65e48",
   "metadata": {},
   "outputs": [],
   "source": []
  },
  {
   "cell_type": "code",
   "execution_count": null,
   "id": "c472da3e",
   "metadata": {},
   "outputs": [],
   "source": []
  },
  {
   "cell_type": "markdown",
   "id": "f2c48861",
   "metadata": {},
   "source": [
    "### [TV, halftime shows, and the Big Game](https://github.com/ptyadana/Data-Science-and-Machine-Learning-Projects-Dojo/tree/master/Project%20-%20TV%2C%20Halftime%20Shows%2C%20and%20the%20Big%20Game)\n",
    "\n",
    "**Whether or not you like football, the Super Bowl is a spectacle. There's a little something for everyone at your Super Bowl party. Drama in the form of blowouts, comebacks, and controversy for the sports fan. There are the ridiculously expensive ads, some hilarious, others gut-wrenching, thought-provoking, and weird.**"
   ]
  },
  {
   "cell_type": "code",
   "execution_count": null,
   "id": "7224b70c",
   "metadata": {},
   "outputs": [],
   "source": []
  },
  {
   "cell_type": "code",
   "execution_count": null,
   "id": "d289bfc8",
   "metadata": {},
   "outputs": [],
   "source": []
  },
  {
   "cell_type": "code",
   "execution_count": null,
   "id": "26172f56",
   "metadata": {},
   "outputs": [],
   "source": []
  },
  {
   "cell_type": "code",
   "execution_count": null,
   "id": "77121029",
   "metadata": {},
   "outputs": [],
   "source": []
  },
  {
   "cell_type": "markdown",
   "id": "eebc9723",
   "metadata": {},
   "source": [
    "### [Data analysis and Data Visualization of Countries's GDP, Life Expectancy comparison across continents, GDP per Capita Relative Growth, Population Reative Growth comparison](https://github.com/ptyadana/DV-Data-Visualization-with-Python)"
   ]
  },
  {
   "cell_type": "markdown",
   "id": "84d21414",
   "metadata": {},
   "source": [
    "## Data Visualization with Python\n",
    "\n",
    "Data analysis and Data Visualization of Countries's GDP, Life Expectancy comparison across continents, GDP per Capita Relative Growth, Population Reative Growth comparison etc using Pandas, Matplotlib.\n",
    "\n",
    "\n",
    "<img src=\"https://raw.githubusercontent.com/ptyadana/DV-Data-Visualization-with-Python/master/06.GDPperCapita_LifeExpectancy_Log.gif\" height=600px width=600px>\n",
    "\n",
    "\n",
    "### Built with\n",
    "+ [pandas](https://pandas.pydata.org/) - fast, powerful, flexible and easy to use open source data analysis and manipulation tool\n",
    "+ [Matplotlib](https://matplotlib.org/) - a comprehensive library for creating static, animated, and interactive visualizations in Python\n",
    "+ [NumPy](https://numpy.org/) - package for scientific computing with Python\n",
    "+ [Jupyter Notebook](https://jupyter.org/) - Notebook system for data analysis\n",
    "\n",
    "\n",
    "### Projects\n",
    "+ 1. Country GDP per Captial Visualization - Line Chart\n",
    "+ 2. Comparing Asia and Europe's GDP per Capita for 2007 Visualization - Histogram\n",
    "+ 3. Comparing Europe and America's Life Expectancy in 1997 Visualization - Histogram\n",
    "+ 4. GDP per Capita Growth comparison in US and China - Timeseries Line Chart\n",
    "+ 5. Population Growth comparison in US and China - Timeseries Line Chart\n",
    "+ 6. Realtionships between GDP per Capita and Life Expectancy - Scatter Plots\n",
    "+ 7. Realtionships between GDP and Life Expectancy in 2007 - Scatter Plots\n",
    "+ 8. Comparison of 10 Most Populous Countries in 2007 - Bar Graphs\n",
    "+ 9. Comparison of GDP for 10 Most Populous Countries in 2007 - Bar Graphs\n",
    "+ 10. Data Aggregration for Obama Approval Rates\n",
    "+ 11. Data Sampling for Obama Approval Rates\n",
    "+ 12. Richest Country on a per-person basic\n",
    "\n"
   ]
  },
  {
   "cell_type": "code",
   "execution_count": null,
   "id": "8e6f6c03",
   "metadata": {},
   "outputs": [],
   "source": [
    "# First of all, import all the necessary libraries"
   ]
  },
  {
   "cell_type": "code",
   "execution_count": null,
   "id": "bd2fece1",
   "metadata": {},
   "outputs": [],
   "source": []
  },
  {
   "cell_type": "code",
   "execution_count": null,
   "id": "91228588",
   "metadata": {},
   "outputs": [],
   "source": []
  },
  {
   "cell_type": "code",
   "execution_count": null,
   "id": "1c31fdc4",
   "metadata": {},
   "outputs": [],
   "source": []
  }
 ],
 "metadata": {
  "kernelspec": {
   "display_name": "Python 3 (ipykernel)",
   "language": "python",
   "name": "python3"
  },
  "language_info": {
   "codemirror_mode": {
    "name": "ipython",
    "version": 3
   },
   "file_extension": ".py",
   "mimetype": "text/x-python",
   "name": "python",
   "nbconvert_exporter": "python",
   "pygments_lexer": "ipython3",
   "version": "3.8.10"
  }
 },
 "nbformat": 4,
 "nbformat_minor": 5
}
