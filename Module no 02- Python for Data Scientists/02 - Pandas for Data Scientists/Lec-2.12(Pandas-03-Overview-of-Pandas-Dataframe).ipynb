{
 "cells": [
  {
   "cell_type": "markdown",
   "id": "4a87b5ef",
   "metadata": {},
   "source": [
    "---   \n",
    "\n",
    "<h1 align=\"center\">Introduction to Data Analyst and Data Science for beginners</h1>\n",
    "<h1 align=\"center\">Lecture no 2.12(Pandas-03)</h1>\n",
    "\n",
    "---\n",
    "<h3><div align=\"right\">Ehtisham Sadiq</div></h3>    "
   ]
  },
  {
   "cell_type": "markdown",
   "id": "19f82705",
   "metadata": {},
   "source": [
    "<img align=\"right\" width=\"400\" height=\"400\"  src=\"images/pandas-apps.png\"  >\n",
    "\n",
    "## _Overview of Pandas Dataframe Data Structure_"
   ]
  },
  {
   "cell_type": "markdown",
   "id": "4c4a18fd",
   "metadata": {},
   "source": [
    "#### Read about Pandas Data Structures: https://pandas.pydata.org/docs/user_guide/dsintro.html#dsintro"
   ]
  },
  {
   "cell_type": "code",
   "execution_count": null,
   "id": "31fc4ed9",
   "metadata": {},
   "outputs": [],
   "source": []
  },
  {
   "cell_type": "markdown",
   "id": "9727124d",
   "metadata": {},
   "source": [
    "## Learning agenda of this notebook\n",
    "1. Anatomy of a Dataframe\n",
    "2. Creating Dataframe\n",
    "    - An empty dataframe\n",
    "    - Two-Dimensional NumPy Array\n",
    "    - Dictionary of Python Lists\n",
    "    - Dictionary of Panda Series\n",
    "2. Attributes of a Dataframe\n",
    "3. Bonus"
   ]
  },
  {
   "cell_type": "code",
   "execution_count": null,
   "id": "c2831c56",
   "metadata": {},
   "outputs": [],
   "source": [
    "# To install this library in Jupyter notebook\n",
    "#import sys\n",
    "#!{sys.executable} -m pip install pandas"
   ]
  },
  {
   "cell_type": "code",
   "execution_count": null,
   "id": "dba905d0",
   "metadata": {},
   "outputs": [],
   "source": [
    "import pandas as pd\n",
    "pd.__version__ , pd.__path__"
   ]
  },
  {
   "cell_type": "code",
   "execution_count": null,
   "id": "2763b921",
   "metadata": {},
   "outputs": [],
   "source": []
  },
  {
   "cell_type": "markdown",
   "id": "99a7442e",
   "metadata": {},
   "source": [
    "<img align=\"right\" width=\"500\" height=\"500\"  src=\"images/dataframe.webp\">\n",
    "\n",
    "\n",
    "## 1. Creating a Dataframe\n",
    "<br><br>\n",
    ">**A Pandas Dataframe is a two-dimensional labeled data structure (like SQL table) with heterogeneously typed columns, having both a row and a column index.**\n",
    "\n",
    "<br><br><br><br>\n",
    "\n",
    "**```pd.DataFrame(data=None, index=None, columns=None, dtype=None)```**\n",
    "- Where,\n",
    "   - `data`: It can be a 2-D NumPy Array, a Dictionary of Python Lists, or a Dictionary of Panda Series (You can also create a dataframe from a file in CSV, Excel, JSON, HTML format or may be from a database table as well).\n",
    "   - `index`: These are the row indices. Will default to RangeIndex (0, 1, 2, ..., n), if index argument is not passed and no indexing information is part of input data.\n",
    "   - `columns`: These are the column indices or labels. Will default to RangeIndex (0, 1, 2, ..., n), if index argument is not passed and no indexing information is part of input data.\n",
    "   - `dtype`: Data type to force. Only a single dtype is allowed. If None, infer."
   ]
  },
  {
   "cell_type": "code",
   "execution_count": null,
   "id": "ff6ca294",
   "metadata": {},
   "outputs": [],
   "source": []
  },
  {
   "cell_type": "markdown",
   "id": "d7273559",
   "metadata": {},
   "source": [
    "### a. Creating an Empty Dataframe"
   ]
  },
  {
   "cell_type": "code",
   "execution_count": 1,
   "id": "7b9f2409",
   "metadata": {},
   "outputs": [
    {
     "name": "stdout",
     "output_type": "stream",
     "text": [
      "Empty DataFrame\n",
      "Columns: []\n",
      "Index: []\n"
     ]
    }
   ],
   "source": [
    "import pandas as pd\n",
    "import numpy as np\n",
    "df = pd.DataFrame()\n",
    "print(df)"
   ]
  },
  {
   "cell_type": "code",
   "execution_count": 2,
   "id": "adf6151f",
   "metadata": {},
   "outputs": [
    {
     "name": "stdout",
     "output_type": "stream",
     "text": [
      "<class 'pandas.core.frame.DataFrame'>\n",
      "Index: 0 entries\n",
      "Empty DataFrame"
     ]
    },
    {
     "data": {
      "text/plain": [
       "(Index([], dtype='object'), Index([], dtype='object'), None)"
      ]
     },
     "execution_count": 2,
     "metadata": {},
     "output_type": "execute_result"
    }
   ],
   "source": [
    "df.columns, df.index, df.info()"
   ]
  },
  {
   "cell_type": "code",
   "execution_count": null,
   "id": "8c5d39df",
   "metadata": {},
   "outputs": [],
   "source": []
  },
  {
   "cell_type": "markdown",
   "id": "bc846b98",
   "metadata": {},
   "source": [
    "### b. Creating a Dataframe from a 2-D NumPy Array"
   ]
  },
  {
   "cell_type": "code",
   "execution_count": 4,
   "id": "677241c7",
   "metadata": {},
   "outputs": [
    {
     "data": {
      "text/plain": [
       "array([[84, 44, 57, 91, 67],\n",
       "       [73, 87, 59, 39, 93],\n",
       "       [53, 21, 26, 80, 68],\n",
       "       [58, 67, 55, 68, 55],\n",
       "       [76, 48, 51, 73, 98],\n",
       "       [30, 19, 36, 48, 39],\n",
       "       [78, 68, 18, 71, 30],\n",
       "       [95, 67, 60, 32, 92],\n",
       "       [12, 66, 50, 93, 96],\n",
       "       [99, 13, 68, 50, 93],\n",
       "       [75, 60, 78, 41, 28],\n",
       "       [40, 41, 64, 64, 63],\n",
       "       [98, 93, 91, 19, 10],\n",
       "       [85, 60, 10, 39, 85],\n",
       "       [47, 55, 76, 18, 77],\n",
       "       [16, 76, 63, 47, 87],\n",
       "       [60, 75, 90, 46, 37],\n",
       "       [83, 16, 89, 91, 82],\n",
       "       [64, 73, 51, 51, 39],\n",
       "       [86, 31, 44, 52, 77]])"
      ]
     },
     "execution_count": 4,
     "metadata": {},
     "output_type": "execute_result"
    }
   ],
   "source": [
    "# creating 1D Array\n",
    "np.random.randint(10,100,(20,5))"
   ]
  },
  {
   "cell_type": "code",
   "execution_count": 5,
   "id": "c002856d",
   "metadata": {},
   "outputs": [
    {
     "name": "stdout",
     "output_type": "stream",
     "text": [
      "Numpy Array:\n",
      " [[98 72 84 50 48]\n",
      " [20 66 99 70 20]\n",
      " [70 15 27 68 99]\n",
      " [60 51 85 70 53]\n",
      " [42 80 48 47 49]\n",
      " [77 35 74 42 44]]\n"
     ]
    }
   ],
   "source": [
    "arr = np.random.randint(10,100, size= (6,5))\n",
    "print(\"Numpy Array:\\n\",arr)\n",
    "\n"
   ]
  },
  {
   "cell_type": "code",
   "execution_count": 6,
   "id": "11c0cb67",
   "metadata": {},
   "outputs": [
    {
     "name": "stdout",
     "output_type": "stream",
     "text": [
      "Pandas Dataframe:\n",
      "\n"
     ]
    },
    {
     "data": {
      "text/html": [
       "<div>\n",
       "<style scoped>\n",
       "    .dataframe tbody tr th:only-of-type {\n",
       "        vertical-align: middle;\n",
       "    }\n",
       "\n",
       "    .dataframe tbody tr th {\n",
       "        vertical-align: top;\n",
       "    }\n",
       "\n",
       "    .dataframe thead th {\n",
       "        text-align: right;\n",
       "    }\n",
       "</style>\n",
       "<table border=\"1\" class=\"dataframe\">\n",
       "  <thead>\n",
       "    <tr style=\"text-align: right;\">\n",
       "      <th></th>\n",
       "      <th>0</th>\n",
       "      <th>1</th>\n",
       "      <th>2</th>\n",
       "      <th>3</th>\n",
       "      <th>4</th>\n",
       "    </tr>\n",
       "  </thead>\n",
       "  <tbody>\n",
       "    <tr>\n",
       "      <th>0</th>\n",
       "      <td>98</td>\n",
       "      <td>72</td>\n",
       "      <td>84</td>\n",
       "      <td>50</td>\n",
       "      <td>48</td>\n",
       "    </tr>\n",
       "    <tr>\n",
       "      <th>1</th>\n",
       "      <td>20</td>\n",
       "      <td>66</td>\n",
       "      <td>99</td>\n",
       "      <td>70</td>\n",
       "      <td>20</td>\n",
       "    </tr>\n",
       "    <tr>\n",
       "      <th>2</th>\n",
       "      <td>70</td>\n",
       "      <td>15</td>\n",
       "      <td>27</td>\n",
       "      <td>68</td>\n",
       "      <td>99</td>\n",
       "    </tr>\n",
       "    <tr>\n",
       "      <th>3</th>\n",
       "      <td>60</td>\n",
       "      <td>51</td>\n",
       "      <td>85</td>\n",
       "      <td>70</td>\n",
       "      <td>53</td>\n",
       "    </tr>\n",
       "    <tr>\n",
       "      <th>4</th>\n",
       "      <td>42</td>\n",
       "      <td>80</td>\n",
       "      <td>48</td>\n",
       "      <td>47</td>\n",
       "      <td>49</td>\n",
       "    </tr>\n",
       "    <tr>\n",
       "      <th>5</th>\n",
       "      <td>77</td>\n",
       "      <td>35</td>\n",
       "      <td>74</td>\n",
       "      <td>42</td>\n",
       "      <td>44</td>\n",
       "    </tr>\n",
       "  </tbody>\n",
       "</table>\n",
       "</div>"
      ],
      "text/plain": [
       "    0   1   2   3   4\n",
       "0  98  72  84  50  48\n",
       "1  20  66  99  70  20\n",
       "2  70  15  27  68  99\n",
       "3  60  51  85  70  53\n",
       "4  42  80  48  47  49\n",
       "5  77  35  74  42  44"
      ]
     },
     "execution_count": 6,
     "metadata": {},
     "output_type": "execute_result"
    }
   ],
   "source": [
    "df = pd.DataFrame(data=arr)\n",
    "print(\"Pandas Dataframe:\\n\")\n",
    "df"
   ]
  },
  {
   "cell_type": "code",
   "execution_count": null,
   "id": "623b70e8",
   "metadata": {},
   "outputs": [],
   "source": []
  },
  {
   "cell_type": "markdown",
   "id": "6810f5a0",
   "metadata": {},
   "source": [
    "- Note that both the row indices and the column labels/indices are implicitly set to numerical values from 0 to n-1, since neither of the two is provided while creating the dataframe object. They are also not considered as part of data in the dataframe.\n",
    "- In majority of the cases the row label is left as default, i.e., 0,1,2,3.... However, the column labels are changed from 0,1,2,3,... to some meaningful values."
   ]
  },
  {
   "cell_type": "code",
   "execution_count": null,
   "id": "354845ed",
   "metadata": {},
   "outputs": [],
   "source": []
  },
  {
   "cell_type": "code",
   "execution_count": 7,
   "id": "e30fb823",
   "metadata": {},
   "outputs": [
    {
     "data": {
      "text/html": [
       "<div>\n",
       "<style scoped>\n",
       "    .dataframe tbody tr th:only-of-type {\n",
       "        vertical-align: middle;\n",
       "    }\n",
       "\n",
       "    .dataframe tbody tr th {\n",
       "        vertical-align: top;\n",
       "    }\n",
       "\n",
       "    .dataframe thead th {\n",
       "        text-align: right;\n",
       "    }\n",
       "</style>\n",
       "<table border=\"1\" class=\"dataframe\">\n",
       "  <thead>\n",
       "    <tr style=\"text-align: right;\">\n",
       "      <th></th>\n",
       "      <th>Col1</th>\n",
       "      <th>Col2</th>\n",
       "      <th>Col3</th>\n",
       "      <th>Col4</th>\n",
       "      <th>Col5</th>\n",
       "    </tr>\n",
       "  </thead>\n",
       "  <tbody>\n",
       "    <tr>\n",
       "      <th>0</th>\n",
       "      <td>98</td>\n",
       "      <td>72</td>\n",
       "      <td>84</td>\n",
       "      <td>50</td>\n",
       "      <td>48</td>\n",
       "    </tr>\n",
       "    <tr>\n",
       "      <th>1</th>\n",
       "      <td>20</td>\n",
       "      <td>66</td>\n",
       "      <td>99</td>\n",
       "      <td>70</td>\n",
       "      <td>20</td>\n",
       "    </tr>\n",
       "    <tr>\n",
       "      <th>2</th>\n",
       "      <td>70</td>\n",
       "      <td>15</td>\n",
       "      <td>27</td>\n",
       "      <td>68</td>\n",
       "      <td>99</td>\n",
       "    </tr>\n",
       "    <tr>\n",
       "      <th>3</th>\n",
       "      <td>60</td>\n",
       "      <td>51</td>\n",
       "      <td>85</td>\n",
       "      <td>70</td>\n",
       "      <td>53</td>\n",
       "    </tr>\n",
       "    <tr>\n",
       "      <th>4</th>\n",
       "      <td>42</td>\n",
       "      <td>80</td>\n",
       "      <td>48</td>\n",
       "      <td>47</td>\n",
       "      <td>49</td>\n",
       "    </tr>\n",
       "    <tr>\n",
       "      <th>5</th>\n",
       "      <td>77</td>\n",
       "      <td>35</td>\n",
       "      <td>74</td>\n",
       "      <td>42</td>\n",
       "      <td>44</td>\n",
       "    </tr>\n",
       "  </tbody>\n",
       "</table>\n",
       "</div>"
      ],
      "text/plain": [
       "   Col1  Col2  Col3  Col4  Col5\n",
       "0    98    72    84    50    48\n",
       "1    20    66    99    70    20\n",
       "2    70    15    27    68    99\n",
       "3    60    51    85    70    53\n",
       "4    42    80    48    47    49\n",
       "5    77    35    74    42    44"
      ]
     },
     "execution_count": 7,
     "metadata": {},
     "output_type": "execute_result"
    }
   ],
   "source": [
    "# Let us name the column labels of our choice, while creating it\n",
    "col_labels=['Col1', 'Col2', 'Col3', 'Col4', 'Col5']\n",
    "df = pd.DataFrame(data=arr, columns=col_labels)\n",
    "df"
   ]
  },
  {
   "cell_type": "code",
   "execution_count": null,
   "id": "f362c1df",
   "metadata": {},
   "outputs": [],
   "source": []
  },
  {
   "cell_type": "code",
   "execution_count": 8,
   "id": "faace9e7",
   "metadata": {},
   "outputs": [
    {
     "data": {
      "text/html": [
       "<div>\n",
       "<style scoped>\n",
       "    .dataframe tbody tr th:only-of-type {\n",
       "        vertical-align: middle;\n",
       "    }\n",
       "\n",
       "    .dataframe tbody tr th {\n",
       "        vertical-align: top;\n",
       "    }\n",
       "\n",
       "    .dataframe thead th {\n",
       "        text-align: right;\n",
       "    }\n",
       "</style>\n",
       "<table border=\"1\" class=\"dataframe\">\n",
       "  <thead>\n",
       "    <tr style=\"text-align: right;\">\n",
       "      <th></th>\n",
       "      <th>0</th>\n",
       "      <th>1</th>\n",
       "      <th>2</th>\n",
       "      <th>3</th>\n",
       "      <th>4</th>\n",
       "    </tr>\n",
       "  </thead>\n",
       "  <tbody>\n",
       "    <tr>\n",
       "      <th>Row0</th>\n",
       "      <td>98</td>\n",
       "      <td>72</td>\n",
       "      <td>84</td>\n",
       "      <td>50</td>\n",
       "      <td>48</td>\n",
       "    </tr>\n",
       "    <tr>\n",
       "      <th>Row1</th>\n",
       "      <td>20</td>\n",
       "      <td>66</td>\n",
       "      <td>99</td>\n",
       "      <td>70</td>\n",
       "      <td>20</td>\n",
       "    </tr>\n",
       "    <tr>\n",
       "      <th>Row2</th>\n",
       "      <td>70</td>\n",
       "      <td>15</td>\n",
       "      <td>27</td>\n",
       "      <td>68</td>\n",
       "      <td>99</td>\n",
       "    </tr>\n",
       "    <tr>\n",
       "      <th>Row3</th>\n",
       "      <td>60</td>\n",
       "      <td>51</td>\n",
       "      <td>85</td>\n",
       "      <td>70</td>\n",
       "      <td>53</td>\n",
       "    </tr>\n",
       "    <tr>\n",
       "      <th>Row4</th>\n",
       "      <td>42</td>\n",
       "      <td>80</td>\n",
       "      <td>48</td>\n",
       "      <td>47</td>\n",
       "      <td>49</td>\n",
       "    </tr>\n",
       "    <tr>\n",
       "      <th>Row5</th>\n",
       "      <td>77</td>\n",
       "      <td>35</td>\n",
       "      <td>74</td>\n",
       "      <td>42</td>\n",
       "      <td>44</td>\n",
       "    </tr>\n",
       "  </tbody>\n",
       "</table>\n",
       "</div>"
      ],
      "text/plain": [
       "       0   1   2   3   4\n",
       "Row0  98  72  84  50  48\n",
       "Row1  20  66  99  70  20\n",
       "Row2  70  15  27  68  99\n",
       "Row3  60  51  85  70  53\n",
       "Row4  42  80  48  47  49\n",
       "Row5  77  35  74  42  44"
      ]
     },
     "execution_count": 8,
     "metadata": {},
     "output_type": "execute_result"
    }
   ],
   "source": [
    "# Let us name the row labels of our choice, while creating it\n",
    "df = pd.DataFrame(data=arr, index=['Row0', 'Row1', 'Row2', 'Row3', 'Row4', 'Row5'])\n",
    "df"
   ]
  },
  {
   "cell_type": "code",
   "execution_count": null,
   "id": "1c9c67c7",
   "metadata": {},
   "outputs": [],
   "source": []
  },
  {
   "cell_type": "code",
   "execution_count": 9,
   "id": "1ea2973f",
   "metadata": {},
   "outputs": [
    {
     "data": {
      "text/html": [
       "<div>\n",
       "<style scoped>\n",
       "    .dataframe tbody tr th:only-of-type {\n",
       "        vertical-align: middle;\n",
       "    }\n",
       "\n",
       "    .dataframe tbody tr th {\n",
       "        vertical-align: top;\n",
       "    }\n",
       "\n",
       "    .dataframe thead th {\n",
       "        text-align: right;\n",
       "    }\n",
       "</style>\n",
       "<table border=\"1\" class=\"dataframe\">\n",
       "  <thead>\n",
       "    <tr style=\"text-align: right;\">\n",
       "      <th></th>\n",
       "      <th>Col0</th>\n",
       "      <th>Col1</th>\n",
       "      <th>Col2</th>\n",
       "      <th>Col3</th>\n",
       "      <th>Col4</th>\n",
       "    </tr>\n",
       "  </thead>\n",
       "  <tbody>\n",
       "    <tr>\n",
       "      <th>Row0</th>\n",
       "      <td>98</td>\n",
       "      <td>72</td>\n",
       "      <td>84</td>\n",
       "      <td>50</td>\n",
       "      <td>48</td>\n",
       "    </tr>\n",
       "    <tr>\n",
       "      <th>Row1</th>\n",
       "      <td>20</td>\n",
       "      <td>66</td>\n",
       "      <td>99</td>\n",
       "      <td>70</td>\n",
       "      <td>20</td>\n",
       "    </tr>\n",
       "    <tr>\n",
       "      <th>Row2</th>\n",
       "      <td>70</td>\n",
       "      <td>15</td>\n",
       "      <td>27</td>\n",
       "      <td>68</td>\n",
       "      <td>99</td>\n",
       "    </tr>\n",
       "    <tr>\n",
       "      <th>Row3</th>\n",
       "      <td>60</td>\n",
       "      <td>51</td>\n",
       "      <td>85</td>\n",
       "      <td>70</td>\n",
       "      <td>53</td>\n",
       "    </tr>\n",
       "    <tr>\n",
       "      <th>Row4</th>\n",
       "      <td>42</td>\n",
       "      <td>80</td>\n",
       "      <td>48</td>\n",
       "      <td>47</td>\n",
       "      <td>49</td>\n",
       "    </tr>\n",
       "    <tr>\n",
       "      <th>Row5</th>\n",
       "      <td>77</td>\n",
       "      <td>35</td>\n",
       "      <td>74</td>\n",
       "      <td>42</td>\n",
       "      <td>44</td>\n",
       "    </tr>\n",
       "  </tbody>\n",
       "</table>\n",
       "</div>"
      ],
      "text/plain": [
       "      Col0  Col1  Col2  Col3  Col4\n",
       "Row0    98    72    84    50    48\n",
       "Row1    20    66    99    70    20\n",
       "Row2    70    15    27    68    99\n",
       "Row3    60    51    85    70    53\n",
       "Row4    42    80    48    47    49\n",
       "Row5    77    35    74    42    44"
      ]
     },
     "execution_count": 9,
     "metadata": {},
     "output_type": "execute_result"
    }
   ],
   "source": [
    "# Let us name the both row labels and column labels to strings of our choice, while creating it\n",
    "row_labels = ['Row0', 'Row1', 'Row2', 'Row3', 'Row4', 'Row5']\n",
    "col_labels = ['Col0', 'Col1', 'Col2', 'Col3', 'Col4']\n",
    "df = pd.DataFrame(data=arr, index=row_labels, columns=col_labels)\n",
    "df"
   ]
  },
  {
   "cell_type": "markdown",
   "id": "3b79c790",
   "metadata": {},
   "source": [
    "- You can do this later as well, i.e., after the dataframe has been created with default indices.\n",
    "- This is done by assigning a list of labels/values to `index` and `columns` attributes of a dataframe object."
   ]
  },
  {
   "cell_type": "code",
   "execution_count": null,
   "id": "ef4c1820",
   "metadata": {},
   "outputs": [],
   "source": []
  },
  {
   "cell_type": "code",
   "execution_count": 10,
   "id": "2805dd6e",
   "metadata": {},
   "outputs": [
    {
     "data": {
      "text/html": [
       "<div>\n",
       "<style scoped>\n",
       "    .dataframe tbody tr th:only-of-type {\n",
       "        vertical-align: middle;\n",
       "    }\n",
       "\n",
       "    .dataframe tbody tr th {\n",
       "        vertical-align: top;\n",
       "    }\n",
       "\n",
       "    .dataframe thead th {\n",
       "        text-align: right;\n",
       "    }\n",
       "</style>\n",
       "<table border=\"1\" class=\"dataframe\">\n",
       "  <thead>\n",
       "    <tr style=\"text-align: right;\">\n",
       "      <th></th>\n",
       "      <th>0</th>\n",
       "      <th>1</th>\n",
       "      <th>2</th>\n",
       "      <th>3</th>\n",
       "      <th>4</th>\n",
       "    </tr>\n",
       "  </thead>\n",
       "  <tbody>\n",
       "    <tr>\n",
       "      <th>0</th>\n",
       "      <td>89</td>\n",
       "      <td>11</td>\n",
       "      <td>26</td>\n",
       "      <td>15</td>\n",
       "      <td>87</td>\n",
       "    </tr>\n",
       "    <tr>\n",
       "      <th>1</th>\n",
       "      <td>98</td>\n",
       "      <td>85</td>\n",
       "      <td>90</td>\n",
       "      <td>97</td>\n",
       "      <td>83</td>\n",
       "    </tr>\n",
       "    <tr>\n",
       "      <th>2</th>\n",
       "      <td>47</td>\n",
       "      <td>33</td>\n",
       "      <td>85</td>\n",
       "      <td>75</td>\n",
       "      <td>65</td>\n",
       "    </tr>\n",
       "    <tr>\n",
       "      <th>3</th>\n",
       "      <td>48</td>\n",
       "      <td>31</td>\n",
       "      <td>30</td>\n",
       "      <td>13</td>\n",
       "      <td>65</td>\n",
       "    </tr>\n",
       "    <tr>\n",
       "      <th>4</th>\n",
       "      <td>39</td>\n",
       "      <td>19</td>\n",
       "      <td>29</td>\n",
       "      <td>16</td>\n",
       "      <td>82</td>\n",
       "    </tr>\n",
       "    <tr>\n",
       "      <th>5</th>\n",
       "      <td>94</td>\n",
       "      <td>52</td>\n",
       "      <td>99</td>\n",
       "      <td>72</td>\n",
       "      <td>59</td>\n",
       "    </tr>\n",
       "  </tbody>\n",
       "</table>\n",
       "</div>"
      ],
      "text/plain": [
       "    0   1   2   3   4\n",
       "0  89  11  26  15  87\n",
       "1  98  85  90  97  83\n",
       "2  47  33  85  75  65\n",
       "3  48  31  30  13  65\n",
       "4  39  19  29  16  82\n",
       "5  94  52  99  72  59"
      ]
     },
     "execution_count": 10,
     "metadata": {},
     "output_type": "execute_result"
    }
   ],
   "source": [
    "arr = np.random.randint(10,100, size= (6,5))\n",
    "df = pd.DataFrame(data=arr)\n",
    "df"
   ]
  },
  {
   "cell_type": "code",
   "execution_count": 11,
   "id": "0c726410",
   "metadata": {},
   "outputs": [],
   "source": [
    "row_labels = ['Row0', 'Row1', 'Row2', 'Row3', 'Row4', 'Row5']\n",
    "col_labels = ['Col0', 'Col1', 'Col2', 'Col3', 'Col4']\n"
   ]
  },
  {
   "cell_type": "code",
   "execution_count": 13,
   "id": "3ebcbd2f",
   "metadata": {},
   "outputs": [
    {
     "data": {
      "text/html": [
       "<div>\n",
       "<style scoped>\n",
       "    .dataframe tbody tr th:only-of-type {\n",
       "        vertical-align: middle;\n",
       "    }\n",
       "\n",
       "    .dataframe tbody tr th {\n",
       "        vertical-align: top;\n",
       "    }\n",
       "\n",
       "    .dataframe thead th {\n",
       "        text-align: right;\n",
       "    }\n",
       "</style>\n",
       "<table border=\"1\" class=\"dataframe\">\n",
       "  <thead>\n",
       "    <tr style=\"text-align: right;\">\n",
       "      <th></th>\n",
       "      <th>0</th>\n",
       "      <th>1</th>\n",
       "      <th>2</th>\n",
       "      <th>3</th>\n",
       "      <th>4</th>\n",
       "    </tr>\n",
       "  </thead>\n",
       "  <tbody>\n",
       "    <tr>\n",
       "      <th>Row0</th>\n",
       "      <td>89</td>\n",
       "      <td>11</td>\n",
       "      <td>26</td>\n",
       "      <td>15</td>\n",
       "      <td>87</td>\n",
       "    </tr>\n",
       "    <tr>\n",
       "      <th>Row1</th>\n",
       "      <td>98</td>\n",
       "      <td>85</td>\n",
       "      <td>90</td>\n",
       "      <td>97</td>\n",
       "      <td>83</td>\n",
       "    </tr>\n",
       "    <tr>\n",
       "      <th>Row2</th>\n",
       "      <td>47</td>\n",
       "      <td>33</td>\n",
       "      <td>85</td>\n",
       "      <td>75</td>\n",
       "      <td>65</td>\n",
       "    </tr>\n",
       "    <tr>\n",
       "      <th>Row3</th>\n",
       "      <td>48</td>\n",
       "      <td>31</td>\n",
       "      <td>30</td>\n",
       "      <td>13</td>\n",
       "      <td>65</td>\n",
       "    </tr>\n",
       "    <tr>\n",
       "      <th>Row4</th>\n",
       "      <td>39</td>\n",
       "      <td>19</td>\n",
       "      <td>29</td>\n",
       "      <td>16</td>\n",
       "      <td>82</td>\n",
       "    </tr>\n",
       "    <tr>\n",
       "      <th>Row5</th>\n",
       "      <td>94</td>\n",
       "      <td>52</td>\n",
       "      <td>99</td>\n",
       "      <td>72</td>\n",
       "      <td>59</td>\n",
       "    </tr>\n",
       "  </tbody>\n",
       "</table>\n",
       "</div>"
      ],
      "text/plain": [
       "       0   1   2   3   4\n",
       "Row0  89  11  26  15  87\n",
       "Row1  98  85  90  97  83\n",
       "Row2  47  33  85  75  65\n",
       "Row3  48  31  30  13  65\n",
       "Row4  39  19  29  16  82\n",
       "Row5  94  52  99  72  59"
      ]
     },
     "execution_count": 13,
     "metadata": {},
     "output_type": "execute_result"
    }
   ],
   "source": [
    "df.index = row_labels\n",
    "df"
   ]
  },
  {
   "cell_type": "code",
   "execution_count": 14,
   "id": "5009a4b0",
   "metadata": {},
   "outputs": [
    {
     "data": {
      "text/html": [
       "<div>\n",
       "<style scoped>\n",
       "    .dataframe tbody tr th:only-of-type {\n",
       "        vertical-align: middle;\n",
       "    }\n",
       "\n",
       "    .dataframe tbody tr th {\n",
       "        vertical-align: top;\n",
       "    }\n",
       "\n",
       "    .dataframe thead th {\n",
       "        text-align: right;\n",
       "    }\n",
       "</style>\n",
       "<table border=\"1\" class=\"dataframe\">\n",
       "  <thead>\n",
       "    <tr style=\"text-align: right;\">\n",
       "      <th></th>\n",
       "      <th>Col0</th>\n",
       "      <th>Col1</th>\n",
       "      <th>Col2</th>\n",
       "      <th>Col3</th>\n",
       "      <th>Col4</th>\n",
       "    </tr>\n",
       "  </thead>\n",
       "  <tbody>\n",
       "    <tr>\n",
       "      <th>Row0</th>\n",
       "      <td>89</td>\n",
       "      <td>11</td>\n",
       "      <td>26</td>\n",
       "      <td>15</td>\n",
       "      <td>87</td>\n",
       "    </tr>\n",
       "    <tr>\n",
       "      <th>Row1</th>\n",
       "      <td>98</td>\n",
       "      <td>85</td>\n",
       "      <td>90</td>\n",
       "      <td>97</td>\n",
       "      <td>83</td>\n",
       "    </tr>\n",
       "    <tr>\n",
       "      <th>Row2</th>\n",
       "      <td>47</td>\n",
       "      <td>33</td>\n",
       "      <td>85</td>\n",
       "      <td>75</td>\n",
       "      <td>65</td>\n",
       "    </tr>\n",
       "    <tr>\n",
       "      <th>Row3</th>\n",
       "      <td>48</td>\n",
       "      <td>31</td>\n",
       "      <td>30</td>\n",
       "      <td>13</td>\n",
       "      <td>65</td>\n",
       "    </tr>\n",
       "    <tr>\n",
       "      <th>Row4</th>\n",
       "      <td>39</td>\n",
       "      <td>19</td>\n",
       "      <td>29</td>\n",
       "      <td>16</td>\n",
       "      <td>82</td>\n",
       "    </tr>\n",
       "    <tr>\n",
       "      <th>Row5</th>\n",
       "      <td>94</td>\n",
       "      <td>52</td>\n",
       "      <td>99</td>\n",
       "      <td>72</td>\n",
       "      <td>59</td>\n",
       "    </tr>\n",
       "  </tbody>\n",
       "</table>\n",
       "</div>"
      ],
      "text/plain": [
       "      Col0  Col1  Col2  Col3  Col4\n",
       "Row0    89    11    26    15    87\n",
       "Row1    98    85    90    97    83\n",
       "Row2    47    33    85    75    65\n",
       "Row3    48    31    30    13    65\n",
       "Row4    39    19    29    16    82\n",
       "Row5    94    52    99    72    59"
      ]
     },
     "execution_count": 14,
     "metadata": {},
     "output_type": "execute_result"
    }
   ],
   "source": [
    "df.columns = col_labels\n",
    "df"
   ]
  },
  {
   "cell_type": "code",
   "execution_count": null,
   "id": "14a7ea81",
   "metadata": {},
   "outputs": [],
   "source": []
  },
  {
   "cell_type": "markdown",
   "id": "4d78c91b",
   "metadata": {},
   "source": [
    "### c. Creating a Dataframe from a Dictionary of Python Lists\n",
    "- You can create a dataframe object from a dictionary of Python Lists \n",
    "    - The dictionary `Keys` become the column names, and \n",
    "    - The dictionary `Values` are lists/arrays containing data for the respective columns."
   ]
  },
  {
   "cell_type": "code",
   "execution_count": 182,
   "id": "4f4c0cc7",
   "metadata": {},
   "outputs": [
    {
     "data": {
      "text/plain": [
       "{'name': ['Ehtisham', 'Ali', 'Ayesha', 'Dua', 'Khubaib', 'Adeen'],\n",
       " 'age': [21, 20, 18, 17, 12, 10],\n",
       " 'address': ['Lahore', 'Karachi', 'Lahore', 'Islamabad', 'Kakul', 'Karachi'],\n",
       " 'cell': ['321-123', '320-431', '321-478', '324-446', '321-967', '320-678'],\n",
       " 'bg': ['B+', 'A-', 'B+', 'O-', 'A-', 'B+']}"
      ]
     },
     "execution_count": 182,
     "metadata": {},
     "output_type": "execute_result"
    }
   ],
   "source": [
    "people = {\n",
    "    \"name\" : [\"Ehtisham\", \"Ali\", \"Ayesha\", \"Dua\", \"Khubaib\", \"Adeen\"],\n",
    "    \"age\" : [21, 20, 18, 17, 12, 10],\n",
    "    \"address\": [\"Lahore\", \"Karachi\", \"Lahore\", \"Islamabad\", \"Kakul\", \"Karachi\"],\n",
    "    \"cell\" : [\"321-123\", \"320-431\", \"321-478\", \"324-446\", \"321-967\", \"320-678\"],\n",
    "    \"bg\": [\"B+\", \"A-\", \"B+\", \"O-\", \"A-\", \"B+\"]\n",
    "}\n",
    "people"
   ]
  },
  {
   "cell_type": "code",
   "execution_count": 183,
   "id": "daea6fce",
   "metadata": {},
   "outputs": [
    {
     "data": {
      "text/html": [
       "<div>\n",
       "<style scoped>\n",
       "    .dataframe tbody tr th:only-of-type {\n",
       "        vertical-align: middle;\n",
       "    }\n",
       "\n",
       "    .dataframe tbody tr th {\n",
       "        vertical-align: top;\n",
       "    }\n",
       "\n",
       "    .dataframe thead th {\n",
       "        text-align: right;\n",
       "    }\n",
       "</style>\n",
       "<table border=\"1\" class=\"dataframe\">\n",
       "  <thead>\n",
       "    <tr style=\"text-align: right;\">\n",
       "      <th></th>\n",
       "      <th>name</th>\n",
       "      <th>age</th>\n",
       "      <th>address</th>\n",
       "      <th>cell</th>\n",
       "      <th>bg</th>\n",
       "    </tr>\n",
       "  </thead>\n",
       "  <tbody>\n",
       "    <tr>\n",
       "      <th>0</th>\n",
       "      <td>Ehtisham</td>\n",
       "      <td>21</td>\n",
       "      <td>Lahore</td>\n",
       "      <td>321-123</td>\n",
       "      <td>B+</td>\n",
       "    </tr>\n",
       "    <tr>\n",
       "      <th>1</th>\n",
       "      <td>Ali</td>\n",
       "      <td>20</td>\n",
       "      <td>Karachi</td>\n",
       "      <td>320-431</td>\n",
       "      <td>A-</td>\n",
       "    </tr>\n",
       "    <tr>\n",
       "      <th>2</th>\n",
       "      <td>Ayesha</td>\n",
       "      <td>18</td>\n",
       "      <td>Lahore</td>\n",
       "      <td>321-478</td>\n",
       "      <td>B+</td>\n",
       "    </tr>\n",
       "    <tr>\n",
       "      <th>3</th>\n",
       "      <td>Dua</td>\n",
       "      <td>17</td>\n",
       "      <td>Islamabad</td>\n",
       "      <td>324-446</td>\n",
       "      <td>O-</td>\n",
       "    </tr>\n",
       "    <tr>\n",
       "      <th>4</th>\n",
       "      <td>Khubaib</td>\n",
       "      <td>12</td>\n",
       "      <td>Kakul</td>\n",
       "      <td>321-967</td>\n",
       "      <td>A-</td>\n",
       "    </tr>\n",
       "    <tr>\n",
       "      <th>5</th>\n",
       "      <td>Adeen</td>\n",
       "      <td>10</td>\n",
       "      <td>Karachi</td>\n",
       "      <td>320-678</td>\n",
       "      <td>B+</td>\n",
       "    </tr>\n",
       "  </tbody>\n",
       "</table>\n",
       "</div>"
      ],
      "text/plain": [
       "       name  age    address     cell  bg\n",
       "0  Ehtisham   21     Lahore  321-123  B+\n",
       "1       Ali   20    Karachi  320-431  A-\n",
       "2    Ayesha   18     Lahore  321-478  B+\n",
       "3       Dua   17  Islamabad  324-446  O-\n",
       "4   Khubaib   12      Kakul  321-967  A-\n",
       "5     Adeen   10    Karachi  320-678  B+"
      ]
     },
     "execution_count": 183,
     "metadata": {},
     "output_type": "execute_result"
    }
   ],
   "source": [
    "# Pass this Dictionary of Python Lists to pd.Dataframe()\n",
    "df_people = pd.DataFrame(data=people)\n",
    "df_people"
   ]
  },
  {
   "cell_type": "code",
   "execution_count": 184,
   "id": "df27bec1",
   "metadata": {},
   "outputs": [],
   "source": [
    "df_people.to_html('datasets/df_people.html')"
   ]
  },
  {
   "cell_type": "code",
   "execution_count": null,
   "id": "2042f58a",
   "metadata": {},
   "outputs": [],
   "source": []
  },
  {
   "cell_type": "code",
   "execution_count": null,
   "id": "212fb1f1",
   "metadata": {},
   "outputs": [],
   "source": []
  },
  {
   "cell_type": "markdown",
   "id": "c7ddb8c1",
   "metadata": {},
   "source": [
    "- Note that column labels are set as per the keys inside the dictionary object, while the row labels/indices are set to default numerical values.\n",
    "- You can set the row indices while creating the dataframe by passing the index argument to `pd.DataFrame()` method, or can do that later by assigning the new values to the `index` and `columns` attributes of a dataframe object."
   ]
  },
  {
   "cell_type": "code",
   "execution_count": 17,
   "id": "933c79a6",
   "metadata": {},
   "outputs": [
    {
     "data": {
      "text/html": [
       "<div>\n",
       "<style scoped>\n",
       "    .dataframe tbody tr th:only-of-type {\n",
       "        vertical-align: middle;\n",
       "    }\n",
       "\n",
       "    .dataframe tbody tr th {\n",
       "        vertical-align: top;\n",
       "    }\n",
       "\n",
       "    .dataframe thead th {\n",
       "        text-align: right;\n",
       "    }\n",
       "</style>\n",
       "<table border=\"1\" class=\"dataframe\">\n",
       "  <thead>\n",
       "    <tr style=\"text-align: right;\">\n",
       "      <th></th>\n",
       "      <th>name</th>\n",
       "      <th>age</th>\n",
       "      <th>address</th>\n",
       "      <th>cell</th>\n",
       "      <th>bg</th>\n",
       "    </tr>\n",
       "  </thead>\n",
       "  <tbody>\n",
       "    <tr>\n",
       "      <th>MS01</th>\n",
       "      <td>Ehtisham</td>\n",
       "      <td>21</td>\n",
       "      <td>Lahore</td>\n",
       "      <td>321-123</td>\n",
       "      <td>B+</td>\n",
       "    </tr>\n",
       "    <tr>\n",
       "      <th>MS02</th>\n",
       "      <td>Ali</td>\n",
       "      <td>20</td>\n",
       "      <td>Karachi</td>\n",
       "      <td>320-431</td>\n",
       "      <td>A-</td>\n",
       "    </tr>\n",
       "    <tr>\n",
       "      <th>MS03</th>\n",
       "      <td>Ayesha</td>\n",
       "      <td>18</td>\n",
       "      <td>Lahore</td>\n",
       "      <td>321-478</td>\n",
       "      <td>B+</td>\n",
       "    </tr>\n",
       "    <tr>\n",
       "      <th>MS04</th>\n",
       "      <td>Dua</td>\n",
       "      <td>17</td>\n",
       "      <td>Islamabad</td>\n",
       "      <td>324-446</td>\n",
       "      <td>O-</td>\n",
       "    </tr>\n",
       "    <tr>\n",
       "      <th>MS05</th>\n",
       "      <td>Khubaib</td>\n",
       "      <td>12</td>\n",
       "      <td>Kakul</td>\n",
       "      <td>321-967</td>\n",
       "      <td>A-</td>\n",
       "    </tr>\n",
       "    <tr>\n",
       "      <th>MS06</th>\n",
       "      <td>Adeen</td>\n",
       "      <td>10</td>\n",
       "      <td>Karachi</td>\n",
       "      <td>320-678</td>\n",
       "      <td>B+</td>\n",
       "    </tr>\n",
       "  </tbody>\n",
       "</table>\n",
       "</div>"
      ],
      "text/plain": [
       "          name  age    address     cell  bg\n",
       "MS01  Ehtisham   21     Lahore  321-123  B+\n",
       "MS02       Ali   20    Karachi  320-431  A-\n",
       "MS03    Ayesha   18     Lahore  321-478  B+\n",
       "MS04       Dua   17  Islamabad  324-446  O-\n",
       "MS05   Khubaib   12      Kakul  321-967  A-\n",
       "MS06     Adeen   10    Karachi  320-678  B+"
      ]
     },
     "execution_count": 17,
     "metadata": {},
     "output_type": "execute_result"
    }
   ],
   "source": [
    "# Let us change the row labels of above dataframe\n",
    "row_labels = ['MS01', 'MS02', 'MS03', 'MS04', 'MS05', 'MS06']\n",
    "df_people.index = row_labels\n",
    "df_people"
   ]
  },
  {
   "cell_type": "code",
   "execution_count": null,
   "id": "7d5591a0",
   "metadata": {},
   "outputs": [],
   "source": []
  },
  {
   "cell_type": "markdown",
   "id": "dfdad357",
   "metadata": {},
   "source": [
    "### d. Creating a Dataframe from Dictionary of Panda Series\n",
    "One can think of a dataframe as a dictionary of Panda Series: \n",
    "- `Keys` are column names, and \n",
    "- `Values` are Series object for the respective columns."
   ]
  },
  {
   "cell_type": "code",
   "execution_count": 18,
   "id": "9fa00f68",
   "metadata": {
    "scrolled": true
   },
   "outputs": [
    {
     "data": {
      "text/plain": [
       "{'name': 0    Ehtisham\n",
       " 1         Ali\n",
       " 2      Ayesha\n",
       " dtype: object,\n",
       " 'age': 0    21\n",
       " 1    19\n",
       " 2    16\n",
       " dtype: int64,\n",
       " 'addr': 0       Lahore\n",
       " 1    Islamabad\n",
       " 2      Karachi\n",
       " dtype: object}"
      ]
     },
     "execution_count": 18,
     "metadata": {},
     "output_type": "execute_result"
    }
   ],
   "source": [
    "dict1 = {\n",
    "    \"name\": pd.Series(['Ehtisham', 'Ali', 'Ayesha']),\n",
    "    \"age\": pd.Series([21, 19, 16]),\n",
    "    \"addr\": pd.Series(['Lahore', 'Islamabad','Karachi']),\n",
    "}a\n",
    "dict1"
   ]
  },
  {
   "cell_type": "code",
   "execution_count": 19,
   "id": "762389f9",
   "metadata": {
    "scrolled": true
   },
   "outputs": [
    {
     "data": {
      "text/html": [
       "<div>\n",
       "<style scoped>\n",
       "    .dataframe tbody tr th:only-of-type {\n",
       "        vertical-align: middle;\n",
       "    }\n",
       "\n",
       "    .dataframe tbody tr th {\n",
       "        vertical-align: top;\n",
       "    }\n",
       "\n",
       "    .dataframe thead th {\n",
       "        text-align: right;\n",
       "    }\n",
       "</style>\n",
       "<table border=\"1\" class=\"dataframe\">\n",
       "  <thead>\n",
       "    <tr style=\"text-align: right;\">\n",
       "      <th></th>\n",
       "      <th>name</th>\n",
       "      <th>age</th>\n",
       "      <th>addr</th>\n",
       "    </tr>\n",
       "  </thead>\n",
       "  <tbody>\n",
       "    <tr>\n",
       "      <th>0</th>\n",
       "      <td>Ehtisham</td>\n",
       "      <td>21</td>\n",
       "      <td>Lahore</td>\n",
       "    </tr>\n",
       "    <tr>\n",
       "      <th>1</th>\n",
       "      <td>Ali</td>\n",
       "      <td>19</td>\n",
       "      <td>Islamabad</td>\n",
       "    </tr>\n",
       "    <tr>\n",
       "      <th>2</th>\n",
       "      <td>Ayesha</td>\n",
       "      <td>16</td>\n",
       "      <td>Karachi</td>\n",
       "    </tr>\n",
       "  </tbody>\n",
       "</table>\n",
       "</div>"
      ],
      "text/plain": [
       "       name  age       addr\n",
       "0  Ehtisham   21     Lahore\n",
       "1       Ali   19  Islamabad\n",
       "2    Ayesha   16    Karachi"
      ]
     },
     "execution_count": 19,
     "metadata": {},
     "output_type": "execute_result"
    }
   ],
   "source": [
    "pd.DataFrame(dict1)"
   ]
  },
  {
   "cell_type": "code",
   "execution_count": null,
   "id": "73501ab6",
   "metadata": {},
   "outputs": [],
   "source": []
  },
  {
   "cell_type": "markdown",
   "id": "c9d92bf4",
   "metadata": {},
   "source": [
    ">Note from the above output, that every series object becomes the data of the appropriate column. Moreover, the keys of the dictionary become the column labels."
   ]
  },
  {
   "cell_type": "code",
   "execution_count": 24,
   "id": "b0671626",
   "metadata": {},
   "outputs": [
    {
     "data": {
      "text/html": [
       "<div>\n",
       "<style scoped>\n",
       "    .dataframe tbody tr th:only-of-type {\n",
       "        vertical-align: middle;\n",
       "    }\n",
       "\n",
       "    .dataframe tbody tr th {\n",
       "        vertical-align: top;\n",
       "    }\n",
       "\n",
       "    .dataframe thead th {\n",
       "        text-align: right;\n",
       "    }\n",
       "</style>\n",
       "<table border=\"1\" class=\"dataframe\">\n",
       "  <thead>\n",
       "    <tr style=\"text-align: right;\">\n",
       "      <th></th>\n",
       "      <th>name</th>\n",
       "      <th>age</th>\n",
       "      <th>addr</th>\n",
       "    </tr>\n",
       "  </thead>\n",
       "  <tbody>\n",
       "    <tr>\n",
       "      <th>0</th>\n",
       "      <td>Ehtisham</td>\n",
       "      <td>21.0</td>\n",
       "      <td>Lahore</td>\n",
       "    </tr>\n",
       "    <tr>\n",
       "      <th>1</th>\n",
       "      <td>Ali</td>\n",
       "      <td>19.0</td>\n",
       "      <td>Islamabad</td>\n",
       "    </tr>\n",
       "    <tr>\n",
       "      <th>2</th>\n",
       "      <td>Ayesha</td>\n",
       "      <td>16.0</td>\n",
       "      <td>Karachi</td>\n",
       "    </tr>\n",
       "    <tr>\n",
       "      <th>3</th>\n",
       "      <td>Dua</td>\n",
       "      <td>NaN</td>\n",
       "      <td>NaN</td>\n",
       "    </tr>\n",
       "  </tbody>\n",
       "</table>\n",
       "</div>"
      ],
      "text/plain": [
       "       name   age       addr\n",
       "0  Ehtisham  21.0     Lahore\n",
       "1       Ali  19.0  Islamabad\n",
       "2    Ayesha  16.0    Karachi\n",
       "3       Dua   NaN        NaN"
      ]
     },
     "execution_count": 24,
     "metadata": {},
     "output_type": "execute_result"
    }
   ],
   "source": [
    "# if elements of series are differnt\n",
    "dict1 = {\n",
    "    \"name\": pd.Series(['Ehtisham', 'Ali', 'Ayesha','Dua']),\n",
    "    \"age\": pd.Series([21, 19, 16]),\n",
    "    \"addr\": pd.Series(['Lahore', 'Islamabad','Karachi']),\n",
    "}\n",
    "pd.DataFrame(dict1)"
   ]
  },
  {
   "cell_type": "code",
   "execution_count": null,
   "id": "9dfd919f",
   "metadata": {},
   "outputs": [],
   "source": []
  },
  {
   "cell_type": "code",
   "execution_count": null,
   "id": "fbd41d29",
   "metadata": {},
   "outputs": [],
   "source": []
  },
  {
   "cell_type": "code",
   "execution_count": 22,
   "id": "3984364d",
   "metadata": {},
   "outputs": [
    {
     "data": {
      "text/html": [
       "<div>\n",
       "<style scoped>\n",
       "    .dataframe tbody tr th:only-of-type {\n",
       "        vertical-align: middle;\n",
       "    }\n",
       "\n",
       "    .dataframe tbody tr th {\n",
       "        vertical-align: top;\n",
       "    }\n",
       "\n",
       "    .dataframe thead th {\n",
       "        text-align: right;\n",
       "    }\n",
       "</style>\n",
       "<table border=\"1\" class=\"dataframe\">\n",
       "  <thead>\n",
       "    <tr style=\"text-align: right;\">\n",
       "      <th></th>\n",
       "      <th>name</th>\n",
       "      <th>age</th>\n",
       "      <th>addr</th>\n",
       "    </tr>\n",
       "  </thead>\n",
       "  <tbody>\n",
       "    <tr>\n",
       "      <th>a</th>\n",
       "      <td>Ehtisham</td>\n",
       "      <td>21.0</td>\n",
       "      <td>Lahore</td>\n",
       "    </tr>\n",
       "    <tr>\n",
       "      <th>b</th>\n",
       "      <td>Ali</td>\n",
       "      <td>22.0</td>\n",
       "      <td>Peshawer</td>\n",
       "    </tr>\n",
       "    <tr>\n",
       "      <th>c</th>\n",
       "      <td>Ayesha</td>\n",
       "      <td>NaN</td>\n",
       "      <td>NaN</td>\n",
       "    </tr>\n",
       "    <tr>\n",
       "      <th>d</th>\n",
       "      <td>Dua</td>\n",
       "      <td>18.0</td>\n",
       "      <td>Karachi</td>\n",
       "    </tr>\n",
       "  </tbody>\n",
       "</table>\n",
       "</div>"
      ],
      "text/plain": [
       "       name   age      addr\n",
       "a  Ehtisham  21.0    Lahore\n",
       "b       Ali  22.0  Peshawer\n",
       "c    Ayesha   NaN       NaN\n",
       "d       Dua  18.0   Karachi"
      ]
     },
     "execution_count": 22,
     "metadata": {},
     "output_type": "execute_result"
    }
   ],
   "source": [
    "dict1 = {\n",
    "    \"name\": pd.Series(data=['Ehtisham', 'Ali', 'Ayesha', 'Dua'], index=['a','b','c', 'd']),\n",
    "    \"age\": pd.Series(data=[21, 22,np.nan, 18], index=['a','b','c','d']),\n",
    "    \"addr\": pd.Series(data=['Lahore', 'Peshawer','Karachi'], index=['a','b', 'd']),\n",
    "}\n",
    "df = pd.DataFrame(dict1)\n",
    "df"
   ]
  },
  {
   "cell_type": "markdown",
   "id": "62175e2b",
   "metadata": {},
   "source": [
    ">- In the above code and its output, note that every series object has four data values and four corresponding indices.\n",
    ">- Also note that in the `age` series, we have a NaN value, and in the `addr` series we have an empty string.\n",
    ">- Another point to note that the row indices of the three series exactly match, in number as well as in sequence/value.\n",
    ">- A question arise, what if the indices of series are different. See the following code to understand this concept."
   ]
  },
  {
   "cell_type": "code",
   "execution_count": null,
   "id": "a0d5332b",
   "metadata": {},
   "outputs": [],
   "source": []
  },
  {
   "cell_type": "code",
   "execution_count": 25,
   "id": "558777d2",
   "metadata": {},
   "outputs": [
    {
     "data": {
      "text/html": [
       "<div>\n",
       "<style scoped>\n",
       "    .dataframe tbody tr th:only-of-type {\n",
       "        vertical-align: middle;\n",
       "    }\n",
       "\n",
       "    .dataframe tbody tr th {\n",
       "        vertical-align: top;\n",
       "    }\n",
       "\n",
       "    .dataframe thead th {\n",
       "        text-align: right;\n",
       "    }\n",
       "</style>\n",
       "<table border=\"1\" class=\"dataframe\">\n",
       "  <thead>\n",
       "    <tr style=\"text-align: right;\">\n",
       "      <th></th>\n",
       "      <th>name</th>\n",
       "      <th>age</th>\n",
       "      <th>addr</th>\n",
       "    </tr>\n",
       "  </thead>\n",
       "  <tbody>\n",
       "    <tr>\n",
       "      <th>a</th>\n",
       "      <td>Ehtisham</td>\n",
       "      <td>21.0</td>\n",
       "      <td>Lahore</td>\n",
       "    </tr>\n",
       "    <tr>\n",
       "      <th>b</th>\n",
       "      <td>Ali</td>\n",
       "      <td>NaN</td>\n",
       "      <td>NaN</td>\n",
       "    </tr>\n",
       "    <tr>\n",
       "      <th>c</th>\n",
       "      <td>Ayesha</td>\n",
       "      <td>NaN</td>\n",
       "      <td>NaN</td>\n",
       "    </tr>\n",
       "    <tr>\n",
       "      <th>d</th>\n",
       "      <td>Dua</td>\n",
       "      <td>18.0</td>\n",
       "      <td></td>\n",
       "    </tr>\n",
       "    <tr>\n",
       "      <th>x</th>\n",
       "      <td>NaN</td>\n",
       "      <td>22.0</td>\n",
       "      <td>Karachi</td>\n",
       "    </tr>\n",
       "    <tr>\n",
       "      <th>y</th>\n",
       "      <td>NaN</td>\n",
       "      <td>NaN</td>\n",
       "      <td>NaN</td>\n",
       "    </tr>\n",
       "  </tbody>\n",
       "</table>\n",
       "</div>"
      ],
      "text/plain": [
       "       name   age     addr\n",
       "a  Ehtisham  21.0   Lahore\n",
       "b       Ali   NaN      NaN\n",
       "c    Ayesha   NaN      NaN\n",
       "d       Dua  18.0         \n",
       "x       NaN  22.0  Karachi\n",
       "y       NaN   NaN      NaN"
      ]
     },
     "execution_count": 25,
     "metadata": {},
     "output_type": "execute_result"
    }
   ],
   "source": [
    "dict1 = {\n",
    "    \"name\": pd.Series(data=['Ehtisham', 'Ali', 'Ayesha', 'Dua'], index=['a','b','c', 'd']),\n",
    "    \"age\": pd.Series(data=[21, 22,np.nan, 18], index=['a','x','y','d']),\n",
    "    \"addr\": pd.Series(data=['Lahore', '','Karachi'], index=['a', 'd', 'x']),\n",
    "}\n",
    "df = pd.DataFrame(dict1)\n",
    "df"
   ]
  },
  {
   "cell_type": "code",
   "execution_count": null,
   "id": "4c16eeab",
   "metadata": {},
   "outputs": [],
   "source": []
  },
  {
   "cell_type": "markdown",
   "id": "7fb33e69",
   "metadata": {},
   "source": [
    ">- In the above code and its output, note that first series object has four data values and four corresponding indices. Similarly, second series object has four data values (with one `np.nan` value) and four corresponding indices, which are a bit different from the first series object. Third series has three data values (with one empty string) and three indices.\n",
    ">- Note the resulting Dataframe has six rows and three columns.\n",
    "    - For index 'a' we have value in all the three series objects or columns.\n",
    "    - For index 'b' we have a value in first series object, and NaN for the second and third column, since the second and third series object has no value corresponding to row index 'b."
   ]
  },
  {
   "cell_type": "code",
   "execution_count": null,
   "id": "2e500525",
   "metadata": {},
   "outputs": [],
   "source": []
  },
  {
   "cell_type": "code",
   "execution_count": null,
   "id": "5f9a4c39",
   "metadata": {},
   "outputs": [],
   "source": []
  },
  {
   "cell_type": "markdown",
   "id": "b77fae30",
   "metadata": {},
   "source": [
    "## 3. Attributes of Pandas Dataframe\n",
    "- Like Series, we can access properties/attributes of a dataframe by using dot `.` notation"
   ]
  },
  {
   "cell_type": "code",
   "execution_count": 26,
   "id": "18688a13",
   "metadata": {},
   "outputs": [
    {
     "data": {
      "text/html": [
       "<div>\n",
       "<style scoped>\n",
       "    .dataframe tbody tr th:only-of-type {\n",
       "        vertical-align: middle;\n",
       "    }\n",
       "\n",
       "    .dataframe tbody tr th {\n",
       "        vertical-align: top;\n",
       "    }\n",
       "\n",
       "    .dataframe thead th {\n",
       "        text-align: right;\n",
       "    }\n",
       "</style>\n",
       "<table border=\"1\" class=\"dataframe\">\n",
       "  <thead>\n",
       "    <tr style=\"text-align: right;\">\n",
       "      <th></th>\n",
       "      <th>name</th>\n",
       "      <th>age</th>\n",
       "      <th>address</th>\n",
       "      <th>cell</th>\n",
       "      <th>bg</th>\n",
       "    </tr>\n",
       "  </thead>\n",
       "  <tbody>\n",
       "    <tr>\n",
       "      <th>MS01</th>\n",
       "      <td>Ehtisham</td>\n",
       "      <td>21</td>\n",
       "      <td>Lahore</td>\n",
       "      <td>321-123</td>\n",
       "      <td>B+</td>\n",
       "    </tr>\n",
       "    <tr>\n",
       "      <th>MS02</th>\n",
       "      <td>Ali</td>\n",
       "      <td>20</td>\n",
       "      <td>Karachi</td>\n",
       "      <td>320-431</td>\n",
       "      <td>A-</td>\n",
       "    </tr>\n",
       "    <tr>\n",
       "      <th>MS03</th>\n",
       "      <td>Ayesha</td>\n",
       "      <td>18</td>\n",
       "      <td>Lahore</td>\n",
       "      <td>321-478</td>\n",
       "      <td>B+</td>\n",
       "    </tr>\n",
       "    <tr>\n",
       "      <th>MS04</th>\n",
       "      <td>Dua</td>\n",
       "      <td>17</td>\n",
       "      <td>Islamabad</td>\n",
       "      <td>324-446</td>\n",
       "      <td>O-</td>\n",
       "    </tr>\n",
       "    <tr>\n",
       "      <th>MS05</th>\n",
       "      <td>Khubaib</td>\n",
       "      <td>12</td>\n",
       "      <td>Kakul</td>\n",
       "      <td>321-967</td>\n",
       "      <td>A-</td>\n",
       "    </tr>\n",
       "    <tr>\n",
       "      <th>MS06</th>\n",
       "      <td>Adeen</td>\n",
       "      <td>10</td>\n",
       "      <td>Karachi</td>\n",
       "      <td>320-678</td>\n",
       "      <td>B+</td>\n",
       "    </tr>\n",
       "  </tbody>\n",
       "</table>\n",
       "</div>"
      ],
      "text/plain": [
       "          name  age    address     cell  bg\n",
       "MS01  Ehtisham   21     Lahore  321-123  B+\n",
       "MS02       Ali   20    Karachi  320-431  A-\n",
       "MS03    Ayesha   18     Lahore  321-478  B+\n",
       "MS04       Dua   17  Islamabad  324-446  O-\n",
       "MS05   Khubaib   12      Kakul  321-967  A-\n",
       "MS06     Adeen   10    Karachi  320-678  B+"
      ]
     },
     "execution_count": 26,
     "metadata": {},
     "output_type": "execute_result"
    }
   ],
   "source": [
    "people = {\n",
    "    \"name\" : [\"Ehtisham\", \"Ali\", \"Ayesha\", \"Dua\", \"Khubaib\", \"Adeen\"],\n",
    "    \"age\" : [21, 20, 18, 17, 12, 10],\n",
    "    \"address\": [\"Lahore\", \"Karachi\", \"Lahore\", \"Islamabad\", \"Kakul\", \"Karachi\"],\n",
    "    \"cell\" : [\"321-123\", \"320-431\", \"321-478\", \"324-446\", \"321-967\", \"320-678\"],\n",
    "    \"bg\": [\"B+\", \"A-\", \"B+\", \"O-\", \"A-\", \"B+\"]\n",
    "}\n",
    "# people\n",
    "\n",
    "df_people = pd.DataFrame(data=people, index=['MS01', 'MS02', 'MS03', 'MS04', 'MS05', 'MS06'])\n",
    "df_people"
   ]
  },
  {
   "cell_type": "code",
   "execution_count": 27,
   "id": "ee17855b",
   "metadata": {},
   "outputs": [
    {
     "data": {
      "text/plain": [
       "(6, 5)"
      ]
     },
     "execution_count": 27,
     "metadata": {},
     "output_type": "execute_result"
    }
   ],
   "source": [
    "# `shape` attribute of a dataframe object return a two value tuple containing rows and columns\n",
    "# Note the rows count does not include the column labels and column count does not include the row index\n",
    "df_people.shape "
   ]
  },
  {
   "cell_type": "code",
   "execution_count": null,
   "id": "2a6e7edd",
   "metadata": {},
   "outputs": [],
   "source": []
  },
  {
   "cell_type": "code",
   "execution_count": 28,
   "id": "53fe6d82",
   "metadata": {},
   "outputs": [
    {
     "data": {
      "text/plain": [
       "2"
      ]
     },
     "execution_count": 28,
     "metadata": {},
     "output_type": "execute_result"
    }
   ],
   "source": [
    "# `ndim` attribute of a dataframe object returns number of dimensions (which is always 2)\n",
    "df_people.ndim"
   ]
  },
  {
   "cell_type": "code",
   "execution_count": null,
   "id": "4b807f01",
   "metadata": {},
   "outputs": [],
   "source": []
  },
  {
   "cell_type": "code",
   "execution_count": 29,
   "id": "f4716fdf",
   "metadata": {},
   "outputs": [
    {
     "data": {
      "text/plain": [
       "30"
      ]
     },
     "execution_count": 29,
     "metadata": {},
     "output_type": "execute_result"
    }
   ],
   "source": [
    "# `size` attribute of a dataframe object returns the number of elements in the underlying data\n",
    "df_people.size"
   ]
  },
  {
   "cell_type": "code",
   "execution_count": null,
   "id": "6b28b509",
   "metadata": {},
   "outputs": [],
   "source": []
  },
  {
   "cell_type": "code",
   "execution_count": 30,
   "id": "b943c0ac",
   "metadata": {},
   "outputs": [
    {
     "data": {
      "text/plain": [
       "Index(['MS01', 'MS02', 'MS03', 'MS04', 'MS05', 'MS06'], dtype='object')"
      ]
     },
     "execution_count": 30,
     "metadata": {},
     "output_type": "execute_result"
    }
   ],
   "source": [
    "# `index` attribute of a dataframe object return the list of row indices and its datatype\n",
    "df_people.index"
   ]
  },
  {
   "cell_type": "code",
   "execution_count": null,
   "id": "3f879f9a",
   "metadata": {},
   "outputs": [],
   "source": []
  },
  {
   "cell_type": "code",
   "execution_count": 31,
   "id": "b8a7fc1b",
   "metadata": {},
   "outputs": [
    {
     "data": {
      "text/plain": [
       "Index(['name', 'age', 'address', 'cell', 'bg'], dtype='object')"
      ]
     },
     "execution_count": 31,
     "metadata": {},
     "output_type": "execute_result"
    }
   ],
   "source": [
    "# `columns` attribute of a dataframe object return the list of column labels and its datatype\n",
    "df_people.columns"
   ]
  },
  {
   "cell_type": "code",
   "execution_count": 32,
   "id": "05476544",
   "metadata": {},
   "outputs": [
    {
     "data": {
      "text/plain": [
       "[Index(['MS01', 'MS02', 'MS03', 'MS04', 'MS05', 'MS06'], dtype='object'),\n",
       " Index(['name', 'age', 'address', 'cell', 'bg'], dtype='object')]"
      ]
     },
     "execution_count": 32,
     "metadata": {},
     "output_type": "execute_result"
    }
   ],
   "source": [
    "#This attribute is used to fetch both index and column names.\n",
    "df_people.axes"
   ]
  },
  {
   "cell_type": "code",
   "execution_count": 33,
   "id": "3806bafa",
   "metadata": {},
   "outputs": [
    {
     "data": {
      "text/plain": [
       "array([['Ehtisham', 21, 'Lahore', '321-123', 'B+'],\n",
       "       ['Ali', 20, 'Karachi', '320-431', 'A-'],\n",
       "       ['Ayesha', 18, 'Lahore', '321-478', 'B+'],\n",
       "       ['Dua', 17, 'Islamabad', '324-446', 'O-'],\n",
       "       ['Khubaib', 12, 'Kakul', '321-967', 'A-'],\n",
       "       ['Adeen', 10, 'Karachi', '320-678', 'B+']], dtype=object)"
      ]
     },
     "execution_count": 33,
     "metadata": {},
     "output_type": "execute_result"
    }
   ],
   "source": [
    "# `values` attribute of a dataframe object returns a NumPy 2-D having all the values in the DataFrame, \n",
    "# without the row indices and column labels\n",
    "df_people.values"
   ]
  },
  {
   "cell_type": "code",
   "execution_count": 35,
   "id": "5ca5006b",
   "metadata": {},
   "outputs": [
    {
     "data": {
      "text/plain": [
       "False"
      ]
     },
     "execution_count": 35,
     "metadata": {},
     "output_type": "execute_result"
    }
   ],
   "source": [
    "df.empty"
   ]
  },
  {
   "cell_type": "code",
   "execution_count": 34,
   "id": "899d087f",
   "metadata": {},
   "outputs": [
    {
     "data": {
      "text/plain": [
       "name       object\n",
       "age         int64\n",
       "address    object\n",
       "cell       object\n",
       "bg         object\n",
       "dtype: object"
      ]
     },
     "execution_count": 34,
     "metadata": {},
     "output_type": "execute_result"
    }
   ],
   "source": [
    "# `dtypes` attribute of a dataframe object return the data type of each column in the dataframe\n",
    "df_people.dtypes"
   ]
  },
  {
   "cell_type": "code",
   "execution_count": null,
   "id": "61d0403a",
   "metadata": {},
   "outputs": [],
   "source": []
  },
  {
   "cell_type": "code",
   "execution_count": 37,
   "id": "066515ab",
   "metadata": {},
   "outputs": [
    {
     "data": {
      "text/plain": [
       "name       0\n",
       "age        0\n",
       "address    0\n",
       "cell       0\n",
       "bg         0\n",
       "dtype: int64"
      ]
     },
     "execution_count": 37,
     "metadata": {},
     "output_type": "execute_result"
    }
   ],
   "source": [
    "df_people.isnull().sum()"
   ]
  },
  {
   "cell_type": "code",
   "execution_count": 36,
   "id": "63c3d167",
   "metadata": {
    "scrolled": true
   },
   "outputs": [
    {
     "data": {
      "text/plain": [
       "name       6\n",
       "age        6\n",
       "address    6\n",
       "cell       6\n",
       "bg         6\n",
       "dtype: int64"
      ]
     },
     "execution_count": 36,
     "metadata": {},
     "output_type": "execute_result"
    }
   ],
   "source": [
    "# To check number on non-NA values\n",
    "df_people.count()"
   ]
  },
  {
   "cell_type": "code",
   "execution_count": 41,
   "id": "4fc75d0d",
   "metadata": {},
   "outputs": [
    {
     "data": {
      "text/plain": [
       "array(['Lahore', 'Karachi', 'Islamabad', 'Kakul'], dtype=object)"
      ]
     },
     "execution_count": 41,
     "metadata": {},
     "output_type": "execute_result"
    }
   ],
   "source": [
    "df_people['address'].unique()d"
   ]
  },
  {
   "cell_type": "code",
   "execution_count": 45,
   "id": "5dfd47f3",
   "metadata": {},
   "outputs": [
    {
     "data": {
      "text/html": [
       "<div>\n",
       "<style scoped>\n",
       "    .dataframe tbody tr th:only-of-type {\n",
       "        vertical-align: middle;\n",
       "    }\n",
       "\n",
       "    .dataframe tbody tr th {\n",
       "        vertical-align: top;\n",
       "    }\n",
       "\n",
       "    .dataframe thead th {\n",
       "        text-align: right;\n",
       "    }\n",
       "</style>\n",
       "<table border=\"1\" class=\"dataframe\">\n",
       "  <thead>\n",
       "    <tr style=\"text-align: right;\">\n",
       "      <th></th>\n",
       "      <th>name</th>\n",
       "      <th>age</th>\n",
       "      <th>address</th>\n",
       "      <th>cell</th>\n",
       "      <th>bg</th>\n",
       "    </tr>\n",
       "  </thead>\n",
       "  <tbody>\n",
       "    <tr>\n",
       "      <th>count</th>\n",
       "      <td>6</td>\n",
       "      <td>6.000000</td>\n",
       "      <td>6</td>\n",
       "      <td>6</td>\n",
       "      <td>6</td>\n",
       "    </tr>\n",
       "    <tr>\n",
       "      <th>unique</th>\n",
       "      <td>6</td>\n",
       "      <td>NaN</td>\n",
       "      <td>4</td>\n",
       "      <td>6</td>\n",
       "      <td>3</td>\n",
       "    </tr>\n",
       "    <tr>\n",
       "      <th>top</th>\n",
       "      <td>Ehtisham</td>\n",
       "      <td>NaN</td>\n",
       "      <td>Lahore</td>\n",
       "      <td>321-123</td>\n",
       "      <td>B+</td>\n",
       "    </tr>\n",
       "    <tr>\n",
       "      <th>freq</th>\n",
       "      <td>1</td>\n",
       "      <td>NaN</td>\n",
       "      <td>2</td>\n",
       "      <td>1</td>\n",
       "      <td>3</td>\n",
       "    </tr>\n",
       "    <tr>\n",
       "      <th>mean</th>\n",
       "      <td>NaN</td>\n",
       "      <td>16.333333</td>\n",
       "      <td>NaN</td>\n",
       "      <td>NaN</td>\n",
       "      <td>NaN</td>\n",
       "    </tr>\n",
       "    <tr>\n",
       "      <th>std</th>\n",
       "      <td>NaN</td>\n",
       "      <td>4.412105</td>\n",
       "      <td>NaN</td>\n",
       "      <td>NaN</td>\n",
       "      <td>NaN</td>\n",
       "    </tr>\n",
       "    <tr>\n",
       "      <th>min</th>\n",
       "      <td>NaN</td>\n",
       "      <td>10.000000</td>\n",
       "      <td>NaN</td>\n",
       "      <td>NaN</td>\n",
       "      <td>NaN</td>\n",
       "    </tr>\n",
       "    <tr>\n",
       "      <th>25%</th>\n",
       "      <td>NaN</td>\n",
       "      <td>13.250000</td>\n",
       "      <td>NaN</td>\n",
       "      <td>NaN</td>\n",
       "      <td>NaN</td>\n",
       "    </tr>\n",
       "    <tr>\n",
       "      <th>50%</th>\n",
       "      <td>NaN</td>\n",
       "      <td>17.500000</td>\n",
       "      <td>NaN</td>\n",
       "      <td>NaN</td>\n",
       "      <td>NaN</td>\n",
       "    </tr>\n",
       "    <tr>\n",
       "      <th>75%</th>\n",
       "      <td>NaN</td>\n",
       "      <td>19.500000</td>\n",
       "      <td>NaN</td>\n",
       "      <td>NaN</td>\n",
       "      <td>NaN</td>\n",
       "    </tr>\n",
       "    <tr>\n",
       "      <th>max</th>\n",
       "      <td>NaN</td>\n",
       "      <td>21.000000</td>\n",
       "      <td>NaN</td>\n",
       "      <td>NaN</td>\n",
       "      <td>NaN</td>\n",
       "    </tr>\n",
       "  </tbody>\n",
       "</table>\n",
       "</div>"
      ],
      "text/plain": [
       "            name        age address     cell   bg\n",
       "count          6   6.000000       6        6    6\n",
       "unique         6        NaN       4        6    3\n",
       "top     Ehtisham        NaN  Lahore  321-123   B+\n",
       "freq           1        NaN       2        1    3\n",
       "mean         NaN  16.333333     NaN      NaN  NaN\n",
       "std          NaN   4.412105     NaN      NaN  NaN\n",
       "min          NaN  10.000000     NaN      NaN  NaN\n",
       "25%          NaN  13.250000     NaN      NaN  NaN\n",
       "50%          NaN  17.500000     NaN      NaN  NaN\n",
       "75%          NaN  19.500000     NaN      NaN  NaN\n",
       "max          NaN  21.000000     NaN      NaN  NaN"
      ]
     },
     "execution_count": 45,
     "metadata": {},
     "output_type": "execute_result"
    }
   ],
   "source": [
    "df_people.describe(include='all')"
   ]
  },
  {
   "cell_type": "code",
   "execution_count": 43,
   "id": "c89e5101",
   "metadata": {},
   "outputs": [
    {
     "name": "stdout",
     "output_type": "stream",
     "text": [
      "<class 'pandas.core.frame.DataFrame'>\n",
      "Index: 6 entries, MS01 to MS06\n",
      "Data columns (total 5 columns):\n",
      " #   Column   Non-Null Count  Dtype \n",
      "---  ------   --------------  ----- \n",
      " 0   name     6 non-null      object\n",
      " 1   age      6 non-null      int64 \n",
      " 2   address  6 non-null      object\n",
      " 3   cell     6 non-null      object\n",
      " 4   bg       6 non-null      object\n",
      "dtypes: int64(1), object(4)\n",
      "memory usage: 288.0+ bytes\n"
     ]
    }
   ],
   "source": [
    "df_people.info()"
   ]
  },
  {
   "cell_type": "code",
   "execution_count": null,
   "id": "606c68c1",
   "metadata": {},
   "outputs": [],
   "source": []
  },
  {
   "cell_type": "code",
   "execution_count": null,
   "id": "508a6d25",
   "metadata": {},
   "outputs": [],
   "source": []
  },
  {
   "cell_type": "code",
   "execution_count": null,
   "id": "e1b64d0e",
   "metadata": {},
   "outputs": [],
   "source": []
  },
  {
   "cell_type": "markdown",
   "id": "2011f372",
   "metadata": {},
   "source": [
    "# Bonus"
   ]
  },
  {
   "cell_type": "markdown",
   "id": "506b8217",
   "metadata": {},
   "source": [
    "#### The `df.info()` Method"
   ]
  },
  {
   "cell_type": "code",
   "execution_count": null,
   "id": "92f3c6a1",
   "metadata": {},
   "outputs": [],
   "source": [
    "#This method prints information about a DataFrame including the row indices, column labels, \n",
    "# non-null values count in each column, datatype and memory usage\n",
    "df_people.info()"
   ]
  },
  {
   "cell_type": "markdown",
   "id": "accaa40a",
   "metadata": {},
   "source": [
    "#### The `df.describe()` Method"
   ]
  },
  {
   "cell_type": "code",
   "execution_count": null,
   "id": "d63404aa",
   "metadata": {},
   "outputs": [],
   "source": [
    "# This method prints the descriptive view of all the columns of dataset which are numeric\n",
    "df.describe()"
   ]
  },
  {
   "cell_type": "code",
   "execution_count": null,
   "id": "5feea8a4",
   "metadata": {},
   "outputs": [],
   "source": []
  },
  {
   "cell_type": "code",
   "execution_count": null,
   "id": "453eb48b",
   "metadata": {},
   "outputs": [],
   "source": []
  },
  {
   "cell_type": "markdown",
   "id": "4a191091",
   "metadata": {},
   "source": [
    "## Check Your Concepts:\n",
    "- What is Dataframe in pandas?\n",
    "- Make a Pandas DataFrame with two-dimensional list | Python \n",
    "- Python | Creating DataFrame from dict of narray/lists \n",
    "- Python | Creating DataFrame from dict of narray/lists \n",
    "- Creating Pandas dataframe using list of lists \n",
    "- Creating a Pandas dataframe using list of tuples \n",
    "- Create a Pandas DataFrame from List of Dicts \n",
    "- Python | Convert list of nested dictionary into Pandas dataframe \n",
    "- Replace values in Pandas dataframe using regex \n",
    "- Creating a dataframe from Pandas series \n",
    "- Construct a DataFrame in Pandas using string data \n",
    "- Clean the string data in the given Pandas Dataframe \n",
    "- Reindexing in Pandas DataFrame \n",
    "- Mapping external values to dataframe values in Pandas \n",
    "- Reshape a pandas DataFrame using stack, unstack and melt method \n",
    "- Reset Index in Pandas Dataframe \n",
    "- Python | Change column names and row indexes in Pandas DataFrame \n"
   ]
  },
  {
   "cell_type": "code",
   "execution_count": null,
   "id": "23fd4fd9",
   "metadata": {},
   "outputs": [],
   "source": []
  },
  {
   "cell_type": "code",
   "execution_count": 46,
   "id": "f3828445",
   "metadata": {},
   "outputs": [
    {
     "data": {
      "text/plain": [
       "[[2, 3, 4, 5, 6, 7], [8, 6, 7, 5, 4, 2]]"
      ]
     },
     "execution_count": 46,
     "metadata": {},
     "output_type": "execute_result"
    }
   ],
   "source": [
    "# creating a dataframe from 2D list\n",
    "list2d = [[2,3,4,5,6,7],[8,6,7,5,4,2]]\n",
    "list2d"
   ]
  },
  {
   "cell_type": "code",
   "execution_count": 47,
   "id": "8ecb3c88",
   "metadata": {},
   "outputs": [
    {
     "data": {
      "text/html": [
       "<div>\n",
       "<style scoped>\n",
       "    .dataframe tbody tr th:only-of-type {\n",
       "        vertical-align: middle;\n",
       "    }\n",
       "\n",
       "    .dataframe tbody tr th {\n",
       "        vertical-align: top;\n",
       "    }\n",
       "\n",
       "    .dataframe thead th {\n",
       "        text-align: right;\n",
       "    }\n",
       "</style>\n",
       "<table border=\"1\" class=\"dataframe\">\n",
       "  <thead>\n",
       "    <tr style=\"text-align: right;\">\n",
       "      <th></th>\n",
       "      <th>0</th>\n",
       "      <th>1</th>\n",
       "      <th>2</th>\n",
       "      <th>3</th>\n",
       "      <th>4</th>\n",
       "      <th>5</th>\n",
       "    </tr>\n",
       "  </thead>\n",
       "  <tbody>\n",
       "    <tr>\n",
       "      <th>0</th>\n",
       "      <td>2</td>\n",
       "      <td>3</td>\n",
       "      <td>4</td>\n",
       "      <td>5</td>\n",
       "      <td>6</td>\n",
       "      <td>7</td>\n",
       "    </tr>\n",
       "    <tr>\n",
       "      <th>1</th>\n",
       "      <td>8</td>\n",
       "      <td>6</td>\n",
       "      <td>7</td>\n",
       "      <td>5</td>\n",
       "      <td>4</td>\n",
       "      <td>2</td>\n",
       "    </tr>\n",
       "  </tbody>\n",
       "</table>\n",
       "</div>"
      ],
      "text/plain": [
       "   0  1  2  3  4  5\n",
       "0  2  3  4  5  6  7\n",
       "1  8  6  7  5  4  2"
      ]
     },
     "execution_count": 47,
     "metadata": {},
     "output_type": "execute_result"
    }
   ],
   "source": [
    "pd.DataFrame(list2d)"
   ]
  },
  {
   "cell_type": "code",
   "execution_count": 53,
   "id": "b262ab5e",
   "metadata": {},
   "outputs": [
    {
     "data": {
      "text/html": [
       "<div>\n",
       "<style scoped>\n",
       "    .dataframe tbody tr th:only-of-type {\n",
       "        vertical-align: middle;\n",
       "    }\n",
       "\n",
       "    .dataframe tbody tr th {\n",
       "        vertical-align: top;\n",
       "    }\n",
       "\n",
       "    .dataframe thead th {\n",
       "        text-align: right;\n",
       "    }\n",
       "</style>\n",
       "<table border=\"1\" class=\"dataframe\">\n",
       "  <thead>\n",
       "    <tr style=\"text-align: right;\">\n",
       "      <th></th>\n",
       "      <th>age</th>\n",
       "      <th>marks</th>\n",
       "    </tr>\n",
       "  </thead>\n",
       "  <tbody>\n",
       "    <tr>\n",
       "      <th>0</th>\n",
       "      <td>21</td>\n",
       "      <td>82</td>\n",
       "    </tr>\n",
       "    <tr>\n",
       "      <th>1</th>\n",
       "      <td>23</td>\n",
       "      <td>92</td>\n",
       "    </tr>\n",
       "    <tr>\n",
       "      <th>2</th>\n",
       "      <td>24</td>\n",
       "      <td>91</td>\n",
       "    </tr>\n",
       "    <tr>\n",
       "      <th>3</th>\n",
       "      <td>20</td>\n",
       "      <td>99</td>\n",
       "    </tr>\n",
       "    <tr>\n",
       "      <th>4</th>\n",
       "      <td>22</td>\n",
       "      <td>83</td>\n",
       "    </tr>\n",
       "    <tr>\n",
       "      <th>5</th>\n",
       "      <td>28</td>\n",
       "      <td>93</td>\n",
       "    </tr>\n",
       "    <tr>\n",
       "      <th>6</th>\n",
       "      <td>29</td>\n",
       "      <td>95</td>\n",
       "    </tr>\n",
       "    <tr>\n",
       "      <th>7</th>\n",
       "      <td>20</td>\n",
       "      <td>97</td>\n",
       "    </tr>\n",
       "    <tr>\n",
       "      <th>8</th>\n",
       "      <td>20</td>\n",
       "      <td>72</td>\n",
       "    </tr>\n",
       "    <tr>\n",
       "      <th>9</th>\n",
       "      <td>29</td>\n",
       "      <td>93</td>\n",
       "    </tr>\n",
       "  </tbody>\n",
       "</table>\n",
       "</div>"
      ],
      "text/plain": [
       "   age  marks\n",
       "0   21     82\n",
       "1   23     92\n",
       "2   24     91\n",
       "3   20     99\n",
       "4   22     83\n",
       "5   28     93\n",
       "6   29     95\n",
       "7   20     97\n",
       "8   20     72\n",
       "9   29     93"
      ]
     },
     "execution_count": 53,
     "metadata": {},
     "output_type": "execute_result"
    }
   ],
   "source": [
    "# creating a dataframe from a dictionary of numpy-arrays\n",
    "dict_narrays = {\n",
    "    'age':np.random.randint(20,30,10),\n",
    "    'marks':np.random.randint(70,100,10),\n",
    "    \n",
    "}\n",
    "pd.DataFrame(dict_narrays)"
   ]
  },
  {
   "cell_type": "code",
   "execution_count": 58,
   "id": "44a3d6a5",
   "metadata": {},
   "outputs": [
    {
     "data": {
      "text/html": [
       "<div>\n",
       "<style scoped>\n",
       "    .dataframe tbody tr th:only-of-type {\n",
       "        vertical-align: middle;\n",
       "    }\n",
       "\n",
       "    .dataframe tbody tr th {\n",
       "        vertical-align: top;\n",
       "    }\n",
       "\n",
       "    .dataframe thead th {\n",
       "        text-align: right;\n",
       "    }\n",
       "</style>\n",
       "<table border=\"1\" class=\"dataframe\">\n",
       "  <thead>\n",
       "    <tr style=\"text-align: right;\">\n",
       "      <th></th>\n",
       "      <th>col1</th>\n",
       "      <th>col2</th>\n",
       "    </tr>\n",
       "  </thead>\n",
       "  <tbody>\n",
       "    <tr>\n",
       "      <th>0</th>\n",
       "      <td>2</td>\n",
       "      <td>8</td>\n",
       "    </tr>\n",
       "    <tr>\n",
       "      <th>1</th>\n",
       "      <td>3</td>\n",
       "      <td>6</td>\n",
       "    </tr>\n",
       "    <tr>\n",
       "      <th>2</th>\n",
       "      <td>4</td>\n",
       "      <td>7</td>\n",
       "    </tr>\n",
       "    <tr>\n",
       "      <th>3</th>\n",
       "      <td>5</td>\n",
       "      <td>5</td>\n",
       "    </tr>\n",
       "    <tr>\n",
       "      <th>4</th>\n",
       "      <td>6</td>\n",
       "      <td>4</td>\n",
       "    </tr>\n",
       "    <tr>\n",
       "      <th>5</th>\n",
       "      <td>7</td>\n",
       "      <td>2</td>\n",
       "    </tr>\n",
       "  </tbody>\n",
       "</table>\n",
       "</div>"
      ],
      "text/plain": [
       "   col1  col2\n",
       "0     2     8\n",
       "1     3     6\n",
       "2     4     7\n",
       "3     5     5\n",
       "4     6     4\n",
       "5     7     2"
      ]
     },
     "execution_count": 58,
     "metadata": {},
     "output_type": "execute_result"
    }
   ],
   "source": [
    "# creating a dataframe from list of lists\n",
    "one , two = list2d[0], list2d[1]\n",
    "dict_lists = {\n",
    "    'col1':one,\n",
    "    'col2':two\n",
    "}\n",
    "pd.DataFrame(data=dict_lists)"
   ]
  },
  {
   "cell_type": "code",
   "execution_count": null,
   "id": "8120103e",
   "metadata": {},
   "outputs": [],
   "source": []
  },
  {
   "cell_type": "code",
   "execution_count": 73,
   "id": "38759d89",
   "metadata": {},
   "outputs": [
    {
     "data": {
      "text/plain": [
       "[(25, 26, 23, 24, 25, 28, 21, 23, 27, 21),\n",
       " (87, 83, 81, 71, 99, 94, 91, 98, 80, 84)]"
      ]
     },
     "execution_count": 73,
     "metadata": {},
     "output_type": "execute_result"
    }
   ],
   "source": [
    "# creating a dataframe using list of tuples\n",
    "age = tuple(np.random.randint(20,30,10))\n",
    "marks = tuple(np.random.randint(70,100,10))\n",
    "list_of_tuples = [age,marks]\n",
    "dict_tuples = {\n",
    "    'age':list_of_tuples[0],\n",
    "    'marks':list_of_tuples[1]\n",
    "}\n",
    "list_of_tuples"
   ]
  },
  {
   "cell_type": "code",
   "execution_count": 74,
   "id": "aea81aad",
   "metadata": {},
   "outputs": [
    {
     "data": {
      "text/html": [
       "<div>\n",
       "<style scoped>\n",
       "    .dataframe tbody tr th:only-of-type {\n",
       "        vertical-align: middle;\n",
       "    }\n",
       "\n",
       "    .dataframe tbody tr th {\n",
       "        vertical-align: top;\n",
       "    }\n",
       "\n",
       "    .dataframe thead th {\n",
       "        text-align: right;\n",
       "    }\n",
       "</style>\n",
       "<table border=\"1\" class=\"dataframe\">\n",
       "  <thead>\n",
       "    <tr style=\"text-align: right;\">\n",
       "      <th></th>\n",
       "      <th>0</th>\n",
       "      <th>1</th>\n",
       "      <th>2</th>\n",
       "      <th>3</th>\n",
       "      <th>4</th>\n",
       "      <th>5</th>\n",
       "      <th>6</th>\n",
       "      <th>7</th>\n",
       "      <th>8</th>\n",
       "      <th>9</th>\n",
       "    </tr>\n",
       "  </thead>\n",
       "  <tbody>\n",
       "    <tr>\n",
       "      <th>0</th>\n",
       "      <td>25</td>\n",
       "      <td>26</td>\n",
       "      <td>23</td>\n",
       "      <td>24</td>\n",
       "      <td>25</td>\n",
       "      <td>28</td>\n",
       "      <td>21</td>\n",
       "      <td>23</td>\n",
       "      <td>27</td>\n",
       "      <td>21</td>\n",
       "    </tr>\n",
       "    <tr>\n",
       "      <th>1</th>\n",
       "      <td>87</td>\n",
       "      <td>83</td>\n",
       "      <td>81</td>\n",
       "      <td>71</td>\n",
       "      <td>99</td>\n",
       "      <td>94</td>\n",
       "      <td>91</td>\n",
       "      <td>98</td>\n",
       "      <td>80</td>\n",
       "      <td>84</td>\n",
       "    </tr>\n",
       "  </tbody>\n",
       "</table>\n",
       "</div>"
      ],
      "text/plain": [
       "    0   1   2   3   4   5   6   7   8   9\n",
       "0  25  26  23  24  25  28  21  23  27  21\n",
       "1  87  83  81  71  99  94  91  98  80  84"
      ]
     },
     "execution_count": 74,
     "metadata": {},
     "output_type": "execute_result"
    }
   ],
   "source": [
    "pd.DataFrame(data=list_of_tuples)"
   ]
  },
  {
   "cell_type": "code",
   "execution_count": 75,
   "id": "2135d262",
   "metadata": {},
   "outputs": [
    {
     "data": {
      "text/html": [
       "<div>\n",
       "<style scoped>\n",
       "    .dataframe tbody tr th:only-of-type {\n",
       "        vertical-align: middle;\n",
       "    }\n",
       "\n",
       "    .dataframe tbody tr th {\n",
       "        vertical-align: top;\n",
       "    }\n",
       "\n",
       "    .dataframe thead th {\n",
       "        text-align: right;\n",
       "    }\n",
       "</style>\n",
       "<table border=\"1\" class=\"dataframe\">\n",
       "  <thead>\n",
       "    <tr style=\"text-align: right;\">\n",
       "      <th></th>\n",
       "      <th>age</th>\n",
       "      <th>marks</th>\n",
       "    </tr>\n",
       "  </thead>\n",
       "  <tbody>\n",
       "    <tr>\n",
       "      <th>0</th>\n",
       "      <td>25</td>\n",
       "      <td>87</td>\n",
       "    </tr>\n",
       "    <tr>\n",
       "      <th>1</th>\n",
       "      <td>26</td>\n",
       "      <td>83</td>\n",
       "    </tr>\n",
       "    <tr>\n",
       "      <th>2</th>\n",
       "      <td>23</td>\n",
       "      <td>81</td>\n",
       "    </tr>\n",
       "    <tr>\n",
       "      <th>3</th>\n",
       "      <td>24</td>\n",
       "      <td>71</td>\n",
       "    </tr>\n",
       "    <tr>\n",
       "      <th>4</th>\n",
       "      <td>25</td>\n",
       "      <td>99</td>\n",
       "    </tr>\n",
       "    <tr>\n",
       "      <th>5</th>\n",
       "      <td>28</td>\n",
       "      <td>94</td>\n",
       "    </tr>\n",
       "    <tr>\n",
       "      <th>6</th>\n",
       "      <td>21</td>\n",
       "      <td>91</td>\n",
       "    </tr>\n",
       "    <tr>\n",
       "      <th>7</th>\n",
       "      <td>23</td>\n",
       "      <td>98</td>\n",
       "    </tr>\n",
       "    <tr>\n",
       "      <th>8</th>\n",
       "      <td>27</td>\n",
       "      <td>80</td>\n",
       "    </tr>\n",
       "    <tr>\n",
       "      <th>9</th>\n",
       "      <td>21</td>\n",
       "      <td>84</td>\n",
       "    </tr>\n",
       "  </tbody>\n",
       "</table>\n",
       "</div>"
      ],
      "text/plain": [
       "   age  marks\n",
       "0   25     87\n",
       "1   26     83\n",
       "2   23     81\n",
       "3   24     71\n",
       "4   25     99\n",
       "5   28     94\n",
       "6   21     91\n",
       "7   23     98\n",
       "8   27     80\n",
       "9   21     84"
      ]
     },
     "execution_count": 75,
     "metadata": {},
     "output_type": "execute_result"
    }
   ],
   "source": [
    "pd.DataFrame(data=dict_tuples)"
   ]
  },
  {
   "cell_type": "code",
   "execution_count": null,
   "id": "106a61ce",
   "metadata": {},
   "outputs": [],
   "source": []
  },
  {
   "cell_type": "code",
   "execution_count": 77,
   "id": "e38d7609",
   "metadata": {},
   "outputs": [
    {
     "data": {
      "text/html": [
       "<div>\n",
       "<style scoped>\n",
       "    .dataframe tbody tr th:only-of-type {\n",
       "        vertical-align: middle;\n",
       "    }\n",
       "\n",
       "    .dataframe tbody tr th {\n",
       "        vertical-align: top;\n",
       "    }\n",
       "\n",
       "    .dataframe thead th {\n",
       "        text-align: right;\n",
       "    }\n",
       "</style>\n",
       "<table border=\"1\" class=\"dataframe\">\n",
       "  <thead>\n",
       "    <tr style=\"text-align: right;\">\n",
       "      <th></th>\n",
       "      <th>7058</th>\n",
       "      <th>7059</th>\n",
       "      <th>7072</th>\n",
       "      <th>7075</th>\n",
       "      <th>7051</th>\n",
       "      <th>7089</th>\n",
       "      <th>7012</th>\n",
       "      <th>7115</th>\n",
       "      <th>9001</th>\n",
       "      <th>1289</th>\n",
       "      <th>7045</th>\n",
       "      <th>9815</th>\n",
       "    </tr>\n",
       "  </thead>\n",
       "  <tbody>\n",
       "    <tr>\n",
       "      <th>0</th>\n",
       "      <td>sravan</td>\n",
       "      <td>jyothika</td>\n",
       "      <td>harsha</td>\n",
       "      <td>deepika</td>\n",
       "      <td>NaN</td>\n",
       "      <td>NaN</td>\n",
       "      <td>NaN</td>\n",
       "      <td>NaN</td>\n",
       "      <td>NaN</td>\n",
       "      <td>NaN</td>\n",
       "      <td>NaN</td>\n",
       "      <td>NaN</td>\n",
       "    </tr>\n",
       "    <tr>\n",
       "      <th>1</th>\n",
       "      <td>NaN</td>\n",
       "      <td>NaN</td>\n",
       "      <td>NaN</td>\n",
       "      <td>NaN</td>\n",
       "      <td>fathima</td>\n",
       "      <td>mounika</td>\n",
       "      <td>thanmai</td>\n",
       "      <td>vasavi</td>\n",
       "      <td>NaN</td>\n",
       "      <td>NaN</td>\n",
       "      <td>NaN</td>\n",
       "      <td>NaN</td>\n",
       "    </tr>\n",
       "    <tr>\n",
       "      <th>2</th>\n",
       "      <td>NaN</td>\n",
       "      <td>NaN</td>\n",
       "      <td>NaN</td>\n",
       "      <td>NaN</td>\n",
       "      <td>NaN</td>\n",
       "      <td>NaN</td>\n",
       "      <td>NaN</td>\n",
       "      <td>NaN</td>\n",
       "      <td>ojaswi</td>\n",
       "      <td>daksha</td>\n",
       "      <td>parvathi</td>\n",
       "      <td>bhavani</td>\n",
       "    </tr>\n",
       "  </tbody>\n",
       "</table>\n",
       "</div>"
      ],
      "text/plain": [
       "     7058      7059    7072     7075     7051     7089     7012    7115  \\\n",
       "0  sravan  jyothika  harsha  deepika      NaN      NaN      NaN     NaN   \n",
       "1     NaN       NaN     NaN      NaN  fathima  mounika  thanmai  vasavi   \n",
       "2     NaN       NaN     NaN      NaN      NaN      NaN      NaN     NaN   \n",
       "\n",
       "     9001    1289      7045     9815  \n",
       "0     NaN     NaN       NaN      NaN  \n",
       "1     NaN     NaN       NaN      NaN  \n",
       "2  ojaswi  daksha  parvathi  bhavani  "
      ]
     },
     "execution_count": 77,
     "metadata": {},
     "output_type": "execute_result"
    }
   ],
   "source": [
    "# creating a dataframe from list of dictionaries\n",
    "data = [{7058: 'sravan', 7059: 'jyothika',\n",
    "         7072: 'harsha', 7075: 'deepika'},\n",
    "         \n",
    "        {7051: 'fathima', 7089: 'mounika',\n",
    "         7012: 'thanmai', 7115: 'vasavi'},\n",
    "         \n",
    "        {9001: 'ojaswi', 1289: 'daksha',\n",
    "         7045: 'parvathi', 9815: 'bhavani'}]\n",
    "pd.DataFrame(data=data)"
   ]
  },
  {
   "cell_type": "code",
   "execution_count": 78,
   "id": "9bec0048",
   "metadata": {},
   "outputs": [
    {
     "data": {
      "text/html": [
       "<div>\n",
       "<style scoped>\n",
       "    .dataframe tbody tr th:only-of-type {\n",
       "        vertical-align: middle;\n",
       "    }\n",
       "\n",
       "    .dataframe tbody tr th {\n",
       "        vertical-align: top;\n",
       "    }\n",
       "\n",
       "    .dataframe thead th {\n",
       "        text-align: right;\n",
       "    }\n",
       "</style>\n",
       "<table border=\"1\" class=\"dataframe\">\n",
       "  <thead>\n",
       "    <tr style=\"text-align: right;\">\n",
       "      <th></th>\n",
       "      <th>py</th>\n",
       "      <th>mat</th>\n",
       "      <th>cs</th>\n",
       "      <th>A</th>\n",
       "      <th>B</th>\n",
       "      <th>C</th>\n",
       "      <th>a</th>\n",
       "      <th>b</th>\n",
       "      <th>c</th>\n",
       "    </tr>\n",
       "  </thead>\n",
       "  <tbody>\n",
       "    <tr>\n",
       "      <th>0</th>\n",
       "      <td>Python</td>\n",
       "      <td>MATLAB</td>\n",
       "      <td>Csharp</td>\n",
       "      <td>NaN</td>\n",
       "      <td>NaN</td>\n",
       "      <td>NaN</td>\n",
       "      <td>NaN</td>\n",
       "      <td>NaN</td>\n",
       "      <td>NaN</td>\n",
       "    </tr>\n",
       "    <tr>\n",
       "      <th>1</th>\n",
       "      <td>NaN</td>\n",
       "      <td>NaN</td>\n",
       "      <td>NaN</td>\n",
       "      <td>65.0</td>\n",
       "      <td>66.0</td>\n",
       "      <td>67.0</td>\n",
       "      <td>NaN</td>\n",
       "      <td>NaN</td>\n",
       "      <td>NaN</td>\n",
       "    </tr>\n",
       "    <tr>\n",
       "      <th>2</th>\n",
       "      <td>NaN</td>\n",
       "      <td>NaN</td>\n",
       "      <td>NaN</td>\n",
       "      <td>NaN</td>\n",
       "      <td>NaN</td>\n",
       "      <td>NaN</td>\n",
       "      <td>97.0</td>\n",
       "      <td>98.0</td>\n",
       "      <td>99.0</td>\n",
       "    </tr>\n",
       "  </tbody>\n",
       "</table>\n",
       "</div>"
      ],
      "text/plain": [
       "       py     mat      cs     A     B     C     a     b     c\n",
       "0  Python  MATLAB  Csharp   NaN   NaN   NaN   NaN   NaN   NaN\n",
       "1     NaN     NaN     NaN  65.0  66.0  67.0   NaN   NaN   NaN\n",
       "2     NaN     NaN     NaN   NaN   NaN   NaN  97.0  98.0  99.0"
      ]
     },
     "execution_count": 78,
     "metadata": {},
     "output_type": "execute_result"
    }
   ],
   "source": [
    "ls_dict = [{'py': 'Python', 'mat': 'MATLAB', 'cs': 'Csharp'}, \n",
    "{'A': 65, 'B': 66, 'C': 67}, \n",
    "{'a': 97, 'b': 98, 'c': 99}]\n",
    "  \n",
    "pd.DataFrame(ls_dict)"
   ]
  },
  {
   "cell_type": "code",
   "execution_count": 79,
   "id": "7409c823",
   "metadata": {},
   "outputs": [
    {
     "data": {
      "text/html": [
       "<div>\n",
       "<style scoped>\n",
       "    .dataframe tbody tr th:only-of-type {\n",
       "        vertical-align: middle;\n",
       "    }\n",
       "\n",
       "    .dataframe tbody tr th {\n",
       "        vertical-align: top;\n",
       "    }\n",
       "\n",
       "    .dataframe thead th {\n",
       "        text-align: right;\n",
       "    }\n",
       "</style>\n",
       "<table border=\"1\" class=\"dataframe\">\n",
       "  <thead>\n",
       "    <tr style=\"text-align: right;\">\n",
       "      <th></th>\n",
       "      <th>name</th>\n",
       "      <th>age</th>\n",
       "    </tr>\n",
       "  </thead>\n",
       "  <tbody>\n",
       "    <tr>\n",
       "      <th>0</th>\n",
       "      <td>Theodore</td>\n",
       "      <td>18</td>\n",
       "    </tr>\n",
       "    <tr>\n",
       "      <th>1</th>\n",
       "      <td>Mathew</td>\n",
       "      <td>22</td>\n",
       "    </tr>\n",
       "    <tr>\n",
       "      <th>2</th>\n",
       "      <td>Roxanne</td>\n",
       "      <td>20</td>\n",
       "    </tr>\n",
       "    <tr>\n",
       "      <th>3</th>\n",
       "      <td>David</td>\n",
       "      <td>18</td>\n",
       "    </tr>\n",
       "  </tbody>\n",
       "</table>\n",
       "</div>"
      ],
      "text/plain": [
       "       name  age\n",
       "0  Theodore   18\n",
       "1    Mathew   22\n",
       "2   Roxanne   20\n",
       "3     David   18"
      ]
     },
     "execution_count": 79,
     "metadata": {},
     "output_type": "execute_result"
    }
   ],
   "source": [
    "students = [\n",
    "  { 'name': 'Theodore', 'age': 18 },\n",
    "  { 'name': 'Mathew', 'age': 22 },\n",
    "  { 'name': 'Roxanne', 'age': 20 },\n",
    "  { 'name': 'David', 'age': 18 }\n",
    "]\n",
    "pd.DataFrame(students)"
   ]
  },
  {
   "cell_type": "code",
   "execution_count": 84,
   "id": "ae80a091",
   "metadata": {},
   "outputs": [],
   "source": [
    "# # get values from list of dictionary on the basis of a specific key\n",
    "# for i in students:\n",
    "#     print(i.get('age'))\n",
    "# [i.get('age') for i in students]"
   ]
  },
  {
   "cell_type": "code",
   "execution_count": null,
   "id": "965b242d",
   "metadata": {},
   "outputs": [],
   "source": []
  },
  {
   "cell_type": "code",
   "execution_count": 142,
   "id": "403044c9",
   "metadata": {},
   "outputs": [],
   "source": [
    "# list of nested dictionary in Pandas dataframe\n",
    "list1 = [\n",
    "   {\n",
    "      \"Fruit\": [{\"Price\": 15.2, \"Quality\": \"A\"},\n",
    "         {\"Price\": 19, \"Quality\": \"B\"},\n",
    "         {\"Price\": 17.8, \"Quality\": \"C\"},\n",
    "      ],\n",
    "      \"Name\": \"Orange\"\n",
    "   },\n",
    "   {\n",
    "      \"Fruit\": [{\"Price\": 23.2, \"Quality\": \"A\"},\n",
    "         {\"Price\": 28, \"Quality\": \"B\"}\n",
    "      ],\n",
    "      \"Name\": \"Grapes\"\n",
    "   }\n",
    "]\n",
    "# pd.DataFrame(list1)\n",
    "# list1[0]['Fruit'][0]\n",
    "Fruit_lists = []\n",
    "price = []\n",
    "quality = []\n",
    "for i in list1:\n",
    "    for j in i['Fruit']:\n",
    "        price.append(j['Price'])\n",
    "        quality.append(j['Quality'])"
   ]
  },
  {
   "cell_type": "code",
   "execution_count": 143,
   "id": "729b6ab6",
   "metadata": {},
   "outputs": [
    {
     "data": {
      "text/plain": [
       "([15.2, 19, 17.8, 23.2, 28], ['A', 'B', 'C', 'A', 'B'])"
      ]
     },
     "execution_count": 143,
     "metadata": {},
     "output_type": "execute_result"
    }
   ],
   "source": [
    "price, quality"
   ]
  },
  {
   "cell_type": "code",
   "execution_count": 144,
   "id": "87653873",
   "metadata": {},
   "outputs": [],
   "source": [
    "# Fruit_lists\n",
    "for i in list1:\n",
    "    if i.get('Name') =='Orange':\n",
    "#         print(i.get('Name')*3)\n",
    "        for j in range(3):\n",
    "            Fruit_lists.append(i.get('Name'))\n",
    "    else:\n",
    "        for k in range(2):\n",
    "            Fruit_lists.append(i.get('Name'))"
   ]
  },
  {
   "cell_type": "code",
   "execution_count": 145,
   "id": "e3bc0a47",
   "metadata": {},
   "outputs": [
    {
     "data": {
      "text/plain": [
       "['Orange', 'Orange', 'Orange', 'Grapes', 'Grapes']"
      ]
     },
     "execution_count": 145,
     "metadata": {},
     "output_type": "execute_result"
    }
   ],
   "source": [
    "Fruit_lists"
   ]
  },
  {
   "cell_type": "code",
   "execution_count": 146,
   "id": "08701cf2",
   "metadata": {},
   "outputs": [
    {
     "data": {
      "text/html": [
       "<div>\n",
       "<style scoped>\n",
       "    .dataframe tbody tr th:only-of-type {\n",
       "        vertical-align: middle;\n",
       "    }\n",
       "\n",
       "    .dataframe tbody tr th {\n",
       "        vertical-align: top;\n",
       "    }\n",
       "\n",
       "    .dataframe thead th {\n",
       "        text-align: right;\n",
       "    }\n",
       "</style>\n",
       "<table border=\"1\" class=\"dataframe\">\n",
       "  <thead>\n",
       "    <tr style=\"text-align: right;\">\n",
       "      <th></th>\n",
       "      <th>Fruits</th>\n",
       "      <th>Price</th>\n",
       "      <th>Quality</th>\n",
       "    </tr>\n",
       "  </thead>\n",
       "  <tbody>\n",
       "    <tr>\n",
       "      <th>0</th>\n",
       "      <td>Orange</td>\n",
       "      <td>15.2</td>\n",
       "      <td>A</td>\n",
       "    </tr>\n",
       "    <tr>\n",
       "      <th>1</th>\n",
       "      <td>Orange</td>\n",
       "      <td>19.0</td>\n",
       "      <td>B</td>\n",
       "    </tr>\n",
       "    <tr>\n",
       "      <th>2</th>\n",
       "      <td>Orange</td>\n",
       "      <td>17.8</td>\n",
       "      <td>C</td>\n",
       "    </tr>\n",
       "    <tr>\n",
       "      <th>3</th>\n",
       "      <td>Grapes</td>\n",
       "      <td>23.2</td>\n",
       "      <td>A</td>\n",
       "    </tr>\n",
       "    <tr>\n",
       "      <th>4</th>\n",
       "      <td>Grapes</td>\n",
       "      <td>28.0</td>\n",
       "      <td>B</td>\n",
       "    </tr>\n",
       "  </tbody>\n",
       "</table>\n",
       "</div>"
      ],
      "text/plain": [
       "   Fruits  Price Quality\n",
       "0  Orange   15.2       A\n",
       "1  Orange   19.0       B\n",
       "2  Orange   17.8       C\n",
       "3  Grapes   23.2       A\n",
       "4  Grapes   28.0       B"
      ]
     },
     "execution_count": 146,
     "metadata": {},
     "output_type": "execute_result"
    }
   ],
   "source": [
    "pd.DataFrame(data={'Fruits':Fruit_lists,\n",
    "                  'Price':price,\n",
    "                  'Quality':quality})\n"
   ]
  },
  {
   "cell_type": "code",
   "execution_count": 150,
   "id": "7fd8d3ed",
   "metadata": {},
   "outputs": [
    {
     "data": {
      "text/plain": [
       "[{'Price': 15.2, 'Quality': 'A', 'Name': 'Orange'},\n",
       " {'Price': 19, 'Quality': 'B', 'Name': 'Orange'},\n",
       " {'Price': 17.8, 'Quality': 'C', 'Name': 'Orange'},\n",
       " {'Price': 23.2, 'Quality': 'A', 'Name': 'Grapes'},\n",
       " {'Price': 28, 'Quality': 'B', 'Name': 'Grapes'}]"
      ]
     },
     "execution_count": 150,
     "metadata": {},
     "output_type": "execute_result"
    }
   ],
   "source": [
    "# Given nested dictionary\n",
    "list3 = [\n",
    "   {\n",
    "      \"Fruit\": [{\"Price\": 15.2, \"Quality\": \"A\"},\n",
    "         {\"Price\": 19, \"Quality\": \"B\"},\n",
    "         {\"Price\": 17.8, \"Quality\": \"C\"},\n",
    "      ],\n",
    "      \"Name\": \"Orange\"\n",
    "   },\n",
    "   {\n",
    "      \"Fruit\": [{\"Price\": 23.2, \"Quality\": \"A\"},\n",
    "         {\"Price\": 28, \"Quality\": \"B\"}\n",
    "      ],\n",
    "      \"Name\": \"Grapes\"\n",
    "   }\n",
    "]\n",
    "\n",
    "rows = []\n",
    "\n",
    "# Getting rows\n",
    "for data in list3:\n",
    "    data_row = data['Fruit']\n",
    "    n = data['Name']\n",
    "    for row in data_row:\n",
    "        row['Name'] = n\n",
    "        rows.append(row)\n",
    "\n",
    "rows"
   ]
  },
  {
   "cell_type": "code",
   "execution_count": 155,
   "id": "f315ad61",
   "metadata": {},
   "outputs": [
    {
     "data": {
      "text/plain": [
       "[{'Price': 15.2, 'Quality': 'A', 'Name': 'Orange'},\n",
       " {'Price': 19, 'Quality': 'B', 'Name': 'Orange'},\n",
       " {'Price': 17.8, 'Quality': 'C', 'Name': 'Orange'},\n",
       " {'Price': 23.2, 'Quality': 'A', 'Name': 'Grapes'},\n",
       " {'Price': 28, 'Quality': 'B', 'Name': 'Grapes'}]"
      ]
     },
     "execution_count": 155,
     "metadata": {},
     "output_type": "execute_result"
    }
   ],
   "source": [
    "li= []\n",
    "for data in list3:\n",
    "#     print(data)\n",
    "    fruit_list = data['Fruit']\n",
    "    name = data['Name']\n",
    "    for value in fruit_list:\n",
    "        value['Name'] = name\n",
    "        li.append(value)\n",
    "#         print(value)\n",
    "        \n",
    "    \n",
    "#     print(\"\\n\\n\\n\")\n",
    "li"
   ]
  },
  {
   "cell_type": "code",
   "execution_count": 157,
   "id": "663feeb7",
   "metadata": {},
   "outputs": [
    {
     "data": {
      "text/html": [
       "<div>\n",
       "<style scoped>\n",
       "    .dataframe tbody tr th:only-of-type {\n",
       "        vertical-align: middle;\n",
       "    }\n",
       "\n",
       "    .dataframe tbody tr th {\n",
       "        vertical-align: top;\n",
       "    }\n",
       "\n",
       "    .dataframe thead th {\n",
       "        text-align: right;\n",
       "    }\n",
       "</style>\n",
       "<table border=\"1\" class=\"dataframe\">\n",
       "  <thead>\n",
       "    <tr style=\"text-align: right;\">\n",
       "      <th></th>\n",
       "      <th>Price</th>\n",
       "      <th>Quality</th>\n",
       "      <th>Name</th>\n",
       "    </tr>\n",
       "  </thead>\n",
       "  <tbody>\n",
       "    <tr>\n",
       "      <th>0</th>\n",
       "      <td>15.2</td>\n",
       "      <td>A</td>\n",
       "      <td>Orange</td>\n",
       "    </tr>\n",
       "    <tr>\n",
       "      <th>1</th>\n",
       "      <td>19.0</td>\n",
       "      <td>B</td>\n",
       "      <td>Orange</td>\n",
       "    </tr>\n",
       "    <tr>\n",
       "      <th>2</th>\n",
       "      <td>17.8</td>\n",
       "      <td>C</td>\n",
       "      <td>Orange</td>\n",
       "    </tr>\n",
       "    <tr>\n",
       "      <th>3</th>\n",
       "      <td>23.2</td>\n",
       "      <td>A</td>\n",
       "      <td>Grapes</td>\n",
       "    </tr>\n",
       "    <tr>\n",
       "      <th>4</th>\n",
       "      <td>28.0</td>\n",
       "      <td>B</td>\n",
       "      <td>Grapes</td>\n",
       "    </tr>\n",
       "  </tbody>\n",
       "</table>\n",
       "</div>"
      ],
      "text/plain": [
       "   Price Quality    Name\n",
       "0   15.2       A  Orange\n",
       "1   19.0       B  Orange\n",
       "2   17.8       C  Orange\n",
       "3   23.2       A  Grapes\n",
       "4   28.0       B  Grapes"
      ]
     },
     "execution_count": 157,
     "metadata": {},
     "output_type": "execute_result"
    }
   ],
   "source": [
    "new = pd.DataFrame(li)\n",
    "new"
   ]
  },
  {
   "cell_type": "code",
   "execution_count": 159,
   "id": "ff57c70c",
   "metadata": {},
   "outputs": [],
   "source": [
    "# Replace values in Pandas dataframe using regex"
   ]
  },
  {
   "cell_type": "code",
   "execution_count": 166,
   "id": "174a889c",
   "metadata": {},
   "outputs": [
    {
     "data": {
      "text/html": [
       "<div>\n",
       "<style scoped>\n",
       "    .dataframe tbody tr th:only-of-type {\n",
       "        vertical-align: middle;\n",
       "    }\n",
       "\n",
       "    .dataframe tbody tr th {\n",
       "        vertical-align: top;\n",
       "    }\n",
       "\n",
       "    .dataframe thead th {\n",
       "        text-align: right;\n",
       "    }\n",
       "</style>\n",
       "<table border=\"1\" class=\"dataframe\">\n",
       "  <thead>\n",
       "    <tr style=\"text-align: right;\">\n",
       "      <th></th>\n",
       "      <th>City</th>\n",
       "      <th>Event</th>\n",
       "      <th>Cost</th>\n",
       "    </tr>\n",
       "  </thead>\n",
       "  <tbody>\n",
       "    <tr>\n",
       "      <th>0</th>\n",
       "      <td>New York (City)</td>\n",
       "      <td>Music</td>\n",
       "      <td>10000</td>\n",
       "    </tr>\n",
       "    <tr>\n",
       "      <th>1</th>\n",
       "      <td>Parague</td>\n",
       "      <td>Poetry</td>\n",
       "      <td>5000</td>\n",
       "    </tr>\n",
       "    <tr>\n",
       "      <th>2</th>\n",
       "      <td>New Delhi (Delhi)</td>\n",
       "      <td>Theatre</td>\n",
       "      <td>15000</td>\n",
       "    </tr>\n",
       "    <tr>\n",
       "      <th>3</th>\n",
       "      <td>Venice</td>\n",
       "      <td>Comedy</td>\n",
       "      <td>2000</td>\n",
       "    </tr>\n",
       "    <tr>\n",
       "      <th>4</th>\n",
       "      <td>new Orleans</td>\n",
       "      <td>Tech_Summit</td>\n",
       "      <td>12000</td>\n",
       "    </tr>\n",
       "  </tbody>\n",
       "</table>\n",
       "</div>"
      ],
      "text/plain": [
       "                City        Event   Cost\n",
       "0    New York (City)        Music  10000\n",
       "1            Parague       Poetry   5000\n",
       "2  New Delhi (Delhi)      Theatre  15000\n",
       "3             Venice       Comedy   2000\n",
       "4        new Orleans  Tech_Summit  12000"
      ]
     },
     "execution_count": 166,
     "metadata": {},
     "output_type": "execute_result"
    }
   ],
   "source": [
    "# importing pandas as pd\n",
    "import pandas as pd\n",
    "import re\n",
    "  \n",
    "# Let's create a Dataframe\n",
    "df = pd.DataFrame({'City':['New York (City)', 'Parague', 'New Delhi (Delhi)', 'Venice', 'new Orleans'],\n",
    "                    'Event':['Music', 'Poetry', 'Theatre', 'Comedy', 'Tech_Summit'],\n",
    "                    'Cost':[10000, 5000, 15000, 2000, 12000]})\n",
    "  \n",
    "# aLet's create the index\n",
    "\n",
    "\n",
    "# index_ = [pd.Period('02-2018'), pd.Period('04-2018'),\n",
    "#           pd.Period('06-2018'), pd.Period('10-2018'), pd.Period('12-2018')]\n",
    "  \n",
    "# Set the index\n",
    "# df.index = index_\n",
    "  \n",
    "# Let's print the dataframe\n",
    "# print(df)\n",
    "df"
   ]
  },
  {
   "cell_type": "code",
   "execution_count": 169,
   "id": "1c88af48",
   "metadata": {},
   "outputs": [
    {
     "data": {
      "text/plain": [
       "0      New York \n",
       "1        Parague\n",
       "2     New Delhi \n",
       "3         Venice\n",
       "4    new Orleans\n",
       "Name: City, dtype: object"
      ]
     },
     "execution_count": 169,
     "metadata": {},
     "output_type": "execute_result"
    }
   ],
   "source": [
    "df.City.str.replace(r'\\(.*','', regex=True)"
   ]
  },
  {
   "cell_type": "code",
   "execution_count": null,
   "id": "acd29501",
   "metadata": {},
   "outputs": [],
   "source": []
  },
  {
   "cell_type": "code",
   "execution_count": 165,
   "id": "740ade9c",
   "metadata": {},
   "outputs": [
    {
     "data": {
      "text/html": [
       "<div>\n",
       "<style scoped>\n",
       "    .dataframe tbody tr th:only-of-type {\n",
       "        vertical-align: middle;\n",
       "    }\n",
       "\n",
       "    .dataframe tbody tr th {\n",
       "        vertical-align: top;\n",
       "    }\n",
       "\n",
       "    .dataframe thead th {\n",
       "        text-align: right;\n",
       "    }\n",
       "</style>\n",
       "<table border=\"1\" class=\"dataframe\">\n",
       "  <thead>\n",
       "    <tr style=\"text-align: right;\">\n",
       "      <th></th>\n",
       "      <th>City</th>\n",
       "      <th>Event</th>\n",
       "      <th>Cost</th>\n",
       "    </tr>\n",
       "  </thead>\n",
       "  <tbody>\n",
       "    <tr>\n",
       "      <th>0</th>\n",
       "      <td>New York</td>\n",
       "      <td>Music</td>\n",
       "      <td>10000</td>\n",
       "    </tr>\n",
       "    <tr>\n",
       "      <th>1</th>\n",
       "      <td>Parague</td>\n",
       "      <td>Poetry</td>\n",
       "      <td>5000</td>\n",
       "    </tr>\n",
       "    <tr>\n",
       "      <th>2</th>\n",
       "      <td>New Delhi</td>\n",
       "      <td>Theatre</td>\n",
       "      <td>15000</td>\n",
       "    </tr>\n",
       "    <tr>\n",
       "      <th>3</th>\n",
       "      <td>Venice</td>\n",
       "      <td>Comedy</td>\n",
       "      <td>2000</td>\n",
       "    </tr>\n",
       "    <tr>\n",
       "      <th>4</th>\n",
       "      <td>new Orleans</td>\n",
       "      <td>Tech_Summit</td>\n",
       "      <td>12000</td>\n",
       "    </tr>\n",
       "  </tbody>\n",
       "</table>\n",
       "</div>"
      ],
      "text/plain": [
       "          City        Event   Cost\n",
       "0    New York         Music  10000\n",
       "1      Parague       Poetry   5000\n",
       "2   New Delhi       Theatre  15000\n",
       "3       Venice       Comedy   2000\n",
       "4  new Orleans  Tech_Summit  12000"
      ]
     },
     "execution_count": 165,
     "metadata": {},
     "output_type": "execute_result"
    }
   ],
   "source": [
    "def clean_city(value):\n",
    "    if re.search('\\(.*', value):\n",
    "        pos = re.search('\\(.*', value).start()\n",
    "        return value[:pos]\n",
    "    else:\n",
    "        return value\n",
    "    \n",
    "df.City = df.City.apply(clean_city)\n",
    "df"
   ]
  },
  {
   "cell_type": "code",
   "execution_count": null,
   "id": "9fabbc2a",
   "metadata": {},
   "outputs": [],
   "source": []
  },
  {
   "cell_type": "code",
   "execution_count": 179,
   "id": "8a13a316",
   "metadata": {},
   "outputs": [
    {
     "data": {
      "text/plain": [
       "0    1100000\n",
       "1      40000\n",
       "2         44\n",
       "Name: Col, dtype: object"
      ]
     },
     "execution_count": 179,
     "metadata": {},
     "output_type": "execute_result"
    }
   ],
   "source": [
    "import pandas as pd\n",
    "\n",
    "# Creating a dictionary\n",
    "d = {'Col':['$1100,000*','$40000 string created','4m4']}\n",
    "\n",
    "# Creating a dataframe\n",
    "df = pd.DataFrame(d)\n",
    "df.Col.str.replace(r'\\D+','', regex=True)"
   ]
  },
  {
   "cell_type": "code",
   "execution_count": null,
   "id": "8ae660eb",
   "metadata": {},
   "outputs": [],
   "source": []
  },
  {
   "cell_type": "code",
   "execution_count": null,
   "id": "98dd1df6",
   "metadata": {},
   "outputs": [],
   "source": []
  },
  {
   "cell_type": "code",
   "execution_count": null,
   "id": "3e8fbe0e",
   "metadata": {},
   "outputs": [],
   "source": []
  },
  {
   "cell_type": "code",
   "execution_count": null,
   "id": "ee1ecd89",
   "metadata": {},
   "outputs": [],
   "source": []
  },
  {
   "cell_type": "markdown",
   "id": "7e93f8a7",
   "metadata": {},
   "source": [
    "# Pandas  - Assignment no 03\n",
    "- Here is link of [Pandas - Assignment no 03]()"
   ]
  },
  {
   "cell_type": "code",
   "execution_count": null,
   "id": "99d145e7",
   "metadata": {},
   "outputs": [],
   "source": []
  },
  {
   "cell_type": "code",
   "execution_count": null,
   "id": "6fb00a78",
   "metadata": {},
   "outputs": [],
   "source": []
  },
  {
   "cell_type": "code",
   "execution_count": null,
   "id": "ea7a8558",
   "metadata": {},
   "outputs": [],
   "source": []
  },
  {
   "cell_type": "code",
   "execution_count": null,
   "id": "0ded24e3",
   "metadata": {},
   "outputs": [],
   "source": []
  }
 ],
 "metadata": {
  "kernelspec": {
   "display_name": "Python 3 (ipykernel)",
   "language": "python",
   "name": "python3"
  },
  "language_info": {
   "codemirror_mode": {
    "name": "ipython",
    "version": 3
   },
   "file_extension": ".py",
   "mimetype": "text/x-python",
   "name": "python",
   "nbconvert_exporter": "python",
   "pygments_lexer": "ipython3",
   "version": "3.8.10"
  }
 },
 "nbformat": 4,
 "nbformat_minor": 5
}
