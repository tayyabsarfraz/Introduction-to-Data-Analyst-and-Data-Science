{
 "cells": [
  {
   "cell_type": "markdown",
   "id": "4a87b5ef",
   "metadata": {},
   "source": [
    "---   \n",
    "\n",
    "<h1 align=\"center\">Introduction to Data Analyst and Data Science for beginners</h1>\n",
    "<h1 align=\"center\">Lecture no 2.14(Pandas-05)</h1>\n",
    "\n",
    "---\n",
    "<h3><div align=\"right\">Ehtisham Sadiq</div></h3>    "
   ]
  },
  {
   "cell_type": "markdown",
   "id": "19f82705",
   "metadata": {},
   "source": [
    "## _Indexing, Subsetting and Slicing Dataframes.ipynb_"
   ]
  },
  {
   "cell_type": "markdown",
   "id": "328bd879",
   "metadata": {},
   "source": [
    "## Motivation:\n",
    "- The ability to select specific rows and columns to access and filter data based on specific conditions are two of the key features of Pandas.\n",
    "    - **Selection** allows you to access specific rows or columns (a subset) of the data by their index and/or location in the DataFrame\n",
    "        - In large datasets, you may be required to select the first/last N records\n",
    "        - In large datasets, you may be required to select a range (n to m) of records\n",
    "        - In large datasets, you may be required to select specific columns of your interest\n",
    "        - In large datasets, you may be required to select specific range and specific columns of your interest\n",
    "    - **Filtering** allows you to access specific rows or columns (a subset) of the data based on one or more conditions\n",
    "        - In a medical dataset, you may be required to filter record of all those patients who suffer with a specific disease, or who have a specific blood group\n",
    "        - In a medical dataset, you may be required to filter pregnant women who have anemia, and compare this subset to women who don’t have anemia.\n",
    "        - In a travel dataset, you may be required to filter hotels inside Lahore city, sorted by their minimum per day cost\n",
    "        - In a client dataset, you may be required filter the clients who use a Gmail account(may require a string filter)\n",
    "        - In a client dataset, you may be required to filter the clients who belong to a specific countries (may require use of .isin() function)"
   ]
  },
  {
   "cell_type": "markdown",
   "id": "12db95e1",
   "metadata": {},
   "source": [
    "## Learning agenda of this notebook\n",
    "1. Understanding Indices of a Dataframe\n",
    "    - Understand the Dataset\n",
    "    - Changing the Column Indices of a Dataframe\n",
    "    - Changing the Row Indices of a Dataframe\n",
    "2. Selecting Row(s) and Column(s) of a Dataframe using `df[]` \n",
    "3. Selecting Rows and Columns using `iloc` Method\n",
    "4. Selecting Rows and Columns using `loc` Method\n",
    "5. Conditional Selection   \n",
    "6. Selecting columns of a specific data type\n"
   ]
  },
  {
   "cell_type": "code",
   "execution_count": null,
   "id": "9ea649a9",
   "metadata": {},
   "outputs": [],
   "source": []
  },
  {
   "cell_type": "markdown",
   "id": "8f71cf0e",
   "metadata": {},
   "source": [
    "## 1. Understanding Indices of a Dataframe\n",
    "\n",
    "<img align=\"right\" width=\"300\" height=\"300\"  src=\"images/series-anatomy.png\"  >\n",
    "<img align=\"left\" width=\"500\" height=\"500\"  src=\"images/dataframe.png\"  >"
   ]
  },
  {
   "cell_type": "code",
   "execution_count": null,
   "id": "bf6d8ca6",
   "metadata": {},
   "outputs": [],
   "source": []
  },
  {
   "cell_type": "markdown",
   "id": "2904c014",
   "metadata": {},
   "source": [
    "Series:\n",
    "- We have seen a series is a an object like a 1d array capable of holding a sequence of values of any data type.\n",
    "- Every data value of series has an explicit row index associated with it ,which can be a numeric value as well as a string. \n",
    "- We have also seen that we can use these indices for three purposes for accessing the elements ,for subsetting or slicing purposes.\n",
    "\n",
    "DataFrame:\n",
    "- Dataframe is a 2d labeled data structure so it has two indices. A row index that moves from top to bottom is associated with rows of a dataframe and a column index that moves from left to right is associated with the columns of a dataframe. By default the row indices starts from 0 and ends at n-1 where n is the total number of rows in a dataframe and this is actually an integer identifier for the rows similarly the column indices by default also starts from 0 and ends at n-1 where n is the total number of columns in a data frame and this is actually an integer identifier for the columns."
   ]
  },
  {
   "cell_type": "code",
   "execution_count": null,
   "id": "bd882f05",
   "metadata": {},
   "outputs": [],
   "source": []
  },
  {
   "cell_type": "markdown",
   "id": "1d2bba7a",
   "metadata": {},
   "source": [
    "###  a. Understand the Dataset\n",
    "- Let us first understand the dataframe on which we are going to work in today's notebook"
   ]
  },
  {
   "cell_type": "code",
   "execution_count": null,
   "id": "3a6a3d25",
   "metadata": {},
   "outputs": [],
   "source": [
    "import numpy as np\n",
    "import pandas as pd\n",
    "df = pd.read_csv('datasets/groupdata.csv')\n",
    "df"
   ]
  },
  {
   "cell_type": "code",
   "execution_count": null,
   "id": "a681972e",
   "metadata": {},
   "outputs": [],
   "source": []
  },
  {
   "cell_type": "code",
   "execution_count": null,
   "id": "e67be45b",
   "metadata": {},
   "outputs": [],
   "source": [
    "# `shape` attribute of a dataframe object return a two value tuple containing rows and columns\n",
    "# Note the rows count does not include the column labels and column count does not include the row index\n",
    "df.shape"
   ]
  },
  {
   "cell_type": "code",
   "execution_count": null,
   "id": "575dee99",
   "metadata": {},
   "outputs": [],
   "source": []
  },
  {
   "cell_type": "code",
   "execution_count": null,
   "id": "8c00cc7d",
   "metadata": {},
   "outputs": [],
   "source": [
    "# `index` attribute of a dataframe object return the list of row indices and its datatype\n",
    "df.index"
   ]
  },
  {
   "cell_type": "code",
   "execution_count": null,
   "id": "9219f240",
   "metadata": {},
   "outputs": [],
   "source": []
  },
  {
   "cell_type": "code",
   "execution_count": null,
   "id": "b8a7fc1b",
   "metadata": {},
   "outputs": [],
   "source": [
    "# `columns` attribute of a dataframe object return the list of column labels and its datatype\n",
    "df.columns"
   ]
  },
  {
   "cell_type": "code",
   "execution_count": null,
   "id": "782d6635",
   "metadata": {},
   "outputs": [],
   "source": []
  },
  {
   "cell_type": "code",
   "execution_count": null,
   "id": "899d087f",
   "metadata": {},
   "outputs": [],
   "source": [
    "# `dtypes` attribute of a dataframe object return the data type of each column in the dataframe\n",
    "df.dtypes"
   ]
  },
  {
   "cell_type": "code",
   "execution_count": null,
   "id": "370b4796",
   "metadata": {},
   "outputs": [],
   "source": []
  },
  {
   "cell_type": "code",
   "execution_count": null,
   "id": "edc86d22",
   "metadata": {},
   "outputs": [],
   "source": [
    "#This method prints information about a DataFrame including the row indices, column labels, \n",
    "# non-null values count in each column, datatype and memory usage\n",
    "df.info()"
   ]
  },
  {
   "cell_type": "code",
   "execution_count": null,
   "id": "7262d057",
   "metadata": {},
   "outputs": [],
   "source": []
  },
  {
   "cell_type": "code",
   "execution_count": null,
   "id": "1a1b03fb",
   "metadata": {},
   "outputs": [],
   "source": [
    "# If no argument is passed, this method displays descriptive statistics about the numeric columns of the dataframe\n",
    "df.describe(include='all')"
   ]
  },
  {
   "cell_type": "code",
   "execution_count": null,
   "id": "f685f94c",
   "metadata": {},
   "outputs": [],
   "source": []
  },
  {
   "cell_type": "markdown",
   "id": "0de5cdd8",
   "metadata": {},
   "source": [
    "### b. Changing the Column Indices/Labels of a Datarame\n",
    "- Every dataframe has column labels associated with its columns\n",
    "- These by default are integer values from 0,1,2,3...\n",
    "- However, while creating a dataframe from scratch, or while reading them from a file you can set them to more meaningful string values.\n",
    "- While reading from csv file the first row in the file is taken as the column labels\n",
    "- We can change the column labels, if we want\n",
    "- Let us practically see this for better understanding"
   ]
  },
  {
   "cell_type": "code",
   "execution_count": null,
   "id": "3e29d2a9",
   "metadata": {},
   "outputs": [],
   "source": [
    "import pandas as pd\n",
    "df = pd.read_csv('datasets/groupdata.csv')\n",
    "df.head()"
   ]
  },
  {
   "cell_type": "code",
   "execution_count": null,
   "id": "b1224d79",
   "metadata": {},
   "outputs": [],
   "source": [
    "df = pd.read_csv('datasets/groupdatawithoutcollables.csv')\n",
    "df.head()\n"
   ]
  },
  {
   "cell_type": "code",
   "execution_count": null,
   "id": "0daf15a9",
   "metadata": {},
   "outputs": [],
   "source": [
    "# To read such files, you have to pass the parameter `header=None` to the `read_csv()` method\n",
    "df = pd.read_csv('datasets/groupdatawithoutcollables.csv', header=None)\n",
    "df.head()\n"
   ]
  },
  {
   "cell_type": "markdown",
   "id": "3488b6fe",
   "metadata": {},
   "source": [
    ">Let us suppose we have above dataframe, in which the column indices are just integer values associated with the position of every column. We want to assign some meaningful names to the columns for better understanding. There are many options or ways to do that."
   ]
  },
  {
   "cell_type": "code",
   "execution_count": null,
   "id": "7d06d188",
   "metadata": {},
   "outputs": [],
   "source": []
  },
  {
   "cell_type": "markdown",
   "id": "cd16b0a0",
   "metadata": {},
   "source": [
    "**Changing Column IndicesLabels:** Assign a list of column labels to the `columns` attribute of dataframe"
   ]
  },
  {
   "cell_type": "code",
   "execution_count": null,
   "id": "ee7c1175",
   "metadata": {},
   "outputs": [],
   "source": [
    "col_names = ['roll no', 'name', 'age', 'address', 'session', 'group', 'gender', 'subj1', 'subj2', 'scholarship']\n",
    "df.columns = col_names\n",
    "df.head()"
   ]
  },
  {
   "cell_type": "markdown",
   "id": "4f5e22ca",
   "metadata": {},
   "source": [
    ">Note that in the above dataframe, first column name has a space, which is a bit difficult to use sometimes, so if you want to change value of a specific column label, you can use the `df.rename()` method"
   ]
  },
  {
   "cell_type": "code",
   "execution_count": null,
   "id": "44c77040",
   "metadata": {},
   "outputs": [],
   "source": [
    "# You pass a dictionary object to the columns argument to rename() method\n",
    "# The key is the old column name, while the value is the new column name\n",
    "df1 = df.rename(columns={'roll no': 'rollno'}, inplace=False)"
   ]
  },
  {
   "cell_type": "code",
   "execution_count": null,
   "id": "d4a2bad3",
   "metadata": {},
   "outputs": [],
   "source": [
    "df1.head(3)"
   ]
  },
  {
   "cell_type": "markdown",
   "id": "d365bf55",
   "metadata": {},
   "source": [
    ">Last but not the least, another way is to assign appropriate column labels to your dataframes by passing a list of column names to the `names` argument of the `df.read_csv()` method. Do it at your own :)"
   ]
  },
  {
   "cell_type": "code",
   "execution_count": null,
   "id": "84643aca",
   "metadata": {},
   "outputs": [],
   "source": []
  },
  {
   "cell_type": "markdown",
   "id": "2c3c30ba",
   "metadata": {},
   "source": [
    "### c. Changing the Row Indices/Labels of a  Dataframe\n",
    "- Every dataframe has row index associated with its rows\n",
    "- These by default are integer values from 0,1,2,3...\n",
    "- However, while creating a dataframe from scratch you may set them to some meaningful string values (seldom required).\n",
    "- We have already seen this in our previous session\n",
    "- Today, we will see two methods that work on row indices of a Pandas Dataframe named `df.set_index()` and `df.reset_index()`"
   ]
  },
  {
   "cell_type": "code",
   "execution_count": null,
   "id": "320a1817",
   "metadata": {},
   "outputs": [],
   "source": [
    "# Let us load the dataset again into dataframe\n",
    "import pandas as pd\n",
    "df = pd.read_csv('datasets/groupdata.csv')\n",
    "df.head(3)"
   ]
  },
  {
   "cell_type": "code",
   "execution_count": null,
   "id": "7ccd48bb",
   "metadata": {},
   "outputs": [],
   "source": [
    "df.index"
   ]
  },
  {
   "cell_type": "markdown",
   "id": "34a875f9",
   "metadata": {},
   "source": [
    ">Let us suppose we have above dataframe, in which the row indices are just integer values associated with the position of every row. We want to assign some meaningful indices to the rows for better understanding. Suppose, we want to set values of the column rollno as index of this dataframe. So we donot want positional indices rather want some meaningful string indices, which are roll numbers of students in this case. "
   ]
  },
  {
   "cell_type": "markdown",
   "id": "b8df0c60",
   "metadata": {},
   "source": [
    "**Changing Row Indices:** The `df.set_index()` method can be used to change row index of a dataframe using an existing column(s)\n",
    "`df.set_index(keys, drop=True, append=False, inplace=False, verify_integrity=False)`\n",
    "\n",
    "- Where\n",
    "    - `keys` is the column label \n",
    "    - `drop=True`, to drop the column from data part of dataframe that is being used as column index now\n",
    "    - `append=False`, Set it to True if you want to append columns to existing index\n",
    "    - `inplace=False`, Set it to True to make changes in the original dataframe, i.e., do not create a new object\n",
    "    - `verify_integrity=False`, Set it to True to check the new index for duplicates. Default value of False will improve the performance of this method.\n",
    "\n",
    "Returns Dataframe if `inplace=False` or None if `inplace=True`"
   ]
  },
  {
   "cell_type": "code",
   "execution_count": null,
   "id": "0c6413f7",
   "metadata": {},
   "outputs": [],
   "source": [
    "df1 = df.set_index(keys='roll no', drop=False)\n",
    "df1.head(3)"
   ]
  },
  {
   "cell_type": "markdown",
   "id": "435b624c",
   "metadata": {},
   "source": [
    "Note: The rollno column still exist as part of the dataframe. To drop it set `drop=True`"
   ]
  },
  {
   "cell_type": "code",
   "execution_count": null,
   "id": "e3c2ba53",
   "metadata": {},
   "outputs": [],
   "source": []
  },
  {
   "cell_type": "code",
   "execution_count": null,
   "id": "ab6d2fe3",
   "metadata": {},
   "outputs": [],
   "source": [
    "df1 = df.set_index(keys='roll no', drop=True)\n",
    "df1.head(3)"
   ]
  },
  {
   "cell_type": "markdown",
   "id": "042e1a5f",
   "metadata": {},
   "source": [
    "Another point to note is that no change has been made to the original dataframe since `inplace` arguement is by default False. Let us verify this"
   ]
  },
  {
   "cell_type": "code",
   "execution_count": null,
   "id": "7a7e055a",
   "metadata": {},
   "outputs": [],
   "source": [
    "df.head()"
   ]
  },
  {
   "cell_type": "markdown",
   "id": "7089ff61",
   "metadata": {},
   "source": [
    "Instead of returning a dataframe, the `df.set_index()` method can change the column index inplace. Let us do that now"
   ]
  },
  {
   "cell_type": "code",
   "execution_count": null,
   "id": "6c3de2ed",
   "metadata": {},
   "outputs": [],
   "source": [
    "df.set_index(keys='roll no', drop=True, inplace=True)\n",
    "df.head()"
   ]
  },
  {
   "cell_type": "markdown",
   "id": "79628642",
   "metadata": {},
   "source": [
    ">Note that the roll no column has become the index now, it is no more data of the dataframe"
   ]
  },
  {
   "cell_type": "code",
   "execution_count": null,
   "id": "951244e1",
   "metadata": {},
   "outputs": [],
   "source": [
    "df.index"
   ]
  },
  {
   "cell_type": "code",
   "execution_count": null,
   "id": "e5463f8f",
   "metadata": {},
   "outputs": [],
   "source": []
  },
  {
   "cell_type": "markdown",
   "id": "6a6e75bc",
   "metadata": {},
   "source": [
    "**Changing Row Indices Back to Positional:** The `df.reset_index()` method is used to reset the row index of the dataframe back to positional integer indices\n",
    "\n",
    "`df.reset_index(drop=False, inplace=False)`\n",
    "Where\n",
    "- `drop=False`, Do not try to insert index into dataframe columns. This resets the index to the default integer index.\n",
    "- `inplace=False`,  Modify the DataFrame in place (do not create a new object).\n",
    "\n",
    "Returns Dataframe if `inplace=False` or None if `inplace=True`"
   ]
  },
  {
   "cell_type": "code",
   "execution_count": null,
   "id": "e210fbb9",
   "metadata": {},
   "outputs": [],
   "source": [
    "df.head()"
   ]
  },
  {
   "cell_type": "code",
   "execution_count": null,
   "id": "f7b5e6d4",
   "metadata": {},
   "outputs": [],
   "source": [
    "df.shape"
   ]
  },
  {
   "cell_type": "code",
   "execution_count": null,
   "id": "8aee9dd3",
   "metadata": {},
   "outputs": [],
   "source": [
    "# reset the index\n",
    "df2 = df.reset_index()\n",
    "df2.index"
   ]
  },
  {
   "cell_type": "code",
   "execution_count": null,
   "id": "4704e4f6",
   "metadata": {
    "colab": {},
    "colab_type": "code",
    "id": "054SCKpufWir",
    "outputId": "050ced56-1fa7-4c30-cbe7-f2dadbe2d710"
   },
   "outputs": [],
   "source": [
    "df2.head(3)"
   ]
  },
  {
   "cell_type": "code",
   "execution_count": null,
   "id": "0db2f2f3",
   "metadata": {},
   "outputs": [],
   "source": [
    "df3 = df2.reset_index()"
   ]
  },
  {
   "cell_type": "code",
   "execution_count": null,
   "id": "b7d73dee",
   "metadata": {},
   "outputs": [],
   "source": [
    "df3"
   ]
  },
  {
   "cell_type": "code",
   "execution_count": null,
   "id": "36a4b115",
   "metadata": {},
   "outputs": [],
   "source": []
  },
  {
   "cell_type": "markdown",
   "id": "bdac5b44",
   "metadata": {},
   "source": [
    "## 2. Selecting Column(s) and Row(s) of a Dataframe using `df[]` \n",
    "\n",
    "<img align=\"right\" width=\"400\" height=\"400\"  src=\"images/groupdata.png\"  >\n",
    "\n",
    "- Consider this dataframe which is sorted by ages. Note the row indices has been randomized and they do not correspond to positional indices (which we normally visualize as 0,1,2,3...)\n",
    "- To access column(s) of a dataframe:\n",
    "    - To access single column, mention the column index/label inside `[]`, which in this case are strings, however, can be integer values as well. It will return a new Series object.\n",
    "    - To access multiple columns, pass column indices/labels as a list inside `[]`. It will return a new Dataframe object.\n",
    "- To access rows(s) of a dataframe:    \n",
    "    - Mention the **positional** row indices as a slice object `[start:stop:step]`, (In this case the positional indices do not match with the actual row indices). It will return a new Dataframe object.\n",
    "        - `start`: specifies from where the slicing should start, inclusive (default is 0) \n",
    "        - `stop`: specifies where it has to stop, exclusive (default is end of the array) \n",
    "        - `step`:  is by-default 1\n",
    "    \n",
    "    \n",
    "**Note:** \n",
    "- You cannot use two subscript operators `df[2][5]` to access a specific element of a dataframe as in case of numPy arrays.\n",
    "- You cannot get the subset of a dataframe w.r.t rows and columns at the same time using `df[]`, it can either return a subset of columns only or rows only.\n",
    "- We will soon see the `df.loc[]` and `df.iloc[]` methods that provides simpler, elegant and powerful way to subset a dataframe as compared to `df[]` syntax."
   ]
  },
  {
   "cell_type": "code",
   "execution_count": null,
   "id": "563052be",
   "metadata": {},
   "outputs": [],
   "source": []
  },
  {
   "cell_type": "code",
   "execution_count": null,
   "id": "3b45abcc",
   "metadata": {},
   "outputs": [],
   "source": [
    "# Let us read a fresh dataframe and sort it by age column to have a clear understanding about indexing\n",
    "df = pd.read_csv('datasets/groupdata.csv')\n",
    "df_sorted = df.sort_values('age')\n",
    "df_sorted.head()"
   ]
  },
  {
   "cell_type": "code",
   "execution_count": null,
   "id": "4db05f3f",
   "metadata": {},
   "outputs": [],
   "source": [
    "df_sorted[1:2]"
   ]
  },
  {
   "cell_type": "markdown",
   "id": "b0cf706f",
   "metadata": {},
   "source": [
    "**Example 1:** Select the data under the column `name`. Since the column labels are strings, so we mention it in single quotes."
   ]
  },
  {
   "cell_type": "code",
   "execution_count": null,
   "id": "786fe173",
   "metadata": {},
   "outputs": [],
   "source": [
    "s1 = df_sorted['name']\n",
    "print(s1)\n",
    "type(s1)"
   ]
  },
  {
   "cell_type": "markdown",
   "id": "bcd12999",
   "metadata": {},
   "source": [
    "> The result is a new Series object. Since this is a series, so you can use many of the methods that you can use on Pandas Series and Dataframes, in a chained format, as shown below"
   ]
  },
  {
   "cell_type": "code",
   "execution_count": null,
   "id": "9dd6895e",
   "metadata": {},
   "outputs": [],
   "source": [
    "s1.head()\n",
    "# or\n",
    "df['name'].head()"
   ]
  },
  {
   "cell_type": "code",
   "execution_count": null,
   "id": "c5bdf554",
   "metadata": {},
   "outputs": [],
   "source": []
  },
  {
   "cell_type": "markdown",
   "id": "99e4dfe1",
   "metadata": {},
   "source": [
    "**Example 2:** To select multiple columns of a dataframe, pass a list of column names. The result is a new DataFrame object with the selected columns. "
   ]
  },
  {
   "cell_type": "code",
   "execution_count": null,
   "id": "f417bcd1",
   "metadata": {},
   "outputs": [],
   "source": [
    "# Just get the first five rows for the columns `roll no`, `gender` and `age`\n",
    "d1 = df_sorted[['roll no', 'gender', 'age']].head()\n",
    "d1"
   ]
  },
  {
   "cell_type": "code",
   "execution_count": null,
   "id": "a91ae4e2",
   "metadata": {},
   "outputs": [],
   "source": []
  },
  {
   "cell_type": "markdown",
   "id": "5936f688",
   "metadata": {},
   "source": [
    "**Example 3:** Select the data of a single row at position 1."
   ]
  },
  {
   "cell_type": "code",
   "execution_count": null,
   "id": "072691e5",
   "metadata": {},
   "outputs": [],
   "source": [
    "df_sorted[1:2:1]"
   ]
  },
  {
   "cell_type": "markdown",
   "id": "08dc3331",
   "metadata": {},
   "source": [
    ">Point to note that in `df_sorted` dataframe at position 1, we have record of Muhahid having dataframe index 12"
   ]
  },
  {
   "cell_type": "code",
   "execution_count": null,
   "id": "129853ae",
   "metadata": {},
   "outputs": [],
   "source": []
  },
  {
   "cell_type": "markdown",
   "id": "18289301",
   "metadata": {},
   "source": [
    "**Example 4:** Select the rows from positional index 2 to 3."
   ]
  },
  {
   "cell_type": "code",
   "execution_count": null,
   "id": "a8a281b9",
   "metadata": {},
   "outputs": [],
   "source": [
    "df_sorted[2:4]"
   ]
  },
  {
   "cell_type": "code",
   "execution_count": null,
   "id": "0b20029b",
   "metadata": {},
   "outputs": [],
   "source": []
  },
  {
   "cell_type": "markdown",
   "id": "3399a250",
   "metadata": {},
   "source": [
    "**Example 5:** Select the rows from positional index 0, 5, 10, and 15"
   ]
  },
  {
   "cell_type": "code",
   "execution_count": null,
   "id": "a1d73eb4",
   "metadata": {},
   "outputs": [],
   "source": [
    "df_sorted[::5]"
   ]
  },
  {
   "cell_type": "markdown",
   "id": "926ae0a4",
   "metadata": {},
   "source": [
    ">Note that the output dataframe contains a subset of original dataframe. However, the index or row labels stays with the rows. It is not renumbered. So this means that every row is identified by a row label, which remain associated wih the row or record until you decide to reset the index"
   ]
  },
  {
   "cell_type": "markdown",
   "id": "36db08b2",
   "metadata": {},
   "source": [
    "#### Resetting the Index of Subset of a Dataframe\n",
    "- When we slice data from a datafeame, the row index of resulting dataframe may not be contiguous values.\n",
    "- You can reset it using the `df.reset_index()` method discussed above as well."
   ]
  },
  {
   "cell_type": "code",
   "execution_count": null,
   "id": "c5c9fba2",
   "metadata": {},
   "outputs": [],
   "source": [
    "df2 = df_sorted[5:12:2]\n",
    "df2"
   ]
  },
  {
   "cell_type": "code",
   "execution_count": null,
   "id": "9d7555f8",
   "metadata": {
    "scrolled": true
   },
   "outputs": [],
   "source": [
    "df3 = df2.reset_index()\n",
    "df3"
   ]
  },
  {
   "cell_type": "markdown",
   "id": "8a48dbb0",
   "metadata": {},
   "source": [
    ">Note that the index has been reset, however, the old index is now added as a column in the dataframe. Mostly this is not required, so pass the `drop=True` argument to `reset_index()` method to avoid this."
   ]
  },
  {
   "cell_type": "code",
   "execution_count": null,
   "id": "9f2ae7eb",
   "metadata": {},
   "outputs": [],
   "source": [
    "df4 = df2.reset_index(drop=True)\n",
    "df4"
   ]
  },
  {
   "cell_type": "code",
   "execution_count": null,
   "id": "d687a580",
   "metadata": {},
   "outputs": [],
   "source": []
  },
  {
   "cell_type": "markdown",
   "id": "f45dc3cb",
   "metadata": {},
   "source": [
    "## 3. Selecting Rows and Columns using `iloc` Method\n",
    "<img align=\"right\" width=\"400\" height=\"400\"  src=\"images/groupdata.png\"  >\n",
    "\n",
    "- The **`df.iloc[]`** is more powerful than the **`df[]`**, as it allows to filter rows as well as columns of user choice at the same time.\n",
    "- It is used for filtering rows and selecting columns by **integer position** (0 to n-1) (neither by row index value/label nor by column index value/label). So you cannot mention the column names like `age` rather you need to give its positional index and that is 2.\n",
    "```\n",
    "df.iloc[rowstoselect, colstoselect]\n",
    "```\n",
    "- You can place a collon in any of the two arguments to select all rows or all columns.\n",
    "- Another point to keep in mind is that the indices are by position (0 to n-1) and not by actual values of row and column indices. \n",
    "- Allowed inputs within `[ , ]` are:\n",
    "     - A single integer, e.g. ``5`` (note that ``5`` is interpreted as an integer position along the index).\n",
    "     - A list or array of integers, e.g.  `[9, 2, 7]`.\n",
    "     - A slice object with integers, e.g. ``2:9``.\n",
    "     - Note that as with usual Python slices, **stop** index is not included\n",
    "     - **Note:** ``.iloc`` will raise ``IndexError`` if a requested indexer is out-of-bounds, except *slice* indexers which allow out-of-bounds indexing (this conforms with python/numpy *slice* semantics)."
   ]
  },
  {
   "cell_type": "code",
   "execution_count": null,
   "id": "8df50cd2",
   "metadata": {},
   "outputs": [],
   "source": [
    "# Let us read a fresh dataframe and sort it by age column to have a clear understanding about indexing\n",
    "import pandas as pd\n",
    "df = pd.read_csv('datasets/groupdata.csv')\n",
    "df_sorted = df.sort_values('age')\n",
    "df_sorted.head()"
   ]
  },
  {
   "cell_type": "code",
   "execution_count": null,
   "id": "f1d3dc0f",
   "metadata": {},
   "outputs": [],
   "source": []
  },
  {
   "cell_type": "markdown",
   "id": "7474d97c",
   "metadata": {},
   "source": [
    "### a. Selection of Rows Only"
   ]
  },
  {
   "cell_type": "markdown",
   "id": "db4e6a54",
   "metadata": {},
   "source": [
    "**Example 1:** Select a single row with positional index  2 and all the columns"
   ]
  },
  {
   "cell_type": "code",
   "execution_count": null,
   "id": "f39ad79f",
   "metadata": {},
   "outputs": [],
   "source": [
    "df_sorted.iloc[2,:]"
   ]
  },
  {
   "cell_type": "markdown",
   "id": "607f9b3c",
   "metadata": {},
   "source": [
    "Note that the integer values are interpreted as row# (positional index) of the dataframe. Moreover a Series object is returned"
   ]
  },
  {
   "cell_type": "code",
   "execution_count": null,
   "id": "a8b13374",
   "metadata": {},
   "outputs": [],
   "source": []
  },
  {
   "cell_type": "markdown",
   "id": "671ba668",
   "metadata": {},
   "source": [
    "**Example 2:** Select rows with positional indices 2, 4 and 1 and all the columns"
   ]
  },
  {
   "cell_type": "code",
   "execution_count": null,
   "id": "dc9b15be",
   "metadata": {},
   "outputs": [],
   "source": [
    "df_sorted.iloc[[2,4,1], :]"
   ]
  },
  {
   "cell_type": "code",
   "execution_count": null,
   "id": "f31eae33",
   "metadata": {},
   "outputs": [],
   "source": []
  },
  {
   "cell_type": "markdown",
   "id": "f0ced7aa",
   "metadata": {},
   "source": [
    "**Example 3:** Select rows with positional indices from 3 to 5 (stop value is not inclusive) and all the columns"
   ]
  },
  {
   "cell_type": "code",
   "execution_count": null,
   "id": "0f356dae",
   "metadata": {},
   "outputs": [],
   "source": [
    "df_sorted.iloc[3:5, :]"
   ]
  },
  {
   "cell_type": "markdown",
   "id": "ade46ddf",
   "metadata": {},
   "source": [
    ">**In all above examples, if you omit comma and collon for the columns part, Pandas assumes it. I strongly recommend using the above style for clarity of code.**"
   ]
  },
  {
   "cell_type": "code",
   "execution_count": null,
   "id": "e068a471",
   "metadata": {},
   "outputs": [],
   "source": []
  },
  {
   "cell_type": "markdown",
   "id": "7b55926e",
   "metadata": {},
   "source": [
    "### b. Selection of Columns Only"
   ]
  },
  {
   "cell_type": "code",
   "execution_count": null,
   "id": "987fdfcb",
   "metadata": {},
   "outputs": [],
   "source": [
    "df_sorted.columns"
   ]
  },
  {
   "cell_type": "markdown",
   "id": "406ecb3c",
   "metadata": {},
   "source": [
    "**Example 1:** Select all the row values under the column at positional index 3"
   ]
  },
  {
   "cell_type": "code",
   "execution_count": null,
   "id": "c4ea93a0",
   "metadata": {},
   "outputs": [],
   "source": [
    "df_sorted.iloc[:, 3]"
   ]
  },
  {
   "cell_type": "code",
   "execution_count": null,
   "id": "25d445b9",
   "metadata": {},
   "outputs": [],
   "source": []
  },
  {
   "cell_type": "markdown",
   "id": "d18d10de",
   "metadata": {},
   "source": [
    "**Example 2:** Select all the row values under the column at positional index 1, 4, and 5"
   ]
  },
  {
   "cell_type": "code",
   "execution_count": null,
   "id": "bcef93b7",
   "metadata": {},
   "outputs": [],
   "source": [
    "df_sorted.iloc[:, [1,4,5]]"
   ]
  },
  {
   "cell_type": "code",
   "execution_count": null,
   "id": "522d549c",
   "metadata": {},
   "outputs": [],
   "source": []
  },
  {
   "cell_type": "markdown",
   "id": "2751b609",
   "metadata": {},
   "source": [
    "**Example 3:** Select all the row values under the columns from position 2 to 4 (Note that the stop index is not inclusive)"
   ]
  },
  {
   "cell_type": "code",
   "execution_count": null,
   "id": "9f62f365",
   "metadata": {},
   "outputs": [],
   "source": [
    "df_sorted.iloc[:, 2:5]"
   ]
  },
  {
   "cell_type": "code",
   "execution_count": null,
   "id": "6cfd4f30",
   "metadata": {},
   "outputs": [],
   "source": []
  },
  {
   "cell_type": "markdown",
   "id": "04645731",
   "metadata": {},
   "source": [
    "### c. Selection of Rows + Columns\n",
    "```\n",
    "df.iloc[whatrowsIwant, whatcolumnsIwant]\n",
    "```\n",
    "- You can use a single value, a list of multiple values, or a slice object for selecting rows\n",
    "- You can use a single value, a list of multiple values, or a slice object for selecting columns"
   ]
  },
  {
   "cell_type": "markdown",
   "id": "d23145c7",
   "metadata": {},
   "source": [
    "**Example 1:** Select only the rows at positional index 3 and 0, and from those two rows select only columns at positional index 1 and 5"
   ]
  },
  {
   "cell_type": "code",
   "execution_count": null,
   "id": "240720c4",
   "metadata": {},
   "outputs": [],
   "source": [
    "df_sorted.iloc[[3, 0], [1, 5]]"
   ]
  },
  {
   "cell_type": "code",
   "execution_count": null,
   "id": "608e11f0",
   "metadata": {},
   "outputs": [],
   "source": []
  },
  {
   "cell_type": "markdown",
   "id": "540dae0e",
   "metadata": {},
   "source": [
    "**Example 2:** Select only the rows at positional index 0 to 4 (stop index is not inclusive), and from those two rows select only columns at positional index 2 and 3"
   ]
  },
  {
   "cell_type": "code",
   "execution_count": null,
   "id": "a707b416",
   "metadata": {},
   "outputs": [],
   "source": [
    "df_sorted.iloc[0:5, 2:4]"
   ]
  },
  {
   "cell_type": "code",
   "execution_count": null,
   "id": "a7a0d4f6",
   "metadata": {},
   "outputs": [],
   "source": []
  },
  {
   "cell_type": "markdown",
   "id": "d92a8982",
   "metadata": {},
   "source": [
    "## 4. Selecting Rows and Columns using `df.loc[]` Method\n",
    "<img align=\"right\" width=\"400\" height=\"400\"  src=\"images/groupdata.png\"  >\n",
    "\n",
    "- The **`df.loc[]`** is also used for filtering rows and selecting columns but by row index value/label or by column index value/label (NOT by position). \n",
    "```\n",
    "df.loc[rowstoselect, colstoselect]\n",
    "```\n",
    "- You can place a collon in any of the two arguments to select all rows or all columns.\n",
    "- Another point to keep in mind is that the indices are NOT by position, rather by actual values of row and column indices. \n",
    "- Allowed inputs within `[ , ]` are:\n",
    "     - A single label, e.g. `5` or `'a'`, (note that `5` is interpreted as actual index/label **NOT** as an integer position along the index).\n",
    "     - A list or array of labels, e.g. `[9, 2, 7]` or `['ms07', 'ms02', 'ms08']`.\n",
    "     - A slice object with labels, e.g. `[3:6:2]` or `['ms05':'ms09']`.\n",
    "     - **Warning:** Note that contrary to usual Python slices, **both** the start and the stop are included"
   ]
  },
  {
   "cell_type": "code",
   "execution_count": null,
   "id": "9211ffa3",
   "metadata": {},
   "outputs": [],
   "source": [
    "# Let us read a fresh dataframe and sort it by age column to have a clear understanding about indexing\n",
    "import pandas as pd\n",
    "df = pd.read_csv('datasets/groupdata.csv')\n",
    "df_sorted = df.sort_values('age')\n",
    "df_sorted.head()"
   ]
  },
  {
   "cell_type": "code",
   "execution_count": null,
   "id": "31cc0e4c",
   "metadata": {},
   "outputs": [],
   "source": []
  },
  {
   "cell_type": "markdown",
   "id": "4a1a7d13",
   "metadata": {},
   "source": [
    "### a. Selection of Rows Only"
   ]
  },
  {
   "cell_type": "markdown",
   "id": "885622be",
   "metadata": {},
   "source": [
    "**Example 1:** Select a single row with row index 2 and all the columns"
   ]
  },
  {
   "cell_type": "code",
   "execution_count": null,
   "id": "5d806857",
   "metadata": {},
   "outputs": [],
   "source": [
    "df_sorted.loc[2,:]"
   ]
  },
  {
   "cell_type": "code",
   "execution_count": null,
   "id": "094070dd",
   "metadata": {},
   "outputs": [],
   "source": []
  },
  {
   "cell_type": "markdown",
   "id": "4cc79e65",
   "metadata": {},
   "source": [
    "**Example 2:** Select rows with row indices 2, 4 and 1 and all the columns"
   ]
  },
  {
   "cell_type": "code",
   "execution_count": null,
   "id": "531547c5",
   "metadata": {},
   "outputs": [],
   "source": [
    "df_sorted.loc[[2,4,1], :]"
   ]
  },
  {
   "cell_type": "code",
   "execution_count": null,
   "id": "5994ef6f",
   "metadata": {},
   "outputs": [],
   "source": []
  },
  {
   "cell_type": "markdown",
   "id": "4f4e34fb",
   "metadata": {},
   "source": [
    "**Example 3:** Select rows with row indices from 5 to 3 (stop value is inclusive) and all the columns"
   ]
  },
  {
   "cell_type": "code",
   "execution_count": null,
   "id": "c342f771",
   "metadata": {},
   "outputs": [],
   "source": [
    "df_sorted.loc[5:2, :]"
   ]
  },
  {
   "cell_type": "code",
   "execution_count": null,
   "id": "e7e7cf2d",
   "metadata": {},
   "outputs": [],
   "source": [
    "df_sorted.loc[5:3, :]"
   ]
  },
  {
   "cell_type": "markdown",
   "id": "d81adedd",
   "metadata": {},
   "source": [
    "**Question:** If you give the slice as `3:5`, it will select no row. Can anyone guess why it is so?"
   ]
  },
  {
   "cell_type": "code",
   "execution_count": null,
   "id": "43189731",
   "metadata": {},
   "outputs": [],
   "source": [
    "df_sorted.loc[3:5:-1, :]"
   ]
  },
  {
   "cell_type": "code",
   "execution_count": null,
   "id": "80ac8b1e",
   "metadata": {},
   "outputs": [],
   "source": []
  },
  {
   "cell_type": "markdown",
   "id": "f3319062",
   "metadata": {},
   "source": [
    ">**In all above examples, if you omit comma and collon for the columns part, Pandas assumes it. I strongly recommend using the above style for clarity of code.**"
   ]
  },
  {
   "cell_type": "code",
   "execution_count": null,
   "id": "91e4d7b0",
   "metadata": {},
   "outputs": [],
   "source": []
  },
  {
   "cell_type": "markdown",
   "id": "6390dab3",
   "metadata": {},
   "source": [
    "### b. Selection of Columns Only"
   ]
  },
  {
   "cell_type": "code",
   "execution_count": null,
   "id": "522af9aa",
   "metadata": {},
   "outputs": [],
   "source": [
    "df_sorted.columns"
   ]
  },
  {
   "cell_type": "markdown",
   "id": "931e08a7",
   "metadata": {},
   "source": [
    "**Example 1:** Select all the row values under the column with label `name`"
   ]
  },
  {
   "cell_type": "code",
   "execution_count": null,
   "id": "2cc48ff8",
   "metadata": {},
   "outputs": [],
   "source": [
    "df_sorted.loc[:, 'name']"
   ]
  },
  {
   "cell_type": "code",
   "execution_count": null,
   "id": "a6018a75",
   "metadata": {},
   "outputs": [],
   "source": []
  },
  {
   "cell_type": "markdown",
   "id": "57f887bf",
   "metadata": {},
   "source": [
    "**Example 2:** Select all the row values under the columns with labels `name`, `address`, and `scholarship`"
   ]
  },
  {
   "cell_type": "code",
   "execution_count": null,
   "id": "53d61516",
   "metadata": {},
   "outputs": [],
   "source": [
    "df_sorted.loc[:, ['name', 'address', 'scholarship']]"
   ]
  },
  {
   "cell_type": "code",
   "execution_count": null,
   "id": "a09667a2",
   "metadata": {},
   "outputs": [],
   "source": []
  },
  {
   "cell_type": "markdown",
   "id": "89016cac",
   "metadata": {},
   "source": [
    "**Example 3:** Select all the row values under the columns from a column range given as column labels (Note that the stop index is inclusive)"
   ]
  },
  {
   "cell_type": "code",
   "execution_count": null,
   "id": "c119c42e",
   "metadata": {},
   "outputs": [],
   "source": [
    "df_sorted.loc[:, 'address':'name']"
   ]
  },
  {
   "cell_type": "code",
   "execution_count": null,
   "id": "f54ab064",
   "metadata": {},
   "outputs": [],
   "source": [
    "df_sorted.loc[:, 'name':'address']"
   ]
  },
  {
   "cell_type": "code",
   "execution_count": null,
   "id": "eca0e6fa",
   "metadata": {},
   "outputs": [],
   "source": [
    "df_sorted.loc[:, 'name':'address':2]"
   ]
  },
  {
   "cell_type": "code",
   "execution_count": null,
   "id": "4dae4af5",
   "metadata": {},
   "outputs": [],
   "source": []
  },
  {
   "cell_type": "markdown",
   "id": "205220fc",
   "metadata": {},
   "source": [
    "### c. Selection of Rows + Columns\n",
    "```\n",
    "df.iloc[whatrowsIwant, whatcolumnsIwant]\n",
    "```\n",
    "- You can use a single value, a list of multiple values, or a slice object for selecting rows\n",
    "- You can use a single value, a list of multiple values, or a slice object for selecting columns"
   ]
  },
  {
   "cell_type": "markdown",
   "id": "d75e875a",
   "metadata": {},
   "source": [
    "**Example 1:** Select rows with row indices 3 and 0, and from those two rows select only columns at column labels `name` and `address`"
   ]
  },
  {
   "cell_type": "code",
   "execution_count": null,
   "id": "7b356699",
   "metadata": {},
   "outputs": [],
   "source": [
    "df_sorted.loc[[3, 0], ['name', 'address']]"
   ]
  },
  {
   "cell_type": "code",
   "execution_count": null,
   "id": "13174faa",
   "metadata": {},
   "outputs": [],
   "source": []
  },
  {
   "cell_type": "markdown",
   "id": "44d94e18",
   "metadata": {},
   "source": [
    "**Example 2:** Select rows with row indices 0 to 5 (Stop index is inclusive), and from those six rows select columns `name`, `age` and `session`"
   ]
  },
  {
   "cell_type": "code",
   "execution_count": null,
   "id": "80df8045",
   "metadata": {},
   "outputs": [],
   "source": [
    "df_sorted.loc[3:13, ['name', 'age', 'session']]"
   ]
  },
  {
   "cell_type": "code",
   "execution_count": null,
   "id": "4487c360",
   "metadata": {},
   "outputs": [],
   "source": []
  },
  {
   "cell_type": "markdown",
   "id": "02d3ea27",
   "metadata": {},
   "source": [
    "**Question:** You might be expecting `3:13` will return 11 rows, but it has returned only three. Can anyone guess why it is so?"
   ]
  },
  {
   "cell_type": "code",
   "execution_count": null,
   "id": "4958d945",
   "metadata": {},
   "outputs": [],
   "source": [
    "df_sorted.loc[5:8, ['name', 'age', 'session']]"
   ]
  },
  {
   "cell_type": "markdown",
   "id": "0e73e5a6",
   "metadata": {},
   "source": [
    "The range `5:8` has returned all the 16 rows in the dataframe :)"
   ]
  },
  {
   "cell_type": "code",
   "execution_count": null,
   "id": "85d0c4a9",
   "metadata": {},
   "outputs": [],
   "source": []
  },
  {
   "cell_type": "markdown",
   "id": "5cf91bb8",
   "metadata": {},
   "source": [
    "# After having understood all of this my recommendation is:"
   ]
  },
  {
   "cell_type": "markdown",
   "id": "83e8e058",
   "metadata": {},
   "source": [
    ">**Always keep the row indices of your dataframe as 0, 1, 2, 3, 4, ... and the column indices as meaningful labels. If after a slicing or sorting operation, the row indices are a bit disturbed, use `df.reset_index()` method to adjust your row indices match the positional indices.**"
   ]
  },
  {
   "cell_type": "code",
   "execution_count": null,
   "id": "a6fa1808",
   "metadata": {},
   "outputs": [],
   "source": []
  },
  {
   "cell_type": "markdown",
   "id": "0e123a4b",
   "metadata": {},
   "source": [
    "## 5. Conditional Selection\n",
    "- Suppose we want to select only those rows where the age value is greater than 40. Note this time the dataframe has row indices that match with the positional indices.\n",
    "\n",
    "<img align=\"left\" width=\"400\" height=\"400\"  src=\"images/groupdata2.png\"  >\n"
   ]
  },
  {
   "cell_type": "code",
   "execution_count": null,
   "id": "2f853b18",
   "metadata": {},
   "outputs": [],
   "source": [
    "# Let us read a fresh dataframe and sort it by age column to have a clear understanding about indexing\n",
    "import pandas as pd\n",
    "df = pd.read_csv('datasets/groupdata.csv')\n",
    "df"
   ]
  },
  {
   "cell_type": "markdown",
   "id": "df7b948d",
   "metadata": {},
   "source": [
    "### a. Option 1:\n",
    "- Create a Python list having Boolean values of exact same length as the rows of the dataframe \n",
    "- The value in the list need to be True for the row which we want to select\n",
    "- Convert the Python list to a Pandas series\n",
    "- Finally pass that series to the dataframe"
   ]
  },
  {
   "cell_type": "code",
   "execution_count": null,
   "id": "f2786c0a",
   "metadata": {},
   "outputs": [],
   "source": [
    "df.age"
   ]
  },
  {
   "cell_type": "code",
   "execution_count": null,
   "id": "2ac3b39e",
   "metadata": {},
   "outputs": [],
   "source": [
    "list1 = []\n",
    "for length in df.age:\n",
    "    if length > 40:\n",
    "        list1.append(True)\n",
    "    else:\n",
    "        list1.append(False)\n",
    "print(list1)"
   ]
  },
  {
   "cell_type": "code",
   "execution_count": null,
   "id": "b705b8ae",
   "metadata": {},
   "outputs": [],
   "source": [
    "df[list1]"
   ]
  },
  {
   "cell_type": "code",
   "execution_count": null,
   "id": "a251de2d",
   "metadata": {},
   "outputs": [],
   "source": []
  },
  {
   "cell_type": "markdown",
   "id": "924aa546",
   "metadata": {},
   "source": [
    "### b. Option 2:\n",
    "- Instead of creating a Boolean list using the loop, use the condition inside the `df[cond]` operator, that will automatically generate the Boolean list."
   ]
  },
  {
   "cell_type": "code",
   "execution_count": null,
   "id": "1e7b82e6",
   "metadata": {},
   "outputs": [],
   "source": [
    "df[df['age']>40]"
   ]
  },
  {
   "cell_type": "code",
   "execution_count": null,
   "id": "70fcfd32",
   "metadata": {},
   "outputs": [],
   "source": [
    "df[df.age >40]"
   ]
  },
  {
   "cell_type": "code",
   "execution_count": null,
   "id": "f60a6f70",
   "metadata": {},
   "outputs": [],
   "source": []
  },
  {
   "cell_type": "markdown",
   "id": "5c503e91",
   "metadata": {},
   "source": [
    "### c. Option 3:\n",
    "- Best way is to use the **`df.loc[cond]`** method."
   ]
  },
  {
   "cell_type": "code",
   "execution_count": null,
   "id": "2f5e1006",
   "metadata": {},
   "outputs": [],
   "source": [
    "df.loc[df.age > 40]"
   ]
  },
  {
   "cell_type": "code",
   "execution_count": null,
   "id": "3936aad0",
   "metadata": {},
   "outputs": [],
   "source": [
    "# Using 'loc' gives you the facility to slice the required columns as well\n",
    "df.loc[df.age > 40, ['name', 'age']]"
   ]
  },
  {
   "cell_type": "code",
   "execution_count": null,
   "id": "7bc2cd79",
   "metadata": {},
   "outputs": [],
   "source": []
  },
  {
   "cell_type": "markdown",
   "id": "481d208f",
   "metadata": {},
   "source": [
    "### d. Conditional Selection based on  Multiple Conditions\n",
    "- Suppose we want to get all the records of the dataframe where the age value is greater than 40 and belong to Multan\n",
    "- For this use multiple conditions inside parenthesis and use logical operators (`&`, `|`) in between\n",
    "```\n",
    "df[(condition1) op (condition2) op (condition3)]\n",
    "```"
   ]
  },
  {
   "cell_type": "code",
   "execution_count": null,
   "id": "55c0a5b3",
   "metadata": {},
   "outputs": [],
   "source": [
    "df"
   ]
  },
  {
   "cell_type": "code",
   "execution_count": null,
   "id": "b8a3f9d4",
   "metadata": {},
   "outputs": [],
   "source": [
    "df[(df.age < 40) & (df.address != 'Multan')]"
   ]
  },
  {
   "cell_type": "code",
   "execution_count": null,
   "id": "799206fa",
   "metadata": {},
   "outputs": [],
   "source": [
    "df[(df.age > 40) & (df.address == 'Multan')]"
   ]
  },
  {
   "cell_type": "code",
   "execution_count": null,
   "id": "9ee9ada0",
   "metadata": {},
   "outputs": [],
   "source": []
  },
  {
   "cell_type": "code",
   "execution_count": null,
   "id": "4821330d",
   "metadata": {},
   "outputs": [],
   "source": [
    "# Select records of group A male students only\n",
    "df1 = df[(df.group == 'group A') & (df.gender == 'Male')]  \n",
    "df1"
   ]
  },
  {
   "cell_type": "code",
   "execution_count": null,
   "id": "69f8f258",
   "metadata": {},
   "outputs": [],
   "source": []
  },
  {
   "cell_type": "code",
   "execution_count": null,
   "id": "bbb05754",
   "metadata": {},
   "outputs": [],
   "source": [
    "# Select the records of students who belong to Sialkot or Karachi\n",
    "df1 = df[(df.address == 'Sialkot') | (df.address == 'Karachi')]\n",
    "df1"
   ]
  },
  {
   "cell_type": "code",
   "execution_count": null,
   "id": "24114c02",
   "metadata": {},
   "outputs": [],
   "source": []
  },
  {
   "cell_type": "code",
   "execution_count": null,
   "id": "75d9fc93",
   "metadata": {},
   "outputs": [],
   "source": [
    "# Select records who lives outside Karachi and earn a scholarship of greater than 7000, or lives in Peshawer\n",
    "out = df[(df.address != 'Karachi') & (df.scholarship > 7000) | (df.address == 'Peshawer')]\n",
    "out\n"
   ]
  },
  {
   "cell_type": "markdown",
   "id": "5e557480",
   "metadata": {},
   "source": [
    "**If there are many conditions connected with or operator, you can simplify it using the `series.isin()` method as shown below:**"
   ]
  },
  {
   "cell_type": "code",
   "execution_count": null,
   "id": "4f94f4c1",
   "metadata": {},
   "outputs": [],
   "source": [
    "df[df.address.isin(['Karachi', 'Peshawer', 'Islamabad'])]"
   ]
  },
  {
   "cell_type": "code",
   "execution_count": null,
   "id": "a968651d",
   "metadata": {},
   "outputs": [],
   "source": []
  },
  {
   "cell_type": "markdown",
   "id": "787bd353",
   "metadata": {},
   "source": [
    "## 6. Selecting columns of a specific data type\n",
    "- The `df.select_dtypes()` method is used to get a subset of the dataframe to select columns of a specific datatype(s) \n",
    "```\n",
    "df.select_dtypes(include, exclude)\n",
    "```\n",
    "\n",
    "- `include` and `exclude` arguments can be scalar or list-like\n",
    "- Atleast one of these parameters must be supplied"
   ]
  },
  {
   "cell_type": "code",
   "execution_count": null,
   "id": "ed488fd1",
   "metadata": {},
   "outputs": [],
   "source": [
    "# Let us first check the data types of each column\n",
    "df.dtypes"
   ]
  },
  {
   "cell_type": "code",
   "execution_count": null,
   "id": "077b0967",
   "metadata": {},
   "outputs": [],
   "source": [
    "# Select the columns with object data type (categorical variables) only`\n",
    "df.select_dtypes(include='float64')"
   ]
  },
  {
   "cell_type": "code",
   "execution_count": null,
   "id": "bd895191",
   "metadata": {},
   "outputs": [],
   "source": [
    "# Select the columns with int64 datatype\n",
    "df.select_dtypes(include=['int64', 'float64']).head()"
   ]
  },
  {
   "cell_type": "code",
   "execution_count": null,
   "id": "aab86b44",
   "metadata": {},
   "outputs": [],
   "source": []
  },
  {
   "cell_type": "markdown",
   "id": "d61214b5",
   "metadata": {},
   "source": [
    "## Practice Exercise no 01\n",
    "### Introduction:\n",
    "#### Fictional Army - Filtering and Sorting\n",
    "This exercise was inspired by this [page](http://chrisalbon.com/python/)\n",
    "### Step 1. Import the necessary libraries"
   ]
  },
  {
   "cell_type": "code",
   "execution_count": 1,
   "id": "830d0121",
   "metadata": {},
   "outputs": [],
   "source": [
    "# import pandas as pd\n",
    "# import numpy as np"
   ]
  },
  {
   "cell_type": "markdown",
   "id": "6fac870d",
   "metadata": {},
   "source": [
    "### Step 2. This is the data given as a dictionary\n"
   ]
  },
  {
   "cell_type": "code",
   "execution_count": null,
   "id": "7565365a",
   "metadata": {},
   "outputs": [],
   "source": [
    "# Create an example dataframe about a fictional army\n",
    "raw_data = {'regiment': ['Nighthawks', 'Nighthawks', 'Nighthawks', 'Nighthawks', 'Dragoons', 'Dragoons', 'Dragoons', 'Dragoons', 'Scouts', 'Scouts', 'Scouts', 'Scouts'],\n",
    "            'company': ['1st', '1st', '2nd', '2nd', '1st', '1st', '2nd', '2nd','1st', '1st', '2nd', '2nd'],\n",
    "            'deaths': [523, 52, 25, 616, 43, 234, 523, 62, 62, 73, 37, 35],\n",
    "            'battles': [5, 42, 2, 2, 4, 7, 8, 3, 4, 7, 8, 9],\n",
    "            'size': [1045, 957, 1099, 1400, 1592, 1006, 987, 849, 973, 1005, 1099, 1523],\n",
    "            'veterans': [1, 5, 62, 26, 73, 37, 949, 48, 48, 435, 63, 345],\n",
    "            'readiness': [1, 2, 3, 3, 2, 1, 2, 3, 2, 1, 2, 3],\n",
    "            'armored': [1, 0, 1, 1, 0, 1, 0, 1, 0, 0, 1, 1],\n",
    "            'deserters': [4, 24, 31, 2, 3, 4, 24, 31, 2, 3, 2, 3],\n",
    "            'origin': ['Arizona', 'California', 'Texas', 'Florida', 'Maine', 'Iowa', 'Alaska', 'Washington', 'Oregon', 'Wyoming', 'Louisana', 'Georgia']}"
   ]
  },
  {
   "cell_type": "markdown",
   "id": "033b9f70",
   "metadata": {},
   "source": [
    "### Step 3. Create a dataframe and assign it to a variable called army. \n",
    "##### Don't forget to include the columns names in the order presented in the dictionary ('regiment', 'company', 'deaths'...) so that the column index order is consistent with the solutions. If omitted, pandas will order the columns alphabetically."
   ]
  },
  {
   "cell_type": "code",
   "execution_count": null,
   "id": "4f9bb540",
   "metadata": {},
   "outputs": [],
   "source": [
    "# army = pd.DataFrame(raw_data)\n",
    "# army.head(2)"
   ]
  },
  {
   "cell_type": "code",
   "execution_count": null,
   "id": "e548aca9",
   "metadata": {},
   "outputs": [],
   "source": []
  },
  {
   "cell_type": "markdown",
   "id": "5fdded32",
   "metadata": {},
   "source": [
    "### Step 4. Set the `origin` column as the index of the dataframe."
   ]
  },
  {
   "cell_type": "code",
   "execution_count": null,
   "id": "ccbc18fd",
   "metadata": {},
   "outputs": [],
   "source": [
    "# army.set_index('origin',inplace=True)"
   ]
  },
  {
   "cell_type": "code",
   "execution_count": null,
   "id": "dfa1d8c4",
   "metadata": {},
   "outputs": [],
   "source": [
    "# army.head(2)"
   ]
  },
  {
   "cell_type": "markdown",
   "id": "b7c7d990",
   "metadata": {},
   "source": [
    "### Step 5. Print only the column `veterans`"
   ]
  },
  {
   "cell_type": "code",
   "execution_count": null,
   "id": "7efc9cad",
   "metadata": {},
   "outputs": [],
   "source": [
    "# army.veterans"
   ]
  },
  {
   "cell_type": "markdown",
   "id": "63d7ef94",
   "metadata": {},
   "source": [
    "### Step 6. Print the columns 'veterans' and 'deaths'"
   ]
  },
  {
   "cell_type": "code",
   "execution_count": null,
   "id": "95ba53c3",
   "metadata": {},
   "outputs": [],
   "source": [
    "# army[['veterans','deaths']]"
   ]
  },
  {
   "cell_type": "markdown",
   "id": "49150012",
   "metadata": {},
   "source": [
    "### Step 7. Print the name of all the columns."
   ]
  },
  {
   "cell_type": "code",
   "execution_count": null,
   "id": "c86d3896",
   "metadata": {},
   "outputs": [],
   "source": [
    "# army.columns"
   ]
  },
  {
   "cell_type": "markdown",
   "id": "a83a7338",
   "metadata": {},
   "source": [
    "### Step 8. Select the `deaths`,`size` and `deserters` columns from `Maine` and `Alaska`."
   ]
  },
  {
   "cell_type": "code",
   "execution_count": null,
   "id": "dbb413c1",
   "metadata": {},
   "outputs": [],
   "source": [
    "# army.loc[['Maine','Alaska'],['deaths','size','deserters']]"
   ]
  },
  {
   "cell_type": "markdown",
   "id": "1747c370",
   "metadata": {},
   "source": [
    "### Step 9. Select the rows 3 to 7 and the columns 3 to 6"
   ]
  },
  {
   "cell_type": "code",
   "execution_count": null,
   "id": "242aa5f0",
   "metadata": {},
   "outputs": [],
   "source": [
    "# army.iloc[2:7,2:6]"
   ]
  },
  {
   "cell_type": "markdown",
   "id": "7bcd2611",
   "metadata": {},
   "source": [
    "### Step 10. Select every row after the fourth row and all columns"
   ]
  },
  {
   "cell_type": "code",
   "execution_count": null,
   "id": "ed7b6640",
   "metadata": {},
   "outputs": [],
   "source": [
    "# army.iloc[4:,:]"
   ]
  },
  {
   "cell_type": "markdown",
   "id": "e3d7df83",
   "metadata": {},
   "source": [
    "### Step 11. Select every row up to the 4th row and all columns"
   ]
  },
  {
   "cell_type": "code",
   "execution_count": null,
   "id": "d18a0117",
   "metadata": {},
   "outputs": [],
   "source": [
    "# army.iloc[:4,:]"
   ]
  },
  {
   "cell_type": "markdown",
   "id": "bd86157e",
   "metadata": {},
   "source": [
    "### Step 12. Select all the rows and the 3rd column up to the 7th column"
   ]
  },
  {
   "cell_type": "code",
   "execution_count": null,
   "id": "adf155d6",
   "metadata": {},
   "outputs": [],
   "source": [
    "# army.iloc[:,2:7]"
   ]
  },
  {
   "cell_type": "markdown",
   "id": "59fadf28",
   "metadata": {},
   "source": [
    "### Step 13. Select rows where df.deaths is greater than 50"
   ]
  },
  {
   "cell_type": "code",
   "execution_count": null,
   "id": "8a104eac",
   "metadata": {},
   "outputs": [],
   "source": [
    "# army[army.deaths > 50]\n",
    "# or \n",
    "# army.loc[army.deaths>50]"
   ]
  },
  {
   "cell_type": "code",
   "execution_count": null,
   "id": "bab37657",
   "metadata": {},
   "outputs": [],
   "source": []
  },
  {
   "cell_type": "markdown",
   "id": "0a5be98a",
   "metadata": {},
   "source": [
    "### Step 14. Select rows where `df.deaths` is greater than 500 or less than 50."
   ]
  },
  {
   "cell_type": "code",
   "execution_count": null,
   "id": "63fd04df",
   "metadata": {},
   "outputs": [],
   "source": [
    "# army[(army.deaths>500) |(army.deaths<50)]\n",
    "# or\n",
    "# army.loc[(army.deaths>500) |(army.deaths<50)]"
   ]
  },
  {
   "cell_type": "markdown",
   "id": "2b03e5ab",
   "metadata": {},
   "source": [
    "### Step 15. Select all the regiments not named `Dragoons`."
   ]
  },
  {
   "cell_type": "code",
   "execution_count": null,
   "id": "da0146fe",
   "metadata": {},
   "outputs": [],
   "source": [
    "# army[army.regiment !='Dragoons']\n",
    "# or \n",
    "# army.loc[army.regiment != 'Dragoons']"
   ]
  },
  {
   "cell_type": "markdown",
   "id": "0328782c",
   "metadata": {},
   "source": [
    "### Step 16. Select the rows called Texas and Arizona"
   ]
  },
  {
   "cell_type": "code",
   "execution_count": null,
   "id": "1c399f6a",
   "metadata": {},
   "outputs": [],
   "source": [
    "# army.loc[['Texas','Arizona']]"
   ]
  },
  {
   "cell_type": "markdown",
   "id": "5b4d6318",
   "metadata": {},
   "source": [
    "### Step 17. Select the third cell in the row named Arizona"
   ]
  },
  {
   "cell_type": "code",
   "execution_count": null,
   "id": "3cb338a7",
   "metadata": {},
   "outputs": [],
   "source": [
    "# army.loc[['Arizona']].iloc[:,2]"
   ]
  },
  {
   "cell_type": "markdown",
   "id": "77516bf4",
   "metadata": {},
   "source": [
    "### Step 18. Select the third cell down in the column named deaths"
   ]
  },
  {
   "cell_type": "code",
   "execution_count": null,
   "id": "b781b00a",
   "metadata": {},
   "outputs": [],
   "source": [
    "# army.loc[:,'deaths'].iloc[2]"
   ]
  },
  {
   "cell_type": "code",
   "execution_count": null,
   "id": "0a62b732",
   "metadata": {},
   "outputs": [],
   "source": []
  },
  {
   "cell_type": "markdown",
   "id": "9c63c341",
   "metadata": {},
   "source": [
    "## Practice Exercise no 02\n",
    "### Import the necessary libraries"
   ]
  },
  {
   "cell_type": "code",
   "execution_count": null,
   "id": "4d3b7e56",
   "metadata": {},
   "outputs": [],
   "source": [
    "import pandas as pd\n",
    "import numpy as np"
   ]
  },
  {
   "cell_type": "markdown",
   "id": "965432c0",
   "metadata": {},
   "source": [
    "###  Import the dataset from this [address](https://raw.githubusercontent.com/bsef19m521/DatasetsForProjects/master/chipotle.tsv)."
   ]
  },
  {
   "cell_type": "markdown",
   "id": "4abe7b92",
   "metadata": {},
   "source": [
    "### Assign it to a variable called chipo."
   ]
  },
  {
   "cell_type": "code",
   "execution_count": null,
   "id": "287804f0",
   "metadata": {},
   "outputs": [],
   "source": [
    "# chipo = pd.read_csv('datasets/chipotle.tsv', sep=\"\\t\")\n",
    "# chipo.head()"
   ]
  },
  {
   "cell_type": "code",
   "execution_count": null,
   "id": "5ea19546",
   "metadata": {},
   "outputs": [],
   "source": []
  },
  {
   "cell_type": "markdown",
   "id": "042c530b",
   "metadata": {},
   "source": [
    "### Print datatype of each column and try to understand the datatype of each column carefully."
   ]
  },
  {
   "cell_type": "code",
   "execution_count": null,
   "id": "eceac2d5",
   "metadata": {},
   "outputs": [],
   "source": [
    "# chipo.info()"
   ]
  },
  {
   "cell_type": "markdown",
   "id": "f123bf39",
   "metadata": {},
   "source": [
    "**Note: The datatype of `item_price` is object. We can not work with this column until it is a float. So, convert it into float datatype.**"
   ]
  },
  {
   "cell_type": "code",
   "execution_count": null,
   "id": "062e5d98",
   "metadata": {},
   "outputs": [],
   "source": [
    "# price = [float(value[1:]) for value in chipo.item_price]\n",
    "# price[:5]"
   ]
  },
  {
   "cell_type": "code",
   "execution_count": null,
   "id": "9da28a6e",
   "metadata": {},
   "outputs": [],
   "source": [
    "# chipo.item_price = price\n",
    "# chipo.dtypes"
   ]
  },
  {
   "cell_type": "markdown",
   "id": "ed5e8429",
   "metadata": {},
   "source": [
    "### delete the duplicates in item_name ,choice_description and quantity using drop_duplicates method\n"
   ]
  },
  {
   "cell_type": "code",
   "execution_count": null,
   "id": "e021f334",
   "metadata": {},
   "outputs": [],
   "source": [
    "# chipo_filtered = chipo.drop_duplicates(['item_name','quantity','choice_description'])\n",
    "# chipo_filtered"
   ]
  },
  {
   "cell_type": "code",
   "execution_count": null,
   "id": "e0a4a981",
   "metadata": {},
   "outputs": [],
   "source": [
    "# chipo_filtered.reset_index(drop=True, inplace=True)"
   ]
  },
  {
   "cell_type": "code",
   "execution_count": null,
   "id": "a5707b68",
   "metadata": {},
   "outputs": [],
   "source": [
    "# chipo_filtered"
   ]
  },
  {
   "cell_type": "markdown",
   "id": "ea72d660",
   "metadata": {},
   "source": [
    "### Select all the products with `quantity ==1` and How many products cost more than `$10.00?`."
   ]
  },
  {
   "cell_type": "code",
   "execution_count": null,
   "id": "a41aa315",
   "metadata": {},
   "outputs": [],
   "source": [
    "# chipo_filtered_product = chipo_filtered[chipo_filtered.quantity==1]\n"
   ]
  },
  {
   "cell_type": "code",
   "execution_count": null,
   "id": "346a1efe",
   "metadata": {},
   "outputs": [],
   "source": [
    "# chipo_filtered_product[chipo_filtered_product.item_price > 10].item_name"
   ]
  },
  {
   "cell_type": "code",
   "execution_count": null,
   "id": "0c3243c7",
   "metadata": {},
   "outputs": [],
   "source": [
    "# chipo_filtered_product[chipo_filtered_product.item_price > 10].item_name.nunique()"
   ]
  },
  {
   "cell_type": "markdown",
   "id": "fc69f92a",
   "metadata": {},
   "source": [
    "### Step 5. What is the price of each item? \n",
    "###### print a data frame with only two columns item_name and item_price"
   ]
  },
  {
   "cell_type": "code",
   "execution_count": null,
   "id": "cc82e37f",
   "metadata": {},
   "outputs": [],
   "source": [
    "# chipo_filtered[['item_name','item_price']]\n",
    "# # Here is error , we want only unique item names with their price"
   ]
  },
  {
   "cell_type": "code",
   "execution_count": null,
   "id": "2f3c3a65",
   "metadata": {},
   "outputs": [],
   "source": [
    "# chipo_filtered.groupby('item_name')[['item_price']].sum()"
   ]
  },
  {
   "cell_type": "markdown",
   "id": "d7c3d543",
   "metadata": {},
   "source": [
    "### Step 6. Sort by the original dataframe of the item_name"
   ]
  },
  {
   "cell_type": "code",
   "execution_count": null,
   "id": "be49e331",
   "metadata": {},
   "outputs": [],
   "source": [
    "# chipo.sort_values(by='item_name')"
   ]
  },
  {
   "cell_type": "markdown",
   "id": "717f26e2",
   "metadata": {},
   "source": [
    "### Step 7. What was the quantity of the most expensive item ordered?"
   ]
  },
  {
   "cell_type": "code",
   "execution_count": null,
   "id": "8a4b451d",
   "metadata": {},
   "outputs": [],
   "source": [
    "# chipo.sort_values(by='item_price').tail(1)"
   ]
  },
  {
   "cell_type": "code",
   "execution_count": null,
   "id": "312c217d",
   "metadata": {},
   "outputs": [],
   "source": [
    "# chipo.sort_values(by='item_price').tail(1).iloc[:,1]"
   ]
  },
  {
   "cell_type": "markdown",
   "id": "c7f57d64",
   "metadata": {},
   "source": [
    "### Step 8. How many times was a Veggie Salad Bowl ordered?"
   ]
  },
  {
   "cell_type": "code",
   "execution_count": null,
   "id": "0d8e38bd",
   "metadata": {},
   "outputs": [],
   "source": [
    "# chipo[chipo.item_name == \"Veggie Salad Bowl\"]"
   ]
  },
  {
   "cell_type": "code",
   "execution_count": null,
   "id": "b22d2699",
   "metadata": {},
   "outputs": [],
   "source": [
    "# len(chipo[chipo.item_name == \"Veggie Salad Bowl\"])"
   ]
  },
  {
   "cell_type": "markdown",
   "id": "b1e6db55",
   "metadata": {},
   "source": [
    "### Step 9. How many times did someone order more than one Canned Soda?"
   ]
  },
  {
   "cell_type": "code",
   "execution_count": null,
   "id": "ad47f516",
   "metadata": {},
   "outputs": [],
   "source": [
    "# chipo[(chipo.item_name =='Canned Soda') & (chipo.quantity >1 )]"
   ]
  },
  {
   "cell_type": "code",
   "execution_count": null,
   "id": "78f286f6",
   "metadata": {},
   "outputs": [],
   "source": [
    "# len(chipo[(chipo.item_name =='Canned Soda') & (chipo.quantity >1 )])"
   ]
  },
  {
   "cell_type": "code",
   "execution_count": null,
   "id": "7b3d9bbc",
   "metadata": {},
   "outputs": [],
   "source": []
  },
  {
   "cell_type": "code",
   "execution_count": null,
   "id": "3c42f03f",
   "metadata": {},
   "outputs": [],
   "source": []
  },
  {
   "cell_type": "markdown",
   "id": "c9258b80",
   "metadata": {},
   "source": [
    "## Check Your Concepts:\n",
    "- What is Pandas?\n",
    "- How to iterate over rows in Pandas Dataframe \n",
    "- Different ways to iterate over rows in Pandas Dataframe \n",
    "- Selecting rows in pandas DataFrame based on conditions \n",
    "- Select any row from a Dataframe using iloc[] and iat[] in Pandas \n",
    "- Limited rows selection with given column in Pandas | Python \n",
    "- Drop rows from the dataframe based on certain condition applied on a column \n",
    "- Insert row at given position in Pandas Dataframe \n",
    "- Create a list from rows in Pandas dataframe \n",
    "- Create a list from rows in Pandas DataFrame | Set 2 \n",
    "- Ranking Rows of Pandas DataFrame \n",
    "- Sorting rows in pandas DataFrame \n",
    "- Select row with maximum and minimum value in Pandas dataframe \n",
    "- Get all rows in a Pandas DataFrame containing given substring \n",
    "- Convert a column to row name/index in Pandas \n",
    "- How to randomly select rows from Pandas DataFrame \n",
    " "
   ]
  },
  {
   "cell_type": "code",
   "execution_count": null,
   "id": "c55ab2bc",
   "metadata": {},
   "outputs": [],
   "source": []
  },
  {
   "cell_type": "markdown",
   "id": "19d074c3",
   "metadata": {},
   "source": [
    "# Pandas - Assignment no 05\n",
    "- Here is link of [Pandas - Assignment no 05]()"
   ]
  },
  {
   "cell_type": "code",
   "execution_count": null,
   "id": "55bac856",
   "metadata": {},
   "outputs": [],
   "source": []
  },
  {
   "cell_type": "code",
   "execution_count": null,
   "id": "c29201ba",
   "metadata": {},
   "outputs": [],
   "source": []
  }
 ],
 "metadata": {
  "kernelspec": {
   "display_name": "Python 3 (ipykernel)",
   "language": "python",
   "name": "python3"
  },
  "language_info": {
   "codemirror_mode": {
    "name": "ipython",
    "version": 3
   },
   "file_extension": ".py",
   "mimetype": "text/x-python",
   "name": "python",
   "nbconvert_exporter": "python",
   "pygments_lexer": "ipython3",
   "version": "3.8.10"
  }
 },
 "nbformat": 4,
 "nbformat_minor": 5
}
