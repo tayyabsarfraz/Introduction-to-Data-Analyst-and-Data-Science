{
 "cells": [
  {
   "cell_type": "markdown",
   "id": "4a87b5ef",
   "metadata": {},
   "source": [
    "---   \n",
    "\n",
    "<h1 align=\"center\">Introduction to Data Analyst and Data Science for beginners</h1>\n",
    "<h1 align=\"center\">Lecture no 2.20(Pandas-11)</h1>\n",
    "\n",
    "---\n",
    "<h3><div align=\"right\">Ehtisham Sadiq</div></h3>    "
   ]
  },
  {
   "cell_type": "markdown",
   "id": "19f82705",
   "metadata": {},
   "source": [
    "## _Reshape using pivot, melt, and crosstab.ipynb_\n",
    "\n",
    "<img align=\"right\" width=\"400\" height=\"400\"  src=\"images/pandas-apps.png\"  >"
   ]
  },
  {
   "cell_type": "code",
   "execution_count": null,
   "id": "02bd8f82",
   "metadata": {},
   "outputs": [],
   "source": []
  },
  {
   "cell_type": "code",
   "execution_count": null,
   "id": "a5304973",
   "metadata": {},
   "outputs": [],
   "source": []
  },
  {
   "cell_type": "markdown",
   "id": "12db95e1",
   "metadata": {},
   "source": [
    "## Learning agenda of this notebook\n",
    "\n",
    "1. Reshape Data Using `pivot()` and `pivot_table()` methods\n",
    "2. Reshape Data Using `melt()` method\n",
    "3. Reshape Data Using `crosstab()` method\n",
    "4. Reshape Data Using `Stack()` and `Unstack()`"
   ]
  },
  {
   "cell_type": "code",
   "execution_count": null,
   "id": "31035072",
   "metadata": {},
   "outputs": [],
   "source": []
  },
  {
   "cell_type": "markdown",
   "id": "d5dcb031",
   "metadata": {},
   "source": [
    "**Note : We need to reshape our data for data analysis purpose based on what kind of analysis.**"
   ]
  },
  {
   "cell_type": "code",
   "execution_count": null,
   "id": "4f05d51a",
   "metadata": {},
   "outputs": [],
   "source": []
  },
  {
   "cell_type": "code",
   "execution_count": null,
   "id": "461eda9c",
   "metadata": {},
   "outputs": [],
   "source": []
  },
  {
   "cell_type": "markdown",
   "id": "3d7cef08",
   "metadata": {},
   "source": [
    "## 1. Reshaping Data Using `df.pivot()`  and `df.pivot_table()` Methods"
   ]
  },
  {
   "cell_type": "markdown",
   "id": "65f584ea",
   "metadata": {},
   "source": [
    "**```df.pivot(index=None, columns=None, values=None)```**<br>\n",
    "**```pandas.pivot(data, index=None, columns=None, values=None)```**\n",
    "\n",
    "Where,\n",
    "- `index`: Column to use as new dataframe's index. If None, uses existing index.\n",
    "- `columns`: Column to use to make new dataframe columns.\n",
    "- `values`:  Column(s) to use for populating new frame's values. \n",
    "\n",
    "Read more about `pd.pivot()`: https://pandas.pydata.org/docs/reference/api/pandas.DataFrame.pivot.html\n",
    "\n",
    "Read more about `df.pivot()`: https://pandas.pydata.org/docs/reference/api/pandas.DataFrame.pivot.html"
   ]
  },
  {
   "cell_type": "code",
   "execution_count": null,
   "id": "d8f3bc2c",
   "metadata": {},
   "outputs": [],
   "source": []
  },
  {
   "cell_type": "markdown",
   "id": "a4cfabf7",
   "metadata": {},
   "source": [
    "**`df.pivot_table(index=None, columns=None, values=None, aggfunc= 'mean', fill_valus=None)`**<br>\n",
    "**`pandas.pivot_table(data, index=None, columns=None, values=None, aggfunc= 'mean', fill_valus=None)`**\n",
    "\n",
    "Where,\n",
    "- `index`: Column to use as new dataframe's index. If None, uses existing index.\n",
    "- `columns`: Column to use to make new dataframe columns.\n",
    "- `values`:  Column(s) to use for populating new frame's values. \n",
    "- `aggfunc`:  default is numpy.mean\n",
    "- `fill_value`: Value to replace missing values with\n",
    "\n",
    "\n",
    "\n",
    "Read more about `pd.pivot_table()`: https://pandas.pydata.org/docs/reference/api/pandas.pivot_table.html\n",
    "\n",
    "Read more about `df.pivot_table()`: https://pandas.pydata.org/docs/reference/api/pandas.DataFrame.pivot_table.html?highlight=dataframe%20pivot_table#pandas.DataFrame.pivot_table"
   ]
  },
  {
   "cell_type": "code",
   "execution_count": null,
   "id": "3a7e18b6",
   "metadata": {},
   "outputs": [],
   "source": []
  },
  {
   "cell_type": "markdown",
   "id": "4b727393",
   "metadata": {},
   "source": [
    "### DataSet 1:\n",
    "\n",
    "You can use both `pivot()` as well as `pivot_table()` methods over here\n",
    "\n",
    "<img align=\"center\" width=\"900\" height=\"600\"  src=\"images/ds1.png\"  >"
   ]
  },
  {
   "cell_type": "code",
   "execution_count": null,
   "id": "7f722f49",
   "metadata": {},
   "outputs": [],
   "source": []
  },
  {
   "cell_type": "code",
   "execution_count": null,
   "id": "3be05ec7",
   "metadata": {},
   "outputs": [],
   "source": [
    "import pandas as pd\n",
    "df = pd.read_csv('datasets/pivot_weather1.csv')\n",
    "df"
   ]
  },
  {
   "cell_type": "code",
   "execution_count": null,
   "id": "09152536",
   "metadata": {},
   "outputs": [],
   "source": [
    "df.pivot_table(index='city', columns='date', values='humidity')"
   ]
  },
  {
   "cell_type": "code",
   "execution_count": null,
   "id": "da60f9d0",
   "metadata": {},
   "outputs": [],
   "source": []
  },
  {
   "cell_type": "markdown",
   "id": "9e4eac82",
   "metadata": {},
   "source": [
    ">**Suppose we want to have one record for each city, containing temperature and humidity for each date**"
   ]
  },
  {
   "cell_type": "code",
   "execution_count": null,
   "id": "ecdaafe6",
   "metadata": {},
   "outputs": [],
   "source": [
    "# using pivot()\n",
    "df1 = df.pivot(index='city', columns='date')\n",
    "df1"
   ]
  },
  {
   "cell_type": "markdown",
   "id": "c87ddcf4",
   "metadata": {},
   "source": [
    ">**Let us repeat the same using `pivot_table()`**"
   ]
  },
  {
   "cell_type": "code",
   "execution_count": null,
   "id": "733834ef",
   "metadata": {
    "scrolled": true
   },
   "outputs": [],
   "source": [
    "# using pivot_table()\n",
    "df1 = df.pivot_table(index='city', columns='date')\n",
    "df1"
   ]
  },
  {
   "cell_type": "markdown",
   "id": "80dc9a4c",
   "metadata": {},
   "source": [
    "- By setting the `index='city'`, the city column is the left most column now having unique values. \n",
    "- By setting the `columns='date'`, the values from the date column have become the  column headers now.\n"
   ]
  },
  {
   "cell_type": "code",
   "execution_count": null,
   "id": "70d95b45",
   "metadata": {},
   "outputs": [],
   "source": []
  },
  {
   "cell_type": "markdown",
   "id": "0b80f036",
   "metadata": {},
   "source": [
    "**Suppose we want to see only the temperature or humidity column in the output dataframe. This can be achieved by setting the `values` argument to the name of the column**"
   ]
  },
  {
   "cell_type": "code",
   "execution_count": null,
   "id": "be6e29d0",
   "metadata": {},
   "outputs": [],
   "source": [
    "df1 = df.pivot(index='city', columns='date', values='temperature')\n",
    "df1"
   ]
  },
  {
   "cell_type": "code",
   "execution_count": null,
   "id": "f2c67520",
   "metadata": {},
   "outputs": [],
   "source": [
    "df1 = df.pivot(index='city', columns='date', values='humidity')\n",
    "df1"
   ]
  },
  {
   "cell_type": "code",
   "execution_count": null,
   "id": "51238d81",
   "metadata": {},
   "outputs": [],
   "source": []
  },
  {
   "cell_type": "markdown",
   "id": "9cd700b7",
   "metadata": {},
   "source": [
    "**Let us keep the date along index and city at the column, so that the output dataframe should have one record for each date, containing temperature and humidity for each city**"
   ]
  },
  {
   "cell_type": "code",
   "execution_count": null,
   "id": "dd1dbaef",
   "metadata": {},
   "outputs": [],
   "source": [
    "# using pivot()\n",
    "df1 = df.pivot(index='date', columns='city')\n",
    "df1"
   ]
  },
  {
   "cell_type": "code",
   "execution_count": null,
   "id": "bef120f4",
   "metadata": {},
   "outputs": [],
   "source": [
    "# using pivot_table()\n",
    "df1 = df.pivot_table(index='date', columns='city')\n",
    "df1"
   ]
  },
  {
   "cell_type": "code",
   "execution_count": null,
   "id": "17e8d7ce",
   "metadata": {},
   "outputs": [],
   "source": []
  },
  {
   "cell_type": "markdown",
   "id": "7ad0fa1f",
   "metadata": {},
   "source": [
    "### DataSet 2:\n",
    "You cannot use `pivot()` due to multiple values, however, `pivot_table()` will work, as it will take the `mean()` of those values\n",
    "<img align=\"center\" width=\"900\" height=\"600\"  src=\"images/ds2.png\"  >"
   ]
  },
  {
   "cell_type": "code",
   "execution_count": null,
   "id": "4f6af2c7",
   "metadata": {},
   "outputs": [],
   "source": []
  },
  {
   "cell_type": "code",
   "execution_count": null,
   "id": "7df8d4c1",
   "metadata": {},
   "outputs": [],
   "source": [
    "import pandas as pd\n",
    "df = pd.read_csv('datasets/pivot_weather2.csv')\n",
    "df"
   ]
  },
  {
   "cell_type": "markdown",
   "id": "17b47a4a",
   "metadata": {},
   "source": [
    ">Note in this dataset we donot have unique values for date and city combined "
   ]
  },
  {
   "cell_type": "code",
   "execution_count": null,
   "id": "da8298eb",
   "metadata": {},
   "outputs": [],
   "source": [
    "#df1 = df.pivot(index='date', columns='city')\n",
    "#df1"
   ]
  },
  {
   "cell_type": "markdown",
   "id": "a5aca275",
   "metadata": {},
   "source": [
    "- When we set the index to `date` and columns to `city`, the `pivot()` tries to set the left key to `20/06/2021` and then match the column name of the differing city (Lahore) values. \n",
    "- In this case there are two rows which have `20/06/2021` and columns of `Lahore`. The function doesn't know what value to put into cell values. \n",
    "- So raise a ValueError: Index contains duplicate entries, cannot reshape\n",
    "- Pivot and pivot_table may only exhibit the same functionality if the data allows. If there are duplicate entries possible from the index(es) of interest you will need to aggregate the data in pivot_table, not pivot (due to duplicate error).\n"
   ]
  },
  {
   "cell_type": "markdown",
   "id": "4d017c0c",
   "metadata": {},
   "source": [
    "- Let us try to do the same using `pivot_table()` method\n",
    "- In the `pivot_table` function, there is another argument `aggfunc=’mean’` that decides this."
   ]
  },
  {
   "cell_type": "code",
   "execution_count": null,
   "id": "9e553c54",
   "metadata": {},
   "outputs": [],
   "source": [
    "df1 = df.pivot_table(index='date', columns='city')\n",
    "df1"
   ]
  },
  {
   "cell_type": "markdown",
   "id": "b5cce50d",
   "metadata": {},
   "source": [
    ">The default value to the `aggfunc` argument is `mean`, and you can explicitly pass any other aggregate function name."
   ]
  },
  {
   "cell_type": "code",
   "execution_count": null,
   "id": "9608dfb8",
   "metadata": {},
   "outputs": [],
   "source": [
    "df1 = df.pivot_table(index='date', columns='city', aggfunc='sum')\n",
    "df1"
   ]
  },
  {
   "cell_type": "code",
   "execution_count": null,
   "id": "e387825e",
   "metadata": {},
   "outputs": [],
   "source": []
  },
  {
   "cell_type": "code",
   "execution_count": null,
   "id": "ee284d05",
   "metadata": {},
   "outputs": [],
   "source": []
  },
  {
   "cell_type": "markdown",
   "id": "9f084bcd",
   "metadata": {},
   "source": [
    "### DataSet 3:\n",
    "<img align=\"center\" width=\"900\" height=\"600\"  src=\"images/ds3.png\"  >"
   ]
  },
  {
   "cell_type": "code",
   "execution_count": null,
   "id": "abd24ed7",
   "metadata": {},
   "outputs": [],
   "source": []
  },
  {
   "cell_type": "code",
   "execution_count": null,
   "id": "fcb47b09",
   "metadata": {},
   "outputs": [],
   "source": [
    "import pandas as pd\n",
    "df = pd.read_csv('datasets/pivot_std1.csv')\n",
    "df"
   ]
  },
  {
   "cell_type": "markdown",
   "id": "b45397f6",
   "metadata": {},
   "source": [
    "**Suppose we want to have one record for each gender, containing age, height and weight for each sport**"
   ]
  },
  {
   "cell_type": "code",
   "execution_count": null,
   "id": "158af4d5",
   "metadata": {},
   "outputs": [],
   "source": [
    "df1 = df.pivot_table(index='gender', columns='sport')\n",
    "df1"
   ]
  },
  {
   "cell_type": "markdown",
   "id": "c90ba62a",
   "metadata": {},
   "source": [
    "When we try to repeat the same using `pivot()`, we get a ValueError: Index contains duplicate entries, cannot reshape"
   ]
  },
  {
   "cell_type": "code",
   "execution_count": null,
   "id": "d78d36f1",
   "metadata": {},
   "outputs": [],
   "source": [
    "#df1 = df.pivot(index='gender', columns='sport')\n",
    "#df1"
   ]
  },
  {
   "cell_type": "markdown",
   "id": "b84c0910",
   "metadata": {},
   "source": [
    "- When we set the index to `gender` and columns to `sport`, the `pivot()`\n",
    "- In this case there are two rows which have `female` and play `basketball`. \n",
    "- The `pivot()` function doesn't know what value to put into cell values. \n",
    "- So raise a ValueError: Index contains duplicate entries, cannot reshape\n",
    "- The `pivot_table()` method use the default `aggfunc=’mean’` argument to decide this."
   ]
  },
  {
   "cell_type": "markdown",
   "id": "a3c1711b",
   "metadata": {},
   "source": [
    "**Use of margins argument to `pivot_table()` method**"
   ]
  },
  {
   "cell_type": "code",
   "execution_count": null,
   "id": "bc964838",
   "metadata": {},
   "outputs": [],
   "source": [
    "df.pivot_table(index='gender', columns='sport', margins=True)"
   ]
  },
  {
   "cell_type": "code",
   "execution_count": null,
   "id": "127e7b32",
   "metadata": {},
   "outputs": [],
   "source": []
  },
  {
   "cell_type": "markdown",
   "id": "e5486840",
   "metadata": {},
   "source": [
    "### DataSet 4:\n",
    "In this dataset, since we have ...., so the `pivot()` method will flag an error as it donot know what out of the three values to place in the dataframe. However, the `pivot_table()` method will use some aggregation function to compute the value to be placed and will work fine....\n",
    "\n",
    "<img align=\"center\" width=\"900\" height=\"600\"  src=\"images/ds4.png\"  >"
   ]
  },
  {
   "cell_type": "code",
   "execution_count": null,
   "id": "cc2b97b9",
   "metadata": {},
   "outputs": [],
   "source": []
  },
  {
   "cell_type": "code",
   "execution_count": null,
   "id": "74c41892",
   "metadata": {},
   "outputs": [],
   "source": [
    "import pandas as pd\n",
    "df = pd.read_csv('datasets/waterneed.csv')\n",
    "df"
   ]
  },
  {
   "cell_type": "markdown",
   "id": "c1f7d727",
   "metadata": {},
   "source": [
    "- **The `pivot()` method requires atleast two arguments index and columns**\n",
    "\n",
    "- **The `pivot_table()` on the contrary can work on index argument only, the values place are using the mean aggregate function.**"
   ]
  },
  {
   "cell_type": "code",
   "execution_count": null,
   "id": "03f5be0d",
   "metadata": {},
   "outputs": [],
   "source": [
    "df1 = df.pivot_table(index='animal')\n",
    "df1"
   ]
  },
  {
   "cell_type": "markdown",
   "id": "6c216c23",
   "metadata": {},
   "source": [
    "You can apply aggregation function on the new dataframe as well, such as compute the average speed"
   ]
  },
  {
   "cell_type": "code",
   "execution_count": null,
   "id": "0d4e2a62",
   "metadata": {},
   "outputs": [],
   "source": [
    "df1['speed'].agg('mean')"
   ]
  },
  {
   "cell_type": "code",
   "execution_count": null,
   "id": "116b0c39",
   "metadata": {},
   "outputs": [],
   "source": [
    "# You can also perfrom aggragtion to summarize data\n",
    "df1[['speed','water_need']].agg('mean')"
   ]
  },
  {
   "cell_type": "markdown",
   "id": "e64df88d",
   "metadata": {},
   "source": [
    "**Multilevel indexing** You can perfrom multi-level indexing by passing the columns as a list to index argument to `pivottable()`"
   ]
  },
  {
   "cell_type": "code",
   "execution_count": null,
   "id": "d7b447e0",
   "metadata": {},
   "outputs": [],
   "source": [
    "df.pivot_table(index=['animal','uniq_id'])"
   ]
  },
  {
   "cell_type": "code",
   "execution_count": null,
   "id": "7c3e1995",
   "metadata": {},
   "outputs": [],
   "source": []
  },
  {
   "cell_type": "markdown",
   "id": "cd95ac43",
   "metadata": {},
   "source": [
    "## 2. Reshaping Data Using `df.melt()` Method\n",
    "\n",
    "- Similar to `pivot()` and `pivot_table()`, Pandas `melt()` method is also used to transform or reshape data. \n",
    "- The `pd.melt()` method is used to change the DataFrame format from wide to long\n",
    "- The Pandas `pd.melt()` method is useful to reshape a DataFrame into a format where one or more columns are identifier variables (id_vars), while all other columns, considered measured variables (value_vars). Its signature is:\n",
    "```\n",
    "pandas.melt(Dataframe, id_vars=None, value_vars=None, var_name=None, value_name='value',ignore_index=True)\n",
    "```\n",
    "Where,\n",
    "- `id_vars`: tuple, list, or ndarray, optional  (Column(s) to use as identifier variables)\n",
    "- `value_var`: tuple, list, or ndarray, optional (If not specified, uses all columns that are not set as id_vars)\n",
    "- `var_name`: Name to use for the ‘variable’ column. If None it uses frame.columns.name or ‘variable’.\n",
    "- `value_name`: Name to use for the ‘value’ column.\n",
    "- `ignore_index`: bool, default True (If True, original index is ignored. If False, the original index is retained.)"
   ]
  },
  {
   "cell_type": "code",
   "execution_count": null,
   "id": "761ce23e",
   "metadata": {},
   "outputs": [],
   "source": []
  },
  {
   "cell_type": "code",
   "execution_count": null,
   "id": "5fa29f2e",
   "metadata": {},
   "outputs": [],
   "source": []
  },
  {
   "cell_type": "markdown",
   "id": "c3ba290f",
   "metadata": {},
   "source": [
    "### DataSet 1:\n",
    "<img align=\"center\" width=\"900\" height=\"600\"  src=\"images/melt2.png\"  >"
   ]
  },
  {
   "cell_type": "code",
   "execution_count": null,
   "id": "3e0be1c1",
   "metadata": {},
   "outputs": [],
   "source": []
  },
  {
   "cell_type": "markdown",
   "id": "ab8ace83",
   "metadata": {},
   "source": [
    "<img align=\"center\" width=\"900\" height=\"600\"  src=\"images/melt1.png\"  >"
   ]
  },
  {
   "cell_type": "code",
   "execution_count": null,
   "id": "3b12a1d4",
   "metadata": {},
   "outputs": [],
   "source": []
  },
  {
   "cell_type": "code",
   "execution_count": null,
   "id": "af2eef12",
   "metadata": {},
   "outputs": [],
   "source": [
    "df = pd.read_csv('datasets/weather.csv')\n",
    "df"
   ]
  },
  {
   "cell_type": "code",
   "execution_count": null,
   "id": "adcc07c8",
   "metadata": {},
   "outputs": [],
   "source": [
    "df1 = pd.melt(df, id_vars =['day'])\n",
    "df1"
   ]
  },
  {
   "cell_type": "markdown",
   "id": "9eb8a582",
   "metadata": {},
   "source": [
    ">You can change the name of columns for example, replace the column `variable` and `value` with some meaningful names. like `city` and `temperature` using the `var_name` and `value_name` arguments of `melt()` method"
   ]
  },
  {
   "cell_type": "code",
   "execution_count": null,
   "id": "071c2703",
   "metadata": {},
   "outputs": [],
   "source": [
    "df1 = pd.melt(df, id_vars =['day'], var_name='city', value_name='temperature')\n",
    "df1"
   ]
  },
  {
   "cell_type": "markdown",
   "id": "30eb27bb",
   "metadata": {},
   "source": [
    ">You can filter the rows of your choice using the `value_vars` argument of `melt()` method"
   ]
  },
  {
   "cell_type": "code",
   "execution_count": null,
   "id": "55f66c15",
   "metadata": {},
   "outputs": [],
   "source": [
    "df2 = pd.melt(df, id_vars = ['day'], value_vars =['lahore'], var_name='city', value_name='temperature')\n",
    "df2"
   ]
  },
  {
   "cell_type": "code",
   "execution_count": null,
   "id": "e075e2ca",
   "metadata": {},
   "outputs": [],
   "source": [
    "df3 = pd.melt(df, id_vars =['day'], value_vars=['karachi'],var_name='city', value_name='temperature')\n",
    "df3"
   ]
  },
  {
   "cell_type": "code",
   "execution_count": null,
   "id": "6c4568e4",
   "metadata": {},
   "outputs": [],
   "source": [
    "# You can achieve the similar result by using Boolean indexing\n",
    "df1[df1['city'] == 'karachi']"
   ]
  },
  {
   "cell_type": "code",
   "execution_count": null,
   "id": "e5246468",
   "metadata": {},
   "outputs": [],
   "source": []
  },
  {
   "cell_type": "markdown",
   "id": "5f79cd6c",
   "metadata": {},
   "source": [
    ">You can apply aggregation function on the new dataframe as well, such as compute the average temperatures"
   ]
  },
  {
   "cell_type": "code",
   "execution_count": null,
   "id": "b92af885",
   "metadata": {},
   "outputs": [],
   "source": [
    "df1"
   ]
  },
  {
   "cell_type": "code",
   "execution_count": null,
   "id": "5c00f973",
   "metadata": {},
   "outputs": [],
   "source": [
    "# compute the average temperature of entire dataframe\n",
    "df1['temperature'].agg('mean')"
   ]
  },
  {
   "cell_type": "code",
   "execution_count": null,
   "id": "10bbbede",
   "metadata": {},
   "outputs": [],
   "source": [
    "df1[df1['city'] == 'lahore' ]"
   ]
  },
  {
   "cell_type": "code",
   "execution_count": null,
   "id": "0a8aac60",
   "metadata": {},
   "outputs": [],
   "source": [
    "# compute the average temperature of lahore city only\n",
    "df1[df1['city'] == 'lahore' ].temperature.agg('mean')"
   ]
  },
  {
   "cell_type": "code",
   "execution_count": null,
   "id": "1daeeda3",
   "metadata": {},
   "outputs": [],
   "source": [
    "df1[df1['city'] == 'karachi' ]"
   ]
  },
  {
   "cell_type": "code",
   "execution_count": null,
   "id": "d3a26e60",
   "metadata": {},
   "outputs": [],
   "source": [
    "# compute the average temperature of karachi city only\n",
    "df1[df1['city'] == 'karachi' ].temperature.agg('mean')"
   ]
  },
  {
   "cell_type": "code",
   "execution_count": null,
   "id": "2b76e497",
   "metadata": {},
   "outputs": [],
   "source": []
  },
  {
   "cell_type": "markdown",
   "id": "53e880bc",
   "metadata": {},
   "source": [
    "## 3. Reshaping Data Using `df.crosstab()` Method\n",
    "\n",
    "- The `pd.crosstab()` method is also used for data restructuring and reshaping.\n",
    "- It is normally used for quickly comparing categorical variables.\n",
    "- The cross table is also known as contingency table, which is a matrix type table that displays the (multivariate) frequency distribution of variables.\n",
    "```\n",
    "pandas.crosstab(index, \n",
    "                columns, \n",
    "                aggfunc=None,\n",
    "                values=None,\n",
    "                margins=False, \n",
    "                normalize=False)\n",
    "```\n",
    "Where,\n",
    "- `index`: array-like, Series, or list of arrays/Series (Values to group by in the rows)\n",
    "- `columns`: array-like, Series, or list of arrays/Series (Values to group by in the columns)\n",
    "- `values`: array-like, optional (Array of values to aggregate according to the factors. Requires aggfunc be specified)\n",
    "- `aggfunc`: function, optional If specified, requires values be specified as well.\n",
    "- `margins`: bool, default False, Add row/column margins (subtotals).\n",
    "- `normalize`: bool, {‘all’, ‘index’, ‘columns’}, or {0,1}, default False (Normalize by dividing all values by the sum of values)"
   ]
  },
  {
   "cell_type": "code",
   "execution_count": null,
   "id": "2e20d349",
   "metadata": {},
   "outputs": [],
   "source": [
    "# Reading data from 'datasets/sample.csv' file\n",
    "import numpy as np\n",
    "import pandas as pd\n",
    "df = pd.read_csv('datasets/sample1.csv')\n",
    "df"
   ]
  },
  {
   "cell_type": "markdown",
   "id": "53566f10",
   "metadata": {},
   "source": [
    ">Suppose we want to get the frequency distribution of males and females. You pass `city` column as `index` argument and `gender` column as `columns` argument to the `pd.crosstab()` method. It returns a frequency table containing the male and female count in each city"
   ]
  },
  {
   "cell_type": "code",
   "execution_count": null,
   "id": "a65f7ee3",
   "metadata": {},
   "outputs": [],
   "source": [
    "pd.crosstab(index=df.city, columns=df.gender)"
   ]
  },
  {
   "cell_type": "markdown",
   "id": "3c1c84be",
   "metadata": {},
   "source": [
    "> You can also get the count of total male and female in each city by setting `margins` attribute to `True`"
   ]
  },
  {
   "cell_type": "code",
   "execution_count": null,
   "id": "806150e6",
   "metadata": {},
   "outputs": [],
   "source": [
    "pd.crosstab(index=df.city, columns=df.gender, margins=True)"
   ]
  },
  {
   "cell_type": "code",
   "execution_count": null,
   "id": "8fea0848",
   "metadata": {},
   "outputs": [],
   "source": []
  },
  {
   "cell_type": "code",
   "execution_count": null,
   "id": "48520a2c",
   "metadata": {},
   "outputs": [],
   "source": []
  },
  {
   "cell_type": "markdown",
   "id": "4465dc48",
   "metadata": {},
   "source": [
    ">Instead of getting frequencies in whole number you can also calculate the percentage of male and female in each city. For that you set the `normalize` argument to a value of `True`"
   ]
  },
  {
   "cell_type": "code",
   "execution_count": null,
   "id": "1b4bf00d",
   "metadata": {},
   "outputs": [],
   "source": [
    "pd.crosstab(index=df.city, columns=df.gender, normalize=True)"
   ]
  },
  {
   "cell_type": "markdown",
   "id": "b88e5189",
   "metadata": {},
   "source": [
    ">Suppose you want to get the average age of male and female in different cities. To achieve this, set the `values` argument to `age` column, and pass the appropariate aggregate function to the `aggfunc` argument"
   ]
  },
  {
   "cell_type": "code",
   "execution_count": null,
   "id": "d10ad158",
   "metadata": {},
   "outputs": [],
   "source": [
    "pd.crosstab(index=df.city, columns=df.gender, values=df.age, aggfunc=np.mean)"
   ]
  },
  {
   "cell_type": "code",
   "execution_count": null,
   "id": "31e5ae16",
   "metadata": {},
   "outputs": [],
   "source": []
  },
  {
   "cell_type": "markdown",
   "id": "4f5fb332",
   "metadata": {},
   "source": [
    "## Practice Exercise no 01\n",
    "**A pivot table is a table of statistics that summarizes the data of a more extensive table (such as from a database, spreadsheet, or business intelligence program). This summary might include sums, averages, or other statistics, which the pivot table groups together in a meaningful way.**"
   ]
  },
  {
   "cell_type": "code",
   "execution_count": null,
   "id": "6aad553d",
   "metadata": {},
   "outputs": [],
   "source": [
    "# load the necessary dataset for this task, we will use `SaleData.xlsx`\n",
    "import pandas as pd\n",
    "import numpy as np"
   ]
  },
  {
   "cell_type": "code",
   "execution_count": null,
   "id": "d9184c96",
   "metadata": {},
   "outputs": [],
   "source": [
    "df = pd.read_excel('datasets/SaleData.xlsx')\n",
    "# df.head()"
   ]
  },
  {
   "cell_type": "code",
   "execution_count": null,
   "id": "4d992c58",
   "metadata": {},
   "outputs": [],
   "source": [
    "# df.shape"
   ]
  },
  {
   "cell_type": "code",
   "execution_count": null,
   "id": "954ea344",
   "metadata": {},
   "outputs": [],
   "source": [
    "# df.columns"
   ]
  },
  {
   "cell_type": "markdown",
   "id": "d37aac7e",
   "metadata": {},
   "source": [
    "#### Write a Pandas program to create a Pivot table with multiple indexes like Region,SalesMan from a given excel sheet (Salesdata.xlsx)."
   ]
  },
  {
   "cell_type": "code",
   "execution_count": null,
   "id": "283d45df",
   "metadata": {},
   "outputs": [],
   "source": [
    "# df1 = pd.pivot_table(df,index=['Region','SalesMan'])\n",
    "# df1"
   ]
  },
  {
   "cell_type": "code",
   "execution_count": null,
   "id": "69d502ad",
   "metadata": {},
   "outputs": [],
   "source": []
  },
  {
   "cell_type": "markdown",
   "id": "222f76a8",
   "metadata": {},
   "source": [
    "#### Write a Pandas program to create a Pivot table and find the total sale amount region wise, manager wise."
   ]
  },
  {
   "cell_type": "code",
   "execution_count": null,
   "id": "3feb5ee9",
   "metadata": {},
   "outputs": [],
   "source": [
    "# df2 = pd.pivot_table(df, index=['Region','Manager'], values='Sale_amt', aggfunc=np.sum)\n",
    "# df2"
   ]
  },
  {
   "cell_type": "code",
   "execution_count": null,
   "id": "464417d8",
   "metadata": {},
   "outputs": [],
   "source": [
    "# df2 = pd.pivot_table(df, index=['Region','Manager'], values='Sale_amt', aggfunc=np.sum, margins=True)\n",
    "# df2"
   ]
  },
  {
   "cell_type": "markdown",
   "id": "5d96b050",
   "metadata": {},
   "source": [
    "#### Write a Pandas program to create a Pivot table and find the total sale amount region wise, manager wise, sales man wise."
   ]
  },
  {
   "cell_type": "code",
   "execution_count": null,
   "id": "9ceb025f",
   "metadata": {},
   "outputs": [],
   "source": [
    "# df3 = pd.pivot_table(df, index=['Region','Manager', 'SalesMan'], values='Sale_amt', aggfunc=np.sum)\n",
    "# df3"
   ]
  },
  {
   "cell_type": "code",
   "execution_count": null,
   "id": "8431fc7d",
   "metadata": {},
   "outputs": [],
   "source": []
  },
  {
   "cell_type": "markdown",
   "id": "7a5e4be4",
   "metadata": {},
   "source": [
    "#### Write a Pandas program to create a Pivot table and find the item wise unit sold."
   ]
  },
  {
   "cell_type": "code",
   "execution_count": null,
   "id": "d75d0c6c",
   "metadata": {},
   "outputs": [],
   "source": [
    "# df.columns"
   ]
  },
  {
   "cell_type": "code",
   "execution_count": null,
   "id": "7c8936f6",
   "metadata": {},
   "outputs": [],
   "source": [
    "# df4 = pd.pivot_table(df, index=['Item'], values='Units', aggfunc=np.sum)\n",
    "# df4"
   ]
  },
  {
   "cell_type": "code",
   "execution_count": null,
   "id": "99626718",
   "metadata": {},
   "outputs": [],
   "source": []
  },
  {
   "cell_type": "markdown",
   "id": "67a12233",
   "metadata": {},
   "source": [
    "#### Write a Pandas program to create a Pivot table and find the region wise total sale."
   ]
  },
  {
   "cell_type": "code",
   "execution_count": null,
   "id": "c2e8709b",
   "metadata": {},
   "outputs": [],
   "source": [
    "# pd.pivot_table(df, index='Region',values='Sale_amt', aggfunc=np.sum)"
   ]
  },
  {
   "cell_type": "code",
   "execution_count": null,
   "id": "508a28a7",
   "metadata": {},
   "outputs": [],
   "source": [
    "# pd.pivot_table(df, index='Region',values='Sale_amt', aggfunc=np.sum)"
   ]
  },
  {
   "cell_type": "code",
   "execution_count": null,
   "id": "dbccaf8f",
   "metadata": {},
   "outputs": [],
   "source": []
  },
  {
   "cell_type": "markdown",
   "id": "8f629553",
   "metadata": {},
   "source": [
    "#### Write a Pandas program to create a Pivot table and find the region wise, item wise unit sold."
   ]
  },
  {
   "cell_type": "code",
   "execution_count": null,
   "id": "91887d8f",
   "metadata": {},
   "outputs": [],
   "source": []
  },
  {
   "cell_type": "code",
   "execution_count": null,
   "id": "c1fd4608",
   "metadata": {},
   "outputs": [],
   "source": [
    "# pd.pivot_table(df, index=['Region','Item'], values='Units', aggfunc=np.sum)"
   ]
  },
  {
   "cell_type": "code",
   "execution_count": null,
   "id": "49ccff43",
   "metadata": {},
   "outputs": [],
   "source": []
  },
  {
   "cell_type": "markdown",
   "id": "238aa0e7",
   "metadata": {},
   "source": [
    "#### Write a Pandas program to create a Pivot table and count the manager wise sale and mean value of sale amount. "
   ]
  },
  {
   "cell_type": "code",
   "execution_count": null,
   "id": "13b06308",
   "metadata": {},
   "outputs": [],
   "source": []
  },
  {
   "cell_type": "code",
   "execution_count": null,
   "id": "0bcacea5",
   "metadata": {},
   "outputs": [],
   "source": [
    "# pd.pivot_table(df, index=['Manager'],values=['SalesMan','Sale_amt'],aggfunc={'SalesMan':len,\n",
    "#                                                                             'Sale_amt':np.mean})"
   ]
  },
  {
   "cell_type": "code",
   "execution_count": null,
   "id": "0f822f26",
   "metadata": {},
   "outputs": [],
   "source": []
  },
  {
   "cell_type": "markdown",
   "id": "1f790994",
   "metadata": {},
   "source": [
    "#### Write a Pandas program to create a Pivot table and find manager wise, salesman wise total sale and also display the sum of all sale amount at the bottom. "
   ]
  },
  {
   "cell_type": "code",
   "execution_count": null,
   "id": "ddd411ad",
   "metadata": {},
   "outputs": [],
   "source": []
  },
  {
   "cell_type": "code",
   "execution_count": null,
   "id": "f939b00c",
   "metadata": {},
   "outputs": [],
   "source": [
    "# pd.pivot_table(df, index=['Manager','SalesMan'], values='Sale_amt', aggfunc=np.sum, margins=True)"
   ]
  },
  {
   "cell_type": "markdown",
   "id": "8bc55576",
   "metadata": {},
   "source": [
    "#### Write a Pandas program to create a Pivot table and find the total sale amount region wise, manager wise, sales man wise where Manager = \"Douglas\"."
   ]
  },
  {
   "cell_type": "code",
   "execution_count": null,
   "id": "99a63261",
   "metadata": {},
   "outputs": [],
   "source": []
  },
  {
   "cell_type": "code",
   "execution_count": null,
   "id": "be50c472",
   "metadata": {},
   "outputs": [],
   "source": [
    "# result = pd.pivot_table(df, index=['Region','Manager','SalesMan'], values='Sale_amt', aggfunc=np.sum)\n",
    "# result.query('Manager==[\"Douglas\"]')"
   ]
  },
  {
   "cell_type": "code",
   "execution_count": null,
   "id": "c09eb170",
   "metadata": {},
   "outputs": [],
   "source": []
  },
  {
   "cell_type": "code",
   "execution_count": null,
   "id": "cad64c44",
   "metadata": {},
   "outputs": [],
   "source": [
    "# a = result.reset_index()\n",
    "# a[a.Manager =='Douglas'].set_index(keys=['Region','Manager','SalesMan'])"
   ]
  },
  {
   "cell_type": "code",
   "execution_count": null,
   "id": "4d395746",
   "metadata": {},
   "outputs": [],
   "source": [
    "# df.head()"
   ]
  },
  {
   "cell_type": "code",
   "execution_count": null,
   "id": "4af5ea27",
   "metadata": {},
   "outputs": [],
   "source": []
  },
  {
   "cell_type": "markdown",
   "id": "0196e8d7",
   "metadata": {},
   "source": [
    "#### Write a Pandas program to create a Pivot table and find the region wise Television and Home Theater sold."
   ]
  },
  {
   "cell_type": "code",
   "execution_count": null,
   "id": "31849592",
   "metadata": {},
   "outputs": [],
   "source": []
  },
  {
   "cell_type": "code",
   "execution_count": null,
   "id": "d1bd106f",
   "metadata": {},
   "outputs": [],
   "source": [
    "# result = pd.pivot_table(df,index=['Region', 'Item'],values= ['Units'], aggfunc=np.sum)\n",
    "# result.query('Item == [\"Television\",\"Home Theater\"]')"
   ]
  },
  {
   "cell_type": "code",
   "execution_count": null,
   "id": "5ec327a4",
   "metadata": {},
   "outputs": [],
   "source": []
  },
  {
   "cell_type": "code",
   "execution_count": null,
   "id": "c04cfbee",
   "metadata": {},
   "outputs": [],
   "source": [
    "# a = result.reset_index()\n",
    "# a.loc[(a.Item=='Television') | (a.Item == 'Home Theater')].set_index(['Region','Item'])"
   ]
  },
  {
   "cell_type": "code",
   "execution_count": null,
   "id": "122cbf0c",
   "metadata": {},
   "outputs": [],
   "source": [
    "# df.columns"
   ]
  },
  {
   "cell_type": "markdown",
   "id": "27abde92",
   "metadata": {},
   "source": [
    "#### Write a Pandas program to create a Pivot table and find the maximum sale value of the items."
   ]
  },
  {
   "cell_type": "code",
   "execution_count": null,
   "id": "952f6a86",
   "metadata": {},
   "outputs": [],
   "source": []
  },
  {
   "cell_type": "code",
   "execution_count": null,
   "id": "9dec23ac",
   "metadata": {},
   "outputs": [],
   "source": [
    "# pd.pivot_table(df, index=['Item'], values= ['Sale_amt'], aggfunc=np.max )"
   ]
  },
  {
   "cell_type": "code",
   "execution_count": null,
   "id": "9fc0efd3",
   "metadata": {},
   "outputs": [],
   "source": []
  },
  {
   "cell_type": "markdown",
   "id": "4b70eefa",
   "metadata": {},
   "source": [
    "#### Write a Pandas program to create a Pivot table and find the minimum sale value of the items."
   ]
  },
  {
   "cell_type": "code",
   "execution_count": null,
   "id": "d9686b0a",
   "metadata": {},
   "outputs": [],
   "source": [
    "# pd.pivot_table(df, index=['Item'], values= ['Sale_amt'], aggfunc=np.min)"
   ]
  },
  {
   "cell_type": "code",
   "execution_count": null,
   "id": "12a4c79c",
   "metadata": {},
   "outputs": [],
   "source": [
    "# df.groupby('Item').agg({'Unit_price':['min','max','sum'],\n",
    "#                        'Sale_amt':['min','max','sum']})"
   ]
  },
  {
   "cell_type": "code",
   "execution_count": null,
   "id": "0dbe2e73",
   "metadata": {},
   "outputs": [],
   "source": []
  },
  {
   "cell_type": "markdown",
   "id": "28d2a1ba",
   "metadata": {},
   "source": [
    "## Practice Exercise no 02"
   ]
  },
  {
   "cell_type": "code",
   "execution_count": null,
   "id": "70883ecc",
   "metadata": {},
   "outputs": [],
   "source": [
    "# For this exercise , we will use `titanic.csv` dataset"
   ]
  },
  {
   "cell_type": "code",
   "execution_count": null,
   "id": "d0dfa27e",
   "metadata": {},
   "outputs": [],
   "source": [
    "# df = pd.read_csv('datasets/titanic3.csv')\n",
    "# df.head()"
   ]
  },
  {
   "cell_type": "markdown",
   "id": "69f954be",
   "metadata": {},
   "source": [
    "### Write a Pandas program to create a Pivot table with multiple indexes like sex and pclass, and find minimum and maximum age and fare from the data set."
   ]
  },
  {
   "cell_type": "code",
   "execution_count": null,
   "id": "2375e111",
   "metadata": {},
   "outputs": [],
   "source": [
    "# pd.pivot_table(df, index=['sex','pclass'], values=['age', 'fare'], aggfunc=[min, max])"
   ]
  },
  {
   "cell_type": "code",
   "execution_count": null,
   "id": "31cb488d",
   "metadata": {},
   "outputs": [],
   "source": []
  },
  {
   "cell_type": "markdown",
   "id": "b42710dc",
   "metadata": {},
   "source": [
    "### Write a Pandas program to create a Pivot table and find survival rate by gender on various classes. "
   ]
  },
  {
   "cell_type": "code",
   "execution_count": null,
   "id": "0194eaef",
   "metadata": {},
   "outputs": [],
   "source": [
    "# pd.pivot_table(df, index='sex', columns='pclass', values='survived')"
   ]
  },
  {
   "cell_type": "markdown",
   "id": "998a19fa",
   "metadata": {},
   "source": [
    "### Write a Pandas program to create a Pivot table and find survival rate by gender."
   ]
  },
  {
   "cell_type": "code",
   "execution_count": null,
   "id": "84ff69cc",
   "metadata": {},
   "outputs": [],
   "source": [
    "# pd.pivot_table(df, index='sex', values='survived', aggfunc=np.mean)"
   ]
  },
  {
   "cell_type": "code",
   "execution_count": null,
   "id": "e574f8ff",
   "metadata": {},
   "outputs": [],
   "source": [
    "# df.groupby('sex')[['survived']].mean()"
   ]
  },
  {
   "cell_type": "code",
   "execution_count": null,
   "id": "ddc1bc62",
   "metadata": {},
   "outputs": [],
   "source": []
  },
  {
   "cell_type": "markdown",
   "id": "793e70e3",
   "metadata": {},
   "source": [
    "### Write a Pandas program to create a Pivot table and count survival by gender, categories wise age of various classes.\n",
    "```\n",
    "Step 1: First of all we will create categories of age like this Age categories (0, 10), (10, 30), (30, 60), (60, 80) uisng `pf.cut()`.\n",
    "Step 2: Find count of survived in each class according to age categories\n",
    "```\n"
   ]
  },
  {
   "cell_type": "code",
   "execution_count": null,
   "id": "78b4816b",
   "metadata": {},
   "outputs": [],
   "source": [
    "# ages = pd.cut(df.age,[0,10,30,60,80])\n",
    "# ages"
   ]
  },
  {
   "cell_type": "code",
   "execution_count": null,
   "id": "0c68f221",
   "metadata": {},
   "outputs": [],
   "source": [
    "# pd.pivot_table(df, index=['sex', ages], values=['survived'], columns=['pclass'], aggfunc='count')"
   ]
  },
  {
   "cell_type": "code",
   "execution_count": null,
   "id": "35379bf1",
   "metadata": {},
   "outputs": [],
   "source": []
  },
  {
   "cell_type": "markdown",
   "id": "513b98ba",
   "metadata": {},
   "source": [
    "### Write a Pandas program to create a Pivot table and find survival rate by gender, age of the different categories of various classes."
   ]
  },
  {
   "cell_type": "code",
   "execution_count": null,
   "id": "0ddce5b8",
   "metadata": {},
   "outputs": [],
   "source": [
    "# ages = pd.cut(df.age, [0,40,80])\n",
    "# pd.pivot_table(df, index=['sex',ages], columns='pclass',values='survived')"
   ]
  },
  {
   "cell_type": "code",
   "execution_count": null,
   "id": "f3b1aab4",
   "metadata": {},
   "outputs": [],
   "source": []
  },
  {
   "cell_type": "markdown",
   "id": "a53fe9e4",
   "metadata": {},
   "source": [
    "### Write a Pandas program to create a Pivot table and find survival rate by gender, age of the different categories of various classes. Add the fare as a dimension of columns and partition fare column into 2 categories based on the values present in fare columns."
   ]
  },
  {
   "cell_type": "code",
   "execution_count": null,
   "id": "e5e23c9b",
   "metadata": {},
   "outputs": [],
   "source": [
    "# fare = pd.qcut(df.fare, 2)\n",
    "# pd.pivot_table(df, index=['sex',ages], columns=[fare,'pclass'] ,values='survived')"
   ]
  },
  {
   "cell_type": "code",
   "execution_count": null,
   "id": "27070265",
   "metadata": {},
   "outputs": [],
   "source": []
  },
  {
   "cell_type": "markdown",
   "id": "f4de03bf",
   "metadata": {},
   "source": [
    "### Write a Pandas program to create a Pivot table and calculate number of women and men were in a particular class. "
   ]
  },
  {
   "cell_type": "code",
   "execution_count": null,
   "id": "3ec10e4e",
   "metadata": {},
   "outputs": [],
   "source": [
    "# pd.pivot_table(df, index='pclass', columns='sex', aggfunc={'sex':'count'})"
   ]
  },
  {
   "cell_type": "code",
   "execution_count": null,
   "id": "f461183e",
   "metadata": {},
   "outputs": [],
   "source": []
  },
  {
   "cell_type": "markdown",
   "id": "113c8768",
   "metadata": {},
   "source": [
    "### Write a Pandas program to create a Pivot table and compute total survival  of all classes along each group and gender. "
   ]
  },
  {
   "cell_type": "code",
   "execution_count": null,
   "id": "d1e882a1",
   "metadata": {},
   "outputs": [],
   "source": [
    "# pd.pivot_table(df, index=['sex'], columns='pclass', values='survived', aggfunc={'survived':'sum'}, margins=True)"
   ]
  },
  {
   "cell_type": "code",
   "execution_count": null,
   "id": "6f2158c3",
   "metadata": {},
   "outputs": [],
   "source": [
    "# df.groupby('sex')[['survived']].sum()"
   ]
  },
  {
   "cell_type": "code",
   "execution_count": null,
   "id": "389806bb",
   "metadata": {},
   "outputs": [],
   "source": []
  },
  {
   "cell_type": "code",
   "execution_count": null,
   "id": "fe2acb35",
   "metadata": {},
   "outputs": [],
   "source": []
  },
  {
   "cell_type": "code",
   "execution_count": null,
   "id": "fff67e6d",
   "metadata": {},
   "outputs": [],
   "source": []
  },
  {
   "cell_type": "code",
   "execution_count": null,
   "id": "ef7ca795",
   "metadata": {},
   "outputs": [],
   "source": []
  },
  {
   "cell_type": "code",
   "execution_count": null,
   "id": "948de4d2",
   "metadata": {
    "scrolled": true
   },
   "outputs": [],
   "source": []
  },
  {
   "cell_type": "code",
   "execution_count": null,
   "id": "43d53589",
   "metadata": {},
   "outputs": [],
   "source": []
  },
  {
   "cell_type": "markdown",
   "id": "7d1814cb",
   "metadata": {},
   "source": [
    "## Check Your Concepts:\n",
    "- What is Pandas?"
   ]
  },
  {
   "cell_type": "code",
   "execution_count": null,
   "id": "4fe212ee",
   "metadata": {},
   "outputs": [],
   "source": []
  },
  {
   "cell_type": "markdown",
   "id": "861dbac8",
   "metadata": {},
   "source": [
    "# Pandas - Assignment no 11\n",
    "- Here is link of [Pandas - Assignment no 11]()"
   ]
  },
  {
   "cell_type": "code",
   "execution_count": null,
   "id": "ff865396",
   "metadata": {},
   "outputs": [],
   "source": []
  }
 ],
 "metadata": {
  "kernelspec": {
   "display_name": "Python 3 (ipykernel)",
   "language": "python",
   "name": "python3"
  },
  "language_info": {
   "codemirror_mode": {
    "name": "ipython",
    "version": 3
   },
   "file_extension": ".py",
   "mimetype": "text/x-python",
   "name": "python",
   "nbconvert_exporter": "python",
   "pygments_lexer": "ipython3",
   "version": "3.8.10"
  }
 },
 "nbformat": 4,
 "nbformat_minor": 5
}
