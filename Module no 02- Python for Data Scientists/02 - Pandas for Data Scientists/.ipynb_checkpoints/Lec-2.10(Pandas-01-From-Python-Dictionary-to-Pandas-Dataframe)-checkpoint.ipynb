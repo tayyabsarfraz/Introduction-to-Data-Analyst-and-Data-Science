{
 "cells": [
  {
   "cell_type": "markdown",
   "id": "4a87b5ef",
   "metadata": {},
   "source": [
    "---   \n",
    "\n",
    "<h1 align=\"center\">Introduction to Data Analyst and Data Science for beginners</h1>\n",
    "<h1 align=\"center\">Lecture no 2.10(Pandas-01)</h1>\n",
    "\n",
    "---\n",
    "<h3><div align=\"right\">Ehtisham Sadiq</div></h3>    "
   ]
  },
  {
   "cell_type": "markdown",
   "id": "19f82705",
   "metadata": {},
   "source": [
    "## _From Python Dictionary to Pandas Dataframe.ipynb_"
   ]
  },
  {
   "cell_type": "markdown",
   "id": "f12d302e",
   "metadata": {},
   "source": [
    "## 1. Overview of Pandas Library and its Datastructures"
   ]
  },
  {
   "cell_type": "markdown",
   "id": "8180130e",
   "metadata": {},
   "source": [
    "<img align=\"center\" width=\"700\" height=\"700\"  src=\"images/pandas-apps.png\"  >"
   ]
  },
  {
   "cell_type": "markdown",
   "id": "73f16850",
   "metadata": {},
   "source": [
    "> **Pandas is an open source python library built on top of numpy and provides easy to use data structures and data analysis tools. Pandas has derived its name from panel data system and was developed by wes mckinney in 2008.**\n",
    "\n",
    "> **Data scientists use pandas for performing various data science tasks starting from downloading, opening, reading and writing files of different file formats like csv, excel, json, html and so on. They load the data set into its data structure called data frame.**\n",
    "\n",
    "> **A Pandas Dataframe is a 2-dimensional labeled data structure (like SQL table) with heterogeneously typed columns, having both a row and a column index.**\n",
    "\n",
    "> **After the data is loaded in a data frame data scientists perform a various data manipulation tasks like filtering and modifying data based on multiple conditions cutting splitting merging sorting scaling pivoting and aggregating of data.**\n",
    "\n",
    "> **Data cleaning is done to enhance the data accuracy and integrity by identifying and removing null values duplicates and outliers.**\n",
    "\n",
    "> **Data wrangling actually transforms the data structurally to appropriate format and makes it ready to be used by the machine learning engineers so that they can apply appropriate machine learning models or algorithm on that data set for training validating and testing purposes.**"
   ]
  },
  {
   "cell_type": "code",
   "execution_count": null,
   "id": "06a6c056",
   "metadata": {},
   "outputs": [],
   "source": []
  },
  {
   "cell_type": "markdown",
   "id": "9727124d",
   "metadata": {},
   "source": [
    "## Learning agenda of this notebook\n",
    "\n",
    "1. Overview of Pandas Library and its Data Structures\n",
    "2. Install Pandas Library\n",
    "3. Read Datasets into Pandas Dataframe\n",
    "4. Python Dictionaries vs Pandas Dataframes\n",
    "5. Anatomy of a Dataframe\n",
    "6. Bonus"
   ]
  },
  {
   "cell_type": "code",
   "execution_count": null,
   "id": "b4900f0e",
   "metadata": {},
   "outputs": [],
   "source": []
  },
  {
   "cell_type": "markdown",
   "id": "32024162",
   "metadata": {},
   "source": [
    "## 2. Install Pandas Library"
   ]
  },
  {
   "cell_type": "code",
   "execution_count": null,
   "id": "e251bdc6",
   "metadata": {},
   "outputs": [],
   "source": [
    "# To install this library in Jupyter notebook\n",
    "import sys\n",
    "!{sys.executable} -m pip install pandas --quiet"
   ]
  },
  {
   "cell_type": "code",
   "execution_count": null,
   "id": "dba905d0",
   "metadata": {},
   "outputs": [],
   "source": [
    "import pandas as pd\n",
    "pd.__version__ , pd.__path__"
   ]
  },
  {
   "cell_type": "code",
   "execution_count": null,
   "id": "4472aee7",
   "metadata": {},
   "outputs": [],
   "source": []
  },
  {
   "cell_type": "markdown",
   "id": "315fe124",
   "metadata": {},
   "source": [
    "## 3. Read Data Sets into Pandas Dataframe"
   ]
  },
  {
   "cell_type": "code",
   "execution_count": null,
   "id": "b7c4192f",
   "metadata": {},
   "outputs": [],
   "source": []
  },
  {
   "cell_type": "markdown",
   "id": "e0700704",
   "metadata": {},
   "source": [
    "### a. Titanic Dataset\n",
    "- Here is link to [titanic movie](https://hdtoday.cc/movie/watch-titanic-full-19586)\n",
    "- This dataset containing information about passengers offered the titanic ship that sank in north atlantic ocean in 1912 after striving striking with an iceberg.\n",
    "- Characteristics of dataset\n",
    "   - plcass : passengers class like CLASS A, CLASS B, CLASS C. \n",
    "   - survived : 1 means alive and 0 means died.\n",
    "   - name : name of each passenger\n",
    "   - sex : gender\n",
    "   - age : passenger's age\n",
    "   - sibsp : number of siblings and spouses(mainya biwi) on board\n",
    "   - parch : number of parents and children on board\n",
    "   - cabin : cabin in which they are residing\n",
    "   - embarked : Location from where they have embarked like southampton, cherbourg , queenstown.\n",
    "   \n",
    "- This is normally the first problem that machine learning students normally perform in which they answer the  questions like what sort of people were more likely to survive in that titanic thinking by applying some predictive model like reggresion."
   ]
  },
  {
   "cell_type": "code",
   "execution_count": null,
   "id": "c6cec056",
   "metadata": {
    "scrolled": false
   },
   "outputs": [],
   "source": [
    "df_titanic = pd.read_csv('datasets/titanic3.csv')\n",
    "df_titanic"
   ]
  },
  {
   "cell_type": "code",
   "execution_count": null,
   "id": "76cd9afe",
   "metadata": {},
   "outputs": [],
   "source": []
  },
  {
   "cell_type": "markdown",
   "id": "e6c7c6a6",
   "metadata": {},
   "source": [
    "### b. IMDB Dataset\n",
    "- This is internet movie database containing movie ratings. Here , only all imdb registered users can cast a vote on every released title.\n",
    "- By using this dataset we can can answer a lot of questions like movies of a specific actor ,the list of comedy movies or crime movies, movies that are not for children and movies with released year."
   ]
  },
  {
   "cell_type": "code",
   "execution_count": null,
   "id": "a4c88b75",
   "metadata": {},
   "outputs": [],
   "source": [
    "df_imdb = pd.read_csv('datasets/imdb.csv')\n",
    "df_imdb"
   ]
  },
  {
   "cell_type": "code",
   "execution_count": null,
   "id": "442b0aea",
   "metadata": {},
   "outputs": [],
   "source": []
  },
  {
   "cell_type": "code",
   "execution_count": null,
   "id": "f918fc3b",
   "metadata": {},
   "outputs": [],
   "source": []
  },
  {
   "cell_type": "code",
   "execution_count": null,
   "id": "1dc651ad",
   "metadata": {},
   "outputs": [],
   "source": []
  },
  {
   "cell_type": "markdown",
   "id": "3ab7b6e2",
   "metadata": {},
   "source": [
    "### c. Covid Dataset\n",
    "- This covet 19 disease data set is collected by WHO and contains daily updates on differentstatistics of the disease in different countries all around the global."
   ]
  },
  {
   "cell_type": "code",
   "execution_count": null,
   "id": "e132d8a1",
   "metadata": {},
   "outputs": [],
   "source": [
    "df_covid =pd.read_csv('datasets/covid-data.csv')\n",
    "df_covid"
   ]
  },
  {
   "cell_type": "code",
   "execution_count": null,
   "id": "5a0139e0",
   "metadata": {},
   "outputs": [],
   "source": []
  },
  {
   "cell_type": "markdown",
   "id": "502d1350",
   "metadata": {},
   "source": [
    "**We have seen the idea of pandas data frame which is a data structure capable of loading this huge amount of data inside the computer memory and allows you to wrangle and clean this data perform different data analytics and finally design and train machine learning models to do prediction and forecasting.**"
   ]
  },
  {
   "cell_type": "code",
   "execution_count": null,
   "id": "6fca783d",
   "metadata": {},
   "outputs": [],
   "source": []
  },
  {
   "cell_type": "markdown",
   "id": "b94f16ae",
   "metadata": {},
   "source": [
    "## 4. Python Dictionaries vs Pandas Dataframes"
   ]
  },
  {
   "cell_type": "code",
   "execution_count": null,
   "id": "dcdae2d8",
   "metadata": {},
   "outputs": [],
   "source": [
    "person = {\n",
    "    \"name\" : \"Ehtisham\",\n",
    "    \"age\" : 21,\n",
    "    \"address\" : \"Lahore\",\n",
    "    \"cell\" : \"0320-431\",\n",
    "    \"bg\": \"A-\"\n",
    "}\n",
    "person"
   ]
  },
  {
   "cell_type": "code",
   "execution_count": null,
   "id": "a330a4f4",
   "metadata": {},
   "outputs": [],
   "source": []
  },
  {
   "cell_type": "code",
   "execution_count": null,
   "id": "13db82ee",
   "metadata": {},
   "outputs": [],
   "source": [
    "people = {\n",
    "    \"name\" : [\"Ehtisham\", \"Ali\", \"Ayesha\", \"Dua\", \"Khubaib\", \"Adeen\"],\n",
    "    \"age\" : [21, 20, 18, 17, 12, 10],\n",
    "    \"address\": [\"Lahore\", \"Karachi\", \"Lahore\", \"Islamabad\", \"Kakul\", \"Karachi\"],\n",
    "    \"cell\" : [\"321-123\", \"320-431\", \"321-478\", \"324-446\", \"321-967\", \"320-678\"],\n",
    "    \"bg\": [\"B+\", \"A-\", \"B+\", \"O-\", \"A-\", \"B+\"]\n",
    "}\n",
    "people"
   ]
  },
  {
   "cell_type": "code",
   "execution_count": null,
   "id": "3a9f9f8a",
   "metadata": {},
   "outputs": [],
   "source": []
  },
  {
   "cell_type": "code",
   "execution_count": null,
   "id": "99b6776f",
   "metadata": {},
   "outputs": [],
   "source": []
  },
  {
   "cell_type": "code",
   "execution_count": null,
   "id": "eb910d49",
   "metadata": {},
   "outputs": [],
   "source": []
  },
  {
   "cell_type": "code",
   "execution_count": null,
   "id": "39e35beb",
   "metadata": {},
   "outputs": [],
   "source": [
    "! cat datasets/people.csv"
   ]
  },
  {
   "cell_type": "code",
   "execution_count": null,
   "id": "a34604c7",
   "metadata": {},
   "outputs": [],
   "source": []
  },
  {
   "cell_type": "code",
   "execution_count": null,
   "id": "762c5742",
   "metadata": {},
   "outputs": [],
   "source": [
    "import pandas as pd\n",
    "df_people = pd.read_csv('datasets/people.csv')\n",
    "df_people"
   ]
  },
  {
   "cell_type": "code",
   "execution_count": null,
   "id": "7f45a8f0",
   "metadata": {},
   "outputs": [],
   "source": []
  },
  {
   "cell_type": "markdown",
   "id": "92e9126c",
   "metadata": {},
   "source": [
    "**Accessing Elements of Dictionaries and Dataframes**"
   ]
  },
  {
   "cell_type": "code",
   "execution_count": null,
   "id": "89943cb6",
   "metadata": {},
   "outputs": [],
   "source": [
    "people"
   ]
  },
  {
   "cell_type": "code",
   "execution_count": null,
   "id": "829ff1f7",
   "metadata": {},
   "outputs": [],
   "source": [
    "# First Method\n",
    "people.get('age')"
   ]
  },
  {
   "cell_type": "code",
   "execution_count": null,
   "id": "ad7f9cea",
   "metadata": {},
   "outputs": [],
   "source": [
    "mylist = people['name']\n",
    "mylist"
   ]
  },
  {
   "cell_type": "code",
   "execution_count": null,
   "id": "cd2fe44d",
   "metadata": {},
   "outputs": [],
   "source": []
  },
  {
   "cell_type": "code",
   "execution_count": null,
   "id": "78e3d1f6",
   "metadata": {},
   "outputs": [],
   "source": [
    "type(mylist)"
   ]
  },
  {
   "cell_type": "code",
   "execution_count": null,
   "id": "25f1c8fc",
   "metadata": {},
   "outputs": [],
   "source": []
  },
  {
   "cell_type": "code",
   "execution_count": null,
   "id": "e48b0ce0",
   "metadata": {},
   "outputs": [],
   "source": [
    "df_people[' age']"
   ]
  },
  {
   "cell_type": "code",
   "execution_count": null,
   "id": "d8f6f125",
   "metadata": {},
   "outputs": [],
   "source": [
    "myseries = df_people['name']\n",
    "myseries"
   ]
  },
  {
   "cell_type": "code",
   "execution_count": null,
   "id": "36f5ef09",
   "metadata": {},
   "outputs": [],
   "source": [
    "type(myseries)"
   ]
  },
  {
   "cell_type": "code",
   "execution_count": null,
   "id": "c8c2111a",
   "metadata": {},
   "outputs": [],
   "source": [
    "df_people.index"
   ]
  },
  {
   "cell_type": "code",
   "execution_count": null,
   "id": "6825517a",
   "metadata": {},
   "outputs": [],
   "source": [
    "df_people.columns"
   ]
  },
  {
   "cell_type": "code",
   "execution_count": null,
   "id": "84b01910",
   "metadata": {},
   "outputs": [],
   "source": []
  },
  {
   "cell_type": "markdown",
   "id": "4451c617",
   "metadata": {},
   "source": [
    "## 5. Anatomy of a Dataframe\n",
    "<img align=\"center\" width=\"800\" height=\"500\"  src=\"images/dataframe.png\"  >"
   ]
  },
  {
   "cell_type": "markdown",
   "id": "7f745c03",
   "metadata": {},
   "source": [
    "**Here each column of this dataframe is actually a series object since our data frame is 2d so we have two x's axis 0 is the vertical axis that moves from top to bottom and we have records or rows along this axis similarly the axis 1 is the horizontal axis that moves from left to right and the columns changes as we move from left to right and this is the same concept that we have discussed in the numpy 2d arrays as well and at the intersection of each row and column we have our data valus.**"
   ]
  },
  {
   "cell_type": "code",
   "execution_count": null,
   "id": "17310594",
   "metadata": {},
   "outputs": [],
   "source": []
  },
  {
   "cell_type": "markdown",
   "id": "c2aa9214",
   "metadata": {},
   "source": [
    "## 6. Bonus (Changing display properties of a Dataframe Object)\n",
    "- Get the option names `pd.describe_option()`\n",
    "- Get current value of a display option `pd.get_option('nameofoption')`\n",
    "- Change value of a display option `pd.set_option('nameofoption', newvalue)`\n",
    "- Resetting options to default `pd.reset_option('all')"
   ]
  },
  {
   "cell_type": "code",
   "execution_count": null,
   "id": "4317b181",
   "metadata": {},
   "outputs": [],
   "source": [
    "df_covid"
   ]
  },
  {
   "cell_type": "code",
   "execution_count": null,
   "id": "cde41636",
   "metadata": {},
   "outputs": [],
   "source": []
  },
  {
   "cell_type": "markdown",
   "id": "b9da09c2",
   "metadata": {},
   "source": [
    "### a. Changing the number of columns to be displayed"
   ]
  },
  {
   "cell_type": "code",
   "execution_count": null,
   "id": "d3bb0e9b",
   "metadata": {},
   "outputs": [],
   "source": [
    "pd.describe_option()"
   ]
  },
  {
   "cell_type": "code",
   "execution_count": null,
   "id": "791eb99e",
   "metadata": {},
   "outputs": [],
   "source": [
    "pd.get_option('display.max_columns')"
   ]
  },
  {
   "cell_type": "code",
   "execution_count": null,
   "id": "d7aeeab4",
   "metadata": {},
   "outputs": [],
   "source": [
    "pd.set_option('display.max_columns', 50)"
   ]
  },
  {
   "cell_type": "code",
   "execution_count": null,
   "id": "e8b9e4d5",
   "metadata": {},
   "outputs": [],
   "source": [
    "df_covid"
   ]
  },
  {
   "cell_type": "code",
   "execution_count": null,
   "id": "d56c6b7c",
   "metadata": {},
   "outputs": [],
   "source": []
  },
  {
   "cell_type": "code",
   "execution_count": null,
   "id": "effef964",
   "metadata": {},
   "outputs": [],
   "source": []
  },
  {
   "cell_type": "markdown",
   "id": "b71457cc",
   "metadata": {},
   "source": [
    "### b. Changing the number of rows to be displayed"
   ]
  },
  {
   "cell_type": "markdown",
   "id": "b3d17dde",
   "metadata": {},
   "source": [
    "**Display 6 rows instead of default of 10**"
   ]
  },
  {
   "cell_type": "code",
   "execution_count": null,
   "id": "34b20396",
   "metadata": {},
   "outputs": [],
   "source": [
    "pd.get_option('display.min_rows')"
   ]
  },
  {
   "cell_type": "code",
   "execution_count": null,
   "id": "d3b1f4aa",
   "metadata": {},
   "outputs": [],
   "source": [
    "pd.set_option('display.min_rows', 8)"
   ]
  },
  {
   "cell_type": "code",
   "execution_count": null,
   "id": "a01b3c68",
   "metadata": {},
   "outputs": [],
   "source": []
  },
  {
   "cell_type": "code",
   "execution_count": null,
   "id": "43bdb2e0",
   "metadata": {},
   "outputs": [],
   "source": []
  },
  {
   "cell_type": "markdown",
   "id": "d6e0969f",
   "metadata": {},
   "source": [
    "**Display 30 rows instead of default of 10**"
   ]
  },
  {
   "cell_type": "code",
   "execution_count": null,
   "id": "6ffa3be6",
   "metadata": {},
   "outputs": [],
   "source": [
    "pd.set_option('display.min_rows', 30)"
   ]
  },
  {
   "cell_type": "code",
   "execution_count": null,
   "id": "e6562f6f",
   "metadata": {},
   "outputs": [],
   "source": []
  },
  {
   "cell_type": "code",
   "execution_count": null,
   "id": "b5520649",
   "metadata": {},
   "outputs": [],
   "source": [
    "df_covid"
   ]
  },
  {
   "cell_type": "markdown",
   "id": "13b870df",
   "metadata": {},
   "source": [
    ">Students should check out the relationship of option `max_rows` with `min_rows` at your own"
   ]
  },
  {
   "cell_type": "code",
   "execution_count": null,
   "id": "c392d812",
   "metadata": {},
   "outputs": [],
   "source": []
  },
  {
   "cell_type": "code",
   "execution_count": null,
   "id": "2ae151fc",
   "metadata": {},
   "outputs": [],
   "source": []
  },
  {
   "cell_type": "markdown",
   "id": "db8c24cb",
   "metadata": {},
   "source": [
    "### c. Changing Number of Characters to be Displayed in each Column"
   ]
  },
  {
   "cell_type": "code",
   "execution_count": null,
   "id": "801acd32",
   "metadata": {},
   "outputs": [],
   "source": [
    "df_imdb"
   ]
  },
  {
   "cell_type": "code",
   "execution_count": null,
   "id": "91193f0d",
   "metadata": {},
   "outputs": [],
   "source": [
    "pd.get_option('display.max_colwidth')"
   ]
  },
  {
   "cell_type": "code",
   "execution_count": null,
   "id": "6fbb9266",
   "metadata": {},
   "outputs": [],
   "source": [
    "pd.set_option('display.max_colwidth', 200)"
   ]
  },
  {
   "cell_type": "code",
   "execution_count": null,
   "id": "4fc52812",
   "metadata": {},
   "outputs": [],
   "source": [
    "pd.get_option('display.max_colwidth')"
   ]
  },
  {
   "cell_type": "code",
   "execution_count": null,
   "id": "9c39b278",
   "metadata": {},
   "outputs": [],
   "source": [
    "df_imdb"
   ]
  },
  {
   "cell_type": "code",
   "execution_count": null,
   "id": "89f42cd2",
   "metadata": {},
   "outputs": [],
   "source": []
  },
  {
   "cell_type": "markdown",
   "id": "ffbcf507",
   "metadata": {},
   "source": [
    "### c. Setting the options back to default"
   ]
  },
  {
   "cell_type": "code",
   "execution_count": null,
   "id": "3dfc219a",
   "metadata": {},
   "outputs": [],
   "source": [
    "pd.reset_option('all')"
   ]
  },
  {
   "cell_type": "code",
   "execution_count": null,
   "id": "97d3d773",
   "metadata": {},
   "outputs": [],
   "source": []
  },
  {
   "cell_type": "markdown",
   "id": "4fc9cde6",
   "metadata": {},
   "source": [
    "### d. Changing Style by applying CSS to Pandas Dataframe"
   ]
  },
  {
   "cell_type": "code",
   "execution_count": null,
   "id": "9cd2a4e9",
   "metadata": {},
   "outputs": [],
   "source": [
    "df_titanic.head().style.set_table_styles(\n",
    "[{'selector': 'th',\n",
    "  'props': [('background', '#7CAE00'), \n",
    "            ('color', 'white'),\n",
    "            ('font-family', 'verdana')]},\n",
    " \n",
    " {'selector': 'td',\n",
    "  'props': [('font-family', 'verdana')]},\n",
    "\n",
    " {'selector': 'tr:nth-of-type(odd)',\n",
    "  'props': [('background', '#DCDCDC')]}, \n",
    " \n",
    " {'selector': 'tr:nth-of-type(even)',\n",
    "  'props': [('background', 'white')]},\n",
    " \n",
    " {'selector': 'tr:hover',\n",
    "  'props': [('background', 'pink')]},\n",
    " \n",
    "]\n",
    ").hide_index()"
   ]
  },
  {
   "cell_type": "code",
   "execution_count": null,
   "id": "6e776475",
   "metadata": {},
   "outputs": [],
   "source": []
  },
  {
   "cell_type": "code",
   "execution_count": null,
   "id": "fe93a5ef",
   "metadata": {},
   "outputs": [],
   "source": []
  },
  {
   "cell_type": "markdown",
   "id": "687d417a",
   "metadata": {},
   "source": [
    "## Project : Visualizing Earnings Based On College Majors\n",
    "\n",
    "### 1. Introduction\n",
    "* Pandas has many methods for quickly generating common plots from data in DataFrames. Like pyplot, the plotting functionality in pandas is a wrapper for matplotlib. This means we can customize the plots when necessary by accessing the underlying Figure, Axes, and other matplotlib objects.\n",
    "\n",
    "* In this  project, we'll explore how using the pandas plotting functionality along with the Jupyter notebook interface allows us to explore data quickly using visualizations.\n",
    "\n",
    "* We'll be working with a dataset on the job outcomes of students who graduated from college between 2010 and 2012. The original data on job outcomes was released by [American Community Survey](https://www.census.gov/programs-surveys/acs/), which conducts surveys and aggregates the data. FiveThirtyEight cleaned the dataset and released it on their [Github repo](https://github.com/fivethirtyeight/data/tree/master/college-majors).\n",
    "\n",
    ". Here are some of the columns in the dataset:\n",
    "\n",
    "* Rank - Rank by median earnings (the dataset is ordered by this column).\n",
    "* Major_code - Major code.\n",
    "* Major - Major description.\n",
    "* Major_category - Category of major.\n",
    "* Total - Total number of people with major.\n",
    "* Sample_size - Sample size (unweighted) of full-time.\n",
    "* Men - Male graduates.\n",
    "* Women - Female graduates.\n",
    "* ShareWomen - Women as share of total.\n",
    "* Employed - Number employed.\n",
    "* Median - Median salary of full-time, year-round workers.\n",
    "* Low_wage_jobs - Number in low-wage service jobs.\n",
    "* Full_time - Number employed 35 hours or more.\n",
    "* Part_time - Number employed less than 35 hours.\n",
    "\n",
    "Using visualizations, we can start to explore questions from the dataset like:\n",
    "\n",
    "* Do students in more popular majors make more money?\n",
    "  * Using scatter plots\n",
    "* How many majors are predominantly male? Predominantly female?\n",
    "  * Using histograms\n",
    "* Which category of majors have the most students?\n",
    "  * Using bar plots"
   ]
  },
  {
   "cell_type": "code",
   "execution_count": null,
   "id": "e653d42c",
   "metadata": {},
   "outputs": [],
   "source": []
  },
  {
   "cell_type": "markdown",
   "id": "903b1bfa",
   "metadata": {},
   "source": [
    "## TODO:\n",
    "* Let's setup the environment by importing the libraries we need and running the necessary Jupyter magic so that plots are displayed inline.\n",
    "\n",
    "  * Import `pandas` and `matplotlib` into the environment.\n",
    "  * Run the Jupyter magic `%matplotlib inline` so that plots are displayed inline.\n",
    "  * Read the dataset into a DataFrame and start exploring the data.\n",
    "\n",
    "* Read `recent-grads.csv` into pandas and assign the resulting DataFrame to recent_grads.\n",
    "  * Use `DataFrame.iloc[]` to return the first row formatted as a table.\n",
    "  * Use `DataFrame.head()` and `DataFrame.tail()` to become familiar with how the data is structured.\n",
    "  * Use `DataFrame.describe()` to generate summary statistics for all of the numeric columns.\n",
    "\n",
    "* Drop rows with missing values. Matplotlib expects that columns of values we pass in have matching lengths and missing values will cause matplotlib to throw errors.\n",
    "\n",
    "  * Look up the number of rows in `recent_grads` and assign the value to `raw_data_count`.\n",
    "  * Use `DataFrame.dropna()` to drop rows containing missing values and assign the resulting DataFrame back to `recent_grads`.\n",
    "  * Look up the number of rows in `recent_grads` now and assign the value to `cleaned_data_count`. If you compare cleaned_data_count and raw_data_count, you'll notice that only one row contained missing values and was dropped."
   ]
  },
  {
   "cell_type": "code",
   "execution_count": null,
   "id": "d47d5501",
   "metadata": {},
   "outputs": [],
   "source": []
  },
  {
   "cell_type": "code",
   "execution_count": null,
   "id": "3549c8c0",
   "metadata": {},
   "outputs": [],
   "source": [
    "# import necessary libraries\n",
    "%matplotlib inline\n",
    "import pandas as pd\n",
    "import warnings\n",
    "warnings.filterwarnings('ignore')"
   ]
  },
  {
   "cell_type": "code",
   "execution_count": null,
   "id": "c5405f3e",
   "metadata": {},
   "outputs": [],
   "source": [
    "# read the dataset into dataframe\n",
    "url = \"https://raw.githubusercontent.com/AnshuTrivedi/Data-Scientist-In-Python/master/Projects/step_2/Course_2/recent-grads.csv\"\n",
    "recent_grads = pd.read_csv(url)\n",
    "recent_grads.head()"
   ]
  },
  {
   "cell_type": "code",
   "execution_count": null,
   "id": "e4d69620",
   "metadata": {},
   "outputs": [],
   "source": [
    "recent_grads.tail()"
   ]
  },
  {
   "cell_type": "code",
   "execution_count": null,
   "id": "02c2833e",
   "metadata": {},
   "outputs": [],
   "source": []
  },
  {
   "cell_type": "code",
   "execution_count": null,
   "id": "0f788801",
   "metadata": {},
   "outputs": [],
   "source": [
    "recent_grads.dtypes"
   ]
  },
  {
   "cell_type": "code",
   "execution_count": null,
   "id": "7e5232b1",
   "metadata": {},
   "outputs": [],
   "source": [
    "recent_grads.head(1)"
   ]
  },
  {
   "cell_type": "code",
   "execution_count": null,
   "id": "bc0cad1b",
   "metadata": {},
   "outputs": [],
   "source": [
    "# returns the first row of the dataframe\n",
    "recent_grads.iloc[0,:]"
   ]
  },
  {
   "cell_type": "code",
   "execution_count": null,
   "id": "cd4490fe",
   "metadata": {},
   "outputs": [],
   "source": [
    "# generate descriptive summary of the data\n",
    "recent_grads.describe()"
   ]
  },
  {
   "cell_type": "code",
   "execution_count": null,
   "id": "8ab04ae3",
   "metadata": {},
   "outputs": [],
   "source": [
    "# check the columns which contains missing values\n",
    "recent_grads.isna().sum()"
   ]
  },
  {
   "cell_type": "code",
   "execution_count": null,
   "id": "24084546",
   "metadata": {},
   "outputs": [],
   "source": [
    "recent_grads.shape"
   ]
  },
  {
   "cell_type": "code",
   "execution_count": null,
   "id": "ef2d798a",
   "metadata": {},
   "outputs": [],
   "source": [
    "# check the count of rows in the dataset\n",
    "raw_data_count = recent_grads.shape[0]\n",
    "raw_data_count"
   ]
  },
  {
   "cell_type": "code",
   "execution_count": null,
   "id": "937a7270",
   "metadata": {},
   "outputs": [],
   "source": [
    "recent_grads.dropna()"
   ]
  },
  {
   "cell_type": "code",
   "execution_count": null,
   "id": "c56ab550",
   "metadata": {},
   "outputs": [],
   "source": [
    "# drop all the rows which contain missing data using drop() method\n",
    "recent_grads=recent_grads.dropna()"
   ]
  },
  {
   "cell_type": "code",
   "execution_count": null,
   "id": "f92d8d63",
   "metadata": {},
   "outputs": [],
   "source": [
    "cleaned_data_count = recent_grads.shape[0]\n",
    "print(\"No. of rows in raw data: \", raw_data_count)\n",
    "print(\"No. of rows in cleaned data : \", cleaned_data_count)"
   ]
  },
  {
   "cell_type": "code",
   "execution_count": null,
   "id": "239426d8",
   "metadata": {},
   "outputs": [],
   "source": []
  },
  {
   "cell_type": "markdown",
   "id": "95c24628",
   "metadata": {},
   "source": [
    "### 2. Pandas, Scatter Plots\n",
    "* Most of the plotting functionality in pandas is contained within the `DataFrame.plot()` method. When we call this method, we specify the data we want plotted as well as the type of plot. We use the `kind parameter` to specify the type of plot we want. We use `x` and `y` to specify the data we want on each axis. \n",
    "\n",
    "`recent_grads.plot(x='Sample_size', y='Employed', kind='scatter', title='Employed vs. Sample_size', figsize=(5,10))`\n",
    "\n",
    "We can access the underlying matplotlib Axes object by assigning the return value to a variable:\n",
    "\n",
    "`ax = recent_grads.plot(x='Sample_size', y='Employed', kind='scatter')\n",
    "ax.set_title('Employed vs. Sample_size')`\n"
   ]
  },
  {
   "cell_type": "code",
   "execution_count": null,
   "id": "f63de049",
   "metadata": {},
   "outputs": [],
   "source": [
    "# let's see the above mentioned plot\n",
    "recent_grads.plot(x='Sample_size', y='Employed', kind='scatter', title='Employed vs Sample_size', figsize=(5,10))"
   ]
  },
  {
   "cell_type": "markdown",
   "id": "942b2812",
   "metadata": {},
   "source": [
    "#### TODO:\n",
    "* Generate scatter plots in separate jupyter notebook cells to explore the following relations:\n",
    "  * Sample_size and Median\n",
    "  * Sample_size and Unemployment_rate\n",
    "  * Full_time and Median\n",
    "  * ShareWomen and Unemployment_rate\n",
    "  * Men and Median\n",
    "  * Women and Median\n",
    "* Use the plots to explore the following questions:\n",
    "  * Do students in more popular majors make more money?\n",
    "  * Do students that majored in subjects that were majority female make more money?\n",
    "  * Is there any link between the number of full-time employees and median salary?"
   ]
  },
  {
   "cell_type": "code",
   "execution_count": null,
   "id": "f4964425",
   "metadata": {},
   "outputs": [],
   "source": [
    "recent_grads.head(1)"
   ]
  },
  {
   "cell_type": "code",
   "execution_count": null,
   "id": "b5a4de4d",
   "metadata": {},
   "outputs": [],
   "source": [
    "# print name of all columns\n",
    "recent_grads.columns"
   ]
  },
  {
   "cell_type": "code",
   "execution_count": null,
   "id": "8babdf4a",
   "metadata": {},
   "outputs": [],
   "source": [
    "recent_grads.Major_category.unique()"
   ]
  },
  {
   "cell_type": "code",
   "execution_count": null,
   "id": "4cc10dfa",
   "metadata": {},
   "outputs": [],
   "source": [
    "# import pandas as pd\n",
    "# pd.set_option('display.max_rows', 500)\n",
    "# pd.set_option('display.max_columns', 500)\n",
    "# pd.set_option('display.width', 1000)"
   ]
  },
  {
   "cell_type": "code",
   "execution_count": null,
   "id": "1b60f5eb",
   "metadata": {},
   "outputs": [],
   "source": [
    "a = recent_grads.groupby(['Major_category','Major','Rank'])[['Median']].max().sort_values(by='Median', ascending=False)\n",
    "a"
   ]
  },
  {
   "cell_type": "code",
   "execution_count": null,
   "id": "16b43d0c",
   "metadata": {},
   "outputs": [],
   "source": [
    "a = a.reset_index(drop=False)\n",
    "a.head(20)"
   ]
  },
  {
   "cell_type": "markdown",
   "id": "1d2de158",
   "metadata": {},
   "source": [
    "- **Here we can see that students in popular major makes more money.**"
   ]
  },
  {
   "cell_type": "markdown",
   "id": "179cddec",
   "metadata": {},
   "source": [
    "#### Do students that majored in subjects that were majority female make more money?"
   ]
  },
  {
   "cell_type": "code",
   "execution_count": null,
   "id": "e259776a",
   "metadata": {},
   "outputs": [],
   "source": [
    "new_recent_grads = recent_grads[['Rank','Major','Total','Men','Women','Major_category','Median']]\n",
    "new_recent_grads.head(10)"
   ]
  },
  {
   "cell_type": "code",
   "execution_count": null,
   "id": "8197b1b7",
   "metadata": {},
   "outputs": [],
   "source": [
    "new_recent_grads['Men_Percentage'] = (new_recent_grads['Men']/recent_grads['Total'])*100\n",
    "new_recent_grads['Women_Percentage'] = (new_recent_grads['Women']/recent_grads['Total'])*100\n",
    "\n",
    "new_recent_grads.head(10)"
   ]
  },
  {
   "cell_type": "code",
   "execution_count": null,
   "id": "473883fb",
   "metadata": {},
   "outputs": [],
   "source": [
    "new_recent_grads['Men_More_Per_Than_Women']=new_recent_grads.Men_Percentage > new_recent_grads.Women_Percentage\n",
    "new_recent_grads.head(10)"
   ]
  },
  {
   "cell_type": "markdown",
   "id": "3d5cc591",
   "metadata": {},
   "source": [
    "- **Here we can see that the students that majored in subjects that were  majority male make more money.**"
   ]
  },
  {
   "cell_type": "markdown",
   "id": "493a9dbb",
   "metadata": {},
   "source": [
    "#### Is there any link between the number of full-time employees and median salary?"
   ]
  },
  {
   "cell_type": "code",
   "execution_count": null,
   "id": "42a448a5",
   "metadata": {},
   "outputs": [],
   "source": [
    "# First Method\n",
    "recent_grads[['Full_time','Median']].corr()"
   ]
  },
  {
   "cell_type": "code",
   "execution_count": null,
   "id": "c16e666b",
   "metadata": {},
   "outputs": [],
   "source": [
    "# Second Method\n",
    "comp_recent_grads = recent_grads[['Full_time','Median']].sort_values('Full_time', ascending=False)\n",
    "comp_recent_grads.head(10)"
   ]
  },
  {
   "cell_type": "markdown",
   "id": "90643580",
   "metadata": {},
   "source": [
    "- **Here we can see that there is no link between Full_time and Median.**"
   ]
  },
  {
   "cell_type": "code",
   "execution_count": null,
   "id": "371f0747",
   "metadata": {},
   "outputs": [],
   "source": [
    "# Generate scatter plots in separate jupyter notebook cells to explore the following relations:\n",
    "\n",
    "#     Sample_size and Median\n",
    "#     Sample_size and Unemployment_rate\n",
    "#     Full_time and Median\n",
    "#     ShareWomen and Unemployment_rate\n",
    "#     Men and Median\n",
    "#     Women and Median\n"
   ]
  },
  {
   "cell_type": "code",
   "execution_count": null,
   "id": "1d2b4e52",
   "metadata": {},
   "outputs": [],
   "source": [
    "# First Method\n",
    "recent_grads[['Sample_size','Median']].corr()"
   ]
  },
  {
   "cell_type": "code",
   "execution_count": null,
   "id": "e864d262",
   "metadata": {},
   "outputs": [],
   "source": [
    "# Second Method\n",
    "recent_grads.plot(x='Sample_size', y='Median', kind='scatter', title=\"Sample_size vs Median\", figsize=(5,10))"
   ]
  },
  {
   "cell_type": "markdown",
   "id": "e5e0eba8",
   "metadata": {},
   "source": [
    "**Here from the picture, we can observe that there is no relation between Sample_Size and Median**"
   ]
  },
  {
   "cell_type": "code",
   "execution_count": null,
   "id": "7011db17",
   "metadata": {},
   "outputs": [],
   "source": [
    "# First Method\n",
    "recent_grads[['Sample_size','Unemployment_rate']].corr()"
   ]
  },
  {
   "cell_type": "code",
   "execution_count": null,
   "id": "dc109ffc",
   "metadata": {},
   "outputs": [],
   "source": [
    "# Second Method\n",
    "recent_grads.plot(x='Sample_size',y='Unemployment_rate', kind='scatter', figsize=(10,5))"
   ]
  },
  {
   "cell_type": "markdown",
   "id": "cc224286",
   "metadata": {},
   "source": [
    "**Here from the picture, we can observe that there is no relation between Sample_Size and Unemployment_rate**"
   ]
  },
  {
   "cell_type": "code",
   "execution_count": null,
   "id": "3ce71920",
   "metadata": {},
   "outputs": [],
   "source": []
  },
  {
   "cell_type": "code",
   "execution_count": null,
   "id": "c09a17fe",
   "metadata": {},
   "outputs": [],
   "source": [
    "# First Method\n",
    "recent_grads[['Full_time','Median']].corr()"
   ]
  },
  {
   "cell_type": "code",
   "execution_count": null,
   "id": "783de93b",
   "metadata": {},
   "outputs": [],
   "source": [
    "# Second Method\n",
    "recent_grads.plot(x='Full_time',y='Median', kind='scatter', figsize=(10,5))"
   ]
  },
  {
   "cell_type": "markdown",
   "id": "3e74b5be",
   "metadata": {},
   "source": [
    "**Here from the picture, we can observe that there is no relation between Full_time and Median**"
   ]
  },
  {
   "cell_type": "code",
   "execution_count": null,
   "id": "70895085",
   "metadata": {},
   "outputs": [],
   "source": []
  },
  {
   "cell_type": "code",
   "execution_count": null,
   "id": "fbdd1b81",
   "metadata": {},
   "outputs": [],
   "source": [
    "# First Method\n",
    "recent_grads[['ShareWomen','Unemployment_rate']].corr()"
   ]
  },
  {
   "cell_type": "code",
   "execution_count": null,
   "id": "891669b6",
   "metadata": {},
   "outputs": [],
   "source": [
    "# Second Method\n",
    "recent_grads.plot(x='ShareWomen',y='Unemployment_rate', kind='scatter', figsize=(10,5))"
   ]
  },
  {
   "cell_type": "markdown",
   "id": "93cc28a1",
   "metadata": {},
   "source": [
    "**Here from the picture, we can observe that there is no relation between Sharewomen and unemployment_rate**"
   ]
  },
  {
   "cell_type": "code",
   "execution_count": null,
   "id": "23d67c53",
   "metadata": {},
   "outputs": [],
   "source": []
  },
  {
   "cell_type": "code",
   "execution_count": null,
   "id": "f4ee20dc",
   "metadata": {},
   "outputs": [],
   "source": [
    "# First Method\n",
    "recent_grads[['Men','Median']].corr()"
   ]
  },
  {
   "cell_type": "code",
   "execution_count": null,
   "id": "3889b648",
   "metadata": {},
   "outputs": [],
   "source": [
    "# Second Method\n",
    "recent_grads.plot(x='Men',y='Median', kind='scatter', figsize=(10,5))"
   ]
  },
  {
   "cell_type": "code",
   "execution_count": null,
   "id": "62cd35dd",
   "metadata": {},
   "outputs": [],
   "source": [
    "# First Method\n",
    "recent_grads[['Women','Median']].corr()"
   ]
  },
  {
   "cell_type": "code",
   "execution_count": null,
   "id": "68d57c23",
   "metadata": {},
   "outputs": [],
   "source": [
    "# Second Method\n",
    "recent_grads.plot(x='Women',y='Median', kind='scatter', figsize=(10,5))"
   ]
  },
  {
   "cell_type": "markdown",
   "id": "bdfdda4b",
   "metadata": {},
   "source": [
    "### Correlation Practice Examples\n",
    "<img src=\"https://cdn1.byjus.com/wp-content/uploads/2021/03/Correlation.png\" height=500px width=500px>\n",
    "\n",
    "<img src=\"https://cdn.scribbr.com/wp-content/uploads/2021/08/01-correlation-types-1024x415.png\" height=500px width=500px>"
   ]
  },
  {
   "cell_type": "code",
   "execution_count": null,
   "id": "6424b526",
   "metadata": {},
   "outputs": [],
   "source": []
  },
  {
   "cell_type": "markdown",
   "id": "b2eaa50d",
   "metadata": {},
   "source": [
    "### 3. Pandas, Histograms\n",
    "To explore the distribution of values in a column, we can select it from the DataFrame, call Series.plot(), and set the kind parameter to hist:\n",
    "\n",
    "`recent_grads['Sample_size'].plot(kind='hist')`\n",
    "\n",
    "#### TODO:\n",
    "* Generate histograms in separate jupyter notebook cells to explore the distributions of the following columns:\n",
    "  * Sample_size\n",
    "  * Median\n",
    "  * Employed\n",
    "  * Full_time\n",
    "  * ShareWomen\n",
    "  * Unemployment_rate\n",
    "  * Men\n",
    "  * Women\n",
    "* We encourage you to experiment with different bin sizes and ranges when generating these histograms.\n",
    "* Use the plots to explore the following questions:\n",
    "  * What percent of majors are predominantly male? Predominantly female?\n",
    "  * What's the most common median salary range?"
   ]
  },
  {
   "cell_type": "code",
   "execution_count": null,
   "id": "f5ad3f3b",
   "metadata": {},
   "outputs": [],
   "source": [
    "# Let's see the answers of questions"
   ]
  },
  {
   "cell_type": "code",
   "execution_count": null,
   "id": "29447a3f",
   "metadata": {},
   "outputs": [],
   "source": [
    "new_recent_grads.head(5)"
   ]
  },
  {
   "cell_type": "code",
   "execution_count": null,
   "id": "1aee23f0",
   "metadata": {},
   "outputs": [],
   "source": [
    "# Major where females predominant\n",
    "new_recent_grads[new_recent_grads.Women_Percentage > new_recent_grads.Men_Percentage].head(10)"
   ]
  },
  {
   "cell_type": "code",
   "execution_count": null,
   "id": "38bf5d1b",
   "metadata": {},
   "outputs": [],
   "source": [
    "# What's the most common median salary range?\n",
    "new_recent_grads.Median.describe()"
   ]
  },
  {
   "cell_type": "code",
   "execution_count": null,
   "id": "ae8eb39e",
   "metadata": {},
   "outputs": [],
   "source": [
    "# Histogram of Sample_size\n",
    "recent_grads.Sample_size.plot(kind='hist')"
   ]
  },
  {
   "cell_type": "code",
   "execution_count": null,
   "id": "36dcbd96",
   "metadata": {},
   "outputs": [],
   "source": [
    "recent_grads.Sample_size.plot(kind='hist', bins=50)"
   ]
  },
  {
   "cell_type": "code",
   "execution_count": null,
   "id": "391adb21",
   "metadata": {},
   "outputs": [],
   "source": [
    "# Histogram of Median\n",
    "recent_grads.Median.plot(kind='hist')"
   ]
  },
  {
   "cell_type": "code",
   "execution_count": null,
   "id": "40e290dc",
   "metadata": {},
   "outputs": [],
   "source": [
    "recent_grads.Median.plot(kind='hist', bins=30)"
   ]
  },
  {
   "cell_type": "code",
   "execution_count": null,
   "id": "61a1fcf8",
   "metadata": {},
   "outputs": [],
   "source": [
    "recent_grads.Median.plot(kind='kde')"
   ]
  },
  {
   "cell_type": "code",
   "execution_count": null,
   "id": "2eac700d",
   "metadata": {},
   "outputs": [],
   "source": [
    "Employed\n",
    "Full_time\n",
    "ShareWomen\n",
    "Unemployment_rate\n",
    "Men\n",
    "Women"
   ]
  },
  {
   "cell_type": "code",
   "execution_count": null,
   "id": "1bef926b",
   "metadata": {},
   "outputs": [],
   "source": [
    "# Histogram of Employed\n",
    "recent_grads.Employed.plot(kind='hist')"
   ]
  },
  {
   "cell_type": "code",
   "execution_count": null,
   "id": "92bdcd46",
   "metadata": {},
   "outputs": [],
   "source": [
    "recent_grads.Employed.plot(kind='hist', bins=30)"
   ]
  },
  {
   "cell_type": "code",
   "execution_count": null,
   "id": "dd563dce",
   "metadata": {},
   "outputs": [],
   "source": [
    "# Histogram of Full_time\n",
    "recent_grads.Full_time.plot(kind='hist')"
   ]
  },
  {
   "cell_type": "code",
   "execution_count": null,
   "id": "3dff64a8",
   "metadata": {},
   "outputs": [],
   "source": [
    "recent_grads.Full_time.plot(kind='hist', bins=30)"
   ]
  },
  {
   "cell_type": "code",
   "execution_count": null,
   "id": "821699ff",
   "metadata": {},
   "outputs": [],
   "source": [
    "# Histogram of SharedWomen\n",
    "recent_grads.ShareWomen.plot(kind='hist')"
   ]
  },
  {
   "cell_type": "code",
   "execution_count": null,
   "id": "a8e33b7f",
   "metadata": {},
   "outputs": [],
   "source": [
    "recent_grads.ShareWomen.plot(kind='hist', bins=40)"
   ]
  },
  {
   "cell_type": "code",
   "execution_count": null,
   "id": "573717c8",
   "metadata": {},
   "outputs": [],
   "source": [
    "# Histogram of Unemployment_rate\n",
    "recent_grads.Unemployment_rate.plot(kind='hist')"
   ]
  },
  {
   "cell_type": "code",
   "execution_count": null,
   "id": "6de3d4a5",
   "metadata": {},
   "outputs": [],
   "source": [
    "recent_grads.Unemployment_rate.plot(kind='hist', bins=30)"
   ]
  },
  {
   "cell_type": "code",
   "execution_count": null,
   "id": "068bdad2",
   "metadata": {},
   "outputs": [],
   "source": [
    "# Histogram of men\n",
    "recent_grads.Men.plot(kind='hist')"
   ]
  },
  {
   "cell_type": "code",
   "execution_count": null,
   "id": "fc180cf2",
   "metadata": {},
   "outputs": [],
   "source": [
    "recent_grads.Men.plot(kind='hist', bins=40)"
   ]
  },
  {
   "cell_type": "code",
   "execution_count": null,
   "id": "fd5290df",
   "metadata": {},
   "outputs": [],
   "source": [
    "# Histogram of women\n",
    "recent_grads.Women.plot(kind='hist')"
   ]
  },
  {
   "cell_type": "code",
   "execution_count": null,
   "id": "aa76868a",
   "metadata": {},
   "outputs": [],
   "source": [
    "recent_grads.Women.plot(kind='hist', bins=40)"
   ]
  },
  {
   "cell_type": "markdown",
   "id": "7b32d0bc",
   "metadata": {},
   "source": [
    "### 4. Pandas, Scatter Matrix Plot\n",
    "* In the last 2 steps, we created individual scatter plots to visualize potential relationships between columns and histograms to visualize the distributions of individual columns. **A scatter matrix plot combines both scatter plots and histograms into one grid of plots and allows us to explore potential relationships and distributions simultaneously**\n",
    "\n",
    "Because scatter matrix plots are frequently used in the `exploratory data analysis`, pandas contains a function named `scatter_matrix()` that generates the plots for us. This function is part of the `pandas.plotting` module and needs to be imported separately.\n",
    "\n",
    "#### TODO:\n",
    "* Import scatter_matrix from the pandas.plotting module.\n",
    "* Create a 2 by 2 scatter matrix plot using the Sample_size and Median columns.\n",
    "* Create a 3 by 3 scatter matrix plot using the Sample_size, Median, and Unemployment_rate columns."
   ]
  },
  {
   "cell_type": "code",
   "execution_count": null,
   "id": "a6ad28ef",
   "metadata": {},
   "outputs": [],
   "source": [
    "from pandas.plotting import scatter_matrix"
   ]
  },
  {
   "cell_type": "code",
   "execution_count": null,
   "id": "9413d04c",
   "metadata": {},
   "outputs": [],
   "source": [
    "# Create a 2 by 2 scatter matrix plot using the Sample_size and Median columns.\n",
    "matrix = recent_grads[['Sample_size','Median']]\n",
    "scatter_matrix(matrix, figsize=(7,7))"
   ]
  },
  {
   "cell_type": "code",
   "execution_count": null,
   "id": "328ea195",
   "metadata": {},
   "outputs": [],
   "source": [
    "# Create a 2 by 3 scatter matrix plot using the Sample_size ,Median columns and Unemployment_rate.\n",
    "matrix = recent_grads[['Sample_size','Median','Unemployment_rate']]\n",
    "scatter_matrix(matrix, figsize=(9,9))"
   ]
  },
  {
   "cell_type": "markdown",
   "id": "a74cc7e1",
   "metadata": {},
   "source": [
    "### 5. Pandas, Bar Plots\n",
    "* If we instead use the `DataFrame.plot.bar()` method, we can use the `x parameter to specify the labels` and the `y parameter to specify the data for the bars`.\n",
    "\n",
    "#### TODO:\n",
    "\n",
    "* Use bar plots to compare the percentages of women  from the first ten rows and last ten rows of the recent_grads dataframe along `Major`.\n",
    "* Use bar plots to compare the unemployment rate (Unemployment_rate) from the first ten rows and last ten rows of the recent_grads dataframe along `Major`."
   ]
  },
  {
   "cell_type": "code",
   "execution_count": null,
   "id": "8524e974",
   "metadata": {},
   "outputs": [],
   "source": [
    "new_df = pd.merge(recent_grads.head(10),recent_grads.tail(10), how='outer')\n",
    "new_df.sample(3)"
   ]
  },
  {
   "cell_type": "code",
   "execution_count": null,
   "id": "6165ee01",
   "metadata": {},
   "outputs": [],
   "source": [
    "# Use bar plots to compare the percentages of women from the first ten rows and \n",
    "#last ten rows of the recent_grads dataframe along Major\n",
    "new_df.plot.barh(x='Major',y='Women', figsize=(8,8))"
   ]
  },
  {
   "cell_type": "code",
   "execution_count": null,
   "id": "fbeae876",
   "metadata": {},
   "outputs": [],
   "source": [
    "# Use bar plots to compare the unemployment rate (Unemployment_rate) from the first ten rows and \n",
    "# last ten rows of the recent_grads dataframe along Major.\n",
    "new_df.plot.bar(x='Major',y='Unemployment_rate', figsize=(8,8))"
   ]
  },
  {
   "cell_type": "code",
   "execution_count": null,
   "id": "78466b82",
   "metadata": {},
   "outputs": [],
   "source": [
    "new_df.plot.barh(x='Major',y='Unemployment_rate', figsize=(8,8))"
   ]
  },
  {
   "cell_type": "code",
   "execution_count": null,
   "id": "2983a383",
   "metadata": {},
   "outputs": [],
   "source": []
  },
  {
   "cell_type": "code",
   "execution_count": null,
   "id": "dbbcab31",
   "metadata": {},
   "outputs": [],
   "source": []
  },
  {
   "cell_type": "code",
   "execution_count": null,
   "id": "d7d44c3e",
   "metadata": {},
   "outputs": [],
   "source": []
  },
  {
   "cell_type": "code",
   "execution_count": null,
   "id": "b3e2c79f",
   "metadata": {},
   "outputs": [],
   "source": []
  },
  {
   "cell_type": "code",
   "execution_count": null,
   "id": "1f3a3748",
   "metadata": {},
   "outputs": [],
   "source": []
  },
  {
   "cell_type": "code",
   "execution_count": null,
   "id": "ba9f7a31",
   "metadata": {},
   "outputs": [],
   "source": []
  },
  {
   "cell_type": "code",
   "execution_count": null,
   "id": "8fd73d67",
   "metadata": {},
   "outputs": [],
   "source": []
  }
 ],
 "metadata": {
  "kernelspec": {
   "display_name": "Python 3 (ipykernel)",
   "language": "python",
   "name": "python3"
  },
  "language_info": {
   "codemirror_mode": {
    "name": "ipython",
    "version": 3
   },
   "file_extension": ".py",
   "mimetype": "text/x-python",
   "name": "python",
   "nbconvert_exporter": "python",
   "pygments_lexer": "ipython3",
   "version": "3.8.10"
  }
 },
 "nbformat": 4,
 "nbformat_minor": 5
}
