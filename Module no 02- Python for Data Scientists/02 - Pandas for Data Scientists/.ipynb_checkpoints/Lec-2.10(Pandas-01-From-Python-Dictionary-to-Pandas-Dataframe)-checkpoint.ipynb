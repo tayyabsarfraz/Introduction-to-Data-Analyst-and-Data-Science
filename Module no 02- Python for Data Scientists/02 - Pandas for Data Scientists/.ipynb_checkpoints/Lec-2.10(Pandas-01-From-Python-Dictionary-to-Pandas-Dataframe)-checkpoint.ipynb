{
 "cells": [
  {
   "cell_type": "markdown",
   "id": "4a87b5ef",
   "metadata": {},
   "source": [
    "---   \n",
    "\n",
    "<h1 align=\"center\">Introduction to Data Analyst and Data Science for beginners</h1>\n",
    "<h1 align=\"center\">Lecture no 2.10(Pandas-01)</h1>\n",
    "\n",
    "---\n",
    "<h3><div align=\"right\">Ehtisham Sadiq</div></h3>    "
   ]
  },
  {
   "cell_type": "markdown",
   "id": "19f82705",
   "metadata": {},
   "source": [
    "## _From Python Dictionary to Pandas Dataframe.ipynb_"
   ]
  },
  {
   "cell_type": "markdown",
   "id": "f12d302e",
   "metadata": {},
   "source": [
    "## 1. Overview of Pandas Library and its Datastructures"
   ]
  },
  {
   "cell_type": "markdown",
   "id": "8180130e",
   "metadata": {},
   "source": [
    "<img align=\"center\" width=\"700\" height=\"700\"  src=\"images/pandas-apps.png\"  >"
   ]
  },
  {
   "cell_type": "markdown",
   "id": "73f16850",
   "metadata": {},
   "source": [
    "> **Pandas is an open source python library built on top of numpy and provides easy to use data structures and data analysis tools. Pandas has derived its name from panel data system and was developed by wes mckinney in 2008.**\n",
    "\n",
    "> **Data scientists use pandas for performing various data science tasks starting from downloading, opening, reading and writing files of different file formats like csv, excel, json, html and so on. They load the data set into its data structure called data frame.**\n",
    "\n",
    "> **A Pandas Dataframe is a 2-dimensional labeled data structure (like SQL table) with heterogeneously typed columns, having both a row and a column index.**\n",
    "\n",
    "> **After the data is loaded in a data frame data scientists perform a various data manipulation tasks like filtering and modifying data based on multiple conditions cutting splitting merging sorting scaling pivoting and aggregating of data.**\n",
    "\n",
    "> **Data cleaning is done to enhance the data accuracy and integrity by identifying and removing null values duplicates and outliers.**\n",
    "\n",
    "> **Data wrangling actually transforms the data structurally to appropriate format and makes it ready to be used by the machine learning engineers so that they can apply appropriate machine learning models or algorithm on that data set for training validating and testing purposes.**"
   ]
  },
  {
   "cell_type": "code",
   "execution_count": null,
   "id": "06a6c056",
   "metadata": {},
   "outputs": [],
   "source": []
  },
  {
   "cell_type": "markdown",
   "id": "9727124d",
   "metadata": {},
   "source": [
    "## Learning agenda of this notebook\n",
    "\n",
    "1. Overview of Pandas Library and its Data Structures\n",
    "2. Install Pandas Library\n",
    "3. Read Datasets into Pandas Dataframe\n",
    "4. Python Dictionaries vs Pandas Dataframes\n",
    "5. Anatomy of a Dataframe\n",
    "6. Bonus"
   ]
  },
  {
   "cell_type": "code",
   "execution_count": null,
   "id": "b4900f0e",
   "metadata": {},
   "outputs": [],
   "source": []
  },
  {
   "cell_type": "markdown",
   "id": "32024162",
   "metadata": {},
   "source": [
    "## 2. Install Pandas Library"
   ]
  },
  {
   "cell_type": "code",
   "execution_count": null,
   "id": "e251bdc6",
   "metadata": {},
   "outputs": [],
   "source": [
    "# To install this library in Jupyter notebook\n",
    "import sys\n",
    "!{sys.executable} -m pip install pandas --quiet"
   ]
  },
  {
   "cell_type": "code",
   "execution_count": null,
   "id": "dba905d0",
   "metadata": {},
   "outputs": [],
   "source": [
    "import pandas as pd\n",
    "pd.__version__ , pd.__path__"
   ]
  },
  {
   "cell_type": "code",
   "execution_count": null,
   "id": "4472aee7",
   "metadata": {},
   "outputs": [],
   "source": []
  },
  {
   "cell_type": "markdown",
   "id": "315fe124",
   "metadata": {},
   "source": [
    "## 3. Read Data Sets into Pandas Dataframe"
   ]
  },
  {
   "cell_type": "markdown",
   "id": "e0700704",
   "metadata": {},
   "source": [
    "### a. Titanic Dataset\n",
    "- Here is link to [titanic movie](https://hdtoday.cc/movie/watch-titanic-full-19586)\n",
    "- This dataset containing information about passengers offered the titanic ship that sank in north atlantic ocean in 1912 after striving striking with an iceberg.\n",
    "- Characteristics of dataset\n",
    "   - plcass : passengers class like CLASS A, CLASS B, CLASS C. \n",
    "   - survived : 1 means alive and 0 means died.\n",
    "   - name : name of each passenger\n",
    "   - sex : gender\n",
    "   - age : passenger's age\n",
    "   - sibsp : number of siblings and spouses(mainya biwi) on board\n",
    "   - parch : number of parents and children on board\n",
    "   - cabin : cabin in which they are residing\n",
    "   - embarked : Location from where they have embarked like southampton, cherbourg , queenstown.\n",
    "   \n",
    "- This is normally the first problem that machine learning students normally perform in which they answer the  questions like what sort of people were more likely to survive in that titanic thinking by applying some predictive model like reggresion."
   ]
  },
  {
   "cell_type": "code",
   "execution_count": null,
   "id": "c6cec056",
   "metadata": {
    "scrolled": false
   },
   "outputs": [],
   "source": [
    "df_titanic = pd.read_csv('datasets/titanic3.csv')\n",
    "df_titanic"
   ]
  },
  {
   "cell_type": "code",
   "execution_count": null,
   "id": "76cd9afe",
   "metadata": {},
   "outputs": [],
   "source": []
  },
  {
   "cell_type": "markdown",
   "id": "e6c7c6a6",
   "metadata": {},
   "source": [
    "### b. IMDB Dataset\n",
    "- This is internet movie database containing movie ratings. Here , only all imdb registered users can cast a vote on every released title.\n",
    "- By using this dataset we can can answer a lot of questions like movies of a specific actor ,the list of comedy movies or crime movies, movies that are not for children and movies with released year."
   ]
  },
  {
   "cell_type": "code",
   "execution_count": null,
   "id": "a4c88b75",
   "metadata": {},
   "outputs": [],
   "source": [
    "df_imdb = pd.read_csv('datasets/imdb.csv')\n",
    "df_imdb"
   ]
  },
  {
   "cell_type": "code",
   "execution_count": null,
   "id": "1dc651ad",
   "metadata": {},
   "outputs": [],
   "source": []
  },
  {
   "cell_type": "markdown",
   "id": "3ab7b6e2",
   "metadata": {},
   "source": [
    "### c. Covid Dataset\n",
    "- This covet 19 disease data set is collected by WHO and contains daily updates on differentstatistics of the disease in different countries all around the global."
   ]
  },
  {
   "cell_type": "code",
   "execution_count": null,
   "id": "e132d8a1",
   "metadata": {},
   "outputs": [],
   "source": [
    "df_covid =pd.read_csv('datasets/covid-data.csv')\n",
    "df_covid"
   ]
  },
  {
   "cell_type": "markdown",
   "id": "502d1350",
   "metadata": {},
   "source": [
    "**We have seen the idea of pandas data frame which is a data structure capable of loading this huge amount of data inside the computer memory and allows you to wrangle and clean this data perform different data analytics and finally design and train machine learning models to do prediction and forecasting.**"
   ]
  },
  {
   "cell_type": "code",
   "execution_count": null,
   "id": "6fca783d",
   "metadata": {},
   "outputs": [],
   "source": []
  },
  {
   "cell_type": "markdown",
   "id": "b94f16ae",
   "metadata": {},
   "source": [
    "## 4. Python Dictionaries vs Pandas Dataframes"
   ]
  },
  {
   "cell_type": "code",
   "execution_count": null,
   "id": "dcdae2d8",
   "metadata": {},
   "outputs": [],
   "source": [
    "person = {\n",
    "    \"name\" : \"Ehtisham\",\n",
    "    \"age\" : 21,\n",
    "    \"address\" : \"Lahore\",\n",
    "    \"cell\" : \"0320-431\",\n",
    "    \"bg\": \"A-\"\n",
    "}\n",
    "person"
   ]
  },
  {
   "cell_type": "code",
   "execution_count": null,
   "id": "a330a4f4",
   "metadata": {},
   "outputs": [],
   "source": []
  },
  {
   "cell_type": "code",
   "execution_count": 1,
   "id": "13db82ee",
   "metadata": {},
   "outputs": [
    {
     "data": {
      "text/plain": [
       "{'name': ['Ehtisham', 'Ali', 'Ayesha', 'Dua', 'Khubaib', 'Adeen'],\n",
       " 'age': [21, 20, 18, 17, 12, 10],\n",
       " 'address': ['Lahore', 'Karachi', 'Lahore', 'Islamabad', 'Kakul', 'Karachi'],\n",
       " 'cell': ['321-123', '320-431', '321-478', '324-446', '321-967', '320-678'],\n",
       " 'bg': ['B+', 'A-', 'B+', 'O-', 'A-', 'B+']}"
      ]
     },
     "execution_count": 1,
     "metadata": {},
     "output_type": "execute_result"
    }
   ],
   "source": [
    "people = {\n",
    "    \"name\" : [\"Ehtisham\", \"Ali\", \"Ayesha\", \"Dua\", \"Khubaib\", \"Adeen\"],\n",
    "    \"age\" : [21, 20, 18, 17, 12, 10],\n",
    "    \"address\": [\"Lahore\", \"Karachi\", \"Lahore\", \"Islamabad\", \"Kakul\", \"Karachi\"],\n",
    "    \"cell\" : [\"321-123\", \"320-431\", \"321-478\", \"324-446\", \"321-967\", \"320-678\"],\n",
    "    \"bg\": [\"B+\", \"A-\", \"B+\", \"O-\", \"A-\", \"B+\"]\n",
    "}\n",
    "people"
   ]
  },
  {
   "cell_type": "code",
   "execution_count": null,
   "id": "3a9f9f8a",
   "metadata": {},
   "outputs": [],
   "source": []
  },
  {
   "cell_type": "code",
   "execution_count": null,
   "id": "99b6776f",
   "metadata": {},
   "outputs": [],
   "source": []
  },
  {
   "cell_type": "code",
   "execution_count": null,
   "id": "eb910d49",
   "metadata": {},
   "outputs": [],
   "source": []
  },
  {
   "cell_type": "code",
   "execution_count": null,
   "id": "39e35beb",
   "metadata": {},
   "outputs": [],
   "source": [
    "! cat datasets/people.csv"
   ]
  },
  {
   "cell_type": "code",
   "execution_count": null,
   "id": "a34604c7",
   "metadata": {},
   "outputs": [],
   "source": []
  },
  {
   "cell_type": "code",
   "execution_count": null,
   "id": "762c5742",
   "metadata": {},
   "outputs": [],
   "source": [
    "df_people = pd.read_csv('datasets/people.csv')\n",
    "df_people"
   ]
  },
  {
   "cell_type": "code",
   "execution_count": null,
   "id": "7f45a8f0",
   "metadata": {},
   "outputs": [],
   "source": []
  },
  {
   "cell_type": "markdown",
   "id": "92e9126c",
   "metadata": {},
   "source": [
    "**Accessing Elements of Dictionaries and Dataframes**"
   ]
  },
  {
   "cell_type": "code",
   "execution_count": null,
   "id": "829ff1f7",
   "metadata": {},
   "outputs": [],
   "source": [
    "# First Method\n",
    "people.get('age')"
   ]
  },
  {
   "cell_type": "code",
   "execution_count": null,
   "id": "ad7f9cea",
   "metadata": {},
   "outputs": [],
   "source": [
    "mylist = people['name']\n",
    "mylist"
   ]
  },
  {
   "cell_type": "code",
   "execution_count": null,
   "id": "cd2fe44d",
   "metadata": {},
   "outputs": [],
   "source": []
  },
  {
   "cell_type": "code",
   "execution_count": null,
   "id": "78e3d1f6",
   "metadata": {},
   "outputs": [],
   "source": [
    "type(mylist)"
   ]
  },
  {
   "cell_type": "code",
   "execution_count": null,
   "id": "25f1c8fc",
   "metadata": {},
   "outputs": [],
   "source": []
  },
  {
   "cell_type": "code",
   "execution_count": null,
   "id": "e48b0ce0",
   "metadata": {},
   "outputs": [],
   "source": [
    "df_people[' age']"
   ]
  },
  {
   "cell_type": "code",
   "execution_count": null,
   "id": "d8f6f125",
   "metadata": {},
   "outputs": [],
   "source": [
    "myseries = df_people['name']\n",
    "myseries"
   ]
  },
  {
   "cell_type": "code",
   "execution_count": null,
   "id": "36f5ef09",
   "metadata": {},
   "outputs": [],
   "source": [
    "type(myseries)"
   ]
  },
  {
   "cell_type": "code",
   "execution_count": null,
   "id": "c8c2111a",
   "metadata": {},
   "outputs": [],
   "source": [
    "df_people.index"
   ]
  },
  {
   "cell_type": "code",
   "execution_count": null,
   "id": "6825517a",
   "metadata": {},
   "outputs": [],
   "source": [
    "df_people.columns"
   ]
  },
  {
   "cell_type": "code",
   "execution_count": null,
   "id": "84b01910",
   "metadata": {},
   "outputs": [],
   "source": []
  },
  {
   "cell_type": "markdown",
   "id": "4451c617",
   "metadata": {},
   "source": [
    "## 5. Anatomy of a Dataframe\n",
    "<img align=\"center\" width=\"800\" height=\"500\"  src=\"images/dataframe.png\"  >"
   ]
  },
  {
   "cell_type": "markdown",
   "id": "7f745c03",
   "metadata": {},
   "source": [
    "**Here each column of this dataframe is actually a series object since our data frame is 2d so we have two x's axis 0 is the vertical axis that moves from top to bottom and we have records or rows along this axis similarly the axis 1 is the horizontal axis that moves from left to right and the columns changes as we move from left to right and this is the same concept that we have discussed in the numpy 2d arrays as well and at the intersection of each row and column we have our data valus.**"
   ]
  },
  {
   "cell_type": "code",
   "execution_count": null,
   "id": "17310594",
   "metadata": {},
   "outputs": [],
   "source": []
  },
  {
   "cell_type": "markdown",
   "id": "c2aa9214",
   "metadata": {},
   "source": [
    "## 6. Bonus (Changing display properties of a Dataframe Object)\n",
    "- Get the option names `pd.describe_option()`\n",
    "- Get current value of a display option `pd.get_option('nameofoption')`\n",
    "- Change value of a display option `pd.set_option('nameofoption', newvalue)`\n",
    "- Resetting options to default `pd.reset_option('all')"
   ]
  },
  {
   "cell_type": "code",
   "execution_count": null,
   "id": "4317b181",
   "metadata": {},
   "outputs": [],
   "source": [
    "df_covid"
   ]
  },
  {
   "cell_type": "code",
   "execution_count": null,
   "id": "cde41636",
   "metadata": {},
   "outputs": [],
   "source": []
  },
  {
   "cell_type": "markdown",
   "id": "b9da09c2",
   "metadata": {},
   "source": [
    "### a. Changing the number of columns to be displayed"
   ]
  },
  {
   "cell_type": "code",
   "execution_count": null,
   "id": "d3bb0e9b",
   "metadata": {},
   "outputs": [],
   "source": [
    "pd.describe_option()"
   ]
  },
  {
   "cell_type": "code",
   "execution_count": null,
   "id": "791eb99e",
   "metadata": {},
   "outputs": [],
   "source": [
    "pd.get_option('max_columns')"
   ]
  },
  {
   "cell_type": "code",
   "execution_count": null,
   "id": "d7aeeab4",
   "metadata": {},
   "outputs": [],
   "source": [
    "pd.set_option('max_columns', 67)"
   ]
  },
  {
   "cell_type": "code",
   "execution_count": null,
   "id": "d56c6b7c",
   "metadata": {},
   "outputs": [],
   "source": [
    "pd.get_option('max_columns')"
   ]
  },
  {
   "cell_type": "code",
   "execution_count": null,
   "id": "2892eae7",
   "metadata": {},
   "outputs": [],
   "source": [
    "df_covid"
   ]
  },
  {
   "cell_type": "code",
   "execution_count": null,
   "id": "effef964",
   "metadata": {},
   "outputs": [],
   "source": []
  },
  {
   "cell_type": "markdown",
   "id": "b71457cc",
   "metadata": {},
   "source": [
    "### b. Changing the number of rows to be displayed"
   ]
  },
  {
   "cell_type": "markdown",
   "id": "b3d17dde",
   "metadata": {},
   "source": [
    "**Display 6 rows instead of default of 10**"
   ]
  },
  {
   "cell_type": "code",
   "execution_count": null,
   "id": "34b20396",
   "metadata": {},
   "outputs": [],
   "source": [
    "pd.get_option('min_rows')"
   ]
  },
  {
   "cell_type": "code",
   "execution_count": null,
   "id": "d3b1f4aa",
   "metadata": {},
   "outputs": [],
   "source": [
    "pd.set_option('min_rows', 8)"
   ]
  },
  {
   "cell_type": "code",
   "execution_count": null,
   "id": "a01b3c68",
   "metadata": {},
   "outputs": [],
   "source": [
    "pd.get_option('min_rows')"
   ]
  },
  {
   "cell_type": "code",
   "execution_count": null,
   "id": "43bdb2e0",
   "metadata": {},
   "outputs": [],
   "source": [
    "df_covid"
   ]
  },
  {
   "cell_type": "markdown",
   "id": "d6e0969f",
   "metadata": {},
   "source": [
    "**Display 30 rows instead of default of 10**"
   ]
  },
  {
   "cell_type": "code",
   "execution_count": null,
   "id": "6ffa3be6",
   "metadata": {},
   "outputs": [],
   "source": [
    "pd.set_option('min_rows', 30)"
   ]
  },
  {
   "cell_type": "code",
   "execution_count": null,
   "id": "e6562f6f",
   "metadata": {},
   "outputs": [],
   "source": [
    "pd.get_option('min_rows')"
   ]
  },
  {
   "cell_type": "code",
   "execution_count": null,
   "id": "b5520649",
   "metadata": {},
   "outputs": [],
   "source": [
    "df_covid"
   ]
  },
  {
   "cell_type": "markdown",
   "id": "13b870df",
   "metadata": {},
   "source": [
    ">Students should check out the relationship of option `max_rows` with `min_rows` at your own"
   ]
  },
  {
   "cell_type": "code",
   "execution_count": null,
   "id": "c392d812",
   "metadata": {},
   "outputs": [],
   "source": []
  },
  {
   "cell_type": "code",
   "execution_count": null,
   "id": "2ae151fc",
   "metadata": {},
   "outputs": [],
   "source": []
  },
  {
   "cell_type": "markdown",
   "id": "db8c24cb",
   "metadata": {},
   "source": [
    "### c. Changing Number of Characters to be Displayed in each Column"
   ]
  },
  {
   "cell_type": "code",
   "execution_count": null,
   "id": "801acd32",
   "metadata": {},
   "outputs": [],
   "source": [
    "df_imdb"
   ]
  },
  {
   "cell_type": "code",
   "execution_count": null,
   "id": "91193f0d",
   "metadata": {},
   "outputs": [],
   "source": [
    "pd.get_option('display.max_colwidth')"
   ]
  },
  {
   "cell_type": "code",
   "execution_count": null,
   "id": "6fbb9266",
   "metadata": {},
   "outputs": [],
   "source": [
    "pd.set_option('display.max_colwidth', 200)"
   ]
  },
  {
   "cell_type": "code",
   "execution_count": null,
   "id": "4fc52812",
   "metadata": {},
   "outputs": [],
   "source": [
    "pd.get_option('display.max_colwidth')"
   ]
  },
  {
   "cell_type": "code",
   "execution_count": null,
   "id": "9c39b278",
   "metadata": {},
   "outputs": [],
   "source": [
    "df_imdb"
   ]
  },
  {
   "cell_type": "code",
   "execution_count": null,
   "id": "89f42cd2",
   "metadata": {},
   "outputs": [],
   "source": []
  },
  {
   "cell_type": "markdown",
   "id": "ffbcf507",
   "metadata": {},
   "source": [
    "### c. Setting the options back to default"
   ]
  },
  {
   "cell_type": "code",
   "execution_count": null,
   "id": "3dfc219a",
   "metadata": {},
   "outputs": [],
   "source": [
    "pd.reset_option('all')"
   ]
  },
  {
   "cell_type": "code",
   "execution_count": null,
   "id": "97d3d773",
   "metadata": {},
   "outputs": [],
   "source": []
  },
  {
   "cell_type": "markdown",
   "id": "4fc9cde6",
   "metadata": {},
   "source": [
    "### d. Changing Style by applying CSS to Pandas Dataframe"
   ]
  },
  {
   "cell_type": "code",
   "execution_count": null,
   "id": "9cd2a4e9",
   "metadata": {},
   "outputs": [],
   "source": [
    "df_titanic.head(10).style.set_table_styles(\n",
    "[{'selector': 'th',\n",
    "  'props': [('background', '#7CAE00'), \n",
    "            ('color', 'white'),\n",
    "            ('font-family', 'verdana')]},\n",
    " \n",
    " {'selector': 'td',\n",
    "  'props': [('font-family', 'verdana')]},\n",
    "\n",
    " {'selector': 'tr:nth-of-type(odd)',\n",
    "  'props': [('background', '#DCDCDC')]}, \n",
    " \n",
    " {'selector': 'tr:nth-of-type(even)',\n",
    "  'props': [('background', 'white')]},\n",
    " \n",
    " {'selector': 'tr:hover',\n",
    "  'props': [('background', 'pink')]},\n",
    " \n",
    "]\n",
    ").hide_index()"
   ]
  },
  {
   "cell_type": "code",
   "execution_count": null,
   "id": "6e776475",
   "metadata": {},
   "outputs": [],
   "source": []
  },
  {
   "cell_type": "code",
   "execution_count": null,
   "id": "a3e6fafb",
   "metadata": {},
   "outputs": [],
   "source": []
  }
 ],
 "metadata": {
  "kernelspec": {
   "display_name": "Python 3 (ipykernel)",
   "language": "python",
   "name": "python3"
  },
  "language_info": {
   "codemirror_mode": {
    "name": "ipython",
    "version": 3
   },
   "file_extension": ".py",
   "mimetype": "text/x-python",
   "name": "python",
   "nbconvert_exporter": "python",
   "pygments_lexer": "ipython3",
   "version": "3.8.10"
  }
 },
 "nbformat": 4,
 "nbformat_minor": 5
}
