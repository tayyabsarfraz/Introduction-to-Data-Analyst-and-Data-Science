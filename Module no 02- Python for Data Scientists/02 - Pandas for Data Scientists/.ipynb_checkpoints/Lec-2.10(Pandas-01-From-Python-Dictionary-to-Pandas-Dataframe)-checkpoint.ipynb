{
 "cells": [
  {
   "cell_type": "markdown",
   "id": "4a87b5ef",
   "metadata": {},
   "source": [
    "---   \n",
    "\n",
    "<h1 align=\"center\">Introduction to Data Analyst and Data Science for beginners</h1>\n",
    "<h1 align=\"center\">Lecture no 2.10(Pandas-01)</h1>\n",
    "\n",
    "---\n",
    "<h3><div align=\"right\">Ehtisham Sadiq</div></h3>    "
   ]
  },
  {
   "cell_type": "markdown",
   "id": "19f82705",
   "metadata": {},
   "source": [
    "## _From Python Dictionary to Pandas Dataframe.ipynb_"
   ]
  },
  {
   "cell_type": "markdown",
   "id": "f12d302e",
   "metadata": {},
   "source": [
    "## 1. Overview of Pandas Library and its Datastructures"
   ]
  },
  {
   "cell_type": "markdown",
   "id": "8180130e",
   "metadata": {},
   "source": [
    "<img align=\"center\" width=\"700\" height=\"700\"  src=\"images/pandas-apps.png\"  >"
   ]
  },
  {
   "cell_type": "markdown",
   "id": "73f16850",
   "metadata": {},
   "source": [
    "> **Pandas is an open source python library built on top of numpy and provides easy to use data structures and data analysis tools. Pandas has derived its name from panel data system and was developed by wes mckinney in 2008.**\n",
    "\n",
    "> **Data scientists use pandas for performing various data science tasks starting from downloading, opening, reading and writing files of different file formats like csv, excel, json, html and so on. They load the data set into its data structure called data frame.**\n",
    "\n",
    "> **A Pandas Dataframe is a 2-dimensional labeled data structure (like SQL table) with heterogeneously typed columns, having both a row and a column index.**\n",
    "\n",
    "> **After the data is loaded in a data frame data scientists perform a various data manipulation tasks like filtering and modifying data based on multiple conditions cutting splitting merging sorting scaling pivoting and aggregating of data.**\n",
    "\n",
    "> **Data cleaning is done to enhance the data accuracy and integrity by identifying and removing null values duplicates and outliers.**\n",
    "\n",
    "> **Data wrangling actually transforms the data structurally to appropriate format and makes it ready to be used by the machine learning engineers so that they can apply appropriate machine learning models or algorithm on that data set for training validating and testing purposes.**"
   ]
  },
  {
   "cell_type": "code",
   "execution_count": null,
   "id": "06a6c056",
   "metadata": {},
   "outputs": [],
   "source": []
  },
  {
   "cell_type": "markdown",
   "id": "9727124d",
   "metadata": {},
   "source": [
    "## Learning agenda of this notebook\n",
    "\n",
    "1. Overview of Pandas Library and its Data Structures\n",
    "2. Install Pandas Library\n",
    "3. Read Datasets into Pandas Dataframe\n",
    "4. Python Dictionaries vs Pandas Dataframes\n",
    "5. Anatomy of a Dataframe\n",
    "6. Bonus"
   ]
  },
  {
   "cell_type": "code",
   "execution_count": null,
   "id": "b4900f0e",
   "metadata": {},
   "outputs": [],
   "source": []
  },
  {
   "cell_type": "markdown",
   "id": "32024162",
   "metadata": {},
   "source": [
    "## 2. Install Pandas Library"
   ]
  },
  {
   "cell_type": "code",
   "execution_count": null,
   "id": "e251bdc6",
   "metadata": {},
   "outputs": [],
   "source": [
    "# To install this library in Jupyter notebook\n",
    "import sys\n",
    "!{sys.executable} -m pip install pandas --quiet"
   ]
  },
  {
   "cell_type": "code",
   "execution_count": null,
   "id": "dba905d0",
   "metadata": {},
   "outputs": [],
   "source": [
    "import pandas as pd\n",
    "pd.__version__ , pd.__path__"
   ]
  },
  {
   "cell_type": "code",
   "execution_count": null,
   "id": "4472aee7",
   "metadata": {},
   "outputs": [],
   "source": []
  },
  {
   "cell_type": "markdown",
   "id": "315fe124",
   "metadata": {},
   "source": [
    "## 3. Read Data Sets into Pandas Dataframe"
   ]
  },
  {
   "cell_type": "markdown",
   "id": "e0700704",
   "metadata": {},
   "source": [
    "### a. Titanic Dataset\n",
    "- Here is link to [titanic movie](https://hdtoday.cc/movie/watch-titanic-full-19586)\n",
    "- This dataset containing information about passengers offered the titanic ship that sank in north atlantic ocean in 1912 after striving striking with an iceberg.\n",
    "- Characteristics of dataset\n",
    "   - plcass : passengers class like CLASS A, CLASS B, CLASS C. \n",
    "   - survived : 1 means alive and 0 means died.\n",
    "   - name : name of each passenger\n",
    "   - sex : gender\n",
    "   - age : passenger's age\n",
    "   - sibsp : number of siblings and spouses(mainya biwi) on board\n",
    "   - parch : number of parents and children on board\n",
    "   - cabin : cabin in which they are residing\n",
    "   - embarked : Location from where they have embarked like southampton, cherbourg , queenstown.\n",
    "   \n",
    "- This is normally the first problem that machine learning students normally perform in which they answer the  questions like what sort of people were more likely to survive in that titanic thinking by applying some predictive model like reggresion."
   ]
  },
  {
   "cell_type": "code",
   "execution_count": null,
   "id": "c6cec056",
   "metadata": {
    "scrolled": false
   },
   "outputs": [],
   "source": [
    "df_titanic = pd.read_csv('datasets/titanic3.csv')\n",
    "df_titanic"
   ]
  },
  {
   "cell_type": "code",
   "execution_count": null,
   "id": "76cd9afe",
   "metadata": {},
   "outputs": [],
   "source": []
  },
  {
   "cell_type": "markdown",
   "id": "e6c7c6a6",
   "metadata": {},
   "source": [
    "### b. IMDB Dataset\n",
    "- This is internet movie database containing movie ratings. Here , only all imdb registered users can cast a vote on every released title.\n",
    "- By using this dataset we can can answer a lot of questions like movies of a specific actor ,the list of comedy movies or crime movies, movies that are not for children and movies with released year."
   ]
  },
  {
   "cell_type": "code",
   "execution_count": null,
   "id": "a4c88b75",
   "metadata": {},
   "outputs": [],
   "source": [
    "df_imdb = pd.read_csv('datasets/imdb.csv')\n",
    "df_imdb"
   ]
  },
  {
   "cell_type": "code",
   "execution_count": null,
   "id": "1dc651ad",
   "metadata": {},
   "outputs": [],
   "source": []
  },
  {
   "cell_type": "markdown",
   "id": "3ab7b6e2",
   "metadata": {},
   "source": [
    "### c. Covid Dataset\n",
    "- This covet 19 disease data set is collected by WHO and contains daily updates on differentstatistics of the disease in different countries all around the global."
   ]
  },
  {
   "cell_type": "code",
   "execution_count": null,
   "id": "e132d8a1",
   "metadata": {},
   "outputs": [],
   "source": [
    "df_covid =pd.read_csv('datasets/covid-data.csv')\n",
    "df_covid"
   ]
  },
  {
   "cell_type": "markdown",
   "id": "502d1350",
   "metadata": {},
   "source": [
    "**We have seen the idea of pandas data frame which is a data structure capable of loading this huge amount of data inside the computer memory and allows you to wrangle and clean this data perform different data analytics and finally design and train machine learning models to do prediction and forecasting.**"
   ]
  },
  {
   "cell_type": "code",
   "execution_count": null,
   "id": "6fca783d",
   "metadata": {},
   "outputs": [],
   "source": []
  },
  {
   "cell_type": "markdown",
   "id": "b94f16ae",
   "metadata": {},
   "source": [
    "## 4. Python Dictionaries vs Pandas Dataframes"
   ]
  },
  {
   "cell_type": "code",
   "execution_count": null,
   "id": "dcdae2d8",
   "metadata": {},
   "outputs": [],
   "source": [
    "person = {\n",
    "    \"name\" : \"Ehtisham\",\n",
    "    \"age\" : 21,\n",
    "    \"address\" : \"Lahore\",\n",
    "    \"cell\" : \"0320-431\",\n",
    "    \"bg\": \"A-\"\n",
    "}\n",
    "person"
   ]
  },
  {
   "cell_type": "code",
   "execution_count": null,
   "id": "a330a4f4",
   "metadata": {},
   "outputs": [],
   "source": []
  },
  {
   "cell_type": "code",
   "execution_count": 5,
   "id": "13db82ee",
   "metadata": {},
   "outputs": [
    {
     "data": {
      "text/plain": [
       "{'name': ['Ehtisham', 'Ali', 'Ayesha', 'Dua', 'Khubaib', 'Adeen'],\n",
       " 'age': [21, 20, 18, 17, 12, 10],\n",
       " 'address': ['Lahore', 'Karachi', 'Lahore', 'Islamabad', 'Kakul', 'Karachi'],\n",
       " 'cell': ['321-123', '320-431', '321-478', '324-446', '321-967', '320-678'],\n",
       " 'bg': ['B+', 'A-', 'B+', 'O-', 'A-', 'B+']}"
      ]
     },
     "execution_count": 5,
     "metadata": {},
     "output_type": "execute_result"
    }
   ],
   "source": [
    "people = {\n",
    "    \"name\" : [\"Ehtisham\", \"Ali\", \"Ayesha\", \"Dua\", \"Khubaib\", \"Adeen\"],\n",
    "    \"age\" : [21, 20, 18, 17, 12, 10],\n",
    "    \"address\": [\"Lahore\", \"Karachi\", \"Lahore\", \"Islamabad\", \"Kakul\", \"Karachi\"],\n",
    "    \"cell\" : [\"321-123\", \"320-431\", \"321-478\", \"324-446\", \"321-967\", \"320-678\"],\n",
    "    \"bg\": [\"B+\", \"A-\", \"B+\", \"O-\", \"A-\", \"B+\"]\n",
    "}\n",
    "people"
   ]
  },
  {
   "cell_type": "code",
   "execution_count": null,
   "id": "3a9f9f8a",
   "metadata": {},
   "outputs": [],
   "source": []
  },
  {
   "cell_type": "code",
   "execution_count": null,
   "id": "99b6776f",
   "metadata": {},
   "outputs": [],
   "source": []
  },
  {
   "cell_type": "code",
   "execution_count": null,
   "id": "eb910d49",
   "metadata": {},
   "outputs": [],
   "source": []
  },
  {
   "cell_type": "code",
   "execution_count": null,
   "id": "39e35beb",
   "metadata": {},
   "outputs": [],
   "source": [
    "! cat datasets/people.csv"
   ]
  },
  {
   "cell_type": "code",
   "execution_count": null,
   "id": "a34604c7",
   "metadata": {},
   "outputs": [],
   "source": []
  },
  {
   "cell_type": "code",
   "execution_count": null,
   "id": "762c5742",
   "metadata": {},
   "outputs": [],
   "source": [
    "df_people = pd.read_csv('datasets/people.csv')\n",
    "df_people"
   ]
  },
  {
   "cell_type": "code",
   "execution_count": null,
   "id": "7f45a8f0",
   "metadata": {},
   "outputs": [],
   "source": []
  },
  {
   "cell_type": "markdown",
   "id": "92e9126c",
   "metadata": {},
   "source": [
    "**Accessing Elements of Dictionaries and Dataframes**"
   ]
  },
  {
   "cell_type": "code",
   "execution_count": null,
   "id": "829ff1f7",
   "metadata": {},
   "outputs": [],
   "source": [
    "# First Method\n",
    "people.get('age')"
   ]
  },
  {
   "cell_type": "code",
   "execution_count": null,
   "id": "ad7f9cea",
   "metadata": {},
   "outputs": [],
   "source": [
    "mylist = people['name']\n",
    "mylist"
   ]
  },
  {
   "cell_type": "code",
   "execution_count": null,
   "id": "cd2fe44d",
   "metadata": {},
   "outputs": [],
   "source": []
  },
  {
   "cell_type": "code",
   "execution_count": null,
   "id": "78e3d1f6",
   "metadata": {},
   "outputs": [],
   "source": [
    "type(mylist)"
   ]
  },
  {
   "cell_type": "code",
   "execution_count": null,
   "id": "25f1c8fc",
   "metadata": {},
   "outputs": [],
   "source": []
  },
  {
   "cell_type": "code",
   "execution_count": null,
   "id": "e48b0ce0",
   "metadata": {},
   "outputs": [],
   "source": [
    "df_people[' age']"
   ]
  },
  {
   "cell_type": "code",
   "execution_count": null,
   "id": "d8f6f125",
   "metadata": {},
   "outputs": [],
   "source": [
    "myseries = df_people['name']\n",
    "myseries"
   ]
  },
  {
   "cell_type": "code",
   "execution_count": null,
   "id": "36f5ef09",
   "metadata": {},
   "outputs": [],
   "source": [
    "type(myseries)"
   ]
  },
  {
   "cell_type": "code",
   "execution_count": null,
   "id": "c8c2111a",
   "metadata": {},
   "outputs": [],
   "source": [
    "df_people.index"
   ]
  },
  {
   "cell_type": "code",
   "execution_count": null,
   "id": "6825517a",
   "metadata": {},
   "outputs": [],
   "source": [
    "df_people.columns"
   ]
  },
  {
   "cell_type": "code",
   "execution_count": null,
   "id": "84b01910",
   "metadata": {},
   "outputs": [],
   "source": []
  },
  {
   "cell_type": "markdown",
   "id": "4451c617",
   "metadata": {},
   "source": [
    "## 5. Anatomy of a Dataframe\n",
    "<img align=\"center\" width=\"800\" height=\"500\"  src=\"images/dataframe.png\"  >"
   ]
  },
  {
   "cell_type": "markdown",
   "id": "7f745c03",
   "metadata": {},
   "source": [
    "**Here each column of this dataframe is actually a series object since our data frame is 2d so we have two x's axis 0 is the vertical axis that moves from top to bottom and we have records or rows along this axis similarly the axis 1 is the horizontal axis that moves from left to right and the columns changes as we move from left to right and this is the same concept that we have discussed in the numpy 2d arrays as well and at the intersection of each row and column we have our data valus.**"
   ]
  },
  {
   "cell_type": "code",
   "execution_count": null,
   "id": "17310594",
   "metadata": {},
   "outputs": [],
   "source": []
  },
  {
   "cell_type": "markdown",
   "id": "c2aa9214",
   "metadata": {},
   "source": [
    "## 6. Bonus (Changing display properties of a Dataframe Object)\n",
    "- Get the option names `pd.describe_option()`\n",
    "- Get current value of a display option `pd.get_option('nameofoption')`\n",
    "- Change value of a display option `pd.set_option('nameofoption', newvalue)`\n",
    "- Resetting options to default `pd.reset_option('all')"
   ]
  },
  {
   "cell_type": "code",
   "execution_count": null,
   "id": "4317b181",
   "metadata": {},
   "outputs": [],
   "source": [
    "df_covid"
   ]
  },
  {
   "cell_type": "code",
   "execution_count": null,
   "id": "cde41636",
   "metadata": {},
   "outputs": [],
   "source": []
  },
  {
   "cell_type": "markdown",
   "id": "b9da09c2",
   "metadata": {},
   "source": [
    "### a. Changing the number of columns to be displayed"
   ]
  },
  {
   "cell_type": "code",
   "execution_count": null,
   "id": "d3bb0e9b",
   "metadata": {},
   "outputs": [],
   "source": [
    "pd.describe_option()"
   ]
  },
  {
   "cell_type": "code",
   "execution_count": null,
   "id": "791eb99e",
   "metadata": {},
   "outputs": [],
   "source": [
    "pd.get_option('max_columns')"
   ]
  },
  {
   "cell_type": "code",
   "execution_count": null,
   "id": "d7aeeab4",
   "metadata": {},
   "outputs": [],
   "source": [
    "pd.set_option('max_columns', 67)"
   ]
  },
  {
   "cell_type": "code",
   "execution_count": null,
   "id": "d56c6b7c",
   "metadata": {},
   "outputs": [],
   "source": [
    "pd.get_option('max_columns')"
   ]
  },
  {
   "cell_type": "code",
   "execution_count": null,
   "id": "2892eae7",
   "metadata": {},
   "outputs": [],
   "source": [
    "df_covid"
   ]
  },
  {
   "cell_type": "code",
   "execution_count": null,
   "id": "effef964",
   "metadata": {},
   "outputs": [],
   "source": []
  },
  {
   "cell_type": "markdown",
   "id": "b71457cc",
   "metadata": {},
   "source": [
    "### b. Changing the number of rows to be displayed"
   ]
  },
  {
   "cell_type": "markdown",
   "id": "b3d17dde",
   "metadata": {},
   "source": [
    "**Display 6 rows instead of default of 10**"
   ]
  },
  {
   "cell_type": "code",
   "execution_count": null,
   "id": "34b20396",
   "metadata": {},
   "outputs": [],
   "source": [
    "pd.get_option('min_rows')"
   ]
  },
  {
   "cell_type": "code",
   "execution_count": null,
   "id": "d3b1f4aa",
   "metadata": {},
   "outputs": [],
   "source": [
    "pd.set_option('min_rows', 8)"
   ]
  },
  {
   "cell_type": "code",
   "execution_count": null,
   "id": "a01b3c68",
   "metadata": {},
   "outputs": [],
   "source": [
    "pd.get_option('min_rows')"
   ]
  },
  {
   "cell_type": "code",
   "execution_count": null,
   "id": "43bdb2e0",
   "metadata": {},
   "outputs": [],
   "source": [
    "df_covid"
   ]
  },
  {
   "cell_type": "markdown",
   "id": "d6e0969f",
   "metadata": {},
   "source": [
    "**Display 30 rows instead of default of 10**"
   ]
  },
  {
   "cell_type": "code",
   "execution_count": null,
   "id": "6ffa3be6",
   "metadata": {},
   "outputs": [],
   "source": [
    "pd.set_option('min_rows', 30)"
   ]
  },
  {
   "cell_type": "code",
   "execution_count": null,
   "id": "e6562f6f",
   "metadata": {},
   "outputs": [],
   "source": [
    "pd.get_option('min_rows')"
   ]
  },
  {
   "cell_type": "code",
   "execution_count": null,
   "id": "b5520649",
   "metadata": {},
   "outputs": [],
   "source": [
    "df_covid"
   ]
  },
  {
   "cell_type": "markdown",
   "id": "13b870df",
   "metadata": {},
   "source": [
    ">Students should check out the relationship of option `max_rows` with `min_rows` at your own"
   ]
  },
  {
   "cell_type": "code",
   "execution_count": null,
   "id": "c392d812",
   "metadata": {},
   "outputs": [],
   "source": []
  },
  {
   "cell_type": "code",
   "execution_count": null,
   "id": "2ae151fc",
   "metadata": {},
   "outputs": [],
   "source": []
  },
  {
   "cell_type": "markdown",
   "id": "db8c24cb",
   "metadata": {},
   "source": [
    "### c. Changing Number of Characters to be Displayed in each Column"
   ]
  },
  {
   "cell_type": "code",
   "execution_count": null,
   "id": "801acd32",
   "metadata": {},
   "outputs": [],
   "source": [
    "df_imdb"
   ]
  },
  {
   "cell_type": "code",
   "execution_count": null,
   "id": "91193f0d",
   "metadata": {},
   "outputs": [],
   "source": [
    "pd.get_option('display.max_colwidth')"
   ]
  },
  {
   "cell_type": "code",
   "execution_count": null,
   "id": "6fbb9266",
   "metadata": {},
   "outputs": [],
   "source": [
    "pd.set_option('display.max_colwidth', 200)"
   ]
  },
  {
   "cell_type": "code",
   "execution_count": null,
   "id": "4fc52812",
   "metadata": {},
   "outputs": [],
   "source": [
    "pd.get_option('display.max_colwidth')"
   ]
  },
  {
   "cell_type": "code",
   "execution_count": null,
   "id": "9c39b278",
   "metadata": {},
   "outputs": [],
   "source": [
    "df_imdb"
   ]
  },
  {
   "cell_type": "code",
   "execution_count": null,
   "id": "89f42cd2",
   "metadata": {},
   "outputs": [],
   "source": []
  },
  {
   "cell_type": "markdown",
   "id": "ffbcf507",
   "metadata": {},
   "source": [
    "### c. Setting the options back to default"
   ]
  },
  {
   "cell_type": "code",
   "execution_count": null,
   "id": "3dfc219a",
   "metadata": {},
   "outputs": [],
   "source": [
    "pd.reset_option('all')"
   ]
  },
  {
   "cell_type": "code",
   "execution_count": null,
   "id": "97d3d773",
   "metadata": {},
   "outputs": [],
   "source": []
  },
  {
   "cell_type": "markdown",
   "id": "4fc9cde6",
   "metadata": {},
   "source": [
    "### d. Changing Style by applying CSS to Pandas Dataframe"
   ]
  },
  {
   "cell_type": "code",
   "execution_count": null,
   "id": "9cd2a4e9",
   "metadata": {},
   "outputs": [],
   "source": [
    "df_titanic.head(10).style.set_table_styles(\n",
    "[{'selector': 'th',\n",
    "  'props': [('background', '#7CAE00'), \n",
    "            ('color', 'white'),\n",
    "            ('font-family', 'verdana')]},\n",
    " \n",
    " {'selector': 'td',\n",
    "  'props': [('font-family', 'verdana')]},\n",
    "\n",
    " {'selector': 'tr:nth-of-type(odd)',\n",
    "  'props': [('background', '#DCDCDC')]}, \n",
    " \n",
    " {'selector': 'tr:nth-of-type(even)',\n",
    "  'props': [('background', 'white')]},\n",
    " \n",
    " {'selector': 'tr:hover',\n",
    "  'props': [('background', 'pink')]},\n",
    " \n",
    "]\n",
    ").hide_index()"
   ]
  },
  {
   "cell_type": "code",
   "execution_count": null,
   "id": "6e776475",
   "metadata": {},
   "outputs": [],
   "source": []
  },
  {
   "cell_type": "code",
   "execution_count": null,
   "id": "fe93a5ef",
   "metadata": {},
   "outputs": [],
   "source": []
  },
  {
   "cell_type": "markdown",
   "id": "687d417a",
   "metadata": {},
   "source": [
    "## Project : Visualizing Earnings Based On College Majors\n",
    "\n",
    "### 1. Introduction\n",
    "* Pandas has many methods for quickly generating common plots from data in DataFrames. Like pyplot, the plotting functionality in pandas is a wrapper for matplotlib. This means we can customize the plots when necessary by accessing the underlying Figure, Axes, and other matplotlib objects.\n",
    "\n",
    "* In this  project, we'll explore how using the pandas plotting functionality along with the Jupyter notebook interface allows us to explore data quickly using visualizations.\n",
    "\n",
    "* We'll be working with a dataset on the job outcomes of students who graduated from college between 2010 and 2012. The original data on job outcomes was released by [American Community Survey](https://www.census.gov/programs-surveys/acs/), which conducts surveys and aggregates the data. FiveThirtyEight cleaned the dataset and released it on their [Github repo](https://github.com/fivethirtyeight/data/tree/master/college-majors).\n",
    "\n",
    ". Here are some of the columns in the dataset:\n",
    "\n",
    "* Rank - Rank by median earnings (the dataset is ordered by this column).\n",
    "* Major_code - Major code.\n",
    "* Major - Major description.\n",
    "* Major_category - Category of major.\n",
    "* Total - Total number of people with major.\n",
    "* Sample_size - Sample size (unweighted) of full-time.\n",
    "* Men - Male graduates.\n",
    "* Women - Female graduates.\n",
    "* ShareWomen - Women as share of total.\n",
    "* Employed - Number employed.\n",
    "* Median - Median salary of full-time, year-round workers.\n",
    "* Low_wage_jobs - Number in low-wage service jobs.\n",
    "* Full_time - Number employed 35 hours or more.\n",
    "* Part_time - Number employed less than 35 hours.\n",
    "\n",
    "Using visualizations, we can start to explore questions from the dataset like:\n",
    "\n",
    "* Do students in more popular majors make more money?\n",
    "  * Using scatter plots\n",
    "* How many majors are predominantly male? Predominantly female?\n",
    "  * Using histograms\n",
    "* Which category of majors have the most students?\n",
    "  * Using bar plots"
   ]
  },
  {
   "cell_type": "code",
   "execution_count": null,
   "id": "e653d42c",
   "metadata": {},
   "outputs": [],
   "source": []
  },
  {
   "cell_type": "markdown",
   "id": "903b1bfa",
   "metadata": {},
   "source": [
    "## TODO:\n",
    "* Let's setup the environment by importing the libraries we need and running the necessary Jupyter magic so that plots are displayed inline.\n",
    "\n",
    "  * Import `pandas` and `matplotlib` into the environment.\n",
    "  * Run the Jupyter magic `%matplotlib inline` so that plots are displayed inline.\n",
    "  * Read the dataset into a DataFrame and start exploring the data.\n",
    "\n",
    "* Read `recent-grads.csv` into pandas and assign the resulting DataFrame to recent_grads.\n",
    "  * Use `DataFrame.iloc[]` to return the first row formatted as a table.\n",
    "  * Use `DataFrame.head()` and `DataFrame.tail()` to become familiar with how the data is structured.\n",
    "  * Use `DataFrame.describe()` to generate summary statistics for all of the numeric columns.\n",
    "\n",
    "* Drop rows with missing values. Matplotlib expects that columns of values we pass in have matching lengths and missing values will cause matplotlib to throw errors.\n",
    "\n",
    "  * Look up the number of rows in `recent_grads` and assign the value to `raw_data_count`.\n",
    "  * Use `DataFrame.dropna()` to drop rows containing missing values and assign the resulting DataFrame back to `recent_grads`.\n",
    "  * Look up the number of rows in `recent_grads` now and assign the value to `cleaned_data_count`. If you compare cleaned_data_count and raw_data_count, you'll notice that only one row contained missing values and was dropped."
   ]
  },
  {
   "cell_type": "code",
   "execution_count": null,
   "id": "d47d5501",
   "metadata": {},
   "outputs": [],
   "source": []
  },
  {
   "cell_type": "code",
   "execution_count": 76,
   "id": "3549c8c0",
   "metadata": {},
   "outputs": [],
   "source": [
    "# import necessary libraries\n",
    "%matplotlib inline\n",
    "import pandas as pd\n",
    "import warnings\n",
    "warnings.filterwarnings('ignore')"
   ]
  },
  {
   "cell_type": "code",
   "execution_count": 2,
   "id": "c5405f3e",
   "metadata": {},
   "outputs": [
    {
     "data": {
      "text/html": [
       "<div>\n",
       "<style scoped>\n",
       "    .dataframe tbody tr th:only-of-type {\n",
       "        vertical-align: middle;\n",
       "    }\n",
       "\n",
       "    .dataframe tbody tr th {\n",
       "        vertical-align: top;\n",
       "    }\n",
       "\n",
       "    .dataframe thead th {\n",
       "        text-align: right;\n",
       "    }\n",
       "</style>\n",
       "<table border=\"1\" class=\"dataframe\">\n",
       "  <thead>\n",
       "    <tr style=\"text-align: right;\">\n",
       "      <th></th>\n",
       "      <th>Rank</th>\n",
       "      <th>Major_code</th>\n",
       "      <th>Major</th>\n",
       "      <th>Total</th>\n",
       "      <th>Men</th>\n",
       "      <th>Women</th>\n",
       "      <th>Major_category</th>\n",
       "      <th>ShareWomen</th>\n",
       "      <th>Sample_size</th>\n",
       "      <th>Employed</th>\n",
       "      <th>...</th>\n",
       "      <th>Part_time</th>\n",
       "      <th>Full_time_year_round</th>\n",
       "      <th>Unemployed</th>\n",
       "      <th>Unemployment_rate</th>\n",
       "      <th>Median</th>\n",
       "      <th>P25th</th>\n",
       "      <th>P75th</th>\n",
       "      <th>College_jobs</th>\n",
       "      <th>Non_college_jobs</th>\n",
       "      <th>Low_wage_jobs</th>\n",
       "    </tr>\n",
       "  </thead>\n",
       "  <tbody>\n",
       "    <tr>\n",
       "      <th>0</th>\n",
       "      <td>1</td>\n",
       "      <td>2419</td>\n",
       "      <td>PETROLEUM ENGINEERING</td>\n",
       "      <td>2339.0</td>\n",
       "      <td>2057.0</td>\n",
       "      <td>282.0</td>\n",
       "      <td>Engineering</td>\n",
       "      <td>0.120564</td>\n",
       "      <td>36</td>\n",
       "      <td>1976</td>\n",
       "      <td>...</td>\n",
       "      <td>270</td>\n",
       "      <td>1207</td>\n",
       "      <td>37</td>\n",
       "      <td>0.018381</td>\n",
       "      <td>110000</td>\n",
       "      <td>95000</td>\n",
       "      <td>125000</td>\n",
       "      <td>1534</td>\n",
       "      <td>364</td>\n",
       "      <td>193</td>\n",
       "    </tr>\n",
       "    <tr>\n",
       "      <th>1</th>\n",
       "      <td>2</td>\n",
       "      <td>2416</td>\n",
       "      <td>MINING AND MINERAL ENGINEERING</td>\n",
       "      <td>756.0</td>\n",
       "      <td>679.0</td>\n",
       "      <td>77.0</td>\n",
       "      <td>Engineering</td>\n",
       "      <td>0.101852</td>\n",
       "      <td>7</td>\n",
       "      <td>640</td>\n",
       "      <td>...</td>\n",
       "      <td>170</td>\n",
       "      <td>388</td>\n",
       "      <td>85</td>\n",
       "      <td>0.117241</td>\n",
       "      <td>75000</td>\n",
       "      <td>55000</td>\n",
       "      <td>90000</td>\n",
       "      <td>350</td>\n",
       "      <td>257</td>\n",
       "      <td>50</td>\n",
       "    </tr>\n",
       "    <tr>\n",
       "      <th>2</th>\n",
       "      <td>3</td>\n",
       "      <td>2415</td>\n",
       "      <td>METALLURGICAL ENGINEERING</td>\n",
       "      <td>856.0</td>\n",
       "      <td>725.0</td>\n",
       "      <td>131.0</td>\n",
       "      <td>Engineering</td>\n",
       "      <td>0.153037</td>\n",
       "      <td>3</td>\n",
       "      <td>648</td>\n",
       "      <td>...</td>\n",
       "      <td>133</td>\n",
       "      <td>340</td>\n",
       "      <td>16</td>\n",
       "      <td>0.024096</td>\n",
       "      <td>73000</td>\n",
       "      <td>50000</td>\n",
       "      <td>105000</td>\n",
       "      <td>456</td>\n",
       "      <td>176</td>\n",
       "      <td>0</td>\n",
       "    </tr>\n",
       "    <tr>\n",
       "      <th>3</th>\n",
       "      <td>4</td>\n",
       "      <td>2417</td>\n",
       "      <td>NAVAL ARCHITECTURE AND MARINE ENGINEERING</td>\n",
       "      <td>1258.0</td>\n",
       "      <td>1123.0</td>\n",
       "      <td>135.0</td>\n",
       "      <td>Engineering</td>\n",
       "      <td>0.107313</td>\n",
       "      <td>16</td>\n",
       "      <td>758</td>\n",
       "      <td>...</td>\n",
       "      <td>150</td>\n",
       "      <td>692</td>\n",
       "      <td>40</td>\n",
       "      <td>0.050125</td>\n",
       "      <td>70000</td>\n",
       "      <td>43000</td>\n",
       "      <td>80000</td>\n",
       "      <td>529</td>\n",
       "      <td>102</td>\n",
       "      <td>0</td>\n",
       "    </tr>\n",
       "    <tr>\n",
       "      <th>4</th>\n",
       "      <td>5</td>\n",
       "      <td>2405</td>\n",
       "      <td>CHEMICAL ENGINEERING</td>\n",
       "      <td>32260.0</td>\n",
       "      <td>21239.0</td>\n",
       "      <td>11021.0</td>\n",
       "      <td>Engineering</td>\n",
       "      <td>0.341631</td>\n",
       "      <td>289</td>\n",
       "      <td>25694</td>\n",
       "      <td>...</td>\n",
       "      <td>5180</td>\n",
       "      <td>16697</td>\n",
       "      <td>1672</td>\n",
       "      <td>0.061098</td>\n",
       "      <td>65000</td>\n",
       "      <td>50000</td>\n",
       "      <td>75000</td>\n",
       "      <td>18314</td>\n",
       "      <td>4440</td>\n",
       "      <td>972</td>\n",
       "    </tr>\n",
       "  </tbody>\n",
       "</table>\n",
       "<p>5 rows × 21 columns</p>\n",
       "</div>"
      ],
      "text/plain": [
       "   Rank  Major_code                                      Major    Total  \\\n",
       "0     1        2419                      PETROLEUM ENGINEERING   2339.0   \n",
       "1     2        2416             MINING AND MINERAL ENGINEERING    756.0   \n",
       "2     3        2415                  METALLURGICAL ENGINEERING    856.0   \n",
       "3     4        2417  NAVAL ARCHITECTURE AND MARINE ENGINEERING   1258.0   \n",
       "4     5        2405                       CHEMICAL ENGINEERING  32260.0   \n",
       "\n",
       "       Men    Women Major_category  ShareWomen  Sample_size  Employed  ...  \\\n",
       "0   2057.0    282.0    Engineering    0.120564           36      1976  ...   \n",
       "1    679.0     77.0    Engineering    0.101852            7       640  ...   \n",
       "2    725.0    131.0    Engineering    0.153037            3       648  ...   \n",
       "3   1123.0    135.0    Engineering    0.107313           16       758  ...   \n",
       "4  21239.0  11021.0    Engineering    0.341631          289     25694  ...   \n",
       "\n",
       "   Part_time  Full_time_year_round  Unemployed  Unemployment_rate  Median  \\\n",
       "0        270                  1207          37           0.018381  110000   \n",
       "1        170                   388          85           0.117241   75000   \n",
       "2        133                   340          16           0.024096   73000   \n",
       "3        150                   692          40           0.050125   70000   \n",
       "4       5180                 16697        1672           0.061098   65000   \n",
       "\n",
       "   P25th   P75th  College_jobs  Non_college_jobs  Low_wage_jobs  \n",
       "0  95000  125000          1534               364            193  \n",
       "1  55000   90000           350               257             50  \n",
       "2  50000  105000           456               176              0  \n",
       "3  43000   80000           529               102              0  \n",
       "4  50000   75000         18314              4440            972  \n",
       "\n",
       "[5 rows x 21 columns]"
      ]
     },
     "execution_count": 2,
     "metadata": {},
     "output_type": "execute_result"
    }
   ],
   "source": [
    "# read the dataset into dataframe\n",
    "url = \"https://raw.githubusercontent.com/AnshuTrivedi/Data-Scientist-In-Python/master/Projects/step_2/Course_2/recent-grads.csv\"\n",
    "recent_grads = pd.read_csv(url)\n",
    "recent_grads.head()"
   ]
  },
  {
   "cell_type": "code",
   "execution_count": 3,
   "id": "e4d69620",
   "metadata": {},
   "outputs": [
    {
     "data": {
      "text/html": [
       "<div>\n",
       "<style scoped>\n",
       "    .dataframe tbody tr th:only-of-type {\n",
       "        vertical-align: middle;\n",
       "    }\n",
       "\n",
       "    .dataframe tbody tr th {\n",
       "        vertical-align: top;\n",
       "    }\n",
       "\n",
       "    .dataframe thead th {\n",
       "        text-align: right;\n",
       "    }\n",
       "</style>\n",
       "<table border=\"1\" class=\"dataframe\">\n",
       "  <thead>\n",
       "    <tr style=\"text-align: right;\">\n",
       "      <th></th>\n",
       "      <th>Rank</th>\n",
       "      <th>Major_code</th>\n",
       "      <th>Major</th>\n",
       "      <th>Total</th>\n",
       "      <th>Men</th>\n",
       "      <th>Women</th>\n",
       "      <th>Major_category</th>\n",
       "      <th>ShareWomen</th>\n",
       "      <th>Sample_size</th>\n",
       "      <th>Employed</th>\n",
       "      <th>...</th>\n",
       "      <th>Part_time</th>\n",
       "      <th>Full_time_year_round</th>\n",
       "      <th>Unemployed</th>\n",
       "      <th>Unemployment_rate</th>\n",
       "      <th>Median</th>\n",
       "      <th>P25th</th>\n",
       "      <th>P75th</th>\n",
       "      <th>College_jobs</th>\n",
       "      <th>Non_college_jobs</th>\n",
       "      <th>Low_wage_jobs</th>\n",
       "    </tr>\n",
       "  </thead>\n",
       "  <tbody>\n",
       "    <tr>\n",
       "      <th>168</th>\n",
       "      <td>169</td>\n",
       "      <td>3609</td>\n",
       "      <td>ZOOLOGY</td>\n",
       "      <td>8409.0</td>\n",
       "      <td>3050.0</td>\n",
       "      <td>5359.0</td>\n",
       "      <td>Biology &amp; Life Science</td>\n",
       "      <td>0.637293</td>\n",
       "      <td>47</td>\n",
       "      <td>6259</td>\n",
       "      <td>...</td>\n",
       "      <td>2190</td>\n",
       "      <td>3602</td>\n",
       "      <td>304</td>\n",
       "      <td>0.046320</td>\n",
       "      <td>26000</td>\n",
       "      <td>20000</td>\n",
       "      <td>39000</td>\n",
       "      <td>2771</td>\n",
       "      <td>2947</td>\n",
       "      <td>743</td>\n",
       "    </tr>\n",
       "    <tr>\n",
       "      <th>169</th>\n",
       "      <td>170</td>\n",
       "      <td>5201</td>\n",
       "      <td>EDUCATIONAL PSYCHOLOGY</td>\n",
       "      <td>2854.0</td>\n",
       "      <td>522.0</td>\n",
       "      <td>2332.0</td>\n",
       "      <td>Psychology &amp; Social Work</td>\n",
       "      <td>0.817099</td>\n",
       "      <td>7</td>\n",
       "      <td>2125</td>\n",
       "      <td>...</td>\n",
       "      <td>572</td>\n",
       "      <td>1211</td>\n",
       "      <td>148</td>\n",
       "      <td>0.065112</td>\n",
       "      <td>25000</td>\n",
       "      <td>24000</td>\n",
       "      <td>34000</td>\n",
       "      <td>1488</td>\n",
       "      <td>615</td>\n",
       "      <td>82</td>\n",
       "    </tr>\n",
       "    <tr>\n",
       "      <th>170</th>\n",
       "      <td>171</td>\n",
       "      <td>5202</td>\n",
       "      <td>CLINICAL PSYCHOLOGY</td>\n",
       "      <td>2838.0</td>\n",
       "      <td>568.0</td>\n",
       "      <td>2270.0</td>\n",
       "      <td>Psychology &amp; Social Work</td>\n",
       "      <td>0.799859</td>\n",
       "      <td>13</td>\n",
       "      <td>2101</td>\n",
       "      <td>...</td>\n",
       "      <td>648</td>\n",
       "      <td>1293</td>\n",
       "      <td>368</td>\n",
       "      <td>0.149048</td>\n",
       "      <td>25000</td>\n",
       "      <td>25000</td>\n",
       "      <td>40000</td>\n",
       "      <td>986</td>\n",
       "      <td>870</td>\n",
       "      <td>622</td>\n",
       "    </tr>\n",
       "    <tr>\n",
       "      <th>171</th>\n",
       "      <td>172</td>\n",
       "      <td>5203</td>\n",
       "      <td>COUNSELING PSYCHOLOGY</td>\n",
       "      <td>4626.0</td>\n",
       "      <td>931.0</td>\n",
       "      <td>3695.0</td>\n",
       "      <td>Psychology &amp; Social Work</td>\n",
       "      <td>0.798746</td>\n",
       "      <td>21</td>\n",
       "      <td>3777</td>\n",
       "      <td>...</td>\n",
       "      <td>965</td>\n",
       "      <td>2738</td>\n",
       "      <td>214</td>\n",
       "      <td>0.053621</td>\n",
       "      <td>23400</td>\n",
       "      <td>19200</td>\n",
       "      <td>26000</td>\n",
       "      <td>2403</td>\n",
       "      <td>1245</td>\n",
       "      <td>308</td>\n",
       "    </tr>\n",
       "    <tr>\n",
       "      <th>172</th>\n",
       "      <td>173</td>\n",
       "      <td>3501</td>\n",
       "      <td>LIBRARY SCIENCE</td>\n",
       "      <td>1098.0</td>\n",
       "      <td>134.0</td>\n",
       "      <td>964.0</td>\n",
       "      <td>Education</td>\n",
       "      <td>0.877960</td>\n",
       "      <td>2</td>\n",
       "      <td>742</td>\n",
       "      <td>...</td>\n",
       "      <td>237</td>\n",
       "      <td>410</td>\n",
       "      <td>87</td>\n",
       "      <td>0.104946</td>\n",
       "      <td>22000</td>\n",
       "      <td>20000</td>\n",
       "      <td>22000</td>\n",
       "      <td>288</td>\n",
       "      <td>338</td>\n",
       "      <td>192</td>\n",
       "    </tr>\n",
       "  </tbody>\n",
       "</table>\n",
       "<p>5 rows × 21 columns</p>\n",
       "</div>"
      ],
      "text/plain": [
       "     Rank  Major_code                   Major   Total     Men   Women  \\\n",
       "168   169        3609                 ZOOLOGY  8409.0  3050.0  5359.0   \n",
       "169   170        5201  EDUCATIONAL PSYCHOLOGY  2854.0   522.0  2332.0   \n",
       "170   171        5202     CLINICAL PSYCHOLOGY  2838.0   568.0  2270.0   \n",
       "171   172        5203   COUNSELING PSYCHOLOGY  4626.0   931.0  3695.0   \n",
       "172   173        3501         LIBRARY SCIENCE  1098.0   134.0   964.0   \n",
       "\n",
       "               Major_category  ShareWomen  Sample_size  Employed  ...  \\\n",
       "168    Biology & Life Science    0.637293           47      6259  ...   \n",
       "169  Psychology & Social Work    0.817099            7      2125  ...   \n",
       "170  Psychology & Social Work    0.799859           13      2101  ...   \n",
       "171  Psychology & Social Work    0.798746           21      3777  ...   \n",
       "172                 Education    0.877960            2       742  ...   \n",
       "\n",
       "     Part_time  Full_time_year_round  Unemployed  Unemployment_rate  Median  \\\n",
       "168       2190                  3602         304           0.046320   26000   \n",
       "169        572                  1211         148           0.065112   25000   \n",
       "170        648                  1293         368           0.149048   25000   \n",
       "171        965                  2738         214           0.053621   23400   \n",
       "172        237                   410          87           0.104946   22000   \n",
       "\n",
       "     P25th  P75th  College_jobs  Non_college_jobs  Low_wage_jobs  \n",
       "168  20000  39000          2771              2947            743  \n",
       "169  24000  34000          1488               615             82  \n",
       "170  25000  40000           986               870            622  \n",
       "171  19200  26000          2403              1245            308  \n",
       "172  20000  22000           288               338            192  \n",
       "\n",
       "[5 rows x 21 columns]"
      ]
     },
     "execution_count": 3,
     "metadata": {},
     "output_type": "execute_result"
    }
   ],
   "source": [
    "recent_grads.tail()"
   ]
  },
  {
   "cell_type": "code",
   "execution_count": null,
   "id": "02c2833e",
   "metadata": {},
   "outputs": [],
   "source": []
  },
  {
   "cell_type": "code",
   "execution_count": 4,
   "id": "0f788801",
   "metadata": {},
   "outputs": [
    {
     "data": {
      "text/plain": [
       "Rank                      int64\n",
       "Major_code                int64\n",
       "Major                    object\n",
       "Total                   float64\n",
       "Men                     float64\n",
       "Women                   float64\n",
       "Major_category           object\n",
       "ShareWomen              float64\n",
       "Sample_size               int64\n",
       "Employed                  int64\n",
       "Full_time                 int64\n",
       "Part_time                 int64\n",
       "Full_time_year_round      int64\n",
       "Unemployed                int64\n",
       "Unemployment_rate       float64\n",
       "Median                    int64\n",
       "P25th                     int64\n",
       "P75th                     int64\n",
       "College_jobs              int64\n",
       "Non_college_jobs          int64\n",
       "Low_wage_jobs             int64\n",
       "dtype: object"
      ]
     },
     "execution_count": 4,
     "metadata": {},
     "output_type": "execute_result"
    }
   ],
   "source": [
    "recent_grads.dtypes"
   ]
  },
  {
   "cell_type": "code",
   "execution_count": 7,
   "id": "bc0cad1b",
   "metadata": {},
   "outputs": [
    {
     "data": {
      "text/plain": [
       "Rank                                        1\n",
       "Major_code                               2419\n",
       "Major                   PETROLEUM ENGINEERING\n",
       "Total                                  2339.0\n",
       "Men                                    2057.0\n",
       "Women                                   282.0\n",
       "Major_category                    Engineering\n",
       "ShareWomen                           0.120564\n",
       "Sample_size                                36\n",
       "Employed                                 1976\n",
       "Full_time                                1849\n",
       "Part_time                                 270\n",
       "Full_time_year_round                     1207\n",
       "Unemployed                                 37\n",
       "Unemployment_rate                    0.018381\n",
       "Median                                 110000\n",
       "P25th                                   95000\n",
       "P75th                                  125000\n",
       "College_jobs                             1534\n",
       "Non_college_jobs                          364\n",
       "Low_wage_jobs                             193\n",
       "Name: 0, dtype: object"
      ]
     },
     "execution_count": 7,
     "metadata": {},
     "output_type": "execute_result"
    }
   ],
   "source": [
    "# returns the first row of the dataframe\n",
    "recent_grads.iloc[0,:]"
   ]
  },
  {
   "cell_type": "code",
   "execution_count": 8,
   "id": "cd4490fe",
   "metadata": {},
   "outputs": [
    {
     "data": {
      "text/html": [
       "<div>\n",
       "<style scoped>\n",
       "    .dataframe tbody tr th:only-of-type {\n",
       "        vertical-align: middle;\n",
       "    }\n",
       "\n",
       "    .dataframe tbody tr th {\n",
       "        vertical-align: top;\n",
       "    }\n",
       "\n",
       "    .dataframe thead th {\n",
       "        text-align: right;\n",
       "    }\n",
       "</style>\n",
       "<table border=\"1\" class=\"dataframe\">\n",
       "  <thead>\n",
       "    <tr style=\"text-align: right;\">\n",
       "      <th></th>\n",
       "      <th>Rank</th>\n",
       "      <th>Major_code</th>\n",
       "      <th>Total</th>\n",
       "      <th>Men</th>\n",
       "      <th>Women</th>\n",
       "      <th>ShareWomen</th>\n",
       "      <th>Sample_size</th>\n",
       "      <th>Employed</th>\n",
       "      <th>Full_time</th>\n",
       "      <th>Part_time</th>\n",
       "      <th>Full_time_year_round</th>\n",
       "      <th>Unemployed</th>\n",
       "      <th>Unemployment_rate</th>\n",
       "      <th>Median</th>\n",
       "      <th>P25th</th>\n",
       "      <th>P75th</th>\n",
       "      <th>College_jobs</th>\n",
       "      <th>Non_college_jobs</th>\n",
       "      <th>Low_wage_jobs</th>\n",
       "    </tr>\n",
       "  </thead>\n",
       "  <tbody>\n",
       "    <tr>\n",
       "      <th>count</th>\n",
       "      <td>173.000000</td>\n",
       "      <td>173.000000</td>\n",
       "      <td>172.000000</td>\n",
       "      <td>172.000000</td>\n",
       "      <td>172.000000</td>\n",
       "      <td>172.000000</td>\n",
       "      <td>173.000000</td>\n",
       "      <td>173.000000</td>\n",
       "      <td>173.000000</td>\n",
       "      <td>173.000000</td>\n",
       "      <td>173.000000</td>\n",
       "      <td>173.000000</td>\n",
       "      <td>173.000000</td>\n",
       "      <td>173.000000</td>\n",
       "      <td>173.000000</td>\n",
       "      <td>173.000000</td>\n",
       "      <td>173.000000</td>\n",
       "      <td>173.000000</td>\n",
       "      <td>173.000000</td>\n",
       "    </tr>\n",
       "    <tr>\n",
       "      <th>mean</th>\n",
       "      <td>87.000000</td>\n",
       "      <td>3879.815029</td>\n",
       "      <td>39370.081395</td>\n",
       "      <td>16723.406977</td>\n",
       "      <td>22646.674419</td>\n",
       "      <td>0.522223</td>\n",
       "      <td>356.080925</td>\n",
       "      <td>31192.763006</td>\n",
       "      <td>26029.306358</td>\n",
       "      <td>8832.398844</td>\n",
       "      <td>19694.427746</td>\n",
       "      <td>2416.329480</td>\n",
       "      <td>0.068191</td>\n",
       "      <td>40151.445087</td>\n",
       "      <td>29501.445087</td>\n",
       "      <td>51494.219653</td>\n",
       "      <td>12322.635838</td>\n",
       "      <td>13284.497110</td>\n",
       "      <td>3859.017341</td>\n",
       "    </tr>\n",
       "    <tr>\n",
       "      <th>std</th>\n",
       "      <td>50.084928</td>\n",
       "      <td>1687.753140</td>\n",
       "      <td>63483.491009</td>\n",
       "      <td>28122.433474</td>\n",
       "      <td>41057.330740</td>\n",
       "      <td>0.231205</td>\n",
       "      <td>618.361022</td>\n",
       "      <td>50675.002241</td>\n",
       "      <td>42869.655092</td>\n",
       "      <td>14648.179473</td>\n",
       "      <td>33160.941514</td>\n",
       "      <td>4112.803148</td>\n",
       "      <td>0.030331</td>\n",
       "      <td>11470.181802</td>\n",
       "      <td>9166.005235</td>\n",
       "      <td>14906.279740</td>\n",
       "      <td>21299.868863</td>\n",
       "      <td>23789.655363</td>\n",
       "      <td>6944.998579</td>\n",
       "    </tr>\n",
       "    <tr>\n",
       "      <th>min</th>\n",
       "      <td>1.000000</td>\n",
       "      <td>1100.000000</td>\n",
       "      <td>124.000000</td>\n",
       "      <td>119.000000</td>\n",
       "      <td>0.000000</td>\n",
       "      <td>0.000000</td>\n",
       "      <td>2.000000</td>\n",
       "      <td>0.000000</td>\n",
       "      <td>111.000000</td>\n",
       "      <td>0.000000</td>\n",
       "      <td>111.000000</td>\n",
       "      <td>0.000000</td>\n",
       "      <td>0.000000</td>\n",
       "      <td>22000.000000</td>\n",
       "      <td>18500.000000</td>\n",
       "      <td>22000.000000</td>\n",
       "      <td>0.000000</td>\n",
       "      <td>0.000000</td>\n",
       "      <td>0.000000</td>\n",
       "    </tr>\n",
       "    <tr>\n",
       "      <th>25%</th>\n",
       "      <td>44.000000</td>\n",
       "      <td>2403.000000</td>\n",
       "      <td>4549.750000</td>\n",
       "      <td>2177.500000</td>\n",
       "      <td>1778.250000</td>\n",
       "      <td>0.336026</td>\n",
       "      <td>39.000000</td>\n",
       "      <td>3608.000000</td>\n",
       "      <td>3154.000000</td>\n",
       "      <td>1030.000000</td>\n",
       "      <td>2453.000000</td>\n",
       "      <td>304.000000</td>\n",
       "      <td>0.050306</td>\n",
       "      <td>33000.000000</td>\n",
       "      <td>24000.000000</td>\n",
       "      <td>42000.000000</td>\n",
       "      <td>1675.000000</td>\n",
       "      <td>1591.000000</td>\n",
       "      <td>340.000000</td>\n",
       "    </tr>\n",
       "    <tr>\n",
       "      <th>50%</th>\n",
       "      <td>87.000000</td>\n",
       "      <td>3608.000000</td>\n",
       "      <td>15104.000000</td>\n",
       "      <td>5434.000000</td>\n",
       "      <td>8386.500000</td>\n",
       "      <td>0.534024</td>\n",
       "      <td>130.000000</td>\n",
       "      <td>11797.000000</td>\n",
       "      <td>10048.000000</td>\n",
       "      <td>3299.000000</td>\n",
       "      <td>7413.000000</td>\n",
       "      <td>893.000000</td>\n",
       "      <td>0.067961</td>\n",
       "      <td>36000.000000</td>\n",
       "      <td>27000.000000</td>\n",
       "      <td>47000.000000</td>\n",
       "      <td>4390.000000</td>\n",
       "      <td>4595.000000</td>\n",
       "      <td>1231.000000</td>\n",
       "    </tr>\n",
       "    <tr>\n",
       "      <th>75%</th>\n",
       "      <td>130.000000</td>\n",
       "      <td>5503.000000</td>\n",
       "      <td>38909.750000</td>\n",
       "      <td>14631.000000</td>\n",
       "      <td>22553.750000</td>\n",
       "      <td>0.703299</td>\n",
       "      <td>338.000000</td>\n",
       "      <td>31433.000000</td>\n",
       "      <td>25147.000000</td>\n",
       "      <td>9948.000000</td>\n",
       "      <td>16891.000000</td>\n",
       "      <td>2393.000000</td>\n",
       "      <td>0.087557</td>\n",
       "      <td>45000.000000</td>\n",
       "      <td>33000.000000</td>\n",
       "      <td>60000.000000</td>\n",
       "      <td>14444.000000</td>\n",
       "      <td>11783.000000</td>\n",
       "      <td>3466.000000</td>\n",
       "    </tr>\n",
       "    <tr>\n",
       "      <th>max</th>\n",
       "      <td>173.000000</td>\n",
       "      <td>6403.000000</td>\n",
       "      <td>393735.000000</td>\n",
       "      <td>173809.000000</td>\n",
       "      <td>307087.000000</td>\n",
       "      <td>0.968954</td>\n",
       "      <td>4212.000000</td>\n",
       "      <td>307933.000000</td>\n",
       "      <td>251540.000000</td>\n",
       "      <td>115172.000000</td>\n",
       "      <td>199897.000000</td>\n",
       "      <td>28169.000000</td>\n",
       "      <td>0.177226</td>\n",
       "      <td>110000.000000</td>\n",
       "      <td>95000.000000</td>\n",
       "      <td>125000.000000</td>\n",
       "      <td>151643.000000</td>\n",
       "      <td>148395.000000</td>\n",
       "      <td>48207.000000</td>\n",
       "    </tr>\n",
       "  </tbody>\n",
       "</table>\n",
       "</div>"
      ],
      "text/plain": [
       "             Rank   Major_code          Total            Men          Women  \\\n",
       "count  173.000000   173.000000     172.000000     172.000000     172.000000   \n",
       "mean    87.000000  3879.815029   39370.081395   16723.406977   22646.674419   \n",
       "std     50.084928  1687.753140   63483.491009   28122.433474   41057.330740   \n",
       "min      1.000000  1100.000000     124.000000     119.000000       0.000000   \n",
       "25%     44.000000  2403.000000    4549.750000    2177.500000    1778.250000   \n",
       "50%     87.000000  3608.000000   15104.000000    5434.000000    8386.500000   \n",
       "75%    130.000000  5503.000000   38909.750000   14631.000000   22553.750000   \n",
       "max    173.000000  6403.000000  393735.000000  173809.000000  307087.000000   \n",
       "\n",
       "       ShareWomen  Sample_size       Employed      Full_time      Part_time  \\\n",
       "count  172.000000   173.000000     173.000000     173.000000     173.000000   \n",
       "mean     0.522223   356.080925   31192.763006   26029.306358    8832.398844   \n",
       "std      0.231205   618.361022   50675.002241   42869.655092   14648.179473   \n",
       "min      0.000000     2.000000       0.000000     111.000000       0.000000   \n",
       "25%      0.336026    39.000000    3608.000000    3154.000000    1030.000000   \n",
       "50%      0.534024   130.000000   11797.000000   10048.000000    3299.000000   \n",
       "75%      0.703299   338.000000   31433.000000   25147.000000    9948.000000   \n",
       "max      0.968954  4212.000000  307933.000000  251540.000000  115172.000000   \n",
       "\n",
       "       Full_time_year_round    Unemployed  Unemployment_rate         Median  \\\n",
       "count            173.000000    173.000000         173.000000     173.000000   \n",
       "mean           19694.427746   2416.329480           0.068191   40151.445087   \n",
       "std            33160.941514   4112.803148           0.030331   11470.181802   \n",
       "min              111.000000      0.000000           0.000000   22000.000000   \n",
       "25%             2453.000000    304.000000           0.050306   33000.000000   \n",
       "50%             7413.000000    893.000000           0.067961   36000.000000   \n",
       "75%            16891.000000   2393.000000           0.087557   45000.000000   \n",
       "max           199897.000000  28169.000000           0.177226  110000.000000   \n",
       "\n",
       "              P25th          P75th   College_jobs  Non_college_jobs  \\\n",
       "count    173.000000     173.000000     173.000000        173.000000   \n",
       "mean   29501.445087   51494.219653   12322.635838      13284.497110   \n",
       "std     9166.005235   14906.279740   21299.868863      23789.655363   \n",
       "min    18500.000000   22000.000000       0.000000          0.000000   \n",
       "25%    24000.000000   42000.000000    1675.000000       1591.000000   \n",
       "50%    27000.000000   47000.000000    4390.000000       4595.000000   \n",
       "75%    33000.000000   60000.000000   14444.000000      11783.000000   \n",
       "max    95000.000000  125000.000000  151643.000000     148395.000000   \n",
       "\n",
       "       Low_wage_jobs  \n",
       "count     173.000000  \n",
       "mean     3859.017341  \n",
       "std      6944.998579  \n",
       "min         0.000000  \n",
       "25%       340.000000  \n",
       "50%      1231.000000  \n",
       "75%      3466.000000  \n",
       "max     48207.000000  "
      ]
     },
     "execution_count": 8,
     "metadata": {},
     "output_type": "execute_result"
    }
   ],
   "source": [
    "# generate descriptive summary of the data\n",
    "recent_grads.describe()"
   ]
  },
  {
   "cell_type": "code",
   "execution_count": 10,
   "id": "8ab04ae3",
   "metadata": {},
   "outputs": [
    {
     "data": {
      "text/plain": [
       "Rank                    0\n",
       "Major_code              0\n",
       "Major                   0\n",
       "Total                   1\n",
       "Men                     1\n",
       "Women                   1\n",
       "Major_category          0\n",
       "ShareWomen              1\n",
       "Sample_size             0\n",
       "Employed                0\n",
       "Full_time               0\n",
       "Part_time               0\n",
       "Full_time_year_round    0\n",
       "Unemployed              0\n",
       "Unemployment_rate       0\n",
       "Median                  0\n",
       "P25th                   0\n",
       "P75th                   0\n",
       "College_jobs            0\n",
       "Non_college_jobs        0\n",
       "Low_wage_jobs           0\n",
       "dtype: int64"
      ]
     },
     "execution_count": 10,
     "metadata": {},
     "output_type": "execute_result"
    }
   ],
   "source": [
    "# check the columns which contains missing values\n",
    "recent_grads.isna().sum()"
   ]
  },
  {
   "cell_type": "code",
   "execution_count": 12,
   "id": "ef2d798a",
   "metadata": {},
   "outputs": [
    {
     "data": {
      "text/plain": [
       "173"
      ]
     },
     "execution_count": 12,
     "metadata": {},
     "output_type": "execute_result"
    }
   ],
   "source": [
    "# check the count of rows in the dataset\n",
    "raw_data_count = recent_grads.shape[0]\n",
    "raw_data_count"
   ]
  },
  {
   "cell_type": "code",
   "execution_count": 15,
   "id": "c56ab550",
   "metadata": {},
   "outputs": [],
   "source": [
    "# drop all the rows which contain missing data using drop() method\n",
    "recent_grads=recent_grads.dropna()"
   ]
  },
  {
   "cell_type": "code",
   "execution_count": 17,
   "id": "f92d8d63",
   "metadata": {},
   "outputs": [
    {
     "name": "stdout",
     "output_type": "stream",
     "text": [
      "No. of rows in raw data:  173\n",
      "No. of rows in cleaned data :  172\n"
     ]
    }
   ],
   "source": [
    "cleaned_data_count = recent_grads.shape[0]\n",
    "print(\"No. of rows in raw data: \", raw_data_count)\n",
    "print(\"No. of rows in cleaned data : \", cleaned_data_count)"
   ]
  },
  {
   "cell_type": "code",
   "execution_count": null,
   "id": "239426d8",
   "metadata": {},
   "outputs": [],
   "source": []
  },
  {
   "cell_type": "markdown",
   "id": "95c24628",
   "metadata": {},
   "source": [
    "### 2. Pandas, Scatter Plots\n",
    "* Most of the plotting functionality in pandas is contained within the `DataFrame.plot()` method. When we call this method, we specify the data we want plotted as well as the type of plot. We use the `kind parameter` to specify the type of plot we want. We use `x` and `y` to specify the data we want on each axis. \n",
    "\n",
    "`recent_grads.plot(x='Sample_size', y='Employed', kind='scatter', title='Employed vs. Sample_size', figsize=(5,10))`\n",
    "\n",
    "We can access the underlying matplotlib Axes object by assigning the return value to a variable:\n",
    "\n",
    "`ax = recent_grads.plot(x='Sample_size', y='Employed', kind='scatter')\n",
    "ax.set_title('Employed vs. Sample_size')`\n"
   ]
  },
  {
   "cell_type": "code",
   "execution_count": 22,
   "id": "f63de049",
   "metadata": {},
   "outputs": [
    {
     "data": {
      "text/plain": [
       "<AxesSubplot:title={'center':'Employed vs Sample_size'}, xlabel='Sample_size', ylabel='Employed'>"
      ]
     },
     "execution_count": 22,
     "metadata": {},
     "output_type": "execute_result"
    },
    {
     "data": {
      "image/png": "[encoded data removed]",
      "text/plain": [
       "<Figure size 360x720 with 1 Axes>"
      ]
     },
     "metadata": {
      "needs_background": "light"
     },
     "output_type": "display_data"
    }
   ],
   "source": [
    "# let's see the above mentioned plot\n",
    "recent_grads.plot(x='Sample_size', y='Employed', kind='scatter', title='Employed vs Sample_size', figsize=(5,10))"
   ]
  },
  {
   "cell_type": "markdown",
   "id": "942b2812",
   "metadata": {},
   "source": [
    "#### TODO:\n",
    "* Generate scatter plots in separate jupyter notebook cells to explore the following relations:\n",
    "  * Sample_size and Median\n",
    "  * Sample_size and Unemployment_rate\n",
    "  * Full_time and Median\n",
    "  * ShareWomen and Unemployment_rate\n",
    "  * Men and Median\n",
    "  * Women and Median\n",
    "* Use the plots to explore the following questions:\n",
    "  * Do students in more popular majors make more money?\n",
    "  * Do students that majored in subjects that were majority female make more money?\n",
    "  * Is there any link between the number of full-time employees and median salary?"
   ]
  },
  {
   "cell_type": "code",
   "execution_count": 23,
   "id": "f4964425",
   "metadata": {},
   "outputs": [
    {
     "data": {
      "text/html": [
       "<div>\n",
       "<style scoped>\n",
       "    .dataframe tbody tr th:only-of-type {\n",
       "        vertical-align: middle;\n",
       "    }\n",
       "\n",
       "    .dataframe tbody tr th {\n",
       "        vertical-align: top;\n",
       "    }\n",
       "\n",
       "    .dataframe thead th {\n",
       "        text-align: right;\n",
       "    }\n",
       "</style>\n",
       "<table border=\"1\" class=\"dataframe\">\n",
       "  <thead>\n",
       "    <tr style=\"text-align: right;\">\n",
       "      <th></th>\n",
       "      <th>Rank</th>\n",
       "      <th>Major_code</th>\n",
       "      <th>Major</th>\n",
       "      <th>Total</th>\n",
       "      <th>Men</th>\n",
       "      <th>Women</th>\n",
       "      <th>Major_category</th>\n",
       "      <th>ShareWomen</th>\n",
       "      <th>Sample_size</th>\n",
       "      <th>Employed</th>\n",
       "      <th>...</th>\n",
       "      <th>Part_time</th>\n",
       "      <th>Full_time_year_round</th>\n",
       "      <th>Unemployed</th>\n",
       "      <th>Unemployment_rate</th>\n",
       "      <th>Median</th>\n",
       "      <th>P25th</th>\n",
       "      <th>P75th</th>\n",
       "      <th>College_jobs</th>\n",
       "      <th>Non_college_jobs</th>\n",
       "      <th>Low_wage_jobs</th>\n",
       "    </tr>\n",
       "  </thead>\n",
       "  <tbody>\n",
       "    <tr>\n",
       "      <th>0</th>\n",
       "      <td>1</td>\n",
       "      <td>2419</td>\n",
       "      <td>PETROLEUM ENGINEERING</td>\n",
       "      <td>2339.0</td>\n",
       "      <td>2057.0</td>\n",
       "      <td>282.0</td>\n",
       "      <td>Engineering</td>\n",
       "      <td>0.120564</td>\n",
       "      <td>36</td>\n",
       "      <td>1976</td>\n",
       "      <td>...</td>\n",
       "      <td>270</td>\n",
       "      <td>1207</td>\n",
       "      <td>37</td>\n",
       "      <td>0.018381</td>\n",
       "      <td>110000</td>\n",
       "      <td>95000</td>\n",
       "      <td>125000</td>\n",
       "      <td>1534</td>\n",
       "      <td>364</td>\n",
       "      <td>193</td>\n",
       "    </tr>\n",
       "  </tbody>\n",
       "</table>\n",
       "<p>1 rows × 21 columns</p>\n",
       "</div>"
      ],
      "text/plain": [
       "   Rank  Major_code                  Major   Total     Men  Women  \\\n",
       "0     1        2419  PETROLEUM ENGINEERING  2339.0  2057.0  282.0   \n",
       "\n",
       "  Major_category  ShareWomen  Sample_size  Employed  ...  Part_time  \\\n",
       "0    Engineering    0.120564           36      1976  ...        270   \n",
       "\n",
       "   Full_time_year_round  Unemployed  Unemployment_rate  Median  P25th   P75th  \\\n",
       "0                  1207          37           0.018381  110000  95000  125000   \n",
       "\n",
       "   College_jobs  Non_college_jobs  Low_wage_jobs  \n",
       "0          1534               364            193  \n",
       "\n",
       "[1 rows x 21 columns]"
      ]
     },
     "execution_count": 23,
     "metadata": {},
     "output_type": "execute_result"
    }
   ],
   "source": [
    "recent_grads.head(1)"
   ]
  },
  {
   "cell_type": "code",
   "execution_count": 24,
   "id": "b5a4de4d",
   "metadata": {},
   "outputs": [
    {
     "data": {
      "text/plain": [
       "Index(['Rank', 'Major_code', 'Major', 'Total', 'Men', 'Women',\n",
       "       'Major_category', 'ShareWomen', 'Sample_size', 'Employed', 'Full_time',\n",
       "       'Part_time', 'Full_time_year_round', 'Unemployed', 'Unemployment_rate',\n",
       "       'Median', 'P25th', 'P75th', 'College_jobs', 'Non_college_jobs',\n",
       "       'Low_wage_jobs'],\n",
       "      dtype='object')"
      ]
     },
     "execution_count": 24,
     "metadata": {},
     "output_type": "execute_result"
    }
   ],
   "source": [
    "# print name of all columns\n",
    "recent_grads.columns"
   ]
  },
  {
   "cell_type": "code",
   "execution_count": 26,
   "id": "8babdf4a",
   "metadata": {},
   "outputs": [
    {
     "data": {
      "text/plain": [
       "array(['Engineering', 'Business', 'Physical Sciences',\n",
       "       'Law & Public Policy', 'Computers & Mathematics',\n",
       "       'Industrial Arts & Consumer Services', 'Arts', 'Health',\n",
       "       'Social Science', 'Biology & Life Science', 'Education',\n",
       "       'Agriculture & Natural Resources', 'Humanities & Liberal Arts',\n",
       "       'Psychology & Social Work', 'Communications & Journalism',\n",
       "       'Interdisciplinary'], dtype=object)"
      ]
     },
     "execution_count": 26,
     "metadata": {},
     "output_type": "execute_result"
    }
   ],
   "source": [
    "recent_grads.Major_category.unique()"
   ]
  },
  {
   "cell_type": "code",
   "execution_count": null,
   "id": "4cc10dfa",
   "metadata": {},
   "outputs": [],
   "source": [
    "# import pandas as pd\n",
    "# pd.set_option('display.max_rows', 500)\n",
    "# pd.set_option('display.max_columns', 500)\n",
    "# pd.set_option('display.width', 1000)"
   ]
  },
  {
   "cell_type": "code",
   "execution_count": 67,
   "id": "1b60f5eb",
   "metadata": {
    "collapsed": true
   },
   "outputs": [
    {
     "data": {
      "text/html": [
       "<div>\n",
       "<style scoped>\n",
       "    .dataframe tbody tr th:only-of-type {\n",
       "        vertical-align: middle;\n",
       "    }\n",
       "\n",
       "    .dataframe tbody tr th {\n",
       "        vertical-align: top;\n",
       "    }\n",
       "\n",
       "    .dataframe thead th {\n",
       "        text-align: right;\n",
       "    }\n",
       "</style>\n",
       "<table border=\"1\" class=\"dataframe\">\n",
       "  <thead>\n",
       "    <tr style=\"text-align: right;\">\n",
       "      <th></th>\n",
       "      <th></th>\n",
       "      <th></th>\n",
       "      <th>Median</th>\n",
       "    </tr>\n",
       "    <tr>\n",
       "      <th>Major_category</th>\n",
       "      <th>Major</th>\n",
       "      <th>Rank</th>\n",
       "      <th></th>\n",
       "    </tr>\n",
       "  </thead>\n",
       "  <tbody>\n",
       "    <tr>\n",
       "      <th rowspan=\"6\" valign=\"top\">Engineering</th>\n",
       "      <th>PETROLEUM ENGINEERING</th>\n",
       "      <th>1</th>\n",
       "      <td>110000</td>\n",
       "    </tr>\n",
       "    <tr>\n",
       "      <th>MINING AND MINERAL ENGINEERING</th>\n",
       "      <th>2</th>\n",
       "      <td>75000</td>\n",
       "    </tr>\n",
       "    <tr>\n",
       "      <th>METALLURGICAL ENGINEERING</th>\n",
       "      <th>3</th>\n",
       "      <td>73000</td>\n",
       "    </tr>\n",
       "    <tr>\n",
       "      <th>NAVAL ARCHITECTURE AND MARINE ENGINEERING</th>\n",
       "      <th>4</th>\n",
       "      <td>70000</td>\n",
       "    </tr>\n",
       "    <tr>\n",
       "      <th>CHEMICAL ENGINEERING</th>\n",
       "      <th>5</th>\n",
       "      <td>65000</td>\n",
       "    </tr>\n",
       "    <tr>\n",
       "      <th>NUCLEAR ENGINEERING</th>\n",
       "      <th>6</th>\n",
       "      <td>65000</td>\n",
       "    </tr>\n",
       "    <tr>\n",
       "      <th>Business</th>\n",
       "      <th>ACTUARIAL SCIENCE</th>\n",
       "      <th>7</th>\n",
       "      <td>62000</td>\n",
       "    </tr>\n",
       "    <tr>\n",
       "      <th>Physical Sciences</th>\n",
       "      <th>ASTRONOMY AND ASTROPHYSICS</th>\n",
       "      <th>8</th>\n",
       "      <td>62000</td>\n",
       "    </tr>\n",
       "    <tr>\n",
       "      <th rowspan=\"11\" valign=\"top\">Engineering</th>\n",
       "      <th>AEROSPACE ENGINEERING</th>\n",
       "      <th>12</th>\n",
       "      <td>60000</td>\n",
       "    </tr>\n",
       "    <tr>\n",
       "      <th>BIOMEDICAL ENGINEERING</th>\n",
       "      <th>13</th>\n",
       "      <td>60000</td>\n",
       "    </tr>\n",
       "    <tr>\n",
       "      <th>COMPUTER ENGINEERING</th>\n",
       "      <th>11</th>\n",
       "      <td>60000</td>\n",
       "    </tr>\n",
       "    <tr>\n",
       "      <th>ELECTRICAL ENGINEERING</th>\n",
       "      <th>10</th>\n",
       "      <td>60000</td>\n",
       "    </tr>\n",
       "    <tr>\n",
       "      <th>MATERIALS SCIENCE</th>\n",
       "      <th>14</th>\n",
       "      <td>60000</td>\n",
       "    </tr>\n",
       "    <tr>\n",
       "      <th>MECHANICAL ENGINEERING</th>\n",
       "      <th>9</th>\n",
       "      <td>60000</td>\n",
       "    </tr>\n",
       "    <tr>\n",
       "      <th>ENGINEERING MECHANICS PHYSICS AND SCIENCE</th>\n",
       "      <th>15</th>\n",
       "      <td>58000</td>\n",
       "    </tr>\n",
       "    <tr>\n",
       "      <th>BIOLOGICAL ENGINEERING</th>\n",
       "      <th>16</th>\n",
       "      <td>57100</td>\n",
       "    </tr>\n",
       "    <tr>\n",
       "      <th>INDUSTRIAL AND MANUFACTURING ENGINEERING</th>\n",
       "      <th>17</th>\n",
       "      <td>57000</td>\n",
       "    </tr>\n",
       "    <tr>\n",
       "      <th>GENERAL ENGINEERING</th>\n",
       "      <th>18</th>\n",
       "      <td>56000</td>\n",
       "    </tr>\n",
       "    <tr>\n",
       "      <th>ARCHITECTURAL ENGINEERING</th>\n",
       "      <th>19</th>\n",
       "      <td>54000</td>\n",
       "    </tr>\n",
       "    <tr>\n",
       "      <th>Law &amp; Public Policy</th>\n",
       "      <th>COURT REPORTING</th>\n",
       "      <th>20</th>\n",
       "      <td>54000</td>\n",
       "    </tr>\n",
       "    <tr>\n",
       "      <th>Computers &amp; Mathematics</th>\n",
       "      <th>COMPUTER SCIENCE</th>\n",
       "      <th>21</th>\n",
       "      <td>53000</td>\n",
       "    </tr>\n",
       "    <tr>\n",
       "      <th rowspan=\"2\" valign=\"top\">Engineering</th>\n",
       "      <th>MATERIALS ENGINEERING AND MATERIALS SCIENCE</th>\n",
       "      <th>24</th>\n",
       "      <td>52000</td>\n",
       "    </tr>\n",
       "    <tr>\n",
       "      <th>ELECTRICAL ENGINEERING TECHNOLOGY</th>\n",
       "      <th>23</th>\n",
       "      <td>52000</td>\n",
       "    </tr>\n",
       "    <tr>\n",
       "      <th>Business</th>\n",
       "      <th>MANAGEMENT INFORMATION SYSTEMS AND STATISTICS</th>\n",
       "      <th>25</th>\n",
       "      <td>51000</td>\n",
       "    </tr>\n",
       "    <tr>\n",
       "      <th rowspan=\"3\" valign=\"top\">Engineering</th>\n",
       "      <th>CIVIL ENGINEERING</th>\n",
       "      <th>26</th>\n",
       "      <td>50000</td>\n",
       "    </tr>\n",
       "    <tr>\n",
       "      <th>ENGINEERING TECHNOLOGIES</th>\n",
       "      <th>32</th>\n",
       "      <td>50000</td>\n",
       "    </tr>\n",
       "    <tr>\n",
       "      <th>ENVIRONMENTAL ENGINEERING</th>\n",
       "      <th>31</th>\n",
       "      <td>50000</td>\n",
       "    </tr>\n",
       "    <tr>\n",
       "      <th>Business</th>\n",
       "      <th>OPERATIONS LOGISTICS AND E-COMMERCE</th>\n",
       "      <th>28</th>\n",
       "      <td>50000</td>\n",
       "    </tr>\n",
       "    <tr>\n",
       "      <th>Engineering</th>\n",
       "      <th>GEOLOGICAL AND GEOPHYSICAL ENGINEERING</th>\n",
       "      <th>34</th>\n",
       "      <td>50000</td>\n",
       "    </tr>\n",
       "    <tr>\n",
       "      <th>Industrial Arts &amp; Consumer Services</th>\n",
       "      <th>CONSTRUCTION SERVICES</th>\n",
       "      <th>27</th>\n",
       "      <td>50000</td>\n",
       "    </tr>\n",
       "    <tr>\n",
       "      <th>Law &amp; Public Policy</th>\n",
       "      <th>PUBLIC POLICY</th>\n",
       "      <th>30</th>\n",
       "      <td>50000</td>\n",
       "    </tr>\n",
       "    <tr>\n",
       "      <th>Engineering</th>\n",
       "      <th>MISCELLANEOUS ENGINEERING</th>\n",
       "      <th>29</th>\n",
       "      <td>50000</td>\n",
       "    </tr>\n",
       "    <tr>\n",
       "      <th>Arts</th>\n",
       "      <th>MISCELLANEOUS FINE ARTS</th>\n",
       "      <th>33</th>\n",
       "      <td>50000</td>\n",
       "    </tr>\n",
       "    <tr>\n",
       "      <th>Health</th>\n",
       "      <th>NURSING</th>\n",
       "      <th>35</th>\n",
       "      <td>48000</td>\n",
       "    </tr>\n",
       "    <tr>\n",
       "      <th>Business</th>\n",
       "      <th>FINANCE</th>\n",
       "      <th>36</th>\n",
       "      <td>47000</td>\n",
       "    </tr>\n",
       "    <tr>\n",
       "      <th>Social Science</th>\n",
       "      <th>ECONOMICS</th>\n",
       "      <th>37</th>\n",
       "      <td>47000</td>\n",
       "    </tr>\n",
       "    <tr>\n",
       "      <th>Business</th>\n",
       "      <th>BUSINESS ECONOMICS</th>\n",
       "      <th>38</th>\n",
       "      <td>46000</td>\n",
       "    </tr>\n",
       "    <tr>\n",
       "      <th>Physical Sciences</th>\n",
       "      <th>NUCLEAR, INDUSTRIAL RADIOLOGY, AND BIOLOGICAL TECHNOLOGIES</th>\n",
       "      <th>40</th>\n",
       "      <td>46000</td>\n",
       "    </tr>\n",
       "    <tr>\n",
       "      <th>Engineering</th>\n",
       "      <th>INDUSTRIAL PRODUCTION TECHNOLOGIES</th>\n",
       "      <th>39</th>\n",
       "      <td>46000</td>\n",
       "    </tr>\n",
       "    <tr>\n",
       "      <th>Business</th>\n",
       "      <th>ACCOUNTING</th>\n",
       "      <th>41</th>\n",
       "      <td>45000</td>\n",
       "    </tr>\n",
       "    <tr>\n",
       "      <th>Health</th>\n",
       "      <th>MEDICAL TECHNOLOGIES TECHNICIANS</th>\n",
       "      <th>45</th>\n",
       "      <td>45000</td>\n",
       "    </tr>\n",
       "    <tr>\n",
       "      <th rowspan=\"5\" valign=\"top\">Computers &amp; Mathematics</th>\n",
       "      <th>STATISTICS AND DECISION SCIENCE</th>\n",
       "      <th>47</th>\n",
       "      <td>45000</td>\n",
       "    </tr>\n",
       "    <tr>\n",
       "      <th>MATHEMATICS</th>\n",
       "      <th>42</th>\n",
       "      <td>45000</td>\n",
       "    </tr>\n",
       "    <tr>\n",
       "      <th>INFORMATION SCIENCES</th>\n",
       "      <th>46</th>\n",
       "      <td>45000</td>\n",
       "    </tr>\n",
       "    <tr>\n",
       "      <th>COMPUTER AND INFORMATION SYSTEMS</th>\n",
       "      <th>43</th>\n",
       "      <td>45000</td>\n",
       "    </tr>\n",
       "    <tr>\n",
       "      <th>APPLIED MATHEMATICS</th>\n",
       "      <th>48</th>\n",
       "      <td>45000</td>\n",
       "    </tr>\n",
       "    <tr>\n",
       "      <th>Physical Sciences</th>\n",
       "      <th>PHYSICS</th>\n",
       "      <th>44</th>\n",
       "      <td>45000</td>\n",
       "    </tr>\n",
       "    <tr>\n",
       "      <th>Biology &amp; Life Science</th>\n",
       "      <th>PHARMACOLOGY</th>\n",
       "      <th>49</th>\n",
       "      <td>45000</td>\n",
       "    </tr>\n",
       "    <tr>\n",
       "      <th>Physical Sciences</th>\n",
       "      <th>OCEANOGRAPHY</th>\n",
       "      <th>50</th>\n",
       "      <td>44700</td>\n",
       "    </tr>\n",
       "    <tr>\n",
       "      <th>Engineering</th>\n",
       "      <th>ENGINEERING AND INDUSTRIAL MANAGEMENT</th>\n",
       "      <th>51</th>\n",
       "      <td>44000</td>\n",
       "    </tr>\n",
       "    <tr>\n",
       "      <th>Health</th>\n",
       "      <th>MEDICAL ASSISTING SERVICES</th>\n",
       "      <th>52</th>\n",
       "      <td>42000</td>\n",
       "    </tr>\n",
       "    <tr>\n",
       "      <th rowspan=\"2\" valign=\"top\">Computers &amp; Mathematics</th>\n",
       "      <th>MATHEMATICS AND COMPUTER SCIENCE</th>\n",
       "      <th>53</th>\n",
       "      <td>42000</td>\n",
       "    </tr>\n",
       "    <tr>\n",
       "      <th>COMPUTER PROGRAMMING AND DATA PROCESSING</th>\n",
       "      <th>54</th>\n",
       "      <td>41300</td>\n",
       "    </tr>\n",
       "    <tr>\n",
       "      <th>Education</th>\n",
       "      <th>SCHOOL STUDENT COUNSELING</th>\n",
       "      <th>56</th>\n",
       "      <td>41000</td>\n",
       "    </tr>\n",
       "    <tr>\n",
       "      <th>Biology &amp; Life Science</th>\n",
       "      <th>COGNITIVE SCIENCE AND BIOPSYCHOLOGY</th>\n",
       "      <th>55</th>\n",
       "      <td>41000</td>\n",
       "    </tr>\n",
       "    <tr>\n",
       "      <th>Social Science</th>\n",
       "      <th>INTERNATIONAL RELATIONS</th>\n",
       "      <th>57</th>\n",
       "      <td>40100</td>\n",
       "    </tr>\n",
       "    <tr>\n",
       "      <th>Health</th>\n",
       "      <th>PHARMACY PHARMACEUTICAL SCIENCES AND ADMINISTRATION</th>\n",
       "      <th>61</th>\n",
       "      <td>40000</td>\n",
       "    </tr>\n",
       "    <tr>\n",
       "      <th>Engineering</th>\n",
       "      <th>ARCHITECTURE</th>\n",
       "      <th>59</th>\n",
       "      <td>40000</td>\n",
       "    </tr>\n",
       "    <tr>\n",
       "      <th>Social Science</th>\n",
       "      <th>MISCELLANEOUS SOCIAL SCIENCES</th>\n",
       "      <th>69</th>\n",
       "      <td>40000</td>\n",
       "    </tr>\n",
       "    <tr>\n",
       "      <th>Agriculture &amp; Natural Resources</th>\n",
       "      <th>AGRICULTURE PRODUCTION AND MANAGEMENT</th>\n",
       "      <th>64</th>\n",
       "      <td>40000</td>\n",
       "    </tr>\n",
       "    <tr>\n",
       "      <th>Physical Sciences</th>\n",
       "      <th>PHYSICAL SCIENCES</th>\n",
       "      <th>73</th>\n",
       "      <td>40000</td>\n",
       "    </tr>\n",
       "    <tr>\n",
       "      <th>Humanities &amp; Liberal Arts</th>\n",
       "      <th>UNITED STATES HISTORY</th>\n",
       "      <th>70</th>\n",
       "      <td>40000</td>\n",
       "    </tr>\n",
       "    <tr>\n",
       "      <th>Engineering</th>\n",
       "      <th>MISCELLANEOUS ENGINEERING TECHNOLOGIES</th>\n",
       "      <th>66</th>\n",
       "      <td>40000</td>\n",
       "    </tr>\n",
       "    <tr>\n",
       "      <th>Psychology &amp; Social Work</th>\n",
       "      <th>INDUSTRIAL AND ORGANIZATIONAL PSYCHOLOGY</th>\n",
       "      <th>71</th>\n",
       "      <td>40000</td>\n",
       "    </tr>\n",
       "    <tr>\n",
       "      <th>Industrial Arts &amp; Consumer Services</th>\n",
       "      <th>MILITARY TECHNOLOGIES</th>\n",
       "      <th>74</th>\n",
       "      <td>40000</td>\n",
       "    </tr>\n",
       "    <tr>\n",
       "      <th>Engineering</th>\n",
       "      <th>MECHANICAL ENGINEERING RELATED TECHNOLOGIES</th>\n",
       "      <th>67</th>\n",
       "      <td>40000</td>\n",
       "    </tr>\n",
       "    <tr>\n",
       "      <th>Agriculture &amp; Natural Resources</th>\n",
       "      <th>AGRICULTURAL ECONOMICS</th>\n",
       "      <th>72</th>\n",
       "      <td>40000</td>\n",
       "    </tr>\n",
       "    <tr>\n",
       "      <th rowspan=\"2\" valign=\"top\">Biology &amp; Life Science</th>\n",
       "      <th>MOLECULAR BIOLOGY</th>\n",
       "      <th>62</th>\n",
       "      <td>40000</td>\n",
       "    </tr>\n",
       "    <tr>\n",
       "      <th>GENETICS</th>\n",
       "      <th>68</th>\n",
       "      <td>40000</td>\n",
       "    </tr>\n",
       "    <tr>\n",
       "      <th rowspan=\"3\" valign=\"top\">Business</th>\n",
       "      <th>GENERAL BUSINESS</th>\n",
       "      <th>58</th>\n",
       "      <td>40000</td>\n",
       "    </tr>\n",
       "    <tr>\n",
       "      <th>INTERNATIONAL BUSINESS</th>\n",
       "      <th>60</th>\n",
       "      <td>40000</td>\n",
       "    </tr>\n",
       "    <tr>\n",
       "      <th>MISCELLANEOUS BUSINESS &amp; MEDICAL ADMINISTRATION</th>\n",
       "      <th>63</th>\n",
       "      <td>40000</td>\n",
       "    </tr>\n",
       "    <tr>\n",
       "      <th>Agriculture &amp; Natural Resources</th>\n",
       "      <th>GENERAL AGRICULTURE</th>\n",
       "      <th>65</th>\n",
       "      <td>40000</td>\n",
       "    </tr>\n",
       "    <tr>\n",
       "      <th>Physical Sciences</th>\n",
       "      <th>CHEMISTRY</th>\n",
       "      <th>75</th>\n",
       "      <td>39000</td>\n",
       "    </tr>\n",
       "    <tr>\n",
       "      <th>Industrial Arts &amp; Consumer Services</th>\n",
       "      <th>ELECTRICAL, MECHANICAL, AND PRECISION TECHNOLOGIES AND PRODUCTION</th>\n",
       "      <th>76</th>\n",
       "      <td>38400</td>\n",
       "    </tr>\n",
       "    <tr>\n",
       "      <th rowspan=\"2\" valign=\"top\">Business</th>\n",
       "      <th>BUSINESS MANAGEMENT AND ADMINISTRATION</th>\n",
       "      <th>77</th>\n",
       "      <td>38000</td>\n",
       "    </tr>\n",
       "    <tr>\n",
       "      <th>MARKETING AND MARKETING RESEARCH</th>\n",
       "      <th>78</th>\n",
       "      <td>38000</td>\n",
       "    </tr>\n",
       "    <tr>\n",
       "      <th>Biology &amp; Life Science</th>\n",
       "      <th>MICROBIOLOGY</th>\n",
       "      <th>81</th>\n",
       "      <td>38000</td>\n",
       "    </tr>\n",
       "    <tr>\n",
       "      <th rowspan=\"2\" valign=\"top\">Social Science</th>\n",
       "      <th>POLITICAL SCIENCE AND GOVERNMENT</th>\n",
       "      <th>79</th>\n",
       "      <td>38000</td>\n",
       "    </tr>\n",
       "    <tr>\n",
       "      <th>GEOGRAPHY</th>\n",
       "      <th>80</th>\n",
       "      <td>38000</td>\n",
       "    </tr>\n",
       "    <tr>\n",
       "      <th>Computers &amp; Mathematics</th>\n",
       "      <th>COMPUTER ADMINISTRATION MANAGEMENT AND SECURITY</th>\n",
       "      <th>82</th>\n",
       "      <td>37500</td>\n",
       "    </tr>\n",
       "    <tr>\n",
       "      <th rowspan=\"2\" valign=\"top\">Biology &amp; Life Science</th>\n",
       "      <th>BIOCHEMICAL SCIENCES</th>\n",
       "      <th>83</th>\n",
       "      <td>37400</td>\n",
       "    </tr>\n",
       "    <tr>\n",
       "      <th>BOTANY</th>\n",
       "      <th>84</th>\n",
       "      <td>37000</td>\n",
       "    </tr>\n",
       "    <tr>\n",
       "      <th>Computers &amp; Mathematics</th>\n",
       "      <th>COMPUTER NETWORKING AND TELECOMMUNICATIONS</th>\n",
       "      <th>85</th>\n",
       "      <td>36400</td>\n",
       "    </tr>\n",
       "    <tr>\n",
       "      <th>Physical Sciences</th>\n",
       "      <th>GEOLOGY AND EARTH SCIENCE</th>\n",
       "      <th>86</th>\n",
       "      <td>36200</td>\n",
       "    </tr>\n",
       "    <tr>\n",
       "      <th>Health</th>\n",
       "      <th>MISCELLANEOUS HEALTH MEDICAL PROFESSIONS</th>\n",
       "      <th>89</th>\n",
       "      <td>36000</td>\n",
       "    </tr>\n",
       "    <tr>\n",
       "      <th rowspan=\"2\" valign=\"top\">Law &amp; Public Policy</th>\n",
       "      <th>PUBLIC ADMINISTRATION</th>\n",
       "      <th>90</th>\n",
       "      <td>36000</td>\n",
       "    </tr>\n",
       "    <tr>\n",
       "      <th>PRE-LAW AND LEGAL STUDIES</th>\n",
       "      <th>88</th>\n",
       "      <td>36000</td>\n",
       "    </tr>\n",
       "    <tr>\n",
       "      <th>Business</th>\n",
       "      <th>HUMAN RESOURCES AND PERSONNEL MANAGEMENT</th>\n",
       "      <th>87</th>\n",
       "      <td>36000</td>\n",
       "    </tr>\n",
       "    <tr>\n",
       "      <th>Physical Sciences</th>\n",
       "      <th>GEOSCIENCES</th>\n",
       "      <th>91</th>\n",
       "      <td>36000</td>\n",
       "    </tr>\n",
       "    <tr>\n",
       "      <th>Psychology &amp; Social Work</th>\n",
       "      <th>SOCIAL PSYCHOLOGY</th>\n",
       "      <th>92</th>\n",
       "      <td>36000</td>\n",
       "    </tr>\n",
       "    <tr>\n",
       "      <th>Biology &amp; Life Science</th>\n",
       "      <th>ENVIRONMENTAL SCIENCE</th>\n",
       "      <th>93</th>\n",
       "      <td>35600</td>\n",
       "    </tr>\n",
       "    <tr>\n",
       "      <th rowspan=\"2\" valign=\"top\">Health</th>\n",
       "      <th>HEALTH AND MEDICAL ADMINISTRATIVE SERVICES</th>\n",
       "      <th>105</th>\n",
       "      <td>35000</td>\n",
       "    </tr>\n",
       "    <tr>\n",
       "      <th>NUTRITION SCIENCES</th>\n",
       "      <th>104</th>\n",
       "      <td>35000</td>\n",
       "    </tr>\n",
       "    <tr>\n",
       "      <th>Humanities &amp; Liberal Arts</th>\n",
       "      <th>AREA ETHNIC AND CIVILIZATION STUDIES</th>\n",
       "      <th>100</th>\n",
       "      <td>35000</td>\n",
       "    </tr>\n",
       "    <tr>\n",
       "      <th>Law &amp; Public Policy</th>\n",
       "      <th>CRIMINAL JUSTICE AND FIRE PROTECTION</th>\n",
       "      <th>95</th>\n",
       "      <td>35000</td>\n",
       "    </tr>\n",
       "    <tr>\n",
       "      <th>Interdisciplinary</th>\n",
       "      <th>MULTI/INTERDISCIPLINARY STUDIES</th>\n",
       "      <th>110</th>\n",
       "      <td>35000</td>\n",
       "    </tr>\n",
       "    <tr>\n",
       "      <th>Industrial Arts &amp; Consumer Services</th>\n",
       "      <th>TRANSPORTATION SCIENCES AND TECHNOLOGIES</th>\n",
       "      <th>107</th>\n",
       "      <td>35000</td>\n",
       "    </tr>\n",
       "    <tr>\n",
       "      <th rowspan=\"2\" valign=\"top\">Physical Sciences</th>\n",
       "      <th>ATMOSPHERIC SCIENCES AND METEOROLOGY</th>\n",
       "      <th>111</th>\n",
       "      <td>35000</td>\n",
       "    </tr>\n",
       "    <tr>\n",
       "      <th>MULTI-DISCIPLINARY OR GENERAL SCIENCE</th>\n",
       "      <th>98</th>\n",
       "      <td>35000</td>\n",
       "    </tr>\n",
       "    <tr>\n",
       "      <th>Agriculture &amp; Natural Resources</th>\n",
       "      <th>NATURAL RESOURCES MANAGEMENT</th>\n",
       "      <th>108</th>\n",
       "      <td>35000</td>\n",
       "    </tr>\n",
       "    <tr>\n",
       "      <th>Communications &amp; Journalism</th>\n",
       "      <th>JOURNALISM</th>\n",
       "      <th>97</th>\n",
       "      <td>35000</td>\n",
       "    </tr>\n",
       "    <tr>\n",
       "      <th>Education</th>\n",
       "      <th>SPECIAL NEEDS EDUCATION</th>\n",
       "      <th>101</th>\n",
       "      <td>35000</td>\n",
       "    </tr>\n",
       "    <tr>\n",
       "      <th>Social Science</th>\n",
       "      <th>CRIMINOLOGY</th>\n",
       "      <th>103</th>\n",
       "      <td>35000</td>\n",
       "    </tr>\n",
       "    <tr>\n",
       "      <th>Biology &amp; Life Science</th>\n",
       "      <th>NEUROSCIENCE</th>\n",
       "      <th>109</th>\n",
       "      <td>35000</td>\n",
       "    </tr>\n",
       "    <tr>\n",
       "      <th>Computers &amp; Mathematics</th>\n",
       "      <th>COMMUNICATION TECHNOLOGIES</th>\n",
       "      <th>106</th>\n",
       "      <td>35000</td>\n",
       "    </tr>\n",
       "    <tr>\n",
       "      <th rowspan=\"2\" valign=\"top\">Agriculture &amp; Natural Resources</th>\n",
       "      <th>FORESTRY</th>\n",
       "      <th>112</th>\n",
       "      <td>35000</td>\n",
       "    </tr>\n",
       "    <tr>\n",
       "      <th>SOIL SCIENCE</th>\n",
       "      <th>113</th>\n",
       "      <td>35000</td>\n",
       "    </tr>\n",
       "    <tr>\n",
       "      <th rowspan=\"2\" valign=\"top\">Communications &amp; Journalism</th>\n",
       "      <th>COMMUNICATIONS</th>\n",
       "      <th>94</th>\n",
       "      <td>35000</td>\n",
       "    </tr>\n",
       "    <tr>\n",
       "      <th>ADVERTISING AND PUBLIC RELATIONS</th>\n",
       "      <th>99</th>\n",
       "      <td>35000</td>\n",
       "    </tr>\n",
       "    <tr>\n",
       "      <th>Arts</th>\n",
       "      <th>COMMERCIAL ART AND GRAPHIC DESIGN</th>\n",
       "      <th>96</th>\n",
       "      <td>35000</td>\n",
       "    </tr>\n",
       "    <tr>\n",
       "      <th>Biology &amp; Life Science</th>\n",
       "      <th>PHYSIOLOGY</th>\n",
       "      <th>102</th>\n",
       "      <td>35000</td>\n",
       "    </tr>\n",
       "    <tr>\n",
       "      <th>Education</th>\n",
       "      <th>MATHEMATICS TEACHER EDUCATION</th>\n",
       "      <th>120</th>\n",
       "      <td>34000</td>\n",
       "    </tr>\n",
       "    <tr>\n",
       "      <th>Health</th>\n",
       "      <th>COMMUNITY AND PUBLIC HEALTH</th>\n",
       "      <th>119</th>\n",
       "      <td>34000</td>\n",
       "    </tr>\n",
       "    <tr>\n",
       "      <th>Humanities &amp; Liberal Arts</th>\n",
       "      <th>HISTORY</th>\n",
       "      <th>115</th>\n",
       "      <td>34000</td>\n",
       "    </tr>\n",
       "    <tr>\n",
       "      <th>Education</th>\n",
       "      <th>EDUCATIONAL ADMINISTRATION AND SUPERVISION</th>\n",
       "      <th>121</th>\n",
       "      <td>34000</td>\n",
       "    </tr>\n",
       "    <tr>\n",
       "      <th>Humanities &amp; Liberal Arts</th>\n",
       "      <th>INTERCULTURAL AND INTERNATIONAL STUDIES</th>\n",
       "      <th>117</th>\n",
       "      <td>34000</td>\n",
       "    </tr>\n",
       "    <tr>\n",
       "      <th>Education</th>\n",
       "      <th>GENERAL EDUCATION</th>\n",
       "      <th>114</th>\n",
       "      <td>34000</td>\n",
       "    </tr>\n",
       "    <tr>\n",
       "      <th>Humanities &amp; Liberal Arts</th>\n",
       "      <th>FRENCH GERMAN LATIN AND OTHER COMMON FOREIGN LANGUAGE STUDIES</th>\n",
       "      <th>116</th>\n",
       "      <td>34000</td>\n",
       "    </tr>\n",
       "    <tr>\n",
       "      <th>Education</th>\n",
       "      <th>SOCIAL SCIENCE OR HISTORY TEACHER EDUCATION</th>\n",
       "      <th>118</th>\n",
       "      <td>34000</td>\n",
       "    </tr>\n",
       "    <tr>\n",
       "      <th>Biology &amp; Life Science</th>\n",
       "      <th>MISCELLANEOUS BIOLOGY</th>\n",
       "      <th>123</th>\n",
       "      <td>33500</td>\n",
       "    </tr>\n",
       "    <tr>\n",
       "      <th>Health</th>\n",
       "      <th>HEALTH AND MEDICAL PREPARATORY PROGRAMS</th>\n",
       "      <th>122</th>\n",
       "      <td>33500</td>\n",
       "    </tr>\n",
       "    <tr>\n",
       "      <th>Biology &amp; Life Science</th>\n",
       "      <th>BIOLOGY</th>\n",
       "      <th>124</th>\n",
       "      <td>33400</td>\n",
       "    </tr>\n",
       "    <tr>\n",
       "      <th>Social Science</th>\n",
       "      <th>INTERDISCIPLINARY SOCIAL SCIENCES</th>\n",
       "      <th>132</th>\n",
       "      <td>33000</td>\n",
       "    </tr>\n",
       "    <tr>\n",
       "      <th>Humanities &amp; Liberal Arts</th>\n",
       "      <th>LINGUISTICS AND COMPARATIVE LANGUAGE AND LITERATURE</th>\n",
       "      <th>130</th>\n",
       "      <td>33000</td>\n",
       "    </tr>\n",
       "    <tr>\n",
       "      <th>Education</th>\n",
       "      <th>MISCELLANEOUS EDUCATION</th>\n",
       "      <th>131</th>\n",
       "      <td>33000</td>\n",
       "    </tr>\n",
       "    <tr>\n",
       "      <th>Social Science</th>\n",
       "      <th>SOCIOLOGY</th>\n",
       "      <th>125</th>\n",
       "      <td>33000</td>\n",
       "    </tr>\n",
       "    <tr>\n",
       "      <th>Biology &amp; Life Science</th>\n",
       "      <th>ECOLOGY</th>\n",
       "      <th>133</th>\n",
       "      <td>33000</td>\n",
       "    </tr>\n",
       "    <tr>\n",
       "      <th>Health</th>\n",
       "      <th>TREATMENT THERAPY PROFESSIONS</th>\n",
       "      <th>127</th>\n",
       "      <td>33000</td>\n",
       "    </tr>\n",
       "    <tr>\n",
       "      <th>Communications &amp; Journalism</th>\n",
       "      <th>MASS MEDIA</th>\n",
       "      <th>126</th>\n",
       "      <td>33000</td>\n",
       "    </tr>\n",
       "    <tr>\n",
       "      <th>Business</th>\n",
       "      <th>HOSPITALITY MANAGEMENT</th>\n",
       "      <th>128</th>\n",
       "      <td>33000</td>\n",
       "    </tr>\n",
       "    <tr>\n",
       "      <th rowspan=\"2\" valign=\"top\">Education</th>\n",
       "      <th>LANGUAGE AND DRAMA EDUCATION</th>\n",
       "      <th>129</th>\n",
       "      <td>33000</td>\n",
       "    </tr>\n",
       "    <tr>\n",
       "      <th>SECONDARY TEACHER EDUCATION</th>\n",
       "      <th>134</th>\n",
       "      <td>32500</td>\n",
       "    </tr>\n",
       "    <tr>\n",
       "      <th>Health</th>\n",
       "      <th>GENERAL MEDICAL AND HEALTH SERVICES</th>\n",
       "      <th>135</th>\n",
       "      <td>32400</td>\n",
       "    </tr>\n",
       "    <tr>\n",
       "      <th>Humanities &amp; Liberal Arts</th>\n",
       "      <th>PHILOSOPHY AND RELIGIOUS STUDIES</th>\n",
       "      <th>136</th>\n",
       "      <td>32200</td>\n",
       "    </tr>\n",
       "    <tr>\n",
       "      <th>Education</th>\n",
       "      <th>ART AND MUSIC EDUCATION</th>\n",
       "      <th>137</th>\n",
       "      <td>32100</td>\n",
       "    </tr>\n",
       "    <tr>\n",
       "      <th>Social Science</th>\n",
       "      <th>GENERAL SOCIAL SCIENCES</th>\n",
       "      <th>143</th>\n",
       "      <td>32000</td>\n",
       "    </tr>\n",
       "    <tr>\n",
       "      <th>Education</th>\n",
       "      <th>SCIENCE AND COMPUTER TEACHER EDUCATION</th>\n",
       "      <th>145</th>\n",
       "      <td>32000</td>\n",
       "    </tr>\n",
       "    <tr>\n",
       "      <th>Industrial Arts &amp; Consumer Services</th>\n",
       "      <th>PHYSICAL FITNESS PARKS RECREATION AND LEISURE</th>\n",
       "      <th>140</th>\n",
       "      <td>32000</td>\n",
       "    </tr>\n",
       "    <tr>\n",
       "      <th>Agriculture &amp; Natural Resources</th>\n",
       "      <th>PLANT SCIENCE AND AGRONOMY</th>\n",
       "      <th>144</th>\n",
       "      <td>32000</td>\n",
       "    </tr>\n",
       "    <tr>\n",
       "      <th rowspan=\"2\" valign=\"top\">Humanities &amp; Liberal Arts</th>\n",
       "      <th>ENGLISH LANGUAGE AND LITERATURE</th>\n",
       "      <th>138</th>\n",
       "      <td>32000</td>\n",
       "    </tr>\n",
       "    <tr>\n",
       "      <th>LIBERAL ARTS</th>\n",
       "      <th>141</th>\n",
       "      <td>32000</td>\n",
       "    </tr>\n",
       "    <tr>\n",
       "      <th>Education</th>\n",
       "      <th>ELEMENTARY EDUCATION</th>\n",
       "      <th>139</th>\n",
       "      <td>32000</td>\n",
       "    </tr>\n",
       "    <tr>\n",
       "      <th>Arts</th>\n",
       "      <th>FILM VIDEO AND PHOTOGRAPHIC ARTS</th>\n",
       "      <th>142</th>\n",
       "      <td>32000</td>\n",
       "    </tr>\n",
       "    <tr>\n",
       "      <th>Psychology &amp; Social Work</th>\n",
       "      <th>PSYCHOLOGY</th>\n",
       "      <th>146</th>\n",
       "      <td>31500</td>\n",
       "    </tr>\n",
       "    <tr>\n",
       "      <th>Humanities &amp; Liberal Arts</th>\n",
       "      <th>ART HISTORY AND CRITICISM</th>\n",
       "      <th>149</th>\n",
       "      <td>31000</td>\n",
       "    </tr>\n",
       "    <tr>\n",
       "      <th>Education</th>\n",
       "      <th>PHYSICAL AND HEALTH EDUCATION TEACHING</th>\n",
       "      <th>148</th>\n",
       "      <td>31000</td>\n",
       "    </tr>\n",
       "    <tr>\n",
       "      <th rowspan=\"2\" valign=\"top\">Arts</th>\n",
       "      <th>MUSIC</th>\n",
       "      <th>147</th>\n",
       "      <td>31000</td>\n",
       "    </tr>\n",
       "    <tr>\n",
       "      <th>FINE ARTS</th>\n",
       "      <th>150</th>\n",
       "      <td>30500</td>\n",
       "    </tr>\n",
       "    <tr>\n",
       "      <th>Psychology &amp; Social Work</th>\n",
       "      <th>SOCIAL WORK</th>\n",
       "      <th>152</th>\n",
       "      <td>30000</td>\n",
       "    </tr>\n",
       "    <tr>\n",
       "      <th>Arts</th>\n",
       "      <th>VISUAL AND PERFORMING ARTS</th>\n",
       "      <th>154</th>\n",
       "      <td>30000</td>\n",
       "    </tr>\n",
       "    <tr>\n",
       "      <th>Humanities &amp; Liberal Arts</th>\n",
       "      <th>HUMANITIES</th>\n",
       "      <th>158</th>\n",
       "      <td>30000</td>\n",
       "    </tr>\n",
       "    <tr>\n",
       "      <th>Agriculture &amp; Natural Resources</th>\n",
       "      <th>ANIMAL SCIENCES</th>\n",
       "      <th>153</th>\n",
       "      <td>30000</td>\n",
       "    </tr>\n",
       "    <tr>\n",
       "      <th>Industrial Arts &amp; Consumer Services</th>\n",
       "      <th>FAMILY AND CONSUMER SCIENCES</th>\n",
       "      <th>151</th>\n",
       "      <td>30000</td>\n",
       "    </tr>\n",
       "    <tr>\n",
       "      <th>Education</th>\n",
       "      <th>TEACHER EDUCATION: MULTIPLE LEVELS</th>\n",
       "      <th>155</th>\n",
       "      <td>30000</td>\n",
       "    </tr>\n",
       "    <tr>\n",
       "      <th rowspan=\"2\" valign=\"top\">Psychology &amp; Social Work</th>\n",
       "      <th>HUMAN SERVICES AND COMMUNITY ORGANIZATION</th>\n",
       "      <th>157</th>\n",
       "      <td>30000</td>\n",
       "    </tr>\n",
       "    <tr>\n",
       "      <th>MISCELLANEOUS PSYCHOLOGY</th>\n",
       "      <th>156</th>\n",
       "      <td>30000</td>\n",
       "    </tr>\n",
       "    <tr>\n",
       "      <th>Arts</th>\n",
       "      <th>STUDIO ARTS</th>\n",
       "      <th>160</th>\n",
       "      <td>29000</td>\n",
       "    </tr>\n",
       "    <tr>\n",
       "      <th>Humanities &amp; Liberal Arts</th>\n",
       "      <th>THEOLOGY AND RELIGIOUS VOCATIONS</th>\n",
       "      <th>159</th>\n",
       "      <td>29000</td>\n",
       "    </tr>\n",
       "    <tr>\n",
       "      <th>Agriculture &amp; Natural Resources</th>\n",
       "      <th>MISCELLANEOUS AGRICULTURE</th>\n",
       "      <th>162</th>\n",
       "      <td>29000</td>\n",
       "    </tr>\n",
       "    <tr>\n",
       "      <th>Industrial Arts &amp; Consumer Services</th>\n",
       "      <th>COSMETOLOGY SERVICES AND CULINARY ARTS</th>\n",
       "      <th>161</th>\n",
       "      <td>29000</td>\n",
       "    </tr>\n",
       "    <tr>\n",
       "      <th>Health</th>\n",
       "      <th>COMMUNICATION DISORDERS SCIENCES AND SERVICES</th>\n",
       "      <th>164</th>\n",
       "      <td>28000</td>\n",
       "    </tr>\n",
       "    <tr>\n",
       "      <th>Education</th>\n",
       "      <th>EARLY CHILDHOOD EDUCATION</th>\n",
       "      <th>165</th>\n",
       "      <td>28000</td>\n",
       "    </tr>\n",
       "    <tr>\n",
       "      <th rowspan=\"3\" valign=\"top\">Humanities &amp; Liberal Arts</th>\n",
       "      <th>ANTHROPOLOGY AND ARCHEOLOGY</th>\n",
       "      <th>163</th>\n",
       "      <td>28000</td>\n",
       "    </tr>\n",
       "    <tr>\n",
       "      <th>OTHER FOREIGN LANGUAGES</th>\n",
       "      <th>166</th>\n",
       "      <td>27500</td>\n",
       "    </tr>\n",
       "    <tr>\n",
       "      <th>COMPOSITION AND RHETORIC</th>\n",
       "      <th>168</th>\n",
       "      <td>27000</td>\n",
       "    </tr>\n",
       "    <tr>\n",
       "      <th>Arts</th>\n",
       "      <th>DRAMA AND THEATER ARTS</th>\n",
       "      <th>167</th>\n",
       "      <td>27000</td>\n",
       "    </tr>\n",
       "    <tr>\n",
       "      <th>Biology &amp; Life Science</th>\n",
       "      <th>ZOOLOGY</th>\n",
       "      <th>169</th>\n",
       "      <td>26000</td>\n",
       "    </tr>\n",
       "    <tr>\n",
       "      <th rowspan=\"3\" valign=\"top\">Psychology &amp; Social Work</th>\n",
       "      <th>EDUCATIONAL PSYCHOLOGY</th>\n",
       "      <th>170</th>\n",
       "      <td>25000</td>\n",
       "    </tr>\n",
       "    <tr>\n",
       "      <th>CLINICAL PSYCHOLOGY</th>\n",
       "      <th>171</th>\n",
       "      <td>25000</td>\n",
       "    </tr>\n",
       "    <tr>\n",
       "      <th>COUNSELING PSYCHOLOGY</th>\n",
       "      <th>172</th>\n",
       "      <td>23400</td>\n",
       "    </tr>\n",
       "    <tr>\n",
       "      <th>Education</th>\n",
       "      <th>LIBRARY SCIENCE</th>\n",
       "      <th>173</th>\n",
       "      <td>22000</td>\n",
       "    </tr>\n",
       "  </tbody>\n",
       "</table>\n",
       "</div>"
      ],
      "text/plain": [
       "                                                                                             Median\n",
       "Major_category                      Major                                              Rank        \n",
       "Engineering                         PETROLEUM ENGINEERING                              1     110000\n",
       "                                    MINING AND MINERAL ENGINEERING                     2      75000\n",
       "                                    METALLURGICAL ENGINEERING                          3      73000\n",
       "                                    NAVAL ARCHITECTURE AND MARINE ENGINEERING          4      70000\n",
       "                                    CHEMICAL ENGINEERING                               5      65000\n",
       "                                    NUCLEAR ENGINEERING                                6      65000\n",
       "Business                            ACTUARIAL SCIENCE                                  7      62000\n",
       "Physical Sciences                   ASTRONOMY AND ASTROPHYSICS                         8      62000\n",
       "Engineering                         AEROSPACE ENGINEERING                              12     60000\n",
       "                                    BIOMEDICAL ENGINEERING                             13     60000\n",
       "                                    COMPUTER ENGINEERING                               11     60000\n",
       "                                    ELECTRICAL ENGINEERING                             10     60000\n",
       "                                    MATERIALS SCIENCE                                  14     60000\n",
       "                                    MECHANICAL ENGINEERING                             9      60000\n",
       "                                    ENGINEERING MECHANICS PHYSICS AND SCIENCE          15     58000\n",
       "                                    BIOLOGICAL ENGINEERING                             16     57100\n",
       "                                    INDUSTRIAL AND MANUFACTURING ENGINEERING           17     57000\n",
       "                                    GENERAL ENGINEERING                                18     56000\n",
       "                                    ARCHITECTURAL ENGINEERING                          19     54000\n",
       "Law & Public Policy                 COURT REPORTING                                    20     54000\n",
       "Computers & Mathematics             COMPUTER SCIENCE                                   21     53000\n",
       "Engineering                         MATERIALS ENGINEERING AND MATERIALS SCIENCE        24     52000\n",
       "                                    ELECTRICAL ENGINEERING TECHNOLOGY                  23     52000\n",
       "Business                            MANAGEMENT INFORMATION SYSTEMS AND STATISTICS      25     51000\n",
       "Engineering                         CIVIL ENGINEERING                                  26     50000\n",
       "                                    ENGINEERING TECHNOLOGIES                           32     50000\n",
       "                                    ENVIRONMENTAL ENGINEERING                          31     50000\n",
       "Business                            OPERATIONS LOGISTICS AND E-COMMERCE                28     50000\n",
       "Engineering                         GEOLOGICAL AND GEOPHYSICAL ENGINEERING             34     50000\n",
       "Industrial Arts & Consumer Services CONSTRUCTION SERVICES                              27     50000\n",
       "Law & Public Policy                 PUBLIC POLICY                                      30     50000\n",
       "Engineering                         MISCELLANEOUS ENGINEERING                          29     50000\n",
       "Arts                                MISCELLANEOUS FINE ARTS                            33     50000\n",
       "Health                              NURSING                                            35     48000\n",
       "Business                            FINANCE                                            36     47000\n",
       "Social Science                      ECONOMICS                                          37     47000\n",
       "Business                            BUSINESS ECONOMICS                                 38     46000\n",
       "Physical Sciences                   NUCLEAR, INDUSTRIAL RADIOLOGY, AND BIOLOGICAL T... 40     46000\n",
       "Engineering                         INDUSTRIAL PRODUCTION TECHNOLOGIES                 39     46000\n",
       "Business                            ACCOUNTING                                         41     45000\n",
       "Health                              MEDICAL TECHNOLOGIES TECHNICIANS                   45     45000\n",
       "Computers & Mathematics             STATISTICS AND DECISION SCIENCE                    47     45000\n",
       "                                    MATHEMATICS                                        42     45000\n",
       "                                    INFORMATION SCIENCES                               46     45000\n",
       "                                    COMPUTER AND INFORMATION SYSTEMS                   43     45000\n",
       "                                    APPLIED MATHEMATICS                                48     45000\n",
       "Physical Sciences                   PHYSICS                                            44     45000\n",
       "Biology & Life Science              PHARMACOLOGY                                       49     45000\n",
       "Physical Sciences                   OCEANOGRAPHY                                       50     44700\n",
       "Engineering                         ENGINEERING AND INDUSTRIAL MANAGEMENT              51     44000\n",
       "Health                              MEDICAL ASSISTING SERVICES                         52     42000\n",
       "Computers & Mathematics             MATHEMATICS AND COMPUTER SCIENCE                   53     42000\n",
       "                                    COMPUTER PROGRAMMING AND DATA PROCESSING           54     41300\n",
       "Education                           SCHOOL STUDENT COUNSELING                          56     41000\n",
       "Biology & Life Science              COGNITIVE SCIENCE AND BIOPSYCHOLOGY                55     41000\n",
       "Social Science                      INTERNATIONAL RELATIONS                            57     40100\n",
       "Health                              PHARMACY PHARMACEUTICAL SCIENCES AND ADMINISTRA... 61     40000\n",
       "Engineering                         ARCHITECTURE                                       59     40000\n",
       "Social Science                      MISCELLANEOUS SOCIAL SCIENCES                      69     40000\n",
       "Agriculture & Natural Resources     AGRICULTURE PRODUCTION AND MANAGEMENT              64     40000\n",
       "Physical Sciences                   PHYSICAL SCIENCES                                  73     40000\n",
       "Humanities & Liberal Arts           UNITED STATES HISTORY                              70     40000\n",
       "Engineering                         MISCELLANEOUS ENGINEERING TECHNOLOGIES             66     40000\n",
       "Psychology & Social Work            INDUSTRIAL AND ORGANIZATIONAL PSYCHOLOGY           71     40000\n",
       "Industrial Arts & Consumer Services MILITARY TECHNOLOGIES                              74     40000\n",
       "Engineering                         MECHANICAL ENGINEERING RELATED TECHNOLOGIES        67     40000\n",
       "Agriculture & Natural Resources     AGRICULTURAL ECONOMICS                             72     40000\n",
       "Biology & Life Science              MOLECULAR BIOLOGY                                  62     40000\n",
       "                                    GENETICS                                           68     40000\n",
       "Business                            GENERAL BUSINESS                                   58     40000\n",
       "                                    INTERNATIONAL BUSINESS                             60     40000\n",
       "                                    MISCELLANEOUS BUSINESS & MEDICAL ADMINISTRATION    63     40000\n",
       "Agriculture & Natural Resources     GENERAL AGRICULTURE                                65     40000\n",
       "Physical Sciences                   CHEMISTRY                                          75     39000\n",
       "Industrial Arts & Consumer Services ELECTRICAL, MECHANICAL, AND PRECISION TECHNOLOG... 76     38400\n",
       "Business                            BUSINESS MANAGEMENT AND ADMINISTRATION             77     38000\n",
       "                                    MARKETING AND MARKETING RESEARCH                   78     38000\n",
       "Biology & Life Science              MICROBIOLOGY                                       81     38000\n",
       "Social Science                      POLITICAL SCIENCE AND GOVERNMENT                   79     38000\n",
       "                                    GEOGRAPHY                                          80     38000\n",
       "Computers & Mathematics             COMPUTER ADMINISTRATION MANAGEMENT AND SECURITY    82     37500\n",
       "Biology & Life Science              BIOCHEMICAL SCIENCES                               83     37400\n",
       "                                    BOTANY                                             84     37000\n",
       "Computers & Mathematics             COMPUTER NETWORKING AND TELECOMMUNICATIONS         85     36400\n",
       "Physical Sciences                   GEOLOGY AND EARTH SCIENCE                          86     36200\n",
       "Health                              MISCELLANEOUS HEALTH MEDICAL PROFESSIONS           89     36000\n",
       "Law & Public Policy                 PUBLIC ADMINISTRATION                              90     36000\n",
       "                                    PRE-LAW AND LEGAL STUDIES                          88     36000\n",
       "Business                            HUMAN RESOURCES AND PERSONNEL MANAGEMENT           87     36000\n",
       "Physical Sciences                   GEOSCIENCES                                        91     36000\n",
       "Psychology & Social Work            SOCIAL PSYCHOLOGY                                  92     36000\n",
       "Biology & Life Science              ENVIRONMENTAL SCIENCE                              93     35600\n",
       "Health                              HEALTH AND MEDICAL ADMINISTRATIVE SERVICES         105    35000\n",
       "                                    NUTRITION SCIENCES                                 104    35000\n",
       "Humanities & Liberal Arts           AREA ETHNIC AND CIVILIZATION STUDIES               100    35000\n",
       "Law & Public Policy                 CRIMINAL JUSTICE AND FIRE PROTECTION               95     35000\n",
       "Interdisciplinary                   MULTI/INTERDISCIPLINARY STUDIES                    110    35000\n",
       "Industrial Arts & Consumer Services TRANSPORTATION SCIENCES AND TECHNOLOGIES           107    35000\n",
       "Physical Sciences                   ATMOSPHERIC SCIENCES AND METEOROLOGY               111    35000\n",
       "                                    MULTI-DISCIPLINARY OR GENERAL SCIENCE              98     35000\n",
       "Agriculture & Natural Resources     NATURAL RESOURCES MANAGEMENT                       108    35000\n",
       "Communications & Journalism         JOURNALISM                                         97     35000\n",
       "Education                           SPECIAL NEEDS EDUCATION                            101    35000\n",
       "Social Science                      CRIMINOLOGY                                        103    35000\n",
       "Biology & Life Science              NEUROSCIENCE                                       109    35000\n",
       "Computers & Mathematics             COMMUNICATION TECHNOLOGIES                         106    35000\n",
       "Agriculture & Natural Resources     FORESTRY                                           112    35000\n",
       "                                    SOIL SCIENCE                                       113    35000\n",
       "Communications & Journalism         COMMUNICATIONS                                     94     35000\n",
       "                                    ADVERTISING AND PUBLIC RELATIONS                   99     35000\n",
       "Arts                                COMMERCIAL ART AND GRAPHIC DESIGN                  96     35000\n",
       "Biology & Life Science              PHYSIOLOGY                                         102    35000\n",
       "Education                           MATHEMATICS TEACHER EDUCATION                      120    34000\n",
       "Health                              COMMUNITY AND PUBLIC HEALTH                        119    34000\n",
       "Humanities & Liberal Arts           HISTORY                                            115    34000\n",
       "Education                           EDUCATIONAL ADMINISTRATION AND SUPERVISION         121    34000\n",
       "Humanities & Liberal Arts           INTERCULTURAL AND INTERNATIONAL STUDIES            117    34000\n",
       "Education                           GENERAL EDUCATION                                  114    34000\n",
       "Humanities & Liberal Arts           FRENCH GERMAN LATIN AND OTHER COMMON FOREIGN LA... 116    34000\n",
       "Education                           SOCIAL SCIENCE OR HISTORY TEACHER EDUCATION        118    34000\n",
       "Biology & Life Science              MISCELLANEOUS BIOLOGY                              123    33500\n",
       "Health                              HEALTH AND MEDICAL PREPARATORY PROGRAMS            122    33500\n",
       "Biology & Life Science              BIOLOGY                                            124    33400\n",
       "Social Science                      INTERDISCIPLINARY SOCIAL SCIENCES                  132    33000\n",
       "Humanities & Liberal Arts           LINGUISTICS AND COMPARATIVE LANGUAGE AND LITERA... 130    33000\n",
       "Education                           MISCELLANEOUS EDUCATION                            131    33000\n",
       "Social Science                      SOCIOLOGY                                          125    33000\n",
       "Biology & Life Science              ECOLOGY                                            133    33000\n",
       "Health                              TREATMENT THERAPY PROFESSIONS                      127    33000\n",
       "Communications & Journalism         MASS MEDIA                                         126    33000\n",
       "Business                            HOSPITALITY MANAGEMENT                             128    33000\n",
       "Education                           LANGUAGE AND DRAMA EDUCATION                       129    33000\n",
       "                                    SECONDARY TEACHER EDUCATION                        134    32500\n",
       "Health                              GENERAL MEDICAL AND HEALTH SERVICES                135    32400\n",
       "Humanities & Liberal Arts           PHILOSOPHY AND RELIGIOUS STUDIES                   136    32200\n",
       "Education                           ART AND MUSIC EDUCATION                            137    32100\n",
       "Social Science                      GENERAL SOCIAL SCIENCES                            143    32000\n",
       "Education                           SCIENCE AND COMPUTER TEACHER EDUCATION             145    32000\n",
       "Industrial Arts & Consumer Services PHYSICAL FITNESS PARKS RECREATION AND LEISURE      140    32000\n",
       "Agriculture & Natural Resources     PLANT SCIENCE AND AGRONOMY                         144    32000\n",
       "Humanities & Liberal Arts           ENGLISH LANGUAGE AND LITERATURE                    138    32000\n",
       "                                    LIBERAL ARTS                                       141    32000\n",
       "Education                           ELEMENTARY EDUCATION                               139    32000\n",
       "Arts                                FILM VIDEO AND PHOTOGRAPHIC ARTS                   142    32000\n",
       "Psychology & Social Work            PSYCHOLOGY                                         146    31500\n",
       "Humanities & Liberal Arts           ART HISTORY AND CRITICISM                          149    31000\n",
       "Education                           PHYSICAL AND HEALTH EDUCATION TEACHING             148    31000\n",
       "Arts                                MUSIC                                              147    31000\n",
       "                                    FINE ARTS                                          150    30500\n",
       "Psychology & Social Work            SOCIAL WORK                                        152    30000\n",
       "Arts                                VISUAL AND PERFORMING ARTS                         154    30000\n",
       "Humanities & Liberal Arts           HUMANITIES                                         158    30000\n",
       "Agriculture & Natural Resources     ANIMAL SCIENCES                                    153    30000\n",
       "Industrial Arts & Consumer Services FAMILY AND CONSUMER SCIENCES                       151    30000\n",
       "Education                           TEACHER EDUCATION: MULTIPLE LEVELS                 155    30000\n",
       "Psychology & Social Work            HUMAN SERVICES AND COMMUNITY ORGANIZATION          157    30000\n",
       "                                    MISCELLANEOUS PSYCHOLOGY                           156    30000\n",
       "Arts                                STUDIO ARTS                                        160    29000\n",
       "Humanities & Liberal Arts           THEOLOGY AND RELIGIOUS VOCATIONS                   159    29000\n",
       "Agriculture & Natural Resources     MISCELLANEOUS AGRICULTURE                          162    29000\n",
       "Industrial Arts & Consumer Services COSMETOLOGY SERVICES AND CULINARY ARTS             161    29000\n",
       "Health                              COMMUNICATION DISORDERS SCIENCES AND SERVICES      164    28000\n",
       "Education                           EARLY CHILDHOOD EDUCATION                          165    28000\n",
       "Humanities & Liberal Arts           ANTHROPOLOGY AND ARCHEOLOGY                        163    28000\n",
       "                                    OTHER FOREIGN LANGUAGES                            166    27500\n",
       "                                    COMPOSITION AND RHETORIC                           168    27000\n",
       "Arts                                DRAMA AND THEATER ARTS                             167    27000\n",
       "Biology & Life Science              ZOOLOGY                                            169    26000\n",
       "Psychology & Social Work            EDUCATIONAL PSYCHOLOGY                             170    25000\n",
       "                                    CLINICAL PSYCHOLOGY                                171    25000\n",
       "                                    COUNSELING PSYCHOLOGY                              172    23400\n",
       "Education                           LIBRARY SCIENCE                                    173    22000"
      ]
     },
     "execution_count": 67,
     "metadata": {},
     "output_type": "execute_result"
    }
   ],
   "source": [
    "a = recent_grads.groupby(['Major_category','Major','Rank'])[['Median']].max().sort_values(by='Median', ascending=False)\n",
    "a"
   ]
  },
  {
   "cell_type": "code",
   "execution_count": 66,
   "id": "16b43d0c",
   "metadata": {
    "collapsed": true
   },
   "outputs": [
    {
     "data": {
      "text/html": [
       "<div>\n",
       "<style scoped>\n",
       "    .dataframe tbody tr th:only-of-type {\n",
       "        vertical-align: middle;\n",
       "    }\n",
       "\n",
       "    .dataframe tbody tr th {\n",
       "        vertical-align: top;\n",
       "    }\n",
       "\n",
       "    .dataframe thead th {\n",
       "        text-align: right;\n",
       "    }\n",
       "</style>\n",
       "<table border=\"1\" class=\"dataframe\">\n",
       "  <thead>\n",
       "    <tr style=\"text-align: right;\">\n",
       "      <th></th>\n",
       "      <th>level_0</th>\n",
       "      <th>index</th>\n",
       "      <th>Major_category</th>\n",
       "      <th>Major</th>\n",
       "      <th>Rank</th>\n",
       "      <th>Median</th>\n",
       "    </tr>\n",
       "  </thead>\n",
       "  <tbody>\n",
       "    <tr>\n",
       "      <th>0</th>\n",
       "      <td>0</td>\n",
       "      <td>0</td>\n",
       "      <td>Engineering</td>\n",
       "      <td>PETROLEUM ENGINEERING</td>\n",
       "      <td>1</td>\n",
       "      <td>110000</td>\n",
       "    </tr>\n",
       "    <tr>\n",
       "      <th>1</th>\n",
       "      <td>1</td>\n",
       "      <td>1</td>\n",
       "      <td>Engineering</td>\n",
       "      <td>MINING AND MINERAL ENGINEERING</td>\n",
       "      <td>2</td>\n",
       "      <td>75000</td>\n",
       "    </tr>\n",
       "    <tr>\n",
       "      <th>2</th>\n",
       "      <td>2</td>\n",
       "      <td>2</td>\n",
       "      <td>Engineering</td>\n",
       "      <td>METALLURGICAL ENGINEERING</td>\n",
       "      <td>3</td>\n",
       "      <td>73000</td>\n",
       "    </tr>\n",
       "    <tr>\n",
       "      <th>3</th>\n",
       "      <td>3</td>\n",
       "      <td>3</td>\n",
       "      <td>Engineering</td>\n",
       "      <td>NAVAL ARCHITECTURE AND MARINE ENGINEERING</td>\n",
       "      <td>4</td>\n",
       "      <td>70000</td>\n",
       "    </tr>\n",
       "    <tr>\n",
       "      <th>4</th>\n",
       "      <td>4</td>\n",
       "      <td>4</td>\n",
       "      <td>Engineering</td>\n",
       "      <td>CHEMICAL ENGINEERING</td>\n",
       "      <td>5</td>\n",
       "      <td>65000</td>\n",
       "    </tr>\n",
       "    <tr>\n",
       "      <th>5</th>\n",
       "      <td>5</td>\n",
       "      <td>5</td>\n",
       "      <td>Engineering</td>\n",
       "      <td>NUCLEAR ENGINEERING</td>\n",
       "      <td>6</td>\n",
       "      <td>65000</td>\n",
       "    </tr>\n",
       "    <tr>\n",
       "      <th>6</th>\n",
       "      <td>6</td>\n",
       "      <td>6</td>\n",
       "      <td>Business</td>\n",
       "      <td>ACTUARIAL SCIENCE</td>\n",
       "      <td>7</td>\n",
       "      <td>62000</td>\n",
       "    </tr>\n",
       "    <tr>\n",
       "      <th>7</th>\n",
       "      <td>7</td>\n",
       "      <td>7</td>\n",
       "      <td>Physical Sciences</td>\n",
       "      <td>ASTRONOMY AND ASTROPHYSICS</td>\n",
       "      <td>8</td>\n",
       "      <td>62000</td>\n",
       "    </tr>\n",
       "    <tr>\n",
       "      <th>8</th>\n",
       "      <td>8</td>\n",
       "      <td>8</td>\n",
       "      <td>Engineering</td>\n",
       "      <td>AEROSPACE ENGINEERING</td>\n",
       "      <td>12</td>\n",
       "      <td>60000</td>\n",
       "    </tr>\n",
       "    <tr>\n",
       "      <th>9</th>\n",
       "      <td>9</td>\n",
       "      <td>9</td>\n",
       "      <td>Engineering</td>\n",
       "      <td>BIOMEDICAL ENGINEERING</td>\n",
       "      <td>13</td>\n",
       "      <td>60000</td>\n",
       "    </tr>\n",
       "    <tr>\n",
       "      <th>10</th>\n",
       "      <td>10</td>\n",
       "      <td>10</td>\n",
       "      <td>Engineering</td>\n",
       "      <td>COMPUTER ENGINEERING</td>\n",
       "      <td>11</td>\n",
       "      <td>60000</td>\n",
       "    </tr>\n",
       "    <tr>\n",
       "      <th>11</th>\n",
       "      <td>11</td>\n",
       "      <td>11</td>\n",
       "      <td>Engineering</td>\n",
       "      <td>ELECTRICAL ENGINEERING</td>\n",
       "      <td>10</td>\n",
       "      <td>60000</td>\n",
       "    </tr>\n",
       "    <tr>\n",
       "      <th>12</th>\n",
       "      <td>12</td>\n",
       "      <td>12</td>\n",
       "      <td>Engineering</td>\n",
       "      <td>MATERIALS SCIENCE</td>\n",
       "      <td>14</td>\n",
       "      <td>60000</td>\n",
       "    </tr>\n",
       "    <tr>\n",
       "      <th>13</th>\n",
       "      <td>13</td>\n",
       "      <td>13</td>\n",
       "      <td>Engineering</td>\n",
       "      <td>MECHANICAL ENGINEERING</td>\n",
       "      <td>9</td>\n",
       "      <td>60000</td>\n",
       "    </tr>\n",
       "    <tr>\n",
       "      <th>14</th>\n",
       "      <td>14</td>\n",
       "      <td>14</td>\n",
       "      <td>Engineering</td>\n",
       "      <td>ENGINEERING MECHANICS PHYSICS AND SCIENCE</td>\n",
       "      <td>15</td>\n",
       "      <td>58000</td>\n",
       "    </tr>\n",
       "    <tr>\n",
       "      <th>15</th>\n",
       "      <td>15</td>\n",
       "      <td>15</td>\n",
       "      <td>Engineering</td>\n",
       "      <td>BIOLOGICAL ENGINEERING</td>\n",
       "      <td>16</td>\n",
       "      <td>57100</td>\n",
       "    </tr>\n",
       "    <tr>\n",
       "      <th>16</th>\n",
       "      <td>16</td>\n",
       "      <td>16</td>\n",
       "      <td>Engineering</td>\n",
       "      <td>INDUSTRIAL AND MANUFACTURING ENGINEERING</td>\n",
       "      <td>17</td>\n",
       "      <td>57000</td>\n",
       "    </tr>\n",
       "    <tr>\n",
       "      <th>17</th>\n",
       "      <td>17</td>\n",
       "      <td>17</td>\n",
       "      <td>Engineering</td>\n",
       "      <td>GENERAL ENGINEERING</td>\n",
       "      <td>18</td>\n",
       "      <td>56000</td>\n",
       "    </tr>\n",
       "    <tr>\n",
       "      <th>18</th>\n",
       "      <td>18</td>\n",
       "      <td>18</td>\n",
       "      <td>Engineering</td>\n",
       "      <td>ARCHITECTURAL ENGINEERING</td>\n",
       "      <td>19</td>\n",
       "      <td>54000</td>\n",
       "    </tr>\n",
       "    <tr>\n",
       "      <th>19</th>\n",
       "      <td>19</td>\n",
       "      <td>19</td>\n",
       "      <td>Law &amp; Public Policy</td>\n",
       "      <td>COURT REPORTING</td>\n",
       "      <td>20</td>\n",
       "      <td>54000</td>\n",
       "    </tr>\n",
       "  </tbody>\n",
       "</table>\n",
       "</div>"
      ],
      "text/plain": [
       "    level_0  index       Major_category                                      Major  Rank  Median\n",
       "0         0      0          Engineering                      PETROLEUM ENGINEERING     1  110000\n",
       "1         1      1          Engineering             MINING AND MINERAL ENGINEERING     2   75000\n",
       "2         2      2          Engineering                  METALLURGICAL ENGINEERING     3   73000\n",
       "3         3      3          Engineering  NAVAL ARCHITECTURE AND MARINE ENGINEERING     4   70000\n",
       "4         4      4          Engineering                       CHEMICAL ENGINEERING     5   65000\n",
       "5         5      5          Engineering                        NUCLEAR ENGINEERING     6   65000\n",
       "6         6      6             Business                          ACTUARIAL SCIENCE     7   62000\n",
       "7         7      7    Physical Sciences                 ASTRONOMY AND ASTROPHYSICS     8   62000\n",
       "8         8      8          Engineering                      AEROSPACE ENGINEERING    12   60000\n",
       "9         9      9          Engineering                     BIOMEDICAL ENGINEERING    13   60000\n",
       "10       10     10          Engineering                       COMPUTER ENGINEERING    11   60000\n",
       "11       11     11          Engineering                     ELECTRICAL ENGINEERING    10   60000\n",
       "12       12     12          Engineering                          MATERIALS SCIENCE    14   60000\n",
       "13       13     13          Engineering                     MECHANICAL ENGINEERING     9   60000\n",
       "14       14     14          Engineering  ENGINEERING MECHANICS PHYSICS AND SCIENCE    15   58000\n",
       "15       15     15          Engineering                     BIOLOGICAL ENGINEERING    16   57100\n",
       "16       16     16          Engineering   INDUSTRIAL AND MANUFACTURING ENGINEERING    17   57000\n",
       "17       17     17          Engineering                        GENERAL ENGINEERING    18   56000\n",
       "18       18     18          Engineering                  ARCHITECTURAL ENGINEERING    19   54000\n",
       "19       19     19  Law & Public Policy                            COURT REPORTING    20   54000"
      ]
     },
     "execution_count": 66,
     "metadata": {},
     "output_type": "execute_result"
    }
   ],
   "source": [
    "a = a.reset_index(drop=False)\n",
    "a.head(20)"
   ]
  },
  {
   "cell_type": "markdown",
   "id": "1d2de158",
   "metadata": {},
   "source": [
    "- **Here we can see that students in popular major makes more money.**"
   ]
  },
  {
   "cell_type": "markdown",
   "id": "179cddec",
   "metadata": {},
   "source": [
    "#### Do students that majored in subjects that were majority female make more money?"
   ]
  },
  {
   "cell_type": "code",
   "execution_count": 70,
   "id": "e259776a",
   "metadata": {},
   "outputs": [
    {
     "data": {
      "text/html": [
       "<div>\n",
       "<style scoped>\n",
       "    .dataframe tbody tr th:only-of-type {\n",
       "        vertical-align: middle;\n",
       "    }\n",
       "\n",
       "    .dataframe tbody tr th {\n",
       "        vertical-align: top;\n",
       "    }\n",
       "\n",
       "    .dataframe thead th {\n",
       "        text-align: right;\n",
       "    }\n",
       "</style>\n",
       "<table border=\"1\" class=\"dataframe\">\n",
       "  <thead>\n",
       "    <tr style=\"text-align: right;\">\n",
       "      <th></th>\n",
       "      <th>Rank</th>\n",
       "      <th>Major</th>\n",
       "      <th>Total</th>\n",
       "      <th>Men</th>\n",
       "      <th>Women</th>\n",
       "      <th>Major_category</th>\n",
       "      <th>Median</th>\n",
       "    </tr>\n",
       "  </thead>\n",
       "  <tbody>\n",
       "    <tr>\n",
       "      <th>0</th>\n",
       "      <td>1</td>\n",
       "      <td>PETROLEUM ENGINEERING</td>\n",
       "      <td>2339.0</td>\n",
       "      <td>2057.0</td>\n",
       "      <td>282.0</td>\n",
       "      <td>Engineering</td>\n",
       "      <td>110000</td>\n",
       "    </tr>\n",
       "    <tr>\n",
       "      <th>1</th>\n",
       "      <td>2</td>\n",
       "      <td>MINING AND MINERAL ENGINEERING</td>\n",
       "      <td>756.0</td>\n",
       "      <td>679.0</td>\n",
       "      <td>77.0</td>\n",
       "      <td>Engineering</td>\n",
       "      <td>75000</td>\n",
       "    </tr>\n",
       "    <tr>\n",
       "      <th>2</th>\n",
       "      <td>3</td>\n",
       "      <td>METALLURGICAL ENGINEERING</td>\n",
       "      <td>856.0</td>\n",
       "      <td>725.0</td>\n",
       "      <td>131.0</td>\n",
       "      <td>Engineering</td>\n",
       "      <td>73000</td>\n",
       "    </tr>\n",
       "    <tr>\n",
       "      <th>3</th>\n",
       "      <td>4</td>\n",
       "      <td>NAVAL ARCHITECTURE AND MARINE ENGINEERING</td>\n",
       "      <td>1258.0</td>\n",
       "      <td>1123.0</td>\n",
       "      <td>135.0</td>\n",
       "      <td>Engineering</td>\n",
       "      <td>70000</td>\n",
       "    </tr>\n",
       "    <tr>\n",
       "      <th>4</th>\n",
       "      <td>5</td>\n",
       "      <td>CHEMICAL ENGINEERING</td>\n",
       "      <td>32260.0</td>\n",
       "      <td>21239.0</td>\n",
       "      <td>11021.0</td>\n",
       "      <td>Engineering</td>\n",
       "      <td>65000</td>\n",
       "    </tr>\n",
       "    <tr>\n",
       "      <th>5</th>\n",
       "      <td>6</td>\n",
       "      <td>NUCLEAR ENGINEERING</td>\n",
       "      <td>2573.0</td>\n",
       "      <td>2200.0</td>\n",
       "      <td>373.0</td>\n",
       "      <td>Engineering</td>\n",
       "      <td>65000</td>\n",
       "    </tr>\n",
       "    <tr>\n",
       "      <th>6</th>\n",
       "      <td>7</td>\n",
       "      <td>ACTUARIAL SCIENCE</td>\n",
       "      <td>3777.0</td>\n",
       "      <td>2110.0</td>\n",
       "      <td>1667.0</td>\n",
       "      <td>Business</td>\n",
       "      <td>62000</td>\n",
       "    </tr>\n",
       "    <tr>\n",
       "      <th>7</th>\n",
       "      <td>8</td>\n",
       "      <td>ASTRONOMY AND ASTROPHYSICS</td>\n",
       "      <td>1792.0</td>\n",
       "      <td>832.0</td>\n",
       "      <td>960.0</td>\n",
       "      <td>Physical Sciences</td>\n",
       "      <td>62000</td>\n",
       "    </tr>\n",
       "    <tr>\n",
       "      <th>8</th>\n",
       "      <td>9</td>\n",
       "      <td>MECHANICAL ENGINEERING</td>\n",
       "      <td>91227.0</td>\n",
       "      <td>80320.0</td>\n",
       "      <td>10907.0</td>\n",
       "      <td>Engineering</td>\n",
       "      <td>60000</td>\n",
       "    </tr>\n",
       "    <tr>\n",
       "      <th>9</th>\n",
       "      <td>10</td>\n",
       "      <td>ELECTRICAL ENGINEERING</td>\n",
       "      <td>81527.0</td>\n",
       "      <td>65511.0</td>\n",
       "      <td>16016.0</td>\n",
       "      <td>Engineering</td>\n",
       "      <td>60000</td>\n",
       "    </tr>\n",
       "  </tbody>\n",
       "</table>\n",
       "</div>"
      ],
      "text/plain": [
       "   Rank                                      Major    Total      Men    Women     Major_category  Median\n",
       "0     1                      PETROLEUM ENGINEERING   2339.0   2057.0    282.0        Engineering  110000\n",
       "1     2             MINING AND MINERAL ENGINEERING    756.0    679.0     77.0        Engineering   75000\n",
       "2     3                  METALLURGICAL ENGINEERING    856.0    725.0    131.0        Engineering   73000\n",
       "3     4  NAVAL ARCHITECTURE AND MARINE ENGINEERING   1258.0   1123.0    135.0        Engineering   70000\n",
       "4     5                       CHEMICAL ENGINEERING  32260.0  21239.0  11021.0        Engineering   65000\n",
       "5     6                        NUCLEAR ENGINEERING   2573.0   2200.0    373.0        Engineering   65000\n",
       "6     7                          ACTUARIAL SCIENCE   3777.0   2110.0   1667.0           Business   62000\n",
       "7     8                 ASTRONOMY AND ASTROPHYSICS   1792.0    832.0    960.0  Physical Sciences   62000\n",
       "8     9                     MECHANICAL ENGINEERING  91227.0  80320.0  10907.0        Engineering   60000\n",
       "9    10                     ELECTRICAL ENGINEERING  81527.0  65511.0  16016.0        Engineering   60000"
      ]
     },
     "execution_count": 70,
     "metadata": {},
     "output_type": "execute_result"
    }
   ],
   "source": [
    "new_recent_grads = recent_grads[['Rank','Major','Total','Men','Women','Major_category','Median']]\n",
    "new_recent_grads.head(10)"
   ]
  },
  {
   "cell_type": "code",
   "execution_count": 77,
   "id": "8197b1b7",
   "metadata": {},
   "outputs": [
    {
     "data": {
      "text/html": [
       "<div>\n",
       "<style scoped>\n",
       "    .dataframe tbody tr th:only-of-type {\n",
       "        vertical-align: middle;\n",
       "    }\n",
       "\n",
       "    .dataframe tbody tr th {\n",
       "        vertical-align: top;\n",
       "    }\n",
       "\n",
       "    .dataframe thead th {\n",
       "        text-align: right;\n",
       "    }\n",
       "</style>\n",
       "<table border=\"1\" class=\"dataframe\">\n",
       "  <thead>\n",
       "    <tr style=\"text-align: right;\">\n",
       "      <th></th>\n",
       "      <th>Rank</th>\n",
       "      <th>Major</th>\n",
       "      <th>Total</th>\n",
       "      <th>Men</th>\n",
       "      <th>Women</th>\n",
       "      <th>Major_category</th>\n",
       "      <th>Median</th>\n",
       "      <th>Men_Percentage</th>\n",
       "      <th>Women_Percentage</th>\n",
       "    </tr>\n",
       "  </thead>\n",
       "  <tbody>\n",
       "    <tr>\n",
       "      <th>0</th>\n",
       "      <td>1</td>\n",
       "      <td>PETROLEUM ENGINEERING</td>\n",
       "      <td>2339.0</td>\n",
       "      <td>2057.0</td>\n",
       "      <td>282.0</td>\n",
       "      <td>Engineering</td>\n",
       "      <td>110000</td>\n",
       "      <td>87.943566</td>\n",
       "      <td>12.056434</td>\n",
       "    </tr>\n",
       "    <tr>\n",
       "      <th>1</th>\n",
       "      <td>2</td>\n",
       "      <td>MINING AND MINERAL ENGINEERING</td>\n",
       "      <td>756.0</td>\n",
       "      <td>679.0</td>\n",
       "      <td>77.0</td>\n",
       "      <td>Engineering</td>\n",
       "      <td>75000</td>\n",
       "      <td>89.814815</td>\n",
       "      <td>10.185185</td>\n",
       "    </tr>\n",
       "    <tr>\n",
       "      <th>2</th>\n",
       "      <td>3</td>\n",
       "      <td>METALLURGICAL ENGINEERING</td>\n",
       "      <td>856.0</td>\n",
       "      <td>725.0</td>\n",
       "      <td>131.0</td>\n",
       "      <td>Engineering</td>\n",
       "      <td>73000</td>\n",
       "      <td>84.696262</td>\n",
       "      <td>15.303738</td>\n",
       "    </tr>\n",
       "    <tr>\n",
       "      <th>3</th>\n",
       "      <td>4</td>\n",
       "      <td>NAVAL ARCHITECTURE AND MARINE ENGINEERING</td>\n",
       "      <td>1258.0</td>\n",
       "      <td>1123.0</td>\n",
       "      <td>135.0</td>\n",
       "      <td>Engineering</td>\n",
       "      <td>70000</td>\n",
       "      <td>89.268680</td>\n",
       "      <td>10.731320</td>\n",
       "    </tr>\n",
       "    <tr>\n",
       "      <th>4</th>\n",
       "      <td>5</td>\n",
       "      <td>CHEMICAL ENGINEERING</td>\n",
       "      <td>32260.0</td>\n",
       "      <td>21239.0</td>\n",
       "      <td>11021.0</td>\n",
       "      <td>Engineering</td>\n",
       "      <td>65000</td>\n",
       "      <td>65.836950</td>\n",
       "      <td>34.163050</td>\n",
       "    </tr>\n",
       "    <tr>\n",
       "      <th>5</th>\n",
       "      <td>6</td>\n",
       "      <td>NUCLEAR ENGINEERING</td>\n",
       "      <td>2573.0</td>\n",
       "      <td>2200.0</td>\n",
       "      <td>373.0</td>\n",
       "      <td>Engineering</td>\n",
       "      <td>65000</td>\n",
       "      <td>85.503304</td>\n",
       "      <td>14.496696</td>\n",
       "    </tr>\n",
       "    <tr>\n",
       "      <th>6</th>\n",
       "      <td>7</td>\n",
       "      <td>ACTUARIAL SCIENCE</td>\n",
       "      <td>3777.0</td>\n",
       "      <td>2110.0</td>\n",
       "      <td>1667.0</td>\n",
       "      <td>Business</td>\n",
       "      <td>62000</td>\n",
       "      <td>55.864443</td>\n",
       "      <td>44.135557</td>\n",
       "    </tr>\n",
       "    <tr>\n",
       "      <th>7</th>\n",
       "      <td>8</td>\n",
       "      <td>ASTRONOMY AND ASTROPHYSICS</td>\n",
       "      <td>1792.0</td>\n",
       "      <td>832.0</td>\n",
       "      <td>960.0</td>\n",
       "      <td>Physical Sciences</td>\n",
       "      <td>62000</td>\n",
       "      <td>46.428571</td>\n",
       "      <td>53.571429</td>\n",
       "    </tr>\n",
       "    <tr>\n",
       "      <th>8</th>\n",
       "      <td>9</td>\n",
       "      <td>MECHANICAL ENGINEERING</td>\n",
       "      <td>91227.0</td>\n",
       "      <td>80320.0</td>\n",
       "      <td>10907.0</td>\n",
       "      <td>Engineering</td>\n",
       "      <td>60000</td>\n",
       "      <td>88.044110</td>\n",
       "      <td>11.955890</td>\n",
       "    </tr>\n",
       "    <tr>\n",
       "      <th>9</th>\n",
       "      <td>10</td>\n",
       "      <td>ELECTRICAL ENGINEERING</td>\n",
       "      <td>81527.0</td>\n",
       "      <td>65511.0</td>\n",
       "      <td>16016.0</td>\n",
       "      <td>Engineering</td>\n",
       "      <td>60000</td>\n",
       "      <td>80.354974</td>\n",
       "      <td>19.645026</td>\n",
       "    </tr>\n",
       "  </tbody>\n",
       "</table>\n",
       "</div>"
      ],
      "text/plain": [
       "   Rank                                      Major    Total      Men    Women     Major_category  Median  Men_Percentage  Women_Percentage\n",
       "0     1                      PETROLEUM ENGINEERING   2339.0   2057.0    282.0        Engineering  110000       87.943566         12.056434\n",
       "1     2             MINING AND MINERAL ENGINEERING    756.0    679.0     77.0        Engineering   75000       89.814815         10.185185\n",
       "2     3                  METALLURGICAL ENGINEERING    856.0    725.0    131.0        Engineering   73000       84.696262         15.303738\n",
       "3     4  NAVAL ARCHITECTURE AND MARINE ENGINEERING   1258.0   1123.0    135.0        Engineering   70000       89.268680         10.731320\n",
       "4     5                       CHEMICAL ENGINEERING  32260.0  21239.0  11021.0        Engineering   65000       65.836950         34.163050\n",
       "5     6                        NUCLEAR ENGINEERING   2573.0   2200.0    373.0        Engineering   65000       85.503304         14.496696\n",
       "6     7                          ACTUARIAL SCIENCE   3777.0   2110.0   1667.0           Business   62000       55.864443         44.135557\n",
       "7     8                 ASTRONOMY AND ASTROPHYSICS   1792.0    832.0    960.0  Physical Sciences   62000       46.428571         53.571429\n",
       "8     9                     MECHANICAL ENGINEERING  91227.0  80320.0  10907.0        Engineering   60000       88.044110         11.955890\n",
       "9    10                     ELECTRICAL ENGINEERING  81527.0  65511.0  16016.0        Engineering   60000       80.354974         19.645026"
      ]
     },
     "execution_count": 77,
     "metadata": {},
     "output_type": "execute_result"
    }
   ],
   "source": [
    "new_recent_grads['Men_Percentage'] = (new_recent_grads['Men']/recent_grads['Total'])*100\n",
    "new_recent_grads['Women_Percentage'] = (new_recent_grads['Women']/recent_grads['Total'])*100\n",
    "\n",
    "new_recent_grads.head(10)"
   ]
  },
  {
   "cell_type": "code",
   "execution_count": 79,
   "id": "473883fb",
   "metadata": {},
   "outputs": [
    {
     "data": {
      "text/html": [
       "<div>\n",
       "<style scoped>\n",
       "    .dataframe tbody tr th:only-of-type {\n",
       "        vertical-align: middle;\n",
       "    }\n",
       "\n",
       "    .dataframe tbody tr th {\n",
       "        vertical-align: top;\n",
       "    }\n",
       "\n",
       "    .dataframe thead th {\n",
       "        text-align: right;\n",
       "    }\n",
       "</style>\n",
       "<table border=\"1\" class=\"dataframe\">\n",
       "  <thead>\n",
       "    <tr style=\"text-align: right;\">\n",
       "      <th></th>\n",
       "      <th>Rank</th>\n",
       "      <th>Major</th>\n",
       "      <th>Total</th>\n",
       "      <th>Men</th>\n",
       "      <th>Women</th>\n",
       "      <th>Major_category</th>\n",
       "      <th>Median</th>\n",
       "      <th>Men_Percentage</th>\n",
       "      <th>Women_Percentage</th>\n",
       "      <th>Men_More_Per_Than_Women</th>\n",
       "    </tr>\n",
       "  </thead>\n",
       "  <tbody>\n",
       "    <tr>\n",
       "      <th>0</th>\n",
       "      <td>1</td>\n",
       "      <td>PETROLEUM ENGINEERING</td>\n",
       "      <td>2339.0</td>\n",
       "      <td>2057.0</td>\n",
       "      <td>282.0</td>\n",
       "      <td>Engineering</td>\n",
       "      <td>110000</td>\n",
       "      <td>87.943566</td>\n",
       "      <td>12.056434</td>\n",
       "      <td>True</td>\n",
       "    </tr>\n",
       "    <tr>\n",
       "      <th>1</th>\n",
       "      <td>2</td>\n",
       "      <td>MINING AND MINERAL ENGINEERING</td>\n",
       "      <td>756.0</td>\n",
       "      <td>679.0</td>\n",
       "      <td>77.0</td>\n",
       "      <td>Engineering</td>\n",
       "      <td>75000</td>\n",
       "      <td>89.814815</td>\n",
       "      <td>10.185185</td>\n",
       "      <td>True</td>\n",
       "    </tr>\n",
       "    <tr>\n",
       "      <th>2</th>\n",
       "      <td>3</td>\n",
       "      <td>METALLURGICAL ENGINEERING</td>\n",
       "      <td>856.0</td>\n",
       "      <td>725.0</td>\n",
       "      <td>131.0</td>\n",
       "      <td>Engineering</td>\n",
       "      <td>73000</td>\n",
       "      <td>84.696262</td>\n",
       "      <td>15.303738</td>\n",
       "      <td>True</td>\n",
       "    </tr>\n",
       "    <tr>\n",
       "      <th>3</th>\n",
       "      <td>4</td>\n",
       "      <td>NAVAL ARCHITECTURE AND MARINE ENGINEERING</td>\n",
       "      <td>1258.0</td>\n",
       "      <td>1123.0</td>\n",
       "      <td>135.0</td>\n",
       "      <td>Engineering</td>\n",
       "      <td>70000</td>\n",
       "      <td>89.268680</td>\n",
       "      <td>10.731320</td>\n",
       "      <td>True</td>\n",
       "    </tr>\n",
       "    <tr>\n",
       "      <th>4</th>\n",
       "      <td>5</td>\n",
       "      <td>CHEMICAL ENGINEERING</td>\n",
       "      <td>32260.0</td>\n",
       "      <td>21239.0</td>\n",
       "      <td>11021.0</td>\n",
       "      <td>Engineering</td>\n",
       "      <td>65000</td>\n",
       "      <td>65.836950</td>\n",
       "      <td>34.163050</td>\n",
       "      <td>True</td>\n",
       "    </tr>\n",
       "    <tr>\n",
       "      <th>5</th>\n",
       "      <td>6</td>\n",
       "      <td>NUCLEAR ENGINEERING</td>\n",
       "      <td>2573.0</td>\n",
       "      <td>2200.0</td>\n",
       "      <td>373.0</td>\n",
       "      <td>Engineering</td>\n",
       "      <td>65000</td>\n",
       "      <td>85.503304</td>\n",
       "      <td>14.496696</td>\n",
       "      <td>True</td>\n",
       "    </tr>\n",
       "    <tr>\n",
       "      <th>6</th>\n",
       "      <td>7</td>\n",
       "      <td>ACTUARIAL SCIENCE</td>\n",
       "      <td>3777.0</td>\n",
       "      <td>2110.0</td>\n",
       "      <td>1667.0</td>\n",
       "      <td>Business</td>\n",
       "      <td>62000</td>\n",
       "      <td>55.864443</td>\n",
       "      <td>44.135557</td>\n",
       "      <td>True</td>\n",
       "    </tr>\n",
       "    <tr>\n",
       "      <th>7</th>\n",
       "      <td>8</td>\n",
       "      <td>ASTRONOMY AND ASTROPHYSICS</td>\n",
       "      <td>1792.0</td>\n",
       "      <td>832.0</td>\n",
       "      <td>960.0</td>\n",
       "      <td>Physical Sciences</td>\n",
       "      <td>62000</td>\n",
       "      <td>46.428571</td>\n",
       "      <td>53.571429</td>\n",
       "      <td>False</td>\n",
       "    </tr>\n",
       "    <tr>\n",
       "      <th>8</th>\n",
       "      <td>9</td>\n",
       "      <td>MECHANICAL ENGINEERING</td>\n",
       "      <td>91227.0</td>\n",
       "      <td>80320.0</td>\n",
       "      <td>10907.0</td>\n",
       "      <td>Engineering</td>\n",
       "      <td>60000</td>\n",
       "      <td>88.044110</td>\n",
       "      <td>11.955890</td>\n",
       "      <td>True</td>\n",
       "    </tr>\n",
       "    <tr>\n",
       "      <th>9</th>\n",
       "      <td>10</td>\n",
       "      <td>ELECTRICAL ENGINEERING</td>\n",
       "      <td>81527.0</td>\n",
       "      <td>65511.0</td>\n",
       "      <td>16016.0</td>\n",
       "      <td>Engineering</td>\n",
       "      <td>60000</td>\n",
       "      <td>80.354974</td>\n",
       "      <td>19.645026</td>\n",
       "      <td>True</td>\n",
       "    </tr>\n",
       "  </tbody>\n",
       "</table>\n",
       "</div>"
      ],
      "text/plain": [
       "   Rank                                      Major    Total      Men    Women     Major_category  Median  Men_Percentage  Women_Percentage  Men_More_Per_Than_Women\n",
       "0     1                      PETROLEUM ENGINEERING   2339.0   2057.0    282.0        Engineering  110000       87.943566         12.056434                     True\n",
       "1     2             MINING AND MINERAL ENGINEERING    756.0    679.0     77.0        Engineering   75000       89.814815         10.185185                     True\n",
       "2     3                  METALLURGICAL ENGINEERING    856.0    725.0    131.0        Engineering   73000       84.696262         15.303738                     True\n",
       "3     4  NAVAL ARCHITECTURE AND MARINE ENGINEERING   1258.0   1123.0    135.0        Engineering   70000       89.268680         10.731320                     True\n",
       "4     5                       CHEMICAL ENGINEERING  32260.0  21239.0  11021.0        Engineering   65000       65.836950         34.163050                     True\n",
       "5     6                        NUCLEAR ENGINEERING   2573.0   2200.0    373.0        Engineering   65000       85.503304         14.496696                     True\n",
       "6     7                          ACTUARIAL SCIENCE   3777.0   2110.0   1667.0           Business   62000       55.864443         44.135557                     True\n",
       "7     8                 ASTRONOMY AND ASTROPHYSICS   1792.0    832.0    960.0  Physical Sciences   62000       46.428571         53.571429                    False\n",
       "8     9                     MECHANICAL ENGINEERING  91227.0  80320.0  10907.0        Engineering   60000       88.044110         11.955890                     True\n",
       "9    10                     ELECTRICAL ENGINEERING  81527.0  65511.0  16016.0        Engineering   60000       80.354974         19.645026                     True"
      ]
     },
     "execution_count": 79,
     "metadata": {},
     "output_type": "execute_result"
    }
   ],
   "source": [
    "new_recent_grads['Men_More_Per_Than_Women']=new_recent_grads.Men_Percentage > new_recent_grads.Women_Percentage\n",
    "new_recent_grads.head(10)"
   ]
  },
  {
   "cell_type": "markdown",
   "id": "3d5cc591",
   "metadata": {},
   "source": [
    "- **Here we can see that the students that majored in subjects that were  majority male make more money.**"
   ]
  },
  {
   "cell_type": "markdown",
   "id": "493a9dbb",
   "metadata": {},
   "source": [
    "#### Is there any link between the number of full-time employees and median salary?"
   ]
  },
  {
   "cell_type": "code",
   "execution_count": 82,
   "id": "42a448a5",
   "metadata": {},
   "outputs": [
    {
     "data": {
      "text/html": [
       "<div>\n",
       "<style scoped>\n",
       "    .dataframe tbody tr th:only-of-type {\n",
       "        vertical-align: middle;\n",
       "    }\n",
       "\n",
       "    .dataframe tbody tr th {\n",
       "        vertical-align: top;\n",
       "    }\n",
       "\n",
       "    .dataframe thead th {\n",
       "        text-align: right;\n",
       "    }\n",
       "</style>\n",
       "<table border=\"1\" class=\"dataframe\">\n",
       "  <thead>\n",
       "    <tr style=\"text-align: right;\">\n",
       "      <th></th>\n",
       "      <th>Full_time</th>\n",
       "      <th>Median</th>\n",
       "    </tr>\n",
       "  </thead>\n",
       "  <tbody>\n",
       "    <tr>\n",
       "      <th>Full_time</th>\n",
       "      <td>1.000000</td>\n",
       "      <td>-0.079031</td>\n",
       "    </tr>\n",
       "    <tr>\n",
       "      <th>Median</th>\n",
       "      <td>-0.079031</td>\n",
       "      <td>1.000000</td>\n",
       "    </tr>\n",
       "  </tbody>\n",
       "</table>\n",
       "</div>"
      ],
      "text/plain": [
       "           Full_time    Median\n",
       "Full_time   1.000000 -0.079031\n",
       "Median     -0.079031  1.000000"
      ]
     },
     "execution_count": 82,
     "metadata": {},
     "output_type": "execute_result"
    }
   ],
   "source": [
    "# First Method\n",
    "recent_grads[['Full_time','Median']].corr()"
   ]
  },
  {
   "cell_type": "code",
   "execution_count": 86,
   "id": "c16e666b",
   "metadata": {},
   "outputs": [
    {
     "data": {
      "text/html": [
       "<div>\n",
       "<style scoped>\n",
       "    .dataframe tbody tr th:only-of-type {\n",
       "        vertical-align: middle;\n",
       "    }\n",
       "\n",
       "    .dataframe tbody tr th {\n",
       "        vertical-align: top;\n",
       "    }\n",
       "\n",
       "    .dataframe thead th {\n",
       "        text-align: right;\n",
       "    }\n",
       "</style>\n",
       "<table border=\"1\" class=\"dataframe\">\n",
       "  <thead>\n",
       "    <tr style=\"text-align: right;\">\n",
       "      <th></th>\n",
       "      <th>Full_time</th>\n",
       "      <th>Median</th>\n",
       "    </tr>\n",
       "  </thead>\n",
       "  <tbody>\n",
       "    <tr>\n",
       "      <th>76</th>\n",
       "      <td>251540</td>\n",
       "      <td>38000</td>\n",
       "    </tr>\n",
       "    <tr>\n",
       "      <th>145</th>\n",
       "      <td>233205</td>\n",
       "      <td>31500</td>\n",
       "    </tr>\n",
       "    <tr>\n",
       "      <th>57</th>\n",
       "      <td>171385</td>\n",
       "      <td>40000</td>\n",
       "    </tr>\n",
       "    <tr>\n",
       "      <th>77</th>\n",
       "      <td>156668</td>\n",
       "      <td>38000</td>\n",
       "    </tr>\n",
       "    <tr>\n",
       "      <th>40</th>\n",
       "      <td>151967</td>\n",
       "      <td>45000</td>\n",
       "    </tr>\n",
       "    <tr>\n",
       "      <th>34</th>\n",
       "      <td>151191</td>\n",
       "      <td>48000</td>\n",
       "    </tr>\n",
       "    <tr>\n",
       "      <th>93</th>\n",
       "      <td>147335</td>\n",
       "      <td>35000</td>\n",
       "    </tr>\n",
       "    <tr>\n",
       "      <th>123</th>\n",
       "      <td>144512</td>\n",
       "      <td>33400</td>\n",
       "    </tr>\n",
       "    <tr>\n",
       "      <th>35</th>\n",
       "      <td>137921</td>\n",
       "      <td>47000</td>\n",
       "    </tr>\n",
       "    <tr>\n",
       "      <th>138</th>\n",
       "      <td>123177</td>\n",
       "      <td>32000</td>\n",
       "    </tr>\n",
       "  </tbody>\n",
       "</table>\n",
       "</div>"
      ],
      "text/plain": [
       "     Full_time  Median\n",
       "76      251540   38000\n",
       "145     233205   31500\n",
       "57      171385   40000\n",
       "77      156668   38000\n",
       "40      151967   45000\n",
       "34      151191   48000\n",
       "93      147335   35000\n",
       "123     144512   33400\n",
       "35      137921   47000\n",
       "138     123177   32000"
      ]
     },
     "execution_count": 86,
     "metadata": {},
     "output_type": "execute_result"
    }
   ],
   "source": [
    "# Second Method\n",
    "comp_recent_grads = recent_grads[['Full_time','Median']].sort_values('Full_time', ascending=False)\n",
    "comp_recent_grads.head(10)"
   ]
  },
  {
   "cell_type": "markdown",
   "id": "90643580",
   "metadata": {},
   "source": [
    "- **Here we can see that there is no link between Full_time and Median.**"
   ]
  },
  {
   "cell_type": "code",
   "execution_count": null,
   "id": "371f0747",
   "metadata": {},
   "outputs": [],
   "source": [
    "# Generate scatter plots in separate jupyter notebook cells to explore the following relations:\n",
    "\n",
    "#     Sample_size and Median\n",
    "#     Sample_size and Unemployment_rate\n",
    "#     Full_time and Median\n",
    "#     ShareWomen and Unemployment_rate\n",
    "#     Men and Median\n",
    "#     Women and Median\n"
   ]
  },
  {
   "cell_type": "code",
   "execution_count": 90,
   "id": "1d2b4e52",
   "metadata": {},
   "outputs": [
    {
     "data": {
      "text/html": [
       "<div>\n",
       "<style scoped>\n",
       "    .dataframe tbody tr th:only-of-type {\n",
       "        vertical-align: middle;\n",
       "    }\n",
       "\n",
       "    .dataframe tbody tr th {\n",
       "        vertical-align: top;\n",
       "    }\n",
       "\n",
       "    .dataframe thead th {\n",
       "        text-align: right;\n",
       "    }\n",
       "</style>\n",
       "<table border=\"1\" class=\"dataframe\">\n",
       "  <thead>\n",
       "    <tr style=\"text-align: right;\">\n",
       "      <th></th>\n",
       "      <th>Sample_size</th>\n",
       "      <th>Median</th>\n",
       "    </tr>\n",
       "  </thead>\n",
       "  <tbody>\n",
       "    <tr>\n",
       "      <th>Sample_size</th>\n",
       "      <td>1.000000</td>\n",
       "      <td>-0.064475</td>\n",
       "    </tr>\n",
       "    <tr>\n",
       "      <th>Median</th>\n",
       "      <td>-0.064475</td>\n",
       "      <td>1.000000</td>\n",
       "    </tr>\n",
       "  </tbody>\n",
       "</table>\n",
       "</div>"
      ],
      "text/plain": [
       "             Sample_size    Median\n",
       "Sample_size     1.000000 -0.064475\n",
       "Median         -0.064475  1.000000"
      ]
     },
     "execution_count": 90,
     "metadata": {},
     "output_type": "execute_result"
    }
   ],
   "source": [
    "# First Method\n",
    "recent_grads[['Sample_size','Median']].corr()"
   ]
  },
  {
   "cell_type": "code",
   "execution_count": 89,
   "id": "e864d262",
   "metadata": {},
   "outputs": [
    {
     "data": {
      "text/plain": [
       "<AxesSubplot:title={'center':'Sample_size vs Median'}, xlabel='Sample_size', ylabel='Median'>"
      ]
     },
     "execution_count": 89,
     "metadata": {},
     "output_type": "execute_result"
    },
    {
     "data": {
      "image/png": "[encoded data removed]",
      "text/plain": [
       "<Figure size 360x720 with 1 Axes>"
      ]
     },
     "metadata": {
      "needs_background": "light"
     },
     "output_type": "display_data"
    }
   ],
   "source": [
    "# Second Method\n",
    "recent_grads.plot(x='Sample_size', y='Median', kind='scatter', title=\"Sample_size vs Median\", figsize=(5,10))"
   ]
  },
  {
   "cell_type": "markdown",
   "id": "e5e0eba8",
   "metadata": {},
   "source": [
    "**Here from the picture, we can observe that there is no relation between Sample_Size and Median**"
   ]
  },
  {
   "cell_type": "code",
   "execution_count": 91,
   "id": "7011db17",
   "metadata": {},
   "outputs": [
    {
     "data": {
      "text/html": [
       "<div>\n",
       "<style scoped>\n",
       "    .dataframe tbody tr th:only-of-type {\n",
       "        vertical-align: middle;\n",
       "    }\n",
       "\n",
       "    .dataframe tbody tr th {\n",
       "        vertical-align: top;\n",
       "    }\n",
       "\n",
       "    .dataframe thead th {\n",
       "        text-align: right;\n",
       "    }\n",
       "</style>\n",
       "<table border=\"1\" class=\"dataframe\">\n",
       "  <thead>\n",
       "    <tr style=\"text-align: right;\">\n",
       "      <th></th>\n",
       "      <th>Sample_size</th>\n",
       "      <th>Unemployment_rate</th>\n",
       "    </tr>\n",
       "  </thead>\n",
       "  <tbody>\n",
       "    <tr>\n",
       "      <th>Sample_size</th>\n",
       "      <td>1.000000</td>\n",
       "      <td>0.062955</td>\n",
       "    </tr>\n",
       "    <tr>\n",
       "      <th>Unemployment_rate</th>\n",
       "      <td>0.062955</td>\n",
       "      <td>1.000000</td>\n",
       "    </tr>\n",
       "  </tbody>\n",
       "</table>\n",
       "</div>"
      ],
      "text/plain": [
       "                   Sample_size  Unemployment_rate\n",
       "Sample_size           1.000000           0.062955\n",
       "Unemployment_rate     0.062955           1.000000"
      ]
     },
     "execution_count": 91,
     "metadata": {},
     "output_type": "execute_result"
    }
   ],
   "source": [
    "# First Method\n",
    "recent_grads[['Sample_size','Unemployment_rate']].corr()"
   ]
  },
  {
   "cell_type": "code",
   "execution_count": 94,
   "id": "dc109ffc",
   "metadata": {},
   "outputs": [
    {
     "data": {
      "text/plain": [
       "<AxesSubplot:xlabel='Sample_size', ylabel='Unemployment_rate'>"
      ]
     },
     "execution_count": 94,
     "metadata": {},
     "output_type": "execute_result"
    },
    {
     "data": {
      "image/png": "[encoded data removed]",
      "text/plain": [
       "<Figure size 720x360 with 1 Axes>"
      ]
     },
     "metadata": {
      "needs_background": "light"
     },
     "output_type": "display_data"
    }
   ],
   "source": [
    "# Second Method\n",
    "recent_grads.plot(x='Sample_size',y='Unemployment_rate', kind='scatter', figsize=(10,5))"
   ]
  },
  {
   "cell_type": "markdown",
   "id": "cc224286",
   "metadata": {},
   "source": [
    "**Here from the picture, we can observe that there is no relation between Sample_Size and Unemployment_rate**"
   ]
  },
  {
   "cell_type": "code",
   "execution_count": null,
   "id": "3ce71920",
   "metadata": {},
   "outputs": [],
   "source": []
  },
  {
   "cell_type": "code",
   "execution_count": 97,
   "id": "c09a17fe",
   "metadata": {},
   "outputs": [
    {
     "data": {
      "text/html": [
       "<div>\n",
       "<style scoped>\n",
       "    .dataframe tbody tr th:only-of-type {\n",
       "        vertical-align: middle;\n",
       "    }\n",
       "\n",
       "    .dataframe tbody tr th {\n",
       "        vertical-align: top;\n",
       "    }\n",
       "\n",
       "    .dataframe thead th {\n",
       "        text-align: right;\n",
       "    }\n",
       "</style>\n",
       "<table border=\"1\" class=\"dataframe\">\n",
       "  <thead>\n",
       "    <tr style=\"text-align: right;\">\n",
       "      <th></th>\n",
       "      <th>Full_time</th>\n",
       "      <th>Median</th>\n",
       "    </tr>\n",
       "  </thead>\n",
       "  <tbody>\n",
       "    <tr>\n",
       "      <th>Full_time</th>\n",
       "      <td>1.000000</td>\n",
       "      <td>-0.079031</td>\n",
       "    </tr>\n",
       "    <tr>\n",
       "      <th>Median</th>\n",
       "      <td>-0.079031</td>\n",
       "      <td>1.000000</td>\n",
       "    </tr>\n",
       "  </tbody>\n",
       "</table>\n",
       "</div>"
      ],
      "text/plain": [
       "           Full_time    Median\n",
       "Full_time   1.000000 -0.079031\n",
       "Median     -0.079031  1.000000"
      ]
     },
     "execution_count": 97,
     "metadata": {},
     "output_type": "execute_result"
    }
   ],
   "source": [
    "# First Method\n",
    "recent_grads[['Full_time','Median']].corr()"
   ]
  },
  {
   "cell_type": "code",
   "execution_count": 102,
   "id": "783de93b",
   "metadata": {},
   "outputs": [
    {
     "data": {
      "text/plain": [
       "<AxesSubplot:xlabel='Full_time', ylabel='Median'>"
      ]
     },
     "execution_count": 102,
     "metadata": {},
     "output_type": "execute_result"
    },
    {
     "data": {
      "image/png": "[encoded data removed]",
      "text/plain": [
       "<Figure size 720x360 with 1 Axes>"
      ]
     },
     "metadata": {
      "needs_background": "light"
     },
     "output_type": "display_data"
    }
   ],
   "source": [
    "# Second Method\n",
    "recent_grads.plot(x='Full_time',y='Median', kind='scatter', figsize=(10,5))"
   ]
  },
  {
   "cell_type": "markdown",
   "id": "3e74b5be",
   "metadata": {},
   "source": [
    "**Here from the picture, we can observe that there is no relation between Full_time and Median**"
   ]
  },
  {
   "cell_type": "code",
   "execution_count": null,
   "id": "70895085",
   "metadata": {},
   "outputs": [],
   "source": []
  },
  {
   "cell_type": "code",
   "execution_count": 99,
   "id": "fbdd1b81",
   "metadata": {},
   "outputs": [
    {
     "data": {
      "text/html": [
       "<div>\n",
       "<style scoped>\n",
       "    .dataframe tbody tr th:only-of-type {\n",
       "        vertical-align: middle;\n",
       "    }\n",
       "\n",
       "    .dataframe tbody tr th {\n",
       "        vertical-align: top;\n",
       "    }\n",
       "\n",
       "    .dataframe thead th {\n",
       "        text-align: right;\n",
       "    }\n",
       "</style>\n",
       "<table border=\"1\" class=\"dataframe\">\n",
       "  <thead>\n",
       "    <tr style=\"text-align: right;\">\n",
       "      <th></th>\n",
       "      <th>ShareWomen</th>\n",
       "      <th>Unemployment_rate</th>\n",
       "    </tr>\n",
       "  </thead>\n",
       "  <tbody>\n",
       "    <tr>\n",
       "      <th>ShareWomen</th>\n",
       "      <td>1.000000</td>\n",
       "      <td>0.073205</td>\n",
       "    </tr>\n",
       "    <tr>\n",
       "      <th>Unemployment_rate</th>\n",
       "      <td>0.073205</td>\n",
       "      <td>1.000000</td>\n",
       "    </tr>\n",
       "  </tbody>\n",
       "</table>\n",
       "</div>"
      ],
      "text/plain": [
       "                   ShareWomen  Unemployment_rate\n",
       "ShareWomen           1.000000           0.073205\n",
       "Unemployment_rate    0.073205           1.000000"
      ]
     },
     "execution_count": 99,
     "metadata": {},
     "output_type": "execute_result"
    }
   ],
   "source": [
    "# First Method\n",
    "recent_grads[['ShareWomen','Unemployment_rate']].corr()"
   ]
  },
  {
   "cell_type": "code",
   "execution_count": 103,
   "id": "891669b6",
   "metadata": {},
   "outputs": [
    {
     "data": {
      "text/plain": [
       "<AxesSubplot:xlabel='ShareWomen', ylabel='Unemployment_rate'>"
      ]
     },
     "execution_count": 103,
     "metadata": {},
     "output_type": "execute_result"
    },
    {
     "data": {
      "image/png": "[encoded data removed]",
      "text/plain": [
       "<Figure size 720x360 with 1 Axes>"
      ]
     },
     "metadata": {
      "needs_background": "light"
     },
     "output_type": "display_data"
    }
   ],
   "source": [
    "# Second Method\n",
    "recent_grads.plot(x='ShareWomen',y='Unemployment_rate', kind='scatter', figsize=(10,5))"
   ]
  },
  {
   "cell_type": "markdown",
   "id": "93cc28a1",
   "metadata": {},
   "source": [
    "**Here from the picture, we can observe that there is no relation between Sharewomen and unemployment_rate**"
   ]
  },
  {
   "cell_type": "code",
   "execution_count": null,
   "id": "23d67c53",
   "metadata": {},
   "outputs": [],
   "source": []
  },
  {
   "cell_type": "code",
   "execution_count": 100,
   "id": "f4ee20dc",
   "metadata": {},
   "outputs": [
    {
     "data": {
      "text/html": [
       "<div>\n",
       "<style scoped>\n",
       "    .dataframe tbody tr th:only-of-type {\n",
       "        vertical-align: middle;\n",
       "    }\n",
       "\n",
       "    .dataframe tbody tr th {\n",
       "        vertical-align: top;\n",
       "    }\n",
       "\n",
       "    .dataframe thead th {\n",
       "        text-align: right;\n",
       "    }\n",
       "</style>\n",
       "<table border=\"1\" class=\"dataframe\">\n",
       "  <thead>\n",
       "    <tr style=\"text-align: right;\">\n",
       "      <th></th>\n",
       "      <th>Men</th>\n",
       "      <th>Median</th>\n",
       "    </tr>\n",
       "  </thead>\n",
       "  <tbody>\n",
       "    <tr>\n",
       "      <th>Men</th>\n",
       "      <td>1.000000</td>\n",
       "      <td>0.025991</td>\n",
       "    </tr>\n",
       "    <tr>\n",
       "      <th>Median</th>\n",
       "      <td>0.025991</td>\n",
       "      <td>1.000000</td>\n",
       "    </tr>\n",
       "  </tbody>\n",
       "</table>\n",
       "</div>"
      ],
      "text/plain": [
       "             Men    Median\n",
       "Men     1.000000  0.025991\n",
       "Median  0.025991  1.000000"
      ]
     },
     "execution_count": 100,
     "metadata": {},
     "output_type": "execute_result"
    }
   ],
   "source": [
    "# First Method\n",
    "recent_grads[['Men','Median']].corr()"
   ]
  },
  {
   "cell_type": "code",
   "execution_count": 104,
   "id": "3889b648",
   "metadata": {},
   "outputs": [
    {
     "data": {
      "text/plain": [
       "<AxesSubplot:xlabel='Men', ylabel='Median'>"
      ]
     },
     "execution_count": 104,
     "metadata": {},
     "output_type": "execute_result"
    },
    {
     "data": {
      "image/png": "[encoded data removed]",
      "text/plain": [
       "<Figure size 720x360 with 1 Axes>"
      ]
     },
     "metadata": {
      "needs_background": "light"
     },
     "output_type": "display_data"
    }
   ],
   "source": [
    "# Second Method\n",
    "recent_grads.plot(x='Men',y='Median', kind='scatter', figsize=(10,5))"
   ]
  },
  {
   "cell_type": "code",
   "execution_count": 101,
   "id": "62cd35dd",
   "metadata": {},
   "outputs": [
    {
     "data": {
      "text/html": [
       "<div>\n",
       "<style scoped>\n",
       "    .dataframe tbody tr th:only-of-type {\n",
       "        vertical-align: middle;\n",
       "    }\n",
       "\n",
       "    .dataframe tbody tr th {\n",
       "        vertical-align: top;\n",
       "    }\n",
       "\n",
       "    .dataframe thead th {\n",
       "        text-align: right;\n",
       "    }\n",
       "</style>\n",
       "<table border=\"1\" class=\"dataframe\">\n",
       "  <thead>\n",
       "    <tr style=\"text-align: right;\">\n",
       "      <th></th>\n",
       "      <th>Women</th>\n",
       "      <th>Median</th>\n",
       "    </tr>\n",
       "  </thead>\n",
       "  <tbody>\n",
       "    <tr>\n",
       "      <th>Women</th>\n",
       "      <td>1.000000</td>\n",
       "      <td>-0.182842</td>\n",
       "    </tr>\n",
       "    <tr>\n",
       "      <th>Median</th>\n",
       "      <td>-0.182842</td>\n",
       "      <td>1.000000</td>\n",
       "    </tr>\n",
       "  </tbody>\n",
       "</table>\n",
       "</div>"
      ],
      "text/plain": [
       "           Women    Median\n",
       "Women   1.000000 -0.182842\n",
       "Median -0.182842  1.000000"
      ]
     },
     "execution_count": 101,
     "metadata": {},
     "output_type": "execute_result"
    }
   ],
   "source": [
    "# First Method\n",
    "recent_grads[['Women','Median']].corr()"
   ]
  },
  {
   "cell_type": "code",
   "execution_count": 106,
   "id": "68d57c23",
   "metadata": {},
   "outputs": [
    {
     "data": {
      "text/plain": [
       "<AxesSubplot:xlabel='Women', ylabel='Median'>"
      ]
     },
     "execution_count": 106,
     "metadata": {},
     "output_type": "execute_result"
    },
    {
     "data": {
      "image/png": "[encoded data removed]",
      "text/plain": [
       "<Figure size 720x360 with 1 Axes>"
      ]
     },
     "metadata": {
      "needs_background": "light"
     },
     "output_type": "display_data"
    }
   ],
   "source": [
    "# Second Method\n",
    "recent_grads.plot(x='Women',y='Median', kind='scatter', figsize=(10,5))"
   ]
  },
  {
   "cell_type": "markdown",
   "id": "bdfdda4b",
   "metadata": {},
   "source": [
    "### Correlation Practice Examples\n",
    "<img src=\"https://cdn1.byjus.com/wp-content/uploads/2021/03/Correlation.png\" height=500px width=500px>\n",
    "\n",
    "<img src=\"https://cdn.scribbr.com/wp-content/uploads/2021/08/01-correlation-types-1024x415.png\" height=500px width=500px>"
   ]
  },
  {
   "cell_type": "code",
   "execution_count": null,
   "id": "6424b526",
   "metadata": {},
   "outputs": [],
   "source": []
  },
  {
   "cell_type": "markdown",
   "id": "b2eaa50d",
   "metadata": {},
   "source": [
    "### 3. Pandas, Histograms\n",
    "To explore the distribution of values in a column, we can select it from the DataFrame, call Series.plot(), and set the kind parameter to hist:\n",
    "\n",
    "`recent_grads['Sample_size'].plot(kind='hist')`\n",
    "\n",
    "#### TODO:\n",
    "* Generate histograms in separate jupyter notebook cells to explore the distributions of the following columns:\n",
    "  * Sample_size\n",
    "  * Median\n",
    "  * Employed\n",
    "  * Full_time\n",
    "  * ShareWomen\n",
    "  * Unemployment_rate\n",
    "  * Men\n",
    "  * Women\n",
    "* We encourage you to experiment with different bin sizes and ranges when generating these histograms.\n",
    "* Use the plots to explore the following questions:\n",
    "  * What percent of majors are predominantly male? Predominantly female?\n",
    "  * What's the most common median salary range?"
   ]
  },
  {
   "cell_type": "code",
   "execution_count": 107,
   "id": "f5ad3f3b",
   "metadata": {},
   "outputs": [],
   "source": [
    "# Let's see the answers of questions"
   ]
  },
  {
   "cell_type": "code",
   "execution_count": 111,
   "id": "29447a3f",
   "metadata": {},
   "outputs": [
    {
     "data": {
      "text/html": [
       "<div>\n",
       "<style scoped>\n",
       "    .dataframe tbody tr th:only-of-type {\n",
       "        vertical-align: middle;\n",
       "    }\n",
       "\n",
       "    .dataframe tbody tr th {\n",
       "        vertical-align: top;\n",
       "    }\n",
       "\n",
       "    .dataframe thead th {\n",
       "        text-align: right;\n",
       "    }\n",
       "</style>\n",
       "<table border=\"1\" class=\"dataframe\">\n",
       "  <thead>\n",
       "    <tr style=\"text-align: right;\">\n",
       "      <th></th>\n",
       "      <th>Rank</th>\n",
       "      <th>Major</th>\n",
       "      <th>Total</th>\n",
       "      <th>Men</th>\n",
       "      <th>Women</th>\n",
       "      <th>Major_category</th>\n",
       "      <th>Median</th>\n",
       "      <th>Men_Percentage</th>\n",
       "      <th>Women_Percentage</th>\n",
       "      <th>Men_More_Per_Than_Women</th>\n",
       "    </tr>\n",
       "  </thead>\n",
       "  <tbody>\n",
       "    <tr>\n",
       "      <th>0</th>\n",
       "      <td>1</td>\n",
       "      <td>PETROLEUM ENGINEERING</td>\n",
       "      <td>2339.0</td>\n",
       "      <td>2057.0</td>\n",
       "      <td>282.0</td>\n",
       "      <td>Engineering</td>\n",
       "      <td>110000</td>\n",
       "      <td>87.943566</td>\n",
       "      <td>12.056434</td>\n",
       "      <td>True</td>\n",
       "    </tr>\n",
       "    <tr>\n",
       "      <th>1</th>\n",
       "      <td>2</td>\n",
       "      <td>MINING AND MINERAL ENGINEERING</td>\n",
       "      <td>756.0</td>\n",
       "      <td>679.0</td>\n",
       "      <td>77.0</td>\n",
       "      <td>Engineering</td>\n",
       "      <td>75000</td>\n",
       "      <td>89.814815</td>\n",
       "      <td>10.185185</td>\n",
       "      <td>True</td>\n",
       "    </tr>\n",
       "    <tr>\n",
       "      <th>2</th>\n",
       "      <td>3</td>\n",
       "      <td>METALLURGICAL ENGINEERING</td>\n",
       "      <td>856.0</td>\n",
       "      <td>725.0</td>\n",
       "      <td>131.0</td>\n",
       "      <td>Engineering</td>\n",
       "      <td>73000</td>\n",
       "      <td>84.696262</td>\n",
       "      <td>15.303738</td>\n",
       "      <td>True</td>\n",
       "    </tr>\n",
       "    <tr>\n",
       "      <th>3</th>\n",
       "      <td>4</td>\n",
       "      <td>NAVAL ARCHITECTURE AND MARINE ENGINEERING</td>\n",
       "      <td>1258.0</td>\n",
       "      <td>1123.0</td>\n",
       "      <td>135.0</td>\n",
       "      <td>Engineering</td>\n",
       "      <td>70000</td>\n",
       "      <td>89.268680</td>\n",
       "      <td>10.731320</td>\n",
       "      <td>True</td>\n",
       "    </tr>\n",
       "    <tr>\n",
       "      <th>4</th>\n",
       "      <td>5</td>\n",
       "      <td>CHEMICAL ENGINEERING</td>\n",
       "      <td>32260.0</td>\n",
       "      <td>21239.0</td>\n",
       "      <td>11021.0</td>\n",
       "      <td>Engineering</td>\n",
       "      <td>65000</td>\n",
       "      <td>65.836950</td>\n",
       "      <td>34.163050</td>\n",
       "      <td>True</td>\n",
       "    </tr>\n",
       "  </tbody>\n",
       "</table>\n",
       "</div>"
      ],
      "text/plain": [
       "   Rank                                      Major    Total      Men    Women Major_category  Median  Men_Percentage  Women_Percentage  Men_More_Per_Than_Women\n",
       "0     1                      PETROLEUM ENGINEERING   2339.0   2057.0    282.0    Engineering  110000       87.943566         12.056434                     True\n",
       "1     2             MINING AND MINERAL ENGINEERING    756.0    679.0     77.0    Engineering   75000       89.814815         10.185185                     True\n",
       "2     3                  METALLURGICAL ENGINEERING    856.0    725.0    131.0    Engineering   73000       84.696262         15.303738                     True\n",
       "3     4  NAVAL ARCHITECTURE AND MARINE ENGINEERING   1258.0   1123.0    135.0    Engineering   70000       89.268680         10.731320                     True\n",
       "4     5                       CHEMICAL ENGINEERING  32260.0  21239.0  11021.0    Engineering   65000       65.836950         34.163050                     True"
      ]
     },
     "execution_count": 111,
     "metadata": {},
     "output_type": "execute_result"
    }
   ],
   "source": [
    "new_recent_grads.head(5)"
   ]
  },
  {
   "cell_type": "code",
   "execution_count": 116,
   "id": "1aee23f0",
   "metadata": {},
   "outputs": [
    {
     "data": {
      "text/html": [
       "<div>\n",
       "<style scoped>\n",
       "    .dataframe tbody tr th:only-of-type {\n",
       "        vertical-align: middle;\n",
       "    }\n",
       "\n",
       "    .dataframe tbody tr th {\n",
       "        vertical-align: top;\n",
       "    }\n",
       "\n",
       "    .dataframe thead th {\n",
       "        text-align: right;\n",
       "    }\n",
       "</style>\n",
       "<table border=\"1\" class=\"dataframe\">\n",
       "  <thead>\n",
       "    <tr style=\"text-align: right;\">\n",
       "      <th></th>\n",
       "      <th>Rank</th>\n",
       "      <th>Major</th>\n",
       "      <th>Total</th>\n",
       "      <th>Men</th>\n",
       "      <th>Women</th>\n",
       "      <th>Major_category</th>\n",
       "      <th>Median</th>\n",
       "      <th>Men_Percentage</th>\n",
       "      <th>Women_Percentage</th>\n",
       "      <th>Men_More_Per_Than_Women</th>\n",
       "    </tr>\n",
       "  </thead>\n",
       "  <tbody>\n",
       "    <tr>\n",
       "      <th>7</th>\n",
       "      <td>8</td>\n",
       "      <td>ASTRONOMY AND ASTROPHYSICS</td>\n",
       "      <td>1792.0</td>\n",
       "      <td>832.0</td>\n",
       "      <td>960.0</td>\n",
       "      <td>Physical Sciences</td>\n",
       "      <td>62000</td>\n",
       "      <td>46.428571</td>\n",
       "      <td>53.571429</td>\n",
       "      <td>False</td>\n",
       "    </tr>\n",
       "    <tr>\n",
       "      <th>29</th>\n",
       "      <td>30</td>\n",
       "      <td>PUBLIC POLICY</td>\n",
       "      <td>5978.0</td>\n",
       "      <td>2639.0</td>\n",
       "      <td>3339.0</td>\n",
       "      <td>Law &amp; Public Policy</td>\n",
       "      <td>50000</td>\n",
       "      <td>44.145199</td>\n",
       "      <td>55.854801</td>\n",
       "      <td>False</td>\n",
       "    </tr>\n",
       "    <tr>\n",
       "      <th>34</th>\n",
       "      <td>35</td>\n",
       "      <td>NURSING</td>\n",
       "      <td>209394.0</td>\n",
       "      <td>21773.0</td>\n",
       "      <td>187621.0</td>\n",
       "      <td>Health</td>\n",
       "      <td>48000</td>\n",
       "      <td>10.398101</td>\n",
       "      <td>89.601899</td>\n",
       "      <td>False</td>\n",
       "    </tr>\n",
       "    <tr>\n",
       "      <th>39</th>\n",
       "      <td>40</td>\n",
       "      <td>NUCLEAR, INDUSTRIAL RADIOLOGY, AND BIOLOGICAL ...</td>\n",
       "      <td>2116.0</td>\n",
       "      <td>528.0</td>\n",
       "      <td>1588.0</td>\n",
       "      <td>Physical Sciences</td>\n",
       "      <td>46000</td>\n",
       "      <td>24.952741</td>\n",
       "      <td>75.047259</td>\n",
       "      <td>False</td>\n",
       "    </tr>\n",
       "    <tr>\n",
       "      <th>40</th>\n",
       "      <td>41</td>\n",
       "      <td>ACCOUNTING</td>\n",
       "      <td>198633.0</td>\n",
       "      <td>94519.0</td>\n",
       "      <td>104114.0</td>\n",
       "      <td>Business</td>\n",
       "      <td>45000</td>\n",
       "      <td>47.584742</td>\n",
       "      <td>52.415258</td>\n",
       "      <td>False</td>\n",
       "    </tr>\n",
       "    <tr>\n",
       "      <th>44</th>\n",
       "      <td>45</td>\n",
       "      <td>MEDICAL TECHNOLOGIES TECHNICIANS</td>\n",
       "      <td>15914.0</td>\n",
       "      <td>3916.0</td>\n",
       "      <td>11998.0</td>\n",
       "      <td>Health</td>\n",
       "      <td>45000</td>\n",
       "      <td>24.607264</td>\n",
       "      <td>75.392736</td>\n",
       "      <td>False</td>\n",
       "    </tr>\n",
       "    <tr>\n",
       "      <th>46</th>\n",
       "      <td>47</td>\n",
       "      <td>STATISTICS AND DECISION SCIENCE</td>\n",
       "      <td>6251.0</td>\n",
       "      <td>2960.0</td>\n",
       "      <td>3291.0</td>\n",
       "      <td>Computers &amp; Mathematics</td>\n",
       "      <td>45000</td>\n",
       "      <td>47.352424</td>\n",
       "      <td>52.647576</td>\n",
       "      <td>False</td>\n",
       "    </tr>\n",
       "    <tr>\n",
       "      <th>48</th>\n",
       "      <td>49</td>\n",
       "      <td>PHARMACOLOGY</td>\n",
       "      <td>1762.0</td>\n",
       "      <td>515.0</td>\n",
       "      <td>1247.0</td>\n",
       "      <td>Biology &amp; Life Science</td>\n",
       "      <td>45000</td>\n",
       "      <td>29.228150</td>\n",
       "      <td>70.771850</td>\n",
       "      <td>False</td>\n",
       "    </tr>\n",
       "    <tr>\n",
       "      <th>49</th>\n",
       "      <td>50</td>\n",
       "      <td>OCEANOGRAPHY</td>\n",
       "      <td>2418.0</td>\n",
       "      <td>752.0</td>\n",
       "      <td>1666.0</td>\n",
       "      <td>Physical Sciences</td>\n",
       "      <td>44700</td>\n",
       "      <td>31.100083</td>\n",
       "      <td>68.899917</td>\n",
       "      <td>False</td>\n",
       "    </tr>\n",
       "    <tr>\n",
       "      <th>51</th>\n",
       "      <td>52</td>\n",
       "      <td>MEDICAL ASSISTING SERVICES</td>\n",
       "      <td>11123.0</td>\n",
       "      <td>803.0</td>\n",
       "      <td>10320.0</td>\n",
       "      <td>Health</td>\n",
       "      <td>42000</td>\n",
       "      <td>7.219275</td>\n",
       "      <td>92.780725</td>\n",
       "      <td>False</td>\n",
       "    </tr>\n",
       "  </tbody>\n",
       "</table>\n",
       "</div>"
      ],
      "text/plain": [
       "    Rank                                              Major     Total      Men     Women           Major_category  Median  Men_Percentage  Women_Percentage  Men_More_Per_Than_Women\n",
       "7      8                         ASTRONOMY AND ASTROPHYSICS    1792.0    832.0     960.0        Physical Sciences   62000       46.428571         53.571429                    False\n",
       "29    30                                      PUBLIC POLICY    5978.0   2639.0    3339.0      Law & Public Policy   50000       44.145199         55.854801                    False\n",
       "34    35                                            NURSING  209394.0  21773.0  187621.0                   Health   48000       10.398101         89.601899                    False\n",
       "39    40  NUCLEAR, INDUSTRIAL RADIOLOGY, AND BIOLOGICAL ...    2116.0    528.0    1588.0        Physical Sciences   46000       24.952741         75.047259                    False\n",
       "40    41                                         ACCOUNTING  198633.0  94519.0  104114.0                 Business   45000       47.584742         52.415258                    False\n",
       "44    45                   MEDICAL TECHNOLOGIES TECHNICIANS   15914.0   3916.0   11998.0                   Health   45000       24.607264         75.392736                    False\n",
       "46    47                    STATISTICS AND DECISION SCIENCE    6251.0   2960.0    3291.0  Computers & Mathematics   45000       47.352424         52.647576                    False\n",
       "48    49                                       PHARMACOLOGY    1762.0    515.0    1247.0   Biology & Life Science   45000       29.228150         70.771850                    False\n",
       "49    50                                       OCEANOGRAPHY    2418.0    752.0    1666.0        Physical Sciences   44700       31.100083         68.899917                    False\n",
       "51    52                         MEDICAL ASSISTING SERVICES   11123.0    803.0   10320.0                   Health   42000        7.219275         92.780725                    False"
      ]
     },
     "execution_count": 116,
     "metadata": {},
     "output_type": "execute_result"
    }
   ],
   "source": [
    "# Major where females predominant\n",
    "new_recent_grads[new_recent_grads.Women_Percentage > new_recent_grads.Men_Percentage].head(10)"
   ]
  },
  {
   "cell_type": "code",
   "execution_count": 117,
   "id": "38bf5d1b",
   "metadata": {},
   "outputs": [
    {
     "data": {
      "text/plain": [
       "count       172.000000\n",
       "mean      40076.744186\n",
       "std       11461.388773\n",
       "min       22000.000000\n",
       "25%       33000.000000\n",
       "50%       36000.000000\n",
       "75%       45000.000000\n",
       "max      110000.000000\n",
       "Name: Median, dtype: float64"
      ]
     },
     "execution_count": 117,
     "metadata": {},
     "output_type": "execute_result"
    }
   ],
   "source": [
    "# What's the most common median salary range?\n",
    "new_recent_grads.Median.describe()"
   ]
  },
  {
   "cell_type": "code",
   "execution_count": 120,
   "id": "ae8eb39e",
   "metadata": {},
   "outputs": [
    {
     "data": {
      "text/plain": [
       "<AxesSubplot:ylabel='Frequency'>"
      ]
     },
     "execution_count": 120,
     "metadata": {},
     "output_type": "execute_result"
    },
    {
     "data": {
      "image/png": "[encoded data removed]",
      "text/plain": [
       "<Figure size 432x288 with 1 Axes>"
      ]
     },
     "metadata": {
      "needs_background": "light"
     },
     "output_type": "display_data"
    }
   ],
   "source": [
    "# Histogram of Sample_size\n",
    "recent_grads.Sample_size.plot(kind='hist')"
   ]
  },
  {
   "cell_type": "code",
   "execution_count": 121,
   "id": "36dcbd96",
   "metadata": {},
   "outputs": [
    {
     "data": {
      "text/plain": [
       "<AxesSubplot:ylabel='Frequency'>"
      ]
     },
     "execution_count": 121,
     "metadata": {},
     "output_type": "execute_result"
    },
    {
     "data": {
      "image/png": "[encoded data removed]",
      "text/plain": [
       "<Figure size 432x288 with 1 Axes>"
      ]
     },
     "metadata": {
      "needs_background": "light"
     },
     "output_type": "display_data"
    }
   ],
   "source": [
    "recent_grads.Sample_size.plot(kind='hist', bins=50)"
   ]
  },
  {
   "cell_type": "code",
   "execution_count": 122,
   "id": "391adb21",
   "metadata": {},
   "outputs": [
    {
     "data": {
      "text/plain": [
       "<AxesSubplot:ylabel='Frequency'>"
      ]
     },
     "execution_count": 122,
     "metadata": {},
     "output_type": "execute_result"
    },
    {
     "data": {
      "image/png": "[encoded data removed]",
      "text/plain": [
       "<Figure size 432x288 with 1 Axes>"
      ]
     },
     "metadata": {
      "needs_background": "light"
     },
     "output_type": "display_data"
    }
   ],
   "source": [
    "# Histogram of Median\n",
    "recent_grads.Median.plot(kind='hist')"
   ]
  },
  {
   "cell_type": "code",
   "execution_count": 129,
   "id": "40e290dc",
   "metadata": {},
   "outputs": [
    {
     "data": {
      "text/plain": [
       "<AxesSubplot:ylabel='Frequency'>"
      ]
     },
     "execution_count": 129,
     "metadata": {},
     "output_type": "execute_result"
    },
    {
     "data": {
      "image/png": "[encoded data removed]",
      "text/plain": [
       "<Figure size 432x288 with 1 Axes>"
      ]
     },
     "metadata": {
      "needs_background": "light"
     },
     "output_type": "display_data"
    }
   ],
   "source": [
    "recent_grads.Median.plot(kind='hist', bins=30)"
   ]
  },
  {
   "cell_type": "code",
   "execution_count": 127,
   "id": "61a1fcf8",
   "metadata": {},
   "outputs": [
    {
     "data": {
      "text/plain": [
       "<AxesSubplot:ylabel='Density'>"
      ]
     },
     "execution_count": 127,
     "metadata": {},
     "output_type": "execute_result"
    },
    {
     "data": {
      "image/png": "[encoded data removed]",
      "text/plain": [
       "<Figure size 432x288 with 1 Axes>"
      ]
     },
     "metadata": {
      "needs_background": "light"
     },
     "output_type": "display_data"
    }
   ],
   "source": [
    "recent_grads.Median.plot(kind='kde')"
   ]
  },
  {
   "cell_type": "code",
   "execution_count": null,
   "id": "2eac700d",
   "metadata": {},
   "outputs": [],
   "source": [
    "Employed\n",
    "Full_time\n",
    "ShareWomen\n",
    "Unemployment_rate\n",
    "Men\n",
    "Women"
   ]
  },
  {
   "cell_type": "code",
   "execution_count": 130,
   "id": "1bef926b",
   "metadata": {},
   "outputs": [
    {
     "data": {
      "text/plain": [
       "<AxesSubplot:ylabel='Frequency'>"
      ]
     },
     "execution_count": 130,
     "metadata": {},
     "output_type": "execute_result"
    },
    {
     "data": {
      "image/png": "[encoded data removed]",
      "text/plain": [
       "<Figure size 432x288 with 1 Axes>"
      ]
     },
     "metadata": {
      "needs_background": "light"
     },
     "output_type": "display_data"
    }
   ],
   "source": [
    "# Histogram of Employed\n",
    "recent_grads.Employed.plot(kind='hist')"
   ]
  },
  {
   "cell_type": "code",
   "execution_count": 131,
   "id": "92bdcd46",
   "metadata": {},
   "outputs": [
    {
     "data": {
      "text/plain": [
       "<AxesSubplot:ylabel='Frequency'>"
      ]
     },
     "execution_count": 131,
     "metadata": {},
     "output_type": "execute_result"
    },
    {
     "data": {
      "image/png": "[encoded data removed]",
      "text/plain": [
       "<Figure size 432x288 with 1 Axes>"
      ]
     },
     "metadata": {
      "needs_background": "light"
     },
     "output_type": "display_data"
    }
   ],
   "source": [
    "recent_grads.Employed.plot(kind='hist', bins=30)"
   ]
  },
  {
   "cell_type": "code",
   "execution_count": 132,
   "id": "dd563dce",
   "metadata": {},
   "outputs": [
    {
     "data": {
      "text/plain": [
       "<AxesSubplot:ylabel='Frequency'>"
      ]
     },
     "execution_count": 132,
     "metadata": {},
     "output_type": "execute_result"
    },
    {
     "data": {
      "image/png": "[encoded data removed]",
      "text/plain": [
       "<Figure size 432x288 with 1 Axes>"
      ]
     },
     "metadata": {
      "needs_background": "light"
     },
     "output_type": "display_data"
    }
   ],
   "source": [
    "# Histogram of Full_time\n",
    "recent_grads.Full_time.plot(kind='hist')"
   ]
  },
  {
   "cell_type": "code",
   "execution_count": 133,
   "id": "3dff64a8",
   "metadata": {},
   "outputs": [
    {
     "data": {
      "text/plain": [
       "<AxesSubplot:ylabel='Frequency'>"
      ]
     },
     "execution_count": 133,
     "metadata": {},
     "output_type": "execute_result"
    },
    {
     "data": {
      "image/png": "[encoded data removed]",
      "text/plain": [
       "<Figure size 432x288 with 1 Axes>"
      ]
     },
     "metadata": {
      "needs_background": "light"
     },
     "output_type": "display_data"
    }
   ],
   "source": [
    "recent_grads.Full_time.plot(kind='hist', bins=30)"
   ]
  },
  {
   "cell_type": "code",
   "execution_count": 134,
   "id": "821699ff",
   "metadata": {},
   "outputs": [
    {
     "data": {
      "text/plain": [
       "<AxesSubplot:ylabel='Frequency'>"
      ]
     },
     "execution_count": 134,
     "metadata": {},
     "output_type": "execute_result"
    },
    {
     "data": {
      "image/png": "[encoded data removed]",
      "text/plain": [
       "<Figure size 432x288 with 1 Axes>"
      ]
     },
     "metadata": {
      "needs_background": "light"
     },
     "output_type": "display_data"
    }
   ],
   "source": [
    "# Histogram of SharedWomen\n",
    "recent_grads.ShareWomen.plot(kind='hist')"
   ]
  },
  {
   "cell_type": "code",
   "execution_count": 136,
   "id": "a8e33b7f",
   "metadata": {},
   "outputs": [
    {
     "data": {
      "text/plain": [
       "<AxesSubplot:ylabel='Frequency'>"
      ]
     },
     "execution_count": 136,
     "metadata": {},
     "output_type": "execute_result"
    },
    {
     "data": {
      "image/png": "[encoded data removed]",
      "text/plain": [
       "<Figure size 432x288 with 1 Axes>"
      ]
     },
     "metadata": {
      "needs_background": "light"
     },
     "output_type": "display_data"
    }
   ],
   "source": [
    "recent_grads.ShareWomen.plot(kind='hist', bins=40)"
   ]
  },
  {
   "cell_type": "code",
   "execution_count": 137,
   "id": "573717c8",
   "metadata": {},
   "outputs": [
    {
     "data": {
      "text/plain": [
       "<AxesSubplot:ylabel='Frequency'>"
      ]
     },
     "execution_count": 137,
     "metadata": {},
     "output_type": "execute_result"
    },
    {
     "data": {
      "image/png": "[encoded data removed]",
      "text/plain": [
       "<Figure size 432x288 with 1 Axes>"
      ]
     },
     "metadata": {
      "needs_background": "light"
     },
     "output_type": "display_data"
    }
   ],
   "source": [
    "# Histogram of Unemployment_rate\n",
    "recent_grads.Unemployment_rate.plot(kind='hist')"
   ]
  },
  {
   "cell_type": "code",
   "execution_count": 138,
   "id": "6de3d4a5",
   "metadata": {},
   "outputs": [
    {
     "data": {
      "text/plain": [
       "<AxesSubplot:ylabel='Frequency'>"
      ]
     },
     "execution_count": 138,
     "metadata": {},
     "output_type": "execute_result"
    },
    {
     "data": {
      "image/png": "[encoded data removed]",
      "text/plain": [
       "<Figure size 432x288 with 1 Axes>"
      ]
     },
     "metadata": {
      "needs_background": "light"
     },
     "output_type": "display_data"
    }
   ],
   "source": [
    "recent_grads.Unemployment_rate.plot(kind='hist', bins=30)"
   ]
  },
  {
   "cell_type": "code",
   "execution_count": 139,
   "id": "068bdad2",
   "metadata": {},
   "outputs": [
    {
     "data": {
      "text/plain": [
       "<AxesSubplot:ylabel='Frequency'>"
      ]
     },
     "execution_count": 139,
     "metadata": {},
     "output_type": "execute_result"
    },
    {
     "data": {
      "image/png": "[encoded data removed]",
      "text/plain": [
       "<Figure size 432x288 with 1 Axes>"
      ]
     },
     "metadata": {
      "needs_background": "light"
     },
     "output_type": "display_data"
    }
   ],
   "source": [
    "# Histogram of men\n",
    "recent_grads.Men.plot(kind='hist')"
   ]
  },
  {
   "cell_type": "code",
   "execution_count": 140,
   "id": "fc180cf2",
   "metadata": {},
   "outputs": [
    {
     "data": {
      "text/plain": [
       "<AxesSubplot:ylabel='Frequency'>"
      ]
     },
     "execution_count": 140,
     "metadata": {},
     "output_type": "execute_result"
    },
    {
     "data": {
      "image/png": "[encoded data removed]",
      "text/plain": [
       "<Figure size 432x288 with 1 Axes>"
      ]
     },
     "metadata": {
      "needs_background": "light"
     },
     "output_type": "display_data"
    }
   ],
   "source": [
    "recent_grads.Men.plot(kind='hist', bins=40)"
   ]
  },
  {
   "cell_type": "code",
   "execution_count": 141,
   "id": "fd5290df",
   "metadata": {},
   "outputs": [
    {
     "data": {
      "text/plain": [
       "<AxesSubplot:ylabel='Frequency'>"
      ]
     },
     "execution_count": 141,
     "metadata": {},
     "output_type": "execute_result"
    },
    {
     "data": {
      "image/png": "[encoded data removed]",
      "text/plain": [
       "<Figure size 432x288 with 1 Axes>"
      ]
     },
     "metadata": {
      "needs_background": "light"
     },
     "output_type": "display_data"
    }
   ],
   "source": [
    "# Histogram of women\n",
    "recent_grads.Women.plot(kind='hist')"
   ]
  },
  {
   "cell_type": "code",
   "execution_count": 142,
   "id": "aa76868a",
   "metadata": {},
   "outputs": [
    {
     "data": {
      "text/plain": [
       "<AxesSubplot:ylabel='Frequency'>"
      ]
     },
     "execution_count": 142,
     "metadata": {},
     "output_type": "execute_result"
    },
    {
     "data": {
      "image/png": "[encoded data removed]",
      "text/plain": [
       "<Figure size 432x288 with 1 Axes>"
      ]
     },
     "metadata": {
      "needs_background": "light"
     },
     "output_type": "display_data"
    }
   ],
   "source": [
    "recent_grads.Women.plot(kind='hist', bins=40)"
   ]
  },
  {
   "cell_type": "markdown",
   "id": "7b32d0bc",
   "metadata": {},
   "source": [
    "### 4. Pandas, Scatter Matrix Plot\n",
    "* In the last 2 steps, we created individual scatter plots to visualize potential relationships between columns and histograms to visualize the distributions of individual columns. **A scatter matrix plot combines both scatter plots and histograms into one grid of plots and allows us to explore potential relationships and distributions simultaneously**\n",
    "\n",
    "Because scatter matrix plots are frequently used in the `exploratory data analysis`, pandas contains a function named `scatter_matrix()` that generates the plots for us. This function is part of the `pandas.plotting` module and needs to be imported separately.\n",
    "\n",
    "#### TODO:\n",
    "* Import scatter_matrix from the pandas.plotting module.\n",
    "* Create a 2 by 2 scatter matrix plot using the Sample_size and Median columns.\n",
    "* Create a 3 by 3 scatter matrix plot using the Sample_size, Median, and Unemployment_rate columns."
   ]
  },
  {
   "cell_type": "code",
   "execution_count": 143,
   "id": "a6ad28ef",
   "metadata": {},
   "outputs": [],
   "source": [
    "from pandas.plotting import scatter_matrix"
   ]
  },
  {
   "cell_type": "code",
   "execution_count": 145,
   "id": "9413d04c",
   "metadata": {},
   "outputs": [
    {
     "data": {
      "text/plain": [
       "array([[<AxesSubplot:xlabel='Sample_size', ylabel='Sample_size'>,\n",
       "        <AxesSubplot:xlabel='Median', ylabel='Sample_size'>],\n",
       "       [<AxesSubplot:xlabel='Sample_size', ylabel='Median'>,\n",
       "        <AxesSubplot:xlabel='Median', ylabel='Median'>]], dtype=object)"
      ]
     },
     "execution_count": 145,
     "metadata": {},
     "output_type": "execute_result"
    },
    {
     "data": {
      "image/png": "[encoded data removed]",
      "text/plain": [
       "<Figure size 504x504 with 4 Axes>"
      ]
     },
     "metadata": {
      "needs_background": "light"
     },
     "output_type": "display_data"
    }
   ],
   "source": [
    "# Create a 2 by 2 scatter matrix plot using the Sample_size and Median columns.\n",
    "matrix = recent_grads[['Sample_size','Median']]\n",
    "scatter_matrix(matrix, figsize=(7,7))"
   ]
  },
  {
   "cell_type": "code",
   "execution_count": 147,
   "id": "328ea195",
   "metadata": {},
   "outputs": [
    {
     "data": {
      "text/plain": [
       "array([[<AxesSubplot:xlabel='Sample_size', ylabel='Sample_size'>,\n",
       "        <AxesSubplot:xlabel='Median', ylabel='Sample_size'>,\n",
       "        <AxesSubplot:xlabel='Unemployment_rate', ylabel='Sample_size'>],\n",
       "       [<AxesSubplot:xlabel='Sample_size', ylabel='Median'>,\n",
       "        <AxesSubplot:xlabel='Median', ylabel='Median'>,\n",
       "        <AxesSubplot:xlabel='Unemployment_rate', ylabel='Median'>],\n",
       "       [<AxesSubplot:xlabel='Sample_size', ylabel='Unemployment_rate'>,\n",
       "        <AxesSubplot:xlabel='Median', ylabel='Unemployment_rate'>,\n",
       "        <AxesSubplot:xlabel='Unemployment_rate', ylabel='Unemployment_rate'>]],\n",
       "      dtype=object)"
      ]
     },
     "execution_count": 147,
     "metadata": {},
     "output_type": "execute_result"
    },
    {
     "data": {
      "image/png": "[encoded data removed]",
      "text/plain": [
       "<Figure size 648x648 with 9 Axes>"
      ]
     },
     "metadata": {
      "needs_background": "light"
     },
     "output_type": "display_data"
    }
   ],
   "source": [
    "# Create a 2 by 3 scatter matrix plot using the Sample_size ,Median columns and Unemployment_rate.\n",
    "matrix = recent_grads[['Sample_size','Median','Unemployment_rate']]\n",
    "scatter_matrix(matrix, figsize=(9,9))"
   ]
  },
  {
   "cell_type": "markdown",
   "id": "a74cc7e1",
   "metadata": {},
   "source": [
    "### 5. Pandas, Bar Plots\n",
    "* If we instead use the `DataFrame.plot.bar()` method, we can use the `x parameter to specify the labels` and the `y parameter to specify the data for the bars`.\n",
    "\n",
    "#### TODO:\n",
    "\n",
    "* Use bar plots to compare the percentages of women  from the first ten rows and last ten rows of the recent_grads dataframe along `Major`.\n",
    "* Use bar plots to compare the unemployment rate (Unemployment_rate) from the first ten rows and last ten rows of the recent_grads dataframe along `Major`."
   ]
  },
  {
   "cell_type": "code",
   "execution_count": 151,
   "id": "8524e974",
   "metadata": {},
   "outputs": [
    {
     "data": {
      "text/html": [
       "<div>\n",
       "<style scoped>\n",
       "    .dataframe tbody tr th:only-of-type {\n",
       "        vertical-align: middle;\n",
       "    }\n",
       "\n",
       "    .dataframe tbody tr th {\n",
       "        vertical-align: top;\n",
       "    }\n",
       "\n",
       "    .dataframe thead th {\n",
       "        text-align: right;\n",
       "    }\n",
       "</style>\n",
       "<table border=\"1\" class=\"dataframe\">\n",
       "  <thead>\n",
       "    <tr style=\"text-align: right;\">\n",
       "      <th></th>\n",
       "      <th>Rank</th>\n",
       "      <th>Major_code</th>\n",
       "      <th>Major</th>\n",
       "      <th>Total</th>\n",
       "      <th>Men</th>\n",
       "      <th>Women</th>\n",
       "      <th>Major_category</th>\n",
       "      <th>ShareWomen</th>\n",
       "      <th>Sample_size</th>\n",
       "      <th>Employed</th>\n",
       "      <th>Full_time</th>\n",
       "      <th>Part_time</th>\n",
       "      <th>Full_time_year_round</th>\n",
       "      <th>Unemployed</th>\n",
       "      <th>Unemployment_rate</th>\n",
       "      <th>Median</th>\n",
       "      <th>P25th</th>\n",
       "      <th>P75th</th>\n",
       "      <th>College_jobs</th>\n",
       "      <th>Non_college_jobs</th>\n",
       "      <th>Low_wage_jobs</th>\n",
       "    </tr>\n",
       "  </thead>\n",
       "  <tbody>\n",
       "    <tr>\n",
       "      <th>10</th>\n",
       "      <td>164</td>\n",
       "      <td>6102</td>\n",
       "      <td>COMMUNICATION DISORDERS SCIENCES AND SERVICES</td>\n",
       "      <td>38279.0</td>\n",
       "      <td>1225.0</td>\n",
       "      <td>37054.0</td>\n",
       "      <td>Health</td>\n",
       "      <td>0.967998</td>\n",
       "      <td>95</td>\n",
       "      <td>29763</td>\n",
       "      <td>19975</td>\n",
       "      <td>13862</td>\n",
       "      <td>14460</td>\n",
       "      <td>1487</td>\n",
       "      <td>0.047584</td>\n",
       "      <td>28000</td>\n",
       "      <td>20000</td>\n",
       "      <td>40000</td>\n",
       "      <td>19957</td>\n",
       "      <td>9404</td>\n",
       "      <td>5125</td>\n",
       "    </tr>\n",
       "    <tr>\n",
       "      <th>2</th>\n",
       "      <td>3</td>\n",
       "      <td>2415</td>\n",
       "      <td>METALLURGICAL ENGINEERING</td>\n",
       "      <td>856.0</td>\n",
       "      <td>725.0</td>\n",
       "      <td>131.0</td>\n",
       "      <td>Engineering</td>\n",
       "      <td>0.153037</td>\n",
       "      <td>3</td>\n",
       "      <td>648</td>\n",
       "      <td>558</td>\n",
       "      <td>133</td>\n",
       "      <td>340</td>\n",
       "      <td>16</td>\n",
       "      <td>0.024096</td>\n",
       "      <td>73000</td>\n",
       "      <td>50000</td>\n",
       "      <td>105000</td>\n",
       "      <td>456</td>\n",
       "      <td>176</td>\n",
       "      <td>0</td>\n",
       "    </tr>\n",
       "    <tr>\n",
       "      <th>12</th>\n",
       "      <td>166</td>\n",
       "      <td>2603</td>\n",
       "      <td>OTHER FOREIGN LANGUAGES</td>\n",
       "      <td>11204.0</td>\n",
       "      <td>3472.0</td>\n",
       "      <td>7732.0</td>\n",
       "      <td>Humanities &amp; Liberal Arts</td>\n",
       "      <td>0.690111</td>\n",
       "      <td>56</td>\n",
       "      <td>7052</td>\n",
       "      <td>5197</td>\n",
       "      <td>3685</td>\n",
       "      <td>3214</td>\n",
       "      <td>846</td>\n",
       "      <td>0.107116</td>\n",
       "      <td>27500</td>\n",
       "      <td>22900</td>\n",
       "      <td>38000</td>\n",
       "      <td>2326</td>\n",
       "      <td>3703</td>\n",
       "      <td>1115</td>\n",
       "    </tr>\n",
       "  </tbody>\n",
       "</table>\n",
       "</div>"
      ],
      "text/plain": [
       "    Rank  Major_code                                          Major    Total     Men    Women             Major_category  ShareWomen  Sample_size  Employed  Full_time  Part_time  Full_time_year_round  Unemployed  Unemployment_rate  Median  P25th   P75th  College_jobs  Non_college_jobs  Low_wage_jobs\n",
       "10   164        6102  COMMUNICATION DISORDERS SCIENCES AND SERVICES  38279.0  1225.0  37054.0                     Health    0.967998           95     29763      19975      13862                 14460        1487           0.047584   28000  20000   40000         19957              9404           5125\n",
       "2      3        2415                      METALLURGICAL ENGINEERING    856.0   725.0    131.0                Engineering    0.153037            3       648        558        133                   340          16           0.024096   73000  50000  105000           456               176              0\n",
       "12   166        2603                        OTHER FOREIGN LANGUAGES  11204.0  3472.0   7732.0  Humanities & Liberal Arts    0.690111           56      7052       5197       3685                  3214         846           0.107116   27500  22900   38000          2326              3703           1115"
      ]
     },
     "execution_count": 151,
     "metadata": {},
     "output_type": "execute_result"
    }
   ],
   "source": [
    "new_df = pd.merge(recent_grads.head(10),recent_grads.tail(10), how='outer')\n",
    "new_df.sample(3)"
   ]
  },
  {
   "cell_type": "code",
   "execution_count": 160,
   "id": "6165ee01",
   "metadata": {},
   "outputs": [
    {
     "data": {
      "text/plain": [
       "<AxesSubplot:ylabel='Major'>"
      ]
     },
     "execution_count": 160,
     "metadata": {},
     "output_type": "execute_result"
    },
    {
     "data": {
      "image/png": "[encoded data removed]",
      "text/plain": [
       "<Figure size 576x576 with 1 Axes>"
      ]
     },
     "metadata": {
      "needs_background": "light"
     },
     "output_type": "display_data"
    }
   ],
   "source": [
    "# Use bar plots to compare the percentages of women from the first ten rows and \n",
    "#last ten rows of the recent_grads dataframe along Major\n",
    "new_df.plot.barh(x='Major',y='Women', figsize=(8,8))"
   ]
  },
  {
   "cell_type": "code",
   "execution_count": 161,
   "id": "fbeae876",
   "metadata": {},
   "outputs": [
    {
     "data": {
      "text/plain": [
       "<AxesSubplot:xlabel='Major'>"
      ]
     },
     "execution_count": 161,
     "metadata": {},
     "output_type": "execute_result"
    },
    {
     "data": {
      "image/png": "[encoded data removed]",
      "text/plain": [
       "<Figure size 576x576 with 1 Axes>"
      ]
     },
     "metadata": {
      "needs_background": "light"
     },
     "output_type": "display_data"
    }
   ],
   "source": [
    "# Use bar plots to compare the unemployment rate (Unemployment_rate) from the first ten rows and \n",
    "# last ten rows of the recent_grads dataframe along Major.\n",
    "new_df.plot.bar(x='Major',y='Unemployment_rate', figsize=(8,8))"
   ]
  },
  {
   "cell_type": "code",
   "execution_count": 162,
   "id": "78466b82",
   "metadata": {},
   "outputs": [
    {
     "data": {
      "text/plain": [
       "<AxesSubplot:ylabel='Major'>"
      ]
     },
     "execution_count": 162,
     "metadata": {},
     "output_type": "execute_result"
    },
    {
     "data": {
      "image/png": "[encoded data removed]",
      "text/plain": [
       "<Figure size 576x576 with 1 Axes>"
      ]
     },
     "metadata": {
      "needs_background": "light"
     },
     "output_type": "display_data"
    }
   ],
   "source": [
    "new_df.plot.barh(x='Major',y='Unemployment_rate', figsize=(8,8))"
   ]
  },
  {
   "cell_type": "code",
   "execution_count": null,
   "id": "2983a383",
   "metadata": {},
   "outputs": [],
   "source": []
  },
  {
   "cell_type": "code",
   "execution_count": null,
   "id": "dbbcab31",
   "metadata": {},
   "outputs": [],
   "source": []
  }
 ],
 "metadata": {
  "kernelspec": {
   "display_name": "Python 3 (ipykernel)",
   "language": "python",
   "name": "python3"
  },
  "language_info": {
   "codemirror_mode": {
    "name": "ipython",
    "version": 3
   },
   "file_extension": ".py",
   "mimetype": "text/x-python",
   "name": "python",
   "nbconvert_exporter": "python",
   "pygments_lexer": "ipython3",
   "version": "3.8.10"
  }
 },
 "nbformat": 4,
 "nbformat_minor": 5
}
