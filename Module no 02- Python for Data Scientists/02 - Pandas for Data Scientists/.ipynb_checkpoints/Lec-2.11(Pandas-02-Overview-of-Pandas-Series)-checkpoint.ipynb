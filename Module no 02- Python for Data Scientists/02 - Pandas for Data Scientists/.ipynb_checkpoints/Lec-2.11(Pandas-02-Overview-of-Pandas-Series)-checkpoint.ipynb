{
 "cells": [
  {
   "cell_type": "markdown",
   "id": "4a87b5ef",
   "metadata": {},
   "source": [
    "---   \n",
    "\n",
    "<h1 align=\"center\">Introduction to Data Analyst and Data Science for beginners</h1>\n",
    "<h1 align=\"center\">Lecture no 2.11(Pandas-02)</h1>\n",
    "\n",
    "---\n",
    "<h3><div align=\"right\">Ehtisham Sadiq</div></h3>    "
   ]
  },
  {
   "cell_type": "markdown",
   "id": "19f82705",
   "metadata": {},
   "source": [
    "<img align=\"right\" width=\"400\" height=\"400\"  src=\"images/pandas-apps.png\"  >\n",
    "\n",
    "## _Overview of Pandas Series Data Structure.ipynb_"
   ]
  },
  {
   "cell_type": "markdown",
   "id": "806db2fe",
   "metadata": {},
   "source": [
    "#### Read about Pandas Data: https://pandas.pydata.org/docs/user_guide"
   ]
  },
  {
   "cell_type": "markdown",
   "id": "7703308e",
   "metadata": {},
   "source": [
    "### Recap:\n",
    "**In the last lecture, we discussed the pandas library and overview of the pandas dataframe and its anatomy and we have seen that every pandas dataframe is composed of a series objects.**"
   ]
  },
  {
   "cell_type": "code",
   "execution_count": null,
   "id": "94fa1d1a",
   "metadata": {},
   "outputs": [],
   "source": []
  },
  {
   "cell_type": "markdown",
   "id": "9727124d",
   "metadata": {},
   "source": [
    "## Learning agenda of this notebook\n",
    "\n",
    "1. Overview of Python Pandas library and its data structures\n",
    "2. Creating a Series\n",
    "    - From Python List\n",
    "    - From NumPy Arrays\n",
    "    - From Python Dictionary\n",
    "    - From a scalar value\n",
    "    - Creating empty series object\n",
    "3. Attributes of a Pandas Series\n",
    "4. Understanding Index in a Series and its usage\n",
    "    - Identification\n",
    "    - Selection/Filtering/Subsetting\n",
    "    - Alignment"
   ]
  },
  {
   "cell_type": "code",
   "execution_count": null,
   "id": "e251bdc6",
   "metadata": {},
   "outputs": [],
   "source": [
    "# To install this library in Jupyter notebook\n",
    "import sys\n",
    "!{sys.executable} -m pip install pandas --quiet"
   ]
  },
  {
   "cell_type": "code",
   "execution_count": 178,
   "id": "dba905d0",
   "metadata": {},
   "outputs": [],
   "source": [
    "import pandas as pd\n",
    "pd.__version__ , pd.__path__\n",
    "import warnings \n",
    "warnings.filterwarnings('ignore')"
   ]
  },
  {
   "cell_type": "code",
   "execution_count": null,
   "id": "82b882b6",
   "metadata": {},
   "outputs": [],
   "source": []
  },
  {
   "cell_type": "markdown",
   "id": "99b11957",
   "metadata": {},
   "source": [
    "<img align=\"right\" width=\"500\" height=\"600\"  src=\"images/series-anatomy.png\"  >\n",
    "\n",
    "## 1. Creating a Series\n",
    "> **A Series is a one-dimensional array capable of holding a sequence of values of any data type (integers, floating point numbers, strings, Python objects etc) which by default have numeric data labels starting from zero. You can imagine a Pandas Series as a column in a spreadsheet or a Pandas Dataframe object.**\n",
    "- To create a Series object you can use `pd.Series()` method\n",
    "\n",
    "**```pd.Series(data, index, dtype, name)```**\n",
    "- Where,\n",
    "   - `data`: can be a Python list, Python dictionary, numPy array, or a scalar value.\n",
    "   - `index`: If you donot pass the index argument, it will default to `np.arrange(n)`. Indices must be hashable (numbers or strings) and have the same length as `data`. Non-unique index values are allowed. Index is used for three purposes:\n",
    "       - Identification.\n",
    "       - Selection.\n",
    "       - Alignment.\n",
    "   - `dtype`: Optionally, you can assign any valid numpy datatype to the series object (np.sctypes). If not specified, this will be inferred from `data`.\n",
    "   - `name`: Optionally, you can assign a name to a series, which becomes attribute of the series object. Moreover, it becomes the column name, if that series object is used to create a dataframe later."
   ]
  },
  {
   "cell_type": "code",
   "execution_count": null,
   "id": "05b1234a",
   "metadata": {},
   "outputs": [],
   "source": []
  },
  {
   "cell_type": "code",
   "execution_count": null,
   "id": "732d341a",
   "metadata": {},
   "outputs": [],
   "source": []
  },
  {
   "cell_type": "markdown",
   "id": "315fe124",
   "metadata": {},
   "source": [
    "### a. Creating a Series from Python List"
   ]
  },
  {
   "cell_type": "code",
   "execution_count": null,
   "id": "3fe671e5",
   "metadata": {
    "scrolled": false
   },
   "outputs": [],
   "source": [
    "import pandas as pd\n",
    "import numpy as np\n",
    "list1 = ['Ehtisham', 'Ali', 'Ayesha', '','Dua']  # note the empty string\n",
    "\n",
    "# When index is not provided, it creates an index for the data starting from zero and with a step size of one.\n",
    "s = pd.Series(data=list1)\n",
    "print(s)\n",
    "print(type(s))"
   ]
  },
  {
   "cell_type": "markdown",
   "id": "c0e6abcf",
   "metadata": {},
   "source": [
    ">Observe that output is shown in two columns - the index is on the left and the data value is on the right. If we do not explicitly specify an index for the data values while creating a series, then by default indices range from 0 through N – 1. Here N is the number of data elements."
   ]
  },
  {
   "cell_type": "code",
   "execution_count": null,
   "id": "f4bb226e",
   "metadata": {},
   "outputs": [],
   "source": []
  },
  {
   "cell_type": "code",
   "execution_count": null,
   "id": "ff7ca148",
   "metadata": {},
   "outputs": [],
   "source": []
  },
  {
   "cell_type": "markdown",
   "id": "ebb2f672",
   "metadata": {},
   "source": [
    "**You can explicitly specify the index for a Series object, which can be either int or string type, and must be of the same size as the values in the series. Otherwise, it will raise a ValueError**"
   ]
  },
  {
   "cell_type": "code",
   "execution_count": null,
   "id": "f00c9d4d",
   "metadata": {},
   "outputs": [],
   "source": [
    "list1 = ['Ehtisham', 'Ali', 'Ayesha', 'Dua']\n",
    "indices = ['MS01', 'MS02', '', 'MS02']   # non-unique index values are allowed and you can have empty string as index\n",
    "\n",
    "s = pd.Series(data=list1, index=indices)\n",
    "print(s)\n",
    "print(type(s))"
   ]
  },
  {
   "cell_type": "code",
   "execution_count": null,
   "id": "2bb2ffb1",
   "metadata": {},
   "outputs": [],
   "source": [
    "s['MS02']"
   ]
  },
  {
   "cell_type": "markdown",
   "id": "dce485cc",
   "metadata": {},
   "source": [
    ">Also note that non-unique indices are allowed"
   ]
  },
  {
   "cell_type": "code",
   "execution_count": null,
   "id": "7086feab",
   "metadata": {},
   "outputs": [],
   "source": [
    "list1 = ['Ehtisham', 'Ali', 'Ayesha', 'Dua']\n",
    "indices = [2.1, 2.2, 2.3, 2.4,]   \n",
    "\n",
    "s = pd.Series(data=list1, index=indices)\n",
    "print(s)\n",
    "print(type(s))"
   ]
  },
  {
   "cell_type": "code",
   "execution_count": null,
   "id": "6ac54543",
   "metadata": {},
   "outputs": [],
   "source": []
  },
  {
   "cell_type": "markdown",
   "id": "d57856ac",
   "metadata": {},
   "source": [
    "**You can create a series with NaN values, using `np.nan`, which is IEEE 754 floating-point representation of Not a Number. NaN values can act as a placeholder for any missing numerical values in the array.**"
   ]
  },
  {
   "cell_type": "code",
   "execution_count": null,
   "id": "e420a746",
   "metadata": {},
   "outputs": [],
   "source": [
    "list1 = [1, 2.7, np.nan, 54]\n",
    "s = pd.Series(data=list1)\n",
    "print(s)\n",
    "print(type(s))"
   ]
  },
  {
   "cell_type": "markdown",
   "id": "04a86a0f",
   "metadata": {},
   "source": [
    ">Also note the `dtype` of the series object is inferred from the data as `float64`"
   ]
  },
  {
   "cell_type": "code",
   "execution_count": null,
   "id": "80ff6a9c",
   "metadata": {},
   "outputs": [],
   "source": []
  },
  {
   "cell_type": "markdown",
   "id": "77c3bf63",
   "metadata": {},
   "source": [
    "**You can use the `dtype` argument to specify a datatype to the series object.**"
   ]
  },
  {
   "cell_type": "code",
   "execution_count": null,
   "id": "ca5026c7",
   "metadata": {},
   "outputs": [],
   "source": [
    "list1 = [27, 33, 19]\n",
    "s = pd.Series(data=list1, dtype=np.uint8)\n",
    "print(s)\n",
    "print(type(s))"
   ]
  },
  {
   "cell_type": "code",
   "execution_count": null,
   "id": "9886a997",
   "metadata": {},
   "outputs": [],
   "source": []
  },
  {
   "cell_type": "markdown",
   "id": "a1c2a099",
   "metadata": {},
   "source": [
    "**Optionally, you can assign a name to a series, which becomes attribute of the series object. Moreover, it becomes the column name, if that series object is used to create a dataframe later.**"
   ]
  },
  {
   "cell_type": "code",
   "execution_count": null,
   "id": "8b6eeb30",
   "metadata": {},
   "outputs": [],
   "source": [
    "list1 = ['Ehtisham', 'Ali', 'Ayesha', 'Dua']\n",
    "indices = ['MS01', 'MS02', 'MS03', 'MS04']\n",
    "s = pd.Series(data=list1, index=indices, name='myseries1') \n",
    "print(s)\n",
    "print(type(s))"
   ]
  },
  {
   "cell_type": "code",
   "execution_count": null,
   "id": "8a304a93",
   "metadata": {},
   "outputs": [],
   "source": []
  },
  {
   "cell_type": "markdown",
   "id": "adefe54c",
   "metadata": {},
   "source": [
    "### b. Creating a Series from NumPy Array"
   ]
  },
  {
   "cell_type": "code",
   "execution_count": null,
   "id": "b8a7f088",
   "metadata": {},
   "outputs": [],
   "source": [
    "np.arange(4)"
   ]
  },
  {
   "cell_type": "code",
   "execution_count": null,
   "id": "46c41869",
   "metadata": {},
   "outputs": [],
   "source": [
    "s = pd.Series(data = np.arange(4))\n",
    "print(s)\n",
    "print(type(s))"
   ]
  },
  {
   "cell_type": "code",
   "execution_count": null,
   "id": "ac84af6f",
   "metadata": {},
   "outputs": [],
   "source": []
  },
  {
   "cell_type": "code",
   "execution_count": null,
   "id": "32fb1954",
   "metadata": {},
   "outputs": [],
   "source": [
    "arr1 = np.array([22.3,33.6, 98, 44])\n",
    "s = pd.Series(data=arr1, dtype='float64')\n",
    "print(s)\n",
    "print(type(s))"
   ]
  },
  {
   "cell_type": "code",
   "execution_count": null,
   "id": "014a7b02",
   "metadata": {},
   "outputs": [],
   "source": []
  },
  {
   "cell_type": "markdown",
   "id": "6a8917ca",
   "metadata": {},
   "source": [
    "### c. Creating a Series from Python Dictionary"
   ]
  },
  {
   "cell_type": "code",
   "execution_count": null,
   "id": "665af5d7",
   "metadata": {},
   "outputs": [],
   "source": [
    "my_dict = {\n",
    "    'name':\"Ehtisham\", \n",
    "    'gender':\"Male\", \n",
    "    'Role':\"Student\", \n",
    "    'subject':\"Operating System\"}\n",
    "s = pd.Series(data=my_dict)\n",
    "print(s)\n",
    "print(type(s))"
   ]
  },
  {
   "cell_type": "markdown",
   "id": "7d1af826",
   "metadata": {},
   "source": [
    "**When you create a series from dictionary, it will automatically take the keys as index and the value as data**"
   ]
  },
  {
   "cell_type": "code",
   "execution_count": null,
   "id": "a373d70a",
   "metadata": {},
   "outputs": [],
   "source": [
    "for i in s:\n",
    "    print(i)"
   ]
  },
  {
   "cell_type": "code",
   "execution_count": null,
   "id": "5520eeed",
   "metadata": {},
   "outputs": [],
   "source": []
  },
  {
   "cell_type": "markdown",
   "id": "cd475971",
   "metadata": {},
   "source": [
    "### d. Creating a Series from Scalar value"
   ]
  },
  {
   "cell_type": "code",
   "execution_count": null,
   "id": "f08b327f",
   "metadata": {},
   "outputs": [],
   "source": [
    "s = pd.Series(data=25)\n",
    "print(s)\n",
    "print(type(s))\n",
    "s.shape"
   ]
  },
  {
   "cell_type": "code",
   "execution_count": null,
   "id": "7e39a8a8",
   "metadata": {},
   "outputs": [],
   "source": []
  },
  {
   "cell_type": "markdown",
   "id": "83ffbdd4",
   "metadata": {},
   "source": [
    "### e. Creating an Empty Series"
   ]
  },
  {
   "cell_type": "code",
   "execution_count": null,
   "id": "46319b2b",
   "metadata": {},
   "outputs": [],
   "source": [
    "# Need to pass atleast `dtype` else you get a warning\n",
    "s=pd.Series()\n",
    "print(s)\n",
    "print(type(s))"
   ]
  },
  {
   "cell_type": "code",
   "execution_count": null,
   "id": "ea08592c",
   "metadata": {},
   "outputs": [],
   "source": []
  },
  {
   "cell_type": "code",
   "execution_count": null,
   "id": "d4104205",
   "metadata": {},
   "outputs": [],
   "source": []
  },
  {
   "cell_type": "markdown",
   "id": "bec8ddc7",
   "metadata": {},
   "source": [
    "## 3. Attributes of Pandas  Series\n",
    "- We can access certain properties called attributes of a series by using that property with the series name using dot `.` notation\n",
    "- Mostly attributes of pandas series are similar to pandas dataframe."
   ]
  },
  {
   "cell_type": "code",
   "execution_count": null,
   "id": "a6d82809",
   "metadata": {},
   "outputs": [],
   "source": [
    "import numpy as np"
   ]
  },
  {
   "cell_type": "code",
   "execution_count": null,
   "id": "e021e537",
   "metadata": {},
   "outputs": [],
   "source": [
    "my_dict = {0:\"Ehtisham\", 1:np.nan, 2:\"Ali\", 3:\"Ayesha\", 4:\"Dua\", 5:\"Khubaib\", 6:\"Adeen\"}\n",
    "s = pd.Series(my_dict, name=\"myseries1\")\n",
    "s"
   ]
  },
  {
   "cell_type": "code",
   "execution_count": null,
   "id": "d5e9a852",
   "metadata": {},
   "outputs": [],
   "source": []
  },
  {
   "cell_type": "code",
   "execution_count": null,
   "id": "666018f4",
   "metadata": {},
   "outputs": [],
   "source": [
    "# `name` attribute of a series object return the name of the series object\n",
    "s.name"
   ]
  },
  {
   "cell_type": "code",
   "execution_count": null,
   "id": "9db01ffb",
   "metadata": {},
   "outputs": [],
   "source": []
  },
  {
   "cell_type": "code",
   "execution_count": null,
   "id": "a24ade38",
   "metadata": {},
   "outputs": [],
   "source": [
    "# `index` attribute of a series object return the list of indices and its datatype\n",
    "s.index"
   ]
  },
  {
   "cell_type": "code",
   "execution_count": null,
   "id": "a2999a6c",
   "metadata": {},
   "outputs": [],
   "source": []
  },
  {
   "cell_type": "code",
   "execution_count": null,
   "id": "1f7d188a",
   "metadata": {},
   "outputs": [],
   "source": [
    "# `values` attribute of a series object return the list of values and its datatype\n",
    "s.values"
   ]
  },
  {
   "cell_type": "code",
   "execution_count": null,
   "id": "8d3fb450",
   "metadata": {},
   "outputs": [],
   "source": [
    "[3], [2,3,4,5,5,6] vector, [[2,3,4],[4,6,7]]"
   ]
  },
  {
   "cell_type": "code",
   "execution_count": null,
   "id": "0c117bdd",
   "metadata": {},
   "outputs": [],
   "source": [
    "# `dtype` attribute of a series object return the type of underlying data\n",
    "s.dtype"
   ]
  },
  {
   "cell_type": "code",
   "execution_count": null,
   "id": "14f93c3b",
   "metadata": {},
   "outputs": [],
   "source": []
  },
  {
   "cell_type": "code",
   "execution_count": null,
   "id": "2e044be9",
   "metadata": {},
   "outputs": [],
   "source": [
    "# `shape` attribute of a series object return a tuple of shape of underlying data\n",
    "s.shape"
   ]
  },
  {
   "cell_type": "code",
   "execution_count": null,
   "id": "101670e3",
   "metadata": {},
   "outputs": [],
   "source": []
  },
  {
   "cell_type": "code",
   "execution_count": null,
   "id": "be57c960",
   "metadata": {},
   "outputs": [],
   "source": [
    "# `nbytes` attribute of a series object return the number of bytes of underlying data (object data type take 8 bytes)\n",
    "s.nbytes"
   ]
  },
  {
   "cell_type": "code",
   "execution_count": null,
   "id": "ee4ab797",
   "metadata": {},
   "outputs": [],
   "source": []
  },
  {
   "cell_type": "code",
   "execution_count": null,
   "id": "0236e399",
   "metadata": {},
   "outputs": [],
   "source": [
    "# `size` attribute of a series object return number of elements in the underlying data\n",
    "s.size"
   ]
  },
  {
   "cell_type": "code",
   "execution_count": null,
   "id": "b5c0a63b",
   "metadata": {},
   "outputs": [],
   "source": []
  },
  {
   "cell_type": "code",
   "execution_count": null,
   "id": "4d41072e",
   "metadata": {},
   "outputs": [],
   "source": [
    "# `ndim` attribute of a series object return number of dimensions of underlying data\n",
    "s.ndim"
   ]
  },
  {
   "cell_type": "code",
   "execution_count": null,
   "id": "287f42d9",
   "metadata": {},
   "outputs": [],
   "source": []
  },
  {
   "cell_type": "code",
   "execution_count": null,
   "id": "0072cb0f",
   "metadata": {},
   "outputs": [],
   "source": [
    "# `hasnans` attribute of a series object return true if there are NaN values in the data\n",
    "s.hasnans"
   ]
  },
  {
   "cell_type": "code",
   "execution_count": null,
   "id": "27db5cc4",
   "metadata": {},
   "outputs": [],
   "source": []
  },
  {
   "cell_type": "code",
   "execution_count": null,
   "id": "94db271e",
   "metadata": {},
   "outputs": [],
   "source": []
  },
  {
   "cell_type": "markdown",
   "id": "1471a464",
   "metadata": {},
   "source": [
    "<img align=\"right\" width=\"500\" height=\"500\"  src=\"images/series-anatomy.png\"  >\n",
    "\n",
    "## 4. Understanding Index in a Series\n",
    "- Every series object has an index associated with every item. \n",
    "- The Pandas series object supports both integer-based (default) and label/string-based indexing and provides a host of methods for performing operations involving the index.\n",
    "<br><br>\n",
    "    - When index is unique, Pandas use a hashtable to map `key to value` and searching can be done in O(1) time. \n",
    "    - When index is non-unique but sorted, Pandas use binary search, which takes logarithmic time O(logN).\n",
    "    - When index is randomly ordered, searching takes linear time, as Pandas need to check all the keys in the index O(N).<br><br>\n",
    "- Index in series object is used for three purposes:\n",
    "    - Identification\n",
    "    - Selection/Filtering/Subsetting\n",
    "    - Alignment <br><br>"
   ]
  },
  {
   "cell_type": "code",
   "execution_count": null,
   "id": "26d6e7a3",
   "metadata": {},
   "outputs": [],
   "source": []
  },
  {
   "cell_type": "markdown",
   "id": "08a63cdf",
   "metadata": {},
   "source": [
    "### a. Changing Index of a Series Object\n",
    "- In above examples, we have seen that\n",
    "    - If we create a Series object from dictionary, the keys of dictionray become the index \n",
    "    - If we create a Series object from a list or numPy array, the index defaults to integers from 0, 1, 2, ...\n",
    "    - Last but not the least, we can assign the indices of our own choice, which can be integers or strings\n",
    "- Let us see as how we can change the indices of a series object after creation"
   ]
  },
  {
   "cell_type": "code",
   "execution_count": null,
   "id": "81221a73",
   "metadata": {},
   "outputs": [],
   "source": [
    "list1 = ['Ehtisham', 'Ali', 'Ayesha', 'Dua','Adeen']\n",
    "\n",
    "s = pd.Series(data=list1)\n",
    "print(s)\n",
    "print(s.index)"
   ]
  },
  {
   "cell_type": "code",
   "execution_count": null,
   "id": "ffde2104",
   "metadata": {},
   "outputs": [],
   "source": []
  },
  {
   "cell_type": "markdown",
   "id": "6514f86e",
   "metadata": {},
   "source": [
    ">Index attribute of series object shows that index range for this series is from (0-4) with step value of 1"
   ]
  },
  {
   "cell_type": "markdown",
   "id": "2ac638df",
   "metadata": {},
   "source": [
    "**Let us modify the index of this series object to some random integers by assigning a random array of integers to `index` attribute of this series object**"
   ]
  },
  {
   "cell_type": "code",
   "execution_count": null,
   "id": "ca48f7cb",
   "metadata": {},
   "outputs": [],
   "source": [
    "arr1 = np.random.randint(low = 100, high = 200, size = 5)\n",
    "\n",
    "arr1"
   ]
  },
  {
   "cell_type": "code",
   "execution_count": null,
   "id": "7485af18",
   "metadata": {},
   "outputs": [],
   "source": [
    "s.index = arr1\n",
    "\n",
    "print(s)\n",
    "print(s.index)"
   ]
  },
  {
   "cell_type": "code",
   "execution_count": null,
   "id": "4154c8d6",
   "metadata": {},
   "outputs": [],
   "source": [
    "s.index = [1,4,2,6.3,9]\n",
    "\n",
    "print(s)\n",
    "print(s.index)"
   ]
  },
  {
   "cell_type": "code",
   "execution_count": null,
   "id": "ccd09941",
   "metadata": {},
   "outputs": [],
   "source": []
  },
  {
   "cell_type": "markdown",
   "id": "c7252611",
   "metadata": {},
   "source": [
    "**Changing index of a series to a list of strings**"
   ]
  },
  {
   "cell_type": "code",
   "execution_count": null,
   "id": "3b0106b8",
   "metadata": {},
   "outputs": [],
   "source": [
    "list1 = ['Ehtisham', 'Ali', 'Ayesha', 'Dua','Adeen']\n",
    "\n",
    "s = pd.Series(data=list1)\n",
    "print(s)\n",
    "print(s.index)"
   ]
  },
  {
   "cell_type": "code",
   "execution_count": null,
   "id": "c8738768",
   "metadata": {},
   "outputs": [],
   "source": [
    "indices = ['num1', 'num2', 'num3', 'num4', 'num5']\n",
    "\n",
    "s.index = indices\n",
    "\n",
    "print(s)\n",
    "print(s.index)"
   ]
  },
  {
   "cell_type": "code",
   "execution_count": null,
   "id": "872bac58",
   "metadata": {},
   "outputs": [],
   "source": []
  },
  {
   "cell_type": "markdown",
   "id": "6ae33d5a",
   "metadata": {},
   "source": [
    "<img align=\"right\" width=\"300\" height=\"300\"  src=\"images/series-anatomy.png\"  >\n",
    "\n",
    "### b. First use of Index (Identification)\n",
    "- The main purpose of index is to identify or search the element of series object.\n",
    "- Since every data value of a series object has an associated index (integer or string). So we can use this index/label to identify or access data value(s)\n",
    "- There are three ways to access elements of a series:\n",
    "    - Using `s[]` operator and specifying the index (integer/label)\n",
    "    - Using `s.loc[]` method and specifying the index (integer/label)\n",
    "    - Using `s.iloc[]` method and specify the position (an integer value from 0 to length-1). It also support negative indexing, the last element can be accessed by an index of -1"
   ]
  },
  {
   "cell_type": "code",
   "execution_count": null,
   "id": "66247ee3",
   "metadata": {},
   "outputs": [],
   "source": []
  },
  {
   "cell_type": "markdown",
   "id": "2f62003c",
   "metadata": {},
   "source": [
    "**Identification using Integer Indices or by Position**"
   ]
  },
  {
   "cell_type": "code",
   "execution_count": null,
   "id": "d708f31c",
   "metadata": {},
   "outputs": [],
   "source": [
    "list1 = ['Ehtisham', 'Ali', 'Ayesha', 'Dua','Adeen']\n",
    "\n",
    "indices = [5, 10, 15, 20, 25]\n",
    "s = pd.Series(data=list1, index=indices)\n",
    "s"
   ]
  },
  {
   "cell_type": "code",
   "execution_count": null,
   "id": "c9045a42",
   "metadata": {},
   "outputs": [],
   "source": [
    "# Give index to subscript operator\n",
    "s[25]\n",
    "\n",
    "# Subscript operator do not work on position\n",
    "# s[2] # will raise an error because index 0 do not exist"
   ]
  },
  {
   "cell_type": "code",
   "execution_count": null,
   "id": "5db907c0",
   "metadata": {},
   "outputs": [],
   "source": []
  },
  {
   "cell_type": "code",
   "execution_count": null,
   "id": "aa0c38b5",
   "metadata": {},
   "outputs": [],
   "source": [
    "# Give index to  loc method\n",
    "s.loc[20]\n",
    "# loc method do not work on position\n",
    "# s.loc[0] # will raise an error because index 0 do not exist"
   ]
  },
  {
   "cell_type": "code",
   "execution_count": null,
   "id": "e21b7e48",
   "metadata": {},
   "outputs": [],
   "source": [
    "# iloc method is position based, so will flag an error if you pass an actual index\n",
    "s.iloc[2] "
   ]
  },
  {
   "cell_type": "code",
   "execution_count": null,
   "id": "855fbda2",
   "metadata": {},
   "outputs": [],
   "source": [
    "# The iloc method is passed position and not index\n",
    "s.iloc[3]\n"
   ]
  },
  {
   "cell_type": "code",
   "execution_count": null,
   "id": "eb2a1bbf",
   "metadata": {},
   "outputs": [],
   "source": []
  },
  {
   "cell_type": "markdown",
   "id": "50d136c4",
   "metadata": {},
   "source": [
    "**Fancy Indexing**"
   ]
  },
  {
   "cell_type": "code",
   "execution_count": null,
   "id": "a63e1a06",
   "metadata": {},
   "outputs": [],
   "source": [
    "# Can access multiple values by specifying a list of indices\n",
    "s[[20, 5,25]]"
   ]
  },
  {
   "cell_type": "code",
   "execution_count": null,
   "id": "bee25cf3",
   "metadata": {},
   "outputs": [],
   "source": [
    "# Can access multiple values by specifying a list of indices\n",
    "s.loc[[20, 5]]"
   ]
  },
  {
   "cell_type": "code",
   "execution_count": null,
   "id": "712eb404",
   "metadata": {},
   "outputs": [],
   "source": [
    "# Can access multiple values by specifying list of positions\n",
    "s.iloc[[3, 0]]"
   ]
  },
  {
   "cell_type": "markdown",
   "id": "2cdfc9bc",
   "metadata": {},
   "source": [
    "**Negative Indexing, work only for `iloc`**"
   ]
  },
  {
   "cell_type": "code",
   "execution_count": null,
   "id": "c7e0fe12",
   "metadata": {},
   "outputs": [],
   "source": [
    "s"
   ]
  },
  {
   "cell_type": "code",
   "execution_count": null,
   "id": "49ed6d72",
   "metadata": {},
   "outputs": [],
   "source": [
    "# s[-1]\n",
    "# s.loc[-1]\n",
    "s.iloc[-3:]"
   ]
  },
  {
   "cell_type": "code",
   "execution_count": null,
   "id": "7b447220",
   "metadata": {},
   "outputs": [],
   "source": []
  },
  {
   "cell_type": "code",
   "execution_count": null,
   "id": "f8025bfc",
   "metadata": {},
   "outputs": [],
   "source": []
  },
  {
   "cell_type": "markdown",
   "id": "77ac3b00",
   "metadata": {},
   "source": [
    "**Identification using String Indices or by Position**"
   ]
  },
  {
   "cell_type": "code",
   "execution_count": null,
   "id": "d4794a46",
   "metadata": {},
   "outputs": [],
   "source": [
    "list1 = ['Ehtisham', 'Ali', 'Ayesha', 'Dua','Adeen']\n",
    "\n",
    "indices = ['num1', 'num2', 'num3', 'num4', 'num5']\n",
    "s = pd.Series(data=list1, index=indices)\n",
    "s"
   ]
  },
  {
   "cell_type": "code",
   "execution_count": null,
   "id": "7896749e",
   "metadata": {},
   "outputs": [],
   "source": [
    "# Give index to subscript operator (which in this case is a string or label)\n",
    "s['num1']"
   ]
  },
  {
   "cell_type": "code",
   "execution_count": null,
   "id": "7a47d221",
   "metadata": {},
   "outputs": [],
   "source": [
    "# for position as well\n",
    "s[2]"
   ]
  },
  {
   "cell_type": "code",
   "execution_count": null,
   "id": "6eb25351",
   "metadata": {},
   "outputs": [],
   "source": [
    "# Give index to  loc method (which in this case is a string or label)\n",
    "s.loc['num1']"
   ]
  },
  {
   "cell_type": "code",
   "execution_count": null,
   "id": "ff783e46",
   "metadata": {},
   "outputs": [],
   "source": [
    "# Will not work on position the way [] worked previously\n",
    "# s.loc[0]"
   ]
  },
  {
   "cell_type": "code",
   "execution_count": null,
   "id": "33fa58b7",
   "metadata": {},
   "outputs": [],
   "source": [
    "# iloc method is position based, so will flag an error if you pass it string indices\n",
    "#s.iloc['num1'] \n",
    "# however will work fine if you pass an integer specifying the position\n",
    "s.iloc[0]"
   ]
  },
  {
   "cell_type": "code",
   "execution_count": null,
   "id": "fb5955b7",
   "metadata": {},
   "outputs": [],
   "source": [
    "s.iloc[-1]"
   ]
  },
  {
   "cell_type": "code",
   "execution_count": null,
   "id": "73243d05",
   "metadata": {},
   "outputs": [],
   "source": []
  },
  {
   "cell_type": "markdown",
   "id": "bcfca675",
   "metadata": {},
   "source": [
    "**Fancy Indexing**"
   ]
  },
  {
   "cell_type": "code",
   "execution_count": null,
   "id": "f11d537e",
   "metadata": {},
   "outputs": [],
   "source": [
    "# Can access multiple values by specifying a list of indices (which in this case are strings or labels)\n",
    "s[['num3', 'num1']]"
   ]
  },
  {
   "cell_type": "code",
   "execution_count": null,
   "id": "4f6464df",
   "metadata": {},
   "outputs": [],
   "source": [
    "# Can access multiple values by specifying a list of indices (which in this case are strings or labels)\n",
    "s.loc[['num3', 'num1']]"
   ]
  },
  {
   "cell_type": "code",
   "execution_count": null,
   "id": "5219c075",
   "metadata": {},
   "outputs": [],
   "source": [
    "# iloc method is position based, so will flag an error if you pass it string indices\n",
    "#s.iloc['num3', 'num1'] \n",
    "# however will work fine if you pass an integer specifying the position\n",
    "s.iloc[[2,0]]"
   ]
  },
  {
   "cell_type": "code",
   "execution_count": null,
   "id": "5fb3b05c",
   "metadata": {},
   "outputs": [],
   "source": []
  },
  {
   "cell_type": "markdown",
   "id": "c33193ff",
   "metadata": {},
   "source": [
    "<img align=\"right\" width=\"400\" height=\"400\"  src=\"images/series-anatomy.png\"  >\n",
    "\n",
    "### c. Second use of Index (Selection)\n",
    "- A series can be sliced using `:` symbol, which returns a subset of a series object (values with corresponding indices).\n",
    "- There are three arguments of slice object `[[start]:[stop][:step]]`, and all are optional\n",
    "\n",
    "- The slice object can be used in three ways to slice a Pandas Series object::\n",
    "    - Using `s[]` operator and specifying the index (integer/label)\n",
    "    - Using `s.loc[]` method and specifying the index (integer/label)\n",
    "    - Using `.iloc` method and specify the position (an integer value from 0 to length-1). It also support negative indexing, the last element can be accessed by an index of -1\n",
    "- Keep following points in mind:\n",
    "    - The `stop` argument is NOT inclusive for `s[]` for integer indices, while it is inclusive for string indices.\n",
    "    - The `stop` argument is inclusive for `s.loc[]` for both integer and label indices.\n",
    "    - The `stop` argument is NOT inclusive for `s.iloc[]` being position based.\n",
    "  \n",
    ">**Note: Once you slice a Pandas series, you get a view of the original object, which is similar to shallow copy. So if you modify an element in original series object, the change will also be visible in the other series object.**"
   ]
  },
  {
   "cell_type": "markdown",
   "id": "1e3ea7a4",
   "metadata": {},
   "source": [
    "**Selection/Filtering/Subsetting of Series object having Integer indices**"
   ]
  },
  {
   "cell_type": "code",
   "execution_count": 1,
   "id": "6ee5572d",
   "metadata": {},
   "outputs": [
    {
     "data": {
      "text/plain": [
       "5     Ehtisham\n",
       "10         Ali\n",
       "15      Ayesha\n",
       "20         Dua\n",
       "25       Adeen\n",
       "dtype: object"
      ]
     },
     "execution_count": 1,
     "metadata": {},
     "output_type": "execute_result"
    }
   ],
   "source": [
    "import pandas as pd\n",
    "import numpy as np\n",
    "list1 = ['Ehtisham', 'Ali', 'Ayesha', 'Dua','Adeen']\n",
    "\n",
    "indices = [5, 10, 15, 20, 25]\n",
    "s = pd.Series(data=list1, index=indices)\n",
    "s"
   ]
  },
  {
   "cell_type": "code",
   "execution_count": 2,
   "id": "98f62fcb",
   "metadata": {},
   "outputs": [
    {
     "data": {
      "text/plain": [
       "Series([], dtype: object)"
      ]
     },
     "execution_count": 2,
     "metadata": {},
     "output_type": "execute_result"
    }
   ],
   "source": [
    "s[5:15]"
   ]
  },
  {
   "cell_type": "code",
   "execution_count": 4,
   "id": "1da738e1",
   "metadata": {},
   "outputs": [
    {
     "data": {
      "text/plain": [
       "10       Ali\n",
       "15    Ayesha\n",
       "20       Dua\n",
       "dtype: object"
      ]
     },
     "execution_count": 4,
     "metadata": {},
     "output_type": "execute_result"
    }
   ],
   "source": [
    "# The subscript operator considers the slice object as positional index and not as the actual indices \n",
    "# (if we have integer indices)\n",
    "# The `stop` argument is NOT inclusive for `s[]` for integer indices\n",
    "s[1:4]"
   ]
  },
  {
   "cell_type": "code",
   "execution_count": 5,
   "id": "faacfdb9",
   "metadata": {},
   "outputs": [
    {
     "data": {
      "text/plain": [
       "5     Ehtisham\n",
       "10         Ali\n",
       "15      Ayesha\n",
       "dtype: object"
      ]
     },
     "execution_count": 5,
     "metadata": {},
     "output_type": "execute_result"
    }
   ],
   "source": [
    "#The loc[] method considers the slice object as actual indices and not as positional indices\n",
    "# The stop argument is inclusive for `s.loc[]` for both integer and label indices\n",
    "s.loc[5:15]"
   ]
  },
  {
   "cell_type": "code",
   "execution_count": 6,
   "id": "b9516690",
   "metadata": {},
   "outputs": [
    {
     "data": {
      "text/plain": [
       "10       Ali\n",
       "15    Ayesha\n",
       "20       Dua\n",
       "dtype: object"
      ]
     },
     "execution_count": 6,
     "metadata": {},
     "output_type": "execute_result"
    }
   ],
   "source": [
    "# The iloc[] method considers the slice object as positional index and not as the actual indices\n",
    "# The `stop` argument is NOT inclusive for `s.iloc[]` being position based\n",
    "s.iloc[1:4]"
   ]
  },
  {
   "cell_type": "code",
   "execution_count": null,
   "id": "04f57513",
   "metadata": {},
   "outputs": [],
   "source": []
  },
  {
   "cell_type": "code",
   "execution_count": null,
   "id": "6492eee8",
   "metadata": {},
   "outputs": [],
   "source": []
  },
  {
   "cell_type": "code",
   "execution_count": null,
   "id": "47eed183",
   "metadata": {},
   "outputs": [],
   "source": []
  },
  {
   "cell_type": "code",
   "execution_count": null,
   "id": "e97851e4",
   "metadata": {},
   "outputs": [],
   "source": []
  },
  {
   "cell_type": "markdown",
   "id": "633520b4",
   "metadata": {},
   "source": [
    "**Selection/Filtering/Subsetting of Series object having String Indices**"
   ]
  },
  {
   "cell_type": "code",
   "execution_count": 7,
   "id": "c56129ab",
   "metadata": {},
   "outputs": [
    {
     "data": {
      "text/plain": [
       "num1    Ehtisham\n",
       "num2         Ali\n",
       "num3      Ayesha\n",
       "num4         Dua\n",
       "num5       Adeen\n",
       "dtype: object"
      ]
     },
     "execution_count": 7,
     "metadata": {},
     "output_type": "execute_result"
    }
   ],
   "source": [
    "list1 = ['Ehtisham', 'Ali', 'Ayesha', 'Dua','Adeen']\n",
    "\n",
    "indices = ['num1', 'num2', 'num3', 'num4', 'num5']\n",
    "s = pd.Series(data=list1, index=indices)\n",
    "s"
   ]
  },
  {
   "cell_type": "code",
   "execution_count": 8,
   "id": "2fc7acf6",
   "metadata": {},
   "outputs": [
    {
     "data": {
      "text/plain": [
       "num1    Ehtisham\n",
       "num2         Ali\n",
       "dtype: object"
      ]
     },
     "execution_count": 8,
     "metadata": {},
     "output_type": "execute_result"
    }
   ],
   "source": [
    "s[0:2]"
   ]
  },
  {
   "cell_type": "code",
   "execution_count": 9,
   "id": "6618a2d7",
   "metadata": {},
   "outputs": [
    {
     "data": {
      "text/plain": [
       "num2       Ali\n",
       "num3    Ayesha\n",
       "num4       Dua\n",
       "dtype: object"
      ]
     },
     "execution_count": 9,
     "metadata": {},
     "output_type": "execute_result"
    }
   ],
   "source": [
    "# The subscript operator considers the slice object as positional index and not as the actual indices\n",
    "# (if we have integer indices). However, will also consider the actual indices in case of string indices\n",
    "# The `stop` argument is inclusive for `s[]` for string indices, while it is NOT inclusive for integer indices.\n",
    "s['num2':'num4']"
   ]
  },
  {
   "cell_type": "code",
   "execution_count": 10,
   "id": "2d059b44",
   "metadata": {},
   "outputs": [
    {
     "data": {
      "text/plain": [
       "num1    Ehtisham\n",
       "num2         Ali\n",
       "dtype: object"
      ]
     },
     "execution_count": 10,
     "metadata": {},
     "output_type": "execute_result"
    }
   ],
   "source": [
    "# The `stop` argument is inclusive for `s[]` for string indices, while it is NOT inclusive for integer indices.\n",
    "s[0:2]"
   ]
  },
  {
   "cell_type": "code",
   "execution_count": null,
   "id": "66660f6c",
   "metadata": {},
   "outputs": [],
   "source": []
  },
  {
   "cell_type": "code",
   "execution_count": null,
   "id": "5efe05df",
   "metadata": {},
   "outputs": [],
   "source": []
  },
  {
   "cell_type": "code",
   "execution_count": 11,
   "id": "e310d26b",
   "metadata": {},
   "outputs": [
    {
     "data": {
      "text/plain": [
       "num2       Ali\n",
       "num3    Ayesha\n",
       "num4       Dua\n",
       "dtype: object"
      ]
     },
     "execution_count": 11,
     "metadata": {},
     "output_type": "execute_result"
    }
   ],
   "source": [
    "#The loc[] method considers the slice object as actual indices and not as positional indices\n",
    "# The stop argument is inclusive for `s.loc[]` for both integer and label indices\n",
    "s.loc['num2':'num4']"
   ]
  },
  {
   "cell_type": "code",
   "execution_count": null,
   "id": "29bcd409",
   "metadata": {},
   "outputs": [],
   "source": []
  },
  {
   "cell_type": "code",
   "execution_count": null,
   "id": "92613467",
   "metadata": {},
   "outputs": [],
   "source": []
  },
  {
   "cell_type": "code",
   "execution_count": 12,
   "id": "e9214d37",
   "metadata": {},
   "outputs": [
    {
     "data": {
      "text/plain": [
       "num2       Ali\n",
       "num3    Ayesha\n",
       "num4       Dua\n",
       "dtype: object"
      ]
     },
     "execution_count": 12,
     "metadata": {},
     "output_type": "execute_result"
    }
   ],
   "source": [
    "# The iloc[] method considers the slice object as positional index and not as the actual indices\n",
    "# iloc method is position based, so will flag an error if you pass it string indices\n",
    "#s.iloc['num2': 'num4'] \n",
    "# however will work fine if you pass an integer values (specifying positions) in the slice operator\n",
    "# Moreover the stop index is not inclusive\n",
    "s.iloc[1:4]"
   ]
  },
  {
   "cell_type": "code",
   "execution_count": null,
   "id": "a46059a2",
   "metadata": {},
   "outputs": [],
   "source": []
  },
  {
   "cell_type": "markdown",
   "id": "93f3eedc",
   "metadata": {},
   "source": [
    "**Understanding Step with Series object having String Indices**"
   ]
  },
  {
   "cell_type": "code",
   "execution_count": 13,
   "id": "e21a6ec1",
   "metadata": {},
   "outputs": [
    {
     "data": {
      "text/plain": [
       "num1    Ehtisham\n",
       "num2         Ali\n",
       "num3      Ayesha\n",
       "num4         Dua\n",
       "num5       Adeen\n",
       "dtype: object"
      ]
     },
     "execution_count": 13,
     "metadata": {},
     "output_type": "execute_result"
    }
   ],
   "source": [
    "s"
   ]
  },
  {
   "cell_type": "code",
   "execution_count": 14,
   "id": "3ec7cf17",
   "metadata": {},
   "outputs": [
    {
     "data": {
      "text/plain": [
       "num2       Ali\n",
       "num3    Ayesha\n",
       "num4       Dua\n",
       "num5     Adeen\n",
       "dtype: object"
      ]
     },
     "execution_count": 14,
     "metadata": {},
     "output_type": "execute_result"
    }
   ],
   "source": [
    "# The step works fine with string indices as well\n",
    "s['num2':'num5':1]"
   ]
  },
  {
   "cell_type": "code",
   "execution_count": 15,
   "id": "c0e987e9",
   "metadata": {},
   "outputs": [
    {
     "data": {
      "text/plain": [
       "num2    Ali\n",
       "num4    Dua\n",
       "dtype: object"
      ]
     },
     "execution_count": 15,
     "metadata": {},
     "output_type": "execute_result"
    }
   ],
   "source": [
    "s['num2':'num5':2]"
   ]
  },
  {
   "cell_type": "code",
   "execution_count": 16,
   "id": "0a54d42f",
   "metadata": {},
   "outputs": [
    {
     "data": {
      "text/plain": [
       "num5     Adeen\n",
       "num4       Dua\n",
       "num3    Ayesha\n",
       "dtype: object"
      ]
     },
     "execution_count": 16,
     "metadata": {},
     "output_type": "execute_result"
    }
   ],
   "source": [
    "s['num5':'num3':-1]"
   ]
  },
  {
   "cell_type": "code",
   "execution_count": null,
   "id": "05f5be0c",
   "metadata": {},
   "outputs": [],
   "source": []
  },
  {
   "cell_type": "markdown",
   "id": "d4be2333",
   "metadata": {},
   "source": [
    "<img align=\"right\" width=\"300\" height=\"300\"  src=\"images/series-anatomy.png\"  >\n",
    "\n",
    "### d. Third use of Index (Alignment)\n",
    "- We can perform basic arithmetic operations like addition, subtraction, multiplication, division, etc., on two Series objects, to produce a new Series instance.\n",
    "- The operation is done on each corresponding pair of elements. This is done by matching the indices of the two series objects."
   ]
  },
  {
   "cell_type": "markdown",
   "id": "66b50cf4",
   "metadata": {},
   "source": [
    "**Example 1:** Adding two series object with same integer indices"
   ]
  },
  {
   "cell_type": "code",
   "execution_count": 17,
   "id": "1896462a",
   "metadata": {},
   "outputs": [],
   "source": [
    "list1 = [1,3,5,7,9];\n",
    "list2 = [2,4,6,8,10];\n",
    "s1 = pd.Series(data=list1);\n",
    "s2 = pd.Series(data=list1);"
   ]
  },
  {
   "cell_type": "code",
   "execution_count": 18,
   "id": "78574d22",
   "metadata": {},
   "outputs": [
    {
     "name": "stdout",
     "output_type": "stream",
     "text": [
      "0    1\n",
      "1    3\n",
      "2    5\n",
      "3    7\n",
      "4    9\n",
      "dtype: int64\n",
      "RangeIndex(start=0, stop=5, step=1)\n"
     ]
    }
   ],
   "source": [
    "print(s1)\n",
    "print(s1.index)"
   ]
  },
  {
   "cell_type": "code",
   "execution_count": 19,
   "id": "788d4ac4",
   "metadata": {},
   "outputs": [
    {
     "name": "stdout",
     "output_type": "stream",
     "text": [
      "0    1\n",
      "1    3\n",
      "2    5\n",
      "3    7\n",
      "4    9\n",
      "dtype: int64\n",
      "RangeIndex(start=0, stop=5, step=1)\n"
     ]
    }
   ],
   "source": [
    "print(s2)\n",
    "print(s2.index)"
   ]
  },
  {
   "cell_type": "code",
   "execution_count": 20,
   "id": "753cef5e",
   "metadata": {},
   "outputs": [
    {
     "name": "stdout",
     "output_type": "stream",
     "text": [
      "0     2\n",
      "1     6\n",
      "2    10\n",
      "3    14\n",
      "4    18\n",
      "dtype: int64\n",
      "RangeIndex(start=0, stop=5, step=1)\n"
     ]
    }
   ],
   "source": [
    "s3 = s1 + s2\n",
    "print(s3)\n",
    "print(s3.index)"
   ]
  },
  {
   "cell_type": "code",
   "execution_count": null,
   "id": "c948732c",
   "metadata": {},
   "outputs": [],
   "source": []
  },
  {
   "cell_type": "markdown",
   "id": "3e2db378",
   "metadata": {},
   "source": [
    "**Example 2:** Adding two series object having different integer indices"
   ]
  },
  {
   "cell_type": "code",
   "execution_count": 21,
   "id": "66e62e56",
   "metadata": {},
   "outputs": [],
   "source": [
    "list1 = [6,9,7,5]\n",
    "index1 = [0,1,2,3]\n",
    "list2 = [8,6,2,1]\n",
    "index2 = [0,2,3,5]\n",
    "s1 = pd.Series(data=list1, index=index1);\n",
    "s2 = pd.Series(data=list2, index=index2);"
   ]
  },
  {
   "cell_type": "code",
   "execution_count": 22,
   "id": "88bd4169",
   "metadata": {},
   "outputs": [
    {
     "data": {
      "text/plain": [
       "(0    6\n",
       " 1    9\n",
       " 2    7\n",
       " 3    5\n",
       " dtype: int64,\n",
       " 0    8\n",
       " 2    6\n",
       " 3    2\n",
       " 5    1\n",
       " dtype: int64)"
      ]
     },
     "execution_count": 22,
     "metadata": {},
     "output_type": "execute_result"
    }
   ],
   "source": [
    "s1,s2"
   ]
  },
  {
   "cell_type": "code",
   "execution_count": 23,
   "id": "5919d832",
   "metadata": {},
   "outputs": [
    {
     "name": "stdout",
     "output_type": "stream",
     "text": [
      "0    6\n",
      "1    9\n",
      "2    7\n",
      "3    5\n",
      "dtype: int64\n",
      "Int64Index([0, 1, 2, 3], dtype='int64')\n"
     ]
    }
   ],
   "source": [
    "print(s1)\n",
    "print(s1.index)"
   ]
  },
  {
   "cell_type": "code",
   "execution_count": 24,
   "id": "ca5a5129",
   "metadata": {},
   "outputs": [
    {
     "name": "stdout",
     "output_type": "stream",
     "text": [
      "0    8\n",
      "2    6\n",
      "3    2\n",
      "5    1\n",
      "dtype: int64\n",
      "Int64Index([0, 2, 3, 5], dtype='int64')\n"
     ]
    }
   ],
   "source": [
    "print(s2)\n",
    "print(s2.index)"
   ]
  },
  {
   "cell_type": "code",
   "execution_count": null,
   "id": "a66e39d8",
   "metadata": {},
   "outputs": [],
   "source": []
  },
  {
   "cell_type": "code",
   "execution_count": 25,
   "id": "871fc971",
   "metadata": {},
   "outputs": [
    {
     "name": "stdout",
     "output_type": "stream",
     "text": [
      "0    14.0\n",
      "1     NaN\n",
      "2    13.0\n",
      "3     7.0\n",
      "5     NaN\n",
      "dtype: float64\n",
      "Int64Index([0, 1, 2, 3, 5], dtype='int64')\n"
     ]
    }
   ],
   "source": [
    "s3 = s1 + s2\n",
    "print(s3)\n",
    "print(s3.index)"
   ]
  },
  {
   "cell_type": "markdown",
   "id": "0dc94b75",
   "metadata": {},
   "source": [
    "**Problem:** While performing mathematical operations on series having mismatched indices, all missing values are filled in with NaN by default."
   ]
  },
  {
   "cell_type": "code",
   "execution_count": null,
   "id": "defbb4cb",
   "metadata": {},
   "outputs": [],
   "source": []
  },
  {
   "cell_type": "markdown",
   "id": "5890b468",
   "metadata": {},
   "source": [
    "**Solution:** To handle this problem, instead of using the operators (`+, -, *, /`), an explicit call to `s.add()`, `s.sub()`, `s.mul()` and `s.div()` is preferred. This allows us to replace the missing values in any of the series witth a specific value, so as to have a concrete output in place of NaN"
   ]
  },
  {
   "cell_type": "code",
   "execution_count": 27,
   "id": "cc9e60ce",
   "metadata": {},
   "outputs": [
    {
     "data": {
      "text/plain": [
       "(0    6\n",
       " 1    9\n",
       " 2    7\n",
       " 3    5\n",
       " dtype: int64,\n",
       " 0    8\n",
       " 2    6\n",
       " 3    2\n",
       " 5    1\n",
       " dtype: int64)"
      ]
     },
     "execution_count": 27,
     "metadata": {},
     "output_type": "execute_result"
    }
   ],
   "source": [
    "s1,s2"
   ]
  },
  {
   "cell_type": "code",
   "execution_count": 26,
   "id": "2de7e8d0",
   "metadata": {},
   "outputs": [
    {
     "data": {
      "text/plain": [
       "0    14.0\n",
       "1     9.0\n",
       "2    13.0\n",
       "3     7.0\n",
       "5     1.0\n",
       "dtype: float64"
      ]
     },
     "execution_count": 26,
     "metadata": {},
     "output_type": "execute_result"
    }
   ],
   "source": [
    "s1.add(s2, fill_value=0) # Compare it with above result"
   ]
  },
  {
   "cell_type": "code",
   "execution_count": null,
   "id": "682e1f94",
   "metadata": {},
   "outputs": [],
   "source": []
  },
  {
   "cell_type": "markdown",
   "id": "cf9c2aac",
   "metadata": {},
   "source": [
    "**Example 3:** Adding two series object having different string indices"
   ]
  },
  {
   "cell_type": "code",
   "execution_count": 42,
   "id": "8e7704fc",
   "metadata": {},
   "outputs": [],
   "source": [
    "list1 = [6,9,7,5, 2]\n",
    "labels1 = ['num1', 'num2', 'num3', 'num4', 'num5']\n",
    "\n",
    "list2 = [8,6,2,3,6]\n",
    "labels2 = ['num1', 'num2', 'num3', 'num8', 'num5']\n",
    "\n",
    "s1 = pd.Series(data=list1, index=labels1)\n",
    "s2 = pd.Series(data=list2, index=labels2)\n"
   ]
  },
  {
   "cell_type": "code",
   "execution_count": null,
   "id": "1c5b04e3",
   "metadata": {},
   "outputs": [],
   "source": []
  },
  {
   "cell_type": "code",
   "execution_count": 29,
   "id": "c300583c",
   "metadata": {},
   "outputs": [
    {
     "name": "stdout",
     "output_type": "stream",
     "text": [
      "num1    6\n",
      "num2    9\n",
      "num3    7\n",
      "num4    5\n",
      "num5    2\n",
      "dtype: int64\n",
      "Index(['num1', 'num2', 'num3', 'num4', 'num5'], dtype='object')\n"
     ]
    }
   ],
   "source": [
    "print(s1)\n",
    "print(s1.index)"
   ]
  },
  {
   "cell_type": "code",
   "execution_count": 30,
   "id": "c55c3331",
   "metadata": {},
   "outputs": [
    {
     "name": "stdout",
     "output_type": "stream",
     "text": [
      "num1    8\n",
      "num2    6\n",
      "num3    2\n",
      "num8    3\n",
      "num5    6\n",
      "dtype: int64\n",
      "Index(['num1', 'num2', 'num3', 'num8', 'num5'], dtype='object')\n"
     ]
    }
   ],
   "source": [
    "print(s2)\n",
    "print(s2.index)"
   ]
  },
  {
   "cell_type": "code",
   "execution_count": 33,
   "id": "ec478667",
   "metadata": {},
   "outputs": [
    {
     "name": "stdout",
     "output_type": "stream",
     "text": [
      "num1    14.0\n",
      "num2    15.0\n",
      "num3     9.0\n",
      "num4    10.0\n",
      "num5     8.0\n",
      "num8     8.0\n",
      "dtype: float64\n",
      "Index(['num1', 'num2', 'num3', 'num4', 'num5', 'num8'], dtype='object')\n"
     ]
    }
   ],
   "source": [
    "# Let us use the `add()` method\n",
    "#s1+s2\n",
    "s3 = s1.add(s2, fill_value=5)\n",
    "# s3 = s1.add(s2)\n",
    "print(s3)\n",
    "print(s3.index)"
   ]
  },
  {
   "cell_type": "code",
   "execution_count": null,
   "id": "7ed01f62",
   "metadata": {},
   "outputs": [],
   "source": []
  },
  {
   "cell_type": "code",
   "execution_count": null,
   "id": "bcd9d91f",
   "metadata": {},
   "outputs": [],
   "source": [
    "import pandas as pd\n",
    "import numpy as np"
   ]
  },
  {
   "cell_type": "code",
   "execution_count": 34,
   "id": "f3dd4c98",
   "metadata": {},
   "outputs": [
    {
     "data": {
      "text/plain": [
       "array([ 1,  3,  5,  7,  9, 11, 13, 15, 17, 19])"
      ]
     },
     "execution_count": 34,
     "metadata": {},
     "output_type": "execute_result"
    }
   ],
   "source": [
    "a = np.arange(1,20,2)\n",
    "a"
   ]
  },
  {
   "cell_type": "code",
   "execution_count": 35,
   "id": "71fab575",
   "metadata": {},
   "outputs": [
    {
     "data": {
      "text/plain": [
       "0     1\n",
       "1     3\n",
       "2     5\n",
       "3     7\n",
       "4     9\n",
       "5    11\n",
       "6    13\n",
       "7    15\n",
       "8    17\n",
       "9    19\n",
       "dtype: int64"
      ]
     },
     "execution_count": 35,
     "metadata": {},
     "output_type": "execute_result"
    }
   ],
   "source": [
    "s = pd.Series(a)\n",
    "s"
   ]
  },
  {
   "cell_type": "code",
   "execution_count": 36,
   "id": "3e46b13a",
   "metadata": {},
   "outputs": [
    {
     "data": {
      "text/plain": [
       "(10,)"
      ]
     },
     "execution_count": 36,
     "metadata": {},
     "output_type": "execute_result"
    }
   ],
   "source": [
    "s.shape"
   ]
  },
  {
   "cell_type": "code",
   "execution_count": 40,
   "id": "c4ce3f81",
   "metadata": {},
   "outputs": [
    {
     "data": {
      "text/plain": [
       "1     3\n",
       "4     9\n",
       "7    15\n",
       "dtype: int64"
      ]
     },
     "execution_count": 40,
     "metadata": {},
     "output_type": "execute_result"
    }
   ],
   "source": [
    "s[s%3==0]"
   ]
  },
  {
   "cell_type": "code",
   "execution_count": null,
   "id": "1faba0ee",
   "metadata": {},
   "outputs": [],
   "source": [
    "# s[s>10]\n",
    "# s[s%3==0]"
   ]
  },
  {
   "cell_type": "code",
   "execution_count": null,
   "id": "d2b24df3",
   "metadata": {},
   "outputs": [],
   "source": [
    "# s[[3,5]]\n",
    "s.loc[3:6]"
   ]
  },
  {
   "cell_type": "code",
   "execution_count": null,
   "id": "e0592530",
   "metadata": {},
   "outputs": [],
   "source": [
    "s.iloc[3:6]"
   ]
  },
  {
   "cell_type": "code",
   "execution_count": 41,
   "id": "3b2d71a3",
   "metadata": {},
   "outputs": [
    {
     "data": {
      "text/plain": [
       "0     1\n",
       "1     3\n",
       "2     5\n",
       "3     7\n",
       "4     9\n",
       "5    11\n",
       "6    13\n",
       "7    15\n",
       "8    17\n",
       "9    19\n",
       "dtype: int64"
      ]
     },
     "execution_count": 41,
     "metadata": {},
     "output_type": "execute_result"
    }
   ],
   "source": [
    "s"
   ]
  },
  {
   "cell_type": "markdown",
   "id": "bf470aef",
   "metadata": {},
   "source": [
    "**My dear fellows, please make time to practice following topics related to Series:**\n",
    "- Boolean/Fancy Indexing and Slicing\n",
    "- Use of `reset_index()` method for completely resetting the index\n",
    "- Use of other manipulation methods like \n",
    "    - `s.pop(index)` is passed an index and it returns the data item at the index and removes it from series\n",
    "    - `s.drop(indexes)` is passed one or a list of indices and returns a series of the data items. Series remains unchanged unless the inplace = True argument is passed\n",
    "    - `s1.append(s2, ignore_index=False, verify_integrity=False)` is used to concatenate two series and return the concatenated series, original series remain unchanged\n",
    "    - `s1.update(s2)` is used to miduft the series `s1` inplace using the values from passed series\n",
    ">**We will discuss these while studying Pandas Dataframe object InshaAllah**"
   ]
  },
  {
   "cell_type": "code",
   "execution_count": 43,
   "id": "53a6a9bb",
   "metadata": {},
   "outputs": [
    {
     "data": {
      "text/plain": [
       "num1    6\n",
       "num2    9\n",
       "num3    7\n",
       "num4    5\n",
       "num5    2\n",
       "dtype: int64"
      ]
     },
     "execution_count": 43,
     "metadata": {},
     "output_type": "execute_result"
    }
   ],
   "source": [
    "s1"
   ]
  },
  {
   "cell_type": "code",
   "execution_count": 45,
   "id": "37405e5c",
   "metadata": {},
   "outputs": [
    {
     "data": {
      "text/plain": [
       "0    6\n",
       "1    9\n",
       "2    7\n",
       "3    5\n",
       "4    2\n",
       "dtype: int64"
      ]
     },
     "execution_count": 45,
     "metadata": {},
     "output_type": "execute_result"
    }
   ],
   "source": [
    "s1.reset_index(drop=True)"
   ]
  },
  {
   "cell_type": "code",
   "execution_count": 46,
   "id": "8953799e",
   "metadata": {},
   "outputs": [
    {
     "data": {
      "text/plain": [
       "0     1\n",
       "1     3\n",
       "2     5\n",
       "3     7\n",
       "4     9\n",
       "5    11\n",
       "6    13\n",
       "7    15\n",
       "8    17\n",
       "9    19\n",
       "dtype: int64"
      ]
     },
     "execution_count": 46,
     "metadata": {},
     "output_type": "execute_result"
    }
   ],
   "source": [
    "s"
   ]
  },
  {
   "cell_type": "code",
   "execution_count": 47,
   "id": "1b1c71de",
   "metadata": {},
   "outputs": [
    {
     "data": {
      "text/plain": [
       "7"
      ]
     },
     "execution_count": 47,
     "metadata": {},
     "output_type": "execute_result"
    }
   ],
   "source": [
    "s.pop(3)"
   ]
  },
  {
   "cell_type": "code",
   "execution_count": 48,
   "id": "72280a8f",
   "metadata": {},
   "outputs": [
    {
     "data": {
      "text/plain": [
       "0     1\n",
       "1     3\n",
       "2     5\n",
       "4     9\n",
       "5    11\n",
       "6    13\n",
       "7    15\n",
       "8    17\n",
       "9    19\n",
       "dtype: int64"
      ]
     },
     "execution_count": 48,
     "metadata": {},
     "output_type": "execute_result"
    }
   ],
   "source": [
    "s"
   ]
  },
  {
   "cell_type": "code",
   "execution_count": 49,
   "id": "617ceeee",
   "metadata": {},
   "outputs": [],
   "source": [
    "s.drop([2,4,6], inplace=True)"
   ]
  },
  {
   "cell_type": "code",
   "execution_count": 50,
   "id": "abab5d6a",
   "metadata": {},
   "outputs": [
    {
     "data": {
      "text/plain": [
       "0     1\n",
       "1     3\n",
       "5    11\n",
       "7    15\n",
       "8    17\n",
       "9    19\n",
       "dtype: int64"
      ]
     },
     "execution_count": 50,
     "metadata": {},
     "output_type": "execute_result"
    }
   ],
   "source": [
    "s"
   ]
  },
  {
   "cell_type": "code",
   "execution_count": null,
   "id": "ccad7031",
   "metadata": {},
   "outputs": [],
   "source": []
  },
  {
   "cell_type": "code",
   "execution_count": null,
   "id": "c31398ce",
   "metadata": {},
   "outputs": [],
   "source": []
  },
  {
   "cell_type": "markdown",
   "id": "e50d5209",
   "metadata": {},
   "source": [
    "# Pandas Series vs NumPy 1-D Arrays\n",
    ">- In a series object we can define our own labeled index to access elements of an array. These can be numbers or strings. NumPy arrays are accessed  by their integer position using numbers only.\n",
    ">- In a series object the elements can be indexed in descending order also. In NumPy arrays, the indexing starts with zero for the first element and the index is fixed.\n",
    ">- While performing arithmetic operations on series having misaligned indices, NaN or missing values may be generated. In NumPy arrays, the concept of broadcasting exist and there is no concept of NaN values. While performing arithmetic on incompatible numPy arrays the operation fails.\n",
    ">- Series require more memory. NumPy arrays occupies lesser memory.\n",
    "    \n",
    "    "
   ]
  },
  {
   "cell_type": "code",
   "execution_count": null,
   "id": "a3e6fafb",
   "metadata": {},
   "outputs": [],
   "source": []
  },
  {
   "cell_type": "code",
   "execution_count": null,
   "id": "973c882b",
   "metadata": {},
   "outputs": [],
   "source": []
  },
  {
   "cell_type": "markdown",
   "id": "675e376d",
   "metadata": {},
   "source": [
    "## Check Your Concepts:\n",
    "-  What is Series in Pandas?\n",
    "- Create a Pandas Series from array \n",
    "- Creating a Pandas Series from Dictionary \n",
    "- Creating a Pandas Series from Lists \n",
    "- Create Pandas Series using NumPy functions \n",
    "- Access the elements of a Series in Pandas "
   ]
  },
  {
   "cell_type": "code",
   "execution_count": null,
   "id": "a6bcd924",
   "metadata": {},
   "outputs": [],
   "source": []
  },
  {
   "cell_type": "code",
   "execution_count": null,
   "id": "21cd0604",
   "metadata": {},
   "outputs": [],
   "source": []
  },
  {
   "cell_type": "markdown",
   "id": "620e33fe",
   "metadata": {},
   "source": [
    "## Practice Questions:\n",
    "- Write a Pandas program to convert a Panda module Series to Python list and it’s type.\n",
    "- Write a Pandas program to add, subtract, multiple and divide two Pandas Series having same indices.\n",
    "- Write a Pandas program to compare the elements of the two Pandas Series.(Hint : pd.eq / pd.equals)\n",
    "- Write a Pandas program to change the data type of given a column or a Series.\n",
    "- Write a Pandas program to convert a given Series to an array(Hint : series.values.tolist())\n",
    "- Write a Pandas program to sort a given Series.\n",
    "- Write a Pandas program to add some data to an existing Series.(Hint : series.append()) \n",
    "- Write a Pandas program to create the mean and standard deviation of the data of a given Series.\n",
    "- Write a Pandas program to get the items of a given series not present in another given series.(series.isin())"
   ]
  },
  {
   "cell_type": "code",
   "execution_count": 57,
   "id": "f4181729",
   "metadata": {},
   "outputs": [
    {
     "data": {
      "text/plain": [
       "['1', '3', '11', '15', '17', '19']"
      ]
     },
     "execution_count": 57,
     "metadata": {},
     "output_type": "execute_result"
    }
   ],
   "source": [
    "# first method\n",
    "# s.to_list()\n",
    "\n",
    "\n",
    "# second method\n",
    "new_list = [str(i) for i in s]\n",
    "new_list"
   ]
  },
  {
   "cell_type": "code",
   "execution_count": null,
   "id": "bb6bedb0",
   "metadata": {},
   "outputs": [],
   "source": []
  },
  {
   "cell_type": "code",
   "execution_count": 58,
   "id": "3e99eb21",
   "metadata": {},
   "outputs": [
    {
     "data": {
      "text/plain": [
       "([1, 3, 11, 15, 17, 19], list)"
      ]
     },
     "execution_count": 58,
     "metadata": {},
     "output_type": "execute_result"
    }
   ],
   "source": [
    "# series into list\n",
    "x = list(s)\n",
    "x, type(x)"
   ]
  },
  {
   "cell_type": "code",
   "execution_count": 59,
   "id": "1411e4c5",
   "metadata": {},
   "outputs": [
    {
     "name": "stdout",
     "output_type": "stream",
     "text": [
      "0     1\n",
      "1     2\n",
      "2     3\n",
      "3     4\n",
      "4     5\n",
      "5     6\n",
      "6     7\n",
      "7     8\n",
      "8     9\n",
      "9    10\n",
      "dtype: int64\n",
      "0     1\n",
      "1     3\n",
      "2     5\n",
      "3     7\n",
      "4     9\n",
      "5    11\n",
      "6    13\n",
      "7    15\n",
      "8    17\n",
      "9    19\n",
      "dtype: int64\n"
     ]
    }
   ],
   "source": [
    "s1 = pd.Series(np.arange(1,11))\n",
    "s2 = pd.Series(np.arange(1,20,2))\n",
    "print(s1)\n",
    "print(s2)"
   ]
  },
  {
   "cell_type": "code",
   "execution_count": 65,
   "id": "cee9e74a",
   "metadata": {},
   "outputs": [
    {
     "data": {
      "text/plain": [
       "0    1\n",
       "dtype: int64"
      ]
     },
     "execution_count": 65,
     "metadata": {},
     "output_type": "execute_result"
    }
   ],
   "source": [
    "s1[s1.eq(s2)]"
   ]
  },
  {
   "cell_type": "code",
   "execution_count": 63,
   "id": "d60de01f",
   "metadata": {},
   "outputs": [
    {
     "data": {
      "text/plain": [
       "(5.5, 3.0276503540974917, 9.166666666666666)"
      ]
     },
     "execution_count": 63,
     "metadata": {},
     "output_type": "execute_result"
    }
   ],
   "source": [
    "s1.mean(), s1.std(), s1.var()"
   ]
  },
  {
   "cell_type": "code",
   "execution_count": null,
   "id": "21e0b6d8",
   "metadata": {},
   "outputs": [],
   "source": [
    "s1+s1 # s1.add(s2)"
   ]
  },
  {
   "cell_type": "code",
   "execution_count": null,
   "id": "2cf24f86",
   "metadata": {},
   "outputs": [],
   "source": [
    "s2-s1"
   ]
  },
  {
   "cell_type": "code",
   "execution_count": null,
   "id": "d017a3cb",
   "metadata": {},
   "outputs": [],
   "source": [
    "s2*s1"
   ]
  },
  {
   "cell_type": "code",
   "execution_count": null,
   "id": "f8e78172",
   "metadata": {},
   "outputs": [],
   "source": [
    "s2/s1"
   ]
  },
  {
   "cell_type": "code",
   "execution_count": null,
   "id": "1818f28b",
   "metadata": {},
   "outputs": [],
   "source": [
    "# compare elements of two series\n",
    "s1.eq(s2)"
   ]
  },
  {
   "cell_type": "code",
   "execution_count": null,
   "id": "1ec7fb05",
   "metadata": {},
   "outputs": [],
   "source": [
    "# change datatype of any series\n",
    "s1.astype(float)"
   ]
  },
  {
   "cell_type": "code",
   "execution_count": null,
   "id": "f3aba60c",
   "metadata": {},
   "outputs": [],
   "source": [
    "# series into numpy array\n",
    "s1.values.tolist()"
   ]
  },
  {
   "cell_type": "code",
   "execution_count": null,
   "id": "7adf3d73",
   "metadata": {},
   "outputs": [],
   "source": [
    "np.array(s1.values.tolist())"
   ]
  },
  {
   "cell_type": "code",
   "execution_count": null,
   "id": "788ad925",
   "metadata": {},
   "outputs": [],
   "source": [
    "# s1.sort_index(ascending=False)\n",
    "s1.sort_values(ascending=False)"
   ]
  },
  {
   "cell_type": "code",
   "execution_count": null,
   "id": "72d7e5b4",
   "metadata": {},
   "outputs": [],
   "source": [
    "s2.append(pd.Series(21),ignore_index=True)"
   ]
  },
  {
   "cell_type": "code",
   "execution_count": null,
   "id": "e4f8736f",
   "metadata": {},
   "outputs": [],
   "source": [
    "print(\"Mean of series : \",s1.mean())\n",
    "print(\"Std of Series : \", s1.std())"
   ]
  },
  {
   "cell_type": "code",
   "execution_count": 66,
   "id": "563a97a4",
   "metadata": {},
   "outputs": [
    {
     "data": {
      "text/plain": [
       "(0     1\n",
       " 1     2\n",
       " 2     3\n",
       " 3     4\n",
       " 4     5\n",
       " 5     6\n",
       " 6     7\n",
       " 7     8\n",
       " 8     9\n",
       " 9    10\n",
       " dtype: int64,\n",
       " 0     1\n",
       " 1     3\n",
       " 2     5\n",
       " 3     7\n",
       " 4     9\n",
       " 5    11\n",
       " 6    13\n",
       " 7    15\n",
       " 8    17\n",
       " 9    19\n",
       " dtype: int64)"
      ]
     },
     "execution_count": 66,
     "metadata": {},
     "output_type": "execute_result"
    }
   ],
   "source": [
    "s1,s2"
   ]
  },
  {
   "cell_type": "code",
   "execution_count": 67,
   "id": "491ee66d",
   "metadata": {},
   "outputs": [
    {
     "data": {
      "text/plain": [
       "0     True\n",
       "1    False\n",
       "2     True\n",
       "3    False\n",
       "4     True\n",
       "5    False\n",
       "6     True\n",
       "7    False\n",
       "8     True\n",
       "9    False\n",
       "dtype: bool"
      ]
     },
     "execution_count": 67,
     "metadata": {},
     "output_type": "execute_result"
    }
   ],
   "source": [
    "s1.isin(s2)"
   ]
  },
  {
   "cell_type": "code",
   "execution_count": 68,
   "id": "e51966c1",
   "metadata": {},
   "outputs": [
    {
     "data": {
      "text/plain": [
       "0    1\n",
       "2    3\n",
       "4    5\n",
       "6    7\n",
       "8    9\n",
       "dtype: int64"
      ]
     },
     "execution_count": 68,
     "metadata": {},
     "output_type": "execute_result"
    }
   ],
   "source": [
    "# get elements of one series that are not in other series\n",
    "s1[s1.isin(s2)]"
   ]
  },
  {
   "cell_type": "code",
   "execution_count": 69,
   "id": "d0900fbd",
   "metadata": {},
   "outputs": [
    {
     "data": {
      "text/plain": [
       "1     2\n",
       "3     4\n",
       "5     6\n",
       "7     8\n",
       "9    10\n",
       "dtype: int64"
      ]
     },
     "execution_count": 69,
     "metadata": {},
     "output_type": "execute_result"
    }
   ],
   "source": [
    "s1[~s1.isin(s2)]"
   ]
  },
  {
   "cell_type": "code",
   "execution_count": null,
   "id": "d29a606a",
   "metadata": {},
   "outputs": [],
   "source": [
    "s1[~s1.isin(s2)]"
   ]
  },
  {
   "cell_type": "code",
   "execution_count": null,
   "id": "9d760066",
   "metadata": {},
   "outputs": [],
   "source": []
  },
  {
   "cell_type": "code",
   "execution_count": null,
   "id": "14c85be4",
   "metadata": {},
   "outputs": [],
   "source": []
  },
  {
   "cell_type": "markdown",
   "id": "dcd086ca",
   "metadata": {},
   "source": [
    "### Write a Pandas program to convert Series of lists to one Series.(Hint : series.apply())\n",
    "```\n",
    "Sample Output:\n",
    "\n",
    "Original Series of list\n",
    "0    [Red, Green, White]\n",
    "1           [Red, Black]\n",
    "2               [Yellow]\n",
    "dtype: object\n",
    "One Series\n",
    "0       Red\n",
    "1     Green\n",
    "2     White\n",
    "3       Red\n",
    "4     Black\n",
    "5    Yellow\n",
    "dtype: object                      \n",
    "```"
   ]
  },
  {
   "cell_type": "code",
   "execution_count": null,
   "id": "6ed24430",
   "metadata": {},
   "outputs": [],
   "source": [
    "list1 = [['Red', 'Green', 'White'],['Red','Black'],['Yellow']]\n",
    "s3 = pd.Series(list1)\n",
    "s3"
   ]
  },
  {
   "cell_type": "code",
   "execution_count": null,
   "id": "d1980986",
   "metadata": {},
   "outputs": [],
   "source": []
  },
  {
   "cell_type": "code",
   "execution_count": null,
   "id": "9beb40b0",
   "metadata": {},
   "outputs": [],
   "source": [
    "def printlist(s3):\n",
    "    list1 = []\n",
    "    for i in s3:\n",
    "        for j in i :\n",
    "            list1.append(j)\n",
    "    return list1\n",
    "printlist(s3)"
   ]
  },
  {
   "cell_type": "code",
   "execution_count": null,
   "id": "d3671175",
   "metadata": {},
   "outputs": [],
   "source": [
    "s3.apply(printlist)"
   ]
  },
  {
   "cell_type": "code",
   "execution_count": null,
   "id": "78a434f6",
   "metadata": {},
   "outputs": [],
   "source": []
  },
  {
   "cell_type": "code",
   "execution_count": null,
   "id": "e5b1717f",
   "metadata": {},
   "outputs": [],
   "source": []
  },
  {
   "cell_type": "code",
   "execution_count": null,
   "id": "f0d0cddb",
   "metadata": {},
   "outputs": [],
   "source": [
    "s1.sort_values()"
   ]
  },
  {
   "cell_type": "code",
   "execution_count": null,
   "id": "898092bf",
   "metadata": {},
   "outputs": [],
   "source": []
  },
  {
   "cell_type": "code",
   "execution_count": null,
   "id": "b554b481",
   "metadata": {},
   "outputs": [],
   "source": [
    "# list(s1)\n",
    "type(s1)\n",
    "# s1.tolist()"
   ]
  },
  {
   "cell_type": "markdown",
   "id": "5b3b24da",
   "metadata": {},
   "source": [
    "# Pandas - Assignment no 02\n",
    "- Here is link to [Pandas -Assignment no 02]()"
   ]
  },
  {
   "cell_type": "code",
   "execution_count": null,
   "id": "e6faceb4",
   "metadata": {},
   "outputs": [],
   "source": []
  },
  {
   "cell_type": "markdown",
   "id": "385e7824",
   "metadata": {},
   "source": [
    "## Google Play Store Apps Exploratory Data Analysis\n",
    "#### Introduction\n",
    "Google Play Store or formerly Android Market, is a digital distribution service developed and operated by Google. It is an official apps store that provides variety content such as apps, books, magazines, music, movies and television programs. It serves an as platform to allow users with 'Google certified' Android operating system devices to donwload applications developed and published on the platform either with a charge or free of cost. With the rapidly growth of Android devices and apps, it would be interesting to perform data analysis on the data to obtain valuable insights.\n",
    "\n",
    "The dataset that is going to be used is `Google Play Store Apps` from Kaggle. It contains 10k of web scraped Play Store apps data for analysing the Android market. The tools that are going to be used for this `EDA` would be `numpy`, `pandas`, `matplotlib` and `seaborn`."
   ]
  },
  {
   "cell_type": "code",
   "execution_count": null,
   "id": "8f51386b",
   "metadata": {},
   "outputs": [],
   "source": []
  },
  {
   "cell_type": "markdown",
   "id": "265d6494",
   "metadata": {},
   "source": [
    "### Step 1 : Data Preparation and Data Cleaning\n",
    "Here, we will be loading the Google Store Apps data stored in csv using pandas which is a fast and powerful python library for data analysis and easy data manipulation in pandas DataFrame object. It is usually used for working with tabular data (e.g data in spreadsheet) in various formats such as CSV, Excel spreadsheets, HTML tables, JSON etc. We will then perform some data preparation and also cleaning on it. We can download our dataset from this [address](https://raw.githubusercontent.com/bsef19m521/DatasetsForProjects/master/googleplaystore.csv)"
   ]
  },
  {
   "cell_type": "code",
   "execution_count": 70,
   "id": "5f20654b",
   "metadata": {},
   "outputs": [
    {
     "data": {
      "text/plain": [
       "'https://raw.githubusercontent.com/bsef19m521/DatasetsForProjects/master/googleplaystore.csv'"
      ]
     },
     "execution_count": 70,
     "metadata": {},
     "output_type": "execute_result"
    }
   ],
   "source": [
    "url = \"https://raw.githubusercontent.com/bsef19m521/DatasetsForProjects/master/googleplaystore.csv\"\n",
    "url"
   ]
  },
  {
   "cell_type": "code",
   "execution_count": null,
   "id": "e66f74d7",
   "metadata": {},
   "outputs": [],
   "source": []
  },
  {
   "cell_type": "code",
   "execution_count": 71,
   "id": "d97c6cfe",
   "metadata": {},
   "outputs": [],
   "source": [
    "# import the necessary libraries\n",
    "# allow matplotlib to plot inline with frontends like Jupyter\n",
    "import numpy as np\n",
    "import pandas as pd\n",
    "import matplotlib.pyplot as plt\n",
    "import seaborn as sns\n",
    "%matplotlib inline"
   ]
  },
  {
   "cell_type": "code",
   "execution_count": 72,
   "id": "96c0be34",
   "metadata": {},
   "outputs": [],
   "source": [
    "# load the apps and reviews data into pandas dataframe\n",
    "df = pd.read_csv(url)"
   ]
  },
  {
   "cell_type": "code",
   "execution_count": 73,
   "id": "0e406202",
   "metadata": {},
   "outputs": [
    {
     "data": {
      "text/html": [
       "<div>\n",
       "<style scoped>\n",
       "    .dataframe tbody tr th:only-of-type {\n",
       "        vertical-align: middle;\n",
       "    }\n",
       "\n",
       "    .dataframe tbody tr th {\n",
       "        vertical-align: top;\n",
       "    }\n",
       "\n",
       "    .dataframe thead th {\n",
       "        text-align: right;\n",
       "    }\n",
       "</style>\n",
       "<table border=\"1\" class=\"dataframe\">\n",
       "  <thead>\n",
       "    <tr style=\"text-align: right;\">\n",
       "      <th></th>\n",
       "      <th>App</th>\n",
       "      <th>Category</th>\n",
       "      <th>Rating</th>\n",
       "      <th>Reviews</th>\n",
       "      <th>Size</th>\n",
       "      <th>Installs</th>\n",
       "      <th>Type</th>\n",
       "      <th>Price</th>\n",
       "      <th>Content Rating</th>\n",
       "      <th>Genres</th>\n",
       "      <th>Last Updated</th>\n",
       "      <th>Current Ver</th>\n",
       "      <th>Android Ver</th>\n",
       "    </tr>\n",
       "  </thead>\n",
       "  <tbody>\n",
       "    <tr>\n",
       "      <th>0</th>\n",
       "      <td>Photo Editor &amp; Candy Camera &amp; Grid &amp; ScrapBook</td>\n",
       "      <td>ART_AND_DESIGN</td>\n",
       "      <td>4.1</td>\n",
       "      <td>159</td>\n",
       "      <td>19M</td>\n",
       "      <td>10,000+</td>\n",
       "      <td>Free</td>\n",
       "      <td>0</td>\n",
       "      <td>Everyone</td>\n",
       "      <td>Art &amp; Design</td>\n",
       "      <td>January 7, 2018</td>\n",
       "      <td>1.0.0</td>\n",
       "      <td>4.0.3 and up</td>\n",
       "    </tr>\n",
       "    <tr>\n",
       "      <th>1</th>\n",
       "      <td>Coloring book moana</td>\n",
       "      <td>ART_AND_DESIGN</td>\n",
       "      <td>3.9</td>\n",
       "      <td>967</td>\n",
       "      <td>14M</td>\n",
       "      <td>500,000+</td>\n",
       "      <td>Free</td>\n",
       "      <td>0</td>\n",
       "      <td>Everyone</td>\n",
       "      <td>Art &amp; Design;Pretend Play</td>\n",
       "      <td>January 15, 2018</td>\n",
       "      <td>2.0.0</td>\n",
       "      <td>4.0.3 and up</td>\n",
       "    </tr>\n",
       "    <tr>\n",
       "      <th>2</th>\n",
       "      <td>U Launcher Lite – FREE Live Cool Themes, Hide ...</td>\n",
       "      <td>ART_AND_DESIGN</td>\n",
       "      <td>4.7</td>\n",
       "      <td>87510</td>\n",
       "      <td>8.7M</td>\n",
       "      <td>5,000,000+</td>\n",
       "      <td>Free</td>\n",
       "      <td>0</td>\n",
       "      <td>Everyone</td>\n",
       "      <td>Art &amp; Design</td>\n",
       "      <td>August 1, 2018</td>\n",
       "      <td>1.2.4</td>\n",
       "      <td>4.0.3 and up</td>\n",
       "    </tr>\n",
       "    <tr>\n",
       "      <th>3</th>\n",
       "      <td>Sketch - Draw &amp; Paint</td>\n",
       "      <td>ART_AND_DESIGN</td>\n",
       "      <td>4.5</td>\n",
       "      <td>215644</td>\n",
       "      <td>25M</td>\n",
       "      <td>50,000,000+</td>\n",
       "      <td>Free</td>\n",
       "      <td>0</td>\n",
       "      <td>Teen</td>\n",
       "      <td>Art &amp; Design</td>\n",
       "      <td>June 8, 2018</td>\n",
       "      <td>Varies with device</td>\n",
       "      <td>4.2 and up</td>\n",
       "    </tr>\n",
       "    <tr>\n",
       "      <th>4</th>\n",
       "      <td>Pixel Draw - Number Art Coloring Book</td>\n",
       "      <td>ART_AND_DESIGN</td>\n",
       "      <td>4.3</td>\n",
       "      <td>967</td>\n",
       "      <td>2.8M</td>\n",
       "      <td>100,000+</td>\n",
       "      <td>Free</td>\n",
       "      <td>0</td>\n",
       "      <td>Everyone</td>\n",
       "      <td>Art &amp; Design;Creativity</td>\n",
       "      <td>June 20, 2018</td>\n",
       "      <td>1.1</td>\n",
       "      <td>4.4 and up</td>\n",
       "    </tr>\n",
       "    <tr>\n",
       "      <th>5</th>\n",
       "      <td>Paper flowers instructions</td>\n",
       "      <td>ART_AND_DESIGN</td>\n",
       "      <td>4.4</td>\n",
       "      <td>167</td>\n",
       "      <td>5.6M</td>\n",
       "      <td>50,000+</td>\n",
       "      <td>Free</td>\n",
       "      <td>0</td>\n",
       "      <td>Everyone</td>\n",
       "      <td>Art &amp; Design</td>\n",
       "      <td>March 26, 2017</td>\n",
       "      <td>1.0</td>\n",
       "      <td>2.3 and up</td>\n",
       "    </tr>\n",
       "    <tr>\n",
       "      <th>6</th>\n",
       "      <td>Smoke Effect Photo Maker - Smoke Editor</td>\n",
       "      <td>ART_AND_DESIGN</td>\n",
       "      <td>3.8</td>\n",
       "      <td>178</td>\n",
       "      <td>19M</td>\n",
       "      <td>50,000+</td>\n",
       "      <td>Free</td>\n",
       "      <td>0</td>\n",
       "      <td>Everyone</td>\n",
       "      <td>Art &amp; Design</td>\n",
       "      <td>April 26, 2018</td>\n",
       "      <td>1.1</td>\n",
       "      <td>4.0.3 and up</td>\n",
       "    </tr>\n",
       "    <tr>\n",
       "      <th>7</th>\n",
       "      <td>Infinite Painter</td>\n",
       "      <td>ART_AND_DESIGN</td>\n",
       "      <td>4.1</td>\n",
       "      <td>36815</td>\n",
       "      <td>29M</td>\n",
       "      <td>1,000,000+</td>\n",
       "      <td>Free</td>\n",
       "      <td>0</td>\n",
       "      <td>Everyone</td>\n",
       "      <td>Art &amp; Design</td>\n",
       "      <td>June 14, 2018</td>\n",
       "      <td>6.1.61.1</td>\n",
       "      <td>4.2 and up</td>\n",
       "    </tr>\n",
       "    <tr>\n",
       "      <th>8</th>\n",
       "      <td>Garden Coloring Book</td>\n",
       "      <td>ART_AND_DESIGN</td>\n",
       "      <td>4.4</td>\n",
       "      <td>13791</td>\n",
       "      <td>33M</td>\n",
       "      <td>1,000,000+</td>\n",
       "      <td>Free</td>\n",
       "      <td>0</td>\n",
       "      <td>Everyone</td>\n",
       "      <td>Art &amp; Design</td>\n",
       "      <td>September 20, 2017</td>\n",
       "      <td>2.9.2</td>\n",
       "      <td>3.0 and up</td>\n",
       "    </tr>\n",
       "    <tr>\n",
       "      <th>9</th>\n",
       "      <td>Kids Paint Free - Drawing Fun</td>\n",
       "      <td>ART_AND_DESIGN</td>\n",
       "      <td>4.7</td>\n",
       "      <td>121</td>\n",
       "      <td>3.1M</td>\n",
       "      <td>10,000+</td>\n",
       "      <td>Free</td>\n",
       "      <td>0</td>\n",
       "      <td>Everyone</td>\n",
       "      <td>Art &amp; Design;Creativity</td>\n",
       "      <td>July 3, 2018</td>\n",
       "      <td>2.8</td>\n",
       "      <td>4.0.3 and up</td>\n",
       "    </tr>\n",
       "  </tbody>\n",
       "</table>\n",
       "</div>"
      ],
      "text/plain": [
       "                                                 App        Category  Rating  \\\n",
       "0     Photo Editor & Candy Camera & Grid & ScrapBook  ART_AND_DESIGN     4.1   \n",
       "1                                Coloring book moana  ART_AND_DESIGN     3.9   \n",
       "2  U Launcher Lite – FREE Live Cool Themes, Hide ...  ART_AND_DESIGN     4.7   \n",
       "3                              Sketch - Draw & Paint  ART_AND_DESIGN     4.5   \n",
       "4              Pixel Draw - Number Art Coloring Book  ART_AND_DESIGN     4.3   \n",
       "5                         Paper flowers instructions  ART_AND_DESIGN     4.4   \n",
       "6            Smoke Effect Photo Maker - Smoke Editor  ART_AND_DESIGN     3.8   \n",
       "7                                   Infinite Painter  ART_AND_DESIGN     4.1   \n",
       "8                               Garden Coloring Book  ART_AND_DESIGN     4.4   \n",
       "9                      Kids Paint Free - Drawing Fun  ART_AND_DESIGN     4.7   \n",
       "\n",
       "  Reviews  Size     Installs  Type Price Content Rating  \\\n",
       "0     159   19M      10,000+  Free     0       Everyone   \n",
       "1     967   14M     500,000+  Free     0       Everyone   \n",
       "2   87510  8.7M   5,000,000+  Free     0       Everyone   \n",
       "3  215644   25M  50,000,000+  Free     0           Teen   \n",
       "4     967  2.8M     100,000+  Free     0       Everyone   \n",
       "5     167  5.6M      50,000+  Free     0       Everyone   \n",
       "6     178   19M      50,000+  Free     0       Everyone   \n",
       "7   36815   29M   1,000,000+  Free     0       Everyone   \n",
       "8   13791   33M   1,000,000+  Free     0       Everyone   \n",
       "9     121  3.1M      10,000+  Free     0       Everyone   \n",
       "\n",
       "                      Genres        Last Updated         Current Ver  \\\n",
       "0               Art & Design     January 7, 2018               1.0.0   \n",
       "1  Art & Design;Pretend Play    January 15, 2018               2.0.0   \n",
       "2               Art & Design      August 1, 2018               1.2.4   \n",
       "3               Art & Design        June 8, 2018  Varies with device   \n",
       "4    Art & Design;Creativity       June 20, 2018                 1.1   \n",
       "5               Art & Design      March 26, 2017                 1.0   \n",
       "6               Art & Design      April 26, 2018                 1.1   \n",
       "7               Art & Design       June 14, 2018            6.1.61.1   \n",
       "8               Art & Design  September 20, 2017               2.9.2   \n",
       "9    Art & Design;Creativity        July 3, 2018                 2.8   \n",
       "\n",
       "    Android Ver  \n",
       "0  4.0.3 and up  \n",
       "1  4.0.3 and up  \n",
       "2  4.0.3 and up  \n",
       "3    4.2 and up  \n",
       "4    4.4 and up  \n",
       "5    2.3 and up  \n",
       "6  4.0.3 and up  \n",
       "7    4.2 and up  \n",
       "8    3.0 and up  \n",
       "9  4.0.3 and up  "
      ]
     },
     "execution_count": 73,
     "metadata": {},
     "output_type": "execute_result"
    }
   ],
   "source": [
    "# look at the first 10 records in the apps dataframe\n",
    "df.head(10)"
   ]
  },
  {
   "cell_type": "code",
   "execution_count": 74,
   "id": "089f14fa",
   "metadata": {},
   "outputs": [
    {
     "data": {
      "text/plain": [
       "Index(['App', 'Category', 'Rating', 'Reviews', 'Size', 'Installs', 'Type',\n",
       "       'Price', 'Content Rating', 'Genres', 'Last Updated', 'Current Ver',\n",
       "       'Android Ver'],\n",
       "      dtype='object')"
      ]
     },
     "execution_count": 74,
     "metadata": {},
     "output_type": "execute_result"
    }
   ],
   "source": [
    "df.columns"
   ]
  },
  {
   "cell_type": "code",
   "execution_count": 75,
   "id": "ea08ba77",
   "metadata": {},
   "outputs": [
    {
     "data": {
      "text/html": [
       "<div>\n",
       "<style scoped>\n",
       "    .dataframe tbody tr th:only-of-type {\n",
       "        vertical-align: middle;\n",
       "    }\n",
       "\n",
       "    .dataframe tbody tr th {\n",
       "        vertical-align: top;\n",
       "    }\n",
       "\n",
       "    .dataframe thead th {\n",
       "        text-align: right;\n",
       "    }\n",
       "</style>\n",
       "<table border=\"1\" class=\"dataframe\">\n",
       "  <thead>\n",
       "    <tr style=\"text-align: right;\">\n",
       "      <th></th>\n",
       "      <th>App</th>\n",
       "      <th>Category</th>\n",
       "      <th>Rating</th>\n",
       "      <th>Reviews</th>\n",
       "      <th>Size</th>\n",
       "      <th>Installs</th>\n",
       "      <th>Type</th>\n",
       "      <th>Price</th>\n",
       "      <th>Content Rating</th>\n",
       "      <th>Genres</th>\n",
       "      <th>Last Updated</th>\n",
       "      <th>Current Ver</th>\n",
       "      <th>Android Ver</th>\n",
       "    </tr>\n",
       "  </thead>\n",
       "  <tbody>\n",
       "    <tr>\n",
       "      <th>4870</th>\n",
       "      <td>Angry Birds Epic RPG</td>\n",
       "      <td>FAMILY</td>\n",
       "      <td>4.5</td>\n",
       "      <td>2634605</td>\n",
       "      <td>63M</td>\n",
       "      <td>10,000,000+</td>\n",
       "      <td>Free</td>\n",
       "      <td>0</td>\n",
       "      <td>Everyone</td>\n",
       "      <td>Role Playing</td>\n",
       "      <td>July 18, 2018</td>\n",
       "      <td>3.0.27430.4799</td>\n",
       "      <td>4.4 and up</td>\n",
       "    </tr>\n",
       "    <tr>\n",
       "      <th>9028</th>\n",
       "      <td>ZOOKEEPER DX TouchEdition</td>\n",
       "      <td>FAMILY</td>\n",
       "      <td>4.2</td>\n",
       "      <td>3195</td>\n",
       "      <td>4.6M</td>\n",
       "      <td>100,000+</td>\n",
       "      <td>Paid</td>\n",
       "      <td>$0.99</td>\n",
       "      <td>Everyone</td>\n",
       "      <td>Puzzle</td>\n",
       "      <td>November 26, 2015</td>\n",
       "      <td>1.2.7</td>\n",
       "      <td>2.1 and up</td>\n",
       "    </tr>\n",
       "    <tr>\n",
       "      <th>8369</th>\n",
       "      <td>DG Mobile</td>\n",
       "      <td>GAME</td>\n",
       "      <td>4.3</td>\n",
       "      <td>59</td>\n",
       "      <td>1.4M</td>\n",
       "      <td>1,000+</td>\n",
       "      <td>Free</td>\n",
       "      <td>0</td>\n",
       "      <td>Everyone</td>\n",
       "      <td>Board</td>\n",
       "      <td>April 8, 2017</td>\n",
       "      <td>0.1.10.0</td>\n",
       "      <td>2.3 and up</td>\n",
       "    </tr>\n",
       "    <tr>\n",
       "      <th>6489</th>\n",
       "      <td>Bet Master Pro Soccer Predictions</td>\n",
       "      <td>SPORTS</td>\n",
       "      <td>4.4</td>\n",
       "      <td>328</td>\n",
       "      <td>11M</td>\n",
       "      <td>10,000+</td>\n",
       "      <td>Free</td>\n",
       "      <td>0</td>\n",
       "      <td>Everyone</td>\n",
       "      <td>Sports</td>\n",
       "      <td>July 31, 2018</td>\n",
       "      <td>2.0.5</td>\n",
       "      <td>4.4 and up</td>\n",
       "    </tr>\n",
       "    <tr>\n",
       "      <th>7083</th>\n",
       "      <td>CA Mobile Authenticator</td>\n",
       "      <td>BUSINESS</td>\n",
       "      <td>NaN</td>\n",
       "      <td>9</td>\n",
       "      <td>6.9M</td>\n",
       "      <td>1,000+</td>\n",
       "      <td>Free</td>\n",
       "      <td>0</td>\n",
       "      <td>Everyone</td>\n",
       "      <td>Business</td>\n",
       "      <td>December 15, 2016</td>\n",
       "      <td>1.0.0</td>\n",
       "      <td>4.2 and up</td>\n",
       "    </tr>\n",
       "    <tr>\n",
       "      <th>9904</th>\n",
       "      <td>Brexit EU</td>\n",
       "      <td>FAMILY</td>\n",
       "      <td>4.4</td>\n",
       "      <td>7</td>\n",
       "      <td>7.5M</td>\n",
       "      <td>500+</td>\n",
       "      <td>Free</td>\n",
       "      <td>0</td>\n",
       "      <td>Everyone</td>\n",
       "      <td>Casual</td>\n",
       "      <td>March 10, 2016</td>\n",
       "      <td>1.0</td>\n",
       "      <td>2.3 and up</td>\n",
       "    </tr>\n",
       "    <tr>\n",
       "      <th>1965</th>\n",
       "      <td>Quiz: Logo game</td>\n",
       "      <td>GAME</td>\n",
       "      <td>4.5</td>\n",
       "      <td>306764</td>\n",
       "      <td>29M</td>\n",
       "      <td>10,000,000+</td>\n",
       "      <td>Free</td>\n",
       "      <td>0</td>\n",
       "      <td>Everyone</td>\n",
       "      <td>Trivia</td>\n",
       "      <td>August 3, 2018</td>\n",
       "      <td>6.2</td>\n",
       "      <td>4.0.3 and up</td>\n",
       "    </tr>\n",
       "    <tr>\n",
       "      <th>9813</th>\n",
       "      <td>RAR</td>\n",
       "      <td>TOOLS</td>\n",
       "      <td>4.4</td>\n",
       "      <td>669901</td>\n",
       "      <td>Varies with device</td>\n",
       "      <td>50,000,000+</td>\n",
       "      <td>Free</td>\n",
       "      <td>0</td>\n",
       "      <td>Everyone</td>\n",
       "      <td>Tools</td>\n",
       "      <td>August 7, 2018</td>\n",
       "      <td>Varies with device</td>\n",
       "      <td>Varies with device</td>\n",
       "    </tr>\n",
       "    <tr>\n",
       "      <th>7100</th>\n",
       "      <td>CA Speakers</td>\n",
       "      <td>LIFESTYLE</td>\n",
       "      <td>5.0</td>\n",
       "      <td>12</td>\n",
       "      <td>1.2M</td>\n",
       "      <td>100+</td>\n",
       "      <td>Paid</td>\n",
       "      <td>$0.99</td>\n",
       "      <td>Teen</td>\n",
       "      <td>Lifestyle</td>\n",
       "      <td>March 25, 2014</td>\n",
       "      <td>1.0</td>\n",
       "      <td>3.0 and up</td>\n",
       "    </tr>\n",
       "    <tr>\n",
       "      <th>119</th>\n",
       "      <td>Mirror Camera (Mirror + Selfie Camera)</td>\n",
       "      <td>BEAUTY</td>\n",
       "      <td>4.1</td>\n",
       "      <td>9315</td>\n",
       "      <td>2.6M</td>\n",
       "      <td>1,000,000+</td>\n",
       "      <td>Free</td>\n",
       "      <td>0</td>\n",
       "      <td>Everyone</td>\n",
       "      <td>Beauty</td>\n",
       "      <td>November 21, 2017</td>\n",
       "      <td>1.4.2</td>\n",
       "      <td>4.0 and up</td>\n",
       "    </tr>\n",
       "  </tbody>\n",
       "</table>\n",
       "</div>"
      ],
      "text/plain": [
       "                                         App   Category  Rating  Reviews  \\\n",
       "4870                    Angry Birds Epic RPG     FAMILY     4.5  2634605   \n",
       "9028               ZOOKEEPER DX TouchEdition     FAMILY     4.2     3195   \n",
       "8369                               DG Mobile       GAME     4.3       59   \n",
       "6489       Bet Master Pro Soccer Predictions     SPORTS     4.4      328   \n",
       "7083                 CA Mobile Authenticator   BUSINESS     NaN        9   \n",
       "9904                               Brexit EU     FAMILY     4.4        7   \n",
       "1965                         Quiz: Logo game       GAME     4.5   306764   \n",
       "9813                                     RAR      TOOLS     4.4   669901   \n",
       "7100                             CA Speakers  LIFESTYLE     5.0       12   \n",
       "119   Mirror Camera (Mirror + Selfie Camera)     BEAUTY     4.1     9315   \n",
       "\n",
       "                    Size     Installs  Type  Price Content Rating  \\\n",
       "4870                 63M  10,000,000+  Free      0       Everyone   \n",
       "9028                4.6M     100,000+  Paid  $0.99       Everyone   \n",
       "8369                1.4M       1,000+  Free      0       Everyone   \n",
       "6489                 11M      10,000+  Free      0       Everyone   \n",
       "7083                6.9M       1,000+  Free      0       Everyone   \n",
       "9904                7.5M         500+  Free      0       Everyone   \n",
       "1965                 29M  10,000,000+  Free      0       Everyone   \n",
       "9813  Varies with device  50,000,000+  Free      0       Everyone   \n",
       "7100                1.2M         100+  Paid  $0.99           Teen   \n",
       "119                 2.6M   1,000,000+  Free      0       Everyone   \n",
       "\n",
       "            Genres       Last Updated         Current Ver         Android Ver  \n",
       "4870  Role Playing      July 18, 2018      3.0.27430.4799          4.4 and up  \n",
       "9028        Puzzle  November 26, 2015               1.2.7          2.1 and up  \n",
       "8369         Board      April 8, 2017            0.1.10.0          2.3 and up  \n",
       "6489        Sports      July 31, 2018               2.0.5          4.4 and up  \n",
       "7083      Business  December 15, 2016               1.0.0          4.2 and up  \n",
       "9904        Casual     March 10, 2016                 1.0          2.3 and up  \n",
       "1965        Trivia     August 3, 2018                 6.2        4.0.3 and up  \n",
       "9813         Tools     August 7, 2018  Varies with device  Varies with device  \n",
       "7100     Lifestyle     March 25, 2014                 1.0          3.0 and up  \n",
       "119         Beauty  November 21, 2017               1.4.2          4.0 and up  "
      ]
     },
     "execution_count": 75,
     "metadata": {},
     "output_type": "execute_result"
    }
   ],
   "source": [
    "# look at the random 10 records in the apps dataframe\n",
    "df.sample(10)"
   ]
  },
  {
   "cell_type": "code",
   "execution_count": null,
   "id": "cb21db91",
   "metadata": {},
   "outputs": [],
   "source": []
  },
  {
   "cell_type": "markdown",
   "id": "e8144c00",
   "metadata": {},
   "source": [
    "#### Description of App Dataset columns\n",
    "- App : The name of the app\n",
    "- Category : The category of the app\n",
    "- Rating : The rating of the app in the Play Store\n",
    "- Reviews : The number of reviews of the app\n",
    "- Size : The size of the app\n",
    "- Install : The number of installs of the app\n",
    "- Type : The type of the app (Free/Paid)\n",
    "- The price of the app (0 if it is Free)\n",
    "- Content Rating :The appropiate target audience of the app\n",
    "- Genres: The genre of the app\n",
    "- Last Updated : The date when the app was last updated\n",
    "- Current Ver : The current version of the app\n",
    "- Android Ver : The minimum Android version required to run the app"
   ]
  },
  {
   "cell_type": "code",
   "execution_count": 76,
   "id": "5357ca38",
   "metadata": {},
   "outputs": [
    {
     "name": "stdout",
     "output_type": "stream",
     "text": [
      "<class 'pandas.core.frame.DataFrame'>\n",
      "RangeIndex: 10841 entries, 0 to 10840\n",
      "Data columns (total 13 columns):\n",
      " #   Column          Non-Null Count  Dtype  \n",
      "---  ------          --------------  -----  \n",
      " 0   App             10841 non-null  object \n",
      " 1   Category        10841 non-null  object \n",
      " 2   Rating          9367 non-null   float64\n",
      " 3   Reviews         10841 non-null  object \n",
      " 4   Size            10841 non-null  object \n",
      " 5   Installs        10841 non-null  object \n",
      " 6   Type            10840 non-null  object \n",
      " 7   Price           10841 non-null  object \n",
      " 8   Content Rating  10840 non-null  object \n",
      " 9   Genres          10841 non-null  object \n",
      " 10  Last Updated    10841 non-null  object \n",
      " 11  Current Ver     10833 non-null  object \n",
      " 12  Android Ver     10838 non-null  object \n",
      "dtypes: float64(1), object(12)\n",
      "memory usage: 1.1+ MB\n"
     ]
    }
   ],
   "source": [
    "# look at the info of the dataframe\n",
    "df.info()"
   ]
  },
  {
   "cell_type": "code",
   "execution_count": null,
   "id": "075c4b9e",
   "metadata": {},
   "outputs": [],
   "source": []
  },
  {
   "cell_type": "markdown",
   "id": "0ef1ea4c",
   "metadata": {},
   "source": [
    "#### By diagnosing the data frame, we know that:\n",
    "- There are 13 columns of properties with 10841 rows of data.\n",
    "- Column 'Reviews', 'Size', 'Installs' and 'Price' are in the type of 'object'\n",
    "- Values of column 'Size' are strings representing size in 'M' as Megabytes, 'k' as kilobytes and also 'Varies with devices'.\n",
    "- Values of column 'Installs' are strings representing install amount with symbols such as ',' and '+'.\n",
    "- Values of column 'Price' are strings representing price with symbol '$'."
   ]
  },
  {
   "cell_type": "code",
   "execution_count": 77,
   "id": "019a9c0d",
   "metadata": {},
   "outputs": [
    {
     "data": {
      "text/plain": [
       "Index(['App', 'Category', 'Rating', 'Reviews', 'Size', 'Installs', 'Type',\n",
       "       'Price', 'Content Rating', 'Genres', 'Last Updated', 'Current Ver',\n",
       "       'Android Ver'],\n",
       "      dtype='object')"
      ]
     },
     "execution_count": 77,
     "metadata": {},
     "output_type": "execute_result"
    }
   ],
   "source": [
    "# type of Category\n",
    "df.columns"
   ]
  },
  {
   "cell_type": "code",
   "execution_count": 78,
   "id": "59ab0fe8",
   "metadata": {},
   "outputs": [
    {
     "data": {
      "text/plain": [
       "array(['ART_AND_DESIGN', 'AUTO_AND_VEHICLES', 'BEAUTY',\n",
       "       'BOOKS_AND_REFERENCE', 'BUSINESS', 'COMICS', 'COMMUNICATION',\n",
       "       'DATING', 'EDUCATION', 'ENTERTAINMENT', 'EVENTS', 'FINANCE',\n",
       "       'FOOD_AND_DRINK', 'HEALTH_AND_FITNESS', 'HOUSE_AND_HOME',\n",
       "       'LIBRARIES_AND_DEMO', 'LIFESTYLE', 'GAME', 'FAMILY', 'MEDICAL',\n",
       "       'SOCIAL', 'SHOPPING', 'PHOTOGRAPHY', 'SPORTS', 'TRAVEL_AND_LOCAL',\n",
       "       'TOOLS', 'PERSONALIZATION', 'PRODUCTIVITY', 'PARENTING', 'WEATHER',\n",
       "       'VIDEO_PLAYERS', 'NEWS_AND_MAGAZINES', 'MAPS_AND_NAVIGATION',\n",
       "       '1.9'], dtype=object)"
      ]
     },
     "execution_count": 78,
     "metadata": {},
     "output_type": "execute_result"
    }
   ],
   "source": [
    "df['Category'].unique()"
   ]
  },
  {
   "cell_type": "code",
   "execution_count": 79,
   "id": "4025d31c",
   "metadata": {},
   "outputs": [
    {
     "data": {
      "text/plain": [
       "34"
      ]
     },
     "execution_count": 79,
     "metadata": {},
     "output_type": "execute_result"
    }
   ],
   "source": [
    "df['Category'].nunique()"
   ]
  },
  {
   "cell_type": "code",
   "execution_count": 81,
   "id": "bdb718c4",
   "metadata": {},
   "outputs": [
    {
     "data": {
      "text/plain": [
       "FAMILY                 1972\n",
       "GAME                   1144\n",
       "TOOLS                   843\n",
       "MEDICAL                 463\n",
       "BUSINESS                460\n",
       "PRODUCTIVITY            424\n",
       "PERSONALIZATION         392\n",
       "COMMUNICATION           387\n",
       "SPORTS                  384\n",
       "LIFESTYLE               382\n",
       "FINANCE                 366\n",
       "HEALTH_AND_FITNESS      341\n",
       "PHOTOGRAPHY             335\n",
       "SOCIAL                  295\n",
       "NEWS_AND_MAGAZINES      283\n",
       "SHOPPING                260\n",
       "TRAVEL_AND_LOCAL        258\n",
       "DATING                  234\n",
       "BOOKS_AND_REFERENCE     231\n",
       "VIDEO_PLAYERS           175\n",
       "EDUCATION               156\n",
       "ENTERTAINMENT           149\n",
       "MAPS_AND_NAVIGATION     137\n",
       "FOOD_AND_DRINK          127\n",
       "HOUSE_AND_HOME           88\n",
       "LIBRARIES_AND_DEMO       85\n",
       "AUTO_AND_VEHICLES        85\n",
       "WEATHER                  82\n",
       "ART_AND_DESIGN           65\n",
       "EVENTS                   64\n",
       "PARENTING                60\n",
       "COMICS                   60\n",
       "BEAUTY                   53\n",
       "1.9                       1\n",
       "Name: Category, dtype: int64"
      ]
     },
     "execution_count": 81,
     "metadata": {},
     "output_type": "execute_result"
    }
   ],
   "source": [
    "# count of unique values\n",
    "df['Category'].value_counts()"
   ]
  },
  {
   "cell_type": "code",
   "execution_count": 82,
   "id": "1093e761",
   "metadata": {},
   "outputs": [
    {
     "data": {
      "text/plain": [
       "App                object\n",
       "Category           object\n",
       "Rating            float64\n",
       "Reviews            object\n",
       "Size               object\n",
       "Installs           object\n",
       "Type               object\n",
       "Price              object\n",
       "Content Rating     object\n",
       "Genres             object\n",
       "Last Updated       object\n",
       "Current Ver        object\n",
       "Android Ver        object\n",
       "dtype: object"
      ]
     },
     "execution_count": 82,
     "metadata": {},
     "output_type": "execute_result"
    }
   ],
   "source": [
    "df.dtypesd"
   ]
  },
  {
   "cell_type": "code",
   "execution_count": 84,
   "id": "99c4c1ea",
   "metadata": {},
   "outputs": [
    {
     "data": {
      "text/plain": [
       "array(['Free', 'Paid', nan, '0'], dtype=object)"
      ]
     },
     "execution_count": 84,
     "metadata": {},
     "output_type": "execute_result"
    }
   ],
   "source": [
    "df['Type'].unique()"
   ]
  },
  {
   "cell_type": "code",
   "execution_count": 85,
   "id": "8fb12374",
   "metadata": {},
   "outputs": [
    {
     "data": {
      "text/plain": [
       "Free    10039\n",
       "Paid      800\n",
       "0           1\n",
       "Name: Type, dtype: int64"
      ]
     },
     "execution_count": 85,
     "metadata": {},
     "output_type": "execute_result"
    }
   ],
   "source": [
    "df['Type'].value_counts()"
   ]
  },
  {
   "cell_type": "code",
   "execution_count": null,
   "id": "46ffe6ef",
   "metadata": {},
   "outputs": [],
   "source": []
  },
  {
   "cell_type": "code",
   "execution_count": null,
   "id": "d8e2aa83",
   "metadata": {},
   "outputs": [],
   "source": []
  },
  {
   "cell_type": "code",
   "execution_count": 89,
   "id": "e1bbdfa9",
   "metadata": {},
   "outputs": [
    {
     "data": {
      "text/plain": [
       "array(['Everyone', 'Teen', 'Everyone 10+', 'Mature 17+',\n",
       "       'Adults only 18+', 'Unrated', nan], dtype=object)"
      ]
     },
     "execution_count": 89,
     "metadata": {},
     "output_type": "execute_result"
    }
   ],
   "source": [
    "# type of Content Rating\n",
    "# df.columns\n",
    "df['Content Rating'].unique()"
   ]
  },
  {
   "cell_type": "code",
   "execution_count": 91,
   "id": "a478ac12",
   "metadata": {},
   "outputs": [
    {
     "data": {
      "text/plain": [
       "120"
      ]
     },
     "execution_count": 91,
     "metadata": {},
     "output_type": "execute_result"
    }
   ],
   "source": [
    "# type of Genres\n",
    "df.Genres.nunique()"
   ]
  },
  {
   "cell_type": "code",
   "execution_count": 132,
   "id": "3bb16b1e",
   "metadata": {},
   "outputs": [
    {
     "data": {
      "text/plain": [
       "App                object\n",
       "Category           object\n",
       "Rating            float64\n",
       "Reviews            object\n",
       "Size               object\n",
       "Installs           object\n",
       "Type               object\n",
       "Price              object\n",
       "Content Rating     object\n",
       "Genres             object\n",
       "Last Updated       object\n",
       "Current Ver        object\n",
       "Android Ver        object\n",
       "dtype: object"
      ]
     },
     "execution_count": 132,
     "metadata": {},
     "output_type": "execute_result"
    }
   ],
   "source": [
    "# df.dtypes\n",
    "# df.head(2)\n",
    "# df.Reviews.sample(20)"
   ]
  },
  {
   "cell_type": "code",
   "execution_count": null,
   "id": "fabf1a7b",
   "metadata": {},
   "outputs": [],
   "source": []
  },
  {
   "cell_type": "markdown",
   "id": "0974938f",
   "metadata": {},
   "source": [
    "### Data Cleaning\n",
    "- Clean the 'Reviews' data and change the type 'object' to 'float'.(Hint : astype() and use explicit function)"
   ]
  },
  {
   "cell_type": "code",
   "execution_count": 145,
   "id": "f5abf9df",
   "metadata": {},
   "outputs": [
    {
     "data": {
      "text/plain": [
       "App                object\n",
       "Category           object\n",
       "Rating            float64\n",
       "Reviews           float64\n",
       "Size               object\n",
       "Installs           object\n",
       "Type               object\n",
       "Price              object\n",
       "Content Rating     object\n",
       "Genres             object\n",
       "Last Updated       object\n",
       "Current Ver        object\n",
       "Android Ver        object\n",
       "dtype: object"
      ]
     },
     "execution_count": 145,
     "metadata": {},
     "output_type": "execute_result"
    }
   ],
   "source": [
    "# list1 = list(df.Reviews)\n",
    "def clean_review(x):\n",
    "    cleaned_list = []\n",
    "    for i in x:\n",
    "        if 'M' in i:\n",
    "            i = i.replace('M','')\n",
    "            i = float(i)*1000000\n",
    "        cleaned_list.append(float(i))\n",
    "#     print(type(cleaned_list))\n",
    "    return cleaned_list\n",
    "# clean_review(list(df.Reviews))\n",
    "df.Reviews = clean_review(list(df.Reviews))\n",
    "df.dtypes"
   ]
  },
  {
   "cell_type": "code",
   "execution_count": null,
   "id": "49d4b129",
   "metadata": {},
   "outputs": [],
   "source": []
  },
  {
   "cell_type": "code",
   "execution_count": null,
   "id": "d3adb184",
   "metadata": {},
   "outputs": [],
   "source": []
  },
  {
   "cell_type": "code",
   "execution_count": null,
   "id": "47b7055f",
   "metadata": {},
   "outputs": [],
   "source": []
  },
  {
   "cell_type": "code",
   "execution_count": null,
   "id": "2e81b78e",
   "metadata": {},
   "outputs": [],
   "source": []
  },
  {
   "cell_type": "code",
   "execution_count": null,
   "id": "ef47cbcf",
   "metadata": {},
   "outputs": [],
   "source": []
  },
  {
   "cell_type": "code",
   "execution_count": null,
   "id": "88dee6cc",
   "metadata": {},
   "outputs": [],
   "source": []
  },
  {
   "cell_type": "code",
   "execution_count": null,
   "id": "23cef5e4",
   "metadata": {},
   "outputs": [],
   "source": []
  },
  {
   "cell_type": "code",
   "execution_count": null,
   "id": "03935614",
   "metadata": {},
   "outputs": [],
   "source": []
  },
  {
   "cell_type": "code",
   "execution_count": null,
   "id": "99240efd",
   "metadata": {},
   "outputs": [],
   "source": []
  },
  {
   "cell_type": "code",
   "execution_count": null,
   "id": "fe9a154c",
   "metadata": {},
   "outputs": [],
   "source": [
    "# list1 = [i for i in df.Reviews]\n",
    "# reviews_clean(list1)\n",
    "# def reviews_clean(reviews_list):\n",
    "#     cleaned_list = []\n",
    "#     for review in reviews_list:\n",
    "#         if 'M' in review:\n",
    "#             review = review.replace('M','')\n",
    "#             review = float(review)*1000000 # 1M = 1000000\n",
    "#         cleaned_list.append(review)\n",
    "#     return cleaned_list\n",
    "# df['Reviews'] = reviews_clean(list1)\n",
    "# df['Reviews'] = df.Reviews.astype(float)"
   ]
  },
  {
   "cell_type": "code",
   "execution_count": null,
   "id": "23ed9697",
   "metadata": {},
   "outputs": [],
   "source": []
  },
  {
   "cell_type": "code",
   "execution_count": null,
   "id": "261cbb54",
   "metadata": {},
   "outputs": [],
   "source": []
  },
  {
   "cell_type": "code",
   "execution_count": null,
   "id": "da6de0b5",
   "metadata": {},
   "outputs": [],
   "source": []
  },
  {
   "cell_type": "markdown",
   "id": "bb5693a7",
   "metadata": {},
   "source": [
    "- clean the 'Size' data and change the type 'object' to 'float'. Found value with '1,000+' in one of record, remove it from data_frame as uncertain whether it is 'M' or 'k'"
   ]
  },
  {
   "cell_type": "code",
   "execution_count": 154,
   "id": "02872b66",
   "metadata": {},
   "outputs": [],
   "source": [
    "# df.Size.sample(10)\n",
    "index = df[df.Size =='1,000+'].index\n",
    "df.drop(index=index, axis=0, inplace=True)"
   ]
  },
  {
   "cell_type": "code",
   "execution_count": 157,
   "id": "e257a0c5",
   "metadata": {},
   "outputs": [
    {
     "data": {
      "text/plain": [
       "2090     Varies with device\n",
       "6902                   691k\n",
       "6147                   2.9M\n",
       "9261                   5.3M\n",
       "458                    695k\n",
       "10112                  3.3M\n",
       "10624                  9.9M\n",
       "875      Varies with device\n",
       "10254                   21M\n",
       "9358                    61M\n",
       "Name: Size, dtype: object"
      ]
     },
     "execution_count": 157,
     "metadata": {},
     "output_type": "execute_result"
    }
   ],
   "source": [
    "# df[df.Size =='1,000+']\n",
    "df.Size.sample(10)"
   ]
  },
  {
   "cell_type": "code",
   "execution_count": 160,
   "id": "8394b41f",
   "metadata": {},
   "outputs": [
    {
     "data": {
      "text/plain": [
       "dtype('float64')"
      ]
     },
     "execution_count": 160,
     "metadata": {},
     "output_type": "execute_result"
    }
   ],
   "source": [
    "def clean_size(x):\n",
    "    cleaned_list = []\n",
    "    for i in x:\n",
    "        if 'M' in i:\n",
    "            i = float(i.replace('M',''))\n",
    "        elif 'k' in i:\n",
    "            i = float(i.replace('k',''))\n",
    "            i = float(i/1024)\n",
    "        elif 'Varies with device' in i:\n",
    "            i = float(0)\n",
    "        cleaned_list.append(i)\n",
    "    return cleaned_list\n",
    "        \n",
    "df.Size = clean_size(df.Size)\n",
    "df.Size.dtype"
   ]
  },
  {
   "cell_type": "code",
   "execution_count": null,
   "id": "d07584d4",
   "metadata": {},
   "outputs": [],
   "source": []
  },
  {
   "cell_type": "code",
   "execution_count": null,
   "id": "6a9949e7",
   "metadata": {},
   "outputs": [],
   "source": [
    "# index = df[df.Size == '1,000+'].index\n",
    "# df.drop(axis=0, inplace=True, index=index)"
   ]
  },
  {
   "cell_type": "code",
   "execution_count": null,
   "id": "177ed021",
   "metadata": {},
   "outputs": [],
   "source": [
    "# sizes = [i for i in df.Size]\n",
    "# def cleaned_size(size):\n",
    "#     cleaned_list = []\n",
    "#     for i in size:\n",
    "#         if 'M' in i:\n",
    "#             i = i.replace('M','')\n",
    "#             i = float(i)\n",
    "#         elif 'k' in i:\n",
    "#             i = i.replace('k','')\n",
    "#             i = float(i)\n",
    "#             i = i/1024  # 1Megabtye = 1024 kilobytes\n",
    "#         elif \"Varies with device\" in i :\n",
    "#             i = float(0)\n",
    "#         cleaned_list.append(i)\n",
    "#     return cleaned_list\n",
    "# df['Size'] = cleaned_size(sizes)\n"
   ]
  },
  {
   "cell_type": "code",
   "execution_count": null,
   "id": "6b4a2c17",
   "metadata": {},
   "outputs": [],
   "source": [
    "# df['Size'] = df['Size'].astype(float)"
   ]
  },
  {
   "cell_type": "markdown",
   "id": "f94c4ad9",
   "metadata": {},
   "source": [
    "- Clean the 'Installs' data and change the type 'object' to 'float'."
   ]
  },
  {
   "cell_type": "code",
   "execution_count": 165,
   "id": "a3f20455",
   "metadata": {},
   "outputs": [
    {
     "data": {
      "text/plain": [
       "3853     1,000,000+\n",
       "8991        10,000+\n",
       "4027         5,000+\n",
       "749      1,000,000+\n",
       "1273     5,000,000+\n",
       "4729       100,000+\n",
       "10725        1,000+\n",
       "3240     1,000,000+\n",
       "10205      500,000+\n",
       "522         50,000+\n",
       "Name: Installs, dtype: object"
      ]
     },
     "execution_count": 165,
     "metadata": {},
     "output_type": "execute_result"
    }
   ],
   "source": [
    "df.Installs.sample(10)"
   ]
  },
  {
   "cell_type": "code",
   "execution_count": 166,
   "id": "52d6b901",
   "metadata": {},
   "outputs": [
    {
     "data": {
      "text/plain": [
       "dtype('int64')"
      ]
     },
     "execution_count": 166,
     "metadata": {},
     "output_type": "execute_result"
    }
   ],
   "source": [
    "def cleaned_installs(x):\n",
    "    cleaned_list = []\n",
    "    for i in x:\n",
    "        if ',' in i:\n",
    "            i = i.replace(',','')\n",
    "        if '+' in i:\n",
    "            i = i.replace('+','')\n",
    "        cleaned_list.append(int(i))\n",
    "    return cleaned_list\n",
    "df.Installs = cleaned_installs(df.Installs)\n",
    "df.Installs.dtype"
   ]
  },
  {
   "cell_type": "code",
   "execution_count": null,
   "id": "efcd0088",
   "metadata": {},
   "outputs": [],
   "source": [
    "# installs =[i for i in df.Installs]\n",
    "# installs"
   ]
  },
  {
   "cell_type": "code",
   "execution_count": null,
   "id": "f2f2c891",
   "metadata": {},
   "outputs": [],
   "source": [
    "def cleaned_installs(data):\n",
    "    cleaned_list = []\n",
    "    for install in data:\n",
    "        if ',' in install:\n",
    "            install = install.replace(',','')\n",
    "        if '+' in install:\n",
    "            install = install.replace('+','')\n",
    "        cleaned_list.append(int(install))\n",
    "    return cleaned_list\n",
    "\n",
    "df.Installs = cleaned_installs(installs)\n",
    "df.Installs = df.Installs.astype('int')"
   ]
  },
  {
   "cell_type": "markdown",
   "id": "f7c75e0e",
   "metadata": {},
   "source": [
    "- Clean the 'Price' data and change the type 'object' to 'float'."
   ]
  },
  {
   "cell_type": "code",
   "execution_count": 170,
   "id": "5157ef89",
   "metadata": {},
   "outputs": [
    {
     "data": {
      "text/plain": [
       "5163         0\n",
       "4965         0\n",
       "6555     $1.99\n",
       "10643        0\n",
       "6426         0\n",
       "10418        0\n",
       "10158        0\n",
       "4629         0\n",
       "62           0\n",
       "4983     $0.99\n",
       "Name: Price, dtype: object"
      ]
     },
     "execution_count": 170,
     "metadata": {},
     "output_type": "execute_result"
    }
   ],
   "source": [
    "df.Price.sample(10)"
   ]
  },
  {
   "cell_type": "code",
   "execution_count": 171,
   "id": "a735b056",
   "metadata": {},
   "outputs": [
    {
     "data": {
      "text/plain": [
       "dtype('float64')"
      ]
     },
     "execution_count": 171,
     "metadata": {},
     "output_type": "execute_result"
    }
   ],
   "source": [
    "def cleaned_price(x):\n",
    "    cleaned_list = []\n",
    "    for i in x:\n",
    "        if '$' in i:\n",
    "            i = i.replace('$','')\n",
    "        cleaned_list.append(float(i))\n",
    "    return cleaned_list\n",
    "\n",
    "df.Price = cleaned_price(df.Price)\n",
    "df.Price.dtype"
   ]
  },
  {
   "cell_type": "code",
   "execution_count": null,
   "id": "532ce8d6",
   "metadata": {},
   "outputs": [],
   "source": [
    "prices = [i for i in df.Price]\n",
    "# prices\n",
    "def cleaned_Prices(data):\n",
    "    cleaned_list = []\n",
    "    for price in data:\n",
    "        if '$' in price:\n",
    "            price = price.replace('$','')\n",
    "        cleaned_list.append(price)\n",
    "    return cleaned_list\n",
    "# cleaned_Prices(prices)"
   ]
  },
  {
   "cell_type": "code",
   "execution_count": null,
   "id": "f5785883",
   "metadata": {},
   "outputs": [],
   "source": [
    "df.Price = cleaned_Prices(prices)\n",
    "df.Price = df.Price.astype(float)\n",
    "df.Price"
   ]
  },
  {
   "cell_type": "code",
   "execution_count": null,
   "id": "23673bc7",
   "metadata": {},
   "outputs": [],
   "source": [
    "# look at the random 10 records in the apps dataframe to verify the cleaned columns\n",
    "df.sample(10)"
   ]
  },
  {
   "cell_type": "code",
   "execution_count": 172,
   "id": "90fbe82f",
   "metadata": {},
   "outputs": [
    {
     "data": {
      "text/plain": [
       "App                  0\n",
       "Category             0\n",
       "Rating            1474\n",
       "Reviews              0\n",
       "Size                 0\n",
       "Installs             0\n",
       "Type                 1\n",
       "Price                0\n",
       "Content Rating       0\n",
       "Genres               0\n",
       "Last Updated         0\n",
       "Current Ver          8\n",
       "Android Ver          2\n",
       "dtype: int64"
      ]
     },
     "execution_count": 172,
     "metadata": {},
     "output_type": "execute_result"
    }
   ],
   "source": [
    "# check on null values\n",
    "df.isna().sum()"
   ]
  },
  {
   "cell_type": "markdown",
   "id": "58031117",
   "metadata": {},
   "source": [
    "Here, we realized that there are 1474 rows having null values under column `Rating`. Hence, we decided to replace the null values with median of overall `Rating` values."
   ]
  },
  {
   "cell_type": "code",
   "execution_count": 180,
   "id": "e05a9deb",
   "metadata": {},
   "outputs": [
    {
     "name": "stdout",
     "output_type": "stream",
     "text": [
      "-1.8496951283704521\n"
     ]
    },
    {
     "data": {
      "text/plain": [
       "<AxesSubplot:xlabel='Rating', ylabel='Density'>"
      ]
     },
     "execution_count": 180,
     "metadata": {},
     "output_type": "execute_result"
    },
    {
     "data": {
      "image/png": "[encoded data removed]",
      "text/plain": [
       "<Figure size 432x288 with 1 Axes>"
      ]
     },
     "metadata": {
      "needs_background": "light"
     },
     "output_type": "display_data"
    }
   ],
   "source": [
    "print(df.Rating.skew())\n",
    "sns.distplot(df.Rating)\n"
   ]
  },
  {
   "cell_type": "code",
   "execution_count": 183,
   "id": "91428733",
   "metadata": {},
   "outputs": [
    {
     "data": {
      "text/plain": [
       "(4.3, 4.191757420456972)"
      ]
     },
     "execution_count": 183,
     "metadata": {},
     "output_type": "execute_result"
    }
   ],
   "source": [
    "df.Rating.median(),df.Rating.mean()"
   ]
  },
  {
   "cell_type": "code",
   "execution_count": 184,
   "id": "f3275a4b",
   "metadata": {},
   "outputs": [],
   "source": [
    "df.Rating.fillna(df.Rating.mean(),inplace=True)"
   ]
  },
  {
   "cell_type": "code",
   "execution_count": null,
   "id": "ba8457a8",
   "metadata": {},
   "outputs": [],
   "source": [
    "# df.Rating\n",
    "# df.Rating.median()\n",
    "# df['Rating'] = df.Rating.fillna(df.Rating.median())"
   ]
  },
  {
   "cell_type": "code",
   "execution_count": 185,
   "id": "56376881",
   "metadata": {},
   "outputs": [
    {
     "data": {
      "text/plain": [
       "App               0\n",
       "Category          0\n",
       "Rating            0\n",
       "Reviews           0\n",
       "Size              0\n",
       "Installs          0\n",
       "Type              1\n",
       "Price             0\n",
       "Content Rating    0\n",
       "Genres            0\n",
       "Last Updated      0\n",
       "Current Ver       8\n",
       "Android Ver       2\n",
       "dtype: int64"
      ]
     },
     "execution_count": 185,
     "metadata": {},
     "output_type": "execute_result"
    }
   ],
   "source": [
    "df.isna().sum()"
   ]
  },
  {
   "cell_type": "code",
   "execution_count": null,
   "id": "ba696730",
   "metadata": {},
   "outputs": [],
   "source": [
    "# remove the record where 'Type' is having null value"
   ]
  },
  {
   "cell_type": "code",
   "execution_count": 191,
   "id": "cf151b52",
   "metadata": {},
   "outputs": [],
   "source": [
    "df.drop(index=df[df.Type.isna()].index, axis=0, inplace=True)"
   ]
  },
  {
   "cell_type": "code",
   "execution_count": null,
   "id": "87185c8e",
   "metadata": {},
   "outputs": [],
   "source": [
    "index = df[df.Type.isna()].index\n",
    "df.drop(axis=0, inplace=True, index=index)"
   ]
  },
  {
   "cell_type": "code",
   "execution_count": 192,
   "id": "87ac557f",
   "metadata": {},
   "outputs": [
    {
     "data": {
      "text/plain": [
       "App               0\n",
       "Category          0\n",
       "Rating            0\n",
       "Reviews           0\n",
       "Size              0\n",
       "Installs          0\n",
       "Type              0\n",
       "Price             0\n",
       "Content Rating    0\n",
       "Genres            0\n",
       "Last Updated      0\n",
       "Current Ver       8\n",
       "Android Ver       2\n",
       "dtype: int64"
      ]
     },
     "execution_count": 192,
     "metadata": {},
     "output_type": "execute_result"
    }
   ],
   "source": [
    "df.isna().sum()"
   ]
  },
  {
   "cell_type": "code",
   "execution_count": 193,
   "id": "2afe659d",
   "metadata": {},
   "outputs": [
    {
     "data": {
      "text/html": [
       "<div>\n",
       "<style scoped>\n",
       "    .dataframe tbody tr th:only-of-type {\n",
       "        vertical-align: middle;\n",
       "    }\n",
       "\n",
       "    .dataframe tbody tr th {\n",
       "        vertical-align: top;\n",
       "    }\n",
       "\n",
       "    .dataframe thead th {\n",
       "        text-align: right;\n",
       "    }\n",
       "</style>\n",
       "<table border=\"1\" class=\"dataframe\">\n",
       "  <thead>\n",
       "    <tr style=\"text-align: right;\">\n",
       "      <th></th>\n",
       "      <th>Rating</th>\n",
       "      <th>Reviews</th>\n",
       "      <th>Size</th>\n",
       "      <th>Installs</th>\n",
       "      <th>Price</th>\n",
       "    </tr>\n",
       "  </thead>\n",
       "  <tbody>\n",
       "    <tr>\n",
       "      <th>count</th>\n",
       "      <td>10839.000000</td>\n",
       "      <td>1.083900e+04</td>\n",
       "      <td>10839.000000</td>\n",
       "      <td>1.083900e+04</td>\n",
       "      <td>10839.000000</td>\n",
       "    </tr>\n",
       "    <tr>\n",
       "      <th>mean</th>\n",
       "      <td>4.191757</td>\n",
       "      <td>4.441939e+05</td>\n",
       "      <td>18.153458</td>\n",
       "      <td>1.546577e+07</td>\n",
       "      <td>1.027463</td>\n",
       "    </tr>\n",
       "    <tr>\n",
       "      <th>std</th>\n",
       "      <td>0.478929</td>\n",
       "      <td>2.927893e+06</td>\n",
       "      <td>22.171186</td>\n",
       "      <td>8.503315e+07</td>\n",
       "      <td>15.950436</td>\n",
       "    </tr>\n",
       "    <tr>\n",
       "      <th>min</th>\n",
       "      <td>1.000000</td>\n",
       "      <td>0.000000e+00</td>\n",
       "      <td>0.000000</td>\n",
       "      <td>0.000000e+00</td>\n",
       "      <td>0.000000</td>\n",
       "    </tr>\n",
       "    <tr>\n",
       "      <th>25%</th>\n",
       "      <td>4.100000</td>\n",
       "      <td>3.800000e+01</td>\n",
       "      <td>2.600000</td>\n",
       "      <td>3.000000e+03</td>\n",
       "      <td>0.000000</td>\n",
       "    </tr>\n",
       "    <tr>\n",
       "      <th>50%</th>\n",
       "      <td>4.200000</td>\n",
       "      <td>2.094000e+03</td>\n",
       "      <td>9.200000</td>\n",
       "      <td>1.000000e+05</td>\n",
       "      <td>0.000000</td>\n",
       "    </tr>\n",
       "    <tr>\n",
       "      <th>75%</th>\n",
       "      <td>4.500000</td>\n",
       "      <td>5.478300e+04</td>\n",
       "      <td>26.000000</td>\n",
       "      <td>5.000000e+06</td>\n",
       "      <td>0.000000</td>\n",
       "    </tr>\n",
       "    <tr>\n",
       "      <th>max</th>\n",
       "      <td>5.000000</td>\n",
       "      <td>7.815831e+07</td>\n",
       "      <td>100.000000</td>\n",
       "      <td>1.000000e+09</td>\n",
       "      <td>400.000000</td>\n",
       "    </tr>\n",
       "  </tbody>\n",
       "</table>\n",
       "</div>"
      ],
      "text/plain": [
       "             Rating       Reviews          Size      Installs         Price\n",
       "count  10839.000000  1.083900e+04  10839.000000  1.083900e+04  10839.000000\n",
       "mean       4.191757  4.441939e+05     18.153458  1.546577e+07      1.027463\n",
       "std        0.478929  2.927893e+06     22.171186  8.503315e+07     15.950436\n",
       "min        1.000000  0.000000e+00      0.000000  0.000000e+00      0.000000\n",
       "25%        4.100000  3.800000e+01      2.600000  3.000000e+03      0.000000\n",
       "50%        4.200000  2.094000e+03      9.200000  1.000000e+05      0.000000\n",
       "75%        4.500000  5.478300e+04     26.000000  5.000000e+06      0.000000\n",
       "max        5.000000  7.815831e+07    100.000000  1.000000e+09    400.000000"
      ]
     },
     "execution_count": 193,
     "metadata": {},
     "output_type": "execute_result"
    }
   ],
   "source": [
    "# check on statistical information of the dataframe\n",
    "df.describe()"
   ]
  },
  {
   "cell_type": "code",
   "execution_count": 198,
   "id": "e9553bb5",
   "metadata": {},
   "outputs": [],
   "source": [
    "df.sort_values(by='Reviews', ascending=False, inplace=True)"
   ]
  },
  {
   "cell_type": "code",
   "execution_count": null,
   "id": "898b3849",
   "metadata": {},
   "outputs": [],
   "source": []
  },
  {
   "cell_type": "code",
   "execution_count": null,
   "id": "a10164ca",
   "metadata": {},
   "outputs": [],
   "source": [
    "# sort the dataframe by Reviews descendingly\n",
    "df.sort_values(by='Reviews',ascending=False,  inplace=True)"
   ]
  },
  {
   "cell_type": "code",
   "execution_count": 199,
   "id": "42371160",
   "metadata": {
    "scrolled": true
   },
   "outputs": [
    {
     "data": {
      "text/html": [
       "<div>\n",
       "<style scoped>\n",
       "    .dataframe tbody tr th:only-of-type {\n",
       "        vertical-align: middle;\n",
       "    }\n",
       "\n",
       "    .dataframe tbody tr th {\n",
       "        vertical-align: top;\n",
       "    }\n",
       "\n",
       "    .dataframe thead th {\n",
       "        text-align: right;\n",
       "    }\n",
       "</style>\n",
       "<table border=\"1\" class=\"dataframe\">\n",
       "  <thead>\n",
       "    <tr style=\"text-align: right;\">\n",
       "      <th></th>\n",
       "      <th>App</th>\n",
       "      <th>Category</th>\n",
       "      <th>Rating</th>\n",
       "      <th>Reviews</th>\n",
       "      <th>Size</th>\n",
       "      <th>Installs</th>\n",
       "      <th>Type</th>\n",
       "      <th>Price</th>\n",
       "      <th>Content Rating</th>\n",
       "      <th>Genres</th>\n",
       "      <th>Last Updated</th>\n",
       "      <th>Current Ver</th>\n",
       "      <th>Android Ver</th>\n",
       "    </tr>\n",
       "  </thead>\n",
       "  <tbody>\n",
       "    <tr>\n",
       "      <th>2544</th>\n",
       "      <td>Facebook</td>\n",
       "      <td>SOCIAL</td>\n",
       "      <td>4.1</td>\n",
       "      <td>78158306.0</td>\n",
       "      <td>0.0</td>\n",
       "      <td>1000000000</td>\n",
       "      <td>Free</td>\n",
       "      <td>0.0</td>\n",
       "      <td>Teen</td>\n",
       "      <td>Social</td>\n",
       "      <td>August 3, 2018</td>\n",
       "      <td>Varies with device</td>\n",
       "      <td>Varies with device</td>\n",
       "    </tr>\n",
       "    <tr>\n",
       "      <th>3943</th>\n",
       "      <td>Facebook</td>\n",
       "      <td>SOCIAL</td>\n",
       "      <td>4.1</td>\n",
       "      <td>78128208.0</td>\n",
       "      <td>0.0</td>\n",
       "      <td>1000000000</td>\n",
       "      <td>Free</td>\n",
       "      <td>0.0</td>\n",
       "      <td>Teen</td>\n",
       "      <td>Social</td>\n",
       "      <td>August 3, 2018</td>\n",
       "      <td>Varies with device</td>\n",
       "      <td>Varies with device</td>\n",
       "    </tr>\n",
       "    <tr>\n",
       "      <th>381</th>\n",
       "      <td>WhatsApp Messenger</td>\n",
       "      <td>COMMUNICATION</td>\n",
       "      <td>4.4</td>\n",
       "      <td>69119316.0</td>\n",
       "      <td>0.0</td>\n",
       "      <td>1000000000</td>\n",
       "      <td>Free</td>\n",
       "      <td>0.0</td>\n",
       "      <td>Everyone</td>\n",
       "      <td>Communication</td>\n",
       "      <td>August 3, 2018</td>\n",
       "      <td>Varies with device</td>\n",
       "      <td>Varies with device</td>\n",
       "    </tr>\n",
       "    <tr>\n",
       "      <th>336</th>\n",
       "      <td>WhatsApp Messenger</td>\n",
       "      <td>COMMUNICATION</td>\n",
       "      <td>4.4</td>\n",
       "      <td>69119316.0</td>\n",
       "      <td>0.0</td>\n",
       "      <td>1000000000</td>\n",
       "      <td>Free</td>\n",
       "      <td>0.0</td>\n",
       "      <td>Everyone</td>\n",
       "      <td>Communication</td>\n",
       "      <td>August 3, 2018</td>\n",
       "      <td>Varies with device</td>\n",
       "      <td>Varies with device</td>\n",
       "    </tr>\n",
       "    <tr>\n",
       "      <th>3904</th>\n",
       "      <td>WhatsApp Messenger</td>\n",
       "      <td>COMMUNICATION</td>\n",
       "      <td>4.4</td>\n",
       "      <td>69109672.0</td>\n",
       "      <td>0.0</td>\n",
       "      <td>1000000000</td>\n",
       "      <td>Free</td>\n",
       "      <td>0.0</td>\n",
       "      <td>Everyone</td>\n",
       "      <td>Communication</td>\n",
       "      <td>August 3, 2018</td>\n",
       "      <td>Varies with device</td>\n",
       "      <td>Varies with device</td>\n",
       "    </tr>\n",
       "  </tbody>\n",
       "</table>\n",
       "</div>"
      ],
      "text/plain": [
       "                     App       Category  Rating     Reviews  Size    Installs  \\\n",
       "2544            Facebook         SOCIAL     4.1  78158306.0   0.0  1000000000   \n",
       "3943            Facebook         SOCIAL     4.1  78128208.0   0.0  1000000000   \n",
       "381   WhatsApp Messenger  COMMUNICATION     4.4  69119316.0   0.0  1000000000   \n",
       "336   WhatsApp Messenger  COMMUNICATION     4.4  69119316.0   0.0  1000000000   \n",
       "3904  WhatsApp Messenger  COMMUNICATION     4.4  69109672.0   0.0  1000000000   \n",
       "\n",
       "      Type  Price Content Rating         Genres    Last Updated  \\\n",
       "2544  Free    0.0           Teen         Social  August 3, 2018   \n",
       "3943  Free    0.0           Teen         Social  August 3, 2018   \n",
       "381   Free    0.0       Everyone  Communication  August 3, 2018   \n",
       "336   Free    0.0       Everyone  Communication  August 3, 2018   \n",
       "3904  Free    0.0       Everyone  Communication  August 3, 2018   \n",
       "\n",
       "             Current Ver         Android Ver  \n",
       "2544  Varies with device  Varies with device  \n",
       "3943  Varies with device  Varies with device  \n",
       "381   Varies with device  Varies with device  \n",
       "336   Varies with device  Varies with device  \n",
       "3904  Varies with device  Varies with device  "
      ]
     },
     "execution_count": 199,
     "metadata": {},
     "output_type": "execute_result"
    }
   ],
   "source": [
    "df.head()"
   ]
  },
  {
   "cell_type": "code",
   "execution_count": 203,
   "id": "3b74649f",
   "metadata": {},
   "outputs": [
    {
     "data": {
      "text/plain": [
       "Int64Index([ 336, 2611,  335, 1670, 1872, 1869, 1751, 3971, 3796,  431,\n",
       "            ...\n",
       "            2529, 2518,  613,  611, 2280,  610, 7035, 2430, 2433, 2436],\n",
       "           dtype='int64', length=483)"
      ]
     },
     "execution_count": 203,
     "metadata": {},
     "output_type": "execute_result"
    }
   ],
   "source": [
    "df[df.duplicated()].index"
   ]
  },
  {
   "cell_type": "code",
   "execution_count": 204,
   "id": "03bb110a",
   "metadata": {
    "scrolled": true
   },
   "outputs": [],
   "source": [
    "# drop duplicate rows based on App \n",
    "df.drop_duplicates(subset=['App'], inplace=True)"
   ]
  },
  {
   "cell_type": "code",
   "execution_count": 205,
   "id": "1e71689a",
   "metadata": {},
   "outputs": [
    {
     "data": {
      "text/html": [
       "<div>\n",
       "<style scoped>\n",
       "    .dataframe tbody tr th:only-of-type {\n",
       "        vertical-align: middle;\n",
       "    }\n",
       "\n",
       "    .dataframe tbody tr th {\n",
       "        vertical-align: top;\n",
       "    }\n",
       "\n",
       "    .dataframe thead th {\n",
       "        text-align: right;\n",
       "    }\n",
       "</style>\n",
       "<table border=\"1\" class=\"dataframe\">\n",
       "  <thead>\n",
       "    <tr style=\"text-align: right;\">\n",
       "      <th></th>\n",
       "      <th>App</th>\n",
       "      <th>Category</th>\n",
       "      <th>Rating</th>\n",
       "      <th>Reviews</th>\n",
       "      <th>Size</th>\n",
       "      <th>Installs</th>\n",
       "      <th>Type</th>\n",
       "      <th>Price</th>\n",
       "      <th>Content Rating</th>\n",
       "      <th>Genres</th>\n",
       "      <th>Last Updated</th>\n",
       "      <th>Current Ver</th>\n",
       "      <th>Android Ver</th>\n",
       "    </tr>\n",
       "  </thead>\n",
       "  <tbody>\n",
       "    <tr>\n",
       "      <th>2544</th>\n",
       "      <td>Facebook</td>\n",
       "      <td>SOCIAL</td>\n",
       "      <td>4.1</td>\n",
       "      <td>78158306.0</td>\n",
       "      <td>0.0</td>\n",
       "      <td>1000000000</td>\n",
       "      <td>Free</td>\n",
       "      <td>0.0</td>\n",
       "      <td>Teen</td>\n",
       "      <td>Social</td>\n",
       "      <td>August 3, 2018</td>\n",
       "      <td>Varies with device</td>\n",
       "      <td>Varies with device</td>\n",
       "    </tr>\n",
       "    <tr>\n",
       "      <th>381</th>\n",
       "      <td>WhatsApp Messenger</td>\n",
       "      <td>COMMUNICATION</td>\n",
       "      <td>4.4</td>\n",
       "      <td>69119316.0</td>\n",
       "      <td>0.0</td>\n",
       "      <td>1000000000</td>\n",
       "      <td>Free</td>\n",
       "      <td>0.0</td>\n",
       "      <td>Everyone</td>\n",
       "      <td>Communication</td>\n",
       "      <td>August 3, 2018</td>\n",
       "      <td>Varies with device</td>\n",
       "      <td>Varies with device</td>\n",
       "    </tr>\n",
       "    <tr>\n",
       "      <th>2604</th>\n",
       "      <td>Instagram</td>\n",
       "      <td>SOCIAL</td>\n",
       "      <td>4.5</td>\n",
       "      <td>66577446.0</td>\n",
       "      <td>0.0</td>\n",
       "      <td>1000000000</td>\n",
       "      <td>Free</td>\n",
       "      <td>0.0</td>\n",
       "      <td>Teen</td>\n",
       "      <td>Social</td>\n",
       "      <td>July 31, 2018</td>\n",
       "      <td>Varies with device</td>\n",
       "      <td>Varies with device</td>\n",
       "    </tr>\n",
       "    <tr>\n",
       "      <th>382</th>\n",
       "      <td>Messenger – Text and Video Chat for Free</td>\n",
       "      <td>COMMUNICATION</td>\n",
       "      <td>4.0</td>\n",
       "      <td>56646578.0</td>\n",
       "      <td>0.0</td>\n",
       "      <td>1000000000</td>\n",
       "      <td>Free</td>\n",
       "      <td>0.0</td>\n",
       "      <td>Everyone</td>\n",
       "      <td>Communication</td>\n",
       "      <td>August 1, 2018</td>\n",
       "      <td>Varies with device</td>\n",
       "      <td>Varies with device</td>\n",
       "    </tr>\n",
       "    <tr>\n",
       "      <th>1879</th>\n",
       "      <td>Clash of Clans</td>\n",
       "      <td>GAME</td>\n",
       "      <td>4.6</td>\n",
       "      <td>44893888.0</td>\n",
       "      <td>98.0</td>\n",
       "      <td>100000000</td>\n",
       "      <td>Free</td>\n",
       "      <td>0.0</td>\n",
       "      <td>Everyone 10+</td>\n",
       "      <td>Strategy</td>\n",
       "      <td>July 15, 2018</td>\n",
       "      <td>10.322.16</td>\n",
       "      <td>4.1 and up</td>\n",
       "    </tr>\n",
       "  </tbody>\n",
       "</table>\n",
       "</div>"
      ],
      "text/plain": [
       "                                           App       Category  Rating  \\\n",
       "2544                                  Facebook         SOCIAL     4.1   \n",
       "381                         WhatsApp Messenger  COMMUNICATION     4.4   \n",
       "2604                                 Instagram         SOCIAL     4.5   \n",
       "382   Messenger – Text and Video Chat for Free  COMMUNICATION     4.0   \n",
       "1879                            Clash of Clans           GAME     4.6   \n",
       "\n",
       "         Reviews  Size    Installs  Type  Price Content Rating         Genres  \\\n",
       "2544  78158306.0   0.0  1000000000  Free    0.0           Teen         Social   \n",
       "381   69119316.0   0.0  1000000000  Free    0.0       Everyone  Communication   \n",
       "2604  66577446.0   0.0  1000000000  Free    0.0           Teen         Social   \n",
       "382   56646578.0   0.0  1000000000  Free    0.0       Everyone  Communication   \n",
       "1879  44893888.0  98.0   100000000  Free    0.0   Everyone 10+       Strategy   \n",
       "\n",
       "        Last Updated         Current Ver         Android Ver  \n",
       "2544  August 3, 2018  Varies with device  Varies with device  \n",
       "381   August 3, 2018  Varies with device  Varies with device  \n",
       "2604   July 31, 2018  Varies with device  Varies with device  \n",
       "382   August 1, 2018  Varies with device  Varies with device  \n",
       "1879   July 15, 2018           10.322.16          4.1 and up  "
      ]
     },
     "execution_count": 205,
     "metadata": {},
     "output_type": "execute_result"
    }
   ],
   "source": [
    "df.head()"
   ]
  },
  {
   "cell_type": "markdown",
   "id": "535d5d50",
   "metadata": {},
   "source": [
    "### Exploratory Analysis and Visualization"
   ]
  },
  {
   "cell_type": "code",
   "execution_count": null,
   "id": "9e305f46",
   "metadata": {},
   "outputs": [],
   "source": [
    "# get the number of apps for each category\n",
    "# first of all we get all the categories\n",
    "df.Category.unique()\n",
    "\n",
    "# second, we get count of each category\n",
    "df.Category.value_counts()"
   ]
  },
  {
   "cell_type": "markdown",
   "id": "0d7b7e64",
   "metadata": {},
   "source": [
    "### Bar Plot"
   ]
  },
  {
   "cell_type": "code",
   "execution_count": null,
   "id": "419ed66d",
   "metadata": {},
   "outputs": [],
   "source": [
    "from collections import Counter\n",
    "counts = Counter(df.Category)\n",
    "counts = dict(counts)\n",
    "counts"
   ]
  },
  {
   "cell_type": "code",
   "execution_count": null,
   "id": "c7b21743",
   "metadata": {},
   "outputs": [],
   "source": [
    "# labels = list(counts.keys())\n",
    "# values = list(counts.values())\n",
    "# # labels,values"
   ]
  },
  {
   "cell_type": "code",
   "execution_count": null,
   "id": "c49743da",
   "metadata": {},
   "outputs": [],
   "source": [
    "# fig = plt.figure(figsize=(10,10))\n",
    "# ax = fig.add_subplot() \n",
    "# ax.bar(x=labels, height=values)\n",
    "# ax.set_xlabel(\"Number of Apps\")\n",
    "# ax.set_ylabel(\"Category\")\n",
    "# plt.title(\"Number of Apps per Category\")\n",
    "# plt.show()"
   ]
  },
  {
   "cell_type": "code",
   "execution_count": null,
   "id": "c004d57e",
   "metadata": {},
   "outputs": [],
   "source": [
    "fig = plt.figure(figsize=(10,10))\n",
    "ax = fig.add_subplot()\n",
    "ax.barh(y =labels, width=values)\n",
    "ax.set_xlabel(\"Number of Apps\")\n",
    "ax.set_ylabel(\"Category\")\n",
    "plt.title(\"Number of Apps per Category\")\n",
    "sns.set_style('dark')\n",
    "plt.show()"
   ]
  },
  {
   "cell_type": "markdown",
   "id": "a17754b4",
   "metadata": {},
   "source": [
    "### Countplot"
   ]
  },
  {
   "cell_type": "code",
   "execution_count": null,
   "id": "5b4e422c",
   "metadata": {},
   "outputs": [],
   "source": [
    "# plt.figure(figsize=(10,5))\n",
    "# sns.set_style('darkgrid')\n",
    "# sns.countplot(x = df.Category, data=df)\n",
    "# plt.title(\"Number of Apps per Category\")\n",
    "# plt.ylabel(\"Number of Apps\")\n",
    "# plt.xticks(rotation=90)\n",
    "# plt.show()"
   ]
  },
  {
   "cell_type": "markdown",
   "id": "aaaebdad",
   "metadata": {},
   "source": [
    "**From this plotting we know that most of the apps in the play store are from the categories of `Family`, `Game` and also `Tools`.**"
   ]
  },
  {
   "cell_type": "code",
   "execution_count": null,
   "id": "394bd88a",
   "metadata": {},
   "outputs": [],
   "source": [
    "# get the number of installs for each category\n",
    "# Firstly, we groupby the data according to category and installs\n",
    "df.columns\n",
    "categories = df.groupby(['Category'])\n",
    "new_df = categories['Installs'].sum().reset_index()\n",
    "new_df"
   ]
  },
  {
   "cell_type": "code",
   "execution_count": null,
   "id": "ad9b6352",
   "metadata": {},
   "outputs": [],
   "source": [
    "# bar plot using matplotlib\n",
    "fig = plt.figure(figsize=(10,5))\n",
    "ax = fig.add_subplot()\n",
    "ax.bar(x=new_df.Category, height=new_df.Installs)\n",
    "ax.set_xlabel(\"Category\")\n",
    "ax.set_ylabel(\"Installs (e+10)\")\n",
    "ax.set_title(\"Number of Installs for each Category\")\n",
    "plt.xticks(rotation=90)\n",
    "plt.show()"
   ]
  },
  {
   "cell_type": "code",
   "execution_count": null,
   "id": "ff8d986d",
   "metadata": {},
   "outputs": [],
   "source": [
    "# barplot using seaborn\n",
    "plt.figure(figsize=(10,5))\n",
    "sns.barplot(x= new_df.Category, y=new_df.Installs)\n",
    "plt.title(\"Number of Installs for each Category\")\n",
    "plt.xticks(rotation=90)\n",
    "plt.show()"
   ]
  },
  {
   "cell_type": "markdown",
   "id": "c08459e1",
   "metadata": {},
   "source": [
    "From this distribution plotting of number of installs for each category, we can see that most of the apps being downloaded and installed are from the categories of `Game` and `Communication`."
   ]
  },
  {
   "cell_type": "code",
   "execution_count": null,
   "id": "23d7cf29",
   "metadata": {},
   "outputs": [],
   "source": [
    "# show the distribution of rating using matplotlib and seaborn"
   ]
  },
  {
   "cell_type": "code",
   "execution_count": null,
   "id": "4e5df87d",
   "metadata": {},
   "outputs": [],
   "source": [
    "plt.figure(figsize=(10,5))\n",
    "plt.hist(df.Rating, bins=30)\n",
    "plt.xlabel(\"Rating\")\n",
    "plt.ylabel(\"Number of Apps\")\n",
    "plt.show()"
   ]
  },
  {
   "cell_type": "code",
   "execution_count": null,
   "id": "d12f53e0",
   "metadata": {},
   "outputs": [],
   "source": [
    "# using seaborn\n",
    "plt.figure(figsize=(10, 5))\n",
    "sns.histplot(df.Rating)\n",
    "plt.title('Rating Distribution')\n",
    "plt.xticks(rotation=90)\n",
    "plt.ylabel('Number of Apps')\n",
    "plt.show()"
   ]
  },
  {
   "cell_type": "code",
   "execution_count": null,
   "id": "f3829f6f",
   "metadata": {},
   "outputs": [],
   "source": [
    "# using seaborn\n",
    "plt.figure(figsize=(10, 5))\n",
    "sns.countplot(x = 'Rating', data=df)\n",
    "plt.title('Rating Distribution')\n",
    "plt.xticks(rotation=90)\n",
    "plt.ylabel('Number of Apps')\n",
    "plt.show()"
   ]
  },
  {
   "cell_type": "code",
   "execution_count": null,
   "id": "876de8da",
   "metadata": {},
   "outputs": [],
   "source": [
    "# plot the line graphs of reviews, size, installs and price per rating\n",
    "new_df1 = df.groupby('Rating').sum().reset_index()\n",
    "new_df1"
   ]
  },
  {
   "cell_type": "code",
   "execution_count": null,
   "id": "ac1eef7e",
   "metadata": {},
   "outputs": [],
   "source": [
    "new_df1.corr()"
   ]
  },
  {
   "cell_type": "code",
   "execution_count": null,
   "id": "c69da352",
   "metadata": {},
   "outputs": [],
   "source": [
    "sns.heatmap(new_df1.corr())"
   ]
  },
  {
   "cell_type": "code",
   "execution_count": null,
   "id": "8d9e883b",
   "metadata": {},
   "outputs": [],
   "source": [
    "fig = plt.figure()\n",
    "fig, axes = plt.subplots(1, 4, figsize=(14, 4))"
   ]
  },
  {
   "cell_type": "code",
   "execution_count": null,
   "id": "0815c368",
   "metadata": {},
   "outputs": [],
   "source": [
    "new_df1.columns"
   ]
  },
  {
   "cell_type": "code",
   "execution_count": null,
   "id": "1b5e586b",
   "metadata": {},
   "outputs": [],
   "source": [
    "fig, axes = plt.subplots(1, 4, figsize=(14, 4))\n",
    "axes[0].plot('Rating','Reviews', data=new_df1)\n",
    "axes[0].set_xlabel('Rating')\n",
    "axes[0].set_ylabel('Reviews')\n",
    "axes[0].set_title('Reviews Per Rating')\n",
    "\n",
    "\n",
    "axes[1].plot('Rating','Size', data=new_df1, color='g')\n",
    "axes[1].set_xlabel('Rating')\n",
    "axes[1].set_ylabel('Size')\n",
    "axes[1].set_title('Size Per Rating')\n",
    "\n",
    "axes[2].plot('Rating','Installs', data=new_df1, color='r')\n",
    "axes[2].set_xlabel('Rating')\n",
    "axes[2].set_ylabel('Size')\n",
    "axes[2].set_title('Installs Per Rating')\n",
    "plt.tight_layout(pad=2)\n",
    "\n",
    "axes[3].plot('Rating','Price', data=new_df1, color='k')\n",
    "axes[3].set_xlabel('Rating')\n",
    "axes[3].set_ylabel('Price')\n",
    "axes[3].set_title('Price Per Rating')\n",
    "plt.tight_layout(pad=2)\n",
    "\n",
    "plt.show()"
   ]
  },
  {
   "cell_type": "code",
   "execution_count": null,
   "id": "c5e5d1f3",
   "metadata": {},
   "outputs": [],
   "source": []
  },
  {
   "cell_type": "markdown",
   "id": "b2a02856",
   "metadata": {},
   "source": [
    "**From the above plottings, we can imply that most of the apps with higher rating range of `4.0 - 4.7` are having high amount of reviews, size, and installs. In terms of price, it doesn't reflect a direct relationship with rating, as we could see a fluctuation in term of pricing even at the range of high rating.**"
   ]
  },
  {
   "cell_type": "code",
   "execution_count": null,
   "id": "32b16309",
   "metadata": {},
   "outputs": [],
   "source": [
    "# application type distribution means Free or paid using matplotlib and seaborn\n",
    "type_df = df.Type.value_counts().reset_index()\n",
    "type_df"
   ]
  },
  {
   "cell_type": "code",
   "execution_count": null,
   "id": "6923b84c",
   "metadata": {},
   "outputs": [],
   "source": [
    "# using matplotlib\n",
    "plt.figure(figsize=(7,8))\n",
    "plt.pie(x=type_df.Type,labels=type_df['index'].values,autopct='%.2f%%' , shadow=True)\n",
    "plt.legend()\n",
    "plt.show()"
   ]
  },
  {
   "cell_type": "code",
   "execution_count": null,
   "id": "37e6d8fe",
   "metadata": {},
   "outputs": [],
   "source": [
    "# using seaborn\n",
    "plt.figure(figsize=(7,5))\n",
    "sns.countplot(x='Type', data=df)\n",
    "plt.title('Type Distribution')\n",
    "plt.ylabel('Number of Apps')\n",
    "plt.show()"
   ]
  },
  {
   "cell_type": "markdown",
   "id": "bad607b7",
   "metadata": {},
   "source": [
    "**From the plot we can imply that majority of the apps in the Play Store are Free apps.**"
   ]
  },
  {
   "cell_type": "code",
   "execution_count": null,
   "id": "3b01da89",
   "metadata": {},
   "outputs": [],
   "source": []
  },
  {
   "cell_type": "markdown",
   "id": "ddefc1a2",
   "metadata": {},
   "source": [
    "## Asking and Answering Questions\n",
    "#### 1. What is the top 5 apps on the basis of installs?\n",
    "#### 2. What is the top 5 reviewed apps?\n",
    "#### 3. What is the top 5 expensive apps?\n",
    "#### 4. What is the top 3 most installed apps in Game category?\n",
    "#### 5. Which 5 apps from the 'FAMILY' category are having the lowest rating?"
   ]
  },
  {
   "cell_type": "code",
   "execution_count": null,
   "id": "f09817b4",
   "metadata": {},
   "outputs": [],
   "source": []
  },
  {
   "cell_type": "code",
   "execution_count": null,
   "id": "d0b10c9e",
   "metadata": {},
   "outputs": [],
   "source": []
  },
  {
   "cell_type": "code",
   "execution_count": null,
   "id": "eaee9839",
   "metadata": {},
   "outputs": [],
   "source": []
  }
 ],
 "metadata": {
  "kernelspec": {
   "display_name": "Python 3 (ipykernel)",
   "language": "python",
   "name": "python3"
  },
  "language_info": {
   "codemirror_mode": {
    "name": "ipython",
    "version": 3
   },
   "file_extension": ".py",
   "mimetype": "text/x-python",
   "name": "python",
   "nbconvert_exporter": "python",
   "pygments_lexer": "ipython3",
   "version": "3.8.10"
  }
 },
 "nbformat": 4,
 "nbformat_minor": 5
}
