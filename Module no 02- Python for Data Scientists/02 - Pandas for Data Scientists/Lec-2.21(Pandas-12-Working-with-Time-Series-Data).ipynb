{
 "cells": [
  {
   "cell_type": "markdown",
   "id": "4a87b5ef",
   "metadata": {},
   "source": [
    "---   \n",
    "\n",
    "<h1 align=\"center\">Introduction to Data Analyst and Data Science for beginners</h1>\n",
    "<h1 align=\"center\">Lecture no 2.21(Pandas-12)</h1>\n",
    "\n",
    "---\n",
    "<h3><div align=\"right\">Ehtisham Sadiq</div></h3>    "
   ]
  },
  {
   "cell_type": "markdown",
   "id": "19f82705",
   "metadata": {},
   "source": [
    "<img align=\"right\" width=\"400\" height=\"400\"  src=\"images/pandas-apps.png\"  >\n",
    "\n",
    "## _Working with Time Series Data_\n",
    "\n",
    "**Read Documentation for details:** \n",
    "https://pandas.pydata.org/docs/user_guide/timeseries.html#overview"
   ]
  },
  {
   "cell_type": "markdown",
   "id": "9f087390",
   "metadata": {},
   "source": [
    "- **A pandas data frame in which the index is set as the `datetime` object is known as a time series data. The importance of date time feature in data science can be seen in the domain of sales marketing, finance, e-commerce and so on. You may be required to answer questions like how the stock market will behave tomorrow, how many products will be sold in the upcoming week ,when is the time to launch a new product and so on. The answers to all these questions lies in time series data.**\n",
    "- **Pandas provide four fundamental data structures for working with time series data are date times, time deltas time spans and date offsets.**"
   ]
  },
  {
   "cell_type": "code",
   "execution_count": null,
   "id": "1a27987b",
   "metadata": {},
   "outputs": [],
   "source": []
  },
  {
   "cell_type": "code",
   "execution_count": null,
   "id": "4884339c",
   "metadata": {},
   "outputs": [],
   "source": []
  },
  {
   "cell_type": "code",
   "execution_count": null,
   "id": "ec33647f",
   "metadata": {},
   "outputs": [],
   "source": [
    "# To install this library in Jupyter notebook\n",
    "#import sys\n",
    "#!{sys.executable} -m pip install pandas"
   ]
  },
  {
   "cell_type": "code",
   "execution_count": null,
   "id": "671d3985",
   "metadata": {},
   "outputs": [],
   "source": [
    "import pandas as pd\n",
    "pd.__version__ , pd.__path__"
   ]
  },
  {
   "cell_type": "code",
   "execution_count": null,
   "id": "8dcbafbd",
   "metadata": {},
   "outputs": [],
   "source": []
  },
  {
   "cell_type": "markdown",
   "id": "12db95e1",
   "metadata": {},
   "source": [
    "## Learning agenda of this notebook\n",
    "1. Recap of Python's Built-in Time and Datetime Modules\n",
    "    - Python Time module\n",
    "    - Python Datetime module\n",
    "    - Time Zones\n",
    "2. Overview of Pandas Time Series Data Structures\n",
    "3. Converting Strings to Pandas DateTime64 type\n",
    "    - Convert a Scalar String to DateTime\n",
    "    - Convert Pandas Series to DateTime\n",
    "    - Handling Issues of DateTime Formats\n",
    "    - Convert a Single Integer to Pandas DateTime\n",
    "4. Practicing with a Simple Dataset\n",
    "5. Practicing with UFO Dataset\n",
    "6. Practicing with Crypto-Currency Dataset\n",
    "7. Bonus:"
   ]
  },
  {
   "cell_type": "code",
   "execution_count": null,
   "id": "d2f1c77f",
   "metadata": {},
   "outputs": [],
   "source": []
  },
  {
   "cell_type": "markdown",
   "id": "cf573669",
   "metadata": {},
   "source": [
    "## Overview of Time Series Data\n",
    "#### What is Time Series Data?\n",
    "- Time series data, also referred to as time-stamped data, is a sequence of data recorded at specific intervals of time (can be monthly, daily, hourly, ....).\n",
    "- These data points are analyzed to forecast the future.\n",
    "- It is time dependent.\n",
    "- Time series data is effected by four components:\n",
    "    - **Trend:** Increase or decrease in the series over a period of time. It persist over a long period of time. For Example, population growth of a country over years\n",
    "    - **Seasonality:** Regular patterns of up and down fluctuations, e.g., Sale of icecream increases in every summer\n",
    "    - **Cyclicity:** Variations that are caused at irregular intervals. Forexample, 5 years of economic growth, followed by 3 years of recession, followed by 7 years of economic growth, followed. by 1 year of recession\n",
    "    - **Irregularity:** It refers to variations which occur due to unpredictable factors and also do not repeat in particular patterns. For examples, fluctuations caused by earthquakes, floods, wars, etc\n",
    "   \n",
    "#### What is time series Analysis?\n",
    "- Time series analysis is the use of statistical methods to analyze time series data and extract meaningful statistics and characteristics about the data. Time series analysis helps identify trends, cycles, and seasonal variances to aid in the forecasting of a future event.\n",
    "- Time series analysis can be useful to see how a given variable changes over time (while time itself, in time series data, is often the independent variable). Time series analysis can also be used to examine how the changes associated with the chosen data point compare to shifts in other variables over the same time period."
   ]
  },
  {
   "cell_type": "code",
   "execution_count": null,
   "id": "0a04df60",
   "metadata": {},
   "outputs": [],
   "source": []
  },
  {
   "cell_type": "markdown",
   "id": "30308522",
   "metadata": {},
   "source": [
    "## 1. Recap of Python Modules Related to Date and Time"
   ]
  },
  {
   "cell_type": "markdown",
   "id": "1a058d60",
   "metadata": {},
   "source": [
    "## a. Python Time Module\n",
    "- Python Time module is principally for working with UNIX time stamps; expressed as a floating point number taken to be seconds since the unix epoch (00:00:00 UTC on 1 January 1970)"
   ]
  },
  {
   "cell_type": "code",
   "execution_count": null,
   "id": "64a13665",
   "metadata": {},
   "outputs": [],
   "source": [
    "# Use `dir()` to get the list of methods in the Python `time` module\n",
    "import time\n",
    "print(dir(time))"
   ]
  },
  {
   "cell_type": "code",
   "execution_count": null,
   "id": "b7c7db69",
   "metadata": {},
   "outputs": [],
   "source": []
  },
  {
   "cell_type": "markdown",
   "id": "911697e9",
   "metadata": {},
   "source": [
    "**(i) The `time.time()` method returns the current time in seconds since UNIX Epoch (00:00:00 UTC on 1 January 1970)**"
   ]
  },
  {
   "cell_type": "code",
   "execution_count": null,
   "id": "d0fa8a98",
   "metadata": {},
   "outputs": [],
   "source": [
    "seconds = time.time()\n",
    "seconds"
   ]
  },
  {
   "cell_type": "markdown",
   "id": "9ee734d8",
   "metadata": {},
   "source": [
    "> You can achieve the same using the system `date` command and passing it `+%s` command line arugment"
   ]
  },
  {
   "cell_type": "code",
   "execution_count": null,
   "id": "5cc8b863",
   "metadata": {},
   "outputs": [],
   "source": [
    "!date +%s"
   ]
  },
  {
   "cell_type": "code",
   "execution_count": null,
   "id": "ef8bc3c0",
   "metadata": {},
   "outputs": [],
   "source": []
  },
  {
   "cell_type": "code",
   "execution_count": null,
   "id": "34cc80ff",
   "metadata": {},
   "outputs": [],
   "source": []
  },
  {
   "cell_type": "markdown",
   "id": "39132701",
   "metadata": {},
   "source": [
    "**(ii) The `time.ctime()` method returns a date time string corresponding to the number of seconds passed to it since UNIX Epoch.**"
   ]
  },
  {
   "cell_type": "code",
   "execution_count": null,
   "id": "70d0bb12",
   "metadata": {},
   "outputs": [],
   "source": [
    "# Showing `+5:00` hours time delta because of local time zone (PKT) differs from UTC with 5 hours\n",
    "dtg1 = time.ctime(0)\n",
    "dtg1"
   ]
  },
  {
   "cell_type": "code",
   "execution_count": null,
   "id": "3e3bb56a",
   "metadata": {},
   "outputs": [],
   "source": [
    "#If you pass the current elapsed seconds since UNIX epoch to the `ctime()` method, it returns current datetime\n",
    "seconds = time.time()\n",
    "dtg2 = time.ctime(seconds)\n",
    "dtg2"
   ]
  },
  {
   "cell_type": "code",
   "execution_count": null,
   "id": "6431482c",
   "metadata": {},
   "outputs": [],
   "source": [
    "#Get time using shell command\n",
    "!date"
   ]
  },
  {
   "cell_type": "code",
   "execution_count": null,
   "id": "54006989",
   "metadata": {},
   "outputs": [],
   "source": []
  },
  {
   "cell_type": "markdown",
   "id": "9445c4b5",
   "metadata": {},
   "source": [
    "## b. Python Datetime Module\n",
    "The `datetime` module can support many of the same operations as `time` module, but provides a more object oriented set of types, and also has some limited support for time zones as well."
   ]
  },
  {
   "cell_type": "code",
   "execution_count": null,
   "id": "121ebc36",
   "metadata": {
    "scrolled": true
   },
   "outputs": [],
   "source": [
    "# use dir() to get the list of complete functions in datetime module\n",
    "import datetime\n",
    "print(dir(datetime))"
   ]
  },
  {
   "cell_type": "code",
   "execution_count": null,
   "id": "33aa7221",
   "metadata": {},
   "outputs": [],
   "source": []
  },
  {
   "cell_type": "markdown",
   "id": "09c0b7b2",
   "metadata": {},
   "source": [
    "**(i) The `datetime.datetime(year, month, day[, hour[, minute[, second[, microsecond[,tzinfo]]]]])` method is used to create any random date, along with time**"
   ]
  },
  {
   "cell_type": "code",
   "execution_count": null,
   "id": "929a2bc2",
   "metadata": {},
   "outputs": [],
   "source": [
    "dtg = datetime.datetime(2021,12,31)\n",
    "print(dtg)\n",
    "print(type(dtg))"
   ]
  },
  {
   "cell_type": "code",
   "execution_count": null,
   "id": "dd1869b6",
   "metadata": {},
   "outputs": [],
   "source": [
    "print(datetime.datetime(2021, 12, 31, 4, 30, 54, 678))"
   ]
  },
  {
   "cell_type": "code",
   "execution_count": null,
   "id": "992d4a09",
   "metadata": {},
   "outputs": [],
   "source": []
  },
  {
   "cell_type": "markdown",
   "id": "5b197019",
   "metadata": {},
   "source": [
    "**(ii)  The `time([hour[, minute[, second[, microsecond[, tzinfo]]]]]) ` methods returns a time object. All arguments are optional**"
   ]
  },
  {
   "cell_type": "code",
   "execution_count": null,
   "id": "b4c51969",
   "metadata": {},
   "outputs": [],
   "source": [
    "t1 = datetime.time(10, 15)\n",
    "print(t1)\n",
    "print(type(t1))"
   ]
  },
  {
   "cell_type": "code",
   "execution_count": null,
   "id": "f9e7146d",
   "metadata": {},
   "outputs": [],
   "source": []
  },
  {
   "cell_type": "markdown",
   "id": "b4ddbdda",
   "metadata": {},
   "source": [
    "**(iii) You can explore some commonly used attributes related with the `<class 'datetime.time'>`.**\n",
    "- `dtg.year:` returns the year\n",
    "- `dtg.month:` returns the month\n",
    "- `dtg.day:` returns the date\n",
    "- `dtg.hour:` returns the hour\n",
    "- `dtg.minute:` returns the minutes\n",
    "- `dtg.second:` returns the seconds"
   ]
  },
  {
   "cell_type": "code",
   "execution_count": null,
   "id": "a9cac04f",
   "metadata": {},
   "outputs": [],
   "source": [
    "dtg = datetime.datetime(2021, 12, 31, 4, 25, 58)\n",
    "print(dtg)\n",
    "print(type(dtg))"
   ]
  },
  {
   "cell_type": "code",
   "execution_count": null,
   "id": "7fb3b193",
   "metadata": {},
   "outputs": [],
   "source": [
    "dtg.year"
   ]
  },
  {
   "cell_type": "code",
   "execution_count": null,
   "id": "0fe16a1d",
   "metadata": {},
   "outputs": [],
   "source": [
    "dtg.month"
   ]
  },
  {
   "cell_type": "code",
   "execution_count": null,
   "id": "4c20a73c",
   "metadata": {},
   "outputs": [],
   "source": [
    "dtg.day"
   ]
  },
  {
   "cell_type": "code",
   "execution_count": null,
   "id": "a5d9ffcb",
   "metadata": {},
   "outputs": [],
   "source": [
    "dtg.hour"
   ]
  },
  {
   "cell_type": "code",
   "execution_count": null,
   "id": "99a1c2e7",
   "metadata": {},
   "outputs": [],
   "source": [
    "dtg.minute"
   ]
  },
  {
   "cell_type": "code",
   "execution_count": null,
   "id": "50e73280",
   "metadata": {},
   "outputs": [],
   "source": [
    "dtg.second"
   ]
  },
  {
   "cell_type": "code",
   "execution_count": null,
   "id": "344873f3",
   "metadata": {},
   "outputs": [],
   "source": []
  },
  {
   "cell_type": "markdown",
   "id": "18438927",
   "metadata": {},
   "source": [
    "### c. Time Zones:\n",
    "\n",
    "<img align=\"center\" width=\"500\" height=\"400\"  src=\"images/tz.png\"  >\n",
    "\n",
    "- Since noon happens at different times in different parts of the world, therefore, the world is divided in different time zones.\n",
    "- Here in pakistan and in saudi arabia, we have a time lag of two hours and between the pakistan standard time and indian standard time we have a time lag of for 30 minutes.\n",
    "- On Mac, Linux, and Windows operating systems, the information about these time zones is kept in files.\n",
    "- Let me show you the contents of these files on my Mac system"
   ]
  },
  {
   "cell_type": "code",
   "execution_count": 5,
   "id": "caa5d76b",
   "metadata": {},
   "outputs": [
    {
     "data": {
      "text/plain": [
       "'Thu Jan  1 05:00:00 1970'"
      ]
     },
     "execution_count": 5,
     "metadata": {},
     "output_type": "execute_result"
    }
   ],
   "source": [
    "# The UNIX Epoch in system local time is five hours ahead of mid night 1st Jan 1970\n",
    "# (Coordinated Universal Time a successor to Greenwich Mean Time)\n",
    "import time\n",
    "dtg1 = time.ctime(0)\n",
    "dtg1"
   ]
  },
  {
   "cell_type": "markdown",
   "id": "c8098a53",
   "metadata": {},
   "source": [
    "> You may have noticed that above cell does not display the exact UNIX epoch, i.e., mid-night 1st January 1970 rather is 5 hours ahead. This is because my machine is configured as per the time zone of Pakistan having a `+5:00` timedelta from Cooridnated Universtal Time (UTC a successor to GMT)"
   ]
  },
  {
   "cell_type": "code",
   "execution_count": 2,
   "id": "1333e296",
   "metadata": {},
   "outputs": [
    {
     "name": "stdout",
     "output_type": "stream",
     "text": [
      "Africa\t    Cuba     GMT+0\t  Japan\t\t     NZ-CHAT\t SystemV\r\n",
      "America     EET      GMT-0\t  Kwajalein\t     Pacific\t Turkey\r\n",
      "Antarctica  Egypt    GMT0\t  leapseconds\t     Poland\t tzdata.zi\r\n",
      "Arctic\t    Eire     Greenwich\t  leap-seconds.list  Portugal\t UCT\r\n",
      "Asia\t    EST      Hongkong\t  Libya\t\t     posix\t Universal\r\n",
      "Atlantic    EST5EDT  HST\t  localtime\t     posixrules  US\r\n",
      "Australia   Etc      Iceland\t  MET\t\t     PRC\t UTC\r\n",
      "Brazil\t    Europe   Indian\t  Mexico\t     PST8PDT\t WET\r\n",
      "Canada\t    Factory  Iran\t  MST\t\t     right\t W-SU\r\n",
      "CET\t    GB\t     iso3166.tab  MST7MDT\t     ROC\t zone1970.tab\r\n",
      "Chile\t    GB-Eire  Israel\t  Navajo\t     ROK\t zone.tab\r\n",
      "CST6CDT     GMT      Jamaica\t  NZ\t\t     Singapore\t Zulu\r\n"
     ]
    }
   ],
   "source": [
    "!ls /usr/share/zoneinfo/"
   ]
  },
  {
   "cell_type": "code",
   "execution_count": 3,
   "id": "4a57581c",
   "metadata": {},
   "outputs": [
    {
     "name": "stdout",
     "output_type": "stream",
     "text": [
      "Aden\t    Chongqing\t Jerusalem     Novokuznetsk   Tashkent\r\n",
      "Almaty\t    Chungking\t Kabul\t       Novosibirsk    Tbilisi\r\n",
      "Amman\t    Colombo\t Kamchatka     Omsk\t      Tehran\r\n",
      "Anadyr\t    Dacca\t Karachi       Oral\t      Tel_Aviv\r\n",
      "Aqtau\t    Damascus\t Kashgar       Phnom_Penh     Thimbu\r\n",
      "Aqtobe\t    Dhaka\t Kathmandu     Pontianak      Thimphu\r\n",
      "Ashgabat    Dili\t Katmandu      Pyongyang      Tokyo\r\n",
      "Ashkhabad   Dubai\t Khandyga      Qatar\t      Tomsk\r\n",
      "Atyrau\t    Dushanbe\t Kolkata       Qostanay       Ujung_Pandang\r\n",
      "Baghdad     Famagusta\t Krasnoyarsk   Qyzylorda      Ulaanbaatar\r\n",
      "Bahrain     Gaza\t Kuala_Lumpur  Rangoon\t      Ulan_Bator\r\n",
      "Baku\t    Harbin\t Kuching       Riyadh\t      Urumqi\r\n",
      "Bangkok     Hebron\t Kuwait        Saigon\t      Ust-Nera\r\n",
      "Barnaul     Ho_Chi_Minh  Macao\t       Sakhalin       Vientiane\r\n",
      "Beirut\t    Hong_Kong\t Macau\t       Samarkand      Vladivostok\r\n",
      "Bishkek     Hovd\t Magadan       Seoul\t      Yakutsk\r\n",
      "Brunei\t    Irkutsk\t Makassar      Shanghai       Yangon\r\n",
      "Calcutta    Istanbul\t Manila        Singapore      Yekaterinburg\r\n",
      "Chita\t    Jakarta\t Muscat        Srednekolymsk  Yerevan\r\n",
      "Choibalsan  Jayapura\t Nicosia       Taipei\r\n"
     ]
    }
   ],
   "source": [
    "!ls /usr/share/zoneinfo/Asia"
   ]
  },
  {
   "cell_type": "code",
   "execution_count": null,
   "id": "4718752b",
   "metadata": {},
   "outputs": [],
   "source": []
  },
  {
   "cell_type": "markdown",
   "id": "9250cda6",
   "metadata": {},
   "source": [
    ">On all UNIX based systems (Mac, Linux), `TZ` is an environment variable that can be set to any of the above files to get the date of that appropriate zone. By default the system is configured to set it to the local time of the country"
   ]
  },
  {
   "cell_type": "code",
   "execution_count": 6,
   "id": "1fa0d04a",
   "metadata": {},
   "outputs": [
    {
     "name": "stdout",
     "output_type": "stream",
     "text": [
      "Sun 14 Aug 2022 10:12:13 AM PKT\r\n"
     ]
    }
   ],
   "source": [
    "! date"
   ]
  },
  {
   "cell_type": "code",
   "execution_count": 7,
   "id": "0c065ca5",
   "metadata": {},
   "outputs": [
    {
     "name": "stdout",
     "output_type": "stream",
     "text": [
      "Sun 14 Aug 2022 10:12:18 AM PKT\r\n"
     ]
    }
   ],
   "source": [
    "! TZ=Asia/Karachi    date"
   ]
  },
  {
   "cell_type": "code",
   "execution_count": 8,
   "id": "60366a50",
   "metadata": {},
   "outputs": [
    {
     "name": "stdout",
     "output_type": "stream",
     "text": [
      "Sun 14 Aug 2022 10:42:21 AM IST\r\n"
     ]
    }
   ],
   "source": [
    "! TZ=Asia/Calcutta   date"
   ]
  },
  {
   "cell_type": "code",
   "execution_count": 9,
   "id": "f1e5d015",
   "metadata": {},
   "outputs": [
    {
     "name": "stdout",
     "output_type": "stream",
     "text": [
      "Sun 14 Aug 2022 10:12:23 AM +05\r\n"
     ]
    }
   ],
   "source": [
    "! TZ=Asia/Tashkent   date"
   ]
  },
  {
   "cell_type": "markdown",
   "id": "0190d588",
   "metadata": {},
   "source": [
    ">So you can observe if we run `date` command after setting the TZ variable to Karachi and Calcutta, their local date times are displayed. Being in different time zones Pakistan Standard Time is 30 minutes before India"
   ]
  },
  {
   "cell_type": "code",
   "execution_count": null,
   "id": "989d9343",
   "metadata": {},
   "outputs": [],
   "source": []
  },
  {
   "cell_type": "markdown",
   "id": "024a390f",
   "metadata": {},
   "source": [
    "## 2. Overview of Pandas Time Series Data Structures\n",
    "- **Timestamp & DatetimeIndex:**\n",
    "    - A `Timestamp` refer to particular moment in time, e.g., 28 July, 1969 at 11:00 am\n",
    "    - It is a replacement of Python's built-in datetime object\n",
    "    - The `pd.to_datetime()` method is used to create a `Timestamp` object\n",
    "    - The `pd.date_range()` method is used to generate a `DatetimeIndex` object\n",
    "- **Period & PeriodIndex:**\n",
    "    - A `Period` refer to length of time between a start and end point, with each interval of uniform length\n",
    "    - The `pd.to_period()` method is used to create a `Period` object\n",
    "    - The `pd.period_range()` method is used to create a `PeriodIndex`\n",
    "- **Timedelta & TimedeltaIndex:**\n",
    "    - A `Timedelta` or duration refer to an exact length of time, e.g., a duration of 235.54 seconds\n",
    "    - A `Timedelta` is created when you subtract two dates, while a `TimedeltaIndex` is created when you subtract two Periods"
   ]
  },
  {
   "cell_type": "code",
   "execution_count": null,
   "id": "d4ca6ead",
   "metadata": {},
   "outputs": [],
   "source": []
  },
  {
   "cell_type": "markdown",
   "id": "46b16d5a",
   "metadata": {},
   "source": [
    "## 3. Converting Strings to Pandas Timestamp Object\n",
    "- Pandas `pd.to_datetime()` method is used to convert its only required argument `arg` to a Timestamp object.\n",
    "\n",
    "```\n",
    "pd.to_datetime(arg, format=None, errors='raise', unit=None, origin='unix')\n",
    "```\n",
    "- Where,\n",
    "    - `arg` can be a string, Series, int, datetime, list, tuple, 1-d array, DataFrame/dict-like object to convert\n",
    "    - `errors` {‘ignore’, ‘raise’, ‘coerce’}, default ‘raise’\n",
    "        - If `raise`, then invalid parsing will raise an exception.\n",
    "        - If `coerce`, then invalid parsing will be set as NaT.\n",
    "        - If `ignore`, then invalid parsing will return the input\n",
    "    - `format`: Used if the `arg` is not in the format as expected by the method\n",
    "    - `unit`: Used if the `arg` is integer and can be (D,s,ms,us,ns) passed since `origin` (default is `ns`)\n",
    "    - `origin`: is the reference point from where you want to start counting your units from. The default value of `origin` is the UNIX epoch."
   ]
  },
  {
   "cell_type": "code",
   "execution_count": null,
   "id": "07747255",
   "metadata": {},
   "outputs": [],
   "source": []
  },
  {
   "cell_type": "markdown",
   "id": "82b72df9",
   "metadata": {},
   "source": [
    "### a. Convert a Scalar String to Timestamp"
   ]
  },
  {
   "cell_type": "code",
   "execution_count": null,
   "id": "a0f45498",
   "metadata": {},
   "outputs": [],
   "source": [
    "#YYYY-MM-DD\n",
    "import pandas as pd\n",
    "str_date = '2022-03-06 08:30:15'\n",
    "print(str_date)\n",
    "print(type(str_date))"
   ]
  },
  {
   "cell_type": "code",
   "execution_count": null,
   "id": "177a51a0",
   "metadata": {},
   "outputs": [],
   "source": [
    "ts = pd.to_datetime(str_date)\n",
    "print(ts)\n",
    "print(type(ts))"
   ]
  },
  {
   "cell_type": "markdown",
   "id": "817f6812",
   "metadata": {},
   "source": [
    "**`pd.Timestamp Attributes`**\n",
    "\n",
    "`Series.dt.[ts.]second`: Returns seconds\n",
    "\n",
    "`ts.minute`: Returns year\n",
    "\n",
    "`ts.hour`: Returns hour\n",
    "\n",
    "`ts.day`: Returns day\n",
    "\n",
    "`ts.month`: Returns month as January=1, December=12\n",
    "\n",
    "`ts.year`: Returns the year of datetime object\n",
    "\n",
    "`Series.dt.day_name()`: Returns name of the day as string\n",
    "\n",
    "`Series.dt.month_name()`: Returns month as string\n",
    "\n",
    "For details Read: https://pandas.pydata.org/docs/reference/api/pandas.Series.dt.year.html"
   ]
  },
  {
   "cell_type": "code",
   "execution_count": null,
   "id": "a863d8ce",
   "metadata": {},
   "outputs": [],
   "source": [
    "ts.year"
   ]
  },
  {
   "cell_type": "code",
   "execution_count": null,
   "id": "829ca9af",
   "metadata": {},
   "outputs": [],
   "source": [
    "ts.month"
   ]
  },
  {
   "cell_type": "code",
   "execution_count": null,
   "id": "85564ddb",
   "metadata": {},
   "outputs": [],
   "source": [
    "ts.day"
   ]
  },
  {
   "cell_type": "code",
   "execution_count": null,
   "id": "eb6d073e",
   "metadata": {},
   "outputs": [],
   "source": [
    "ts.month_name()"
   ]
  },
  {
   "cell_type": "code",
   "execution_count": null,
   "id": "55482bf8",
   "metadata": {},
   "outputs": [],
   "source": [
    "ts.hour"
   ]
  },
  {
   "cell_type": "code",
   "execution_count": null,
   "id": "6490fee1",
   "metadata": {},
   "outputs": [],
   "source": [
    "ts.minute"
   ]
  },
  {
   "cell_type": "code",
   "execution_count": null,
   "id": "95852744",
   "metadata": {},
   "outputs": [],
   "source": [
    "ts.quarter"
   ]
  },
  {
   "cell_type": "markdown",
   "id": "57df2339",
   "metadata": {},
   "source": [
    ">You can pass a list of strings containing dates to `pd.to_datetime()`, which will return a `DatetimeIndex` object"
   ]
  },
  {
   "cell_type": "code",
   "execution_count": null,
   "id": "34603f8a",
   "metadata": {},
   "outputs": [],
   "source": [
    "# If there is a invalid string that cannot be converted to a valid date, you will get an error\n",
    "#pd.to_datetime(['2017-01-05', 'Jan 6, 2017', 'abc'])"
   ]
  },
  {
   "cell_type": "code",
   "execution_count": null,
   "id": "531f0b9b",
   "metadata": {},
   "outputs": [],
   "source": [
    "# Use `errors=coerce` to translate the remaining data and keep `NaT` for invalid string\n",
    "pd.to_datetime(['2017-01-05', 'Jan 6, 2017', 'abc'], errors='coerce')"
   ]
  },
  {
   "cell_type": "code",
   "execution_count": null,
   "id": "ee9498dc",
   "metadata": {},
   "outputs": [],
   "source": []
  },
  {
   "cell_type": "markdown",
   "id": "4b289460",
   "metadata": {},
   "source": [
    "### b. Convert Pandas Series of Strings to Series of Timestamps"
   ]
  },
  {
   "cell_type": "code",
   "execution_count": null,
   "id": "4efb47fb",
   "metadata": {},
   "outputs": [],
   "source": [
    "# A pandas series having same date but in different formats\n",
    "s1 = pd.Series(['2022-03-06 08:30', '2022/03/06 08:30', '6 March, 2022 08:30', 'Mar 06, 2022 08:30', '202203060830'])\n",
    "type(s1)\n",
    "s1"
   ]
  },
  {
   "cell_type": "code",
   "execution_count": null,
   "id": "a6e6b90d",
   "metadata": {},
   "outputs": [],
   "source": [
    "# to_datetime() function will convert all these different formats into a common format\n",
    "s2 = pd.to_datetime(s1)\n",
    "s2"
   ]
  },
  {
   "cell_type": "code",
   "execution_count": null,
   "id": "56db6352",
   "metadata": {},
   "outputs": [],
   "source": [
    "type(s2)"
   ]
  },
  {
   "cell_type": "code",
   "execution_count": null,
   "id": "5ec54b33",
   "metadata": {},
   "outputs": [],
   "source": [
    "type(s2[0])"
   ]
  },
  {
   "cell_type": "code",
   "execution_count": null,
   "id": "e1f2c22e",
   "metadata": {},
   "outputs": [],
   "source": [
    "s2[0].day, s2[0].month"
   ]
  },
  {
   "cell_type": "code",
   "execution_count": null,
   "id": "3d30d249",
   "metadata": {},
   "outputs": [],
   "source": []
  },
  {
   "cell_type": "markdown",
   "id": "54687d75",
   "metadata": {},
   "source": [
    "### c. Handling Issues of DateTime Formats\n",
    "From above examples, it appears that `pd.to_datetime()` works fine for all date formats. Let us try storing  6 March, 2022 as '06/03/2022' or '06-03-2022'"
   ]
  },
  {
   "cell_type": "markdown",
   "id": "f9562539",
   "metadata": {},
   "source": [
    "**(i) Problem 1:**"
   ]
  },
  {
   "cell_type": "code",
   "execution_count": null,
   "id": "55610b05",
   "metadata": {},
   "outputs": [],
   "source": [
    "ts = pd.to_datetime('06-03-2022')\n",
    "ts"
   ]
  },
  {
   "cell_type": "code",
   "execution_count": null,
   "id": "4155d90e",
   "metadata": {},
   "outputs": [],
   "source": [
    "ts.day, ts.month"
   ]
  },
  {
   "cell_type": "markdown",
   "id": "ea4f7153",
   "metadata": {},
   "source": [
    "**Oops!**, Pandas `to_datetime()` method has converted the string to datetime, but interpreted it as 3 June 2022\n",
    ">The `pd.to_datetime()` by default, will parse string with month first (MM/DD, MM DD, or MM-DD) format"
   ]
  },
  {
   "cell_type": "code",
   "execution_count": null,
   "id": "5c252a91",
   "metadata": {},
   "outputs": [],
   "source": [
    "# Intelligence\n",
    "ts = pd.to_datetime('26-03-2022')\n",
    "ts.day, ts.month"
   ]
  },
  {
   "cell_type": "code",
   "execution_count": null,
   "id": "41faab35",
   "metadata": {},
   "outputs": [],
   "source": []
  },
  {
   "cell_type": "markdown",
   "id": "2de68cd0",
   "metadata": {},
   "source": [
    "**(ii) Problem 2:**"
   ]
  },
  {
   "cell_type": "code",
   "execution_count": null,
   "id": "85a11bf7",
   "metadata": {},
   "outputs": [],
   "source": [
    "#ts = pd.to_datetime('2022-03-06 08-PM')"
   ]
  },
  {
   "cell_type": "markdown",
   "id": "2b6213ee",
   "metadata": {},
   "source": [
    "**Oops again**!, Pandas `to_datetime()` method has raised an error saying `ParserError: Unknown string format: 2022-03-06 08-PM`\n",
    ">It seems that `pd.to_datetime()` expects the time to be in 24 hours clock and not if the time is mentioned using AM (Ante-Meridiem meaning before Midday) or PM (Post-Meridiem, meaning after midday)"
   ]
  },
  {
   "cell_type": "code",
   "execution_count": null,
   "id": "9110939b",
   "metadata": {},
   "outputs": [],
   "source": []
  },
  {
   "cell_type": "markdown",
   "id": "768fc152",
   "metadata": {},
   "source": [
    "**(iii) Solution of above two Problems:**\n",
    ">Pass an appropriate `format string` to the `format` argument of the `pd.to_datetime()` method. The format string need to be prepared as per the string date format.\n",
    "Visit this link to see for Format codes: https://pandas.pydata.org/docs/reference/api/pandas.Period.strftime.html"
   ]
  },
  {
   "cell_type": "code",
   "execution_count": null,
   "id": "9edd954d",
   "metadata": {},
   "outputs": [],
   "source": [
    "# Passing appropriate format string will resolve above two problems\n",
    "ts = pd.to_datetime('06-03-2022 08-PM', format = '%d-%m-%Y %I-%p')"
   ]
  },
  {
   "cell_type": "code",
   "execution_count": null,
   "id": "f1a596e0",
   "metadata": {},
   "outputs": [],
   "source": [
    "ts"
   ]
  },
  {
   "cell_type": "code",
   "execution_count": null,
   "id": "2e121dd3",
   "metadata": {},
   "outputs": [],
   "source": [
    "ts.day, ts.month"
   ]
  },
  {
   "cell_type": "code",
   "execution_count": null,
   "id": "3a61f282",
   "metadata": {},
   "outputs": [],
   "source": []
  },
  {
   "cell_type": "markdown",
   "id": "dc8b9a70",
   "metadata": {},
   "source": [
    "### d. Convert a Single Integer to Pandas Timestamp\n",
    "- Pandas `pd.to_datetime()` method can also be used to convert the first argument passed as integer to Pandas `Timestamp` object. \n",
    "- The `unit` argument tells about the unit of the `arg`, and it can be seconds, days or years\n",
    "- The `origin` argument can be any reference point from where you want to start counting your units from. The default value of `origin` is the UNIX epoch.\n",
    "```\n",
    "pd.to_datetime(arg, format=None, unit=None, origin='unix')\n",
    "```"
   ]
  },
  {
   "cell_type": "code",
   "execution_count": null,
   "id": "2868bcdd",
   "metadata": {},
   "outputs": [],
   "source": [
    "!date +%s"
   ]
  },
  {
   "cell_type": "code",
   "execution_count": null,
   "id": "a6c7d1ae",
   "metadata": {},
   "outputs": [],
   "source": [
    "ts = pd.to_datetime(1645594235, unit='ms', origin='unix')\n",
    "ts"
   ]
  },
  {
   "cell_type": "markdown",
   "id": "c2f45869",
   "metadata": {},
   "source": [
    ">You can mention the origin as some other reference point of your choice"
   ]
  },
  {
   "cell_type": "code",
   "execution_count": null,
   "id": "ed64ab8f",
   "metadata": {},
   "outputs": [],
   "source": [
    "ts = pd.to_datetime(10, unit='D', origin='2022-01-01')\n",
    "ts"
   ]
  },
  {
   "cell_type": "code",
   "execution_count": null,
   "id": "b0a3269f",
   "metadata": {},
   "outputs": [],
   "source": []
  },
  {
   "cell_type": "markdown",
   "id": "7cef1736",
   "metadata": {},
   "source": [
    "## 4. Practicing with a Simple Dataset"
   ]
  },
  {
   "cell_type": "markdown",
   "id": "20aab3ac",
   "metadata": {},
   "source": [
    "### a.  Option 1: Read the Dataset as such and then convert the Column Datatype to Timestamp64"
   ]
  },
  {
   "cell_type": "markdown",
   "id": "ad199219",
   "metadata": {},
   "source": [
    "**Example 1:** A dataset with datetime in a format as expected by `pd.to_datetime()`"
   ]
  },
  {
   "cell_type": "code",
   "execution_count": 12,
   "id": "87f58d21",
   "metadata": {},
   "outputs": [
    {
     "name": "stdout",
     "output_type": "stream",
     "text": [
      "cat: datasets/datetime1.csv: No such file or directory\r\n"
     ]
    }
   ],
   "source": [
    "# yyyy-mm-dd hr:min\n",
    "!cat datasets/datetime1.csv"
   ]
  },
  {
   "cell_type": "code",
   "execution_count": null,
   "id": "3e62ef56",
   "metadata": {},
   "outputs": [],
   "source": []
  },
  {
   "cell_type": "code",
   "execution_count": null,
   "id": "cf30ab52",
   "metadata": {},
   "outputs": [],
   "source": [
    "import pandas as pd\n",
    "df = pd.read_csv(\"datasets/datetime1.csv\")\n",
    "df"
   ]
  },
  {
   "cell_type": "code",
   "execution_count": null,
   "id": "1705cd65",
   "metadata": {},
   "outputs": [],
   "source": [
    "df.dtypes"
   ]
  },
  {
   "cell_type": "code",
   "execution_count": null,
   "id": "ac6fe6bc",
   "metadata": {},
   "outputs": [],
   "source": [
    "df.loc[:,'dob']"
   ]
  },
  {
   "cell_type": "code",
   "execution_count": null,
   "id": "018e2eee",
   "metadata": {},
   "outputs": [],
   "source": [
    "pd.to_datetime(df.loc[:,'dob'])"
   ]
  },
  {
   "cell_type": "code",
   "execution_count": null,
   "id": "c6dadf1b",
   "metadata": {},
   "outputs": [],
   "source": []
  },
  {
   "cell_type": "code",
   "execution_count": null,
   "id": "9605e3d3",
   "metadata": {},
   "outputs": [],
   "source": [
    "df['dob'] = pd.to_datetime(df.loc[:,'dob'])"
   ]
  },
  {
   "cell_type": "code",
   "execution_count": null,
   "id": "c37da731",
   "metadata": {},
   "outputs": [],
   "source": [
    "df.dtypes"
   ]
  },
  {
   "cell_type": "code",
   "execution_count": null,
   "id": "406f2536",
   "metadata": {},
   "outputs": [],
   "source": [
    "df"
   ]
  },
  {
   "cell_type": "code",
   "execution_count": null,
   "id": "40b62137",
   "metadata": {},
   "outputs": [],
   "source": []
  },
  {
   "cell_type": "markdown",
   "id": "f1c4cea9",
   "metadata": {},
   "source": [
    "**Example 2:** A dataset with datetime in a format NOT expected by `pd.to_datetime()`"
   ]
  },
  {
   "cell_type": "code",
   "execution_count": null,
   "id": "2aba0c34",
   "metadata": {},
   "outputs": [],
   "source": [
    "# dd-mm-yyyy hr-PM\n",
    "! cat datasets/datetime2.csv"
   ]
  },
  {
   "cell_type": "code",
   "execution_count": null,
   "id": "b2548571",
   "metadata": {},
   "outputs": [],
   "source": []
  },
  {
   "cell_type": "code",
   "execution_count": null,
   "id": "0ced9b12",
   "metadata": {},
   "outputs": [],
   "source": [
    "df = pd.read_csv(\"datasets/datetime2.csv\")\n",
    "df"
   ]
  },
  {
   "cell_type": "code",
   "execution_count": null,
   "id": "fbd41e0a",
   "metadata": {},
   "outputs": [],
   "source": [
    "df.dtypes"
   ]
  },
  {
   "cell_type": "code",
   "execution_count": null,
   "id": "eed6a046",
   "metadata": {},
   "outputs": [],
   "source": []
  },
  {
   "cell_type": "code",
   "execution_count": null,
   "id": "b41321fb",
   "metadata": {},
   "outputs": [],
   "source": [
    "# Following LOC will now generate `ParserError: Unknown string format: 02-07-1980 08-PM`\n",
    "#pd.to_datetime(df.loc[:,'dob'])"
   ]
  },
  {
   "cell_type": "code",
   "execution_count": null,
   "id": "766eb80f",
   "metadata": {},
   "outputs": [],
   "source": [
    "pd.to_datetime(df.loc[:,'dob'], format = '%d-%m-%Y %I-%p')"
   ]
  },
  {
   "cell_type": "code",
   "execution_count": null,
   "id": "97b740a0",
   "metadata": {},
   "outputs": [],
   "source": [
    "df['dob'] = pd.to_datetime(df.loc[:,'dob'], format = '%d-%m-%Y %I-%p')"
   ]
  },
  {
   "cell_type": "code",
   "execution_count": null,
   "id": "585bdabc",
   "metadata": {},
   "outputs": [],
   "source": [
    "df.dtypes"
   ]
  },
  {
   "cell_type": "code",
   "execution_count": null,
   "id": "d53767e3",
   "metadata": {},
   "outputs": [],
   "source": []
  },
  {
   "cell_type": "markdown",
   "id": "d62068ea",
   "metadata": {},
   "source": [
    "### b.  Option 2: Do the Conversion while Reading the CSV File"
   ]
  },
  {
   "cell_type": "markdown",
   "id": "b115624c",
   "metadata": {},
   "source": [
    ">**One can use the `parse_dates` and `date_parser` argument to the `pd.read_csv()` method to do this conversion while reading the csv file. However, the `pd.to_datetime()` method discussed above is recommended.**"
   ]
  },
  {
   "cell_type": "code",
   "execution_count": null,
   "id": "fea9323d",
   "metadata": {},
   "outputs": [],
   "source": []
  },
  {
   "cell_type": "markdown",
   "id": "085f8cc3",
   "metadata": {},
   "source": [
    "## 5. Practicing with UFO Dataset\n",
    "\n",
    "<img align=\"center\" width=\"400\" height=\"400\"  src=\"images/ufo.png\"  >"
   ]
  },
  {
   "cell_type": "markdown",
   "id": "97b21c71",
   "metadata": {},
   "source": [
    "### a. Understanding the Dataset"
   ]
  },
  {
   "cell_type": "code",
   "execution_count": 1,
   "id": "5f2c69fc",
   "metadata": {
    "scrolled": true
   },
   "outputs": [
    {
     "ename": "FileNotFoundError",
     "evalue": "[Errno 2] No such file or directory: 'datasets/ufo.csv'",
     "output_type": "error",
     "traceback": [
      "\u001b[0;31m---------------------------------------------------------------------------\u001b[0m",
      "\u001b[0;31mFileNotFoundError\u001b[0m                         Traceback (most recent call last)",
      "Input \u001b[0;32mIn [1]\u001b[0m, in \u001b[0;36m<cell line: 2>\u001b[0;34m()\u001b[0m\n\u001b[1;32m      1\u001b[0m \u001b[38;5;28;01mimport\u001b[39;00m \u001b[38;5;21;01mpandas\u001b[39;00m \u001b[38;5;28;01mas\u001b[39;00m \u001b[38;5;21;01mpd\u001b[39;00m\n\u001b[0;32m----> 2\u001b[0m df \u001b[38;5;241m=\u001b[39m \u001b[43mpd\u001b[49m\u001b[38;5;241;43m.\u001b[39;49m\u001b[43mread_csv\u001b[49m\u001b[43m(\u001b[49m\u001b[38;5;124;43m\"\u001b[39;49m\u001b[38;5;124;43mdatasets/ufo.csv\u001b[39;49m\u001b[38;5;124;43m\"\u001b[39;49m\u001b[43m)\u001b[49m\n",
      "File \u001b[0;32m~/.local/lib/python3.8/site-packages/pandas/util/_decorators.py:311\u001b[0m, in \u001b[0;36mdeprecate_nonkeyword_arguments.<locals>.decorate.<locals>.wrapper\u001b[0;34m(*args, **kwargs)\u001b[0m\n\u001b[1;32m    305\u001b[0m \u001b[38;5;28;01mif\u001b[39;00m \u001b[38;5;28mlen\u001b[39m(args) \u001b[38;5;241m>\u001b[39m num_allow_args:\n\u001b[1;32m    306\u001b[0m     warnings\u001b[38;5;241m.\u001b[39mwarn(\n\u001b[1;32m    307\u001b[0m         msg\u001b[38;5;241m.\u001b[39mformat(arguments\u001b[38;5;241m=\u001b[39marguments),\n\u001b[1;32m    308\u001b[0m         \u001b[38;5;167;01mFutureWarning\u001b[39;00m,\n\u001b[1;32m    309\u001b[0m         stacklevel\u001b[38;5;241m=\u001b[39mstacklevel,\n\u001b[1;32m    310\u001b[0m     )\n\u001b[0;32m--> 311\u001b[0m \u001b[38;5;28;01mreturn\u001b[39;00m \u001b[43mfunc\u001b[49m\u001b[43m(\u001b[49m\u001b[38;5;241;43m*\u001b[39;49m\u001b[43margs\u001b[49m\u001b[43m,\u001b[49m\u001b[43m \u001b[49m\u001b[38;5;241;43m*\u001b[39;49m\u001b[38;5;241;43m*\u001b[39;49m\u001b[43mkwargs\u001b[49m\u001b[43m)\u001b[49m\n",
      "File \u001b[0;32m~/.local/lib/python3.8/site-packages/pandas/io/parsers/readers.py:680\u001b[0m, in \u001b[0;36mread_csv\u001b[0;34m(filepath_or_buffer, sep, delimiter, header, names, index_col, usecols, squeeze, prefix, mangle_dupe_cols, dtype, engine, converters, true_values, false_values, skipinitialspace, skiprows, skipfooter, nrows, na_values, keep_default_na, na_filter, verbose, skip_blank_lines, parse_dates, infer_datetime_format, keep_date_col, date_parser, dayfirst, cache_dates, iterator, chunksize, compression, thousands, decimal, lineterminator, quotechar, quoting, doublequote, escapechar, comment, encoding, encoding_errors, dialect, error_bad_lines, warn_bad_lines, on_bad_lines, delim_whitespace, low_memory, memory_map, float_precision, storage_options)\u001b[0m\n\u001b[1;32m    665\u001b[0m kwds_defaults \u001b[38;5;241m=\u001b[39m _refine_defaults_read(\n\u001b[1;32m    666\u001b[0m     dialect,\n\u001b[1;32m    667\u001b[0m     delimiter,\n\u001b[0;32m   (...)\u001b[0m\n\u001b[1;32m    676\u001b[0m     defaults\u001b[38;5;241m=\u001b[39m{\u001b[38;5;124m\"\u001b[39m\u001b[38;5;124mdelimiter\u001b[39m\u001b[38;5;124m\"\u001b[39m: \u001b[38;5;124m\"\u001b[39m\u001b[38;5;124m,\u001b[39m\u001b[38;5;124m\"\u001b[39m},\n\u001b[1;32m    677\u001b[0m )\n\u001b[1;32m    678\u001b[0m kwds\u001b[38;5;241m.\u001b[39mupdate(kwds_defaults)\n\u001b[0;32m--> 680\u001b[0m \u001b[38;5;28;01mreturn\u001b[39;00m \u001b[43m_read\u001b[49m\u001b[43m(\u001b[49m\u001b[43mfilepath_or_buffer\u001b[49m\u001b[43m,\u001b[49m\u001b[43m \u001b[49m\u001b[43mkwds\u001b[49m\u001b[43m)\u001b[49m\n",
      "File \u001b[0;32m~/.local/lib/python3.8/site-packages/pandas/io/parsers/readers.py:575\u001b[0m, in \u001b[0;36m_read\u001b[0;34m(filepath_or_buffer, kwds)\u001b[0m\n\u001b[1;32m    572\u001b[0m _validate_names(kwds\u001b[38;5;241m.\u001b[39mget(\u001b[38;5;124m\"\u001b[39m\u001b[38;5;124mnames\u001b[39m\u001b[38;5;124m\"\u001b[39m, \u001b[38;5;28;01mNone\u001b[39;00m))\n\u001b[1;32m    574\u001b[0m \u001b[38;5;66;03m# Create the parser.\u001b[39;00m\n\u001b[0;32m--> 575\u001b[0m parser \u001b[38;5;241m=\u001b[39m \u001b[43mTextFileReader\u001b[49m\u001b[43m(\u001b[49m\u001b[43mfilepath_or_buffer\u001b[49m\u001b[43m,\u001b[49m\u001b[43m \u001b[49m\u001b[38;5;241;43m*\u001b[39;49m\u001b[38;5;241;43m*\u001b[39;49m\u001b[43mkwds\u001b[49m\u001b[43m)\u001b[49m\n\u001b[1;32m    577\u001b[0m \u001b[38;5;28;01mif\u001b[39;00m chunksize \u001b[38;5;129;01mor\u001b[39;00m iterator:\n\u001b[1;32m    578\u001b[0m     \u001b[38;5;28;01mreturn\u001b[39;00m parser\n",
      "File \u001b[0;32m~/.local/lib/python3.8/site-packages/pandas/io/parsers/readers.py:933\u001b[0m, in \u001b[0;36mTextFileReader.__init__\u001b[0;34m(self, f, engine, **kwds)\u001b[0m\n\u001b[1;32m    930\u001b[0m     \u001b[38;5;28mself\u001b[39m\u001b[38;5;241m.\u001b[39moptions[\u001b[38;5;124m\"\u001b[39m\u001b[38;5;124mhas_index_names\u001b[39m\u001b[38;5;124m\"\u001b[39m] \u001b[38;5;241m=\u001b[39m kwds[\u001b[38;5;124m\"\u001b[39m\u001b[38;5;124mhas_index_names\u001b[39m\u001b[38;5;124m\"\u001b[39m]\n\u001b[1;32m    932\u001b[0m \u001b[38;5;28mself\u001b[39m\u001b[38;5;241m.\u001b[39mhandles: IOHandles \u001b[38;5;241m|\u001b[39m \u001b[38;5;28;01mNone\u001b[39;00m \u001b[38;5;241m=\u001b[39m \u001b[38;5;28;01mNone\u001b[39;00m\n\u001b[0;32m--> 933\u001b[0m \u001b[38;5;28mself\u001b[39m\u001b[38;5;241m.\u001b[39m_engine \u001b[38;5;241m=\u001b[39m \u001b[38;5;28;43mself\u001b[39;49m\u001b[38;5;241;43m.\u001b[39;49m\u001b[43m_make_engine\u001b[49m\u001b[43m(\u001b[49m\u001b[43mf\u001b[49m\u001b[43m,\u001b[49m\u001b[43m \u001b[49m\u001b[38;5;28;43mself\u001b[39;49m\u001b[38;5;241;43m.\u001b[39;49m\u001b[43mengine\u001b[49m\u001b[43m)\u001b[49m\n",
      "File \u001b[0;32m~/.local/lib/python3.8/site-packages/pandas/io/parsers/readers.py:1217\u001b[0m, in \u001b[0;36mTextFileReader._make_engine\u001b[0;34m(self, f, engine)\u001b[0m\n\u001b[1;32m   1213\u001b[0m     mode \u001b[38;5;241m=\u001b[39m \u001b[38;5;124m\"\u001b[39m\u001b[38;5;124mrb\u001b[39m\u001b[38;5;124m\"\u001b[39m\n\u001b[1;32m   1214\u001b[0m \u001b[38;5;66;03m# error: No overload variant of \"get_handle\" matches argument types\u001b[39;00m\n\u001b[1;32m   1215\u001b[0m \u001b[38;5;66;03m# \"Union[str, PathLike[str], ReadCsvBuffer[bytes], ReadCsvBuffer[str]]\"\u001b[39;00m\n\u001b[1;32m   1216\u001b[0m \u001b[38;5;66;03m# , \"str\", \"bool\", \"Any\", \"Any\", \"Any\", \"Any\", \"Any\"\u001b[39;00m\n\u001b[0;32m-> 1217\u001b[0m \u001b[38;5;28mself\u001b[39m\u001b[38;5;241m.\u001b[39mhandles \u001b[38;5;241m=\u001b[39m \u001b[43mget_handle\u001b[49m\u001b[43m(\u001b[49m\u001b[43m  \u001b[49m\u001b[38;5;66;43;03m# type: ignore[call-overload]\u001b[39;49;00m\n\u001b[1;32m   1218\u001b[0m \u001b[43m    \u001b[49m\u001b[43mf\u001b[49m\u001b[43m,\u001b[49m\n\u001b[1;32m   1219\u001b[0m \u001b[43m    \u001b[49m\u001b[43mmode\u001b[49m\u001b[43m,\u001b[49m\n\u001b[1;32m   1220\u001b[0m \u001b[43m    \u001b[49m\u001b[43mencoding\u001b[49m\u001b[38;5;241;43m=\u001b[39;49m\u001b[38;5;28;43mself\u001b[39;49m\u001b[38;5;241;43m.\u001b[39;49m\u001b[43moptions\u001b[49m\u001b[38;5;241;43m.\u001b[39;49m\u001b[43mget\u001b[49m\u001b[43m(\u001b[49m\u001b[38;5;124;43m\"\u001b[39;49m\u001b[38;5;124;43mencoding\u001b[39;49m\u001b[38;5;124;43m\"\u001b[39;49m\u001b[43m,\u001b[49m\u001b[43m \u001b[49m\u001b[38;5;28;43;01mNone\u001b[39;49;00m\u001b[43m)\u001b[49m\u001b[43m,\u001b[49m\n\u001b[1;32m   1221\u001b[0m \u001b[43m    \u001b[49m\u001b[43mcompression\u001b[49m\u001b[38;5;241;43m=\u001b[39;49m\u001b[38;5;28;43mself\u001b[39;49m\u001b[38;5;241;43m.\u001b[39;49m\u001b[43moptions\u001b[49m\u001b[38;5;241;43m.\u001b[39;49m\u001b[43mget\u001b[49m\u001b[43m(\u001b[49m\u001b[38;5;124;43m\"\u001b[39;49m\u001b[38;5;124;43mcompression\u001b[39;49m\u001b[38;5;124;43m\"\u001b[39;49m\u001b[43m,\u001b[49m\u001b[43m \u001b[49m\u001b[38;5;28;43;01mNone\u001b[39;49;00m\u001b[43m)\u001b[49m\u001b[43m,\u001b[49m\n\u001b[1;32m   1222\u001b[0m \u001b[43m    \u001b[49m\u001b[43mmemory_map\u001b[49m\u001b[38;5;241;43m=\u001b[39;49m\u001b[38;5;28;43mself\u001b[39;49m\u001b[38;5;241;43m.\u001b[39;49m\u001b[43moptions\u001b[49m\u001b[38;5;241;43m.\u001b[39;49m\u001b[43mget\u001b[49m\u001b[43m(\u001b[49m\u001b[38;5;124;43m\"\u001b[39;49m\u001b[38;5;124;43mmemory_map\u001b[39;49m\u001b[38;5;124;43m\"\u001b[39;49m\u001b[43m,\u001b[49m\u001b[43m \u001b[49m\u001b[38;5;28;43;01mFalse\u001b[39;49;00m\u001b[43m)\u001b[49m\u001b[43m,\u001b[49m\n\u001b[1;32m   1223\u001b[0m \u001b[43m    \u001b[49m\u001b[43mis_text\u001b[49m\u001b[38;5;241;43m=\u001b[39;49m\u001b[43mis_text\u001b[49m\u001b[43m,\u001b[49m\n\u001b[1;32m   1224\u001b[0m \u001b[43m    \u001b[49m\u001b[43merrors\u001b[49m\u001b[38;5;241;43m=\u001b[39;49m\u001b[38;5;28;43mself\u001b[39;49m\u001b[38;5;241;43m.\u001b[39;49m\u001b[43moptions\u001b[49m\u001b[38;5;241;43m.\u001b[39;49m\u001b[43mget\u001b[49m\u001b[43m(\u001b[49m\u001b[38;5;124;43m\"\u001b[39;49m\u001b[38;5;124;43mencoding_errors\u001b[39;49m\u001b[38;5;124;43m\"\u001b[39;49m\u001b[43m,\u001b[49m\u001b[43m \u001b[49m\u001b[38;5;124;43m\"\u001b[39;49m\u001b[38;5;124;43mstrict\u001b[39;49m\u001b[38;5;124;43m\"\u001b[39;49m\u001b[43m)\u001b[49m\u001b[43m,\u001b[49m\n\u001b[1;32m   1225\u001b[0m \u001b[43m    \u001b[49m\u001b[43mstorage_options\u001b[49m\u001b[38;5;241;43m=\u001b[39;49m\u001b[38;5;28;43mself\u001b[39;49m\u001b[38;5;241;43m.\u001b[39;49m\u001b[43moptions\u001b[49m\u001b[38;5;241;43m.\u001b[39;49m\u001b[43mget\u001b[49m\u001b[43m(\u001b[49m\u001b[38;5;124;43m\"\u001b[39;49m\u001b[38;5;124;43mstorage_options\u001b[39;49m\u001b[38;5;124;43m\"\u001b[39;49m\u001b[43m,\u001b[49m\u001b[43m \u001b[49m\u001b[38;5;28;43;01mNone\u001b[39;49;00m\u001b[43m)\u001b[49m\u001b[43m,\u001b[49m\n\u001b[1;32m   1226\u001b[0m \u001b[43m\u001b[49m\u001b[43m)\u001b[49m\n\u001b[1;32m   1227\u001b[0m \u001b[38;5;28;01massert\u001b[39;00m \u001b[38;5;28mself\u001b[39m\u001b[38;5;241m.\u001b[39mhandles \u001b[38;5;129;01mis\u001b[39;00m \u001b[38;5;129;01mnot\u001b[39;00m \u001b[38;5;28;01mNone\u001b[39;00m\n\u001b[1;32m   1228\u001b[0m f \u001b[38;5;241m=\u001b[39m \u001b[38;5;28mself\u001b[39m\u001b[38;5;241m.\u001b[39mhandles\u001b[38;5;241m.\u001b[39mhandle\n",
      "File \u001b[0;32m~/.local/lib/python3.8/site-packages/pandas/io/common.py:789\u001b[0m, in \u001b[0;36mget_handle\u001b[0;34m(path_or_buf, mode, encoding, compression, memory_map, is_text, errors, storage_options)\u001b[0m\n\u001b[1;32m    784\u001b[0m \u001b[38;5;28;01melif\u001b[39;00m \u001b[38;5;28misinstance\u001b[39m(handle, \u001b[38;5;28mstr\u001b[39m):\n\u001b[1;32m    785\u001b[0m     \u001b[38;5;66;03m# Check whether the filename is to be opened in binary mode.\u001b[39;00m\n\u001b[1;32m    786\u001b[0m     \u001b[38;5;66;03m# Binary mode does not support 'encoding' and 'newline'.\u001b[39;00m\n\u001b[1;32m    787\u001b[0m     \u001b[38;5;28;01mif\u001b[39;00m ioargs\u001b[38;5;241m.\u001b[39mencoding \u001b[38;5;129;01mand\u001b[39;00m \u001b[38;5;124m\"\u001b[39m\u001b[38;5;124mb\u001b[39m\u001b[38;5;124m\"\u001b[39m \u001b[38;5;129;01mnot\u001b[39;00m \u001b[38;5;129;01min\u001b[39;00m ioargs\u001b[38;5;241m.\u001b[39mmode:\n\u001b[1;32m    788\u001b[0m         \u001b[38;5;66;03m# Encoding\u001b[39;00m\n\u001b[0;32m--> 789\u001b[0m         handle \u001b[38;5;241m=\u001b[39m \u001b[38;5;28;43mopen\u001b[39;49m\u001b[43m(\u001b[49m\n\u001b[1;32m    790\u001b[0m \u001b[43m            \u001b[49m\u001b[43mhandle\u001b[49m\u001b[43m,\u001b[49m\n\u001b[1;32m    791\u001b[0m \u001b[43m            \u001b[49m\u001b[43mioargs\u001b[49m\u001b[38;5;241;43m.\u001b[39;49m\u001b[43mmode\u001b[49m\u001b[43m,\u001b[49m\n\u001b[1;32m    792\u001b[0m \u001b[43m            \u001b[49m\u001b[43mencoding\u001b[49m\u001b[38;5;241;43m=\u001b[39;49m\u001b[43mioargs\u001b[49m\u001b[38;5;241;43m.\u001b[39;49m\u001b[43mencoding\u001b[49m\u001b[43m,\u001b[49m\n\u001b[1;32m    793\u001b[0m \u001b[43m            \u001b[49m\u001b[43merrors\u001b[49m\u001b[38;5;241;43m=\u001b[39;49m\u001b[43merrors\u001b[49m\u001b[43m,\u001b[49m\n\u001b[1;32m    794\u001b[0m \u001b[43m            \u001b[49m\u001b[43mnewline\u001b[49m\u001b[38;5;241;43m=\u001b[39;49m\u001b[38;5;124;43m\"\u001b[39;49m\u001b[38;5;124;43m\"\u001b[39;49m\u001b[43m,\u001b[49m\n\u001b[1;32m    795\u001b[0m \u001b[43m        \u001b[49m\u001b[43m)\u001b[49m\n\u001b[1;32m    796\u001b[0m     \u001b[38;5;28;01melse\u001b[39;00m:\n\u001b[1;32m    797\u001b[0m         \u001b[38;5;66;03m# Binary mode\u001b[39;00m\n\u001b[1;32m    798\u001b[0m         handle \u001b[38;5;241m=\u001b[39m \u001b[38;5;28mopen\u001b[39m(handle, ioargs\u001b[38;5;241m.\u001b[39mmode)\n",
      "\u001b[0;31mFileNotFoundError\u001b[0m: [Errno 2] No such file or directory: 'datasets/ufo.csv'"
     ]
    }
   ],
   "source": [
    "import pandas as pd\n",
    "df = pd.read_csv(\"datasets/ufo.csv\")"
   ]
  },
  {
   "cell_type": "code",
   "execution_count": null,
   "id": "ecbb8eb6",
   "metadata": {},
   "outputs": [],
   "source": [
    "df"
   ]
  },
  {
   "cell_type": "code",
   "execution_count": null,
   "id": "5a3cdb51",
   "metadata": {},
   "outputs": [],
   "source": [
    "df.dtypes"
   ]
  },
  {
   "cell_type": "code",
   "execution_count": null,
   "id": "d3b02600",
   "metadata": {},
   "outputs": [],
   "source": [
    "df.info()"
   ]
  },
  {
   "cell_type": "code",
   "execution_count": null,
   "id": "f6224595",
   "metadata": {},
   "outputs": [],
   "source": [
    "# The Time column of the dataframe contains strings\n",
    "df.loc[0,'Time']"
   ]
  },
  {
   "cell_type": "code",
   "execution_count": null,
   "id": "678a7106",
   "metadata": {},
   "outputs": [],
   "source": []
  },
  {
   "cell_type": "markdown",
   "id": "ef32cb7d",
   "metadata": {},
   "source": [
    ">Let us pass this column/series to the `pd.to_datetime()` method to convert the datatype to `datetime64`"
   ]
  },
  {
   "cell_type": "code",
   "execution_count": null,
   "id": "4897d804",
   "metadata": {},
   "outputs": [],
   "source": [
    "pd.to_datetime(df.loc[:,'Time'])"
   ]
  },
  {
   "cell_type": "code",
   "execution_count": null,
   "id": "0f950d96",
   "metadata": {},
   "outputs": [],
   "source": []
  },
  {
   "cell_type": "code",
   "execution_count": null,
   "id": "1b2e0e90",
   "metadata": {},
   "outputs": [],
   "source": []
  },
  {
   "cell_type": "code",
   "execution_count": null,
   "id": "33237b4a",
   "metadata": {},
   "outputs": [],
   "source": [
    "df['Time'] = pd.to_datetime(df.loc[:,'Time'])"
   ]
  },
  {
   "cell_type": "code",
   "execution_count": null,
   "id": "6182e264",
   "metadata": {},
   "outputs": [],
   "source": [
    "df.dtypes"
   ]
  },
  {
   "cell_type": "code",
   "execution_count": null,
   "id": "da4053cd",
   "metadata": {},
   "outputs": [],
   "source": []
  },
  {
   "cell_type": "markdown",
   "id": "310f2108",
   "metadata": {},
   "source": [
    "**Suppose I want to display only those UFO sightings that has been seen after 28 October 2000**"
   ]
  },
  {
   "cell_type": "code",
   "execution_count": null,
   "id": "81fd0bdd",
   "metadata": {},
   "outputs": [],
   "source": [
    "# Use Boolean Indexing (Can compare a string with datetime object)\n",
    "df.loc[df.Time >= '2000/10/28', :]"
   ]
  },
  {
   "cell_type": "code",
   "execution_count": null,
   "id": "65f6b28a",
   "metadata": {},
   "outputs": [],
   "source": [
    "# Create a datetime object to be used for comparison\n",
    "ts = pd.to_datetime('2000/10/28')\n",
    "df.loc[df.Time >= ts, :]"
   ]
  },
  {
   "cell_type": "code",
   "execution_count": null,
   "id": "2148d072",
   "metadata": {},
   "outputs": [],
   "source": []
  },
  {
   "cell_type": "markdown",
   "id": "b112ce4e",
   "metadata": {},
   "source": [
    "**Suppose I want to display only those UFO sightings that has been seen between 1st March 1995 and 06 March 1995**"
   ]
  },
  {
   "cell_type": "code",
   "execution_count": null,
   "id": "6033cd64",
   "metadata": {},
   "outputs": [],
   "source": [
    "# Create a datetime object to be used for comparison\n",
    "ts1 = pd.to_datetime('1995/03/1')\n",
    "ts2 = pd.to_datetime('1995/03/7')\n",
    "df.loc[(df.Time >= ts1) & (df.Time <= ts2), :]"
   ]
  },
  {
   "cell_type": "code",
   "execution_count": null,
   "id": "184cb99c",
   "metadata": {},
   "outputs": [],
   "source": []
  },
  {
   "cell_type": "markdown",
   "id": "3f0aaef6",
   "metadata": {},
   "source": [
    "**Suppose I want to display the record of the maximum date under the `Time` column**"
   ]
  },
  {
   "cell_type": "code",
   "execution_count": null,
   "id": "2ce38867",
   "metadata": {},
   "outputs": [],
   "source": [
    "ts = df.Time.max()\n",
    "ts"
   ]
  },
  {
   "cell_type": "code",
   "execution_count": null,
   "id": "3d435c7e",
   "metadata": {},
   "outputs": [],
   "source": [
    "df.loc[df.Time == ts]"
   ]
  },
  {
   "cell_type": "code",
   "execution_count": null,
   "id": "0bb33fab",
   "metadata": {},
   "outputs": [],
   "source": []
  },
  {
   "cell_type": "markdown",
   "id": "48ffb7cc",
   "metadata": {},
   "source": [
    "**Suppose I want to display the oldest record as per the `Time` column**"
   ]
  },
  {
   "cell_type": "code",
   "execution_count": null,
   "id": "73cbb2fa",
   "metadata": {},
   "outputs": [],
   "source": [
    "ts = df.Time.min()\n",
    "ts"
   ]
  },
  {
   "cell_type": "code",
   "execution_count": null,
   "id": "56600dc9",
   "metadata": {},
   "outputs": [],
   "source": [
    "df.loc[df.Time == ts]"
   ]
  },
  {
   "cell_type": "code",
   "execution_count": null,
   "id": "8d38852a",
   "metadata": {},
   "outputs": [],
   "source": []
  },
  {
   "cell_type": "markdown",
   "id": "20179e67",
   "metadata": {},
   "source": [
    "**Suppose I want to check out the difference between the oldest and the newest record as per the `Time` column**"
   ]
  },
  {
   "cell_type": "code",
   "execution_count": null,
   "id": "091952b7",
   "metadata": {},
   "outputs": [],
   "source": [
    "td = df.Time.max() - df.Time.min()\n",
    "print(td)\n",
    "print(type(td))"
   ]
  },
  {
   "cell_type": "code",
   "execution_count": null,
   "id": "efe70970",
   "metadata": {},
   "outputs": [],
   "source": []
  },
  {
   "cell_type": "markdown",
   "id": "29739387",
   "metadata": {},
   "source": [
    "## 6. Practicing with Crypto-Currency Dataset\n",
    "\n",
    "<img align=\"center\" width=\"400\" height=\"400\"  src=\"images/cryptocurrency.png\"  >"
   ]
  },
  {
   "cell_type": "code",
   "execution_count": null,
   "id": "731aaae1",
   "metadata": {},
   "outputs": [],
   "source": [
    "import pandas as pd\n",
    "df = pd.read_csv(\"datasets/cryptodata.csv\")\n",
    "df"
   ]
  },
  {
   "cell_type": "code",
   "execution_count": null,
   "id": "35887ae8",
   "metadata": {},
   "outputs": [],
   "source": [
    "# The Date column of the dataframe contains strings\n",
    "df.loc[0,'Date']"
   ]
  },
  {
   "cell_type": "code",
   "execution_count": null,
   "id": "dc902395",
   "metadata": {},
   "outputs": [],
   "source": [
    "df.dtypes"
   ]
  },
  {
   "cell_type": "code",
   "execution_count": null,
   "id": "f86366ee",
   "metadata": {},
   "outputs": [],
   "source": []
  },
  {
   "cell_type": "markdown",
   "id": "6d6533d3",
   "metadata": {},
   "source": [
    "### a. Convert the Datatype of Date Column to Datetime"
   ]
  },
  {
   "cell_type": "markdown",
   "id": "0cd4d030",
   "metadata": {},
   "source": [
    ">Let us pass this column/series to the `pd.to_datetime()` method to convert the datatype to `datetime64`"
   ]
  },
  {
   "cell_type": "code",
   "execution_count": null,
   "id": "dab7b0f0",
   "metadata": {},
   "outputs": [],
   "source": [
    "# ParserError: Unknown string format: 2020-03-13 08-PM\n",
    "#pd.to_datetime(df.loc[:,'Date'])"
   ]
  },
  {
   "cell_type": "code",
   "execution_count": null,
   "id": "fcbdaefe",
   "metadata": {},
   "outputs": [],
   "source": [
    "pd.to_datetime(df.loc[:,'Date'], format = '%Y-%m-%d %I-%p')"
   ]
  },
  {
   "cell_type": "code",
   "execution_count": null,
   "id": "6ce74259",
   "metadata": {},
   "outputs": [],
   "source": [
    "df['Date'] = pd.to_datetime(df.loc[:,'Date'], format = '%Y-%m-%d %I-%p')"
   ]
  },
  {
   "cell_type": "code",
   "execution_count": null,
   "id": "8718dbfc",
   "metadata": {},
   "outputs": [],
   "source": [
    "df.dtypes"
   ]
  },
  {
   "cell_type": "code",
   "execution_count": null,
   "id": "b8dcc21f",
   "metadata": {},
   "outputs": [],
   "source": [
    "type(df['Date'][0])"
   ]
  },
  {
   "cell_type": "code",
   "execution_count": null,
   "id": "ad1482a1",
   "metadata": {},
   "outputs": [],
   "source": []
  },
  {
   "cell_type": "markdown",
   "id": "26ab381d",
   "metadata": {},
   "source": [
    "**Let us create a new column in the dataframe that shows the day of week in each row**"
   ]
  },
  {
   "cell_type": "code",
   "execution_count": null,
   "id": "a12a943f",
   "metadata": {},
   "outputs": [],
   "source": [
    "df['Date'].dt.day_name()"
   ]
  },
  {
   "cell_type": "code",
   "execution_count": null,
   "id": "fa6c6e4e",
   "metadata": {},
   "outputs": [],
   "source": [
    "df['dayofweek'] = df['Date'].dt.day_name()"
   ]
  },
  {
   "cell_type": "code",
   "execution_count": null,
   "id": "38b86025",
   "metadata": {},
   "outputs": [],
   "source": [
    "df"
   ]
  },
  {
   "cell_type": "code",
   "execution_count": null,
   "id": "af07cbbb",
   "metadata": {},
   "outputs": [],
   "source": []
  },
  {
   "cell_type": "markdown",
   "id": "e8d40883",
   "metadata": {},
   "source": [
    "**Let us find the oldest and newest record in the dataframe**"
   ]
  },
  {
   "cell_type": "code",
   "execution_count": null,
   "id": "5ccf5dd2",
   "metadata": {},
   "outputs": [],
   "source": [
    "df['Date'].min()"
   ]
  },
  {
   "cell_type": "code",
   "execution_count": null,
   "id": "6963dfc6",
   "metadata": {},
   "outputs": [],
   "source": [
    "df['Date'].max()"
   ]
  },
  {
   "cell_type": "code",
   "execution_count": null,
   "id": "c9d27847",
   "metadata": {},
   "outputs": [],
   "source": [
    "df['Date'].max() - df['Date'].min()"
   ]
  },
  {
   "cell_type": "code",
   "execution_count": null,
   "id": "5a77c0e6",
   "metadata": {},
   "outputs": [],
   "source": []
  },
  {
   "cell_type": "markdown",
   "id": "e98605ba",
   "metadata": {},
   "source": [
    "**Let us find the records of the January 2020 only**"
   ]
  },
  {
   "cell_type": "code",
   "execution_count": null,
   "id": "b88f5c82",
   "metadata": {},
   "outputs": [],
   "source": [
    "mask = (df['Date'] >= '2020-01-01') & (df['Date'] <= '2020-01-31')\n",
    "mask"
   ]
  },
  {
   "cell_type": "code",
   "execution_count": null,
   "id": "f0259322",
   "metadata": {},
   "outputs": [],
   "source": [
    "df.loc[mask]"
   ]
  },
  {
   "cell_type": "code",
   "execution_count": null,
   "id": "c20d1037",
   "metadata": {},
   "outputs": [],
   "source": []
  },
  {
   "cell_type": "markdown",
   "id": "ca47752a",
   "metadata": {},
   "source": [
    "### b. Set the Column `Date` as Row Index of Dataframe\n",
    "- This will allow you to treat the entire dataset in the dataframe as a Time Series Data\n",
    "    - Selecting/Indexing using strings\n",
    "    - Slicing using `df[date1:date2]`\n",
    "    - Use of `df.loc[date1:date2, :]`"
   ]
  },
  {
   "cell_type": "code",
   "execution_count": null,
   "id": "5aaad6b6",
   "metadata": {},
   "outputs": [],
   "source": [
    "df.set_index('Date', inplace=True)\n",
    "df"
   ]
  },
  {
   "cell_type": "markdown",
   "id": "35509834",
   "metadata": {},
   "source": [
    ">Now, since the data of the `Date` column has become the row indices of this dataframe, therefore, we can use `.loc[]` on the dates :)\n",
    "- Since index is still unique so the searching will be done in O(1) time\n",
    "- If non-unique but sorted the searching will take O(logn) time\n",
    "- If non-unique and non-sorted the searching will take O(n) time"
   ]
  },
  {
   "cell_type": "markdown",
   "id": "92658fc6",
   "metadata": {},
   "source": [
    "**(i) Selection:**"
   ]
  },
  {
   "cell_type": "code",
   "execution_count": null,
   "id": "3bb995ed",
   "metadata": {},
   "outputs": [],
   "source": [
    "# retrieve data of july 2019\n",
    "df.loc[\"2019-07-01\"]"
   ]
  },
  {
   "cell_type": "code",
   "execution_count": null,
   "id": "2c9be5ff",
   "metadata": {},
   "outputs": [],
   "source": [
    "# getting Volume of July 2019\n",
    "df.loc[\"2019-07\"].Volume"
   ]
  },
  {
   "cell_type": "code",
   "execution_count": null,
   "id": "eb1c8412",
   "metadata": {},
   "outputs": [],
   "source": [
    "# Volumn average in July 2021\n",
    "df.loc[\"2019-07\"].Volume.mean()"
   ]
  },
  {
   "cell_type": "code",
   "execution_count": null,
   "id": "b6087bfa",
   "metadata": {},
   "outputs": [],
   "source": []
  },
  {
   "cell_type": "code",
   "execution_count": null,
   "id": "6108648f",
   "metadata": {},
   "outputs": [],
   "source": []
  },
  {
   "cell_type": "markdown",
   "id": "54ce57f1",
   "metadata": {},
   "source": [
    "**(ii) Slicing:**"
   ]
  },
  {
   "cell_type": "code",
   "execution_count": null,
   "id": "804a93a9",
   "metadata": {},
   "outputs": [],
   "source": [
    "# Slice data of January and February 2020\n",
    "df.loc['2020-01':'2020-02', :]"
   ]
  },
  {
   "cell_type": "code",
   "execution_count": null,
   "id": "676294e6",
   "metadata": {},
   "outputs": [],
   "source": [
    "# Get only the Close column showing closing of January and February 2020\n",
    "df.loc['2020-01':'2020-02', 'Close']"
   ]
  },
  {
   "cell_type": "code",
   "execution_count": null,
   "id": "b4024017",
   "metadata": {},
   "outputs": [],
   "source": [
    "# Compute the mean\n",
    "df.loc['2020-01':'2020-02', 'Close'].mean()"
   ]
  },
  {
   "cell_type": "code",
   "execution_count": null,
   "id": "4382d2b8",
   "metadata": {},
   "outputs": [],
   "source": []
  },
  {
   "cell_type": "markdown",
   "id": "fb4a77e9",
   "metadata": {},
   "source": [
    "###  c. Resampling using `df.resample()` Method\n",
    "- The `df.resample()` is a convenience method for frequency conversion and resampling of time series data. \n",
    "- The dataframe on which you call the `resample()` method must have a datetime-like index"
   ]
  },
  {
   "cell_type": "code",
   "execution_count": null,
   "id": "1062d11d",
   "metadata": {},
   "outputs": [],
   "source": [
    "df"
   ]
  },
  {
   "cell_type": "markdown",
   "id": "b2dcd45f",
   "metadata": {},
   "source": [
    ">The given dataframe is showing data on hourly basis. Suppose for analysis purpose I need daily, or weekly, monthly, or yearly data as I am no longer interested in hourly stock prices. So we need to resample our data\n",
    ">- Down Sampling\n",
    ">- Up Sampling"
   ]
  },
  {
   "cell_type": "code",
   "execution_count": null,
   "id": "aeee3141",
   "metadata": {},
   "outputs": [],
   "source": [
    "# get the time series of Close column\n",
    "df.loc[:, 'Close']"
   ]
  },
  {
   "cell_type": "code",
   "execution_count": null,
   "id": "0fe5bc83",
   "metadata": {},
   "outputs": [],
   "source": [
    "# To get the maximum closing value on daily basis, we resample on Daily basis\n",
    "df.loc[:, 'Close'].resample('D').mean()"
   ]
  },
  {
   "cell_type": "code",
   "execution_count": null,
   "id": "9e9002e0",
   "metadata": {},
   "outputs": [],
   "source": [
    "# To get the maximum closing value on monthly basis, we resample on monthly basis\n",
    "df.loc[:, 'Close'].resample('M').max()"
   ]
  },
  {
   "cell_type": "code",
   "execution_count": null,
   "id": "a3c9f05e",
   "metadata": {},
   "outputs": [],
   "source": [
    "# To get the maximum closing value on yearly basis, we resample on yearly basis\n",
    "df.loc[:, 'Close'].resample('Y').max()"
   ]
  },
  {
   "cell_type": "markdown",
   "id": "fb826f3e",
   "metadata": {},
   "source": [
    ">In a similary fashion, we can apply any aggregate function on any of the columns of our time series data"
   ]
  },
  {
   "cell_type": "code",
   "execution_count": null,
   "id": "52e66d0a",
   "metadata": {},
   "outputs": [],
   "source": [
    "%matplotlib inline\n",
    "df.loc[:, 'Close'].resample('M').max().plot()"
   ]
  },
  {
   "cell_type": "code",
   "execution_count": null,
   "id": "15f47d53",
   "metadata": {},
   "outputs": [],
   "source": [
    "%matplotlib inline\n",
    "df.loc[:, 'Close'].resample('M').max().plot(kind='bar')"
   ]
  },
  {
   "cell_type": "code",
   "execution_count": null,
   "id": "d371bff9",
   "metadata": {},
   "outputs": [],
   "source": [
    "%matplotlib inline\n",
    "df.loc[:, 'Close'].plot()"
   ]
  },
  {
   "cell_type": "code",
   "execution_count": null,
   "id": "48028673",
   "metadata": {},
   "outputs": [],
   "source": []
  },
  {
   "cell_type": "markdown",
   "id": "4b5d3892",
   "metadata": {},
   "source": [
    "# Bonus:"
   ]
  },
  {
   "cell_type": "markdown",
   "id": "ae8d0827",
   "metadata": {},
   "source": [
    "## A. Creating a DatetimeIndex\n",
    "- The `pd.date_range()` method returns a range of equally spaced time points as a DatetimeIndex, which is an immutable container for datetimes.\n",
    "\n",
    "```\n",
    "pd.date_range(start=None, end=None, periods=None, freq=None)\n",
    "```\n",
    "\n",
    "- Where,\n",
    "    - `start` is the left bound (str or datetime)\n",
    "    - `end` is the right bound (str or datetime)\n",
    "    - `periods` is the number of periods to generate\n",
    "    - `freq` can be `s`, `min`, `h`, `d`, `m`, `q`, `y` for seconds, minutes, ....\n",
    "\n",
    "\n",
    "- Out of the four parameters: start, end, periods, and freq, exactly three must be specified"
   ]
  },
  {
   "cell_type": "code",
   "execution_count": null,
   "id": "58429ef0",
   "metadata": {},
   "outputs": [],
   "source": [
    "dti = pd.date_range(start='2022/1/1', periods=10, freq='h')\n",
    "dti"
   ]
  },
  {
   "cell_type": "code",
   "execution_count": null,
   "id": "487b7239",
   "metadata": {},
   "outputs": [],
   "source": []
  },
  {
   "cell_type": "code",
   "execution_count": null,
   "id": "fca10f33",
   "metadata": {},
   "outputs": [],
   "source": [
    "dti = pd.date_range(start='2022/1/1', end='2022/1/31', freq='d')\n",
    "dti"
   ]
  },
  {
   "cell_type": "code",
   "execution_count": null,
   "id": "acbe75f3",
   "metadata": {},
   "outputs": [],
   "source": []
  },
  {
   "cell_type": "code",
   "execution_count": null,
   "id": "bd54b906",
   "metadata": {},
   "outputs": [],
   "source": [
    "# here freq=B mean include the business days and exclude the weekends\n",
    "dti = pd.date_range(start='2022/1/1', end='2022/1/31', freq='B')\n",
    "dti"
   ]
  },
  {
   "cell_type": "code",
   "execution_count": null,
   "id": "db20feef",
   "metadata": {},
   "outputs": [],
   "source": []
  },
  {
   "cell_type": "code",
   "execution_count": null,
   "id": "f59ac394",
   "metadata": {},
   "outputs": [],
   "source": [
    "type(dti)"
   ]
  },
  {
   "cell_type": "code",
   "execution_count": null,
   "id": "f8d489eb",
   "metadata": {},
   "outputs": [],
   "source": [
    "s = pd.Series(pd.date_range(\"2022-01-01\", periods=10, freq=\"d\"))\n",
    "s"
   ]
  },
  {
   "cell_type": "code",
   "execution_count": null,
   "id": "6639556d",
   "metadata": {},
   "outputs": [],
   "source": []
  },
  {
   "cell_type": "code",
   "execution_count": null,
   "id": "61c272b0",
   "metadata": {},
   "outputs": [],
   "source": [
    "s.dt.day_name()"
   ]
  },
  {
   "cell_type": "code",
   "execution_count": null,
   "id": "1d424b85",
   "metadata": {},
   "outputs": [],
   "source": [
    "type(s[0])"
   ]
  },
  {
   "cell_type": "code",
   "execution_count": null,
   "id": "80fc43bd",
   "metadata": {},
   "outputs": [],
   "source": []
  },
  {
   "cell_type": "markdown",
   "id": "098fef2c",
   "metadata": {},
   "source": [
    "### b. A sample dataset w/o Datetime"
   ]
  },
  {
   "cell_type": "code",
   "execution_count": null,
   "id": "868675e9",
   "metadata": {},
   "outputs": [],
   "source": [
    "import pandas as pd\n",
    "\n",
    "# this dataframe has no datecolumn\n",
    "df = pd.read_csv(\"datasets/no_date.csv\")\n",
    "df"
   ]
  },
  {
   "cell_type": "code",
   "execution_count": null,
   "id": "09213e6d",
   "metadata": {},
   "outputs": [],
   "source": [
    "df.shape"
   ]
  },
  {
   "cell_type": "code",
   "execution_count": null,
   "id": "c79f1ae9",
   "metadata": {},
   "outputs": [],
   "source": []
  },
  {
   "cell_type": "markdown",
   "id": "49af4d9f",
   "metadata": {},
   "source": [
    "### c. Create a DateTime Object and Set it as Index to make the above dataset a TimeSeries Data"
   ]
  },
  {
   "cell_type": "code",
   "execution_count": null,
   "id": "6c3c28c0",
   "metadata": {},
   "outputs": [],
   "source": [
    "dti = pd.date_range(start='2022/1/1', end='2022/1/20', freq='d')\n",
    "dti"
   ]
  },
  {
   "cell_type": "code",
   "execution_count": null,
   "id": "3d8877ce",
   "metadata": {},
   "outputs": [],
   "source": [
    "# use the set_index function, and make the above created date ranges, index of your dataframe\n",
    "df.set_index(dti, inplace=True)\n",
    "df"
   ]
  },
  {
   "cell_type": "markdown",
   "id": "122180a7",
   "metadata": {},
   "source": [
    "Does the day column match with the dates? Can you think of a way to reset the day column as per the dates?"
   ]
  },
  {
   "cell_type": "code",
   "execution_count": null,
   "id": "f19e5dd6",
   "metadata": {},
   "outputs": [],
   "source": [
    "df['correct day'] = list(pd.Series(dti.day_name()))\n",
    "df"
   ]
  },
  {
   "cell_type": "markdown",
   "id": "3d7aaead",
   "metadata": {},
   "source": [
    ">**Students are advised to explore the Pandas `Period` and `PeriodIndex` data structures at their own**"
   ]
  },
  {
   "cell_type": "code",
   "execution_count": null,
   "id": "f9b11122",
   "metadata": {},
   "outputs": [],
   "source": []
  },
  {
   "cell_type": "code",
   "execution_count": null,
   "id": "2694814e",
   "metadata": {},
   "outputs": [],
   "source": []
  },
  {
   "cell_type": "markdown",
   "id": "39060aab",
   "metadata": {},
   "source": [
    "## B. Creating a Period and Periodindex"
   ]
  },
  {
   "cell_type": "markdown",
   "id": "9452a840",
   "metadata": {},
   "source": [
    "### a. Have an Insight about Period"
   ]
  },
  {
   "cell_type": "code",
   "execution_count": null,
   "id": "cc6be8b3",
   "metadata": {},
   "outputs": [],
   "source": [
    "import pandas as pd\n",
    "\n",
    "# let us passed as argument to the Pandas Period function and notice the output\n",
    "# A-DEC shows that 2021 is an annual period and end at December\n",
    "y = pd.Period('2021')\n",
    "y"
   ]
  },
  {
   "cell_type": "code",
   "execution_count": null,
   "id": "552fb833",
   "metadata": {},
   "outputs": [],
   "source": [
    "# you can check different attributes related to this period\n",
    "# for instance check the start time, which is 1st january\n",
    "y.start_time"
   ]
  },
  {
   "cell_type": "code",
   "execution_count": null,
   "id": "d578ce09",
   "metadata": {},
   "outputs": [],
   "source": [
    "# check the end time which is obviously 31st december\n",
    "y.end_time"
   ]
  },
  {
   "cell_type": "code",
   "execution_count": null,
   "id": "e031d495",
   "metadata": {},
   "outputs": [],
   "source": [
    "# check whether it is leap year\n",
    "y.is_leap_year"
   ]
  },
  {
   "cell_type": "code",
   "execution_count": null,
   "id": "66060548",
   "metadata": {},
   "outputs": [],
   "source": [
    "# you can also create a monthly period and check its start and end time\n",
    "m = pd.Period('2021-8')\n",
    "print(\"period: \", m)\n",
    "\n",
    "print(\"start time: \",m.start_time)\n",
    "print(\"end time: \",m.end_time)\n",
    "\n",
    "# performing arithmatic operation\n",
    "print(\"Next monthly period will be: \",m+1)\n"
   ]
  },
  {
   "cell_type": "code",
   "execution_count": null,
   "id": "83ee8c66",
   "metadata": {},
   "outputs": [],
   "source": [
    "# you can compute the daily and hourly period as well\n",
    "import pandas as pd\n",
    "d= pd.Period('2016-02-28', freq='D')\n",
    "print(d)\n",
    "\n",
    "print(d.start_time)\n",
    "\n",
    "print(d.end_time)\n",
    "print(d+1)"
   ]
  },
  {
   "cell_type": "code",
   "execution_count": null,
   "id": "1c5c454f",
   "metadata": {},
   "outputs": [],
   "source": []
  },
  {
   "cell_type": "markdown",
   "id": "20b28aa7",
   "metadata": {},
   "source": [
    "### b. Have an Insight about Period Index\n",
    "The above discuused periods can also be used as index in a DataFrame"
   ]
  },
  {
   "cell_type": "code",
   "execution_count": null,
   "id": "f340bab5",
   "metadata": {},
   "outputs": [],
   "source": [
    "# create a quarterly period b/w 2011 to 2017\n",
    "idx = pd.period_range('2011', '2017', freq='q')\n",
    "idx"
   ]
  },
  {
   "cell_type": "code",
   "execution_count": null,
   "id": "02866b61",
   "metadata": {},
   "outputs": [],
   "source": [
    "import numpy as np\n",
    "\n",
    "# set this period as index of random series\n",
    "ps = pd.Series(np.random.randint(10,100,len(idx)), idx)\n",
    "ps"
   ]
  },
  {
   "cell_type": "code",
   "execution_count": null,
   "id": "c544298b",
   "metadata": {},
   "outputs": [],
   "source": [
    "# you can partially retrieve data or retrieve data in chunks using these periods\n",
    "ps['2016']"
   ]
  },
  {
   "cell_type": "code",
   "execution_count": null,
   "id": "f98fda1f",
   "metadata": {},
   "outputs": [],
   "source": [
    "ps['2016':'2017']"
   ]
  },
  {
   "cell_type": "code",
   "execution_count": null,
   "id": "b2e55b7a",
   "metadata": {},
   "outputs": [],
   "source": []
  },
  {
   "cell_type": "markdown",
   "id": "d5c1d530",
   "metadata": {},
   "source": [
    "## Check Your Concepts:\n",
    "- What is Pandas?\n",
    "- Pandas | Basic of Time Series Manipulation \n",
    "- Using Timedelta and Period to create DateTime based indexes in Pandas \n",
    "- Convert the column type from string to datetime format in Pandas dataframe "
   ]
  },
  {
   "cell_type": "code",
   "execution_count": null,
   "id": "d88d5119",
   "metadata": {},
   "outputs": [],
   "source": []
  },
  {
   "cell_type": "markdown",
   "id": "387ed7c9",
   "metadata": {},
   "source": [
    "# Pandas - Assignment no 12\n",
    "- Here is link of [Pandas - Assignment no 12]()"
   ]
  },
  {
   "cell_type": "code",
   "execution_count": null,
   "id": "addd8620",
   "metadata": {},
   "outputs": [],
   "source": []
  }
 ],
 "metadata": {
  "kernelspec": {
   "display_name": "Python 3 (ipykernel)",
   "language": "python",
   "name": "python3"
  },
  "language_info": {
   "codemirror_mode": {
    "name": "ipython",
    "version": 3
   },
   "file_extension": ".py",
   "mimetype": "text/x-python",
   "name": "python",
   "nbconvert_exporter": "python",
   "pygments_lexer": "ipython3",
   "version": "3.8.10"
  }
 },
 "nbformat": 4,
 "nbformat_minor": 5
}
