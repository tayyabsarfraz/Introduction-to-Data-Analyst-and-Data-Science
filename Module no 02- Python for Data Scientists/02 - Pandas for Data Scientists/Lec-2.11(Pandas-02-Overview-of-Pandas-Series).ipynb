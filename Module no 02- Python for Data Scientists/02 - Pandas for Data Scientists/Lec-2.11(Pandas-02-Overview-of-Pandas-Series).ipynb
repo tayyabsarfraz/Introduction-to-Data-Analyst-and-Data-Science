{
 "cells": [
  {
   "cell_type": "markdown",
   "id": "4a87b5ef",
   "metadata": {},
   "source": [
    "---   \n",
    "\n",
    "<h1 align=\"center\">Introduction to Data Analyst and Data Science for beginners</h1>\n",
    "<h1 align=\"center\">Lecture no 2.11(Pandas-02)</h1>\n",
    "\n",
    "---\n",
    "<h3><div align=\"right\">Ehtisham Sadiq</div></h3>    "
   ]
  },
  {
   "cell_type": "markdown",
   "id": "19f82705",
   "metadata": {},
   "source": [
    "<img align=\"right\" width=\"400\" height=\"400\"  src=\"images/pandas-apps.png\"  >\n",
    "\n",
    "## _Overview of Pandas Series Data Structure.ipynb_"
   ]
  },
  {
   "cell_type": "markdown",
   "id": "806db2fe",
   "metadata": {},
   "source": [
    "#### Read about Pandas Data: https://pandas.pydata.org/docs/user_guide"
   ]
  },
  {
   "cell_type": "markdown",
   "id": "7703308e",
   "metadata": {},
   "source": [
    "### Recap:\n",
    "**In the last lecture, we discussed the pandas library and overview of the pandas dataframe and its anatomy and we have seen that every pandas dataframe is composed of a series objects.**"
   ]
  },
  {
   "cell_type": "code",
   "execution_count": null,
   "id": "94fa1d1a",
   "metadata": {},
   "outputs": [],
   "source": []
  },
  {
   "cell_type": "markdown",
   "id": "9727124d",
   "metadata": {},
   "source": [
    "## Learning agenda of this notebook\n",
    "\n",
    "1. Overview of Python Pandas library and its data structures\n",
    "2. Creating a Series\n",
    "    - From Python List\n",
    "    - From NumPy Arrays\n",
    "    - From Python Dictionary\n",
    "    - From a scalar value\n",
    "    - Creating empty series object\n",
    "3. Attributes of a Pandas Series\n",
    "4. Understanding Index in a Series and its usage\n",
    "    - Identification\n",
    "    - Selection/Filtering/Subsetting\n",
    "    - Alignment"
   ]
  },
  {
   "cell_type": "code",
   "execution_count": null,
   "id": "e251bdc6",
   "metadata": {},
   "outputs": [],
   "source": [
    "# To install this library in Jupyter notebook\n",
    "import sys\n",
    "!{sys.executable} -m pip install pandas --quiet"
   ]
  },
  {
   "cell_type": "code",
   "execution_count": 1,
   "id": "dba905d0",
   "metadata": {},
   "outputs": [
    {
     "data": {
      "text/plain": [
       "('1.4.2', ['/home/dell/.local/lib/python3.8/site-packages/pandas'])"
      ]
     },
     "execution_count": 1,
     "metadata": {},
     "output_type": "execute_result"
    }
   ],
   "source": [
    "import pandas as pd\n",
    "pd.__version__ , pd.__path__"
   ]
  },
  {
   "cell_type": "code",
   "execution_count": null,
   "id": "82b882b6",
   "metadata": {},
   "outputs": [],
   "source": []
  },
  {
   "cell_type": "markdown",
   "id": "99b11957",
   "metadata": {},
   "source": [
    "<img align=\"right\" width=\"500\" height=\"600\"  src=\"images/series-anatomy.png\"  >\n",
    "\n",
    "## 1. Creating a Series\n",
    "> **A Series is a one-dimensional array capable of holding a sequence of values of any data type (integers, floating point numbers, strings, Python objects etc) which by default have numeric data labels starting from zero. You can imagine a Pandas Series as a column in a spreadsheet or a Pandas Dataframe object.**\n",
    "- To create a Series object you can use `pd.Series()` method\n",
    "\n",
    "**```pd.Series(data, index, dtype, name)```**\n",
    "- Where,\n",
    "   - `data`: can be a Python list, Python dictionary, numPy array, or a scalar value.\n",
    "   - `index`: If you donot pass the index argument, it will default to `np.arrange(n)`. Indices must be hashable (numbers or strings) and have the same length as `data`. Non-unique index values are allowed. Index is used for three purposes:\n",
    "       - Identification.\n",
    "       - Selection.\n",
    "       - Alignment.\n",
    "   - `dtype`: Optionally, you can assign any valid numpy datatype to the series object (np.sctypes). If not specified, this will be inferred from `data`.\n",
    "   - `name`: Optionally, you can assign a name to a series, which becomes attribute of the series object. Moreover, it becomes the column name, if that series object is used to create a dataframe later."
   ]
  },
  {
   "cell_type": "code",
   "execution_count": null,
   "id": "05b1234a",
   "metadata": {},
   "outputs": [],
   "source": []
  },
  {
   "cell_type": "markdown",
   "id": "315fe124",
   "metadata": {},
   "source": [
    "### a. Creating a Series from Python List"
   ]
  },
  {
   "cell_type": "code",
   "execution_count": null,
   "id": "3fe671e5",
   "metadata": {
    "scrolled": false
   },
   "outputs": [],
   "source": [
    "import pandas as pd\n",
    "import numpy as np\n",
    "list1 = ['Ehtisham', 'Ali', 'Ayesha', '','Dua']  # note the empty string\n",
    "\n",
    "# When index is not provided, it creates an index for the data starting from zero and with a step size of one.\n",
    "s = pd.Series(data=list1)\n",
    "print(s)\n",
    "print(type(s))"
   ]
  },
  {
   "cell_type": "markdown",
   "id": "c0e6abcf",
   "metadata": {},
   "source": [
    ">Observe that output is shown in two columns - the index is on the left and the data value is on the right. If we do not explicitly specify an index for the data values while creating a series, then by default indices range from 0 through N – 1. Here N is the number of data elements."
   ]
  },
  {
   "cell_type": "code",
   "execution_count": null,
   "id": "f4bb226e",
   "metadata": {},
   "outputs": [],
   "source": []
  },
  {
   "cell_type": "code",
   "execution_count": null,
   "id": "ff7ca148",
   "metadata": {},
   "outputs": [],
   "source": []
  },
  {
   "cell_type": "markdown",
   "id": "ebb2f672",
   "metadata": {},
   "source": [
    "**You can explicitly specify the index for a Series object, which can be either int or string type, and must be of the same size as the values in the series. Otherwise, it will raise a ValueError**"
   ]
  },
  {
   "cell_type": "code",
   "execution_count": null,
   "id": "f00c9d4d",
   "metadata": {},
   "outputs": [],
   "source": [
    "list1 = ['Ehtisham', 'Ali', 'Ayesha', 'Dua']\n",
    "indices = ['MS01', 'MS02', '', 'MS02']   # non-unique index values are allowed and you can have empty string as index\n",
    "\n",
    "s = pd.Series(data=list1, index=indices)\n",
    "print(s)\n",
    "print(type(s))"
   ]
  },
  {
   "cell_type": "markdown",
   "id": "dce485cc",
   "metadata": {},
   "source": [
    ">Also note that non-unique indices are allowed"
   ]
  },
  {
   "cell_type": "code",
   "execution_count": null,
   "id": "7086feab",
   "metadata": {},
   "outputs": [],
   "source": [
    "list1 = ['Ehtisham', 'Ali', 'Ayesha', 'Dua']\n",
    "indices = [2.1, 2.2, 2.3, 2.4]   \n",
    "\n",
    "s = pd.Series(data=list1, index=indices)\n",
    "print(s)\n",
    "print(type(s))"
   ]
  },
  {
   "cell_type": "code",
   "execution_count": null,
   "id": "6ac54543",
   "metadata": {},
   "outputs": [],
   "source": []
  },
  {
   "cell_type": "markdown",
   "id": "d57856ac",
   "metadata": {},
   "source": [
    "**You can create a series with NaN values, using `np.nan`, which is IEEE 754 floating-point representation of Not a Number. NaN values can act as a placeholder for any missing numerical values in the array.**"
   ]
  },
  {
   "cell_type": "code",
   "execution_count": null,
   "id": "e420a746",
   "metadata": {},
   "outputs": [],
   "source": [
    "list1 = [1, 2.7, np.nan, 54]\n",
    "s = pd.Series(data=list1)\n",
    "print(s)\n",
    "print(type(s))"
   ]
  },
  {
   "cell_type": "markdown",
   "id": "04a86a0f",
   "metadata": {},
   "source": [
    ">Also note the `dtype` of the series object is inferred from the data as `float64`"
   ]
  },
  {
   "cell_type": "code",
   "execution_count": null,
   "id": "80ff6a9c",
   "metadata": {},
   "outputs": [],
   "source": []
  },
  {
   "cell_type": "markdown",
   "id": "77c3bf63",
   "metadata": {},
   "source": [
    "**You can use the `dtype` argument to specify a datatype to the series object.**"
   ]
  },
  {
   "cell_type": "code",
   "execution_count": null,
   "id": "ca5026c7",
   "metadata": {},
   "outputs": [],
   "source": [
    "list1 = [27, 33, 19]\n",
    "s = pd.Series(data=list1, dtype=np.uint8)\n",
    "print(s)\n",
    "print(type(s))"
   ]
  },
  {
   "cell_type": "code",
   "execution_count": null,
   "id": "9886a997",
   "metadata": {},
   "outputs": [],
   "source": []
  },
  {
   "cell_type": "markdown",
   "id": "a1c2a099",
   "metadata": {},
   "source": [
    "**Optionally, you can assign a name to a series, which becomes attribute of the series object. Moreover, it becomes the column name, if that series object is used to create a dataframe later.**"
   ]
  },
  {
   "cell_type": "code",
   "execution_count": null,
   "id": "8b6eeb30",
   "metadata": {},
   "outputs": [],
   "source": [
    "list1 = ['Ehtisham', 'Ali', 'Ayesha', 'Dua']\n",
    "indices = ['MS01', 'MS02', 'MS03', 'MS04']\n",
    "s = pd.Series(data=list1, index=indices, name='myseries1') \n",
    "print(s)\n",
    "print(type(s))"
   ]
  },
  {
   "cell_type": "code",
   "execution_count": null,
   "id": "8a304a93",
   "metadata": {},
   "outputs": [],
   "source": []
  },
  {
   "cell_type": "markdown",
   "id": "adefe54c",
   "metadata": {},
   "source": [
    "### b. Creating a Series from NumPy Array"
   ]
  },
  {
   "cell_type": "code",
   "execution_count": null,
   "id": "b8a7f088",
   "metadata": {},
   "outputs": [],
   "source": [
    "np.arange(4)"
   ]
  },
  {
   "cell_type": "code",
   "execution_count": null,
   "id": "46c41869",
   "metadata": {},
   "outputs": [],
   "source": [
    "s = pd.Series(data = np.arange(4))\n",
    "print(s)\n",
    "print(type(s))"
   ]
  },
  {
   "cell_type": "code",
   "execution_count": null,
   "id": "ac84af6f",
   "metadata": {},
   "outputs": [],
   "source": []
  },
  {
   "cell_type": "code",
   "execution_count": null,
   "id": "32fb1954",
   "metadata": {},
   "outputs": [],
   "source": [
    "arr1 = np.array([22.3,33.6, 98, 44])\n",
    "s = pd.Series(data=arr1, dtype='float64')\n",
    "print(s)\n",
    "print(type(s))"
   ]
  },
  {
   "cell_type": "code",
   "execution_count": null,
   "id": "014a7b02",
   "metadata": {},
   "outputs": [],
   "source": []
  },
  {
   "cell_type": "markdown",
   "id": "6a8917ca",
   "metadata": {},
   "source": [
    "### c. Creating a Series from Python Dictionary"
   ]
  },
  {
   "cell_type": "code",
   "execution_count": null,
   "id": "665af5d7",
   "metadata": {},
   "outputs": [],
   "source": [
    "my_dict = {\n",
    "    'name':\"Ehtisham\", \n",
    "    'gender':\"Male\", \n",
    "    'Role':\"Student\", \n",
    "    'subject':\"Operating System\"}\n",
    "s = pd.Series(data=my_dict)\n",
    "print(s)\n",
    "print(type(s))"
   ]
  },
  {
   "cell_type": "markdown",
   "id": "7d1af826",
   "metadata": {},
   "source": [
    "**When you create a series from dictionary, it will automatically take the keys as index and the value as data**"
   ]
  },
  {
   "cell_type": "code",
   "execution_count": null,
   "id": "a373d70a",
   "metadata": {},
   "outputs": [],
   "source": []
  },
  {
   "cell_type": "markdown",
   "id": "cd475971",
   "metadata": {},
   "source": [
    "### d. Creating a Series from Scalar value"
   ]
  },
  {
   "cell_type": "code",
   "execution_count": null,
   "id": "f08b327f",
   "metadata": {},
   "outputs": [],
   "source": [
    "s = pd.Series(data=25)\n",
    "print(s)\n",
    "print(type(s))"
   ]
  },
  {
   "cell_type": "code",
   "execution_count": null,
   "id": "7e39a8a8",
   "metadata": {},
   "outputs": [],
   "source": []
  },
  {
   "cell_type": "markdown",
   "id": "83ffbdd4",
   "metadata": {},
   "source": [
    "### e. Creating an Empty Series"
   ]
  },
  {
   "cell_type": "code",
   "execution_count": null,
   "id": "46319b2b",
   "metadata": {},
   "outputs": [],
   "source": [
    "# Need to pass atleast `dtype` else you get a warning\n",
    "s=pd.Series()\n",
    "print(s)\n",
    "print(type(s))"
   ]
  },
  {
   "cell_type": "code",
   "execution_count": null,
   "id": "ea08592c",
   "metadata": {},
   "outputs": [],
   "source": []
  },
  {
   "cell_type": "code",
   "execution_count": null,
   "id": "d4104205",
   "metadata": {},
   "outputs": [],
   "source": []
  },
  {
   "cell_type": "markdown",
   "id": "bec8ddc7",
   "metadata": {},
   "source": [
    "## 3. Attributes of Pandas  Series\n",
    "- We can access certain properties called attributes of a series by using that property with the series name using dot `.` notation\n",
    "- Mostly attributes of pandas series are similar to pandas dataframe."
   ]
  },
  {
   "cell_type": "code",
   "execution_count": null,
   "id": "e021e537",
   "metadata": {},
   "outputs": [],
   "source": [
    "my_dict = {0:\"Ehtisham\", 1:np.nan, 2:\"Ali\", 3:\"Ayesha\", 4:\"Dua\", 5:\"Khubaib\", 6:\"Adeen\"}\n",
    "s = pd.Series(my_dict, name=\"myseries1\")\n",
    "s"
   ]
  },
  {
   "cell_type": "code",
   "execution_count": null,
   "id": "666018f4",
   "metadata": {},
   "outputs": [],
   "source": [
    "# `name` attribute of a series object return the name of the series object\n",
    "s.name"
   ]
  },
  {
   "cell_type": "code",
   "execution_count": null,
   "id": "9db01ffb",
   "metadata": {},
   "outputs": [],
   "source": []
  },
  {
   "cell_type": "code",
   "execution_count": null,
   "id": "a24ade38",
   "metadata": {},
   "outputs": [],
   "source": [
    "# `index` attribute of a series object return the list of indices and its datatype\n",
    "s.index"
   ]
  },
  {
   "cell_type": "code",
   "execution_count": null,
   "id": "a2999a6c",
   "metadata": {},
   "outputs": [],
   "source": []
  },
  {
   "cell_type": "code",
   "execution_count": null,
   "id": "1f7d188a",
   "metadata": {},
   "outputs": [],
   "source": [
    "# `values` attribute of a series object return the list of values and its datatype\n",
    "s.values"
   ]
  },
  {
   "cell_type": "code",
   "execution_count": null,
   "id": "8d3fb450",
   "metadata": {},
   "outputs": [],
   "source": []
  },
  {
   "cell_type": "code",
   "execution_count": null,
   "id": "0c117bdd",
   "metadata": {},
   "outputs": [],
   "source": [
    "# `dtype` attribute of a series object return the type of underlying data\n",
    "s.dtype"
   ]
  },
  {
   "cell_type": "code",
   "execution_count": null,
   "id": "14f93c3b",
   "metadata": {},
   "outputs": [],
   "source": []
  },
  {
   "cell_type": "code",
   "execution_count": null,
   "id": "2e044be9",
   "metadata": {},
   "outputs": [],
   "source": [
    "# `shape` attribute of a series object return a tuple of shape of underlying data\n",
    "s.shape"
   ]
  },
  {
   "cell_type": "code",
   "execution_count": null,
   "id": "101670e3",
   "metadata": {},
   "outputs": [],
   "source": []
  },
  {
   "cell_type": "code",
   "execution_count": null,
   "id": "be57c960",
   "metadata": {},
   "outputs": [],
   "source": [
    "# `nbytes` attribute of a series object return the number of bytes of underlying data (object data type take 8 bytes)\n",
    "s.nbytes"
   ]
  },
  {
   "cell_type": "code",
   "execution_count": null,
   "id": "ee4ab797",
   "metadata": {},
   "outputs": [],
   "source": []
  },
  {
   "cell_type": "code",
   "execution_count": null,
   "id": "0236e399",
   "metadata": {},
   "outputs": [],
   "source": [
    "# `size` attribute of a series object return number of elements in the underlying data\n",
    "s.size"
   ]
  },
  {
   "cell_type": "code",
   "execution_count": null,
   "id": "b5c0a63b",
   "metadata": {},
   "outputs": [],
   "source": []
  },
  {
   "cell_type": "code",
   "execution_count": null,
   "id": "4d41072e",
   "metadata": {},
   "outputs": [],
   "source": [
    "# `ndim` attribute of a series object return number of dimensions of underlying data\n",
    "s.ndim"
   ]
  },
  {
   "cell_type": "code",
   "execution_count": null,
   "id": "287f42d9",
   "metadata": {},
   "outputs": [],
   "source": []
  },
  {
   "cell_type": "code",
   "execution_count": null,
   "id": "0072cb0f",
   "metadata": {},
   "outputs": [],
   "source": [
    "# `hasnans` attribute of a series object return true if there are NaN values in the data\n",
    "s.hasnans"
   ]
  },
  {
   "cell_type": "code",
   "execution_count": null,
   "id": "27db5cc4",
   "metadata": {},
   "outputs": [],
   "source": []
  },
  {
   "cell_type": "code",
   "execution_count": null,
   "id": "94db271e",
   "metadata": {},
   "outputs": [],
   "source": []
  },
  {
   "cell_type": "markdown",
   "id": "1471a464",
   "metadata": {},
   "source": [
    "<img align=\"right\" width=\"500\" height=\"500\"  src=\"images/series-anatomy.png\"  >\n",
    "\n",
    "## 4. Understanding Index in a Series\n",
    "- Every series object has an index associated with every item. \n",
    "- The Pandas series object supports both integer-based (default) and label/string-based indexing and provides a host of methods for performing operations involving the index.\n",
    "<br><br>\n",
    "    - When index is unique, Pandas use a hashtable to map `key to value` and searching can be done in O(1) time. \n",
    "    - When index is non-unique but sorted, Pandas use binary search, which takes logarithmic time O(logN).\n",
    "    - When index is randomly ordered, searching takes linear time, as Pandas need to check all the keys in the index O(N).<br><br>\n",
    "- Index in series object is used for three purposes:\n",
    "    - Identification\n",
    "    - Selection/Filtering/Subsetting\n",
    "    - Alignment <br><br>"
   ]
  },
  {
   "cell_type": "code",
   "execution_count": null,
   "id": "26d6e7a3",
   "metadata": {},
   "outputs": [],
   "source": []
  },
  {
   "cell_type": "markdown",
   "id": "08a63cdf",
   "metadata": {},
   "source": [
    "### a. Changing Index of a Series Object\n",
    "- In above examples, we have seen that\n",
    "    - If we create a Series object from dictionary, the keys of dictionray become the index \n",
    "    - If we create a Series object from a list or numPy array, the index defaults to integers from 0, 1, 2, ...\n",
    "    - Last but not the least, we can assign the indices of our own choice, which can be integers or strings\n",
    "- Let us see as how we can change the indices of a series object after creation"
   ]
  },
  {
   "cell_type": "code",
   "execution_count": null,
   "id": "81221a73",
   "metadata": {},
   "outputs": [],
   "source": [
    "list1 = ['Ehtisham', 'Ali', 'Ayesha', 'Dua','Adeen']\n",
    "\n",
    "s = pd.Series(data=list1)\n",
    "print(s)\n",
    "print(s.index)"
   ]
  },
  {
   "cell_type": "code",
   "execution_count": null,
   "id": "ffde2104",
   "metadata": {},
   "outputs": [],
   "source": []
  },
  {
   "cell_type": "markdown",
   "id": "6514f86e",
   "metadata": {},
   "source": [
    ">Index attribute of series object shows that index range for this series is from (0-4) with step value of 1"
   ]
  },
  {
   "cell_type": "markdown",
   "id": "2ac638df",
   "metadata": {},
   "source": [
    "**Let us modify the index of this series object to some random integers by assigning a random array of integers to `index` attribute of this series object**"
   ]
  },
  {
   "cell_type": "code",
   "execution_count": null,
   "id": "ca48f7cb",
   "metadata": {},
   "outputs": [],
   "source": [
    "arr1 = np.random.randint(low = 100, high = 200, size = 5)\n",
    "\n",
    "arr1"
   ]
  },
  {
   "cell_type": "code",
   "execution_count": null,
   "id": "7485af18",
   "metadata": {},
   "outputs": [],
   "source": [
    "s.index = arr1\n",
    "\n",
    "print(s)\n",
    "print(s.index)"
   ]
  },
  {
   "cell_type": "code",
   "execution_count": null,
   "id": "4154c8d6",
   "metadata": {},
   "outputs": [],
   "source": [
    "s.index = [1,4,2,6.3,9]\n",
    "\n",
    "print(s)\n",
    "print(s.index)"
   ]
  },
  {
   "cell_type": "code",
   "execution_count": null,
   "id": "ccd09941",
   "metadata": {},
   "outputs": [],
   "source": []
  },
  {
   "cell_type": "markdown",
   "id": "c7252611",
   "metadata": {},
   "source": [
    "**Changing index of a series to a list of strings**"
   ]
  },
  {
   "cell_type": "code",
   "execution_count": null,
   "id": "3b0106b8",
   "metadata": {},
   "outputs": [],
   "source": [
    "list1 = ['Ehtisham', 'Ali', 'Ayesha', 'Dua','Adeen']\n",
    "\n",
    "s = pd.Series(data=list1)\n",
    "print(s)\n",
    "print(s.index)"
   ]
  },
  {
   "cell_type": "code",
   "execution_count": null,
   "id": "c8738768",
   "metadata": {},
   "outputs": [],
   "source": [
    "indices = ['num1', 'num2', 'num3', 'num4', 'num5']\n",
    "\n",
    "s.index = indices\n",
    "\n",
    "print(s)\n",
    "print(s.index)"
   ]
  },
  {
   "cell_type": "code",
   "execution_count": null,
   "id": "872bac58",
   "metadata": {},
   "outputs": [],
   "source": []
  },
  {
   "cell_type": "markdown",
   "id": "6ae33d5a",
   "metadata": {},
   "source": [
    "<img align=\"right\" width=\"300\" height=\"300\"  src=\"images/series-anatomy.png\"  >\n",
    "\n",
    "### b. First use of Index (Identification)\n",
    "- The main purpose of index is to identify or search the element of series object.\n",
    "- Since every data value of a series object has an associated index (integer or string). So we can use this index/label to identify or access data value(s)\n",
    "- There are three ways to access elements of a series:\n",
    "    - Using `s[]` operator and specifying the index (integer/label)\n",
    "    - Using `s.loc[]` method and specifying the index (integer/label)\n",
    "    - Using `s.iloc[]` method and specify the position (an integer value from 0 to length-1). It also support negative indexing, the last element can be accessed by an index of -1"
   ]
  },
  {
   "cell_type": "code",
   "execution_count": null,
   "id": "66247ee3",
   "metadata": {},
   "outputs": [],
   "source": []
  },
  {
   "cell_type": "markdown",
   "id": "2f62003c",
   "metadata": {},
   "source": [
    "**Identification using Integer Indices or by Position**"
   ]
  },
  {
   "cell_type": "code",
   "execution_count": null,
   "id": "d708f31c",
   "metadata": {},
   "outputs": [],
   "source": [
    "list1 = ['Ehtisham', 'Ali', 'Ayesha', 'Dua','Adeen']\n",
    "\n",
    "indices = [5, 10, 15, 20, 25]\n",
    "s = pd.Series(data=list1, index=indices)\n",
    "s"
   ]
  },
  {
   "cell_type": "code",
   "execution_count": null,
   "id": "c9045a42",
   "metadata": {},
   "outputs": [],
   "source": [
    "# Give index to subscript operator\n",
    "s[25]\n",
    "\n",
    "# Subscript operator do not work on position\n",
    "# s[0] # will raise an error because index 0 do not exist"
   ]
  },
  {
   "cell_type": "code",
   "execution_count": null,
   "id": "5db907c0",
   "metadata": {},
   "outputs": [],
   "source": []
  },
  {
   "cell_type": "code",
   "execution_count": null,
   "id": "aa0c38b5",
   "metadata": {},
   "outputs": [],
   "source": [
    "# Give index to  loc method\n",
    "s.loc[20]\n",
    "# loc method do not work on position\n",
    "# s.loc[0] # will raise an error because index 0 do not exist"
   ]
  },
  {
   "cell_type": "code",
   "execution_count": null,
   "id": "e21b7e48",
   "metadata": {},
   "outputs": [],
   "source": [
    "# iloc method is position based, so will flag an error if you pass an actual index\n",
    "# s.iloc[20] "
   ]
  },
  {
   "cell_type": "code",
   "execution_count": null,
   "id": "855fbda2",
   "metadata": {},
   "outputs": [],
   "source": [
    "# The iloc method is passed position and not index\n",
    "s.iloc[3]\n"
   ]
  },
  {
   "cell_type": "code",
   "execution_count": null,
   "id": "eb2a1bbf",
   "metadata": {},
   "outputs": [],
   "source": []
  },
  {
   "cell_type": "markdown",
   "id": "50d136c4",
   "metadata": {},
   "source": [
    "**Fancy Indexing**"
   ]
  },
  {
   "cell_type": "code",
   "execution_count": null,
   "id": "a63e1a06",
   "metadata": {},
   "outputs": [],
   "source": [
    "# Can access multiple values by specifying a list of indices\n",
    "s[[20, 5]]"
   ]
  },
  {
   "cell_type": "code",
   "execution_count": null,
   "id": "bee25cf3",
   "metadata": {},
   "outputs": [],
   "source": [
    "# Can access multiple values by specifying a list of indices\n",
    "s.loc[[20, 5]]"
   ]
  },
  {
   "cell_type": "code",
   "execution_count": null,
   "id": "712eb404",
   "metadata": {},
   "outputs": [],
   "source": [
    "# Can access multiple values by specifying list of positions\n",
    "s.iloc[[3, 0]]"
   ]
  },
  {
   "cell_type": "markdown",
   "id": "2cdfc9bc",
   "metadata": {},
   "source": [
    "**Negative Indexing, work only for `iloc`**"
   ]
  },
  {
   "cell_type": "code",
   "execution_count": null,
   "id": "c7e0fe12",
   "metadata": {},
   "outputs": [],
   "source": [
    "s"
   ]
  },
  {
   "cell_type": "code",
   "execution_count": null,
   "id": "49ed6d72",
   "metadata": {},
   "outputs": [],
   "source": [
    "# s[-1]\n",
    "# s.loc[-1]\n",
    "s.iloc[-1]"
   ]
  },
  {
   "cell_type": "code",
   "execution_count": null,
   "id": "7b447220",
   "metadata": {},
   "outputs": [],
   "source": []
  },
  {
   "cell_type": "code",
   "execution_count": null,
   "id": "f8025bfc",
   "metadata": {},
   "outputs": [],
   "source": []
  },
  {
   "cell_type": "markdown",
   "id": "77ac3b00",
   "metadata": {},
   "source": [
    "**Identification using String Indices or by Position**"
   ]
  },
  {
   "cell_type": "code",
   "execution_count": null,
   "id": "d4794a46",
   "metadata": {},
   "outputs": [],
   "source": [
    "list1 = ['Ehtisham', 'Ali', 'Ayesha', 'Dua','Adeen']\n",
    "\n",
    "indices = ['num1', 'num2', 'num3', 'num4', 'num5']\n",
    "s = pd.Series(data=list1, index=indices)\n",
    "s"
   ]
  },
  {
   "cell_type": "code",
   "execution_count": null,
   "id": "7896749e",
   "metadata": {},
   "outputs": [],
   "source": [
    "# Give index to subscript operator (which in this case is a string or label)\n",
    "s['num1']"
   ]
  },
  {
   "cell_type": "code",
   "execution_count": null,
   "id": "7a47d221",
   "metadata": {},
   "outputs": [],
   "source": [
    "# for position as well\n",
    "s[2]"
   ]
  },
  {
   "cell_type": "code",
   "execution_count": null,
   "id": "6eb25351",
   "metadata": {},
   "outputs": [],
   "source": [
    "# Give index to  loc method (which in this case is a string or label)\n",
    "s.loc['num1']"
   ]
  },
  {
   "cell_type": "code",
   "execution_count": null,
   "id": "ff783e46",
   "metadata": {},
   "outputs": [],
   "source": [
    "# Will not work on position the way [] worked previously\n",
    "#s.loc[0]"
   ]
  },
  {
   "cell_type": "code",
   "execution_count": null,
   "id": "33fa58b7",
   "metadata": {},
   "outputs": [],
   "source": [
    "# iloc method is position based, so will flag an error if you pass it string indices\n",
    "#s.iloc['num1'] \n",
    "# however will work fine if you pass an integer specifying the position\n",
    "s.iloc[0]"
   ]
  },
  {
   "cell_type": "code",
   "execution_count": null,
   "id": "fb5955b7",
   "metadata": {},
   "outputs": [],
   "source": [
    "s.iloc[-1]"
   ]
  },
  {
   "cell_type": "code",
   "execution_count": null,
   "id": "73243d05",
   "metadata": {},
   "outputs": [],
   "source": []
  },
  {
   "cell_type": "markdown",
   "id": "bcfca675",
   "metadata": {},
   "source": [
    "**Fancy Indexing**"
   ]
  },
  {
   "cell_type": "code",
   "execution_count": null,
   "id": "f11d537e",
   "metadata": {},
   "outputs": [],
   "source": [
    "# Can access multiple values by specifying a list of indices (which in this case are strings or labels)\n",
    "s[['num3', 'num1']]"
   ]
  },
  {
   "cell_type": "code",
   "execution_count": null,
   "id": "4f6464df",
   "metadata": {},
   "outputs": [],
   "source": [
    "# Can access multiple values by specifying a list of indices (which in this case are strings or labels)\n",
    "s.loc[['num3', 'num1']]"
   ]
  },
  {
   "cell_type": "code",
   "execution_count": null,
   "id": "5219c075",
   "metadata": {},
   "outputs": [],
   "source": [
    "# iloc method is position based, so will flag an error if you pass it string indices\n",
    "#s.iloc['num3', 'num1'] \n",
    "# however will work fine if you pass an integer specifying the position\n",
    "s.iloc[[2,0]]"
   ]
  },
  {
   "cell_type": "code",
   "execution_count": null,
   "id": "5fb3b05c",
   "metadata": {},
   "outputs": [],
   "source": []
  },
  {
   "cell_type": "markdown",
   "id": "c33193ff",
   "metadata": {},
   "source": [
    "<img align=\"right\" width=\"400\" height=\"400\"  src=\"images/series-anatomy.png\"  >\n",
    "\n",
    "### c. Second use of Index (Selection)\n",
    "- A series can be sliced using `:` symbol, which returns a subset of a series object (values with corresponding indices).\n",
    "- There are three arguments of slice object `[[start]:[stop][:step]]`, and all are optional\n",
    "\n",
    "- The slice object can be used in three ways to slice a Pandas Series object::\n",
    "    - Using `s[]` operator and specifying the index (integer/label)\n",
    "    - Using `s.loc[]` method and specifying the index (integer/label)\n",
    "    - Using `.iloc` method and specify the position (an integer value from 0 to length-1). It also support negative indexing, the last element can be accessed by an index of -1\n",
    "- Keep following points in mind:\n",
    "    - The `stop` argument is NOT inclusive for `s[]` for integer indices, while it is inclusive for string indices.\n",
    "    - The `stop` argument is inclusive for `s.loc[]` for both integer and label indices.\n",
    "    - The `stop` argument is NOT inclusive for `s.iloc[]` being position based.\n",
    "  \n",
    ">**Note: Once you slice a Pandas series, you get a view of the original object, which is similar to shallow copy. So if you modify an element in original series object, the change will also be visible in the other series object.**"
   ]
  },
  {
   "cell_type": "markdown",
   "id": "1e3ea7a4",
   "metadata": {},
   "source": [
    "**Selection/Filtering/Subsetting of Series object having Integer indices**"
   ]
  },
  {
   "cell_type": "code",
   "execution_count": null,
   "id": "6ee5572d",
   "metadata": {},
   "outputs": [],
   "source": [
    "list1 = ['Ehtisham', 'Ali', 'Ayesha', 'Dua','Adeen']\n",
    "\n",
    "indices = [5, 10, 15, 20, 25]\n",
    "s = pd.Series(data=list1, index=indices)\n",
    "s"
   ]
  },
  {
   "cell_type": "code",
   "execution_count": null,
   "id": "98f62fcb",
   "metadata": {},
   "outputs": [],
   "source": [
    "s[5:15]"
   ]
  },
  {
   "cell_type": "code",
   "execution_count": null,
   "id": "1da738e1",
   "metadata": {},
   "outputs": [],
   "source": [
    "# The subscript operator considers the slice object as positional index and not as the actual indices \n",
    "# (if we have integer indices)\n",
    "# The `stop` argument is NOT inclusive for `s[]` for integer indices\n",
    "s[1:4]"
   ]
  },
  {
   "cell_type": "code",
   "execution_count": null,
   "id": "faacfdb9",
   "metadata": {},
   "outputs": [],
   "source": [
    "#The loc[] method considers the slice object as actual indices and not as positional indices\n",
    "# The stop argument is inclusive for `s.loc[]` for both integer and label indices\n",
    "s.loc[5:15]"
   ]
  },
  {
   "cell_type": "code",
   "execution_count": null,
   "id": "b9516690",
   "metadata": {},
   "outputs": [],
   "source": [
    "# The iloc[] method considers the slice object as positional index and not as the actual indices\n",
    "# The `stop` argument is NOT inclusive for `s.iloc[]` being position based\n",
    "s.iloc[1:4]"
   ]
  },
  {
   "cell_type": "code",
   "execution_count": null,
   "id": "04f57513",
   "metadata": {},
   "outputs": [],
   "source": []
  },
  {
   "cell_type": "code",
   "execution_count": null,
   "id": "6492eee8",
   "metadata": {},
   "outputs": [],
   "source": []
  },
  {
   "cell_type": "code",
   "execution_count": null,
   "id": "47eed183",
   "metadata": {},
   "outputs": [],
   "source": []
  },
  {
   "cell_type": "code",
   "execution_count": null,
   "id": "e97851e4",
   "metadata": {},
   "outputs": [],
   "source": []
  },
  {
   "cell_type": "markdown",
   "id": "633520b4",
   "metadata": {},
   "source": [
    "**Selection/Filtering/Subsetting of Series object having String Indices**"
   ]
  },
  {
   "cell_type": "code",
   "execution_count": null,
   "id": "c56129ab",
   "metadata": {},
   "outputs": [],
   "source": [
    "list1 = ['Ehtisham', 'Ali', 'Ayesha', 'Dua','Adeen']\n",
    "\n",
    "indices = ['num1', 'num2', 'num3', 'num4', 'num5']\n",
    "s = pd.Series(data=list1, index=indices)\n",
    "s"
   ]
  },
  {
   "cell_type": "code",
   "execution_count": null,
   "id": "2fc7acf6",
   "metadata": {},
   "outputs": [],
   "source": [
    "s[0:2]"
   ]
  },
  {
   "cell_type": "code",
   "execution_count": null,
   "id": "6618a2d7",
   "metadata": {},
   "outputs": [],
   "source": [
    "# The subscript operator considers the slice object as positional index and not as the actual indices\n",
    "# (if we have integer indices). However, will also consider the actual indices in case of string indices\n",
    "# The `stop` argument is inclusive for `s[]` for string indices, while it is NOT inclusive for integer indices.\n",
    "s['num2':'num4']"
   ]
  },
  {
   "cell_type": "code",
   "execution_count": null,
   "id": "2d059b44",
   "metadata": {},
   "outputs": [],
   "source": [
    "# The `stop` argument is inclusive for `s[]` for string indices, while it is NOT inclusive for integer indices.\n",
    "s[0:2]"
   ]
  },
  {
   "cell_type": "code",
   "execution_count": null,
   "id": "66660f6c",
   "metadata": {},
   "outputs": [],
   "source": []
  },
  {
   "cell_type": "code",
   "execution_count": null,
   "id": "5efe05df",
   "metadata": {},
   "outputs": [],
   "source": []
  },
  {
   "cell_type": "code",
   "execution_count": null,
   "id": "e310d26b",
   "metadata": {},
   "outputs": [],
   "source": [
    "#The loc[] method considers the slice object as actual indices and not as positional indices\n",
    "# The stop argument is inclusive for `s.loc[]` for both integer and label indices\n",
    "s.loc['num2':'num4']"
   ]
  },
  {
   "cell_type": "code",
   "execution_count": null,
   "id": "29bcd409",
   "metadata": {},
   "outputs": [],
   "source": []
  },
  {
   "cell_type": "code",
   "execution_count": null,
   "id": "92613467",
   "metadata": {},
   "outputs": [],
   "source": []
  },
  {
   "cell_type": "code",
   "execution_count": null,
   "id": "e9214d37",
   "metadata": {},
   "outputs": [],
   "source": [
    "# The iloc[] method considers the slice object as positional index and not as the actual indices\n",
    "# iloc method is position based, so will flag an error if you pass it string indices\n",
    "#s.iloc['num2': 'num4'] \n",
    "# however will work fine if you pass an integer values (specifying positions) in the slice operator\n",
    "# Moreover the stop index is not inclusive\n",
    "s.iloc[1:4]"
   ]
  },
  {
   "cell_type": "code",
   "execution_count": null,
   "id": "a46059a2",
   "metadata": {},
   "outputs": [],
   "source": []
  },
  {
   "cell_type": "markdown",
   "id": "93f3eedc",
   "metadata": {},
   "source": [
    "**Understanding Step with Series object having String Indices**"
   ]
  },
  {
   "cell_type": "code",
   "execution_count": null,
   "id": "e21a6ec1",
   "metadata": {},
   "outputs": [],
   "source": [
    "s"
   ]
  },
  {
   "cell_type": "code",
   "execution_count": null,
   "id": "3ec7cf17",
   "metadata": {},
   "outputs": [],
   "source": [
    "# The step works fine with string indices as well\n",
    "s['num2':'num5':1]"
   ]
  },
  {
   "cell_type": "code",
   "execution_count": null,
   "id": "c0e987e9",
   "metadata": {},
   "outputs": [],
   "source": [
    "s['num2':'num5':2]"
   ]
  },
  {
   "cell_type": "code",
   "execution_count": null,
   "id": "0a54d42f",
   "metadata": {},
   "outputs": [],
   "source": [
    "s['num5':'num3':-1]"
   ]
  },
  {
   "cell_type": "code",
   "execution_count": null,
   "id": "05f5be0c",
   "metadata": {},
   "outputs": [],
   "source": []
  },
  {
   "cell_type": "markdown",
   "id": "d4be2333",
   "metadata": {},
   "source": [
    "<img align=\"right\" width=\"300\" height=\"300\"  src=\"images/series-anatomy.png\"  >\n",
    "\n",
    "### d. Third use of Index (Alignment)\n",
    "- We can perform basic arithmetic operations like addition, subtraction, multiplication, division, etc., on two Series objects, to produce a new Series instance.\n",
    "- The operation is done on each corresponding pair of elements. This is done by matching the indices of the two series objects."
   ]
  },
  {
   "cell_type": "markdown",
   "id": "66b50cf4",
   "metadata": {},
   "source": [
    "**Example 1:** Adding two series object with same integer indices"
   ]
  },
  {
   "cell_type": "code",
   "execution_count": null,
   "id": "1896462a",
   "metadata": {},
   "outputs": [],
   "source": [
    "list1 = [1,3,5,7,9];\n",
    "list2 = [2,4,6,8,10];\n",
    "s1 = pd.Series(data=list1);\n",
    "s2 = pd.Series(data=list1);"
   ]
  },
  {
   "cell_type": "code",
   "execution_count": null,
   "id": "78574d22",
   "metadata": {},
   "outputs": [],
   "source": [
    "print(s1)\n",
    "print(s1.index)"
   ]
  },
  {
   "cell_type": "code",
   "execution_count": null,
   "id": "788d4ac4",
   "metadata": {},
   "outputs": [],
   "source": [
    "print(s2)\n",
    "print(s2.index)"
   ]
  },
  {
   "cell_type": "code",
   "execution_count": null,
   "id": "753cef5e",
   "metadata": {},
   "outputs": [],
   "source": [
    "s3 = s1 + s2\n",
    "print(s3)\n",
    "print(s3.index)"
   ]
  },
  {
   "cell_type": "code",
   "execution_count": null,
   "id": "c948732c",
   "metadata": {},
   "outputs": [],
   "source": []
  },
  {
   "cell_type": "markdown",
   "id": "3e2db378",
   "metadata": {},
   "source": [
    "**Example 2:** Adding two series object having different integer indices"
   ]
  },
  {
   "cell_type": "code",
   "execution_count": null,
   "id": "66e62e56",
   "metadata": {},
   "outputs": [],
   "source": [
    "list1 = [6,9,7,5]\n",
    "index1 = [0,1,2,3]\n",
    "list2 = [8,6,2,1]\n",
    "index2 = [0,2,3,5]\n",
    "s1 = pd.Series(data=list1, index=index1);\n",
    "s2 = pd.Series(data=list2, index=index2);"
   ]
  },
  {
   "cell_type": "code",
   "execution_count": null,
   "id": "88bd4169",
   "metadata": {},
   "outputs": [],
   "source": [
    "s1,s2"
   ]
  },
  {
   "cell_type": "code",
   "execution_count": null,
   "id": "5919d832",
   "metadata": {},
   "outputs": [],
   "source": [
    "print(s1)\n",
    "print(s1.index)"
   ]
  },
  {
   "cell_type": "code",
   "execution_count": null,
   "id": "ca5a5129",
   "metadata": {},
   "outputs": [],
   "source": [
    "print(s2)\n",
    "print(s2.index)"
   ]
  },
  {
   "cell_type": "code",
   "execution_count": null,
   "id": "871fc971",
   "metadata": {},
   "outputs": [],
   "source": [
    "s3 = s1 + s2\n",
    "print(s3)\n",
    "print(s3.index)"
   ]
  },
  {
   "cell_type": "markdown",
   "id": "0dc94b75",
   "metadata": {},
   "source": [
    "**Problem:** While performing mathematical operations on series having mismatched indices, all missing values are filled in with NaN by default."
   ]
  },
  {
   "cell_type": "code",
   "execution_count": null,
   "id": "defbb4cb",
   "metadata": {},
   "outputs": [],
   "source": []
  },
  {
   "cell_type": "markdown",
   "id": "5890b468",
   "metadata": {},
   "source": [
    "**Solution:** To handle this problem, instead of using the operators (`+, -, *, /`), an explicit call to `s.add()`, `s.sub()`, `s.mul()` and `s.div()` is preferred. This allows us to replace the missing values in any of the series witth a specific value, so as to have a concrete output in place of NaN"
   ]
  },
  {
   "cell_type": "code",
   "execution_count": null,
   "id": "2de7e8d0",
   "metadata": {},
   "outputs": [],
   "source": [
    "s1.add(s2, fill_value=0) # Compare it with above result"
   ]
  },
  {
   "cell_type": "code",
   "execution_count": null,
   "id": "682e1f94",
   "metadata": {},
   "outputs": [],
   "source": []
  },
  {
   "cell_type": "markdown",
   "id": "cf9c2aac",
   "metadata": {},
   "source": [
    "**Example 3:** Adding two series object having different string indices"
   ]
  },
  {
   "cell_type": "code",
   "execution_count": null,
   "id": "8e7704fc",
   "metadata": {},
   "outputs": [],
   "source": [
    "list1 = [6,9,7,5, 2]\n",
    "labels1 = ['num1', 'num2', 'num3', 'num4', 'num5']\n",
    "\n",
    "list2 = [8,6,2,3,6]\n",
    "labels2 = ['num1', 'num2', 'num3', 'num8', 'num5']\n",
    "\n",
    "s1 = pd.Series(data=list1, index=labels1)\n",
    "s2 = pd.Series(data=list2, index=labels2)\n"
   ]
  },
  {
   "cell_type": "code",
   "execution_count": null,
   "id": "c300583c",
   "metadata": {},
   "outputs": [],
   "source": [
    "print(s1)\n",
    "print(s1.index)"
   ]
  },
  {
   "cell_type": "code",
   "execution_count": null,
   "id": "c55c3331",
   "metadata": {},
   "outputs": [],
   "source": [
    "print(s2)\n",
    "print(s2.index)"
   ]
  },
  {
   "cell_type": "code",
   "execution_count": null,
   "id": "ec478667",
   "metadata": {},
   "outputs": [],
   "source": [
    "# Let us use the `add()` method\n",
    "#s1+s2\n",
    "s3 = s1.add(s2, fill_value=5)\n",
    "#s3 = s1.add(s2)\n",
    "print(s3)\n",
    "print(s3.index)"
   ]
  },
  {
   "cell_type": "code",
   "execution_count": null,
   "id": "7ed01f62",
   "metadata": {},
   "outputs": [],
   "source": []
  },
  {
   "cell_type": "code",
   "execution_count": null,
   "id": "bcd9d91f",
   "metadata": {},
   "outputs": [],
   "source": [
    "import pandas as pd\n",
    "import numpy as np"
   ]
  },
  {
   "cell_type": "code",
   "execution_count": null,
   "id": "f3dd4c98",
   "metadata": {},
   "outputs": [],
   "source": [
    "a = np.arange(1,20,2)\n",
    "a"
   ]
  },
  {
   "cell_type": "code",
   "execution_count": null,
   "id": "71fab575",
   "metadata": {},
   "outputs": [],
   "source": [
    "s = pd.Series(a)\n",
    "s"
   ]
  },
  {
   "cell_type": "code",
   "execution_count": null,
   "id": "3e46b13a",
   "metadata": {},
   "outputs": [],
   "source": [
    "s.shape"
   ]
  },
  {
   "cell_type": "code",
   "execution_count": null,
   "id": "1faba0ee",
   "metadata": {},
   "outputs": [],
   "source": [
    "# s[s>10]\n",
    "# s[s%3==0]"
   ]
  },
  {
   "cell_type": "code",
   "execution_count": null,
   "id": "d2b24df3",
   "metadata": {},
   "outputs": [],
   "source": [
    "# s[[3,5]]\n",
    "s.loc[3:6]"
   ]
  },
  {
   "cell_type": "code",
   "execution_count": null,
   "id": "e0592530",
   "metadata": {},
   "outputs": [],
   "source": [
    "s.iloc[3:6]"
   ]
  },
  {
   "cell_type": "code",
   "execution_count": null,
   "id": "3b2d71a3",
   "metadata": {},
   "outputs": [],
   "source": []
  },
  {
   "cell_type": "markdown",
   "id": "bf470aef",
   "metadata": {},
   "source": [
    "**My dear fellows, please make time to practice following topics related to Series:**\n",
    "- Boolean/Fancy Indexing and Slicing\n",
    "- Use of `reset_index()` method for completely resetting the index\n",
    "- Use of other manipulation methods like \n",
    "    - `s.pop(index)` is passed an index and it returns the data item at the index and removes it from series\n",
    "    - `s.drop(indexes)` is passed one or a list of indices and returns a series of the data items. Series remains unchanged unless the inplace = True argument is passed\n",
    "    - `s1.append(s2, ignore_index=False, verify_integrity=False)` is used to concatenate two series and return the concatenated series, original series remain unchanged\n",
    "    - `s1.update(s2)` is used to miduft the series `s1` inplace using the values from passed series\n",
    ">**We will discuss these while studying Pandas Dataframe object InshaAllah**"
   ]
  },
  {
   "cell_type": "code",
   "execution_count": null,
   "id": "37405e5c",
   "metadata": {},
   "outputs": [],
   "source": [
    "s1.reset_index()"
   ]
  },
  {
   "cell_type": "code",
   "execution_count": null,
   "id": "8953799e",
   "metadata": {},
   "outputs": [],
   "source": [
    "s"
   ]
  },
  {
   "cell_type": "code",
   "execution_count": null,
   "id": "1b1c71de",
   "metadata": {},
   "outputs": [],
   "source": [
    "s.pop(3)"
   ]
  },
  {
   "cell_type": "code",
   "execution_count": null,
   "id": "617ceeee",
   "metadata": {},
   "outputs": [],
   "source": [
    "s.drop([2,4,6], inplace=True)"
   ]
  },
  {
   "cell_type": "code",
   "execution_count": null,
   "id": "abab5d6a",
   "metadata": {},
   "outputs": [],
   "source": [
    "s"
   ]
  },
  {
   "cell_type": "code",
   "execution_count": null,
   "id": "c31398ce",
   "metadata": {},
   "outputs": [],
   "source": []
  },
  {
   "cell_type": "markdown",
   "id": "e50d5209",
   "metadata": {},
   "source": [
    "# Pandas Series vs NumPy 1-D Arrays\n",
    ">- In a series object we can define our own labeled index to access elements of an array. These can be numbers or strings. NumPy arrays are accessed  by their integer position using numbers only.\n",
    ">- In a series object the elements can be indexed in descending order also. In NumPy arrays, the indexing starts with zero for the first element and the index is fixed.\n",
    ">- While performing arithmetic operations on series having misaligned indices, NaN or missing values may be generated. In NumPy arrays, the concept of broadcasting exist and there is no concept of NaN values. While performing arithmetic on incompatible numPy arrays the operation fails.\n",
    ">- Series require more memory. NumPy arrays occupies lesser memory.\n",
    "    \n",
    "    "
   ]
  },
  {
   "cell_type": "code",
   "execution_count": null,
   "id": "a3e6fafb",
   "metadata": {},
   "outputs": [],
   "source": []
  },
  {
   "cell_type": "code",
   "execution_count": null,
   "id": "973c882b",
   "metadata": {},
   "outputs": [],
   "source": []
  },
  {
   "cell_type": "markdown",
   "id": "675e376d",
   "metadata": {},
   "source": [
    "## Check Your Concepts:\n",
    "-  What is Series in Pandas?\n",
    "- Create a Pandas Series from array \n",
    "- Creating a Pandas Series from Dictionary \n",
    "- Creating a Pandas Series from Lists \n",
    "- Create Pandas Series using NumPy functions \n",
    "- Access the elements of a Series in Pandas "
   ]
  },
  {
   "cell_type": "code",
   "execution_count": null,
   "id": "a6bcd924",
   "metadata": {},
   "outputs": [],
   "source": []
  },
  {
   "cell_type": "code",
   "execution_count": null,
   "id": "21cd0604",
   "metadata": {},
   "outputs": [],
   "source": []
  },
  {
   "cell_type": "markdown",
   "id": "620e33fe",
   "metadata": {},
   "source": [
    "## Practice Questions:\n",
    "- Write a Pandas program to convert a Panda module Series to Python list and it’s type.\n",
    "- Write a Pandas program to add, subtract, multiple and divide two Pandas Series having same indices.\n",
    "- Write a Pandas program to compare the elements of the two Pandas Series.(Hint : pd.eq / pd.equals)\n",
    "- Write a Pandas program to change the data type of given a column or a Series.\n",
    "- Write a Pandas program to convert a given Series to an array(Hint : series.values.tolist())\n",
    "- Write a Pandas program to sort a given Series.\n",
    "- Write a Pandas program to add some data to an existing Series.(Hint : series.append()) \n",
    "- Write a Pandas program to create the mean and standard deviation of the data of a given Series.\n",
    "- Write a Pandas program to get the items of a given series not present in another given series.(series.isin())"
   ]
  },
  {
   "cell_type": "code",
   "execution_count": null,
   "id": "3e99eb21",
   "metadata": {},
   "outputs": [],
   "source": [
    "# series into list\n",
    "x = list(s)\n",
    "x, type(x)"
   ]
  },
  {
   "cell_type": "code",
   "execution_count": null,
   "id": "1411e4c5",
   "metadata": {},
   "outputs": [],
   "source": [
    "s1 = pd.Series(np.arange(1,11))\n",
    "s2 = pd.Series(np.arange(1,20,2))\n",
    "print(s1)\n",
    "print(s2)"
   ]
  },
  {
   "cell_type": "code",
   "execution_count": null,
   "id": "21e0b6d8",
   "metadata": {},
   "outputs": [],
   "source": [
    "s1+s1 # s1.add(s2)"
   ]
  },
  {
   "cell_type": "code",
   "execution_count": null,
   "id": "2cf24f86",
   "metadata": {},
   "outputs": [],
   "source": [
    "s2-s1"
   ]
  },
  {
   "cell_type": "code",
   "execution_count": null,
   "id": "d017a3cb",
   "metadata": {},
   "outputs": [],
   "source": [
    "s2*s1"
   ]
  },
  {
   "cell_type": "code",
   "execution_count": null,
   "id": "f8e78172",
   "metadata": {},
   "outputs": [],
   "source": [
    "s2/s1"
   ]
  },
  {
   "cell_type": "code",
   "execution_count": null,
   "id": "1818f28b",
   "metadata": {},
   "outputs": [],
   "source": [
    "# compare elements of two series\n",
    "s1.eq(s2)"
   ]
  },
  {
   "cell_type": "code",
   "execution_count": null,
   "id": "1ec7fb05",
   "metadata": {},
   "outputs": [],
   "source": [
    "# change datatype of any series\n",
    "s1.astype(float)"
   ]
  },
  {
   "cell_type": "code",
   "execution_count": null,
   "id": "f3aba60c",
   "metadata": {},
   "outputs": [],
   "source": [
    "# series into numpy array\n",
    "s1.values.tolist()"
   ]
  },
  {
   "cell_type": "code",
   "execution_count": null,
   "id": "7adf3d73",
   "metadata": {},
   "outputs": [],
   "source": [
    "np.array(s1.values.tolist())"
   ]
  },
  {
   "cell_type": "code",
   "execution_count": null,
   "id": "788ad925",
   "metadata": {},
   "outputs": [],
   "source": [
    "# s1.sort_index(ascending=False)\n",
    "s1.sort_values(ascending=False)"
   ]
  },
  {
   "cell_type": "code",
   "execution_count": null,
   "id": "72d7e5b4",
   "metadata": {},
   "outputs": [],
   "source": [
    "s2.append(pd.Series(21),ignore_index=True)"
   ]
  },
  {
   "cell_type": "code",
   "execution_count": null,
   "id": "e4f8736f",
   "metadata": {},
   "outputs": [],
   "source": [
    "print(\"Mean of series : \",s1.mean())\n",
    "print(\"Std of Series : \", s1.std())"
   ]
  },
  {
   "cell_type": "code",
   "execution_count": null,
   "id": "563a97a4",
   "metadata": {},
   "outputs": [],
   "source": [
    "s1,s2"
   ]
  },
  {
   "cell_type": "code",
   "execution_count": null,
   "id": "e51966c1",
   "metadata": {},
   "outputs": [],
   "source": [
    "# get elements of one series that are not in other series\n",
    "s1[s1.isin(s2)]"
   ]
  },
  {
   "cell_type": "code",
   "execution_count": null,
   "id": "d0900fbd",
   "metadata": {},
   "outputs": [],
   "source": [
    "s1[~s1.isin(s2)]"
   ]
  },
  {
   "cell_type": "code",
   "execution_count": null,
   "id": "1264ba0a",
   "metadata": {},
   "outputs": [],
   "source": []
  },
  {
   "cell_type": "code",
   "execution_count": null,
   "id": "d29a606a",
   "metadata": {},
   "outputs": [],
   "source": [
    "s1[~s1.isin(s2)]"
   ]
  },
  {
   "cell_type": "markdown",
   "id": "dcd086ca",
   "metadata": {},
   "source": [
    "### Write a Pandas program to convert Series of lists to one Series.(Hint : series.apply())\n",
    "```\n",
    "Sample Output:\n",
    "\n",
    "Original Series of list\n",
    "0    [Red, Green, White]\n",
    "1           [Red, Black]\n",
    "2               [Yellow]\n",
    "dtype: object\n",
    "One Series\n",
    "0       Red\n",
    "1     Green\n",
    "2     White\n",
    "3       Red\n",
    "4     Black\n",
    "5    Yellow\n",
    "dtype: object                      \n",
    "```"
   ]
  },
  {
   "cell_type": "code",
   "execution_count": null,
   "id": "6ed24430",
   "metadata": {},
   "outputs": [],
   "source": [
    "list1 = [['Red', 'Green', 'White'],['Red','Black'],['Yellow']]\n",
    "s3 = pd.Series(list1)\n",
    "s3"
   ]
  },
  {
   "cell_type": "code",
   "execution_count": null,
   "id": "d1980986",
   "metadata": {},
   "outputs": [],
   "source": []
  },
  {
   "cell_type": "code",
   "execution_count": null,
   "id": "9beb40b0",
   "metadata": {},
   "outputs": [],
   "source": [
    "def printlist(s3):\n",
    "    list1 = []\n",
    "    for i in s3:\n",
    "        for j in i :\n",
    "            list1.append(j)\n",
    "    return list1\n",
    "printlist(s3)"
   ]
  },
  {
   "cell_type": "code",
   "execution_count": null,
   "id": "d3671175",
   "metadata": {},
   "outputs": [],
   "source": [
    "s3.apply(printlist)"
   ]
  },
  {
   "cell_type": "code",
   "execution_count": null,
   "id": "78a434f6",
   "metadata": {},
   "outputs": [],
   "source": []
  },
  {
   "cell_type": "code",
   "execution_count": null,
   "id": "e5b1717f",
   "metadata": {},
   "outputs": [],
   "source": []
  },
  {
   "cell_type": "code",
   "execution_count": null,
   "id": "f0d0cddb",
   "metadata": {},
   "outputs": [],
   "source": [
    "s1.sort_values()"
   ]
  },
  {
   "cell_type": "code",
   "execution_count": null,
   "id": "898092bf",
   "metadata": {},
   "outputs": [],
   "source": []
  },
  {
   "cell_type": "code",
   "execution_count": null,
   "id": "b554b481",
   "metadata": {},
   "outputs": [],
   "source": [
    "# list(s1)\n",
    "type(s1)\n",
    "# s1.tolist()"
   ]
  },
  {
   "cell_type": "markdown",
   "id": "5b3b24da",
   "metadata": {},
   "source": [
    "# Pandas - Assignment no 02\n",
    "- Here is link to [Pandas -Assignment no 02]()"
   ]
  },
  {
   "cell_type": "code",
   "execution_count": null,
   "id": "e6faceb4",
   "metadata": {},
   "outputs": [],
   "source": []
  },
  {
   "cell_type": "markdown",
   "id": "385e7824",
   "metadata": {},
   "source": [
    "## Google Play Store Apps Exploratory Data Analysis\n",
    "#### Introduction\n",
    "Google Play Store or formerly Android Market, is a digital distribution service developed and operated by Google. It is an official apps store that provides variety content such as apps, books, magazines, music, movies and television programs. It serves an as platform to allow users with 'Google certified' Android operating system devices to donwload applications developed and published on the platform either with a charge or free of cost. With the rapidly growth of Android devices and apps, it would be interesting to perform data analysis on the data to obtain valuable insights.\n",
    "\n",
    "The dataset that is going to be used is `Google Play Store Apps` from Kaggle. It contains 10k of web scraped Play Store apps data for analysing the Android market. The tools that are going to be used for this `EDA` would be `numpy`, `pandas`, `matplotlib` and `seaborn`."
   ]
  },
  {
   "cell_type": "markdown",
   "id": "265d6494",
   "metadata": {},
   "source": [
    "### Step 1 : Data Preparation and Data Cleaning\n",
    "Here, we will be loading the Google Store Apps data stored in csv using pandas which is a fast and powerful python library for data analysis and easy data manipulation in pandas DataFrame object. It is usually used for working with tabular data (e.g data in spreadsheet) in various formats such as CSV, Excel spreadsheets, HTML tables, JSON etc. We will then perform some data preparation and also cleaning on it. We can download our dataset from this [address](https://raw.githubusercontent.com/bsef19m521/DatasetsForProjects/master/googleplaystore.csv)"
   ]
  },
  {
   "cell_type": "code",
   "execution_count": null,
   "id": "5f20654b",
   "metadata": {},
   "outputs": [],
   "source": [
    "url = \"https://raw.githubusercontent.com/bsef19m521/DatasetsForProjects/master/googleplaystore.csv\"\n"
   ]
  },
  {
   "cell_type": "code",
   "execution_count": null,
   "id": "d97c6cfe",
   "metadata": {},
   "outputs": [],
   "source": [
    "# import the necessary libraries\n",
    "# allow matplotlib to plot inline with frontends like Jupyter\n",
    "import numpy as np\n",
    "import pandas as pd\n",
    "import matplotlib.pyplot as plt\n",
    "import seaborn as sns\n",
    "%matplotlib inline"
   ]
  },
  {
   "cell_type": "code",
   "execution_count": null,
   "id": "96c0be34",
   "metadata": {},
   "outputs": [],
   "source": [
    "# load the apps and reviews data into pandas dataframe\n",
    "df = pd.read_csv(url)"
   ]
  },
  {
   "cell_type": "code",
   "execution_count": null,
   "id": "0e406202",
   "metadata": {},
   "outputs": [],
   "source": [
    "# look at the first 10 records in the apps dataframe\n",
    "df.head(10)"
   ]
  },
  {
   "cell_type": "code",
   "execution_count": null,
   "id": "089f14fa",
   "metadata": {},
   "outputs": [],
   "source": [
    "df.columns"
   ]
  },
  {
   "cell_type": "code",
   "execution_count": null,
   "id": "ea08ba77",
   "metadata": {},
   "outputs": [],
   "source": [
    "# look at the random 10 records in the apps dataframe\n",
    "df.sample(10)"
   ]
  },
  {
   "cell_type": "markdown",
   "id": "e8144c00",
   "metadata": {},
   "source": [
    "#### Description of App Dataset columns\n",
    "- App : The name of the app\n",
    "- Category : The category of the app\n",
    "- Rating : The rating of the app in the Play Store\n",
    "- Reviews : The number of reviews of the app\n",
    "- Size : The size of the app\n",
    "- Install : The number of installs of the app\n",
    "- Type : The type of the app (Free/Paid)\n",
    "- The price of the app (0 if it is Free)\n",
    "- Content Rating :The appropiate target audience of the app\n",
    "- Genres: The genre of the app\n",
    "- Last Updated : The date when the app was last updated\n",
    "- Current Ver : The current version of the app\n",
    "- Android Ver : The minimum Android version required to run the app"
   ]
  },
  {
   "cell_type": "code",
   "execution_count": null,
   "id": "5357ca38",
   "metadata": {},
   "outputs": [],
   "source": [
    "# look at the info of the dataframe\n",
    "df.info()"
   ]
  },
  {
   "cell_type": "markdown",
   "id": "0ef1ea4c",
   "metadata": {},
   "source": [
    "#### By diagnosing the data frame, we know that:\n",
    "- There are 13 columns of properties with 10841 rows of data.\n",
    "- Column 'Reviews', 'Size', 'Installs' and 'Price' are in the type of 'object'\n",
    "- Values of column 'Size' are strings representing size in 'M' as Megabytes, 'k' as kilobytes and also 'Varies with devices'.\n",
    "- Values of column 'Installs' are strings representing install amount with symbols such as ',' and '+'.\n",
    "- Values of column 'Price' are strings representing price with symbol '$'."
   ]
  },
  {
   "cell_type": "code",
   "execution_count": null,
   "id": "019a9c0d",
   "metadata": {},
   "outputs": [],
   "source": [
    "# type of Category\n",
    "# df.columns\n",
    "# df.Category.unique()\n",
    "# df.Category.nunique()"
   ]
  },
  {
   "cell_type": "code",
   "execution_count": null,
   "id": "d8e2aa83",
   "metadata": {},
   "outputs": [],
   "source": [
    "# type of Type\n",
    "# df.columns\n",
    "# df.Type\n",
    "# df.Type.unique()"
   ]
  },
  {
   "cell_type": "code",
   "execution_count": null,
   "id": "e1bbdfa9",
   "metadata": {},
   "outputs": [],
   "source": [
    "# type of Content Rating\n",
    "# df.columns\n",
    "# df['Content Rating'].unique()"
   ]
  },
  {
   "cell_type": "code",
   "execution_count": null,
   "id": "a478ac12",
   "metadata": {},
   "outputs": [],
   "source": [
    "# type of Genres\n",
    "# df.Genres.nunique()"
   ]
  },
  {
   "cell_type": "markdown",
   "id": "0974938f",
   "metadata": {},
   "source": [
    "### Data Cleaning\n",
    "- Clean the 'Reviews' data and change the type 'object' to 'float'.(Hint : astype() and use explicit function)"
   ]
  },
  {
   "cell_type": "code",
   "execution_count": null,
   "id": "1114f1a3",
   "metadata": {},
   "outputs": [],
   "source": []
  },
  {
   "cell_type": "code",
   "execution_count": null,
   "id": "fe9a154c",
   "metadata": {},
   "outputs": [],
   "source": [
    "# list1 = [i for i in df.Reviews]\n",
    "# reviews_clean(list1)\n",
    "# def reviews_clean(reviews_list):\n",
    "#     cleaned_list = []\n",
    "#     for review in reviews_list:\n",
    "#         if 'M' in review:\n",
    "#             review = review.replace('M','')\n",
    "#             review = float(review)*1000000 # 1M = 1000000\n",
    "#         cleaned_list.append(review)\n",
    "#     return cleaned_list\n",
    "# df['Reviews'] = reviews_clean(list1)\n",
    "# df['Reviews'] = df.Reviews.astype(float)"
   ]
  },
  {
   "cell_type": "markdown",
   "id": "bb5693a7",
   "metadata": {},
   "source": [
    "- clean the 'Size' data and change the type 'object' to 'float'. Found value with '1,000+' in one of record, remove it from data_frame as uncertain whether it is 'M' or 'k'"
   ]
  },
  {
   "cell_type": "code",
   "execution_count": null,
   "id": "6a9949e7",
   "metadata": {},
   "outputs": [],
   "source": [
    "# index = df[df.Size == '1,000+'].index\n",
    "# df.drop(axis=0, inplace=True, index=index)"
   ]
  },
  {
   "cell_type": "code",
   "execution_count": null,
   "id": "177ed021",
   "metadata": {},
   "outputs": [],
   "source": [
    "# sizes = [i for i in df.Size]\n",
    "# def cleaned_size(size):\n",
    "#     cleaned_list = []\n",
    "#     for i in size:\n",
    "#         if 'M' in i:\n",
    "#             i = i.replace('M','')\n",
    "#             i = float(i)\n",
    "#         elif 'k' in i:\n",
    "#             i = i.replace('k','')\n",
    "#             i = float(i)\n",
    "#             i = i/1024  # 1Megabtye = 1024 kilobytes\n",
    "#         elif \"Varies with device\" in i :\n",
    "#             i = float(0)\n",
    "#         cleaned_list.append(i)\n",
    "#     return cleaned_list\n",
    "# df['Size'] = cleaned_size(sizes)\n"
   ]
  },
  {
   "cell_type": "code",
   "execution_count": null,
   "id": "6b4a2c17",
   "metadata": {},
   "outputs": [],
   "source": [
    "# df['Size'] = df['Size'].astype(float)"
   ]
  },
  {
   "cell_type": "markdown",
   "id": "f94c4ad9",
   "metadata": {},
   "source": [
    "- Clean the 'Installs' data and change the type 'object' to 'float'."
   ]
  },
  {
   "cell_type": "code",
   "execution_count": null,
   "id": "efcd0088",
   "metadata": {},
   "outputs": [],
   "source": [
    "# installs =[i for i in df.Installs]\n",
    "# installs"
   ]
  },
  {
   "cell_type": "code",
   "execution_count": null,
   "id": "f2f2c891",
   "metadata": {},
   "outputs": [],
   "source": [
    "def cleaned_installs(data):\n",
    "    cleaned_list = []\n",
    "    for install in data:\n",
    "        if ',' in install:\n",
    "            install = install.replace(',','')\n",
    "        if '+' in install:\n",
    "            install = install.replace('+','')\n",
    "        cleaned_list.append(int(install))\n",
    "    return cleaned_list\n",
    "\n",
    "df.Installs = cleaned_installs(installs)\n",
    "df.Installs = df.Installs.astype('int')"
   ]
  },
  {
   "cell_type": "markdown",
   "id": "f7c75e0e",
   "metadata": {},
   "source": [
    "- Clean the 'Price' data and change the type 'object' to 'float'."
   ]
  },
  {
   "cell_type": "code",
   "execution_count": null,
   "id": "532ce8d6",
   "metadata": {},
   "outputs": [],
   "source": [
    "prices = [i for i in df.Price]\n",
    "# prices\n",
    "def cleaned_Prices(data):\n",
    "    cleaned_list = []\n",
    "    for price in data:\n",
    "        if '$' in price:\n",
    "            price = price.replace('$','')\n",
    "        cleaned_list.append(price)\n",
    "    return cleaned_list\n",
    "# cleaned_Prices(prices)"
   ]
  },
  {
   "cell_type": "code",
   "execution_count": null,
   "id": "f5785883",
   "metadata": {},
   "outputs": [],
   "source": [
    "df.Price = cleaned_Prices(prices)\n",
    "df.Price = df.Price.astype(float)\n",
    "df.Price"
   ]
  },
  {
   "cell_type": "code",
   "execution_count": null,
   "id": "23673bc7",
   "metadata": {},
   "outputs": [],
   "source": [
    "# look at the random 10 records in the apps dataframe to verify the cleaned columns\n",
    "df.sample(10)"
   ]
  },
  {
   "cell_type": "code",
   "execution_count": null,
   "id": "90fbe82f",
   "metadata": {},
   "outputs": [],
   "source": [
    "# check on null values\n",
    "df.isna().sum()"
   ]
  },
  {
   "cell_type": "markdown",
   "id": "58031117",
   "metadata": {},
   "source": [
    "Here, we realized that there are 1474 rows having null values under column `Rating`. Hence, we decided to replace the null values with median of overall `Rating` values."
   ]
  },
  {
   "cell_type": "code",
   "execution_count": null,
   "id": "e05a9deb",
   "metadata": {},
   "outputs": [],
   "source": []
  },
  {
   "cell_type": "code",
   "execution_count": null,
   "id": "ba8457a8",
   "metadata": {},
   "outputs": [],
   "source": [
    "# df.Rating\n",
    "# df.Rating.median()\n",
    "# df['Rating'] = df.Rating.fillna(df.Rating.median())"
   ]
  },
  {
   "cell_type": "code",
   "execution_count": null,
   "id": "56376881",
   "metadata": {},
   "outputs": [],
   "source": [
    "df.isna().sum()"
   ]
  },
  {
   "cell_type": "code",
   "execution_count": null,
   "id": "ba696730",
   "metadata": {},
   "outputs": [],
   "source": [
    "# remove the record where 'Type' is having null value"
   ]
  },
  {
   "cell_type": "code",
   "execution_count": null,
   "id": "87185c8e",
   "metadata": {},
   "outputs": [],
   "source": [
    "index = df[df.Type.isna()].index\n",
    "df.drop(axis=0, inplace=True, index=index)"
   ]
  },
  {
   "cell_type": "code",
   "execution_count": null,
   "id": "87ac557f",
   "metadata": {},
   "outputs": [],
   "source": [
    "df.isna().sum()"
   ]
  },
  {
   "cell_type": "code",
   "execution_count": null,
   "id": "2afe659d",
   "metadata": {},
   "outputs": [],
   "source": [
    "# check on statistical information of the dataframe\n",
    "df.describe()"
   ]
  },
  {
   "cell_type": "code",
   "execution_count": null,
   "id": "a10164ca",
   "metadata": {},
   "outputs": [],
   "source": [
    "# sort the dataframe by Reviews descendingly\n",
    "df.sort_values(by='Reviews',ascending=False,  inplace=True)"
   ]
  },
  {
   "cell_type": "code",
   "execution_count": null,
   "id": "42371160",
   "metadata": {
    "scrolled": true
   },
   "outputs": [],
   "source": [
    "df.head()"
   ]
  },
  {
   "cell_type": "code",
   "execution_count": null,
   "id": "3b74649f",
   "metadata": {},
   "outputs": [],
   "source": []
  },
  {
   "cell_type": "code",
   "execution_count": null,
   "id": "03bb110a",
   "metadata": {
    "scrolled": true
   },
   "outputs": [],
   "source": [
    "# drop duplicate rows based on App \n",
    "df.drop_duplicates(subset=['App'], inplace=True)"
   ]
  },
  {
   "cell_type": "code",
   "execution_count": null,
   "id": "1e71689a",
   "metadata": {},
   "outputs": [],
   "source": [
    "df.head()"
   ]
  },
  {
   "cell_type": "markdown",
   "id": "535d5d50",
   "metadata": {},
   "source": [
    "### Exploratory Analysis and Visualization"
   ]
  },
  {
   "cell_type": "code",
   "execution_count": null,
   "id": "9e305f46",
   "metadata": {},
   "outputs": [],
   "source": [
    "# get the number of apps for each category\n",
    "# first of all we get all the categories\n",
    "df.Category.unique()\n",
    "\n",
    "# second, we get count of each category\n",
    "df.Category.value_counts()"
   ]
  },
  {
   "cell_type": "markdown",
   "id": "0d7b7e64",
   "metadata": {},
   "source": [
    "### Bar Plot"
   ]
  },
  {
   "cell_type": "code",
   "execution_count": null,
   "id": "419ed66d",
   "metadata": {},
   "outputs": [],
   "source": [
    "from collections import Counter\n",
    "counts = Counter(df.Category)\n",
    "counts = dict(counts)\n",
    "counts"
   ]
  },
  {
   "cell_type": "code",
   "execution_count": null,
   "id": "c7b21743",
   "metadata": {},
   "outputs": [],
   "source": [
    "# labels = list(counts.keys())\n",
    "# values = list(counts.values())\n",
    "# # labels,values"
   ]
  },
  {
   "cell_type": "code",
   "execution_count": null,
   "id": "c49743da",
   "metadata": {},
   "outputs": [],
   "source": [
    "# fig = plt.figure(figsize=(10,10))\n",
    "# ax = fig.add_subplot() \n",
    "# ax.bar(x=labels, height=values)\n",
    "# ax.set_xlabel(\"Number of Apps\")\n",
    "# ax.set_ylabel(\"Category\")\n",
    "# plt.title(\"Number of Apps per Category\")\n",
    "# plt.show()"
   ]
  },
  {
   "cell_type": "code",
   "execution_count": null,
   "id": "c004d57e",
   "metadata": {},
   "outputs": [],
   "source": [
    "fig = plt.figure(figsize=(10,10))\n",
    "ax = fig.add_subplot()\n",
    "ax.barh(y =labels, width=values)\n",
    "ax.set_xlabel(\"Number of Apps\")\n",
    "ax.set_ylabel(\"Category\")\n",
    "plt.title(\"Number of Apps per Category\")\n",
    "sns.set_style('dark')\n",
    "plt.show()"
   ]
  },
  {
   "cell_type": "markdown",
   "id": "a17754b4",
   "metadata": {},
   "source": [
    "### Countplot"
   ]
  },
  {
   "cell_type": "code",
   "execution_count": null,
   "id": "5b4e422c",
   "metadata": {},
   "outputs": [],
   "source": [
    "# plt.figure(figsize=(10,5))\n",
    "# sns.set_style('darkgrid')\n",
    "# sns.countplot(x = df.Category, data=df)\n",
    "# plt.title(\"Number of Apps per Category\")\n",
    "# plt.ylabel(\"Number of Apps\")\n",
    "# plt.xticks(rotation=90)\n",
    "# plt.show()"
   ]
  },
  {
   "cell_type": "markdown",
   "id": "aaaebdad",
   "metadata": {},
   "source": [
    "**From this plotting we know that most of the apps in the play store are from the categories of `Family`, `Game` and also `Tools`.**"
   ]
  },
  {
   "cell_type": "code",
   "execution_count": null,
   "id": "394bd88a",
   "metadata": {},
   "outputs": [],
   "source": [
    "# get the number of installs for each category\n",
    "# Firstly, we groupby the data according to category and installs\n",
    "df.columns\n",
    "categories = df.groupby(['Category'])\n",
    "new_df = categories['Installs'].sum().reset_index()\n",
    "new_df"
   ]
  },
  {
   "cell_type": "code",
   "execution_count": null,
   "id": "ad9b6352",
   "metadata": {},
   "outputs": [],
   "source": [
    "# bar plot using matplotlib\n",
    "fig = plt.figure(figsize=(10,5))\n",
    "ax = fig.add_subplot()\n",
    "ax.bar(x=new_df.Category, height=new_df.Installs)\n",
    "ax.set_xlabel(\"Category\")\n",
    "ax.set_ylabel(\"Installs (e+10)\")\n",
    "ax.set_title(\"Number of Installs for each Category\")\n",
    "plt.xticks(rotation=90)\n",
    "plt.show()"
   ]
  },
  {
   "cell_type": "code",
   "execution_count": null,
   "id": "ff8d986d",
   "metadata": {},
   "outputs": [],
   "source": [
    "# barplot using seaborn\n",
    "plt.figure(figsize=(10,5))\n",
    "sns.barplot(x= new_df.Category, y=new_df.Installs)\n",
    "plt.title(\"Number of Installs for each Category\")\n",
    "plt.xticks(rotation=90)\n",
    "plt.show()"
   ]
  },
  {
   "cell_type": "markdown",
   "id": "c08459e1",
   "metadata": {},
   "source": [
    "From this distribution plotting of number of installs for each category, we can see that most of the apps being downloaded and installed are from the categories of `Game` and `Communication`."
   ]
  },
  {
   "cell_type": "code",
   "execution_count": null,
   "id": "23d7cf29",
   "metadata": {},
   "outputs": [],
   "source": [
    "# show the distribution of rating using matplotlib and seaborn"
   ]
  },
  {
   "cell_type": "code",
   "execution_count": null,
   "id": "4e5df87d",
   "metadata": {},
   "outputs": [],
   "source": [
    "plt.figure(figsize=(10,5))\n",
    "plt.hist(df.Rating, bins=30)\n",
    "plt.xlabel(\"Rating\")\n",
    "plt.ylabel(\"Number of Apps\")\n",
    "plt.show()"
   ]
  },
  {
   "cell_type": "code",
   "execution_count": null,
   "id": "d12f53e0",
   "metadata": {},
   "outputs": [],
   "source": [
    "# using seaborn\n",
    "plt.figure(figsize=(10, 5))\n",
    "sns.histplot(df.Rating)\n",
    "plt.title('Rating Distribution')\n",
    "plt.xticks(rotation=90)\n",
    "plt.ylabel('Number of Apps')\n",
    "plt.show()"
   ]
  },
  {
   "cell_type": "code",
   "execution_count": null,
   "id": "f3829f6f",
   "metadata": {},
   "outputs": [],
   "source": [
    "# using seaborn\n",
    "plt.figure(figsize=(10, 5))\n",
    "sns.countplot(x = 'Rating', data=df)\n",
    "plt.title('Rating Distribution')\n",
    "plt.xticks(rotation=90)\n",
    "plt.ylabel('Number of Apps')\n",
    "plt.show()"
   ]
  },
  {
   "cell_type": "code",
   "execution_count": null,
   "id": "876de8da",
   "metadata": {},
   "outputs": [],
   "source": [
    "# plot the line graphs of reviews, size, installs and price per rating\n",
    "new_df1 = df.groupby('Rating').sum().reset_index()\n",
    "new_df1"
   ]
  },
  {
   "cell_type": "code",
   "execution_count": null,
   "id": "ac1eef7e",
   "metadata": {},
   "outputs": [],
   "source": [
    "new_df1.corr()"
   ]
  },
  {
   "cell_type": "code",
   "execution_count": null,
   "id": "c69da352",
   "metadata": {},
   "outputs": [],
   "source": [
    "sns.heatmap(new_df1.corr())"
   ]
  },
  {
   "cell_type": "code",
   "execution_count": null,
   "id": "8d9e883b",
   "metadata": {},
   "outputs": [],
   "source": [
    "fig = plt.figure()\n",
    "fig, axes = plt.subplots(1, 4, figsize=(14, 4))"
   ]
  },
  {
   "cell_type": "code",
   "execution_count": null,
   "id": "0815c368",
   "metadata": {},
   "outputs": [],
   "source": [
    "new_df1.columns"
   ]
  },
  {
   "cell_type": "code",
   "execution_count": null,
   "id": "1b5e586b",
   "metadata": {},
   "outputs": [],
   "source": [
    "fig, axes = plt.subplots(1, 4, figsize=(14, 4))\n",
    "axes[0].plot('Rating','Reviews', data=new_df1)\n",
    "axes[0].set_xlabel('Rating')\n",
    "axes[0].set_ylabel('Reviews')\n",
    "axes[0].set_title('Reviews Per Rating')\n",
    "\n",
    "\n",
    "axes[1].plot('Rating','Size', data=new_df1, color='g')\n",
    "axes[1].set_xlabel('Rating')\n",
    "axes[1].set_ylabel('Size')\n",
    "axes[1].set_title('Size Per Rating')\n",
    "\n",
    "axes[2].plot('Rating','Installs', data=new_df1, color='r')\n",
    "axes[2].set_xlabel('Rating')\n",
    "axes[2].set_ylabel('Size')\n",
    "axes[2].set_title('Installs Per Rating')\n",
    "plt.tight_layout(pad=2)\n",
    "\n",
    "axes[3].plot('Rating','Price', data=new_df1, color='k')\n",
    "axes[3].set_xlabel('Rating')\n",
    "axes[3].set_ylabel('Price')\n",
    "axes[3].set_title('Price Per Rating')\n",
    "plt.tight_layout(pad=2)\n",
    "\n",
    "plt.show()"
   ]
  },
  {
   "cell_type": "code",
   "execution_count": null,
   "id": "c5e5d1f3",
   "metadata": {},
   "outputs": [],
   "source": []
  },
  {
   "cell_type": "markdown",
   "id": "b2a02856",
   "metadata": {},
   "source": [
    "**From the above plottings, we can imply that most of the apps with higher rating range of `4.0 - 4.7` are having high amount of reviews, size, and installs. In terms of price, it doesn't reflect a direct relationship with rating, as we could see a fluctuation in term of pricing even at the range of high rating.**"
   ]
  },
  {
   "cell_type": "code",
   "execution_count": null,
   "id": "32b16309",
   "metadata": {},
   "outputs": [],
   "source": [
    "# application type distribution means Free or paid using matplotlib and seaborn\n",
    "type_df = df.Type.value_counts().reset_index()\n",
    "type_df"
   ]
  },
  {
   "cell_type": "code",
   "execution_count": null,
   "id": "6923b84c",
   "metadata": {},
   "outputs": [],
   "source": [
    "# using matplotlib\n",
    "plt.figure(figsize=(7,8))\n",
    "plt.pie(x=type_df.Type,labels=type_df['index'].values,autopct='%.2f%%' , shadow=True)\n",
    "plt.legend()\n",
    "plt.show()"
   ]
  },
  {
   "cell_type": "code",
   "execution_count": null,
   "id": "37e6d8fe",
   "metadata": {},
   "outputs": [],
   "source": [
    "# using seaborn\n",
    "plt.figure(figsize=(7,5))\n",
    "sns.countplot(x='Type', data=df)\n",
    "plt.title('Type Distribution')\n",
    "plt.ylabel('Number of Apps')\n",
    "plt.show()"
   ]
  },
  {
   "cell_type": "markdown",
   "id": "bad607b7",
   "metadata": {},
   "source": [
    "**From the plot we can imply that majority of the apps in the Play Store are Free apps.**"
   ]
  },
  {
   "cell_type": "code",
   "execution_count": null,
   "id": "3b01da89",
   "metadata": {},
   "outputs": [],
   "source": []
  },
  {
   "cell_type": "markdown",
   "id": "ddefc1a2",
   "metadata": {},
   "source": [
    "## Asking and Answering Questions\n",
    "#### 1. What is the top 5 apps on the basis of installs?\n",
    "#### 2. What is the top 5 reviewed apps?\n",
    "#### 3. What is the top 5 expensive apps?\n",
    "#### 4. What is the top 3 most installed apps in Game category?\n",
    "#### 5. Which 5 apps from the 'FAMILY' category are having the lowest rating?"
   ]
  },
  {
   "cell_type": "code",
   "execution_count": null,
   "id": "f09817b4",
   "metadata": {},
   "outputs": [],
   "source": []
  },
  {
   "cell_type": "code",
   "execution_count": null,
   "id": "d0b10c9e",
   "metadata": {},
   "outputs": [],
   "source": []
  },
  {
   "cell_type": "code",
   "execution_count": null,
   "id": "eaee9839",
   "metadata": {},
   "outputs": [],
   "source": []
  }
 ],
 "metadata": {
  "kernelspec": {
   "display_name": "Python 3 (ipykernel)",
   "language": "python",
   "name": "python3"
  },
  "language_info": {
   "codemirror_mode": {
    "name": "ipython",
    "version": 3
   },
   "file_extension": ".py",
   "mimetype": "text/x-python",
   "name": "python",
   "nbconvert_exporter": "python",
   "pygments_lexer": "ipython3",
   "version": "3.8.10"
  }
 },
 "nbformat": 4,
 "nbformat_minor": 5
}
