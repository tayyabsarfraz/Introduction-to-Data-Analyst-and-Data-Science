{
 "cells": [
  {
   "cell_type": "markdown",
   "id": "5572cc0a",
   "metadata": {},
   "source": [
    "---   \n",
    "\n",
    "<h1 align=\"center\">Introduction to Data Analyst and Data Science for beginners</h1>\n",
    "<h1 align=\"center\">Lecture no 2.3(NumPy-03)</h1>\n",
    "\n",
    "---\n",
    "<h3><div align=\"right\">Ehtisham Sadiq</div></h3>    "
   ]
  },
  {
   "cell_type": "markdown",
   "id": "a5a92293",
   "metadata": {},
   "source": [
    "# _Basic Operations on NumPy Arrays.ipynb_"
   ]
  },
  {
   "cell_type": "markdown",
   "id": "3d4c9b2f",
   "metadata": {},
   "source": [
    "<img align=\"center\" width=\"500\" height=\"500\"  src=\"images/basicopsonnumpy.png\" > "
   ]
  },
  {
   "cell_type": "markdown",
   "id": "3e646522",
   "metadata": {},
   "source": [
    "### Recap:\n",
    "- In last lectures, we saw different methods/ways to create numpy array.\n",
    "- We also saw the difference between numpy array, python List and Python array."
   ]
  },
  {
   "cell_type": "markdown",
   "id": "31c0c335",
   "metadata": {},
   "source": [
    "### Baseline of this Lecture:\n",
    "- We will use diffferent numpy operations without using any loop.\n",
    "- By using these operations , we will be able to explore our mathematical and statistical skills."
   ]
  },
  {
   "cell_type": "markdown",
   "id": "7aeadcc5",
   "metadata": {},
   "source": [
    "# Learning agenda of this notebook\n",
    "- Operations on numPy arrays are done element-wise. This means that you don't explicitly have to write for-loops in order to do these operations!\n",
    "- A universal function, or ufunc, is a function that performs element-wise operations on data in ndarrays. You can think of them as fast vectorized wrappers for simple functions that take one or more scalar values and produce one or more scalar results.\n",
    "\n",
    "\n",
    "<img align=\"left\" width=\"450\" height=\"400\"  src=\"images/ufuncunary.png\" > \n",
    "<img align=\"right\" width=\"485\" height=\"500\"  src=\"images/ufuncbinary.png\" > \n",
    "\n",
    "<br><br><br><br><br><br><br><br><br><br><br><br><br><br><br><br><br><br>\n",
    "\n",
    "1. Scalar Math\n",
    "    - On 1-D Arrays\n",
    "    - On 2-D Arrays\n",
    "2. Arithmetic operations\n",
    "    - On 1-D Arrays\n",
    "    - On 2-D Arrays\n",
    "3. More Mathematical Operations\n",
    "    - On 1-D Arrays\n",
    "    - On 2-D Arrays\n",
    "4. Aggregate Functions\n",
    "    - On 1-D Arrays\n",
    "    - On 2-D Arrays\n",
    "5. Comparing NumPy Arrays\n",
    "    - On 1-D Arrays\n",
    "    - On 2-D Arrays\n",
    "6. Bonus: Searching 1-D and 2-D NumPy Arrays using `numpy.where()`"
   ]
  },
  {
   "cell_type": "code",
   "execution_count": null,
   "id": "916b01a4",
   "metadata": {},
   "outputs": [],
   "source": []
  },
  {
   "cell_type": "code",
   "execution_count": null,
   "id": "44552053",
   "metadata": {},
   "outputs": [],
   "source": []
  },
  {
   "cell_type": "code",
   "execution_count": null,
   "id": "ad592c7e",
   "metadata": {},
   "outputs": [],
   "source": [
    "# To install this library in Jupyter notebook\n",
    "import sys\n",
    "!{sys.executable} -m pip install numpy"
   ]
  },
  {
   "cell_type": "code",
   "execution_count": 1,
   "id": "bca9f700",
   "metadata": {},
   "outputs": [
    {
     "data": {
      "text/plain": [
       "('1.22.3', ['/home/dell/.local/lib/python3.8/site-packages/numpy'])"
      ]
     },
     "execution_count": 1,
     "metadata": {},
     "output_type": "execute_result"
    }
   ],
   "source": [
    "import numpy as np\n",
    "np.__version__ , np.__path__"
   ]
  },
  {
   "cell_type": "code",
   "execution_count": null,
   "id": "5662cd04",
   "metadata": {},
   "outputs": [],
   "source": []
  },
  {
   "cell_type": "markdown",
   "id": "0906e715",
   "metadata": {},
   "source": [
    "## 1. Scalar Math"
   ]
  },
  {
   "cell_type": "markdown",
   "id": "26f8690c",
   "metadata": {},
   "source": [
    "### a. Scalar Math on 1-D Arrays"
   ]
  },
  {
   "cell_type": "code",
   "execution_count": null,
   "id": "f134a6d4",
   "metadata": {},
   "outputs": [],
   "source": []
  },
  {
   "cell_type": "code",
   "execution_count": null,
   "id": "e309a4df",
   "metadata": {},
   "outputs": [],
   "source": []
  },
  {
   "cell_type": "code",
   "execution_count": null,
   "id": "08b13d56",
   "metadata": {},
   "outputs": [],
   "source": [
    "import numpy as np\n",
    "# Create a 1-D array having 4 random integers from 1 to 9\n",
    "arr = np.random.randint(1,10, size=4)\n",
    "print(\"arr: \", arr)\n",
    "\n",
    "# After the operation a new `ndarray` is returned\n",
    "print(\"np.add(arr,2): \",      arr + 2)            # np.add(arr, 2))\n",
    "print(\"np.subtract(arr,2): \", arr - 2)            # np.subtract(arr, 2))\n",
    "print(\"np.multiply(arr,2): \", arr * 2)            # np.multiply(arr, 2))\n",
    "print(\"np.divide(arr,2): \",   arr / 2)            # np.divide(arr, 2))\n",
    "print(\"np.mod(arr,2): \",      arr % 2)            # np.mod(arr, 2))\n",
    "\n",
    "arr3 = arr + 9\n",
    "print(id(arr), id(arr3))"
   ]
  },
  {
   "cell_type": "code",
   "execution_count": null,
   "id": "26b601f6",
   "metadata": {},
   "outputs": [],
   "source": []
  },
  {
   "cell_type": "markdown",
   "id": "ef0533ab",
   "metadata": {},
   "source": [
    "### b. Scalar Math on 2-D Arrays"
   ]
  },
  {
   "cell_type": "code",
   "execution_count": null,
   "id": "a7206060",
   "metadata": {},
   "outputs": [],
   "source": [
    "import numpy as np\n",
    "# Create a 2x2 matrix with random integers  between 1 to 9\n",
    "matrix = np.random.randint(1,10, size=(2, 2))\n",
    "print(\"Original matrix:\\n\", matrix)\n",
    "\n",
    "# # After the operation a new `ndarray` is returned\n",
    "# print(\"np.add(matrix,2): \\n\",      matrix + 2)            # np.add(matrix, 2))\n",
    "# print(\"np.subtract(matrix,2): \\n\", matrix - 2)            # np.subtract(matrix, 2))\n",
    "# print(\"np.multiply(matrix,2): \\n\", matrix * 2)            # np.multiply(matrix, 2))\n",
    "# print(\"np.divide(matrix,2): \\n\",   matrix / 2)            # np.divide(matrix, 2))\n",
    "# print(\"np.mod(matrix,2): \\n\",      matrix % 2)            # np.mod(matrix, 2))"
   ]
  },
  {
   "cell_type": "code",
   "execution_count": null,
   "id": "916ba2ee",
   "metadata": {},
   "outputs": [],
   "source": [
    "# After the operation a new `ndarray` is returned\n",
    "print(\"np.add(matrix,2): \\n\",      matrix + 2)            # np.add(matrix, 2))\n",
    "print(\"np.subtract(matrix,2): \\n\", matrix - 2)            # np.subtract(matrix, 2))\n",
    "print(\"np.multiply(matrix,2): \\n\", matrix * 2)            # np.multiply(matrix, 2))\n",
    "print(\"np.divide(matrix,2): \\n\",   matrix / 2)            # np.divide(matrix, 2))\n",
    "print(\"np.mod(matrix,2): \\n\",      matrix % 2)            # np.mod(matrix, 2))"
   ]
  },
  {
   "cell_type": "code",
   "execution_count": null,
   "id": "d5182339",
   "metadata": {},
   "outputs": [],
   "source": []
  },
  {
   "cell_type": "markdown",
   "id": "f7900157",
   "metadata": {},
   "source": [
    "## 2. Arithmetic Operations"
   ]
  },
  {
   "cell_type": "markdown",
   "id": "28f196d5",
   "metadata": {},
   "source": [
    "### a. Arithmetic Operations on 1-D Arrays"
   ]
  },
  {
   "cell_type": "code",
   "execution_count": 9,
   "id": "30d3f30f",
   "metadata": {},
   "outputs": [
    {
     "name": "stdout",
     "output_type": "stream",
     "text": [
      "arr1:  [2 4 5 8]\n",
      "arr2:  [9 7 9 2]\n"
     ]
    }
   ],
   "source": [
    "import numpy as np\n",
    "# Create two 1-D arrays each having 4 random integers from 1 to 9\n",
    "arr1 = np.random.randint(1,10, size=4)\n",
    "arr2 = np.random.randint(1,10, size=4)\n",
    "print(\"arr1: \", arr1)\n",
    "print(\"arr2: \", arr2)\n",
    "\n"
   ]
  },
  {
   "cell_type": "code",
   "execution_count": null,
   "id": "5a65630b",
   "metadata": {},
   "outputs": [],
   "source": []
  },
  {
   "cell_type": "code",
   "execution_count": 10,
   "id": "a5b7b049",
   "metadata": {},
   "outputs": [
    {
     "name": "stdout",
     "output_type": "stream",
     "text": [
      "np.add(arr1, arr2) =  [11 11 14 10]\n",
      "np.subtract(arr1, arr2) =  [-7 -3 -4  6]\n",
      "np.multiply(arr1, arr2) =  [18 28 45 16]\n",
      "np.divide(arr1, arr2) =  [0.22222222 0.57142857 0.55555556 4.        ]\n",
      "np.mod(arr1, arr2) =  [2 4 5 0]\n"
     ]
    }
   ],
   "source": [
    "# After the operation a new `ndarray` is returned\n",
    "print(\"np.add(arr1, arr2) = \",      arr1 + arr2)     # np.add(arr1, arr2)\n",
    "print(\"np.subtract(arr1, arr2) = \", arr1 - arr2)     # np.subtract(arr1, arr2)\n",
    "print(\"np.multiply(arr1, arr2) = \", arr1 * arr2)     # np.multiply(arr1, arr2)\n",
    "print(\"np.divide(arr1, arr2) = \",   arr1  / arr2)    # np.divide(arr1, arr2)\n",
    "print(\"np.mod(arr1, arr2) = \",      arr1  % arr2)    # np.mod(arr1, arr2) # np.remainder(arr1, arr2)"
   ]
  },
  {
   "cell_type": "code",
   "execution_count": null,
   "id": "17c0e890",
   "metadata": {},
   "outputs": [],
   "source": []
  },
  {
   "cell_type": "code",
   "execution_count": null,
   "id": "683e9c90",
   "metadata": {},
   "outputs": [],
   "source": []
  },
  {
   "cell_type": "markdown",
   "id": "f39da597",
   "metadata": {},
   "source": [
    "### b. Arithmetic Operations on 2-D Arrays"
   ]
  },
  {
   "cell_type": "code",
   "execution_count": 11,
   "id": "3cd42b3c",
   "metadata": {},
   "outputs": [
    {
     "name": "stdout",
     "output_type": "stream",
     "text": [
      "matrix1: \n",
      " [[6 9]\n",
      " [3 4]]\n",
      "matrix2: \n",
      " [[1 8]\n",
      " [6 2]]\n"
     ]
    }
   ],
   "source": [
    "import numpy as np\n",
    "# Create a 2x2 matrix with random integers  between 1 to 9\n",
    "matrix1 = np.random.randint(1,10, size=(2, 2))\n",
    "matrix2 = np.random.randint(1, 10, size=(2, 2))\n",
    "print(\"matrix1: \\n\", matrix1)\n",
    "print(\"matrix2: \\n\", matrix2)\n",
    "\n"
   ]
  },
  {
   "cell_type": "code",
   "execution_count": 12,
   "id": "d2a244f9",
   "metadata": {},
   "outputs": [
    {
     "name": "stdout",
     "output_type": "stream",
     "text": [
      "np.add(matrix1 , matrix2) = \n",
      " [[ 7 17]\n",
      " [ 9  6]]\n",
      "np.subtract(matrix1 , matrix2) = \n",
      " [[ 5  1]\n",
      " [-3  2]]\n",
      "np.multiply(matrix1 , matrix2) = \n",
      " [[ 6 72]\n",
      " [18  8]]\n",
      "np.divide(matrix1 , matrix2) = \n",
      " [[6.    1.125]\n",
      " [0.5   2.   ]]\n",
      "np.mod(matrix1 , matrix2) = \n",
      " [[0 1]\n",
      " [3 0]]\n"
     ]
    }
   ],
   "source": [
    "# After the operation a new `ndarray` is returned\n",
    "print(\"np.add(matrix1 , matrix2) = \\n\",      matrix1 + matrix2) # np.add(matrix1 , matrix2)\n",
    "print(\"np.subtract(matrix1 , matrix2) = \\n\", matrix1 - matrix2) # np.subtract(matrix1 , matrix2)\n",
    "print(\"np.multiply(matrix1 , matrix2) = \\n\", matrix1 * matrix2) # np.multiply(matrix1 , matrix2)\n",
    "print(\"np.divide(matrix1 , matrix2) = \\n\",   matrix1 / matrix2) # np.divide(matrix1 , matrix2)\n",
    "print(\"np.mod(matrix1 , matrix2) = \\n\",      matrix1 % matrix2) # np.remainder(matrix1 , matrix2)"
   ]
  },
  {
   "cell_type": "code",
   "execution_count": null,
   "id": "4dfb5752",
   "metadata": {},
   "outputs": [],
   "source": []
  },
  {
   "cell_type": "markdown",
   "id": "6af771f9",
   "metadata": {},
   "source": [
    "## 3. More Mathematical Operations"
   ]
  },
  {
   "cell_type": "markdown",
   "id": "a625e92a",
   "metadata": {},
   "source": [
    "### a. Mathematical Operations on 1-D Array"
   ]
  },
  {
   "cell_type": "code",
   "execution_count": 16,
   "id": "cf755e36",
   "metadata": {},
   "outputs": [
    {
     "name": "stdout",
     "output_type": "stream",
     "text": [
      "Original ndarray:  [ 7.33782623 -1.74813738 -6.72912821  2.00142176 -5.62653831]\n"
     ]
    }
   ],
   "source": [
    "# Creating 1-D array of 5 elements of random floats between 1 and 10\n",
    "arr = np.random.randn(5)*10\n",
    "print(\"Original ndarray: \", arr)\n",
    "\n",
    "\n"
   ]
  },
  {
   "cell_type": "code",
   "execution_count": 41,
   "id": "5193c0ec",
   "metadata": {},
   "outputs": [
    {
     "name": "stdout",
     "output_type": "stream",
     "text": [
      "np.abs(arr) =  [7.33782623 1.74813738 6.72912821 2.00142176 5.62653831]\n",
      "np.abs(arr) =  [7.33782623 1.74813738 6.72912821 2.00142176 5.62653831]\n",
      "np.square(arr) =  [53.84369379  3.05598428 45.28116649  4.00568905 31.65793332]\n",
      "np.sqrt(arr) =  [2.70884223 1.32217146 2.59405632 1.41471614 2.37203253]\n",
      "np.cbrt(arr) =  [ 1.94322225 -1.20464344 -1.88793165  1.26021953 -1.77860876]\n",
      "np.log(arr) =  [1.99304264 0.55855086 1.9064456  0.69385781 1.72749439]\n",
      "np.log2(arr) =  [2.87535274 0.80581856 2.75041961 1.00102522 2.49224759]\n",
      "np.log10(arr) =  [0.86556742 0.24257556 0.8279588  0.30133862 0.75024128]\n",
      "np.isnan(arr) =  [False False False False False]\n",
      "np.ceil(arr) =  [ 8. -1. -6.  3. -5.]\n",
      "np.floor(arr) =  [ 7. -2. -7.  2. -6.]\n",
      "np.cumsum(arr) =  [ 7.33782623  5.58968886 -1.13943936  0.8619824  -4.76455591]\n"
     ]
    }
   ],
   "source": [
    "# After the operation a new `ndarray` is returned, which is a copy of the original array with the operation performed\n",
    "\n",
    "print(\"np.abs(arr) = \", np.abs(arr))\n",
    "print(\"np.abs(arr) = \", np.fabs(arr))\n",
    "\n",
    "print(\"np.square(arr) = \", np.square(arr))\n",
    "print(\"np.sqrt(arr) = \", np.sqrt(np.abs(arr)))\n",
    "print(\"np.cbrt(arr) = \", np.cbrt(arr))\n",
    "print(\"np.log(arr) = \", np.log(np.abs(arr)))\n",
    "print(\"np.log2(arr) = \", np.log2(np.abs(arr)))\n",
    "print(\"np.log10(arr) = \", np.log10(np.abs(arr)))\n",
    "print(\"np.isnan(arr) = \", np.isnan(arr))\n",
    "print(\"np.ceil(arr) = \", np.ceil(arr))\n",
    "print(\"np.floor(arr) = \", np.floor(arr))\n",
    "print(\"np.cumsum(arr) = \", np.cumsum(arr))"
   ]
  },
  {
   "cell_type": "code",
   "execution_count": null,
   "id": "bd63c406",
   "metadata": {},
   "outputs": [],
   "source": []
  },
  {
   "cell_type": "markdown",
   "id": "51e8cef6",
   "metadata": {},
   "source": [
    "### b. Mathematical Operations on 2-D Array"
   ]
  },
  {
   "cell_type": "code",
   "execution_count": 44,
   "id": "71a1ae23",
   "metadata": {},
   "outputs": [
    {
     "name": "stdout",
     "output_type": "stream",
     "text": [
      "matrix: \n",
      " [[2 9]\n",
      " [5 7]]\n"
     ]
    }
   ],
   "source": [
    "import numpy as np\n",
    "# Create a 2x2 matrix with random integers  between 1 to 9\n",
    "matrix = np.random.randint(1,10, size=(2, 2))\n",
    "print(\"matrix: \\n\", matrix)\n"
   ]
  },
  {
   "cell_type": "code",
   "execution_count": 48,
   "id": "afdd4b87",
   "metadata": {},
   "outputs": [
    {
     "name": "stdout",
     "output_type": "stream",
     "text": [
      "np.square(matrix) = \n",
      " [[ 4 81]\n",
      " [25 49]]\n",
      "np.sqrt(matrix) = \n",
      " [[1.41421356 3.        ]\n",
      " [2.23606798 2.64575131]]\n",
      "np.log2(matrix) = \n",
      " [[1.         3.169925  ]\n",
      " [2.32192809 2.80735492]]\n",
      "np.isnan(matrix) = \n",
      " [[False False]\n",
      " [False False]]\n",
      "np.ceil(matrix) = \n",
      " [[2. 9.]\n",
      " [5. 7.]]\n",
      "np.floor(matrix) = \n",
      " [[2. 9.]\n",
      " [5. 7.]]\n",
      "np.cumsum(matrix) = \n",
      " [ 2 11 16 23]\n"
     ]
    }
   ],
   "source": [
    "\n",
    "# After the operation a new `ndarray` is returned, \n",
    "#which is a copy of the original array with the operation performed\n",
    "print(\"np.square(matrix) = \\n\", np.square(matrix))\n",
    "print(\"np.sqrt(matrix) = \\n\", np.sqrt(matrix))\n",
    "print(\"np.log2(matrix) = \\n\", np.log2(matrix))\n",
    "print(\"np.isnan(matrix) = \\n\", np.isnan(matrix))\n",
    "print(\"np.ceil(matrix) = \\n\", np.ceil(matrix))\n",
    "print(\"np.floor(matrix) = \\n\", np.floor(matrix))\n",
    "print(\"np.cumsum(matrix) = \\n\", np.cumsum(matrix))"
   ]
  },
  {
   "cell_type": "code",
   "execution_count": null,
   "id": "cfd72fa3",
   "metadata": {},
   "outputs": [],
   "source": []
  },
  {
   "cell_type": "markdown",
   "id": "c5d411d3",
   "metadata": {},
   "source": [
    "## 4. Aggregate Functions"
   ]
  },
  {
   "cell_type": "markdown",
   "id": "dde44c0c",
   "metadata": {},
   "source": [
    "### a. Aggregate Functions on 1-D Arrays"
   ]
  },
  {
   "cell_type": "code",
   "execution_count": 50,
   "id": "1d8605be",
   "metadata": {},
   "outputs": [
    {
     "name": "stdout",
     "output_type": "stream",
     "text": [
      "arr:  [1 7 9 3 6]\n"
     ]
    }
   ],
   "source": [
    "# Create a 1-D array having 5 random integers from 1 to 9\n",
    "arr = np.random.randint(1, 10, size=5)\n",
    "print(\"arr: \", arr)"
   ]
  },
  {
   "cell_type": "code",
   "execution_count": null,
   "id": "9e9d9647",
   "metadata": {},
   "outputs": [],
   "source": []
  },
  {
   "cell_type": "code",
   "execution_count": 56,
   "id": "cebfc963",
   "metadata": {},
   "outputs": [
    {
     "name": "stdout",
     "output_type": "stream",
     "text": [
      "np.min(arr) =  1\n",
      "np.max(arr) =  9\n",
      "np.sum(arr) =  26\n",
      "np.prod(arr) =  1134\n"
     ]
    }
   ],
   "source": [
    "# After the operation a new `ndarray` is returned, which is a copy of the original array with the operation performed\n",
    "print(\"np.min(arr) = \",     np.min(arr))\n",
    "print(\"np.max(arr) = \",     np.max(arr))\n",
    "print(\"np.sum(arr) = \",     np.sum(arr))\n",
    "print(\"np.prod(arr) = \", np.prod(arr))"
   ]
  },
  {
   "cell_type": "code",
   "execution_count": 57,
   "id": "351b8a6a",
   "metadata": {},
   "outputs": [
    {
     "name": "stdout",
     "output_type": "stream",
     "text": [
      "arr:  [8 8 2 6 9]\n"
     ]
    }
   ],
   "source": [
    "# Create a 1-D array having 5 random integers from 1 to 9\n",
    "arr = np.random.randint(1, 10, size=5)\n",
    "print(\"arr: \", arr)\n",
    "\n"
   ]
  },
  {
   "cell_type": "code",
   "execution_count": 63,
   "id": "8a8c075d",
   "metadata": {},
   "outputs": [
    {
     "name": "stdout",
     "output_type": "stream",
     "text": [
      "np.mean(arr) =  6.6\n",
      "np.average(arr) =  6.6\n",
      "\n",
      "arr1:  [1 2 3 4]\n",
      "wts:   [4 3 2 1]\n",
      "np.average(arr1, weights=wts) =  2.0\n",
      "np.mean(arr) =  2.5\n"
     ]
    }
   ],
   "source": [
    "#Arithmetic mean is the sum of elements along an axis divided by the number of elements. \n",
    "print(\"np.mean(arr) = \",    np.mean(arr))\n",
    "\n",
    "# The np.average() function computes the weighted average, by multiplying of each array element by its weight\n",
    "# The np.average() is same as np.mean(), when weight is not specified\n",
    "print(\"np.average(arr) = \", np.average(arr))\n",
    "\n",
    "# Considering an array [1,2,3,4] and corresponding weights [4,3,2,1], the weighted average is calculated by \n",
    "# adding the product of the corresponding elements and dividing the sum by the sum of weights.\n",
    "#             Weighted average = (1*4+2*3+3*2+4*1)/(4+3+2+1)\n",
    "\n",
    "arr1 = np.array([1,2,3,4])\n",
    "wts = np.array([4,3,2,1])\n",
    "print(\"\\narr1: \", arr1)\n",
    "print(\"wts:  \", wts)\n",
    "print(\"np.average(arr1, weights=wts) = \", np.average(arr1, weights= wts))\n",
    "print(\"np.mean(arr) = \",    np.mean(arr1))\n",
    "\n"
   ]
  },
  {
   "cell_type": "code",
   "execution_count": null,
   "id": "7a46860d",
   "metadata": {},
   "outputs": [],
   "source": []
  },
  {
   "cell_type": "code",
   "execution_count": 64,
   "id": "65a99fd8",
   "metadata": {},
   "outputs": [
    {
     "name": "stdout",
     "output_type": "stream",
     "text": [
      "arr:  [21 15 70 86 32 28 40 34 40 91]\n"
     ]
    }
   ],
   "source": [
    "# Create a 1-D array having 10 random integers from 1 to 99\n",
    "arr = np.random.randint(1, 100, size=10)\n",
    "print(\"arr: \", arr)\n",
    "\n"
   ]
  },
  {
   "cell_type": "code",
   "execution_count": 71,
   "id": "39648ba7",
   "metadata": {},
   "outputs": [
    {
     "name": "stdout",
     "output_type": "stream",
     "text": [
      "np.median(arr) =  37.0\n",
      "np.percentile(arr,50) =  37.0\n",
      "np.percentile(arr,0) =  15.0\n",
      "np.percentile(arr,100) =  91.0\n",
      "np.percentile(arr,75) =  62.5\n",
      "np.var(arr) =  652.21\n",
      "np.std(arr) =  25.538402455909416\n"
     ]
    }
   ],
   "source": [
    "# Median is the value separating the higher half of a data sample from the lower half.\n",
    "print(\"np.median(arr) = \",  np.median(arr))\n",
    "\n",
    "# Percentile is the value below which a given percentage of observations in a group of observations fall.\n",
    "# 50th percentile is the score at or below which 50% of the scores in the distribution may be found.\n",
    "print(\"np.percentile(arr,50) = \",     np.percentile(arr,50))\n",
    "print(\"np.percentile(arr,0) = \",     np.percentile(arr,0))\n",
    "print(\"np.percentile(arr,100) = \",     np.percentile(arr,100))\n",
    "print(\"np.percentile(arr,75) = \",     np.percentile(arr,75))\n",
    "\n",
    "\n",
    "# The variance measures the average degree to which each point differs from the mean\n",
    "# Variance is calculated as the average of squared deviations from mean, i.e., mean((x - x.mean())**2).\n",
    "print(\"np.var(arr) = \",    np.var(arr))\n",
    "\n",
    "\n",
    "# Standard deviation checks how spread out a group of numbers is from the mean\n",
    "# It is the square root of variance: sqrt(mean((x - x.mean())**2))\n",
    "print(\"np.std(arr) = \",    np.std(arr))\n"
   ]
  },
  {
   "cell_type": "markdown",
   "id": "c12623e8",
   "metadata": {},
   "source": [
    "### b. Aggregate Functions on 2-D Arrays"
   ]
  },
  {
   "cell_type": "code",
   "execution_count": 74,
   "id": "4c71de42",
   "metadata": {},
   "outputs": [
    {
     "name": "stdout",
     "output_type": "stream",
     "text": [
      "matrix: \n",
      " [[7 3 5]\n",
      " [6 7 7]\n",
      " [7 8 8]]\n",
      "np.sum(matrix, axis=0) =  [20 18 20]\n",
      "np.sum(matrix, axis=1) =  [15 20 23]\n"
     ]
    }
   ],
   "source": [
    "import numpy as np\n",
    "# Create a 3x3 (2-D array) initialized with random integers from 1 to 9\n",
    "matrix = np.random.randint(1,10, size=(3, 3))\n",
    "print(\"matrix: \\n\", matrix)\n",
    "\n",
    "print(\"np.sum(matrix, axis=0) = \",     np.sum(matrix, axis=0))\n",
    "print(\"np.sum(matrix, axis=1) = \",     np.sum(matrix, axis=1))\n",
    "\n",
    "# Here axis=0 represents, all operations according to columns.\n",
    "# Here axis=1 represents, all operations according to rows.\n",
    "# When we perform aggregate functions on 2-D arrays, then we must pass axis argument."
   ]
  },
  {
   "cell_type": "code",
   "execution_count": null,
   "id": "83020163",
   "metadata": {},
   "outputs": [],
   "source": []
  },
  {
   "cell_type": "code",
   "execution_count": 75,
   "id": "cf45b9d3",
   "metadata": {},
   "outputs": [
    {
     "name": "stdout",
     "output_type": "stream",
     "text": [
      "matrix: \n",
      " [[7 5 1]\n",
      " [7 7 2]\n",
      " [9 4 8]]\n",
      "np.min(matrix, axis=0) =  [7 4 1]\n",
      "np.min(matrix, axis=1) =  [1 2 4]\n"
     ]
    }
   ],
   "source": [
    "# Create a 3x3 (2-D array) initialized with random integers from 1 to 9\n",
    "matrix = np.random.randint(1,10, size=(3, 3))\n",
    "print(\"matrix: \\n\", matrix)\n",
    "\n",
    "print(\"np.min(matrix, axis=0) = \",     np.min(matrix, axis=0))\n",
    "print(\"np.min(matrix, axis=1) = \",     np.min(matrix, axis=1))"
   ]
  },
  {
   "cell_type": "code",
   "execution_count": null,
   "id": "93165a2e",
   "metadata": {},
   "outputs": [],
   "source": []
  },
  {
   "cell_type": "code",
   "execution_count": 76,
   "id": "ded4bbd3",
   "metadata": {},
   "outputs": [
    {
     "name": "stdout",
     "output_type": "stream",
     "text": [
      "matrix: \n",
      " [[8 2 1]\n",
      " [9 7 6]\n",
      " [2 8 4]]\n",
      "np.mean(matrix, axis=0) =  [6.33333333 5.66666667 3.66666667]\n",
      "np.mean(matrix, axis=1) =  [3.66666667 7.33333333 4.66666667]\n"
     ]
    }
   ],
   "source": [
    "# Create a 3x3 (2-D array) initialized with random integers from 1 to 9\n",
    "matrix = np.random.randint(1,10, size=(3, 3))\n",
    "print(\"matrix: \\n\", matrix)\n",
    "\n",
    "\n",
    "print(\"np.mean(matrix, axis=0) = \",     np.mean(matrix, axis=0))\n",
    "print(\"np.mean(matrix, axis=1) = \",     np.mean(matrix, axis=1))"
   ]
  },
  {
   "cell_type": "code",
   "execution_count": null,
   "id": "94152beb",
   "metadata": {},
   "outputs": [],
   "source": []
  },
  {
   "cell_type": "code",
   "execution_count": null,
   "id": "10b61422",
   "metadata": {},
   "outputs": [],
   "source": []
  },
  {
   "cell_type": "code",
   "execution_count": 77,
   "id": "1ed39e0c",
   "metadata": {},
   "outputs": [
    {
     "name": "stdout",
     "output_type": "stream",
     "text": [
      "matrix: \n",
      " [[5 9 7]\n",
      " [1 1 7]\n",
      " [9 2 5]]\n",
      "np.median(matrix, axis=0) =  [5. 2. 7.]\n",
      "np.median(matrix, axis=1) =  [7. 1. 5.]\n"
     ]
    }
   ],
   "source": [
    "# Create a 3x3 (2-D array) initialized with random integers from 1 to 9\n",
    "matrix = np.random.randint(1,10, size=(3, 3))\n",
    "print(\"matrix: \\n\", matrix)\n",
    "\n",
    "# Median is the value separating the higher half of a data sample from the lower half.\n",
    "print(\"np.median(matrix, axis=0) = \",     np.median(matrix, axis=0))\n",
    "print(\"np.median(matrix, axis=1) = \",     np.median(matrix, axis=1))"
   ]
  },
  {
   "cell_type": "markdown",
   "id": "8b4429f9",
   "metadata": {},
   "source": [
    "Please do practice calculating the percentile, variance and standard deviation along different axis of a 2-D array"
   ]
  },
  {
   "cell_type": "code",
   "execution_count": null,
   "id": "dce99a00",
   "metadata": {},
   "outputs": [],
   "source": []
  },
  {
   "cell_type": "markdown",
   "id": "32fde252",
   "metadata": {},
   "source": [
    "## 5. Comparing NumPy Arrays"
   ]
  },
  {
   "cell_type": "markdown",
   "id": "624dfa93",
   "metadata": {},
   "source": [
    "### a. Comparing NumPy 1-D Arrays\n",
    "- Returns a Boolean numpy array containing True/False after doing element wise comparison"
   ]
  },
  {
   "cell_type": "code",
   "execution_count": 82,
   "id": "6fc80b92",
   "metadata": {},
   "outputs": [
    {
     "name": "stdout",
     "output_type": "stream",
     "text": [
      "arr1:  [8 1 4 4]\n",
      "arr2:  [1 2 7 4]\n"
     ]
    }
   ],
   "source": [
    "import numpy as np\n",
    "# Create two 1-D arrays each having 4 random integers from 1 to 9\n",
    "arr1 = np.random.randint(1,10, size=4)\n",
    "arr2 = np.random.randint(1,10, size=4)\n",
    "print(\"arr1: \", arr1)\n",
    "print(\"arr2: \", arr2)"
   ]
  },
  {
   "cell_type": "code",
   "execution_count": 88,
   "id": "c20a9ed4",
   "metadata": {},
   "outputs": [
    {
     "name": "stdout",
     "output_type": "stream",
     "text": [
      "np.equal(arr1, arr2) =  [False False False  True]\n",
      "np.not_equal(arr1, arr2) =  [ True  True  True False]\n",
      "np.greater(arr1, arr2) =  [ True False False False]\n",
      "np.greater_equal(arr1, arr2) =  [ True False False  True]\n",
      "np.less(arr1, arr2) =  [False  True  True False]\n",
      "np.less_equal(arr1, arr2) =  [False  True  True  True]\n"
     ]
    }
   ],
   "source": [
    "\n",
    "print(\"np.equal(arr1, arr2) = \",      arr1 == arr2)      # np.equal(arr1, arr2)\n",
    "print(\"np.not_equal(arr1, arr2) = \",  arr1 != arr2)      # np.not_equal(arr1, arr2)\n",
    "\n",
    "print(\"np.greater(arr1, arr2) = \",      arr1 > arr2)     # np.greater(arr1, arr2)\n",
    "print(\"np.greater_equal(arr1, arr2) = \",  arr1 >= arr2)  # np.greater_equal(arr1, arr2)\n",
    "\n",
    "print(\"np.less(arr1, arr2) = \",      arr1 < arr2)        # np.less(arr1, arr2)\n",
    "print(\"np.less_equal(arr1, arr2) = \",  arr1 <= arr2)     # np.less_equal(arr1, arr2)"
   ]
  },
  {
   "cell_type": "markdown",
   "id": "d03fa4fb",
   "metadata": {},
   "source": [
    "### b. Comparing NumPy 2-D Arrays"
   ]
  },
  {
   "cell_type": "code",
   "execution_count": 89,
   "id": "b65058ea",
   "metadata": {},
   "outputs": [
    {
     "name": "stdout",
     "output_type": "stream",
     "text": [
      "matrix1: \n",
      " [[9 8]\n",
      " [4 2]]\n",
      "matrix2: \n",
      " [[2 3]\n",
      " [9 1]]\n"
     ]
    }
   ],
   "source": [
    "import numpy as np\n",
    "# Create a 2x2 matrix with random integers  between 1 to 9\n",
    "matrix1 = np.random.randint(1,10, size=(2, 2))\n",
    "matrix2 = np.random.randint(1, 10, size=(2, 2))\n",
    "print(\"matrix1: \\n\", matrix1)\n",
    "print(\"matrix2: \\n\", matrix2)\n",
    "\n"
   ]
  },
  {
   "cell_type": "code",
   "execution_count": 90,
   "id": "1159671e",
   "metadata": {},
   "outputs": [
    {
     "name": "stdout",
     "output_type": "stream",
     "text": [
      "np.equal(matrix1, matrix2) = \n",
      " [[False False]\n",
      " [False False]]\n",
      "np.not_equal(matrix1, matrix2) = \n",
      " [[ True  True]\n",
      " [ True  True]]\n",
      "np.greater(matrix1, matrix2) = \n",
      " [[ True  True]\n",
      " [False  True]]\n",
      "np.greater_equal(matrix1, matrix2) = \n",
      " [[ True  True]\n",
      " [False  True]]\n",
      "np.less(matrix1, matrix2) = \n",
      " [[False False]\n",
      " [ True False]]\n",
      "np.less_equal(matrix1, matrix2) = \n",
      " [[False False]\n",
      " [ True False]]\n"
     ]
    }
   ],
   "source": [
    "\n",
    "\n",
    "print(\"np.equal(matrix1, matrix2) = \\n\",        matrix1 == matrix2)     \n",
    "print(\"np.not_equal(matrix1, matrix2) = \\n\",    matrix1 != matrix2)     \n",
    "\n",
    "print(\"np.greater(matrix1, matrix2) = \\n\",      matrix1 > matrix2)    \n",
    "print(\"np.greater_equal(matrix1, matrix2) = \\n\",matrix1 >= matrix2) \n",
    "\n",
    "print(\"np.less(matrix1, matrix2) = \\n\",         matrix1 < matrix2)       \n",
    "print(\"np.less_equal(matrix1, matrix2) = \\n\",   matrix1 <= matrix2)     "
   ]
  },
  {
   "cell_type": "code",
   "execution_count": null,
   "id": "d30cf8c1",
   "metadata": {},
   "outputs": [],
   "source": []
  },
  {
   "cell_type": "markdown",
   "id": "4ed923c8",
   "metadata": {},
   "source": [
    "## 6. Searching NumPy Arrays using `numpy.where()`"
   ]
  },
  {
   "cell_type": "markdown",
   "id": "7a15d751",
   "metadata": {},
   "source": [
    "### a. Searching NumPy 1-D Arrays"
   ]
  },
  {
   "cell_type": "markdown",
   "id": "bfcf9f08",
   "metadata": {},
   "source": [
    "- The `numpy.where()` method is used to search NumPy arrays for the index values of any element which matches the condition passed as a parameter to the function.\n",
    "```\n",
    "numpy.where(condition, [x, y])\n",
    "```\n",
    "    - condition : When True, yield x, otherwise yield y. If x and y are not given just return the value of the array\n",
    "    - Returns: ndarray or tuple of ndarrays. If both x and y are specified, the output array contains elements of x where condition is True, and elements from y elsewhere."
   ]
  },
  {
   "cell_type": "code",
   "execution_count": 91,
   "id": "0a209cc5",
   "metadata": {},
   "outputs": [
    {
     "name": "stdout",
     "output_type": "stream",
     "text": [
      "(array([3, 5, 6]),)\n"
     ]
    }
   ],
   "source": [
    "import numpy as np\n",
    "arr = np.array([1, 2, 3, 4, 5, 4, 4, 9, 2, 3, 8])\n",
    "t1 = np.where(arr == 4)\n",
    "print(t1)"
   ]
  },
  {
   "cell_type": "code",
   "execution_count": null,
   "id": "1b4fa4ae",
   "metadata": {},
   "outputs": [],
   "source": []
  },
  {
   "cell_type": "markdown",
   "id": "24865ae5",
   "metadata": {},
   "source": [
    "Note: The result is a tuple of 1-D arrays having a single tuple containing the index"
   ]
  },
  {
   "cell_type": "code",
   "execution_count": 92,
   "id": "e1db54c3",
   "metadata": {},
   "outputs": [
    {
     "name": "stdout",
     "output_type": "stream",
     "text": [
      "(array([1, 6]),)\n"
     ]
    }
   ],
   "source": [
    "import numpy as np\n",
    "arr = np.array([1, 0, 3, 9, 5, 2, 0, 8])\n",
    "t1 = np.where(arr == 0)\n",
    "print(t1)"
   ]
  },
  {
   "cell_type": "code",
   "execution_count": 93,
   "id": "7c6fe56b",
   "metadata": {},
   "outputs": [
    {
     "name": "stdout",
     "output_type": "stream",
     "text": [
      "(array([1, 3, 5, 7]),)\n"
     ]
    }
   ],
   "source": [
    "import numpy as np\n",
    "arr = np.array([1, 2, 3, 4, 5, 6, 7, 8])\n",
    "t1 = np.where(arr%2 == 0)\n",
    "print(t1)"
   ]
  },
  {
   "cell_type": "code",
   "execution_count": null,
   "id": "c96f2079",
   "metadata": {},
   "outputs": [],
   "source": []
  },
  {
   "cell_type": "code",
   "execution_count": null,
   "id": "e5071b86",
   "metadata": {},
   "outputs": [],
   "source": []
  },
  {
   "cell_type": "code",
   "execution_count": 94,
   "id": "4f82105f",
   "metadata": {},
   "outputs": [
    {
     "name": "stdout",
     "output_type": "stream",
     "text": [
      "['no' 'yes' 'no' 'yes' 'no' 'yes' 'no' 'yes']\n"
     ]
    }
   ],
   "source": [
    "import numpy as np\n",
    "arr = np.array([1, 2, 3, 4, 5, 6, 7, 8])\n",
    "t1 = np.where(arr%2 == 0, 'yes', 'no')\n",
    "print(t1)"
   ]
  },
  {
   "cell_type": "code",
   "execution_count": 95,
   "id": "447aaff5",
   "metadata": {},
   "outputs": [
    {
     "name": "stdout",
     "output_type": "stream",
     "text": [
      "[False  True False  True False  True False  True]\n"
     ]
    }
   ],
   "source": [
    "import numpy as np\n",
    "arr = np.array([1, 2, 3, 4, 5, 6, 7, 8])\n",
    "t1 = np.where(arr%2 == 0, True, False)\n",
    "print(t1)"
   ]
  },
  {
   "cell_type": "markdown",
   "id": "f7f2c65c",
   "metadata": {},
   "source": [
    "Note: The result is a simple 1-D array, when you use the x and y arguments to `np.where()`"
   ]
  },
  {
   "cell_type": "code",
   "execution_count": null,
   "id": "336bb2e8",
   "metadata": {},
   "outputs": [],
   "source": []
  },
  {
   "cell_type": "markdown",
   "id": "57f89640",
   "metadata": {},
   "source": [
    "### b. Searching NumPy 2-D Arrays"
   ]
  },
  {
   "cell_type": "markdown",
   "id": "b63342d5",
   "metadata": {},
   "source": [
    "- The `numpy.where()` method is used to search NumPy arrays for the index values of any element which matches the condition passed as a parameter to the function.\n",
    "```\n",
    "numpy.where(condition, [x, y])\n",
    "```\n",
    "    - condition : When True, yield x, otherwise yield y. If x and y are not given just return the value of the array\n",
    "    - Returns: ndarray or tuple of ndarrays. If both x and y are specified, the output array contains elements of x where condition is True, and elements from y elsewhere."
   ]
  },
  {
   "cell_type": "code",
   "execution_count": 97,
   "id": "fde6ed1e",
   "metadata": {
    "scrolled": true
   },
   "outputs": [
    {
     "name": "stdout",
     "output_type": "stream",
     "text": [
      "matrix: \n",
      " [[1 2 3]\n",
      " [4 5 4]\n",
      " [4 9 2]\n",
      " [3 8 6]]\n",
      "(array([1, 1, 2]), array([0, 2, 0]))\n"
     ]
    }
   ],
   "source": [
    "import numpy as np\n",
    "matrix = np.array([[1, 2, 3], [4, 5, 4], [4, 9, 2], [3, 8, 6]])\n",
    "print(\"matrix: \\n\", matrix)\n",
    "t1 = np.where(matrix == 4)\n",
    "print(t1)"
   ]
  },
  {
   "cell_type": "code",
   "execution_count": null,
   "id": "52ab9e30",
   "metadata": {},
   "outputs": [],
   "source": []
  },
  {
   "cell_type": "markdown",
   "id": "1ae934c6",
   "metadata": {},
   "source": [
    "**Note:** The result is a tuple of 1-D arrays having two tuples. The condition is true for three elements at indices `(1,0)`, `(1,2)` and `(2,0)`"
   ]
  },
  {
   "cell_type": "code",
   "execution_count": null,
   "id": "07e93d93",
   "metadata": {},
   "outputs": [],
   "source": []
  },
  {
   "cell_type": "code",
   "execution_count": 99,
   "id": "24c55c5c",
   "metadata": {},
   "outputs": [
    {
     "name": "stdout",
     "output_type": "stream",
     "text": [
      "matrix: \n",
      " [[1 2 0]\n",
      " [4 5 0]\n",
      " [4 9 2]\n",
      " [3 0 6]]\n",
      "(array([0, 1, 3]), array([2, 2, 1]))\n"
     ]
    }
   ],
   "source": [
    "import numpy as np\n",
    "matrix = np.array([[1, 2, 0], [4, 5, 0], [4, 9, 2], [3, 0, 6]])\n",
    "print(\"matrix: \\n\", matrix)\n",
    "t1 = np.where(matrix == 0)\n",
    "print(t1)"
   ]
  },
  {
   "cell_type": "markdown",
   "id": "58c391db",
   "metadata": {},
   "source": [
    "**Note:** The result is a tuple of 1-D arrays having two tuples. The condition is true for three elements at indices:\n",
    "`(0,2)`, `(1,2)` and `(3,1)`"
   ]
  },
  {
   "cell_type": "code",
   "execution_count": null,
   "id": "80ba08eb",
   "metadata": {},
   "outputs": [],
   "source": []
  },
  {
   "cell_type": "code",
   "execution_count": null,
   "id": "d6ebe838",
   "metadata": {},
   "outputs": [],
   "source": []
  },
  {
   "cell_type": "code",
   "execution_count": 101,
   "id": "e901346d",
   "metadata": {},
   "outputs": [
    {
     "name": "stdout",
     "output_type": "stream",
     "text": [
      "matrix: \n",
      " [[1 2 3]\n",
      " [5 7 3]\n",
      " [4 9 1]\n",
      " [3 5 3]]\n",
      "(array([0, 2]), array([1, 0]))\n"
     ]
    }
   ],
   "source": [
    "import numpy as np\n",
    "matrix = np.array([[1, 2, 3], [5, 7, 3], [4, 9, 1], [3, 5, 3]])\n",
    "print(\"matrix: \\n\", matrix)\n",
    "t1 = np.where(matrix%2 == 0)\n",
    "print(t1)"
   ]
  },
  {
   "cell_type": "markdown",
   "id": "4358b8be",
   "metadata": {},
   "source": [
    "**Note:** The result is a tuple of 1-D arrays having two tuples. The condition is true for two elements at indices:\n",
    "`(0,2)` and `(1,0)`"
   ]
  },
  {
   "cell_type": "code",
   "execution_count": null,
   "id": "9134a9aa",
   "metadata": {},
   "outputs": [],
   "source": []
  },
  {
   "cell_type": "code",
   "execution_count": null,
   "id": "1449c662",
   "metadata": {},
   "outputs": [],
   "source": []
  },
  {
   "cell_type": "code",
   "execution_count": 102,
   "id": "86e4c330",
   "metadata": {},
   "outputs": [
    {
     "name": "stdout",
     "output_type": "stream",
     "text": [
      "matrix: \n",
      " [[1 2 3]\n",
      " [5 7 3]\n",
      " [4 9 1]\n",
      " [3 5 3]]\n",
      "[[False  True False]\n",
      " [False False False]\n",
      " [ True False False]\n",
      " [False False False]]\n"
     ]
    }
   ],
   "source": [
    "import numpy as np\n",
    "matrix = np.array([[1, 2, 3], [5, 7, 3], [4, 9, 1], [3, 5, 3]])\n",
    "print(\"matrix: \\n\", matrix)\n",
    "t1 = np.where(matrix%2 == 0, True, False)\n",
    "print(t1)"
   ]
  },
  {
   "cell_type": "markdown",
   "id": "b9dad9b8",
   "metadata": {},
   "source": [
    "**Note:** The result is a simple 2-D array, when you use the `x` and `y` arguments to `np.where()`"
   ]
  },
  {
   "cell_type": "code",
   "execution_count": null,
   "id": "0d58aba7",
   "metadata": {},
   "outputs": [],
   "source": []
  },
  {
   "cell_type": "markdown",
   "id": "4954db63",
   "metadata": {},
   "source": [
    "## Check Your Concepts:\n",
    "- What is the purpose of `random.randint` function?\n",
    "- Create a numpy array of 10 random numbers between `-10 to +10`, and find median, std, and mean of numpy array.\n",
    "- After performing scalar operations on `1-D array`, what is the return type of new array?"
   ]
  },
  {
   "cell_type": "code",
   "execution_count": 104,
   "id": "5aa6bfb6",
   "metadata": {},
   "outputs": [
    {
     "data": {
      "text/plain": [
       "array([ 8,  1, -9, -9, -8,  4,  4,  7, -6, -6])"
      ]
     },
     "execution_count": 104,
     "metadata": {},
     "output_type": "execute_result"
    }
   ],
   "source": [
    "a = np.random.randint(-10,10,10)\n",
    "a"
   ]
  },
  {
   "cell_type": "code",
   "execution_count": 107,
   "id": "11930bee",
   "metadata": {},
   "outputs": [
    {
     "data": {
      "text/plain": [
       "(-2.5, 6.514598989960932, -1.4)"
      ]
     },
     "execution_count": 107,
     "metadata": {},
     "output_type": "execute_result"
    }
   ],
   "source": [
    "np.median(a), np.std(a), np.mean(a)"
   ]
  },
  {
   "cell_type": "markdown",
   "id": "c7b9eda9",
   "metadata": {},
   "source": [
    "### NumPy Basic: Exercises and Practice with Solution"
   ]
  },
  {
   "cell_type": "markdown",
   "id": "4a89c367",
   "metadata": {},
   "source": [
    "#### Write a NumPy program to get the numpy version and show numpy build configuration."
   ]
  },
  {
   "cell_type": "code",
   "execution_count": 109,
   "id": "da678ec9",
   "metadata": {},
   "outputs": [
    {
     "name": "stdout",
     "output_type": "stream",
     "text": [
      "Numpy version :  1.22.3\n",
      "Numpy configuration : \n"
     ]
    }
   ],
   "source": [
    "import numpy as np\n",
    "print(\"Numpy version : \", np.__version__)\n",
    "print(\"Numpy configuration : \")\n",
    "# np.show_config()"
   ]
  },
  {
   "cell_type": "markdown",
   "id": "eb9121e4",
   "metadata": {},
   "source": [
    "#### Write a NumPy program to  get help on the add function."
   ]
  },
  {
   "cell_type": "code",
   "execution_count": null,
   "id": "b892ba5e",
   "metadata": {},
   "outputs": [],
   "source": [
    "# First Method\n",
    "# help(np.add)\n",
    "\n",
    "# Second Method\n",
    "np.info(np.add)"
   ]
  },
  {
   "cell_type": "code",
   "execution_count": null,
   "id": "44093bc8",
   "metadata": {},
   "outputs": [],
   "source": []
  },
  {
   "cell_type": "markdown",
   "id": "03d8f716",
   "metadata": {},
   "source": [
    "#### Write a NumPy program to test whether none of the elements of a given array is zero."
   ]
  },
  {
   "cell_type": "code",
   "execution_count": null,
   "id": "c838b3df",
   "metadata": {},
   "outputs": [],
   "source": []
  },
  {
   "cell_type": "code",
   "execution_count": 129,
   "id": "c50227c3",
   "metadata": {},
   "outputs": [
    {
     "name": "stdout",
     "output_type": "stream",
     "text": [
      "Zero is present in given array!\n"
     ]
    }
   ],
   "source": [
    "# First method\n",
    "array = np.array([3,4,0,5,7,7,8,7,87,98,98,12])\n",
    "for i in array:\n",
    "    if i==0:\n",
    "        print(\"Zero is present in given array!\")\n",
    "        break\n",
    "else:\n",
    "    print(\"Zero is not present in given array!\")\n",
    "        "
   ]
  },
  {
   "cell_type": "code",
   "execution_count": 133,
   "id": "0f4698f9",
   "metadata": {},
   "outputs": [
    {
     "name": "stdout",
     "output_type": "stream",
     "text": [
      "Original array : \n",
      "[ 3  4  5  7  7  8  7 87 98 98 12]\n",
      "Test if none of the elements of the said array is zero: True\n"
     ]
    }
   ],
   "source": [
    "# Second Method\n",
    "array = np.array([3,4,5,7,7,8,7,87,98,98,12])\n",
    "print(\"Original array : \")\n",
    "print(array)\n",
    "x  = np.all(array)\n",
    "print(\"Test if none of the elements of the said array is zero:\", x)"
   ]
  },
  {
   "cell_type": "code",
   "execution_count": 134,
   "id": "4830edc1",
   "metadata": {},
   "outputs": [
    {
     "name": "stdout",
     "output_type": "stream",
     "text": [
      "Original array :  [ 3  4  0  5  7  7  8  7 87  0 98 12]\n",
      "Test if none of the elements of the said array is zero: False\n"
     ]
    }
   ],
   "source": [
    "array1 = np.array([3,4,0,5,7,7,8,7,87,0,98,12])\n",
    "print(\"Original array : \", array1)\n",
    "print(\"Test if none of the elements of the said array is zero:\",np.all(array1))"
   ]
  },
  {
   "cell_type": "markdown",
   "id": "5d7491f8",
   "metadata": {},
   "source": [
    "#### Write a NumPy program to test whether any of the elements of a given array is non-zero.\n",
    "<img src=\"images/numpy-basic-image-exercise-4.png\" height=400px width=400px>"
   ]
  },
  {
   "cell_type": "code",
   "execution_count": null,
   "id": "aebc47c5",
   "metadata": {},
   "outputs": [],
   "source": []
  },
  {
   "cell_type": "code",
   "execution_count": 135,
   "id": "86129764",
   "metadata": {},
   "outputs": [
    {
     "name": "stdout",
     "output_type": "stream",
     "text": [
      "No non-zero element is presenr in the given array!\n"
     ]
    }
   ],
   "source": [
    "# First Method \n",
    "array = np.array([3,4,0,5,7,7,8,7,87,0,98,12])\n",
    "array2 = np.zeros(shape=10)\n",
    "for i in array2:\n",
    "    if i!=0:\n",
    "        print(\"Non-zero element is present in the given array!\")\n",
    "        break\n",
    "else:\n",
    "    print(\"No non-zero element is presenr in the given array!\")\n"
   ]
  },
  {
   "cell_type": "code",
   "execution_count": 136,
   "id": "cdc818df",
   "metadata": {},
   "outputs": [
    {
     "name": "stdout",
     "output_type": "stream",
     "text": [
      "Original array :  [ 3  4  0  5  7  7  8  7 87  0 98 12]\n",
      "Test if none of the elements of the said array is non-zero: True\n",
      "Test if none of the elements of the said array is non-zero: False\n"
     ]
    }
   ],
   "source": [
    "# second method\n",
    "print(\"Original array : \", array)\n",
    "print(\"Test if none of the elements of the said array is non-zero:\",np.any(array))\n",
    "print(\"Test if none of the elements of the said array is non-zero:\",np.any(array2))"
   ]
  },
  {
   "cell_type": "code",
   "execution_count": null,
   "id": "1017ba77",
   "metadata": {},
   "outputs": [],
   "source": []
  },
  {
   "cell_type": "markdown",
   "id": "5b9c99c4",
   "metadata": {},
   "source": [
    "## Questions on NumPy Mathematics\n",
    "- How to get element-wise true division of an array using Numpy?(Hint : np.true_divide(array,scalar))\n",
    "- How to calculate the element-wise absolute value of NumPy array?(Hint : np.absolute(array))\n",
    "- Compute the negative of the NumPy array(Hint : np.negative(array) / -array)\n",
    "- Computes the inner product of two arrays(Hint : np.dot(array1, array2))\n",
    "- Compute the nth percentile of the NumPy array(Hint : np.percentile(array, nthper))\n",
    "- Calculate the n-th order discrete difference along the given axis\n",
    "- Calculate the sum of all columns in a 2D NumPy array(Hint : np.sum(axis))\n",
    "- Calculate average values of two given NumPy arrays(Hint : (a+b)/2)\n",
    "- How to get the floor, ceiling and truncated values of the elements of a numpy array?\n",
    "- How to round elements of the NumPy array to the nearest integer?(Hint : np.rint())\n",
    "- Find the round off the values of the given matrix.(Hint :  matrix.round())\n",
    "- Determine the positive square-root of an array. "
   ]
  },
  {
   "cell_type": "code",
   "execution_count": null,
   "id": "d66b57cf",
   "metadata": {},
   "outputs": [],
   "source": []
  },
  {
   "cell_type": "markdown",
   "id": "32e61b66",
   "metadata": {},
   "source": [
    "### Question no 01 : \n",
    "**Calculate the n-th order discrete difference along the given axis.**\n",
    "- **numpy.diff(arr[, n[, axis]])** function is used when we calculate the n-th order discrete difference along the given axis. The first order difference is given by `out[i] = arr[i+1] – arr[i]` along the given axis. If we have to calculate higher differences, we are using diff recursively.\n",
    "\n",
    "   - `Syntax: numpy.diff()`\n",
    "   - Parameters:       \n",
    "    `arr` : [array_like] Input array.               \n",
    "    `n` : [int, optional] The number of times values are differenced.          \n",
    "    `axis` : [int, optional] The axis along which the difference is taken, default is the last axis.            \n",
    "    `Returns` : [ndarray]The n-th discrete difference. The output is the same as a except along axis where the dimension is smaller by n. "
   ]
  },
  {
   "cell_type": "code",
   "execution_count": null,
   "id": "3df55c25",
   "metadata": {},
   "outputs": [],
   "source": []
  },
  {
   "cell_type": "markdown",
   "id": "fb312d2c",
   "metadata": {},
   "source": [
    "## Questions on NumPy Statistics\n",
    "- Compute the median of the flattened NumPy array\n",
    "- Find Mean of a List of Numpy Array\n",
    "- Calculate the mean of array ignoring the NaN value(Hint : np.nanmean())\n",
    "- Get the mean value from given matrix\n",
    "- Compute the variance of the NumPy array\n",
    "- Compute the standard deviation of the NumPy array\n",
    "- Compute pearson product-moment correlation coefficients of two given NumPy arrays(Hint : np.corrcoef(x, y))\n",
    "- Calculate the mean across dimension in a 2D NumPy array(Hint : np.mean(axis))\n",
    "- Calculate the average, variance and standard deviation in Python using NumPy\n"
   ]
  },
  {
   "cell_type": "markdown",
   "id": "0da33bef",
   "metadata": {},
   "source": [
    "### Bonus Part:\n",
    "**Conversion of 2D- NumPy Array into Pandas DataFrame and gives descriptive view of NumPy Array in along both dimensions/axises.**"
   ]
  },
  {
   "cell_type": "code",
   "execution_count": 202,
   "id": "e6cbf1bb",
   "metadata": {},
   "outputs": [
    {
     "data": {
      "text/plain": [
       "array([[76, 51, 36, 33, 84, 38, 13, 24, 37, 63],\n",
       "       [25, 91, 43, 55, 65, 53, 60, 96, 73, 45],\n",
       "       [83, 55, 83, 15, 83, 47, 87, 22, 45, 72],\n",
       "       [19, 44, 85, 88, 85, 45, 13, 20, 23, 77],\n",
       "       [11, 12, 69, 38, 27, 91, 11, 26, 82, 41],\n",
       "       [96, 29, 89, 75, 72, 75, 12, 45, 98, 20],\n",
       "       [60, 16, 10, 37, 28, 72, 89, 75, 68, 45],\n",
       "       [79, 42, 14, 73, 44, 92, 48, 21, 15, 69],\n",
       "       [74, 21, 83, 51, 68, 64, 39, 64, 77, 82],\n",
       "       [84, 65, 20, 18, 95, 27, 11, 59, 86, 80]])"
      ]
     },
     "execution_count": 202,
     "metadata": {},
     "output_type": "execute_result"
    }
   ],
   "source": [
    "# create an array of 10x10 of random integers in range of 10-100. After that, gives a descriptive view of array\n",
    "array = np.random.randint(10,100,(10,10))\n",
    "array"
   ]
  },
  {
   "cell_type": "code",
   "execution_count": 209,
   "id": "0c734c68",
   "metadata": {},
   "outputs": [
    {
     "name": "stdout",
     "output_type": "stream",
     "text": [
      "DataFrame : \n"
     ]
    },
    {
     "data": {
      "text/html": [
       "<div>\n",
       "<style scoped>\n",
       "    .dataframe tbody tr th:only-of-type {\n",
       "        vertical-align: middle;\n",
       "    }\n",
       "\n",
       "    .dataframe tbody tr th {\n",
       "        vertical-align: top;\n",
       "    }\n",
       "\n",
       "    .dataframe thead th {\n",
       "        text-align: right;\n",
       "    }\n",
       "</style>\n",
       "<table border=\"1\" class=\"dataframe\">\n",
       "  <thead>\n",
       "    <tr style=\"text-align: right;\">\n",
       "      <th></th>\n",
       "      <th>0</th>\n",
       "      <th>1</th>\n",
       "      <th>2</th>\n",
       "      <th>3</th>\n",
       "      <th>4</th>\n",
       "      <th>5</th>\n",
       "      <th>6</th>\n",
       "      <th>7</th>\n",
       "      <th>8</th>\n",
       "      <th>9</th>\n",
       "    </tr>\n",
       "  </thead>\n",
       "  <tbody>\n",
       "    <tr>\n",
       "      <th>0</th>\n",
       "      <td>76</td>\n",
       "      <td>51</td>\n",
       "      <td>36</td>\n",
       "      <td>33</td>\n",
       "      <td>84</td>\n",
       "      <td>38</td>\n",
       "      <td>13</td>\n",
       "      <td>24</td>\n",
       "      <td>37</td>\n",
       "      <td>63</td>\n",
       "    </tr>\n",
       "    <tr>\n",
       "      <th>1</th>\n",
       "      <td>25</td>\n",
       "      <td>91</td>\n",
       "      <td>43</td>\n",
       "      <td>55</td>\n",
       "      <td>65</td>\n",
       "      <td>53</td>\n",
       "      <td>60</td>\n",
       "      <td>96</td>\n",
       "      <td>73</td>\n",
       "      <td>45</td>\n",
       "    </tr>\n",
       "    <tr>\n",
       "      <th>2</th>\n",
       "      <td>83</td>\n",
       "      <td>55</td>\n",
       "      <td>83</td>\n",
       "      <td>15</td>\n",
       "      <td>83</td>\n",
       "      <td>47</td>\n",
       "      <td>87</td>\n",
       "      <td>22</td>\n",
       "      <td>45</td>\n",
       "      <td>72</td>\n",
       "    </tr>\n",
       "    <tr>\n",
       "      <th>3</th>\n",
       "      <td>19</td>\n",
       "      <td>44</td>\n",
       "      <td>85</td>\n",
       "      <td>88</td>\n",
       "      <td>85</td>\n",
       "      <td>45</td>\n",
       "      <td>13</td>\n",
       "      <td>20</td>\n",
       "      <td>23</td>\n",
       "      <td>77</td>\n",
       "    </tr>\n",
       "    <tr>\n",
       "      <th>4</th>\n",
       "      <td>11</td>\n",
       "      <td>12</td>\n",
       "      <td>69</td>\n",
       "      <td>38</td>\n",
       "      <td>27</td>\n",
       "      <td>91</td>\n",
       "      <td>11</td>\n",
       "      <td>26</td>\n",
       "      <td>82</td>\n",
       "      <td>41</td>\n",
       "    </tr>\n",
       "    <tr>\n",
       "      <th>5</th>\n",
       "      <td>96</td>\n",
       "      <td>29</td>\n",
       "      <td>89</td>\n",
       "      <td>75</td>\n",
       "      <td>72</td>\n",
       "      <td>75</td>\n",
       "      <td>12</td>\n",
       "      <td>45</td>\n",
       "      <td>98</td>\n",
       "      <td>20</td>\n",
       "    </tr>\n",
       "    <tr>\n",
       "      <th>6</th>\n",
       "      <td>60</td>\n",
       "      <td>16</td>\n",
       "      <td>10</td>\n",
       "      <td>37</td>\n",
       "      <td>28</td>\n",
       "      <td>72</td>\n",
       "      <td>89</td>\n",
       "      <td>75</td>\n",
       "      <td>68</td>\n",
       "      <td>45</td>\n",
       "    </tr>\n",
       "    <tr>\n",
       "      <th>7</th>\n",
       "      <td>79</td>\n",
       "      <td>42</td>\n",
       "      <td>14</td>\n",
       "      <td>73</td>\n",
       "      <td>44</td>\n",
       "      <td>92</td>\n",
       "      <td>48</td>\n",
       "      <td>21</td>\n",
       "      <td>15</td>\n",
       "      <td>69</td>\n",
       "    </tr>\n",
       "    <tr>\n",
       "      <th>8</th>\n",
       "      <td>74</td>\n",
       "      <td>21</td>\n",
       "      <td>83</td>\n",
       "      <td>51</td>\n",
       "      <td>68</td>\n",
       "      <td>64</td>\n",
       "      <td>39</td>\n",
       "      <td>64</td>\n",
       "      <td>77</td>\n",
       "      <td>82</td>\n",
       "    </tr>\n",
       "    <tr>\n",
       "      <th>9</th>\n",
       "      <td>84</td>\n",
       "      <td>65</td>\n",
       "      <td>20</td>\n",
       "      <td>18</td>\n",
       "      <td>95</td>\n",
       "      <td>27</td>\n",
       "      <td>11</td>\n",
       "      <td>59</td>\n",
       "      <td>86</td>\n",
       "      <td>80</td>\n",
       "    </tr>\n",
       "  </tbody>\n",
       "</table>\n",
       "</div>"
      ],
      "text/plain": [
       "    0   1   2   3   4   5   6   7   8   9\n",
       "0  76  51  36  33  84  38  13  24  37  63\n",
       "1  25  91  43  55  65  53  60  96  73  45\n",
       "2  83  55  83  15  83  47  87  22  45  72\n",
       "3  19  44  85  88  85  45  13  20  23  77\n",
       "4  11  12  69  38  27  91  11  26  82  41\n",
       "5  96  29  89  75  72  75  12  45  98  20\n",
       "6  60  16  10  37  28  72  89  75  68  45\n",
       "7  79  42  14  73  44  92  48  21  15  69\n",
       "8  74  21  83  51  68  64  39  64  77  82\n",
       "9  84  65  20  18  95  27  11  59  86  80"
      ]
     },
     "execution_count": 209,
     "metadata": {},
     "output_type": "execute_result"
    }
   ],
   "source": [
    "import pandas as pd\n",
    "cols_des = pd.DataFrame(array)\n",
    "print(\"DataFrame : \")\n",
    "cols_des\n"
   ]
  },
  {
   "cell_type": "code",
   "execution_count": 210,
   "id": "f0214a6f",
   "metadata": {},
   "outputs": [
    {
     "name": "stdout",
     "output_type": "stream",
     "text": [
      "Descriptive view of NumPy Array along columns : \n"
     ]
    },
    {
     "data": {
      "text/html": [
       "<div>\n",
       "<style scoped>\n",
       "    .dataframe tbody tr th:only-of-type {\n",
       "        vertical-align: middle;\n",
       "    }\n",
       "\n",
       "    .dataframe tbody tr th {\n",
       "        vertical-align: top;\n",
       "    }\n",
       "\n",
       "    .dataframe thead th {\n",
       "        text-align: right;\n",
       "    }\n",
       "</style>\n",
       "<table border=\"1\" class=\"dataframe\">\n",
       "  <thead>\n",
       "    <tr style=\"text-align: right;\">\n",
       "      <th></th>\n",
       "      <th>0</th>\n",
       "      <th>1</th>\n",
       "      <th>2</th>\n",
       "      <th>3</th>\n",
       "      <th>4</th>\n",
       "      <th>5</th>\n",
       "      <th>6</th>\n",
       "      <th>7</th>\n",
       "      <th>8</th>\n",
       "      <th>9</th>\n",
       "    </tr>\n",
       "  </thead>\n",
       "  <tbody>\n",
       "    <tr>\n",
       "      <th>count</th>\n",
       "      <td>10.000000</td>\n",
       "      <td>10.000000</td>\n",
       "      <td>10.000000</td>\n",
       "      <td>10.000000</td>\n",
       "      <td>10.000000</td>\n",
       "      <td>10.000000</td>\n",
       "      <td>10.000000</td>\n",
       "      <td>10.000000</td>\n",
       "      <td>10.000000</td>\n",
       "      <td>10.000000</td>\n",
       "    </tr>\n",
       "    <tr>\n",
       "      <th>mean</th>\n",
       "      <td>60.700000</td>\n",
       "      <td>42.600000</td>\n",
       "      <td>53.200000</td>\n",
       "      <td>48.300000</td>\n",
       "      <td>65.100000</td>\n",
       "      <td>60.400000</td>\n",
       "      <td>38.300000</td>\n",
       "      <td>45.200000</td>\n",
       "      <td>60.400000</td>\n",
       "      <td>59.400000</td>\n",
       "    </tr>\n",
       "    <tr>\n",
       "      <th>std</th>\n",
       "      <td>30.760906</td>\n",
       "      <td>24.418572</td>\n",
       "      <td>32.013192</td>\n",
       "      <td>24.599232</td>\n",
       "      <td>24.259935</td>\n",
       "      <td>22.071601</td>\n",
       "      <td>31.570204</td>\n",
       "      <td>27.058784</td>\n",
       "      <td>28.426123</td>\n",
       "      <td>20.586943</td>\n",
       "    </tr>\n",
       "    <tr>\n",
       "      <th>min</th>\n",
       "      <td>11.000000</td>\n",
       "      <td>12.000000</td>\n",
       "      <td>10.000000</td>\n",
       "      <td>15.000000</td>\n",
       "      <td>27.000000</td>\n",
       "      <td>27.000000</td>\n",
       "      <td>11.000000</td>\n",
       "      <td>20.000000</td>\n",
       "      <td>15.000000</td>\n",
       "      <td>20.000000</td>\n",
       "    </tr>\n",
       "    <tr>\n",
       "      <th>25%</th>\n",
       "      <td>33.750000</td>\n",
       "      <td>23.000000</td>\n",
       "      <td>24.000000</td>\n",
       "      <td>34.000000</td>\n",
       "      <td>49.250000</td>\n",
       "      <td>45.500000</td>\n",
       "      <td>12.250000</td>\n",
       "      <td>22.500000</td>\n",
       "      <td>39.000000</td>\n",
       "      <td>45.000000</td>\n",
       "    </tr>\n",
       "    <tr>\n",
       "      <th>50%</th>\n",
       "      <td>75.000000</td>\n",
       "      <td>43.000000</td>\n",
       "      <td>56.000000</td>\n",
       "      <td>44.500000</td>\n",
       "      <td>70.000000</td>\n",
       "      <td>58.500000</td>\n",
       "      <td>26.000000</td>\n",
       "      <td>35.500000</td>\n",
       "      <td>70.500000</td>\n",
       "      <td>66.000000</td>\n",
       "    </tr>\n",
       "    <tr>\n",
       "      <th>75%</th>\n",
       "      <td>82.000000</td>\n",
       "      <td>54.000000</td>\n",
       "      <td>83.000000</td>\n",
       "      <td>68.500000</td>\n",
       "      <td>83.750000</td>\n",
       "      <td>74.250000</td>\n",
       "      <td>57.000000</td>\n",
       "      <td>62.750000</td>\n",
       "      <td>80.750000</td>\n",
       "      <td>75.750000</td>\n",
       "    </tr>\n",
       "    <tr>\n",
       "      <th>max</th>\n",
       "      <td>96.000000</td>\n",
       "      <td>91.000000</td>\n",
       "      <td>89.000000</td>\n",
       "      <td>88.000000</td>\n",
       "      <td>95.000000</td>\n",
       "      <td>92.000000</td>\n",
       "      <td>89.000000</td>\n",
       "      <td>96.000000</td>\n",
       "      <td>98.000000</td>\n",
       "      <td>82.000000</td>\n",
       "    </tr>\n",
       "  </tbody>\n",
       "</table>\n",
       "</div>"
      ],
      "text/plain": [
       "               0          1          2          3          4          5  \\\n",
       "count  10.000000  10.000000  10.000000  10.000000  10.000000  10.000000   \n",
       "mean   60.700000  42.600000  53.200000  48.300000  65.100000  60.400000   \n",
       "std    30.760906  24.418572  32.013192  24.599232  24.259935  22.071601   \n",
       "min    11.000000  12.000000  10.000000  15.000000  27.000000  27.000000   \n",
       "25%    33.750000  23.000000  24.000000  34.000000  49.250000  45.500000   \n",
       "50%    75.000000  43.000000  56.000000  44.500000  70.000000  58.500000   \n",
       "75%    82.000000  54.000000  83.000000  68.500000  83.750000  74.250000   \n",
       "max    96.000000  91.000000  89.000000  88.000000  95.000000  92.000000   \n",
       "\n",
       "               6          7          8          9  \n",
       "count  10.000000  10.000000  10.000000  10.000000  \n",
       "mean   38.300000  45.200000  60.400000  59.400000  \n",
       "std    31.570204  27.058784  28.426123  20.586943  \n",
       "min    11.000000  20.000000  15.000000  20.000000  \n",
       "25%    12.250000  22.500000  39.000000  45.000000  \n",
       "50%    26.000000  35.500000  70.500000  66.000000  \n",
       "75%    57.000000  62.750000  80.750000  75.750000  \n",
       "max    89.000000  96.000000  98.000000  82.000000  "
      ]
     },
     "execution_count": 210,
     "metadata": {},
     "output_type": "execute_result"
    }
   ],
   "source": [
    "print(\"Descriptive view of NumPy Array along columns : \")\n",
    "cols_des.describe()"
   ]
  },
  {
   "cell_type": "code",
   "execution_count": 211,
   "id": "8fce5117",
   "metadata": {},
   "outputs": [
    {
     "name": "stdout",
     "output_type": "stream",
     "text": [
      "DataFrame : \n"
     ]
    },
    {
     "data": {
      "text/html": [
       "<div>\n",
       "<style scoped>\n",
       "    .dataframe tbody tr th:only-of-type {\n",
       "        vertical-align: middle;\n",
       "    }\n",
       "\n",
       "    .dataframe tbody tr th {\n",
       "        vertical-align: top;\n",
       "    }\n",
       "\n",
       "    .dataframe thead th {\n",
       "        text-align: right;\n",
       "    }\n",
       "</style>\n",
       "<table border=\"1\" class=\"dataframe\">\n",
       "  <thead>\n",
       "    <tr style=\"text-align: right;\">\n",
       "      <th></th>\n",
       "      <th>0</th>\n",
       "      <th>1</th>\n",
       "      <th>2</th>\n",
       "      <th>3</th>\n",
       "      <th>4</th>\n",
       "      <th>5</th>\n",
       "      <th>6</th>\n",
       "      <th>7</th>\n",
       "      <th>8</th>\n",
       "      <th>9</th>\n",
       "    </tr>\n",
       "  </thead>\n",
       "  <tbody>\n",
       "    <tr>\n",
       "      <th>0</th>\n",
       "      <td>76</td>\n",
       "      <td>25</td>\n",
       "      <td>83</td>\n",
       "      <td>19</td>\n",
       "      <td>11</td>\n",
       "      <td>96</td>\n",
       "      <td>60</td>\n",
       "      <td>79</td>\n",
       "      <td>74</td>\n",
       "      <td>84</td>\n",
       "    </tr>\n",
       "    <tr>\n",
       "      <th>1</th>\n",
       "      <td>51</td>\n",
       "      <td>91</td>\n",
       "      <td>55</td>\n",
       "      <td>44</td>\n",
       "      <td>12</td>\n",
       "      <td>29</td>\n",
       "      <td>16</td>\n",
       "      <td>42</td>\n",
       "      <td>21</td>\n",
       "      <td>65</td>\n",
       "    </tr>\n",
       "    <tr>\n",
       "      <th>2</th>\n",
       "      <td>36</td>\n",
       "      <td>43</td>\n",
       "      <td>83</td>\n",
       "      <td>85</td>\n",
       "      <td>69</td>\n",
       "      <td>89</td>\n",
       "      <td>10</td>\n",
       "      <td>14</td>\n",
       "      <td>83</td>\n",
       "      <td>20</td>\n",
       "    </tr>\n",
       "    <tr>\n",
       "      <th>3</th>\n",
       "      <td>33</td>\n",
       "      <td>55</td>\n",
       "      <td>15</td>\n",
       "      <td>88</td>\n",
       "      <td>38</td>\n",
       "      <td>75</td>\n",
       "      <td>37</td>\n",
       "      <td>73</td>\n",
       "      <td>51</td>\n",
       "      <td>18</td>\n",
       "    </tr>\n",
       "    <tr>\n",
       "      <th>4</th>\n",
       "      <td>84</td>\n",
       "      <td>65</td>\n",
       "      <td>83</td>\n",
       "      <td>85</td>\n",
       "      <td>27</td>\n",
       "      <td>72</td>\n",
       "      <td>28</td>\n",
       "      <td>44</td>\n",
       "      <td>68</td>\n",
       "      <td>95</td>\n",
       "    </tr>\n",
       "    <tr>\n",
       "      <th>5</th>\n",
       "      <td>38</td>\n",
       "      <td>53</td>\n",
       "      <td>47</td>\n",
       "      <td>45</td>\n",
       "      <td>91</td>\n",
       "      <td>75</td>\n",
       "      <td>72</td>\n",
       "      <td>92</td>\n",
       "      <td>64</td>\n",
       "      <td>27</td>\n",
       "    </tr>\n",
       "    <tr>\n",
       "      <th>6</th>\n",
       "      <td>13</td>\n",
       "      <td>60</td>\n",
       "      <td>87</td>\n",
       "      <td>13</td>\n",
       "      <td>11</td>\n",
       "      <td>12</td>\n",
       "      <td>89</td>\n",
       "      <td>48</td>\n",
       "      <td>39</td>\n",
       "      <td>11</td>\n",
       "    </tr>\n",
       "    <tr>\n",
       "      <th>7</th>\n",
       "      <td>24</td>\n",
       "      <td>96</td>\n",
       "      <td>22</td>\n",
       "      <td>20</td>\n",
       "      <td>26</td>\n",
       "      <td>45</td>\n",
       "      <td>75</td>\n",
       "      <td>21</td>\n",
       "      <td>64</td>\n",
       "      <td>59</td>\n",
       "    </tr>\n",
       "    <tr>\n",
       "      <th>8</th>\n",
       "      <td>37</td>\n",
       "      <td>73</td>\n",
       "      <td>45</td>\n",
       "      <td>23</td>\n",
       "      <td>82</td>\n",
       "      <td>98</td>\n",
       "      <td>68</td>\n",
       "      <td>15</td>\n",
       "      <td>77</td>\n",
       "      <td>86</td>\n",
       "    </tr>\n",
       "    <tr>\n",
       "      <th>9</th>\n",
       "      <td>63</td>\n",
       "      <td>45</td>\n",
       "      <td>72</td>\n",
       "      <td>77</td>\n",
       "      <td>41</td>\n",
       "      <td>20</td>\n",
       "      <td>45</td>\n",
       "      <td>69</td>\n",
       "      <td>82</td>\n",
       "      <td>80</td>\n",
       "    </tr>\n",
       "  </tbody>\n",
       "</table>\n",
       "</div>"
      ],
      "text/plain": [
       "    0   1   2   3   4   5   6   7   8   9\n",
       "0  76  25  83  19  11  96  60  79  74  84\n",
       "1  51  91  55  44  12  29  16  42  21  65\n",
       "2  36  43  83  85  69  89  10  14  83  20\n",
       "3  33  55  15  88  38  75  37  73  51  18\n",
       "4  84  65  83  85  27  72  28  44  68  95\n",
       "5  38  53  47  45  91  75  72  92  64  27\n",
       "6  13  60  87  13  11  12  89  48  39  11\n",
       "7  24  96  22  20  26  45  75  21  64  59\n",
       "8  37  73  45  23  82  98  68  15  77  86\n",
       "9  63  45  72  77  41  20  45  69  82  80"
      ]
     },
     "execution_count": 211,
     "metadata": {},
     "output_type": "execute_result"
    }
   ],
   "source": [
    "rows_des = pd.DataFrame(array.T)\n",
    "print(\"DataFrame : \")\n",
    "rows_des\n"
   ]
  },
  {
   "cell_type": "code",
   "execution_count": 212,
   "id": "a845314a",
   "metadata": {},
   "outputs": [
    {
     "data": {
      "text/html": [
       "<div>\n",
       "<style scoped>\n",
       "    .dataframe tbody tr th:only-of-type {\n",
       "        vertical-align: middle;\n",
       "    }\n",
       "\n",
       "    .dataframe tbody tr th {\n",
       "        vertical-align: top;\n",
       "    }\n",
       "\n",
       "    .dataframe thead th {\n",
       "        text-align: right;\n",
       "    }\n",
       "</style>\n",
       "<table border=\"1\" class=\"dataframe\">\n",
       "  <thead>\n",
       "    <tr style=\"text-align: right;\">\n",
       "      <th></th>\n",
       "      <th>0</th>\n",
       "      <th>1</th>\n",
       "      <th>2</th>\n",
       "      <th>3</th>\n",
       "      <th>4</th>\n",
       "      <th>5</th>\n",
       "      <th>6</th>\n",
       "      <th>7</th>\n",
       "      <th>8</th>\n",
       "      <th>9</th>\n",
       "    </tr>\n",
       "  </thead>\n",
       "  <tbody>\n",
       "    <tr>\n",
       "      <th>count</th>\n",
       "      <td>10.000000</td>\n",
       "      <td>10.000000</td>\n",
       "      <td>10.000000</td>\n",
       "      <td>10.000000</td>\n",
       "      <td>10.000000</td>\n",
       "      <td>10.000000</td>\n",
       "      <td>10.000000</td>\n",
       "      <td>10.000000</td>\n",
       "      <td>10.000000</td>\n",
       "      <td>10.000000</td>\n",
       "    </tr>\n",
       "    <tr>\n",
       "      <th>mean</th>\n",
       "      <td>45.500000</td>\n",
       "      <td>60.600000</td>\n",
       "      <td>59.200000</td>\n",
       "      <td>49.900000</td>\n",
       "      <td>40.800000</td>\n",
       "      <td>61.100000</td>\n",
       "      <td>50.000000</td>\n",
       "      <td>49.700000</td>\n",
       "      <td>62.300000</td>\n",
       "      <td>54.500000</td>\n",
       "    </tr>\n",
       "    <tr>\n",
       "      <th>std</th>\n",
       "      <td>22.711965</td>\n",
       "      <td>21.757247</td>\n",
       "      <td>26.544721</td>\n",
       "      <td>30.989066</td>\n",
       "      <td>29.880503</td>\n",
       "      <td>32.063999</td>\n",
       "      <td>26.849374</td>\n",
       "      <td>27.809071</td>\n",
       "      <td>19.955784</td>\n",
       "      <td>32.411418</td>\n",
       "    </tr>\n",
       "    <tr>\n",
       "      <th>min</th>\n",
       "      <td>13.000000</td>\n",
       "      <td>25.000000</td>\n",
       "      <td>15.000000</td>\n",
       "      <td>13.000000</td>\n",
       "      <td>11.000000</td>\n",
       "      <td>12.000000</td>\n",
       "      <td>10.000000</td>\n",
       "      <td>14.000000</td>\n",
       "      <td>21.000000</td>\n",
       "      <td>11.000000</td>\n",
       "    </tr>\n",
       "    <tr>\n",
       "      <th>25%</th>\n",
       "      <td>33.750000</td>\n",
       "      <td>47.000000</td>\n",
       "      <td>45.500000</td>\n",
       "      <td>20.750000</td>\n",
       "      <td>15.500000</td>\n",
       "      <td>33.000000</td>\n",
       "      <td>30.250000</td>\n",
       "      <td>26.250000</td>\n",
       "      <td>54.250000</td>\n",
       "      <td>21.750000</td>\n",
       "    </tr>\n",
       "    <tr>\n",
       "      <th>50%</th>\n",
       "      <td>37.500000</td>\n",
       "      <td>57.500000</td>\n",
       "      <td>63.500000</td>\n",
       "      <td>44.500000</td>\n",
       "      <td>32.500000</td>\n",
       "      <td>73.500000</td>\n",
       "      <td>52.500000</td>\n",
       "      <td>46.000000</td>\n",
       "      <td>66.000000</td>\n",
       "      <td>62.000000</td>\n",
       "    </tr>\n",
       "    <tr>\n",
       "      <th>75%</th>\n",
       "      <td>60.000000</td>\n",
       "      <td>71.000000</td>\n",
       "      <td>83.000000</td>\n",
       "      <td>83.000000</td>\n",
       "      <td>62.000000</td>\n",
       "      <td>85.500000</td>\n",
       "      <td>71.000000</td>\n",
       "      <td>72.000000</td>\n",
       "      <td>76.250000</td>\n",
       "      <td>83.000000</td>\n",
       "    </tr>\n",
       "    <tr>\n",
       "      <th>max</th>\n",
       "      <td>84.000000</td>\n",
       "      <td>96.000000</td>\n",
       "      <td>87.000000</td>\n",
       "      <td>88.000000</td>\n",
       "      <td>91.000000</td>\n",
       "      <td>98.000000</td>\n",
       "      <td>89.000000</td>\n",
       "      <td>92.000000</td>\n",
       "      <td>83.000000</td>\n",
       "      <td>95.000000</td>\n",
       "    </tr>\n",
       "  </tbody>\n",
       "</table>\n",
       "</div>"
      ],
      "text/plain": [
       "               0          1          2          3          4          5  \\\n",
       "count  10.000000  10.000000  10.000000  10.000000  10.000000  10.000000   \n",
       "mean   45.500000  60.600000  59.200000  49.900000  40.800000  61.100000   \n",
       "std    22.711965  21.757247  26.544721  30.989066  29.880503  32.063999   \n",
       "min    13.000000  25.000000  15.000000  13.000000  11.000000  12.000000   \n",
       "25%    33.750000  47.000000  45.500000  20.750000  15.500000  33.000000   \n",
       "50%    37.500000  57.500000  63.500000  44.500000  32.500000  73.500000   \n",
       "75%    60.000000  71.000000  83.000000  83.000000  62.000000  85.500000   \n",
       "max    84.000000  96.000000  87.000000  88.000000  91.000000  98.000000   \n",
       "\n",
       "               6          7          8          9  \n",
       "count  10.000000  10.000000  10.000000  10.000000  \n",
       "mean   50.000000  49.700000  62.300000  54.500000  \n",
       "std    26.849374  27.809071  19.955784  32.411418  \n",
       "min    10.000000  14.000000  21.000000  11.000000  \n",
       "25%    30.250000  26.250000  54.250000  21.750000  \n",
       "50%    52.500000  46.000000  66.000000  62.000000  \n",
       "75%    71.000000  72.000000  76.250000  83.000000  \n",
       "max    89.000000  92.000000  83.000000  95.000000  "
      ]
     },
     "execution_count": 212,
     "metadata": {},
     "output_type": "execute_result"
    }
   ],
   "source": [
    "rows_des.describe()"
   ]
  },
  {
   "cell_type": "code",
   "execution_count": 214,
   "id": "9cb1b48c",
   "metadata": {},
   "outputs": [],
   "source": [
    "# rows_des.info()"
   ]
  },
  {
   "cell_type": "markdown",
   "id": "28814181",
   "metadata": {},
   "source": [
    "# NumPy - Assignment no 03\n",
    "- Here is link of [NumPy - Assignment no 03](https://www.kaggle.com/code/ehtishamsadiq/numpy-assignment-no-03)"
   ]
  },
  {
   "cell_type": "code",
   "execution_count": null,
   "id": "d8bcc7ae",
   "metadata": {},
   "outputs": [],
   "source": []
  }
 ],
 "metadata": {
  "kernelspec": {
   "display_name": "Python 3 (ipykernel)",
   "language": "python",
   "name": "python3"
  },
  "language_info": {
   "codemirror_mode": {
    "name": "ipython",
    "version": 3
   },
   "file_extension": ".py",
   "mimetype": "text/x-python",
   "name": "python",
   "nbconvert_exporter": "python",
   "pygments_lexer": "ipython3",
   "version": "3.8.10"
  }
 },
 "nbformat": 4,
 "nbformat_minor": 5
}
