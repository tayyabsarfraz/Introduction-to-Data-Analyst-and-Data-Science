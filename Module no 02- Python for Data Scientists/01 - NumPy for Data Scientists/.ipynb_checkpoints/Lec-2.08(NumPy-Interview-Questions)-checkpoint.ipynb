{
 "cells": [
  {
   "cell_type": "markdown",
   "id": "79522d57",
   "metadata": {},
   "source": [
    " ---   \n",
    "\n",
    "<h1 align=\"center\">Introduction to Data Analyst and Data Science for beginners</h1>\n",
    "<h1 align=\"center\">Lecture no 2.8(NumPy-08)</h1>\n",
    "\n",
    "---\n",
    "<h3><div align=\"right\">Ehtisham Sadiq</div></h3>    "
   ]
  },
  {
   "cell_type": "markdown",
   "id": "f1b49a45",
   "metadata": {},
   "source": [
    "<h1 align=\"center\">NumPy Interview Questions and Answers</h1>\n"
   ]
  },
  {
   "cell_type": "markdown",
   "id": "71d7ec58",
   "metadata": {},
   "source": [
    "## Check Concepts\n",
    "1. What is a vector?\n",
    "2. How do you represent vectors using a Python list? Give an example.\n",
    "3. What is a dot product of two vectors?\n",
    "4. Write a function to compute the dot product of two vectors.\n",
    "5. What is Numpy?\n",
    "6. How do you install Numpy?\n",
    "7. How do you import the `numpy` module?\n",
    "8. What does it mean to import a module with an alias? Give an example.\n",
    "9. What is the commonly used alias for `numpy`?\n",
    "10. What is a Numpy array?\n",
    "11. How do you create a Numpy array? Give an example.\n",
    "12. What is the type of Numpy arrays?\n",
    "13. How do you access the elements of a Numpy array?\n",
    "14. How do you compute the dot product of two vectors using Numpy?\n",
    "15. What happens if you try to compute the dot product of two vectors which have different sizes?\n",
    "16. How do you compute the element-wise product of two Numpy arrays?\n",
    "17. How do you compute the sum of all the elements in a Numpy array?\n",
    "18. What are the benefits of using Numpy arrays over Python lists for operating on numerical data?\n",
    "19. Why do Numpy array operations have better performance compared to Python functions and loops?\n",
    "20. Illustrate the performance difference between Numpy array operations and Python loops using an example.\n",
    "21. What are multi-dimensional Numpy arrays? \n",
    "22. Illustrate the creation of Numpy arrays with 2, 3, and 4 dimensions.\n",
    "23. How do you inspect the number of dimensions and the length along each dimension in a Numpy array?\n",
    "24. Can the elements of a Numpy array have different data types?\n",
    "25. How do you check the data type of the elements of a Numpy array?\n",
    "26. What is the data type of a Numpy array?\n",
    "27. What is the difference between a matrix and a 2D Numpy array?\n",
    "28. How do you perform matrix multiplication using Numpy?\n",
    "29. What is the `@` operator used for in Numpy?\n",
    "30. What is the CSV file format?\n",
    "31. How do you read data from a CSV file using Numpy?\n",
    "32. How do you concatenate two Numpy arrays?\n",
    "33. What is the purpose of the `axis` argument of `np.concatenate`?\n",
    "34. When are two Numpy arrays compatible for concatenation?\n",
    "35. Give an example of two Numpy arrays that can be concatenated.\n",
    "36. Give an example of two Numpy arrays that cannot be concatenated.\n",
    "37. What is the purpose of the `np.reshape` function?\n",
    "38. What does it mean to “reshape” a Numpy array?\n",
    "39. How do you write a numpy array into a CSV file?\n",
    "40. Give some examples of Numpy functions for performing mathematical operations.\n",
    "41. Give some examples of Numpy functions for performing array manipulation.\n",
    "42. Give some examples of Numpy functions for performing linear algebra.\n",
    "43. Give some examples of Numpy functions for performing statistical operations.\n",
    "44. How do you find the right Numpy function for a specific operation or use case?\n",
    "45. Where can you see a list of all the Numpy array functions and operations?\n",
    "46. What are the arithmetic operators supported by Numpy arrays? Illustrate with examples.\n",
    "47. What is array broadcasting? How is it useful? Illustrate with an example.\n",
    "48. Give some examples of arrays that are compatible for broadcasting?\n",
    "49. Give some examples of arrays that are not compatible for broadcasting?\n",
    "50. What are the comparison operators supported by Numpy arrays? Illustrate with examples.\n",
    "51. How do you access a specific subarray or slice from a Numpy array?\n",
    "52. Illustrate array indexing and slicing in multi-dimensional Numpy arrays with some examples.\n",
    "53. How do you create a Numpy array with a given shape containing all zeros?\n",
    "54. How do you create a Numpy array with a given shape containing all ones?\n",
    "55. How do you create an identity matrix of a given shape?\n",
    "56. How do you create a random vector of a given length?\n",
    "57. How do you create a Numpy array with a given shape with a fixed value for each element?\n",
    "58. How do you create a Numpy array with a given shape containing randomly initialized elements?\n",
    "59. What is the difference between `np.random.rand` and `np.random.randn`? Illustrate with examples.\n",
    "60. What is the difference between `np.arange` and `np.linspace`? Illustrate with examples."
   ]
  },
  {
   "cell_type": "markdown",
   "id": "b384f8ee",
   "metadata": {},
   "source": [
    "## 1. What is Numpy?\n",
    "#### Answer: \n",
    "NumPy is a general-purpose array-processing package. It provides a high-performance multidimensional array object, and tools for working with these arrays. It is the fundamental package for scientific computing with Python. … A powerful N-dimensional array object. Sophisticated (broadcasting) functions."
   ]
  },
  {
   "cell_type": "markdown",
   "id": "6799d6a6",
   "metadata": {},
   "source": [
    "## 2. Why NumPy is used in Python?\n",
    "#### Answer:\n",
    "NumPy is a package in Python used for Scientific Computing. NumPy package is used to perform different operations. The ndarray (NumPy Array) is a multidimensional array used to store values of same datatype. These arrays are indexed just like Sequences, starts with zero."
   ]
  },
  {
   "cell_type": "markdown",
   "id": "f00516f8",
   "metadata": {},
   "source": [
    "## 3. How to create 1D, 2D and 3D Array ?"
   ]
  },
  {
   "cell_type": "code",
   "execution_count": 1,
   "id": "ca65eb3c",
   "metadata": {},
   "outputs": [
    {
     "name": "stdout",
     "output_type": "stream",
     "text": [
      "1d array :  [1 2 3]\n"
     ]
    }
   ],
   "source": [
    "import numpy as np\n",
    "num = [1,2,3]\n",
    "num = np.array(num)\n",
    "print(\"1d array : \",num)"
   ]
  },
  {
   "cell_type": "code",
   "execution_count": 5,
   "id": "3fb8c494",
   "metadata": {},
   "outputs": [
    {
     "name": "stdout",
     "output_type": "stream",
     "text": [
      "2d array : \n",
      "[[1 2 3]\n",
      " [4 5 6]]\n"
     ]
    }
   ],
   "source": [
    "num2=[[1,2,3],[4,5,6]]\n",
    "num2 = np.array(num2)\n",
    "print(\"2d array : \",num2, sep=\"\\n\")"
   ]
  },
  {
   "cell_type": "code",
   "execution_count": 9,
   "id": "e1e988f8",
   "metadata": {},
   "outputs": [
    {
     "name": "stdout",
     "output_type": "stream",
     "text": [
      "3d array : \n",
      "[[[1 2 3]\n",
      "  [4 5 6]\n",
      "  [7 8 9]]]\n"
     ]
    }
   ],
   "source": [
    "num3=[[[1,2,3],[4,5,6],[7,8,9]]]\n",
    "num3 = np.array(num3)\n",
    "print(\"3d array : \",num3, sep=\"\\n\")"
   ]
  },
  {
   "cell_type": "markdown",
   "id": "583ef373",
   "metadata": {},
   "source": [
    "## 4. How to get shape for 1D, 2D and 3D Array ?"
   ]
  },
  {
   "cell_type": "code",
   "execution_count": 10,
   "id": "6373b7d8",
   "metadata": {},
   "outputs": [
    {
     "name": "stdout",
     "output_type": "stream",
     "text": [
      "Shape of 1D array is :  (3,)\n",
      "Shape of 2D array is :  (2, 3)\n",
      "Shape of 3D array is :  (1, 3, 3)\n"
     ]
    }
   ],
   "source": [
    "print(\"Shape of 1D array is : \", num.shape)\n",
    "print(\"Shape of 2D array is : \", num2.shape)\n",
    "print(\"Shape of 3D array is : \", num3.shape)"
   ]
  },
  {
   "cell_type": "code",
   "execution_count": null,
   "id": "c5306923",
   "metadata": {},
   "outputs": [],
   "source": []
  },
  {
   "cell_type": "markdown",
   "id": "0fa94e6f",
   "metadata": {},
   "source": [
    "## 5. How to identified datatyp for numpy array?\n",
    "#### Answer:\n",
    "By using numpy.dtype() function."
   ]
  },
  {
   "cell_type": "code",
   "execution_count": 12,
   "id": "a8b0f1a6",
   "metadata": {},
   "outputs": [
    {
     "name": "stdout",
     "output_type": "stream",
     "text": [
      "Data type of 1D array is :  int64\n",
      "Data type of 2D array is :  int64\n",
      "Data type of 3D array is :  int64\n"
     ]
    }
   ],
   "source": [
    "print(\"Data type of 1D array is : \", num.dtype)\n",
    "print(\"Data type of 2D array is : \", num2.dtype)\n",
    "print(\"Data type of 3D array is : \", num3.dtype)"
   ]
  },
  {
   "cell_type": "code",
   "execution_count": null,
   "id": "cae164d3",
   "metadata": {},
   "outputs": [],
   "source": []
  },
  {
   "cell_type": "markdown",
   "id": "16c3c3e9",
   "metadata": {},
   "source": [
    "## 6.Print numpy array of zeros with 2 rows and 3 columns ?"
   ]
  },
  {
   "cell_type": "code",
   "execution_count": 14,
   "id": "2947030c",
   "metadata": {},
   "outputs": [
    {
     "name": "stdout",
     "output_type": "stream",
     "text": [
      "Numpy Array of zeros with 2 rows and 3 columns : \n",
      "[[0. 0. 0.]\n",
      " [0. 0. 0.]]\n"
     ]
    }
   ],
   "source": [
    "array = np.zeros((2,3))\n",
    "print(\"Numpy Array of zeros with 2 rows and 3 columns : \", array, sep=\"\\n\")"
   ]
  },
  {
   "cell_type": "markdown",
   "id": "6b9ca605",
   "metadata": {},
   "source": [
    "## 7. What is difference between `np.eye()` and `np.dial()` and also give example to elaborate the difference.\n",
    "#### Answer: \n",
    "- numpy.eye(R, C = None, k = 0, dtype = type <‘float’>) : –The eye tool returns a 2-D array with  1’s as the diagonal and  0’s elsewhere. The diagonal can be main, upper, or lower depending on the optional parameter k. A positive k is for the upper diagonal, a negative k is for the lower, and a  0 k (default) is for the main diagonal.\n",
    "- numpy.diag(a, k=0) : Extracts and construct a diagonal array."
   ]
  },
  {
   "cell_type": "code",
   "execution_count": 34,
   "id": "b3b8855d",
   "metadata": {},
   "outputs": [
    {
     "data": {
      "text/plain": [
       "array([[1., 0., 0., 0., 0.],\n",
       "       [0., 1., 0., 0., 0.],\n",
       "       [0., 0., 1., 0., 0.],\n",
       "       [0., 0., 0., 1., 0.]])"
      ]
     },
     "execution_count": 34,
     "metadata": {},
     "output_type": "execute_result"
    }
   ],
   "source": [
    "# numpy array of having diagonal 1 with 4 rows and columns\n",
    "np.eye(4,5)"
   ]
  },
  {
   "cell_type": "code",
   "execution_count": 36,
   "id": "f6a9a44f",
   "metadata": {},
   "outputs": [
    {
     "name": "stdout",
     "output_type": "stream",
     "text": [
      "Upper diagonal : \n",
      "[[0. 0. 1. 0. 0.]\n",
      " [0. 0. 0. 1. 0.]\n",
      " [0. 0. 0. 0. 1.]\n",
      " [0. 0. 0. 0. 0.]]\n"
     ]
    }
   ],
   "source": [
    "print(\"Upper diagonal : \", np.eye(4,5,k=2), sep=\"\\n\")"
   ]
  },
  {
   "cell_type": "code",
   "execution_count": 38,
   "id": "302ea928",
   "metadata": {},
   "outputs": [
    {
     "name": "stdout",
     "output_type": "stream",
     "text": [
      "Lower diagonal : \n",
      "[[0. 0. 0. 0. 0.]\n",
      " [0. 0. 0. 0. 0.]\n",
      " [1. 0. 0. 0. 0.]\n",
      " [0. 1. 0. 0. 0.]]\n"
     ]
    }
   ],
   "source": [
    "print(\"Lower diagonal : \", np.eye(4,5,k=-2), sep=\"\\n\")"
   ]
  },
  {
   "cell_type": "code",
   "execution_count": null,
   "id": "c7426d14",
   "metadata": {},
   "outputs": [],
   "source": []
  },
  {
   "cell_type": "code",
   "execution_count": 27,
   "id": "7fac05a2",
   "metadata": {},
   "outputs": [
    {
     "name": "stdout",
     "output_type": "stream",
     "text": [
      "Array a is : \n",
      "[[1 0 0 0]\n",
      " [0 2 0 0]\n",
      " [0 0 3 0]\n",
      " [0 0 0 4]]\n"
     ]
    }
   ],
   "source": [
    "# construct a diagonal using np.dial function\n",
    "a = np.diag([1,2,3,4])\n",
    "print(\"Array a is : \", a, sep=\"\\n\")"
   ]
  },
  {
   "cell_type": "code",
   "execution_count": 31,
   "id": "86a44957",
   "metadata": {},
   "outputs": [
    {
     "name": "stdout",
     "output_type": "stream",
     "text": [
      "Array a is : \n",
      "[[  1  21  30]\n",
      " [ 63 434   3]\n",
      " [ 54  54  56]]\n",
      "Main Diagonal elements : \n",
      " [  1 434  56] \n",
      "\n",
      "Diagonal above main diagonal : \n",
      " [21  3] \n",
      "\n",
      "Diagonal below main diagonal : \n",
      " [63 54]\n"
     ]
    }
   ],
   "source": [
    "a = np.array([[1, 21, 30], \n",
    "                 [63 ,434, 3], \n",
    "                 [54, 54, 56]])\n",
    "print(\"Array a is : \", a, sep=\"\\n\")  \n",
    "print(\"Main Diagonal elements : \\n\", np.diag(a), \"\\n\")\n",
    "  \n",
    "print(\"Diagonal above main diagonal : \\n\", np.diag(a, 1), \"\\n\")\n",
    "  \n",
    "print(\"Diagonal below main diagonal : \\n\", np.diag(a, -1))"
   ]
  },
  {
   "cell_type": "code",
   "execution_count": null,
   "id": "22147f95",
   "metadata": {},
   "outputs": [],
   "source": []
  },
  {
   "cell_type": "markdown",
   "id": "be7ae2fe",
   "metadata": {},
   "source": [
    "## 8. Print a range between `1 To 15` and show  only `4` integers random numbers."
   ]
  },
  {
   "cell_type": "code",
   "execution_count": 40,
   "id": "11ab20af",
   "metadata": {},
   "outputs": [
    {
     "name": "stdout",
     "output_type": "stream",
     "text": [
      "4 random integers from a range 1 to 15 :  [ 9  8 14  8]\n"
     ]
    }
   ],
   "source": [
    "print(\"4 random integers from a range 1 to 15 : \",np.random.randint(1,16,4))"
   ]
  },
  {
   "cell_type": "code",
   "execution_count": null,
   "id": "0f2a06fc",
   "metadata": {},
   "outputs": [],
   "source": []
  },
  {
   "cell_type": "markdown",
   "id": "7c0d838c",
   "metadata": {},
   "source": [
    "## 9. Print a range between random number 2 row and 3 cols integers random numbers."
   ]
  },
  {
   "cell_type": "code",
   "execution_count": 41,
   "id": "0ad6d889",
   "metadata": {},
   "outputs": [
    {
     "data": {
      "text/plain": [
       "array([[ 4,  6,  6],\n",
       "       [ 5,  4, 11]])"
      ]
     },
     "execution_count": 41,
     "metadata": {},
     "output_type": "execute_result"
    }
   ],
   "source": [
    "np.random.randint(1,16, size=(2,3))"
   ]
  },
  {
   "cell_type": "markdown",
   "id": "ebe91203",
   "metadata": {},
   "source": [
    "## 10.What Is The Preferred Way To Check For An Empty (zero Element) Array?\n",
    "#### Answer: \n",
    "If you are using a variable is an array, then use the size attribute. If the variable may be a list or other sequence type, use len()."
   ]
  },
  {
   "cell_type": "code",
   "execution_count": 44,
   "id": "5388cfe2",
   "metadata": {},
   "outputs": [
    {
     "data": {
      "text/plain": [
       "array([], shape=(1, 0), dtype=float64)"
      ]
     },
     "execution_count": 44,
     "metadata": {},
     "output_type": "execute_result"
    }
   ],
   "source": [
    "a = np.zeros((1,0))\n",
    "a"
   ]
  },
  {
   "cell_type": "code",
   "execution_count": 47,
   "id": "e9573c10",
   "metadata": {},
   "outputs": [
    {
     "name": "stdout",
     "output_type": "stream",
     "text": [
      "0\n",
      "1\n"
     ]
    }
   ],
   "source": [
    "print(a.size)\n",
    "print(len(a))\n",
    "# That's why size attribute is perferable as compared to len"
   ]
  },
  {
   "cell_type": "code",
   "execution_count": null,
   "id": "314c3c0e",
   "metadata": {},
   "outputs": [],
   "source": []
  },
  {
   "cell_type": "markdown",
   "id": "36acdf58",
   "metadata": {},
   "source": [
    "## 11. Name a few use cases where NumPy is useful. \n",
    "- To perform complex mathematical computations on arrays \n",
    "- To use multi-dimensional arrays and matrices in operations \n",
    "- To execute trigonometric, statistical, and algebraic functions \n",
    "- To execute transforms and methods for shape manipulation \n",
    "- To generate random numbers \n",
    "- To add/ delete/ sort/ split arrays "
   ]
  },
  {
   "cell_type": "markdown",
   "id": "a63c9c5b",
   "metadata": {},
   "source": [
    "## 12 . How many dimensions can a NumPy array have? \n",
    "#### Answer : \n",
    "In NumPy, an array can have N-dimensions, and is called a ndarray. \n",
    "\n",
    "- Ndarray is a multidimensional container which contains elements of the same type and size. \n",
    "- The number of dimensions in a ndarray is also known as ‘rank’. \n",
    "- A tuple of integers called ‘shape’ defines the size of the array in each dimension. \n",
    "- The data type of elements in ndarray is defined by a  ‘dtype’ object. "
   ]
  },
  {
   "cell_type": "markdown",
   "id": "04c05554",
   "metadata": {},
   "source": [
    "<img src = \"images/1*pYQhyWcCj85hueUP4FF1ww.jpeg\" height=\"600px\" width=\"600px\">"
   ]
  },
  {
   "cell_type": "code",
   "execution_count": 49,
   "id": "c51d2a94",
   "metadata": {},
   "outputs": [
    {
     "name": "stdout",
     "output_type": "stream",
     "text": [
      "Type of numpy array is :  <class 'numpy.ndarray'>\n",
      "Shape of numpy array is :  (2, 3)\n",
      "Data type of numpy array is :  int32\n"
     ]
    }
   ],
   "source": [
    "# 2D ndarray with size 2X3. \n",
    "example = np.array([[1, 2, 3], [4, 5, 6]], np.int32) \n",
    "print(\"Type of numpy array is : \" ,type(example)) \n",
    "print(\"Shape of numpy array is : \",example.shape) \n",
    "print(\"Data type of numpy array is : \", example.dtype )\n"
   ]
  },
  {
   "cell_type": "code",
   "execution_count": null,
   "id": "4d6658ec",
   "metadata": {},
   "outputs": [],
   "source": []
  },
  {
   "cell_type": "markdown",
   "id": "a87eb6e4",
   "metadata": {},
   "source": [
    "## 13. What is negative indexing in NumPy arrays? \n",
    "#### Answer:\n",
    "- In NumPy the elements can be accessed starting from the end of the array too. \n",
    "- Negative indexing refers to the act of indexing from the end of the list starting at -1. "
   ]
  },
  {
   "cell_type": "code",
   "execution_count": 50,
   "id": "bbe08dd4",
   "metadata": {},
   "outputs": [
    {
     "name": "stdout",
     "output_type": "stream",
     "text": [
      "Last element from 2nd dim:  10\n"
     ]
    }
   ],
   "source": [
    "# Print the last element from the 2nd dimension: \n",
    "example = np.array([[1,2,3,4,5], [6,7,8,9,10]]) \n",
    "print('Last element from 2nd dim: ', example[1, -1]) "
   ]
  },
  {
   "cell_type": "code",
   "execution_count": null,
   "id": "7bf103e7",
   "metadata": {},
   "outputs": [],
   "source": []
  },
  {
   "cell_type": "markdown",
   "id": "6a2fd4ce",
   "metadata": {},
   "source": [
    "## 14. Explain the operations that can be performed in NumPy. \n",
    "#### Operations on 1-D arrays in NumPy: \n",
    "   - Adds the elements of two arrays, depicted by `+`.\n",
    "   - Multiplies the elements with a number, depicted by `*`. \n",
    "   - Square the elements in an array by using `**`. \n",
    "   - Conditional Expressions: Compare the array elements using a conditional expression.    \n",
    "#### Operations on 2-D arrays in NumPy:       \n",
    "   - Adds elements of 2-D arrays by position.\n",
    "   - Multiples the arrays element-wise. "
   ]
  },
  {
   "cell_type": "code",
   "execution_count": null,
   "id": "974441d5",
   "metadata": {},
   "outputs": [],
   "source": []
  },
  {
   "cell_type": "markdown",
   "id": "21bc1e69",
   "metadata": {},
   "source": [
    "### What are the most common NumPy data types?\n",
    "- An N-dimensional array type is known as ndarray. All elements stored in a ndarray should be homogeneous i.e., have the same type.\n",
    "- A few of the most common data types are:\n",
    " >- Boolean\n",
    " >- Integer (signed and unsigned)\n",
    " >- Float\n",
    " >- Complex"
   ]
  },
  {
   "cell_type": "markdown",
   "id": "78d8d140",
   "metadata": {},
   "source": [
    "### How to change the data type of a NumPy array?\n",
    "- We can use the `np.astype()` method for this purpose."
   ]
  },
  {
   "cell_type": "code",
   "execution_count": 2,
   "id": "9befcd53",
   "metadata": {},
   "outputs": [
    {
     "name": "stdout",
     "output_type": "stream",
     "text": [
      "Data type of arr :  float64\n",
      "Data type of new_arr :  int32\n"
     ]
    }
   ],
   "source": [
    "import numpy as np\n",
    "arr = np.array([2.7, 3.14, 5.89, 7])\n",
    "new_arr = arr.astype('i')\n",
    "print(\"Data type of arr : \", arr.dtype)\n",
    "print(\"Data type of new_arr : \", new_arr.dtype)\n",
    "# change the data type of a NumPy array."
   ]
  },
  {
   "cell_type": "markdown",
   "id": "29375e9d",
   "metadata": {},
   "source": [
    "###  How is np.mean() different from np.average() in NumPy?\n",
    "- `np.mean()` method calculates the arithmetic mean and provides additional options for input and results. For example, it has the option to specify what data types have to be taken, where the result has to be placed etc.\n",
    "- `np.average()` computes the weighted average if the weights parameter is specified. In the case of weighted average, instead of considering that each data point is contributing equally to the final average, it considers that some data points have more weightage than the others (unequal contribution)."
   ]
  },
  {
   "cell_type": "markdown",
   "id": "ab2f378c",
   "metadata": {},
   "source": [
    "### How do you count the frequency of a given positive value appearing in the NumPy array?\n",
    "- We can make use of the `bincount()` function to compute the number of times a given value is there in the array. - This function accepts only positive integers and boolean expressions as the arguments."
   ]
  },
  {
   "cell_type": "code",
   "execution_count": 4,
   "id": "a5117a0b",
   "metadata": {},
   "outputs": [
    {
     "name": "stdout",
     "output_type": "stream",
     "text": [
      "[3 2 2 2 0 1]\n"
     ]
    }
   ],
   "source": [
    "import numpy as np\n",
    "arr = np.array([1, 2, 1, 3, 5, 0, 0, 0, 2, 3])\n",
    "result = np.bincount(arr)\n",
    "print(result)\n"
   ]
  },
  {
   "cell_type": "markdown",
   "id": "27bc837a",
   "metadata": {},
   "source": [
    "### What are the benefits of the built-in array package, if any?\n",
    "**Ans:** Arrays represent multiple data items of the same type using a single name. In arrays, the elements can be accessed randomly by using the index number. Arrays allocate memory in contiguous memory locations for all its elements. Hence there is no chance of extra memory being allocated in case of arrays. This avoids memory overflow or shortage of memory in arrays."
   ]
  },
  {
   "cell_type": "markdown",
   "id": "ade91bab",
   "metadata": {},
   "source": [
    "### What are some of the array package's limitations ?\n",
    "**Ans:**  \n",
    "- The number of elements to be stored in an array should be known in advance. An array is a static structure (which means the array is of fixed size). Once declared the size of the array cannot be modified. The memory which is allocated to it cannot be increased or decreased.\n",
    "- Insertion and deletion are quite difficult in an array as the elements are stored in consecutive memory locations and the shifting operation is costly.\n",
    "- Allocating more memory than the requirement leads to wastage of memory space and less allocation of memory also leads to a problem"
   ]
  },
  {
   "cell_type": "markdown",
   "id": "9131a0a7",
   "metadata": {},
   "source": [
    "###  Describe the main differences between the array and numpy packages ?\n",
    "**Ans:**  \n",
    "- The array package doesn't provide any help with numerical calculation with the items insdie it in number form while NumPy give you a wide variety of numerical operations.\n",
    "- An array is a single dimensional entity which hold the numerical data, while numpy can have more than 1 dimension.\n",
    "- In case of array, item can be accessed by its index position and it is easy task while in numpy item is accessed by its column and row index, which makes it slightly time taking. Same goes with appending operation.\n",
    "- In case of array we do not form a tabular structure, while in numpy it forms a tabular structure "
   ]
  },
  {
   "cell_type": "markdown",
   "id": "e730c7fe",
   "metadata": {},
   "source": [
    "###  Explain the distinctions between the empty, ones, and zeros functions ?\n",
    "**Ans:** The distinctions between the `empty`, `ones`, and `zero` functions are as follows :  \n",
    "- `Empty function:` An empty function is a function that does not contain any statement within its body. If you try to write a function definition without any statement in python ,it will return an error. To avoid this, we use pass statement. pass is a special statement in Python that does nothing. It only works as a dummy statement.  \n",
    "- `Ones:` This function returns a new array of given shape and data type, where the element’s value is 1.  \n",
    "- `Zeros:` This function returns a new array of given shape and data type, where the element’s value is 0.  "
   ]
  },
  {
   "cell_type": "code",
   "execution_count": 9,
   "id": "94250190",
   "metadata": {},
   "outputs": [
    {
     "data": {
      "text/plain": [
       "array([[1, 1, 1, 1, 1, 1, 1, 1, 1, 1],\n",
       "       [1, 1, 1, 1, 1, 1, 1, 1, 1, 1],\n",
       "       [1, 1, 1, 1, 1, 1, 1, 1, 1, 1]])"
      ]
     },
     "execution_count": 9,
     "metadata": {},
     "output_type": "execute_result"
    }
   ],
   "source": [
    "np.ones((3,10), dtype=int)"
   ]
  },
  {
   "cell_type": "code",
   "execution_count": 11,
   "id": "2d4be22d",
   "metadata": {},
   "outputs": [
    {
     "data": {
      "text/plain": [
       "array([[0., 0., 0., 0., 0., 0., 0., 0., 0., 0.],\n",
       "       [0., 0., 0., 0., 0., 0., 0., 0., 0., 0.],\n",
       "       [0., 0., 0., 0., 0., 0., 0., 0., 0., 0.]])"
      ]
     },
     "execution_count": 11,
     "metadata": {},
     "output_type": "execute_result"
    }
   ],
   "source": [
    "np.zeros((3,10), dtype=float)"
   ]
  },
  {
   "cell_type": "code",
   "execution_count": 18,
   "id": "d60c0141",
   "metadata": {},
   "outputs": [
    {
     "data": {
      "text/plain": [
       "array([[27500048,        0,        0,        0,        0],\n",
       "       [       0,        0,        0,        0,        0],\n",
       "       [       0,        0,        0,        0,        0]])"
      ]
     },
     "execution_count": 18,
     "metadata": {},
     "output_type": "execute_result"
    }
   ],
   "source": [
    "np.empty((3,5), dtype=int)"
   ]
  },
  {
   "cell_type": "code",
   "execution_count": 19,
   "id": "4b6fd57d",
   "metadata": {},
   "outputs": [
    {
     "data": {
      "text/plain": [
       "array([[1.58481081e-316, 0.00000000e+000, 1.01855798e-312,\n",
       "        9.54898106e-313],\n",
       "       [1.01855798e-312, 1.06099790e-312, 1.23075756e-312,\n",
       "        1.01855798e-312],\n",
       "       [1.12465777e-312, 9.76118064e-313, 1.14587773e-312,\n",
       "        1.90979621e-312]])"
      ]
     },
     "execution_count": 19,
     "metadata": {},
     "output_type": "execute_result"
    }
   ],
   "source": [
    "np.empty((3,4))"
   ]
  },
  {
   "cell_type": "markdown",
   "id": "17acbb39",
   "metadata": {},
   "source": [
    "###  What happens when a numpy array is combined with a single-value operand (a scalar, such as an int or a floating-point value) through addition, as in the expression `A + n` ?\n",
    "**Ans:** If any scaler value such as integer is added to the numpy array then all the elements inside the array will add that value in it. "
   ]
  },
  {
   "cell_type": "code",
   "execution_count": 21,
   "id": "6b9cf140",
   "metadata": {},
   "outputs": [
    {
     "name": "stdout",
     "output_type": "stream",
     "text": [
      "Array (A) :  [4 5 6 7]\n",
      "n :  2\n",
      "A+n :  [6 7 8 9]\n"
     ]
    }
   ],
   "source": [
    "A = np.array([4,5,6,7])\n",
    "print(\"Array (A) : \", A)\n",
    "n = 2\n",
    "print(\"n : \", n)\n",
    "print(\"A+n : \", A+n)"
   ]
  },
  {
   "cell_type": "markdown",
   "id": "c9d68c7a",
   "metadata": {},
   "source": [
    "### Can array-to-scalar operations use combined operation-assign operators (such as += or *=)? What is the outcome ?\n",
    "**Ans:** It will carry out provided operation on all elements of array. "
   ]
  },
  {
   "cell_type": "code",
   "execution_count": 32,
   "id": "f8577a50",
   "metadata": {},
   "outputs": [
    {
     "name": "stdout",
     "output_type": "stream",
     "text": [
      "Original Array :  [5 2 7 6 1]\n",
      "New Array :  [15 12 17 16 11]\n"
     ]
    }
   ],
   "source": [
    "Array = np.random.randint(1,10, size=5)\n",
    "print(\"Original Array : \", Array)\n",
    "n = 2\n",
    "for i in range(5):\n",
    "    Array = Array+n\n",
    "    \n",
    "print(\"New Array : \", Array)"
   ]
  },
  {
   "cell_type": "markdown",
   "id": "aa60ae34",
   "metadata": {},
   "source": [
    "### Does a numpy array contain fixed-length strings? What happens if you allocate a longer string to one of these arrays ?\n",
    "**Ans:** : Yes, it is possible that we can include a string of fixed length in numpy array. The dtype of any numpy array containing string values is the maximum length of any string present in the array.Once set, it will only be able to store new string having length not more than the maximum length at the time of the creation. If we try to reassign some another string value having length greater than the maximum length of the existing elements, it simply discards all the values beyond the maximum length accept upto those values which are under the limit."
   ]
  },
  {
   "cell_type": "markdown",
   "id": "b31dcb9d",
   "metadata": {},
   "source": [
    "###  What happens when you combine two numpy arrays using an operation like addition (+) or multiplication (*)? What are the conditions for combining two numpy arrays ?\n",
    "**Ans:** It will simply add or multiply element to element at same position. "
   ]
  },
  {
   "cell_type": "code",
   "execution_count": 41,
   "id": "b9ebcb0d",
   "metadata": {},
   "outputs": [
    {
     "name": "stdout",
     "output_type": "stream",
     "text": [
      "Array1 : [ 6 13 17 16  6]\n",
      "Array2 : [13 19  2  8  5]\n",
      "Array1 + Array2 :  [19 32 19 24 11]\n",
      "Array1 * Array2 :  [ 78 247  34 128  30]\n"
     ]
    }
   ],
   "source": [
    "array1 = np.random.randint(1,20,size=5)\n",
    "array2 = np.random.randint(1,20,size=5)\n",
    "print(\"Array1 :\", array1 )\n",
    "print(\"Array2 :\", array2)\n",
    "print(\"Array1 + Array2 : \", array1+array2)\n",
    "print(\"Array1 * Array2 : \", array1*array2)"
   ]
  },
  {
   "cell_type": "markdown",
   "id": "4e75d696",
   "metadata": {},
   "source": [
    "### What are three different ways to get the standard deviation of a wide collection of data using both standard Python and its packages? Sort the three of them by how quickly they execute ?\n",
    "**Ans:** `np.std` and math package can be used individually. "
   ]
  },
  {
   "cell_type": "code",
   "execution_count": null,
   "id": "7f49fe9b",
   "metadata": {},
   "outputs": [],
   "source": []
  },
  {
   "cell_type": "code",
   "execution_count": 2,
   "id": "52e58664",
   "metadata": {},
   "outputs": [
    {
     "name": "stdout",
     "output_type": "stream",
     "text": [
      "Total non-zeros elements are :  3\n",
      "Indices of non-zeros elements are :  [0 1 4]\n",
      "(array([0, 0, 0]), array([0, 1, 4]))\n"
     ]
    }
   ],
   "source": [
    "array = [1,2,0,0,4,0]\n",
    "array = np.nonzero([array])\n",
    "print(\"Total non-zeros elements are : \",len(array[0]))\n",
    "print(\"Indices of non-zeros elements are : \" , array[1])\n",
    "print(array)"
   ]
  },
  {
   "cell_type": "code",
   "execution_count": null,
   "id": "80357462",
   "metadata": {},
   "outputs": [],
   "source": []
  }
 ],
 "metadata": {
  "kernelspec": {
   "display_name": "Python 3 (ipykernel)",
   "language": "python",
   "name": "python3"
  },
  "language_info": {
   "codemirror_mode": {
    "name": "ipython",
    "version": 3
   },
   "file_extension": ".py",
   "mimetype": "text/x-python",
   "name": "python",
   "nbconvert_exporter": "python",
   "pygments_lexer": "ipython3",
   "version": "3.8.10"
  }
 },
 "nbformat": 4,
 "nbformat_minor": 5
}
