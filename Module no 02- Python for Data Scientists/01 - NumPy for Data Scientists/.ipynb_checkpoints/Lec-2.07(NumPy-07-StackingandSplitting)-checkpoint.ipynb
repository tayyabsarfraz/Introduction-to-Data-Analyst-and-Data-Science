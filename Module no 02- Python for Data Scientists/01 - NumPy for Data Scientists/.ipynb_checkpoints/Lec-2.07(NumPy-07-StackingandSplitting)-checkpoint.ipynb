{
 "cells": [
  {
   "cell_type": "markdown",
   "id": "b5b40627",
   "metadata": {},
   "source": [
    "---   \n",
    "\n",
    "<h1 align=\"center\">Introduction to Data Analyst and Data Science for beginners</h1>\n",
    "<h1 align=\"center\">Lecture no 2.7(NumPy-07)</h1>\n",
    "\n",
    "---\n",
    "<h3><div align=\"right\">Ehtisham Sadiq</div></h3>    "
   ]
  },
  {
   "cell_type": "markdown",
   "id": "1582af95",
   "metadata": {},
   "source": [
    "<img align=\"left\" width=\"500\" height=\"500\"  src=\"images/concatfunctions.png\" >"
   ]
  },
  {
   "cell_type": "markdown",
   "id": "2dacba6c",
   "metadata": {},
   "source": [
    "## Recap:\n",
    "- In last lectures , We have discussed introduction of numpy, different methods to create numpy arrays, difference between numpy array and lists, basic operations of numpy,indexing and slicing of numpy arrays, broadcasting and reshaping of numpy arrays, and methods of array manipulation."
   ]
  },
  {
   "cell_type": "code",
   "execution_count": null,
   "id": "26f4a495",
   "metadata": {},
   "outputs": [],
   "source": []
  },
  {
   "cell_type": "code",
   "execution_count": null,
   "id": "724593e9",
   "metadata": {},
   "outputs": [],
   "source": []
  },
  {
   "cell_type": "code",
   "execution_count": null,
   "id": "43329494",
   "metadata": {},
   "outputs": [],
   "source": []
  },
  {
   "cell_type": "code",
   "execution_count": null,
   "id": "eef44e90",
   "metadata": {},
   "outputs": [],
   "source": []
  },
  {
   "cell_type": "code",
   "execution_count": null,
   "id": "db3e392a",
   "metadata": {},
   "outputs": [],
   "source": []
  },
  {
   "cell_type": "code",
   "execution_count": null,
   "id": "65a0019e",
   "metadata": {},
   "outputs": [],
   "source": []
  },
  {
   "cell_type": "markdown",
   "id": "b8ae36f7",
   "metadata": {},
   "source": [
    "# Learning agenda of this notebook\n",
    "1. Concatenating of NumPy Arrays\n",
    "2. Stacking of NumPy Arrays\n",
    "3. Splitting of NumPy Arrays\n",
    "4. Bonus:\n",
    "   - Numpy Normal (Gaussian) Distribution (Numpy Random Normal)"
   ]
  },
  {
   "cell_type": "code",
   "execution_count": null,
   "id": "2479dbf1",
   "metadata": {},
   "outputs": [],
   "source": []
  },
  {
   "cell_type": "markdown",
   "id": "30058765",
   "metadata": {},
   "source": [
    "## 1. Concatenating of NumPy Arrays"
   ]
  },
  {
   "cell_type": "markdown",
   "id": "fca13446",
   "metadata": {},
   "source": [
    "<img align=\"right\" width=\"500\" height=\"200\"  src=\"images/concataxis1.png\" >\n",
    "<img align=\"left\" width=\"400\" height=\"400\"  src=\"images/concataxis0.png\" > "
   ]
  },
  {
   "cell_type": "markdown",
   "id": "2a42f40f",
   "metadata": {},
   "source": [
    "## 2. Stacking of NumPy Arrays"
   ]
  },
  {
   "cell_type": "markdown",
   "id": "a5841372",
   "metadata": {},
   "source": [
    "<img align=\"left\" width=\"350\" height=\"350\"  src=\"images/hs1.png\" > \n",
    "<img align=\"right\" width=\"350\" height=\"350\"  src=\"images/vs1.png\" > "
   ]
  },
  {
   "cell_type": "code",
   "execution_count": null,
   "id": "bec00301",
   "metadata": {},
   "outputs": [],
   "source": []
  },
  {
   "cell_type": "code",
   "execution_count": null,
   "id": "5cc11c64",
   "metadata": {},
   "outputs": [],
   "source": []
  },
  {
   "cell_type": "markdown",
   "id": "1a425185",
   "metadata": {},
   "source": [
    "## 3. Splitting NumPy Arrays"
   ]
  },
  {
   "cell_type": "markdown",
   "id": "523c9549",
   "metadata": {},
   "source": [
    "<img align=\"center\" width=\"400\" height=\"300\"  src=\"images/splitting.png\" > "
   ]
  },
  {
   "cell_type": "code",
   "execution_count": null,
   "id": "932c9898",
   "metadata": {},
   "outputs": [],
   "source": [
    "# To install this library in Jupyter notebook\n",
    "#import sys\n",
    "#!{sys.executable} -m pip install numpy"
   ]
  },
  {
   "cell_type": "code",
   "execution_count": 1,
   "id": "98474a05",
   "metadata": {},
   "outputs": [
    {
     "data": {
      "text/plain": [
       "('1.22.3', ['/home/dell/.local/lib/python3.8/site-packages/numpy'])"
      ]
     },
     "execution_count": 1,
     "metadata": {},
     "output_type": "execute_result"
    }
   ],
   "source": [
    "import numpy as np\n",
    "np.__version__ , np.__path__"
   ]
  },
  {
   "cell_type": "code",
   "execution_count": null,
   "id": "07eeae9a",
   "metadata": {},
   "outputs": [],
   "source": []
  },
  {
   "cell_type": "code",
   "execution_count": null,
   "id": "a8a1254f",
   "metadata": {},
   "outputs": [],
   "source": []
  },
  {
   "cell_type": "code",
   "execution_count": null,
   "id": "ce87c06b",
   "metadata": {},
   "outputs": [],
   "source": []
  },
  {
   "cell_type": "markdown",
   "id": "cdc7a39b",
   "metadata": {},
   "source": [
    "## 1. Concatenating NumPy Arrays\n",
    "<img align=\"right\" width=\"400\" height=\"200\"  src=\"images/concataxis1.png\" >\n",
    "<img align=\"left\" width=\"500\" height=\"400\"  src=\"images/concataxis0.png\" > \n",
    "\n",
    "<br><br><br><br><br><br><br><br><br><br>\n",
    "\n",
    "The `np.concatenate()` method is used to join arrays with respect to given axis.\n",
    "\n",
    "```\n",
    "np.concatenate(tup, axis=0)\n",
    "```\n",
    "\n",
    "- Where `tup` is comma separated ndarrays\n",
    "- If axis is 0, it will join the arrays by row-wise (vertically). For 2-D arrays, the number of columns must match.\n",
    "- If axis is 1, it will join the arrays by column-wise (horizontally). For 2-D arrays, the number of rows must match.\n",
    "- For 1-D arrays, the arrays can be of any size/length.\n",
    "- The original arrays remains as such, as it does not occur in-place."
   ]
  },
  {
   "cell_type": "code",
   "execution_count": null,
   "id": "af1bb467",
   "metadata": {},
   "outputs": [],
   "source": []
  },
  {
   "cell_type": "code",
   "execution_count": null,
   "id": "b74d3b49",
   "metadata": {},
   "outputs": [],
   "source": []
  },
  {
   "cell_type": "markdown",
   "id": "8bf21ff4",
   "metadata": {},
   "source": [
    "**Example:** Concatenate two 1-D Arrays along axis = 0 (row wise). The 1-D arrays can be of any size/length."
   ]
  },
  {
   "cell_type": "code",
   "execution_count": 2,
   "id": "328b234a",
   "metadata": {},
   "outputs": [
    {
     "name": "stdout",
     "output_type": "stream",
     "text": [
      "arr1 =  [46 98 85 20 31]\n",
      "arr2 =  [29 57 55]\n"
     ]
    }
   ],
   "source": [
    "import numpy as np\n",
    "arr1 = np.random.randint(low = 1, high = 100, size = 5)\n",
    "arr2 = np.random.randint(low = 1, high = 100, size = 3)\n",
    "print(\"arr1 = \", arr1)\n",
    "print(\"arr2 = \", arr2)\n"
   ]
  },
  {
   "cell_type": "code",
   "execution_count": 6,
   "id": "ce8dee83",
   "metadata": {},
   "outputs": [
    {
     "name": "stdout",
     "output_type": "stream",
     "text": [
      "\n",
      "np.concatenate((arr1,arr2)) =  [46 98 85 20 31 29 57 55]\n"
     ]
    }
   ],
   "source": [
    "\n",
    "# arr3 = np.concatenate((arr1, arr2))\n",
    "arr3 = np.concatenate((arr1, arr2), axis=0)\n",
    "print(\"\\nnp.concatenate((arr1,arr2)) = \", arr3)"
   ]
  },
  {
   "cell_type": "markdown",
   "id": "c9ef53fe",
   "metadata": {},
   "source": [
    "You cannot concatenate 1-D arrays on `axis=1`, as it do not exist :)"
   ]
  },
  {
   "cell_type": "code",
   "execution_count": null,
   "id": "3c1f6ed2",
   "metadata": {},
   "outputs": [],
   "source": []
  },
  {
   "cell_type": "code",
   "execution_count": null,
   "id": "329dc56a",
   "metadata": {},
   "outputs": [],
   "source": []
  },
  {
   "cell_type": "code",
   "execution_count": null,
   "id": "7e30be44",
   "metadata": {},
   "outputs": [],
   "source": []
  },
  {
   "cell_type": "code",
   "execution_count": null,
   "id": "c8652f5e",
   "metadata": {},
   "outputs": [],
   "source": []
  },
  {
   "cell_type": "markdown",
   "id": "1453c811",
   "metadata": {},
   "source": [
    "**Example:** Concatenate two 2-D Arrays along `axis=0` (vertically/row-wise). The number of columns of two arrays must match."
   ]
  },
  {
   "cell_type": "code",
   "execution_count": 7,
   "id": "86f79a6f",
   "metadata": {},
   "outputs": [
    {
     "name": "stdout",
     "output_type": "stream",
     "text": [
      "arr1 = \n",
      " [[8 6 6]\n",
      " [7 6 2]]\n",
      "arr2 = \n",
      " [[6 4 4]\n",
      " [3 6 3]\n",
      " [7 5 2]]\n",
      "arr1.shape = \n",
      " (2, 3)\n",
      "arr2.shape = \n",
      " (3, 3)\n"
     ]
    }
   ],
   "source": [
    "arr1 = np.random.randint(low = 1, high = 10, size = (2,3))\n",
    "arr2 = np.random.randint(low = 1, high = 10, size = (3,3))\n",
    "print(\"arr1 = \\n\", arr1)\n",
    "print(\"arr2 = \\n\", arr2)\n",
    "print(\"arr1.shape = \\n\", arr1.shape)\n",
    "print(\"arr2.shape = \\n\", arr2.shape)\n",
    "\n"
   ]
  },
  {
   "cell_type": "code",
   "execution_count": 9,
   "id": "b1c338e3",
   "metadata": {},
   "outputs": [
    {
     "name": "stdout",
     "output_type": "stream",
     "text": [
      "\n",
      "np.concatenate((arr1,arr2)) = \n",
      " [[8 6 6]\n",
      " [7 6 2]\n",
      " [6 4 4]\n",
      " [3 6 3]\n",
      " [7 5 2]]\n",
      "arr3.shape : (5, 3)\n"
     ]
    }
   ],
   "source": [
    "\n",
    "arr3 = np.concatenate((arr1, arr2), axis=0)\n",
    "print(\"\\nnp.concatenate((arr1,arr2)) = \\n\", arr3)\n",
    "print(\"arr3.shape :\", arr3.shape)"
   ]
  },
  {
   "cell_type": "code",
   "execution_count": null,
   "id": "fd8cb1ba",
   "metadata": {},
   "outputs": [],
   "source": []
  },
  {
   "cell_type": "code",
   "execution_count": null,
   "id": "b9d81516",
   "metadata": {},
   "outputs": [],
   "source": []
  },
  {
   "cell_type": "code",
   "execution_count": null,
   "id": "20867721",
   "metadata": {},
   "outputs": [],
   "source": []
  },
  {
   "cell_type": "code",
   "execution_count": null,
   "id": "c66729fa",
   "metadata": {},
   "outputs": [],
   "source": []
  },
  {
   "cell_type": "markdown",
   "id": "280eed63",
   "metadata": {},
   "source": [
    "**Example:** Concatenate two 2-D Arrays along `axis=1` (horizontally/column-wise). The number of rows of two arrays must match."
   ]
  },
  {
   "cell_type": "code",
   "execution_count": 10,
   "id": "b2096ab9",
   "metadata": {},
   "outputs": [
    {
     "name": "stdout",
     "output_type": "stream",
     "text": [
      "arr1 = \n",
      " [[9 8]\n",
      " [8 7]]\n",
      "arr2 = \n",
      " [[6 3 9]\n",
      " [6 8 8]]\n",
      "arr1.shape = \n",
      " (2, 2)\n",
      "arr2.shape = \n",
      " (2, 3)\n"
     ]
    }
   ],
   "source": [
    "arr1 = np.random.randint(low = 1, high = 10, size = (2,2))\n",
    "arr2 = np.random.randint(low = 1, high = 10, size = (2,3))\n",
    "print(\"arr1 = \\n\", arr1)\n",
    "print(\"arr2 = \\n\", arr2)\n",
    "print(\"arr1.shape = \\n\", arr1.shape)\n",
    "print(\"arr2.shape = \\n\", arr2.shape)\n",
    "\n",
    "\n"
   ]
  },
  {
   "cell_type": "code",
   "execution_count": 11,
   "id": "ce02ec31",
   "metadata": {},
   "outputs": [
    {
     "name": "stdout",
     "output_type": "stream",
     "text": [
      "\n",
      "np.concatenate((arr1,arr2)) = \n",
      " [[9 8 6 3 9]\n",
      " [8 7 6 8 8]]\n"
     ]
    }
   ],
   "source": [
    "arr3 = np.concatenate((arr1, arr2), axis=1)\n",
    "print(\"\\nnp.concatenate((arr1,arr2)) = \\n\", arr3)"
   ]
  },
  {
   "cell_type": "code",
   "execution_count": null,
   "id": "49d3454c",
   "metadata": {},
   "outputs": [],
   "source": []
  },
  {
   "cell_type": "code",
   "execution_count": null,
   "id": "99a98133",
   "metadata": {},
   "outputs": [],
   "source": []
  },
  {
   "cell_type": "code",
   "execution_count": null,
   "id": "d9bb81dd",
   "metadata": {},
   "outputs": [],
   "source": []
  },
  {
   "cell_type": "code",
   "execution_count": null,
   "id": "b9ab3618",
   "metadata": {},
   "outputs": [],
   "source": []
  },
  {
   "cell_type": "code",
   "execution_count": null,
   "id": "41eba9f3",
   "metadata": {},
   "outputs": [],
   "source": []
  },
  {
   "cell_type": "code",
   "execution_count": null,
   "id": "d9bf0876",
   "metadata": {},
   "outputs": [],
   "source": []
  },
  {
   "cell_type": "markdown",
   "id": "9ad0ca2a",
   "metadata": {},
   "source": [
    "## 2. Stacking NumPy Arrays\n",
    "- Concatenating joins a sequence of arrays along an existing axis, and stacking joins a sequence of arrays along existing as well as along a new axis.\n",
    "- We can perform stacking along three dimensions:\n",
    "    - `np.vstack()` : it performs vertical stacking along the rows.\n",
    "    - `np.hstack()` : it performs horizontal stacking along with the columns.\n",
    "    - `np.dstack()` : it performs in-depth stacking along a new third axis (depth).\n",
    "\n",
    "**Note:** \n",
    "- `numpy.stack()` is the most general of the three methods, offering an axis parameter for specifying which way to put the arrays together.\n",
    "- `np.column_stack()` is used to stack 1-D arrays as columns into 2-D array.\n",
    "- `np.row_stack()` is used to stack 1-D arrays as rows into 2-D array."
   ]
  },
  {
   "cell_type": "markdown",
   "id": "6b791ea8",
   "metadata": {},
   "source": [
    "<img align=\"right\" width=\"250\" height=\"100\"  src=\"images/vstackfinal.png\" > \n",
    "\n",
    "### a. Use `np.vstack()` for Row-Wise Concatenation\n",
    "The `np.vstack()` method is used to stack arrays vertically or row-wise.\n",
    "\n",
    "```\n",
    "np.vstack(tup)\n",
    "```\n",
    "\n",
    "- Where `tup` is comma separated ndarrays\n",
    "- 1-D arrays must have the same size/length, while for 2-D arrays, the number of columns must match.\n",
    "- It returns an ndarray formed by stacking the given arrays, will be at least 2-D.\n",
    "- The original arrays remains as such, as it does not occur in-place."
   ]
  },
  {
   "cell_type": "markdown",
   "id": "3c58a9cf",
   "metadata": {},
   "source": [
    "**Example:** Perform vertical stacking of two 1-D Arrays, which must have the same size/length."
   ]
  },
  {
   "cell_type": "code",
   "execution_count": 12,
   "id": "0a1ba250",
   "metadata": {},
   "outputs": [
    {
     "name": "stdout",
     "output_type": "stream",
     "text": [
      "arr1 =  [4 3 2 6]\n",
      "arr2 =  [2 9 9 3]\n",
      "arr1.shape = \n",
      " (4,)\n",
      "arr2.shape = \n",
      " (4,)\n"
     ]
    }
   ],
   "source": [
    "import numpy as np\n",
    "arr1 = np.random.randint(low = 1, high = 10, size = 4)\n",
    "arr2 = np.random.randint(low = 1, high = 10, size = 4)\n",
    "\n",
    "print(\"arr1 = \", arr1)\n",
    "print(\"arr2 = \", arr2)\n",
    "print(\"arr1.shape = \\n\", arr1.shape)\n",
    "print(\"arr2.shape = \\n\", arr2.shape)\n",
    "  \n"
   ]
  },
  {
   "cell_type": "code",
   "execution_count": 13,
   "id": "4223f2b5",
   "metadata": {},
   "outputs": [
    {
     "name": "stdout",
     "output_type": "stream",
     "text": [
      "\n",
      "np.vstack((arr1, arr2)):\n",
      "  [[4 3 2 6]\n",
      " [2 9 9 3]]\n"
     ]
    }
   ],
   "source": [
    "arr3 = np.vstack((arr1, arr2))\n",
    "\n",
    "print (\"\\nnp.vstack((arr1, arr2)):\\n \", arr3)"
   ]
  },
  {
   "cell_type": "markdown",
   "id": "eaca3c1e",
   "metadata": {},
   "source": [
    "Note: The output array is a 2-D array"
   ]
  },
  {
   "cell_type": "code",
   "execution_count": null,
   "id": "fb1fa138",
   "metadata": {},
   "outputs": [],
   "source": []
  },
  {
   "cell_type": "code",
   "execution_count": null,
   "id": "37503eb6",
   "metadata": {},
   "outputs": [],
   "source": []
  },
  {
   "cell_type": "code",
   "execution_count": null,
   "id": "130075f3",
   "metadata": {},
   "outputs": [],
   "source": []
  },
  {
   "cell_type": "code",
   "execution_count": null,
   "id": "a92c8ce6",
   "metadata": {},
   "outputs": [],
   "source": []
  },
  {
   "cell_type": "markdown",
   "id": "29694002",
   "metadata": {},
   "source": [
    "**Example:** Perform vertical stacking of two 2-D Arrays. The number of columns of two arrays must match"
   ]
  },
  {
   "cell_type": "code",
   "execution_count": 14,
   "id": "dd21992c",
   "metadata": {},
   "outputs": [
    {
     "name": "stdout",
     "output_type": "stream",
     "text": [
      "arr1 = \n",
      " [[7 9 6]\n",
      " [4 6 4]]\n",
      "arr2 = \n",
      " [[7 9 6]\n",
      " [7 9 6]\n",
      " [6 5 9]]\n",
      "arr1.shape = \n",
      " (2, 3)\n",
      "arr2.shape = \n",
      " (3, 3)\n"
     ]
    }
   ],
   "source": [
    "arr1 = np.random.randint(low = 1, high = 10, size = (2,3))\n",
    "arr2 = np.random.randint(low = 1, high = 10, size = (3,3))\n",
    "\n",
    "print(\"arr1 = \\n\", arr1)\n",
    "print(\"arr2 = \\n\", arr2)\n",
    "print(\"arr1.shape = \\n\", arr1.shape)\n",
    "print(\"arr2.shape = \\n\", arr2.shape)\n",
    "\n"
   ]
  },
  {
   "cell_type": "code",
   "execution_count": 15,
   "id": "cc12d273",
   "metadata": {},
   "outputs": [
    {
     "name": "stdout",
     "output_type": "stream",
     "text": [
      "\n",
      " np.vstack((arr1, arr2)):\n",
      "  [[7 9 6]\n",
      " [4 6 4]\n",
      " [7 9 6]\n",
      " [7 9 6]\n",
      " [6 5 9]]\n"
     ]
    }
   ],
   "source": [
    "arr3 = np.vstack((arr1, arr2))\n",
    "print (\"\\n np.vstack((arr1, arr2)):\\n \", arr3)"
   ]
  },
  {
   "cell_type": "code",
   "execution_count": null,
   "id": "90354fca",
   "metadata": {},
   "outputs": [],
   "source": []
  },
  {
   "cell_type": "code",
   "execution_count": null,
   "id": "780d1db4",
   "metadata": {},
   "outputs": [],
   "source": []
  },
  {
   "cell_type": "markdown",
   "id": "2e1e3875",
   "metadata": {},
   "source": [
    "<img align=\"right\" width=\"250\" height=\"100\"  src=\"images/hstackfinal.png\" > \n",
    "\n",
    "### b. Using `np.hstack()` for Column-Wise Concatenation\n",
    "The `np.hstack()` method is used to stack arrays horizontally or column-wise.\n",
    "\n",
    "```\n",
    "np.hstack(tup)\n",
    "```\n",
    "\n",
    "- Where `tup` is comma separated ndarrays\n",
    "- 1-D arrays can have any size/length, while for 2-D arrays, the number of rows must match.\n",
    "- It returns an ndarray formed by stacking the given arrays.\n",
    "- The original arrays remains as such, as it does not occur in-place."
   ]
  },
  {
   "cell_type": "code",
   "execution_count": null,
   "id": "0650206c",
   "metadata": {},
   "outputs": [],
   "source": []
  },
  {
   "cell_type": "code",
   "execution_count": null,
   "id": "096b7d76",
   "metadata": {},
   "outputs": [],
   "source": []
  },
  {
   "cell_type": "code",
   "execution_count": null,
   "id": "deceefd3",
   "metadata": {},
   "outputs": [],
   "source": []
  },
  {
   "cell_type": "markdown",
   "id": "7e71cc75",
   "metadata": {},
   "source": [
    "**Example:** Perform horizontal stacking of two 1-D Arrays, which can be of different  size/length"
   ]
  },
  {
   "cell_type": "code",
   "execution_count": 16,
   "id": "bac46141",
   "metadata": {},
   "outputs": [
    {
     "name": "stdout",
     "output_type": "stream",
     "text": [
      "arr1 =  [4 5 2 5 8]\n",
      "arr2 =  [4 3 9 2]\n",
      "arr1.shape = \n",
      " (5,)\n",
      "arr2.shape = \n",
      " (4,)\n"
     ]
    }
   ],
   "source": [
    "arr1 = np.random.randint(low = 1, high = 10, size = 5)\n",
    "arr2 = np.random.randint(low = 1, high = 10, size = 4)\n",
    "print(\"arr1 = \", arr1)\n",
    "print(\"arr2 = \", arr2)\n",
    "print(\"arr1.shape = \\n\", arr1.shape)\n",
    "print(\"arr2.shape = \\n\", arr2.shape)\n",
    "\n",
    "  \n"
   ]
  },
  {
   "cell_type": "code",
   "execution_count": 17,
   "id": "8854633d",
   "metadata": {},
   "outputs": [
    {
     "name": "stdout",
     "output_type": "stream",
     "text": [
      "\n",
      " np.hstack((arr1, arr2)):\n",
      "  [4 5 2 5 8 4 3 9 2]\n"
     ]
    }
   ],
   "source": [
    "arr3 = np.hstack((arr1, arr2))\n",
    "print (\"\\n np.hstack((arr1, arr2)):\\n \", arr3)"
   ]
  },
  {
   "cell_type": "markdown",
   "id": "5d786095",
   "metadata": {},
   "source": [
    "Note: The output array is a 1-D array"
   ]
  },
  {
   "cell_type": "code",
   "execution_count": null,
   "id": "60411809",
   "metadata": {},
   "outputs": [],
   "source": []
  },
  {
   "cell_type": "code",
   "execution_count": null,
   "id": "7c09e6f2",
   "metadata": {},
   "outputs": [],
   "source": []
  },
  {
   "cell_type": "code",
   "execution_count": null,
   "id": "e66c7ced",
   "metadata": {},
   "outputs": [],
   "source": []
  },
  {
   "cell_type": "code",
   "execution_count": null,
   "id": "ba9d6be4",
   "metadata": {},
   "outputs": [],
   "source": []
  },
  {
   "cell_type": "code",
   "execution_count": null,
   "id": "58f7bb5f",
   "metadata": {},
   "outputs": [],
   "source": []
  },
  {
   "cell_type": "code",
   "execution_count": null,
   "id": "3351f377",
   "metadata": {},
   "outputs": [],
   "source": []
  },
  {
   "cell_type": "markdown",
   "id": "f7eb1d49",
   "metadata": {},
   "source": [
    "**Example:** Perform horizontal stacking of two 2-D Arrays. The number of rows of two arrays must match"
   ]
  },
  {
   "cell_type": "code",
   "execution_count": 18,
   "id": "1b6fce65",
   "metadata": {},
   "outputs": [
    {
     "name": "stdout",
     "output_type": "stream",
     "text": [
      "arr1 = \n",
      " [[6 9]\n",
      " [6 5]]\n",
      "arr2 = \n",
      " [[2 7 1]\n",
      " [8 1 6]]\n"
     ]
    }
   ],
   "source": [
    "arr1 = np.random.randint(low = 1, high = 10, size = (2,2))\n",
    "arr2 = np.random.randint(low = 1, high = 10, size = (2,3))\n",
    "print(\"arr1 = \\n\", arr1)\n",
    "print(\"arr2 = \\n\", arr2)\n",
    "\n"
   ]
  },
  {
   "cell_type": "code",
   "execution_count": 19,
   "id": "0715afa4",
   "metadata": {},
   "outputs": [
    {
     "name": "stdout",
     "output_type": "stream",
     "text": [
      "\n",
      " np.hstack((arr1, arr2)):\n",
      "  [[6 9 2 7 1]\n",
      " [6 5 8 1 6]]\n"
     ]
    }
   ],
   "source": [
    "arr3 = np.hstack((arr1, arr2))\n",
    "print (\"\\n np.hstack((arr1, arr2)):\\n \", arr3)"
   ]
  },
  {
   "cell_type": "code",
   "execution_count": null,
   "id": "6fa13ccb",
   "metadata": {},
   "outputs": [],
   "source": []
  },
  {
   "cell_type": "code",
   "execution_count": null,
   "id": "bfecca21",
   "metadata": {},
   "outputs": [],
   "source": []
  },
  {
   "cell_type": "code",
   "execution_count": null,
   "id": "3bcb6fed",
   "metadata": {},
   "outputs": [],
   "source": []
  },
  {
   "cell_type": "code",
   "execution_count": null,
   "id": "b2cb4513",
   "metadata": {},
   "outputs": [],
   "source": []
  },
  {
   "cell_type": "markdown",
   "id": "538597f0",
   "metadata": {},
   "source": [
    "### e. Using `np.stack()`\n",
    "\n",
    "- The `np.stack()` method is used to join a sequence of same dimension arrays along a new axis.\n",
    "- The axis parameter specifies the index of the new axis in the dimensions of the result. \n",
    "- For example, if axis=0 it will be the first dimension and if axis=-1 it will be the last dimension.\n",
    "```\n",
    "np.stack(a1, a2, a3, ..., axis=0)\n",
    "```\n",
    "\n",
    "- Where `tup` is comma separated ndarrays\n",
    "- 1-D or 2-D arrays must have the same shape, while n-D arrays must have the same shape along all but the third axis.\n",
    "- It returns the array formed by stacking the given arrays, which has one more dimension than the input arrays.\n",
    "- This function makes most sense for arrays with up to 3 dimensions. For instance, for pixel-data with a height (first axis), width (second axis), and r/g/b channels (third axis).\n",
    "\n",
    "\n",
    "\n",
    "**Note:** Concatenating joins a sequence of tensors along an existing axis, and stacking joins a sequence of tensors along a new axis"
   ]
  },
  {
   "cell_type": "markdown",
   "id": "bf7c1a4c",
   "metadata": {},
   "source": [
    "**Example:** Perform stacking of two 1-D Arrays, which must have the same size/shape."
   ]
  },
  {
   "cell_type": "code",
   "execution_count": 20,
   "id": "d41eb42c",
   "metadata": {},
   "outputs": [
    {
     "name": "stdout",
     "output_type": "stream",
     "text": [
      "arr1 =  [4 6 4 2]\n",
      "arr2 =  [1 7 7 6]\n",
      "arr1.shape = \n",
      " (4,)\n",
      "arr2.shape = \n",
      " (4,)\n"
     ]
    }
   ],
   "source": [
    "import numpy as np\n",
    "arr1 = np.random.randint(low = 1, high = 10, size = 4)\n",
    "arr2 = np.random.randint(low = 1, high = 10, size = 4)\n",
    "print(\"arr1 = \", arr1)\n",
    "print(\"arr2 = \", arr2)\n",
    "print(\"arr1.shape = \\n\", arr1.shape)\n",
    "print(\"arr2.shape = \\n\", arr2.shape)\n",
    "\n"
   ]
  },
  {
   "cell_type": "code",
   "execution_count": 22,
   "id": "037462ff",
   "metadata": {
    "scrolled": true
   },
   "outputs": [
    {
     "name": "stdout",
     "output_type": "stream",
     "text": [
      "\n",
      " np.stack(arr1, arr2, axis=0):\n",
      "  [[4 6 4 2]\n",
      " [1 7 7 6]]\n",
      "\n",
      " np.stack((arr1, arr2), axis=1):\n",
      "  [[4 1]\n",
      " [6 7]\n",
      " [4 7]\n",
      " [2 6]]\n"
     ]
    }
   ],
   "source": [
    "# Stacking the two arrays along axis 0\n",
    "arr3 = np.stack((arr1, arr2), axis = 0)\n",
    "print (\"\\n np.stack(arr1, arr2, axis=0):\\n \", arr3)\n",
    "  \n",
    "# # Stacking the two arrays along axis 1\n",
    "arr4 = np.stack((arr1, arr2), axis = 1)\n",
    "print (\"\\n np.stack((arr1, arr2), axis=1):\\n \", arr4)\n"
   ]
  },
  {
   "cell_type": "code",
   "execution_count": null,
   "id": "4179dc94",
   "metadata": {},
   "outputs": [],
   "source": []
  },
  {
   "cell_type": "code",
   "execution_count": null,
   "id": "6cf1d2f8",
   "metadata": {},
   "outputs": [],
   "source": []
  },
  {
   "cell_type": "code",
   "execution_count": null,
   "id": "410449f1",
   "metadata": {},
   "outputs": [],
   "source": []
  },
  {
   "cell_type": "code",
   "execution_count": null,
   "id": "c33b2b61",
   "metadata": {},
   "outputs": [],
   "source": []
  },
  {
   "cell_type": "markdown",
   "id": "ec563ebb",
   "metadata": {},
   "source": [
    "**Example:** Perform stacking of two 2-D Arrays, which must have the same size/shape."
   ]
  },
  {
   "cell_type": "code",
   "execution_count": 23,
   "id": "75d2beb7",
   "metadata": {},
   "outputs": [
    {
     "name": "stdout",
     "output_type": "stream",
     "text": [
      "arr1 = \n",
      " [[9 8 9]\n",
      " [7 7 7]]\n",
      "arr2 = \n",
      " [[3 4 7]\n",
      " [9 8 2]]\n",
      "arr1.shape = \n",
      " (2, 3)\n",
      "arr2.shape = \n",
      " (2, 3)\n"
     ]
    }
   ],
   "source": [
    "import numpy as np\n",
    "arr1 = np.random.randint(low = 1, high = 10, size = (2,3))\n",
    "arr2 = np.random.randint(low = 1, high = 10, size = (2,3))\n",
    "print(\"arr1 = \\n\", arr1)\n",
    "print(\"arr2 = \\n\", arr2)\n",
    "print(\"arr1.shape = \\n\", arr1.shape)\n",
    "print(\"arr2.shape = \\n\", arr2.shape)\n",
    "\n",
    "\n"
   ]
  },
  {
   "cell_type": "code",
   "execution_count": 30,
   "id": "8bc1301b",
   "metadata": {},
   "outputs": [
    {
     "name": "stdout",
     "output_type": "stream",
     "text": [
      "\n",
      " np.stack((arr1, arr2), axis=0): \n",
      " [[[9 8 9]\n",
      "  [7 7 7]]\n",
      "\n",
      " [[3 4 7]\n",
      "  [9 8 2]]]\n",
      "arr3.shape :  (2, 2, 3)\n",
      "\n",
      " np.stack((arr1, arr2), axis=1):\n",
      "  [[[9 8 9]\n",
      "  [3 4 7]]\n",
      "\n",
      " [[7 7 7]\n",
      "  [9 8 2]]]\n",
      "arr3.shape :  (2, 2, 3)\n",
      "\n",
      " np.stack((arr1, arr2), axis=-1):\n",
      "  [[[9 3]\n",
      "  [8 4]\n",
      "  [9 7]]\n",
      "\n",
      " [[7 9]\n",
      "  [7 8]\n",
      "  [7 2]]]\n",
      "arr3.shape :  (2, 3, 2)\n"
     ]
    }
   ],
   "source": [
    "# Stacking the two arrays along axis 0\n",
    "arr3 = np.stack((arr1, arr2), axis = 0)\n",
    "print (\"\\n np.stack((arr1, arr2), axis=0): \\n\", arr3)\n",
    "print(\"arr3.shape : \", arr3.shape)\n",
    "  \n",
    "# Stacking the two arrays along axis 1\n",
    "arr4 = np.stack((arr1, arr2), axis = 1)\n",
    "print (\"\\n np.stack((arr1, arr2), axis=1):\\n \", arr4)\n",
    "print(\"arr3.shape : \", arr4.shape)\n",
    "\n",
    "# Stacking the two arrays along last axis\n",
    "arr5 = np.stack((arr1, arr2), axis = -1)\n",
    "print (\"\\n np.stack((arr1, arr2), axis=-1):\\n \", arr5)\n",
    "print(\"arr3.shape : \", arr5.shape)\n"
   ]
  },
  {
   "cell_type": "code",
   "execution_count": null,
   "id": "0cf6f20b",
   "metadata": {},
   "outputs": [],
   "source": []
  },
  {
   "cell_type": "code",
   "execution_count": null,
   "id": "22ff7067",
   "metadata": {},
   "outputs": [],
   "source": []
  },
  {
   "cell_type": "code",
   "execution_count": null,
   "id": "643a3e7b",
   "metadata": {},
   "outputs": [],
   "source": []
  },
  {
   "cell_type": "markdown",
   "id": "3bb7e22c",
   "metadata": {},
   "source": [
    "## 3. Splitting NumPy Arrays\n",
    "- Splitting is reverse operation of Joining, and is used to split one array into multiple arrays....\n",
    "- We can perform splitting along three dimensions:\n",
    "    - `np.split()` : Split array into a list of multiple sub-arrays of equal size.\n",
    "    - `np.hsplit()` : Split array into multiple sub-arrays horizontally (column wise).\n",
    "    - `np.vsplit()` : Split array into multiple sub-arrays vertically (row wise)."
   ]
  },
  {
   "cell_type": "code",
   "execution_count": null,
   "id": "1093d12a",
   "metadata": {},
   "outputs": [],
   "source": []
  },
  {
   "cell_type": "code",
   "execution_count": null,
   "id": "ff25543b",
   "metadata": {},
   "outputs": [],
   "source": []
  },
  {
   "cell_type": "code",
   "execution_count": null,
   "id": "47d0d55b",
   "metadata": {},
   "outputs": [],
   "source": []
  },
  {
   "cell_type": "code",
   "execution_count": null,
   "id": "51369992",
   "metadata": {},
   "outputs": [],
   "source": []
  },
  {
   "cell_type": "markdown",
   "id": "968822fb",
   "metadata": {},
   "source": [
    "### a. The `np.split()` and `np.array_split()` Methods\n",
    "\n",
    "<img align=\"left\" width=\"400\" height=\"200\"  src=\"images/split.png\" > \n",
    "<img align=\"right\" width=\"400\" height=\"200\"  src=\"images/array_split.png\" > \n",
    "\n",
    "<br><br><br><br><br><br><br><br><br><br>\n",
    "- The `np.split()` method splits an array into multiple sub-arrays of equal sizes.\n",
    "\n",
    "```\n",
    "np.split(arr, size, axis=0)\n",
    "```\n",
    "- Where,\n",
    "    - `arr` is the array to be divided into sub-arrays.\n",
    "    - `size` is an size of the sub-arrays, into which `arr` will be divided along the axis. \n",
    "    - `axis` is the axis along which to split, default is 0.\n",
    "- If such split is not possible, an error is raised. To avoid error you can use `np.array_split()`\n",
    "- It returns a list of sub-arrays as views into `arr`"
   ]
  },
  {
   "cell_type": "markdown",
   "id": "9b03967e",
   "metadata": {},
   "source": [
    "**Example:** Use of `split()`"
   ]
  },
  {
   "cell_type": "code",
   "execution_count": 31,
   "id": "93d40d2b",
   "metadata": {},
   "outputs": [
    {
     "name": "stdout",
     "output_type": "stream",
     "text": [
      "arr1:\n",
      " [2 3 4 9 6 5 2 2 9 1 4 3 5 7 2 7 2 4 8 5]\n"
     ]
    }
   ],
   "source": [
    "arr1 = np.random.randint(low = 1, high = 10, size = 20)\n",
    "print(\"arr1:\\n\",arr1)\n",
    "\n",
    "#"
   ]
  },
  {
   "cell_type": "code",
   "execution_count": 35,
   "id": "73811ea8",
   "metadata": {},
   "outputs": [
    {
     "name": "stdout",
     "output_type": "stream",
     "text": [
      "\n",
      "Sub-arrays: \n",
      " [array([2, 3, 4, 9]), array([6, 5, 2, 2]), array([9, 1, 4, 3]), array([5, 7, 2, 7]), array([2, 4, 8, 5])]\n"
     ]
    }
   ],
   "source": [
    "#  The split size must be a factor of array size (can be 1, 2, 4, 5, 10) \n",
    "print(\"\\nSub-arrays: \\n\", np.split(arr1, 5))"
   ]
  },
  {
   "cell_type": "code",
   "execution_count": null,
   "id": "0b077200",
   "metadata": {},
   "outputs": [],
   "source": []
  },
  {
   "cell_type": "code",
   "execution_count": null,
   "id": "05226cff",
   "metadata": {},
   "outputs": [],
   "source": []
  },
  {
   "cell_type": "code",
   "execution_count": null,
   "id": "334e0358",
   "metadata": {},
   "outputs": [],
   "source": []
  },
  {
   "cell_type": "code",
   "execution_count": null,
   "id": "0fe4f87c",
   "metadata": {},
   "outputs": [],
   "source": []
  },
  {
   "cell_type": "markdown",
   "id": "5502e895",
   "metadata": {},
   "source": [
    "**Example:** Use of `array_split()`"
   ]
  },
  {
   "cell_type": "code",
   "execution_count": 36,
   "id": "37370678",
   "metadata": {},
   "outputs": [
    {
     "name": "stdout",
     "output_type": "stream",
     "text": [
      "arr1:\n",
      " [9 7 4 6 7 3 3 3 6 8 6 3 3 6 4 2 5 7 6 4]\n"
     ]
    }
   ],
   "source": [
    "# create an array of float type\n",
    "arr1 = np.random.randint(low = 1, high = 10, size = 20)\n",
    "print(\"arr1:\\n\",arr1)\n",
    "\n"
   ]
  },
  {
   "cell_type": "code",
   "execution_count": 38,
   "id": "185505e5",
   "metadata": {},
   "outputs": [
    {
     "name": "stdout",
     "output_type": "stream",
     "text": [
      "\n",
      "Sub-arrays: \n",
      " [array([9, 7, 4, 6]), array([7, 3, 3, 3]), array([6, 8, 6]), array([3, 3, 6]), array([4, 2, 5]), array([7, 6, 4])]\n"
     ]
    }
   ],
   "source": [
    "# The array_split() will not flag an error if size is not a factor of array size (will manage)\n",
    "print(\"\\nSub-arrays: \\n\", np.array_split(arr1, 6))"
   ]
  },
  {
   "cell_type": "code",
   "execution_count": 39,
   "id": "24562c8f",
   "metadata": {},
   "outputs": [
    {
     "data": {
      "text/plain": [
       "[array([9, 7, 4, 6]),\n",
       " array([7, 3, 3, 3]),\n",
       " array([6, 8, 6]),\n",
       " array([3, 3, 6]),\n",
       " array([4, 2, 5]),\n",
       " array([7, 6, 4])]"
      ]
     },
     "execution_count": 39,
     "metadata": {},
     "output_type": "execute_result"
    }
   ],
   "source": [
    "a = np.array_split(arr1, 6)\n",
    "a"
   ]
  },
  {
   "cell_type": "code",
   "execution_count": 40,
   "id": "3df79465",
   "metadata": {},
   "outputs": [
    {
     "name": "stdout",
     "output_type": "stream",
     "text": [
      "[9 7 4 6]\n",
      "[7 3 3 3]\n",
      "[6 8 6]\n",
      "[3 3 6]\n",
      "[4 2 5]\n",
      "[7 6 4]\n"
     ]
    }
   ],
   "source": [
    "for i in a:\n",
    "    print(i)"
   ]
  },
  {
   "cell_type": "code",
   "execution_count": null,
   "id": "4144eb48",
   "metadata": {},
   "outputs": [],
   "source": []
  },
  {
   "cell_type": "markdown",
   "id": "0a688f2a",
   "metadata": {},
   "source": [
    "<img align=\"right\" width=\"150\" height=\"50\"  src=\"images/hsplit.png\" > \n",
    "\n",
    "### b. The `np.hsplit()` Method\n",
    "- The `np.hsplit()` method is used to split an array into multiple sub-arrays horizontally (column-wise). \n",
    "- The `np.hsplit()` is equivalent to split with axis=1, the array is always split along the second axis regardless of the array dimension.\n",
    "\n",
    "```\n",
    "np.hsplit(arr, size)\n",
    "```\n",
    "- Where,\n",
    "    - `arr` is the array to be divided into sub-arrays.\n",
    "    - `size` is the size of the sub-arrays, into which `arr` will be divided along the axis. For `hsplit()`, size argument should be a factor of number of columns, else it flags an error\n",
    "- It returns a list of sub-arrays as views into `arr`"
   ]
  },
  {
   "cell_type": "markdown",
   "id": "6042a59e",
   "metadata": {},
   "source": [
    "**Example:**"
   ]
  },
  {
   "cell_type": "code",
   "execution_count": 52,
   "id": "d9baa401",
   "metadata": {},
   "outputs": [
    {
     "name": "stdout",
     "output_type": "stream",
     "text": [
      "arr1:\n",
      " [[ 0  1  2  3  4  5  6  7  8  9]\n",
      " [10 11 12 13 14 15 16 17 18 19]\n",
      " [20 21 22 23 24 25 26 27 28 29]\n",
      " [30 31 32 33 34 35 36 37 38 39]\n",
      " [40 41 42 43 44 45 46 47 48 49]\n",
      " [50 51 52 53 54 55 56 57 58 59]]\n",
      "shape:  (6, 10)\n"
     ]
    }
   ],
   "source": [
    "# create an array of float type with 4 rows and 5 columns with sequential values from 0 to 15\n",
    "arr1 = np.arange(60).reshape(6,10)\n",
    "# print array\n",
    "print(\"arr1:\\n\",arr1)\n",
    "print(\"shape: \", arr1.shape)"
   ]
  },
  {
   "cell_type": "code",
   "execution_count": 53,
   "id": "9d1e5fd3",
   "metadata": {},
   "outputs": [
    {
     "name": "stdout",
     "output_type": "stream",
     "text": [
      "\n",
      "Sub-arrays: \n",
      " [array([[ 0,  1],\n",
      "       [10, 11],\n",
      "       [20, 21],\n",
      "       [30, 31],\n",
      "       [40, 41],\n",
      "       [50, 51]]), array([[ 2,  3],\n",
      "       [12, 13],\n",
      "       [22, 23],\n",
      "       [32, 33],\n",
      "       [42, 43],\n",
      "       [52, 53]]), array([[ 4,  5],\n",
      "       [14, 15],\n",
      "       [24, 25],\n",
      "       [34, 35],\n",
      "       [44, 45],\n",
      "       [54, 55]]), array([[ 6,  7],\n",
      "       [16, 17],\n",
      "       [26, 27],\n",
      "       [36, 37],\n",
      "       [46, 47],\n",
      "       [56, 57]]), array([[ 8,  9],\n",
      "       [18, 19],\n",
      "       [28, 29],\n",
      "       [38, 39],\n",
      "       [48, 49],\n",
      "       [58, 59]])]\n"
     ]
    }
   ],
   "source": [
    "# horizontally split array into 2 subarrays\n",
    "print(\"\\nSub-arrays: \\n\", np.hsplit(arr1, 5))"
   ]
  },
  {
   "cell_type": "code",
   "execution_count": null,
   "id": "a93fa7c2",
   "metadata": {},
   "outputs": [],
   "source": []
  },
  {
   "cell_type": "code",
   "execution_count": null,
   "id": "2005681b",
   "metadata": {},
   "outputs": [],
   "source": []
  },
  {
   "cell_type": "code",
   "execution_count": null,
   "id": "6a7011a6",
   "metadata": {},
   "outputs": [],
   "source": []
  },
  {
   "cell_type": "code",
   "execution_count": null,
   "id": "ac90c444",
   "metadata": {},
   "outputs": [],
   "source": []
  },
  {
   "cell_type": "code",
   "execution_count": null,
   "id": "b9ea9ca1",
   "metadata": {},
   "outputs": [],
   "source": []
  },
  {
   "cell_type": "markdown",
   "id": "6fe57a59",
   "metadata": {},
   "source": [
    "<img align=\"right\" width=\"200\" height=\"50\"  src=\"images/vsplit.png\" > \n",
    "\n",
    "### c. The `np.vsplit()` Method\n",
    "- The `np.vsplit()` method is used to split an array into multiple sub-arrays vertically (row-wise). Not applicable for 1-D array.\n",
    "- The `np.vsplit()` is equivalent to split with axis=0, the array is always split along the first axis regardless of the array dimension.\n",
    "\n",
    "```\n",
    "np.vsplit(arr, size)\n",
    "```\n",
    "-Where,\n",
    "   - `arr` is the array to be divided into sub-arrays.\n",
    "   - `size` is the size of the sub-arrays, into which `arr` will be divided along the axis. For `vsplit()`, size argument should be a factor of number of rows, else it flags an error\n",
    "- It returns a list of sub-arrays as views into `arr`"
   ]
  },
  {
   "cell_type": "markdown",
   "id": "134c339a",
   "metadata": {},
   "source": [
    "**Example:**"
   ]
  },
  {
   "cell_type": "code",
   "execution_count": 54,
   "id": "b4f3ba75",
   "metadata": {},
   "outputs": [
    {
     "name": "stdout",
     "output_type": "stream",
     "text": [
      "arr1:\n",
      " [[ 0.  1.  2.  3.  4.]\n",
      " [ 5.  6.  7.  8.  9.]\n",
      " [10. 11. 12. 13. 14.]\n",
      " [15. 16. 17. 18. 19.]]\n",
      "shape:  (4, 5)\n"
     ]
    }
   ],
   "source": [
    "# create an array of float type with 4 rows and 5 columns with sequential values from 0 to 19\n",
    "arr1 = np.arange(20.0).reshape(4,5)\n",
    "print(\"arr1:\\n\",arr1)\n",
    "print(\"shape: \", arr1.shape)"
   ]
  },
  {
   "cell_type": "code",
   "execution_count": 55,
   "id": "ffb810cb",
   "metadata": {},
   "outputs": [
    {
     "name": "stdout",
     "output_type": "stream",
     "text": [
      "\n",
      "Sub-arrays: \n",
      " [array([[0., 1., 2., 3., 4.],\n",
      "       [5., 6., 7., 8., 9.]]), array([[10., 11., 12., 13., 14.],\n",
      "       [15., 16., 17., 18., 19.]])]\n"
     ]
    }
   ],
   "source": [
    "# vertically split array into 2 subarrays (remember size argument must be a factor of number of rows )\n",
    "print(\"\\nSub-arrays: \\n\", np.vsplit(arr1, 2))"
   ]
  },
  {
   "cell_type": "code",
   "execution_count": null,
   "id": "39f6ac6f",
   "metadata": {},
   "outputs": [],
   "source": []
  },
  {
   "cell_type": "code",
   "execution_count": null,
   "id": "f67a16e2",
   "metadata": {},
   "outputs": [],
   "source": []
  },
  {
   "cell_type": "markdown",
   "id": "97f3fa4e",
   "metadata": {},
   "source": [
    "### Check Your Concepts\n",
    "- Create a Numpy array with random values\n",
    "- How to choose elements from the list with different probability using NumPy?(Hint : np.random.choice())\n",
    "- How to get weighted random choice in Python?\n",
    "- Generate Random Numbers From The Uniform Distribution using NumPy\n",
    "- Get Random Elements form geometric distribution(np.ra\n",
    "- Get Random elements from Laplace distribution\n",
    "- Return a Matrix of random values from a uniform distribution(np.uniform)\n",
    "- Return a Matrix of random values from a Gaussian distribution\n",
    "- Different ways to convert a Python dictionary to a NumPy array\n",
    "- How to convert a list and tuple into NumPy arrays?\n",
    "- Ways to convert array of strings to array of floats\n",
    "- Convert a NumPy array into a csv file\n",
    "- How to Convert an image to NumPy array and save it to CSV file using Python?\n",
    "- How to save a NumPy array to a text file?\n",
    "- Load data from a text file(np.loadtext)\n",
    "- Plot line graph from NumPy array\n",
    "- Create Histogram using NumPy"
   ]
  },
  {
   "cell_type": "code",
   "execution_count": null,
   "id": "63019182",
   "metadata": {},
   "outputs": [],
   "source": []
  },
  {
   "cell_type": "markdown",
   "id": "363a7be2",
   "metadata": {},
   "source": [
    "## NumPy Normal Distribution\n",
    "- In this topic, we’ll learn how to use the Numpy random.normal function to create normal (or Gaussian) distributions. The functions  allow us to create distributions with specific means and standard distributions and we can also create distributions of different sizes.\n",
    "\n",
    "### What is the Normal (Gaussian) Distribution\n",
    "- The normal distribution describes a common phenomenon that occurs when data is spread in a certain way. This means that the data aren’t skewed in a particular way, but are also not jumbled all over the place. In fact, they form a bell-curve, similar to the chart below:\n",
    "![](images/Standard_deviation_diagram.svg_.png)\n",
    "\n",
    "By above figure, we can think that the heights and weights of people are generally normally-distributed. Similarly, blood pressure, marks on a test, and items produced by machinery.\n",
    "\n",
    "When we say that data are distributed normally, we mean:\n",
    "   - They are entered along a mean\n",
    "   - They follow conventions around standard deviations\n",
    "\n",
    "In the image above, the dark blue lines represent 1 standard deviation from the mean in both directions. According to a Gaussian distribution, `~68.2%` of values will fall within one standard deviation.\n",
    "\n",
    "\n",
    "### How to Use Numpy to Create a Normal Distribution\n",
    "The numpy `random.normal` function can be used to prepare arrays that fall into a normal, or Gaussian, distribution. The function is incredible versatile, in that is allows you to define various parameters to influence the array. Under the hood, Numpy ensures the resulting data are normally distributed. \n",
    "\n",
    "### Syntax:"
   ]
  },
  {
   "cell_type": "code",
   "execution_count": null,
   "id": "b732e1a4",
   "metadata": {},
   "outputs": [],
   "source": [
    "# Understanding the syntax of random.normal()\n",
    "normal(\n",
    "    loc=0.0,        # The mean of the distribution\n",
    "    scale=1.0,      # The standard deviation \n",
    "    size=None       # The size or shape of your array\n",
    ")"
   ]
  },
  {
   "cell_type": "markdown",
   "id": "9c2b7bcd",
   "metadata": {},
   "source": [
    "While the function only has `three parameters`, it provides significant opportunity to customize the returned array. Let’s learn a little more about these parameters:\n",
    "\n",
    "- loc= represents the mean (or centre) of the distribution and defaults to 0.0\n",
    "- scale= represents the standard deviation and defaults to 1.0\n",
    "- size= is a bit more complex. It accepts either an integer or a tuple of integers. If a tuple is passed, a 1-dimensional array of whatever value is passed in. If a tuple, such as (x, y) is passed in, an array of size x * y is returned."
   ]
  },
  {
   "cell_type": "code",
   "execution_count": 59,
   "id": "02cb5ab8",
   "metadata": {},
   "outputs": [
    {
     "name": "stdout",
     "output_type": "stream",
     "text": [
      "[ 1.08580205 -1.00254649 -1.57562234  0.52942974 -0.93335773 -0.06397628\n",
      " -0.5560088   0.59061684 -2.16067195  0.29742502  0.26129563  0.15891524\n",
      " -0.23255816 -0.70513909  0.80928489  0.18807104  0.60663586 -0.21600692\n",
      "  2.29304915  0.05102407]\n"
     ]
    }
   ],
   "source": [
    "# Let's create our first distribution\n",
    "import numpy as np\n",
    "norm = np.random.normal(size=20)\n",
    "print(norm)"
   ]
  },
  {
   "cell_type": "markdown",
   "id": "0440f142",
   "metadata": {},
   "source": [
    "#### Note:\n",
    "- In the example above, we created a normal distribution with `20` values in it, centred around a mean of `0`, with a standard deviation of `1`."
   ]
  },
  {
   "cell_type": "code",
   "execution_count": 60,
   "id": "34b9c6c2",
   "metadata": {},
   "outputs": [
    {
     "name": "stdout",
     "output_type": "stream",
     "text": [
      "Mean :  -0.0\n",
      "STD:  1.0\n"
     ]
    }
   ],
   "source": [
    "print(\"Mean : \",np.round(np.mean(norm)))\n",
    "print(\"STD: \",np.round(np.std(norm)))"
   ]
  },
  {
   "cell_type": "markdown",
   "id": "0b398936",
   "metadata": {},
   "source": [
    "### How to Plot a Normal Distribution Using Seaborn\n",
    "- We’ll use the `histplot` function, which is used to visualize distributions.\n"
   ]
  },
  {
   "cell_type": "code",
   "execution_count": 64,
   "id": "9816ccd3",
   "metadata": {},
   "outputs": [
    {
     "data": {
      "image/png": "[encoded data removed]",
      "text/plain": [
       "<Figure size 432x288 with 1 Axes>"
      ]
     },
     "metadata": {
      "needs_background": "light"
     },
     "output_type": "display_data"
    }
   ],
   "source": [
    "# Creating a first visualization\n",
    "import matplotlib.pyplot as plt\n",
    "import seaborn as sns\n",
    "sns.histplot(norm, kde=True)\n",
    "# sns.kdeplot(norm)\n",
    "\n",
    "\n",
    "plt.show()"
   ]
  },
  {
   "cell_type": "code",
   "execution_count": 67,
   "id": "2d32cad1",
   "metadata": {},
   "outputs": [
    {
     "data": {
      "image/png": "[encoded data removed]",
      "text/plain": [
       "<Figure size 432x288 with 1 Axes>"
      ]
     },
     "metadata": {
      "needs_background": "light"
     },
     "output_type": "display_data"
    }
   ],
   "source": [
    "# The above distribution doesn’t really look normal. This is because we’ve only pulled 20 values. Let’s create the example with 2000 values and see how the visualization changes:\n",
    "import matplotlib.pyplot as plt\n",
    "import seaborn as sns\n",
    "norm  = np.random.normal(size=2000)\n",
    "sns.histplot(norm, kde=True)\n",
    "\n",
    "plt.show()"
   ]
  },
  {
   "cell_type": "markdown",
   "id": "38dbeef5",
   "metadata": {},
   "source": [
    "### How to Modify the Mean of a Normal Distribution in Python’s Numpy\n",
    "By default, Numpy’s `random.normal()` function will use a mean of `0`. There will be many times when you want to modify this mean. This is easy to do using the `loc= argument`. The argument defaults to 0.0, but modifying its value will change the mean of the distribution."
   ]
  },
  {
   "cell_type": "code",
   "execution_count": 68,
   "id": "86083c2f",
   "metadata": {},
   "outputs": [
    {
     "data": {
      "image/png": "[encoded data removed]",
      "text/plain": [
       "<Figure size 432x288 with 1 Axes>"
      ]
     },
     "metadata": {
      "needs_background": "light"
     },
     "output_type": "display_data"
    }
   ],
   "source": [
    "# Changing the Mean of a Normal Distribution\n",
    "import matplotlib.pyplot as plt\n",
    "import seaborn as sns\n",
    "norm  = np.random.normal(loc=100,size=2000)\n",
    "sns.histplot(norm, kde=True)\n",
    "\n",
    "plt.show()\n",
    "# the distribution looks similar like above, but the data are centred around 100."
   ]
  },
  {
   "cell_type": "markdown",
   "id": "6ae1689d",
   "metadata": {},
   "source": [
    "### How to Modify the Standard Deviation of a Normal Distribution in Python’s Numpy\n",
    "- We can aslo modify the standard deviation of the dataset. This can be done using the scale= parameter. Let’s change the standard deviation to be 20."
   ]
  },
  {
   "cell_type": "code",
   "execution_count": 69,
   "id": "67896d74",
   "metadata": {},
   "outputs": [
    {
     "data": {
      "image/png": "[encoded data removed]",
      "text/plain": [
       "<Figure size 432x288 with 1 Axes>"
      ]
     },
     "metadata": {
      "needs_background": "light"
     },
     "output_type": "display_data"
    }
   ],
   "source": [
    "# Changing the Mean of a Normal Distribution\n",
    "import matplotlib.pyplot as plt\n",
    "import seaborn as sns\n",
    "norm  = np.random.normal(loc=100,scale=20,size=2000)\n",
    "sns.histplot(norm, kde=True)\n",
    "\n",
    "plt.show()\n",
    "# the distribution looks similar like above, but the data are centred around 100."
   ]
  },
  {
   "cell_type": "code",
   "execution_count": null,
   "id": "99181cae",
   "metadata": {},
   "outputs": [],
   "source": []
  },
  {
   "cell_type": "markdown",
   "id": "53f8746e",
   "metadata": {},
   "source": [
    "### How to Change the Shape of a Normal Distribution in Numpy\n",
    "- One of the amazing features of the `numpy.random.normal` function is that it allows us to easily define the shape of the resulting array. So far, we have specified an integer value of the size parameter.\n",
    "- When we pass in a tuple of integers, this changes the shape of the array from a 1-dimensional to a multi-dimensional array. Say ywe pass in a tuple of values (2, 3), you’ll return an array with two rows and three columns."
   ]
  },
  {
   "cell_type": "code",
   "execution_count": 74,
   "id": "d89c0cd4",
   "metadata": {},
   "outputs": [
    {
     "name": "stdout",
     "output_type": "stream",
     "text": [
      "Distribution :  [[ 1.00139909 -1.26753574 -1.86806758]\n",
      " [ 0.27147523  0.61792493 -0.10564285]\n",
      " [ 0.18098268 -1.01915184  0.07772288]]\n"
     ]
    },
    {
     "data": {
      "image/png": "[encoded data removed]",
      "text/plain": [
       "<Figure size 432x288 with 1 Axes>"
      ]
     },
     "metadata": {
      "needs_background": "light"
     },
     "output_type": "display_data"
    }
   ],
   "source": [
    "# Changing the Mean of a Normal Distribution\n",
    "import matplotlib.pyplot as plt\n",
    "import seaborn as sns\n",
    "norm  = np.random.normal(size=(3,3))\n",
    "print(\"Distribution : \", norm)\n",
    "sns.histplot(norm, kde=True)\n",
    "\n",
    "plt.show()\n",
    "# the distribution looks similar like above, but the data are centred around 100."
   ]
  },
  {
   "cell_type": "code",
   "execution_count": 75,
   "id": "3b455804",
   "metadata": {},
   "outputs": [
    {
     "name": "stdout",
     "output_type": "stream",
     "text": [
      "Mean :  -0.0\n",
      "STD:  1.0\n"
     ]
    }
   ],
   "source": [
    "print(\"Mean : \",np.round(np.mean(norm)))\n",
    "print(\"STD: \",np.round(np.std(norm)))"
   ]
  },
  {
   "cell_type": "code",
   "execution_count": null,
   "id": "905ab93d",
   "metadata": {},
   "outputs": [],
   "source": []
  },
  {
   "cell_type": "markdown",
   "id": "21a03983",
   "metadata": {},
   "source": [
    "# NumPy - Assignment no 07\n",
    "- Here is link of [NumPy - Assignment no 07]()"
   ]
  },
  {
   "cell_type": "code",
   "execution_count": null,
   "id": "c99dae00",
   "metadata": {},
   "outputs": [],
   "source": []
  },
  {
   "cell_type": "code",
   "execution_count": null,
   "id": "0514c558",
   "metadata": {},
   "outputs": [],
   "source": []
  },
  {
   "cell_type": "code",
   "execution_count": null,
   "id": "8412de14",
   "metadata": {},
   "outputs": [],
   "source": []
  },
  {
   "cell_type": "code",
   "execution_count": null,
   "id": "215f44b4",
   "metadata": {},
   "outputs": [],
   "source": []
  }
 ],
 "metadata": {
  "kernelspec": {
   "display_name": "Python 3 (ipykernel)",
   "language": "python",
   "name": "python3"
  },
  "language_info": {
   "codemirror_mode": {
    "name": "ipython",
    "version": 3
   },
   "file_extension": ".py",
   "mimetype": "text/x-python",
   "name": "python",
   "nbconvert_exporter": "python",
   "pygments_lexer": "ipython3",
   "version": "3.8.10"
  }
 },
 "nbformat": 4,
 "nbformat_minor": 5
}
