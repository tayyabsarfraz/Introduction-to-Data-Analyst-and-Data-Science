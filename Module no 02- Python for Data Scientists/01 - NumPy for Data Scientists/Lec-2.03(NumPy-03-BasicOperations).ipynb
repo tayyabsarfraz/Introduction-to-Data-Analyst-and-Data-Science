{
 "cells": [
  {
   "cell_type": "markdown",
   "id": "5572cc0a",
   "metadata": {},
   "source": [
    "---   \n",
    "\n",
    "<h1 align=\"center\">Introduction to Data Analyst and Data Science for beginners</h1>\n",
    "<h1 align=\"center\">Lecture no 2.3(NumPy-03)</h1>\n",
    "\n",
    "---\n",
    "<h3><div align=\"right\">Ehtisham Sadiq</div></h3>    "
   ]
  },
  {
   "cell_type": "markdown",
   "id": "a5a92293",
   "metadata": {},
   "source": [
    "# _Basic Operations on NumPy Arrays.ipynb_"
   ]
  },
  {
   "cell_type": "markdown",
   "id": "3d4c9b2f",
   "metadata": {},
   "source": [
    "<img align=\"center\" width=\"500\" height=\"500\"  src=\"images/basicopsonnumpy.png\" > "
   ]
  },
  {
   "cell_type": "markdown",
   "id": "3e646522",
   "metadata": {},
   "source": [
    "### Recap:\n",
    "- In last lectures, we saw different methods/ways to create numpy array.\n",
    "- We also saw the difference between numpy array, python List and Python array."
   ]
  },
  {
   "cell_type": "markdown",
   "id": "31c0c335",
   "metadata": {},
   "source": [
    "### Baseline of this Lecture:\n",
    "- We will use diffferent numpy operations without using any loop.\n",
    "- By using these operations , we will be able to explore our mathematical and statistical skills."
   ]
  },
  {
   "cell_type": "markdown",
   "id": "7aeadcc5",
   "metadata": {},
   "source": [
    "# Learning agenda of this notebook\n",
    "- Operations on numPy arrays are done element-wise. This means that you don't explicitly have to write for-loops in order to do these operations!\n",
    "- A universal function, or ufunc, is a function that performs element-wise operations on data in ndarrays. You can think of them as fast vectorized wrappers for simple functions that take one or more scalar values and produce one or more scalar results.\n",
    "\n",
    "\n",
    "<img align=\"left\" width=\"450\" height=\"400\"  src=\"images/ufuncunary.png\" > \n",
    "<img align=\"right\" width=\"485\" height=\"500\"  src=\"images/ufuncbinary.png\" > \n",
    "\n",
    "<br><br><br><br><br><br><br><br><br><br><br><br><br><br><br><br><br><br>\n",
    "\n",
    "1. Scalar Math\n",
    "    - On 1-D Arrays\n",
    "    - On 2-D Arrays\n",
    "2. Arithmetic operations\n",
    "    - On 1-D Arrays\n",
    "    - On 2-D Arrays\n",
    "3. More Mathematical Operations\n",
    "    - On 1-D Arrays\n",
    "    - On 2-D Arrays\n",
    "4. Aggregate Functions\n",
    "    - On 1-D Arrays\n",
    "    - On 2-D Arrays\n",
    "5. Comparing NumPy Arrays\n",
    "    - On 1-D Arrays\n",
    "    - On 2-D Arrays\n",
    "6. Bonus: Searching 1-D and 2-D NumPy Arrays using `numpy.where()`"
   ]
  },
  {
   "cell_type": "code",
   "execution_count": null,
   "id": "ad592c7e",
   "metadata": {},
   "outputs": [],
   "source": [
    "# To install this library in Jupyter notebook\n",
    "import sys\n",
    "!{sys.executable} -m pip install numpy"
   ]
  },
  {
   "cell_type": "code",
   "execution_count": null,
   "id": "bca9f700",
   "metadata": {},
   "outputs": [],
   "source": [
    "import numpy as np\n",
    "np.__version__ , np.__path__"
   ]
  },
  {
   "cell_type": "code",
   "execution_count": null,
   "id": "5662cd04",
   "metadata": {},
   "outputs": [],
   "source": []
  },
  {
   "cell_type": "markdown",
   "id": "0906e715",
   "metadata": {},
   "source": [
    "## 1. Scalar Math"
   ]
  },
  {
   "cell_type": "markdown",
   "id": "26f8690c",
   "metadata": {},
   "source": [
    "### a. Scalar Math on 1-D Arrays"
   ]
  },
  {
   "cell_type": "code",
   "execution_count": null,
   "id": "f134a6d4",
   "metadata": {},
   "outputs": [],
   "source": []
  },
  {
   "cell_type": "code",
   "execution_count": null,
   "id": "e309a4df",
   "metadata": {},
   "outputs": [],
   "source": []
  },
  {
   "cell_type": "code",
   "execution_count": null,
   "id": "08b13d56",
   "metadata": {},
   "outputs": [],
   "source": [
    "import numpy as np\n",
    "# Create a 1-D array having 4 random integers from 1 to 9\n",
    "arr = np.random.randint(1,10, size=4)\n",
    "print(\"arr: \", arr)\n",
    "\n",
    "# After the operation a new `ndarray` is returned\n",
    "print(\"np.add(arr,2): \",      arr + 2)            # np.add(arr, 2))\n",
    "print(\"np.subtract(arr,2): \", arr - 2)            # np.subtract(arr, 2))\n",
    "print(\"np.multiply(arr,2): \", arr * 2)            # np.multiply(arr, 2))\n",
    "print(\"np.divide(arr,2): \",   arr / 2)            # np.divide(arr, 2))\n",
    "print(\"np.mod(arr,2): \",      arr % 2)            # np.mod(arr, 2))\n",
    "\n",
    "arr3 = arr + 9\n",
    "print(id(arr), id(arr3))"
   ]
  },
  {
   "cell_type": "code",
   "execution_count": null,
   "id": "26b601f6",
   "metadata": {},
   "outputs": [],
   "source": []
  },
  {
   "cell_type": "markdown",
   "id": "ef0533ab",
   "metadata": {},
   "source": [
    "### b. Scalar Math on 2-D Arrays"
   ]
  },
  {
   "cell_type": "code",
   "execution_count": null,
   "id": "a7206060",
   "metadata": {},
   "outputs": [],
   "source": [
    "import numpy as np\n",
    "# Create a 2x2 matrix with random integers  between 1 to 9\n",
    "matrix = np.random.randint(1,10, size=(2, 2))\n",
    "print(\"Original matrix:\\n\", matrix)\n",
    "\n",
    "# # After the operation a new `ndarray` is returned\n",
    "# print(\"np.add(matrix,2): \\n\",      matrix + 2)            # np.add(matrix, 2))\n",
    "# print(\"np.subtract(matrix,2): \\n\", matrix - 2)            # np.subtract(matrix, 2))\n",
    "# print(\"np.multiply(matrix,2): \\n\", matrix * 2)            # np.multiply(matrix, 2))\n",
    "# print(\"np.divide(matrix,2): \\n\",   matrix / 2)            # np.divide(matrix, 2))\n",
    "# print(\"np.mod(matrix,2): \\n\",      matrix % 2)            # np.mod(matrix, 2))"
   ]
  },
  {
   "cell_type": "code",
   "execution_count": null,
   "id": "916ba2ee",
   "metadata": {},
   "outputs": [],
   "source": [
    "# After the operation a new `ndarray` is returned\n",
    "print(\"np.add(matrix,2): \\n\",      matrix + 2)            # np.add(matrix, 2))\n",
    "print(\"np.subtract(matrix,2): \\n\", matrix - 2)            # np.subtract(matrix, 2))\n",
    "print(\"np.multiply(matrix,2): \\n\", matrix * 2)            # np.multiply(matrix, 2))\n",
    "print(\"np.divide(matrix,2): \\n\",   matrix / 2)            # np.divide(matrix, 2))\n",
    "print(\"np.mod(matrix,2): \\n\",      matrix % 2)            # np.mod(matrix, 2))"
   ]
  },
  {
   "cell_type": "code",
   "execution_count": null,
   "id": "d5182339",
   "metadata": {},
   "outputs": [],
   "source": []
  },
  {
   "cell_type": "markdown",
   "id": "f7900157",
   "metadata": {},
   "source": [
    "## 2. Arithmetic Operations"
   ]
  },
  {
   "cell_type": "markdown",
   "id": "28f196d5",
   "metadata": {},
   "source": [
    "### a. Arithmetic Operations on 1-D Arrays"
   ]
  },
  {
   "cell_type": "code",
   "execution_count": null,
   "id": "30d3f30f",
   "metadata": {},
   "outputs": [],
   "source": [
    "import numpy as np\n",
    "# Create two 1-D arrays each having 4 random integers from 1 to 9\n",
    "arr1 = np.random.randint(1,10, size=4)\n",
    "arr2 = np.random.randint(1,10, size=4)\n",
    "print(\"arr1: \", arr1)\n",
    "print(\"arr2: \", arr2)\n",
    "\n"
   ]
  },
  {
   "cell_type": "code",
   "execution_count": null,
   "id": "5a65630b",
   "metadata": {},
   "outputs": [],
   "source": []
  },
  {
   "cell_type": "code",
   "execution_count": null,
   "id": "a5b7b049",
   "metadata": {},
   "outputs": [],
   "source": [
    "# After the operation a new `ndarray` is returned\n",
    "print(\"np.add(arr1, arr2) = \",      arr1 + arr2)     # np.add(arr1, arr2)\n",
    "print(\"np.subtract(arr1, arr2) = \", arr1 - arr2)     # np.subtract(arr1, arr2)\n",
    "print(\"np.multiply(arr1, arr2) = \", arr1 * arr2)     # np.multiply(arr1, arr2)\n",
    "print(\"np.divide(arr1, arr2) = \",   arr1  / arr2)    # np.divide(arr1, arr2)\n",
    "print(\"np.mod(arr1, arr2) = \",      arr1  % arr2)    # np.mod(arr1, arr2) # np.remainder(arr1, arr2)"
   ]
  },
  {
   "cell_type": "code",
   "execution_count": null,
   "id": "17c0e890",
   "metadata": {},
   "outputs": [],
   "source": []
  },
  {
   "cell_type": "code",
   "execution_count": null,
   "id": "683e9c90",
   "metadata": {},
   "outputs": [],
   "source": []
  },
  {
   "cell_type": "markdown",
   "id": "f39da597",
   "metadata": {},
   "source": [
    "### b. Arithmetic Operations on 2-D Arrays"
   ]
  },
  {
   "cell_type": "code",
   "execution_count": null,
   "id": "3cd42b3c",
   "metadata": {},
   "outputs": [],
   "source": [
    "import numpy as np\n",
    "# Create a 2x2 matrix with random integers  between 1 to 9\n",
    "matrix1 = np.random.randint(1,10, size=(2, 2))\n",
    "matrix2 = np.random.randint(1, 10, size=(2, 2))\n",
    "print(\"matrix1: \\n\", matrix1)\n",
    "print(\"matrix2: \\n\", matrix2)\n",
    "\n"
   ]
  },
  {
   "cell_type": "code",
   "execution_count": null,
   "id": "d2a244f9",
   "metadata": {},
   "outputs": [],
   "source": [
    "# After the operation a new `ndarray` is returned\n",
    "print(\"np.add(matrix1 , matrix2) = \\n\",      matrix1 + matrix2) # np.add(matrix1 , matrix2)\n",
    "print(\"np.subtract(matrix1 , matrix2) = \\n\", matrix1 - matrix2) # np.subtract(matrix1 , matrix2)\n",
    "print(\"np.multiply(matrix1 , matrix2) = \\n\", matrix1 * matrix2) # np.multiply(matrix1 , matrix2)\n",
    "print(\"np.divide(matrix1 , matrix2) = \\n\",   matrix1 / matrix2) # np.divide(matrix1 , matrix2)\n",
    "print(\"np.mod(matrix1 , matrix2) = \\n\",      matrix1 % matrix2) # np.remainder(matrix1 , matrix2)"
   ]
  },
  {
   "cell_type": "code",
   "execution_count": null,
   "id": "4dfb5752",
   "metadata": {},
   "outputs": [],
   "source": []
  },
  {
   "cell_type": "markdown",
   "id": "6af771f9",
   "metadata": {},
   "source": [
    "## 3. More Mathematical Operations"
   ]
  },
  {
   "cell_type": "markdown",
   "id": "a625e92a",
   "metadata": {},
   "source": [
    "### a. Mathematical Operations on 1-D Array"
   ]
  },
  {
   "cell_type": "code",
   "execution_count": null,
   "id": "cf755e36",
   "metadata": {},
   "outputs": [],
   "source": [
    "# Creating 1-D array of 5 elements of random floats between 1 and 10\n",
    "arr = np.random.rand(5)*10\n",
    "print(\"Original ndarray: \", arr)\n",
    "\n",
    "\n",
    "# After the operation a new `ndarray` is returned, which is a copy of the original array with the operation performed\n",
    "print(\"np.abs(arr) = \", np.abs(arr))\n",
    "print(\"np.square(arr) = \", np.square(arr))\n",
    "print(\"np.sqrt(arr) = \", np.sqrt(arr))\n",
    "print(\"np.cbrt(arr) = \", np.cbrt(arr))\n",
    "print(\"np.log(arr) = \", np.log(arr))\n",
    "print(\"np.log2(arr) = \", np.log2(arr))\n",
    "print(\"np.log10(arr) = \", np.log10(arr))\n",
    "print(\"np.isnan(arr) = \", np.isnan(arr))\n",
    "print(\"np.ceil(arr) = \", np.ceil(arr))\n",
    "print(\"np.floor(arr) = \", np.floor(arr))\n",
    "print(\"np.cumsum(arr) = \", np.cumsum(arr))"
   ]
  },
  {
   "cell_type": "code",
   "execution_count": null,
   "id": "5193c0ec",
   "metadata": {},
   "outputs": [],
   "source": []
  },
  {
   "cell_type": "markdown",
   "id": "51e8cef6",
   "metadata": {},
   "source": [
    "### b. Mathematical Operations on 2-D Array"
   ]
  },
  {
   "cell_type": "code",
   "execution_count": null,
   "id": "71a1ae23",
   "metadata": {},
   "outputs": [],
   "source": [
    "import numpy as np\n",
    "# Create a 2x2 matrix with random integers  between 1 to 9\n",
    "matrix = np.random.randint(1,10, size=(2, 2))\n",
    "print(\"matrix: \\n\", matrix)\n",
    "\n",
    "# After the operation a new `ndarray` is returned, which is a copy of the original array with the operation performed\n",
    "print(\"np.square(matrix) = \\n\", np.square(matrix))\n",
    "print(\"np.sqrt(matrix) = \\n\", np.sqrt(matrix))\n",
    "print(\"np.log2(matrix) = \\n\", np.log2(matrix))\n",
    "print(\"np.isnan(matrix) = \\n\", np.isnan(matrix))\n",
    "print(\"np.ceil(matrix) = \\n\", np.ceil(matrix))\n",
    "print(\"np.floor(matrix) = \\n\", np.floor(matrix))\n",
    "print(\"np.cumsum(matrix) = \\n\", np.cumsum(matrix))"
   ]
  },
  {
   "cell_type": "code",
   "execution_count": null,
   "id": "afdd4b87",
   "metadata": {},
   "outputs": [],
   "source": []
  },
  {
   "cell_type": "markdown",
   "id": "c5d411d3",
   "metadata": {},
   "source": [
    "## 4. Aggregate Functions"
   ]
  },
  {
   "cell_type": "markdown",
   "id": "dde44c0c",
   "metadata": {},
   "source": [
    "### a. Aggregate Functions on 1-D Arrays"
   ]
  },
  {
   "cell_type": "code",
   "execution_count": null,
   "id": "1d8605be",
   "metadata": {},
   "outputs": [],
   "source": [
    "# Create a 1-D array having 5 random integers from 1 to 9\n",
    "arr = np.random.randint(1, 10, size=5)\n",
    "print(\"arr: \", arr)\n",
    "\n",
    "# After the operation a new `ndarray` is returned, which is a copy of the original array with the operation performed\n",
    "print(\"np.min(arr) = \",     np.min(arr))\n",
    "print(\"np.max(arr) = \",     np.max(arr))\n",
    "print(\"np.sum(arr) = \",     np.sum(arr))\n",
    "print(\"np.prod(arr) = \", np.prod(arr))"
   ]
  },
  {
   "cell_type": "code",
   "execution_count": null,
   "id": "cebfc963",
   "metadata": {},
   "outputs": [],
   "source": []
  },
  {
   "cell_type": "code",
   "execution_count": null,
   "id": "351b8a6a",
   "metadata": {},
   "outputs": [],
   "source": [
    "# Create a 1-D array having 5 random integers from 1 to 9\n",
    "arr = np.random.randint(1, 10, size=5)\n",
    "print(\"arr: \", arr)\n",
    "\n",
    "#Arithmetic mean is the sum of elements along an axis divided by the number of elements. \n",
    "print(\"np.mean(arr) = \",    np.mean(arr))\n",
    "\n",
    "# The np.average() function computes the weighted average, by multiplying of each array element by its weight\n",
    "# The np.average() is same as np.mean(), when weight is not specified\n",
    "print(\"np.average(arr) = \", np.average(arr))\n",
    "\n",
    "# Considering an array [1,2,3,4] and corresponding weights [4,3,2,1], the weighted average is calculated by \n",
    "# adding the product of the corresponding elements and dividing the sum by the sum of weights.\n",
    "#             Weighted average = (1*4+2*3+3*2+4*1)/(4+3+2+1)\n",
    "\n",
    "arr1 = np.array([1,2,3,4])\n",
    "wts = np.array([4,3,2,1])\n",
    "print(\"\\narr1: \", arr1)\n",
    "print(\"wts:  \", wts)\n",
    "print(\"np.average(arr1, weights=wts) = \", np.average(arr1, weights= wts))\n",
    "\n"
   ]
  },
  {
   "cell_type": "code",
   "execution_count": null,
   "id": "8a8c075d",
   "metadata": {},
   "outputs": [],
   "source": []
  },
  {
   "cell_type": "code",
   "execution_count": null,
   "id": "65a99fd8",
   "metadata": {},
   "outputs": [],
   "source": [
    "# Create a 1-D array having 10 random integers from 1 to 99\n",
    "arr = np.random.randint(1, 100, size=10)\n",
    "print(\"arr: \", arr)\n",
    "\n",
    "# Median is the value separating the higher half of a data sample from the lower half.\n",
    "print(\"np.median(arr) = \",  np.median(arr))\n",
    "\n",
    "# Percentile is the value below which a given percentage of observations in a group of observations fall.\n",
    "# 50th percentile is the score at or below which 50% of the scores in the distribution may be found.\n",
    "print(\"np.percentile(arr,50) = \",     np.percentile(arr,50))\n",
    "print(\"np.percentile(arr,0) = \",     np.percentile(arr,0))\n",
    "print(\"np.percentile(arr,100) = \",     np.percentile(arr,100))\n",
    "\n",
    "# The variance measures the average degree to which each point differs from the mean\n",
    "# Variance is calculated as the average of squared deviations from mean, i.e., mean((x - x.mean())**2).\n",
    "print(\"np.var(arr) = \",    np.var(arr))\n",
    "\n",
    "\n",
    "# Standard deviation checks how spread out a group of numbers is from the mean\n",
    "# It is the square root of variance: sqrt(mean((x - x.mean())**2))\n",
    "print(\"np.std(arr) = \",    np.std(arr))\n"
   ]
  },
  {
   "cell_type": "code",
   "execution_count": null,
   "id": "39648ba7",
   "metadata": {},
   "outputs": [],
   "source": []
  },
  {
   "cell_type": "markdown",
   "id": "c12623e8",
   "metadata": {},
   "source": [
    "### b. Aggregate Functions on 2-D Arrays"
   ]
  },
  {
   "cell_type": "code",
   "execution_count": null,
   "id": "4c71de42",
   "metadata": {},
   "outputs": [],
   "source": [
    "import numpy as np\n",
    "# Create a 3x3 (2-D array) initialized with random integers from 1 to 9\n",
    "matrix = np.random.randint(1,10, size=(3, 3))\n",
    "print(\"matrix: \\n\", matrix)\n",
    "\n",
    "print(\"np.sum(matrix, axis=0) = \",     np.sum(matrix, axis=0))\n",
    "print(\"np.sum(matrix, axis=1) = \",     np.sum(matrix, axis=1))\n",
    "\n",
    "# Here axis=0 represents, all operations according to columns.\n",
    "# Here axis=1 represents, all operations according to rows.\n",
    "# When we perform aggregate functions on 2-D arrays, then we must pass axis argument."
   ]
  },
  {
   "cell_type": "code",
   "execution_count": null,
   "id": "83020163",
   "metadata": {},
   "outputs": [],
   "source": []
  },
  {
   "cell_type": "code",
   "execution_count": null,
   "id": "cf45b9d3",
   "metadata": {},
   "outputs": [],
   "source": [
    "# Create a 3x3 (2-D array) initialized with random integers from 1 to 9\n",
    "matrix = np.random.randint(1,10, size=(3, 3))\n",
    "print(\"matrix: \\n\", matrix)\n",
    "\n",
    "print(\"np.min(matrix, axis=0) = \",     np.min(matrix, axis=0))\n",
    "print(\"np.min(matrix, axis=1) = \",     np.min(matrix, axis=1))"
   ]
  },
  {
   "cell_type": "code",
   "execution_count": null,
   "id": "93165a2e",
   "metadata": {},
   "outputs": [],
   "source": []
  },
  {
   "cell_type": "code",
   "execution_count": null,
   "id": "ded4bbd3",
   "metadata": {},
   "outputs": [],
   "source": [
    "# Create a 3x3 (2-D array) initialized with random integers from 1 to 9\n",
    "matrix = np.random.randint(1,10, size=(3, 3))\n",
    "print(\"matrix: \\n\", matrix)\n",
    "\n",
    "\n",
    "print(\"np.mean(matrix, axis=0) = \",     np.mean(matrix, axis=0))\n",
    "print(\"np.mean(matrix, axis=1) = \",     np.mean(matrix, axis=1))"
   ]
  },
  {
   "cell_type": "code",
   "execution_count": null,
   "id": "94152beb",
   "metadata": {},
   "outputs": [],
   "source": []
  },
  {
   "cell_type": "code",
   "execution_count": null,
   "id": "10b61422",
   "metadata": {},
   "outputs": [],
   "source": []
  },
  {
   "cell_type": "code",
   "execution_count": null,
   "id": "1ed39e0c",
   "metadata": {},
   "outputs": [],
   "source": [
    "# Create a 3x3 (2-D array) initialized with random integers from 1 to 9\n",
    "matrix = np.random.randint(1,10, size=(3, 3))\n",
    "print(\"matrix: \\n\", matrix)\n",
    "\n",
    "# Median is the value separating the higher half of a data sample from the lower half.\n",
    "print(\"np.median(matrix, axis=0) = \",     np.median(matrix, axis=0))\n",
    "print(\"np.median(matrix, axis=1) = \",     np.median(matrix, axis=1))"
   ]
  },
  {
   "cell_type": "markdown",
   "id": "8b4429f9",
   "metadata": {},
   "source": [
    "Please do practice calculating the percentile, variance and standard deviation along different axis of a 2-D array"
   ]
  },
  {
   "cell_type": "code",
   "execution_count": null,
   "id": "dce99a00",
   "metadata": {},
   "outputs": [],
   "source": []
  },
  {
   "cell_type": "markdown",
   "id": "32fde252",
   "metadata": {},
   "source": [
    "## 5. Comparing NumPy Arrays"
   ]
  },
  {
   "cell_type": "markdown",
   "id": "624dfa93",
   "metadata": {},
   "source": [
    "### a. Comparing NumPy 1-D Arrays\n",
    "- Returns a Boolean numpy array containing True/False after doing element wise comparison"
   ]
  },
  {
   "cell_type": "code",
   "execution_count": null,
   "id": "6fc80b92",
   "metadata": {},
   "outputs": [],
   "source": [
    "import numpy as np\n",
    "# Create two 1-D arrays each having 4 random integers from 1 to 9\n",
    "arr1 = np.random.randint(1,10, size=4)\n",
    "arr2 = np.random.randint(1,10, size=4)\n",
    "print(\"arr1: \", arr1)\n",
    "print(\"arr2: \", arr2)\n",
    "print(\"np.equal(arr1, arr2) = \",      arr1 == arr2)      # np.equal(arr1, arr2)\n",
    "print(\"np.not_equal(arr1, arr2) = \",  arr1 != arr2)      # np.not_equal(arr1, arr2)\n",
    "\n",
    "print(\"np.greater(arr1, arr2) = \",      arr1 > arr2)     # np.greater(arr1, arr2)\n",
    "print(\"np.greater_equal(arr1, arr2) = \",  arr1 >= arr2)  # np.greater_equal(arr1, arr2)\n",
    "\n",
    "print(\"np.less(arr1, arr2) = \",      arr1 < arr2)        # np.less(arr1, arr2)\n",
    "print(\"np.less_equal(arr1, arr2) = \",  arr1 <= arr2)     # np.less_equal(arr1, arr2)"
   ]
  },
  {
   "cell_type": "code",
   "execution_count": null,
   "id": "c20a9ed4",
   "metadata": {},
   "outputs": [],
   "source": []
  },
  {
   "cell_type": "markdown",
   "id": "d03fa4fb",
   "metadata": {},
   "source": [
    "### b. Comparing NumPy 2-D Arrays"
   ]
  },
  {
   "cell_type": "code",
   "execution_count": null,
   "id": "b65058ea",
   "metadata": {},
   "outputs": [],
   "source": [
    "import numpy as np\n",
    "# Create a 2x2 matrix with random integers  between 1 to 9\n",
    "matrix1 = np.random.randint(1,10, size=(2, 2))\n",
    "matrix2 = np.random.randint(1, 10, size=(2, 2))\n",
    "print(\"matrix1: \\n\", matrix1)\n",
    "print(\"matrix2: \\n\", matrix2)\n",
    "\n",
    "\n",
    "\n",
    "print(\"np.equal(matrix1, matrix2) = \\n\",        matrix1 == matrix2)     \n",
    "print(\"np.not_equal(matrix1, matrix2) = \\n\",    matrix1 != matrix2)     \n",
    "\n",
    "print(\"np.greater(matrix1, matrix2) = \\n\",      matrix1 > matrix2)    \n",
    "print(\"np.greater_equal(matrix1, matrix2) = \\n\",matrix1 >= matrix2) \n",
    "\n",
    "print(\"np.less(matrix1, matrix2) = \\n\",         matrix1 < matrix2)       \n",
    "print(\"np.less_equal(matrix1, matrix2) = \\n\",   matrix1 <= matrix2)     "
   ]
  },
  {
   "cell_type": "code",
   "execution_count": null,
   "id": "1159671e",
   "metadata": {},
   "outputs": [],
   "source": []
  },
  {
   "cell_type": "markdown",
   "id": "4ed923c8",
   "metadata": {},
   "source": [
    "## 6. Searching NumPy Arrays using `numpy.where()`"
   ]
  },
  {
   "cell_type": "markdown",
   "id": "7a15d751",
   "metadata": {},
   "source": [
    "### a. Searching NumPy 1-D Arrays"
   ]
  },
  {
   "cell_type": "markdown",
   "id": "bfcf9f08",
   "metadata": {},
   "source": [
    "- The `numpy.where()` method is used to search NumPy arrays for the index values of any element which matches the condition passed as a parameter to the function.\n",
    "```\n",
    "numpy.where(condition, [x, y])\n",
    "```\n",
    "    - condition : When True, yield x, otherwise yield y. If x and y are not given just return the value of the array\n",
    "    - Returns: ndarray or tuple of ndarrays. If both x and y are specified, the output array contains elements of x where condition is True, and elements from y elsewhere."
   ]
  },
  {
   "cell_type": "code",
   "execution_count": null,
   "id": "0a209cc5",
   "metadata": {},
   "outputs": [],
   "source": [
    "import numpy as np\n",
    "arr = np.array([1, 2, 3, 4, 5, 4, 4, 9, 2, 3, 8])\n",
    "t1 = np.where(arr == 4)\n",
    "print(t1)"
   ]
  },
  {
   "cell_type": "code",
   "execution_count": null,
   "id": "1b4fa4ae",
   "metadata": {},
   "outputs": [],
   "source": []
  },
  {
   "cell_type": "markdown",
   "id": "24865ae5",
   "metadata": {},
   "source": [
    "Note: The result is a tuple of 1-D arrays having a single tuple containing the index"
   ]
  },
  {
   "cell_type": "code",
   "execution_count": null,
   "id": "e1db54c3",
   "metadata": {},
   "outputs": [],
   "source": [
    "import numpy as np\n",
    "arr = np.array([1, 0, 3, 9, 5, 2, 0, 8])\n",
    "t1 = np.where(arr == 0)\n",
    "print(t1)"
   ]
  },
  {
   "cell_type": "code",
   "execution_count": null,
   "id": "7c6fe56b",
   "metadata": {},
   "outputs": [],
   "source": [
    "import numpy as np\n",
    "arr = np.array([1, 2, 3, 4, 5, 6, 7, 8])\n",
    "t1 = np.where(arr%2 == 0)\n",
    "print(t1)"
   ]
  },
  {
   "cell_type": "code",
   "execution_count": null,
   "id": "c96f2079",
   "metadata": {},
   "outputs": [],
   "source": []
  },
  {
   "cell_type": "code",
   "execution_count": null,
   "id": "e5071b86",
   "metadata": {},
   "outputs": [],
   "source": []
  },
  {
   "cell_type": "code",
   "execution_count": null,
   "id": "4f82105f",
   "metadata": {},
   "outputs": [],
   "source": [
    "import numpy as np\n",
    "arr = np.array([1, 2, 3, 4, 5, 6, 7, 8])\n",
    "t1 = np.where(arr%2 == 0, 'yes', 'no')\n",
    "print(t1)"
   ]
  },
  {
   "cell_type": "code",
   "execution_count": null,
   "id": "447aaff5",
   "metadata": {},
   "outputs": [],
   "source": [
    "import numpy as np\n",
    "arr = np.array([1, 2, 3, 4, 5, 6, 7, 8])\n",
    "t1 = np.where(arr%2 == 0, True, False)\n",
    "print(t1)"
   ]
  },
  {
   "cell_type": "markdown",
   "id": "f7f2c65c",
   "metadata": {},
   "source": [
    "Note: The result is a simple 1-D array, when you use the x and y arguments to `np.where()`"
   ]
  },
  {
   "cell_type": "code",
   "execution_count": null,
   "id": "336bb2e8",
   "metadata": {},
   "outputs": [],
   "source": []
  },
  {
   "cell_type": "markdown",
   "id": "57f89640",
   "metadata": {},
   "source": [
    "### b. Searching NumPy 2-D Arrays"
   ]
  },
  {
   "cell_type": "markdown",
   "id": "b63342d5",
   "metadata": {},
   "source": [
    "- The `numpy.where()` method is used to search NumPy arrays for the index values of any element which matches the condition passed as a parameter to the function.\n",
    "```\n",
    "numpy.where(condition, [x, y])\n",
    "```\n",
    "    - condition : When True, yield x, otherwise yield y. If x and y are not given just return the value of the array\n",
    "    - Returns: ndarray or tuple of ndarrays. If both x and y are specified, the output array contains elements of x where condition is True, and elements from y elsewhere."
   ]
  },
  {
   "cell_type": "code",
   "execution_count": null,
   "id": "fde6ed1e",
   "metadata": {
    "scrolled": true
   },
   "outputs": [],
   "source": [
    "import numpy as np\n",
    "matrix = np.array([[1, 2, 3], [4, 5, 4], [4, 9, 2], [3, 8, 6]])\n",
    "print(\"matrix: \\n\", matrix)\n",
    "t1 = np.where(matrix == 4)\n",
    "print(t1)"
   ]
  },
  {
   "cell_type": "markdown",
   "id": "1ae934c6",
   "metadata": {},
   "source": [
    "**Note:** The result is a tuple of 1-D arrays having two tuples. The condition is true for three elements at indices `(1,0)`, `(1,2)` and `(2,0)`"
   ]
  },
  {
   "cell_type": "code",
   "execution_count": null,
   "id": "07e93d93",
   "metadata": {},
   "outputs": [],
   "source": []
  },
  {
   "cell_type": "code",
   "execution_count": null,
   "id": "24c55c5c",
   "metadata": {},
   "outputs": [],
   "source": [
    "import numpy as np\n",
    "matrix = np.array([[1, 2, 0], [4, 5, 0], [4, 9, 2], [3, 0, 6]])\n",
    "print(\"matrix: \\n\", matrix)\n",
    "t1 = np.where(matrix == 0)\n",
    "print(t1)"
   ]
  },
  {
   "cell_type": "markdown",
   "id": "58c391db",
   "metadata": {},
   "source": [
    "**Note:** The result is a tuple of 1-D arrays having two tuples. The condition is true for three elements at indices:\n",
    "`(0,2)`, `(1,2)` and `(3,1)`"
   ]
  },
  {
   "cell_type": "code",
   "execution_count": null,
   "id": "80ba08eb",
   "metadata": {},
   "outputs": [],
   "source": []
  },
  {
   "cell_type": "code",
   "execution_count": null,
   "id": "d6ebe838",
   "metadata": {},
   "outputs": [],
   "source": []
  },
  {
   "cell_type": "code",
   "execution_count": null,
   "id": "e901346d",
   "metadata": {},
   "outputs": [],
   "source": [
    "import numpy as np\n",
    "matrix = np.array([[1, 2, 3], [5, 7, 3], [4, 9, 1], [3, 5, 3]])\n",
    "print(\"matrix: \\n\", matrix)\n",
    "t1 = np.where(matrix%2 == 0)\n",
    "print(t1)"
   ]
  },
  {
   "cell_type": "markdown",
   "id": "4358b8be",
   "metadata": {},
   "source": [
    "**Note:** The result is a tuple of 1-D arrays having two tuples. The condition is true for two elements at indices:\n",
    "`(0,2)` and `(1,0)`"
   ]
  },
  {
   "cell_type": "code",
   "execution_count": null,
   "id": "9134a9aa",
   "metadata": {},
   "outputs": [],
   "source": []
  },
  {
   "cell_type": "code",
   "execution_count": null,
   "id": "1449c662",
   "metadata": {},
   "outputs": [],
   "source": []
  },
  {
   "cell_type": "code",
   "execution_count": null,
   "id": "86e4c330",
   "metadata": {},
   "outputs": [],
   "source": [
    "import numpy as np\n",
    "matrix = np.array([[1, 2, 3], [5, 7, 3], [4, 9, 1], [3, 5, 3]])\n",
    "print(\"matrix: \\n\", matrix)\n",
    "t1 = np.where(matrix%2 == 0, True, False)\n",
    "print(t1)"
   ]
  },
  {
   "cell_type": "markdown",
   "id": "b9dad9b8",
   "metadata": {},
   "source": [
    "**Note:** The result is a simple 2-D array, when you use the `x` and `y` arguments to `np.where()`"
   ]
  },
  {
   "cell_type": "code",
   "execution_count": null,
   "id": "0d58aba7",
   "metadata": {},
   "outputs": [],
   "source": []
  },
  {
   "cell_type": "markdown",
   "id": "4954db63",
   "metadata": {},
   "source": [
    "## Check Your Concepts:\n",
    "- What is the purpose of `random.randint` function?\n",
    "- Create a numpy array of 10 random numbers between `-10 to +10`, and find median, mode, std, and mean of numpy array.\n",
    "- After performing scalar operations on `1-D array`, what is the return type of new array?"
   ]
  },
  {
   "cell_type": "markdown",
   "id": "c7b9eda9",
   "metadata": {},
   "source": [
    "### NumPy Basic: Exercises and Practice with Solution"
   ]
  },
  {
   "cell_type": "markdown",
   "id": "4a89c367",
   "metadata": {},
   "source": [
    "#### Write a NumPy program to get the numpy version and show numpy build configuration."
   ]
  },
  {
   "cell_type": "code",
   "execution_count": null,
   "id": "da678ec9",
   "metadata": {},
   "outputs": [],
   "source": [
    "import numpy as np\n",
    "print(\"Numpy version : \", np.__version__)\n",
    "print(\"Numpy configuration : \")\n",
    "np.show_config()"
   ]
  },
  {
   "cell_type": "markdown",
   "id": "eb9121e4",
   "metadata": {},
   "source": [
    "#### Write a NumPy program to  get help on the add function."
   ]
  },
  {
   "cell_type": "code",
   "execution_count": null,
   "id": "b892ba5e",
   "metadata": {},
   "outputs": [],
   "source": [
    "# First Method\n",
    "# help(np.add)\n",
    "\n",
    "# Second Method\n",
    "np.info(np.add)"
   ]
  },
  {
   "cell_type": "markdown",
   "id": "03d8f716",
   "metadata": {},
   "source": [
    "#### Write a NumPy program to test whether none of the elements of a given array is zero."
   ]
  },
  {
   "cell_type": "code",
   "execution_count": null,
   "id": "c50227c3",
   "metadata": {},
   "outputs": [],
   "source": [
    "# First method\n",
    "array = np.array([3,4,0,5,7,7,8,7,87,98,98,12])\n",
    "for i in array:\n",
    "    if i==0:\n",
    "        print(\"Zero is present in given array!\")\n",
    "        break\n",
    "else:\n",
    "    print(\"Zero is not present in given array!\")\n",
    "        "
   ]
  },
  {
   "cell_type": "code",
   "execution_count": null,
   "id": "0f4698f9",
   "metadata": {},
   "outputs": [],
   "source": [
    "# Second Method\n",
    "array = np.array([3,4,5,7,7,8,7,87,98,98,12])\n",
    "print(\"Original array : \")\n",
    "print(array)\n",
    "x  = np.all(array)\n",
    "print(\"Test if none of the elements of the said array is zero:\", x)"
   ]
  },
  {
   "cell_type": "code",
   "execution_count": null,
   "id": "4830edc1",
   "metadata": {},
   "outputs": [],
   "source": [
    "array1 = np.array([3,4,0,5,7,7,8,7,87,0,98,12])\n",
    "print(\"Original array : \", array1)\n",
    "print(\"Test if none of the elements of the said array is zero:\",np.all(array1))"
   ]
  },
  {
   "cell_type": "markdown",
   "id": "5d7491f8",
   "metadata": {},
   "source": [
    "#### Write a NumPy program to test whether any of the elements of a given array is non-zero.\n",
    "<img src=\"images/numpy-basic-image-exercise-4.png\" height=400px width=400px>"
   ]
  },
  {
   "cell_type": "code",
   "execution_count": null,
   "id": "aebc47c5",
   "metadata": {},
   "outputs": [],
   "source": []
  },
  {
   "cell_type": "code",
   "execution_count": null,
   "id": "86129764",
   "metadata": {},
   "outputs": [],
   "source": [
    "# First Method \n",
    "array = np.array([3,4,0,5,7,7,8,7,87,0,98,12])\n",
    "array2 = np.zeros(shape=10)\n",
    "for i in array2:\n",
    "    if i!=0:\n",
    "        print(\"Non-zero element is present in the given array!\")\n",
    "        break\n",
    "else:\n",
    "    print(\"No non-zero element is presenr in the given array!\")\n"
   ]
  },
  {
   "cell_type": "code",
   "execution_count": null,
   "id": "cdc818df",
   "metadata": {},
   "outputs": [],
   "source": [
    "# second method\n",
    "print(\"Original array : \", array)\n",
    "print(\"Test if none of the elements of the said array is non-zero:\",np.any(array))\n",
    "print(\"Test if none of the elements of the said array is non-zero:\",np.any(array2))"
   ]
  },
  {
   "cell_type": "markdown",
   "id": "5b9c99c4",
   "metadata": {},
   "source": [
    "## Questions on NumPy Mathematics\n",
    "- How to get element-wise true division of an array using Numpy?(Hint : np.true_divide(array,scalar))\n",
    "- How to calculate the element-wise absolute value of NumPy array?(Hint : np.absolute(array))\n",
    "- Compute the negative of the NumPy array(Hint : np.negative(array) / -array)\n",
    "- Computes the inner product of two arrays(Hint : np.dot(array1, array2))\n",
    "- Compute the nth percentile of the NumPy array(Hint : np.percentile(array, nthper))\n",
    "- Calculate the n-th order discrete difference along the given axis\n",
    "- Calculate the sum of all columns in a 2D NumPy array(Hint : np.sum(axis))\n",
    "- Calculate average values of two given NumPy arrays(Hint : (a+b)/2)\n",
    "- How to get the floor, ceiling and truncated values of the elements of a numpy array?\n",
    "- How to round elements of the NumPy array to the nearest integer?(Hint : np.rint())\n",
    "- Find the round off the values of the given matrix.(Hint :  matrix.round())\n",
    "- Determine the positive square-root of an array. "
   ]
  },
  {
   "cell_type": "code",
   "execution_count": null,
   "id": "283c90ff",
   "metadata": {},
   "outputs": [],
   "source": []
  },
  {
   "cell_type": "markdown",
   "id": "32e61b66",
   "metadata": {},
   "source": [
    "### Question no 01 : \n",
    "**Calculate the n-th order discrete difference along the given axis.**\n",
    "- **numpy.diff(arr[, n[, axis]])** function is used when we calculate the n-th order discrete difference along the given axis. The first order difference is given by `out[i] = arr[i+1] – arr[i]` along the given axis. If we have to calculate higher differences, we are using diff recursively.\n",
    "\n",
    "   - `Syntax: numpy.diff()`\n",
    "   - Parameters:       \n",
    "    `arr` : [array_like] Input array.               \n",
    "    `n` : [int, optional] The number of times values are differenced.          \n",
    "    `axis` : [int, optional] The axis along which the difference is taken, default is the last axis.            \n",
    "    `Returns` : [ndarray]The n-th discrete difference. The output is the same as a except along axis where the dimension is smaller by n. "
   ]
  },
  {
   "cell_type": "code",
   "execution_count": null,
   "id": "5754bba6",
   "metadata": {},
   "outputs": [],
   "source": []
  },
  {
   "cell_type": "markdown",
   "id": "fb312d2c",
   "metadata": {},
   "source": [
    "## Questions on NumPy Statistics\n",
    "- Compute the median of the flattened NumPy array\n",
    "- Find Mean of a List of Numpy Array\n",
    "- Calculate the mean of array ignoring the NaN value(Hint : np.nanmean())\n",
    "- Get the mean value from given matrix\n",
    "- Compute the variance of the NumPy array\n",
    "- Compute the standard deviation of the NumPy array\n",
    "- Compute pearson product-moment correlation coefficients of two given NumPy arrays(Hint : np.corrcoef(x, y))\n",
    "- Calculate the mean across dimension in a 2D NumPy array(Hint : np.mean(axis))\n",
    "- Calculate the average, variance and standard deviation in Python using NumPy\n"
   ]
  },
  {
   "cell_type": "markdown",
   "id": "0da33bef",
   "metadata": {},
   "source": [
    "### Bonus Part:\n",
    "**Conversion of 2D- NumPy Array into Pandas DataFrame and gives descriptive view of NumPy Array in along both dimensions/axises.**"
   ]
  },
  {
   "cell_type": "code",
   "execution_count": null,
   "id": "e6cbf1bb",
   "metadata": {},
   "outputs": [],
   "source": []
  },
  {
   "cell_type": "code",
   "execution_count": null,
   "id": "9cb1b48c",
   "metadata": {},
   "outputs": [],
   "source": []
  },
  {
   "cell_type": "markdown",
   "id": "28814181",
   "metadata": {},
   "source": [
    "# NumPy - Assignment no 03\n",
    "- Here is link of [NumPy - Assignment no 03](https://www.kaggle.com/code/ehtishamsadiq/numpy-assignment-no-03)"
   ]
  },
  {
   "cell_type": "code",
   "execution_count": null,
   "id": "d8bcc7ae",
   "metadata": {},
   "outputs": [],
   "source": []
  }
 ],
 "metadata": {
  "kernelspec": {
   "display_name": "Python 3 (ipykernel)",
   "language": "python",
   "name": "python3"
  },
  "language_info": {
   "codemirror_mode": {
    "name": "ipython",
    "version": 3
   },
   "file_extension": ".py",
   "mimetype": "text/x-python",
   "name": "python",
   "nbconvert_exporter": "python",
   "pygments_lexer": "ipython3",
   "version": "3.8.10"
  }
 },
 "nbformat": 4,
 "nbformat_minor": 5
}
