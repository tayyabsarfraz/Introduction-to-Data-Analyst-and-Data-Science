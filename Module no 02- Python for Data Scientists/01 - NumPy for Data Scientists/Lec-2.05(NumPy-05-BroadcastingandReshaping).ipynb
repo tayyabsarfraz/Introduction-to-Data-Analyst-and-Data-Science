{
 "cells": [
  {
   "cell_type": "markdown",
   "id": "b5b40627",
   "metadata": {},
   "source": [
    "---   \n",
    "\n",
    "<h1 align=\"center\">Introduction to Data Analyst and Data Science for beginners</h1>\n",
    "<h1 align=\"center\">Lecture no 2.5(NumPy-05)</h1>\n",
    "\n",
    "---\n",
    "<h3><div align=\"right\">Ehtisham Sadiq</div></h3>    "
   ]
  },
  {
   "cell_type": "markdown",
   "id": "2f6acdc3",
   "metadata": {},
   "source": [
    "# _Broadcasting, Reshaping, Sorting and Iterating NumPy Arrays.ipynb_"
   ]
  },
  {
   "cell_type": "markdown",
   "id": "29a16b1f",
   "metadata": {},
   "source": [
    "<img align=\"center\" width=\"600\" height=\"600\"  src=\"images/reshapingbroadcasting.png\" > "
   ]
  },
  {
   "cell_type": "markdown",
   "id": "23b680d0",
   "metadata": {},
   "source": [
    "## Recap:\n",
    "- In last lectures , We have discussed introduction of numpy, different methods to create numpy arrays, difference between numpy array and lists, basic operations of numpy, and indexing and slicing of numpy arrays."
   ]
  },
  {
   "cell_type": "code",
   "execution_count": null,
   "id": "fe5bf5d7",
   "metadata": {},
   "outputs": [],
   "source": []
  },
  {
   "cell_type": "markdown",
   "id": "c10ce742",
   "metadata": {},
   "source": [
    "# Learning agenda of this notebook\n",
    "1. Broadcasting NumPy Arrays\n",
    "2. Reshaping NumPy Arrays\n",
    "    - Use `shape` attribute (in-place operation)\n",
    "    - Use `np.reshape()` method (creates a new array)\n",
    "    - Use `np.resize()` method (in-place operation)\n",
    "    - Use `ndarray.transpose()` method (in-place operation)\n",
    "    - Use `np.swapaxes()`method (in-place operation)\n",
    "    - Use `np.flatten()` method (creates a new array)\n",
    "3. Sorting Arrays using `np.sort()` Method\n",
    "4. Iterating NumPy Arrays"
   ]
  },
  {
   "cell_type": "code",
   "execution_count": null,
   "id": "932c9898",
   "metadata": {},
   "outputs": [],
   "source": [
    "# To install this library in Jupyter notebook\n",
    "#import sys\n",
    "#!{sys.executable} -m pip install numpy"
   ]
  },
  {
   "cell_type": "code",
   "execution_count": 1,
   "id": "98474a05",
   "metadata": {},
   "outputs": [
    {
     "data": {
      "text/plain": [
       "('1.22.3', ['/home/dell/.local/lib/python3.8/site-packages/numpy'])"
      ]
     },
     "execution_count": 1,
     "metadata": {},
     "output_type": "execute_result"
    }
   ],
   "source": [
    "import numpy as np\n",
    "np.__version__ , np.__path__"
   ]
  },
  {
   "cell_type": "code",
   "execution_count": null,
   "id": "20c8c749",
   "metadata": {},
   "outputs": [],
   "source": []
  },
  {
   "cell_type": "markdown",
   "id": "c3ea9ffe",
   "metadata": {},
   "source": [
    "## 1. Broadcasting numPy Arrays\n",
    "- Numpy arrays also support **broadcasting**, allowing arithmetic operations between two arrays with different numbers of dimensions but compatible shapes. \n",
    "- Subject to certain constraints, the smaller array is “broadcast” across the larger array so that they have compatible shapes.\n",
    "- Two dimensions are compatible when\n",
    "    - they are equal, or\n",
    "    - one of them is 1"
   ]
  },
  {
   "cell_type": "markdown",
   "id": "605189d4",
   "metadata": {},
   "source": [
    ">**Review of Arithmetic operations with numPy arrays of same shape:**"
   ]
  },
  {
   "cell_type": "code",
   "execution_count": 2,
   "id": "25af4615",
   "metadata": {},
   "outputs": [
    {
     "name": "stdout",
     "output_type": "stream",
     "text": [
      "arr1:  [18 16 27 31 44]\n",
      "arr2:  [7 5 2 9 5]\n"
     ]
    }
   ],
   "source": [
    "import numpy as np\n",
    "# Create two 1-D arrays each having 4 random integers from 1 to 9\n",
    "arr1 = np.random.randint(1,50, size=5)\n",
    "arr2 = np.random.randint(1,10, size=5)\n",
    "print(\"arr1: \", arr1)\n",
    "print(\"arr2: \", arr2)\n",
    "\n",
    "   "
   ]
  },
  {
   "cell_type": "code",
   "execution_count": 3,
   "id": "bd188d7c",
   "metadata": {},
   "outputs": [
    {
     "name": "stdout",
     "output_type": "stream",
     "text": [
      "arr1 + arr2 =  [25 21 29 40 49]\n",
      "arr1 / arr2 =  [ 2.57142857  3.2        13.5         3.44444444  8.8       ]\n",
      "arr1 // arr2 =  [ 2  3 13  3  8]\n",
      "arr1 ** arr2 =  [     612220032        1048576            729 26439622160671\n",
      "      164916224]\n"
     ]
    }
   ],
   "source": [
    "# After the operation a new `ndarray` is returned\n",
    "print(\"arr1 + arr2 = \",      arr1 + arr2)    \n",
    "print(\"arr1 / arr2 = \", arr1 / arr2)    \n",
    "print(\"arr1 // arr2 = \",   arr1  // arr2)  \n",
    "print(\"arr1 ** arr2 = \",      arr1  ** arr2)"
   ]
  },
  {
   "cell_type": "markdown",
   "id": "9f70a279",
   "metadata": {},
   "source": [
    "### a. Arithmetic of 1-Dimensional Array with a Scalar Value"
   ]
  },
  {
   "cell_type": "code",
   "execution_count": 4,
   "id": "2dc0cc6f",
   "metadata": {},
   "outputs": [
    {
     "name": "stdout",
     "output_type": "stream",
     "text": [
      "arr1:  [1 2 3 4]\n",
      "arr1.shape:  (4,)\n",
      "a:  2\n"
     ]
    }
   ],
   "source": [
    "# Consider adding a scalar value 'a' to a 1-D numPy array\n",
    "arr1 = np.array([1, 2, 3, 4])\n",
    "print(\"arr1: \", arr1)\n",
    "print(\"arr1.shape: \", arr1.shape)\n",
    "a = 2\n",
    "print(\"a: \", a)"
   ]
  },
  {
   "cell_type": "code",
   "execution_count": 5,
   "id": "fde47c32",
   "metadata": {},
   "outputs": [
    {
     "name": "stdout",
     "output_type": "stream",
     "text": [
      "arr2: \n",
      " [3 4 5 6]\n"
     ]
    }
   ],
   "source": [
    "# The scalar value is replicated to match the shape of arr1 before the operation\n",
    "#   [2  2  2  2] \n",
    "\n",
    "arr2 = arr1 + a \n",
    "print(\"arr2: \\n\", arr2)"
   ]
  },
  {
   "cell_type": "code",
   "execution_count": null,
   "id": "4dacde3b",
   "metadata": {},
   "outputs": [],
   "source": []
  },
  {
   "cell_type": "markdown",
   "id": "8dc9db14",
   "metadata": {},
   "source": [
    "### b. Arithmetic of 2-Dimensional Array with a Scalar Value"
   ]
  },
  {
   "cell_type": "code",
   "execution_count": 6,
   "id": "254d9dff",
   "metadata": {},
   "outputs": [
    {
     "name": "stdout",
     "output_type": "stream",
     "text": [
      "arr1:\n",
      " [[1 2 3]\n",
      " [1 2 3]]\n",
      "arr1.shape:  (2, 3)\n",
      "a:  2\n"
     ]
    }
   ],
   "source": [
    "# Consider adding a scalar value 'a' to a 2-D numPy array\n",
    "arr1 = np.array([[1, 2, 3], [1, 2, 3]])\n",
    "print(\"arr1:\\n\", arr1)\n",
    "print(\"arr1.shape: \", arr1.shape)\n",
    "a = 2\n",
    "print(\"a: \", a)"
   ]
  },
  {
   "cell_type": "code",
   "execution_count": 7,
   "id": "4c024488",
   "metadata": {},
   "outputs": [
    {
     "name": "stdout",
     "output_type": "stream",
     "text": [
      "arr2: \n",
      " [[3 4 5]\n",
      " [3 4 5]]\n"
     ]
    }
   ],
   "source": [
    "# The scalar value is replicated to match the shape of arr1 before the operation\n",
    "#   2  2  2 \n",
    "#   2  2  2 \n",
    "\n",
    "arr2 = arr1 + a \n",
    "print(\"arr2: \\n\", arr2)"
   ]
  },
  {
   "cell_type": "markdown",
   "id": "a278f789",
   "metadata": {},
   "source": [
    "### c. Arithmetic of 1-Dimensional Array with a 2-Dimensional Array"
   ]
  },
  {
   "cell_type": "markdown",
   "id": "12b38b4c",
   "metadata": {},
   "source": [
    "**Example 1:** Consider adding a 2-D array (3x4) to a 1-D array with 4 values"
   ]
  },
  {
   "cell_type": "code",
   "execution_count": 8,
   "id": "c70b2618",
   "metadata": {},
   "outputs": [
    {
     "name": "stdout",
     "output_type": "stream",
     "text": [
      "arr1:\n",
      " [[1 2 3 4]\n",
      " [3 4 5 6]\n",
      " [2 7 8 9]]\n",
      "arr1.shape:  (3, 4)\n",
      "arr2:\n",
      " [4 2 3 5]\n",
      "arr2.shape:  (4,)\n"
     ]
    }
   ],
   "source": [
    "arr1 = np.array([[1, 2, 3, 4], [3, 4, 5, 6], [2, 7, 8, 9]])\n",
    "arr2 = np.array([4, 2, 3,5])\n",
    "print(\"arr1:\\n\", arr1)\n",
    "print(\"arr1.shape: \", arr1.shape)\n",
    "print(\"arr2:\\n\", arr2)\n",
    "print(\"arr2.shape: \", arr2.shape)"
   ]
  },
  {
   "cell_type": "code",
   "execution_count": 10,
   "id": "5a995ec2",
   "metadata": {},
   "outputs": [
    {
     "name": "stdout",
     "output_type": "stream",
     "text": [
      "arr3: \n",
      " [[ 5  4  6  9]\n",
      " [ 7  6  8 11]\n",
      " [ 6  9 11 14]]\n"
     ]
    }
   ],
   "source": [
    "# The only row of arr2 is replicated twice before the operation\n",
    "#   4  2  3  5\n",
    "#   4  2  3  5\n",
    "#   4  2  3  5\n",
    "\n",
    "arr3 = arr1 + arr2 \n",
    "\n",
    "print(\"arr3: \\n\", arr3)"
   ]
  },
  {
   "cell_type": "markdown",
   "id": "b9e71d83",
   "metadata": {},
   "source": [
    "**Example 2:** Consider adding a 2-D array (4x2) to a 1-D array with 2 values"
   ]
  },
  {
   "cell_type": "code",
   "execution_count": 11,
   "id": "8785ba17",
   "metadata": {},
   "outputs": [
    {
     "name": "stdout",
     "output_type": "stream",
     "text": [
      "arr1:\n",
      " [[1 2]\n",
      " [3 4]\n",
      " [5 6]\n",
      " [7 8]]\n",
      "arr1.shape:  (4, 2)\n",
      "arr2:\n",
      " [4 5]\n",
      "arr2.shape:  (2,)\n"
     ]
    }
   ],
   "source": [
    "arr1 = np.array([[1, 2], [3, 4], [5, 6], [7, 8]])\n",
    "print(\"arr1:\\n\", arr1)\n",
    "print(\"arr1.shape: \", arr1.shape)\n",
    "\n",
    "arr2 = np.array([4, 5])\n",
    "print(\"arr2:\\n\", arr2)\n",
    "print(\"arr2.shape: \", arr2.shape)"
   ]
  },
  {
   "cell_type": "code",
   "execution_count": 12,
   "id": "a9e6b566",
   "metadata": {},
   "outputs": [
    {
     "name": "stdout",
     "output_type": "stream",
     "text": [
      "arr3: \n",
      " [[ 5  7]\n",
      " [ 7  9]\n",
      " [ 9 11]\n",
      " [11 13]]\n"
     ]
    }
   ],
   "source": [
    "# The only row of arr2 is replicated three times before the operation\n",
    "#   4  5\n",
    "#   4  5\n",
    "#   4  5\n",
    "#   4  5\n",
    "arr3 = arr1 + arr2 \n",
    "\n",
    "print(\"arr3: \\n\", arr3)"
   ]
  },
  {
   "cell_type": "markdown",
   "id": "c9c5a54f",
   "metadata": {},
   "source": [
    "### d. Arithmetic of two 2-Dimensional Arrays"
   ]
  },
  {
   "cell_type": "markdown",
   "id": "df0990af",
   "metadata": {},
   "source": [
    "**Example 1:** Consider adding elements of a 2-D array (2x3) with another 2-D array (3x1)"
   ]
  },
  {
   "cell_type": "code",
   "execution_count": 13,
   "id": "10440087",
   "metadata": {},
   "outputs": [
    {
     "name": "stdout",
     "output_type": "stream",
     "text": [
      "arr1:\n",
      " [[5 3 2]\n",
      " [3 4 5]\n",
      " [7 1 4]]\n",
      "arr1.shape:  (3, 3)\n",
      "arr2:\n",
      " [[100]\n",
      " [200]\n",
      " [300]]\n",
      "arr2.shape:  (3, 1)\n"
     ]
    }
   ],
   "source": [
    "arr1 = np.array([[5, 3, 2],[3, 4, 5], [7, 1, 4]])\n",
    "print(\"arr1:\\n\", arr1)\n",
    "print(\"arr1.shape: \", arr1.shape)\n",
    "\n",
    "arr2 = np.array([[100], [200], [300]])\n",
    "print(\"arr2:\\n\", arr2)\n",
    "print(\"arr2.shape: \", arr2.shape)"
   ]
  },
  {
   "cell_type": "code",
   "execution_count": 16,
   "id": "182ab99a",
   "metadata": {},
   "outputs": [
    {
     "name": "stdout",
     "output_type": "stream",
     "text": [
      "arr3: \n",
      " [[105 103 102]\n",
      " [203 204 205]\n",
      " [307 301 304]]\n"
     ]
    }
   ],
   "source": [
    "# The only column of arr2 is replicated twice before the operation\n",
    "#   100   100   100\n",
    "#   200   200   300\n",
    "#   300   300   300\n",
    "\n",
    "arr3 = arr1 + arr2\n",
    "\n",
    "print(\"arr3: \\n\", arr3)"
   ]
  },
  {
   "cell_type": "markdown",
   "id": "c651f0ef",
   "metadata": {},
   "source": [
    "**Points to Ponder in Arithmetic and Broadcasting:**\n",
    ">- Arithmetic between elements of two numPy arrays works fine if both the arrays are of same shape.\n",
    ">- Arithmetic between a numPy array and a scalar value works fine due to broadcasting.\n",
    ">- Arithmetic between elements of two numPy arrays with different dimensions will work, if and only if the array with smaller dimension can be replicated to match the shape of other array (as in above examples)"
   ]
  },
  {
   "cell_type": "markdown",
   "id": "1188f96d",
   "metadata": {},
   "source": [
    "**Example 1: Broadcast Error**"
   ]
  },
  {
   "cell_type": "code",
   "execution_count": 17,
   "id": "69240490",
   "metadata": {},
   "outputs": [
    {
     "name": "stdout",
     "output_type": "stream",
     "text": [
      "arr1:\n",
      " [[1 2 3]\n",
      " [1 2 3]]\n",
      "arr1.shape:  (2, 3)\n",
      "arr2:\n",
      " [1 2]\n",
      "arr2.shape:  (2,)\n"
     ]
    }
   ],
   "source": [
    "# Consider adding a 2-D array (2x3) to a 1-D array with 2 values\n",
    "arr1 = np.array([[1, 2, 3], [1, 2, 3]])\n",
    "arr2 = np.array([1,2])\n",
    "print(\"arr1:\\n\", arr1)\n",
    "print(\"arr1.shape: \", arr1.shape)\n",
    "print(\"arr2:\\n\", arr2)\n",
    "print(\"arr2.shape: \", arr2.shape)"
   ]
  },
  {
   "cell_type": "code",
   "execution_count": 19,
   "id": "e35edb35",
   "metadata": {},
   "outputs": [
    {
     "ename": "ValueError",
     "evalue": "operands could not be broadcast together with shapes (2,3) (2,) ",
     "output_type": "error",
     "traceback": [
      "\u001b[0;31m---------------------------------------------------------------------------\u001b[0m",
      "\u001b[0;31mValueError\u001b[0m                                Traceback (most recent call last)",
      "Input \u001b[0;32mIn [19]\u001b[0m, in \u001b[0;36m<cell line: 4>\u001b[0;34m()\u001b[0m\n\u001b[1;32m      1\u001b[0m \u001b[38;5;66;03m# Since arr2 cannot be replicated to match the shape of arr1,\u001b[39;00m\n\u001b[1;32m      2\u001b[0m \u001b[38;5;66;03m# (last dimension of `arr1` i.e., 3 does not match with the first dimension of `arr2` i.e., 2)\u001b[39;00m\n\u001b[1;32m      3\u001b[0m \u001b[38;5;66;03m# therefore, broadcasting is unsuccessful and will flag an error\u001b[39;00m\n\u001b[0;32m----> 4\u001b[0m arr3 \u001b[38;5;241m=\u001b[39m \u001b[43marr1\u001b[49m\u001b[43m \u001b[49m\u001b[38;5;241;43m+\u001b[39;49m\u001b[43m \u001b[49m\u001b[43marr2\u001b[49m \n\u001b[1;32m      6\u001b[0m \u001b[38;5;28mprint\u001b[39m(\u001b[38;5;124m\"\u001b[39m\u001b[38;5;124marr3: \u001b[39m\u001b[38;5;130;01m\\n\u001b[39;00m\u001b[38;5;124m\"\u001b[39m, arr3)\n",
      "\u001b[0;31mValueError\u001b[0m: operands could not be broadcast together with shapes (2,3) (2,) "
     ]
    }
   ],
   "source": [
    "# Since arr2 cannot be replicated to match the shape of arr1,\n",
    "# (last dimension of `arr1` i.e., 3 does not match with the first dimension of `arr2` i.e., 2)\n",
    "# therefore, broadcasting is unsuccessful and will flag an error\n",
    "arr3 = arr1 + arr2 \n",
    "\n",
    "print(\"arr3: \\n\", arr3)"
   ]
  },
  {
   "cell_type": "code",
   "execution_count": null,
   "id": "e6f69aba",
   "metadata": {},
   "outputs": [],
   "source": []
  },
  {
   "cell_type": "markdown",
   "id": "d824b817",
   "metadata": {},
   "source": [
    "**Example 2: Broadcast Error**"
   ]
  },
  {
   "cell_type": "code",
   "execution_count": 20,
   "id": "1fc34edb",
   "metadata": {},
   "outputs": [
    {
     "name": "stdout",
     "output_type": "stream",
     "text": [
      "arr1:\n",
      " [[1 2]\n",
      " [3 4]\n",
      " [5 6]\n",
      " [7 8]]\n",
      "arr1.shape:  (4, 2)\n",
      "arr2:\n",
      " [4 5 6]\n",
      "arr2.shape:  (3,)\n"
     ]
    }
   ],
   "source": [
    "# Consider adding a 2-D array (2x3) to a 1-D array with 2 values\n",
    "arr1 = np.array([[1, 2], [3, 4], [5, 6], [7, 8]])\n",
    "print(\"arr1:\\n\", arr1)\n",
    "print(\"arr1.shape: \", arr1.shape)\n",
    "\n",
    "\n",
    "arr2 = np.array([4, 5, 6])\n",
    "print(\"arr2:\\n\", arr2)\n",
    "print(\"arr2.shape: \", arr2.shape)"
   ]
  },
  {
   "cell_type": "code",
   "execution_count": 21,
   "id": "67d7e845",
   "metadata": {},
   "outputs": [
    {
     "name": "stdout",
     "output_type": "stream",
     "text": [
      "operands could not be broadcast together with shapes (4,2) (3,) \n"
     ]
    }
   ],
   "source": [
    "# Since arr2 cannot be replicated to match the shape of arr1,\n",
    "# (last dimension of `arr1` i.e., 2 does not match with the first dimension of `arr2` i.e., 3)\n",
    "# therefore, broadcasting is unsuccessful and will flag an error\n",
    "try:\n",
    "    arr3 = arr1 + arr2 \n",
    "    print(\"arr3: \\n\", arr3)\n",
    "except ValueError as e:\n",
    "    print(e)"
   ]
  },
  {
   "cell_type": "markdown",
   "id": "5e1e61f0",
   "metadata": {},
   "source": [
    "**Example 3: Broadcast Error**"
   ]
  },
  {
   "cell_type": "code",
   "execution_count": 22,
   "id": "1e24eb32",
   "metadata": {},
   "outputs": [
    {
     "name": "stdout",
     "output_type": "stream",
     "text": [
      "arr1:\n",
      " [[5 3 2]\n",
      " [3 4 5]\n",
      " [7 1 4]]\n",
      "arr1.shape:  (3, 3)\n",
      "arr2:\n",
      " [[100]\n",
      " [200]]\n",
      "arr2.shape:  (2, 1)\n"
     ]
    }
   ],
   "source": [
    "arr1 = np.array([[5, 3, 2],[3, 4, 5], [7, 1, 4]])\n",
    "print(\"arr1:\\n\", arr1)\n",
    "print(\"arr1.shape: \", arr1.shape)\n",
    "\n",
    "arr2 = np.array([[100], [200]])\n",
    "print(\"arr2:\\n\", arr2)\n",
    "print(\"arr2.shape: \", arr2.shape)"
   ]
  },
  {
   "cell_type": "code",
   "execution_count": 23,
   "id": "cd4f687f",
   "metadata": {},
   "outputs": [
    {
     "name": "stdout",
     "output_type": "stream",
     "text": [
      "operands could not be broadcast together with shapes (3,3) (2,1) \n"
     ]
    }
   ],
   "source": [
    "# Since arr2 cannot be replicated to match the shape of arr1,\n",
    "# (last dimension of `arr1` i.e., 3 does not match with the first dimension of `arr2` i.e., 2)\n",
    "# therefore, broadcasting is unsuccessful and will flag an error\n",
    "try:\n",
    "    arr3 = arr1 + arr2 \n",
    "    print(\"arr3: \\n\", arr3)\n",
    "except ValueError as e:\n",
    "    print(e)"
   ]
  },
  {
   "cell_type": "code",
   "execution_count": 48,
   "id": "601727ae",
   "metadata": {},
   "outputs": [],
   "source": [
    "a = np.random.randint(1,10,(2,3,4))\n",
    "b = np.random.randint(1,10,(3,4))\n"
   ]
  },
  {
   "cell_type": "code",
   "execution_count": 49,
   "id": "f22f832d",
   "metadata": {},
   "outputs": [
    {
     "name": "stdout",
     "output_type": "stream",
     "text": [
      "[[[5 9 6 6]\n",
      "  [9 1 2 6]\n",
      "  [6 9 3 3]]\n",
      "\n",
      " [[7 3 5 4]\n",
      "  [8 1 1 2]\n",
      "  [4 8 1 3]]] \n",
      "\n",
      "\n",
      "\n",
      "[[2 2 7 2]\n",
      " [2 3 4 5]\n",
      " [7 6 7 2]]\n"
     ]
    }
   ],
   "source": [
    "print(a,\"\\n\\n\\n\")\n",
    "print(b)"
   ]
  },
  {
   "cell_type": "code",
   "execution_count": 50,
   "id": "ff6f7a3a",
   "metadata": {},
   "outputs": [
    {
     "data": {
      "text/plain": [
       "array([[[ 7, 11, 13,  8],\n",
       "        [11,  4,  6, 11],\n",
       "        [13, 15, 10,  5]],\n",
       "\n",
       "       [[ 9,  5, 12,  6],\n",
       "        [10,  4,  5,  7],\n",
       "        [11, 14,  8,  5]]])"
      ]
     },
     "execution_count": 50,
     "metadata": {},
     "output_type": "execute_result"
    }
   ],
   "source": [
    "a+b"
   ]
  },
  {
   "cell_type": "code",
   "execution_count": null,
   "id": "3481779a",
   "metadata": {},
   "outputs": [],
   "source": []
  },
  {
   "cell_type": "code",
   "execution_count": null,
   "id": "7eded2a6",
   "metadata": {},
   "outputs": [],
   "source": []
  },
  {
   "cell_type": "markdown",
   "id": "7494392a",
   "metadata": {},
   "source": [
    "## 2. Reshaping Arrays\n",
    "- Reshaping numpy array simply means changing the shape of the given array, shape basically tells the number of elements and dimension of an array.\n",
    "- By reshaping an array, we can add or remove dimensions or change number of elements in each dimension.\n",
    "- There are different ways that reshape numPy arrays:\n",
    "    - Changing the `shape` attribute (in-place operation)\n",
    "    - Use `np.reshape()` method (creates a new array)\n",
    "    - Use `np.resize()` method (in-place operation)\n",
    "    - Use `ndarray.transpose()` method (in-place operation)\n",
    "    - Use `np.swapaxes()`method (in-place operation)\n",
    "    - Use `np.flatten()` method (creates a new array)"
   ]
  },
  {
   "cell_type": "code",
   "execution_count": null,
   "id": "aa4460ed",
   "metadata": {},
   "outputs": [],
   "source": []
  },
  {
   "cell_type": "code",
   "execution_count": null,
   "id": "a3979bd7",
   "metadata": {},
   "outputs": [],
   "source": []
  },
  {
   "cell_type": "markdown",
   "id": "32ab0cc0",
   "metadata": {},
   "source": [
    "### a. Change the `np.shape` Attribute\n",
    "- Changing the shape of an `ndarray` is as simple as setting its `shape` attribute. However, the array's size must remain the same.\n",
    "- No new array is created, rather the change of shape occurs in-place."
   ]
  },
  {
   "cell_type": "code",
   "execution_count": 51,
   "id": "9ddec588",
   "metadata": {},
   "outputs": [
    {
     "name": "stdout",
     "output_type": "stream",
     "text": [
      "arr1: [ 0  1  2  3  4  5  6  7  8  9 10 11 12 13 14 15 16 17 18 19 20 21 22 23]\n",
      "Dimensions: 1\n",
      "Shape: (24,)\n"
     ]
    }
   ],
   "source": [
    "arr1 = np.arange(24)\n",
    "print(\"arr1:\", arr1)\n",
    "print(\"Dimensions:\", arr1.ndim)\n",
    "print(\"Shape:\", arr1.shape)"
   ]
  },
  {
   "cell_type": "code",
   "execution_count": 52,
   "id": "692e83f4",
   "metadata": {
    "scrolled": true
   },
   "outputs": [
    {
     "name": "stdout",
     "output_type": "stream",
     "text": [
      "arr1: \n",
      " [[ 0  1  2  3]\n",
      " [ 4  5  6  7]\n",
      " [ 8  9 10 11]\n",
      " [12 13 14 15]\n",
      " [16 17 18 19]\n",
      " [20 21 22 23]]\n",
      "Dimensions: 2\n",
      "Shape: (6, 4)\n"
     ]
    }
   ],
   "source": [
    "#Changing the shape attribute (array size must remain same)\n",
    "arr1.shape = (6, 4)\n",
    "print(\"arr1: \\n\", arr1)\n",
    "print(\"Dimensions:\", arr1.ndim)\n",
    "print(\"Shape:\", arr1.shape)"
   ]
  },
  {
   "cell_type": "code",
   "execution_count": null,
   "id": "f2a5309c",
   "metadata": {},
   "outputs": [],
   "source": []
  },
  {
   "cell_type": "code",
   "execution_count": 55,
   "id": "76c0369f",
   "metadata": {},
   "outputs": [
    {
     "name": "stdout",
     "output_type": "stream",
     "text": [
      "arr1: \n",
      " [[[ 0  1  2]\n",
      "  [ 3  4  5]\n",
      "  [ 6  7  8]\n",
      "  [ 9 10 11]]\n",
      "\n",
      " [[12 13 14]\n",
      "  [15 16 17]\n",
      "  [18 19 20]\n",
      "  [21 22 23]]]\n",
      "Dimensions: 3\n",
      "Shape: (2, 4, 3)\n"
     ]
    }
   ],
   "source": [
    "#Changing the shape attribute (array size must remain same)\n",
    "arr1.shape = (2, 4, 3)\n",
    "print(\"arr1: \\n\", arr1)\n",
    "print(\"Dimensions:\", arr1.ndim)\n",
    "print(\"Shape:\", arr1.shape)"
   ]
  },
  {
   "cell_type": "code",
   "execution_count": null,
   "id": "0c4a32c1",
   "metadata": {},
   "outputs": [],
   "source": []
  },
  {
   "cell_type": "markdown",
   "id": "49b38500",
   "metadata": {},
   "source": [
    "### b. Use the `np.reshape()` Method\n",
    "<img align=\"right\" width=\"400\" height=\"400\"  src=\"images/reshapecf.png\" > \n",
    "\n",
    "```\n",
    "np.reshape(arr, newshape)\n",
    "```\n",
    "\n",
    "- The `np.reshape()` method takes the input array, then a tuple that defines the shape of the new array and returns a new array, which shares the same memory as the original array. You can think it as shallow copy in Python, where if you change the data in one array, the corresponding data in the other array is also modified."
   ]
  },
  {
   "cell_type": "markdown",
   "id": "07da1408",
   "metadata": {},
   "source": [
    "**Example 1:** Reshaping from 1-D numPy Arrays to 2-D numPy Arrays"
   ]
  },
  {
   "cell_type": "code",
   "execution_count": 56,
   "id": "0e3c6adc",
   "metadata": {},
   "outputs": [
    {
     "name": "stdout",
     "output_type": "stream",
     "text": [
      "Original Array:  [1 2 3 4 5 6] \n",
      "Shape:  (6,)\n"
     ]
    }
   ],
   "source": [
    "arr1 = np.array([1, 2, 3, 4, 5, 6])\n",
    "print(\"Original Array: \", arr1, \"\\nShape: \", arr1.shape)"
   ]
  },
  {
   "cell_type": "code",
   "execution_count": 57,
   "id": "046869e6",
   "metadata": {},
   "outputs": [
    {
     "name": "stdout",
     "output_type": "stream",
     "text": [
      "Reshaped Array: \n",
      " [[1 2 3]\n",
      " [4 5 6]] \n",
      "Shape:  (2, 3)\n"
     ]
    }
   ],
   "source": [
    "# Changing the dimension of array using reshape()\n",
    "arr2 = np.reshape(arr1, (2, 3))\n",
    "print(\"Reshaped Array: \\n\", arr2, \"\\nShape: \", arr2.shape)"
   ]
  },
  {
   "cell_type": "code",
   "execution_count": null,
   "id": "8ab91ac8",
   "metadata": {},
   "outputs": [],
   "source": []
  },
  {
   "cell_type": "code",
   "execution_count": 58,
   "id": "84df047d",
   "metadata": {},
   "outputs": [
    {
     "name": "stdout",
     "output_type": "stream",
     "text": [
      "Original Array:  [99  2  3  4  5  6]\n",
      "Reshaped Array: \n",
      " [[99  2  3]\n",
      " [ 4  5  6]]\n"
     ]
    }
   ],
   "source": [
    "# make change in one of the arrays, the change is reflected in both\n",
    "arr2[0][0] = 99\n",
    "print(\"Original Array: \", arr1)\n",
    "print(\"Reshaped Array: \\n\", arr2)"
   ]
  },
  {
   "cell_type": "markdown",
   "id": "dffe7c85",
   "metadata": {},
   "source": [
    "**Example 2:** Reshaping from 1-D numPy Arrays to 3-D numPy Arrays"
   ]
  },
  {
   "cell_type": "code",
   "execution_count": 60,
   "id": "b6ae4c1f",
   "metadata": {},
   "outputs": [
    {
     "name": "stdout",
     "output_type": "stream",
     "text": [
      "Original Array:  [ 1  2  3  4  5  6  7  8  9 10 11 12] \n",
      "Shape:  (12,)\n",
      "\n",
      "Reshaped Array: \n",
      " [[[ 1  2  3]\n",
      "  [ 4  5  6]]\n",
      "\n",
      " [[ 7  8  9]\n",
      "  [10 11 12]]] \n",
      "Shape:  (2, 2, 3)\n"
     ]
    }
   ],
   "source": [
    "arr1 = np.array([1, 2, 3, 4, 5, 6, 7, 8, 9, 10, 11, 12])\n",
    "print(\"Original Array: \", arr1, \"\\nShape: \", arr1.shape)\n",
    "\n",
    "arr2 = np.reshape(arr1, (2, 2, 3))\n",
    "print(\"\\nReshaped Array: \\n\", arr2, \"\\nShape: \", arr2.shape)"
   ]
  },
  {
   "cell_type": "code",
   "execution_count": null,
   "id": "0ae55f3e",
   "metadata": {},
   "outputs": [],
   "source": []
  },
  {
   "cell_type": "markdown",
   "id": "45b75ac2",
   "metadata": {},
   "source": [
    "**Example 3:** Flattening Arrays. You can convert an array of an unknown dimension to a 1D array using `np.reshape(-1) `"
   ]
  },
  {
   "cell_type": "code",
   "execution_count": 62,
   "id": "ae8a7890",
   "metadata": {},
   "outputs": [
    {
     "name": "stdout",
     "output_type": "stream",
     "text": [
      "Original Array: \n",
      " [[ 1  2  3]\n",
      " [ 6  7  8]\n",
      " [ 4  5  6]\n",
      " [11 14 10]] \n",
      "Shape:  (4, 3)\n",
      "\n",
      "Reshaped Array: \n",
      " [ 1  2  3  6  7  8  4  5  6 11 14 10] \n",
      "Shape:  (12,)\n"
     ]
    }
   ],
   "source": [
    "arr1 = np.array([[1, 2, 3], [6, 7, 8], [4, 5, 6], [11, 14, 10]])\n",
    "print(\"Original Array: \\n\", arr1, \"\\nShape: \", arr1.shape)\n",
    "\n",
    "arr2 = np.reshape(arr1, (-1))\n",
    "print(\"\\nReshaped Array: \\n\", arr2, \"\\nShape: \", arr2.shape)"
   ]
  },
  {
   "cell_type": "markdown",
   "id": "2bbb0874",
   "metadata": {},
   "source": [
    "**Example 4:** Reshaping an array back to its original dimensions. If you applied the `np.reshape()` method to an array and you want to get the original shape of the array back, you can call the reshape method on that array again."
   ]
  },
  {
   "cell_type": "code",
   "execution_count": 65,
   "id": "9c9b67fb",
   "metadata": {},
   "outputs": [
    {
     "name": "stdout",
     "output_type": "stream",
     "text": [
      "Original Array: \n",
      " [[ 1  2  3]\n",
      " [ 6  7  8]\n",
      " [ 4  5  6]\n",
      " [11 14 10]] \n",
      "Shape:  (4, 3)\n",
      "\n",
      "Reshaped Array: \n",
      " [[ 1  2  3  6  7  8]\n",
      " [ 4  5  6 11 14 10]] \n",
      "Shape:  (2, 6)\n",
      "\n",
      "Reshaped to Original Shape: \n",
      " [[ 1  2  3]\n",
      " [ 6  7  8]\n",
      " [ 4  5  6]\n",
      " [11 14 10]] \n",
      "Shape:  (4, 3)\n"
     ]
    }
   ],
   "source": [
    "arr1 = np.array([[1, 2, 3], [6, 7, 8], [4, 5, 6], [11, 14, 10]])\n",
    "print(\"Original Array: \\n\", arr1, \"\\nShape: \", arr1.shape)\n",
    "\n",
    "arr2 = np.reshape(arr1, (2, 6))\n",
    "print(\"\\nReshaped Array: \\n\", arr2, \"\\nShape: \", arr2.shape)\n",
    "\n",
    "# covert the array into original shape again\n",
    "arr3 = np.reshape(arr2, (4,3))\n",
    "print(\"\\nReshaped to Original Shape: \\n\", arr3, \"\\nShape: \", arr3.shape)"
   ]
  },
  {
   "cell_type": "markdown",
   "id": "94ec61b2",
   "metadata": {},
   "source": [
    "**Example 5:** You can reshape to any shape, the only requirement is that the total elements in both the arrays should be same"
   ]
  },
  {
   "cell_type": "code",
   "execution_count": 67,
   "id": "87a7f813",
   "metadata": {},
   "outputs": [
    {
     "name": "stdout",
     "output_type": "stream",
     "text": [
      "cannot reshape array of size 9 into shape (3,2)\n"
     ]
    }
   ],
   "source": [
    "try:\n",
    "    arr1 = np.array([1, 2, 3, 4, 5, 6, 7, 8, 9])\n",
    "    arr2 = np.reshape(arr1, (3, 2))\n",
    "    print(arr2)\n",
    "except ValueError as e:\n",
    "    print(e)"
   ]
  },
  {
   "cell_type": "code",
   "execution_count": null,
   "id": "3aa30cfd",
   "metadata": {},
   "outputs": [],
   "source": []
  },
  {
   "cell_type": "code",
   "execution_count": null,
   "id": "b47be83c",
   "metadata": {},
   "outputs": [],
   "source": []
  },
  {
   "cell_type": "markdown",
   "id": "8b2e1617",
   "metadata": {},
   "source": [
    "### c.  Use `np.resize()` Method\n",
    "```\n",
    "np.resize(arr, newshape)\n",
    "```\n",
    "- Like `np.reshape()` method, the `np.resize()` method also takes the input array and a tuple that defines the shape of the array, with one main difference and that is:\n",
    "    - If the `newshape` argument mismatch with the size of `arr`, it do not raise error. The new array is formed from the data in the old array, repeated if necessary to fill out the required number of elements.  "
   ]
  },
  {
   "cell_type": "markdown",
   "id": "a4d0d83c",
   "metadata": {},
   "source": [
    "**Example 1:** Resizing from 1-D numPy Arrays to 2-D numPy Arrays. The new array doesn’t share the same memory with the original array. The data change in one array is not mapped to the other."
   ]
  },
  {
   "cell_type": "code",
   "execution_count": 68,
   "id": "0ab3c202",
   "metadata": {},
   "outputs": [
    {
     "name": "stdout",
     "output_type": "stream",
     "text": [
      "Original Array:  [1 2 3 4 5 6] \n",
      "Shape:  (6,)\n"
     ]
    }
   ],
   "source": [
    "arr1 = np.array([1, 2, 3, 4, 5, 6])\n",
    "print(\"Original Array: \", arr1, \"\\nShape: \", arr1.shape)"
   ]
  },
  {
   "cell_type": "code",
   "execution_count": 70,
   "id": "b99e6eb1",
   "metadata": {},
   "outputs": [
    {
     "name": "stdout",
     "output_type": "stream",
     "text": [
      "Resized Array: \n",
      " [[1 2 3]\n",
      " [4 5 6]] \n",
      "Shape:  (2, 3)\n"
     ]
    }
   ],
   "source": [
    "# Changing the dimension of array using reshape()\n",
    "arr2 = np.resize(arr1, (2, 3))\n",
    "print(\"Resized Array: \\n\", arr2, \"\\nShape: \", arr2.shape)"
   ]
  },
  {
   "cell_type": "code",
   "execution_count": 71,
   "id": "7fad9f62",
   "metadata": {},
   "outputs": [
    {
     "name": "stdout",
     "output_type": "stream",
     "text": [
      "Original Array:  [1 2 3 4 5 6]\n",
      "Resized Array: \n",
      " [[99  2  3]\n",
      " [ 4  5  6]]\n"
     ]
    }
   ],
   "source": [
    "# make change in one of the arrays, the change is NOT reflected in both\n",
    "arr2[0][0] = 99\n",
    "print(\"Original Array: \", arr1)\n",
    "print(\"Resized Array: \\n\", arr2)"
   ]
  },
  {
   "cell_type": "markdown",
   "id": "e89ceefa",
   "metadata": {},
   "source": [
    "**Example 2:** The `np.resize()` method allows you to resize an array to a new array having larger size than the original array. In this scenario, it fills the remaining array with repeated copies of original array elements"
   ]
  },
  {
   "cell_type": "code",
   "execution_count": 72,
   "id": "03c6399a",
   "metadata": {},
   "outputs": [
    {
     "name": "stdout",
     "output_type": "stream",
     "text": [
      "Original Array:  [1 2 3 4 5 6] \n",
      "Shape:  (6,)\n"
     ]
    }
   ],
   "source": [
    "arr1 = np.array([1, 2, 3, 4, 5, 6])\n",
    "print(\"Original Array: \", arr1, \"\\nShape: \", arr1.shape)"
   ]
  },
  {
   "cell_type": "code",
   "execution_count": 73,
   "id": "c6269d25",
   "metadata": {},
   "outputs": [
    {
     "name": "stdout",
     "output_type": "stream",
     "text": [
      "\n",
      "Resized Array: \n",
      " [[1 2 3 4]\n",
      " [5 6 1 2]\n",
      " [3 4 5 6]\n",
      " [1 2 3 4]] \n",
      "Shape:  (4, 4)\n"
     ]
    }
   ],
   "source": [
    "arr2 = np.resize(arr1, (4,4))\n",
    "print(\"\\nResized Array: \\n\", arr2, \"\\nShape: \", arr2.shape)"
   ]
  },
  {
   "cell_type": "code",
   "execution_count": null,
   "id": "124f0657",
   "metadata": {},
   "outputs": [],
   "source": []
  },
  {
   "cell_type": "code",
   "execution_count": null,
   "id": "548fd15e",
   "metadata": {},
   "outputs": [],
   "source": []
  },
  {
   "cell_type": "markdown",
   "id": "4b3e3b28",
   "metadata": {},
   "source": [
    "**Example 3:** The `np.resize()` method allows you to resize an array to a new array having smaller size than the original array. In this scenario, it fills the remaining array with zeros"
   ]
  },
  {
   "cell_type": "code",
   "execution_count": 74,
   "id": "63e4c2c7",
   "metadata": {},
   "outputs": [
    {
     "name": "stdout",
     "output_type": "stream",
     "text": [
      "Original Array:  [1 2 3 4 5 6 7 8] \n",
      "Shape:  (8,)\n"
     ]
    }
   ],
   "source": [
    "arr1 = np.array([1, 2, 3, 4, 5, 6, 7, 8])\n",
    "print(\"Original Array: \", arr1, \"\\nShape: \", arr1.shape)"
   ]
  },
  {
   "cell_type": "code",
   "execution_count": 75,
   "id": "45c79d08",
   "metadata": {},
   "outputs": [
    {
     "name": "stdout",
     "output_type": "stream",
     "text": [
      "\n",
      "Resized Array: \n",
      " [[1 2]\n",
      " [3 4]\n",
      " [5 6]] \n",
      "Shape:  (3, 2)\n"
     ]
    }
   ],
   "source": [
    "arr2 = np.resize(arr1, (3, 2))\n",
    "print(\"\\nResized Array: \\n\", arr2, \"\\nShape: \", arr2.shape)"
   ]
  },
  {
   "cell_type": "markdown",
   "id": "5f8e1f7c",
   "metadata": {},
   "source": [
    "### d. The `ndarray.transpose()` Method\n",
    "```\n",
    "ndarray.transpose()\n",
    "```\n",
    "- It has no impact on 1-D array\n",
    "- For a 2-D array, this is a standard matrix transpose.\n",
    "- For an n-D array, if axes are given, their order indicates how the axes are permuted\n",
    "- Returns a view of the array with axes transposed, so this is an in-place operation."
   ]
  },
  {
   "cell_type": "code",
   "execution_count": 76,
   "id": "5e407a2d",
   "metadata": {},
   "outputs": [
    {
     "name": "stdout",
     "output_type": "stream",
     "text": [
      "Original Array: \n",
      " [[1 2 3 4]\n",
      " [5 6 7 8]] \n",
      "Shape:  (2, 4)\n"
     ]
    }
   ],
   "source": [
    "arr1 = np.array([[1, 2, 3, 4], [5, 6, 7, 8]])\n",
    "print(\"Original Array: \\n\", arr1, \"\\nShape: \", arr1.shape)\n"
   ]
  },
  {
   "cell_type": "code",
   "execution_count": 78,
   "id": "6a9de4e5",
   "metadata": {},
   "outputs": [
    {
     "name": "stdout",
     "output_type": "stream",
     "text": [
      "\n",
      "Transposed array: \n",
      " [[1 5]\n",
      " [2 6]\n",
      " [3 7]\n",
      " [4 8]] \n",
      "Shape:  (4, 2)\n",
      "\n",
      "Original Array: \n",
      " [[ 1  2  3  4]\n",
      " [ 5 99  7  8]]\n",
      "Transposed Array: \n",
      " [[ 1  5]\n",
      " [ 2 99]\n",
      " [ 3  7]\n",
      " [ 4  8]]\n"
     ]
    }
   ],
   "source": [
    "# Reshape array using transpose method\n",
    "arr2 = arr1.transpose()\n",
    "print(\"\\nTransposed array: \\n\", arr2,  \"\\nShape: \", arr2.shape)\n",
    "\n",
    "## make change in one of the arrays, the change is reflected in both\n",
    "arr2[1][1] = 99\n",
    "print(\"\\nOriginal Array: \\n\", arr1)\n",
    "print(\"Transposed Array: \\n\", arr2)"
   ]
  },
  {
   "cell_type": "code",
   "execution_count": null,
   "id": "fb06d460",
   "metadata": {},
   "outputs": [],
   "source": []
  },
  {
   "cell_type": "markdown",
   "id": "093dc697",
   "metadata": {},
   "source": [
    "### e. The `np.swapaxes()` Method\n",
    "- The `np.swapaxes()` method is used to interchange two axes of an array.\n",
    "```\n",
    "np.swapaxes(arr, axis1, axis2)\n",
    "```\n",
    "    - `arr`: Input array whose axes are to be swapped\n",
    "    - `axis1`: First axis\n",
    "    - `axis2`: Second axis\n",
    "\n",
    "- For NumPy >= 1.10.0, if `arr` is an ndarray, then a view of `arr` is returned."
   ]
  },
  {
   "cell_type": "markdown",
   "id": "eb183fcd",
   "metadata": {},
   "source": [
    "**Example 1:** Swapping axes of a 2-D array"
   ]
  },
  {
   "cell_type": "code",
   "execution_count": 79,
   "id": "76e10f42",
   "metadata": {},
   "outputs": [
    {
     "name": "stdout",
     "output_type": "stream",
     "text": [
      "Original Array: \n",
      " [[0 1 2 3]\n",
      " [4 5 6 7]] \n",
      "Shape:  (2, 4)\n"
     ]
    }
   ],
   "source": [
    "arr1 = np.arange(8).reshape(2,4) \n",
    "print(\"Original Array: \\n\", arr1, \"\\nShape: \", arr1.shape)"
   ]
  },
  {
   "cell_type": "code",
   "execution_count": 83,
   "id": "2d196d85",
   "metadata": {},
   "outputs": [
    {
     "name": "stdout",
     "output_type": "stream",
     "text": [
      "\n",
      "New array: \n",
      " [[0 4]\n",
      " [1 5]\n",
      " [2 6]\n",
      " [3 7]] \n",
      "Shape:  (4, 2)\n"
     ]
    }
   ],
   "source": [
    "#Reshape array using swapaxes() method\n",
    "# Here 0 is vertical axis, 1 is horizontal axis\n",
    "arr2 = np.swapaxes(arr1,0, 1)\n",
    "print(\"\\nNew array: \\n\", arr2,  \"\\nShape: \", arr2.shape)"
   ]
  },
  {
   "cell_type": "code",
   "execution_count": 84,
   "id": "c1980410",
   "metadata": {},
   "outputs": [
    {
     "name": "stdout",
     "output_type": "stream",
     "text": [
      "\n",
      "Original Array: \n",
      " [[ 0  1  2  3]\n",
      " [ 4 99  6  7]]\n",
      "\n",
      "New Array: \n",
      " [[ 0  4]\n",
      " [ 1 99]\n",
      " [ 2  6]\n",
      " [ 3  7]]\n"
     ]
    }
   ],
   "source": [
    "## make change in one of the arrays, the change is reflected in both\n",
    "arr2[1][1] = 99\n",
    "print(\"\\nOriginal Array: \\n\", arr1)\n",
    "print(\"\\nNew Array: \\n\", arr2)"
   ]
  },
  {
   "cell_type": "markdown",
   "id": "01515efd",
   "metadata": {},
   "source": [
    "**Example 2:** Swapping axes of a 3-D array"
   ]
  },
  {
   "cell_type": "code",
   "execution_count": 85,
   "id": "32c3c7a8",
   "metadata": {},
   "outputs": [
    {
     "name": "stdout",
     "output_type": "stream",
     "text": [
      "Original Array: \n",
      " [[[0 1]\n",
      "  [2 3]]\n",
      "\n",
      " [[4 5]\n",
      "  [6 7]]] \n",
      "Shape:  (2, 2, 2)\n"
     ]
    }
   ],
   "source": [
    "arr1 = np.arange(8).reshape(2,2,2) \n",
    "print(\"Original Array: \\n\", arr1, \"\\nShape: \", arr1.shape)"
   ]
  },
  {
   "cell_type": "code",
   "execution_count": 86,
   "id": "f156b03b",
   "metadata": {},
   "outputs": [
    {
     "name": "stdout",
     "output_type": "stream",
     "text": [
      "\n",
      "New array: \n",
      " [[[0 2]\n",
      "  [1 3]]\n",
      "\n",
      " [[4 6]\n",
      "  [5 7]]] \n",
      "Shape:  (2, 2, 2)\n"
     ]
    }
   ],
   "source": [
    "#Reshape array using swapaxes() method\n",
    "arr2 = np.swapaxes(arr1,1,2)\n",
    "print(\"\\nNew array: \\n\", arr2,  \"\\nShape: \", arr2.shape)"
   ]
  },
  {
   "cell_type": "markdown",
   "id": "d514bdfc",
   "metadata": {},
   "source": [
    "### f. The `ndarray.flatten()` Method\n",
    "- The `ndarry.flatten()` method is used to flatten a Multi-Dimensional array/matrix to one dimension. \n",
    "```\n",
    "ndarray.flatten(order= 'C')\n",
    "```\n",
    "   - Default order is 'C’, means to flatten in row-major order. \n",
    "   - You can pass ‘F’ (FORTRAN) means to flatten in column-major.\n",
    "- Returns a copy of the array, flattened to one dimension."
   ]
  },
  {
   "cell_type": "code",
   "execution_count": 87,
   "id": "feaddafa",
   "metadata": {},
   "outputs": [
    {
     "name": "stdout",
     "output_type": "stream",
     "text": [
      "Original Array: \n",
      " [[ 0  1  2]\n",
      " [ 3  4  5]\n",
      " [ 6  7  8]\n",
      " [ 9 10 11]] \n",
      "Dimensions:  2\n"
     ]
    }
   ],
   "source": [
    "arr1 = np.arange(12).reshape(4,3) \n",
    "print(\"Original Array: \\n\", arr1, \"\\nDimensions: \", arr1.ndim)"
   ]
  },
  {
   "cell_type": "code",
   "execution_count": 89,
   "id": "ccfaf430",
   "metadata": {},
   "outputs": [
    {
     "name": "stdout",
     "output_type": "stream",
     "text": [
      "\n",
      "Flattened array in row major order \n",
      " [ 0  1  2  3  4  5  6  7  8  9 10 11] \n",
      "Dimensions:  1\n",
      "\n",
      "Flattened array in cloumn major order \n",
      " [ 0  3  6  9  1  4  7 10  2  5  8 11] \n",
      "Dimensions:  1\n"
     ]
    }
   ],
   "source": [
    "# flatten the array in row-major order\n",
    "arr2 = arr1.flatten(order = 'C')\n",
    "print(\"\\nFlattened array in row major order \\n\", arr2, \"\\nDimensions: \", arr2.ndim)\n",
    "\n",
    "# flatten the array in column-major order\n",
    "arr3 = arr1.flatten(order = 'F')\n",
    "print(\"\\nFlattened array in cloumn major order \\n\", arr3, \"\\nDimensions: \", arr3.ndim)"
   ]
  },
  {
   "cell_type": "code",
   "execution_count": null,
   "id": "1c05a760",
   "metadata": {},
   "outputs": [],
   "source": []
  },
  {
   "cell_type": "code",
   "execution_count": null,
   "id": "3dfcc37a",
   "metadata": {},
   "outputs": [],
   "source": []
  },
  {
   "cell_type": "markdown",
   "id": "3eaaeab6",
   "metadata": {},
   "source": [
    "## 3. Sorting Arrays using `np.sort()` Method\n",
    "- The `np.sort()` method returns a sorted copy of an array.\n",
    "- If axis is not specified, values can be of any shape and will be flattened before use\n",
    "```\n",
    "np.sort(arr1, axis=-1, kind=None)\n",
    "```\n",
    "    - `arr` : Array to be sorted.\n",
    "    - `axis` : Axis along which we need array to be started. The default is -1, which sorts along the last axis. 0 stands for sorting along first axis. If metioned None, the array is flattened before sorting.\n",
    "    - `kind` : default is 'quicksort', others can be 'mergesort', 'heapsort'"
   ]
  },
  {
   "cell_type": "markdown",
   "id": "81262fcf",
   "metadata": {},
   "source": [
    "### a. Sorting a 1-D Array"
   ]
  },
  {
   "cell_type": "code",
   "execution_count": 96,
   "id": "d9a041db",
   "metadata": {},
   "outputs": [
    {
     "name": "stdout",
     "output_type": "stream",
     "text": [
      "arr1 =  [ 8 48 31 63 89]\n"
     ]
    }
   ],
   "source": [
    "import numpy as np\n",
    "arr1 = np.random.randint(low = 1, high = 100, size = 5)\n",
    "print(\"arr1 = \", arr1)"
   ]
  },
  {
   "cell_type": "code",
   "execution_count": 98,
   "id": "deef6f22",
   "metadata": {},
   "outputs": [
    {
     "name": "stdout",
     "output_type": "stream",
     "text": [
      "arr2 =  [ 8 31 48 63 89]\n"
     ]
    }
   ],
   "source": [
    "arr2 = np.sort(arr1)\n",
    "print(\"arr2 = \", arr2)"
   ]
  },
  {
   "cell_type": "markdown",
   "id": "791d8537",
   "metadata": {},
   "source": [
    "### b. Sorting a 2-D Array"
   ]
  },
  {
   "cell_type": "markdown",
   "id": "14e9a50f",
   "metadata": {},
   "source": [
    "**Example 1:** Sorting a 2-D array with `axis=None`, array is flattened before sorting"
   ]
  },
  {
   "cell_type": "code",
   "execution_count": 99,
   "id": "ff2f4f38",
   "metadata": {},
   "outputs": [
    {
     "name": "stdout",
     "output_type": "stream",
     "text": [
      "arr1: \n",
      " [[20  5 34]\n",
      " [71 81 89]\n",
      " [59 22 32]]\n"
     ]
    }
   ],
   "source": [
    "arr1 = np.random.randint(low = 1, high = 100, size = (3,3))\n",
    "print(\"arr1: \\n\", arr1)"
   ]
  },
  {
   "cell_type": "code",
   "execution_count": 100,
   "id": "4e887b13",
   "metadata": {},
   "outputs": [
    {
     "name": "stdout",
     "output_type": "stream",
     "text": [
      "\n",
      "Sorting along axis=None: \n",
      " [ 5 20 22 32 34 59 71 81 89]\n"
     ]
    }
   ],
   "source": [
    "arr2 = np.sort(arr1, axis = None)        \n",
    "print (\"\\nSorting along axis=None: \\n\", arr2)"
   ]
  },
  {
   "cell_type": "markdown",
   "id": "666addfa",
   "metadata": {},
   "source": [
    "**Example 2:** Sorting a 2-D array with `axis=0`, vertical axis, top to bottom"
   ]
  },
  {
   "cell_type": "code",
   "execution_count": 101,
   "id": "d271af63",
   "metadata": {},
   "outputs": [
    {
     "name": "stdout",
     "output_type": "stream",
     "text": [
      "arr1 = \n",
      " [[8 9 1]\n",
      " [4 6 9]\n",
      " [7 5 2]]\n"
     ]
    }
   ],
   "source": [
    "arr1 = np.random.randint(low = 1, high = 10, size = (3,3))\n",
    "print(\"arr1 = \\n\", arr1)"
   ]
  },
  {
   "cell_type": "code",
   "execution_count": 102,
   "id": "de11180e",
   "metadata": {},
   "outputs": [
    {
     "name": "stdout",
     "output_type": "stream",
     "text": [
      "\n",
      "Sorting along axis=0: \n",
      " [[4 5 1]\n",
      " [7 6 2]\n",
      " [8 9 9]]\n"
     ]
    }
   ],
   "source": [
    "arr2 = np.sort(arr1, axis = 0)        \n",
    "print (\"\\nSorting along axis=0: \\n\", arr2)      "
   ]
  },
  {
   "cell_type": "markdown",
   "id": "1315698b",
   "metadata": {},
   "source": [
    "**Example 3:** Sorting a 2-D array with `axis=1`, horizontal axis, left to right"
   ]
  },
  {
   "cell_type": "code",
   "execution_count": 103,
   "id": "4a1c96be",
   "metadata": {},
   "outputs": [
    {
     "name": "stdout",
     "output_type": "stream",
     "text": [
      "arr1 = \n",
      " [[8 1 6]\n",
      " [5 4 6]\n",
      " [2 4 6]]\n"
     ]
    }
   ],
   "source": [
    "arr1 = np.random.randint(low = 1, high = 10, size = (3,3))\n",
    "print(\"arr1 = \\n\", arr1)"
   ]
  },
  {
   "cell_type": "code",
   "execution_count": 104,
   "id": "e469a9ba",
   "metadata": {},
   "outputs": [
    {
     "name": "stdout",
     "output_type": "stream",
     "text": [
      "\n",
      "Sorting along axis=1: \n",
      " [[1 6 8]\n",
      " [4 5 6]\n",
      " [2 4 6]]\n"
     ]
    }
   ],
   "source": [
    "arr2 = np.sort(arr1, axis = 1)        \n",
    "print (\"\\nSorting along axis=1: \\n\", arr2) "
   ]
  },
  {
   "cell_type": "markdown",
   "id": "337a26a6",
   "metadata": {},
   "source": [
    "## 4. Iterating numPy Arrays\n",
    "- Iterating over `ndarrays` is very similar to iterating over regular python arrays. \n",
    "- Remember, iterating over multidimensional arrays is done with respect to the first axis."
   ]
  },
  {
   "cell_type": "markdown",
   "id": "cc2536b3",
   "metadata": {},
   "source": [
    "**Example 1:** Iterating over 1-D numPy array"
   ]
  },
  {
   "cell_type": "code",
   "execution_count": 105,
   "id": "ac0b0562",
   "metadata": {},
   "outputs": [
    {
     "data": {
      "text/plain": [
       "array([ 0,  1,  2,  3,  4,  5,  6,  7,  8,  9, 10, 11])"
      ]
     },
     "execution_count": 105,
     "metadata": {},
     "output_type": "execute_result"
    }
   ],
   "source": [
    "arr1 = np.arange(12)\n",
    "arr1"
   ]
  },
  {
   "cell_type": "code",
   "execution_count": 106,
   "id": "ef4e70d1",
   "metadata": {},
   "outputs": [
    {
     "name": "stdout",
     "output_type": "stream",
     "text": [
      "0 1 2 3 4 5 6 7 8 9 10 11 "
     ]
    }
   ],
   "source": [
    "for value in arr1:\n",
    "    print(value, end=' ')"
   ]
  },
  {
   "cell_type": "code",
   "execution_count": null,
   "id": "8066021b",
   "metadata": {},
   "outputs": [],
   "source": []
  },
  {
   "cell_type": "markdown",
   "id": "7d5ccb09",
   "metadata": {},
   "source": [
    "**Example 2:** Iterating over 2-D numPy array is done w.r.t first axis, i.e., zero axis (column wise). In simple words in the first iteration you will get the first row, in second iteration you will get the 2nd row and so on..."
   ]
  },
  {
   "cell_type": "code",
   "execution_count": 107,
   "id": "56eb5662",
   "metadata": {},
   "outputs": [
    {
     "name": "stdout",
     "output_type": "stream",
     "text": [
      "arr1: \n",
      " [[ 0  1  2]\n",
      " [ 3  4  5]\n",
      " [ 6  7  8]\n",
      " [ 9 10 11]]\n"
     ]
    }
   ],
   "source": [
    "arr1 = np.arange(12).reshape(4, 3)\n",
    "print(\"arr1: \\n\",arr1)"
   ]
  },
  {
   "cell_type": "code",
   "execution_count": 108,
   "id": "d3e7a573",
   "metadata": {},
   "outputs": [
    {
     "name": "stdout",
     "output_type": "stream",
     "text": [
      "Iteration:\n",
      "[0 1 2]\n",
      "Iteration:\n",
      "[3 4 5]\n",
      "Iteration:\n",
      "[6 7 8]\n",
      "Iteration:\n",
      "[ 9 10 11]\n"
     ]
    }
   ],
   "source": [
    "for zero_axis in arr1:\n",
    "    print(\"Iteration:\")\n",
    "    print(zero_axis)"
   ]
  },
  {
   "cell_type": "markdown",
   "id": "bd19a3b8",
   "metadata": {},
   "source": [
    "**Example 3:** Iterating over 2-D numPy array"
   ]
  },
  {
   "cell_type": "code",
   "execution_count": 109,
   "id": "e44d5358",
   "metadata": {},
   "outputs": [
    {
     "name": "stdout",
     "output_type": "stream",
     "text": [
      "arr1: \n",
      " [[0 1 2 3]\n",
      " [4 5 6 7]]\n"
     ]
    }
   ],
   "source": [
    "arr1 = np.arange(8).reshape(2, 4)\n",
    "print(\"arr1: \\n\",arr1)"
   ]
  },
  {
   "cell_type": "code",
   "execution_count": 110,
   "id": "1ea61da8",
   "metadata": {},
   "outputs": [
    {
     "name": "stdout",
     "output_type": "stream",
     "text": [
      "Iteration:\n",
      "[0 1 2 3]\n",
      "Iteration:\n",
      "[4 5 6 7]\n"
     ]
    }
   ],
   "source": [
    "for zero_axis in arr1:\n",
    "    print(\"Iteration:\")\n",
    "    print(zero_axis)"
   ]
  },
  {
   "cell_type": "code",
   "execution_count": null,
   "id": "eaa270d8",
   "metadata": {},
   "outputs": [],
   "source": []
  },
  {
   "cell_type": "markdown",
   "id": "52c61e01",
   "metadata": {},
   "source": [
    "**Example 4:** Iterating over 3-D numPy array is done w.r.t first axis, i.e., zero axis (level wise). In simple words in the first iteration you will get the first row, in second iteration you will get the 2nd row and so on..."
   ]
  },
  {
   "cell_type": "code",
   "execution_count": 111,
   "id": "74c55b11",
   "metadata": {},
   "outputs": [
    {
     "name": "stdout",
     "output_type": "stream",
     "text": [
      "arr1: \n",
      " [[[ 0  1  2  3]\n",
      "  [ 4  5  6  7]\n",
      "  [ 8  9 10 11]]\n",
      "\n",
      " [[12 13 14 15]\n",
      "  [16 17 18 19]\n",
      "  [20 21 22 23]]]\n"
     ]
    }
   ],
   "source": [
    "arr1 = np.arange(24).reshape(2, 3, 4)\n",
    "print(\"arr1: \\n\",arr1)"
   ]
  },
  {
   "cell_type": "code",
   "execution_count": 115,
   "id": "b758ed71",
   "metadata": {},
   "outputs": [
    {
     "name": "stdout",
     "output_type": "stream",
     "text": [
      "Iteration:\n",
      "0 1 2 3 4 5 6 7 8 9 10 11 Iteration:\n",
      "12 13 14 15 16 17 18 19 20 21 22 23 "
     ]
    }
   ],
   "source": [
    "for zero_axis in arr1:\n",
    "    print(\"Iteration:\")\n",
    "    for i in zero_axis:\n",
    "        for j in i:\n",
    "            print(j , end=\" \")"
   ]
  },
  {
   "cell_type": "markdown",
   "id": "e20436b2",
   "metadata": {},
   "source": [
    "**Example 5:** If you want to iterate on *all* elements in the `ndarray`, simply iterate over the `flat` attribute:"
   ]
  },
  {
   "cell_type": "code",
   "execution_count": 116,
   "id": "4a59aefd",
   "metadata": {},
   "outputs": [
    {
     "name": "stdout",
     "output_type": "stream",
     "text": [
      "arr1: \n",
      " [[ 0  1  2  3]\n",
      " [ 4  5  6  7]\n",
      " [ 8  9 10 11]]\n"
     ]
    }
   ],
   "source": [
    "arr1 = np.arange(12).reshape(3, 4)\n",
    "print(\"arr1: \\n\",arr1)"
   ]
  },
  {
   "cell_type": "code",
   "execution_count": 118,
   "id": "69c8b5b7",
   "metadata": {},
   "outputs": [
    {
     "name": "stdout",
     "output_type": "stream",
     "text": [
      "0 1 2 3 4 5 6 7 8 9 10 11 "
     ]
    }
   ],
   "source": [
    "for i in arr1.flat:\n",
    "    print(i, end=' ')"
   ]
  },
  {
   "cell_type": "code",
   "execution_count": null,
   "id": "2ce2845f",
   "metadata": {},
   "outputs": [],
   "source": []
  },
  {
   "cell_type": "markdown",
   "id": "6a853b2a",
   "metadata": {},
   "source": [
    "## Check Your Concepts:\n",
    "- **What is Broadcasting?**\n",
    "  - The term broadcasting is the ability of NumPy to treat arrays of different shapes during arithmetic operations. Arithmetic operations on arrays are usually done on corresponding elements. If two arrays are of exactly the same shape, then these operations are smoothly performed.\n",
    "- **Define a polynomial function?**\n",
    "    - Polynomial functions are expressions that may contain variables of varying degrees, coefficients, positive exponents, and constants. [polynomial function](https://www.basic-mathematics.com/images/polynomial-function.png)\n",
    "- How to add one polynomial to another using NumPy in Python?(np.polynomial)\n",
    "- How to subtract one polynomial to another using NumPy in Python?\n",
    "- How to multiply a polynomial to another using NumPy in Python?\n",
    "- How to divide a polynomial to another using NumPy in Python?\n",
    "- Find the roots of the polynomials using NumPy(Hint : np.roots)\n",
    "- Evaluate a 2-D polynomial series on the Cartesian product\n",
    "- Evaluate a 3-D polynomial series on the Cartesian product(Hint : np.polynomial.polynomial.polygrid2d())[Cartesian Product](https://i.ytimg.com/vi/pomSALNz4qk/maxresdefault.jpg)\n",
    "- Repeat all the elements of a NumPy array of strings(Hint : np.char.multiply())\n",
    "- How to split the element of a given NumPy array with spaces?(Hint :np.char.split())\n",
    "- How to insert a space between characters of all the elements of a given NumPy array?(Hint : np.char.join())\n",
    "- Find the length of each string element in the Numpy array(Hint : np.vectorize(len))\n",
    "- Swap the case of an array of string(Hint : np.char.swapcase())\n",
    "- Change the case to uppercase of elements of an array\n",
    "- Change the case to lowercase of elements of an array\n",
    "- Check if two same shaped string arrayss one by one(Hint : np.char.equal())\n",
    "- Count the number of substrings in an array(Hint : np.char.count())\n",
    "- Find the lowest index of the substring in an array(Hint : np.char.find(array,substring))\n"
   ]
  },
  {
   "cell_type": "code",
   "execution_count": null,
   "id": "f9ba336f",
   "metadata": {},
   "outputs": [],
   "source": []
  },
  {
   "cell_type": "markdown",
   "id": "1d756524",
   "metadata": {},
   "source": [
    "# NumPy - Assignment no 05\n",
    "- Here is link of [NumPy - Assignment no 05]()"
   ]
  },
  {
   "cell_type": "code",
   "execution_count": null,
   "id": "f76242f3",
   "metadata": {},
   "outputs": [],
   "source": []
  },
  {
   "cell_type": "code",
   "execution_count": null,
   "id": "0f6ff35c",
   "metadata": {},
   "outputs": [],
   "source": []
  },
  {
   "cell_type": "code",
   "execution_count": null,
   "id": "5468113f",
   "metadata": {},
   "outputs": [],
   "source": []
  }
 ],
 "metadata": {
  "kernelspec": {
   "display_name": "Python 3 (ipykernel)",
   "language": "python",
   "name": "python3"
  },
  "language_info": {
   "codemirror_mode": {
    "name": "ipython",
    "version": 3
   },
   "file_extension": ".py",
   "mimetype": "text/x-python",
   "name": "python",
   "nbconvert_exporter": "python",
   "pygments_lexer": "ipython3",
   "version": "3.8.10"
  }
 },
 "nbformat": 4,
 "nbformat_minor": 5
}
