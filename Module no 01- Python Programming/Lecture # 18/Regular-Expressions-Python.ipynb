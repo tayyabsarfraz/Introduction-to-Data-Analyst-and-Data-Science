{
 "cells": [
  {
   "cell_type": "markdown",
   "id": "c0f94bec",
   "metadata": {},
   "source": [
    "---   \n",
    "\n",
    "<h1 align=\"center\">Introduction to Data Analyst and Data Science for beginners</h1>\n",
    "<h1 align=\"center\">Lecture no 18</h1>\n",
    "\n",
    "---\n",
    "<h3><div align=\"right\">Ehtisham Sadiq</div></h3>    "
   ]
  },
  {
   "cell_type": "markdown",
   "id": "9aa4323e",
   "metadata": {},
   "source": [
    "## _Regular Expressions Part-II.ipynb_"
   ]
  },
  {
   "cell_type": "markdown",
   "id": "6ad97a3c",
   "metadata": {},
   "source": [
    "<img align=\"left\" width=\"600\" height=\"600\"  src=\"images/re.jpeg\"  >\n",
    "<img align=\"right\" width=\"300\" height=\"300\"  src=\"images/tm.jpg\"  >"
   ]
  },
  {
   "cell_type": "markdown",
   "id": "4126c633",
   "metadata": {},
   "source": [
    "## Learning Agenda\n",
    "1. Review of Meta Characters, Quantifiers and Escape Codes\n",
    "2. The Python `re` Module\n",
    "    1. The `re.compile()` Method\n",
    "    2. The `re.Pattern.search()` Method\n",
    "    3. The `re.Pattern.match()` Method\n",
    "    4. The `re.Pattern.findall()` Method\n",
    "    5. The `re.Pattern.finditer()` Method\n",
    "3. Practical Example\n",
    "    1. Extracting Names\n",
    "    2. Extracting Date of Births\n",
    "    3. Extracting Emails and Usernames\n",
    "    4. Extracting valid Cell phones\n",
    "    5. Extracting Domain names from URLs\n",
    "4. Modifying Strings\n",
    "    1. The `re.Pattern.split()` Method\n",
    "    2. The `re.Pattern.sub()`  Method\n",
    "    3. The `re.Pattern.subn()` Method"
   ]
  },
  {
   "cell_type": "markdown",
   "id": "58b13156",
   "metadata": {},
   "source": [
    "## 1. Review of Meta Characters, Quantifiers and Escape Codes"
   ]
  },
  {
   "cell_type": "markdown",
   "id": "af0832f8",
   "metadata": {},
   "source": [
    "### a. Wild Card / Meta Characters\n",
    "Special characters are characters that do not match themselves as seen but have a special meaning when used in a regular expression. Some commonly used wild cards or meta characters are listed below:\n",
    "\n",
    "\n",
    "| Wild Card | Description         \n",
    "| :-:       |:-------------\n",
    "| **^**     |Caret symbol specifies that the match must start at the beginning of the string, and in MULTILINE mode also matches immediately after each newline<br>- `^b` will check if the string starts with 'b' such as baba, boss, basic, b, by, etc.<br>- `^si` will check if the string starts with 'si' such as simple, sister, si, etc.\n",
    "| **$**     |Specifies that the match must occur at the end of the string <br> - `s$` will check for the string that ends with a such as geeks, ends, s, etc.<br>- `ing$` will check for the string that ends with ing such as going, seeing, ing, etc.\n",
    "| **.**     |Represent a single occurrance of any character except new line <br> - `a.b` will check for the string that contains any character at the place of the dot such as acb, acbd, abbb, etc<br> - `..` will check if the string contains at least 2 characters\n",
    "| **\\\\**    |Used to drop special meaning of a character following it or used to refer to a special character. <br> - Since dot `(.)` is a metacharacter, so if you want to search it in a string you have to use the backslash `(\\)` just before the dot `(.)`  so that it will lose its specialty. \n",
    "| **[...]** |Matches a single character in the listed set. If caret is the first character inside it, it means negation<br>- `[abc]` means match any single character out of this set<br>- `[123]` means match any single digit out of this set<br>- `[a-z]` means match any single character out of lower case alphabets<br>- `[0-9]` means match any single digit out of this set<br>- `[^0-3]` means any number except 0, 1, 2, or 3<br>- `[^a-c]` means any character except a, b, or c<br>- [0-5][0-9] will match all the two-digits numbers from 00 to 59<br>- `[0-9A-Fa-f]` will match any hexadecimal digit.<br>- Special characters lose their special meaning inside sets, so `[(+*)]` will match any of the literal characters '(', '+', '*', or ')'.<br>- To match a literal ']' inside a set, precede it with a backslash, or place it at the beginning of the set, so `[()[\\]{}]` and `[]()[{}]` will both match parenthesis.\n",
    "| **^[...]**|Matches any character in the set at the beginning of the string\n",
    "| **[^...]**|Matches any character except those NOT in the listed set (negation)\n",
    "| **\\|**    |Or symbol works as the OR operator meaning it checks whether the pattern before or after the or symbol is present in the string or not<br>- `a\\|b` will match any string that contains a or b such as acd, bcd, abcd, etc.<br>- To match a literal '\\|', use `\\|`, or enclose it inside a character class, as in `[\\|]`.\n",
    "| **( )**   |Used to capture and group"
   ]
  },
  {
   "cell_type": "markdown",
   "id": "1a40818f",
   "metadata": {},
   "source": [
    "### b. Quantifiers\n",
    "- A quantifier metacharacter immediately follows a portion of a <regex> and indicates how many times that portion must occur for the match to succeed. *, +, ?, {m}, {m,n}. When used alone, the quantifier metacharacters *, +, and ? are all greedy, meaning they produce the longest possible match. Basically they are used to select more than one characters. \n",
    "\n",
    "| Wild Card | Description         \n",
    "| :-:       |:-------------\n",
    "| **\\***    |The preceding character/expression is repeated zero or more times\n",
    "| **+**     |The preceding character/expression is repeated one or more times, <br>- `ab+c` will be matched for the string abc, abbc, dabc, but will not be matched for ac, abdc because there is no b in ac and d is not followed by c in abdc.\n",
    "| **?**     |The preceding character/expression is optional (zero or one occurrence). <br>- `ab?c` will be matched for the string ac, abc, acb, dabc, dac but will not be matched for abbc because there are two b. Similarly, it will not be matched for abdc because b is not followed by c.\n",
    "| **{n,m}** |The preceding character/expression is repeated from n to m times (both enclusive). <br> - `a{2,4}` will be matched for the string aaab, baaaac, gaad, but will not be matched for strings like abc, bc because there is only one a or no a in both the cases.\n",
    "| **{n}**   |The preceding character/expression is repeated n times.<br>- `a{6}` will match exactly six 'a' characters, but not five.           \n",
    "| **{n,}**  |The preceding character/expression is repeated atleast n times \n",
    "| **{,m}**  |The preceding character/expression is repeated upto m times\n",
    "    \n",
    "    \n",
    "Note: The repeat characters (`*` and `+`) perform greedy search to match the largest possible string. However, you can performa a non greedy search by: `*?` (0 or more characters but non-greedy) `+?` (1 or more characters but non-greedy)"
   ]
  },
  {
   "cell_type": "markdown",
   "id": "53a7b442",
   "metadata": {},
   "source": [
    "### c. Escape Codes\n",
    "- You can use special escape codes to find specific types of patterns in your data, such as digits, non-digits,whitespace, and more. \n",
    "- The following list of special sequences isn’t complete.\n",
    "\n",
    "| Code | Description         \n",
    "| :-:  |:-------------\n",
    "| **\\d** |Matches any decimal digit. This is equivalent to [0-9]                              \n",
    "| **\\D** |Matches any non-digit character. This is equivalent to [^0-9] or [^\\d]                           \n",
    "| **\\s** |Matches any whitespace character. This is equivalent to [ \\r\\n\\t\\b\\f]                \n",
    "| **\\S** |Matches any non-whitespace character. This is equivalent to [^ \\r\\t\\n\\f] or [^\\s]                         \n",
    "| **\\w** |Matches alphanumeric character. This is equivalent to [a-zA-Z0-9_]                  \n",
    "| **\\W** |Matches any non-alphanumeric character. This is equivalent to [^a-zA-Z0-9_] or [^\\w]                  \n",
    "| **\\b** |Matches where the specified characters are at the beginning or at the end of a word r\"\\bain\" OR r\"ain\\b\"\n",
    "| **\\B** |Matches where the specified characters are present, but NOT or at the end of a word r\"Bain\" OR r\"ain\\B\" "
   ]
  },
  {
   "cell_type": "markdown",
   "id": "c0f18cf9",
   "metadata": {},
   "source": [
    "## 2. The Python `re` Module"
   ]
  },
  {
   "cell_type": "code",
   "execution_count": null,
   "id": "a3e77f46",
   "metadata": {},
   "outputs": [],
   "source": [
    "import re\n",
    "print(dir(re))"
   ]
  },
  {
   "cell_type": "code",
   "execution_count": null,
   "id": "3a9be088",
   "metadata": {},
   "outputs": [],
   "source": []
  },
  {
   "cell_type": "code",
   "execution_count": null,
   "id": "98402a4d",
   "metadata": {},
   "outputs": [],
   "source": []
  },
  {
   "cell_type": "markdown",
   "id": "7af8d1dd",
   "metadata": {},
   "source": [
    "### a. The `re.compile()` Method\n",
    "This method is used to compile a regular expression pattern into a regular expression object, which can be used for matching using its `match()`, `search()` and other methods.\n",
    "\n",
    "**`re.compile(pattern, flags=0)`**\n",
    "\n",
    "Where,\n",
    "   - `pattern` is the regular expression which you want to compile that you need to search/modify in a string or may be on a corpus of documents.\n",
    "   - `flags` arguments can be used to modify the expression’s behaviour. Values can be any of the following variables, combined using bitwise OR (the | operator):\n",
    "        - `IGNORECASE` or `I` to do a case in-sensitive search\n",
    "        - `LOCALE` or `L` to perform a locale aware match.\n",
    "        - `MULTILINE`, `M` to do multiline matching, affecting `^` and `$`\n",
    "        - `DOTALL` or `S` to make the '.' special character match any character, including a newline; without this flag, '.' will match anything except a newline.\n",
    "\n",
    "Once you have an `Pattern object` representing a compiled regular expression, you can use its methods to perform various operations on a string or may be in a corpus of documents:\n",
    "- `p.match()`: Determine if the RE matches at the beginning of the string.\n",
    "- `p.search()`: Scan through a string, looking for any location where this RE matches.\n",
    "- `p.findall()`: Find all substrings where the RE matches, and returns them as a list.\n",
    "- `p.finditer()`: Find all substrings where the RE matches, and returns them as an iterator.\n",
    "- `p.split()`: Used to split string by the occurrences of pattern.\n",
    "- `p.sub()`: Used for for find and replace purpose..\n",
    "\n",
    "**Note:** Creating a regex object with `re.compile` is highly recommended if you intend to apply the same expression to many strings; doing so will save CPU cycles."
   ]
  },
  {
   "cell_type": "code",
   "execution_count": null,
   "id": "43225c4e",
   "metadata": {},
   "outputs": [],
   "source": [
    "[A]+[a-z]*"
   ]
  },
  {
   "cell_type": "code",
   "execution_count": null,
   "id": "1099db63",
   "metadata": {},
   "outputs": [],
   "source": [
    "import re\n",
    "# The regular expression look for a string that starts with one or more uppercase 'A' alphabet, followed by \n",
    "# zero or more lower case alphabets in multi-line mode\n",
    "p = re.compile(r\"[A]+[a-z]*\", flags=re.M)  \n",
    "\n",
    "print(p)\n",
    "print(type(p))"
   ]
  },
  {
   "cell_type": "markdown",
   "id": "dc9ee288",
   "metadata": {},
   "source": [
    "Once you have got a pattern object, you can use its various methods for searching from a string"
   ]
  },
  {
   "cell_type": "code",
   "execution_count": null,
   "id": "f26f0321",
   "metadata": {},
   "outputs": [],
   "source": []
  },
  {
   "cell_type": "markdown",
   "id": "d724dbd3",
   "metadata": {},
   "source": [
    "### b. The `re.Pattern.search()` Method\n",
    "- Scan through string looking for the first location where the pattern object `p` produces a match, and return a corresponding match object. Return None if no position in the string matches the pattern.\n",
    "\n",
    "**`p.search(string, pos=0 endpos=9223372036854775807)`**\n",
    "\n",
    "- Where,\n",
    "   - `p` is the compiled pattern object\n",
    "   - `string` is the test string from which we want to search\n",
    "   - `pos` and `endpos` can be used to specify the portion of test string from where to search"
   ]
  },
  {
   "cell_type": "code",
   "execution_count": null,
   "id": "9d427527",
   "metadata": {},
   "outputs": [],
   "source": [
    "import re\n",
    "str1 = \"Ehtisham, Ali, Jamil and Ahmad are good at playing acrobatic games.  AAA is triple As. Ali Sadiq.\"\n",
    "# The regular expression look for a string that starts with one or more uppercase 'A' alphabet, followed by \n",
    "# zero or more lower case alphabets in multi-line mode\n",
    "p = re.compile(r\"[A]+[a-z]*\", flags=re.M)  \n",
    "\n",
    "match = p.search(str1)\n",
    "print(match)\n",
    "print(type(match))\n"
   ]
  },
  {
   "cell_type": "code",
   "execution_count": null,
   "id": "3e0a5df4",
   "metadata": {},
   "outputs": [],
   "source": []
  },
  {
   "cell_type": "markdown",
   "id": "e7eab265",
   "metadata": {},
   "source": [
    "### c. The `re.Pattern.match()` Method\n",
    "- Look for the pattern at the beginning of the string and if found returns a corresponding match object. Return None if the string does not match the pattern.\n",
    "\n",
    "**`p.match(string, pos=0 endpos=9223372036854775807)`**\n",
    "\n",
    "- Where,\n",
    "   - `p` is the compiled pattern object\n",
    "   - `string` is the test string from which we want to search\n",
    "   - `pos` and `endpos` can be used to specify the portion of test string from where to search\n",
    "\n",
    "Note: \n",
    "- Even in MULTILINE mode, `re.match()` will only match at the beginning of the string and not at the beginning of each line.\n",
    "- If you want to locate a match anywhere in string, use `search()` instead "
   ]
  },
  {
   "cell_type": "code",
   "execution_count": null,
   "id": "7da73734",
   "metadata": {},
   "outputs": [],
   "source": [
    "import re\n",
    "str1 = \"Ehtisham, Jamil and Ahmad are good at playing acrobatic games.  AAA is triple As. Ali Sadiq.\"\n",
    "str2 = \"Mr. Ehtisham, Jamil and Ahmad are good at playing acrobatic games.  AAA is triple As. Ali Sadiq.\"\n",
    "# The regular expression look for a string that starts with one or more uppercase 'A' alphabet, followed by \n",
    "# zero or more lower case alphabets in multi-line mode\n",
    "p = re.compile(r\"[E]+[a-z]*\", flags=re.M)  \n",
    "\n",
    "rv = p.match(str1)\n",
    "print(rv)\n",
    "print(type(rv))"
   ]
  },
  {
   "cell_type": "code",
   "execution_count": null,
   "id": "494543e0",
   "metadata": {},
   "outputs": [],
   "source": []
  },
  {
   "cell_type": "markdown",
   "id": "e87a6f71",
   "metadata": {},
   "source": [
    "### d. The `re.Pattern.findall()` Method\n",
    "- The `search()` only returns the first match, `match()` only matches at the beginning of the string, while `findall()`  returns all matches in a string.\n",
    "- Return all non-overlapping matches of pattern in string, as a list of strings or tuples. The string is scanned left-to-right, and matches are returned in the order found. Empty matches are included in the result.\n",
    "- If pattern `p` does not match, it returns an empty list.\n",
    "\n",
    "**`p.findall(string, pos=0 endpos=9223372036854775807)`**\n",
    "\n",
    "- Where,\n",
    "   - `p` is the compiled pattern object\n",
    "   - `string` is the test string from which we want to search\n",
    "   - `pos` and `endpos` can be used to specify the portion of test string from where to search\n",
    "   \n",
    "Note: The result depends on the number of capturing groups in the pattern. If there are no groups, return a list of strings matching the whole pattern. If there is exactly one group, return a list of strings matching that group. If multiple groups are present, return a list of tuples of strings matching the groups. Non-capturing groups do not affect the form of the result."
   ]
  },
  {
   "cell_type": "code",
   "execution_count": null,
   "id": "c2109514",
   "metadata": {},
   "outputs": [],
   "source": [
    "import re\n",
    "str1 = \"Ehtisham, Jamil and Ahmad are good at playing acrobatic games. AAA is triple As. Ali Sadiq.\"\n",
    "# The regular expression look for a string that starts with one or more uppercase 'A' alphabet, followed by \n",
    "# zero or more lower case alphabets in multi-line mode\n",
    "p = re.compile(r\"[A]+[a-z]*\", flags=re.M)  \n",
    "\n",
    "\n",
    "rv = p.findall(str1)\n",
    "print(rv)\n",
    "print(type(rv))"
   ]
  },
  {
   "cell_type": "code",
   "execution_count": null,
   "id": "9ac11878",
   "metadata": {},
   "outputs": [],
   "source": []
  },
  {
   "cell_type": "markdown",
   "id": "daa64e6b",
   "metadata": {},
   "source": [
    "### e. The `re.Pattern.finditer()` Method\n",
    "- Return an iterator yielding match objects over all non-overlapping matches for the RE pattern in string. The string is scanned left-to-right, and matches are returned in the order found. Empty matches are included in the result.\n",
    "\n",
    "**`p.finditer(string, pos=0 endpos=9223372036854775807)`**\n",
    "\n",
    "- Where,\n",
    "   - `p` is the compiled pattern object\n",
    "   - `string` is the test string from which we want to search\n",
    "   - `pos` and `endpos` can be used to specify the portion of test string from where to search\n",
    "   "
   ]
  },
  {
   "cell_type": "code",
   "execution_count": 1,
   "id": "83e49cd6",
   "metadata": {},
   "outputs": [
    {
     "name": "stdout",
     "output_type": "stream",
     "text": [
      "<callable_iterator object at 0x7f60c024d0d0>\n",
      "<class 'callable_iterator'>\n"
     ]
    }
   ],
   "source": [
    "import re\n",
    "str1 = \"Ehtisham, Ali, Jamil and Ahmad are good at playing acrobatic games.  AAA is triple As. Ehtisham Sadiq.\"\n",
    "\n",
    "# The regular expression look for a string that starts with one or more uppercase 'A' alphabet, followed by \n",
    "# zero or more lower case alphabets in multi-line mode\n",
    "p = re.compile(r\"[A]+[a-z]*\", flags=re.M)  \n",
    "\n",
    "# matches = p.finditer(str1)\n",
    "# print(matches)\n",
    "# print(type(matches))\n",
    "\n",
    "\n",
    "rv =p.finditer(str1)\n",
    "print(rv)\n",
    "print(type(rv))"
   ]
  },
  {
   "cell_type": "code",
   "execution_count": null,
   "id": "b4056b48",
   "metadata": {},
   "outputs": [],
   "source": []
  },
  {
   "cell_type": "markdown",
   "id": "2bbb2991",
   "metadata": {},
   "source": [
    ">- **Once we have got the iterator of `Match object`, we can iterate it using a `for` loop.**\n",
    ">- **Let us see how many match objects are there in this iterator named `matches`.**"
   ]
  },
  {
   "cell_type": "code",
   "execution_count": 2,
   "id": "629eee90",
   "metadata": {},
   "outputs": [
    {
     "name": "stdout",
     "output_type": "stream",
     "text": [
      "<re.Match object; span=(10, 13), match='Ali'>\n",
      "<class 're.Match'>\n",
      "<re.Match object; span=(25, 30), match='Ahmad'>\n",
      "<class 're.Match'>\n",
      "<re.Match object; span=(69, 72), match='AAA'>\n",
      "<class 're.Match'>\n",
      "<re.Match object; span=(83, 85), match='As'>\n",
      "<class 're.Match'>\n"
     ]
    }
   ],
   "source": [
    "for i in rv:\n",
    "    print(i)\n",
    "    print(type(i))"
   ]
  },
  {
   "cell_type": "code",
   "execution_count": null,
   "id": "e090d9ca",
   "metadata": {},
   "outputs": [],
   "source": []
  },
  {
   "cell_type": "code",
   "execution_count": null,
   "id": "61861968",
   "metadata": {},
   "outputs": [],
   "source": []
  },
  {
   "cell_type": "markdown",
   "id": "e5186bd2",
   "metadata": {},
   "source": [
    ">- **Every match object has many associated methods.**\n",
    ">- **Let us see different attributes of each match object using these methods.**"
   ]
  },
  {
   "cell_type": "markdown",
   "id": "8ad323a9",
   "metadata": {},
   "source": [
    "The **`group()`** method of the match object, return subgroups of the match (if they exist). By default return the entire match."
   ]
  },
  {
   "cell_type": "code",
   "execution_count": 3,
   "id": "bccf0177",
   "metadata": {},
   "outputs": [
    {
     "name": "stdout",
     "output_type": "stream",
     "text": [
      "Ali\n",
      "Ahmad\n",
      "AAA\n",
      "As\n"
     ]
    }
   ],
   "source": [
    "import re\n",
    "str1 = \"Ehtisham, Ali, Jamil and Ahmad are good at playing acrobatic games.  AAA is triple As. Ehtisham Sadiq.\"\n",
    "\n",
    "p = re.compile(r\"[A]+[a-z]*\")  \n",
    "matches = p.finditer(str1)\n",
    "\n",
    "for m in matches:\n",
    "    print(m.group(0))"
   ]
  },
  {
   "cell_type": "markdown",
   "id": "95d4245d",
   "metadata": {},
   "source": [
    "The **`span()`** method of the match object, return a 2-tuple containing the start and end index (end index not inclusive)"
   ]
  },
  {
   "cell_type": "code",
   "execution_count": null,
   "id": "1b392b71",
   "metadata": {},
   "outputs": [],
   "source": [
    "import re\n",
    "str1 = \"Ehtisham, Ali, Jamil and Ahmad are good at playing acrobatic games.  AAA is triple As. Ehtisham Sadiq.\"\n",
    "\n",
    "p = re.compile(r\"[A]+[a-z]*\")  \n",
    "matches = p.finditer(str1)\n",
    "\n",
    "for m in matches:\n",
    "    print(m.group())\n",
    "    print(m.span())"
   ]
  },
  {
   "cell_type": "markdown",
   "id": "a1200ba9",
   "metadata": {},
   "source": [
    "The **`start(group=0)`** method of the match object, return index of the start of the substring matched by group."
   ]
  },
  {
   "cell_type": "code",
   "execution_count": null,
   "id": "8697591e",
   "metadata": {},
   "outputs": [],
   "source": [
    "import re\n",
    "str1 = \"Ehtisham, Ali, Jamil and Ahmad are good at playing acrobatic games.  AAA is triple As. Ehtisham Sadiq.\"\n",
    "str2 = \"Mr. Ehtisham, Jamil and Ahmad are good at playing acrobatic games.  AAA is triple As. Ehtisham Sadiq.\"\n",
    "p = re.compile(r\"[A]+[a-z]*\")  \n",
    "matches = p.finditer(str1)\n",
    "\n",
    "for m in matches:\n",
    "    print(m.start())"
   ]
  },
  {
   "cell_type": "markdown",
   "id": "a9cbe56a",
   "metadata": {},
   "source": [
    "The `end(group=0)` method of the match object, return index of the end of the substring matched by group."
   ]
  },
  {
   "cell_type": "code",
   "execution_count": null,
   "id": "bc08495d",
   "metadata": {},
   "outputs": [],
   "source": [
    "import re\n",
    "str1 = \"Ehtisham, Ali, Jamil and Ahmad are good at playing acrobatic games.  AAA is triple As. Ehtisham Sadiq.\"\n",
    "str2 = \"Mr. Ehtisham, Jamil and Ahmad are good at playing acrobatic games.  AAA is triple As. Ehtisham Sadiq.\"\n",
    "p = re.compile(r\"[A]+[a-z]*\")  \n",
    "matches = p.finditer(str1)\n",
    "\n",
    "for m in matches:\n",
    "    print(m.span())\n",
    "    print(m.end())"
   ]
  },
  {
   "cell_type": "code",
   "execution_count": null,
   "id": "fb975548",
   "metadata": {},
   "outputs": [],
   "source": []
  },
  {
   "cell_type": "markdown",
   "id": "de97f34c",
   "metadata": {},
   "source": [
    "## 3. Practical Example"
   ]
  },
  {
   "cell_type": "markdown",
   "id": "247c42cb",
   "metadata": {},
   "source": [
    "**Read a text file**"
   ]
  },
  {
   "cell_type": "code",
   "execution_count": null,
   "id": "3ccbf6f1",
   "metadata": {},
   "outputs": [],
   "source": [
    "!"
   ]
  },
  {
   "cell_type": "code",
   "execution_count": null,
   "id": "561b15b4",
   "metadata": {},
   "outputs": [],
   "source": [
    "! cat datasets/names_addresses.txt"
   ]
  },
  {
   "cell_type": "code",
   "execution_count": 6,
   "id": "4fdd049e",
   "metadata": {},
   "outputs": [
    {
     "name": "stdout",
     "output_type": "stream",
     "text": [
      "Mr. Ehtisham Sadiq\n",
      "615-555-7164\n",
      "131 Model Town, Lahore\n",
      "02-01-2001\n",
      "ehtishampucit@gmail.com\n",
      "http://www.ehtisham.me\n",
      "\n",
      "\n",
      "Mrs. Azka Noreen\n",
      "317.615.9124\n",
      "33 Garden Town, Lahore\n",
      "20/02/2000\n",
      "azka-123@gmail.com\n",
      "http://azka.pu.edu.pk\n",
      "\n",
      "\n",
      "\n",
      "Mr. Ahmed Shahzad\n",
      "321#521#9254\n",
      "69, A Wapda Town, Lahore\n",
      "12.09.2000\n",
      "Ahmed3@yahoo.com\n",
      "https://www.Ahmed.pu.edu.pk\n",
      "\n",
      "\n",
      "Ms Aqsa\n",
      "123.555.1997\n",
      "56 Joher Town, Lahore\n",
      "12/08/2001\n",
      "aqsa_007@gmail.com\n",
      "http://youtube.com\n",
      "\n",
      "Mr. B\n",
      "321-555-4321\n",
      "19 Township, Lahore\n",
      "05-07-2002\n",
      "mrB@yahoo.com\n",
      "http://facebook.com\n"
     ]
    }
   ],
   "source": [
    "with open(\"datasets/names_addresses.txt\", \"r\") as fd:\n",
    "    print(fd.read())"
   ]
  },
  {
   "cell_type": "code",
   "execution_count": null,
   "id": "06bb08a6",
   "metadata": {},
   "outputs": [],
   "source": []
  },
  {
   "cell_type": "markdown",
   "id": "549d96f8",
   "metadata": {},
   "source": [
    "**Let us read the data from the file in a string**"
   ]
  },
  {
   "cell_type": "code",
   "execution_count": 9,
   "id": "04ec382d",
   "metadata": {
    "scrolled": true
   },
   "outputs": [
    {
     "name": "stdout",
     "output_type": "stream",
     "text": [
      "Mr. Ehtisham Sadiq\n",
      "615-555-7164\n",
      "131 Model Town, Lahore\n",
      "02-01-2001\n",
      "ehtishampucit@gmail.com\n",
      "http://www.ehtisham.me\n",
      "\n",
      "\n",
      "Mrs. Azka Noreen\n",
      "317.615.9124\n",
      "33 Garden Town, Lahore\n",
      "20/02/2000\n",
      "azka-123@gmail.com\n",
      "http://azka.pu.edu.pk\n",
      "\n",
      "\n",
      "\n",
      "Mr. Ahmed Shahzad\n",
      "321#521#9254\n",
      "69, A Wapda Town, Lahore\n",
      "12.09.2000\n",
      "Ahmed3@yahoo.com\n",
      "https://www.Ahmed.pu.edu.pk\n",
      "\n",
      "\n",
      "Ms Aqsa\n",
      "123.555.1997\n",
      "56 Joher Town, Lahore\n",
      "12/08/2001\n",
      "aqsa_007@gmail.com\n",
      "http://youtube.com\n",
      "\n",
      "Mr. B\n",
      "321-555-4321\n",
      "19 Township, Lahore\n",
      "05-07-2002\n",
      "mrB@yahoo.com\n",
      "http://facebook.com\n"
     ]
    }
   ],
   "source": [
    "with open(\"datasets/names_addresses.txt\", \"r\") as fd:\n",
    "    teststring = fd.read()\n",
    "# type(teststring)\n",
    "print(teststring)"
   ]
  },
  {
   "cell_type": "code",
   "execution_count": null,
   "id": "a91390ca",
   "metadata": {},
   "outputs": [],
   "source": []
  },
  {
   "cell_type": "markdown",
   "id": "e63f46d2",
   "metadata": {},
   "source": [
    "### a. Extracting Names\n",
    "- Assume that every name starts with Mr or Ms or Mrs, with an optional dot, a space and then followed by alphanumeric characters"
   ]
  },
  {
   "cell_type": "code",
   "execution_count": null,
   "id": "4305ef2b",
   "metadata": {},
   "outputs": [],
   "source": []
  },
  {
   "cell_type": "code",
   "execution_count": null,
   "id": "4242b3ad",
   "metadata": {},
   "outputs": [],
   "source": [
    "import re\n",
    "p = re.compile(r'\\d{2}.\\d{2}.\\d{4}')\n",
    "obj1 = p.findall(teststring)\n",
    "obj1"
   ]
  },
  {
   "cell_type": "code",
   "execution_count": null,
   "id": "1f0ffe74",
   "metadata": {},
   "outputs": [],
   "source": [
    "import re\n",
    "p = re.compile(r'(Mr|Ms|Mrs)\\.?\\s\\w+')  \n",
    "\n",
    "#teststring contains data read from file\n",
    "matches = p.finditer(teststring)\n",
    "for match in matches:\n",
    "    print(match)"
   ]
  },
  {
   "cell_type": "code",
   "execution_count": 19,
   "id": "11d53ef8",
   "metadata": {},
   "outputs": [
    {
     "data": {
      "text/plain": [
       "'bbmnbsfjhfsf'"
      ]
     },
     "execution_count": 19,
     "metadata": {},
     "output_type": "execute_result"
    }
   ],
   "source": [
    "string =\"2b435b345m435435nbsfjhfsf3/3/4//53//;,.,..,,..\"\n",
    "re.sub(r'[^a-zA-Z]','', string)\n",
    "# re."
   ]
  },
  {
   "cell_type": "code",
   "execution_count": 21,
   "id": "711b1355",
   "metadata": {},
   "outputs": [
    {
     "data": {
      "text/plain": [
       "'bbmnbsfjhfsf'"
      ]
     },
     "execution_count": 21,
     "metadata": {},
     "output_type": "execute_result"
    }
   ],
   "source": [
    "import re\n",
    "word1 = \"\".join(re.findall(\"[a-zA-Z]+\", string))\n",
    "word1"
   ]
  },
  {
   "cell_type": "code",
   "execution_count": null,
   "id": "19e9db57",
   "metadata": {},
   "outputs": [],
   "source": []
  },
  {
   "cell_type": "code",
   "execution_count": null,
   "id": "5d321152",
   "metadata": {},
   "outputs": [],
   "source": [
    "p = re.compile(r'(Mr|Ms|Mrs)\\.?\\s\\w+')  \n",
    "\n",
    "#teststring contains data read from file\n",
    "matches = p.finditer(teststring)\n",
    "\n",
    "for match in matches:\n",
    "    print(match.group())\n",
    "    "
   ]
  },
  {
   "cell_type": "markdown",
   "id": "e1e0940e",
   "metadata": {},
   "source": [
    "What if we want to get the complete name"
   ]
  },
  {
   "cell_type": "code",
   "execution_count": null,
   "id": "2d9d41a0",
   "metadata": {},
   "outputs": [],
   "source": [
    "p = re.compile(r'(Mr|Ms|Mrs)\\.?\\s\\w+\\s[A-Za-z]*')  \n",
    "\n",
    "#teststring contains data read from file\n",
    "matches = p.finditer(teststring)\n",
    "\n",
    "for match in matches:\n",
    "    print(match.group(0))\n",
    "    "
   ]
  },
  {
   "cell_type": "code",
   "execution_count": null,
   "id": "63362e7a",
   "metadata": {},
   "outputs": [],
   "source": [
    "!cat names_addresses.txt"
   ]
  },
  {
   "cell_type": "markdown",
   "id": "7e49118e",
   "metadata": {},
   "source": [
    "### b. Extracting Date of Births\n",
    "- Assume that the the date, month and year are of two, two and four digits respectively. Moreover, they are separated by either a dot, a hyphen or a slash"
   ]
  },
  {
   "cell_type": "code",
   "execution_count": null,
   "id": "8e6cbbd3",
   "metadata": {},
   "outputs": [],
   "source": [
    "p = re.compile(r'\\d{2}.\\d{2}.\\d{4}')  \n",
    "\n",
    "#teststring contains data read from file\n",
    "matches = p.finditer(teststring)\n",
    "\n",
    "for match in matches:\n",
    "    print(match.group())\n",
    "    "
   ]
  },
  {
   "cell_type": "markdown",
   "id": "e422df1b",
   "metadata": {},
   "source": [
    "What if we just want to get the date, month and year separately"
   ]
  },
  {
   "cell_type": "code",
   "execution_count": null,
   "id": "81694292",
   "metadata": {},
   "outputs": [],
   "source": [
    "p = re.compile(r'(\\d{2}).(\\d{2}).(\\d{4})')  \n",
    "\n",
    "#teststring contains data read from file\n",
    "matches = p.finditer(teststring)\n",
    "\n",
    "for match in matches:\n",
    "    print(match.group(1))\n",
    "    "
   ]
  },
  {
   "cell_type": "code",
   "execution_count": null,
   "id": "68686abe",
   "metadata": {},
   "outputs": [],
   "source": []
  },
  {
   "cell_type": "markdown",
   "id": "244a5e57",
   "metadata": {},
   "source": [
    "### c. Extracting Emails and Usernames\n",
    "**Valid Name Part:**\n",
    "- Lowercase case alphabets\n",
    "- Uppercase case alphabets\n",
    "- Digits: 0123456789,\n",
    "- dot: . (not first or last character)\n",
    "- For simplicity assume no special characters allowed\n",
    "\n",
    "**Valid Domain Part:**\n",
    "- Lowercase case alphabets\n",
    "- Uppercase case alphabets\n",
    "- Digits: 0123456789,\n",
    "- Hyphen: - (not first or last character),\n",
    "- Can contain IP address surrounded by square brackets: test@[192.168.2.4] or test@[IPv6:2018:db8::1]."
   ]
  },
  {
   "cell_type": "code",
   "execution_count": null,
   "id": "b2e71404",
   "metadata": {},
   "outputs": [],
   "source": [
    "!cat names_addresses.txt"
   ]
  },
  {
   "cell_type": "code",
   "execution_count": null,
   "id": "9f64ef19",
   "metadata": {},
   "outputs": [],
   "source": [
    "pattern = re.compile(r'[a-zA-Z0-9_.+-]+@[a-zA-Z0-9-]+\\.[a-z]{2,3}')\n",
    "\n",
    "#teststring contains data read from file\n",
    "matches = pattern.finditer(teststring)\n",
    "\n",
    "for match in matches:\n",
    "    print(match.group())"
   ]
  },
  {
   "cell_type": "markdown",
   "id": "46728040",
   "metadata": {},
   "source": [
    "What if we want to just extract the usernames"
   ]
  },
  {
   "cell_type": "code",
   "execution_count": null,
   "id": "decac4e4",
   "metadata": {},
   "outputs": [],
   "source": [
    "p = re.compile(r'([a-zA-Z0-9_.+-]+)@([a-zA-Z0-9-]+)(\\.[a-z]{2,3})')\n",
    "\n",
    "#teststring contains data read from file\n",
    "matches = p.finditer(teststring)\n",
    "\n",
    "for match in matches:                          \n",
    "    print(match.group(1))"
   ]
  },
  {
   "cell_type": "code",
   "execution_count": null,
   "id": "03d3df90",
   "metadata": {},
   "outputs": [],
   "source": []
  },
  {
   "cell_type": "markdown",
   "id": "20196c7f",
   "metadata": {},
   "source": [
    "### d. Extracting valid Cell phones\n",
    "Assume that every valid phone number consiste of 10 digits in three groups of three, three and four digits. The three groups are separated by either a `-`, `.` or `/` symbol"
   ]
  },
  {
   "cell_type": "code",
   "execution_count": 4,
   "id": "fc1dc661",
   "metadata": {},
   "outputs": [
    {
     "ename": "NameError",
     "evalue": "name 'teststring' is not defined",
     "output_type": "error",
     "traceback": [
      "\u001b[0;31m---------------------------------------------------------------------------\u001b[0m",
      "\u001b[0;31mNameError\u001b[0m                                 Traceback (most recent call last)",
      "Input \u001b[0;32mIn [4]\u001b[0m, in \u001b[0;36m<cell line: 4>\u001b[0;34m()\u001b[0m\n\u001b[1;32m      1\u001b[0m p \u001b[38;5;241m=\u001b[39m re\u001b[38;5;241m.\u001b[39mcompile(\u001b[38;5;124mr\u001b[39m\u001b[38;5;124m'\u001b[39m\u001b[38;5;124m(\u001b[39m\u001b[38;5;124m\\\u001b[39m\u001b[38;5;124md\u001b[39m\u001b[38;5;132;01m{3}\u001b[39;00m\u001b[38;5;124m)[./-](\u001b[39m\u001b[38;5;124m\\\u001b[39m\u001b[38;5;124md\u001b[39m\u001b[38;5;132;01m{3}\u001b[39;00m\u001b[38;5;124m)[./-](\u001b[39m\u001b[38;5;124m\\\u001b[39m\u001b[38;5;124md\u001b[39m\u001b[38;5;132;01m{4}\u001b[39;00m\u001b[38;5;124m)\u001b[39m\u001b[38;5;124m'\u001b[39m)\n\u001b[1;32m      3\u001b[0m \u001b[38;5;66;03m#teststring contains data read from file\u001b[39;00m\n\u001b[0;32m----> 4\u001b[0m matches \u001b[38;5;241m=\u001b[39m p\u001b[38;5;241m.\u001b[39mfinditer(\u001b[43mteststring\u001b[49m)\n\u001b[1;32m      6\u001b[0m \u001b[38;5;28;01mfor\u001b[39;00m match \u001b[38;5;129;01min\u001b[39;00m matches:\n\u001b[1;32m      7\u001b[0m     \u001b[38;5;28mprint\u001b[39m(match\u001b[38;5;241m.\u001b[39mgroup())\n",
      "\u001b[0;31mNameError\u001b[0m: name 'teststring' is not defined"
     ]
    }
   ],
   "source": [
    "p = re.compile(r'(\\d{3})[./-](\\d{3})[./-](\\d{4})')\n",
    "\n",
    "#teststring contains data read from file\n",
    "matches = p.finditer(teststring)\n",
    "\n",
    "for match in matches:\n",
    "    print(match.group())\n",
    "    "
   ]
  },
  {
   "cell_type": "markdown",
   "id": "c5445400",
   "metadata": {},
   "source": [
    "You can easily extract the city codes, country codes and so on at your own by creating groups inside your regular expressions."
   ]
  },
  {
   "cell_type": "code",
   "execution_count": null,
   "id": "e6ef7066",
   "metadata": {},
   "outputs": [],
   "source": []
  },
  {
   "cell_type": "markdown",
   "id": "adc6b387",
   "metadata": {},
   "source": [
    "### e. Extracting Domain names from URLs\n",
    "- Assume simple URLs, having the protocol either `http://` or `https://`\n",
    "- Then we have optional `www.` string\n",
    "- Then we have group of characters that make up our domain name, followed by top level domain"
   ]
  },
  {
   "cell_type": "code",
   "execution_count": null,
   "id": "db9ed774",
   "metadata": {},
   "outputs": [],
   "source": [
    "p = re.compile(r'https?://(www\\.)?(\\w+)(\\.\\w+)')\n",
    "\n",
    "#teststring contains data read from file\n",
    "matches = p.finditer(teststring)\n",
    "\n",
    "for match in matches:\n",
    "    print(match.group())   "
   ]
  },
  {
   "cell_type": "code",
   "execution_count": null,
   "id": "0cfae26b",
   "metadata": {},
   "outputs": [],
   "source": []
  },
  {
   "cell_type": "markdown",
   "id": "c95c3ef1",
   "metadata": {},
   "source": [
    "Let us extract the top level domain (TLDs) only."
   ]
  },
  {
   "cell_type": "code",
   "execution_count": null,
   "id": "ee4b2933",
   "metadata": {},
   "outputs": [],
   "source": [
    "p = re.compile(r'https?://(www\\.)?(\\w+)(\\.\\w+)')\n",
    "\n",
    "#teststring contains data read from file\n",
    "matches = p.finditer(teststring)\n",
    "\n",
    "for match in matches:\n",
    "    print(match.group(3))   "
   ]
  },
  {
   "cell_type": "code",
   "execution_count": null,
   "id": "bf17fd81",
   "metadata": {},
   "outputs": [],
   "source": []
  },
  {
   "cell_type": "markdown",
   "id": "a58adefb",
   "metadata": {},
   "source": [
    "## 4. Modifying Strings\n",
    "- Up to this point, we’ve simply performed searches against a static string. Regular expressions are also commonly used to modify strings in various ways, using the following pattern methods:\n",
    "\n",
    "        - split(): Split the string into a list, splitting it wherever the RE matches\n",
    "        - sub(): Find all substrings where the RE matches, and replace them with a different string\n",
    "        - subn(): Does the same thing as sub(), but returns the new string and the number of replacements"
   ]
  },
  {
   "cell_type": "markdown",
   "id": "41c31ada",
   "metadata": {},
   "source": [
    "### a. The `re.Pattern.split()` Method\n",
    "- It split the target string as per the regular expression pattern, and the matches are returned in the form of a list.\n",
    "**`p.split(string, maxsplit=0)`**\n",
    "\n",
    "- Where,\n",
    "    - `string`: The variable pointing to the target string (i.e., the string we want to split).\n",
    "    - `maxsplit`: The number of splits you wanted to perform. If maxsplit is 2, at most two splits occur, and the remainder of the string is returned as the final element of the list.\n",
    "    \n",
    "\n",
    "Note: \n",
    "It’s similar to the `split()` method of strings but provides much more generality in the delimiters that you can split by; string split() only supports splitting by whitespace or by a fixed string."
   ]
  },
  {
   "cell_type": "code",
   "execution_count": null,
   "id": "3ad5ffe3",
   "metadata": {},
   "outputs": [],
   "source": [
    "# defining string\n",
    "mystring = \"My name             is Ehtisham and my lucky number is 21 and 143\"\n",
    "mylist = mystring.split(sep=' ')\n",
    "mylist"
   ]
  },
  {
   "cell_type": "code",
   "execution_count": null,
   "id": "48b033ea",
   "metadata": {},
   "outputs": [],
   "source": [
    "# importing required libraries\n",
    "import re\n",
    "\n",
    "# defining string\n",
    "mystring = \"My name             is Ehtisham and my lucky number is 21 and 143\"\n",
    "p = re.compile(r\"\\s+\")\n",
    "\n",
    "word_list = p.split(mystring, maxsplit=0)\n",
    "\n",
    "print(word_list)"
   ]
  },
  {
   "cell_type": "code",
   "execution_count": null,
   "id": "a32a2923",
   "metadata": {},
   "outputs": [],
   "source": []
  },
  {
   "cell_type": "markdown",
   "id": "914f36db",
   "metadata": {},
   "source": [
    "The `maxsplit` parameter of `split()` is used to define how many splits you want to perform. In simple words, if the maxsplit is 2, then two splits will be done, and the remainder of the string is returned as the final element of the list."
   ]
  },
  {
   "cell_type": "code",
   "execution_count": null,
   "id": "d371245a",
   "metadata": {},
   "outputs": [],
   "source": [
    "import re\n",
    "\n",
    "# defining string\n",
    "mystring = \"My name             is Ehtisham and my lucky number is 21 and 143\"\n",
    "\n",
    "p = re.compile(r\"\\s+\")\n",
    "\n",
    "word_list = p.split(mystring, maxsplit=3)\n",
    "\n",
    "print(word_list)"
   ]
  },
  {
   "cell_type": "markdown",
   "id": "f6c871a5",
   "metadata": {},
   "source": [
    "- The `split()` method of strings allows you to split by whitespace or by a fixed string.\n",
    "- The regex `split()` method allows you to specify a regex pattern for the delimiters where you can specify multiple delimiters.\n",
    "- For example, using the regular expression re.split() method, we can split the string either by the `comma` or by `space`."
   ]
  },
  {
   "cell_type": "markdown",
   "id": "4a2719d4",
   "metadata": {},
   "source": [
    "- Let us split by the `comma` or by `hyphen`."
   ]
  },
  {
   "cell_type": "code",
   "execution_count": null,
   "id": "16836216",
   "metadata": {},
   "outputs": [],
   "source": [
    "import re\n",
    "\n",
    "# defining string\n",
    "mystring = \"12,45,78,85-17-89\"\n",
    "\n",
    "p = re.compile(r\"-|,\")\n",
    "p = re.compile(r\"[-,]\")\n",
    "\n",
    "word_list = p.split(mystring)\n",
    "\n",
    "print(word_list)\n"
   ]
  },
  {
   "cell_type": "code",
   "execution_count": null,
   "id": "9fa5ff04",
   "metadata": {},
   "outputs": [],
   "source": []
  },
  {
   "cell_type": "code",
   "execution_count": null,
   "id": "9519a1a6",
   "metadata": {},
   "outputs": [],
   "source": [
    "import re\n",
    "\n",
    "# defining string\n",
    "mystring = \"12and45, 78and85-17and89-97,54\"\n",
    "\n",
    "p = re.compile(r\"and|[\\s,-]+\")\n",
    "\n",
    "word_list = p.split(mystring)\n",
    "\n",
    "print(word_list)\n"
   ]
  },
  {
   "cell_type": "code",
   "execution_count": null,
   "id": "0435dc2a",
   "metadata": {},
   "outputs": [],
   "source": []
  },
  {
   "cell_type": "markdown",
   "id": "f1463696",
   "metadata": {},
   "source": [
    "### b. The `re.Pattern.sub()` and `re.Pattern.subn()` Methods\n",
    "- - Python regex offers `sub()` the `subn()` methods to `search` and `replace` patterns in a string. Using these methods we can replace one or more occurrences of a regex pattern in the target string with a substitute string.\n",
    "\n",
    "- The `sub()` method return the string obtained by replacing the leftmost non-overlapping occurrences of pattern in `string` by the replacement `repl`.\n",
    "\n",
    "**`p.sub(repl, string, count=0)`**\n",
    "\n",
    "- Where,\n",
    "    - `repl`: The replacement that we are going to insert for each occurrence of a pattern. The replacement can be a string or function.\n",
    "    - `string`: The variable pointing to the target string (In which we want to perform the replacement).\n",
    "    - `count`: The default value of count is zero, means, find and replace all occurrences of pattern with replacement. For count=n, means replace first n occurrencesof pattern with the replacement\n",
    "    \n",
    "    \n",
    "\n",
    "- It returns the string obtained by replacing the pattern occurrences in the string with the replacement string. If the pattern isn’t found, the string is returned unchanged."
   ]
  },
  {
   "cell_type": "markdown",
   "id": "eb6fea21",
   "metadata": {},
   "source": [
    "Replace white space with underscore character"
   ]
  },
  {
   "cell_type": "code",
   "execution_count": null,
   "id": "b757f36e",
   "metadata": {},
   "outputs": [],
   "source": [
    "import re\n",
    "\n",
    "# defining string\n",
    "mystring = \"Learning is fun with Ehtisham Sadiq\"\n",
    "\n",
    "p = re.compile(r\"\\s\")\n",
    "\n",
    "word_list = p.sub(\"_\", mystring)\n",
    "\n",
    "print(word_list)"
   ]
  },
  {
   "cell_type": "code",
   "execution_count": null,
   "id": "211ed06a",
   "metadata": {},
   "outputs": [],
   "source": []
  },
  {
   "cell_type": "markdown",
   "id": "bbaaa1b7",
   "metadata": {},
   "source": [
    "Remove whitespaces from a string"
   ]
  },
  {
   "cell_type": "code",
   "execution_count": null,
   "id": "60288c16",
   "metadata": {},
   "outputs": [],
   "source": [
    "import re\n",
    "\n",
    "# defining string\n",
    "mystring = \"Learning is fun with Ehtisham Sadiq\"\n",
    "\n",
    "p = re.compile(r\"\\s+\")\n",
    "\n",
    "word_list = p.sub(\"\", mystring)\n",
    "\n",
    "print(word_list)"
   ]
  },
  {
   "cell_type": "code",
   "execution_count": null,
   "id": "9e4a368b",
   "metadata": {},
   "outputs": [],
   "source": []
  },
  {
   "cell_type": "markdown",
   "id": "0c220e65",
   "metadata": {},
   "source": [
    "Remove leading Spaces from a string"
   ]
  },
  {
   "cell_type": "code",
   "execution_count": null,
   "id": "f5c26a56",
   "metadata": {},
   "outputs": [],
   "source": [
    "import re\n",
    "\n",
    "# defining string\n",
    "mystring = \"         Learning is fun with Ehtisham Sadiq\"\n",
    "\n",
    "\n",
    "# ^\\s+ remove only leading spaces\n",
    "# caret (^) matches only at the start of the string\n",
    "p = re.compile(r\"^\\s+\")\n",
    "\n",
    "word_list = p.sub(\"\", mystring)\n",
    "\n",
    "print(word_list)"
   ]
  },
  {
   "cell_type": "code",
   "execution_count": null,
   "id": "76da9f55",
   "metadata": {},
   "outputs": [],
   "source": []
  },
  {
   "cell_type": "markdown",
   "id": "55865bc9",
   "metadata": {},
   "source": [
    "Remove both leading and trailing spaces"
   ]
  },
  {
   "cell_type": "code",
   "execution_count": null,
   "id": "2fb34ee4",
   "metadata": {},
   "outputs": [],
   "source": [
    "import re\n",
    "\n",
    "# defining string\n",
    "mystring = \"          Learning is fun with Ehtisham Sadiq        \\t. \"\n",
    "\n",
    "# ^\\s+ remove leading spaces\n",
    "# ^\\s+$ removes trailing spaces\n",
    "p = re.compile(r\"^\\s+|\\s+$\")\n",
    "\n",
    "word_list = p.sub(\"\", mystring)\n",
    "\n",
    "print(word_list)"
   ]
  },
  {
   "cell_type": "code",
   "execution_count": null,
   "id": "e8529b7a",
   "metadata": {},
   "outputs": [],
   "source": []
  },
  {
   "cell_type": "code",
   "execution_count": null,
   "id": "6d3fc245",
   "metadata": {},
   "outputs": [],
   "source": []
  },
  {
   "cell_type": "markdown",
   "id": "5d4c1535",
   "metadata": {},
   "source": [
    "### Write a Python program to find all words starting with 'a' or 'e' in a given string."
   ]
  },
  {
   "cell_type": "code",
   "execution_count": null,
   "id": "472097d5",
   "metadata": {},
   "outputs": [],
   "source": [
    "import re\n",
    "# Input.\n",
    "text = \"\"\"The following example creates an ArrayList with a capacity of 50 elements. \n",
    "        Four elements are then added to the ArrayList and the ArrayList is trimmed accordingly.\n",
    "\"\"\"\n",
    "#find all the words starting with 'a' or 'e'\n",
    "p = re.compile(r\"[ae]\\w+\")\n",
    "list1 = p.finditer(text)\n",
    "# Print result.\n",
    "for i in list1:\n",
    "    print(i)"
   ]
  },
  {
   "cell_type": "code",
   "execution_count": null,
   "id": "e1f32f47",
   "metadata": {},
   "outputs": [],
   "source": []
  },
  {
   "cell_type": "markdown",
   "id": "4345f742",
   "metadata": {},
   "source": [
    "### Write a Python program to separate and print the numbers and their position of a given string."
   ]
  },
  {
   "cell_type": "code",
   "execution_count": null,
   "id": "62769684",
   "metadata": {},
   "outputs": [],
   "source": [
    "import re\n",
    "text = \"The following example creates an ArrayList with a capacity of 50 elements. Four elements are then added to the ArrayList and the ArrayList is trimmed accordingly.\"\n",
    "p = re.compile(r\"\\d+\")\n",
    "iterobject = p.finditer(text)\n",
    "for i in iterobject:\n",
    "    print(i)\n",
    "    print(i.start())"
   ]
  },
  {
   "cell_type": "code",
   "execution_count": null,
   "id": "883c0a36",
   "metadata": {},
   "outputs": [],
   "source": []
  },
  {
   "cell_type": "code",
   "execution_count": null,
   "id": "89c8bbef",
   "metadata": {},
   "outputs": [],
   "source": [
    "import re\n",
    "text = \"Boys hostel no 17, university of the punjab, new campus, Lahore\"\n",
    "p = re.compile(r\"Lahore$\")\n",
    "iterobj = p.sub(\"lhr\", text)\n",
    "iterobj"
   ]
  },
  {
   "cell_type": "code",
   "execution_count": null,
   "id": "bfbe8512",
   "metadata": {},
   "outputs": [],
   "source": []
  },
  {
   "cell_type": "code",
   "execution_count": null,
   "id": "97121586",
   "metadata": {},
   "outputs": [],
   "source": []
  },
  {
   "cell_type": "code",
   "execution_count": null,
   "id": "933f69b6",
   "metadata": {},
   "outputs": [],
   "source": []
  },
  {
   "cell_type": "code",
   "execution_count": 28,
   "id": "1ca56adf",
   "metadata": {},
   "outputs": [
    {
     "data": {
      "text/plain": [
       "{'E', 'a', 'h', 'i', 'm', 's', 't'}"
      ]
     },
     "execution_count": 28,
     "metadata": {},
     "output_type": "execute_result"
    }
   ],
   "source": [
    "string =\"Ehtish438743#.fdvam\"\n",
    "list1 = list(string)\n",
    "list1 = set(list1)\n",
    "list1"
   ]
  },
  {
   "cell_type": "code",
   "execution_count": 31,
   "id": "6b9ad009",
   "metadata": {},
   "outputs": [
    {
     "data": {
      "text/plain": [
       "'EHTISHAM'"
      ]
     },
     "execution_count": 31,
     "metadata": {},
     "output_type": "execute_result"
    }
   ],
   "source": [
    "res = \"\".join([ch for ch in string if ch.isalpha()])\n",
    "res.upper()"
   ]
  },
  {
   "cell_type": "code",
   "execution_count": 32,
   "id": "efb7c3c4",
   "metadata": {},
   "outputs": [
    {
     "data": {
      "text/plain": [
       "[[0, 0, 0, 0, 0],\n",
       " [0, 0, 0, 0, 0],\n",
       " [0, 0, 0, 0, 0],\n",
       " [0, 0, 0, 0, 0],\n",
       " [0, 0, 0, 0, 0]]"
      ]
     },
     "execution_count": 32,
     "metadata": {},
     "output_type": "execute_result"
    }
   ],
   "source": [
    "n = 5\n",
    "m = 5\n",
    "val = [0] * n\n",
    "for x in range (n):\n",
    "    val[x] = [0] * m\n",
    "val"
   ]
  },
  {
   "cell_type": "code",
   "execution_count": 33,
   "id": "78f3ed8e",
   "metadata": {},
   "outputs": [],
   "source": [
    "import numpy as np"
   ]
  },
  {
   "cell_type": "code",
   "execution_count": 38,
   "id": "a3de55c4",
   "metadata": {},
   "outputs": [
    {
     "data": {
      "text/plain": [
       "[array([0, 0, 0, 0, 0]),\n",
       " array([0, 0, 0, 0, 0]),\n",
       " array([0, 0, 0, 0, 0]),\n",
       " array([0, 0, 0, 0, 0]),\n",
       " array([0, 0, 0, 0, 0])]"
      ]
     },
     "execution_count": 38,
     "metadata": {},
     "output_type": "execute_result"
    }
   ],
   "source": [
    "a = list(np.zeros((5,5), dtype=int))\n",
    "a"
   ]
  },
  {
   "cell_type": "code",
   "execution_count": 64,
   "id": "b0783c30",
   "metadata": {},
   "outputs": [
    {
     "name": "stdout",
     "output_type": "stream",
     "text": [
      "Enter a keyword : Ehdjisfs343$@/.34.\n"
     ]
    },
    {
     "data": {
      "text/plain": [
       "['E',\n",
       " 'H',\n",
       " 'D',\n",
       " 'I',\n",
       " 'S',\n",
       " 'F',\n",
       " 'A',\n",
       " 'B',\n",
       " 'C',\n",
       " 'G',\n",
       " 'K',\n",
       " 'L',\n",
       " 'M',\n",
       " 'N',\n",
       " 'O',\n",
       " 'P',\n",
       " 'Q',\n",
       " 'R',\n",
       " 'T',\n",
       " 'U',\n",
       " 'V',\n",
       " 'W',\n",
       " 'X',\n",
       " 'Y',\n",
       " 'Z']"
      ]
     },
     "execution_count": 64,
     "metadata": {},
     "output_type": "execute_result"
    }
   ],
   "source": [
    "#Hi yagnesh,this is my change in ur code\n",
    "import numpy as np\n",
    "a=[]\n",
    "keyword=input(\"Enter a keyword : \") \n",
    "keyword = \"\".join([ch for ch in keyword if ch.isalpha()])\n",
    "keyword = keyword.upper()\n",
    "l1=list(keyword)\n",
    "\n",
    "# removing depulicates from the keyword\n",
    "def Remove(duplicate): \n",
    "    final_list = [] \n",
    "    for num in duplicate: \n",
    "        if num == 'J':\n",
    "            final_list.append('I')\n",
    "        elif num not in final_list: \n",
    "            final_list.append(num)\n",
    "\n",
    "    return final_list\n",
    "\n",
    "# keyword_list=Remove(l1)\n",
    "\n",
    "for s in range(65,91):\n",
    "    if s == 74 :\n",
    "        continue\n",
    "    a.append(chr(s))\n",
    "    \n",
    "l1.extend(a)\n",
    "keyword_list=Remove(l1)\n",
    "\n",
    "keyword_list"
   ]
  },
  {
   "cell_type": "code",
   "execution_count": null,
   "id": "df7e6ac1",
   "metadata": {},
   "outputs": [],
   "source": []
  },
  {
   "cell_type": "code",
   "execution_count": 62,
   "id": "7ca63ade",
   "metadata": {},
   "outputs": [
    {
     "data": {
      "text/plain": [
       "[[0, 0, 0, 0, 0],\n",
       " [0, 0, 0, 0, 0],\n",
       " [0, 0, 0, 0, 0],\n",
       " [0, 0, 0, 0, 0],\n",
       " [0, 0, 0, 0, 0]]"
      ]
     },
     "execution_count": 62,
     "metadata": {},
     "output_type": "execute_result"
    }
   ],
   "source": [
    "# keyword_list[0]\n",
    "val = [[0,0,0,0,0],\n",
    "      [0,0,0,0,0],\n",
    "      [0,0,0,0,0],\n",
    "      [0,0,0,0,0],\n",
    "      [0,0,0,0,0]]\n",
    "val"
   ]
  },
  {
   "cell_type": "code",
   "execution_count": 65,
   "id": "8631c22c",
   "metadata": {},
   "outputs": [
    {
     "data": {
      "text/plain": [
       "[['E', 'H', 'D', 'I', 'S'],\n",
       " ['F', 'A', 'B', 'C', 'G'],\n",
       " ['K', 'L', 'M', 'N', 'O'],\n",
       " ['P', 'Q', 'R', 'T', 'U'],\n",
       " ['V', 'W', 'X', 'Y', 'Z']]"
      ]
     },
     "execution_count": 65,
     "metadata": {},
     "output_type": "execute_result"
    }
   ],
   "source": [
    "k=0\n",
    "for x in range(5):\n",
    "    for j in range(5):\n",
    "        val[x][j]=keyword_list[k]\n",
    "        k+=1\n",
    "val"
   ]
  },
  {
   "cell_type": "code",
   "execution_count": 74,
   "id": "2cb4a7e2",
   "metadata": {},
   "outputs": [
    {
     "name": "stdout",
     "output_type": "stream",
     "text": [
      "Enter a message or plain text : \n",
      "i love balloon\n",
      "\n",
      "Plain Text: ILOVEBALLOON \n",
      "\n",
      "\n"
     ]
    },
    {
     "data": {
      "text/plain": [
       "['I', 'L', 'O', 'V', 'E', 'B', 'A', 'L', 'L', 'O', 'O', 'N']"
      ]
     },
     "execution_count": 74,
     "metadata": {},
     "output_type": "execute_result"
    }
   ],
   "source": [
    "plain_text = input(\"Enter a message or plain text : \\n\").upper()\n",
    "plain_text = \"\".join([ch for ch in plain_text if ch.isalpha()])\n",
    "\n",
    "print(\"\\nPlain Text:\",plain_text,\"\\n\\n\")\n",
    "def remove(string): \n",
    "    return \"\".join(string.split()) \n",
    " \n",
    "l1=list(remove(plain_text))\n",
    "l1"
   ]
  },
  {
   "cell_type": "code",
   "execution_count": 81,
   "id": "ebb2fcac",
   "metadata": {},
   "outputs": [],
   "source": [
    "def RemoveSame(duplicate): \n",
    "    final_list = [] \n",
    "    for i in range(0, len(duplicate) - 1):\n",
    "        final_list += duplicate[i]\n",
    "        if duplicate[i] == duplicate[i+1]:\n",
    "            final_list += 'X'\n",
    "    return final_list\n",
    "\n",
    "cleaned_diagrams=RemoveSame(l1)\n",
    "# print(l3)\n",
    "# z=(len(l3))\n",
    "# z\n",
    "length=(len(cleaned_diagrams))\n",
    "\n",
    "if (length%2 != 0 ):\n",
    "    cleaned_diagrams.append(\"X\")"
   ]
  },
  {
   "cell_type": "code",
   "execution_count": 82,
   "id": "cc7c8f61",
   "metadata": {},
   "outputs": [
    {
     "data": {
      "text/plain": [
       "[(0, 3),\n",
       " (2, 1),\n",
       " (2, 4),\n",
       " (4, 0),\n",
       " (0, 0),\n",
       " (1, 2),\n",
       " (1, 1),\n",
       " (2, 1),\n",
       " (4, 2),\n",
       " (2, 1),\n",
       " (2, 4),\n",
       " (4, 2),\n",
       " (2, 4),\n",
       " (4, 2)]"
      ]
     },
     "execution_count": 82,
     "metadata": {},
     "output_type": "execute_result"
    }
   ],
   "source": [
    "k=0\n",
    "def addre(word,k):\n",
    "    for x in range(5):\n",
    "        for j in range(5):\n",
    "            if (val[x][j]==word):\n",
    "                return((x,j))\n",
    "y=[]\n",
    "for word in cleaned_diagrams:\n",
    "    y.append(addre(word,k))\n",
    "y"
   ]
  },
  {
   "cell_type": "code",
   "execution_count": 86,
   "id": "efa4cfbe",
   "metadata": {},
   "outputs": [
    {
     "data": {
      "text/plain": [
       "[(0, 3),\n",
       " (2, 1),\n",
       " (2, 4),\n",
       " (4, 0),\n",
       " (0, 0),\n",
       " (1, 2),\n",
       " (1, 1),\n",
       " (2, 1),\n",
       " (4, 2),\n",
       " (2, 1),\n",
       " (2, 4),\n",
       " (4, 2),\n",
       " (2, 4),\n",
       " (4, 2)]"
      ]
     },
     "execution_count": 86,
     "metadata": {},
     "output_type": "execute_result"
    }
   ],
   "source": [
    "index=0\n",
    "def addressofcharacter(word,index):\n",
    "    for x in range(5):\n",
    "        for j in range(5):\n",
    "            if (val[x][j]==word):\n",
    "                return((x,j))\n",
    "location=[]\n",
    "for word in cleaned_diagrams:\n",
    "    location.append(addressofcharacter(word,k))\n",
    "location"
   ]
  },
  {
   "cell_type": "code",
   "execution_count": 87,
   "id": "ea00dbe0",
   "metadata": {},
   "outputs": [
    {
     "data": {
      "text/plain": [
       "array([[0, 3],\n",
       "       [2, 1],\n",
       "       [2, 4],\n",
       "       [4, 0],\n",
       "       [0, 0],\n",
       "       [1, 2],\n",
       "       [1, 1],\n",
       "       [2, 1],\n",
       "       [4, 2],\n",
       "       [2, 1],\n",
       "       [2, 4],\n",
       "       [4, 2],\n",
       "       [2, 4],\n",
       "       [4, 2]])"
      ]
     },
     "execution_count": 87,
     "metadata": {},
     "output_type": "execute_result"
    }
   ],
   "source": [
    "np.asarray(y)\n"
   ]
  },
  {
   "cell_type": "code",
   "execution_count": 85,
   "id": "7de904f5",
   "metadata": {},
   "outputs": [
    {
     "data": {
      "text/plain": [
       "[0,\n",
       " 3,\n",
       " 2,\n",
       " 1,\n",
       " 2,\n",
       " 4,\n",
       " 4,\n",
       " 0,\n",
       " 0,\n",
       " 0,\n",
       " 1,\n",
       " 2,\n",
       " 1,\n",
       " 1,\n",
       " 2,\n",
       " 1,\n",
       " 4,\n",
       " 2,\n",
       " 2,\n",
       " 1,\n",
       " 2,\n",
       " 4,\n",
       " 4,\n",
       " 2,\n",
       " 2,\n",
       " 4,\n",
       " 4,\n",
       " 2]"
      ]
     },
     "execution_count": 85,
     "metadata": {},
     "output_type": "execute_result"
    }
   ],
   "source": [
    "z1=[]\n",
    "z2=[]\n",
    "\n",
    "for i in y:\n",
    "    for j in i:\n",
    "        z1.append(int(j))\n",
    "z1"
   ]
  },
  {
   "cell_type": "code",
   "execution_count": 88,
   "id": "e2427b04",
   "metadata": {},
   "outputs": [],
   "source": [
    "def encrypted(y1,y2,y3,y4):\n",
    "    if y2==y4:\n",
    "        if y1>=4:\n",
    "            y1=0\n",
    "        elif(y3>=4):\n",
    "            y3=0\n",
    "        else:\n",
    "            y1=y1+1\n",
    "            y3=y3+1\n",
    "    else:\n",
    "        if y1==y3:\n",
    "            if y2>=4:\n",
    "                y2=0\n",
    "            elif(y4>=4):\n",
    "                y4=0\n",
    "            else:\n",
    "                y2=y2+1\n",
    "                y4=y4+1\n",
    "    \n",
    "        else:\n",
    "            temp=y2\n",
    "            y2=y4\n",
    "            y4=temp\n",
    "    return(y1,y2,y3,y4)"
   ]
  },
  {
   "cell_type": "code",
   "execution_count": 89,
   "id": "0bb416bc",
   "metadata": {},
   "outputs": [
    {
     "data": {
      "text/plain": [
       "[(0, 1, 2, 3),\n",
       " (2, 0, 4, 4),\n",
       " (0, 2, 1, 0),\n",
       " (2, 1, 3, 1),\n",
       " (4, 1, 2, 2),\n",
       " (2, 2, 4, 4),\n",
       " (2, 2, 4, 4)]"
      ]
     },
     "execution_count": 89,
     "metadata": {},
     "output_type": "execute_result"
    }
   ],
   "source": [
    "op=0 \n",
    "z3=[] \n",
    "for i in z1:\n",
    "    z2.append(i)\n",
    "    op+=1\n",
    "    if op%4==0:\n",
    "        z3.append(encrypted(z2[op-4],z2[op-3],z2[op-2],z2[op-1]))\n",
    "z3"
   ]
  },
  {
   "cell_type": "code",
   "execution_count": 90,
   "id": "b891932f",
   "metadata": {},
   "outputs": [
    {
     "data": {
      "text/plain": [
       "[0,\n",
       " 1,\n",
       " 2,\n",
       " 3,\n",
       " 2,\n",
       " 0,\n",
       " 4,\n",
       " 4,\n",
       " 0,\n",
       " 2,\n",
       " 1,\n",
       " 0,\n",
       " 2,\n",
       " 1,\n",
       " 3,\n",
       " 1,\n",
       " 4,\n",
       " 1,\n",
       " 2,\n",
       " 2,\n",
       " 2,\n",
       " 2,\n",
       " 4,\n",
       " 4,\n",
       " 2,\n",
       " 2,\n",
       " 4,\n",
       " 4]"
      ]
     },
     "execution_count": 90,
     "metadata": {},
     "output_type": "execute_result"
    }
   ],
   "source": [
    "z4=[]\n",
    "for i in z3:\n",
    "    for j in i:\n",
    "        z4.append(j) \n",
    "z4"
   ]
  },
  {
   "cell_type": "code",
   "execution_count": 95,
   "id": "77ef08df",
   "metadata": {},
   "outputs": [
    {
     "data": {
      "text/plain": [
       "[]"
      ]
     },
     "execution_count": 95,
     "metadata": {},
     "output_type": "execute_result"
    }
   ],
   "source": []
  },
  {
   "cell_type": "code",
   "execution_count": 96,
   "id": "7bd7bb38",
   "metadata": {},
   "outputs": [
    {
     "data": {
      "text/plain": [
       "['H', 'N', 'K', 'Z', 'D', 'F', 'L', 'Q', 'W', 'M', 'M', 'Z', 'M', 'Z']"
      ]
     },
     "execution_count": 96,
     "metadata": {},
     "output_type": "execute_result"
    }
   ],
   "source": [
    "cipher_text =[]\n",
    "def alls(x,y):\n",
    "    cipher_text.append(val[x][y]) \n",
    "cipher_text\n",
    "rip=0\n",
    "for i in range(len(z4)):\n",
    "    if rip%2==0:\n",
    "        alls(z4[rip],z4[rip+1])\n",
    "    rip=rip+1  \n",
    "cipher_text"
   ]
  },
  {
   "cell_type": "code",
   "execution_count": null,
   "id": "daa868ad",
   "metadata": {},
   "outputs": [],
   "source": []
  }
 ],
 "metadata": {
  "kernelspec": {
   "display_name": "Python 3 (ipykernel)",
   "language": "python",
   "name": "python3"
  },
  "language_info": {
   "codemirror_mode": {
    "name": "ipython",
    "version": 3
   },
   "file_extension": ".py",
   "mimetype": "text/x-python",
   "name": "python",
   "nbconvert_exporter": "python",
   "pygments_lexer": "ipython3",
   "version": "3.8.10"
  }
 },
 "nbformat": 4,
 "nbformat_minor": 5
}
